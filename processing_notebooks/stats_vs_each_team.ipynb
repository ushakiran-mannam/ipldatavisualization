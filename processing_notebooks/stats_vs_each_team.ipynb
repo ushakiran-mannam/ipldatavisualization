{
 "cells": [
  {
   "cell_type": "code",
   "execution_count": 1,
   "metadata": {},
   "outputs": [
    {
     "name": "stderr",
     "output_type": "stream",
     "text": [
      "C:\\Users\\manna\\AppData\\Local\\Temp\\ipykernel_28024\\1893216622.py:2: DtypeWarning: Columns (20,30) have mixed types. Specify dtype option on import or set low_memory=False.\n",
      "  df = pd.read_csv('data/2018_and_2019_ipl_ball_by_ball.csv')\n"
     ]
    }
   ],
   "source": [
    "import pandas as pd\n",
    "df = pd.read_csv('data/2018_and_2019_ipl_ball_by_ball.csv')\n",
    "\n",
    "# Derive the opponent team for each match\n",
    "df['opponent'] = df.apply(lambda x: x['Team1'] if x['BattingTeam'] == x['Team2'] else x['Team2'], axis=1)\n",
    "\n",
    "# Group the data by matchid, batter, and opponent\n",
    "grouped_data = df.groupby(['batter', 'opponent'])\n",
    "\n",
    "# Create an empty dictionary to store batsman runs against each opponent\n",
    "batsman_runs = {}\n",
    "\n",
    "# Iterate over each group\n",
    "for name, group in grouped_data:\n",
    "    # Calculate total runs scored by the batsman against the opponent in the match\n",
    "    runs = group['batsman_run'].sum()\n",
    "    \n",
    "    # Add the batsman and their total runs against the opponent to the dictionary\n",
    "    batsman = name[0]\n",
    "    opponent = name[1]\n",
    "    if batsman not in batsman_runs:\n",
    "        batsman_runs[batsman] = {}\n",
    "    batsman_runs[batsman][opponent] = runs\n"
   ]
  },
  {
   "cell_type": "code",
   "execution_count": 2,
   "metadata": {},
   "outputs": [
    {
     "name": "stdout",
     "output_type": "stream",
     "text": [
      "{'A Dananjaya': {'Delhi Capitals': 4}, 'A Mishra': {'Chennai Super Kings': 14, 'Kings XI Punjab': 1, 'Mumbai Indians': 6, 'Sunrisers Hyderabad': 1}, 'AB de Villiers': {'Chennai Super Kings': 103, 'Delhi Capitals': 196, 'Kings XI Punjab': 198, 'Kolkata Knight Riders': 107, 'Mumbai Indians': 146, 'Rajasthan Royals': 96, 'Sunrisers Hyderabad': 76}, 'AD Hales': {'Chennai Super Kings': 2, 'Delhi Capitals': 59, 'Rajasthan Royals': 45, 'Royal Challengers Bangalore': 42}, 'AD Nath': {'Chennai Super Kings': 24, 'Delhi Capitals': 19, 'Kings XI Punjab': 3, 'Kolkata Knight Riders': 13, 'Mumbai Indians': 2, 'Rajasthan Royals': 9}, 'AD Russell': {'Chennai Super Kings': 148, 'Delhi Capitals': 196, 'Kings XI Punjab': 113, 'Mumbai Indians': 91, 'Rajasthan Royals': 74, 'Royal Challengers Bangalore': 128, 'Sunrisers Hyderabad': 80}, 'AJ Finch': {'Chennai Super Kings': 4, 'Delhi Capitals': 2, 'Kolkata Knight Riders': 34, 'Mumbai Indians': 46, 'Royal Challengers Bangalore': 26, 'Sunrisers Hyderabad': 22}, 'AJ Turner': {'Delhi Capitals': 0, 'Kings XI Punjab': 0, 'Mumbai Indians': 0, 'Sunrisers Hyderabad': 3}, 'AJ Tye': {'Chennai Super Kings': 3, 'Delhi Capitals': 3, 'Kolkata Knight Riders': 14, 'Rajasthan Royals': 1, 'Royal Challengers Bangalore': 7, 'Sunrisers Hyderabad': 4}, 'AM Rahane': {'Chennai Super Kings': 34, 'Delhi Capitals': 152, 'Kings XI Punjab': 67, 'Kolkata Knight Riders': 132, 'Mumbai Indians': 100, 'Royal Challengers Bangalore': 91, 'Sunrisers Hyderabad': 187}, 'AR Patel': {'Chennai Super Kings': 35, 'Kings XI Punjab': 1, 'Kolkata Knight Riders': 19, 'Mumbai Indians': 53, 'Rajasthan Royals': 14, 'Royal Challengers Bangalore': 31, 'Sunrisers Hyderabad': 37}, 'AS Joseph': {'Kings XI Punjab': 15}, 'AS Rajpoot': {'Chennai Super Kings': 2, 'Royal Challengers Bangalore': 1, 'Sunrisers Hyderabad': 8}, 'AT Rayudu': {'Delhi Capitals': 121, 'Kings XI Punjab': 72, 'Kolkata Knight Riders': 86, 'Mumbai Indians': 111, 'Rajasthan Royals': 82, 'Royal Challengers Bangalore': 171, 'Sunrisers Hyderabad': 241}, 'Abhishek Sharma': {'Chennai Super Kings': 2, 'Delhi Capitals': 2, 'Kings XI Punjab': 5, 'Mumbai Indians': 17, 'Royal Challengers Bangalore': 46}, 'Anureet Singh': {'Kolkata Knight Riders': 3}, 'Avesh Khan': {'Kings XI Punjab': 4}, 'B Kumar': {'Chennai Super Kings': 7, 'Delhi Capitals': 2, 'Kolkata Knight Riders': 5, 'Mumbai Indians': 2, 'Rajasthan Royals': 1, 'Royal Challengers Bangalore': 8}, 'B Laughlin': {'Chennai Super Kings': 0, 'Sunrisers Hyderabad': 1}, 'B Stanlake': {'Mumbai Indians': 5}, 'BA Stokes': {'Chennai Super Kings': 130, 'Delhi Capitals': 25, 'Kings XI Punjab': 32, 'Kolkata Knight Riders': 43, 'Mumbai Indians': 40, 'Royal Challengers Bangalore': 28, 'Sunrisers Hyderabad': 21}, 'BB McCullum': {'Chennai Super Kings': 5, 'Kings XI Punjab': 0, 'Kolkata Knight Riders': 81, 'Mumbai Indians': 37, 'Rajasthan Royals': 4}, 'BB Sran': {'Delhi Capitals': 0, 'Kolkata Knight Riders': 4, 'Sunrisers Hyderabad': 2}, 'BCJ Cutting': {'Delhi Capitals': 42, 'Kings XI Punjab': 4, 'Kolkata Knight Riders': 24, 'Rajasthan Royals': 23, 'Royal Challengers Bangalore': 12, 'Sunrisers Hyderabad': 9}, 'Basil Thampi': {'Delhi Capitals': 1, 'Mumbai Indians': 3}, 'C Munro': {'Chennai Super Kings': 53, 'Kings XI Punjab': 4, 'Kolkata Knight Riders': 33, 'Mumbai Indians': 3, 'Rajasthan Royals': 0, 'Sunrisers Hyderabad': 54}, 'C de Grandhomme': {'Chennai Super Kings': 23, 'Delhi Capitals': 3, 'Kolkata Knight Riders': 11, 'Mumbai Indians': 25, 'Rajasthan Royals': 2, 'Sunrisers Hyderabad': 113}, 'CA Ingram': {'Chennai Super Kings': 3, 'Kings XI Punjab': 57, 'Kolkata Knight Riders': 24, 'Mumbai Indians': 47, 'Rajasthan Royals': 15, 'Royal Challengers Bangalore': 33, 'Sunrisers Hyderabad': 5}, 'CA Lynn': {'Chennai Super Kings': 116, 'Delhi Capitals': 56, 'Kings XI Punjab': 157, 'Mumbai Indians': 133, 'Rajasthan Royals': 113, 'Royal Challengers Bangalore': 111, 'Sunrisers Hyderabad': 210}, 'CH Gayle': {'Chennai Super Kings': 96, 'Delhi Capitals': 69, 'Kolkata Knight Riders': 117, 'Mumbai Indians': 171, 'Rajasthan Royals': 118, 'Royal Challengers Bangalore': 140, 'Sunrisers Hyderabad': 147}, 'CH Morris': {'Chennai Super Kings': 0, 'Kings XI Punjab': 27, 'Kolkata Knight Riders': 2, 'Mumbai Indians': 11, 'Rajasthan Royals': 17, 'Royal Challengers Bangalore': 0, 'Sunrisers Hyderabad': 21}, 'CJ Anderson': {'Chennai Super Kings': 2, 'Delhi Capitals': 15, 'Mumbai Indians': 0}, 'CR Brathwaite': {'Chennai Super Kings': 64, 'Delhi Capitals': 6, 'Kolkata Knight Riders': 11, 'Rajasthan Royals': 5}, 'CR Woakes': {'Kings XI Punjab': 1, 'Kolkata Knight Riders': 5, 'Mumbai Indians': 11, 'Rajasthan Royals': 0}, 'DA Miller': {'Chennai Super Kings': 30, 'Delhi Capitals': 100, 'Kolkata Knight Riders': 59, 'Mumbai Indians': 22, 'Rajasthan Royals': 40, 'Royal Challengers Bangalore': 24, 'Sunrisers Hyderabad': 12}, 'DA Warner': {'Chennai Super Kings': 107, 'Delhi Capitals': 61, 'Kings XI Punjab': 151, 'Kolkata Knight Riders': 152, 'Mumbai Indians': 15, 'Rajasthan Royals': 106, 'Royal Challengers Bangalore': 100}, 'DJ Bravo': {'Delhi Capitals': 5, 'Kings XI Punjab': 2, 'Kolkata Knight Riders': 11, 'Mumbai Indians': 111, 'Rajasthan Royals': 52, 'Royal Challengers Bangalore': 33, 'Sunrisers Hyderabad': 7}, 'DJ Hooda': {'Chennai Super Kings': 38, 'Delhi Capitals': 17, 'Kings XI Punjab': 19, 'Kolkata Knight Riders': 24, 'Mumbai Indians': 52, 'Rajasthan Royals': 0, 'Royal Challengers Bangalore': 1}, 'DJM Short': {'Delhi Capitals': 50, 'Kings XI Punjab': 2, 'Kolkata Knight Riders': 44, 'Mumbai Indians': 4, 'Royal Challengers Bangalore': 11, 'Sunrisers Hyderabad': 4}, 'DL Chahar': {'Delhi Capitals': 1, 'Kings XI Punjab': 39, 'Mumbai Indians': 7, 'Sunrisers Hyderabad': 10}, 'DR Shorey': {'Mumbai Indians': 5, 'Royal Challengers Bangalore': 8}, 'DS Kulkarni': {'Kings XI Punjab': 5, 'Kolkata Knight Riders': 3, 'Sunrisers Hyderabad': 3}, 'DT Christian': {'Kings XI Punjab': 19, 'Sunrisers Hyderabad': 7}, 'E Lewis': {'Chennai Super Kings': 79, 'Delhi Capitals': 96, 'Kings XI Punjab': 19, 'Kolkata Knight Riders': 76, 'Rajasthan Royals': 60, 'Royal Challengers Bangalore': 65, 'Sunrisers Hyderabad': 35}, 'F du Plessis': {'Delhi Capitals': 122, 'Kings XI Punjab': 164, 'Kolkata Knight Riders': 94, 'Mumbai Indians': 32, 'Rajasthan Royals': 7, 'Royal Challengers Bangalore': 5, 'Sunrisers Hyderabad': 134}, 'G Gambhir': {'Kings XI Punjab': 59, 'Kolkata Knight Riders': 8, 'Mumbai Indians': 15, 'Royal Challengers Bangalore': 3}, 'GC Viljoen': {'Delhi Capitals': 3, 'Royal Challengers Bangalore': 0}, 'GH Vihari': {'Kings XI Punjab': 2, 'Kolkata Knight Riders': 2}, 'GJ Maxwell': {'Chennai Super Kings': 11, 'Kings XI Punjab': 12, 'Kolkata Knight Riders': 74, 'Mumbai Indians': 35, 'Rajasthan Royals': 22, 'Royal Challengers Bangalore': 4, 'Sunrisers Hyderabad': 11}, 'Gurkeerat Singh': {'Delhi Capitals': 27, 'Rajasthan Royals': 6, 'Sunrisers Hyderabad': 65}, 'H Klaasen': {'Chennai Super Kings': 7, 'Delhi Capitals': 3, 'Kolkata Knight Riders': 18, 'Mumbai Indians': 0, 'Rajasthan Royals': 6, 'Royal Challengers Bangalore': 32}, 'HF Gurney': {'Chennai Super Kings': 1}, 'HH Pandya': {'Chennai Super Kings': 112, 'Delhi Capitals': 61, 'Kings XI Punjab': 82, 'Kolkata Knight Riders': 145, 'Rajasthan Royals': 91, 'Royal Challengers Bangalore': 136, 'Sunrisers Hyderabad': 42}, 'HV Patel': {'Chennai Super Kings': 36, 'Kings XI Punjab': 0, 'Sunrisers Hyderabad': 24}, 'Harbhajan Singh': {'Kings XI Punjab': 19, 'Mumbai Indians': 9, 'Sunrisers Hyderabad': 2}, 'Harpreet Brar': {'Delhi Capitals': 20}, 'I Sharma': {'Chennai Super Kings': 10}, 'IS Sodhi': {'Delhi Capitals': 6, 'Kolkata Knight Riders': 1}, 'Imran Tahir': {'Mumbai Indians': 2}, 'Ishan Kishan': {'Chennai Super Kings': 91, 'Delhi Capitals': 49, 'Kings XI Punjab': 52, 'Kolkata Knight Riders': 62, 'Rajasthan Royals': 75, 'Royal Challengers Bangalore': 21, 'Sunrisers Hyderabad': 26}, 'J Suchith': {'Chennai Super Kings': 6}, 'JC Archer': {'Chennai Super Kings': 37, 'Kings XI Punjab': 3, 'Kolkata Knight Riders': 33, 'Mumbai Indians': 8, 'Royal Challengers Bangalore': 0, 'Sunrisers Hyderabad': 1}, 'JC Buttler': {'Chennai Super Kings': 146, 'Delhi Capitals': 96, 'Kings XI Punjab': 225, 'Kolkata Knight Riders': 100, 'Mumbai Indians': 189, 'Royal Challengers Bangalore': 82, 'Sunrisers Hyderabad': 21}, 'JD Unadkat': {'Chennai Super Kings': 16, 'Kings XI Punjab': 7, 'Kolkata Knight Riders': 26, 'Sunrisers Hyderabad': 1}, 'JJ Bumrah': {'Delhi Capitals': 0, 'Royal Challengers Bangalore': 0, 'Sunrisers Hyderabad': 10}, 'JJ Roy': {'Kolkata Knight Riders': 1, 'Mumbai Indians': 91, 'Royal Challengers Bangalore': 17, 'Sunrisers Hyderabad': 11}, 'JL Denly': {'Delhi Capitals': 0}, 'JM Bairstow': {'Chennai Super Kings': 61, 'Delhi Capitals': 89, 'Kings XI Punjab': 1, 'Kolkata Knight Riders': 119, 'Mumbai Indians': 16, 'Rajasthan Royals': 45, 'Royal Challengers Bangalore': 114}, 'JP Duminy': {'Kolkata Knight Riders': 13, 'Royal Challengers Bangalore': 23}, 'JPR Scantlebury-Searles': {'Kings XI Punjab': 6, 'Rajasthan Royals': 2}, 'K Gowtham': {'Chennai Super Kings': 23, 'Delhi Capitals': 26, 'Kings XI Punjab': 16, 'Kolkata Knight Riders': 24, 'Mumbai Indians': 33, 'Royal Challengers Bangalore': 14, 'Sunrisers Hyderabad': 8}, 'K Rabada': {'Kings XI Punjab': 0, 'Mumbai Indians': 9, 'Sunrisers Hyderabad': 5}, 'KA Pollard': {'Chennai Super Kings': 71, 'Delhi Capitals': 28, 'Kings XI Punjab': 140, 'Kolkata Knight Riders': 20, 'Rajasthan Royals': 37, 'Royal Challengers Bangalore': 23, 'Sunrisers Hyderabad': 95}, 'KC Cariappa': {'Sunrisers Hyderabad': 9}, 'KD Karthik': {'Chennai Super Kings': 108, 'Delhi Capitals': 90, 'Kings XI Punjab': 115, 'Mumbai Indians': 59, 'Rajasthan Royals': 232, 'Royal Challengers Bangalore': 77, 'Sunrisers Hyderabad': 71}, 'KH Pandya': {'Chennai Super Kings': 91, 'Delhi Capitals': 84, 'Kings XI Punjab': 74, 'Kolkata Knight Riders': 46, 'Rajasthan Royals': 12, 'Royal Challengers Bangalore': 50, 'Sunrisers Hyderabad': 54}, 'KK Ahmed': {'Delhi Capitals': 0}, 'KK Nair': {'Chennai Super Kings': 83, 'Delhi Capitals': 84, 'Kolkata Knight Riders': 3, 'Mumbai Indians': 28, 'Rajasthan Royals': 34, 'Royal Challengers Bangalore': 30, 'Sunrisers Hyderabad': 44}, 'KL Rahul': {'Chennai Super Kings': 170, 'Delhi Capitals': 101, 'Kolkata Knight Riders': 129, 'Mumbai Indians': 289, 'Rajasthan Royals': 235, 'Royal Challengers Bangalore': 128, 'Sunrisers Hyderabad': 200}, 'KM Jadhav': {'Delhi Capitals': 27, 'Kings XI Punjab': 0, 'Kolkata Knight Riders': 28, 'Mumbai Indians': 88, 'Rajasthan Royals': 9, 'Royal Challengers Bangalore': 22, 'Sunrisers Hyderabad': 12}, 'KMA Paul': {'Chennai Super Kings': 3, 'Mumbai Indians': 3, 'Sunrisers Hyderabad': 12}, 'KS Williamson': {'Chennai Super Kings': 209, 'Delhi Capitals': 146, 'Kings XI Punjab': 68, 'Kolkata Knight Riders': 97, 'Mumbai Indians': 38, 'Rajasthan Royals': 126, 'Royal Challengers Bangalore': 207}, 'Kuldeep Yadav': {'Chennai Super Kings': 0, 'Delhi Capitals': 19, 'Mumbai Indians': 5, 'Sunrisers Hyderabad': 0}, 'LE Plunkett': {'Kings XI Punjab': 0, 'Rajasthan Royals': 1}, 'LS Livingstone': {'Delhi Capitals': 14, 'Mumbai Indians': 1, 'Royal Challengers Bangalore': 11, 'Sunrisers Hyderabad': 44}, 'M Ashwin': {'Chennai Super Kings': 1, 'Delhi Capitals': 1, 'Royal Challengers Bangalore': 1, 'Sunrisers Hyderabad': 1}, 'M Markande': {'Delhi Capitals': 7, 'Kings XI Punjab': 7, 'Rajasthan Royals': 0, 'Royal Challengers Bangalore': 6, 'Sunrisers Hyderabad': 7}, 'M Prasidh Krishna': {'Chennai Super Kings': 0, 'Mumbai Indians': 1}, 'M Vijay': {'Kings XI Punjab': 12, 'Mumbai Indians': 64}, 'M Vohra': {'Delhi Capitals': 2, 'Kolkata Knight Riders': 0, 'Mumbai Indians': 45, 'Sunrisers Hyderabad': 8}, 'MA Agarwal': {'Chennai Super Kings': 37, 'Delhi Capitals': 36, 'Kolkata Knight Riders': 96, 'Mumbai Indians': 54, 'Rajasthan Royals': 50, 'Royal Challengers Bangalore': 67, 'Sunrisers Hyderabad': 112}, 'MA Wood': {'Mumbai Indians': 1}, 'MG Johnson': {'Delhi Capitals': 12, 'Sunrisers Hyderabad': 4}, 'MJ Guptill': {'Delhi Capitals': 36, 'Mumbai Indians': 16, 'Royal Challengers Bangalore': 30}, 'MJ McClenaghan': {'Chennai Super Kings': 0, 'Delhi Capitals': 10, 'Kings XI Punjab': 11, 'Rajasthan Royals': 0, 'Royal Challengers Bangalore': 1, 'Sunrisers Hyderabad': 0}, 'MJ Santner': {'Mumbai Indians': 22, 'Rajasthan Royals': 10}, 'MK Lomror': {'Delhi Capitals': 8, 'Kings XI Punjab': 9, 'Sunrisers Hyderabad': 11}, 'MK Pandey': {'Chennai Super Kings': 96, 'Delhi Capitals': 61, 'Kings XI Punjab': 166, 'Kolkata Knight Riders': 37, 'Mumbai Indians': 115, 'Rajasthan Royals': 78, 'Royal Challengers Bangalore': 76}, 'MK Tiwary': {'Chennai Super Kings': 35, 'Mumbai Indians': 4, 'Rajasthan Royals': 7, 'Sunrisers Hyderabad': 1}, 'MM Ali': {'Chennai Super Kings': 35, 'Delhi Capitals': 33, 'Kings XI Punjab': 4, 'Kolkata Knight Riders': 66, 'Mumbai Indians': 63, 'Rajasthan Royals': 19, 'Sunrisers Hyderabad': 77}, 'MM Sharma': {'Chennai Super Kings': 2, 'Kolkata Knight Riders': 4, 'Mumbai Indians': 0, 'Royal Challengers Bangalore': 4}, 'MP Stoinis': {'Chennai Super Kings': 14, 'Delhi Capitals': 69, 'Kings XI Punjab': 74, 'Kolkata Knight Riders': 45, 'Mumbai Indians': 30, 'Rajasthan Royals': 65, 'Royal Challengers Bangalore': 13}, 'MS Dhoni': {'Delhi Capitals': 153, 'Kings XI Punjab': 142, 'Kolkata Knight Riders': 84, 'Mumbai Indians': 82, 'Rajasthan Royals': 171, 'Royal Challengers Bangalore': 185, 'Sunrisers Hyderabad': 54}, 'Mandeep Singh': {'Chennai Super Kings': 51, 'Delhi Capitals': 89, 'Kings XI Punjab': 22, 'Kolkata Knight Riders': 114, 'Mumbai Indians': 37, 'Rajasthan Royals': 55, 'Royal Challengers Bangalore': 22, 'Sunrisers Hyderabad': 27}, 'Mohammad Nabi': {'Delhi Capitals': 37, 'Kings XI Punjab': 36, 'Mumbai Indians': 62, 'Royal Challengers Bangalore': 4}, 'Mohammed Shami': {'Delhi Capitals': 0, 'Kolkata Knight Riders': 7, 'Sunrisers Hyderabad': 1}, 'Mohammed Siraj': {'Chennai Super Kings': 3, 'Delhi Capitals': 1, 'Mumbai Indians': 8, 'Rajasthan Royals': 14, 'Sunrisers Hyderabad': 3}, 'Mujeeb Ur Rahman': {'Rajasthan Royals': 0, 'Royal Challengers Bangalore': 0, 'Sunrisers Hyderabad': 10}, 'Mustafizur Rahman': {'Sunrisers Hyderabad': 1}, 'N Pooran': {'Chennai Super Kings': 36, 'Kolkata Knight Riders': 48, 'Rajasthan Royals': 17, 'Royal Challengers Bangalore': 46, 'Sunrisers Hyderabad': 21}, 'N Rana': {'Chennai Super Kings': 37, 'Delhi Capitals': 79, 'Kings XI Punjab': 77, 'Mumbai Indians': 78, 'Rajasthan Royals': 80, 'Royal Challengers Bangalore': 171, 'Sunrisers Hyderabad': 126}, 'NS Naik': {'Delhi Capitals': 7}, 'NV Ojha': {'Sunrisers Hyderabad': 1}, 'Navdeep Saini': {'Chennai Super Kings': 2, 'Rajasthan Royals': 0}, 'P Chopra': {'Chennai Super Kings': 8}, 'P Negi': {'Chennai Super Kings': 5, 'Delhi Capitals': 0, 'Mumbai Indians': 0, 'Rajasthan Royals': 7}, 'P Ray Barman': {'Sunrisers Hyderabad': 19}, 'P Simran Singh': {'Sunrisers Hyderabad': 16}, 'PA Patel': {'Chennai Super Kings': 135, 'Delhi Capitals': 54, 'Kings XI Punjab': 102, 'Kolkata Knight Riders': 36, 'Mumbai Indians': 59, 'Rajasthan Royals': 108, 'Sunrisers Hyderabad': 32}, 'PJ Sangwan': {'Sunrisers Hyderabad': 0}, 'PP Chawla': {'Chennai Super Kings': 12, 'Delhi Capitals': 28, 'Kings XI Punjab': 2, 'Mumbai Indians': 11, 'Sunrisers Hyderabad': 16}, 'PP Shaw': {'Chennai Super Kings': 59, 'Kings XI Punjab': 35, 'Kolkata Knight Riders': 175, 'Mumbai Indians': 39, 'Rajasthan Royals': 97, 'Royal Challengers Bangalore': 48, 'Sunrisers Hyderabad': 145}, 'Q de Kock': {'Chennai Super Kings': 109, 'Delhi Capitals': 80, 'Kings XI Punjab': 129, 'Kolkata Knight Riders': 63, 'Mumbai Indians': 26, 'Rajasthan Royals': 172, 'Royal Challengers Bangalore': 63, 'Sunrisers Hyderabad': 88}, 'R Ashwin': {'Chennai Super Kings': 14, 'Delhi Capitals': 25, 'Kolkata Knight Riders': 45, 'Rajasthan Royals': 17, 'Royal Challengers Bangalore': 39, 'Sunrisers Hyderabad': 4}, 'R Parag': {'Chennai Super Kings': 16, 'Delhi Capitals': 54, 'Kolkata Knight Riders': 47, 'Mumbai Indians': 43}, 'R Tewatia': {'Chennai Super Kings': 14, 'Kings XI Punjab': 33, 'Kolkata Knight Riders': 1, 'Mumbai Indians': 9, 'Royal Challengers Bangalore': 14, 'Sunrisers Hyderabad': 5}, 'R Vinay Kumar': {'Royal Challengers Bangalore': 6}, 'RA Jadeja': {'Delhi Capitals': 52, 'Kings XI Punjab': 19, 'Kolkata Knight Riders': 54, 'Mumbai Indians': 18, 'Rajasthan Royals': 19, 'Royal Challengers Bangalore': 20, 'Sunrisers Hyderabad': 13}, 'RA Tripathi': {'Chennai Super Kings': 54, 'Delhi Capitals': 24, 'Kings XI Punjab': 62, 'Kolkata Knight Riders': 68, 'Mumbai Indians': 10, 'Royal Challengers Bangalore': 128, 'Sunrisers Hyderabad': 21}, 'RD Chahar': {'Chennai Super Kings': 0, 'Kings XI Punjab': 1, 'Kolkata Knight Riders': 1, 'Sunrisers Hyderabad': 10}, 'RG Sharma': {'Chennai Super Kings': 170, 'Delhi Capitals': 75, 'Kings XI Punjab': 62, 'Kolkata Knight Riders': 114, 'Rajasthan Royals': 52, 'Royal Challengers Bangalore': 170, 'Sunrisers Hyderabad': 48}, 'RK Bhui': {'Chennai Super Kings': 0, 'Delhi Capitals': 7}, 'RK Singh': {'Chennai Super Kings': 18, 'Mumbai Indians': 9, 'Rajasthan Royals': 3, 'Royal Challengers Bangalore': 6, 'Sunrisers Hyderabad': 30}, 'RR Pant': {'Chennai Super Kings': 185, 'Kings XI Punjab': 77, 'Kolkata Knight Riders': 106, 'Mumbai Indians': 196, 'Rajasthan Royals': 220, 'Royal Challengers Bangalore': 171, 'Sunrisers Hyderabad': 223}, 'RV Uthappa': {'Chennai Super Kings': 46, 'Delhi Capitals': 77, 'Kings XI Punjab': 147, 'Mumbai Indians': 108, 'Rajasthan Royals': 81, 'Royal Challengers Bangalore': 91, 'Sunrisers Hyderabad': 85}, 'Rashid Khan': {'Chennai Super Kings': 17, 'Delhi Capitals': 0, 'Kings XI Punjab': 1, 'Kolkata Knight Riders': 34, 'Mumbai Indians': 6, 'Rajasthan Royals': 33, 'Royal Challengers Bangalore': 2}, 'Rasikh Salam': {'Delhi Capitals': 5}, 'S Dhawan': {'Chennai Super Kings': 193, 'Delhi Capitals': 125, 'Kings XI Punjab': 97, 'Kolkata Knight Riders': 204, 'Mumbai Indians': 128, 'Rajasthan Royals': 154, 'Royal Challengers Bangalore': 81, 'Sunrisers Hyderabad': 36}, 'S Dube': {'Chennai Super Kings': 2, 'Delhi Capitals': 24, 'Mumbai Indians': 9, 'Sunrisers Hyderabad': 5}, 'S Gopal': {'Chennai Super Kings': 27, 'Delhi Capitals': 12, 'Kings XI Punjab': 25, 'Kolkata Knight Riders': 18, 'Mumbai Indians': 13, 'Sunrisers Hyderabad': 18}, 'S Kaul': {'Mumbai Indians': 2, 'Royal Challengers Bangalore': 1}, 'S Lamichhane': {'Kings XI Punjab': 0}, 'S Nadeem': {'Kolkata Knight Riders': 6}, 'SA Yadav': {'Chennai Super Kings': 232, 'Delhi Capitals': 93, 'Kings XI Punjab': 116, 'Kolkata Knight Riders': 167, 'Rajasthan Royals': 160, 'Royal Challengers Bangalore': 76, 'Sunrisers Hyderabad': 92}, 'SD Lad': {'Kings XI Punjab': 15}, 'SE Rutherford': {'Chennai Super Kings': 12, 'Kings XI Punjab': 2, 'Rajasthan Royals': 22, 'Royal Challengers Bangalore': 28, 'Sunrisers Hyderabad': 9}, 'SK Raina': {'Delhi Capitals': 116, 'Kings XI Punjab': 131, 'Kolkata Knight Riders': 117, 'Mumbai Indians': 110, 'Rajasthan Royals': 138, 'Royal Challengers Bangalore': 55, 'Sunrisers Hyderabad': 161}, 'SM Curran': {'Chennai Super Kings': 6, 'Delhi Capitals': 20, 'Kolkata Knight Riders': 55, 'Mumbai Indians': 8, 'Royal Challengers Bangalore': 1, 'Sunrisers Hyderabad': 5}, 'SN Khan': {'Chennai Super Kings': 67, 'Delhi Capitals': 50, 'Kings XI Punjab': 0, 'Kolkata Knight Riders': 19, 'Mumbai Indians': 5, 'Rajasthan Royals': 53, 'Royal Challengers Bangalore': 15, 'Sunrisers Hyderabad': 22}, 'SN Thakur': {'Mumbai Indians': 14, 'Sunrisers Hyderabad': 15}, 'SO Hetmyer': {'Chennai Super Kings': 0, 'Mumbai Indians': 5, 'Rajasthan Royals': 1, 'Sunrisers Hyderabad': 84}, 'SP Goswami': {'Chennai Super Kings': 17, 'Kolkata Knight Riders': 35}, 'SP Narine': {'Chennai Super Kings': 52, 'Delhi Capitals': 27, 'Kings XI Punjab': 100, 'Mumbai Indians': 9, 'Rajasthan Royals': 118, 'Royal Challengers Bangalore': 105, 'Sunrisers Hyderabad': 89}, 'SPD Smith': {'Chennai Super Kings': 43, 'Delhi Capitals': 50, 'Kings XI Punjab': 20, 'Kolkata Knight Riders': 75, 'Mumbai Indians': 71, 'Royal Challengers Bangalore': 38, 'Sunrisers Hyderabad': 22}, 'SR Watson': {'Delhi Capitals': 186, 'Kings XI Punjab': 44, 'Kolkata Knight Riders': 101, 'Mumbai Indians': 131, 'Rajasthan Royals': 158, 'Royal Challengers Bangalore': 23, 'Sunrisers Hyderabad': 310}, 'SS Iyer': {'Chennai Super Kings': 107, 'Kings XI Punjab': 154, 'Kolkata Knight Riders': 150, 'Mumbai Indians': 52, 'Rajasthan Royals': 69, 'Royal Challengers Bangalore': 203, 'Sunrisers Hyderabad': 143}, 'STR Binny': {'Chennai Super Kings': 32, 'Delhi Capitals': 19, 'Kings XI Punjab': 44, 'Kolkata Knight Riders': 12, 'Mumbai Indians': 7}, 'SV Samson': {'Chennai Super Kings': 37, 'Delhi Capitals': 45, 'Kings XI Punjab': 107, 'Kolkata Knight Riders': 91, 'Mumbai Indians': 144, 'Royal Challengers Bangalore': 120, 'Sunrisers Hyderabad': 239}, 'SW Billings': {'Delhi Capitals': 1, 'Kings XI Punjab': 9, 'Kolkata Knight Riders': 56, 'Mumbai Indians': 3, 'Rajasthan Royals': 30, 'Royal Challengers Bangalore': 9, 'Sunrisers Hyderabad': 0}, 'Sandeep Sharma': {'Delhi Capitals': 1, 'Mumbai Indians': 5, 'Royal Challengers Bangalore': 0}, 'Shakib Al Hasan': {'Chennai Super Kings': 67, 'Kings XI Punjab': 52, 'Kolkata Knight Riders': 65, 'Mumbai Indians': 14, 'Rajasthan Royals': 15, 'Royal Challengers Bangalore': 35}, 'Shivam Mavi': {'Delhi Capitals': 0, 'Sunrisers Hyderabad': 13}, 'Shubman Gill': {'Chennai Super Kings': 81, 'Delhi Capitals': 112, 'Kings XI Punjab': 95, 'Mumbai Indians': 92, 'Rajasthan Royals': 48, 'Royal Challengers Bangalore': 17, 'Sunrisers Hyderabad': 54}, 'TA Boult': {'Chennai Super Kings': 7, 'Kolkata Knight Riders': 0}, 'TG Southee': {'Chennai Super Kings': 36, 'Delhi Capitals': 9, 'Mumbai Indians': 1, 'Rajasthan Royals': 14, 'Sunrisers Hyderabad': 1}, 'TK Curran': {'Chennai Super Kings': 2, 'Delhi Capitals': 2, 'Kings XI Punjab': 1, 'Mumbai Indians': 18}, 'UT Yadav': {'Chennai Super Kings': 3, 'Mumbai Indians': 2, 'Rajasthan Royals': 0, 'Sunrisers Hyderabad': 23}, 'V Kohli': {'Chennai Super Kings': 41, 'Delhi Capitals': 164, 'Kings XI Punjab': 149, 'Kolkata Knight Riders': 283, 'Mumbai Indians': 178, 'Rajasthan Royals': 109, 'Sunrisers Hyderabad': 70}, 'V Shankar': {'Chennai Super Kings': 123, 'Delhi Capitals': 42, 'Kings XI Punjab': 46, 'Kolkata Knight Riders': 42, 'Mumbai Indians': 60, 'Rajasthan Royals': 63, 'Royal Challengers Bangalore': 57, 'Sunrisers Hyderabad': 23}, 'VR Aaron': {'Delhi Capitals': 3}, 'WP Saha': {'Chennai Super Kings': 5, 'Delhi Capitals': 8, 'Kings XI Punjab': 40, 'Kolkata Knight Riders': 59, 'Mumbai Indians': 47, 'Rajasthan Royals': 21, 'Royal Challengers Bangalore': 28}, 'Washington Sundar': {'Chennai Super Kings': 13, 'Delhi Capitals': 1, 'Kings XI Punjab': 9, 'Mumbai Indians': 8, 'Rajasthan Royals': 35, 'Sunrisers Hyderabad': 0}, 'Y Prithvi Raj': {'Sunrisers Hyderabad': 0}, 'YK Pathan': {'Chennai Super Kings': 119, 'Delhi Capitals': 36, 'Kings XI Punjab': 40, 'Kolkata Knight Riders': 23, 'Mumbai Indians': 43, 'Rajasthan Royals': 18, 'Royal Challengers Bangalore': 21}, 'YS Chahal': {'Chennai Super Kings': 4, 'Delhi Capitals': 1, 'Rajasthan Royals': 0, 'Sunrisers Hyderabad': 1}, 'Yuvraj Singh': {'Chennai Super Kings': 24, 'Delhi Capitals': 79, 'Kings XI Punjab': 18, 'Mumbai Indians': 15, 'Royal Challengers Bangalore': 27}}\n"
     ]
    }
   ],
   "source": [
    "print(batsman_runs)"
   ]
  },
  {
   "cell_type": "code",
   "execution_count": 3,
   "metadata": {},
   "outputs": [],
   "source": [
    "iswicket_df = df[['isWicketDelivery','player_out','opponent']].copy()"
   ]
  },
  {
   "cell_type": "code",
   "execution_count": 4,
   "metadata": {},
   "outputs": [],
   "source": [
    "out_counts = iswicket_df[iswicket_df['isWicketDelivery'] == 1].groupby('player_out')['isWicketDelivery'].count().reset_index(name='out_count')"
   ]
  },
  {
   "cell_type": "code",
   "execution_count": 5,
   "metadata": {},
   "outputs": [
    {
     "name": "stdout",
     "output_type": "stream",
     "text": [
      "player_out      opponent                   \n",
      "A Mishra        Chennai Super Kings            1\n",
      "                Sunrisers Hyderabad            1\n",
      "AB de Villiers  Chennai Super Kings            4\n",
      "                Delhi Capitals                 2\n",
      "                Kings XI Punjab                1\n",
      "                                              ..\n",
      "Yuvraj Singh    Chennai Super Kings            2\n",
      "                Delhi Capitals                 3\n",
      "                Kings XI Punjab                1\n",
      "                Mumbai Indians                 2\n",
      "                Royal Challengers Bangalore    2\n",
      "Name: isWicketDelivery, Length: 680, dtype: int64\n"
     ]
    }
   ],
   "source": [
    "opponent_counts = df.groupby(['player_out', 'opponent']).count()['isWicketDelivery']\n",
    "\n",
    "# print the resulting counts\n",
    "print(opponent_counts)"
   ]
  },
  {
   "cell_type": "code",
   "execution_count": 6,
   "metadata": {},
   "outputs": [
    {
     "name": "stdout",
     "output_type": "stream",
     "text": [
      "{'A Dananjaya': {'Delhi Capitals': 4}, 'A Mishra': {'Chennai Super Kings': 14, 'Kings XI Punjab': 1, 'Mumbai Indians': 6, 'Sunrisers Hyderabad': 1}, 'AB de Villiers': {'Chennai Super Kings': 103, 'Delhi Capitals': 196, 'Kings XI Punjab': 198, 'Kolkata Knight Riders': 107, 'Mumbai Indians': 146, 'Rajasthan Royals': 96, 'Sunrisers Hyderabad': 76}, 'AD Hales': {'Chennai Super Kings': 2, 'Delhi Capitals': 59, 'Rajasthan Royals': 45, 'Royal Challengers Bangalore': 42}, 'AD Nath': {'Chennai Super Kings': 24, 'Delhi Capitals': 19, 'Kings XI Punjab': 3, 'Kolkata Knight Riders': 13, 'Mumbai Indians': 2, 'Rajasthan Royals': 9}, 'AD Russell': {'Chennai Super Kings': 148, 'Delhi Capitals': 196, 'Kings XI Punjab': 113, 'Mumbai Indians': 91, 'Rajasthan Royals': 74, 'Royal Challengers Bangalore': 128, 'Sunrisers Hyderabad': 80}, 'AJ Finch': {'Chennai Super Kings': 4, 'Delhi Capitals': 2, 'Kolkata Knight Riders': 34, 'Mumbai Indians': 46, 'Royal Challengers Bangalore': 26, 'Sunrisers Hyderabad': 22}, 'AJ Turner': {'Delhi Capitals': 0, 'Kings XI Punjab': 0, 'Mumbai Indians': 0, 'Sunrisers Hyderabad': 3}, 'AJ Tye': {'Chennai Super Kings': 3, 'Delhi Capitals': 3, 'Kolkata Knight Riders': 14, 'Rajasthan Royals': 1, 'Royal Challengers Bangalore': 7, 'Sunrisers Hyderabad': 4}, 'AM Rahane': {'Chennai Super Kings': 34, 'Delhi Capitals': 152, 'Kings XI Punjab': 67, 'Kolkata Knight Riders': 132, 'Mumbai Indians': 100, 'Royal Challengers Bangalore': 91, 'Sunrisers Hyderabad': 187}, 'AR Patel': {'Chennai Super Kings': 35, 'Kings XI Punjab': 1, 'Kolkata Knight Riders': 19, 'Mumbai Indians': 53, 'Rajasthan Royals': 14, 'Royal Challengers Bangalore': 31, 'Sunrisers Hyderabad': 37}, 'AS Joseph': {'Kings XI Punjab': 15}, 'AS Rajpoot': {'Chennai Super Kings': 2, 'Royal Challengers Bangalore': 1, 'Sunrisers Hyderabad': 8}, 'AT Rayudu': {'Delhi Capitals': 121, 'Kings XI Punjab': 72, 'Kolkata Knight Riders': 86, 'Mumbai Indians': 111, 'Rajasthan Royals': 82, 'Royal Challengers Bangalore': 171, 'Sunrisers Hyderabad': 241}, 'Abhishek Sharma': {'Chennai Super Kings': 2, 'Delhi Capitals': 2, 'Kings XI Punjab': 5, 'Mumbai Indians': 17, 'Royal Challengers Bangalore': 46}, 'Anureet Singh': {'Kolkata Knight Riders': 3}, 'Avesh Khan': {'Kings XI Punjab': 4}, 'B Kumar': {'Chennai Super Kings': 7, 'Delhi Capitals': 2, 'Kolkata Knight Riders': 5, 'Mumbai Indians': 2, 'Rajasthan Royals': 1, 'Royal Challengers Bangalore': 8}, 'B Laughlin': {'Chennai Super Kings': 0, 'Sunrisers Hyderabad': 1}, 'B Stanlake': {'Mumbai Indians': 5}, 'BA Stokes': {'Chennai Super Kings': 130, 'Delhi Capitals': 25, 'Kings XI Punjab': 32, 'Kolkata Knight Riders': 43, 'Mumbai Indians': 40, 'Royal Challengers Bangalore': 28, 'Sunrisers Hyderabad': 21}, 'BB McCullum': {'Chennai Super Kings': 5, 'Kings XI Punjab': 0, 'Kolkata Knight Riders': 81, 'Mumbai Indians': 37, 'Rajasthan Royals': 4}, 'BB Sran': {'Delhi Capitals': 0, 'Kolkata Knight Riders': 4, 'Sunrisers Hyderabad': 2}, 'BCJ Cutting': {'Delhi Capitals': 42, 'Kings XI Punjab': 4, 'Kolkata Knight Riders': 24, 'Rajasthan Royals': 23, 'Royal Challengers Bangalore': 12, 'Sunrisers Hyderabad': 9}, 'Basil Thampi': {'Delhi Capitals': 1, 'Mumbai Indians': 3}, 'C Munro': {'Chennai Super Kings': 53, 'Kings XI Punjab': 4, 'Kolkata Knight Riders': 33, 'Mumbai Indians': 3, 'Rajasthan Royals': 0, 'Sunrisers Hyderabad': 54}, 'C de Grandhomme': {'Chennai Super Kings': 23, 'Delhi Capitals': 3, 'Kolkata Knight Riders': 11, 'Mumbai Indians': 25, 'Rajasthan Royals': 2, 'Sunrisers Hyderabad': 113}, 'CA Ingram': {'Chennai Super Kings': 3, 'Kings XI Punjab': 57, 'Kolkata Knight Riders': 24, 'Mumbai Indians': 47, 'Rajasthan Royals': 15, 'Royal Challengers Bangalore': 33, 'Sunrisers Hyderabad': 5}, 'CA Lynn': {'Chennai Super Kings': 116, 'Delhi Capitals': 56, 'Kings XI Punjab': 157, 'Mumbai Indians': 133, 'Rajasthan Royals': 113, 'Royal Challengers Bangalore': 111, 'Sunrisers Hyderabad': 210}, 'CH Gayle': {'Chennai Super Kings': 96, 'Delhi Capitals': 69, 'Kolkata Knight Riders': 117, 'Mumbai Indians': 171, 'Rajasthan Royals': 118, 'Royal Challengers Bangalore': 140, 'Sunrisers Hyderabad': 147}, 'CH Morris': {'Chennai Super Kings': 0, 'Kings XI Punjab': 27, 'Kolkata Knight Riders': 2, 'Mumbai Indians': 11, 'Rajasthan Royals': 17, 'Royal Challengers Bangalore': 0, 'Sunrisers Hyderabad': 21}, 'CJ Anderson': {'Chennai Super Kings': 2, 'Delhi Capitals': 15, 'Mumbai Indians': 0}, 'CR Brathwaite': {'Chennai Super Kings': 64, 'Delhi Capitals': 6, 'Kolkata Knight Riders': 11, 'Rajasthan Royals': 5}, 'CR Woakes': {'Kings XI Punjab': 1, 'Kolkata Knight Riders': 5, 'Mumbai Indians': 11, 'Rajasthan Royals': 0}, 'DA Miller': {'Chennai Super Kings': 30, 'Delhi Capitals': 100, 'Kolkata Knight Riders': 59, 'Mumbai Indians': 22, 'Rajasthan Royals': 40, 'Royal Challengers Bangalore': 24, 'Sunrisers Hyderabad': 12}, 'DA Warner': {'Chennai Super Kings': 107, 'Delhi Capitals': 61, 'Kings XI Punjab': 151, 'Kolkata Knight Riders': 152, 'Mumbai Indians': 15, 'Rajasthan Royals': 106, 'Royal Challengers Bangalore': 100}, 'DJ Bravo': {'Delhi Capitals': 5, 'Kings XI Punjab': 2, 'Kolkata Knight Riders': 11, 'Mumbai Indians': 111, 'Rajasthan Royals': 52, 'Royal Challengers Bangalore': 33, 'Sunrisers Hyderabad': 7}, 'DJ Hooda': {'Chennai Super Kings': 38, 'Delhi Capitals': 17, 'Kings XI Punjab': 19, 'Kolkata Knight Riders': 24, 'Mumbai Indians': 52, 'Rajasthan Royals': 0, 'Royal Challengers Bangalore': 1}, 'DJM Short': {'Delhi Capitals': 50, 'Kings XI Punjab': 2, 'Kolkata Knight Riders': 44, 'Mumbai Indians': 4, 'Royal Challengers Bangalore': 11, 'Sunrisers Hyderabad': 4}, 'DL Chahar': {'Delhi Capitals': 1, 'Kings XI Punjab': 39, 'Mumbai Indians': 7, 'Sunrisers Hyderabad': 10}, 'DR Shorey': {'Mumbai Indians': 5, 'Royal Challengers Bangalore': 8}, 'DS Kulkarni': {'Kings XI Punjab': 5, 'Kolkata Knight Riders': 3, 'Sunrisers Hyderabad': 3}, 'DT Christian': {'Kings XI Punjab': 19, 'Sunrisers Hyderabad': 7}, 'E Lewis': {'Chennai Super Kings': 79, 'Delhi Capitals': 96, 'Kings XI Punjab': 19, 'Kolkata Knight Riders': 76, 'Rajasthan Royals': 60, 'Royal Challengers Bangalore': 65, 'Sunrisers Hyderabad': 35}, 'F du Plessis': {'Delhi Capitals': 122, 'Kings XI Punjab': 164, 'Kolkata Knight Riders': 94, 'Mumbai Indians': 32, 'Rajasthan Royals': 7, 'Royal Challengers Bangalore': 5, 'Sunrisers Hyderabad': 134}, 'G Gambhir': {'Kings XI Punjab': 59, 'Kolkata Knight Riders': 8, 'Mumbai Indians': 15, 'Royal Challengers Bangalore': 3}, 'GC Viljoen': {'Delhi Capitals': 3, 'Royal Challengers Bangalore': 0}, 'GH Vihari': {'Kings XI Punjab': 2, 'Kolkata Knight Riders': 2}, 'GJ Maxwell': {'Chennai Super Kings': 11, 'Kings XI Punjab': 12, 'Kolkata Knight Riders': 74, 'Mumbai Indians': 35, 'Rajasthan Royals': 22, 'Royal Challengers Bangalore': 4, 'Sunrisers Hyderabad': 11}, 'Gurkeerat Singh': {'Delhi Capitals': 27, 'Rajasthan Royals': 6, 'Sunrisers Hyderabad': 65}, 'H Klaasen': {'Chennai Super Kings': 7, 'Delhi Capitals': 3, 'Kolkata Knight Riders': 18, 'Mumbai Indians': 0, 'Rajasthan Royals': 6, 'Royal Challengers Bangalore': 32}, 'HF Gurney': {'Chennai Super Kings': 1}, 'HH Pandya': {'Chennai Super Kings': 112, 'Delhi Capitals': 61, 'Kings XI Punjab': 82, 'Kolkata Knight Riders': 145, 'Rajasthan Royals': 91, 'Royal Challengers Bangalore': 136, 'Sunrisers Hyderabad': 42}, 'HV Patel': {'Chennai Super Kings': 36, 'Kings XI Punjab': 0, 'Sunrisers Hyderabad': 24}, 'Harbhajan Singh': {'Kings XI Punjab': 19, 'Mumbai Indians': 9, 'Sunrisers Hyderabad': 2}, 'Harpreet Brar': {'Delhi Capitals': 20}, 'I Sharma': {'Chennai Super Kings': 10}, 'IS Sodhi': {'Delhi Capitals': 6, 'Kolkata Knight Riders': 1}, 'Imran Tahir': {'Mumbai Indians': 2}, 'Ishan Kishan': {'Chennai Super Kings': 91, 'Delhi Capitals': 49, 'Kings XI Punjab': 52, 'Kolkata Knight Riders': 62, 'Rajasthan Royals': 75, 'Royal Challengers Bangalore': 21, 'Sunrisers Hyderabad': 26}, 'J Suchith': {'Chennai Super Kings': 6}, 'JC Archer': {'Chennai Super Kings': 37, 'Kings XI Punjab': 3, 'Kolkata Knight Riders': 33, 'Mumbai Indians': 8, 'Royal Challengers Bangalore': 0, 'Sunrisers Hyderabad': 1}, 'JC Buttler': {'Chennai Super Kings': 146, 'Delhi Capitals': 96, 'Kings XI Punjab': 225, 'Kolkata Knight Riders': 100, 'Mumbai Indians': 189, 'Royal Challengers Bangalore': 82, 'Sunrisers Hyderabad': 21}, 'JD Unadkat': {'Chennai Super Kings': 16, 'Kings XI Punjab': 7, 'Kolkata Knight Riders': 26, 'Sunrisers Hyderabad': 1}, 'JJ Bumrah': {'Delhi Capitals': 0, 'Royal Challengers Bangalore': 0, 'Sunrisers Hyderabad': 10}, 'JJ Roy': {'Kolkata Knight Riders': 1, 'Mumbai Indians': 91, 'Royal Challengers Bangalore': 17, 'Sunrisers Hyderabad': 11}, 'JL Denly': {'Delhi Capitals': 0}, 'JM Bairstow': {'Chennai Super Kings': 61, 'Delhi Capitals': 89, 'Kings XI Punjab': 1, 'Kolkata Knight Riders': 119, 'Mumbai Indians': 16, 'Rajasthan Royals': 45, 'Royal Challengers Bangalore': 114}, 'JP Duminy': {'Kolkata Knight Riders': 13, 'Royal Challengers Bangalore': 23}, 'JPR Scantlebury-Searles': {'Kings XI Punjab': 6, 'Rajasthan Royals': 2}, 'K Gowtham': {'Chennai Super Kings': 23, 'Delhi Capitals': 26, 'Kings XI Punjab': 16, 'Kolkata Knight Riders': 24, 'Mumbai Indians': 33, 'Royal Challengers Bangalore': 14, 'Sunrisers Hyderabad': 8}, 'K Rabada': {'Kings XI Punjab': 0, 'Mumbai Indians': 9, 'Sunrisers Hyderabad': 5}, 'KA Pollard': {'Chennai Super Kings': 71, 'Delhi Capitals': 28, 'Kings XI Punjab': 140, 'Kolkata Knight Riders': 20, 'Rajasthan Royals': 37, 'Royal Challengers Bangalore': 23, 'Sunrisers Hyderabad': 95}, 'KC Cariappa': {'Sunrisers Hyderabad': 9}, 'KD Karthik': {'Chennai Super Kings': 108, 'Delhi Capitals': 90, 'Kings XI Punjab': 115, 'Mumbai Indians': 59, 'Rajasthan Royals': 232, 'Royal Challengers Bangalore': 77, 'Sunrisers Hyderabad': 71}, 'KH Pandya': {'Chennai Super Kings': 91, 'Delhi Capitals': 84, 'Kings XI Punjab': 74, 'Kolkata Knight Riders': 46, 'Rajasthan Royals': 12, 'Royal Challengers Bangalore': 50, 'Sunrisers Hyderabad': 54}, 'KK Ahmed': {'Delhi Capitals': 0}, 'KK Nair': {'Chennai Super Kings': 83, 'Delhi Capitals': 84, 'Kolkata Knight Riders': 3, 'Mumbai Indians': 28, 'Rajasthan Royals': 34, 'Royal Challengers Bangalore': 30, 'Sunrisers Hyderabad': 44}, 'KL Rahul': {'Chennai Super Kings': 170, 'Delhi Capitals': 101, 'Kolkata Knight Riders': 129, 'Mumbai Indians': 289, 'Rajasthan Royals': 235, 'Royal Challengers Bangalore': 128, 'Sunrisers Hyderabad': 200}, 'KM Jadhav': {'Delhi Capitals': 27, 'Kings XI Punjab': 0, 'Kolkata Knight Riders': 28, 'Mumbai Indians': 88, 'Rajasthan Royals': 9, 'Royal Challengers Bangalore': 22, 'Sunrisers Hyderabad': 12}, 'KMA Paul': {'Chennai Super Kings': 3, 'Mumbai Indians': 3, 'Sunrisers Hyderabad': 12}, 'KS Williamson': {'Chennai Super Kings': 209, 'Delhi Capitals': 146, 'Kings XI Punjab': 68, 'Kolkata Knight Riders': 97, 'Mumbai Indians': 38, 'Rajasthan Royals': 126, 'Royal Challengers Bangalore': 207}, 'Kuldeep Yadav': {'Chennai Super Kings': 0, 'Delhi Capitals': 19, 'Mumbai Indians': 5, 'Sunrisers Hyderabad': 0}, 'LE Plunkett': {'Kings XI Punjab': 0, 'Rajasthan Royals': 1}, 'LS Livingstone': {'Delhi Capitals': 14, 'Mumbai Indians': 1, 'Royal Challengers Bangalore': 11, 'Sunrisers Hyderabad': 44}, 'M Ashwin': {'Chennai Super Kings': 1, 'Delhi Capitals': 1, 'Royal Challengers Bangalore': 1, 'Sunrisers Hyderabad': 1}, 'M Markande': {'Delhi Capitals': 7, 'Kings XI Punjab': 7, 'Rajasthan Royals': 0, 'Royal Challengers Bangalore': 6, 'Sunrisers Hyderabad': 7}, 'M Prasidh Krishna': {'Chennai Super Kings': 0, 'Mumbai Indians': 1}, 'M Vijay': {'Kings XI Punjab': 12, 'Mumbai Indians': 64}, 'M Vohra': {'Delhi Capitals': 2, 'Kolkata Knight Riders': 0, 'Mumbai Indians': 45, 'Sunrisers Hyderabad': 8}, 'MA Agarwal': {'Chennai Super Kings': 37, 'Delhi Capitals': 36, 'Kolkata Knight Riders': 96, 'Mumbai Indians': 54, 'Rajasthan Royals': 50, 'Royal Challengers Bangalore': 67, 'Sunrisers Hyderabad': 112}, 'MA Wood': {'Mumbai Indians': 1}, 'MG Johnson': {'Delhi Capitals': 12, 'Sunrisers Hyderabad': 4}, 'MJ Guptill': {'Delhi Capitals': 36, 'Mumbai Indians': 16, 'Royal Challengers Bangalore': 30}, 'MJ McClenaghan': {'Chennai Super Kings': 0, 'Delhi Capitals': 10, 'Kings XI Punjab': 11, 'Rajasthan Royals': 0, 'Royal Challengers Bangalore': 1, 'Sunrisers Hyderabad': 0}, 'MJ Santner': {'Mumbai Indians': 22, 'Rajasthan Royals': 10}, 'MK Lomror': {'Delhi Capitals': 8, 'Kings XI Punjab': 9, 'Sunrisers Hyderabad': 11}, 'MK Pandey': {'Chennai Super Kings': 96, 'Delhi Capitals': 61, 'Kings XI Punjab': 166, 'Kolkata Knight Riders': 37, 'Mumbai Indians': 115, 'Rajasthan Royals': 78, 'Royal Challengers Bangalore': 76}, 'MK Tiwary': {'Chennai Super Kings': 35, 'Mumbai Indians': 4, 'Rajasthan Royals': 7, 'Sunrisers Hyderabad': 1}, 'MM Ali': {'Chennai Super Kings': 35, 'Delhi Capitals': 33, 'Kings XI Punjab': 4, 'Kolkata Knight Riders': 66, 'Mumbai Indians': 63, 'Rajasthan Royals': 19, 'Sunrisers Hyderabad': 77}, 'MM Sharma': {'Chennai Super Kings': 2, 'Kolkata Knight Riders': 4, 'Mumbai Indians': 0, 'Royal Challengers Bangalore': 4}, 'MP Stoinis': {'Chennai Super Kings': 14, 'Delhi Capitals': 69, 'Kings XI Punjab': 74, 'Kolkata Knight Riders': 45, 'Mumbai Indians': 30, 'Rajasthan Royals': 65, 'Royal Challengers Bangalore': 13}, 'MS Dhoni': {'Delhi Capitals': 153, 'Kings XI Punjab': 142, 'Kolkata Knight Riders': 84, 'Mumbai Indians': 82, 'Rajasthan Royals': 171, 'Royal Challengers Bangalore': 185, 'Sunrisers Hyderabad': 54}, 'Mandeep Singh': {'Chennai Super Kings': 51, 'Delhi Capitals': 89, 'Kings XI Punjab': 22, 'Kolkata Knight Riders': 114, 'Mumbai Indians': 37, 'Rajasthan Royals': 55, 'Royal Challengers Bangalore': 22, 'Sunrisers Hyderabad': 27}, 'Mohammad Nabi': {'Delhi Capitals': 37, 'Kings XI Punjab': 36, 'Mumbai Indians': 62, 'Royal Challengers Bangalore': 4}, 'Mohammed Shami': {'Delhi Capitals': 0, 'Kolkata Knight Riders': 7, 'Sunrisers Hyderabad': 1}, 'Mohammed Siraj': {'Chennai Super Kings': 3, 'Delhi Capitals': 1, 'Mumbai Indians': 8, 'Rajasthan Royals': 14, 'Sunrisers Hyderabad': 3}, 'Mujeeb Ur Rahman': {'Rajasthan Royals': 0, 'Royal Challengers Bangalore': 0, 'Sunrisers Hyderabad': 10}, 'Mustafizur Rahman': {'Sunrisers Hyderabad': 1}, 'N Pooran': {'Chennai Super Kings': 36, 'Kolkata Knight Riders': 48, 'Rajasthan Royals': 17, 'Royal Challengers Bangalore': 46, 'Sunrisers Hyderabad': 21}, 'N Rana': {'Chennai Super Kings': 37, 'Delhi Capitals': 79, 'Kings XI Punjab': 77, 'Mumbai Indians': 78, 'Rajasthan Royals': 80, 'Royal Challengers Bangalore': 171, 'Sunrisers Hyderabad': 126}, 'NS Naik': {'Delhi Capitals': 7}, 'NV Ojha': {'Sunrisers Hyderabad': 1}, 'Navdeep Saini': {'Chennai Super Kings': 2, 'Rajasthan Royals': 0}, 'P Chopra': {'Chennai Super Kings': 8}, 'P Negi': {'Chennai Super Kings': 5, 'Delhi Capitals': 0, 'Mumbai Indians': 0, 'Rajasthan Royals': 7}, 'P Ray Barman': {'Sunrisers Hyderabad': 19}, 'P Simran Singh': {'Sunrisers Hyderabad': 16}, 'PA Patel': {'Chennai Super Kings': 135, 'Delhi Capitals': 54, 'Kings XI Punjab': 102, 'Kolkata Knight Riders': 36, 'Mumbai Indians': 59, 'Rajasthan Royals': 108, 'Sunrisers Hyderabad': 32}, 'PJ Sangwan': {'Sunrisers Hyderabad': 0}, 'PP Chawla': {'Chennai Super Kings': 12, 'Delhi Capitals': 28, 'Kings XI Punjab': 2, 'Mumbai Indians': 11, 'Sunrisers Hyderabad': 16}, 'PP Shaw': {'Chennai Super Kings': 59, 'Kings XI Punjab': 35, 'Kolkata Knight Riders': 175, 'Mumbai Indians': 39, 'Rajasthan Royals': 97, 'Royal Challengers Bangalore': 48, 'Sunrisers Hyderabad': 145}, 'Q de Kock': {'Chennai Super Kings': 109, 'Delhi Capitals': 80, 'Kings XI Punjab': 129, 'Kolkata Knight Riders': 63, 'Mumbai Indians': 26, 'Rajasthan Royals': 172, 'Royal Challengers Bangalore': 63, 'Sunrisers Hyderabad': 88}, 'R Ashwin': {'Chennai Super Kings': 14, 'Delhi Capitals': 25, 'Kolkata Knight Riders': 45, 'Rajasthan Royals': 17, 'Royal Challengers Bangalore': 39, 'Sunrisers Hyderabad': 4}, 'R Parag': {'Chennai Super Kings': 16, 'Delhi Capitals': 54, 'Kolkata Knight Riders': 47, 'Mumbai Indians': 43}, 'R Tewatia': {'Chennai Super Kings': 14, 'Kings XI Punjab': 33, 'Kolkata Knight Riders': 1, 'Mumbai Indians': 9, 'Royal Challengers Bangalore': 14, 'Sunrisers Hyderabad': 5}, 'R Vinay Kumar': {'Royal Challengers Bangalore': 6}, 'RA Jadeja': {'Delhi Capitals': 52, 'Kings XI Punjab': 19, 'Kolkata Knight Riders': 54, 'Mumbai Indians': 18, 'Rajasthan Royals': 19, 'Royal Challengers Bangalore': 20, 'Sunrisers Hyderabad': 13}, 'RA Tripathi': {'Chennai Super Kings': 54, 'Delhi Capitals': 24, 'Kings XI Punjab': 62, 'Kolkata Knight Riders': 68, 'Mumbai Indians': 10, 'Royal Challengers Bangalore': 128, 'Sunrisers Hyderabad': 21}, 'RD Chahar': {'Chennai Super Kings': 0, 'Kings XI Punjab': 1, 'Kolkata Knight Riders': 1, 'Sunrisers Hyderabad': 10}, 'RG Sharma': {'Chennai Super Kings': 170, 'Delhi Capitals': 75, 'Kings XI Punjab': 62, 'Kolkata Knight Riders': 114, 'Rajasthan Royals': 52, 'Royal Challengers Bangalore': 170, 'Sunrisers Hyderabad': 48}, 'RK Bhui': {'Chennai Super Kings': 0, 'Delhi Capitals': 7}, 'RK Singh': {'Chennai Super Kings': 18, 'Mumbai Indians': 9, 'Rajasthan Royals': 3, 'Royal Challengers Bangalore': 6, 'Sunrisers Hyderabad': 30}, 'RR Pant': {'Chennai Super Kings': 185, 'Kings XI Punjab': 77, 'Kolkata Knight Riders': 106, 'Mumbai Indians': 196, 'Rajasthan Royals': 220, 'Royal Challengers Bangalore': 171, 'Sunrisers Hyderabad': 223}, 'RV Uthappa': {'Chennai Super Kings': 46, 'Delhi Capitals': 77, 'Kings XI Punjab': 147, 'Mumbai Indians': 108, 'Rajasthan Royals': 81, 'Royal Challengers Bangalore': 91, 'Sunrisers Hyderabad': 85}, 'Rashid Khan': {'Chennai Super Kings': 17, 'Delhi Capitals': 0, 'Kings XI Punjab': 1, 'Kolkata Knight Riders': 34, 'Mumbai Indians': 6, 'Rajasthan Royals': 33, 'Royal Challengers Bangalore': 2}, 'Rasikh Salam': {'Delhi Capitals': 5}, 'S Dhawan': {'Chennai Super Kings': 193, 'Delhi Capitals': 125, 'Kings XI Punjab': 97, 'Kolkata Knight Riders': 204, 'Mumbai Indians': 128, 'Rajasthan Royals': 154, 'Royal Challengers Bangalore': 81, 'Sunrisers Hyderabad': 36}, 'S Dube': {'Chennai Super Kings': 2, 'Delhi Capitals': 24, 'Mumbai Indians': 9, 'Sunrisers Hyderabad': 5}, 'S Gopal': {'Chennai Super Kings': 27, 'Delhi Capitals': 12, 'Kings XI Punjab': 25, 'Kolkata Knight Riders': 18, 'Mumbai Indians': 13, 'Sunrisers Hyderabad': 18}, 'S Kaul': {'Mumbai Indians': 2, 'Royal Challengers Bangalore': 1}, 'S Lamichhane': {'Kings XI Punjab': 0}, 'S Nadeem': {'Kolkata Knight Riders': 6}, 'SA Yadav': {'Chennai Super Kings': 232, 'Delhi Capitals': 93, 'Kings XI Punjab': 116, 'Kolkata Knight Riders': 167, 'Rajasthan Royals': 160, 'Royal Challengers Bangalore': 76, 'Sunrisers Hyderabad': 92}, 'SD Lad': {'Kings XI Punjab': 15}, 'SE Rutherford': {'Chennai Super Kings': 12, 'Kings XI Punjab': 2, 'Rajasthan Royals': 22, 'Royal Challengers Bangalore': 28, 'Sunrisers Hyderabad': 9}, 'SK Raina': {'Delhi Capitals': 116, 'Kings XI Punjab': 131, 'Kolkata Knight Riders': 117, 'Mumbai Indians': 110, 'Rajasthan Royals': 138, 'Royal Challengers Bangalore': 55, 'Sunrisers Hyderabad': 161}, 'SM Curran': {'Chennai Super Kings': 6, 'Delhi Capitals': 20, 'Kolkata Knight Riders': 55, 'Mumbai Indians': 8, 'Royal Challengers Bangalore': 1, 'Sunrisers Hyderabad': 5}, 'SN Khan': {'Chennai Super Kings': 67, 'Delhi Capitals': 50, 'Kings XI Punjab': 0, 'Kolkata Knight Riders': 19, 'Mumbai Indians': 5, 'Rajasthan Royals': 53, 'Royal Challengers Bangalore': 15, 'Sunrisers Hyderabad': 22}, 'SN Thakur': {'Mumbai Indians': 14, 'Sunrisers Hyderabad': 15}, 'SO Hetmyer': {'Chennai Super Kings': 0, 'Mumbai Indians': 5, 'Rajasthan Royals': 1, 'Sunrisers Hyderabad': 84}, 'SP Goswami': {'Chennai Super Kings': 17, 'Kolkata Knight Riders': 35}, 'SP Narine': {'Chennai Super Kings': 52, 'Delhi Capitals': 27, 'Kings XI Punjab': 100, 'Mumbai Indians': 9, 'Rajasthan Royals': 118, 'Royal Challengers Bangalore': 105, 'Sunrisers Hyderabad': 89}, 'SPD Smith': {'Chennai Super Kings': 43, 'Delhi Capitals': 50, 'Kings XI Punjab': 20, 'Kolkata Knight Riders': 75, 'Mumbai Indians': 71, 'Royal Challengers Bangalore': 38, 'Sunrisers Hyderabad': 22}, 'SR Watson': {'Delhi Capitals': 186, 'Kings XI Punjab': 44, 'Kolkata Knight Riders': 101, 'Mumbai Indians': 131, 'Rajasthan Royals': 158, 'Royal Challengers Bangalore': 23, 'Sunrisers Hyderabad': 310}, 'SS Iyer': {'Chennai Super Kings': 107, 'Kings XI Punjab': 154, 'Kolkata Knight Riders': 150, 'Mumbai Indians': 52, 'Rajasthan Royals': 69, 'Royal Challengers Bangalore': 203, 'Sunrisers Hyderabad': 143}, 'STR Binny': {'Chennai Super Kings': 32, 'Delhi Capitals': 19, 'Kings XI Punjab': 44, 'Kolkata Knight Riders': 12, 'Mumbai Indians': 7}, 'SV Samson': {'Chennai Super Kings': 37, 'Delhi Capitals': 45, 'Kings XI Punjab': 107, 'Kolkata Knight Riders': 91, 'Mumbai Indians': 144, 'Royal Challengers Bangalore': 120, 'Sunrisers Hyderabad': 239}, 'SW Billings': {'Delhi Capitals': 1, 'Kings XI Punjab': 9, 'Kolkata Knight Riders': 56, 'Mumbai Indians': 3, 'Rajasthan Royals': 30, 'Royal Challengers Bangalore': 9, 'Sunrisers Hyderabad': 0}, 'Sandeep Sharma': {'Delhi Capitals': 1, 'Mumbai Indians': 5, 'Royal Challengers Bangalore': 0}, 'Shakib Al Hasan': {'Chennai Super Kings': 67, 'Kings XI Punjab': 52, 'Kolkata Knight Riders': 65, 'Mumbai Indians': 14, 'Rajasthan Royals': 15, 'Royal Challengers Bangalore': 35}, 'Shivam Mavi': {'Delhi Capitals': 0, 'Sunrisers Hyderabad': 13}, 'Shubman Gill': {'Chennai Super Kings': 81, 'Delhi Capitals': 112, 'Kings XI Punjab': 95, 'Mumbai Indians': 92, 'Rajasthan Royals': 48, 'Royal Challengers Bangalore': 17, 'Sunrisers Hyderabad': 54}, 'TA Boult': {'Chennai Super Kings': 7, 'Kolkata Knight Riders': 0}, 'TG Southee': {'Chennai Super Kings': 36, 'Delhi Capitals': 9, 'Mumbai Indians': 1, 'Rajasthan Royals': 14, 'Sunrisers Hyderabad': 1}, 'TK Curran': {'Chennai Super Kings': 2, 'Delhi Capitals': 2, 'Kings XI Punjab': 1, 'Mumbai Indians': 18}, 'UT Yadav': {'Chennai Super Kings': 3, 'Mumbai Indians': 2, 'Rajasthan Royals': 0, 'Sunrisers Hyderabad': 23}, 'V Kohli': {'Chennai Super Kings': 41, 'Delhi Capitals': 164, 'Kings XI Punjab': 149, 'Kolkata Knight Riders': 283, 'Mumbai Indians': 178, 'Rajasthan Royals': 109, 'Sunrisers Hyderabad': 70}, 'V Shankar': {'Chennai Super Kings': 123, 'Delhi Capitals': 42, 'Kings XI Punjab': 46, 'Kolkata Knight Riders': 42, 'Mumbai Indians': 60, 'Rajasthan Royals': 63, 'Royal Challengers Bangalore': 57, 'Sunrisers Hyderabad': 23}, 'VR Aaron': {'Delhi Capitals': 3}, 'WP Saha': {'Chennai Super Kings': 5, 'Delhi Capitals': 8, 'Kings XI Punjab': 40, 'Kolkata Knight Riders': 59, 'Mumbai Indians': 47, 'Rajasthan Royals': 21, 'Royal Challengers Bangalore': 28}, 'Washington Sundar': {'Chennai Super Kings': 13, 'Delhi Capitals': 1, 'Kings XI Punjab': 9, 'Mumbai Indians': 8, 'Rajasthan Royals': 35, 'Sunrisers Hyderabad': 0}, 'Y Prithvi Raj': {'Sunrisers Hyderabad': 0}, 'YK Pathan': {'Chennai Super Kings': 119, 'Delhi Capitals': 36, 'Kings XI Punjab': 40, 'Kolkata Knight Riders': 23, 'Mumbai Indians': 43, 'Rajasthan Royals': 18, 'Royal Challengers Bangalore': 21}, 'YS Chahal': {'Chennai Super Kings': 4, 'Delhi Capitals': 1, 'Rajasthan Royals': 0, 'Sunrisers Hyderabad': 1}, 'Yuvraj Singh': {'Chennai Super Kings': 24, 'Delhi Capitals': 79, 'Kings XI Punjab': 18, 'Mumbai Indians': 15, 'Royal Challengers Bangalore': 27}}\n"
     ]
    }
   ],
   "source": [
    "print(batsman_runs)"
   ]
  },
  {
   "cell_type": "code",
   "execution_count": 7,
   "metadata": {},
   "outputs": [],
   "source": [
    "outs_against_each_opponent = opponent_counts.reset_index().groupby('player_out').apply(lambda x: x.set_index('opponent').to_dict()['isWicketDelivery']).to_dict()\n"
   ]
  },
  {
   "cell_type": "code",
   "execution_count": 8,
   "metadata": {},
   "outputs": [
    {
     "name": "stdout",
     "output_type": "stream",
     "text": [
      "{'A Mishra': {'Chennai Super Kings': 1, 'Sunrisers Hyderabad': 1}, 'AB de Villiers': {'Chennai Super Kings': 4, 'Delhi Capitals': 2, 'Kings XI Punjab': 1, 'Kolkata Knight Riders': 2, 'Mumbai Indians': 2, 'Rajasthan Royals': 4, 'Sunrisers Hyderabad': 4}, 'AD Hales': {'Chennai Super Kings': 1, 'Delhi Capitals': 2, 'Rajasthan Royals': 1, 'Royal Challengers Bangalore': 2}, 'AD Nath': {'Chennai Super Kings': 1, 'Delhi Capitals': 1, 'Kings XI Punjab': 1, 'Kolkata Knight Riders': 1, 'Mumbai Indians': 1, 'Rajasthan Royals': 1}, 'AD Russell': {'Chennai Super Kings': 1, 'Delhi Capitals': 5, 'Kings XI Punjab': 4, 'Mumbai Indians': 3, 'Rajasthan Royals': 1, 'Royal Challengers Bangalore': 3, 'Sunrisers Hyderabad': 4}, 'AJ Finch': {'Chennai Super Kings': 2, 'Delhi Capitals': 1, 'Kolkata Knight Riders': 1, 'Mumbai Indians': 1, 'Royal Challengers Bangalore': 2, 'Sunrisers Hyderabad': 1}, 'AJ Turner': {'Delhi Capitals': 1, 'Kings XI Punjab': 1, 'Mumbai Indians': 1}, 'AJ Tye': {'Chennai Super Kings': 1, 'Delhi Capitals': 1, 'Kolkata Knight Riders': 1, 'Royal Challengers Bangalore': 2, 'Sunrisers Hyderabad': 1}, 'AM Rahane': {'Chennai Super Kings': 4, 'Delhi Capitals': 2, 'Kings XI Punjab': 4, 'Kolkata Knight Riders': 5, 'Mumbai Indians': 4, 'Royal Challengers Bangalore': 3, 'Sunrisers Hyderabad': 3}, 'AR Patel': {'Chennai Super Kings': 3, 'Kings XI Punjab': 1, 'Kolkata Knight Riders': 1, 'Mumbai Indians': 3, 'Rajasthan Royals': 2, 'Royal Challengers Bangalore': 1, 'Sunrisers Hyderabad': 1}, 'AS Rajpoot': {'Chennai Super Kings': 1, 'Royal Challengers Bangalore': 1, 'Sunrisers Hyderabad': 1}, 'AT Rayudu': {'Delhi Capitals': 3, 'Kings XI Punjab': 3, 'Kolkata Knight Riders': 4, 'Mumbai Indians': 5, 'Rajasthan Royals': 4, 'Royal Challengers Bangalore': 4, 'Sunrisers Hyderabad': 3}, 'Abhishek Sharma': {'Chennai Super Kings': 1, 'Delhi Capitals': 1, 'Mumbai Indians': 1}, 'B Kumar': {'Chennai Super Kings': 1, 'Delhi Capitals': 1, 'Kolkata Knight Riders': 1, 'Mumbai Indians': 1, 'Rajasthan Royals': 1}, 'B Laughlin': {'Chennai Super Kings': 1}, 'BA Stokes': {'Chennai Super Kings': 4, 'Delhi Capitals': 3, 'Kings XI Punjab': 3, 'Kolkata Knight Riders': 3, 'Mumbai Indians': 2, 'Royal Challengers Bangalore': 1, 'Sunrisers Hyderabad': 2}, 'BB McCullum': {'Chennai Super Kings': 1, 'Kings XI Punjab': 1, 'Kolkata Knight Riders': 2, 'Mumbai Indians': 1, 'Rajasthan Royals': 1}, 'BB Sran': {'Sunrisers Hyderabad': 1}, 'BCJ Cutting': {'Delhi Capitals': 3, 'Kings XI Punjab': 1, 'Kolkata Knight Riders': 1, 'Sunrisers Hyderabad': 1}, 'Basil Thampi': {'Mumbai Indians': 1}, 'C Munro': {'Chennai Super Kings': 2, 'Kings XI Punjab': 1, 'Kolkata Knight Riders': 1, 'Mumbai Indians': 1, 'Rajasthan Royals': 2, 'Sunrisers Hyderabad': 2}, 'C de Grandhomme': {'Chennai Super Kings': 3, 'Mumbai Indians': 1, 'Rajasthan Royals': 1, 'Sunrisers Hyderabad': 3}, 'CA Ingram': {'Chennai Super Kings': 2, 'Kings XI Punjab': 2, 'Kolkata Knight Riders': 1, 'Mumbai Indians': 1, 'Rajasthan Royals': 1, 'Royal Challengers Bangalore': 2, 'Sunrisers Hyderabad': 1}, 'CA Lynn': {'Chennai Super Kings': 4, 'Delhi Capitals': 3, 'Kings XI Punjab': 4, 'Mumbai Indians': 4, 'Rajasthan Royals': 5, 'Royal Challengers Bangalore': 3, 'Sunrisers Hyderabad': 5}, 'CH Gayle': {'Chennai Super Kings': 4, 'Delhi Capitals': 1, 'Kolkata Knight Riders': 3, 'Mumbai Indians': 4, 'Rajasthan Royals': 4, 'Royal Challengers Bangalore': 2, 'Sunrisers Hyderabad': 3}, 'CH Morris': {'Chennai Super Kings': 1, 'Kings XI Punjab': 1, 'Kolkata Knight Riders': 1, 'Mumbai Indians': 1, 'Royal Challengers Bangalore': 1, 'Sunrisers Hyderabad': 2}, 'CJ Anderson': {'Chennai Super Kings': 1, 'Delhi Capitals': 1, 'Mumbai Indians': 1}, 'CR Brathwaite': {'Chennai Super Kings': 1, 'Delhi Capitals': 1, 'Kolkata Knight Riders': 2, 'Rajasthan Royals': 1}, 'CR Woakes': {'Kolkata Knight Riders': 1, 'Mumbai Indians': 1}, 'DA Miller': {'Chennai Super Kings': 2, 'Delhi Capitals': 3, 'Mumbai Indians': 1, 'Rajasthan Royals': 1, 'Royal Challengers Bangalore': 1, 'Sunrisers Hyderabad': 2}, 'DA Warner': {'Chennai Super Kings': 2, 'Delhi Capitals': 2, 'Kings XI Punjab': 1, 'Kolkata Knight Riders': 2, 'Mumbai Indians': 1, 'Rajasthan Royals': 2}, 'DJ Bravo': {'Delhi Capitals': 1, 'Mumbai Indians': 5, 'Rajasthan Royals': 1, 'Royal Challengers Bangalore': 1, 'Sunrisers Hyderabad': 1}, 'DJ Hooda': {'Chennai Super Kings': 3, 'Delhi Capitals': 3, 'Kings XI Punjab': 1, 'Kolkata Knight Riders': 1, 'Mumbai Indians': 1, 'Rajasthan Royals': 1}, 'DJM Short': {'Delhi Capitals': 2, 'Kings XI Punjab': 1, 'Kolkata Knight Riders': 1, 'Mumbai Indians': 1, 'Royal Challengers Bangalore': 1, 'Sunrisers Hyderabad': 1}, 'DL Chahar': {'Kings XI Punjab': 1, 'Mumbai Indians': 3, 'Sunrisers Hyderabad': 1}, 'DR Shorey': {'Mumbai Indians': 1, 'Royal Challengers Bangalore': 1}, 'DS Kulkarni': {'Kolkata Knight Riders': 1}, 'DT Christian': {'Kings XI Punjab': 2}, 'E Lewis': {'Chennai Super Kings': 3, 'Delhi Capitals': 2, 'Kings XI Punjab': 2, 'Kolkata Knight Riders': 3, 'Rajasthan Royals': 2, 'Royal Challengers Bangalore': 1, 'Sunrisers Hyderabad': 3}, 'F du Plessis': {'Delhi Capitals': 3, 'Kings XI Punjab': 3, 'Kolkata Knight Riders': 2, 'Mumbai Indians': 2, 'Rajasthan Royals': 1, 'Royal Challengers Bangalore': 1, 'Sunrisers Hyderabad': 4}, 'G Gambhir': {'Kings XI Punjab': 2, 'Kolkata Knight Riders': 1, 'Mumbai Indians': 1, 'Royal Challengers Bangalore': 1}, 'GC Viljoen': {'Delhi Capitals': 1, 'Royal Challengers Bangalore': 1}, 'GH Vihari': {'Kings XI Punjab': 1, 'Kolkata Knight Riders': 1}, 'GJ Maxwell': {'Chennai Super Kings': 2, 'Kings XI Punjab': 1, 'Kolkata Knight Riders': 2, 'Mumbai Indians': 2, 'Rajasthan Royals': 2, 'Royal Challengers Bangalore': 1, 'Sunrisers Hyderabad': 2}, 'Gurkeerat Singh': {'Delhi Capitals': 1, 'Rajasthan Royals': 1, 'Sunrisers Hyderabad': 1}, 'H Klaasen': {'Chennai Super Kings': 1, 'Delhi Capitals': 1, 'Mumbai Indians': 1, 'Rajasthan Royals': 1, 'Royal Challengers Bangalore': 1}, 'HH Pandya': {'Chennai Super Kings': 1, 'Delhi Capitals': 4, 'Kings XI Punjab': 4, 'Kolkata Knight Riders': 2, 'Rajasthan Royals': 3, 'Royal Challengers Bangalore': 1, 'Sunrisers Hyderabad': 3}, 'HV Patel': {'Kings XI Punjab': 1, 'Sunrisers Hyderabad': 1}, 'Harbhajan Singh': {'Kings XI Punjab': 1, 'Mumbai Indians': 2, 'Sunrisers Hyderabad': 1}, 'IS Sodhi': {'Delhi Capitals': 1, 'Kolkata Knight Riders': 1}, 'Ishan Kishan': {'Chennai Super Kings': 3, 'Delhi Capitals': 2, 'Kings XI Punjab': 3, 'Kolkata Knight Riders': 1, 'Rajasthan Royals': 3, 'Royal Challengers Bangalore': 3, 'Sunrisers Hyderabad': 3}, 'J Suchith': {'Chennai Super Kings': 1}, 'JC Archer': {'Kings XI Punjab': 4, 'Kolkata Knight Riders': 1, 'Mumbai Indians': 1, 'Royal Challengers Bangalore': 1}, 'JC Buttler': {'Chennai Super Kings': 3, 'Delhi Capitals': 2, 'Kings XI Punjab': 4, 'Kolkata Knight Riders': 2, 'Mumbai Indians': 2, 'Royal Challengers Bangalore': 2, 'Sunrisers Hyderabad': 3}, 'JD Unadkat': {'Chennai Super Kings': 1, 'Kings XI Punjab': 2, 'Kolkata Knight Riders': 1, 'Sunrisers Hyderabad': 1}, 'JJ Bumrah': {'Delhi Capitals': 1}, 'JJ Roy': {'Kolkata Knight Riders': 1, 'Royal Challengers Bangalore': 2, 'Sunrisers Hyderabad': 1}, 'JL Denly': {'Delhi Capitals': 1}, 'JM Bairstow': {'Chennai Super Kings': 1, 'Delhi Capitals': 2, 'Kings XI Punjab': 1, 'Kolkata Knight Riders': 1, 'Mumbai Indians': 1, 'Rajasthan Royals': 1, 'Royal Challengers Bangalore': 1}, 'JP Duminy': {'Royal Challengers Bangalore': 1}, 'JPR Scantlebury-Searles': {'Rajasthan Royals': 1}, 'K Gowtham': {'Chennai Super Kings': 3, 'Delhi Capitals': 1, 'Kings XI Punjab': 3, 'Kolkata Knight Riders': 2, 'Royal Challengers Bangalore': 1, 'Sunrisers Hyderabad': 2}, 'K Rabada': {'Kings XI Punjab': 1, 'Mumbai Indians': 1, 'Sunrisers Hyderabad': 1}, 'KA Pollard': {'Delhi Capitals': 3, 'Kings XI Punjab': 3, 'Kolkata Knight Riders': 1, 'Rajasthan Royals': 2, 'Royal Challengers Bangalore': 3, 'Sunrisers Hyderabad': 3}, 'KD Karthik': {'Chennai Super Kings': 3, 'Delhi Capitals': 4, 'Kings XI Punjab': 2, 'Mumbai Indians': 2, 'Rajasthan Royals': 1, 'Royal Challengers Bangalore': 2, 'Sunrisers Hyderabad': 4}, 'KH Pandya': {'Chennai Super Kings': 4, 'Delhi Capitals': 3, 'Kings XI Punjab': 3, 'Kolkata Knight Riders': 2, 'Rajasthan Royals': 2, 'Royal Challengers Bangalore': 4, 'Sunrisers Hyderabad': 3}, 'KK Ahmed': {'Delhi Capitals': 1}, 'KK Nair': {'Chennai Super Kings': 2, 'Delhi Capitals': 2, 'Kolkata Knight Riders': 1, 'Mumbai Indians': 2, 'Rajasthan Royals': 2, 'Royal Challengers Bangalore': 2, 'Sunrisers Hyderabad': 2}, 'KL Rahul': {'Chennai Super Kings': 4, 'Delhi Capitals': 4, 'Kolkata Knight Riders': 4, 'Mumbai Indians': 2, 'Rajasthan Royals': 2, 'Royal Challengers Bangalore': 4, 'Sunrisers Hyderabad': 3}, 'KM Jadhav': {'Delhi Capitals': 1, 'Kings XI Punjab': 1, 'Kolkata Knight Riders': 1, 'Mumbai Indians': 2, 'Rajasthan Royals': 2, 'Royal Challengers Bangalore': 1, 'Sunrisers Hyderabad': 1}, 'KMA Paul': {'Chennai Super Kings': 2, 'Mumbai Indians': 2, 'Sunrisers Hyderabad': 1}, 'KS Williamson': {'Chennai Super Kings': 5, 'Delhi Capitals': 2, 'Kings XI Punjab': 3, 'Kolkata Knight Riders': 3, 'Mumbai Indians': 3, 'Rajasthan Royals': 3, 'Royal Challengers Bangalore': 2}, 'Kuldeep Yadav': {'Chennai Super Kings': 2, 'Mumbai Indians': 1}, 'LE Plunkett': {'Kings XI Punjab': 1}, 'LS Livingstone': {'Delhi Capitals': 1, 'Mumbai Indians': 1, 'Sunrisers Hyderabad': 1}, 'M Ashwin': {'Chennai Super Kings': 1, 'Delhi Capitals': 1}, 'M Markande': {'Delhi Capitals': 1, 'Royal Challengers Bangalore': 1, 'Sunrisers Hyderabad': 1}, 'M Prasidh Krishna': {'Chennai Super Kings': 1}, 'M Vijay': {'Kings XI Punjab': 1, 'Mumbai Indians': 2}, 'M Vohra': {'Delhi Capitals': 1, 'Kolkata Knight Riders': 1, 'Mumbai Indians': 1, 'Sunrisers Hyderabad': 1}, 'MA Agarwal': {'Chennai Super Kings': 3, 'Delhi Capitals': 4, 'Kolkata Knight Riders': 3, 'Mumbai Indians': 2, 'Rajasthan Royals': 3, 'Royal Challengers Bangalore': 4, 'Sunrisers Hyderabad': 4}, 'MA Wood': {'Mumbai Indians': 1}, 'MJ Guptill': {'Delhi Capitals': 1, 'Mumbai Indians': 1, 'Royal Challengers Bangalore': 1}, 'MJ McClenaghan': {'Chennai Super Kings': 1, 'Delhi Capitals': 1, 'Rajasthan Royals': 1, 'Royal Challengers Bangalore': 1, 'Sunrisers Hyderabad': 1}, 'MJ Santner': {'Mumbai Indians': 1}, 'MK Lomror': {'Delhi Capitals': 1, 'Sunrisers Hyderabad': 1}, 'MK Pandey': {'Chennai Super Kings': 3, 'Delhi Capitals': 3, 'Kings XI Punjab': 3, 'Kolkata Knight Riders': 2, 'Mumbai Indians': 4, 'Rajasthan Royals': 3, 'Royal Challengers Bangalore': 2}, 'MK Tiwary': {'Chennai Super Kings': 1, 'Rajasthan Royals': 1, 'Sunrisers Hyderabad': 1}, 'MM Ali': {'Chennai Super Kings': 2, 'Delhi Capitals': 2, 'Kings XI Punjab': 1, 'Kolkata Knight Riders': 1, 'Mumbai Indians': 2, 'Rajasthan Royals': 1, 'Sunrisers Hyderabad': 3}, 'MM Sharma': {'Royal Challengers Bangalore': 1}, 'MP Stoinis': {'Chennai Super Kings': 1, 'Delhi Capitals': 1, 'Mumbai Indians': 2, 'Rajasthan Royals': 2, 'Royal Challengers Bangalore': 2}, 'MS Dhoni': {'Delhi Capitals': 2, 'Kolkata Knight Riders': 2, 'Mumbai Indians': 4, 'Rajasthan Royals': 2, 'Sunrisers Hyderabad': 1}, 'Mandeep Singh': {'Chennai Super Kings': 2, 'Delhi Capitals': 2, 'Kings XI Punjab': 1, 'Kolkata Knight Riders': 3, 'Mumbai Indians': 2, 'Rajasthan Royals': 2, 'Sunrisers Hyderabad': 2}, 'Mohammad Nabi': {'Delhi Capitals': 1, 'Kings XI Punjab': 3, 'Mumbai Indians': 4, 'Royal Challengers Bangalore': 1}, 'Mohammed Shami': {'Delhi Capitals': 1, 'Kolkata Knight Riders': 1}, 'Mohammed Siraj': {'Chennai Super Kings': 1, 'Delhi Capitals': 1, 'Rajasthan Royals': 1}, 'Mujeeb Ur Rahman': {'Royal Challengers Bangalore': 1, 'Sunrisers Hyderabad': 1}, 'Mustafizur Rahman': {'Sunrisers Hyderabad': 1}, 'N Pooran': {'Chennai Super Kings': 1, 'Kolkata Knight Riders': 1, 'Rajasthan Royals': 2, 'Royal Challengers Bangalore': 1, 'Sunrisers Hyderabad': 1}, 'N Rana': {'Chennai Super Kings': 3, 'Delhi Capitals': 4, 'Kings XI Punjab': 3, 'Mumbai Indians': 3, 'Rajasthan Royals': 3, 'Royal Challengers Bangalore': 3, 'Sunrisers Hyderabad': 5}, 'NS Naik': {'Delhi Capitals': 1}, 'NV Ojha': {'Sunrisers Hyderabad': 1}, 'Navdeep Saini': {'Chennai Super Kings': 1}, 'P Chopra': {'Chennai Super Kings': 1}, 'P Negi': {'Chennai Super Kings': 2, 'Delhi Capitals': 1, 'Mumbai Indians': 1, 'Rajasthan Royals': 2}, 'P Ray Barman': {'Sunrisers Hyderabad': 1}, 'P Simran Singh': {'Sunrisers Hyderabad': 1}, 'PA Patel': {'Chennai Super Kings': 3, 'Delhi Capitals': 3, 'Kings XI Punjab': 2, 'Kolkata Knight Riders': 2, 'Mumbai Indians': 2, 'Rajasthan Royals': 3, 'Sunrisers Hyderabad': 4}, 'PJ Sangwan': {'Sunrisers Hyderabad': 1}, 'PP Chawla': {'Chennai Super Kings': 1, 'Delhi Capitals': 3, 'Mumbai Indians': 1, 'Sunrisers Hyderabad': 2}, 'PP Shaw': {'Chennai Super Kings': 5, 'Kings XI Punjab': 3, 'Kolkata Knight Riders': 3, 'Mumbai Indians': 3, 'Rajasthan Royals': 3, 'Royal Challengers Bangalore': 3, 'Sunrisers Hyderabad': 5}, 'Q de Kock': {'Chennai Super Kings': 5, 'Delhi Capitals': 3, 'Kings XI Punjab': 3, 'Kolkata Knight Riders': 4, 'Mumbai Indians': 2, 'Rajasthan Royals': 3, 'Royal Challengers Bangalore': 2, 'Sunrisers Hyderabad': 1}, 'R Ashwin': {'Chennai Super Kings': 2, 'Delhi Capitals': 3, 'Kolkata Knight Riders': 2, 'Rajasthan Royals': 1, 'Royal Challengers Bangalore': 3, 'Sunrisers Hyderabad': 2}, 'R Parag': {'Chennai Super Kings': 1, 'Delhi Capitals': 2, 'Kolkata Knight Riders': 1, 'Mumbai Indians': 1}, 'R Tewatia': {'Kings XI Punjab': 2, 'Kolkata Knight Riders': 1, 'Sunrisers Hyderabad': 1}, 'RA Jadeja': {'Delhi Capitals': 1, 'Kings XI Punjab': 1, 'Kolkata Knight Riders': 1, 'Mumbai Indians': 2, 'Royal Challengers Bangalore': 2, 'Sunrisers Hyderabad': 1}, 'RA Tripathi': {'Chennai Super Kings': 3, 'Delhi Capitals': 1, 'Kings XI Punjab': 3, 'Kolkata Knight Riders': 4, 'Mumbai Indians': 2, 'Sunrisers Hyderabad': 2}, 'RD Chahar': {'Chennai Super Kings': 1, 'Sunrisers Hyderabad': 1}, 'RG Sharma': {'Chennai Super Kings': 5, 'Delhi Capitals': 4, 'Kings XI Punjab': 2, 'Kolkata Knight Riders': 3, 'Rajasthan Royals': 4, 'Royal Challengers Bangalore': 4, 'Sunrisers Hyderabad': 4}, 'RK Bhui': {'Chennai Super Kings': 1, 'Delhi Capitals': 1}, 'RK Singh': {'Chennai Super Kings': 2, 'Mumbai Indians': 2, 'Royal Challengers Bangalore': 1, 'Sunrisers Hyderabad': 1}, 'RR Pant': {'Chennai Super Kings': 5, 'Kings XI Punjab': 4, 'Kolkata Knight Riders': 4, 'Mumbai Indians': 3, 'Rajasthan Royals': 2, 'Royal Challengers Bangalore': 4, 'Sunrisers Hyderabad': 4}, 'RV Uthappa': {'Chennai Super Kings': 4, 'Delhi Capitals': 4, 'Kings XI Punjab': 3, 'Mumbai Indians': 3, 'Rajasthan Royals': 3, 'Royal Challengers Bangalore': 4, 'Sunrisers Hyderabad': 4}, 'Rashid Khan': {'Delhi Capitals': 2, 'Kings XI Punjab': 1, 'Kolkata Knight Riders': 1, 'Mumbai Indians': 3, 'Rajasthan Royals': 1, 'Royal Challengers Bangalore': 2}, 'S Dhawan': {'Chennai Super Kings': 6, 'Delhi Capitals': 1, 'Kings XI Punjab': 4, 'Kolkata Knight Riders': 4, 'Mumbai Indians': 4, 'Rajasthan Royals': 3, 'Royal Challengers Bangalore': 4, 'Sunrisers Hyderabad': 3}, 'S Dube': {'Chennai Super Kings': 1, 'Delhi Capitals': 1, 'Sunrisers Hyderabad': 1}, 'S Gopal': {'Chennai Super Kings': 1, 'Delhi Capitals': 1, 'Kings XI Punjab': 2, 'Kolkata Knight Riders': 2, 'Sunrisers Hyderabad': 1}, 'S Kaul': {'Mumbai Indians': 3, 'Royal Challengers Bangalore': 1}, 'S Lamichhane': {'Kings XI Punjab': 1}, 'SA Yadav': {'Chennai Super Kings': 4, 'Delhi Capitals': 4, 'Kings XI Punjab': 4, 'Kolkata Knight Riders': 3, 'Rajasthan Royals': 4, 'Royal Challengers Bangalore': 4, 'Sunrisers Hyderabad': 4}, 'SD Lad': {'Kings XI Punjab': 1}, 'SE Rutherford': {'Chennai Super Kings': 2, 'Rajasthan Royals': 2, 'Sunrisers Hyderabad': 1}, 'SK Raina': {'Delhi Capitals': 5, 'Kings XI Punjab': 2, 'Kolkata Knight Riders': 3, 'Mumbai Indians': 5, 'Rajasthan Royals': 4, 'Royal Challengers Bangalore': 4, 'Sunrisers Hyderabad': 5}, 'SM Curran': {'Delhi Capitals': 2, 'Mumbai Indians': 1, 'Royal Challengers Bangalore': 1}, 'SN Khan': {'Chennai Super Kings': 1, 'Delhi Capitals': 2, 'Kings XI Punjab': 1, 'Kolkata Knight Riders': 2, 'Mumbai Indians': 1, 'Rajasthan Royals': 1, 'Royal Challengers Bangalore': 1}, 'SN Thakur': {'Mumbai Indians': 1, 'Royal Challengers Bangalore': 1}, 'SO Hetmyer': {'Chennai Super Kings': 1, 'Mumbai Indians': 1, 'Rajasthan Royals': 1, 'Sunrisers Hyderabad': 2}, 'SP Goswami': {'Chennai Super Kings': 2, 'Kolkata Knight Riders': 1}, 'SP Narine': {'Chennai Super Kings': 4, 'Delhi Capitals': 2, 'Kings XI Punjab': 3, 'Mumbai Indians': 2, 'Rajasthan Royals': 5, 'Royal Challengers Bangalore': 4, 'Sunrisers Hyderabad': 4}, 'SPD Smith': {'Chennai Super Kings': 2, 'Delhi Capitals': 1, 'Kings XI Punjab': 1, 'Kolkata Knight Riders': 1, 'Mumbai Indians': 1, 'Royal Challengers Bangalore': 1, 'Sunrisers Hyderabad': 1}, 'SR Watson': {'Delhi Capitals': 5, 'Kings XI Punjab': 3, 'Kolkata Knight Riders': 4, 'Mumbai Indians': 6, 'Rajasthan Royals': 4, 'Royal Challengers Bangalore': 4, 'Sunrisers Hyderabad': 5}, 'SS Iyer': {'Chennai Super Kings': 5, 'Kings XI Punjab': 3, 'Kolkata Knight Riders': 4, 'Mumbai Indians': 3, 'Rajasthan Royals': 3, 'Royal Challengers Bangalore': 4, 'Sunrisers Hyderabad': 5}, 'STR Binny': {'Chennai Super Kings': 2, 'Delhi Capitals': 2, 'Kings XI Punjab': 1, 'Kolkata Knight Riders': 3}, 'SV Samson': {'Chennai Super Kings': 4, 'Delhi Capitals': 4, 'Kings XI Punjab': 4, 'Kolkata Knight Riders': 4, 'Mumbai Indians': 4, 'Royal Challengers Bangalore': 2, 'Sunrisers Hyderabad': 2}, 'SW Billings': {'Delhi Capitals': 1, 'Kings XI Punjab': 2, 'Kolkata Knight Riders': 1, 'Mumbai Indians': 1, 'Rajasthan Royals': 2, 'Royal Challengers Bangalore': 1, 'Sunrisers Hyderabad': 1}, 'Sandeep Sharma': {'Mumbai Indians': 1, 'Royal Challengers Bangalore': 1}, 'Shakib Al Hasan': {'Chennai Super Kings': 3, 'Kings XI Punjab': 1, 'Kolkata Knight Riders': 3, 'Mumbai Indians': 2, 'Rajasthan Royals': 2, 'Royal Challengers Bangalore': 1}, 'Shivam Mavi': {'Delhi Capitals': 1, 'Sunrisers Hyderabad': 2}, 'Shubman Gill': {'Chennai Super Kings': 2, 'Delhi Capitals': 4, 'Mumbai Indians': 3, 'Rajasthan Royals': 2, 'Royal Challengers Bangalore': 1, 'Sunrisers Hyderabad': 3}, 'TA Boult': {'Chennai Super Kings': 1, 'Kolkata Knight Riders': 1}, 'TG Southee': {'Mumbai Indians': 1, 'Rajasthan Royals': 1}, 'TK Curran': {'Delhi Capitals': 1, 'Kings XI Punjab': 1, 'Mumbai Indians': 1}, 'UT Yadav': {'Chennai Super Kings': 3, 'Mumbai Indians': 1, 'Rajasthan Royals': 1, 'Sunrisers Hyderabad': 1}, 'V Kohli': {'Chennai Super Kings': 4, 'Delhi Capitals': 4, 'Kings XI Punjab': 3, 'Kolkata Knight Riders': 3, 'Mumbai Indians': 3, 'Rajasthan Royals': 4, 'Sunrisers Hyderabad': 4}, 'V Shankar': {'Chennai Super Kings': 2, 'Delhi Capitals': 3, 'Kings XI Punjab': 2, 'Kolkata Knight Riders': 1, 'Mumbai Indians': 2, 'Rajasthan Royals': 4, 'Royal Challengers Bangalore': 2}, 'WP Saha': {'Delhi Capitals': 1, 'Kings XI Punjab': 3, 'Kolkata Knight Riders': 2, 'Mumbai Indians': 3, 'Rajasthan Royals': 2, 'Royal Challengers Bangalore': 2}, 'Washington Sundar': {'Delhi Capitals': 1, 'Mumbai Indians': 2, 'Rajasthan Royals': 1, 'Sunrisers Hyderabad': 1}, 'YK Pathan': {'Chennai Super Kings': 2, 'Kings XI Punjab': 1, 'Kolkata Knight Riders': 3, 'Mumbai Indians': 3, 'Rajasthan Royals': 1, 'Royal Challengers Bangalore': 2}, 'YS Chahal': {'Chennai Super Kings': 1, 'Sunrisers Hyderabad': 1}, 'Yuvraj Singh': {'Chennai Super Kings': 2, 'Delhi Capitals': 3, 'Kings XI Punjab': 1, 'Mumbai Indians': 2, 'Royal Challengers Bangalore': 2}}\n"
     ]
    }
   ],
   "source": [
    "print(outs_against_each_opponent)"
   ]
  },
  {
   "cell_type": "code",
   "execution_count": 9,
   "metadata": {},
   "outputs": [],
   "source": [
    "# Create a new dictionary to store the total runs and total outs for each batsman against each opponent\n",
    "totals = {}\n",
    "for batsman in batsman_runs:\n",
    "    for opponent in batsman_runs[batsman]:\n",
    "        if batsman in outs_against_each_opponent and opponent in outs_against_each_opponent[batsman]:\n",
    "            runs = batsman_runs[batsman][opponent]\n",
    "            outs = outs_against_each_opponent[batsman][opponent]\n",
    "            if batsman not in totals:\n",
    "                totals[batsman] = {}\n",
    "            if opponent not in totals[batsman]:\n",
    "                totals[batsman][opponent] = {'runs': 0, 'outs': 0}\n",
    "            totals[batsman][opponent]['runs'] += runs\n",
    "            totals[batsman][opponent]['outs'] += outs\n",
    "\n",
    "# Calculate the average runs for each batsman against each opponent\n",
    "averages = {}\n",
    "for batsman in totals:\n",
    "    averages[batsman] = {}\n",
    "    for opponent in totals[batsman]:\n",
    "        runs = totals[batsman][opponent]['runs']\n",
    "        outs = totals[batsman][opponent]['outs']\n",
    "        if outs >= 0:\n",
    "            averages[batsman][opponent] = runs / max(outs, 1)\n"
   ]
  },
  {
   "cell_type": "code",
   "execution_count": 10,
   "metadata": {},
   "outputs": [
    {
     "name": "stdout",
     "output_type": "stream",
     "text": [
      "{'A Mishra': {'Chennai Super Kings': 14.0, 'Sunrisers Hyderabad': 1.0}, 'AB de Villiers': {'Chennai Super Kings': 25.75, 'Delhi Capitals': 98.0, 'Kings XI Punjab': 198.0, 'Kolkata Knight Riders': 53.5, 'Mumbai Indians': 73.0, 'Rajasthan Royals': 24.0, 'Sunrisers Hyderabad': 19.0}, 'AD Hales': {'Chennai Super Kings': 2.0, 'Delhi Capitals': 29.5, 'Rajasthan Royals': 45.0, 'Royal Challengers Bangalore': 21.0}, 'AD Nath': {'Chennai Super Kings': 24.0, 'Delhi Capitals': 19.0, 'Kings XI Punjab': 3.0, 'Kolkata Knight Riders': 13.0, 'Mumbai Indians': 2.0, 'Rajasthan Royals': 9.0}, 'AD Russell': {'Chennai Super Kings': 148.0, 'Delhi Capitals': 39.2, 'Kings XI Punjab': 28.25, 'Mumbai Indians': 30.333333333333332, 'Rajasthan Royals': 74.0, 'Royal Challengers Bangalore': 42.666666666666664, 'Sunrisers Hyderabad': 20.0}, 'AJ Finch': {'Chennai Super Kings': 2.0, 'Delhi Capitals': 2.0, 'Kolkata Knight Riders': 34.0, 'Mumbai Indians': 46.0, 'Royal Challengers Bangalore': 13.0, 'Sunrisers Hyderabad': 22.0}, 'AJ Turner': {'Delhi Capitals': 0.0, 'Kings XI Punjab': 0.0, 'Mumbai Indians': 0.0}, 'AJ Tye': {'Chennai Super Kings': 3.0, 'Delhi Capitals': 3.0, 'Kolkata Knight Riders': 14.0, 'Royal Challengers Bangalore': 3.5, 'Sunrisers Hyderabad': 4.0}, 'AM Rahane': {'Chennai Super Kings': 8.5, 'Delhi Capitals': 76.0, 'Kings XI Punjab': 16.75, 'Kolkata Knight Riders': 26.4, 'Mumbai Indians': 25.0, 'Royal Challengers Bangalore': 30.333333333333332, 'Sunrisers Hyderabad': 62.333333333333336}, 'AR Patel': {'Chennai Super Kings': 11.666666666666666, 'Kings XI Punjab': 1.0, 'Kolkata Knight Riders': 19.0, 'Mumbai Indians': 17.666666666666668, 'Rajasthan Royals': 7.0, 'Royal Challengers Bangalore': 31.0, 'Sunrisers Hyderabad': 37.0}, 'AS Rajpoot': {'Chennai Super Kings': 2.0, 'Royal Challengers Bangalore': 1.0, 'Sunrisers Hyderabad': 8.0}, 'AT Rayudu': {'Delhi Capitals': 40.333333333333336, 'Kings XI Punjab': 24.0, 'Kolkata Knight Riders': 21.5, 'Mumbai Indians': 22.2, 'Rajasthan Royals': 20.5, 'Royal Challengers Bangalore': 42.75, 'Sunrisers Hyderabad': 80.33333333333333}, 'Abhishek Sharma': {'Chennai Super Kings': 2.0, 'Delhi Capitals': 2.0, 'Mumbai Indians': 17.0}, 'B Kumar': {'Chennai Super Kings': 7.0, 'Delhi Capitals': 2.0, 'Kolkata Knight Riders': 5.0, 'Mumbai Indians': 2.0, 'Rajasthan Royals': 1.0}, 'B Laughlin': {'Chennai Super Kings': 0.0}, 'BA Stokes': {'Chennai Super Kings': 32.5, 'Delhi Capitals': 8.333333333333334, 'Kings XI Punjab': 10.666666666666666, 'Kolkata Knight Riders': 14.333333333333334, 'Mumbai Indians': 20.0, 'Royal Challengers Bangalore': 28.0, 'Sunrisers Hyderabad': 10.5}, 'BB McCullum': {'Chennai Super Kings': 5.0, 'Kings XI Punjab': 0.0, 'Kolkata Knight Riders': 40.5, 'Mumbai Indians': 37.0, 'Rajasthan Royals': 4.0}, 'BB Sran': {'Sunrisers Hyderabad': 2.0}, 'BCJ Cutting': {'Delhi Capitals': 14.0, 'Kings XI Punjab': 4.0, 'Kolkata Knight Riders': 24.0, 'Sunrisers Hyderabad': 9.0}, 'Basil Thampi': {'Mumbai Indians': 3.0}, 'C Munro': {'Chennai Super Kings': 26.5, 'Kings XI Punjab': 4.0, 'Kolkata Knight Riders': 33.0, 'Mumbai Indians': 3.0, 'Rajasthan Royals': 0.0, 'Sunrisers Hyderabad': 27.0}, 'C de Grandhomme': {'Chennai Super Kings': 7.666666666666667, 'Mumbai Indians': 25.0, 'Rajasthan Royals': 2.0, 'Sunrisers Hyderabad': 37.666666666666664}, 'CA Ingram': {'Chennai Super Kings': 1.5, 'Kings XI Punjab': 28.5, 'Kolkata Knight Riders': 24.0, 'Mumbai Indians': 47.0, 'Rajasthan Royals': 15.0, 'Royal Challengers Bangalore': 16.5, 'Sunrisers Hyderabad': 5.0}, 'CA Lynn': {'Chennai Super Kings': 29.0, 'Delhi Capitals': 18.666666666666668, 'Kings XI Punjab': 39.25, 'Mumbai Indians': 33.25, 'Rajasthan Royals': 22.6, 'Royal Challengers Bangalore': 37.0, 'Sunrisers Hyderabad': 42.0}, 'CH Gayle': {'Chennai Super Kings': 24.0, 'Delhi Capitals': 69.0, 'Kolkata Knight Riders': 39.0, 'Mumbai Indians': 42.75, 'Rajasthan Royals': 29.5, 'Royal Challengers Bangalore': 70.0, 'Sunrisers Hyderabad': 49.0}, 'CH Morris': {'Chennai Super Kings': 0.0, 'Kings XI Punjab': 27.0, 'Kolkata Knight Riders': 2.0, 'Mumbai Indians': 11.0, 'Royal Challengers Bangalore': 0.0, 'Sunrisers Hyderabad': 10.5}, 'CJ Anderson': {'Chennai Super Kings': 2.0, 'Delhi Capitals': 15.0, 'Mumbai Indians': 0.0}, 'CR Brathwaite': {'Chennai Super Kings': 64.0, 'Delhi Capitals': 6.0, 'Kolkata Knight Riders': 5.5, 'Rajasthan Royals': 5.0}, 'CR Woakes': {'Kolkata Knight Riders': 5.0, 'Mumbai Indians': 11.0}, 'DA Miller': {'Chennai Super Kings': 15.0, 'Delhi Capitals': 33.333333333333336, 'Mumbai Indians': 22.0, 'Rajasthan Royals': 40.0, 'Royal Challengers Bangalore': 24.0, 'Sunrisers Hyderabad': 6.0}, 'DA Warner': {'Chennai Super Kings': 53.5, 'Delhi Capitals': 30.5, 'Kings XI Punjab': 151.0, 'Kolkata Knight Riders': 76.0, 'Mumbai Indians': 15.0, 'Rajasthan Royals': 53.0}, 'DJ Bravo': {'Delhi Capitals': 5.0, 'Mumbai Indians': 22.2, 'Rajasthan Royals': 52.0, 'Royal Challengers Bangalore': 33.0, 'Sunrisers Hyderabad': 7.0}, 'DJ Hooda': {'Chennai Super Kings': 12.666666666666666, 'Delhi Capitals': 5.666666666666667, 'Kings XI Punjab': 19.0, 'Kolkata Knight Riders': 24.0, 'Mumbai Indians': 52.0, 'Rajasthan Royals': 0.0}, 'DJM Short': {'Delhi Capitals': 25.0, 'Kings XI Punjab': 2.0, 'Kolkata Knight Riders': 44.0, 'Mumbai Indians': 4.0, 'Royal Challengers Bangalore': 11.0, 'Sunrisers Hyderabad': 4.0}, 'DL Chahar': {'Kings XI Punjab': 39.0, 'Mumbai Indians': 2.3333333333333335, 'Sunrisers Hyderabad': 10.0}, 'DR Shorey': {'Mumbai Indians': 5.0, 'Royal Challengers Bangalore': 8.0}, 'DS Kulkarni': {'Kolkata Knight Riders': 3.0}, 'DT Christian': {'Kings XI Punjab': 9.5}, 'E Lewis': {'Chennai Super Kings': 26.333333333333332, 'Delhi Capitals': 48.0, 'Kings XI Punjab': 9.5, 'Kolkata Knight Riders': 25.333333333333332, 'Rajasthan Royals': 30.0, 'Royal Challengers Bangalore': 65.0, 'Sunrisers Hyderabad': 11.666666666666666}, 'F du Plessis': {'Delhi Capitals': 40.666666666666664, 'Kings XI Punjab': 54.666666666666664, 'Kolkata Knight Riders': 47.0, 'Mumbai Indians': 16.0, 'Rajasthan Royals': 7.0, 'Royal Challengers Bangalore': 5.0, 'Sunrisers Hyderabad': 33.5}, 'G Gambhir': {'Kings XI Punjab': 29.5, 'Kolkata Knight Riders': 8.0, 'Mumbai Indians': 15.0, 'Royal Challengers Bangalore': 3.0}, 'GC Viljoen': {'Delhi Capitals': 3.0, 'Royal Challengers Bangalore': 0.0}, 'GH Vihari': {'Kings XI Punjab': 2.0, 'Kolkata Knight Riders': 2.0}, 'GJ Maxwell': {'Chennai Super Kings': 5.5, 'Kings XI Punjab': 12.0, 'Kolkata Knight Riders': 37.0, 'Mumbai Indians': 17.5, 'Rajasthan Royals': 11.0, 'Royal Challengers Bangalore': 4.0, 'Sunrisers Hyderabad': 5.5}, 'Gurkeerat Singh': {'Delhi Capitals': 27.0, 'Rajasthan Royals': 6.0, 'Sunrisers Hyderabad': 65.0}, 'H Klaasen': {'Chennai Super Kings': 7.0, 'Delhi Capitals': 3.0, 'Mumbai Indians': 0.0, 'Rajasthan Royals': 6.0, 'Royal Challengers Bangalore': 32.0}, 'HH Pandya': {'Chennai Super Kings': 112.0, 'Delhi Capitals': 15.25, 'Kings XI Punjab': 20.5, 'Kolkata Knight Riders': 72.5, 'Rajasthan Royals': 30.333333333333332, 'Royal Challengers Bangalore': 136.0, 'Sunrisers Hyderabad': 14.0}, 'HV Patel': {'Kings XI Punjab': 0.0, 'Sunrisers Hyderabad': 24.0}, 'Harbhajan Singh': {'Kings XI Punjab': 19.0, 'Mumbai Indians': 4.5, 'Sunrisers Hyderabad': 2.0}, 'IS Sodhi': {'Delhi Capitals': 6.0, 'Kolkata Knight Riders': 1.0}, 'Ishan Kishan': {'Chennai Super Kings': 30.333333333333332, 'Delhi Capitals': 24.5, 'Kings XI Punjab': 17.333333333333332, 'Kolkata Knight Riders': 62.0, 'Rajasthan Royals': 25.0, 'Royal Challengers Bangalore': 7.0, 'Sunrisers Hyderabad': 8.666666666666666}, 'J Suchith': {'Chennai Super Kings': 6.0}, 'JC Archer': {'Kings XI Punjab': 0.75, 'Kolkata Knight Riders': 33.0, 'Mumbai Indians': 8.0, 'Royal Challengers Bangalore': 0.0}, 'JC Buttler': {'Chennai Super Kings': 48.666666666666664, 'Delhi Capitals': 48.0, 'Kings XI Punjab': 56.25, 'Kolkata Knight Riders': 50.0, 'Mumbai Indians': 94.5, 'Royal Challengers Bangalore': 41.0, 'Sunrisers Hyderabad': 7.0}, 'JD Unadkat': {'Chennai Super Kings': 16.0, 'Kings XI Punjab': 3.5, 'Kolkata Knight Riders': 26.0, 'Sunrisers Hyderabad': 1.0}, 'JJ Bumrah': {'Delhi Capitals': 0.0}, 'JJ Roy': {'Kolkata Knight Riders': 1.0, 'Royal Challengers Bangalore': 8.5, 'Sunrisers Hyderabad': 11.0}, 'JL Denly': {'Delhi Capitals': 0.0}, 'JM Bairstow': {'Chennai Super Kings': 61.0, 'Delhi Capitals': 44.5, 'Kings XI Punjab': 1.0, 'Kolkata Knight Riders': 119.0, 'Mumbai Indians': 16.0, 'Rajasthan Royals': 45.0, 'Royal Challengers Bangalore': 114.0}, 'JP Duminy': {'Royal Challengers Bangalore': 23.0}, 'JPR Scantlebury-Searles': {'Rajasthan Royals': 2.0}, 'K Gowtham': {'Chennai Super Kings': 7.666666666666667, 'Delhi Capitals': 26.0, 'Kings XI Punjab': 5.333333333333333, 'Kolkata Knight Riders': 12.0, 'Royal Challengers Bangalore': 14.0, 'Sunrisers Hyderabad': 4.0}, 'K Rabada': {'Kings XI Punjab': 0.0, 'Mumbai Indians': 9.0, 'Sunrisers Hyderabad': 5.0}, 'KA Pollard': {'Delhi Capitals': 9.333333333333334, 'Kings XI Punjab': 46.666666666666664, 'Kolkata Knight Riders': 20.0, 'Rajasthan Royals': 18.5, 'Royal Challengers Bangalore': 7.666666666666667, 'Sunrisers Hyderabad': 31.666666666666668}, 'KD Karthik': {'Chennai Super Kings': 36.0, 'Delhi Capitals': 22.5, 'Kings XI Punjab': 57.5, 'Mumbai Indians': 29.5, 'Rajasthan Royals': 232.0, 'Royal Challengers Bangalore': 38.5, 'Sunrisers Hyderabad': 17.75}, 'KH Pandya': {'Chennai Super Kings': 22.75, 'Delhi Capitals': 28.0, 'Kings XI Punjab': 24.666666666666668, 'Kolkata Knight Riders': 23.0, 'Rajasthan Royals': 6.0, 'Royal Challengers Bangalore': 12.5, 'Sunrisers Hyderabad': 18.0}, 'KK Ahmed': {'Delhi Capitals': 0.0}, 'KK Nair': {'Chennai Super Kings': 41.5, 'Delhi Capitals': 42.0, 'Kolkata Knight Riders': 3.0, 'Mumbai Indians': 14.0, 'Rajasthan Royals': 17.0, 'Royal Challengers Bangalore': 15.0, 'Sunrisers Hyderabad': 22.0}, 'KL Rahul': {'Chennai Super Kings': 42.5, 'Delhi Capitals': 25.25, 'Kolkata Knight Riders': 32.25, 'Mumbai Indians': 144.5, 'Rajasthan Royals': 117.5, 'Royal Challengers Bangalore': 32.0, 'Sunrisers Hyderabad': 66.66666666666667}, 'KM Jadhav': {'Delhi Capitals': 27.0, 'Kings XI Punjab': 0.0, 'Kolkata Knight Riders': 28.0, 'Mumbai Indians': 44.0, 'Rajasthan Royals': 4.5, 'Royal Challengers Bangalore': 22.0, 'Sunrisers Hyderabad': 12.0}, 'KMA Paul': {'Chennai Super Kings': 1.5, 'Mumbai Indians': 1.5, 'Sunrisers Hyderabad': 12.0}, 'KS Williamson': {'Chennai Super Kings': 41.8, 'Delhi Capitals': 73.0, 'Kings XI Punjab': 22.666666666666668, 'Kolkata Knight Riders': 32.333333333333336, 'Mumbai Indians': 12.666666666666666, 'Rajasthan Royals': 42.0, 'Royal Challengers Bangalore': 103.5}, 'Kuldeep Yadav': {'Chennai Super Kings': 0.0, 'Mumbai Indians': 5.0}, 'LE Plunkett': {'Kings XI Punjab': 0.0}, 'LS Livingstone': {'Delhi Capitals': 14.0, 'Mumbai Indians': 1.0, 'Sunrisers Hyderabad': 44.0}, 'M Ashwin': {'Chennai Super Kings': 1.0, 'Delhi Capitals': 1.0}, 'M Markande': {'Delhi Capitals': 7.0, 'Royal Challengers Bangalore': 6.0, 'Sunrisers Hyderabad': 7.0}, 'M Prasidh Krishna': {'Chennai Super Kings': 0.0}, 'M Vijay': {'Kings XI Punjab': 12.0, 'Mumbai Indians': 32.0}, 'M Vohra': {'Delhi Capitals': 2.0, 'Kolkata Knight Riders': 0.0, 'Mumbai Indians': 45.0, 'Sunrisers Hyderabad': 8.0}, 'MA Agarwal': {'Chennai Super Kings': 12.333333333333334, 'Delhi Capitals': 9.0, 'Kolkata Knight Riders': 32.0, 'Mumbai Indians': 27.0, 'Rajasthan Royals': 16.666666666666668, 'Royal Challengers Bangalore': 16.75, 'Sunrisers Hyderabad': 28.0}, 'MA Wood': {'Mumbai Indians': 1.0}, 'MJ Guptill': {'Delhi Capitals': 36.0, 'Mumbai Indians': 16.0, 'Royal Challengers Bangalore': 30.0}, 'MJ McClenaghan': {'Chennai Super Kings': 0.0, 'Delhi Capitals': 10.0, 'Rajasthan Royals': 0.0, 'Royal Challengers Bangalore': 1.0, 'Sunrisers Hyderabad': 0.0}, 'MJ Santner': {'Mumbai Indians': 22.0}, 'MK Lomror': {'Delhi Capitals': 8.0, 'Sunrisers Hyderabad': 11.0}, 'MK Pandey': {'Chennai Super Kings': 32.0, 'Delhi Capitals': 20.333333333333332, 'Kings XI Punjab': 55.333333333333336, 'Kolkata Knight Riders': 18.5, 'Mumbai Indians': 28.75, 'Rajasthan Royals': 26.0, 'Royal Challengers Bangalore': 38.0}, 'MK Tiwary': {'Chennai Super Kings': 35.0, 'Rajasthan Royals': 7.0, 'Sunrisers Hyderabad': 1.0}, 'MM Ali': {'Chennai Super Kings': 17.5, 'Delhi Capitals': 16.5, 'Kings XI Punjab': 4.0, 'Kolkata Knight Riders': 66.0, 'Mumbai Indians': 31.5, 'Rajasthan Royals': 19.0, 'Sunrisers Hyderabad': 25.666666666666668}, 'MM Sharma': {'Royal Challengers Bangalore': 4.0}, 'MP Stoinis': {'Chennai Super Kings': 14.0, 'Delhi Capitals': 69.0, 'Mumbai Indians': 15.0, 'Rajasthan Royals': 32.5, 'Royal Challengers Bangalore': 6.5}, 'MS Dhoni': {'Delhi Capitals': 76.5, 'Kolkata Knight Riders': 42.0, 'Mumbai Indians': 20.5, 'Rajasthan Royals': 85.5, 'Sunrisers Hyderabad': 54.0}, 'Mandeep Singh': {'Chennai Super Kings': 25.5, 'Delhi Capitals': 44.5, 'Kings XI Punjab': 22.0, 'Kolkata Knight Riders': 38.0, 'Mumbai Indians': 18.5, 'Rajasthan Royals': 27.5, 'Sunrisers Hyderabad': 13.5}, 'Mohammad Nabi': {'Delhi Capitals': 37.0, 'Kings XI Punjab': 12.0, 'Mumbai Indians': 15.5, 'Royal Challengers Bangalore': 4.0}, 'Mohammed Shami': {'Delhi Capitals': 0.0, 'Kolkata Knight Riders': 7.0}, 'Mohammed Siraj': {'Chennai Super Kings': 3.0, 'Delhi Capitals': 1.0, 'Rajasthan Royals': 14.0}, 'Mujeeb Ur Rahman': {'Royal Challengers Bangalore': 0.0, 'Sunrisers Hyderabad': 10.0}, 'Mustafizur Rahman': {'Sunrisers Hyderabad': 1.0}, 'N Pooran': {'Chennai Super Kings': 36.0, 'Kolkata Knight Riders': 48.0, 'Rajasthan Royals': 8.5, 'Royal Challengers Bangalore': 46.0, 'Sunrisers Hyderabad': 21.0}, 'N Rana': {'Chennai Super Kings': 12.333333333333334, 'Delhi Capitals': 19.75, 'Kings XI Punjab': 25.666666666666668, 'Mumbai Indians': 26.0, 'Rajasthan Royals': 26.666666666666668, 'Royal Challengers Bangalore': 57.0, 'Sunrisers Hyderabad': 25.2}, 'NS Naik': {'Delhi Capitals': 7.0}, 'NV Ojha': {'Sunrisers Hyderabad': 1.0}, 'Navdeep Saini': {'Chennai Super Kings': 2.0}, 'P Chopra': {'Chennai Super Kings': 8.0}, 'P Negi': {'Chennai Super Kings': 2.5, 'Delhi Capitals': 0.0, 'Mumbai Indians': 0.0, 'Rajasthan Royals': 3.5}, 'P Ray Barman': {'Sunrisers Hyderabad': 19.0}, 'P Simran Singh': {'Sunrisers Hyderabad': 16.0}, 'PA Patel': {'Chennai Super Kings': 45.0, 'Delhi Capitals': 18.0, 'Kings XI Punjab': 51.0, 'Kolkata Knight Riders': 18.0, 'Mumbai Indians': 29.5, 'Rajasthan Royals': 36.0, 'Sunrisers Hyderabad': 8.0}, 'PJ Sangwan': {'Sunrisers Hyderabad': 0.0}, 'PP Chawla': {'Chennai Super Kings': 12.0, 'Delhi Capitals': 9.333333333333334, 'Mumbai Indians': 11.0, 'Sunrisers Hyderabad': 8.0}, 'PP Shaw': {'Chennai Super Kings': 11.8, 'Kings XI Punjab': 11.666666666666666, 'Kolkata Knight Riders': 58.333333333333336, 'Mumbai Indians': 13.0, 'Rajasthan Royals': 32.333333333333336, 'Royal Challengers Bangalore': 16.0, 'Sunrisers Hyderabad': 29.0}, 'Q de Kock': {'Chennai Super Kings': 21.8, 'Delhi Capitals': 26.666666666666668, 'Kings XI Punjab': 43.0, 'Kolkata Knight Riders': 15.75, 'Mumbai Indians': 13.0, 'Rajasthan Royals': 57.333333333333336, 'Royal Challengers Bangalore': 31.5, 'Sunrisers Hyderabad': 88.0}, 'R Ashwin': {'Chennai Super Kings': 7.0, 'Delhi Capitals': 8.333333333333334, 'Kolkata Knight Riders': 22.5, 'Rajasthan Royals': 17.0, 'Royal Challengers Bangalore': 13.0, 'Sunrisers Hyderabad': 2.0}, 'R Parag': {'Chennai Super Kings': 16.0, 'Delhi Capitals': 27.0, 'Kolkata Knight Riders': 47.0, 'Mumbai Indians': 43.0}, 'R Tewatia': {'Kings XI Punjab': 16.5, 'Kolkata Knight Riders': 1.0, 'Sunrisers Hyderabad': 5.0}, 'RA Jadeja': {'Delhi Capitals': 52.0, 'Kings XI Punjab': 19.0, 'Kolkata Knight Riders': 54.0, 'Mumbai Indians': 9.0, 'Royal Challengers Bangalore': 10.0, 'Sunrisers Hyderabad': 13.0}, 'RA Tripathi': {'Chennai Super Kings': 18.0, 'Delhi Capitals': 24.0, 'Kings XI Punjab': 20.666666666666668, 'Kolkata Knight Riders': 17.0, 'Mumbai Indians': 5.0, 'Sunrisers Hyderabad': 10.5}, 'RD Chahar': {'Chennai Super Kings': 0.0, 'Sunrisers Hyderabad': 10.0}, 'RG Sharma': {'Chennai Super Kings': 34.0, 'Delhi Capitals': 18.75, 'Kings XI Punjab': 31.0, 'Kolkata Knight Riders': 38.0, 'Rajasthan Royals': 13.0, 'Royal Challengers Bangalore': 42.5, 'Sunrisers Hyderabad': 12.0}, 'RK Bhui': {'Chennai Super Kings': 0.0, 'Delhi Capitals': 7.0}, 'RK Singh': {'Chennai Super Kings': 9.0, 'Mumbai Indians': 4.5, 'Royal Challengers Bangalore': 6.0, 'Sunrisers Hyderabad': 30.0}, 'RR Pant': {'Chennai Super Kings': 37.0, 'Kings XI Punjab': 19.25, 'Kolkata Knight Riders': 26.5, 'Mumbai Indians': 65.33333333333333, 'Rajasthan Royals': 110.0, 'Royal Challengers Bangalore': 42.75, 'Sunrisers Hyderabad': 55.75}, 'RV Uthappa': {'Chennai Super Kings': 11.5, 'Delhi Capitals': 19.25, 'Kings XI Punjab': 49.0, 'Mumbai Indians': 36.0, 'Rajasthan Royals': 27.0, 'Royal Challengers Bangalore': 22.75, 'Sunrisers Hyderabad': 21.25}, 'Rashid Khan': {'Delhi Capitals': 0.0, 'Kings XI Punjab': 1.0, 'Kolkata Knight Riders': 34.0, 'Mumbai Indians': 2.0, 'Rajasthan Royals': 33.0, 'Royal Challengers Bangalore': 1.0}, 'S Dhawan': {'Chennai Super Kings': 32.166666666666664, 'Delhi Capitals': 125.0, 'Kings XI Punjab': 24.25, 'Kolkata Knight Riders': 51.0, 'Mumbai Indians': 32.0, 'Rajasthan Royals': 51.333333333333336, 'Royal Challengers Bangalore': 20.25, 'Sunrisers Hyderabad': 12.0}, 'S Dube': {'Chennai Super Kings': 2.0, 'Delhi Capitals': 24.0, 'Sunrisers Hyderabad': 5.0}, 'S Gopal': {'Chennai Super Kings': 27.0, 'Delhi Capitals': 12.0, 'Kings XI Punjab': 12.5, 'Kolkata Knight Riders': 9.0, 'Sunrisers Hyderabad': 18.0}, 'S Kaul': {'Mumbai Indians': 0.6666666666666666, 'Royal Challengers Bangalore': 1.0}, 'S Lamichhane': {'Kings XI Punjab': 0.0}, 'SA Yadav': {'Chennai Super Kings': 58.0, 'Delhi Capitals': 23.25, 'Kings XI Punjab': 29.0, 'Kolkata Knight Riders': 55.666666666666664, 'Rajasthan Royals': 40.0, 'Royal Challengers Bangalore': 19.0, 'Sunrisers Hyderabad': 23.0}, 'SD Lad': {'Kings XI Punjab': 15.0}, 'SE Rutherford': {'Chennai Super Kings': 6.0, 'Rajasthan Royals': 11.0, 'Sunrisers Hyderabad': 9.0}, 'SK Raina': {'Delhi Capitals': 23.2, 'Kings XI Punjab': 65.5, 'Kolkata Knight Riders': 39.0, 'Mumbai Indians': 22.0, 'Rajasthan Royals': 34.5, 'Royal Challengers Bangalore': 13.75, 'Sunrisers Hyderabad': 32.2}, 'SM Curran': {'Delhi Capitals': 10.0, 'Mumbai Indians': 8.0, 'Royal Challengers Bangalore': 1.0}, 'SN Khan': {'Chennai Super Kings': 67.0, 'Delhi Capitals': 25.0, 'Kings XI Punjab': 0.0, 'Kolkata Knight Riders': 9.5, 'Mumbai Indians': 5.0, 'Rajasthan Royals': 53.0, 'Royal Challengers Bangalore': 15.0}, 'SN Thakur': {'Mumbai Indians': 14.0}, 'SO Hetmyer': {'Chennai Super Kings': 0.0, 'Mumbai Indians': 5.0, 'Rajasthan Royals': 1.0, 'Sunrisers Hyderabad': 42.0}, 'SP Goswami': {'Chennai Super Kings': 8.5, 'Kolkata Knight Riders': 35.0}, 'SP Narine': {'Chennai Super Kings': 13.0, 'Delhi Capitals': 13.5, 'Kings XI Punjab': 33.333333333333336, 'Mumbai Indians': 4.5, 'Rajasthan Royals': 23.6, 'Royal Challengers Bangalore': 26.25, 'Sunrisers Hyderabad': 22.25}, 'SPD Smith': {'Chennai Super Kings': 21.5, 'Delhi Capitals': 50.0, 'Kings XI Punjab': 20.0, 'Kolkata Knight Riders': 75.0, 'Mumbai Indians': 71.0, 'Royal Challengers Bangalore': 38.0, 'Sunrisers Hyderabad': 22.0}, 'SR Watson': {'Delhi Capitals': 37.2, 'Kings XI Punjab': 14.666666666666666, 'Kolkata Knight Riders': 25.25, 'Mumbai Indians': 21.833333333333332, 'Rajasthan Royals': 39.5, 'Royal Challengers Bangalore': 5.75, 'Sunrisers Hyderabad': 62.0}, 'SS Iyer': {'Chennai Super Kings': 21.4, 'Kings XI Punjab': 51.333333333333336, 'Kolkata Knight Riders': 37.5, 'Mumbai Indians': 17.333333333333332, 'Rajasthan Royals': 23.0, 'Royal Challengers Bangalore': 50.75, 'Sunrisers Hyderabad': 28.6}, 'STR Binny': {'Chennai Super Kings': 16.0, 'Delhi Capitals': 9.5, 'Kings XI Punjab': 44.0, 'Kolkata Knight Riders': 4.0}, 'SV Samson': {'Chennai Super Kings': 9.25, 'Delhi Capitals': 11.25, 'Kings XI Punjab': 26.75, 'Kolkata Knight Riders': 22.75, 'Mumbai Indians': 36.0, 'Royal Challengers Bangalore': 60.0, 'Sunrisers Hyderabad': 119.5}, 'SW Billings': {'Delhi Capitals': 1.0, 'Kings XI Punjab': 4.5, 'Kolkata Knight Riders': 56.0, 'Mumbai Indians': 3.0, 'Rajasthan Royals': 15.0, 'Royal Challengers Bangalore': 9.0, 'Sunrisers Hyderabad': 0.0}, 'Sandeep Sharma': {'Mumbai Indians': 5.0, 'Royal Challengers Bangalore': 0.0}, 'Shakib Al Hasan': {'Chennai Super Kings': 22.333333333333332, 'Kings XI Punjab': 52.0, 'Kolkata Knight Riders': 21.666666666666668, 'Mumbai Indians': 7.0, 'Rajasthan Royals': 7.5, 'Royal Challengers Bangalore': 35.0}, 'Shivam Mavi': {'Delhi Capitals': 0.0, 'Sunrisers Hyderabad': 6.5}, 'Shubman Gill': {'Chennai Super Kings': 40.5, 'Delhi Capitals': 28.0, 'Mumbai Indians': 30.666666666666668, 'Rajasthan Royals': 24.0, 'Royal Challengers Bangalore': 17.0, 'Sunrisers Hyderabad': 18.0}, 'TA Boult': {'Chennai Super Kings': 7.0, 'Kolkata Knight Riders': 0.0}, 'TG Southee': {'Mumbai Indians': 1.0, 'Rajasthan Royals': 14.0}, 'TK Curran': {'Delhi Capitals': 2.0, 'Kings XI Punjab': 1.0, 'Mumbai Indians': 18.0}, 'UT Yadav': {'Chennai Super Kings': 1.0, 'Mumbai Indians': 2.0, 'Rajasthan Royals': 0.0, 'Sunrisers Hyderabad': 23.0}, 'V Kohli': {'Chennai Super Kings': 10.25, 'Delhi Capitals': 41.0, 'Kings XI Punjab': 49.666666666666664, 'Kolkata Knight Riders': 94.33333333333333, 'Mumbai Indians': 59.333333333333336, 'Rajasthan Royals': 27.25, 'Sunrisers Hyderabad': 17.5}, 'V Shankar': {'Chennai Super Kings': 61.5, 'Delhi Capitals': 14.0, 'Kings XI Punjab': 23.0, 'Kolkata Knight Riders': 42.0, 'Mumbai Indians': 30.0, 'Rajasthan Royals': 15.75, 'Royal Challengers Bangalore': 28.5}, 'WP Saha': {'Delhi Capitals': 8.0, 'Kings XI Punjab': 13.333333333333334, 'Kolkata Knight Riders': 29.5, 'Mumbai Indians': 15.666666666666666, 'Rajasthan Royals': 10.5, 'Royal Challengers Bangalore': 14.0}, 'Washington Sundar': {'Delhi Capitals': 1.0, 'Mumbai Indians': 4.0, 'Rajasthan Royals': 35.0, 'Sunrisers Hyderabad': 0.0}, 'YK Pathan': {'Chennai Super Kings': 59.5, 'Kings XI Punjab': 40.0, 'Kolkata Knight Riders': 7.666666666666667, 'Mumbai Indians': 14.333333333333334, 'Rajasthan Royals': 18.0, 'Royal Challengers Bangalore': 10.5}, 'YS Chahal': {'Chennai Super Kings': 4.0, 'Sunrisers Hyderabad': 1.0}, 'Yuvraj Singh': {'Chennai Super Kings': 12.0, 'Delhi Capitals': 26.333333333333332, 'Kings XI Punjab': 18.0, 'Mumbai Indians': 7.5, 'Royal Challengers Bangalore': 13.5}}\n"
     ]
    }
   ],
   "source": [
    "print(averages)"
   ]
  },
  {
   "cell_type": "code",
   "execution_count": 12,
   "metadata": {},
   "outputs": [
    {
     "data": {
      "application/vnd.plotly.v1+json": {
       "config": {
        "plotlyServerURL": "https://plot.ly"
       },
       "data": [
        {
         "alignmentgroup": "True",
         "hovertemplate": "Opponent=%{x}<br>Average=%{y}<extra></extra>",
         "legendgroup": "Kolkata Knight Riders",
         "marker": {
          "color": "#636efa",
          "pattern": {
           "shape": ""
          }
         },
         "name": "Kolkata Knight Riders",
         "offsetgroup": "Kolkata Knight Riders",
         "orientation": "v",
         "showlegend": true,
         "textposition": "auto",
         "type": "bar",
         "x": [
          "Kolkata Knight Riders"
         ],
         "xaxis": "x",
         "y": [
          53.5
         ],
         "yaxis": "y"
        },
        {
         "alignmentgroup": "True",
         "hovertemplate": "Opponent=%{x}<br>Average=%{y}<extra></extra>",
         "legendgroup": "Kings XI Punjab",
         "marker": {
          "color": "#EF553B",
          "pattern": {
           "shape": ""
          }
         },
         "name": "Kings XI Punjab",
         "offsetgroup": "Kings XI Punjab",
         "orientation": "v",
         "showlegend": true,
         "textposition": "auto",
         "type": "bar",
         "x": [
          "Kings XI Punjab"
         ],
         "xaxis": "x",
         "y": [
          198
         ],
         "yaxis": "y"
        },
        {
         "alignmentgroup": "True",
         "hovertemplate": "Opponent=%{x}<br>Average=%{y}<extra></extra>",
         "legendgroup": "Chennai Super Kings",
         "marker": {
          "color": "#00cc96",
          "pattern": {
           "shape": ""
          }
         },
         "name": "Chennai Super Kings",
         "offsetgroup": "Chennai Super Kings",
         "orientation": "v",
         "showlegend": true,
         "textposition": "auto",
         "type": "bar",
         "x": [
          "Chennai Super Kings"
         ],
         "xaxis": "x",
         "y": [
          25.75
         ],
         "yaxis": "y"
        },
        {
         "alignmentgroup": "True",
         "hovertemplate": "Opponent=%{x}<br>Average=%{y}<extra></extra>",
         "legendgroup": "Mumbai Indians",
         "marker": {
          "color": "#ab63fa",
          "pattern": {
           "shape": ""
          }
         },
         "name": "Mumbai Indians",
         "offsetgroup": "Mumbai Indians",
         "orientation": "v",
         "showlegend": true,
         "textposition": "auto",
         "type": "bar",
         "x": [
          "Mumbai Indians"
         ],
         "xaxis": "x",
         "y": [
          73
         ],
         "yaxis": "y"
        },
        {
         "alignmentgroup": "True",
         "hovertemplate": "Opponent=%{x}<br>Average=%{y}<extra></extra>",
         "legendgroup": "Delhi Capitals",
         "marker": {
          "color": "#FFA15A",
          "pattern": {
           "shape": ""
          }
         },
         "name": "Delhi Capitals",
         "offsetgroup": "Delhi Capitals",
         "orientation": "v",
         "showlegend": true,
         "textposition": "auto",
         "type": "bar",
         "x": [
          "Delhi Capitals"
         ],
         "xaxis": "x",
         "y": [
          98
         ],
         "yaxis": "y"
        },
        {
         "alignmentgroup": "True",
         "hovertemplate": "Opponent=%{x}<br>Average=%{y}<extra></extra>",
         "legendgroup": "Rajasthan Royals",
         "marker": {
          "color": "#19d3f3",
          "pattern": {
           "shape": ""
          }
         },
         "name": "Rajasthan Royals",
         "offsetgroup": "Rajasthan Royals",
         "orientation": "v",
         "showlegend": true,
         "textposition": "auto",
         "type": "bar",
         "x": [
          "Rajasthan Royals"
         ],
         "xaxis": "x",
         "y": [
          24
         ],
         "yaxis": "y"
        },
        {
         "alignmentgroup": "True",
         "hovertemplate": "Opponent=%{x}<br>Average=%{y}<extra></extra>",
         "legendgroup": "Sunrisers Hyderabad",
         "marker": {
          "color": "#FF6692",
          "pattern": {
           "shape": ""
          }
         },
         "name": "Sunrisers Hyderabad",
         "offsetgroup": "Sunrisers Hyderabad",
         "orientation": "v",
         "showlegend": true,
         "textposition": "auto",
         "type": "bar",
         "x": [
          "Sunrisers Hyderabad"
         ],
         "xaxis": "x",
         "y": [
          19
         ],
         "yaxis": "y"
        }
       ],
       "layout": {
        "barmode": "relative",
        "legend": {
         "title": {
          "text": "Opponent"
         },
         "tracegroupgap": 0
        },
        "template": {
         "data": {
          "bar": [
           {
            "error_x": {
             "color": "#2a3f5f"
            },
            "error_y": {
             "color": "#2a3f5f"
            },
            "marker": {
             "line": {
              "color": "#E5ECF6",
              "width": 0.5
             },
             "pattern": {
              "fillmode": "overlay",
              "size": 10,
              "solidity": 0.2
             }
            },
            "type": "bar"
           }
          ],
          "barpolar": [
           {
            "marker": {
             "line": {
              "color": "#E5ECF6",
              "width": 0.5
             },
             "pattern": {
              "fillmode": "overlay",
              "size": 10,
              "solidity": 0.2
             }
            },
            "type": "barpolar"
           }
          ],
          "carpet": [
           {
            "aaxis": {
             "endlinecolor": "#2a3f5f",
             "gridcolor": "white",
             "linecolor": "white",
             "minorgridcolor": "white",
             "startlinecolor": "#2a3f5f"
            },
            "baxis": {
             "endlinecolor": "#2a3f5f",
             "gridcolor": "white",
             "linecolor": "white",
             "minorgridcolor": "white",
             "startlinecolor": "#2a3f5f"
            },
            "type": "carpet"
           }
          ],
          "choropleth": [
           {
            "colorbar": {
             "outlinewidth": 0,
             "ticks": ""
            },
            "type": "choropleth"
           }
          ],
          "contour": [
           {
            "colorbar": {
             "outlinewidth": 0,
             "ticks": ""
            },
            "colorscale": [
             [
              0,
              "#0d0887"
             ],
             [
              0.1111111111111111,
              "#46039f"
             ],
             [
              0.2222222222222222,
              "#7201a8"
             ],
             [
              0.3333333333333333,
              "#9c179e"
             ],
             [
              0.4444444444444444,
              "#bd3786"
             ],
             [
              0.5555555555555556,
              "#d8576b"
             ],
             [
              0.6666666666666666,
              "#ed7953"
             ],
             [
              0.7777777777777778,
              "#fb9f3a"
             ],
             [
              0.8888888888888888,
              "#fdca26"
             ],
             [
              1,
              "#f0f921"
             ]
            ],
            "type": "contour"
           }
          ],
          "contourcarpet": [
           {
            "colorbar": {
             "outlinewidth": 0,
             "ticks": ""
            },
            "type": "contourcarpet"
           }
          ],
          "heatmap": [
           {
            "colorbar": {
             "outlinewidth": 0,
             "ticks": ""
            },
            "colorscale": [
             [
              0,
              "#0d0887"
             ],
             [
              0.1111111111111111,
              "#46039f"
             ],
             [
              0.2222222222222222,
              "#7201a8"
             ],
             [
              0.3333333333333333,
              "#9c179e"
             ],
             [
              0.4444444444444444,
              "#bd3786"
             ],
             [
              0.5555555555555556,
              "#d8576b"
             ],
             [
              0.6666666666666666,
              "#ed7953"
             ],
             [
              0.7777777777777778,
              "#fb9f3a"
             ],
             [
              0.8888888888888888,
              "#fdca26"
             ],
             [
              1,
              "#f0f921"
             ]
            ],
            "type": "heatmap"
           }
          ],
          "heatmapgl": [
           {
            "colorbar": {
             "outlinewidth": 0,
             "ticks": ""
            },
            "colorscale": [
             [
              0,
              "#0d0887"
             ],
             [
              0.1111111111111111,
              "#46039f"
             ],
             [
              0.2222222222222222,
              "#7201a8"
             ],
             [
              0.3333333333333333,
              "#9c179e"
             ],
             [
              0.4444444444444444,
              "#bd3786"
             ],
             [
              0.5555555555555556,
              "#d8576b"
             ],
             [
              0.6666666666666666,
              "#ed7953"
             ],
             [
              0.7777777777777778,
              "#fb9f3a"
             ],
             [
              0.8888888888888888,
              "#fdca26"
             ],
             [
              1,
              "#f0f921"
             ]
            ],
            "type": "heatmapgl"
           }
          ],
          "histogram": [
           {
            "marker": {
             "pattern": {
              "fillmode": "overlay",
              "size": 10,
              "solidity": 0.2
             }
            },
            "type": "histogram"
           }
          ],
          "histogram2d": [
           {
            "colorbar": {
             "outlinewidth": 0,
             "ticks": ""
            },
            "colorscale": [
             [
              0,
              "#0d0887"
             ],
             [
              0.1111111111111111,
              "#46039f"
             ],
             [
              0.2222222222222222,
              "#7201a8"
             ],
             [
              0.3333333333333333,
              "#9c179e"
             ],
             [
              0.4444444444444444,
              "#bd3786"
             ],
             [
              0.5555555555555556,
              "#d8576b"
             ],
             [
              0.6666666666666666,
              "#ed7953"
             ],
             [
              0.7777777777777778,
              "#fb9f3a"
             ],
             [
              0.8888888888888888,
              "#fdca26"
             ],
             [
              1,
              "#f0f921"
             ]
            ],
            "type": "histogram2d"
           }
          ],
          "histogram2dcontour": [
           {
            "colorbar": {
             "outlinewidth": 0,
             "ticks": ""
            },
            "colorscale": [
             [
              0,
              "#0d0887"
             ],
             [
              0.1111111111111111,
              "#46039f"
             ],
             [
              0.2222222222222222,
              "#7201a8"
             ],
             [
              0.3333333333333333,
              "#9c179e"
             ],
             [
              0.4444444444444444,
              "#bd3786"
             ],
             [
              0.5555555555555556,
              "#d8576b"
             ],
             [
              0.6666666666666666,
              "#ed7953"
             ],
             [
              0.7777777777777778,
              "#fb9f3a"
             ],
             [
              0.8888888888888888,
              "#fdca26"
             ],
             [
              1,
              "#f0f921"
             ]
            ],
            "type": "histogram2dcontour"
           }
          ],
          "mesh3d": [
           {
            "colorbar": {
             "outlinewidth": 0,
             "ticks": ""
            },
            "type": "mesh3d"
           }
          ],
          "parcoords": [
           {
            "line": {
             "colorbar": {
              "outlinewidth": 0,
              "ticks": ""
             }
            },
            "type": "parcoords"
           }
          ],
          "pie": [
           {
            "automargin": true,
            "type": "pie"
           }
          ],
          "scatter": [
           {
            "fillpattern": {
             "fillmode": "overlay",
             "size": 10,
             "solidity": 0.2
            },
            "type": "scatter"
           }
          ],
          "scatter3d": [
           {
            "line": {
             "colorbar": {
              "outlinewidth": 0,
              "ticks": ""
             }
            },
            "marker": {
             "colorbar": {
              "outlinewidth": 0,
              "ticks": ""
             }
            },
            "type": "scatter3d"
           }
          ],
          "scattercarpet": [
           {
            "marker": {
             "colorbar": {
              "outlinewidth": 0,
              "ticks": ""
             }
            },
            "type": "scattercarpet"
           }
          ],
          "scattergeo": [
           {
            "marker": {
             "colorbar": {
              "outlinewidth": 0,
              "ticks": ""
             }
            },
            "type": "scattergeo"
           }
          ],
          "scattergl": [
           {
            "marker": {
             "colorbar": {
              "outlinewidth": 0,
              "ticks": ""
             }
            },
            "type": "scattergl"
           }
          ],
          "scattermapbox": [
           {
            "marker": {
             "colorbar": {
              "outlinewidth": 0,
              "ticks": ""
             }
            },
            "type": "scattermapbox"
           }
          ],
          "scatterpolar": [
           {
            "marker": {
             "colorbar": {
              "outlinewidth": 0,
              "ticks": ""
             }
            },
            "type": "scatterpolar"
           }
          ],
          "scatterpolargl": [
           {
            "marker": {
             "colorbar": {
              "outlinewidth": 0,
              "ticks": ""
             }
            },
            "type": "scatterpolargl"
           }
          ],
          "scatterternary": [
           {
            "marker": {
             "colorbar": {
              "outlinewidth": 0,
              "ticks": ""
             }
            },
            "type": "scatterternary"
           }
          ],
          "surface": [
           {
            "colorbar": {
             "outlinewidth": 0,
             "ticks": ""
            },
            "colorscale": [
             [
              0,
              "#0d0887"
             ],
             [
              0.1111111111111111,
              "#46039f"
             ],
             [
              0.2222222222222222,
              "#7201a8"
             ],
             [
              0.3333333333333333,
              "#9c179e"
             ],
             [
              0.4444444444444444,
              "#bd3786"
             ],
             [
              0.5555555555555556,
              "#d8576b"
             ],
             [
              0.6666666666666666,
              "#ed7953"
             ],
             [
              0.7777777777777778,
              "#fb9f3a"
             ],
             [
              0.8888888888888888,
              "#fdca26"
             ],
             [
              1,
              "#f0f921"
             ]
            ],
            "type": "surface"
           }
          ],
          "table": [
           {
            "cells": {
             "fill": {
              "color": "#EBF0F8"
             },
             "line": {
              "color": "white"
             }
            },
            "header": {
             "fill": {
              "color": "#C8D4E3"
             },
             "line": {
              "color": "white"
             }
            },
            "type": "table"
           }
          ]
         },
         "layout": {
          "annotationdefaults": {
           "arrowcolor": "#2a3f5f",
           "arrowhead": 0,
           "arrowwidth": 1
          },
          "autotypenumbers": "strict",
          "coloraxis": {
           "colorbar": {
            "outlinewidth": 0,
            "ticks": ""
           }
          },
          "colorscale": {
           "diverging": [
            [
             0,
             "#8e0152"
            ],
            [
             0.1,
             "#c51b7d"
            ],
            [
             0.2,
             "#de77ae"
            ],
            [
             0.3,
             "#f1b6da"
            ],
            [
             0.4,
             "#fde0ef"
            ],
            [
             0.5,
             "#f7f7f7"
            ],
            [
             0.6,
             "#e6f5d0"
            ],
            [
             0.7,
             "#b8e186"
            ],
            [
             0.8,
             "#7fbc41"
            ],
            [
             0.9,
             "#4d9221"
            ],
            [
             1,
             "#276419"
            ]
           ],
           "sequential": [
            [
             0,
             "#0d0887"
            ],
            [
             0.1111111111111111,
             "#46039f"
            ],
            [
             0.2222222222222222,
             "#7201a8"
            ],
            [
             0.3333333333333333,
             "#9c179e"
            ],
            [
             0.4444444444444444,
             "#bd3786"
            ],
            [
             0.5555555555555556,
             "#d8576b"
            ],
            [
             0.6666666666666666,
             "#ed7953"
            ],
            [
             0.7777777777777778,
             "#fb9f3a"
            ],
            [
             0.8888888888888888,
             "#fdca26"
            ],
            [
             1,
             "#f0f921"
            ]
           ],
           "sequentialminus": [
            [
             0,
             "#0d0887"
            ],
            [
             0.1111111111111111,
             "#46039f"
            ],
            [
             0.2222222222222222,
             "#7201a8"
            ],
            [
             0.3333333333333333,
             "#9c179e"
            ],
            [
             0.4444444444444444,
             "#bd3786"
            ],
            [
             0.5555555555555556,
             "#d8576b"
            ],
            [
             0.6666666666666666,
             "#ed7953"
            ],
            [
             0.7777777777777778,
             "#fb9f3a"
            ],
            [
             0.8888888888888888,
             "#fdca26"
            ],
            [
             1,
             "#f0f921"
            ]
           ]
          },
          "colorway": [
           "#636efa",
           "#EF553B",
           "#00cc96",
           "#ab63fa",
           "#FFA15A",
           "#19d3f3",
           "#FF6692",
           "#B6E880",
           "#FF97FF",
           "#FECB52"
          ],
          "font": {
           "color": "#2a3f5f"
          },
          "geo": {
           "bgcolor": "white",
           "lakecolor": "white",
           "landcolor": "#E5ECF6",
           "showlakes": true,
           "showland": true,
           "subunitcolor": "white"
          },
          "hoverlabel": {
           "align": "left"
          },
          "hovermode": "closest",
          "mapbox": {
           "style": "light"
          },
          "paper_bgcolor": "white",
          "plot_bgcolor": "#E5ECF6",
          "polar": {
           "angularaxis": {
            "gridcolor": "white",
            "linecolor": "white",
            "ticks": ""
           },
           "bgcolor": "#E5ECF6",
           "radialaxis": {
            "gridcolor": "white",
            "linecolor": "white",
            "ticks": ""
           }
          },
          "scene": {
           "xaxis": {
            "backgroundcolor": "#E5ECF6",
            "gridcolor": "white",
            "gridwidth": 2,
            "linecolor": "white",
            "showbackground": true,
            "ticks": "",
            "zerolinecolor": "white"
           },
           "yaxis": {
            "backgroundcolor": "#E5ECF6",
            "gridcolor": "white",
            "gridwidth": 2,
            "linecolor": "white",
            "showbackground": true,
            "ticks": "",
            "zerolinecolor": "white"
           },
           "zaxis": {
            "backgroundcolor": "#E5ECF6",
            "gridcolor": "white",
            "gridwidth": 2,
            "linecolor": "white",
            "showbackground": true,
            "ticks": "",
            "zerolinecolor": "white"
           }
          },
          "shapedefaults": {
           "line": {
            "color": "#2a3f5f"
           }
          },
          "ternary": {
           "aaxis": {
            "gridcolor": "white",
            "linecolor": "white",
            "ticks": ""
           },
           "baxis": {
            "gridcolor": "white",
            "linecolor": "white",
            "ticks": ""
           },
           "bgcolor": "#E5ECF6",
           "caxis": {
            "gridcolor": "white",
            "linecolor": "white",
            "ticks": ""
           }
          },
          "title": {
           "x": 0.05
          },
          "xaxis": {
           "automargin": true,
           "gridcolor": "white",
           "linecolor": "white",
           "ticks": "",
           "title": {
            "standoff": 15
           },
           "zerolinecolor": "white",
           "zerolinewidth": 2
          },
          "yaxis": {
           "automargin": true,
           "gridcolor": "white",
           "linecolor": "white",
           "ticks": "",
           "title": {
            "standoff": 15
           },
           "zerolinecolor": "white",
           "zerolinewidth": 2
          }
         }
        },
        "title": {
         "text": "AB De villiers Average Runs Against Each Opponent"
        },
        "xaxis": {
         "anchor": "y",
         "categoryarray": [
          "Kolkata Knight Riders",
          "Kings XI Punjab",
          "Chennai Super Kings",
          "Mumbai Indians",
          "Delhi Capitals",
          "Rajasthan Royals",
          "Sunrisers Hyderabad"
         ],
         "categoryorder": "array",
         "domain": [
          0,
          1
         ],
         "title": {
          "text": "Opponent"
         }
        },
        "yaxis": {
         "anchor": "x",
         "domain": [
          0,
          1
         ],
         "title": {
          "text": "Average"
         }
        }
       }
      }
     },
     "metadata": {},
     "output_type": "display_data"
    }
   ],
   "source": [
    "import pandas as pd\n",
    "import plotly.express as px\n",
    "\n",
    "# Create a new dictionary to store the total runs and total outs for each batsman against each opponent\n",
    "totals = {}\n",
    "for batsman in batsman_runs:\n",
    "    for opponent in batsman_runs[batsman]:\n",
    "        if batsman in outs_against_each_opponent and opponent in outs_against_each_opponent[batsman]:\n",
    "            runs = batsman_runs[batsman][opponent]\n",
    "            outs = outs_against_each_opponent[batsman][opponent]\n",
    "            if batsman not in totals:\n",
    "                totals[batsman] = {}\n",
    "            if opponent not in totals[batsman]:\n",
    "                totals[batsman][opponent] = {'runs': 0, 'outs': 0}\n",
    "            totals[batsman][opponent]['runs'] += runs\n",
    "            totals[batsman][opponent]['outs'] += outs\n",
    "\n",
    "# Calculate the average runs for each batsman against each opponent\n",
    "averages = {}\n",
    "for batsman in totals:\n",
    "    averages[batsman] = {}\n",
    "    for opponent in totals[batsman]:\n",
    "        runs = totals[batsman][opponent]['runs']\n",
    "        outs = totals[batsman][opponent]['outs']\n",
    "        if outs >= 0:\n",
    "            averages[batsman][opponent] = runs / max(outs, 1)\n",
    "\n",
    "# Convert averages dictionary to DataFrame\n",
    "df = pd.DataFrame.from_dict(averages, orient='index', columns=list({opponent for batsman in averages for opponent in averages[batsman]}))\n",
    "\n",
    "# Filter DataFrame for RG Sharma\n",
    "rg_sharma_df = df.loc[['AB de Villiers']]\n",
    "\n",
    "# Reset the index to make the batsman name a column in the DataFrame\n",
    "rg_sharma_df = rg_sharma_df.reset_index()\n",
    "\n",
    "# Melt the DataFrame to create separate rows for each opponent team and average runs\n",
    "rg_sharma_melt = rg_sharma_df.melt(id_vars=['index'], var_name='Opponent', value_name='Average')\n",
    "\n",
    "# Filter out any rows where the average runs is NaN (i.e., where RG Sharma has not played against that opponent)\n",
    "rg_sharma_melt = rg_sharma_melt.dropna()\n",
    "\n",
    "# Create the Plotly graph\n",
    "fig = px.bar(rg_sharma_melt, x='Opponent', y='Average', color='Opponent', title='AB De villiers Average Runs Against Each Opponent')\n",
    "fig.show()\n"
   ]
  },
  {
   "cell_type": "code",
   "execution_count": null,
   "metadata": {},
   "outputs": [],
   "source": []
  }
 ],
 "metadata": {
  "kernelspec": {
   "display_name": "Python 3",
   "language": "python",
   "name": "python3"
  },
  "language_info": {
   "codemirror_mode": {
    "name": "ipython",
    "version": 3
   },
   "file_extension": ".py",
   "mimetype": "text/x-python",
   "name": "python",
   "nbconvert_exporter": "python",
   "pygments_lexer": "ipython3",
   "version": "3.9.10"
  },
  "orig_nbformat": 4
 },
 "nbformat": 4,
 "nbformat_minor": 2
}
