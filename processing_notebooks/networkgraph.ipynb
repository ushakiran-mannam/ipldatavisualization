{
 "cells": [
  {
   "cell_type": "code",
   "execution_count": 2,
   "metadata": {},
   "outputs": [
    {
     "name": "stderr",
     "output_type": "stream",
     "text": [
      "C:\\Users\\manna\\AppData\\Local\\Temp\\ipykernel_22684\\794233890.py:2: DtypeWarning: Columns (20) have mixed types. Specify dtype option on import or set low_memory=False.\n",
      "  merged_ipl_df = pd.read_csv('data/2022_ipl_ball_by_ball.csv')\n"
     ]
    }
   ],
   "source": [
    "import pandas as pd\n",
    "merged_ipl_df = pd.read_csv('data/2022_ipl_ball_by_ball.csv')"
   ]
  },
  {
   "cell_type": "code",
   "execution_count": 3,
   "metadata": {},
   "outputs": [
    {
     "name": "stdout",
     "output_type": "stream",
     "text": [
      "23366636709\n",
      "23366636709\n"
     ]
    }
   ],
   "source": [
    "print(merged_ipl_df['ID'].sum())\n",
    "\n",
    "new_df = merged_ipl_df[['ID','Team1','Team2','WinningTeam']].copy()\n",
    "print(new_df['ID'].sum())"
   ]
  },
  {
   "cell_type": "code",
   "execution_count": 4,
   "metadata": {},
   "outputs": [],
   "source": [
    "grouped_df = new_df.groupby(new_df.columns.tolist(), sort=False)\n",
    "# print(grouped_df['ID'].sum())\n",
    "\n",
    "# print(type(grouped_df))\n",
    "# print(type(new_df))\n",
    "\n",
    "# for group,data in grouped_df:\n",
    "#     print(group)\n",
    "#     # print(data)\n",
    "\n",
    "#     break"
   ]
  },
  {
   "cell_type": "code",
   "execution_count": 5,
   "metadata": {},
   "outputs": [
    {
     "name": "stdout",
     "output_type": "stream",
     "text": [
      "{('Rajasthan Royals', 'Gujarat Titans'): (0, 3, 3), ('Royal Challengers Bangalore', 'Rajasthan Royals'): (1, 2, 3), ('Royal Challengers Bangalore', 'Lucknow Super Giants'): (2, 0, 2), ('Sunrisers Hyderabad', 'Punjab Kings'): (1, 1, 2), ('Delhi Capitals', 'Mumbai Indians'): (1, 1, 2), ('Chennai Super Kings', 'Rajasthan Royals'): (0, 1, 1), ('Gujarat Titans', 'Royal Challengers Bangalore'): (1, 1, 2), ('Lucknow Super Giants', 'Kolkata Knight Riders'): (2, 0, 2), ('Sunrisers Hyderabad', 'Mumbai Indians'): (1, 0, 1), ('Delhi Capitals', 'Punjab Kings'): (2, 0, 2), ('Rajasthan Royals', 'Lucknow Super Giants'): (2, 0, 2), ('Chennai Super Kings', 'Gujarat Titans'): (0, 2, 2), ('Kolkata Knight Riders', 'Sunrisers Hyderabad'): (1, 1, 2), ('Punjab Kings', 'Royal Challengers Bangalore'): (2, 0, 2), ('Chennai Super Kings', 'Mumbai Indians'): (1, 1, 2), ('Rajasthan Royals', 'Delhi Capitals'): (1, 1, 2), ('Gujarat Titans', 'Lucknow Super Giants'): (2, 0, 2), ('Kolkata Knight Riders', 'Mumbai Indians'): (2, 0, 2), ('Chennai Super Kings', 'Delhi Capitals'): (1, 0, 1), ('Royal Challengers Bangalore', 'Sunrisers Hyderabad'): (1, 1, 2), ('Punjab Kings', 'Rajasthan Royals'): (0, 1, 1), ('Mumbai Indians', 'Gujarat Titans'): (1, 0, 1), ('Delhi Capitals', 'Sunrisers Hyderabad'): (1, 0, 1), ('Royal Challengers Bangalore', 'Chennai Super Kings'): (1, 1, 2), ('Gujarat Titans', 'Punjab Kings'): (1, 1, 2), ('Rajasthan Royals', 'Kolkata Knight Riders'): (1, 1, 2), ('Chennai Super Kings', 'Sunrisers Hyderabad'): (1, 1, 2), ('Lucknow Super Giants', 'Delhi Capitals'): (2, 0, 2), ('Rajasthan Royals', 'Mumbai Indians'): (1, 1, 2), ('Lucknow Super Giants', 'Punjab Kings'): (1, 0, 1), ('Kolkata Knight Riders', 'Delhi Capitals'): (0, 2, 2), ('Sunrisers Hyderabad', 'Gujarat Titans'): (1, 1, 2), ('Punjab Kings', 'Chennai Super Kings'): (2, 0, 2), ('Lucknow Super Giants', 'Mumbai Indians'): (2, 0, 2), ('Gujarat Titans', 'Kolkata Knight Riders'): (1, 0, 1), ('Royal Challengers Bangalore', 'Delhi Capitals'): (1, 0, 1), ('Punjab Kings', 'Mumbai Indians'): (1, 0, 1), ('Mumbai Indians', 'Royal Challengers Bangalore'): (0, 1, 1), ('Lucknow Super Giants', 'Sunrisers Hyderabad'): (1, 0, 1), ('Gujarat Titans', 'Delhi Capitals'): (1, 0, 1), ('Punjab Kings', 'Kolkata Knight Riders'): (0, 1, 1), ('Chennai Super Kings', 'Lucknow Super Giants'): (0, 1, 1), ('Kolkata Knight Riders', 'Royal Challengers Bangalore'): (0, 1, 1), ('Rajasthan Royals', 'Sunrisers Hyderabad'): (1, 0, 1), ('Chennai Super Kings', 'Kolkata Knight Riders'): (0, 1, 1)}\n"
     ]
    }
   ],
   "source": [
    "wins = {}\n",
    "\n",
    "# Iterate over dataframe\n",
    "for group,data in grouped_df:\n",
    "    team1 = group[1]\n",
    "    team2 = group[2]\n",
    "    winner = group[3]\n",
    "\n",
    "    if (team1,team2) in wins:\n",
    "        (a,b,sum) = wins[(team1,team2)]\n",
    "        if(winner == team1):\n",
    "            wins[(team1,team2)] = (a+1,b,sum+1)\n",
    "        else:\n",
    "            wins[(team1,team2)] = (a,b+1,sum+1)\n",
    "    elif (team2,team1) in wins:\n",
    "        (a,b,sum) = wins[(team2,team1)]\n",
    "        if(winner == team1):\n",
    "            wins[(team2,team1)] = (a,b+1,sum+1)\n",
    "        else:\n",
    "            wins[(team2,team1)] = (a+1,b,sum+1)\n",
    "    else:\n",
    "        wins[(team1,team2)] = (0,0,0)\n",
    "        (a,b,sum) = wins[(team1,team2)]\n",
    "        if(winner == team1):\n",
    "            wins[(team1,team2)] = (a+1,b,sum+1)\n",
    "        else:\n",
    "            wins[(team1,team2)] = (a,b+1,sum+1)\n",
    "\n",
    "print(wins)"
   ]
  },
  {
   "cell_type": "code",
   "execution_count": 6,
   "metadata": {},
   "outputs": [
    {
     "name": "stdout",
     "output_type": "stream",
     "text": [
      "45\n"
     ]
    }
   ],
   "source": [
    "count = 0\n",
    "for i in wins:\n",
    "    count=count+1\n",
    "\n",
    "print(count)"
   ]
  },
  {
   "cell_type": "code",
   "execution_count": 7,
   "metadata": {},
   "outputs": [
    {
     "name": "stdout",
     "output_type": "stream",
     "text": [
      "90\n"
     ]
    }
   ],
   "source": [
    "wins_separated = {}\n",
    "for (i,j) in wins.items():\n",
    "    team1 = i[0]\n",
    "    team2 = i[1]\n",
    "    wins_separated[(team1,team2)] = j[0]\n",
    "    wins_separated[(team2,team1)] = j[2]\n",
    "\n",
    "count = 0\n",
    "for i in wins_separated:\n",
    "    count = count+1\n",
    "\n",
    "print(count)"
   ]
  },
  {
   "cell_type": "code",
   "execution_count": 8,
   "metadata": {},
   "outputs": [],
   "source": [
    "import plotly.graph_objs as go\n",
    "\n",
    "unique_teams_list = list(set(merged_ipl_df['Team1']).union(set(merged_ipl_df['Team2'])))\n",
    "# print(len(unique_teams_list)) \n",
    "\n",
    "# Create nodes for each team\n",
    "nodes = []\n",
    "for team in unique_teams_list:\n",
    "    node = go.Scatter(\n",
    "        x=[],\n",
    "        y=[],\n",
    "        text=[team],\n",
    "        mode='markers+text',\n",
    "        hoverinfo='none',\n",
    "        marker=dict(\n",
    "            symbol='circle',\n",
    "            size=25,\n",
    "            color='blue'\n",
    "        ),\n",
    "        textfont=dict(\n",
    "            color='white',\n",
    "            size=15\n",
    "        )\n",
    "    )\n",
    "    nodes.append(node)\n",
    "\n",
    "# Create edges for each head-to-head win\n",
    "# Create edges for each head-to-head win\n",
    "edges = []\n",
    "win_counts = [wins_separated[(t1, t2)] for t1, t2 in wins_separated]\n",
    "min_win_count = min(win_counts)\n",
    "max_win_count = max(win_counts)\n",
    "for (team1, team2), win_count in wins_separated.items():\n",
    "    edge = go.Scatter(\n",
    "        x=[unique_teams_list.index(team1), unique_teams_list.index(team2)],\n",
    "        y=[1, -1],\n",
    "        mode='lines',\n",
    "        hoverinfo='none',\n",
    "        line=dict(\n",
    "            color='green' if win_count == max_win_count else 'red',\n",
    "            width=5 * (win_count - min_win_count) / (max_win_count - min_win_count) + 1\n",
    "        )\n",
    "    )\n",
    "    edges.append(edge)"
   ]
  },
  {
   "cell_type": "code",
   "execution_count": 9,
   "metadata": {},
   "outputs": [
    {
     "data": {
      "application/vnd.plotly.v1+json": {
       "config": {
        "plotlyServerURL": "https://plot.ly"
       },
       "data": [
        {
         "hoverinfo": "none",
         "line": {
          "color": "red",
          "width": 1
         },
         "mode": "lines",
         "type": "scatter",
         "x": [
          2,
          3
         ],
         "y": [
          1,
          -1
         ]
        },
        {
         "hoverinfo": "none",
         "line": {
          "color": "green",
          "width": 6
         },
         "mode": "lines",
         "type": "scatter",
         "x": [
          3,
          2
         ],
         "y": [
          1,
          -1
         ]
        },
        {
         "hoverinfo": "none",
         "line": {
          "color": "red",
          "width": 2.666666666666667
         },
         "mode": "lines",
         "type": "scatter",
         "x": [
          4,
          2
         ],
         "y": [
          1,
          -1
         ]
        },
        {
         "hoverinfo": "none",
         "line": {
          "color": "green",
          "width": 6
         },
         "mode": "lines",
         "type": "scatter",
         "x": [
          2,
          4
         ],
         "y": [
          1,
          -1
         ]
        },
        {
         "hoverinfo": "none",
         "line": {
          "color": "red",
          "width": 4.333333333333334
         },
         "mode": "lines",
         "type": "scatter",
         "x": [
          4,
          8
         ],
         "y": [
          1,
          -1
         ]
        },
        {
         "hoverinfo": "none",
         "line": {
          "color": "red",
          "width": 4.333333333333334
         },
         "mode": "lines",
         "type": "scatter",
         "x": [
          8,
          4
         ],
         "y": [
          1,
          -1
         ]
        },
        {
         "hoverinfo": "none",
         "line": {
          "color": "red",
          "width": 2.666666666666667
         },
         "mode": "lines",
         "type": "scatter",
         "x": [
          6,
          7
         ],
         "y": [
          1,
          -1
         ]
        },
        {
         "hoverinfo": "none",
         "line": {
          "color": "red",
          "width": 4.333333333333334
         },
         "mode": "lines",
         "type": "scatter",
         "x": [
          7,
          6
         ],
         "y": [
          1,
          -1
         ]
        },
        {
         "hoverinfo": "none",
         "line": {
          "color": "red",
          "width": 2.666666666666667
         },
         "mode": "lines",
         "type": "scatter",
         "x": [
          0,
          5
         ],
         "y": [
          1,
          -1
         ]
        },
        {
         "hoverinfo": "none",
         "line": {
          "color": "red",
          "width": 4.333333333333334
         },
         "mode": "lines",
         "type": "scatter",
         "x": [
          5,
          0
         ],
         "y": [
          1,
          -1
         ]
        },
        {
         "hoverinfo": "none",
         "line": {
          "color": "red",
          "width": 1
         },
         "mode": "lines",
         "type": "scatter",
         "x": [
          9,
          2
         ],
         "y": [
          1,
          -1
         ]
        },
        {
         "hoverinfo": "none",
         "line": {
          "color": "red",
          "width": 2.666666666666667
         },
         "mode": "lines",
         "type": "scatter",
         "x": [
          2,
          9
         ],
         "y": [
          1,
          -1
         ]
        },
        {
         "hoverinfo": "none",
         "line": {
          "color": "red",
          "width": 2.666666666666667
         },
         "mode": "lines",
         "type": "scatter",
         "x": [
          3,
          4
         ],
         "y": [
          1,
          -1
         ]
        },
        {
         "hoverinfo": "none",
         "line": {
          "color": "red",
          "width": 4.333333333333334
         },
         "mode": "lines",
         "type": "scatter",
         "x": [
          4,
          3
         ],
         "y": [
          1,
          -1
         ]
        },
        {
         "hoverinfo": "none",
         "line": {
          "color": "red",
          "width": 4.333333333333334
         },
         "mode": "lines",
         "type": "scatter",
         "x": [
          8,
          1
         ],
         "y": [
          1,
          -1
         ]
        },
        {
         "hoverinfo": "none",
         "line": {
          "color": "red",
          "width": 4.333333333333334
         },
         "mode": "lines",
         "type": "scatter",
         "x": [
          1,
          8
         ],
         "y": [
          1,
          -1
         ]
        },
        {
         "hoverinfo": "none",
         "line": {
          "color": "red",
          "width": 2.666666666666667
         },
         "mode": "lines",
         "type": "scatter",
         "x": [
          6,
          5
         ],
         "y": [
          1,
          -1
         ]
        },
        {
         "hoverinfo": "none",
         "line": {
          "color": "red",
          "width": 2.666666666666667
         },
         "mode": "lines",
         "type": "scatter",
         "x": [
          5,
          6
         ],
         "y": [
          1,
          -1
         ]
        },
        {
         "hoverinfo": "none",
         "line": {
          "color": "red",
          "width": 4.333333333333334
         },
         "mode": "lines",
         "type": "scatter",
         "x": [
          0,
          7
         ],
         "y": [
          1,
          -1
         ]
        },
        {
         "hoverinfo": "none",
         "line": {
          "color": "red",
          "width": 4.333333333333334
         },
         "mode": "lines",
         "type": "scatter",
         "x": [
          7,
          0
         ],
         "y": [
          1,
          -1
         ]
        },
        {
         "hoverinfo": "none",
         "line": {
          "color": "red",
          "width": 4.333333333333334
         },
         "mode": "lines",
         "type": "scatter",
         "x": [
          2,
          8
         ],
         "y": [
          1,
          -1
         ]
        },
        {
         "hoverinfo": "none",
         "line": {
          "color": "red",
          "width": 4.333333333333334
         },
         "mode": "lines",
         "type": "scatter",
         "x": [
          8,
          2
         ],
         "y": [
          1,
          -1
         ]
        },
        {
         "hoverinfo": "none",
         "line": {
          "color": "red",
          "width": 1
         },
         "mode": "lines",
         "type": "scatter",
         "x": [
          9,
          3
         ],
         "y": [
          1,
          -1
         ]
        },
        {
         "hoverinfo": "none",
         "line": {
          "color": "red",
          "width": 4.333333333333334
         },
         "mode": "lines",
         "type": "scatter",
         "x": [
          3,
          9
         ],
         "y": [
          1,
          -1
         ]
        },
        {
         "hoverinfo": "none",
         "line": {
          "color": "red",
          "width": 2.666666666666667
         },
         "mode": "lines",
         "type": "scatter",
         "x": [
          1,
          6
         ],
         "y": [
          1,
          -1
         ]
        },
        {
         "hoverinfo": "none",
         "line": {
          "color": "red",
          "width": 4.333333333333334
         },
         "mode": "lines",
         "type": "scatter",
         "x": [
          6,
          1
         ],
         "y": [
          1,
          -1
         ]
        },
        {
         "hoverinfo": "none",
         "line": {
          "color": "red",
          "width": 4.333333333333334
         },
         "mode": "lines",
         "type": "scatter",
         "x": [
          7,
          4
         ],
         "y": [
          1,
          -1
         ]
        },
        {
         "hoverinfo": "none",
         "line": {
          "color": "red",
          "width": 4.333333333333334
         },
         "mode": "lines",
         "type": "scatter",
         "x": [
          4,
          7
         ],
         "y": [
          1,
          -1
         ]
        },
        {
         "hoverinfo": "none",
         "line": {
          "color": "red",
          "width": 2.666666666666667
         },
         "mode": "lines",
         "type": "scatter",
         "x": [
          9,
          5
         ],
         "y": [
          1,
          -1
         ]
        },
        {
         "hoverinfo": "none",
         "line": {
          "color": "red",
          "width": 4.333333333333334
         },
         "mode": "lines",
         "type": "scatter",
         "x": [
          5,
          9
         ],
         "y": [
          1,
          -1
         ]
        },
        {
         "hoverinfo": "none",
         "line": {
          "color": "red",
          "width": 2.666666666666667
         },
         "mode": "lines",
         "type": "scatter",
         "x": [
          2,
          0
         ],
         "y": [
          1,
          -1
         ]
        },
        {
         "hoverinfo": "none",
         "line": {
          "color": "red",
          "width": 4.333333333333334
         },
         "mode": "lines",
         "type": "scatter",
         "x": [
          0,
          2
         ],
         "y": [
          1,
          -1
         ]
        },
        {
         "hoverinfo": "none",
         "line": {
          "color": "red",
          "width": 4.333333333333334
         },
         "mode": "lines",
         "type": "scatter",
         "x": [
          3,
          8
         ],
         "y": [
          1,
          -1
         ]
        },
        {
         "hoverinfo": "none",
         "line": {
          "color": "red",
          "width": 4.333333333333334
         },
         "mode": "lines",
         "type": "scatter",
         "x": [
          8,
          3
         ],
         "y": [
          1,
          -1
         ]
        },
        {
         "hoverinfo": "none",
         "line": {
          "color": "red",
          "width": 4.333333333333334
         },
         "mode": "lines",
         "type": "scatter",
         "x": [
          1,
          5
         ],
         "y": [
          1,
          -1
         ]
        },
        {
         "hoverinfo": "none",
         "line": {
          "color": "red",
          "width": 4.333333333333334
         },
         "mode": "lines",
         "type": "scatter",
         "x": [
          5,
          1
         ],
         "y": [
          1,
          -1
         ]
        },
        {
         "hoverinfo": "none",
         "line": {
          "color": "red",
          "width": 2.666666666666667
         },
         "mode": "lines",
         "type": "scatter",
         "x": [
          9,
          0
         ],
         "y": [
          1,
          -1
         ]
        },
        {
         "hoverinfo": "none",
         "line": {
          "color": "red",
          "width": 2.666666666666667
         },
         "mode": "lines",
         "type": "scatter",
         "x": [
          0,
          9
         ],
         "y": [
          1,
          -1
         ]
        },
        {
         "hoverinfo": "none",
         "line": {
          "color": "red",
          "width": 2.666666666666667
         },
         "mode": "lines",
         "type": "scatter",
         "x": [
          4,
          6
         ],
         "y": [
          1,
          -1
         ]
        },
        {
         "hoverinfo": "none",
         "line": {
          "color": "red",
          "width": 4.333333333333334
         },
         "mode": "lines",
         "type": "scatter",
         "x": [
          6,
          4
         ],
         "y": [
          1,
          -1
         ]
        },
        {
         "hoverinfo": "none",
         "line": {
          "color": "red",
          "width": 1
         },
         "mode": "lines",
         "type": "scatter",
         "x": [
          7,
          2
         ],
         "y": [
          1,
          -1
         ]
        },
        {
         "hoverinfo": "none",
         "line": {
          "color": "red",
          "width": 2.666666666666667
         },
         "mode": "lines",
         "type": "scatter",
         "x": [
          2,
          7
         ],
         "y": [
          1,
          -1
         ]
        },
        {
         "hoverinfo": "none",
         "line": {
          "color": "red",
          "width": 2.666666666666667
         },
         "mode": "lines",
         "type": "scatter",
         "x": [
          5,
          3
         ],
         "y": [
          1,
          -1
         ]
        },
        {
         "hoverinfo": "none",
         "line": {
          "color": "red",
          "width": 2.666666666666667
         },
         "mode": "lines",
         "type": "scatter",
         "x": [
          3,
          5
         ],
         "y": [
          1,
          -1
         ]
        },
        {
         "hoverinfo": "none",
         "line": {
          "color": "red",
          "width": 2.666666666666667
         },
         "mode": "lines",
         "type": "scatter",
         "x": [
          0,
          6
         ],
         "y": [
          1,
          -1
         ]
        },
        {
         "hoverinfo": "none",
         "line": {
          "color": "red",
          "width": 2.666666666666667
         },
         "mode": "lines",
         "type": "scatter",
         "x": [
          6,
          0
         ],
         "y": [
          1,
          -1
         ]
        },
        {
         "hoverinfo": "none",
         "line": {
          "color": "red",
          "width": 2.666666666666667
         },
         "mode": "lines",
         "type": "scatter",
         "x": [
          4,
          9
         ],
         "y": [
          1,
          -1
         ]
        },
        {
         "hoverinfo": "none",
         "line": {
          "color": "red",
          "width": 4.333333333333334
         },
         "mode": "lines",
         "type": "scatter",
         "x": [
          9,
          4
         ],
         "y": [
          1,
          -1
         ]
        },
        {
         "hoverinfo": "none",
         "line": {
          "color": "red",
          "width": 2.666666666666667
         },
         "mode": "lines",
         "type": "scatter",
         "x": [
          3,
          7
         ],
         "y": [
          1,
          -1
         ]
        },
        {
         "hoverinfo": "none",
         "line": {
          "color": "red",
          "width": 4.333333333333334
         },
         "mode": "lines",
         "type": "scatter",
         "x": [
          7,
          3
         ],
         "y": [
          1,
          -1
         ]
        },
        {
         "hoverinfo": "none",
         "line": {
          "color": "red",
          "width": 2.666666666666667
         },
         "mode": "lines",
         "type": "scatter",
         "x": [
          2,
          1
         ],
         "y": [
          1,
          -1
         ]
        },
        {
         "hoverinfo": "none",
         "line": {
          "color": "red",
          "width": 4.333333333333334
         },
         "mode": "lines",
         "type": "scatter",
         "x": [
          1,
          2
         ],
         "y": [
          1,
          -1
         ]
        },
        {
         "hoverinfo": "none",
         "line": {
          "color": "red",
          "width": 2.666666666666667
         },
         "mode": "lines",
         "type": "scatter",
         "x": [
          9,
          6
         ],
         "y": [
          1,
          -1
         ]
        },
        {
         "hoverinfo": "none",
         "line": {
          "color": "red",
          "width": 4.333333333333334
         },
         "mode": "lines",
         "type": "scatter",
         "x": [
          6,
          9
         ],
         "y": [
          1,
          -1
         ]
        },
        {
         "hoverinfo": "none",
         "line": {
          "color": "red",
          "width": 4.333333333333334
         },
         "mode": "lines",
         "type": "scatter",
         "x": [
          8,
          0
         ],
         "y": [
          1,
          -1
         ]
        },
        {
         "hoverinfo": "none",
         "line": {
          "color": "red",
          "width": 4.333333333333334
         },
         "mode": "lines",
         "type": "scatter",
         "x": [
          0,
          8
         ],
         "y": [
          1,
          -1
         ]
        },
        {
         "hoverinfo": "none",
         "line": {
          "color": "red",
          "width": 2.666666666666667
         },
         "mode": "lines",
         "type": "scatter",
         "x": [
          2,
          5
         ],
         "y": [
          1,
          -1
         ]
        },
        {
         "hoverinfo": "none",
         "line": {
          "color": "red",
          "width": 4.333333333333334
         },
         "mode": "lines",
         "type": "scatter",
         "x": [
          5,
          2
         ],
         "y": [
          1,
          -1
         ]
        },
        {
         "hoverinfo": "none",
         "line": {
          "color": "red",
          "width": 2.666666666666667
         },
         "mode": "lines",
         "type": "scatter",
         "x": [
          8,
          7
         ],
         "y": [
          1,
          -1
         ]
        },
        {
         "hoverinfo": "none",
         "line": {
          "color": "red",
          "width": 2.666666666666667
         },
         "mode": "lines",
         "type": "scatter",
         "x": [
          7,
          8
         ],
         "y": [
          1,
          -1
         ]
        },
        {
         "hoverinfo": "none",
         "line": {
          "color": "red",
          "width": 1
         },
         "mode": "lines",
         "type": "scatter",
         "x": [
          1,
          0
         ],
         "y": [
          1,
          -1
         ]
        },
        {
         "hoverinfo": "none",
         "line": {
          "color": "red",
          "width": 4.333333333333334
         },
         "mode": "lines",
         "type": "scatter",
         "x": [
          0,
          1
         ],
         "y": [
          1,
          -1
         ]
        },
        {
         "hoverinfo": "none",
         "line": {
          "color": "red",
          "width": 2.666666666666667
         },
         "mode": "lines",
         "type": "scatter",
         "x": [
          6,
          3
         ],
         "y": [
          1,
          -1
         ]
        },
        {
         "hoverinfo": "none",
         "line": {
          "color": "red",
          "width": 4.333333333333334
         },
         "mode": "lines",
         "type": "scatter",
         "x": [
          3,
          6
         ],
         "y": [
          1,
          -1
         ]
        },
        {
         "hoverinfo": "none",
         "line": {
          "color": "red",
          "width": 4.333333333333334
         },
         "mode": "lines",
         "type": "scatter",
         "x": [
          7,
          9
         ],
         "y": [
          1,
          -1
         ]
        },
        {
         "hoverinfo": "none",
         "line": {
          "color": "red",
          "width": 4.333333333333334
         },
         "mode": "lines",
         "type": "scatter",
         "x": [
          9,
          7
         ],
         "y": [
          1,
          -1
         ]
        },
        {
         "hoverinfo": "none",
         "line": {
          "color": "red",
          "width": 4.333333333333334
         },
         "mode": "lines",
         "type": "scatter",
         "x": [
          8,
          5
         ],
         "y": [
          1,
          -1
         ]
        },
        {
         "hoverinfo": "none",
         "line": {
          "color": "red",
          "width": 4.333333333333334
         },
         "mode": "lines",
         "type": "scatter",
         "x": [
          5,
          8
         ],
         "y": [
          1,
          -1
         ]
        },
        {
         "hoverinfo": "none",
         "line": {
          "color": "red",
          "width": 2.666666666666667
         },
         "mode": "lines",
         "type": "scatter",
         "x": [
          3,
          1
         ],
         "y": [
          1,
          -1
         ]
        },
        {
         "hoverinfo": "none",
         "line": {
          "color": "red",
          "width": 2.666666666666667
         },
         "mode": "lines",
         "type": "scatter",
         "x": [
          1,
          3
         ],
         "y": [
          1,
          -1
         ]
        },
        {
         "hoverinfo": "none",
         "line": {
          "color": "red",
          "width": 2.666666666666667
         },
         "mode": "lines",
         "type": "scatter",
         "x": [
          4,
          0
         ],
         "y": [
          1,
          -1
         ]
        },
        {
         "hoverinfo": "none",
         "line": {
          "color": "red",
          "width": 2.666666666666667
         },
         "mode": "lines",
         "type": "scatter",
         "x": [
          0,
          4
         ],
         "y": [
          1,
          -1
         ]
        },
        {
         "hoverinfo": "none",
         "line": {
          "color": "red",
          "width": 2.666666666666667
         },
         "mode": "lines",
         "type": "scatter",
         "x": [
          7,
          5
         ],
         "y": [
          1,
          -1
         ]
        },
        {
         "hoverinfo": "none",
         "line": {
          "color": "red",
          "width": 2.666666666666667
         },
         "mode": "lines",
         "type": "scatter",
         "x": [
          5,
          7
         ],
         "y": [
          1,
          -1
         ]
        },
        {
         "hoverinfo": "none",
         "line": {
          "color": "red",
          "width": 1
         },
         "mode": "lines",
         "type": "scatter",
         "x": [
          5,
          4
         ],
         "y": [
          1,
          -1
         ]
        },
        {
         "hoverinfo": "none",
         "line": {
          "color": "red",
          "width": 2.666666666666667
         },
         "mode": "lines",
         "type": "scatter",
         "x": [
          4,
          5
         ],
         "y": [
          1,
          -1
         ]
        },
        {
         "hoverinfo": "none",
         "line": {
          "color": "red",
          "width": 2.666666666666667
         },
         "mode": "lines",
         "type": "scatter",
         "x": [
          8,
          6
         ],
         "y": [
          1,
          -1
         ]
        },
        {
         "hoverinfo": "none",
         "line": {
          "color": "red",
          "width": 2.666666666666667
         },
         "mode": "lines",
         "type": "scatter",
         "x": [
          6,
          8
         ],
         "y": [
          1,
          -1
         ]
        },
        {
         "hoverinfo": "none",
         "line": {
          "color": "red",
          "width": 2.666666666666667
         },
         "mode": "lines",
         "type": "scatter",
         "x": [
          3,
          0
         ],
         "y": [
          1,
          -1
         ]
        },
        {
         "hoverinfo": "none",
         "line": {
          "color": "red",
          "width": 2.666666666666667
         },
         "mode": "lines",
         "type": "scatter",
         "x": [
          0,
          3
         ],
         "y": [
          1,
          -1
         ]
        },
        {
         "hoverinfo": "none",
         "line": {
          "color": "red",
          "width": 1
         },
         "mode": "lines",
         "type": "scatter",
         "x": [
          7,
          1
         ],
         "y": [
          1,
          -1
         ]
        },
        {
         "hoverinfo": "none",
         "line": {
          "color": "red",
          "width": 2.666666666666667
         },
         "mode": "lines",
         "type": "scatter",
         "x": [
          1,
          7
         ],
         "y": [
          1,
          -1
         ]
        },
        {
         "hoverinfo": "none",
         "line": {
          "color": "red",
          "width": 1
         },
         "mode": "lines",
         "type": "scatter",
         "x": [
          9,
          8
         ],
         "y": [
          1,
          -1
         ]
        },
        {
         "hoverinfo": "none",
         "line": {
          "color": "red",
          "width": 2.666666666666667
         },
         "mode": "lines",
         "type": "scatter",
         "x": [
          8,
          9
         ],
         "y": [
          1,
          -1
         ]
        },
        {
         "hoverinfo": "none",
         "line": {
          "color": "red",
          "width": 1
         },
         "mode": "lines",
         "type": "scatter",
         "x": [
          1,
          4
         ],
         "y": [
          1,
          -1
         ]
        },
        {
         "hoverinfo": "none",
         "line": {
          "color": "red",
          "width": 2.666666666666667
         },
         "mode": "lines",
         "type": "scatter",
         "x": [
          4,
          1
         ],
         "y": [
          1,
          -1
         ]
        },
        {
         "hoverinfo": "none",
         "line": {
          "color": "red",
          "width": 2.666666666666667
         },
         "mode": "lines",
         "type": "scatter",
         "x": [
          2,
          6
         ],
         "y": [
          1,
          -1
         ]
        },
        {
         "hoverinfo": "none",
         "line": {
          "color": "red",
          "width": 2.666666666666667
         },
         "mode": "lines",
         "type": "scatter",
         "x": [
          6,
          2
         ],
         "y": [
          1,
          -1
         ]
        },
        {
         "hoverinfo": "none",
         "line": {
          "color": "red",
          "width": 1
         },
         "mode": "lines",
         "type": "scatter",
         "x": [
          9,
          1
         ],
         "y": [
          1,
          -1
         ]
        },
        {
         "hoverinfo": "none",
         "line": {
          "color": "red",
          "width": 2.666666666666667
         },
         "mode": "lines",
         "type": "scatter",
         "x": [
          1,
          9
         ],
         "y": [
          1,
          -1
         ]
        },
        {
         "hoverinfo": "none",
         "marker": {
          "color": "blue",
          "size": 25,
          "symbol": "circle"
         },
         "mode": "markers+text",
         "text": [
          "Delhi Capitals"
         ],
         "textfont": {
          "color": "white",
          "size": 15
         },
         "type": "scatter",
         "x": [],
         "y": []
        },
        {
         "hoverinfo": "none",
         "marker": {
          "color": "blue",
          "size": 25,
          "symbol": "circle"
         },
         "mode": "markers+text",
         "text": [
          "Kolkata Knight Riders"
         ],
         "textfont": {
          "color": "white",
          "size": 15
         },
         "type": "scatter",
         "x": [],
         "y": []
        },
        {
         "hoverinfo": "none",
         "marker": {
          "color": "blue",
          "size": 25,
          "symbol": "circle"
         },
         "mode": "markers+text",
         "text": [
          "Rajasthan Royals"
         ],
         "textfont": {
          "color": "white",
          "size": 15
         },
         "type": "scatter",
         "x": [],
         "y": []
        },
        {
         "hoverinfo": "none",
         "marker": {
          "color": "blue",
          "size": 25,
          "symbol": "circle"
         },
         "mode": "markers+text",
         "text": [
          "Gujarat Titans"
         ],
         "textfont": {
          "color": "white",
          "size": 15
         },
         "type": "scatter",
         "x": [],
         "y": []
        },
        {
         "hoverinfo": "none",
         "marker": {
          "color": "blue",
          "size": 25,
          "symbol": "circle"
         },
         "mode": "markers+text",
         "text": [
          "Royal Challengers Bangalore"
         ],
         "textfont": {
          "color": "white",
          "size": 15
         },
         "type": "scatter",
         "x": [],
         "y": []
        },
        {
         "hoverinfo": "none",
         "marker": {
          "color": "blue",
          "size": 25,
          "symbol": "circle"
         },
         "mode": "markers+text",
         "text": [
          "Mumbai Indians"
         ],
         "textfont": {
          "color": "white",
          "size": 15
         },
         "type": "scatter",
         "x": [],
         "y": []
        },
        {
         "hoverinfo": "none",
         "marker": {
          "color": "blue",
          "size": 25,
          "symbol": "circle"
         },
         "mode": "markers+text",
         "text": [
          "Sunrisers Hyderabad"
         ],
         "textfont": {
          "color": "white",
          "size": 15
         },
         "type": "scatter",
         "x": [],
         "y": []
        },
        {
         "hoverinfo": "none",
         "marker": {
          "color": "blue",
          "size": 25,
          "symbol": "circle"
         },
         "mode": "markers+text",
         "text": [
          "Punjab Kings"
         ],
         "textfont": {
          "color": "white",
          "size": 15
         },
         "type": "scatter",
         "x": [],
         "y": []
        },
        {
         "hoverinfo": "none",
         "marker": {
          "color": "blue",
          "size": 25,
          "symbol": "circle"
         },
         "mode": "markers+text",
         "text": [
          "Lucknow Super Giants"
         ],
         "textfont": {
          "color": "white",
          "size": 15
         },
         "type": "scatter",
         "x": [],
         "y": []
        },
        {
         "hoverinfo": "none",
         "marker": {
          "color": "blue",
          "size": 25,
          "symbol": "circle"
         },
         "mode": "markers+text",
         "text": [
          "Chennai Super Kings"
         ],
         "textfont": {
          "color": "white",
          "size": 15
         },
         "type": "scatter",
         "x": [],
         "y": []
        }
       ],
       "layout": {
        "hovermode": "closest",
        "template": {
         "data": {
          "bar": [
           {
            "error_x": {
             "color": "#2a3f5f"
            },
            "error_y": {
             "color": "#2a3f5f"
            },
            "marker": {
             "line": {
              "color": "#E5ECF6",
              "width": 0.5
             },
             "pattern": {
              "fillmode": "overlay",
              "size": 10,
              "solidity": 0.2
             }
            },
            "type": "bar"
           }
          ],
          "barpolar": [
           {
            "marker": {
             "line": {
              "color": "#E5ECF6",
              "width": 0.5
             },
             "pattern": {
              "fillmode": "overlay",
              "size": 10,
              "solidity": 0.2
             }
            },
            "type": "barpolar"
           }
          ],
          "carpet": [
           {
            "aaxis": {
             "endlinecolor": "#2a3f5f",
             "gridcolor": "white",
             "linecolor": "white",
             "minorgridcolor": "white",
             "startlinecolor": "#2a3f5f"
            },
            "baxis": {
             "endlinecolor": "#2a3f5f",
             "gridcolor": "white",
             "linecolor": "white",
             "minorgridcolor": "white",
             "startlinecolor": "#2a3f5f"
            },
            "type": "carpet"
           }
          ],
          "choropleth": [
           {
            "colorbar": {
             "outlinewidth": 0,
             "ticks": ""
            },
            "type": "choropleth"
           }
          ],
          "contour": [
           {
            "colorbar": {
             "outlinewidth": 0,
             "ticks": ""
            },
            "colorscale": [
             [
              0,
              "#0d0887"
             ],
             [
              0.1111111111111111,
              "#46039f"
             ],
             [
              0.2222222222222222,
              "#7201a8"
             ],
             [
              0.3333333333333333,
              "#9c179e"
             ],
             [
              0.4444444444444444,
              "#bd3786"
             ],
             [
              0.5555555555555556,
              "#d8576b"
             ],
             [
              0.6666666666666666,
              "#ed7953"
             ],
             [
              0.7777777777777778,
              "#fb9f3a"
             ],
             [
              0.8888888888888888,
              "#fdca26"
             ],
             [
              1,
              "#f0f921"
             ]
            ],
            "type": "contour"
           }
          ],
          "contourcarpet": [
           {
            "colorbar": {
             "outlinewidth": 0,
             "ticks": ""
            },
            "type": "contourcarpet"
           }
          ],
          "heatmap": [
           {
            "colorbar": {
             "outlinewidth": 0,
             "ticks": ""
            },
            "colorscale": [
             [
              0,
              "#0d0887"
             ],
             [
              0.1111111111111111,
              "#46039f"
             ],
             [
              0.2222222222222222,
              "#7201a8"
             ],
             [
              0.3333333333333333,
              "#9c179e"
             ],
             [
              0.4444444444444444,
              "#bd3786"
             ],
             [
              0.5555555555555556,
              "#d8576b"
             ],
             [
              0.6666666666666666,
              "#ed7953"
             ],
             [
              0.7777777777777778,
              "#fb9f3a"
             ],
             [
              0.8888888888888888,
              "#fdca26"
             ],
             [
              1,
              "#f0f921"
             ]
            ],
            "type": "heatmap"
           }
          ],
          "heatmapgl": [
           {
            "colorbar": {
             "outlinewidth": 0,
             "ticks": ""
            },
            "colorscale": [
             [
              0,
              "#0d0887"
             ],
             [
              0.1111111111111111,
              "#46039f"
             ],
             [
              0.2222222222222222,
              "#7201a8"
             ],
             [
              0.3333333333333333,
              "#9c179e"
             ],
             [
              0.4444444444444444,
              "#bd3786"
             ],
             [
              0.5555555555555556,
              "#d8576b"
             ],
             [
              0.6666666666666666,
              "#ed7953"
             ],
             [
              0.7777777777777778,
              "#fb9f3a"
             ],
             [
              0.8888888888888888,
              "#fdca26"
             ],
             [
              1,
              "#f0f921"
             ]
            ],
            "type": "heatmapgl"
           }
          ],
          "histogram": [
           {
            "marker": {
             "pattern": {
              "fillmode": "overlay",
              "size": 10,
              "solidity": 0.2
             }
            },
            "type": "histogram"
           }
          ],
          "histogram2d": [
           {
            "colorbar": {
             "outlinewidth": 0,
             "ticks": ""
            },
            "colorscale": [
             [
              0,
              "#0d0887"
             ],
             [
              0.1111111111111111,
              "#46039f"
             ],
             [
              0.2222222222222222,
              "#7201a8"
             ],
             [
              0.3333333333333333,
              "#9c179e"
             ],
             [
              0.4444444444444444,
              "#bd3786"
             ],
             [
              0.5555555555555556,
              "#d8576b"
             ],
             [
              0.6666666666666666,
              "#ed7953"
             ],
             [
              0.7777777777777778,
              "#fb9f3a"
             ],
             [
              0.8888888888888888,
              "#fdca26"
             ],
             [
              1,
              "#f0f921"
             ]
            ],
            "type": "histogram2d"
           }
          ],
          "histogram2dcontour": [
           {
            "colorbar": {
             "outlinewidth": 0,
             "ticks": ""
            },
            "colorscale": [
             [
              0,
              "#0d0887"
             ],
             [
              0.1111111111111111,
              "#46039f"
             ],
             [
              0.2222222222222222,
              "#7201a8"
             ],
             [
              0.3333333333333333,
              "#9c179e"
             ],
             [
              0.4444444444444444,
              "#bd3786"
             ],
             [
              0.5555555555555556,
              "#d8576b"
             ],
             [
              0.6666666666666666,
              "#ed7953"
             ],
             [
              0.7777777777777778,
              "#fb9f3a"
             ],
             [
              0.8888888888888888,
              "#fdca26"
             ],
             [
              1,
              "#f0f921"
             ]
            ],
            "type": "histogram2dcontour"
           }
          ],
          "mesh3d": [
           {
            "colorbar": {
             "outlinewidth": 0,
             "ticks": ""
            },
            "type": "mesh3d"
           }
          ],
          "parcoords": [
           {
            "line": {
             "colorbar": {
              "outlinewidth": 0,
              "ticks": ""
             }
            },
            "type": "parcoords"
           }
          ],
          "pie": [
           {
            "automargin": true,
            "type": "pie"
           }
          ],
          "scatter": [
           {
            "fillpattern": {
             "fillmode": "overlay",
             "size": 10,
             "solidity": 0.2
            },
            "type": "scatter"
           }
          ],
          "scatter3d": [
           {
            "line": {
             "colorbar": {
              "outlinewidth": 0,
              "ticks": ""
             }
            },
            "marker": {
             "colorbar": {
              "outlinewidth": 0,
              "ticks": ""
             }
            },
            "type": "scatter3d"
           }
          ],
          "scattercarpet": [
           {
            "marker": {
             "colorbar": {
              "outlinewidth": 0,
              "ticks": ""
             }
            },
            "type": "scattercarpet"
           }
          ],
          "scattergeo": [
           {
            "marker": {
             "colorbar": {
              "outlinewidth": 0,
              "ticks": ""
             }
            },
            "type": "scattergeo"
           }
          ],
          "scattergl": [
           {
            "marker": {
             "colorbar": {
              "outlinewidth": 0,
              "ticks": ""
             }
            },
            "type": "scattergl"
           }
          ],
          "scattermapbox": [
           {
            "marker": {
             "colorbar": {
              "outlinewidth": 0,
              "ticks": ""
             }
            },
            "type": "scattermapbox"
           }
          ],
          "scatterpolar": [
           {
            "marker": {
             "colorbar": {
              "outlinewidth": 0,
              "ticks": ""
             }
            },
            "type": "scatterpolar"
           }
          ],
          "scatterpolargl": [
           {
            "marker": {
             "colorbar": {
              "outlinewidth": 0,
              "ticks": ""
             }
            },
            "type": "scatterpolargl"
           }
          ],
          "scatterternary": [
           {
            "marker": {
             "colorbar": {
              "outlinewidth": 0,
              "ticks": ""
             }
            },
            "type": "scatterternary"
           }
          ],
          "surface": [
           {
            "colorbar": {
             "outlinewidth": 0,
             "ticks": ""
            },
            "colorscale": [
             [
              0,
              "#0d0887"
             ],
             [
              0.1111111111111111,
              "#46039f"
             ],
             [
              0.2222222222222222,
              "#7201a8"
             ],
             [
              0.3333333333333333,
              "#9c179e"
             ],
             [
              0.4444444444444444,
              "#bd3786"
             ],
             [
              0.5555555555555556,
              "#d8576b"
             ],
             [
              0.6666666666666666,
              "#ed7953"
             ],
             [
              0.7777777777777778,
              "#fb9f3a"
             ],
             [
              0.8888888888888888,
              "#fdca26"
             ],
             [
              1,
              "#f0f921"
             ]
            ],
            "type": "surface"
           }
          ],
          "table": [
           {
            "cells": {
             "fill": {
              "color": "#EBF0F8"
             },
             "line": {
              "color": "white"
             }
            },
            "header": {
             "fill": {
              "color": "#C8D4E3"
             },
             "line": {
              "color": "white"
             }
            },
            "type": "table"
           }
          ]
         },
         "layout": {
          "annotationdefaults": {
           "arrowcolor": "#2a3f5f",
           "arrowhead": 0,
           "arrowwidth": 1
          },
          "autotypenumbers": "strict",
          "coloraxis": {
           "colorbar": {
            "outlinewidth": 0,
            "ticks": ""
           }
          },
          "colorscale": {
           "diverging": [
            [
             0,
             "#8e0152"
            ],
            [
             0.1,
             "#c51b7d"
            ],
            [
             0.2,
             "#de77ae"
            ],
            [
             0.3,
             "#f1b6da"
            ],
            [
             0.4,
             "#fde0ef"
            ],
            [
             0.5,
             "#f7f7f7"
            ],
            [
             0.6,
             "#e6f5d0"
            ],
            [
             0.7,
             "#b8e186"
            ],
            [
             0.8,
             "#7fbc41"
            ],
            [
             0.9,
             "#4d9221"
            ],
            [
             1,
             "#276419"
            ]
           ],
           "sequential": [
            [
             0,
             "#0d0887"
            ],
            [
             0.1111111111111111,
             "#46039f"
            ],
            [
             0.2222222222222222,
             "#7201a8"
            ],
            [
             0.3333333333333333,
             "#9c179e"
            ],
            [
             0.4444444444444444,
             "#bd3786"
            ],
            [
             0.5555555555555556,
             "#d8576b"
            ],
            [
             0.6666666666666666,
             "#ed7953"
            ],
            [
             0.7777777777777778,
             "#fb9f3a"
            ],
            [
             0.8888888888888888,
             "#fdca26"
            ],
            [
             1,
             "#f0f921"
            ]
           ],
           "sequentialminus": [
            [
             0,
             "#0d0887"
            ],
            [
             0.1111111111111111,
             "#46039f"
            ],
            [
             0.2222222222222222,
             "#7201a8"
            ],
            [
             0.3333333333333333,
             "#9c179e"
            ],
            [
             0.4444444444444444,
             "#bd3786"
            ],
            [
             0.5555555555555556,
             "#d8576b"
            ],
            [
             0.6666666666666666,
             "#ed7953"
            ],
            [
             0.7777777777777778,
             "#fb9f3a"
            ],
            [
             0.8888888888888888,
             "#fdca26"
            ],
            [
             1,
             "#f0f921"
            ]
           ]
          },
          "colorway": [
           "#636efa",
           "#EF553B",
           "#00cc96",
           "#ab63fa",
           "#FFA15A",
           "#19d3f3",
           "#FF6692",
           "#B6E880",
           "#FF97FF",
           "#FECB52"
          ],
          "font": {
           "color": "#2a3f5f"
          },
          "geo": {
           "bgcolor": "white",
           "lakecolor": "white",
           "landcolor": "#E5ECF6",
           "showlakes": true,
           "showland": true,
           "subunitcolor": "white"
          },
          "hoverlabel": {
           "align": "left"
          },
          "hovermode": "closest",
          "mapbox": {
           "style": "light"
          },
          "paper_bgcolor": "white",
          "plot_bgcolor": "#E5ECF6",
          "polar": {
           "angularaxis": {
            "gridcolor": "white",
            "linecolor": "white",
            "ticks": ""
           },
           "bgcolor": "#E5ECF6",
           "radialaxis": {
            "gridcolor": "white",
            "linecolor": "white",
            "ticks": ""
           }
          },
          "scene": {
           "xaxis": {
            "backgroundcolor": "#E5ECF6",
            "gridcolor": "white",
            "gridwidth": 2,
            "linecolor": "white",
            "showbackground": true,
            "ticks": "",
            "zerolinecolor": "white"
           },
           "yaxis": {
            "backgroundcolor": "#E5ECF6",
            "gridcolor": "white",
            "gridwidth": 2,
            "linecolor": "white",
            "showbackground": true,
            "ticks": "",
            "zerolinecolor": "white"
           },
           "zaxis": {
            "backgroundcolor": "#E5ECF6",
            "gridcolor": "white",
            "gridwidth": 2,
            "linecolor": "white",
            "showbackground": true,
            "ticks": "",
            "zerolinecolor": "white"
           }
          },
          "shapedefaults": {
           "line": {
            "color": "#2a3f5f"
           }
          },
          "ternary": {
           "aaxis": {
            "gridcolor": "white",
            "linecolor": "white",
            "ticks": ""
           },
           "baxis": {
            "gridcolor": "white",
            "linecolor": "white",
            "ticks": ""
           },
           "bgcolor": "#E5ECF6",
           "caxis": {
            "gridcolor": "white",
            "linecolor": "white",
            "ticks": ""
           }
          },
          "title": {
           "x": 0.05
          },
          "xaxis": {
           "automargin": true,
           "gridcolor": "white",
           "linecolor": "white",
           "ticks": "",
           "title": {
            "standoff": 15
           },
           "zerolinecolor": "white",
           "zerolinewidth": 2
          },
          "yaxis": {
           "automargin": true,
           "gridcolor": "white",
           "linecolor": "white",
           "ticks": "",
           "title": {
            "standoff": 15
           },
           "zerolinecolor": "white",
           "zerolinewidth": 2
          }
         }
        },
        "title": {
         "text": "Head-to-Head Wins"
        },
        "xaxis": {
         "showgrid": false,
         "showline": false,
         "showticklabels": false,
         "zeroline": false
        },
        "yaxis": {
         "showgrid": false,
         "showline": false,
         "showticklabels": false,
         "zeroline": false
        }
       }
      }
     },
     "metadata": {},
     "output_type": "display_data"
    }
   ],
   "source": [
    "# Create layout\n",
    "layout = go.Layout(\n",
    "    title='Head-to-Head Wins',\n",
    "    xaxis=dict(\n",
    "        showline=False,\n",
    "        zeroline=False,\n",
    "        showgrid=False,\n",
    "        showticklabels=False\n",
    "    ),\n",
    "    yaxis=dict(\n",
    "        showline=False,\n",
    "        zeroline=False,\n",
    "        showgrid=False,\n",
    "        showticklabels=False\n",
    "    ),\n",
    "    hovermode='closest'\n",
    ")\n",
    "\n",
    "# Create figure\n",
    "fig = go.Figure(data=edges + nodes, layout=layout)\n",
    "\n",
    "# Show figure\n",
    "fig.show()"
   ]
  }
 ],
 "metadata": {
  "kernelspec": {
   "display_name": "Python 3",
   "language": "python",
   "name": "python3"
  },
  "language_info": {
   "codemirror_mode": {
    "name": "ipython",
    "version": 3
   },
   "file_extension": ".py",
   "mimetype": "text/x-python",
   "name": "python",
   "nbconvert_exporter": "python",
   "pygments_lexer": "ipython3",
   "version": "3.9.10"
  },
  "orig_nbformat": 4
 },
 "nbformat": 4,
 "nbformat_minor": 2
}
