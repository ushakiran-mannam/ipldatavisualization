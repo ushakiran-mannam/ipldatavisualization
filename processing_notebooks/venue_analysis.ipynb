{
 "cells": [
  {
   "cell_type": "code",
   "execution_count": 1,
   "id": "626a07c4",
   "metadata": {},
   "outputs": [
    {
     "name": "stdout",
     "output_type": "stream",
     "text": [
      "{0: player                                           A Mishra\n",
      "venue                                Arun Jaitley Stadium\n",
      "runs scored at that venue                             6.0\n",
      "batting average at that venue                         inf\n",
      "batting strike rate at that venue                0.666667\n",
      "wickets taken at that venue                           9.0\n",
      "bowling average at that venue                   19.666667\n",
      "bowling strike rate at that venue               15.666667\n",
      "Name: 0, dtype: object, 1: player                                                                        A Mishra\n",
      "venue                                Dr. Y.S. Rajasekhara Reddy ACA-VDCA Cricket St...\n",
      "runs scored at that venue                                                          7.0\n",
      "batting average at that venue                                                      7.0\n",
      "batting strike rate at that venue                                             1.166667\n",
      "wickets taken at that venue                                                        2.0\n",
      "bowling average at that venue                                                     18.5\n",
      "bowling strike rate at that venue                                                 24.0\n",
      "Name: 1, dtype: object, 2: player                                             A Mishra\n",
      "venue                                MA Chidambaram Stadium\n",
      "runs scored at that venue                               8.0\n",
      "batting average at that venue                           8.0\n",
      "batting strike rate at that venue                  0.727273\n",
      "wickets taken at that venue                             0.0\n",
      "bowling average at that venue                           inf\n",
      "bowling strike rate at that venue                       inf\n",
      "Name: 2, dtype: object, 3: player                                     AB de Villiers\n",
      "venue                                Arun Jaitley Stadium\n",
      "runs scored at that venue                            17.0\n",
      "batting average at that venue                        17.0\n",
      "batting strike rate at that venue                0.894737\n",
      "wickets taken at that venue                           NaN\n",
      "bowling average at that venue                         NaN\n",
      "bowling strike rate at that venue                     NaN\n",
      "Name: 3, dtype: object, 4: player                                      AB de Villiers\n",
      "venue                                M.Chinnaswamy Stadium\n",
      "runs scored at that venue                            268.0\n",
      "batting average at that venue                         53.6\n",
      "batting strike rate at that venue                 1.624242\n",
      "wickets taken at that venue                            NaN\n",
      "bowling average at that venue                          NaN\n",
      "bowling strike rate at that venue                      NaN\n",
      "Name: 4, dtype: object, 5: player                                       AB de Villiers\n",
      "venue                                MA Chidambaram Stadium\n",
      "runs scored at that venue                               9.0\n",
      "batting average at that venue                           9.0\n",
      "batting strike rate at that venue                       0.9\n",
      "wickets taken at that venue                             NaN\n",
      "bowling average at that venue                           NaN\n",
      "bowling strike rate at that venue                       NaN\n",
      "Name: 5, dtype: object, 6: player                                                             AB de Villiers\n",
      "venue                                Punjab Cricket Association IS Bindra Stadium\n",
      "runs scored at that venue                                                    59.0\n",
      "batting average at that venue                                                 inf\n",
      "batting strike rate at that venue                                        1.552632\n",
      "wickets taken at that venue                                                   NaN\n",
      "bowling average at that venue                                                 NaN\n",
      "bowling strike rate at that venue                                             NaN\n",
      "Name: 6, dtype: object, 7: player                                                   AB de Villiers\n",
      "venue                                Rajiv Gandhi International Stadium\n",
      "runs scored at that venue                                           1.0\n",
      "batting average at that venue                                       1.0\n",
      "batting strike rate at that venue                                   0.5\n",
      "wickets taken at that venue                                         NaN\n",
      "bowling average at that venue                                       NaN\n",
      "bowling strike rate at that venue                                   NaN\n",
      "Name: 7, dtype: object, 8: player                                       AB de Villiers\n",
      "venue                                Sawai Mansingh Stadium\n",
      "runs scored at that venue                              13.0\n",
      "batting average at that venue                          13.0\n",
      "batting strike rate at that venue                  1.444444\n",
      "wickets taken at that venue                             NaN\n",
      "bowling average at that venue                           NaN\n",
      "bowling strike rate at that venue                       NaN\n",
      "Name: 8, dtype: object, 9: player                                 AB de Villiers\n",
      "venue                                Wankhede Stadium\n",
      "runs scored at that venue                        75.0\n",
      "batting average at that venue                    75.0\n",
      "batting strike rate at that venue            1.470588\n",
      "wickets taken at that venue                       NaN\n",
      "bowling average at that venue                     NaN\n",
      "bowling strike rate at that venue                 NaN\n",
      "Name: 9, dtype: object, 10: player                                    AD Nath\n",
      "venue                                Eden Gardens\n",
      "runs scored at that venue                    13.0\n",
      "batting average at that venue                13.0\n",
      "batting strike rate at that venue          0.8125\n",
      "wickets taken at that venue                   NaN\n",
      "bowling average at that venue                 NaN\n",
      "bowling strike rate at that venue             NaN\n",
      "Name: 10, dtype: object, 11: player                                             AD Nath\n",
      "venue                                M.Chinnaswamy Stadium\n",
      "runs scored at that venue                             46.0\n",
      "batting average at that venue                    15.333333\n",
      "batting strike rate at that venue                 1.179487\n",
      "wickets taken at that venue                            NaN\n",
      "bowling average at that venue                          NaN\n",
      "bowling strike rate at that venue                      NaN\n",
      "Name: 11, dtype: object, 12: player                                        AD Nath\n",
      "venue                                Wankhede Stadium\n",
      "runs scored at that venue                         2.0\n",
      "batting average at that venue                     2.0\n",
      "batting strike rate at that venue            0.666667\n",
      "wickets taken at that venue                       NaN\n",
      "bowling average at that venue                     NaN\n",
      "bowling strike rate at that venue                 NaN\n",
      "Name: 12, dtype: object, 13: player                                         AD Russell\n",
      "venue                                Arun Jaitley Stadium\n",
      "runs scored at that venue                            66.0\n",
      "batting average at that venue                        33.0\n",
      "batting strike rate at that venue                  2.0625\n",
      "wickets taken at that venue                           1.0\n",
      "bowling average at that venue                        28.0\n",
      "bowling strike rate at that venue                    18.0\n",
      "Name: 13, dtype: object, 14: player                                 AD Russell\n",
      "venue                                Eden Gardens\n",
      "runs scored at that venue                   311.0\n",
      "batting average at that venue                62.2\n",
      "batting strike rate at that venue        2.059603\n",
      "wickets taken at that venue                   9.0\n",
      "bowling average at that venue           19.111111\n",
      "bowling strike rate at that venue       13.333333\n",
      "Name: 14, dtype: object, 15: player                                          AD Russell\n",
      "venue                                M.Chinnaswamy Stadium\n",
      "runs scored at that venue                             48.0\n",
      "batting average at that venue                          inf\n",
      "batting strike rate at that venue                      3.0\n",
      "wickets taken at that venue                            0.0\n",
      "bowling average at that venue                          inf\n",
      "bowling strike rate at that venue                      inf\n",
      "Name: 15, dtype: object, 16: player                                           AD Russell\n",
      "venue                                MA Chidambaram Stadium\n",
      "runs scored at that venue                              50.0\n",
      "batting average at that venue                           inf\n",
      "batting strike rate at that venue                  1.086957\n",
      "wickets taken at that venue                             NaN\n",
      "bowling average at that venue                           NaN\n",
      "bowling strike rate at that venue                       NaN\n",
      "Name: 16, dtype: object, 17: player                                                                 AD Russell\n",
      "venue                                Punjab Cricket Association IS Bindra Stadium\n",
      "runs scored at that venue                                                    24.0\n",
      "batting average at that venue                                                24.0\n",
      "batting strike rate at that venue                                        1.411765\n",
      "wickets taken at that venue                                                   1.0\n",
      "bowling average at that venue                                                30.0\n",
      "bowling strike rate at that venue                                            19.0\n",
      "Name: 17, dtype: object, 18: player                                                       AD Russell\n",
      "venue                                Rajiv Gandhi International Stadium\n",
      "runs scored at that venue                                          15.0\n",
      "batting average at that venue                                      15.0\n",
      "batting strike rate at that venue                                   1.5\n",
      "wickets taken at that venue                                         0.0\n",
      "bowling average at that venue                                       inf\n",
      "bowling strike rate at that venue                                   inf\n",
      "Name: 18, dtype: object, 19: player                                     AD Russell\n",
      "venue                                Wankhede Stadium\n",
      "runs scored at that venue                         0.0\n",
      "batting average at that venue                     0.0\n",
      "batting strike rate at that venue                 0.0\n",
      "wickets taken at that venue                       0.0\n",
      "bowling average at that venue                     inf\n",
      "bowling strike rate at that venue                 inf\n",
      "Name: 19, dtype: object, 20: player                                                                  AJ Turner\n",
      "venue                                Punjab Cricket Association IS Bindra Stadium\n",
      "runs scored at that venue                                                     0.0\n",
      "batting average at that venue                                                 0.0\n",
      "batting strike rate at that venue                                             0.0\n",
      "wickets taken at that venue                                                   NaN\n",
      "bowling average at that venue                                                 NaN\n",
      "bowling strike rate at that venue                                             NaN\n",
      "Name: 20, dtype: object, 21: player                                            AJ Turner\n",
      "venue                                Sawai Mansingh Stadium\n",
      "runs scored at that venue                               3.0\n",
      "batting average at that venue                           1.5\n",
      "batting strike rate at that venue                  0.333333\n",
      "wickets taken at that venue                             NaN\n",
      "bowling average at that venue                           NaN\n",
      "bowling strike rate at that venue                       NaN\n",
      "Name: 21, dtype: object, 22: player                                                                     AJ Tye\n",
      "venue                                Punjab Cricket Association IS Bindra Stadium\n",
      "runs scored at that venue                                                     0.0\n",
      "batting average at that venue                                                 NaN\n",
      "batting strike rate at that venue                                             0.0\n",
      "wickets taken at that venue                                                   2.0\n",
      "bowling average at that venue                                                79.0\n",
      "bowling strike rate at that venue                                            44.0\n",
      "Name: 22, dtype: object, 23: player                                          AM Rahane\n",
      "venue                                Arun Jaitley Stadium\n",
      "runs scored at that venue                             2.0\n",
      "batting average at that venue                         2.0\n",
      "batting strike rate at that venue                     0.5\n",
      "wickets taken at that venue                           NaN\n",
      "bowling average at that venue                         NaN\n",
      "bowling strike rate at that venue                     NaN\n",
      "Name: 23, dtype: object, 24: player                                  AM Rahane\n",
      "venue                                Eden Gardens\n",
      "runs scored at that venue                    34.0\n",
      "batting average at that venue                34.0\n",
      "batting strike rate at that venue        1.619048\n",
      "wickets taken at that venue                   NaN\n",
      "bowling average at that venue                 NaN\n",
      "bowling strike rate at that venue             NaN\n",
      "Name: 24, dtype: object, 25: player                                            AM Rahane\n",
      "venue                                MA Chidambaram Stadium\n",
      "runs scored at that venue                               0.0\n",
      "batting average at that venue                           0.0\n",
      "batting strike rate at that venue                       0.0\n",
      "wickets taken at that venue                             NaN\n",
      "bowling average at that venue                           NaN\n",
      "bowling strike rate at that venue                       NaN\n",
      "Name: 25, dtype: object, 26: player                                                                  AM Rahane\n",
      "venue                                Punjab Cricket Association IS Bindra Stadium\n",
      "runs scored at that venue                                                    26.0\n",
      "batting average at that venue                                                26.0\n",
      "batting strike rate at that venue                                        1.238095\n",
      "wickets taken at that venue                                                   NaN\n",
      "bowling average at that venue                                                 NaN\n",
      "bowling strike rate at that venue                                             NaN\n",
      "Name: 26, dtype: object, 27: player                                                        AM Rahane\n",
      "venue                                Rajiv Gandhi International Stadium\n",
      "runs scored at that venue                                          70.0\n",
      "batting average at that venue                                      70.0\n",
      "batting strike rate at that venue                              1.428571\n",
      "wickets taken at that venue                                         NaN\n",
      "bowling average at that venue                                       NaN\n",
      "bowling strike rate at that venue                                   NaN\n",
      "Name: 27, dtype: object, 28: player                                            AM Rahane\n",
      "venue                                Sawai Mansingh Stadium\n",
      "runs scored at that venue                             224.0\n",
      "batting average at that venue                          32.0\n",
      "batting strike rate at that venue                  1.309942\n",
      "wickets taken at that venue                             NaN\n",
      "bowling average at that venue                           NaN\n",
      "bowling strike rate at that venue                       NaN\n",
      "Name: 28, dtype: object, 29: player                                      AM Rahane\n",
      "venue                                Wankhede Stadium\n",
      "runs scored at that venue                        37.0\n",
      "batting average at that venue                    37.0\n",
      "batting strike rate at that venue            1.761905\n",
      "wickets taken at that venue                       NaN\n",
      "bowling average at that venue                     NaN\n",
      "bowling strike rate at that venue                 NaN\n",
      "Name: 29, dtype: object, 30: player                                           AR Patel\n",
      "venue                                Arun Jaitley Stadium\n",
      "runs scored at that venue                            76.0\n",
      "batting average at that venue                   25.333333\n",
      "batting strike rate at that venue                1.333333\n",
      "wickets taken at that venue                           7.0\n",
      "bowling average at that venue                        17.0\n",
      "bowling strike rate at that venue               19.857143\n",
      "Name: 30, dtype: object, 31: player                                                                        AR Patel\n",
      "venue                                Dr. Y.S. Rajasekhara Reddy ACA-VDCA Cricket St...\n",
      "runs scored at that venue                                                          3.0\n",
      "batting average at that venue                                                      1.5\n",
      "batting strike rate at that venue                                             0.333333\n",
      "wickets taken at that venue                                                        1.0\n",
      "bowling average at that venue                                                     62.0\n",
      "bowling strike rate at that venue                                                 48.0\n",
      "Name: 31, dtype: object, 32: player                                            AR Patel\n",
      "venue                                M.Chinnaswamy Stadium\n",
      "runs scored at that venue                              4.0\n",
      "batting average at that venue                          inf\n",
      "batting strike rate at that venue                      4.0\n",
      "wickets taken at that venue                            1.0\n",
      "bowling average at that venue                         22.0\n",
      "bowling strike rate at that venue                     24.0\n",
      "Name: 32, dtype: object, 33: player                                             AR Patel\n",
      "venue                                MA Chidambaram Stadium\n",
      "runs scored at that venue                               9.0\n",
      "batting average at that venue                           9.0\n",
      "batting strike rate at that venue                       1.0\n",
      "wickets taken at that venue                             1.0\n",
      "bowling average at that venue                          31.0\n",
      "bowling strike rate at that venue                      18.0\n",
      "Name: 33, dtype: object, 34: player                                                         AR Patel\n",
      "venue                                Rajiv Gandhi International Stadium\n",
      "runs scored at that venue                                          14.0\n",
      "batting average at that venue                                       inf\n",
      "batting strike rate at that venue                              1.166667\n",
      "wickets taken at that venue                                         0.0\n",
      "bowling average at that venue                                       inf\n",
      "bowling strike rate at that venue                                   inf\n",
      "Name: 34, dtype: object, 35: player                                       AR Patel\n",
      "venue                                Wankhede Stadium\n",
      "runs scored at that venue                         4.0\n",
      "batting average at that venue                     4.0\n",
      "batting strike rate at that venue                 2.0\n",
      "wickets taken at that venue                       1.0\n",
      "bowling average at that venue                    42.0\n",
      "bowling strike rate at that venue                18.0\n",
      "Name: 35, dtype: object, 36: player                                      AS Joseph\n",
      "venue                                Wankhede Stadium\n",
      "runs scored at that venue                        15.0\n",
      "batting average at that venue                     inf\n",
      "batting strike rate at that venue            1.153846\n",
      "wickets taken at that venue                       0.0\n",
      "bowling average at that venue                     inf\n",
      "bowling strike rate at that venue                 inf\n",
      "Name: 36, dtype: object, 37: player                                          AT Rayudu\n",
      "venue                                Arun Jaitley Stadium\n",
      "runs scored at that venue                             5.0\n",
      "batting average at that venue                         5.0\n",
      "batting strike rate at that venue                     1.0\n",
      "wickets taken at that venue                           NaN\n",
      "bowling average at that venue                         NaN\n",
      "bowling strike rate at that venue                     NaN\n",
      "Name: 37, dtype: object, 38: player                                                                       AT Rayudu\n",
      "venue                                Dr. Y.S. Rajasekhara Reddy ACA-VDCA Cricket St...\n",
      "runs scored at that venue                                                         20.0\n",
      "batting average at that venue                                                      inf\n",
      "batting strike rate at that venue                                                  1.0\n",
      "wickets taken at that venue                                                        NaN\n",
      "bowling average at that venue                                                      NaN\n",
      "bowling strike rate at that venue                                                  NaN\n",
      "Name: 38, dtype: object, 39: player                                  AT Rayudu\n",
      "venue                                Eden Gardens\n",
      "runs scored at that venue                     5.0\n",
      "batting average at that venue                 5.0\n",
      "batting strike rate at that venue        0.416667\n",
      "wickets taken at that venue                   NaN\n",
      "bowling average at that venue                 NaN\n",
      "bowling strike rate at that venue             NaN\n",
      "Name: 39, dtype: object, 40: player                                           AT Rayudu\n",
      "venue                                M.Chinnaswamy Stadium\n",
      "runs scored at that venue                             29.0\n",
      "batting average at that venue                         29.0\n",
      "batting strike rate at that venue                      1.0\n",
      "wickets taken at that venue                            NaN\n",
      "bowling average at that venue                          NaN\n",
      "bowling strike rate at that venue                      NaN\n",
      "Name: 40, dtype: object, 41: player                                            AT Rayudu\n",
      "venue                                MA Chidambaram Stadium\n",
      "runs scored at that venue                             139.0\n",
      "batting average at that venue                          27.8\n",
      "batting strike rate at that venue                  0.842424\n",
      "wickets taken at that venue                             NaN\n",
      "bowling average at that venue                           NaN\n",
      "bowling strike rate at that venue                       NaN\n",
      "Name: 41, dtype: object, 42: player                                                                  AT Rayudu\n",
      "venue                                Punjab Cricket Association IS Bindra Stadium\n",
      "runs scored at that venue                                                     1.0\n",
      "batting average at that venue                                                 1.0\n",
      "batting strike rate at that venue                                             0.5\n",
      "wickets taken at that venue                                                   NaN\n",
      "bowling average at that venue                                                 NaN\n",
      "bowling strike rate at that venue                                             NaN\n",
      "Name: 42, dtype: object, 43: player                                                        AT Rayudu\n",
      "venue                                Rajiv Gandhi International Stadium\n",
      "runs scored at that venue                                          26.0\n",
      "batting average at that venue                                      26.0\n",
      "batting strike rate at that venue                                  1.04\n",
      "wickets taken at that venue                                         NaN\n",
      "bowling average at that venue                                       NaN\n",
      "bowling strike rate at that venue                                   NaN\n",
      "Name: 43, dtype: object, 44: player                                            AT Rayudu\n",
      "venue                                Sawai Mansingh Stadium\n",
      "runs scored at that venue                              57.0\n",
      "batting average at that venue                          57.0\n",
      "batting strike rate at that venue                    1.1875\n",
      "wickets taken at that venue                             NaN\n",
      "bowling average at that venue                           NaN\n",
      "bowling strike rate at that venue                       NaN\n",
      "Name: 44, dtype: object, 45: player                                      AT Rayudu\n",
      "venue                                Wankhede Stadium\n",
      "runs scored at that venue                         0.0\n",
      "batting average at that venue                     0.0\n",
      "batting strike rate at that venue                 0.0\n",
      "wickets taken at that venue                       NaN\n",
      "bowling average at that venue                     NaN\n",
      "bowling strike rate at that venue                 NaN\n",
      "Name: 45, dtype: object, 46: player                                                  Abhishek Sharma\n",
      "venue                                Rajiv Gandhi International Stadium\n",
      "runs scored at that venue                                           7.0\n",
      "batting average at that venue                                       7.0\n",
      "batting strike rate at that venue                                   1.0\n",
      "wickets taken at that venue                                         1.0\n",
      "bowling average at that venue                                      21.0\n",
      "bowling strike rate at that venue                                  13.0\n",
      "Name: 46, dtype: object, 47: player                                Abhishek Sharma\n",
      "venue                                Wankhede Stadium\n",
      "runs scored at that venue                         2.0\n",
      "batting average at that venue                     2.0\n",
      "batting strike rate at that venue            0.666667\n",
      "wickets taken at that venue                       NaN\n",
      "bowling average at that venue                     NaN\n",
      "bowling strike rate at that venue                 NaN\n",
      "Name: 47, dtype: object, 48: player                                                                 Avesh Khan\n",
      "venue                                Punjab Cricket Association IS Bindra Stadium\n",
      "runs scored at that venue                                                     4.0\n",
      "batting average at that venue                                                 inf\n",
      "batting strike rate at that venue                                        1.333333\n",
      "wickets taken at that venue                                                   0.0\n",
      "bowling average at that venue                                                 inf\n",
      "bowling strike rate at that venue                                             inf\n",
      "Name: 48, dtype: object, 49: player                                             B Kumar\n",
      "venue                                M.Chinnaswamy Stadium\n",
      "runs scored at that venue                              7.0\n",
      "batting average at that venue                          inf\n",
      "batting strike rate at that venue                      1.4\n",
      "wickets taken at that venue                            2.0\n",
      "bowling average at that venue                         12.5\n",
      "bowling strike rate at that venue                     12.5\n",
      "Name: 49, dtype: object, 50: player                                                          B Kumar\n",
      "venue                                Rajiv Gandhi International Stadium\n",
      "runs scored at that venue                                           4.0\n",
      "batting average at that venue                                       2.0\n",
      "batting strike rate at that venue                                   0.4\n",
      "wickets taken at that venue                                         5.0\n",
      "bowling average at that venue                                      47.8\n",
      "bowling strike rate at that venue                                  33.8\n",
      "Name: 50, dtype: object, 51: player                                              B Kumar\n",
      "venue                                Sawai Mansingh Stadium\n",
      "runs scored at that venue                               1.0\n",
      "batting average at that venue                           1.0\n",
      "batting strike rate at that venue                      0.25\n",
      "wickets taken at that venue                             0.0\n",
      "bowling average at that venue                           inf\n",
      "bowling strike rate at that venue                       inf\n",
      "Name: 51, dtype: object, 52: player                                  BA Stokes\n",
      "venue                                Eden Gardens\n",
      "runs scored at that venue                    11.0\n",
      "batting average at that venue                11.0\n",
      "batting strike rate at that venue             1.1\n",
      "wickets taken at that venue                   NaN\n",
      "bowling average at that venue                 NaN\n",
      "bowling strike rate at that venue             NaN\n",
      "Name: 52, dtype: object, 53: player                                            BA Stokes\n",
      "venue                                MA Chidambaram Stadium\n",
      "runs scored at that venue                              46.0\n",
      "batting average at that venue                          46.0\n",
      "batting strike rate at that venue                  1.769231\n",
      "wickets taken at that venue                             1.0\n",
      "bowling average at that venue                          30.0\n",
      "bowling strike rate at that venue                      18.0\n",
      "Name: 53, dtype: object, 54: player                                                        BA Stokes\n",
      "venue                                Rajiv Gandhi International Stadium\n",
      "runs scored at that venue                                          16.0\n",
      "batting average at that venue                                       inf\n",
      "batting strike rate at that venue                              1.777778\n",
      "wickets taken at that venue                                         1.0\n",
      "bowling average at that venue                                      41.0\n",
      "bowling strike rate at that venue                                  18.0\n",
      "Name: 54, dtype: object, 55: player                                            BA Stokes\n",
      "venue                                Sawai Mansingh Stadium\n",
      "runs scored at that venue                              50.0\n",
      "batting average at that venue                          12.5\n",
      "batting strike rate at that venue                  0.909091\n",
      "wickets taken at that venue                             4.0\n",
      "bowling average at that venue                         32.25\n",
      "bowling strike rate at that venue                     18.25\n",
      "Name: 55, dtype: object, 56: player                                    BB Sran\n",
      "venue                                Eden Gardens\n",
      "runs scored at that venue                     3.0\n",
      "batting average at that venue                 inf\n",
      "batting strike rate at that venue             1.0\n",
      "wickets taken at that venue                   0.0\n",
      "bowling average at that venue                 inf\n",
      "bowling strike rate at that venue             inf\n",
      "Name: 56, dtype: object, 57: player                                        BCJ Cutting\n",
      "venue                                Arun Jaitley Stadium\n",
      "runs scored at that venue                             2.0\n",
      "batting average at that venue                         2.0\n",
      "batting strike rate at that venue                     0.5\n",
      "wickets taken at that venue                           NaN\n",
      "bowling average at that venue                         NaN\n",
      "bowling strike rate at that venue                     NaN\n",
      "Name: 57, dtype: object, 58: player                                          BCJ Cutting\n",
      "venue                                Sawai Mansingh Stadium\n",
      "runs scored at that venue                              13.0\n",
      "batting average at that venue                           inf\n",
      "batting strike rate at that venue                  1.444444\n",
      "wickets taken at that venue                             NaN\n",
      "bowling average at that venue                           NaN\n",
      "bowling strike rate at that venue                       NaN\n",
      "Name: 58, dtype: object, 59: player                                    BCJ Cutting\n",
      "venue                                Wankhede Stadium\n",
      "runs scored at that venue                         3.0\n",
      "batting average at that venue                     3.0\n",
      "batting strike rate at that venue                0.75\n",
      "wickets taken at that venue                       1.0\n",
      "bowling average at that venue                    27.0\n",
      "bowling strike rate at that venue                12.0\n",
      "Name: 59, dtype: object, 60: player                                                                    Basil Thampi\n",
      "venue                                Dr. Y.S. Rajasekhara Reddy ACA-VDCA Cricket St...\n",
      "runs scored at that venue                                                          1.0\n",
      "batting average at that venue                                                      inf\n",
      "batting strike rate at that venue                                                  1.0\n",
      "wickets taken at that venue                                                        0.0\n",
      "bowling average at that venue                                                      inf\n",
      "bowling strike rate at that venue                                                  inf\n",
      "Name: 60, dtype: object, 61: player                                            C Munro\n",
      "venue                                Arun Jaitley Stadium\n",
      "runs scored at that venue                             3.0\n",
      "batting average at that venue                         3.0\n",
      "batting strike rate at that venue                     0.3\n",
      "wickets taken at that venue                           NaN\n",
      "bowling average at that venue                         NaN\n",
      "bowling strike rate at that venue                     NaN\n",
      "Name: 61, dtype: object, 62: player                                                                         C Munro\n",
      "venue                                Dr. Y.S. Rajasekhara Reddy ACA-VDCA Cricket St...\n",
      "runs scored at that venue                                                         41.0\n",
      "batting average at that venue                                                     20.5\n",
      "batting strike rate at that venue                                             1.108108\n",
      "wickets taken at that venue                                                        NaN\n",
      "bowling average at that venue                                                      NaN\n",
      "bowling strike rate at that venue                                                  NaN\n",
      "Name: 62, dtype: object, 63: player                                                          C Munro\n",
      "venue                                Rajiv Gandhi International Stadium\n",
      "runs scored at that venue                                          40.0\n",
      "batting average at that venue                                      40.0\n",
      "batting strike rate at that venue                                   1.6\n",
      "wickets taken at that venue                                         NaN\n",
      "bowling average at that venue                                       NaN\n",
      "bowling strike rate at that venue                                   NaN\n",
      "Name: 63, dtype: object, 64: player                                     C de Grandhomme\n",
      "venue                                M.Chinnaswamy Stadium\n",
      "runs scored at that venue                              5.0\n",
      "batting average at that venue                          5.0\n",
      "batting strike rate at that venue                 0.416667\n",
      "wickets taken at that venue                            0.0\n",
      "bowling average at that venue                          inf\n",
      "bowling strike rate at that venue                      inf\n",
      "Name: 64, dtype: object, 65: player                                      C de Grandhomme\n",
      "venue                                MA Chidambaram Stadium\n",
      "runs scored at that venue                               4.0\n",
      "batting average at that venue                           4.0\n",
      "batting strike rate at that venue                  0.666667\n",
      "wickets taken at that venue                             NaN\n",
      "bowling average at that venue                           NaN\n",
      "bowling strike rate at that venue                       NaN\n",
      "Name: 65, dtype: object, 66: player                                                  C de Grandhomme\n",
      "venue                                Rajiv Gandhi International Stadium\n",
      "runs scored at that venue                                          37.0\n",
      "batting average at that venue                                      37.0\n",
      "batting strike rate at that venue                               1.15625\n",
      "wickets taken at that venue                                         0.0\n",
      "bowling average at that venue                                       inf\n",
      "bowling strike rate at that venue                                   inf\n",
      "Name: 66, dtype: object, 67: player                                          CA Ingram\n",
      "venue                                Arun Jaitley Stadium\n",
      "runs scored at that venue                            59.0\n",
      "batting average at that venue                    9.833333\n",
      "batting strike rate at that venue                1.017241\n",
      "wickets taken at that venue                           NaN\n",
      "bowling average at that venue                         NaN\n",
      "bowling strike rate at that venue                     NaN\n",
      "Name: 67, dtype: object, 68: player                                  CA Ingram\n",
      "venue                                Eden Gardens\n",
      "runs scored at that venue                    14.0\n",
      "batting average at that venue                 inf\n",
      "batting strike rate at that venue        2.333333\n",
      "wickets taken at that venue                   NaN\n",
      "bowling average at that venue                 NaN\n",
      "bowling strike rate at that venue             NaN\n",
      "Name: 68, dtype: object, 69: player                                           CA Ingram\n",
      "venue                                M.Chinnaswamy Stadium\n",
      "runs scored at that venue                             22.0\n",
      "batting average at that venue                         22.0\n",
      "batting strike rate at that venue                      1.0\n",
      "wickets taken at that venue                            NaN\n",
      "bowling average at that venue                          NaN\n",
      "bowling strike rate at that venue                      NaN\n",
      "Name: 69, dtype: object, 70: player                                            CA Ingram\n",
      "venue                                MA Chidambaram Stadium\n",
      "runs scored at that venue                               1.0\n",
      "batting average at that venue                           1.0\n",
      "batting strike rate at that venue                       0.2\n",
      "wickets taken at that venue                             NaN\n",
      "bowling average at that venue                           NaN\n",
      "bowling strike rate at that venue                       NaN\n",
      "Name: 70, dtype: object, 71: player                                                                  CA Ingram\n",
      "venue                                Punjab Cricket Association IS Bindra Stadium\n",
      "runs scored at that venue                                                    38.0\n",
      "batting average at that venue                                                38.0\n",
      "batting strike rate at that venue                                        1.310345\n",
      "wickets taken at that venue                                                   NaN\n",
      "bowling average at that venue                                                 NaN\n",
      "bowling strike rate at that venue                                             NaN\n",
      "Name: 71, dtype: object, 72: player                                            CA Ingram\n",
      "venue                                Sawai Mansingh Stadium\n",
      "runs scored at that venue                               3.0\n",
      "batting average at that venue                           inf\n",
      "batting strike rate at that venue                       0.6\n",
      "wickets taken at that venue                             NaN\n",
      "bowling average at that venue                           NaN\n",
      "bowling strike rate at that venue                       NaN\n",
      "Name: 72, dtype: object, 73: player                                      CA Ingram\n",
      "venue                                Wankhede Stadium\n",
      "runs scored at that venue                        47.0\n",
      "batting average at that venue                    47.0\n",
      "batting strike rate at that venue             1.46875\n",
      "wickets taken at that venue                       NaN\n",
      "bowling average at that venue                     NaN\n",
      "bowling strike rate at that venue                 NaN\n",
      "Name: 73, dtype: object, 74: player                                            CA Lynn\n",
      "venue                                Arun Jaitley Stadium\n",
      "runs scored at that venue                            20.0\n",
      "batting average at that venue                        20.0\n",
      "batting strike rate at that venue                1.111111\n",
      "wickets taken at that venue                           NaN\n",
      "bowling average at that venue                         NaN\n",
      "bowling strike rate at that venue                     NaN\n",
      "Name: 74, dtype: object, 75: player                                    CA Lynn\n",
      "venue                                Eden Gardens\n",
      "runs scored at that venue                   154.0\n",
      "batting average at that venue           25.666667\n",
      "batting strike rate at that venue        1.425926\n",
      "wickets taken at that venue                   NaN\n",
      "bowling average at that venue                 NaN\n",
      "bowling strike rate at that venue             NaN\n",
      "Name: 75, dtype: object, 76: player                                             CA Lynn\n",
      "venue                                M.Chinnaswamy Stadium\n",
      "runs scored at that venue                             43.0\n",
      "batting average at that venue                         43.0\n",
      "batting strike rate at that venue                  1.34375\n",
      "wickets taken at that venue                            NaN\n",
      "bowling average at that venue                          NaN\n",
      "bowling strike rate at that venue                      NaN\n",
      "Name: 76, dtype: object, 77: player                                              CA Lynn\n",
      "venue                                MA Chidambaram Stadium\n",
      "runs scored at that venue                               0.0\n",
      "batting average at that venue                           0.0\n",
      "batting strike rate at that venue                       0.0\n",
      "wickets taken at that venue                             NaN\n",
      "bowling average at that venue                           NaN\n",
      "bowling strike rate at that venue                       NaN\n",
      "Name: 77, dtype: object, 78: player                                                                    CA Lynn\n",
      "venue                                Punjab Cricket Association IS Bindra Stadium\n",
      "runs scored at that venue                                                    46.0\n",
      "batting average at that venue                                                46.0\n",
      "batting strike rate at that venue                                        2.090909\n",
      "wickets taken at that venue                                                   NaN\n",
      "bowling average at that venue                                                 NaN\n",
      "bowling strike rate at that venue                                             NaN\n",
      "Name: 78, dtype: object, 79: player                                                          CA Lynn\n",
      "venue                                Rajiv Gandhi International Stadium\n",
      "runs scored at that venue                                          51.0\n",
      "batting average at that venue                                      51.0\n",
      "batting strike rate at that venue                                  1.02\n",
      "wickets taken at that venue                                         NaN\n",
      "bowling average at that venue                                       NaN\n",
      "bowling strike rate at that venue                                   NaN\n",
      "Name: 79, dtype: object, 80: player                                              CA Lynn\n",
      "venue                                Sawai Mansingh Stadium\n",
      "runs scored at that venue                              50.0\n",
      "batting average at that venue                          50.0\n",
      "batting strike rate at that venue                    1.5625\n",
      "wickets taken at that venue                             NaN\n",
      "bowling average at that venue                           NaN\n",
      "bowling strike rate at that venue                       NaN\n",
      "Name: 80, dtype: object, 81: player                                        CA Lynn\n",
      "venue                                Wankhede Stadium\n",
      "runs scored at that venue                        41.0\n",
      "batting average at that venue                    41.0\n",
      "batting strike rate at that venue            1.413793\n",
      "wickets taken at that venue                       NaN\n",
      "bowling average at that venue                     NaN\n",
      "bowling strike rate at that venue                 NaN\n",
      "Name: 81, dtype: object, 82: player                                           CH Gayle\n",
      "venue                                Arun Jaitley Stadium\n",
      "runs scored at that venue                            69.0\n",
      "batting average at that venue                        69.0\n",
      "batting strike rate at that venue                1.864865\n",
      "wickets taken at that venue                           NaN\n",
      "bowling average at that venue                         NaN\n",
      "bowling strike rate at that venue                     NaN\n",
      "Name: 82, dtype: object, 83: player                                   CH Gayle\n",
      "venue                                Eden Gardens\n",
      "runs scored at that venue                    20.0\n",
      "batting average at that venue                20.0\n",
      "batting strike rate at that venue        1.428571\n",
      "wickets taken at that venue                   NaN\n",
      "bowling average at that venue                 NaN\n",
      "bowling strike rate at that venue             NaN\n",
      "Name: 83, dtype: object, 84: player                                            CH Gayle\n",
      "venue                                M.Chinnaswamy Stadium\n",
      "runs scored at that venue                             23.0\n",
      "batting average at that venue                         23.0\n",
      "batting strike rate at that venue                 2.090909\n",
      "wickets taken at that venue                            NaN\n",
      "bowling average at that venue                          NaN\n",
      "bowling strike rate at that venue                      NaN\n",
      "Name: 84, dtype: object, 85: player                                             CH Gayle\n",
      "venue                                MA Chidambaram Stadium\n",
      "runs scored at that venue                               5.0\n",
      "batting average at that venue                           5.0\n",
      "batting strike rate at that venue                     0.625\n",
      "wickets taken at that venue                             NaN\n",
      "bowling average at that venue                           NaN\n",
      "bowling strike rate at that venue                       NaN\n",
      "Name: 85, dtype: object, 86: player                                                                   CH Gayle\n",
      "venue                                Punjab Cricket Association IS Bindra Stadium\n",
      "runs scored at that venue                                                   227.0\n",
      "batting average at that venue                                                45.4\n",
      "batting strike rate at that venue                                        1.297143\n",
      "wickets taken at that venue                                                   NaN\n",
      "bowling average at that venue                                                 NaN\n",
      "bowling strike rate at that venue                                             NaN\n",
      "Name: 86, dtype: object, 87: player                                                         CH Gayle\n",
      "venue                                Rajiv Gandhi International Stadium\n",
      "runs scored at that venue                                           4.0\n",
      "batting average at that venue                                       4.0\n",
      "batting strike rate at that venue                              1.333333\n",
      "wickets taken at that venue                                         NaN\n",
      "bowling average at that venue                                       NaN\n",
      "bowling strike rate at that venue                                   NaN\n",
      "Name: 87, dtype: object, 88: player                                             CH Gayle\n",
      "venue                                Sawai Mansingh Stadium\n",
      "runs scored at that venue                              79.0\n",
      "batting average at that venue                          79.0\n",
      "batting strike rate at that venue                  1.519231\n",
      "wickets taken at that venue                             NaN\n",
      "bowling average at that venue                           NaN\n",
      "bowling strike rate at that venue                       NaN\n",
      "Name: 88, dtype: object, 89: player                                       CH Gayle\n",
      "venue                                Wankhede Stadium\n",
      "runs scored at that venue                        63.0\n",
      "batting average at that venue                    63.0\n",
      "batting strike rate at that venue            1.657895\n",
      "wickets taken at that venue                       NaN\n",
      "bowling average at that venue                     NaN\n",
      "bowling strike rate at that venue                 NaN\n",
      "Name: 89, dtype: object, 90: player                                          CH Morris\n",
      "venue                                Arun Jaitley Stadium\n",
      "runs scored at that venue                            28.0\n",
      "batting average at that venue                        14.0\n",
      "batting strike rate at that venue                    1.12\n",
      "wickets taken at that venue                           1.0\n",
      "bowling average at that venue                       108.0\n",
      "bowling strike rate at that venue                    61.0\n",
      "Name: 90, dtype: object, 91: player                                           CH Morris\n",
      "venue                                M.Chinnaswamy Stadium\n",
      "runs scored at that venue                              0.0\n",
      "batting average at that venue                          0.0\n",
      "batting strike rate at that venue                      0.0\n",
      "wickets taken at that venue                            2.0\n",
      "bowling average at that venue                         14.0\n",
      "bowling strike rate at that venue                     13.0\n",
      "Name: 91, dtype: object, 92: player                                            CH Morris\n",
      "venue                                MA Chidambaram Stadium\n",
      "runs scored at that venue                               0.0\n",
      "batting average at that venue                           0.0\n",
      "batting strike rate at that venue                       0.0\n",
      "wickets taken at that venue                             1.0\n",
      "bowling average at that venue                          47.0\n",
      "bowling strike rate at that venue                      26.0\n",
      "Name: 92, dtype: object, 93: player                                                                  CH Morris\n",
      "venue                                Punjab Cricket Association IS Bindra Stadium\n",
      "runs scored at that venue                                                     0.0\n",
      "batting average at that venue                                                 0.0\n",
      "batting strike rate at that venue                                             0.0\n",
      "wickets taken at that venue                                                   3.0\n",
      "bowling average at that venue                                                10.0\n",
      "bowling strike rate at that venue                                        8.333333\n",
      "Name: 93, dtype: object, 94: player                                                        CH Morris\n",
      "venue                                Rajiv Gandhi International Stadium\n",
      "runs scored at that venue                                           4.0\n",
      "batting average at that venue                                       4.0\n",
      "batting strike rate at that venue                                   0.5\n",
      "wickets taken at that venue                                         3.0\n",
      "bowling average at that venue                                  7.333333\n",
      "bowling strike rate at that venue                                   6.0\n",
      "Name: 94, dtype: object, 95: player                               CR Brathwaite\n",
      "venue                                 Eden Gardens\n",
      "runs scored at that venue                     11.0\n",
      "batting average at that venue                  5.5\n",
      "batting strike rate at that venue              1.1\n",
      "wickets taken at that venue                    0.0\n",
      "bowling average at that venue                  inf\n",
      "bowling strike rate at that venue              inf\n",
      "Name: 95, dtype: object, 96: player                                          DA Miller\n",
      "venue                                Arun Jaitley Stadium\n",
      "runs scored at that venue                             7.0\n",
      "batting average at that venue                         7.0\n",
      "batting strike rate at that venue                     1.4\n",
      "wickets taken at that venue                           NaN\n",
      "bowling average at that venue                         NaN\n",
      "bowling strike rate at that venue                     NaN\n",
      "Name: 96, dtype: object, 97: player                                  DA Miller\n",
      "venue                                Eden Gardens\n",
      "runs scored at that venue                    59.0\n",
      "batting average at that venue                 inf\n",
      "batting strike rate at that venue        1.439024\n",
      "wickets taken at that venue                   NaN\n",
      "bowling average at that venue                 NaN\n",
      "bowling strike rate at that venue             NaN\n",
      "Name: 97, dtype: object, 98: player                                           DA Miller\n",
      "venue                                M.Chinnaswamy Stadium\n",
      "runs scored at that venue                             24.0\n",
      "batting average at that venue                         24.0\n",
      "batting strike rate at that venue                 0.923077\n",
      "wickets taken at that venue                            NaN\n",
      "bowling average at that venue                          NaN\n",
      "bowling strike rate at that venue                      NaN\n",
      "Name: 98, dtype: object, 99: player                                            DA Miller\n",
      "venue                                MA Chidambaram Stadium\n",
      "runs scored at that venue                               6.0\n",
      "batting average at that venue                           6.0\n",
      "batting strike rate at that venue                       1.2\n",
      "wickets taken at that venue                             NaN\n",
      "bowling average at that venue                           NaN\n",
      "bowling strike rate at that venue                       NaN\n",
      "Name: 99, dtype: object, 100: player                                                                  DA Miller\n",
      "venue                                Punjab Cricket Association IS Bindra Stadium\n",
      "runs scored at that venue                                                    99.0\n",
      "batting average at that venue                                                33.0\n",
      "batting strike rate at that venue                                        1.285714\n",
      "wickets taken at that venue                                                   NaN\n",
      "bowling average at that venue                                                 NaN\n",
      "bowling strike rate at that venue                                             NaN\n",
      "Name: 100, dtype: object, 101: player                                                        DA Miller\n",
      "venue                                Rajiv Gandhi International Stadium\n",
      "runs scored at that venue                                          11.0\n",
      "batting average at that venue                                      11.0\n",
      "batting strike rate at that venue                                   1.0\n",
      "wickets taken at that venue                                         NaN\n",
      "bowling average at that venue                                       NaN\n",
      "bowling strike rate at that venue                                   NaN\n",
      "Name: 101, dtype: object, 102: player                                      DA Miller\n",
      "venue                                Wankhede Stadium\n",
      "runs scored at that venue                         7.0\n",
      "batting average at that venue                     7.0\n",
      "batting strike rate at that venue            0.777778\n",
      "wickets taken at that venue                       NaN\n",
      "bowling average at that venue                     NaN\n",
      "bowling strike rate at that venue                 NaN\n",
      "Name: 102, dtype: object, 103: player                                          DA Warner\n",
      "venue                                Arun Jaitley Stadium\n",
      "runs scored at that venue                            10.0\n",
      "batting average at that venue                        10.0\n",
      "batting strike rate at that venue                0.555556\n",
      "wickets taken at that venue                           NaN\n",
      "bowling average at that venue                         NaN\n",
      "bowling strike rate at that venue                     NaN\n",
      "Name: 103, dtype: object, 104: player                                  DA Warner\n",
      "venue                                Eden Gardens\n",
      "runs scored at that venue                    85.0\n",
      "batting average at that venue                85.0\n",
      "batting strike rate at that venue        1.545455\n",
      "wickets taken at that venue                   NaN\n",
      "bowling average at that venue                 NaN\n",
      "bowling strike rate at that venue             NaN\n",
      "Name: 104, dtype: object, 105: player                                            DA Warner\n",
      "venue                                MA Chidambaram Stadium\n",
      "runs scored at that venue                              57.0\n",
      "batting average at that venue                          57.0\n",
      "batting strike rate at that venue                  1.212766\n",
      "wickets taken at that venue                             NaN\n",
      "bowling average at that venue                           NaN\n",
      "bowling strike rate at that venue                       NaN\n",
      "Name: 105, dtype: object, 106: player                                                                  DA Warner\n",
      "venue                                Punjab Cricket Association IS Bindra Stadium\n",
      "runs scored at that venue                                                    70.0\n",
      "batting average at that venue                                                70.0\n",
      "batting strike rate at that venue                                        1.111111\n",
      "wickets taken at that venue                                                   NaN\n",
      "bowling average at that venue                                                 NaN\n",
      "bowling strike rate at that venue                                             NaN\n",
      "Name: 106, dtype: object, 107: player                                                        DA Warner\n",
      "venue                                Rajiv Gandhi International Stadium\n",
      "runs scored at that venue                                         433.0\n",
      "batting average at that venue                                 61.857143\n",
      "batting strike rate at that venue                              1.546429\n",
      "wickets taken at that venue                                         NaN\n",
      "bowling average at that venue                                       NaN\n",
      "bowling strike rate at that venue                                   NaN\n",
      "Name: 107, dtype: object, 108: player                                            DA Warner\n",
      "venue                                Sawai Mansingh Stadium\n",
      "runs scored at that venue                              37.0\n",
      "batting average at that venue                          37.0\n",
      "batting strike rate at that venue                  1.121212\n",
      "wickets taken at that venue                             NaN\n",
      "bowling average at that venue                           NaN\n",
      "bowling strike rate at that venue                       NaN\n",
      "Name: 108, dtype: object, 109: player                                           DJ Bravo\n",
      "venue                                Arun Jaitley Stadium\n",
      "runs scored at that venue                             4.0\n",
      "batting average at that venue                         inf\n",
      "batting strike rate at that venue                1.333333\n",
      "wickets taken at that venue                           3.0\n",
      "bowling average at that venue                        11.0\n",
      "bowling strike rate at that venue                8.666667\n",
      "Name: 109, dtype: object, 110: player                                                                        DJ Bravo\n",
      "venue                                Dr. Y.S. Rajasekhara Reddy ACA-VDCA Cricket St...\n",
      "runs scored at that venue                                                          0.0\n",
      "batting average at that venue                                                      NaN\n",
      "batting strike rate at that venue                                                  0.0\n",
      "wickets taken at that venue                                                        2.0\n",
      "bowling average at that venue                                                      9.5\n",
      "bowling strike rate at that venue                                                 13.0\n",
      "Name: 110, dtype: object, 111: player                                            DJ Bravo\n",
      "venue                                M.Chinnaswamy Stadium\n",
      "runs scored at that venue                              5.0\n",
      "batting average at that venue                          5.0\n",
      "batting strike rate at that venue                     1.25\n",
      "wickets taken at that venue                            2.0\n",
      "bowling average at that venue                         17.0\n",
      "bowling strike rate at that venue                     12.0\n",
      "Name: 111, dtype: object, 112: player                                             DJ Bravo\n",
      "venue                                MA Chidambaram Stadium\n",
      "runs scored at that venue                              47.0\n",
      "batting average at that venue                          23.5\n",
      "batting strike rate at that venue                  1.382353\n",
      "wickets taken at that venue                             4.0\n",
      "bowling average at that venue                          36.5\n",
      "bowling strike rate at that venue                      28.5\n",
      "Name: 112, dtype: object, 113: player                                                                   DJ Bravo\n",
      "venue                                Punjab Cricket Association IS Bindra Stadium\n",
      "runs scored at that venue                                                     1.0\n",
      "batting average at that venue                                                 inf\n",
      "batting strike rate at that venue                                             1.0\n",
      "wickets taken at that venue                                                   0.0\n",
      "bowling average at that venue                                                 inf\n",
      "bowling strike rate at that venue                                             inf\n",
      "Name: 113, dtype: object, 114: player                                                         DJ Bravo\n",
      "venue                                Rajiv Gandhi International Stadium\n",
      "runs scored at that venue                                          15.0\n",
      "batting average at that venue                                      15.0\n",
      "batting strike rate at that venue                                   1.0\n",
      "wickets taken at that venue                                         1.0\n",
      "bowling average at that venue                                      24.0\n",
      "bowling strike rate at that venue                                  19.0\n",
      "Name: 114, dtype: object, 115: player                                       DJ Bravo\n",
      "venue                                Wankhede Stadium\n",
      "runs scored at that venue                         8.0\n",
      "batting average at that venue                     8.0\n",
      "batting strike rate at that venue                 0.8\n",
      "wickets taken at that venue                       1.0\n",
      "bowling average at that venue                    49.0\n",
      "bowling strike rate at that venue                26.0\n",
      "Name: 115, dtype: object, 116: player                                           DJ Hooda\n",
      "venue                                Arun Jaitley Stadium\n",
      "runs scored at that venue                            10.0\n",
      "batting average at that venue                        10.0\n",
      "batting strike rate at that venue                0.909091\n",
      "wickets taken at that venue                           NaN\n",
      "bowling average at that venue                         NaN\n",
      "bowling strike rate at that venue                     NaN\n",
      "Name: 116, dtype: object, 117: player                                                                        DJ Hooda\n",
      "venue                                Dr. Y.S. Rajasekhara Reddy ACA-VDCA Cricket St...\n",
      "runs scored at that venue                                                          4.0\n",
      "batting average at that venue                                                      4.0\n",
      "batting strike rate at that venue                                             0.571429\n",
      "wickets taken at that venue                                                        1.0\n",
      "bowling average at that venue                                                     13.0\n",
      "bowling strike rate at that venue                                                  7.0\n",
      "Name: 117, dtype: object, 118: player                                                                   DJ Hooda\n",
      "venue                                Punjab Cricket Association IS Bindra Stadium\n",
      "runs scored at that venue                                                    14.0\n",
      "batting average at that venue                                                 inf\n",
      "batting strike rate at that venue                                        4.666667\n",
      "wickets taken at that venue                                                   NaN\n",
      "bowling average at that venue                                                 NaN\n",
      "bowling strike rate at that venue                                             NaN\n",
      "Name: 118, dtype: object, 119: player                                                         DJ Hooda\n",
      "venue                                Rajiv Gandhi International Stadium\n",
      "runs scored at that venue                                          36.0\n",
      "batting average at that venue                                      12.0\n",
      "batting strike rate at that venue                              0.782609\n",
      "wickets taken at that venue                                         0.0\n",
      "bowling average at that venue                                       inf\n",
      "bowling strike rate at that venue                                   inf\n",
      "Name: 119, dtype: object, 120: player                                             DJ Hooda\n",
      "venue                                Sawai Mansingh Stadium\n",
      "runs scored at that venue                               0.0\n",
      "batting average at that venue                           0.0\n",
      "batting strike rate at that venue                       0.0\n",
      "wickets taken at that venue                             NaN\n",
      "bowling average at that venue                           NaN\n",
      "bowling strike rate at that venue                       NaN\n",
      "Name: 120, dtype: object, 121: player                                            DL Chahar\n",
      "venue                                MA Chidambaram Stadium\n",
      "runs scored at that venue                               0.0\n",
      "batting average at that venue                           0.0\n",
      "batting strike rate at that venue                       0.0\n",
      "wickets taken at that venue                            10.0\n",
      "bowling average at that venue                          23.5\n",
      "bowling strike rate at that venue                      19.2\n",
      "Name: 121, dtype: object, 122: player                                      DL Chahar\n",
      "venue                                Wankhede Stadium\n",
      "runs scored at that venue                         7.0\n",
      "batting average at that venue                     7.0\n",
      "batting strike rate at that venue                 1.0\n",
      "wickets taken at that venue                       1.0\n",
      "bowling average at that venue                    22.0\n",
      "bowling strike rate at that venue                18.0\n",
      "Name: 122, dtype: object, 123: player                                            DR Shorey\n",
      "venue                                MA Chidambaram Stadium\n",
      "runs scored at that venue                               5.0\n",
      "batting average at that venue                           5.0\n",
      "batting strike rate at that venue                  0.454545\n",
      "wickets taken at that venue                             NaN\n",
      "bowling average at that venue                           NaN\n",
      "bowling strike rate at that venue                       NaN\n",
      "Name: 123, dtype: object, 124: player                                          DS Kulkarni\n",
      "venue                                Sawai Mansingh Stadium\n",
      "runs scored at that venue                               5.0\n",
      "batting average at that venue                           inf\n",
      "batting strike rate at that venue                  1.666667\n",
      "wickets taken at that venue                             3.0\n",
      "bowling average at that venue                          61.0\n",
      "bowling strike rate at that venue                      42.0\n",
      "Name: 124, dtype: object, 125: player                                    E Lewis\n",
      "venue                                Eden Gardens\n",
      "runs scored at that venue                    15.0\n",
      "batting average at that venue                15.0\n",
      "batting strike rate at that venue          0.9375\n",
      "wickets taken at that venue                   NaN\n",
      "bowling average at that venue                 NaN\n",
      "bowling strike rate at that venue             NaN\n",
      "Name: 125, dtype: object, 126: player                                              E Lewis\n",
      "venue                                MA Chidambaram Stadium\n",
      "runs scored at that venue                              32.0\n",
      "batting average at that venue                          32.0\n",
      "batting strike rate at that venue                  1.032258\n",
      "wickets taken at that venue                             NaN\n",
      "bowling average at that venue                           NaN\n",
      "bowling strike rate at that venue                       NaN\n",
      "Name: 126, dtype: object, 127: player                                        E Lewis\n",
      "venue                                Wankhede Stadium\n",
      "runs scored at that venue                         1.0\n",
      "batting average at that venue                     1.0\n",
      "batting strike rate at that venue            0.166667\n",
      "wickets taken at that venue                       NaN\n",
      "bowling average at that venue                     NaN\n",
      "bowling strike rate at that venue                 NaN\n",
      "Name: 127, dtype: object, 128: player                                                                    F du Plessis\n",
      "venue                                Dr. Y.S. Rajasekhara Reddy ACA-VDCA Cricket St...\n",
      "runs scored at that venue                                                         50.0\n",
      "batting average at that venue                                                     50.0\n",
      "batting strike rate at that venue                                             1.282051\n",
      "wickets taken at that venue                                                        NaN\n",
      "bowling average at that venue                                                      NaN\n",
      "bowling strike rate at that venue                                                  NaN\n",
      "Name: 128, dtype: object, 129: player                               F du Plessis\n",
      "venue                                Eden Gardens\n",
      "runs scored at that venue                    24.0\n",
      "batting average at that venue                24.0\n",
      "batting strike rate at that venue             1.5\n",
      "wickets taken at that venue                   NaN\n",
      "bowling average at that venue                 NaN\n",
      "bowling strike rate at that venue             NaN\n",
      "Name: 129, dtype: object, 130: player                                        F du Plessis\n",
      "venue                                M.Chinnaswamy Stadium\n",
      "runs scored at that venue                              5.0\n",
      "batting average at that venue                          5.0\n",
      "batting strike rate at that venue                   0.3125\n",
      "wickets taken at that venue                            NaN\n",
      "bowling average at that venue                          NaN\n",
      "bowling strike rate at that venue                      NaN\n",
      "Name: 130, dtype: object, 131: player                                         F du Plessis\n",
      "venue                                MA Chidambaram Stadium\n",
      "runs scored at that venue                             143.0\n",
      "batting average at that venue                         35.75\n",
      "batting strike rate at that venue                  0.979452\n",
      "wickets taken at that venue                             NaN\n",
      "bowling average at that venue                           NaN\n",
      "bowling strike rate at that venue                       NaN\n",
      "Name: 131, dtype: object, 132: player                                                               F du Plessis\n",
      "venue                                Punjab Cricket Association IS Bindra Stadium\n",
      "runs scored at that venue                                                    96.0\n",
      "batting average at that venue                                                96.0\n",
      "batting strike rate at that venue                                        1.745455\n",
      "wickets taken at that venue                                                   NaN\n",
      "bowling average at that venue                                                 NaN\n",
      "bowling strike rate at that venue                                             NaN\n",
      "Name: 132, dtype: object, 133: player                                                     F du Plessis\n",
      "venue                                Rajiv Gandhi International Stadium\n",
      "runs scored at that venue                                          71.0\n",
      "batting average at that venue                                      35.5\n",
      "batting strike rate at that venue                              1.613636\n",
      "wickets taken at that venue                                         NaN\n",
      "bowling average at that venue                                       NaN\n",
      "bowling strike rate at that venue                                   NaN\n",
      "Name: 133, dtype: object, 134: player                                         F du Plessis\n",
      "venue                                Sawai Mansingh Stadium\n",
      "runs scored at that venue                               7.0\n",
      "batting average at that venue                           7.0\n",
      "batting strike rate at that venue                       0.7\n",
      "wickets taken at that venue                             NaN\n",
      "bowling average at that venue                           NaN\n",
      "bowling strike rate at that venue                       NaN\n",
      "Name: 134, dtype: object, 135: player                                         GC Viljoen\n",
      "venue                                Arun Jaitley Stadium\n",
      "runs scored at that venue                             2.0\n",
      "batting average at that venue                         inf\n",
      "batting strike rate at that venue                0.666667\n",
      "wickets taken at that venue                           3.0\n",
      "bowling average at that venue                        13.0\n",
      "bowling strike rate at that venue                8.333333\n",
      "Name: 135, dtype: object, 136: player                                          GC Viljoen\n",
      "venue                                M.Chinnaswamy Stadium\n",
      "runs scored at that venue                              0.0\n",
      "batting average at that venue                          0.0\n",
      "batting strike rate at that venue                      0.0\n",
      "wickets taken at that venue                            1.0\n",
      "bowling average at that venue                         52.0\n",
      "bowling strike rate at that venue                     26.0\n",
      "Name: 136, dtype: object, 137: player                                                                 GC Viljoen\n",
      "venue                                Punjab Cricket Association IS Bindra Stadium\n",
      "runs scored at that venue                                                     1.0\n",
      "batting average at that venue                                                 1.0\n",
      "batting strike rate at that venue                                        0.333333\n",
      "wickets taken at that venue                                                   3.0\n",
      "bowling average at that venue                                           22.333333\n",
      "bowling strike rate at that venue                                            14.0\n",
      "Name: 137, dtype: object, 138: player                                          GH Vihari\n",
      "venue                                Arun Jaitley Stadium\n",
      "runs scored at that venue                             2.0\n",
      "batting average at that venue                         2.0\n",
      "batting strike rate at that venue                0.666667\n",
      "wickets taken at that venue                           NaN\n",
      "bowling average at that venue                         NaN\n",
      "bowling strike rate at that venue                     NaN\n",
      "Name: 138, dtype: object, 139: player                                                                  GH Vihari\n",
      "venue                                Punjab Cricket Association IS Bindra Stadium\n",
      "runs scored at that venue                                                     2.0\n",
      "batting average at that venue                                                 2.0\n",
      "batting strike rate at that venue                                             0.4\n",
      "wickets taken at that venue                                                   0.0\n",
      "bowling average at that venue                                                 inf\n",
      "bowling strike rate at that venue                                             inf\n",
      "Name: 139, dtype: object, 140: player                                    Gurkeerat Singh\n",
      "venue                                Arun Jaitley Stadium\n",
      "runs scored at that venue                            27.0\n",
      "batting average at that venue                        27.0\n",
      "batting strike rate at that venue                    1.35\n",
      "wickets taken at that venue                           NaN\n",
      "bowling average at that venue                         NaN\n",
      "bowling strike rate at that venue                     NaN\n",
      "Name: 140, dtype: object, 141: player                                     Gurkeerat Singh\n",
      "venue                                M.Chinnaswamy Stadium\n",
      "runs scored at that venue                             71.0\n",
      "batting average at that venue                         35.5\n",
      "batting strike rate at that venue                 1.339623\n",
      "wickets taken at that venue                            NaN\n",
      "bowling average at that venue                          NaN\n",
      "bowling strike rate at that venue                      NaN\n",
      "Name: 141, dtype: object, 142: player                                          H Klaasen\n",
      "venue                                Arun Jaitley Stadium\n",
      "runs scored at that venue                             3.0\n",
      "batting average at that venue                         3.0\n",
      "batting strike rate at that venue                     1.0\n",
      "wickets taken at that venue                           NaN\n",
      "bowling average at that venue                         NaN\n",
      "bowling strike rate at that venue                     NaN\n",
      "Name: 142, dtype: object, 143: player                                           H Klaasen\n",
      "venue                                M.Chinnaswamy Stadium\n",
      "runs scored at that venue                              6.0\n",
      "batting average at that venue                          6.0\n",
      "batting strike rate at that venue                 0.857143\n",
      "wickets taken at that venue                            NaN\n",
      "bowling average at that venue                          NaN\n",
      "bowling strike rate at that venue                      NaN\n",
      "Name: 143, dtype: object, 144: player                                            HF Gurney\n",
      "venue                                MA Chidambaram Stadium\n",
      "runs scored at that venue                               1.0\n",
      "batting average at that venue                           inf\n",
      "batting strike rate at that venue                       0.2\n",
      "wickets taken at that venue                             0.0\n",
      "bowling average at that venue                           inf\n",
      "bowling strike rate at that venue                       inf\n",
      "Name: 144, dtype: object, 145: player                                          HH Pandya\n",
      "venue                                Arun Jaitley Stadium\n",
      "runs scored at that venue                            32.0\n",
      "batting average at that venue                        32.0\n",
      "batting strike rate at that venue                2.133333\n",
      "wickets taken at that venue                           1.0\n",
      "bowling average at that venue                        17.0\n",
      "bowling strike rate at that venue                    12.0\n",
      "Name: 145, dtype: object, 146: player                                  HH Pandya\n",
      "venue                                Eden Gardens\n",
      "runs scored at that venue                    91.0\n",
      "batting average at that venue                91.0\n",
      "batting strike rate at that venue        2.676471\n",
      "wickets taken at that venue                   1.0\n",
      "bowling average at that venue                31.0\n",
      "bowling strike rate at that venue            21.0\n",
      "Name: 146, dtype: object, 147: player                                           HH Pandya\n",
      "venue                                M.Chinnaswamy Stadium\n",
      "runs scored at that venue                             32.0\n",
      "batting average at that venue                          inf\n",
      "batting strike rate at that venue                 2.133333\n",
      "wickets taken at that venue                            0.0\n",
      "bowling average at that venue                          inf\n",
      "bowling strike rate at that venue                      inf\n",
      "Name: 147, dtype: object, 148: player                                            HH Pandya\n",
      "venue                                MA Chidambaram Stadium\n",
      "runs scored at that venue                              36.0\n",
      "batting average at that venue                           inf\n",
      "batting strike rate at that venue                       1.2\n",
      "wickets taken at that venue                             1.0\n",
      "bowling average at that venue                          35.0\n",
      "bowling strike rate at that venue                      26.0\n",
      "Name: 148, dtype: object, 149: player                                                                  HH Pandya\n",
      "venue                                Punjab Cricket Association IS Bindra Stadium\n",
      "runs scored at that venue                                                    31.0\n",
      "batting average at that venue                                                31.0\n",
      "batting strike rate at that venue                                            1.55\n",
      "wickets taken at that venue                                                   0.0\n",
      "bowling average at that venue                                                 inf\n",
      "bowling strike rate at that venue                                             inf\n",
      "Name: 149, dtype: object, 150: player                                                        HH Pandya\n",
      "venue                                Rajiv Gandhi International Stadium\n",
      "runs scored at that venue                                          30.0\n",
      "batting average at that venue                                      15.0\n",
      "batting strike rate at that venue                                  1.25\n",
      "wickets taken at that venue                                         1.0\n",
      "bowling average at that venue                                      10.0\n",
      "bowling strike rate at that venue                                  13.0\n",
      "Name: 150, dtype: object, 151: player                                            HH Pandya\n",
      "venue                                Sawai Mansingh Stadium\n",
      "runs scored at that venue                              23.0\n",
      "batting average at that venue                          23.0\n",
      "batting strike rate at that venue                  1.352941\n",
      "wickets taken at that venue                             1.0\n",
      "bowling average at that venue                          31.0\n",
      "bowling strike rate at that venue                      24.0\n",
      "Name: 151, dtype: object, 152: player                                      HH Pandya\n",
      "venue                                Wankhede Stadium\n",
      "runs scored at that venue                       134.0\n",
      "batting average at that venue               44.666667\n",
      "batting strike rate at that venue            1.914286\n",
      "wickets taken at that venue                      11.0\n",
      "bowling average at that venue               17.818182\n",
      "bowling strike rate at that venue           12.181818\n",
      "Name: 152, dtype: object, 153: player                                                                   HV Patel\n",
      "venue                                Punjab Cricket Association IS Bindra Stadium\n",
      "runs scored at that venue                                                     0.0\n",
      "batting average at that venue                                                 0.0\n",
      "batting strike rate at that venue                                             0.0\n",
      "wickets taken at that venue                                                   1.0\n",
      "bowling average at that venue                                                37.0\n",
      "bowling strike rate at that venue                                            26.0\n",
      "Name: 153, dtype: object, 154: player                                      Harbhajan Singh\n",
      "venue                                MA Chidambaram Stadium\n",
      "runs scored at that venue                               1.0\n",
      "batting average at that venue                           1.0\n",
      "batting strike rate at that venue                  0.333333\n",
      "wickets taken at that venue                            13.0\n",
      "bowling average at that venue                          13.0\n",
      "bowling strike rate at that venue                      13.0\n",
      "Name: 154, dtype: object, 155: player                                      Harpreet Brar\n",
      "venue                                Arun Jaitley Stadium\n",
      "runs scored at that venue                            20.0\n",
      "batting average at that venue                         inf\n",
      "batting strike rate at that venue                1.428571\n",
      "wickets taken at that venue                           0.0\n",
      "bowling average at that venue                         inf\n",
      "bowling strike rate at that venue                     inf\n",
      "Name: 155, dtype: object, 156: player                                                                        I Sharma\n",
      "venue                                Dr. Y.S. Rajasekhara Reddy ACA-VDCA Cricket St...\n",
      "runs scored at that venue                                                         10.0\n",
      "batting average at that venue                                                      inf\n",
      "batting strike rate at that venue                                             3.333333\n",
      "wickets taken at that venue                                                        3.0\n",
      "bowling average at that venue                                                     21.0\n",
      "bowling strike rate at that venue                                                 16.0\n",
      "Name: 156, dtype: object, 157: player                                           IS Sodhi\n",
      "venue                                Arun Jaitley Stadium\n",
      "runs scored at that venue                             6.0\n",
      "batting average at that venue                         6.0\n",
      "batting strike rate at that venue                     0.5\n",
      "wickets taken at that venue                           3.0\n",
      "bowling average at that venue                    8.666667\n",
      "bowling strike rate at that venue                6.333333\n",
      "Name: 157, dtype: object, 158: player                                         Ishan Kishan\n",
      "venue                                MA Chidambaram Stadium\n",
      "runs scored at that venue                              28.0\n",
      "batting average at that venue                          28.0\n",
      "batting strike rate at that venue                     0.875\n",
      "wickets taken at that venue                             NaN\n",
      "bowling average at that venue                           NaN\n",
      "bowling strike rate at that venue                       NaN\n",
      "Name: 158, dtype: object, 159: player                                                     Ishan Kishan\n",
      "venue                                Rajiv Gandhi International Stadium\n",
      "runs scored at that venue                                          40.0\n",
      "batting average at that venue                                      20.0\n",
      "batting strike rate at that venue                              0.816327\n",
      "wickets taken at that venue                                         NaN\n",
      "bowling average at that venue                                       NaN\n",
      "bowling strike rate at that venue                                   NaN\n",
      "Name: 159, dtype: object, 160: player                                   Ishan Kishan\n",
      "venue                                Wankhede Stadium\n",
      "runs scored at that venue                        33.0\n",
      "batting average at that venue                    16.5\n",
      "batting strike rate at that venue            1.434783\n",
      "wickets taken at that venue                       NaN\n",
      "bowling average at that venue                     NaN\n",
      "bowling strike rate at that venue                 NaN\n",
      "Name: 160, dtype: object, 161: player                                            J Suchith\n",
      "venue                                MA Chidambaram Stadium\n",
      "runs scored at that venue                               6.0\n",
      "batting average at that venue                           6.0\n",
      "batting strike rate at that venue                       0.4\n",
      "wickets taken at that venue                             2.0\n",
      "bowling average at that venue                          14.0\n",
      "bowling strike rate at that venue                      12.0\n",
      "Name: 161, dtype: object, 162: player                                  JC Archer\n",
      "venue                                Eden Gardens\n",
      "runs scored at that venue                    27.0\n",
      "batting average at that venue                 inf\n",
      "batting strike rate at that venue        2.076923\n",
      "wickets taken at that venue                   1.0\n",
      "bowling average at that venue                28.0\n",
      "bowling strike rate at that venue            25.0\n",
      "Name: 162, dtype: object, 163: player                                            JC Archer\n",
      "venue                                MA Chidambaram Stadium\n",
      "runs scored at that venue                              24.0\n",
      "batting average at that venue                           inf\n",
      "batting strike rate at that venue                  2.181818\n",
      "wickets taken at that venue                             2.0\n",
      "bowling average at that venue                           8.5\n",
      "bowling strike rate at that venue                      12.0\n",
      "Name: 163, dtype: object, 164: player                                                                  JC Archer\n",
      "venue                                Punjab Cricket Association IS Bindra Stadium\n",
      "runs scored at that venue                                                     1.0\n",
      "batting average at that venue                                                 1.0\n",
      "batting strike rate at that venue                                        0.333333\n",
      "wickets taken at that venue                                                   3.0\n",
      "bowling average at that venue                                            7.333333\n",
      "bowling strike rate at that venue                                        8.333333\n",
      "Name: 164, dtype: object, 165: player                                            JC Archer\n",
      "venue                                Sawai Mansingh Stadium\n",
      "runs scored at that venue                              15.0\n",
      "batting average at that venue                          15.0\n",
      "batting strike rate at that venue                  1.071429\n",
      "wickets taken at that venue                             3.0\n",
      "bowling average at that venue                     52.333333\n",
      "bowling strike rate at that venue                 46.333333\n",
      "Name: 165, dtype: object, 166: player                                           JC Buttler\n",
      "venue                                MA Chidambaram Stadium\n",
      "runs scored at that venue                               6.0\n",
      "batting average at that venue                           6.0\n",
      "batting strike rate at that venue                  0.857143\n",
      "wickets taken at that venue                             NaN\n",
      "bowling average at that venue                           NaN\n",
      "bowling strike rate at that venue                       NaN\n",
      "Name: 166, dtype: object, 167: player                                                                 JC Buttler\n",
      "venue                                Punjab Cricket Association IS Bindra Stadium\n",
      "runs scored at that venue                                                    23.0\n",
      "batting average at that venue                                                23.0\n",
      "batting strike rate at that venue                                            1.15\n",
      "wickets taken at that venue                                                   NaN\n",
      "bowling average at that venue                                                 NaN\n",
      "bowling strike rate at that venue                                             NaN\n",
      "Name: 167, dtype: object, 168: player                                                       JC Buttler\n",
      "venue                                Rajiv Gandhi International Stadium\n",
      "runs scored at that venue                                           5.0\n",
      "batting average at that venue                                       5.0\n",
      "batting strike rate at that venue                              0.555556\n",
      "wickets taken at that venue                                         NaN\n",
      "bowling average at that venue                                       NaN\n",
      "bowling strike rate at that venue                                   NaN\n",
      "Name: 168, dtype: object, 169: player                                           JC Buttler\n",
      "venue                                Sawai Mansingh Stadium\n",
      "runs scored at that venue                             188.0\n",
      "batting average at that venue                     62.666667\n",
      "batting strike rate at that venue                  1.413534\n",
      "wickets taken at that venue                             NaN\n",
      "bowling average at that venue                           NaN\n",
      "bowling strike rate at that venue                       NaN\n",
      "Name: 169, dtype: object, 170: player                                     JC Buttler\n",
      "venue                                Wankhede Stadium\n",
      "runs scored at that venue                        89.0\n",
      "batting average at that venue                    89.0\n",
      "batting strike rate at that venue            2.022727\n",
      "wickets taken at that venue                       NaN\n",
      "bowling average at that venue                     NaN\n",
      "bowling strike rate at that venue                 NaN\n",
      "Name: 170, dtype: object, 171: player                                 JD Unadkat\n",
      "venue                                Eden Gardens\n",
      "runs scored at that venue                     0.0\n",
      "batting average at that venue                 NaN\n",
      "batting strike rate at that venue             0.0\n",
      "wickets taken at that venue                   1.0\n",
      "bowling average at that venue                50.0\n",
      "bowling strike rate at that venue            25.0\n",
      "Name: 171, dtype: object, 172: player                                           JD Unadkat\n",
      "venue                                Sawai Mansingh Stadium\n",
      "runs scored at that venue                               1.0\n",
      "batting average at that venue                           1.0\n",
      "batting strike rate at that venue                       0.5\n",
      "wickets taken at that venue                             5.0\n",
      "bowling average at that venue                          36.0\n",
      "bowling strike rate at that venue                      21.6\n",
      "Name: 172, dtype: object, 173: player                                           JJ Bumrah\n",
      "venue                                M.Chinnaswamy Stadium\n",
      "runs scored at that venue                              0.0\n",
      "batting average at that venue                          NaN\n",
      "batting strike rate at that venue                      0.0\n",
      "wickets taken at that venue                            4.0\n",
      "bowling average at that venue                         5.25\n",
      "bowling strike rate at that venue                     6.25\n",
      "Name: 173, dtype: object, 174: player                                   JL Denly\n",
      "venue                                Eden Gardens\n",
      "runs scored at that venue                     0.0\n",
      "batting average at that venue                 0.0\n",
      "batting strike rate at that venue             0.0\n",
      "wickets taken at that venue                   NaN\n",
      "bowling average at that venue                 NaN\n",
      "bowling strike rate at that venue             NaN\n",
      "Name: 174, dtype: object, 175: player                                        JM Bairstow\n",
      "venue                                Arun Jaitley Stadium\n",
      "runs scored at that venue                            48.0\n",
      "batting average at that venue                        48.0\n",
      "batting strike rate at that venue                1.655172\n",
      "wickets taken at that venue                           NaN\n",
      "bowling average at that venue                         NaN\n",
      "bowling strike rate at that venue                     NaN\n",
      "Name: 175, dtype: object, 176: player                                JM Bairstow\n",
      "venue                                Eden Gardens\n",
      "runs scored at that venue                    39.0\n",
      "batting average at that venue                39.0\n",
      "batting strike rate at that venue        1.114286\n",
      "wickets taken at that venue                   NaN\n",
      "bowling average at that venue                 NaN\n",
      "bowling strike rate at that venue             NaN\n",
      "Name: 176, dtype: object, 177: player                                          JM Bairstow\n",
      "venue                                MA Chidambaram Stadium\n",
      "runs scored at that venue                               0.0\n",
      "batting average at that venue                           0.0\n",
      "batting strike rate at that venue                       0.0\n",
      "wickets taken at that venue                             NaN\n",
      "bowling average at that venue                           NaN\n",
      "bowling strike rate at that venue                       NaN\n",
      "Name: 177, dtype: object, 178: player                                                                JM Bairstow\n",
      "venue                                Punjab Cricket Association IS Bindra Stadium\n",
      "runs scored at that venue                                                     1.0\n",
      "batting average at that venue                                                 1.0\n",
      "batting strike rate at that venue                                           0.125\n",
      "wickets taken at that venue                                                   NaN\n",
      "bowling average at that venue                                                 NaN\n",
      "bowling strike rate at that venue                                             NaN\n",
      "Name: 178, dtype: object, 179: player                                                      JM Bairstow\n",
      "venue                                Rajiv Gandhi International Stadium\n",
      "runs scored at that venue                                         357.0\n",
      "batting average at that venue                                     89.25\n",
      "batting strike rate at that venue                              1.637615\n",
      "wickets taken at that venue                                         NaN\n",
      "bowling average at that venue                                       NaN\n",
      "bowling strike rate at that venue                                   NaN\n",
      "Name: 179, dtype: object, 180: player                                          K Gowtham\n",
      "venue                                Arun Jaitley Stadium\n",
      "runs scored at that venue                             6.0\n",
      "batting average at that venue                         6.0\n",
      "batting strike rate at that venue                     1.0\n",
      "wickets taken at that venue                           0.0\n",
      "bowling average at that venue                         inf\n",
      "bowling strike rate at that venue                     inf\n",
      "Name: 180, dtype: object, 181: player                                            K Gowtham\n",
      "venue                                MA Chidambaram Stadium\n",
      "runs scored at that venue                               9.0\n",
      "batting average at that venue                           9.0\n",
      "batting strike rate at that venue                     1.125\n",
      "wickets taken at that venue                             0.0\n",
      "bowling average at that venue                           inf\n",
      "bowling strike rate at that venue                       inf\n",
      "Name: 181, dtype: object, 182: player                                            K Gowtham\n",
      "venue                                Sawai Mansingh Stadium\n",
      "runs scored at that venue                               3.0\n",
      "batting average at that venue                           3.0\n",
      "batting strike rate at that venue                      0.75\n",
      "wickets taken at that venue                             1.0\n",
      "bowling average at that venue                          77.0\n",
      "bowling strike rate at that venue                      55.0\n",
      "Name: 182, dtype: object, 183: player                                      K Gowtham\n",
      "venue                                Wankhede Stadium\n",
      "runs scored at that venue                         0.0\n",
      "batting average at that venue                     NaN\n",
      "batting strike rate at that venue                 0.0\n",
      "wickets taken at that venue                       0.0\n",
      "bowling average at that venue                     inf\n",
      "bowling strike rate at that venue                 inf\n",
      "Name: 183, dtype: object, 184: player                                           K Rabada\n",
      "venue                                Arun Jaitley Stadium\n",
      "runs scored at that venue                            12.0\n",
      "batting average at that venue                         6.0\n",
      "batting strike rate at that venue                     1.0\n",
      "wickets taken at that venue                          11.0\n",
      "bowling average at that venue                   18.545455\n",
      "bowling strike rate at that venue               13.545455\n",
      "Name: 184, dtype: object, 185: player                                                                   K Rabada\n",
      "venue                                Punjab Cricket Association IS Bindra Stadium\n",
      "runs scored at that venue                                                     0.0\n",
      "batting average at that venue                                                 0.0\n",
      "batting strike rate at that venue                                             0.0\n",
      "wickets taken at that venue                                                   3.0\n",
      "bowling average at that venue                                           10.666667\n",
      "bowling strike rate at that venue                                             8.0\n",
      "Name: 185, dtype: object, 186: player                                                         K Rabada\n",
      "venue                                Rajiv Gandhi International Stadium\n",
      "runs scored at that venue                                           2.0\n",
      "batting average at that venue                                       inf\n",
      "batting strike rate at that venue                                   1.0\n",
      "wickets taken at that venue                                         4.0\n",
      "bowling average at that venue                                       5.5\n",
      "bowling strike rate at that venue                                   6.0\n",
      "Name: 186, dtype: object, 187: player                                 KA Pollard\n",
      "venue                                Eden Gardens\n",
      "runs scored at that venue                    20.0\n",
      "batting average at that venue                20.0\n",
      "batting strike rate at that venue        0.952381\n",
      "wickets taken at that venue                   NaN\n",
      "bowling average at that venue                 NaN\n",
      "bowling strike rate at that venue             NaN\n",
      "Name: 187, dtype: object, 188: player                                          KA Pollard\n",
      "venue                                M.Chinnaswamy Stadium\n",
      "runs scored at that venue                              5.0\n",
      "batting average at that venue                          5.0\n",
      "batting strike rate at that venue                 0.714286\n",
      "wickets taken at that venue                            NaN\n",
      "bowling average at that venue                          NaN\n",
      "bowling strike rate at that venue                      NaN\n",
      "Name: 188, dtype: object, 189: player                                           KA Pollard\n",
      "venue                                MA Chidambaram Stadium\n",
      "runs scored at that venue                              13.0\n",
      "batting average at that venue                           inf\n",
      "batting strike rate at that venue                  1.083333\n",
      "wickets taken at that venue                             NaN\n",
      "bowling average at that venue                           NaN\n",
      "bowling strike rate at that venue                       NaN\n",
      "Name: 189, dtype: object, 190: player                                                                 KA Pollard\n",
      "venue                                Punjab Cricket Association IS Bindra Stadium\n",
      "runs scored at that venue                                                     7.0\n",
      "batting average at that venue                                                 7.0\n",
      "batting strike rate at that venue                                        0.777778\n",
      "wickets taken at that venue                                                   NaN\n",
      "bowling average at that venue                                                 NaN\n",
      "bowling strike rate at that venue                                             NaN\n",
      "Name: 190, dtype: object, 191: player                                                       KA Pollard\n",
      "venue                                Rajiv Gandhi International Stadium\n",
      "runs scored at that venue                                          87.0\n",
      "batting average at that venue                                      87.0\n",
      "batting strike rate at that venue                              1.641509\n",
      "wickets taken at that venue                                         NaN\n",
      "bowling average at that venue                                       NaN\n",
      "bowling strike rate at that venue                                   NaN\n",
      "Name: 191, dtype: object, 192: player                                           KA Pollard\n",
      "venue                                Sawai Mansingh Stadium\n",
      "runs scored at that venue                              10.0\n",
      "batting average at that venue                          10.0\n",
      "batting strike rate at that venue                  1.428571\n",
      "wickets taken at that venue                             NaN\n",
      "bowling average at that venue                           NaN\n",
      "bowling strike rate at that venue                       NaN\n",
      "Name: 192, dtype: object, 193: player                                     KA Pollard\n",
      "venue                                Wankhede Stadium\n",
      "runs scored at that venue                       139.0\n",
      "batting average at that venue                    27.8\n",
      "batting strike rate at that venue            1.805195\n",
      "wickets taken at that venue                       NaN\n",
      "bowling average at that venue                     NaN\n",
      "bowling strike rate at that venue                 NaN\n",
      "Name: 193, dtype: object, 194: player                                                      KC Cariappa\n",
      "venue                                Rajiv Gandhi International Stadium\n",
      "runs scored at that venue                                           9.0\n",
      "batting average at that venue                                       inf\n",
      "batting strike rate at that venue                                   3.0\n",
      "wickets taken at that venue                                         0.0\n",
      "bowling average at that venue                                       inf\n",
      "bowling strike rate at that venue                                   inf\n",
      "Name: 194, dtype: object, 195: player                                         KD Karthik\n",
      "venue                                Arun Jaitley Stadium\n",
      "runs scored at that venue                            51.0\n",
      "batting average at that venue                        51.0\n",
      "batting strike rate at that venue                1.342105\n",
      "wickets taken at that venue                           NaN\n",
      "bowling average at that venue                         NaN\n",
      "bowling strike rate at that venue                     NaN\n",
      "Name: 195, dtype: object, 196: player                                 KD Karthik\n",
      "venue                                Eden Gardens\n",
      "runs scored at that venue                   135.0\n",
      "batting average at that venue               33.75\n",
      "batting strike rate at that venue        1.646341\n",
      "wickets taken at that venue                   NaN\n",
      "bowling average at that venue                 NaN\n",
      "bowling strike rate at that venue             NaN\n",
      "Name: 196, dtype: object, 197: player                                          KD Karthik\n",
      "venue                                M.Chinnaswamy Stadium\n",
      "runs scored at that venue                             19.0\n",
      "batting average at that venue                         19.0\n",
      "batting strike rate at that venue                 1.266667\n",
      "wickets taken at that venue                            NaN\n",
      "bowling average at that venue                          NaN\n",
      "bowling strike rate at that venue                      NaN\n",
      "Name: 197, dtype: object, 198: player                                           KD Karthik\n",
      "venue                                MA Chidambaram Stadium\n",
      "runs scored at that venue                              19.0\n",
      "batting average at that venue                          19.0\n",
      "batting strike rate at that venue                  0.904762\n",
      "wickets taken at that venue                             NaN\n",
      "bowling average at that venue                           NaN\n",
      "bowling strike rate at that venue                       NaN\n",
      "Name: 198, dtype: object, 199: player                                                                 KD Karthik\n",
      "venue                                Punjab Cricket Association IS Bindra Stadium\n",
      "runs scored at that venue                                                    21.0\n",
      "batting average at that venue                                                 inf\n",
      "batting strike rate at that venue                                             2.1\n",
      "wickets taken at that venue                                                   NaN\n",
      "bowling average at that venue                                                 NaN\n",
      "bowling strike rate at that venue                                             NaN\n",
      "Name: 199, dtype: object, 200: player                                                       KD Karthik\n",
      "venue                                Rajiv Gandhi International Stadium\n",
      "runs scored at that venue                                           6.0\n",
      "batting average at that venue                                       6.0\n",
      "batting strike rate at that venue                                   1.5\n",
      "wickets taken at that venue                                         NaN\n",
      "bowling average at that venue                                       NaN\n",
      "bowling strike rate at that venue                                   NaN\n",
      "Name: 200, dtype: object, 201: player                                     KD Karthik\n",
      "venue                                Wankhede Stadium\n",
      "runs scored at that venue                         3.0\n",
      "batting average at that venue                     3.0\n",
      "batting strike rate at that venue                 0.3\n",
      "wickets taken at that venue                       NaN\n",
      "bowling average at that venue                     NaN\n",
      "bowling strike rate at that venue                 NaN\n",
      "Name: 201, dtype: object, 202: player                                          KH Pandya\n",
      "venue                                Arun Jaitley Stadium\n",
      "runs scored at that venue                            37.0\n",
      "batting average at that venue                         inf\n",
      "batting strike rate at that venue                1.275862\n",
      "wickets taken at that venue                           1.0\n",
      "bowling average at that venue                         7.0\n",
      "bowling strike rate at that venue                    12.0\n",
      "Name: 202, dtype: object, 203: player                                  KH Pandya\n",
      "venue                                Eden Gardens\n",
      "runs scored at that venue                    24.0\n",
      "batting average at that venue                24.0\n",
      "batting strike rate at that venue        1.333333\n",
      "wickets taken at that venue                   0.0\n",
      "bowling average at that venue                 inf\n",
      "bowling strike rate at that venue             inf\n",
      "Name: 203, dtype: object, 204: player                                           KH Pandya\n",
      "venue                                M.Chinnaswamy Stadium\n",
      "runs scored at that venue                              1.0\n",
      "batting average at that venue                          1.0\n",
      "batting strike rate at that venue                      0.5\n",
      "wickets taken at that venue                            0.0\n",
      "bowling average at that venue                          inf\n",
      "bowling strike rate at that venue                      inf\n",
      "Name: 204, dtype: object, 205: player                                            KH Pandya\n",
      "venue                                MA Chidambaram Stadium\n",
      "runs scored at that venue                               1.0\n",
      "batting average at that venue                           0.5\n",
      "batting strike rate at that venue                      0.25\n",
      "wickets taken at that venue                             3.0\n",
      "bowling average at that venue                      9.333333\n",
      "bowling strike rate at that venue                      14.0\n",
      "Name: 205, dtype: object, 206: player                                                                  KH Pandya\n",
      "venue                                Punjab Cricket Association IS Bindra Stadium\n",
      "runs scored at that venue                                                    10.0\n",
      "batting average at that venue                                                10.0\n",
      "batting strike rate at that venue                                        1.666667\n",
      "wickets taken at that venue                                                   2.0\n",
      "bowling average at that venue                                                22.0\n",
      "bowling strike rate at that venue                                            12.5\n",
      "Name: 206, dtype: object, 207: player                                                        KH Pandya\n",
      "venue                                Rajiv Gandhi International Stadium\n",
      "runs scored at that venue                                          13.0\n",
      "batting average at that venue                                       6.5\n",
      "batting strike rate at that venue                              0.619048\n",
      "wickets taken at that venue                                         1.0\n",
      "bowling average at that venue                                      48.0\n",
      "bowling strike rate at that venue                                  30.0\n",
      "Name: 207, dtype: object, 208: player                                            KH Pandya\n",
      "venue                                Sawai Mansingh Stadium\n",
      "runs scored at that venue                               2.0\n",
      "batting average at that venue                           inf\n",
      "batting strike rate at that venue                       1.0\n",
      "wickets taken at that venue                             0.0\n",
      "bowling average at that venue                           inf\n",
      "bowling strike rate at that venue                       inf\n",
      "Name: 208, dtype: object, 209: player                                      KH Pandya\n",
      "venue                                Wankhede Stadium\n",
      "runs scored at that venue                        95.0\n",
      "batting average at that venue                   23.75\n",
      "batting strike rate at that venue                1.25\n",
      "wickets taken at that venue                       5.0\n",
      "bowling average at that venue                    26.2\n",
      "bowling strike rate at that venue                23.8\n",
      "Name: 209, dtype: object, 210: player                                                         KK Ahmed\n",
      "venue                                Rajiv Gandhi International Stadium\n",
      "runs scored at that venue                                           0.0\n",
      "batting average at that venue                                       0.0\n",
      "batting strike rate at that venue                                   0.0\n",
      "wickets taken at that venue                                        10.0\n",
      "bowling average at that venue                                      12.9\n",
      "bowling strike rate at that venue                                  10.4\n",
      "Name: 210, dtype: object, 211: player                                        KK Nair\n",
      "venue                                Wankhede Stadium\n",
      "runs scored at that venue                         5.0\n",
      "batting average at that venue                     5.0\n",
      "batting strike rate at that venue            0.833333\n",
      "wickets taken at that venue                       NaN\n",
      "bowling average at that venue                     NaN\n",
      "bowling strike rate at that venue                 NaN\n",
      "Name: 211, dtype: object, 212: player                                           KL Rahul\n",
      "venue                                Arun Jaitley Stadium\n",
      "runs scored at that venue                            12.0\n",
      "batting average at that venue                        12.0\n",
      "batting strike rate at that venue                1.333333\n",
      "wickets taken at that venue                           NaN\n",
      "bowling average at that venue                         NaN\n",
      "bowling strike rate at that venue                     NaN\n",
      "Name: 212, dtype: object, 213: player                                   KL Rahul\n",
      "venue                                Eden Gardens\n",
      "runs scored at that venue                     1.0\n",
      "batting average at that venue                 1.0\n",
      "batting strike rate at that venue             0.2\n",
      "wickets taken at that venue                   NaN\n",
      "bowling average at that venue                 NaN\n",
      "bowling strike rate at that venue             NaN\n",
      "Name: 213, dtype: object, 214: player                                            KL Rahul\n",
      "venue                                M.Chinnaswamy Stadium\n",
      "runs scored at that venue                             42.0\n",
      "batting average at that venue                         42.0\n",
      "batting strike rate at that venue                 1.448276\n",
      "wickets taken at that venue                            NaN\n",
      "bowling average at that venue                          NaN\n",
      "bowling strike rate at that venue                      NaN\n",
      "Name: 214, dtype: object, 215: player                                             KL Rahul\n",
      "venue                                MA Chidambaram Stadium\n",
      "runs scored at that venue                              55.0\n",
      "batting average at that venue                          55.0\n",
      "batting strike rate at that venue                  1.170213\n",
      "wickets taken at that venue                             NaN\n",
      "bowling average at that venue                           NaN\n",
      "bowling strike rate at that venue                       NaN\n",
      "Name: 215, dtype: object, 216: player                                                                   KL Rahul\n",
      "venue                                Punjab Cricket Association IS Bindra Stadium\n",
      "runs scored at that venue                                                   300.0\n",
      "batting average at that venue                                                60.0\n",
      "batting strike rate at that venue                                        1.321586\n",
      "wickets taken at that venue                                                   NaN\n",
      "bowling average at that venue                                                 NaN\n",
      "bowling strike rate at that venue                                             NaN\n",
      "Name: 216, dtype: object, 217: player                                                         KL Rahul\n",
      "venue                                Rajiv Gandhi International Stadium\n",
      "runs scored at that venue                                          79.0\n",
      "batting average at that venue                                      79.0\n",
      "batting strike rate at that venue                              1.316667\n",
      "wickets taken at that venue                                         NaN\n",
      "bowling average at that venue                                       NaN\n",
      "bowling strike rate at that venue                                   NaN\n",
      "Name: 217, dtype: object, 218: player                                             KL Rahul\n",
      "venue                                Sawai Mansingh Stadium\n",
      "runs scored at that venue                               4.0\n",
      "batting average at that venue                           4.0\n",
      "batting strike rate at that venue                       1.0\n",
      "wickets taken at that venue                             NaN\n",
      "bowling average at that venue                           NaN\n",
      "bowling strike rate at that venue                       NaN\n",
      "Name: 218, dtype: object, 219: player                                       KL Rahul\n",
      "venue                                Wankhede Stadium\n",
      "runs scored at that venue                       100.0\n",
      "batting average at that venue                     inf\n",
      "batting strike rate at that venue            1.515152\n",
      "wickets taken at that venue                       NaN\n",
      "bowling average at that venue                     NaN\n",
      "bowling strike rate at that venue                 NaN\n",
      "Name: 219, dtype: object, 220: player                                          KM Jadhav\n",
      "venue                                Arun Jaitley Stadium\n",
      "runs scored at that venue                            27.0\n",
      "batting average at that venue                        27.0\n",
      "batting strike rate at that venue                0.794118\n",
      "wickets taken at that venue                           NaN\n",
      "bowling average at that venue                         NaN\n",
      "bowling strike rate at that venue                     NaN\n",
      "Name: 220, dtype: object, 221: player                                  KM Jadhav\n",
      "venue                                Eden Gardens\n",
      "runs scored at that venue                    20.0\n",
      "batting average at that venue                20.0\n",
      "batting strike rate at that venue        1.666667\n",
      "wickets taken at that venue                   NaN\n",
      "bowling average at that venue                 NaN\n",
      "bowling strike rate at that venue             NaN\n",
      "Name: 221, dtype: object, 222: player                                           KM Jadhav\n",
      "venue                                M.Chinnaswamy Stadium\n",
      "runs scored at that venue                              9.0\n",
      "batting average at that venue                          9.0\n",
      "batting strike rate at that venue                      1.0\n",
      "wickets taken at that venue                            NaN\n",
      "bowling average at that venue                          NaN\n",
      "bowling strike rate at that venue                      NaN\n",
      "Name: 222, dtype: object, 223: player                                            KM Jadhav\n",
      "venue                                MA Chidambaram Stadium\n",
      "runs scored at that venue                              46.0\n",
      "batting average at that venue                          23.0\n",
      "batting strike rate at that venue                  0.884615\n",
      "wickets taken at that venue                             NaN\n",
      "bowling average at that venue                           NaN\n",
      "bowling strike rate at that venue                       NaN\n",
      "Name: 223, dtype: object, 224: player                                                                  KM Jadhav\n",
      "venue                                Punjab Cricket Association IS Bindra Stadium\n",
      "runs scored at that venue                                                     0.0\n",
      "batting average at that venue                                                 0.0\n",
      "batting strike rate at that venue                                             0.0\n",
      "wickets taken at that venue                                                   NaN\n",
      "bowling average at that venue                                                 NaN\n",
      "bowling strike rate at that venue                                             NaN\n",
      "Name: 224, dtype: object, 225: player                                                        KM Jadhav\n",
      "venue                                Rajiv Gandhi International Stadium\n",
      "runs scored at that venue                                           1.0\n",
      "batting average at that venue                                       1.0\n",
      "batting strike rate at that venue                                   0.5\n",
      "wickets taken at that venue                                         NaN\n",
      "bowling average at that venue                                       NaN\n",
      "bowling strike rate at that venue                                   NaN\n",
      "Name: 225, dtype: object, 226: player                                            KM Jadhav\n",
      "venue                                Sawai Mansingh Stadium\n",
      "runs scored at that venue                               1.0\n",
      "batting average at that venue                           1.0\n",
      "batting strike rate at that venue                  0.166667\n",
      "wickets taken at that venue                             NaN\n",
      "bowling average at that venue                           NaN\n",
      "bowling strike rate at that venue                       NaN\n",
      "Name: 226, dtype: object, 227: player                                      KM Jadhav\n",
      "venue                                Wankhede Stadium\n",
      "runs scored at that venue                        58.0\n",
      "batting average at that venue                    58.0\n",
      "batting strike rate at that venue            1.035714\n",
      "wickets taken at that venue                       NaN\n",
      "bowling average at that venue                     NaN\n",
      "bowling strike rate at that venue                 NaN\n",
      "Name: 227, dtype: object, 228: player                                           KMA Paul\n",
      "venue                                Arun Jaitley Stadium\n",
      "runs scored at that venue                             0.0\n",
      "batting average at that venue                         0.0\n",
      "batting strike rate at that venue                     0.0\n",
      "wickets taken at that venue                           0.0\n",
      "bowling average at that venue                         inf\n",
      "bowling strike rate at that venue                     inf\n",
      "Name: 228, dtype: object, 229: player                                                                        KMA Paul\n",
      "venue                                Dr. Y.S. Rajasekhara Reddy ACA-VDCA Cricket St...\n",
      "runs scored at that venue                                                          8.0\n",
      "batting average at that venue                                                      8.0\n",
      "batting strike rate at that venue                                             0.666667\n",
      "wickets taken at that venue                                                        4.0\n",
      "bowling average at that venue                                                    20.75\n",
      "bowling strike rate at that venue                                                 12.5\n",
      "Name: 229, dtype: object, 230: player                                                         KMA Paul\n",
      "venue                                Rajiv Gandhi International Stadium\n",
      "runs scored at that venue                                           7.0\n",
      "batting average at that venue                                       7.0\n",
      "batting strike rate at that venue                                  1.75\n",
      "wickets taken at that venue                                         3.0\n",
      "bowling average at that venue                                  5.666667\n",
      "bowling strike rate at that venue                              8.666667\n",
      "Name: 230, dtype: object, 231: player                                       KMA Paul\n",
      "venue                                Wankhede Stadium\n",
      "runs scored at that venue                         3.0\n",
      "batting average at that venue                     3.0\n",
      "batting strike rate at that venue                 0.5\n",
      "wickets taken at that venue                       1.0\n",
      "bowling average at that venue                    21.0\n",
      "bowling strike rate at that venue                20.0\n",
      "Name: 231, dtype: object, 232: player                                                                   KS Williamson\n",
      "venue                                Dr. Y.S. Rajasekhara Reddy ACA-VDCA Cricket St...\n",
      "runs scored at that venue                                                         28.0\n",
      "batting average at that venue                                                     28.0\n",
      "batting strike rate at that venue                                             0.965517\n",
      "wickets taken at that venue                                                        NaN\n",
      "bowling average at that venue                                                      NaN\n",
      "bowling strike rate at that venue                                                  NaN\n",
      "Name: 232, dtype: object, 233: player                                       KS Williamson\n",
      "venue                                M.Chinnaswamy Stadium\n",
      "runs scored at that venue                             70.0\n",
      "batting average at that venue                          inf\n",
      "batting strike rate at that venue                 1.590909\n",
      "wickets taken at that venue                            NaN\n",
      "bowling average at that venue                          NaN\n",
      "bowling strike rate at that venue                      NaN\n",
      "Name: 233, dtype: object, 234: player                                                    KS Williamson\n",
      "venue                                Rajiv Gandhi International Stadium\n",
      "runs scored at that venue                                          42.0\n",
      "batting average at that venue                                      10.5\n",
      "batting strike rate at that venue                                  1.05\n",
      "wickets taken at that venue                                         NaN\n",
      "bowling average at that venue                                       NaN\n",
      "bowling strike rate at that venue                                   NaN\n",
      "Name: 234, dtype: object, 235: player                                        KS Williamson\n",
      "venue                                Sawai Mansingh Stadium\n",
      "runs scored at that venue                              13.0\n",
      "batting average at that venue                          13.0\n",
      "batting strike rate at that venue                  0.928571\n",
      "wickets taken at that venue                             NaN\n",
      "bowling average at that venue                           NaN\n",
      "bowling strike rate at that venue                       NaN\n",
      "Name: 235, dtype: object, 236: player                                  KS Williamson\n",
      "venue                                Wankhede Stadium\n",
      "runs scored at that venue                         3.0\n",
      "batting average at that venue                     3.0\n",
      "batting strike rate at that venue            0.428571\n",
      "wickets taken at that venue                       NaN\n",
      "bowling average at that venue                     NaN\n",
      "bowling strike rate at that venue                 NaN\n",
      "Name: 236, dtype: object, 237: player                                      Kuldeep Yadav\n",
      "venue                                Arun Jaitley Stadium\n",
      "runs scored at that venue                            10.0\n",
      "batting average at that venue                         inf\n",
      "batting strike rate at that venue                     2.0\n",
      "wickets taken at that venue                           3.0\n",
      "bowling average at that venue                   13.666667\n",
      "bowling strike rate at that venue                     8.0\n",
      "Name: 237, dtype: object, 238: player                               Kuldeep Yadav\n",
      "venue                                 Eden Gardens\n",
      "runs scored at that venue                      2.0\n",
      "batting average at that venue                  inf\n",
      "batting strike rate at that venue              1.0\n",
      "wickets taken at that venue                    1.0\n",
      "bowling average at that venue                165.0\n",
      "bowling strike rate at that venue            106.0\n",
      "Name: 238, dtype: object, 239: player                                        Kuldeep Yadav\n",
      "venue                                MA Chidambaram Stadium\n",
      "runs scored at that venue                               0.0\n",
      "batting average at that venue                           0.0\n",
      "batting strike rate at that venue                       0.0\n",
      "wickets taken at that venue                             0.0\n",
      "bowling average at that venue                           inf\n",
      "bowling strike rate at that venue                       inf\n",
      "Name: 239, dtype: object, 240: player                                     LS Livingstone\n",
      "venue                                Arun Jaitley Stadium\n",
      "runs scored at that venue                            14.0\n",
      "batting average at that venue                        14.0\n",
      "batting strike rate at that venue                1.076923\n",
      "wickets taken at that venue                           NaN\n",
      "bowling average at that venue                         NaN\n",
      "bowling strike rate at that venue                     NaN\n",
      "Name: 240, dtype: object, 241: player                                      LS Livingstone\n",
      "venue                                M.Chinnaswamy Stadium\n",
      "runs scored at that venue                             11.0\n",
      "batting average at that venue                          inf\n",
      "batting strike rate at that venue                 1.571429\n",
      "wickets taken at that venue                            NaN\n",
      "bowling average at that venue                          NaN\n",
      "bowling strike rate at that venue                      NaN\n",
      "Name: 241, dtype: object, 242: player                                       LS Livingstone\n",
      "venue                                Sawai Mansingh Stadium\n",
      "runs scored at that venue                              44.0\n",
      "batting average at that venue                          44.0\n",
      "batting strike rate at that venue                  1.692308\n",
      "wickets taken at that venue                             NaN\n",
      "bowling average at that venue                           NaN\n",
      "bowling strike rate at that venue                       NaN\n",
      "Name: 242, dtype: object, 243: player                                 LS Livingstone\n",
      "venue                                Wankhede Stadium\n",
      "runs scored at that venue                         1.0\n",
      "batting average at that venue                     1.0\n",
      "batting strike rate at that venue                 0.5\n",
      "wickets taken at that venue                       0.0\n",
      "bowling average at that venue                     inf\n",
      "bowling strike rate at that venue                 inf\n",
      "Name: 243, dtype: object, 244: player                                            M Ashwin\n",
      "venue                                M.Chinnaswamy Stadium\n",
      "runs scored at that venue                              1.0\n",
      "batting average at that venue                          inf\n",
      "batting strike rate at that venue                      0.5\n",
      "wickets taken at that venue                            1.0\n",
      "bowling average at that venue                         31.0\n",
      "bowling strike rate at that venue                     24.0\n",
      "Name: 244, dtype: object, 245: player                                                                   M Ashwin\n",
      "venue                                Punjab Cricket Association IS Bindra Stadium\n",
      "runs scored at that venue                                                     1.0\n",
      "batting average at that venue                                                 1.0\n",
      "batting strike rate at that venue                                             0.5\n",
      "wickets taken at that venue                                                   3.0\n",
      "bowling average at that venue                                                50.0\n",
      "bowling strike rate at that venue                                       38.333333\n",
      "Name: 245, dtype: object, 246: player                                                         M Ashwin\n",
      "venue                                Rajiv Gandhi International Stadium\n",
      "runs scored at that venue                                           1.0\n",
      "batting average at that venue                                       inf\n",
      "batting strike rate at that venue                                   1.0\n",
      "wickets taken at that venue                                         1.0\n",
      "bowling average at that venue                                      32.0\n",
      "bowling strike rate at that venue                                  26.0\n",
      "Name: 246, dtype: object, 247: player                                          M Markande\n",
      "venue                                M.Chinnaswamy Stadium\n",
      "runs scored at that venue                              6.0\n",
      "batting average at that venue                          6.0\n",
      "batting strike rate at that venue                      1.2\n",
      "wickets taken at that venue                            1.0\n",
      "bowling average at that venue                         23.0\n",
      "bowling strike rate at that venue                     18.0\n",
      "Name: 247, dtype: object, 248: player                                    M Prasidh Krishna\n",
      "venue                                MA Chidambaram Stadium\n",
      "runs scored at that venue                               0.0\n",
      "batting average at that venue                           0.0\n",
      "batting strike rate at that venue                       0.0\n",
      "wickets taken at that venue                             0.0\n",
      "bowling average at that venue                           inf\n",
      "bowling strike rate at that venue                       inf\n",
      "Name: 248, dtype: object, 249: player                                              M Vijay\n",
      "venue                                MA Chidambaram Stadium\n",
      "runs scored at that venue                              64.0\n",
      "batting average at that venue                          32.0\n",
      "batting strike rate at that venue                   1.04918\n",
      "wickets taken at that venue                             NaN\n",
      "bowling average at that venue                           NaN\n",
      "bowling strike rate at that venue                       NaN\n",
      "Name: 249, dtype: object, 250: player                                         MA Agarwal\n",
      "venue                                Arun Jaitley Stadium\n",
      "runs scored at that venue                             2.0\n",
      "batting average at that venue                         2.0\n",
      "batting strike rate at that venue                0.222222\n",
      "wickets taken at that venue                           NaN\n",
      "bowling average at that venue                         NaN\n",
      "bowling strike rate at that venue                     NaN\n",
      "Name: 250, dtype: object, 251: player                                 MA Agarwal\n",
      "venue                                Eden Gardens\n",
      "runs scored at that venue                    58.0\n",
      "batting average at that venue                58.0\n",
      "batting strike rate at that venue        1.567568\n",
      "wickets taken at that venue                   NaN\n",
      "bowling average at that venue                 NaN\n",
      "bowling strike rate at that venue             NaN\n",
      "Name: 251, dtype: object, 252: player                                          MA Agarwal\n",
      "venue                                M.Chinnaswamy Stadium\n",
      "runs scored at that venue                             35.0\n",
      "batting average at that venue                         35.0\n",
      "batting strike rate at that venue                 1.666667\n",
      "wickets taken at that venue                            NaN\n",
      "bowling average at that venue                          NaN\n",
      "bowling strike rate at that venue                      NaN\n",
      "Name: 252, dtype: object, 253: player                                           MA Agarwal\n",
      "venue                                MA Chidambaram Stadium\n",
      "runs scored at that venue                               0.0\n",
      "batting average at that venue                           0.0\n",
      "batting strike rate at that venue                       0.0\n",
      "wickets taken at that venue                             NaN\n",
      "bowling average at that venue                           NaN\n",
      "bowling strike rate at that venue                       NaN\n",
      "Name: 253, dtype: object, 254: player                                                                 MA Agarwal\n",
      "venue                                Punjab Cricket Association IS Bindra Stadium\n",
      "runs scored at that venue                                                   188.0\n",
      "batting average at that venue                                                37.6\n",
      "batting strike rate at that venue                                         1.46875\n",
      "wickets taken at that venue                                                   NaN\n",
      "bowling average at that venue                                                 NaN\n",
      "bowling strike rate at that venue                                             NaN\n",
      "Name: 254, dtype: object, 255: player                                                       MA Agarwal\n",
      "venue                                Rajiv Gandhi International Stadium\n",
      "runs scored at that venue                                          27.0\n",
      "batting average at that venue                                      27.0\n",
      "batting strike rate at that venue                              1.421053\n",
      "wickets taken at that venue                                         NaN\n",
      "bowling average at that venue                                       NaN\n",
      "bowling strike rate at that venue                                   NaN\n",
      "Name: 255, dtype: object, 256: player                                           MA Agarwal\n",
      "venue                                Sawai Mansingh Stadium\n",
      "runs scored at that venue                              22.0\n",
      "batting average at that venue                          22.0\n",
      "batting strike rate at that venue                      0.88\n",
      "wickets taken at that venue                             NaN\n",
      "bowling average at that venue                           NaN\n",
      "bowling strike rate at that venue                       NaN\n",
      "Name: 256, dtype: object, 257: player                                                                      MJ Guptill\n",
      "venue                                Dr. Y.S. Rajasekhara Reddy ACA-VDCA Cricket St...\n",
      "runs scored at that venue                                                         36.0\n",
      "batting average at that venue                                                     36.0\n",
      "batting strike rate at that venue                                             1.894737\n",
      "wickets taken at that venue                                                        NaN\n",
      "bowling average at that venue                                                      NaN\n",
      "bowling strike rate at that venue                                                  NaN\n",
      "Name: 257, dtype: object, 258: player                                          MJ Guptill\n",
      "venue                                M.Chinnaswamy Stadium\n",
      "runs scored at that venue                             30.0\n",
      "batting average at that venue                         30.0\n",
      "batting strike rate at that venue                 1.304348\n",
      "wickets taken at that venue                            NaN\n",
      "bowling average at that venue                          NaN\n",
      "bowling strike rate at that venue                      NaN\n",
      "Name: 258, dtype: object, 259: player                                     MJ Guptill\n",
      "venue                                Wankhede Stadium\n",
      "runs scored at that venue                        16.0\n",
      "batting average at that venue                    16.0\n",
      "batting strike rate at that venue            1.333333\n",
      "wickets taken at that venue                       NaN\n",
      "bowling average at that venue                     NaN\n",
      "bowling strike rate at that venue                 NaN\n",
      "Name: 259, dtype: object, 260: player                                      MJ McClenaghan\n",
      "venue                                M.Chinnaswamy Stadium\n",
      "runs scored at that venue                              1.0\n",
      "batting average at that venue                          1.0\n",
      "batting strike rate at that venue                     0.25\n",
      "wickets taken at that venue                            0.0\n",
      "bowling average at that venue                          inf\n",
      "bowling strike rate at that venue                      inf\n",
      "Name: 260, dtype: object, 261: player                                                             MJ McClenaghan\n",
      "venue                                Punjab Cricket Association IS Bindra Stadium\n",
      "runs scored at that venue                                                     0.0\n",
      "batting average at that venue                                                 NaN\n",
      "batting strike rate at that venue                                             0.0\n",
      "wickets taken at that venue                                                   0.0\n",
      "bowling average at that venue                                                 inf\n",
      "bowling strike rate at that venue                                             inf\n",
      "Name: 261, dtype: object, 262: player                                                   MJ McClenaghan\n",
      "venue                                Rajiv Gandhi International Stadium\n",
      "runs scored at that venue                                           0.0\n",
      "batting average at that venue                                       NaN\n",
      "batting strike rate at that venue                                   0.0\n",
      "wickets taken at that venue                                         0.0\n",
      "bowling average at that venue                                       inf\n",
      "bowling strike rate at that venue                                   inf\n",
      "Name: 262, dtype: object, 263: player                                 MJ McClenaghan\n",
      "venue                                Wankhede Stadium\n",
      "runs scored at that venue                        10.0\n",
      "batting average at that venue                    10.0\n",
      "batting strike rate at that venue                1.25\n",
      "wickets taken at that venue                       3.0\n",
      "bowling average at that venue                    20.0\n",
      "bowling strike rate at that venue                17.0\n",
      "Name: 263, dtype: object, 264: player                                           MJ Santner\n",
      "venue                                MA Chidambaram Stadium\n",
      "runs scored at that venue                              22.0\n",
      "batting average at that venue                          22.0\n",
      "batting strike rate at that venue                  1.047619\n",
      "wickets taken at that venue                             2.0\n",
      "bowling average at that venue                          19.5\n",
      "bowling strike rate at that venue                      18.5\n",
      "Name: 264, dtype: object, 265: player                                           MJ Santner\n",
      "venue                                Sawai Mansingh Stadium\n",
      "runs scored at that venue                              10.0\n",
      "batting average at that venue                           inf\n",
      "batting strike rate at that venue                       2.5\n",
      "wickets taken at that venue                             1.0\n",
      "bowling average at that venue                          25.0\n",
      "bowling strike rate at that venue                      25.0\n",
      "Name: 265, dtype: object, 266: player                                          MK Lomror\n",
      "venue                                Arun Jaitley Stadium\n",
      "runs scored at that venue                             8.0\n",
      "batting average at that venue                         8.0\n",
      "batting strike rate at that venue                2.666667\n",
      "wickets taken at that venue                           NaN\n",
      "bowling average at that venue                         NaN\n",
      "bowling strike rate at that venue                     NaN\n",
      "Name: 266, dtype: object, 267: player                                          MK Pandey\n",
      "venue                                Arun Jaitley Stadium\n",
      "runs scored at that venue                            10.0\n",
      "batting average at that venue                        10.0\n",
      "batting strike rate at that venue                0.769231\n",
      "wickets taken at that venue                           NaN\n",
      "bowling average at that venue                         NaN\n",
      "bowling strike rate at that venue                     NaN\n",
      "Name: 267, dtype: object, 268: player                                                                       MK Pandey\n",
      "venue                                Dr. Y.S. Rajasekhara Reddy ACA-VDCA Cricket St...\n",
      "runs scored at that venue                                                         30.0\n",
      "batting average at that venue                                                     30.0\n",
      "batting strike rate at that venue                                             0.789474\n",
      "wickets taken at that venue                                                        NaN\n",
      "bowling average at that venue                                                      NaN\n",
      "bowling strike rate at that venue                                                  NaN\n",
      "Name: 268, dtype: object, 269: player                                  MK Pandey\n",
      "venue                                Eden Gardens\n",
      "runs scored at that venue                     8.0\n",
      "batting average at that venue                 inf\n",
      "batting strike rate at that venue             1.6\n",
      "wickets taken at that venue                   NaN\n",
      "bowling average at that venue                 NaN\n",
      "bowling strike rate at that venue             NaN\n",
      "Name: 269, dtype: object, 270: player                                           MK Pandey\n",
      "venue                                M.Chinnaswamy Stadium\n",
      "runs scored at that venue                              9.0\n",
      "batting average at that venue                          9.0\n",
      "batting strike rate at that venue                     0.75\n",
      "wickets taken at that venue                            NaN\n",
      "bowling average at that venue                          NaN\n",
      "bowling strike rate at that venue                      NaN\n",
      "Name: 270, dtype: object, 271: player                                            MK Pandey\n",
      "venue                                MA Chidambaram Stadium\n",
      "runs scored at that venue                              83.0\n",
      "batting average at that venue                           inf\n",
      "batting strike rate at that venue                      1.66\n",
      "wickets taken at that venue                             NaN\n",
      "bowling average at that venue                           NaN\n",
      "bowling strike rate at that venue                       NaN\n",
      "Name: 271, dtype: object, 272: player                                                                  MK Pandey\n",
      "venue                                Punjab Cricket Association IS Bindra Stadium\n",
      "runs scored at that venue                                                    19.0\n",
      "batting average at that venue                                                19.0\n",
      "batting strike rate at that venue                                        1.266667\n",
      "wickets taken at that venue                                                   NaN\n",
      "bowling average at that venue                                                 NaN\n",
      "bowling strike rate at that venue                                             NaN\n",
      "Name: 272, dtype: object, 273: player                                                        MK Pandey\n",
      "venue                                Rajiv Gandhi International Stadium\n",
      "runs scored at that venue                                          53.0\n",
      "batting average at that venue                                 17.666667\n",
      "batting strike rate at that venue                              1.039216\n",
      "wickets taken at that venue                                         NaN\n",
      "bowling average at that venue                                       NaN\n",
      "bowling strike rate at that venue                                   NaN\n",
      "Name: 273, dtype: object, 274: player                                            MK Pandey\n",
      "venue                                Sawai Mansingh Stadium\n",
      "runs scored at that venue                              61.0\n",
      "batting average at that venue                          61.0\n",
      "batting strike rate at that venue                  1.694444\n",
      "wickets taken at that venue                             NaN\n",
      "bowling average at that venue                           NaN\n",
      "bowling strike rate at that venue                       NaN\n",
      "Name: 274, dtype: object, 275: player                                      MK Pandey\n",
      "venue                                Wankhede Stadium\n",
      "runs scored at that venue                        72.0\n",
      "batting average at that venue                    72.0\n",
      "batting strike rate at that venue                 1.5\n",
      "wickets taken at that venue                       NaN\n",
      "bowling average at that venue                     NaN\n",
      "bowling strike rate at that venue                 NaN\n",
      "Name: 275, dtype: object, 276: player                                     MM Ali\n",
      "venue                                Eden Gardens\n",
      "runs scored at that venue                    66.0\n",
      "batting average at that venue                66.0\n",
      "batting strike rate at that venue        2.275862\n",
      "wickets taken at that venue                   1.0\n",
      "bowling average at that venue                13.0\n",
      "bowling strike rate at that venue             6.0\n",
      "Name: 276, dtype: object, 277: player                                              MM Ali\n",
      "venue                                M.Chinnaswamy Stadium\n",
      "runs scored at that venue                             75.0\n",
      "batting average at that venue                         25.0\n",
      "batting strike rate at that venue                 1.470588\n",
      "wickets taken at that venue                            2.0\n",
      "bowling average at that venue                         28.5\n",
      "bowling strike rate at that venue                     24.0\n",
      "Name: 277, dtype: object, 278: player                                               MM Ali\n",
      "venue                                MA Chidambaram Stadium\n",
      "runs scored at that venue                               9.0\n",
      "batting average at that venue                           9.0\n",
      "batting strike rate at that venue                     1.125\n",
      "wickets taken at that venue                             1.0\n",
      "bowling average at that venue                          19.0\n",
      "bowling strike rate at that venue                      24.0\n",
      "Name: 278, dtype: object, 279: player                                                           MM Ali\n",
      "venue                                Rajiv Gandhi International Stadium\n",
      "runs scored at that venue                                           2.0\n",
      "batting average at that venue                                       inf\n",
      "batting strike rate at that venue                                  0.25\n",
      "wickets taken at that venue                                         0.0\n",
      "bowling average at that venue                                       inf\n",
      "bowling strike rate at that venue                                   inf\n",
      "Name: 279, dtype: object, 280: player                                               MM Ali\n",
      "venue                                Sawai Mansingh Stadium\n",
      "runs scored at that venue                              18.0\n",
      "batting average at that venue                           inf\n",
      "batting strike rate at that venue                       2.0\n",
      "wickets taken at that venue                             0.0\n",
      "bowling average at that venue                           inf\n",
      "bowling strike rate at that venue                       inf\n",
      "Name: 280, dtype: object, 281: player                                         MM Ali\n",
      "venue                                Wankhede Stadium\n",
      "runs scored at that venue                        50.0\n",
      "batting average at that venue                    50.0\n",
      "batting strike rate at that venue              1.5625\n",
      "wickets taken at that venue                       2.0\n",
      "bowling average at that venue                     9.0\n",
      "bowling strike rate at that venue                12.0\n",
      "Name: 281, dtype: object, 282: player                                      MM Sharma\n",
      "venue                                Wankhede Stadium\n",
      "runs scored at that venue                         0.0\n",
      "batting average at that venue                     NaN\n",
      "batting strike rate at that venue                 0.0\n",
      "wickets taken at that venue                       1.0\n",
      "bowling average at that venue                    27.0\n",
      "bowling strike rate at that venue                18.0\n",
      "Name: 282, dtype: object, 283: player                                         MP Stoinis\n",
      "venue                                Arun Jaitley Stadium\n",
      "runs scored at that venue                            32.0\n",
      "batting average at that venue                         inf\n",
      "batting strike rate at that venue                    1.28\n",
      "wickets taken at that venue                           0.0\n",
      "bowling average at that venue                         inf\n",
      "bowling strike rate at that venue                     inf\n",
      "Name: 283, dtype: object, 284: player                                 MP Stoinis\n",
      "venue                                Eden Gardens\n",
      "runs scored at that venue                    17.0\n",
      "batting average at that venue                 inf\n",
      "batting strike rate at that venue             1.7\n",
      "wickets taken at that venue                   1.0\n",
      "bowling average at that venue                32.0\n",
      "bowling strike rate at that venue            25.0\n",
      "Name: 284, dtype: object, 285: player                                          MP Stoinis\n",
      "venue                                M.Chinnaswamy Stadium\n",
      "runs scored at that venue                            103.0\n",
      "batting average at that venue                    34.333333\n",
      "batting strike rate at that venue                 1.320513\n",
      "wickets taken at that venue                            1.0\n",
      "bowling average at that venue                         63.0\n",
      "bowling strike rate at that venue                     42.0\n",
      "Name: 285, dtype: object, 286: player                                                                 MP Stoinis\n",
      "venue                                Punjab Cricket Association IS Bindra Stadium\n",
      "runs scored at that venue                                                    28.0\n",
      "batting average at that venue                                                 inf\n",
      "batting strike rate at that venue                                            1.75\n",
      "wickets taken at that venue                                                   NaN\n",
      "bowling average at that venue                                                 NaN\n",
      "bowling strike rate at that venue                                             NaN\n",
      "Name: 286, dtype: object, 287: player                                           MP Stoinis\n",
      "venue                                Sawai Mansingh Stadium\n",
      "runs scored at that venue                              31.0\n",
      "batting average at that venue                           inf\n",
      "batting strike rate at that venue                  1.107143\n",
      "wickets taken at that venue                             0.0\n",
      "bowling average at that venue                           inf\n",
      "bowling strike rate at that venue                       inf\n",
      "Name: 287, dtype: object, 288: player                                     MP Stoinis\n",
      "venue                                Wankhede Stadium\n",
      "runs scored at that venue                         0.0\n",
      "batting average at that venue                     0.0\n",
      "batting strike rate at that venue                 0.0\n",
      "wickets taken at that venue                       NaN\n",
      "bowling average at that venue                     NaN\n",
      "bowling strike rate at that venue                 NaN\n",
      "Name: 288, dtype: object, 289: player                                           MS Dhoni\n",
      "venue                                Arun Jaitley Stadium\n",
      "runs scored at that venue                            32.0\n",
      "batting average at that venue                         inf\n",
      "batting strike rate at that venue                0.888889\n",
      "wickets taken at that venue                           NaN\n",
      "bowling average at that venue                         NaN\n",
      "bowling strike rate at that venue                     NaN\n",
      "Name: 289, dtype: object, 290: player                                                                        MS Dhoni\n",
      "venue                                Dr. Y.S. Rajasekhara Reddy ACA-VDCA Cricket St...\n",
      "runs scored at that venue                                                          9.0\n",
      "batting average at that venue                                                      9.0\n",
      "batting strike rate at that venue                                                  1.0\n",
      "wickets taken at that venue                                                        NaN\n",
      "bowling average at that venue                                                      NaN\n",
      "bowling strike rate at that venue                                                  NaN\n",
      "Name: 290, dtype: object, 291: player                                   MS Dhoni\n",
      "venue                                Eden Gardens\n",
      "runs scored at that venue                    16.0\n",
      "batting average at that venue                16.0\n",
      "batting strike rate at that venue        1.230769\n",
      "wickets taken at that venue                   NaN\n",
      "bowling average at that venue                 NaN\n",
      "bowling strike rate at that venue             NaN\n",
      "Name: 291, dtype: object, 292: player                                            MS Dhoni\n",
      "venue                                M.Chinnaswamy Stadium\n",
      "runs scored at that venue                             84.0\n",
      "batting average at that venue                         42.0\n",
      "batting strike rate at that venue                     1.75\n",
      "wickets taken at that venue                            NaN\n",
      "bowling average at that venue                          NaN\n",
      "bowling strike rate at that venue                      NaN\n",
      "Name: 292, dtype: object, 293: player                                             MS Dhoni\n",
      "venue                                MA Chidambaram Stadium\n",
      "runs scored at that venue                             193.0\n",
      "batting average at that venue                           inf\n",
      "batting strike rate at that venue                     1.544\n",
      "wickets taken at that venue                             NaN\n",
      "bowling average at that venue                           NaN\n",
      "bowling strike rate at that venue                       NaN\n",
      "Name: 293, dtype: object, 294: player                                                                   MS Dhoni\n",
      "venue                                Punjab Cricket Association IS Bindra Stadium\n",
      "runs scored at that venue                                                    10.0\n",
      "batting average at that venue                                                 inf\n",
      "batting strike rate at that venue                                        0.833333\n",
      "wickets taken at that venue                                                   NaN\n",
      "bowling average at that venue                                                 NaN\n",
      "bowling strike rate at that venue                                             NaN\n",
      "Name: 294, dtype: object, 295: player                                                         MS Dhoni\n",
      "venue                                Rajiv Gandhi International Stadium\n",
      "runs scored at that venue                                           2.0\n",
      "batting average at that venue                                       inf\n",
      "batting strike rate at that venue                                  0.25\n",
      "wickets taken at that venue                                         NaN\n",
      "bowling average at that venue                                       NaN\n",
      "bowling strike rate at that venue                                   NaN\n",
      "Name: 295, dtype: object, 296: player                                             MS Dhoni\n",
      "venue                                Sawai Mansingh Stadium\n",
      "runs scored at that venue                              58.0\n",
      "batting average at that venue                          58.0\n",
      "batting strike rate at that venue                  1.318182\n",
      "wickets taken at that venue                             NaN\n",
      "bowling average at that venue                           NaN\n",
      "bowling strike rate at that venue                       NaN\n",
      "Name: 296, dtype: object, 297: player                                       MS Dhoni\n",
      "venue                                Wankhede Stadium\n",
      "runs scored at that venue                        12.0\n",
      "batting average at that venue                    12.0\n",
      "batting strike rate at that venue            0.545455\n",
      "wickets taken at that venue                       NaN\n",
      "bowling average at that venue                     NaN\n",
      "bowling strike rate at that venue                 NaN\n",
      "Name: 297, dtype: object, 298: player                                      Mandeep Singh\n",
      "venue                                Arun Jaitley Stadium\n",
      "runs scored at that venue                            30.0\n",
      "batting average at that venue                        30.0\n",
      "batting strike rate at that venue                1.111111\n",
      "wickets taken at that venue                           NaN\n",
      "bowling average at that venue                         NaN\n",
      "bowling strike rate at that venue                     NaN\n",
      "Name: 298, dtype: object, 299: player                               Mandeep Singh\n",
      "venue                                 Eden Gardens\n",
      "runs scored at that venue                     33.0\n",
      "batting average at that venue                  inf\n",
      "batting strike rate at that venue              2.2\n",
      "wickets taken at that venue                    0.0\n",
      "bowling average at that venue                  inf\n",
      "bowling strike rate at that venue              inf\n",
      "Name: 299, dtype: object, 300: player                                       Mandeep Singh\n",
      "venue                                M.Chinnaswamy Stadium\n",
      "runs scored at that venue                              4.0\n",
      "batting average at that venue                          inf\n",
      "batting strike rate at that venue                      1.0\n",
      "wickets taken at that venue                            NaN\n",
      "bowling average at that venue                          NaN\n",
      "bowling strike rate at that venue                      NaN\n",
      "Name: 300, dtype: object, 301: player                                        Mandeep Singh\n",
      "venue                                MA Chidambaram Stadium\n",
      "runs scored at that venue                               1.0\n",
      "batting average at that venue                           inf\n",
      "batting strike rate at that venue                       1.0\n",
      "wickets taken at that venue                             NaN\n",
      "bowling average at that venue                           NaN\n",
      "bowling strike rate at that venue                       NaN\n",
      "Name: 301, dtype: object, 302: player                                                              Mandeep Singh\n",
      "venue                                Punjab Cricket Association IS Bindra Stadium\n",
      "runs scored at that venue                                                    85.0\n",
      "batting average at that venue                                               21.25\n",
      "batting strike rate at that venue                                        1.214286\n",
      "wickets taken at that venue                                                   0.0\n",
      "bowling average at that venue                                                 inf\n",
      "bowling strike rate at that venue                                             inf\n",
      "Name: 302, dtype: object, 303: player                                        Mandeep Singh\n",
      "venue                                Sawai Mansingh Stadium\n",
      "runs scored at that venue                               5.0\n",
      "batting average at that venue                           inf\n",
      "batting strike rate at that venue                       2.5\n",
      "wickets taken at that venue                             NaN\n",
      "bowling average at that venue                           NaN\n",
      "bowling strike rate at that venue                       NaN\n",
      "Name: 303, dtype: object, 304: player                                  Mandeep Singh\n",
      "venue                                Wankhede Stadium\n",
      "runs scored at that venue                         7.0\n",
      "batting average at that venue                     inf\n",
      "batting strike rate at that venue            2.333333\n",
      "wickets taken at that venue                       NaN\n",
      "bowling average at that venue                     NaN\n",
      "bowling strike rate at that venue                 NaN\n",
      "Name: 304, dtype: object, 305: player                                      Mohammad Nabi\n",
      "venue                                Arun Jaitley Stadium\n",
      "runs scored at that venue                            17.0\n",
      "batting average at that venue                         inf\n",
      "batting strike rate at that venue                1.888889\n",
      "wickets taken at that venue                           2.0\n",
      "bowling average at that venue                        11.5\n",
      "bowling strike rate at that venue                    12.0\n",
      "Name: 305, dtype: object, 306: player                                                                   Mohammad Nabi\n",
      "venue                                Dr. Y.S. Rajasekhara Reddy ACA-VDCA Cricket St...\n",
      "runs scored at that venue                                                         20.0\n",
      "batting average at that venue                                                     20.0\n",
      "batting strike rate at that venue                                             1.538462\n",
      "wickets taken at that venue                                                        0.0\n",
      "bowling average at that venue                                                      inf\n",
      "bowling strike rate at that venue                                                  inf\n",
      "Name: 306, dtype: object, 307: player                                       Mohammad Nabi\n",
      "venue                                M.Chinnaswamy Stadium\n",
      "runs scored at that venue                              4.0\n",
      "batting average at that venue                          4.0\n",
      "batting strike rate at that venue                 1.333333\n",
      "wickets taken at that venue                            0.0\n",
      "bowling average at that venue                          inf\n",
      "bowling strike rate at that venue                      inf\n",
      "Name: 307, dtype: object, 308: player                                                              Mohammad Nabi\n",
      "venue                                Punjab Cricket Association IS Bindra Stadium\n",
      "runs scored at that venue                                                    12.0\n",
      "batting average at that venue                                                 inf\n",
      "batting strike rate at that venue                                        1.714286\n",
      "wickets taken at that venue                                                   0.0\n",
      "bowling average at that venue                                                 inf\n",
      "bowling strike rate at that venue                                             inf\n",
      "Name: 308, dtype: object, 309: player                                                    Mohammad Nabi\n",
      "venue                                Rajiv Gandhi International Stadium\n",
      "runs scored at that venue                                          31.0\n",
      "batting average at that venue                                      15.5\n",
      "batting strike rate at that venue                              1.148148\n",
      "wickets taken at that venue                                         5.0\n",
      "bowling average at that venue                                      11.2\n",
      "bowling strike rate at that venue                                  13.2\n",
      "Name: 309, dtype: object, 310: player                                  Mohammad Nabi\n",
      "venue                                Wankhede Stadium\n",
      "runs scored at that venue                        37.0\n",
      "batting average at that venue                    18.5\n",
      "batting strike rate at that venue            1.681818\n",
      "wickets taken at that venue                       1.0\n",
      "bowling average at that venue                    24.0\n",
      "bowling strike rate at that venue                24.0\n",
      "Name: 310, dtype: object, 311: player                                                             Mohammed Shami\n",
      "venue                                Punjab Cricket Association IS Bindra Stadium\n",
      "runs scored at that venue                                                     0.0\n",
      "batting average at that venue                                                 0.0\n",
      "batting strike rate at that venue                                             0.0\n",
      "wickets taken at that venue                                                  12.0\n",
      "bowling average at that venue                                           18.583333\n",
      "bowling strike rate at that venue                                       13.083333\n",
      "Name: 311, dtype: object, 312: player                                                   Mohammed Shami\n",
      "venue                                Rajiv Gandhi International Stadium\n",
      "runs scored at that venue                                           1.0\n",
      "batting average at that venue                                       inf\n",
      "batting strike rate at that venue                                   1.0\n",
      "wickets taken at that venue                                         2.0\n",
      "bowling average at that venue                                      18.0\n",
      "bowling strike rate at that venue                                  12.5\n",
      "Name: 312, dtype: object, 313: player                                      Mohammed Siraj\n",
      "venue                                M.Chinnaswamy Stadium\n",
      "runs scored at that venue                              1.0\n",
      "batting average at that venue                          1.0\n",
      "batting strike rate at that venue                      0.2\n",
      "wickets taken at that venue                            3.0\n",
      "bowling average at that venue                    29.666667\n",
      "bowling strike rate at that venue                17.666667\n",
      "Name: 313, dtype: object, 314: player                                       Mohammed Siraj\n",
      "venue                                MA Chidambaram Stadium\n",
      "runs scored at that venue                               0.0\n",
      "batting average at that venue                           NaN\n",
      "batting strike rate at that venue                       0.0\n",
      "wickets taken at that venue                             1.0\n",
      "bowling average at that venue                           5.0\n",
      "bowling strike rate at that venue                      12.0\n",
      "Name: 314, dtype: object, 315: player                                                   Mohammed Siraj\n",
      "venue                                Rajiv Gandhi International Stadium\n",
      "runs scored at that venue                                           3.0\n",
      "batting average at that venue                                       3.0\n",
      "batting strike rate at that venue                              0.333333\n",
      "wickets taken at that venue                                         1.0\n",
      "bowling average at that venue                                      39.0\n",
      "bowling strike rate at that venue                                  24.0\n",
      "Name: 315, dtype: object, 316: player                                                           Mujeeb Ur Rahman\n",
      "venue                                Punjab Cricket Association IS Bindra Stadium\n",
      "runs scored at that venue                                                     0.0\n",
      "batting average at that venue                                                 NaN\n",
      "batting strike rate at that venue                                             0.0\n",
      "wickets taken at that venue                                                   1.0\n",
      "bowling average at that venue                                                96.0\n",
      "bowling strike rate at that venue                                            71.0\n",
      "Name: 316, dtype: object, 317: player                                                 Mujeeb Ur Rahman\n",
      "venue                                Rajiv Gandhi International Stadium\n",
      "runs scored at that venue                                           0.0\n",
      "batting average at that venue                                       0.0\n",
      "batting strike rate at that venue                                   0.0\n",
      "wickets taken at that venue                                         0.0\n",
      "bowling average at that venue                                       inf\n",
      "bowling strike rate at that venue                                   inf\n",
      "Name: 317, dtype: object, 318: player                                            N Pooran\n",
      "venue                                M.Chinnaswamy Stadium\n",
      "runs scored at that venue                             46.0\n",
      "batting average at that venue                         46.0\n",
      "batting strike rate at that venue                 1.642857\n",
      "wickets taken at that venue                            NaN\n",
      "bowling average at that venue                          NaN\n",
      "bowling strike rate at that venue                      NaN\n",
      "Name: 318, dtype: object, 319: player                                                                   N Pooran\n",
      "venue                                Punjab Cricket Association IS Bindra Stadium\n",
      "runs scored at that venue                                                    89.0\n",
      "batting average at that venue                                           29.666667\n",
      "batting strike rate at that venue                                        1.561404\n",
      "wickets taken at that venue                                                   NaN\n",
      "bowling average at that venue                                                 NaN\n",
      "bowling strike rate at that venue                                             NaN\n",
      "Name: 319, dtype: object, 320: player                                                         N Pooran\n",
      "venue                                Rajiv Gandhi International Stadium\n",
      "runs scored at that venue                                          21.0\n",
      "batting average at that venue                                      21.0\n",
      "batting strike rate at that venue                                   2.1\n",
      "wickets taken at that venue                                         NaN\n",
      "bowling average at that venue                                       NaN\n",
      "bowling strike rate at that venue                                   NaN\n",
      "Name: 320, dtype: object, 321: player                                             N Pooran\n",
      "venue                                Sawai Mansingh Stadium\n",
      "runs scored at that venue                              12.0\n",
      "batting average at that venue                          12.0\n",
      "batting strike rate at that venue                       0.8\n",
      "wickets taken at that venue                             NaN\n",
      "bowling average at that venue                           NaN\n",
      "bowling strike rate at that venue                       NaN\n",
      "Name: 321, dtype: object, 322: player                                             N Rana\n",
      "venue                                Arun Jaitley Stadium\n",
      "runs scored at that venue                             1.0\n",
      "batting average at that venue                         1.0\n",
      "batting strike rate at that venue                     0.5\n",
      "wickets taken at that venue                           0.0\n",
      "bowling average at that venue                         inf\n",
      "bowling strike rate at that venue                     inf\n",
      "Name: 322, dtype: object, 323: player                                     N Rana\n",
      "venue                                Eden Gardens\n",
      "runs scored at that venue                   269.0\n",
      "batting average at that venue                53.8\n",
      "batting strike rate at that venue        1.438503\n",
      "wickets taken at that venue                   1.0\n",
      "bowling average at that venue                34.0\n",
      "bowling strike rate at that venue            24.0\n",
      "Name: 323, dtype: object, 324: player                                              N Rana\n",
      "venue                                M.Chinnaswamy Stadium\n",
      "runs scored at that venue                             37.0\n",
      "batting average at that venue                         37.0\n",
      "batting strike rate at that venue                 1.608696\n",
      "wickets taken at that venue                            1.0\n",
      "bowling average at that venue                         22.0\n",
      "bowling strike rate at that venue                     14.0\n",
      "Name: 324, dtype: object, 325: player                                               N Rana\n",
      "venue                                MA Chidambaram Stadium\n",
      "runs scored at that venue                               0.0\n",
      "batting average at that venue                           0.0\n",
      "batting strike rate at that venue                       0.0\n",
      "wickets taken at that venue                             NaN\n",
      "bowling average at that venue                           NaN\n",
      "bowling strike rate at that venue                       NaN\n",
      "Name: 325, dtype: object, 326: player                                                           N Rana\n",
      "venue                                Rajiv Gandhi International Stadium\n",
      "runs scored at that venue                                          11.0\n",
      "batting average at that venue                                      11.0\n",
      "batting strike rate at that venue                                   1.0\n",
      "wickets taken at that venue                                         NaN\n",
      "bowling average at that venue                                       NaN\n",
      "bowling strike rate at that venue                                   NaN\n",
      "Name: 326, dtype: object, 327: player                                         N Rana\n",
      "venue                                Wankhede Stadium\n",
      "runs scored at that venue                        26.0\n",
      "batting average at that venue                    26.0\n",
      "batting strike rate at that venue                 2.0\n",
      "wickets taken at that venue                       NaN\n",
      "bowling average at that venue                     NaN\n",
      "bowling strike rate at that venue                 NaN\n",
      "Name: 327, dtype: object, 328: player                                            NS Naik\n",
      "venue                                Arun Jaitley Stadium\n",
      "runs scored at that venue                             7.0\n",
      "batting average at that venue                         7.0\n",
      "batting strike rate at that venue                0.411765\n",
      "wickets taken at that venue                           NaN\n",
      "bowling average at that venue                         NaN\n",
      "bowling strike rate at that venue                     NaN\n",
      "Name: 328, dtype: object, 329: player                                       Navdeep Saini\n",
      "venue                                M.Chinnaswamy Stadium\n",
      "runs scored at that venue                              0.0\n",
      "batting average at that venue                          NaN\n",
      "batting strike rate at that venue                      0.0\n",
      "wickets taken at that venue                           10.0\n",
      "bowling average at that venue                         20.9\n",
      "bowling strike rate at that venue                     15.6\n",
      "Name: 329, dtype: object, 330: player                                        Navdeep Saini\n",
      "venue                                MA Chidambaram Stadium\n",
      "runs scored at that venue                               2.0\n",
      "batting average at that venue                           2.0\n",
      "batting strike rate at that venue                  0.666667\n",
      "wickets taken at that venue                             0.0\n",
      "bowling average at that venue                           inf\n",
      "bowling strike rate at that venue                       inf\n",
      "Name: 330, dtype: object, 331: player                                              P Negi\n",
      "venue                                M.Chinnaswamy Stadium\n",
      "runs scored at that venue                              9.0\n",
      "batting average at that venue                          3.0\n",
      "batting strike rate at that venue                      0.9\n",
      "wickets taken at that venue                            3.0\n",
      "bowling average at that venue                    18.666667\n",
      "bowling strike rate at that venue                14.666667\n",
      "Name: 331, dtype: object, 332: player                                         P Negi\n",
      "venue                                Wankhede Stadium\n",
      "runs scored at that venue                         0.0\n",
      "batting average at that venue                     0.0\n",
      "batting strike rate at that venue                 0.0\n",
      "wickets taken at that venue                       0.0\n",
      "bowling average at that venue                     inf\n",
      "bowling strike rate at that venue                 inf\n",
      "Name: 332, dtype: object, 333: player                                                     P Ray Barman\n",
      "venue                                Rajiv Gandhi International Stadium\n",
      "runs scored at that venue                                          19.0\n",
      "batting average at that venue                                      19.0\n",
      "batting strike rate at that venue                                  0.76\n",
      "wickets taken at that venue                                         0.0\n",
      "bowling average at that venue                                       inf\n",
      "bowling strike rate at that venue                                   inf\n",
      "Name: 333, dtype: object, 334: player                                                   P Simran Singh\n",
      "venue                                Rajiv Gandhi International Stadium\n",
      "runs scored at that venue                                          16.0\n",
      "batting average at that venue                                      16.0\n",
      "batting strike rate at that venue                              0.888889\n",
      "wickets taken at that venue                                         NaN\n",
      "bowling average at that venue                                       NaN\n",
      "bowling strike rate at that venue                                   NaN\n",
      "Name: 334, dtype: object, 335: player                                           PA Patel\n",
      "venue                                Arun Jaitley Stadium\n",
      "runs scored at that venue                            39.0\n",
      "batting average at that venue                        39.0\n",
      "batting strike rate at that venue                    1.95\n",
      "wickets taken at that venue                           NaN\n",
      "bowling average at that venue                         NaN\n",
      "bowling strike rate at that venue                     NaN\n",
      "Name: 335, dtype: object, 336: player                                   PA Patel\n",
      "venue                                Eden Gardens\n",
      "runs scored at that venue                    11.0\n",
      "batting average at that venue                11.0\n",
      "batting strike rate at that venue        0.916667\n",
      "wickets taken at that venue                   NaN\n",
      "bowling average at that venue                 NaN\n",
      "bowling strike rate at that venue             NaN\n",
      "Name: 336, dtype: object, 337: player                                            PA Patel\n",
      "venue                                M.Chinnaswamy Stadium\n",
      "runs scored at that venue                            169.0\n",
      "batting average at that venue                       21.125\n",
      "batting strike rate at that venue                 1.320312\n",
      "wickets taken at that venue                            NaN\n",
      "bowling average at that venue                          NaN\n",
      "bowling strike rate at that venue                      NaN\n",
      "Name: 337, dtype: object, 338: player                                             PA Patel\n",
      "venue                                MA Chidambaram Stadium\n",
      "runs scored at that venue                              29.0\n",
      "batting average at that venue                          29.0\n",
      "batting strike rate at that venue                  0.828571\n",
      "wickets taken at that venue                             NaN\n",
      "bowling average at that venue                           NaN\n",
      "bowling strike rate at that venue                       NaN\n",
      "Name: 338, dtype: object, 339: player                                                                   PA Patel\n",
      "venue                                Punjab Cricket Association IS Bindra Stadium\n",
      "runs scored at that venue                                                    19.0\n",
      "batting average at that venue                                                19.0\n",
      "batting strike rate at that venue                                        2.111111\n",
      "wickets taken at that venue                                                   NaN\n",
      "bowling average at that venue                                                 NaN\n",
      "bowling strike rate at that venue                                             NaN\n",
      "Name: 339, dtype: object, 340: player                                                         PA Patel\n",
      "venue                                Rajiv Gandhi International Stadium\n",
      "runs scored at that venue                                          11.0\n",
      "batting average at that venue                                      11.0\n",
      "batting strike rate at that venue                                 1.375\n",
      "wickets taken at that venue                                         NaN\n",
      "bowling average at that venue                                       NaN\n",
      "bowling strike rate at that venue                                   NaN\n",
      "Name: 340, dtype: object, 341: player                                             PA Patel\n",
      "venue                                Sawai Mansingh Stadium\n",
      "runs scored at that venue                              67.0\n",
      "batting average at that venue                          67.0\n",
      "batting strike rate at that venue                  1.634146\n",
      "wickets taken at that venue                             NaN\n",
      "bowling average at that venue                           NaN\n",
      "bowling strike rate at that venue                       NaN\n",
      "Name: 341, dtype: object, 342: player                                       PA Patel\n",
      "venue                                Wankhede Stadium\n",
      "runs scored at that venue                        28.0\n",
      "batting average at that venue                    28.0\n",
      "batting strike rate at that venue                 1.4\n",
      "wickets taken at that venue                       NaN\n",
      "bowling average at that venue                     NaN\n",
      "bowling strike rate at that venue                 NaN\n",
      "Name: 342, dtype: object, 343: player                                          PP Chawla\n",
      "venue                                Arun Jaitley Stadium\n",
      "runs scored at that venue                            12.0\n",
      "batting average at that venue                        12.0\n",
      "batting strike rate at that venue                     2.4\n",
      "wickets taken at that venue                           1.0\n",
      "bowling average at that venue                        36.0\n",
      "bowling strike rate at that venue                    24.0\n",
      "Name: 343, dtype: object, 344: player                                  PP Chawla\n",
      "venue                                Eden Gardens\n",
      "runs scored at that venue                    18.0\n",
      "batting average at that venue                18.0\n",
      "batting strike rate at that venue             1.5\n",
      "wickets taken at that venue                   8.0\n",
      "bowling average at that venue              26.125\n",
      "bowling strike rate at that venue          16.125\n",
      "Name: 344, dtype: object, 345: player                                            PP Chawla\n",
      "venue                                MA Chidambaram Stadium\n",
      "runs scored at that venue                               8.0\n",
      "batting average at that venue                           8.0\n",
      "batting strike rate at that venue                  0.615385\n",
      "wickets taken at that venue                             1.0\n",
      "bowling average at that venue                          28.0\n",
      "bowling strike rate at that venue                      24.0\n",
      "Name: 345, dtype: object, 346: player                                                        PP Chawla\n",
      "venue                                Rajiv Gandhi International Stadium\n",
      "runs scored at that venue                                           4.0\n",
      "batting average at that venue                                       4.0\n",
      "batting strike rate at that venue                                   0.5\n",
      "wickets taken at that venue                                         0.0\n",
      "bowling average at that venue                                       inf\n",
      "bowling strike rate at that venue                                   inf\n",
      "Name: 346, dtype: object, 347: player                                            PP Shaw\n",
      "venue                                Arun Jaitley Stadium\n",
      "runs scored at that venue                           193.0\n",
      "batting average at that venue                   32.166667\n",
      "batting strike rate at that venue                1.398551\n",
      "wickets taken at that venue                           NaN\n",
      "bowling average at that venue                         NaN\n",
      "bowling strike rate at that venue                     NaN\n",
      "Name: 347, dtype: object, 348: player                                                                         PP Shaw\n",
      "venue                                Dr. Y.S. Rajasekhara Reddy ACA-VDCA Cricket St...\n",
      "runs scored at that venue                                                         61.0\n",
      "batting average at that venue                                                     30.5\n",
      "batting strike rate at that venue                                             1.297872\n",
      "wickets taken at that venue                                                        NaN\n",
      "bowling average at that venue                                                      NaN\n",
      "bowling strike rate at that venue                                                  NaN\n",
      "Name: 348, dtype: object, 349: player                                    PP Shaw\n",
      "venue                                Eden Gardens\n",
      "runs scored at that venue                    14.0\n",
      "batting average at that venue                14.0\n",
      "batting strike rate at that venue             2.0\n",
      "wickets taken at that venue                   NaN\n",
      "bowling average at that venue                 NaN\n",
      "bowling strike rate at that venue             NaN\n",
      "Name: 349, dtype: object, 350: player                                             PP Shaw\n",
      "venue                                M.Chinnaswamy Stadium\n",
      "runs scored at that venue                             28.0\n",
      "batting average at that venue                         28.0\n",
      "batting strike rate at that venue                 1.272727\n",
      "wickets taken at that venue                            NaN\n",
      "bowling average at that venue                          NaN\n",
      "bowling strike rate at that venue                      NaN\n",
      "Name: 350, dtype: object, 351: player                                              PP Shaw\n",
      "venue                                MA Chidambaram Stadium\n",
      "runs scored at that venue                               4.0\n",
      "batting average at that venue                           4.0\n",
      "batting strike rate at that venue                       0.8\n",
      "wickets taken at that venue                             NaN\n",
      "bowling average at that venue                           NaN\n",
      "bowling strike rate at that venue                       NaN\n",
      "Name: 351, dtype: object, 352: player                                                                    PP Shaw\n",
      "venue                                Punjab Cricket Association IS Bindra Stadium\n",
      "runs scored at that venue                                                     0.0\n",
      "batting average at that venue                                                 0.0\n",
      "batting strike rate at that venue                                             0.0\n",
      "wickets taken at that venue                                                   NaN\n",
      "bowling average at that venue                                                 NaN\n",
      "bowling strike rate at that venue                                             NaN\n",
      "Name: 352, dtype: object, 353: player                                                          PP Shaw\n",
      "venue                                Rajiv Gandhi International Stadium\n",
      "runs scored at that venue                                           4.0\n",
      "batting average at that venue                                       4.0\n",
      "batting strike rate at that venue                                   0.8\n",
      "wickets taken at that venue                                         NaN\n",
      "bowling average at that venue                                       NaN\n",
      "bowling strike rate at that venue                                   NaN\n",
      "Name: 353, dtype: object, 354: player                                              PP Shaw\n",
      "venue                                Sawai Mansingh Stadium\n",
      "runs scored at that venue                              42.0\n",
      "batting average at that venue                          42.0\n",
      "batting strike rate at that venue                  1.076923\n",
      "wickets taken at that venue                             NaN\n",
      "bowling average at that venue                           NaN\n",
      "bowling strike rate at that venue                       NaN\n",
      "Name: 354, dtype: object, 355: player                                        PP Shaw\n",
      "venue                                Wankhede Stadium\n",
      "runs scored at that venue                         7.0\n",
      "batting average at that venue                     7.0\n",
      "batting strike rate at that venue            1.166667\n",
      "wickets taken at that venue                       NaN\n",
      "bowling average at that venue                     NaN\n",
      "bowling strike rate at that venue                 NaN\n",
      "Name: 355, dtype: object, 356: player                                          Q de Kock\n",
      "venue                                Arun Jaitley Stadium\n",
      "runs scored at that venue                            35.0\n",
      "batting average at that venue                         inf\n",
      "batting strike rate at that venue                1.296296\n",
      "wickets taken at that venue                           NaN\n",
      "bowling average at that venue                         NaN\n",
      "bowling strike rate at that venue                     NaN\n",
      "Name: 356, dtype: object, 357: player                                  Q de Kock\n",
      "venue                                Eden Gardens\n",
      "runs scored at that venue                     0.0\n",
      "batting average at that venue                 0.0\n",
      "batting strike rate at that venue             0.0\n",
      "wickets taken at that venue                   NaN\n",
      "bowling average at that venue                 NaN\n",
      "bowling strike rate at that venue             NaN\n",
      "Name: 357, dtype: object, 358: player                                           Q de Kock\n",
      "venue                                M.Chinnaswamy Stadium\n",
      "runs scored at that venue                             23.0\n",
      "batting average at that venue                         23.0\n",
      "batting strike rate at that venue                     1.15\n",
      "wickets taken at that venue                            NaN\n",
      "bowling average at that venue                          NaN\n",
      "bowling strike rate at that venue                      NaN\n",
      "Name: 358, dtype: object, 359: player                                            Q de Kock\n",
      "venue                                MA Chidambaram Stadium\n",
      "runs scored at that venue                              23.0\n",
      "batting average at that venue                          11.5\n",
      "batting strike rate at that venue                       1.0\n",
      "wickets taken at that venue                             NaN\n",
      "bowling average at that venue                           NaN\n",
      "bowling strike rate at that venue                       NaN\n",
      "Name: 359, dtype: object, 360: player                                                                  Q de Kock\n",
      "venue                                Punjab Cricket Association IS Bindra Stadium\n",
      "runs scored at that venue                                                    60.0\n",
      "batting average at that venue                                                60.0\n",
      "batting strike rate at that venue                                        1.538462\n",
      "wickets taken at that venue                                                   NaN\n",
      "bowling average at that venue                                                 NaN\n",
      "bowling strike rate at that venue                                             NaN\n",
      "Name: 360, dtype: object, 361: player                                                        Q de Kock\n",
      "venue                                Rajiv Gandhi International Stadium\n",
      "runs scored at that venue                                          48.0\n",
      "batting average at that venue                                      24.0\n",
      "batting strike rate at that venue                              1.333333\n",
      "wickets taken at that venue                                         NaN\n",
      "bowling average at that venue                                       NaN\n",
      "bowling strike rate at that venue                                   NaN\n",
      "Name: 361, dtype: object, 362: player                                            Q de Kock\n",
      "venue                                Sawai Mansingh Stadium\n",
      "runs scored at that venue                              65.0\n",
      "batting average at that venue                          65.0\n",
      "batting strike rate at that venue                  1.354167\n",
      "wickets taken at that venue                             NaN\n",
      "bowling average at that venue                           NaN\n",
      "bowling strike rate at that venue                       NaN\n",
      "Name: 362, dtype: object, 363: player                                      Q de Kock\n",
      "venue                                Wankhede Stadium\n",
      "runs scored at that venue                       275.0\n",
      "batting average at that venue               45.833333\n",
      "batting strike rate at that venue            1.328502\n",
      "wickets taken at that venue                       NaN\n",
      "bowling average at that venue                     NaN\n",
      "bowling strike rate at that venue                 NaN\n",
      "Name: 363, dtype: object, 364: player                                           R Ashwin\n",
      "venue                                Arun Jaitley Stadium\n",
      "runs scored at that venue                            16.0\n",
      "batting average at that venue                        16.0\n",
      "batting strike rate at that venue                1.142857\n",
      "wickets taken at that venue                           0.0\n",
      "bowling average at that venue                         inf\n",
      "bowling strike rate at that venue                     inf\n",
      "Name: 364, dtype: object, 365: player                                            R Ashwin\n",
      "venue                                M.Chinnaswamy Stadium\n",
      "runs scored at that venue                              6.0\n",
      "batting average at that venue                          6.0\n",
      "batting strike rate at that venue                      3.0\n",
      "wickets taken at that venue                            1.0\n",
      "bowling average at that venue                         15.0\n",
      "bowling strike rate at that venue                     24.0\n",
      "Name: 365, dtype: object, 366: player                                                                   R Ashwin\n",
      "venue                                Punjab Cricket Association IS Bindra Stadium\n",
      "runs scored at that venue                                                    20.0\n",
      "batting average at that venue                                                10.0\n",
      "batting strike rate at that venue                                        1.818182\n",
      "wickets taken at that venue                                                   8.0\n",
      "bowling average at that venue                                               25.25\n",
      "bowling strike rate at that venue                                          21.875\n",
      "Name: 366, dtype: object, 367: player                                                         R Ashwin\n",
      "venue                                Rajiv Gandhi International Stadium\n",
      "runs scored at that venue                                           0.0\n",
      "batting average at that venue                                       0.0\n",
      "batting strike rate at that venue                                   0.0\n",
      "wickets taken at that venue                                         2.0\n",
      "bowling average at that venue                                      15.0\n",
      "bowling strike rate at that venue                                  12.5\n",
      "Name: 367, dtype: object, 368: player                                            R Parag\n",
      "venue                                Arun Jaitley Stadium\n",
      "runs scored at that venue                            50.0\n",
      "batting average at that venue                        50.0\n",
      "batting strike rate at that venue                0.943396\n",
      "wickets taken at that venue                           0.0\n",
      "bowling average at that venue                         inf\n",
      "bowling strike rate at that venue                     inf\n",
      "Name: 368, dtype: object, 369: player                                    R Parag\n",
      "venue                                Eden Gardens\n",
      "runs scored at that venue                    47.0\n",
      "batting average at that venue                47.0\n",
      "batting strike rate at that venue        1.382353\n",
      "wickets taken at that venue                   0.0\n",
      "bowling average at that venue                 inf\n",
      "bowling strike rate at that venue             inf\n",
      "Name: 369, dtype: object, 370: player                                              R Parag\n",
      "venue                                Sawai Mansingh Stadium\n",
      "runs scored at that venue                              63.0\n",
      "batting average at that venue                          31.5\n",
      "batting strike rate at that venue                  1.369565\n",
      "wickets taken at that venue                             1.0\n",
      "bowling average at that venue                          90.0\n",
      "bowling strike rate at that venue                      66.0\n",
      "Name: 370, dtype: object, 371: player                                          R Tewatia\n",
      "venue                                Arun Jaitley Stadium\n",
      "runs scored at that venue                            16.0\n",
      "batting average at that venue                        16.0\n",
      "batting strike rate at that venue                     1.0\n",
      "wickets taken at that venue                           1.0\n",
      "bowling average at that venue                        30.0\n",
      "bowling strike rate at that venue                    31.0\n",
      "Name: 371, dtype: object, 372: player                                           R Tewatia\n",
      "venue                                M.Chinnaswamy Stadium\n",
      "runs scored at that venue                              1.0\n",
      "batting average at that venue                          inf\n",
      "batting strike rate at that venue                      0.5\n",
      "wickets taken at that venue                            NaN\n",
      "bowling average at that venue                          NaN\n",
      "bowling strike rate at that venue                      NaN\n",
      "Name: 372, dtype: object, 373: player                                      R Tewatia\n",
      "venue                                Wankhede Stadium\n",
      "runs scored at that venue                         9.0\n",
      "batting average at that venue                     inf\n",
      "batting strike rate at that venue                2.25\n",
      "wickets taken at that venue                       1.0\n",
      "bowling average at that venue                    12.0\n",
      "bowling strike rate at that venue                 8.0\n",
      "Name: 373, dtype: object, 374: player                                  RA Jadeja\n",
      "venue                                Eden Gardens\n",
      "runs scored at that venue                    31.0\n",
      "batting average at that venue                 inf\n",
      "batting strike rate at that venue        1.722222\n",
      "wickets taken at that venue                   0.0\n",
      "bowling average at that venue                 inf\n",
      "bowling strike rate at that venue             inf\n",
      "Name: 374, dtype: object, 375: player                                           RA Jadeja\n",
      "venue                                M.Chinnaswamy Stadium\n",
      "runs scored at that venue                             11.0\n",
      "batting average at that venue                          inf\n",
      "batting strike rate at that venue                 0.846154\n",
      "wickets taken at that venue                            2.0\n",
      "bowling average at that venue                         14.5\n",
      "bowling strike rate at that venue                     12.0\n",
      "Name: 375, dtype: object, 376: player                                            RA Jadeja\n",
      "venue                                MA Chidambaram Stadium\n",
      "runs scored at that venue                              39.0\n",
      "batting average at that venue                          39.0\n",
      "batting strike rate at that venue                       1.3\n",
      "wickets taken at that venue                             6.0\n",
      "bowling average at that venue                          23.5\n",
      "bowling strike rate at that venue                 25.166667\n",
      "Name: 376, dtype: object, 377: player                                                        RA Jadeja\n",
      "venue                                Rajiv Gandhi International Stadium\n",
      "runs scored at that venue                                          15.0\n",
      "batting average at that venue                                       inf\n",
      "batting strike rate at that venue                              0.555556\n",
      "wickets taken at that venue                                         0.0\n",
      "bowling average at that venue                                       inf\n",
      "bowling strike rate at that venue                                   inf\n",
      "Name: 377, dtype: object, 378: player                                            RA Jadeja\n",
      "venue                                Sawai Mansingh Stadium\n",
      "runs scored at that venue                               9.0\n",
      "batting average at that venue                           inf\n",
      "batting strike rate at that venue                      2.25\n",
      "wickets taken at that venue                             2.0\n",
      "bowling average at that venue                          10.0\n",
      "bowling strike rate at that venue                      12.0\n",
      "Name: 378, dtype: object, 379: player                                      RA Jadeja\n",
      "venue                                Wankhede Stadium\n",
      "runs scored at that venue                         1.0\n",
      "batting average at that venue                     1.0\n",
      "batting strike rate at that venue                 0.5\n",
      "wickets taken at that venue                       1.0\n",
      "bowling average at that venue                    10.0\n",
      "bowling strike rate at that venue                12.0\n",
      "Name: 379, dtype: object, 380: player                                          RA Tripathi\n",
      "venue                                MA Chidambaram Stadium\n",
      "runs scored at that venue                              39.0\n",
      "batting average at that venue                          39.0\n",
      "batting strike rate at that venue                      1.56\n",
      "wickets taken at that venue                             NaN\n",
      "bowling average at that venue                           NaN\n",
      "bowling strike rate at that venue                       NaN\n",
      "Name: 380, dtype: object, 381: player                                                                RA Tripathi\n",
      "venue                                Punjab Cricket Association IS Bindra Stadium\n",
      "runs scored at that venue                                                    50.0\n",
      "batting average at that venue                                                50.0\n",
      "batting strike rate at that venue                                        1.086957\n",
      "wickets taken at that venue                                                   NaN\n",
      "bowling average at that venue                                                 NaN\n",
      "bowling strike rate at that venue                                             NaN\n",
      "Name: 381, dtype: object, 382: player                                          RA Tripathi\n",
      "venue                                Sawai Mansingh Stadium\n",
      "runs scored at that venue                              51.0\n",
      "batting average at that venue                          17.0\n",
      "batting strike rate at that venue                  1.040816\n",
      "wickets taken at that venue                             NaN\n",
      "bowling average at that venue                           NaN\n",
      "bowling strike rate at that venue                       NaN\n",
      "Name: 382, dtype: object, 383: player                                    RA Tripathi\n",
      "venue                                Wankhede Stadium\n",
      "runs scored at that venue                         1.0\n",
      "batting average at that venue                     1.0\n",
      "batting strike rate at that venue                 0.5\n",
      "wickets taken at that venue                       NaN\n",
      "bowling average at that venue                     NaN\n",
      "bowling strike rate at that venue                 NaN\n",
      "Name: 383, dtype: object, 384: player                                  RD Chahar\n",
      "venue                                Eden Gardens\n",
      "runs scored at that venue                     1.0\n",
      "batting average at that venue                 inf\n",
      "batting strike rate at that venue             1.0\n",
      "wickets taken at that venue                   1.0\n",
      "bowling average at that venue                54.0\n",
      "bowling strike rate at that venue            25.0\n",
      "Name: 384, dtype: object, 385: player                                                        RD Chahar\n",
      "venue                                Rajiv Gandhi International Stadium\n",
      "runs scored at that venue                                          10.0\n",
      "batting average at that venue                                       5.0\n",
      "batting strike rate at that venue                              1.111111\n",
      "wickets taken at that venue                                         3.0\n",
      "bowling average at that venue                                      12.0\n",
      "bowling strike rate at that venue                             16.333333\n",
      "Name: 385, dtype: object, 386: player                                      RD Chahar\n",
      "venue                                Wankhede Stadium\n",
      "runs scored at that venue                         1.0\n",
      "batting average at that venue                     inf\n",
      "batting strike rate at that venue                 1.0\n",
      "wickets taken at that venue                       1.0\n",
      "bowling average at that venue                   137.0\n",
      "bowling strike rate at that venue               115.0\n",
      "Name: 386, dtype: object, 387: player                                          RG Sharma\n",
      "venue                                Arun Jaitley Stadium\n",
      "runs scored at that venue                            30.0\n",
      "batting average at that venue                        30.0\n",
      "batting strike rate at that venue                1.363636\n",
      "wickets taken at that venue                           NaN\n",
      "bowling average at that venue                         NaN\n",
      "bowling strike rate at that venue                     NaN\n",
      "Name: 387, dtype: object, 388: player                                  RG Sharma\n",
      "venue                                Eden Gardens\n",
      "runs scored at that venue                    12.0\n",
      "batting average at that venue                12.0\n",
      "batting strike rate at that venue        1.333333\n",
      "wickets taken at that venue                   NaN\n",
      "bowling average at that venue                 NaN\n",
      "bowling strike rate at that venue             NaN\n",
      "Name: 388, dtype: object, 389: player                                           RG Sharma\n",
      "venue                                M.Chinnaswamy Stadium\n",
      "runs scored at that venue                             48.0\n",
      "batting average at that venue                         48.0\n",
      "batting strike rate at that venue                 1.454545\n",
      "wickets taken at that venue                            NaN\n",
      "bowling average at that venue                          NaN\n",
      "bowling strike rate at that venue                      NaN\n",
      "Name: 389, dtype: object, 390: player                                            RG Sharma\n",
      "venue                                MA Chidambaram Stadium\n",
      "runs scored at that venue                              71.0\n",
      "batting average at that venue                          35.5\n",
      "batting strike rate at that venue                      1.42\n",
      "wickets taken at that venue                             NaN\n",
      "bowling average at that venue                           NaN\n",
      "bowling strike rate at that venue                       NaN\n",
      "Name: 390, dtype: object, 391: player                                                                  RG Sharma\n",
      "venue                                Punjab Cricket Association IS Bindra Stadium\n",
      "runs scored at that venue                                                    32.0\n",
      "batting average at that venue                                                32.0\n",
      "batting strike rate at that venue                                        1.777778\n",
      "wickets taken at that venue                                                   NaN\n",
      "bowling average at that venue                                                 NaN\n",
      "bowling strike rate at that venue                                             NaN\n",
      "Name: 391, dtype: object, 392: player                                                        RG Sharma\n",
      "venue                                Rajiv Gandhi International Stadium\n",
      "runs scored at that venue                                          26.0\n",
      "batting average at that venue                                      13.0\n",
      "batting strike rate at that venue                              0.928571\n",
      "wickets taken at that venue                                         NaN\n",
      "bowling average at that venue                                       NaN\n",
      "bowling strike rate at that venue                                   NaN\n",
      "Name: 392, dtype: object, 393: player                                            RG Sharma\n",
      "venue                                Sawai Mansingh Stadium\n",
      "runs scored at that venue                               5.0\n",
      "batting average at that venue                           5.0\n",
      "batting strike rate at that venue                  0.714286\n",
      "wickets taken at that venue                             NaN\n",
      "bowling average at that venue                           NaN\n",
      "bowling strike rate at that venue                       NaN\n",
      "Name: 393, dtype: object, 394: player                                      RG Sharma\n",
      "venue                                Wankhede Stadium\n",
      "runs scored at that venue                       181.0\n",
      "batting average at that venue                    36.2\n",
      "batting strike rate at that venue            1.190789\n",
      "wickets taken at that venue                       NaN\n",
      "bowling average at that venue                     NaN\n",
      "bowling strike rate at that venue                 NaN\n",
      "Name: 394, dtype: object, 395: player                                                          RK Bhui\n",
      "venue                                Rajiv Gandhi International Stadium\n",
      "runs scored at that venue                                           7.0\n",
      "batting average at that venue                                       7.0\n",
      "batting strike rate at that venue                              0.538462\n",
      "wickets taken at that venue                                         NaN\n",
      "bowling average at that venue                                       NaN\n",
      "bowling strike rate at that venue                                   NaN\n",
      "Name: 395, dtype: object, 396: player                                   RK Singh\n",
      "venue                                Eden Gardens\n",
      "runs scored at that venue                     3.0\n",
      "batting average at that venue                 inf\n",
      "batting strike rate at that venue             1.0\n",
      "wickets taken at that venue                   NaN\n",
      "bowling average at that venue                 NaN\n",
      "bowling strike rate at that venue             NaN\n",
      "Name: 396, dtype: object, 397: player                                                         RK Singh\n",
      "venue                                Rajiv Gandhi International Stadium\n",
      "runs scored at that venue                                          30.0\n",
      "batting average at that venue                                      30.0\n",
      "batting strike rate at that venue                                   1.2\n",
      "wickets taken at that venue                                         NaN\n",
      "bowling average at that venue                                       NaN\n",
      "bowling strike rate at that venue                                   NaN\n",
      "Name: 397, dtype: object, 398: player                                       RK Singh\n",
      "venue                                Wankhede Stadium\n",
      "runs scored at that venue                         4.0\n",
      "batting average at that venue                     4.0\n",
      "batting strike rate at that venue            0.666667\n",
      "wickets taken at that venue                       NaN\n",
      "bowling average at that venue                     NaN\n",
      "bowling strike rate at that venue                 NaN\n",
      "Name: 398, dtype: object, 399: player                                            RR Pant\n",
      "venue                                Arun Jaitley Stadium\n",
      "runs scored at that venue                           120.0\n",
      "batting average at that venue                        20.0\n",
      "batting strike rate at that venue                1.132075\n",
      "wickets taken at that venue                           NaN\n",
      "bowling average at that venue                         NaN\n",
      "bowling strike rate at that venue                     NaN\n",
      "Name: 399, dtype: object, 400: player                                                                         RR Pant\n",
      "venue                                Dr. Y.S. Rajasekhara Reddy ACA-VDCA Cricket St...\n",
      "runs scored at that venue                                                         87.0\n",
      "batting average at that venue                                                     43.5\n",
      "batting strike rate at that venue                                             1.851064\n",
      "wickets taken at that venue                                                        NaN\n",
      "bowling average at that venue                                                      NaN\n",
      "bowling strike rate at that venue                                                  NaN\n",
      "Name: 400, dtype: object, 401: player                                    RR Pant\n",
      "venue                                Eden Gardens\n",
      "runs scored at that venue                    46.0\n",
      "batting average at that venue                46.0\n",
      "batting strike rate at that venue          1.4375\n",
      "wickets taken at that venue                   NaN\n",
      "bowling average at that venue                 NaN\n",
      "bowling strike rate at that venue             NaN\n",
      "Name: 401, dtype: object, 402: player                                             RR Pant\n",
      "venue                                M.Chinnaswamy Stadium\n",
      "runs scored at that venue                             18.0\n",
      "batting average at that venue                         18.0\n",
      "batting strike rate at that venue                 1.285714\n",
      "wickets taken at that venue                            NaN\n",
      "bowling average at that venue                          NaN\n",
      "bowling strike rate at that venue                      NaN\n",
      "Name: 402, dtype: object, 403: player                                              RR Pant\n",
      "venue                                MA Chidambaram Stadium\n",
      "runs scored at that venue                               5.0\n",
      "batting average at that venue                           5.0\n",
      "batting strike rate at that venue                  1.666667\n",
      "wickets taken at that venue                             NaN\n",
      "bowling average at that venue                           NaN\n",
      "bowling strike rate at that venue                       NaN\n",
      "Name: 403, dtype: object, 404: player                                                                    RR Pant\n",
      "venue                                Punjab Cricket Association IS Bindra Stadium\n",
      "runs scored at that venue                                                    39.0\n",
      "batting average at that venue                                                39.0\n",
      "batting strike rate at that venue                                             1.5\n",
      "wickets taken at that venue                                                   NaN\n",
      "bowling average at that venue                                                 NaN\n",
      "bowling strike rate at that venue                                             NaN\n",
      "Name: 404, dtype: object, 405: player                                                          RR Pant\n",
      "venue                                Rajiv Gandhi International Stadium\n",
      "runs scored at that venue                                          23.0\n",
      "batting average at that venue                                      23.0\n",
      "batting strike rate at that venue                              1.210526\n",
      "wickets taken at that venue                                         NaN\n",
      "bowling average at that venue                                       NaN\n",
      "bowling strike rate at that venue                                   NaN\n",
      "Name: 405, dtype: object, 406: player                                              RR Pant\n",
      "venue                                Sawai Mansingh Stadium\n",
      "runs scored at that venue                              78.0\n",
      "batting average at that venue                           inf\n",
      "batting strike rate at that venue                  2.166667\n",
      "wickets taken at that venue                             NaN\n",
      "bowling average at that venue                           NaN\n",
      "bowling strike rate at that venue                       NaN\n",
      "Name: 406, dtype: object, 407: player                                        RR Pant\n",
      "venue                                Wankhede Stadium\n",
      "runs scored at that venue                        78.0\n",
      "batting average at that venue                     inf\n",
      "batting strike rate at that venue            2.785714\n",
      "wickets taken at that venue                       NaN\n",
      "bowling average at that venue                     NaN\n",
      "bowling strike rate at that venue                 NaN\n",
      "Name: 407, dtype: object, 408: player                                         RV Uthappa\n",
      "venue                                Arun Jaitley Stadium\n",
      "runs scored at that venue                            13.0\n",
      "batting average at that venue                        13.0\n",
      "batting strike rate at that venue                   1.625\n",
      "wickets taken at that venue                           NaN\n",
      "bowling average at that venue                         NaN\n",
      "bowling strike rate at that venue                     NaN\n",
      "Name: 408, dtype: object, 409: player                                 RV Uthappa\n",
      "venue                                Eden Gardens\n",
      "runs scored at that venue                   139.0\n",
      "batting average at that venue               34.75\n",
      "batting strike rate at that venue         1.05303\n",
      "wickets taken at that venue                   NaN\n",
      "bowling average at that venue                 NaN\n",
      "bowling strike rate at that venue             NaN\n",
      "Name: 409, dtype: object, 410: player                                          RV Uthappa\n",
      "venue                                M.Chinnaswamy Stadium\n",
      "runs scored at that venue                             33.0\n",
      "batting average at that venue                         33.0\n",
      "batting strike rate at that venue                     1.32\n",
      "wickets taken at that venue                            NaN\n",
      "bowling average at that venue                          NaN\n",
      "bowling strike rate at that venue                      NaN\n",
      "Name: 410, dtype: object, 411: player                                           RV Uthappa\n",
      "venue                                MA Chidambaram Stadium\n",
      "runs scored at that venue                              11.0\n",
      "batting average at that venue                          11.0\n",
      "batting strike rate at that venue                  1.222222\n",
      "wickets taken at that venue                             NaN\n",
      "bowling average at that venue                           NaN\n",
      "bowling strike rate at that venue                       NaN\n",
      "Name: 411, dtype: object, 412: player                                                                 RV Uthappa\n",
      "venue                                Punjab Cricket Association IS Bindra Stadium\n",
      "runs scored at that venue                                                    22.0\n",
      "batting average at that venue                                                22.0\n",
      "batting strike rate at that venue                                        1.571429\n",
      "wickets taken at that venue                                                   NaN\n",
      "bowling average at that venue                                                 NaN\n",
      "bowling strike rate at that venue                                             NaN\n",
      "Name: 412, dtype: object, 413: player                                           RV Uthappa\n",
      "venue                                Sawai Mansingh Stadium\n",
      "runs scored at that venue                              26.0\n",
      "batting average at that venue                           inf\n",
      "batting strike rate at that venue                     1.625\n",
      "wickets taken at that venue                             NaN\n",
      "bowling average at that venue                           NaN\n",
      "bowling strike rate at that venue                       NaN\n",
      "Name: 413, dtype: object, 414: player                                     RV Uthappa\n",
      "venue                                Wankhede Stadium\n",
      "runs scored at that venue                        40.0\n",
      "batting average at that venue                    40.0\n",
      "batting strike rate at that venue            0.769231\n",
      "wickets taken at that venue                       NaN\n",
      "bowling average at that venue                     NaN\n",
      "bowling strike rate at that venue                 NaN\n",
      "Name: 414, dtype: object, 415: player                                                                     Rashid Khan\n",
      "venue                                Dr. Y.S. Rajasekhara Reddy ACA-VDCA Cricket St...\n",
      "runs scored at that venue                                                          0.0\n",
      "batting average at that venue                                                      0.0\n",
      "batting strike rate at that venue                                                  0.0\n",
      "wickets taken at that venue                                                        2.0\n",
      "bowling average at that venue                                                      7.5\n",
      "bowling strike rate at that venue                                                 12.5\n",
      "Name: 415, dtype: object, 416: player                                         Rashid Khan\n",
      "venue                                M.Chinnaswamy Stadium\n",
      "runs scored at that venue                              1.0\n",
      "batting average at that venue                          1.0\n",
      "batting strike rate at that venue                      0.5\n",
      "wickets taken at that venue                            1.0\n",
      "bowling average at that venue                         45.0\n",
      "bowling strike rate at that venue                     25.0\n",
      "Name: 416, dtype: object, 417: player                                                      Rashid Khan\n",
      "venue                                Rajiv Gandhi International Stadium\n",
      "runs scored at that venue                                          16.0\n",
      "batting average at that venue                                  5.333333\n",
      "batting strike rate at that venue                              1.142857\n",
      "wickets taken at that venue                                        11.0\n",
      "bowling average at that venue                                 14.545455\n",
      "bowling strike rate at that venue                             15.363636\n",
      "Name: 417, dtype: object, 418: player                                          Rashid Khan\n",
      "venue                                Sawai Mansingh Stadium\n",
      "runs scored at that venue                              17.0\n",
      "batting average at that venue                           inf\n",
      "batting strike rate at that venue                  1.888889\n",
      "wickets taken at that venue                             1.0\n",
      "bowling average at that venue                          30.0\n",
      "bowling strike rate at that venue                      24.0\n",
      "Name: 418, dtype: object, 419: player                                   Rasikh Salam\n",
      "venue                                Wankhede Stadium\n",
      "runs scored at that venue                         5.0\n",
      "batting average at that venue                     inf\n",
      "batting strike rate at that venue                1.25\n",
      "wickets taken at that venue                       0.0\n",
      "bowling average at that venue                     inf\n",
      "bowling strike rate at that venue                 inf\n",
      "Name: 419, dtype: object, 420: player                                           S Dhawan\n",
      "venue                                Arun Jaitley Stadium\n",
      "runs scored at that venue                           236.0\n",
      "batting average at that venue                        29.5\n",
      "batting strike rate at that venue                1.282609\n",
      "wickets taken at that venue                           NaN\n",
      "bowling average at that venue                         NaN\n",
      "bowling strike rate at that venue                     NaN\n",
      "Name: 420, dtype: object, 421: player                                                                        S Dhawan\n",
      "venue                                Dr. Y.S. Rajasekhara Reddy ACA-VDCA Cricket St...\n",
      "runs scored at that venue                                                         35.0\n",
      "batting average at that venue                                                     17.5\n",
      "batting strike rate at that venue                                             1.129032\n",
      "wickets taken at that venue                                                        NaN\n",
      "bowling average at that venue                                                      NaN\n",
      "bowling strike rate at that venue                                                  NaN\n",
      "Name: 421, dtype: object, 422: player                                   S Dhawan\n",
      "venue                                Eden Gardens\n",
      "runs scored at that venue                    97.0\n",
      "batting average at that venue                 inf\n",
      "batting strike rate at that venue        1.515625\n",
      "wickets taken at that venue                   NaN\n",
      "bowling average at that venue                 NaN\n",
      "bowling strike rate at that venue             NaN\n",
      "Name: 422, dtype: object, 423: player                                            S Dhawan\n",
      "venue                                M.Chinnaswamy Stadium\n",
      "runs scored at that venue                              0.0\n",
      "batting average at that venue                          0.0\n",
      "batting strike rate at that venue                      0.0\n",
      "wickets taken at that venue                            NaN\n",
      "bowling average at that venue                          NaN\n",
      "bowling strike rate at that venue                      NaN\n",
      "Name: 423, dtype: object, 424: player                                             S Dhawan\n",
      "venue                                MA Chidambaram Stadium\n",
      "runs scored at that venue                              19.0\n",
      "batting average at that venue                          19.0\n",
      "batting strike rate at that venue                  1.461538\n",
      "wickets taken at that venue                             NaN\n",
      "bowling average at that venue                           NaN\n",
      "bowling strike rate at that venue                       NaN\n",
      "Name: 424, dtype: object, 425: player                                                                   S Dhawan\n",
      "venue                                Punjab Cricket Association IS Bindra Stadium\n",
      "runs scored at that venue                                                    30.0\n",
      "batting average at that venue                                                30.0\n",
      "batting strike rate at that venue                                        1.111111\n",
      "wickets taken at that venue                                                   NaN\n",
      "bowling average at that venue                                                 NaN\n",
      "bowling strike rate at that venue                                             NaN\n",
      "Name: 425, dtype: object, 426: player                                                         S Dhawan\n",
      "venue                                Rajiv Gandhi International Stadium\n",
      "runs scored at that venue                                           7.0\n",
      "batting average at that venue                                       7.0\n",
      "batting strike rate at that venue                                 0.875\n",
      "wickets taken at that venue                                         NaN\n",
      "bowling average at that venue                                       NaN\n",
      "bowling strike rate at that venue                                   NaN\n",
      "Name: 426, dtype: object, 427: player                                             S Dhawan\n",
      "venue                                Sawai Mansingh Stadium\n",
      "runs scored at that venue                              54.0\n",
      "batting average at that venue                          54.0\n",
      "batting strike rate at that venue                       2.0\n",
      "wickets taken at that venue                             NaN\n",
      "bowling average at that venue                           NaN\n",
      "bowling strike rate at that venue                       NaN\n",
      "Name: 427, dtype: object, 428: player                                       S Dhawan\n",
      "venue                                Wankhede Stadium\n",
      "runs scored at that venue                        43.0\n",
      "batting average at that venue                    43.0\n",
      "batting strike rate at that venue            1.194444\n",
      "wickets taken at that venue                       NaN\n",
      "bowling average at that venue                     NaN\n",
      "bowling strike rate at that venue                 NaN\n",
      "Name: 428, dtype: object, 429: player                                             S Dube\n",
      "venue                                Arun Jaitley Stadium\n",
      "runs scored at that venue                            24.0\n",
      "batting average at that venue                        24.0\n",
      "batting strike rate at that venue                     1.5\n",
      "wickets taken at that venue                           0.0\n",
      "bowling average at that venue                         inf\n",
      "bowling strike rate at that venue                     inf\n",
      "Name: 429, dtype: object, 430: player                                              S Dube\n",
      "venue                                M.Chinnaswamy Stadium\n",
      "runs scored at that venue                              9.0\n",
      "batting average at that venue                          inf\n",
      "batting strike rate at that venue                      1.8\n",
      "wickets taken at that venue                            NaN\n",
      "bowling average at that venue                          NaN\n",
      "bowling strike rate at that venue                      NaN\n",
      "Name: 430, dtype: object, 431: player                                               S Dube\n",
      "venue                                MA Chidambaram Stadium\n",
      "runs scored at that venue                               2.0\n",
      "batting average at that venue                           2.0\n",
      "batting strike rate at that venue                       0.4\n",
      "wickets taken at that venue                             0.0\n",
      "bowling average at that venue                           inf\n",
      "bowling strike rate at that venue                       inf\n",
      "Name: 431, dtype: object, 432: player                                                           S Dube\n",
      "venue                                Rajiv Gandhi International Stadium\n",
      "runs scored at that venue                                           5.0\n",
      "batting average at that venue                                       2.5\n",
      "batting strike rate at that venue                              0.714286\n",
      "wickets taken at that venue                                         NaN\n",
      "bowling average at that venue                                       NaN\n",
      "bowling strike rate at that venue                                   NaN\n",
      "Name: 432, dtype: object, 433: player                                            S Gopal\n",
      "venue                                Arun Jaitley Stadium\n",
      "runs scored at that venue                            12.0\n",
      "batting average at that venue                        12.0\n",
      "batting strike rate at that venue                0.666667\n",
      "wickets taken at that venue                           2.0\n",
      "bowling average at that venue                        10.5\n",
      "bowling strike rate at that venue                    12.0\n",
      "Name: 433, dtype: object, 434: player                                    S Gopal\n",
      "venue                                Eden Gardens\n",
      "runs scored at that venue                    18.0\n",
      "batting average at that venue                18.0\n",
      "batting strike rate at that venue             2.0\n",
      "wickets taken at that venue                   1.0\n",
      "bowling average at that venue                32.0\n",
      "bowling strike rate at that venue            18.0\n",
      "Name: 434, dtype: object, 435: player                                              S Gopal\n",
      "venue                                MA Chidambaram Stadium\n",
      "runs scored at that venue                               0.0\n",
      "batting average at that venue                           0.0\n",
      "batting strike rate at that venue                       0.0\n",
      "wickets taken at that venue                             0.0\n",
      "bowling average at that venue                           inf\n",
      "bowling strike rate at that venue                       inf\n",
      "Name: 435, dtype: object, 436: player                                                                    S Gopal\n",
      "venue                                Punjab Cricket Association IS Bindra Stadium\n",
      "runs scored at that venue                                                     0.0\n",
      "batting average at that venue                                                 0.0\n",
      "batting strike rate at that venue                                             0.0\n",
      "wickets taken at that venue                                                   0.0\n",
      "bowling average at that venue                                                 inf\n",
      "bowling strike rate at that venue                                             inf\n",
      "Name: 436, dtype: object, 437: player                                              S Gopal\n",
      "venue                                Sawai Mansingh Stadium\n",
      "runs scored at that venue                              20.0\n",
      "batting average at that venue                           inf\n",
      "batting strike rate at that venue                       2.5\n",
      "wickets taken at that venue                            11.0\n",
      "bowling average at that venue                     16.545455\n",
      "bowling strike rate at that venue                 13.727273\n",
      "Name: 437, dtype: object, 438: player                                        S Gopal\n",
      "venue                                Wankhede Stadium\n",
      "runs scored at that venue                        13.0\n",
      "batting average at that venue                     inf\n",
      "batting strike rate at that venue            1.857143\n",
      "wickets taken at that venue                       0.0\n",
      "bowling average at that venue                     inf\n",
      "bowling strike rate at that venue                 inf\n",
      "Name: 438, dtype: object, 439: player                                                           S Kaul\n",
      "venue                                Rajiv Gandhi International Stadium\n",
      "runs scored at that venue                                           0.0\n",
      "batting average at that venue                                       0.0\n",
      "batting strike rate at that venue                                   0.0\n",
      "wickets taken at that venue                                         2.0\n",
      "bowling average at that venue                                      41.0\n",
      "bowling strike rate at that venue                                  35.0\n",
      "Name: 439, dtype: object, 440: player                                                               S Lamichhane\n",
      "venue                                Punjab Cricket Association IS Bindra Stadium\n",
      "runs scored at that venue                                                     0.0\n",
      "batting average at that venue                                                 0.0\n",
      "batting strike rate at that venue                                             0.0\n",
      "wickets taken at that venue                                                   2.0\n",
      "bowling average at that venue                                                14.0\n",
      "bowling strike rate at that venue                                            12.0\n",
      "Name: 440, dtype: object, 441: player                                           SA Yadav\n",
      "venue                                Arun Jaitley Stadium\n",
      "runs scored at that venue                            26.0\n",
      "batting average at that venue                        13.0\n",
      "batting strike rate at that venue                0.962963\n",
      "wickets taken at that venue                           NaN\n",
      "bowling average at that venue                         NaN\n",
      "bowling strike rate at that venue                     NaN\n",
      "Name: 441, dtype: object, 442: player                                   SA Yadav\n",
      "venue                                Eden Gardens\n",
      "runs scored at that venue                    26.0\n",
      "batting average at that venue                26.0\n",
      "batting strike rate at that venue        1.857143\n",
      "wickets taken at that venue                   NaN\n",
      "bowling average at that venue                 NaN\n",
      "bowling strike rate at that venue             NaN\n",
      "Name: 442, dtype: object, 443: player                                            SA Yadav\n",
      "venue                                M.Chinnaswamy Stadium\n",
      "runs scored at that venue                             38.0\n",
      "batting average at that venue                         38.0\n",
      "batting strike rate at that venue                     1.52\n",
      "wickets taken at that venue                            NaN\n",
      "bowling average at that venue                          NaN\n",
      "bowling strike rate at that venue                      NaN\n",
      "Name: 443, dtype: object, 444: player                                             SA Yadav\n",
      "venue                                MA Chidambaram Stadium\n",
      "runs scored at that venue                              71.0\n",
      "batting average at that venue                           inf\n",
      "batting strike rate at that venue                  1.314815\n",
      "wickets taken at that venue                             NaN\n",
      "bowling average at that venue                           NaN\n",
      "bowling strike rate at that venue                       NaN\n",
      "Name: 444, dtype: object, 445: player                                                                   SA Yadav\n",
      "venue                                Punjab Cricket Association IS Bindra Stadium\n",
      "runs scored at that venue                                                    11.0\n",
      "batting average at that venue                                                11.0\n",
      "batting strike rate at that venue                                        1.833333\n",
      "wickets taken at that venue                                                   NaN\n",
      "bowling average at that venue                                                 NaN\n",
      "bowling strike rate at that venue                                             NaN\n",
      "Name: 445, dtype: object, 446: player                                                         SA Yadav\n",
      "venue                                Rajiv Gandhi International Stadium\n",
      "runs scored at that venue                                          22.0\n",
      "batting average at that venue                                      11.0\n",
      "batting strike rate at that venue                                  0.88\n",
      "wickets taken at that venue                                         NaN\n",
      "bowling average at that venue                                       NaN\n",
      "bowling strike rate at that venue                                   NaN\n",
      "Name: 446, dtype: object, 447: player                                             SA Yadav\n",
      "venue                                Sawai Mansingh Stadium\n",
      "runs scored at that venue                              34.0\n",
      "batting average at that venue                          34.0\n",
      "batting strike rate at that venue                       1.0\n",
      "wickets taken at that venue                             NaN\n",
      "bowling average at that venue                           NaN\n",
      "bowling strike rate at that venue                       NaN\n",
      "Name: 447, dtype: object, 448: player                                       SA Yadav\n",
      "venue                                Wankhede Stadium\n",
      "runs scored at that venue                       196.0\n",
      "batting average at that venue               32.666667\n",
      "batting strike rate at that venue            1.380282\n",
      "wickets taken at that venue                       NaN\n",
      "bowling average at that venue                     NaN\n",
      "bowling strike rate at that venue                 NaN\n",
      "Name: 448, dtype: object, 449: player                                         SD Lad\n",
      "venue                                Wankhede Stadium\n",
      "runs scored at that venue                        15.0\n",
      "batting average at that venue                    15.0\n",
      "batting strike rate at that venue            1.153846\n",
      "wickets taken at that venue                       NaN\n",
      "bowling average at that venue                     NaN\n",
      "bowling strike rate at that venue                 NaN\n",
      "Name: 449, dtype: object, 450: player                                      SE Rutherford\n",
      "venue                                Arun Jaitley Stadium\n",
      "runs scored at that venue                            41.0\n",
      "batting average at that venue                        41.0\n",
      "batting strike rate at that venue                1.863636\n",
      "wickets taken at that venue                           1.0\n",
      "bowling average at that venue                        13.0\n",
      "bowling strike rate at that venue                    17.0\n",
      "Name: 450, dtype: object, 451: player                                                                   SE Rutherford\n",
      "venue                                Dr. Y.S. Rajasekhara Reddy ACA-VDCA Cricket St...\n",
      "runs scored at that venue                                                         19.0\n",
      "batting average at that venue                                                      9.5\n",
      "batting strike rate at that venue                                             0.791667\n",
      "wickets taken at that venue                                                        0.0\n",
      "bowling average at that venue                                                      inf\n",
      "bowling strike rate at that venue                                                  inf\n",
      "Name: 451, dtype: object, 452: player                                        SE Rutherford\n",
      "venue                                MA Chidambaram Stadium\n",
      "runs scored at that venue                               2.0\n",
      "batting average at that venue                           2.0\n",
      "batting strike rate at that venue                       0.5\n",
      "wickets taken at that venue                             0.0\n",
      "bowling average at that venue                           inf\n",
      "bowling strike rate at that venue                       inf\n",
      "Name: 452, dtype: object, 453: player                                        SE Rutherford\n",
      "venue                                Sawai Mansingh Stadium\n",
      "runs scored at that venue                              11.0\n",
      "batting average at that venue                          11.0\n",
      "batting strike rate at that venue                       2.2\n",
      "wickets taken at that venue                             0.0\n",
      "bowling average at that venue                           inf\n",
      "bowling strike rate at that venue                       inf\n",
      "Name: 453, dtype: object, 454: player                                           SK Raina\n",
      "venue                                Arun Jaitley Stadium\n",
      "runs scored at that venue                            30.0\n",
      "batting average at that venue                        30.0\n",
      "batting strike rate at that venue                   1.875\n",
      "wickets taken at that venue                           NaN\n",
      "bowling average at that venue                         NaN\n",
      "bowling strike rate at that venue                     NaN\n",
      "Name: 454, dtype: object, 455: player                                                                        SK Raina\n",
      "venue                                Dr. Y.S. Rajasekhara Reddy ACA-VDCA Cricket St...\n",
      "runs scored at that venue                                                         11.0\n",
      "batting average at that venue                                                     11.0\n",
      "batting strike rate at that venue                                             0.846154\n",
      "wickets taken at that venue                                                        NaN\n",
      "bowling average at that venue                                                      NaN\n",
      "bowling strike rate at that venue                                                  NaN\n",
      "Name: 455, dtype: object, 456: player                                   SK Raina\n",
      "venue                                Eden Gardens\n",
      "runs scored at that venue                    58.0\n",
      "batting average at that venue                 inf\n",
      "batting strike rate at that venue        1.380952\n",
      "wickets taken at that venue                   NaN\n",
      "bowling average at that venue                 NaN\n",
      "bowling strike rate at that venue             NaN\n",
      "Name: 456, dtype: object, 457: player                                            SK Raina\n",
      "venue                                M.Chinnaswamy Stadium\n",
      "runs scored at that venue                              0.0\n",
      "batting average at that venue                          0.0\n",
      "batting strike rate at that venue                      0.0\n",
      "wickets taken at that venue                            NaN\n",
      "bowling average at that venue                          NaN\n",
      "bowling strike rate at that venue                      NaN\n",
      "Name: 457, dtype: object, 458: player                                             SK Raina\n",
      "venue                                MA Chidambaram Stadium\n",
      "runs scored at that venue                             190.0\n",
      "batting average at that venue                         23.75\n",
      "batting strike rate at that venue                  1.165644\n",
      "wickets taken at that venue                             0.0\n",
      "bowling average at that venue                           inf\n",
      "bowling strike rate at that venue                       inf\n",
      "Name: 458, dtype: object, 459: player                                                                   SK Raina\n",
      "venue                                Punjab Cricket Association IS Bindra Stadium\n",
      "runs scored at that venue                                                    53.0\n",
      "batting average at that venue                                                53.0\n",
      "batting strike rate at that venue                                        1.394737\n",
      "wickets taken at that venue                                                   NaN\n",
      "bowling average at that venue                                                 NaN\n",
      "bowling strike rate at that venue                                             NaN\n",
      "Name: 459, dtype: object, 460: player                                                         SK Raina\n",
      "venue                                Rajiv Gandhi International Stadium\n",
      "runs scored at that venue                                          21.0\n",
      "batting average at that venue                                      10.5\n",
      "batting strike rate at that venue                                  0.75\n",
      "wickets taken at that venue                                         NaN\n",
      "bowling average at that venue                                       NaN\n",
      "bowling strike rate at that venue                                   NaN\n",
      "Name: 460, dtype: object, 461: player                                             SK Raina\n",
      "venue                                Sawai Mansingh Stadium\n",
      "runs scored at that venue                               4.0\n",
      "batting average at that venue                           4.0\n",
      "batting strike rate at that venue                       1.0\n",
      "wickets taken at that venue                             NaN\n",
      "bowling average at that venue                           NaN\n",
      "bowling strike rate at that venue                       NaN\n",
      "Name: 461, dtype: object, 462: player                                       SK Raina\n",
      "venue                                Wankhede Stadium\n",
      "runs scored at that venue                        16.0\n",
      "batting average at that venue                    16.0\n",
      "batting strike rate at that venue                 1.0\n",
      "wickets taken at that venue                       NaN\n",
      "bowling average at that venue                     NaN\n",
      "bowling strike rate at that venue                 NaN\n",
      "Name: 462, dtype: object, 463: player                                          SM Curran\n",
      "venue                                Arun Jaitley Stadium\n",
      "runs scored at that venue                             0.0\n",
      "batting average at that venue                         0.0\n",
      "batting strike rate at that venue                     0.0\n",
      "wickets taken at that venue                           0.0\n",
      "bowling average at that venue                         inf\n",
      "bowling strike rate at that venue                     inf\n",
      "Name: 463, dtype: object, 464: player                                            SM Curran\n",
      "venue                                MA Chidambaram Stadium\n",
      "runs scored at that venue                               0.0\n",
      "batting average at that venue                           NaN\n",
      "batting strike rate at that venue                       0.0\n",
      "wickets taken at that venue                             0.0\n",
      "bowling average at that venue                           inf\n",
      "bowling strike rate at that venue                       inf\n",
      "Name: 464, dtype: object, 465: player                                                                  SM Curran\n",
      "venue                                Punjab Cricket Association IS Bindra Stadium\n",
      "runs scored at that venue                                                    87.0\n",
      "batting average at that venue                                                43.5\n",
      "batting strike rate at that venue                                        1.851064\n",
      "wickets taken at that venue                                                   7.0\n",
      "bowling average at that venue                                           21.428571\n",
      "bowling strike rate at that venue                                       15.428571\n",
      "Name: 465, dtype: object, 466: player                                      SM Curran\n",
      "venue                                Wankhede Stadium\n",
      "runs scored at that venue                         8.0\n",
      "batting average at that venue                     8.0\n",
      "batting strike rate at that venue            2.666667\n",
      "wickets taken at that venue                       2.0\n",
      "bowling average at that venue                    27.0\n",
      "bowling strike rate at that venue                12.5\n",
      "Name: 466, dtype: object, 467: player                                    SN Khan\n",
      "venue                                Eden Gardens\n",
      "runs scored at that venue                    13.0\n",
      "batting average at that venue                13.0\n",
      "batting strike rate at that venue             1.0\n",
      "wickets taken at that venue                   NaN\n",
      "bowling average at that venue                 NaN\n",
      "bowling strike rate at that venue             NaN\n",
      "Name: 467, dtype: object, 468: player                                              SN Khan\n",
      "venue                                MA Chidambaram Stadium\n",
      "runs scored at that venue                              67.0\n",
      "batting average at that venue                          67.0\n",
      "batting strike rate at that venue                  1.116667\n",
      "wickets taken at that venue                             NaN\n",
      "bowling average at that venue                           NaN\n",
      "bowling strike rate at that venue                       NaN\n",
      "Name: 468, dtype: object, 469: player                                                                    SN Khan\n",
      "venue                                Punjab Cricket Association IS Bindra Stadium\n",
      "runs scored at that venue                                                    54.0\n",
      "batting average at that venue                                                18.0\n",
      "batting strike rate at that venue                                        1.285714\n",
      "wickets taken at that venue                                                   0.0\n",
      "bowling average at that venue                                                 inf\n",
      "bowling strike rate at that venue                                             inf\n",
      "Name: 469, dtype: object, 470: player                                              SN Khan\n",
      "venue                                Sawai Mansingh Stadium\n",
      "runs scored at that venue                              46.0\n",
      "batting average at that venue                           inf\n",
      "batting strike rate at that venue                  1.533333\n",
      "wickets taken at that venue                             NaN\n",
      "bowling average at that venue                           NaN\n",
      "bowling strike rate at that venue                       NaN\n",
      "Name: 470, dtype: object, 471: player                                                        SN Thakur\n",
      "venue                                Rajiv Gandhi International Stadium\n",
      "runs scored at that venue                                           2.0\n",
      "batting average at that venue                                       2.0\n",
      "batting strike rate at that venue                                   1.0\n",
      "wickets taken at that venue                                         2.0\n",
      "bowling average at that venue                                      34.0\n",
      "bowling strike rate at that venue                                  22.5\n",
      "Name: 471, dtype: object, 472: player                                      SN Thakur\n",
      "venue                                Wankhede Stadium\n",
      "runs scored at that venue                        12.0\n",
      "batting average at that venue                     inf\n",
      "batting strike rate at that venue                 2.4\n",
      "wickets taken at that venue                       0.0\n",
      "bowling average at that venue                     inf\n",
      "bowling strike rate at that venue                 inf\n",
      "Name: 472, dtype: object, 473: player                                          SO Hetmyer\n",
      "venue                                M.Chinnaswamy Stadium\n",
      "runs scored at that venue                             80.0\n",
      "batting average at that venue                         40.0\n",
      "batting strike rate at that venue                 1.428571\n",
      "wickets taken at that venue                            NaN\n",
      "bowling average at that venue                          NaN\n",
      "bowling strike rate at that venue                      NaN\n",
      "Name: 473, dtype: object, 474: player                                           SO Hetmyer\n",
      "venue                                MA Chidambaram Stadium\n",
      "runs scored at that venue                               0.0\n",
      "batting average at that venue                           0.0\n",
      "batting strike rate at that venue                       0.0\n",
      "wickets taken at that venue                             NaN\n",
      "bowling average at that venue                           NaN\n",
      "bowling strike rate at that venue                       NaN\n",
      "Name: 474, dtype: object, 475: player                                                       SO Hetmyer\n",
      "venue                                Rajiv Gandhi International Stadium\n",
      "runs scored at that venue                                           9.0\n",
      "batting average at that venue                                       9.0\n",
      "batting strike rate at that venue                                   1.0\n",
      "wickets taken at that venue                                         NaN\n",
      "bowling average at that venue                                       NaN\n",
      "bowling strike rate at that venue                                   NaN\n",
      "Name: 475, dtype: object, 476: player                                           SO Hetmyer\n",
      "venue                                Sawai Mansingh Stadium\n",
      "runs scored at that venue                               1.0\n",
      "batting average at that venue                           1.0\n",
      "batting strike rate at that venue                  0.111111\n",
      "wickets taken at that venue                             NaN\n",
      "bowling average at that venue                           NaN\n",
      "bowling strike rate at that venue                       NaN\n",
      "Name: 476, dtype: object, 477: player                                  SP Narine\n",
      "venue                                Eden Gardens\n",
      "runs scored at that venue                    55.0\n",
      "batting average at that venue           18.333333\n",
      "batting strike rate at that venue        1.309524\n",
      "wickets taken at that venue                   7.0\n",
      "bowling average at that venue                25.0\n",
      "bowling strike rate at that venue       18.285714\n",
      "Name: 477, dtype: object, 478: player                                           SP Narine\n",
      "venue                                M.Chinnaswamy Stadium\n",
      "runs scored at that venue                             10.0\n",
      "batting average at that venue                         10.0\n",
      "batting strike rate at that venue                     1.25\n",
      "wickets taken at that venue                            1.0\n",
      "bowling average at that venue                         30.0\n",
      "bowling strike rate at that venue                     25.0\n",
      "Name: 478, dtype: object, 479: player                                            SP Narine\n",
      "venue                                MA Chidambaram Stadium\n",
      "runs scored at that venue                               6.0\n",
      "batting average at that venue                           6.0\n",
      "batting strike rate at that venue                       1.2\n",
      "wickets taken at that venue                             2.0\n",
      "bowling average at that venue                          12.0\n",
      "bowling strike rate at that venue                      11.0\n",
      "Name: 479, dtype: object, 480: player                                                        SP Narine\n",
      "venue                                Rajiv Gandhi International Stadium\n",
      "runs scored at that venue                                          25.0\n",
      "batting average at that venue                                      25.0\n",
      "batting strike rate at that venue                                 3.125\n",
      "wickets taken at that venue                                         0.0\n",
      "bowling average at that venue                                       inf\n",
      "bowling strike rate at that venue                                   inf\n",
      "Name: 480, dtype: object, 481: player                                            SP Narine\n",
      "venue                                Sawai Mansingh Stadium\n",
      "runs scored at that venue                              47.0\n",
      "batting average at that venue                          47.0\n",
      "batting strike rate at that venue                  1.740741\n",
      "wickets taken at that venue                             0.0\n",
      "bowling average at that venue                           inf\n",
      "bowling strike rate at that venue                       inf\n",
      "Name: 481, dtype: object, 482: player                                  SPD Smith\n",
      "venue                                Eden Gardens\n",
      "runs scored at that venue                     2.0\n",
      "batting average at that venue                 2.0\n",
      "batting strike rate at that venue        0.333333\n",
      "wickets taken at that venue                   NaN\n",
      "bowling average at that venue                 NaN\n",
      "bowling strike rate at that venue             NaN\n",
      "Name: 482, dtype: object, 483: player                                            SPD Smith\n",
      "venue                                MA Chidambaram Stadium\n",
      "runs scored at that venue                              28.0\n",
      "batting average at that venue                          28.0\n",
      "batting strike rate at that venue                  0.848485\n",
      "wickets taken at that venue                             NaN\n",
      "bowling average at that venue                           NaN\n",
      "bowling strike rate at that venue                       NaN\n",
      "Name: 483, dtype: object, 484: player                                            SPD Smith\n",
      "venue                                Sawai Mansingh Stadium\n",
      "runs scored at that venue                             277.0\n",
      "batting average at that venue                     46.166667\n",
      "batting strike rate at that venue                  1.209607\n",
      "wickets taken at that venue                             NaN\n",
      "bowling average at that venue                           NaN\n",
      "bowling strike rate at that venue                       NaN\n",
      "Name: 484, dtype: object, 485: player                                      SPD Smith\n",
      "venue                                Wankhede Stadium\n",
      "runs scored at that venue                        12.0\n",
      "batting average at that venue                    12.0\n",
      "batting strike rate at that venue                 0.8\n",
      "wickets taken at that venue                       NaN\n",
      "bowling average at that venue                     NaN\n",
      "bowling strike rate at that venue                 NaN\n",
      "Name: 485, dtype: object, 486: player                                          SR Watson\n",
      "venue                                Arun Jaitley Stadium\n",
      "runs scored at that venue                            44.0\n",
      "batting average at that venue                        44.0\n",
      "batting strike rate at that venue                 1.62963\n",
      "wickets taken at that venue                           NaN\n",
      "bowling average at that venue                         NaN\n",
      "bowling strike rate at that venue                     NaN\n",
      "Name: 486, dtype: object, 487: player                                                                       SR Watson\n",
      "venue                                Dr. Y.S. Rajasekhara Reddy ACA-VDCA Cricket St...\n",
      "runs scored at that venue                                                         50.0\n",
      "batting average at that venue                                                     50.0\n",
      "batting strike rate at that venue                                             1.470588\n",
      "wickets taken at that venue                                                        NaN\n",
      "bowling average at that venue                                                      NaN\n",
      "bowling strike rate at that venue                                                  NaN\n",
      "Name: 487, dtype: object, 488: player                                  SR Watson\n",
      "venue                                Eden Gardens\n",
      "runs scored at that venue                     6.0\n",
      "batting average at that venue                 6.0\n",
      "batting strike rate at that venue        0.857143\n",
      "wickets taken at that venue                   NaN\n",
      "bowling average at that venue                 NaN\n",
      "bowling strike rate at that venue             NaN\n",
      "Name: 488, dtype: object, 489: player                                           SR Watson\n",
      "venue                                M.Chinnaswamy Stadium\n",
      "runs scored at that venue                              5.0\n",
      "batting average at that venue                          5.0\n",
      "batting strike rate at that venue                 1.666667\n",
      "wickets taken at that venue                            NaN\n",
      "bowling average at that venue                          NaN\n",
      "bowling strike rate at that venue                      NaN\n",
      "Name: 489, dtype: object, 490: player                                            SR Watson\n",
      "venue                                MA Chidambaram Stadium\n",
      "runs scored at that venue                             170.0\n",
      "batting average at that venue                         21.25\n",
      "batting strike rate at that venue                  1.240876\n",
      "wickets taken at that venue                             NaN\n",
      "bowling average at that venue                           NaN\n",
      "bowling strike rate at that venue                       NaN\n",
      "Name: 490, dtype: object, 491: player                                                                  SR Watson\n",
      "venue                                Punjab Cricket Association IS Bindra Stadium\n",
      "runs scored at that venue                                                     7.0\n",
      "batting average at that venue                                                 7.0\n",
      "batting strike rate at that venue                                        0.583333\n",
      "wickets taken at that venue                                                   NaN\n",
      "bowling average at that venue                                                 NaN\n",
      "bowling strike rate at that venue                                             NaN\n",
      "Name: 491, dtype: object, 492: player                                                        SR Watson\n",
      "venue                                Rajiv Gandhi International Stadium\n",
      "runs scored at that venue                                         111.0\n",
      "batting average at that venue                                      37.0\n",
      "batting strike rate at that venue                               1.21978\n",
      "wickets taken at that venue                                         NaN\n",
      "bowling average at that venue                                       NaN\n",
      "bowling strike rate at that venue                                   NaN\n",
      "Name: 492, dtype: object, 493: player                                            SR Watson\n",
      "venue                                Sawai Mansingh Stadium\n",
      "runs scored at that venue                               0.0\n",
      "batting average at that venue                           0.0\n",
      "batting strike rate at that venue                       0.0\n",
      "wickets taken at that venue                             NaN\n",
      "bowling average at that venue                           NaN\n",
      "bowling strike rate at that venue                       NaN\n",
      "Name: 493, dtype: object, 494: player                                      SR Watson\n",
      "venue                                Wankhede Stadium\n",
      "runs scored at that venue                         5.0\n",
      "batting average at that venue                     5.0\n",
      "batting strike rate at that venue            0.833333\n",
      "wickets taken at that venue                       NaN\n",
      "bowling average at that venue                     NaN\n",
      "bowling strike rate at that venue                 NaN\n",
      "Name: 494, dtype: object, 495: player                                            SS Iyer\n",
      "venue                                Arun Jaitley Stadium\n",
      "runs scored at that venue                           236.0\n",
      "batting average at that venue                   33.714286\n",
      "batting strike rate at that venue                 1.18593\n",
      "wickets taken at that venue                           NaN\n",
      "bowling average at that venue                         NaN\n",
      "bowling strike rate at that venue                     NaN\n",
      "Name: 495, dtype: object, 496: player                                                                         SS Iyer\n",
      "venue                                Dr. Y.S. Rajasekhara Reddy ACA-VDCA Cricket St...\n",
      "runs scored at that venue                                                         21.0\n",
      "batting average at that venue                                                     10.5\n",
      "batting strike rate at that venue                                                 0.75\n",
      "wickets taken at that venue                                                        NaN\n",
      "bowling average at that venue                                                      NaN\n",
      "bowling strike rate at that venue                                                  NaN\n",
      "Name: 496, dtype: object, 497: player                                    SS Iyer\n",
      "venue                                Eden Gardens\n",
      "runs scored at that venue                     6.0\n",
      "batting average at that venue                 6.0\n",
      "batting strike rate at that venue             1.0\n",
      "wickets taken at that venue                   NaN\n",
      "bowling average at that venue                 NaN\n",
      "bowling strike rate at that venue             NaN\n",
      "Name: 497, dtype: object, 498: player                                             SS Iyer\n",
      "venue                                M.Chinnaswamy Stadium\n",
      "runs scored at that venue                             67.0\n",
      "batting average at that venue                         67.0\n",
      "batting strike rate at that venue                 1.218182\n",
      "wickets taken at that venue                            NaN\n",
      "bowling average at that venue                          NaN\n",
      "bowling strike rate at that venue                      NaN\n",
      "Name: 498, dtype: object, 499: player                                              SS Iyer\n",
      "venue                                MA Chidambaram Stadium\n",
      "runs scored at that venue                              44.0\n",
      "batting average at that venue                          44.0\n",
      "batting strike rate at that venue                  1.419355\n",
      "wickets taken at that venue                             NaN\n",
      "bowling average at that venue                           NaN\n",
      "bowling strike rate at that venue                       NaN\n",
      "Name: 499, dtype: object, 500: player                                                                    SS Iyer\n",
      "venue                                Punjab Cricket Association IS Bindra Stadium\n",
      "runs scored at that venue                                                    28.0\n",
      "batting average at that venue                                                28.0\n",
      "batting strike rate at that venue                                        1.166667\n",
      "wickets taken at that venue                                                   NaN\n",
      "bowling average at that venue                                                 NaN\n",
      "bowling strike rate at that venue                                             NaN\n",
      "Name: 500, dtype: object, 501: player                                                          SS Iyer\n",
      "venue                                Rajiv Gandhi International Stadium\n",
      "runs scored at that venue                                          45.0\n",
      "batting average at that venue                                      45.0\n",
      "batting strike rate at that venue                              1.097561\n",
      "wickets taken at that venue                                         NaN\n",
      "bowling average at that venue                                       NaN\n",
      "bowling strike rate at that venue                                   NaN\n",
      "Name: 501, dtype: object, 502: player                                              SS Iyer\n",
      "venue                                Sawai Mansingh Stadium\n",
      "runs scored at that venue                               4.0\n",
      "batting average at that venue                           4.0\n",
      "batting strike rate at that venue                       0.8\n",
      "wickets taken at that venue                             NaN\n",
      "bowling average at that venue                           NaN\n",
      "bowling strike rate at that venue                       NaN\n",
      "Name: 502, dtype: object, 503: player                                        SS Iyer\n",
      "venue                                Wankhede Stadium\n",
      "runs scored at that venue                        16.0\n",
      "batting average at that venue                    16.0\n",
      "batting strike rate at that venue                 1.6\n",
      "wickets taken at that venue                       NaN\n",
      "bowling average at that venue                     NaN\n",
      "bowling strike rate at that venue                 NaN\n",
      "Name: 503, dtype: object, 504: player                                          STR Binny\n",
      "venue                                Arun Jaitley Stadium\n",
      "runs scored at that venue                             0.0\n",
      "batting average at that venue                         0.0\n",
      "batting strike rate at that venue                     0.0\n",
      "wickets taken at that venue                           0.0\n",
      "bowling average at that venue                         inf\n",
      "bowling strike rate at that venue                     inf\n",
      "Name: 504, dtype: object, 505: player                                  STR Binny\n",
      "venue                                Eden Gardens\n",
      "runs scored at that venue                    11.0\n",
      "batting average at that venue                11.0\n",
      "batting strike rate at that venue        0.916667\n",
      "wickets taken at that venue                   NaN\n",
      "bowling average at that venue                 NaN\n",
      "bowling strike rate at that venue             NaN\n",
      "Name: 505, dtype: object, 506: player                                                                  STR Binny\n",
      "venue                                Punjab Cricket Association IS Bindra Stadium\n",
      "runs scored at that venue                                                    33.0\n",
      "batting average at that venue                                                 inf\n",
      "batting strike rate at that venue                                             3.0\n",
      "wickets taken at that venue                                                   NaN\n",
      "bowling average at that venue                                                 NaN\n",
      "bowling strike rate at that venue                                             NaN\n",
      "Name: 506, dtype: object, 507: player                                            STR Binny\n",
      "venue                                Sawai Mansingh Stadium\n",
      "runs scored at that venue                              26.0\n",
      "batting average at that venue                          26.0\n",
      "batting strike rate at that venue                  1.444444\n",
      "wickets taken at that venue                             1.0\n",
      "bowling average at that venue                          38.0\n",
      "bowling strike rate at that venue                      37.0\n",
      "Name: 507, dtype: object, 508: player                                          SV Samson\n",
      "venue                                Arun Jaitley Stadium\n",
      "runs scored at that venue                             5.0\n",
      "batting average at that venue                         5.0\n",
      "batting strike rate at that venue                0.555556\n",
      "wickets taken at that venue                           NaN\n",
      "bowling average at that venue                         NaN\n",
      "bowling strike rate at that venue                     NaN\n",
      "Name: 508, dtype: object, 509: player                                  SV Samson\n",
      "venue                                Eden Gardens\n",
      "runs scored at that venue                    22.0\n",
      "batting average at that venue                22.0\n",
      "batting strike rate at that venue        1.466667\n",
      "wickets taken at that venue                   NaN\n",
      "bowling average at that venue                 NaN\n",
      "bowling strike rate at that venue             NaN\n",
      "Name: 509, dtype: object, 510: player                                           SV Samson\n",
      "venue                                M.Chinnaswamy Stadium\n",
      "runs scored at that venue                             28.0\n",
      "batting average at that venue                         28.0\n",
      "batting strike rate at that venue                 2.153846\n",
      "wickets taken at that venue                            NaN\n",
      "bowling average at that venue                          NaN\n",
      "bowling strike rate at that venue                      NaN\n",
      "Name: 510, dtype: object, 511: player                                            SV Samson\n",
      "venue                                MA Chidambaram Stadium\n",
      "runs scored at that venue                               8.0\n",
      "batting average at that venue                           8.0\n",
      "batting strike rate at that venue                       0.8\n",
      "wickets taken at that venue                             NaN\n",
      "bowling average at that venue                           NaN\n",
      "bowling strike rate at that venue                       NaN\n",
      "Name: 511, dtype: object, 512: player                                                                  SV Samson\n",
      "venue                                Punjab Cricket Association IS Bindra Stadium\n",
      "runs scored at that venue                                                    27.0\n",
      "batting average at that venue                                                27.0\n",
      "batting strike rate at that venue                                        1.227273\n",
      "wickets taken at that venue                                                   NaN\n",
      "bowling average at that venue                                                 NaN\n",
      "bowling strike rate at that venue                                             NaN\n",
      "Name: 512, dtype: object, 513: player                                                        SV Samson\n",
      "venue                                Rajiv Gandhi International Stadium\n",
      "runs scored at that venue                                         102.0\n",
      "batting average at that venue                                       inf\n",
      "batting strike rate at that venue                              1.789474\n",
      "wickets taken at that venue                                         NaN\n",
      "bowling average at that venue                                       NaN\n",
      "bowling strike rate at that venue                                   NaN\n",
      "Name: 513, dtype: object, 514: player                                            SV Samson\n",
      "venue                                Sawai Mansingh Stadium\n",
      "runs scored at that venue                             119.0\n",
      "batting average at that venue                         29.75\n",
      "batting strike rate at that venue                       1.4\n",
      "wickets taken at that venue                             NaN\n",
      "bowling average at that venue                           NaN\n",
      "bowling strike rate at that venue                       NaN\n",
      "Name: 514, dtype: object, 515: player                                      SV Samson\n",
      "venue                                Wankhede Stadium\n",
      "runs scored at that venue                        31.0\n",
      "batting average at that venue                    31.0\n",
      "batting strike rate at that venue            1.148148\n",
      "wickets taken at that venue                       NaN\n",
      "bowling average at that venue                     NaN\n",
      "bowling strike rate at that venue                 NaN\n",
      "Name: 515, dtype: object, 516: player                                                      SW Billings\n",
      "venue                                Rajiv Gandhi International Stadium\n",
      "runs scored at that venue                                           0.0\n",
      "batting average at that venue                                       0.0\n",
      "batting strike rate at that venue                                   0.0\n",
      "wickets taken at that venue                                         NaN\n",
      "bowling average at that venue                                       NaN\n",
      "bowling strike rate at that venue                                   NaN\n",
      "Name: 516, dtype: object, 517: player                                                   Sandeep Sharma\n",
      "venue                                Rajiv Gandhi International Stadium\n",
      "runs scored at that venue                                           6.0\n",
      "batting average at that venue                                       inf\n",
      "batting strike rate at that venue                                   1.5\n",
      "wickets taken at that venue                                         8.0\n",
      "bowling average at that venue                                      26.5\n",
      "bowling strike rate at that venue                                20.875\n",
      "Name: 517, dtype: object, 518: player                                      Shakib Al Hasan\n",
      "venue                                Sawai Mansingh Stadium\n",
      "runs scored at that venue                               9.0\n",
      "batting average at that venue                           9.0\n",
      "batting strike rate at that venue                  0.818182\n",
      "wickets taken at that venue                             1.0\n",
      "bowling average at that venue                          26.0\n",
      "bowling strike rate at that venue                      19.0\n",
      "Name: 518, dtype: object, 519: player                                       Shubman Gill\n",
      "venue                                Arun Jaitley Stadium\n",
      "runs scored at that venue                             4.0\n",
      "batting average at that venue                         4.0\n",
      "batting strike rate at that venue                     0.8\n",
      "wickets taken at that venue                           NaN\n",
      "bowling average at that venue                         NaN\n",
      "bowling strike rate at that venue                     NaN\n",
      "Name: 519, dtype: object, 520: player                               Shubman Gill\n",
      "venue                                Eden Gardens\n",
      "runs scored at that venue                   197.0\n",
      "batting average at that venue                39.4\n",
      "batting strike rate at that venue        1.397163\n",
      "wickets taken at that venue                   NaN\n",
      "bowling average at that venue                 NaN\n",
      "bowling strike rate at that venue             NaN\n",
      "Name: 520, dtype: object, 521: player                                        Shubman Gill\n",
      "venue                                M.Chinnaswamy Stadium\n",
      "runs scored at that venue                              3.0\n",
      "batting average at that venue                          inf\n",
      "batting strike rate at that venue                      1.0\n",
      "wickets taken at that venue                            NaN\n",
      "bowling average at that venue                          NaN\n",
      "bowling strike rate at that venue                      NaN\n",
      "Name: 521, dtype: object, 522: player                                         Shubman Gill\n",
      "venue                                MA Chidambaram Stadium\n",
      "runs scored at that venue                               9.0\n",
      "batting average at that venue                           9.0\n",
      "batting strike rate at that venue                      0.75\n",
      "wickets taken at that venue                             NaN\n",
      "bowling average at that venue                           NaN\n",
      "bowling strike rate at that venue                       NaN\n",
      "Name: 522, dtype: object, 523: player                                                               Shubman Gill\n",
      "venue                                Punjab Cricket Association IS Bindra Stadium\n",
      "runs scored at that venue                                                    65.0\n",
      "batting average at that venue                                                 inf\n",
      "batting strike rate at that venue                                             1.3\n",
      "wickets taken at that venue                                                   NaN\n",
      "bowling average at that venue                                                 NaN\n",
      "bowling strike rate at that venue                                             NaN\n",
      "Name: 523, dtype: object, 524: player                                                     Shubman Gill\n",
      "venue                                Rajiv Gandhi International Stadium\n",
      "runs scored at that venue                                           3.0\n",
      "batting average at that venue                                       3.0\n",
      "batting strike rate at that venue                                  0.75\n",
      "wickets taken at that venue                                         NaN\n",
      "bowling average at that venue                                       NaN\n",
      "bowling strike rate at that venue                                   NaN\n",
      "Name: 524, dtype: object, 525: player                                         Shubman Gill\n",
      "venue                                Sawai Mansingh Stadium\n",
      "runs scored at that venue                               6.0\n",
      "batting average at that venue                           inf\n",
      "batting strike rate at that venue                  0.545455\n",
      "wickets taken at that venue                             NaN\n",
      "bowling average at that venue                           NaN\n",
      "bowling strike rate at that venue                       NaN\n",
      "Name: 525, dtype: object, 526: player                                   Shubman Gill\n",
      "venue                                Wankhede Stadium\n",
      "runs scored at that venue                         9.0\n",
      "batting average at that venue                     9.0\n",
      "batting strike rate at that venue              0.5625\n",
      "wickets taken at that venue                       NaN\n",
      "bowling average at that venue                     NaN\n",
      "bowling strike rate at that venue                 NaN\n",
      "Name: 526, dtype: object, 527: player                                                                        TA Boult\n",
      "venue                                Dr. Y.S. Rajasekhara Reddy ACA-VDCA Cricket St...\n",
      "runs scored at that venue                                                          6.0\n",
      "batting average at that venue                                                      6.0\n",
      "batting strike rate at that venue                                                  2.0\n",
      "wickets taken at that venue                                                        2.0\n",
      "bowling average at that venue                                                     28.5\n",
      "bowling strike rate at that venue                                                 21.5\n",
      "Name: 527, dtype: object, 528: player                                             TA Boult\n",
      "venue                                MA Chidambaram Stadium\n",
      "runs scored at that venue                               1.0\n",
      "batting average at that venue                           inf\n",
      "batting strike rate at that venue                       1.0\n",
      "wickets taken at that venue                             0.0\n",
      "bowling average at that venue                           inf\n",
      "bowling strike rate at that venue                       inf\n",
      "Name: 528, dtype: object, 529: player                                          TG Southee\n",
      "venue                                M.Chinnaswamy Stadium\n",
      "runs scored at that venue                              9.0\n",
      "batting average at that venue                          inf\n",
      "batting strike rate at that venue                      1.0\n",
      "wickets taken at that venue                            1.0\n",
      "bowling average at that venue                        123.0\n",
      "bowling strike rate at that venue                     58.0\n",
      "Name: 529, dtype: object, 530: player                                            UT Yadav\n",
      "venue                                M.Chinnaswamy Stadium\n",
      "runs scored at that venue                             10.0\n",
      "batting average at that venue                          inf\n",
      "batting strike rate at that venue                      2.0\n",
      "wickets taken at that venue                            8.0\n",
      "bowling average at that venue                       21.125\n",
      "bowling strike rate at that venue                     13.5\n",
      "Name: 530, dtype: object, 531: player                                             UT Yadav\n",
      "venue                                MA Chidambaram Stadium\n",
      "runs scored at that venue                               1.0\n",
      "batting average at that venue                           1.0\n",
      "batting strike rate at that venue                       0.1\n",
      "wickets taken at that venue                             0.0\n",
      "bowling average at that venue                           inf\n",
      "bowling strike rate at that venue                       inf\n",
      "Name: 531, dtype: object, 532: player                                                         UT Yadav\n",
      "venue                                Rajiv Gandhi International Stadium\n",
      "runs scored at that venue                                          14.0\n",
      "batting average at that venue                                       inf\n",
      "batting strike rate at that venue                                   1.4\n",
      "wickets taken at that venue                                         0.0\n",
      "bowling average at that venue                                       inf\n",
      "bowling strike rate at that venue                                   inf\n",
      "Name: 532, dtype: object, 533: player                                       UT Yadav\n",
      "venue                                Wankhede Stadium\n",
      "runs scored at that venue                         0.0\n",
      "batting average at that venue                     NaN\n",
      "batting strike rate at that venue                 0.0\n",
      "wickets taken at that venue                       0.0\n",
      "bowling average at that venue                     inf\n",
      "bowling strike rate at that venue                 inf\n",
      "Name: 533, dtype: object, 534: player                                            V Kohli\n",
      "venue                                Arun Jaitley Stadium\n",
      "runs scored at that venue                            23.0\n",
      "batting average at that venue                        23.0\n",
      "batting strike rate at that venue                1.352941\n",
      "wickets taken at that venue                           NaN\n",
      "bowling average at that venue                         NaN\n",
      "bowling strike rate at that venue                     NaN\n",
      "Name: 534, dtype: object, 535: player                                    V Kohli\n",
      "venue                                Eden Gardens\n",
      "runs scored at that venue                   100.0\n",
      "batting average at that venue               100.0\n",
      "batting strike rate at that venue        1.724138\n",
      "wickets taken at that venue                   NaN\n",
      "bowling average at that venue                 NaN\n",
      "bowling strike rate at that venue             NaN\n",
      "Name: 535, dtype: object, 536: player                                             V Kohli\n",
      "venue                                M.Chinnaswamy Stadium\n",
      "runs scored at that venue                            234.0\n",
      "batting average at that venue                    33.428571\n",
      "batting strike rate at that venue                 1.613793\n",
      "wickets taken at that venue                            NaN\n",
      "bowling average at that venue                          NaN\n",
      "bowling strike rate at that venue                      NaN\n",
      "Name: 536, dtype: object, 537: player                                              V Kohli\n",
      "venue                                MA Chidambaram Stadium\n",
      "runs scored at that venue                               6.0\n",
      "batting average at that venue                           6.0\n",
      "batting strike rate at that venue                       0.5\n",
      "wickets taken at that venue                             NaN\n",
      "bowling average at that venue                           NaN\n",
      "bowling strike rate at that venue                       NaN\n",
      "Name: 537, dtype: object, 538: player                                                                    V Kohli\n",
      "venue                                Punjab Cricket Association IS Bindra Stadium\n",
      "runs scored at that venue                                                    67.0\n",
      "batting average at that venue                                                67.0\n",
      "batting strike rate at that venue                                        1.240741\n",
      "wickets taken at that venue                                                   NaN\n",
      "bowling average at that venue                                                 NaN\n",
      "bowling strike rate at that venue                                             NaN\n",
      "Name: 538, dtype: object, 539: player                                                          V Kohli\n",
      "venue                                Rajiv Gandhi International Stadium\n",
      "runs scored at that venue                                           3.0\n",
      "batting average at that venue                                       3.0\n",
      "batting strike rate at that venue                                   0.3\n",
      "wickets taken at that venue                                         NaN\n",
      "bowling average at that venue                                       NaN\n",
      "bowling strike rate at that venue                                   NaN\n",
      "Name: 539, dtype: object, 540: player                                              V Kohli\n",
      "venue                                Sawai Mansingh Stadium\n",
      "runs scored at that venue                              23.0\n",
      "batting average at that venue                          23.0\n",
      "batting strike rate at that venue                  0.884615\n",
      "wickets taken at that venue                             NaN\n",
      "bowling average at that venue                           NaN\n",
      "bowling strike rate at that venue                       NaN\n",
      "Name: 540, dtype: object, 541: player                                        V Kohli\n",
      "venue                                Wankhede Stadium\n",
      "runs scored at that venue                         8.0\n",
      "batting average at that venue                     8.0\n",
      "batting strike rate at that venue                 0.8\n",
      "wickets taken at that venue                       NaN\n",
      "bowling average at that venue                     NaN\n",
      "bowling strike rate at that venue                 NaN\n",
      "Name: 541, dtype: object, 542: player                                          V Shankar\n",
      "venue                                Arun Jaitley Stadium\n",
      "runs scored at that venue                            16.0\n",
      "batting average at that venue                        16.0\n",
      "batting strike rate at that venue                0.695652\n",
      "wickets taken at that venue                           NaN\n",
      "bowling average at that venue                         NaN\n",
      "bowling strike rate at that venue                     NaN\n",
      "Name: 542, dtype: object, 543: player                                                                       V Shankar\n",
      "venue                                Dr. Y.S. Rajasekhara Reddy ACA-VDCA Cricket St...\n",
      "runs scored at that venue                                                         25.0\n",
      "batting average at that venue                                                     25.0\n",
      "batting strike rate at that venue                                             2.272727\n",
      "wickets taken at that venue                                                        NaN\n",
      "bowling average at that venue                                                      NaN\n",
      "bowling strike rate at that venue                                                  NaN\n",
      "Name: 543, dtype: object, 544: player                                  V Shankar\n",
      "venue                                Eden Gardens\n",
      "runs scored at that venue                    40.0\n",
      "batting average at that venue                 inf\n",
      "batting strike rate at that venue        1.666667\n",
      "wickets taken at that venue                   NaN\n",
      "bowling average at that venue                 NaN\n",
      "bowling strike rate at that venue             NaN\n",
      "Name: 544, dtype: object, 545: player                                           V Shankar\n",
      "venue                                M.Chinnaswamy Stadium\n",
      "runs scored at that venue                             27.0\n",
      "batting average at that venue                         27.0\n",
      "batting strike rate at that venue                      1.5\n",
      "wickets taken at that venue                            0.0\n",
      "bowling average at that venue                          inf\n",
      "bowling strike rate at that venue                      inf\n",
      "Name: 545, dtype: object, 546: player                                            V Shankar\n",
      "venue                                MA Chidambaram Stadium\n",
      "runs scored at that venue                              26.0\n",
      "batting average at that venue                          26.0\n",
      "batting strike rate at that venue                       1.3\n",
      "wickets taken at that venue                             NaN\n",
      "bowling average at that venue                           NaN\n",
      "bowling strike rate at that venue                       NaN\n",
      "Name: 546, dtype: object, 547: player                                                                  V Shankar\n",
      "venue                                Punjab Cricket Association IS Bindra Stadium\n",
      "runs scored at that venue                                                    26.0\n",
      "batting average at that venue                                                26.0\n",
      "batting strike rate at that venue                                        0.962963\n",
      "wickets taken at that venue                                                   NaN\n",
      "bowling average at that venue                                                 NaN\n",
      "bowling strike rate at that venue                                             NaN\n",
      "Name: 547, dtype: object, 548: player                                                        V Shankar\n",
      "venue                                Rajiv Gandhi International Stadium\n",
      "runs scored at that venue                                          64.0\n",
      "batting average at that venue                                      16.0\n",
      "batting strike rate at that venue                              1.422222\n",
      "wickets taken at that venue                                         2.0\n",
      "bowling average at that venue                                      27.0\n",
      "bowling strike rate at that venue                                  22.5\n",
      "Name: 548, dtype: object, 549: player                                            V Shankar\n",
      "venue                                Sawai Mansingh Stadium\n",
      "runs scored at that venue                               8.0\n",
      "batting average at that venue                           8.0\n",
      "batting strike rate at that venue                       0.8\n",
      "wickets taken at that venue                             NaN\n",
      "bowling average at that venue                           NaN\n",
      "bowling strike rate at that venue                       NaN\n",
      "Name: 549, dtype: object, 550: player                                      V Shankar\n",
      "venue                                Wankhede Stadium\n",
      "runs scored at that venue                        12.0\n",
      "batting average at that venue                    12.0\n",
      "batting strike rate at that venue            0.666667\n",
      "wickets taken at that venue                       NaN\n",
      "bowling average at that venue                     NaN\n",
      "bowling strike rate at that venue                 NaN\n",
      "Name: 550, dtype: object, 551: player                                           VR Aaron\n",
      "venue                                Arun Jaitley Stadium\n",
      "runs scored at that venue                             3.0\n",
      "batting average at that venue                         inf\n",
      "batting strike rate at that venue                0.428571\n",
      "wickets taken at that venue                           0.0\n",
      "bowling average at that venue                         inf\n",
      "bowling strike rate at that venue                     inf\n",
      "Name: 551, dtype: object, 552: player                                                                         WP Saha\n",
      "venue                                Dr. Y.S. Rajasekhara Reddy ACA-VDCA Cricket St...\n",
      "runs scored at that venue                                                          8.0\n",
      "batting average at that venue                                                      8.0\n",
      "batting strike rate at that venue                                             0.888889\n",
      "wickets taken at that venue                                                        NaN\n",
      "bowling average at that venue                                                      NaN\n",
      "bowling strike rate at that venue                                                  NaN\n",
      "Name: 552, dtype: object, 553: player                                             WP Saha\n",
      "venue                                M.Chinnaswamy Stadium\n",
      "runs scored at that venue                             20.0\n",
      "batting average at that venue                         20.0\n",
      "batting strike rate at that venue                 1.818182\n",
      "wickets taken at that venue                            NaN\n",
      "bowling average at that venue                          NaN\n",
      "bowling strike rate at that venue                      NaN\n",
      "Name: 553, dtype: object, 554: player                                                          WP Saha\n",
      "venue                                Rajiv Gandhi International Stadium\n",
      "runs scored at that venue                                          28.0\n",
      "batting average at that venue                                      28.0\n",
      "batting strike rate at that venue                                   2.0\n",
      "wickets taken at that venue                                         NaN\n",
      "bowling average at that venue                                       NaN\n",
      "bowling strike rate at that venue                                   NaN\n",
      "Name: 554, dtype: object, 555: player                                              WP Saha\n",
      "venue                                Sawai Mansingh Stadium\n",
      "runs scored at that venue                               5.0\n",
      "batting average at that venue                           5.0\n",
      "batting strike rate at that venue                       1.0\n",
      "wickets taken at that venue                             NaN\n",
      "bowling average at that venue                           NaN\n",
      "bowling strike rate at that venue                       NaN\n",
      "Name: 555, dtype: object, 556: player                                        WP Saha\n",
      "venue                                Wankhede Stadium\n",
      "runs scored at that venue                        25.0\n",
      "batting average at that venue                    25.0\n",
      "batting strike rate at that venue              1.5625\n",
      "wickets taken at that venue                       NaN\n",
      "bowling average at that venue                     NaN\n",
      "bowling strike rate at that venue                 NaN\n",
      "Name: 556, dtype: object, 557: player                                  Washington Sundar\n",
      "venue                                Arun Jaitley Stadium\n",
      "runs scored at that venue                             1.0\n",
      "batting average at that venue                         1.0\n",
      "batting strike rate at that venue                     0.5\n",
      "wickets taken at that venue                           1.0\n",
      "bowling average at that venue                        30.0\n",
      "bowling strike rate at that venue                    24.0\n",
      "Name: 557, dtype: object, 558: player                                   Washington Sundar\n",
      "venue                                M.Chinnaswamy Stadium\n",
      "runs scored at that venue                              0.0\n",
      "batting average at that venue                          0.0\n",
      "batting strike rate at that venue                      0.0\n",
      "wickets taken at that venue                            3.0\n",
      "bowling average at that venue                         15.0\n",
      "bowling strike rate at that venue                     10.0\n",
      "Name: 558, dtype: object, 559: player                                                    Y Prithvi Raj\n",
      "venue                                Rajiv Gandhi International Stadium\n",
      "runs scored at that venue                                           0.0\n",
      "batting average at that venue                                       NaN\n",
      "batting strike rate at that venue                                   0.0\n",
      "wickets taken at that venue                                         1.0\n",
      "bowling average at that venue                                      29.0\n",
      "bowling strike rate at that venue                                  20.0\n",
      "Name: 559, dtype: object, 560: player                                          YK Pathan\n",
      "venue                                Arun Jaitley Stadium\n",
      "runs scored at that venue                             9.0\n",
      "batting average at that venue                         inf\n",
      "batting strike rate at that venue                0.818182\n",
      "wickets taken at that venue                           NaN\n",
      "bowling average at that venue                         NaN\n",
      "bowling strike rate at that venue                     NaN\n",
      "Name: 560, dtype: object, 561: player                                  YK Pathan\n",
      "venue                                Eden Gardens\n",
      "runs scored at that venue                     1.0\n",
      "batting average at that venue                 1.0\n",
      "batting strike rate at that venue            0.25\n",
      "wickets taken at that venue                   NaN\n",
      "bowling average at that venue                 NaN\n",
      "bowling strike rate at that venue             NaN\n",
      "Name: 561, dtype: object, 562: player                                           YK Pathan\n",
      "venue                                M.Chinnaswamy Stadium\n",
      "runs scored at that venue                              3.0\n",
      "batting average at that venue                          3.0\n",
      "batting strike rate at that venue                      0.6\n",
      "wickets taken at that venue                            NaN\n",
      "bowling average at that venue                          NaN\n",
      "bowling strike rate at that venue                      NaN\n",
      "Name: 562, dtype: object, 563: player                                            YK Pathan\n",
      "venue                                MA Chidambaram Stadium\n",
      "runs scored at that venue                               5.0\n",
      "batting average at that venue                           inf\n",
      "batting strike rate at that venue                      1.25\n",
      "wickets taken at that venue                             NaN\n",
      "bowling average at that venue                           NaN\n",
      "bowling strike rate at that venue                       NaN\n",
      "Name: 563, dtype: object, 564: player                                                        YK Pathan\n",
      "venue                                Rajiv Gandhi International Stadium\n",
      "runs scored at that venue                                          22.0\n",
      "batting average at that venue                                      22.0\n",
      "batting strike rate at that venue                              0.956522\n",
      "wickets taken at that venue                                         0.0\n",
      "bowling average at that venue                                       inf\n",
      "bowling strike rate at that venue                                   inf\n",
      "Name: 564, dtype: object, 565: player                                           YS Chahal\n",
      "venue                                M.Chinnaswamy Stadium\n",
      "runs scored at that venue                              1.0\n",
      "batting average at that venue                          inf\n",
      "batting strike rate at that venue                      1.0\n",
      "wickets taken at that venue                            8.0\n",
      "bowling average at that venue                       22.375\n",
      "bowling strike rate at that venue                    17.25\n",
      "Name: 565, dtype: object, 566: player                                            YS Chahal\n",
      "venue                                MA Chidambaram Stadium\n",
      "runs scored at that venue                               4.0\n",
      "batting average at that venue                           4.0\n",
      "batting strike rate at that venue                  0.333333\n",
      "wickets taken at that venue                             1.0\n",
      "bowling average at that venue                           6.0\n",
      "bowling strike rate at that venue                      24.0\n",
      "Name: 566, dtype: object, 567: player                                                        YS Chahal\n",
      "venue                                Rajiv Gandhi International Stadium\n",
      "runs scored at that venue                                           1.0\n",
      "batting average at that venue                                       1.0\n",
      "batting strike rate at that venue                              0.333333\n",
      "wickets taken at that venue                                         1.0\n",
      "bowling average at that venue                                      44.0\n",
      "bowling strike rate at that venue                                  25.0\n",
      "Name: 567, dtype: object, 568: player                                        Yuvraj Singh\n",
      "venue                                M.Chinnaswamy Stadium\n",
      "runs scored at that venue                             23.0\n",
      "batting average at that venue                         23.0\n",
      "batting strike rate at that venue                 1.769231\n",
      "wickets taken at that venue                            NaN\n",
      "bowling average at that venue                          NaN\n",
      "bowling strike rate at that venue                      NaN\n",
      "Name: 568, dtype: object, 569: player                                                               Yuvraj Singh\n",
      "venue                                Punjab Cricket Association IS Bindra Stadium\n",
      "runs scored at that venue                                                    18.0\n",
      "batting average at that venue                                                18.0\n",
      "batting strike rate at that venue                                            0.75\n",
      "wickets taken at that venue                                                   NaN\n",
      "bowling average at that venue                                                 NaN\n",
      "bowling strike rate at that venue                                             NaN\n",
      "Name: 569, dtype: object, 570: player                                   Yuvraj Singh\n",
      "venue                                Wankhede Stadium\n",
      "runs scored at that venue                        57.0\n",
      "batting average at that venue                    28.5\n",
      "batting strike rate at that venue             1.23913\n",
      "wickets taken at that venue                       NaN\n",
      "bowling average at that venue                     NaN\n",
      "bowling strike rate at that venue                 NaN\n",
      "Name: 570, dtype: object}\n"
     ]
    }
   ],
   "source": [
    "import pandas as pd\n",
    "\n",
    "# Load the data into a dataframe\n",
    "df = pd.read_csv('data/2019_ipl_ball_by_ball.csv')\n",
    "\n",
    "# Compute the batting statistics\n",
    "batting_df = df.groupby(['batter', 'Venue']).agg({'batsman_run': 'sum', 'ballnumber': 'count', 'isWicketDelivery': 'sum'}).reset_index()\n",
    "batting_df.rename(columns={'batsman_run': 'runs_scored', 'ballnumber': 'balls_faced', 'isWicketDelivery': 'times_out'}, inplace=True)\n",
    "batting_df['batting_average'] = batting_df['runs_scored'] / batting_df['times_out']\n",
    "batting_df['batting_strike_rate'] = batting_df['runs_scored'] / batting_df['balls_faced']\n",
    "\n",
    "# Compute the bowling statistics\n",
    "bowling_df = df.groupby(['bowler', 'Venue']).agg({'isWicketDelivery': 'sum', 'total_run': 'sum', 'ballnumber': 'count'}).reset_index()\n",
    "bowling_df.rename(columns={'isWicketDelivery': 'wickets_taken', 'total_run': 'runs_conceded', 'ballnumber': 'balls_bowled'}, inplace=True)\n",
    "bowling_df['bowling_average'] = bowling_df['runs_conceded'] / bowling_df['wickets_taken']\n",
    "bowling_df['bowling_strike_rate'] = bowling_df['balls_bowled'] / bowling_df['wickets_taken']\n",
    "\n",
    "# Merge the batting and bowling dataframes\n",
    "merged_df = pd.merge(batting_df, bowling_df, left_on=['batter', 'Venue'], right_on=['bowler', 'Venue'], how='outer')\n",
    "merged_df['player'] = merged_df['batter'].fillna(merged_df['bowler']).fillna('Unknown')\n",
    "\n",
    "\n",
    "# Create a final dataframe that combines the batting and bowling stats for each player at each venue\n",
    "final_df = pd.DataFrame(columns=['player', 'venue', 'runs scored at that venue', 'batting average at that venue', 'batting strike rate at that venue', 'wickets taken at that venue', 'bowling average at that venue', 'bowling strike rate at that venue'])\n",
    "\n",
    "final_df['player'] = merged_df['batter']\n",
    "final_df['venue'] = merged_df['Venue']\n",
    "final_df['runs scored at that venue'] = merged_df['runs_scored']\n",
    "final_df['batting average at that venue'] = merged_df['batting_average']\n",
    "final_df['batting strike rate at that venue'] = merged_df['batting_strike_rate']\n",
    "final_df['wickets taken at that venue'] = merged_df['wickets_taken']\n",
    "final_df['bowling average at that venue'] = merged_df['bowling_average']\n",
    "final_df['bowling strike rate at that venue'] = merged_df['bowling_strike_rate']\n",
    "\n",
    "final_df.drop_duplicates(inplace=True)\n",
    "#print(final_df)\n",
    "final_dict = final_df.to_dict('records')\n",
    "#print(final_dict)\n",
    "final_dict = {index: row for index, row in final_df.iterrows() if not pd.isna(row['player'])}\n",
    "print(final_dict)\n",
    "\n",
    "\n",
    "\n"
   ]
  },
  {
   "cell_type": "code",
   "execution_count": 2,
   "id": "fd601b91",
   "metadata": {},
   "outputs": [
    {
     "data": {
      "image/png": "[encoded data removed]",
      "text/plain": [
       "<Figure size 432x288 with 1 Axes>"
      ]
     },
     "metadata": {
      "needs_background": "light"
     },
     "output_type": "display_data"
    }
   ],
   "source": [
    "import pandas as pd\n",
    "import numpy as np\n",
    "import matplotlib.pyplot as plt\n",
    "\n",
    "# Load the data from CSV file\n",
    "df = pd.read_csv('data/2019_ipl_ball_by_ball.csv')\n",
    "\n",
    "# Filter the data for Yuvraj Singh and Wankhede stadium\n",
    "yuvraj_wankhede_df = df[(df['batter'] == 'RG Sharma') & (df['Venue'] == 'Wankhede Stadium')]\n",
    "\n",
    "# Calculate the batting average and strike rate for Yuvraj Singh at Wankhede stadium\n",
    "runs_scored = yuvraj_wankhede_df['batsman_run'].sum()\n",
    "balls_faced = yuvraj_wankhede_df[yuvraj_wankhede_df['isWicketDelivery'] != 1]['ballnumber'].count()\n",
    "batting_average = runs_scored / yuvraj_wankhede_df['player_out'].count()\n",
    "batting_strike_rate = runs_scored / balls_faced * 100\n",
    "\n",
    "# Create a bar chart for Yuvraj Singh at Wankhede stadium\n",
    "labels = ['Runs scored', 'Batting average', 'Batting strike rate', 'Number of dismissals']\n",
    "values = [runs_scored, batting_average, batting_strike_rate, yuvraj_wankhede_df['player_out'].count()]\n",
    "\n",
    "fig, ax = plt.subplots()\n",
    "ax.bar(labels, values)\n",
    "\n",
    "ax.set_title('RG Sharma at Wankhede Stadium')\n",
    "ax.set_ylabel('Statistics')\n",
    "ax.set_xlabel('')\n",
    "\n",
    "plt.show()\n"
   ]
  },
  {
   "cell_type": "code",
   "execution_count": 5,
   "id": "bcd933e7",
   "metadata": {},
   "outputs": [
    {
     "data": {
      "application/vnd.plotly.v1+json": {
       "config": {
        "plotlyServerURL": "https://plot.ly"
       },
       "data": [
        {
         "alignmentgroup": "True",
         "hovertemplate": "venue=%{x}<br>runs scored at that venue=%{y}<extra></extra>",
         "legendgroup": "Arun Jaitley Stadium",
         "marker": {
          "color": "#636efa",
          "pattern": {
           "shape": ""
          }
         },
         "name": "Arun Jaitley Stadium",
         "offsetgroup": "Arun Jaitley Stadium",
         "orientation": "v",
         "showlegend": true,
         "textposition": "auto",
         "type": "bar",
         "x": [
          "Arun Jaitley Stadium"
         ],
         "xaxis": "x",
         "y": [
          30
         ],
         "yaxis": "y"
        },
        {
         "alignmentgroup": "True",
         "hovertemplate": "venue=%{x}<br>runs scored at that venue=%{y}<extra></extra>",
         "legendgroup": "Eden Gardens",
         "marker": {
          "color": "#EF553B",
          "pattern": {
           "shape": ""
          }
         },
         "name": "Eden Gardens",
         "offsetgroup": "Eden Gardens",
         "orientation": "v",
         "showlegend": true,
         "textposition": "auto",
         "type": "bar",
         "x": [
          "Eden Gardens"
         ],
         "xaxis": "x",
         "y": [
          12
         ],
         "yaxis": "y"
        },
        {
         "alignmentgroup": "True",
         "hovertemplate": "venue=%{x}<br>runs scored at that venue=%{y}<extra></extra>",
         "legendgroup": "M.Chinnaswamy Stadium",
         "marker": {
          "color": "#00cc96",
          "pattern": {
           "shape": ""
          }
         },
         "name": "M.Chinnaswamy Stadium",
         "offsetgroup": "M.Chinnaswamy Stadium",
         "orientation": "v",
         "showlegend": true,
         "textposition": "auto",
         "type": "bar",
         "x": [
          "M.Chinnaswamy Stadium"
         ],
         "xaxis": "x",
         "y": [
          48
         ],
         "yaxis": "y"
        },
        {
         "alignmentgroup": "True",
         "hovertemplate": "venue=%{x}<br>runs scored at that venue=%{y}<extra></extra>",
         "legendgroup": "MA Chidambaram Stadium",
         "marker": {
          "color": "#ab63fa",
          "pattern": {
           "shape": ""
          }
         },
         "name": "MA Chidambaram Stadium",
         "offsetgroup": "MA Chidambaram Stadium",
         "orientation": "v",
         "showlegend": true,
         "textposition": "auto",
         "type": "bar",
         "x": [
          "MA Chidambaram Stadium"
         ],
         "xaxis": "x",
         "y": [
          71
         ],
         "yaxis": "y"
        },
        {
         "alignmentgroup": "True",
         "hovertemplate": "venue=%{x}<br>runs scored at that venue=%{y}<extra></extra>",
         "legendgroup": "Punjab Cricket Association IS Bindra Stadium",
         "marker": {
          "color": "#FFA15A",
          "pattern": {
           "shape": ""
          }
         },
         "name": "Punjab Cricket Association IS Bindra Stadium",
         "offsetgroup": "Punjab Cricket Association IS Bindra Stadium",
         "orientation": "v",
         "showlegend": true,
         "textposition": "auto",
         "type": "bar",
         "x": [
          "Punjab Cricket Association IS Bindra Stadium"
         ],
         "xaxis": "x",
         "y": [
          32
         ],
         "yaxis": "y"
        },
        {
         "alignmentgroup": "True",
         "hovertemplate": "venue=%{x}<br>runs scored at that venue=%{y}<extra></extra>",
         "legendgroup": "Rajiv Gandhi International Stadium",
         "marker": {
          "color": "#19d3f3",
          "pattern": {
           "shape": ""
          }
         },
         "name": "Rajiv Gandhi International Stadium",
         "offsetgroup": "Rajiv Gandhi International Stadium",
         "orientation": "v",
         "showlegend": true,
         "textposition": "auto",
         "type": "bar",
         "x": [
          "Rajiv Gandhi International Stadium"
         ],
         "xaxis": "x",
         "y": [
          26
         ],
         "yaxis": "y"
        },
        {
         "alignmentgroup": "True",
         "hovertemplate": "venue=%{x}<br>runs scored at that venue=%{y}<extra></extra>",
         "legendgroup": "Sawai Mansingh Stadium",
         "marker": {
          "color": "#FF6692",
          "pattern": {
           "shape": ""
          }
         },
         "name": "Sawai Mansingh Stadium",
         "offsetgroup": "Sawai Mansingh Stadium",
         "orientation": "v",
         "showlegend": true,
         "textposition": "auto",
         "type": "bar",
         "x": [
          "Sawai Mansingh Stadium"
         ],
         "xaxis": "x",
         "y": [
          5
         ],
         "yaxis": "y"
        },
        {
         "alignmentgroup": "True",
         "hovertemplate": "venue=%{x}<br>runs scored at that venue=%{y}<extra></extra>",
         "legendgroup": "Wankhede Stadium",
         "marker": {
          "color": "#B6E880",
          "pattern": {
           "shape": ""
          }
         },
         "name": "Wankhede Stadium",
         "offsetgroup": "Wankhede Stadium",
         "orientation": "v",
         "showlegend": true,
         "textposition": "auto",
         "type": "bar",
         "x": [
          "Wankhede Stadium"
         ],
         "xaxis": "x",
         "y": [
          181
         ],
         "yaxis": "y"
        }
       ],
       "layout": {
        "barmode": "relative",
        "legend": {
         "title": {
          "text": "venue"
         },
         "tracegroupgap": 0
        },
        "template": {
         "data": {
          "bar": [
           {
            "error_x": {
             "color": "#2a3f5f"
            },
            "error_y": {
             "color": "#2a3f5f"
            },
            "marker": {
             "line": {
              "color": "#E5ECF6",
              "width": 0.5
             },
             "pattern": {
              "fillmode": "overlay",
              "size": 10,
              "solidity": 0.2
             }
            },
            "type": "bar"
           }
          ],
          "barpolar": [
           {
            "marker": {
             "line": {
              "color": "#E5ECF6",
              "width": 0.5
             },
             "pattern": {
              "fillmode": "overlay",
              "size": 10,
              "solidity": 0.2
             }
            },
            "type": "barpolar"
           }
          ],
          "carpet": [
           {
            "aaxis": {
             "endlinecolor": "#2a3f5f",
             "gridcolor": "white",
             "linecolor": "white",
             "minorgridcolor": "white",
             "startlinecolor": "#2a3f5f"
            },
            "baxis": {
             "endlinecolor": "#2a3f5f",
             "gridcolor": "white",
             "linecolor": "white",
             "minorgridcolor": "white",
             "startlinecolor": "#2a3f5f"
            },
            "type": "carpet"
           }
          ],
          "choropleth": [
           {
            "colorbar": {
             "outlinewidth": 0,
             "ticks": ""
            },
            "type": "choropleth"
           }
          ],
          "contour": [
           {
            "colorbar": {
             "outlinewidth": 0,
             "ticks": ""
            },
            "colorscale": [
             [
              0,
              "#0d0887"
             ],
             [
              0.1111111111111111,
              "#46039f"
             ],
             [
              0.2222222222222222,
              "#7201a8"
             ],
             [
              0.3333333333333333,
              "#9c179e"
             ],
             [
              0.4444444444444444,
              "#bd3786"
             ],
             [
              0.5555555555555556,
              "#d8576b"
             ],
             [
              0.6666666666666666,
              "#ed7953"
             ],
             [
              0.7777777777777778,
              "#fb9f3a"
             ],
             [
              0.8888888888888888,
              "#fdca26"
             ],
             [
              1,
              "#f0f921"
             ]
            ],
            "type": "contour"
           }
          ],
          "contourcarpet": [
           {
            "colorbar": {
             "outlinewidth": 0,
             "ticks": ""
            },
            "type": "contourcarpet"
           }
          ],
          "heatmap": [
           {
            "colorbar": {
             "outlinewidth": 0,
             "ticks": ""
            },
            "colorscale": [
             [
              0,
              "#0d0887"
             ],
             [
              0.1111111111111111,
              "#46039f"
             ],
             [
              0.2222222222222222,
              "#7201a8"
             ],
             [
              0.3333333333333333,
              "#9c179e"
             ],
             [
              0.4444444444444444,
              "#bd3786"
             ],
             [
              0.5555555555555556,
              "#d8576b"
             ],
             [
              0.6666666666666666,
              "#ed7953"
             ],
             [
              0.7777777777777778,
              "#fb9f3a"
             ],
             [
              0.8888888888888888,
              "#fdca26"
             ],
             [
              1,
              "#f0f921"
             ]
            ],
            "type": "heatmap"
           }
          ],
          "heatmapgl": [
           {
            "colorbar": {
             "outlinewidth": 0,
             "ticks": ""
            },
            "colorscale": [
             [
              0,
              "#0d0887"
             ],
             [
              0.1111111111111111,
              "#46039f"
             ],
             [
              0.2222222222222222,
              "#7201a8"
             ],
             [
              0.3333333333333333,
              "#9c179e"
             ],
             [
              0.4444444444444444,
              "#bd3786"
             ],
             [
              0.5555555555555556,
              "#d8576b"
             ],
             [
              0.6666666666666666,
              "#ed7953"
             ],
             [
              0.7777777777777778,
              "#fb9f3a"
             ],
             [
              0.8888888888888888,
              "#fdca26"
             ],
             [
              1,
              "#f0f921"
             ]
            ],
            "type": "heatmapgl"
           }
          ],
          "histogram": [
           {
            "marker": {
             "pattern": {
              "fillmode": "overlay",
              "size": 10,
              "solidity": 0.2
             }
            },
            "type": "histogram"
           }
          ],
          "histogram2d": [
           {
            "colorbar": {
             "outlinewidth": 0,
             "ticks": ""
            },
            "colorscale": [
             [
              0,
              "#0d0887"
             ],
             [
              0.1111111111111111,
              "#46039f"
             ],
             [
              0.2222222222222222,
              "#7201a8"
             ],
             [
              0.3333333333333333,
              "#9c179e"
             ],
             [
              0.4444444444444444,
              "#bd3786"
             ],
             [
              0.5555555555555556,
              "#d8576b"
             ],
             [
              0.6666666666666666,
              "#ed7953"
             ],
             [
              0.7777777777777778,
              "#fb9f3a"
             ],
             [
              0.8888888888888888,
              "#fdca26"
             ],
             [
              1,
              "#f0f921"
             ]
            ],
            "type": "histogram2d"
           }
          ],
          "histogram2dcontour": [
           {
            "colorbar": {
             "outlinewidth": 0,
             "ticks": ""
            },
            "colorscale": [
             [
              0,
              "#0d0887"
             ],
             [
              0.1111111111111111,
              "#46039f"
             ],
             [
              0.2222222222222222,
              "#7201a8"
             ],
             [
              0.3333333333333333,
              "#9c179e"
             ],
             [
              0.4444444444444444,
              "#bd3786"
             ],
             [
              0.5555555555555556,
              "#d8576b"
             ],
             [
              0.6666666666666666,
              "#ed7953"
             ],
             [
              0.7777777777777778,
              "#fb9f3a"
             ],
             [
              0.8888888888888888,
              "#fdca26"
             ],
             [
              1,
              "#f0f921"
             ]
            ],
            "type": "histogram2dcontour"
           }
          ],
          "mesh3d": [
           {
            "colorbar": {
             "outlinewidth": 0,
             "ticks": ""
            },
            "type": "mesh3d"
           }
          ],
          "parcoords": [
           {
            "line": {
             "colorbar": {
              "outlinewidth": 0,
              "ticks": ""
             }
            },
            "type": "parcoords"
           }
          ],
          "pie": [
           {
            "automargin": true,
            "type": "pie"
           }
          ],
          "scatter": [
           {
            "fillpattern": {
             "fillmode": "overlay",
             "size": 10,
             "solidity": 0.2
            },
            "type": "scatter"
           }
          ],
          "scatter3d": [
           {
            "line": {
             "colorbar": {
              "outlinewidth": 0,
              "ticks": ""
             }
            },
            "marker": {
             "colorbar": {
              "outlinewidth": 0,
              "ticks": ""
             }
            },
            "type": "scatter3d"
           }
          ],
          "scattercarpet": [
           {
            "marker": {
             "colorbar": {
              "outlinewidth": 0,
              "ticks": ""
             }
            },
            "type": "scattercarpet"
           }
          ],
          "scattergeo": [
           {
            "marker": {
             "colorbar": {
              "outlinewidth": 0,
              "ticks": ""
             }
            },
            "type": "scattergeo"
           }
          ],
          "scattergl": [
           {
            "marker": {
             "colorbar": {
              "outlinewidth": 0,
              "ticks": ""
             }
            },
            "type": "scattergl"
           }
          ],
          "scattermapbox": [
           {
            "marker": {
             "colorbar": {
              "outlinewidth": 0,
              "ticks": ""
             }
            },
            "type": "scattermapbox"
           }
          ],
          "scatterpolar": [
           {
            "marker": {
             "colorbar": {
              "outlinewidth": 0,
              "ticks": ""
             }
            },
            "type": "scatterpolar"
           }
          ],
          "scatterpolargl": [
           {
            "marker": {
             "colorbar": {
              "outlinewidth": 0,
              "ticks": ""
             }
            },
            "type": "scatterpolargl"
           }
          ],
          "scatterternary": [
           {
            "marker": {
             "colorbar": {
              "outlinewidth": 0,
              "ticks": ""
             }
            },
            "type": "scatterternary"
           }
          ],
          "surface": [
           {
            "colorbar": {
             "outlinewidth": 0,
             "ticks": ""
            },
            "colorscale": [
             [
              0,
              "#0d0887"
             ],
             [
              0.1111111111111111,
              "#46039f"
             ],
             [
              0.2222222222222222,
              "#7201a8"
             ],
             [
              0.3333333333333333,
              "#9c179e"
             ],
             [
              0.4444444444444444,
              "#bd3786"
             ],
             [
              0.5555555555555556,
              "#d8576b"
             ],
             [
              0.6666666666666666,
              "#ed7953"
             ],
             [
              0.7777777777777778,
              "#fb9f3a"
             ],
             [
              0.8888888888888888,
              "#fdca26"
             ],
             [
              1,
              "#f0f921"
             ]
            ],
            "type": "surface"
           }
          ],
          "table": [
           {
            "cells": {
             "fill": {
              "color": "#EBF0F8"
             },
             "line": {
              "color": "white"
             }
            },
            "header": {
             "fill": {
              "color": "#C8D4E3"
             },
             "line": {
              "color": "white"
             }
            },
            "type": "table"
           }
          ]
         },
         "layout": {
          "annotationdefaults": {
           "arrowcolor": "#2a3f5f",
           "arrowhead": 0,
           "arrowwidth": 1
          },
          "autotypenumbers": "strict",
          "coloraxis": {
           "colorbar": {
            "outlinewidth": 0,
            "ticks": ""
           }
          },
          "colorscale": {
           "diverging": [
            [
             0,
             "#8e0152"
            ],
            [
             0.1,
             "#c51b7d"
            ],
            [
             0.2,
             "#de77ae"
            ],
            [
             0.3,
             "#f1b6da"
            ],
            [
             0.4,
             "#fde0ef"
            ],
            [
             0.5,
             "#f7f7f7"
            ],
            [
             0.6,
             "#e6f5d0"
            ],
            [
             0.7,
             "#b8e186"
            ],
            [
             0.8,
             "#7fbc41"
            ],
            [
             0.9,
             "#4d9221"
            ],
            [
             1,
             "#276419"
            ]
           ],
           "sequential": [
            [
             0,
             "#0d0887"
            ],
            [
             0.1111111111111111,
             "#46039f"
            ],
            [
             0.2222222222222222,
             "#7201a8"
            ],
            [
             0.3333333333333333,
             "#9c179e"
            ],
            [
             0.4444444444444444,
             "#bd3786"
            ],
            [
             0.5555555555555556,
             "#d8576b"
            ],
            [
             0.6666666666666666,
             "#ed7953"
            ],
            [
             0.7777777777777778,
             "#fb9f3a"
            ],
            [
             0.8888888888888888,
             "#fdca26"
            ],
            [
             1,
             "#f0f921"
            ]
           ],
           "sequentialminus": [
            [
             0,
             "#0d0887"
            ],
            [
             0.1111111111111111,
             "#46039f"
            ],
            [
             0.2222222222222222,
             "#7201a8"
            ],
            [
             0.3333333333333333,
             "#9c179e"
            ],
            [
             0.4444444444444444,
             "#bd3786"
            ],
            [
             0.5555555555555556,
             "#d8576b"
            ],
            [
             0.6666666666666666,
             "#ed7953"
            ],
            [
             0.7777777777777778,
             "#fb9f3a"
            ],
            [
             0.8888888888888888,
             "#fdca26"
            ],
            [
             1,
             "#f0f921"
            ]
           ]
          },
          "colorway": [
           "#636efa",
           "#EF553B",
           "#00cc96",
           "#ab63fa",
           "#FFA15A",
           "#19d3f3",
           "#FF6692",
           "#B6E880",
           "#FF97FF",
           "#FECB52"
          ],
          "font": {
           "color": "#2a3f5f"
          },
          "geo": {
           "bgcolor": "white",
           "lakecolor": "white",
           "landcolor": "#E5ECF6",
           "showlakes": true,
           "showland": true,
           "subunitcolor": "white"
          },
          "hoverlabel": {
           "align": "left"
          },
          "hovermode": "closest",
          "mapbox": {
           "style": "light"
          },
          "paper_bgcolor": "white",
          "plot_bgcolor": "#E5ECF6",
          "polar": {
           "angularaxis": {
            "gridcolor": "white",
            "linecolor": "white",
            "ticks": ""
           },
           "bgcolor": "#E5ECF6",
           "radialaxis": {
            "gridcolor": "white",
            "linecolor": "white",
            "ticks": ""
           }
          },
          "scene": {
           "xaxis": {
            "backgroundcolor": "#E5ECF6",
            "gridcolor": "white",
            "gridwidth": 2,
            "linecolor": "white",
            "showbackground": true,
            "ticks": "",
            "zerolinecolor": "white"
           },
           "yaxis": {
            "backgroundcolor": "#E5ECF6",
            "gridcolor": "white",
            "gridwidth": 2,
            "linecolor": "white",
            "showbackground": true,
            "ticks": "",
            "zerolinecolor": "white"
           },
           "zaxis": {
            "backgroundcolor": "#E5ECF6",
            "gridcolor": "white",
            "gridwidth": 2,
            "linecolor": "white",
            "showbackground": true,
            "ticks": "",
            "zerolinecolor": "white"
           }
          },
          "shapedefaults": {
           "line": {
            "color": "#2a3f5f"
           }
          },
          "ternary": {
           "aaxis": {
            "gridcolor": "white",
            "linecolor": "white",
            "ticks": ""
           },
           "baxis": {
            "gridcolor": "white",
            "linecolor": "white",
            "ticks": ""
           },
           "bgcolor": "#E5ECF6",
           "caxis": {
            "gridcolor": "white",
            "linecolor": "white",
            "ticks": ""
           }
          },
          "title": {
           "x": 0.05
          },
          "xaxis": {
           "automargin": true,
           "gridcolor": "white",
           "linecolor": "white",
           "ticks": "",
           "title": {
            "standoff": 15
           },
           "zerolinecolor": "white",
           "zerolinewidth": 2
          },
          "yaxis": {
           "automargin": true,
           "gridcolor": "white",
           "linecolor": "white",
           "ticks": "",
           "title": {
            "standoff": 15
           },
           "zerolinecolor": "white",
           "zerolinewidth": 2
          }
         }
        },
        "title": {
         "text": "Runs scored by RG Sharma"
        },
        "xaxis": {
         "anchor": "y",
         "categoryarray": [
          "Arun Jaitley Stadium",
          "Eden Gardens",
          "M.Chinnaswamy Stadium",
          "MA Chidambaram Stadium",
          "Punjab Cricket Association IS Bindra Stadium",
          "Rajiv Gandhi International Stadium",
          "Sawai Mansingh Stadium",
          "Wankhede Stadium"
         ],
         "categoryorder": "array",
         "domain": [
          0,
          1
         ],
         "title": {
          "text": "venue"
         }
        },
        "yaxis": {
         "anchor": "x",
         "domain": [
          0,
          1
         ],
         "title": {
          "text": "runs scored at that venue"
         }
        }
       }
      }
     },
     "metadata": {},
     "output_type": "display_data"
    }
   ],
   "source": [
    "import plotly.express as px\n",
    "\n",
    "# Filter the dataframe to only include Yuvraj Singh's data at all venues\n",
    "yuvi_df = final_df[(final_df['player'] == 'RG Sharma')]\n",
    "\n",
    "yuvi_df = yuvi_df.reset_index()\n",
    "\n",
    "#print(batting_avg_df)\n",
    "#print(yuvi_df)\n",
    "\n",
    "\n",
    "yuvi_df= yuvi_df.rename(columns={0: 'battingaverage'})\n",
    "\n",
    "#print(yuvi_df)\n",
    "\n",
    "\n",
    "# Create a bar chart of runs scored at each venue\n",
    "fig = px.bar(yuvi_df, x='venue', y='runs scored at that venue', color='venue', title='Runs scored by RG Sharma')\n",
    "fig.show()\n"
   ]
  },
  {
   "cell_type": "code",
   "execution_count": 6,
   "id": "16c003cb",
   "metadata": {},
   "outputs": [
    {
     "data": {
      "application/vnd.plotly.v1+json": {
       "config": {
        "plotlyServerURL": "https://plot.ly"
       },
       "data": [
        {
         "alignmentgroup": "True",
         "hovertemplate": "Venue=%{x}<br>battingaverage=%{y}<extra></extra>",
         "legendgroup": "Arun Jaitley Stadium",
         "marker": {
          "color": "#636efa",
          "pattern": {
           "shape": ""
          }
         },
         "name": "Arun Jaitley Stadium",
         "offsetgroup": "Arun Jaitley Stadium",
         "orientation": "v",
         "showlegend": true,
         "textposition": "auto",
         "type": "bar",
         "x": [
          "Arun Jaitley Stadium"
         ],
         "xaxis": "x",
         "y": [
          30
         ],
         "yaxis": "y"
        },
        {
         "alignmentgroup": "True",
         "hovertemplate": "Venue=%{x}<br>battingaverage=%{y}<extra></extra>",
         "legendgroup": "Eden Gardens",
         "marker": {
          "color": "#EF553B",
          "pattern": {
           "shape": ""
          }
         },
         "name": "Eden Gardens",
         "offsetgroup": "Eden Gardens",
         "orientation": "v",
         "showlegend": true,
         "textposition": "auto",
         "type": "bar",
         "x": [
          "Eden Gardens"
         ],
         "xaxis": "x",
         "y": [
          12
         ],
         "yaxis": "y"
        },
        {
         "alignmentgroup": "True",
         "hovertemplate": "Venue=%{x}<br>battingaverage=%{y}<extra></extra>",
         "legendgroup": "M.Chinnaswamy Stadium",
         "marker": {
          "color": "#00cc96",
          "pattern": {
           "shape": ""
          }
         },
         "name": "M.Chinnaswamy Stadium",
         "offsetgroup": "M.Chinnaswamy Stadium",
         "orientation": "v",
         "showlegend": true,
         "textposition": "auto",
         "type": "bar",
         "x": [
          "M.Chinnaswamy Stadium"
         ],
         "xaxis": "x",
         "y": [
          48
         ],
         "yaxis": "y"
        },
        {
         "alignmentgroup": "True",
         "hovertemplate": "Venue=%{x}<br>battingaverage=%{y}<extra></extra>",
         "legendgroup": "MA Chidambaram Stadium",
         "marker": {
          "color": "#ab63fa",
          "pattern": {
           "shape": ""
          }
         },
         "name": "MA Chidambaram Stadium",
         "offsetgroup": "MA Chidambaram Stadium",
         "orientation": "v",
         "showlegend": true,
         "textposition": "auto",
         "type": "bar",
         "x": [
          "MA Chidambaram Stadium"
         ],
         "xaxis": "x",
         "y": [
          35.5
         ],
         "yaxis": "y"
        },
        {
         "alignmentgroup": "True",
         "hovertemplate": "Venue=%{x}<br>battingaverage=%{y}<extra></extra>",
         "legendgroup": "Punjab Cricket Association IS Bindra Stadium",
         "marker": {
          "color": "#FFA15A",
          "pattern": {
           "shape": ""
          }
         },
         "name": "Punjab Cricket Association IS Bindra Stadium",
         "offsetgroup": "Punjab Cricket Association IS Bindra Stadium",
         "orientation": "v",
         "showlegend": true,
         "textposition": "auto",
         "type": "bar",
         "x": [
          "Punjab Cricket Association IS Bindra Stadium"
         ],
         "xaxis": "x",
         "y": [
          32
         ],
         "yaxis": "y"
        },
        {
         "alignmentgroup": "True",
         "hovertemplate": "Venue=%{x}<br>battingaverage=%{y}<extra></extra>",
         "legendgroup": "Rajiv Gandhi International Stadium",
         "marker": {
          "color": "#19d3f3",
          "pattern": {
           "shape": ""
          }
         },
         "name": "Rajiv Gandhi International Stadium",
         "offsetgroup": "Rajiv Gandhi International Stadium",
         "orientation": "v",
         "showlegend": true,
         "textposition": "auto",
         "type": "bar",
         "x": [
          "Rajiv Gandhi International Stadium"
         ],
         "xaxis": "x",
         "y": [
          13
         ],
         "yaxis": "y"
        },
        {
         "alignmentgroup": "True",
         "hovertemplate": "Venue=%{x}<br>battingaverage=%{y}<extra></extra>",
         "legendgroup": "Sawai Mansingh Stadium",
         "marker": {
          "color": "#FF6692",
          "pattern": {
           "shape": ""
          }
         },
         "name": "Sawai Mansingh Stadium",
         "offsetgroup": "Sawai Mansingh Stadium",
         "orientation": "v",
         "showlegend": true,
         "textposition": "auto",
         "type": "bar",
         "x": [
          "Sawai Mansingh Stadium"
         ],
         "xaxis": "x",
         "y": [
          5
         ],
         "yaxis": "y"
        },
        {
         "alignmentgroup": "True",
         "hovertemplate": "Venue=%{x}<br>battingaverage=%{y}<extra></extra>",
         "legendgroup": "Wankhede Stadium",
         "marker": {
          "color": "#B6E880",
          "pattern": {
           "shape": ""
          }
         },
         "name": "Wankhede Stadium",
         "offsetgroup": "Wankhede Stadium",
         "orientation": "v",
         "showlegend": true,
         "textposition": "auto",
         "type": "bar",
         "x": [
          "Wankhede Stadium"
         ],
         "xaxis": "x",
         "y": [
          36.2
         ],
         "yaxis": "y"
        }
       ],
       "layout": {
        "barmode": "relative",
        "legend": {
         "title": {
          "text": "Venue"
         },
         "tracegroupgap": 0
        },
        "template": {
         "data": {
          "bar": [
           {
            "error_x": {
             "color": "#2a3f5f"
            },
            "error_y": {
             "color": "#2a3f5f"
            },
            "marker": {
             "line": {
              "color": "#E5ECF6",
              "width": 0.5
             },
             "pattern": {
              "fillmode": "overlay",
              "size": 10,
              "solidity": 0.2
             }
            },
            "type": "bar"
           }
          ],
          "barpolar": [
           {
            "marker": {
             "line": {
              "color": "#E5ECF6",
              "width": 0.5
             },
             "pattern": {
              "fillmode": "overlay",
              "size": 10,
              "solidity": 0.2
             }
            },
            "type": "barpolar"
           }
          ],
          "carpet": [
           {
            "aaxis": {
             "endlinecolor": "#2a3f5f",
             "gridcolor": "white",
             "linecolor": "white",
             "minorgridcolor": "white",
             "startlinecolor": "#2a3f5f"
            },
            "baxis": {
             "endlinecolor": "#2a3f5f",
             "gridcolor": "white",
             "linecolor": "white",
             "minorgridcolor": "white",
             "startlinecolor": "#2a3f5f"
            },
            "type": "carpet"
           }
          ],
          "choropleth": [
           {
            "colorbar": {
             "outlinewidth": 0,
             "ticks": ""
            },
            "type": "choropleth"
           }
          ],
          "contour": [
           {
            "colorbar": {
             "outlinewidth": 0,
             "ticks": ""
            },
            "colorscale": [
             [
              0,
              "#0d0887"
             ],
             [
              0.1111111111111111,
              "#46039f"
             ],
             [
              0.2222222222222222,
              "#7201a8"
             ],
             [
              0.3333333333333333,
              "#9c179e"
             ],
             [
              0.4444444444444444,
              "#bd3786"
             ],
             [
              0.5555555555555556,
              "#d8576b"
             ],
             [
              0.6666666666666666,
              "#ed7953"
             ],
             [
              0.7777777777777778,
              "#fb9f3a"
             ],
             [
              0.8888888888888888,
              "#fdca26"
             ],
             [
              1,
              "#f0f921"
             ]
            ],
            "type": "contour"
           }
          ],
          "contourcarpet": [
           {
            "colorbar": {
             "outlinewidth": 0,
             "ticks": ""
            },
            "type": "contourcarpet"
           }
          ],
          "heatmap": [
           {
            "colorbar": {
             "outlinewidth": 0,
             "ticks": ""
            },
            "colorscale": [
             [
              0,
              "#0d0887"
             ],
             [
              0.1111111111111111,
              "#46039f"
             ],
             [
              0.2222222222222222,
              "#7201a8"
             ],
             [
              0.3333333333333333,
              "#9c179e"
             ],
             [
              0.4444444444444444,
              "#bd3786"
             ],
             [
              0.5555555555555556,
              "#d8576b"
             ],
             [
              0.6666666666666666,
              "#ed7953"
             ],
             [
              0.7777777777777778,
              "#fb9f3a"
             ],
             [
              0.8888888888888888,
              "#fdca26"
             ],
             [
              1,
              "#f0f921"
             ]
            ],
            "type": "heatmap"
           }
          ],
          "heatmapgl": [
           {
            "colorbar": {
             "outlinewidth": 0,
             "ticks": ""
            },
            "colorscale": [
             [
              0,
              "#0d0887"
             ],
             [
              0.1111111111111111,
              "#46039f"
             ],
             [
              0.2222222222222222,
              "#7201a8"
             ],
             [
              0.3333333333333333,
              "#9c179e"
             ],
             [
              0.4444444444444444,
              "#bd3786"
             ],
             [
              0.5555555555555556,
              "#d8576b"
             ],
             [
              0.6666666666666666,
              "#ed7953"
             ],
             [
              0.7777777777777778,
              "#fb9f3a"
             ],
             [
              0.8888888888888888,
              "#fdca26"
             ],
             [
              1,
              "#f0f921"
             ]
            ],
            "type": "heatmapgl"
           }
          ],
          "histogram": [
           {
            "marker": {
             "pattern": {
              "fillmode": "overlay",
              "size": 10,
              "solidity": 0.2
             }
            },
            "type": "histogram"
           }
          ],
          "histogram2d": [
           {
            "colorbar": {
             "outlinewidth": 0,
             "ticks": ""
            },
            "colorscale": [
             [
              0,
              "#0d0887"
             ],
             [
              0.1111111111111111,
              "#46039f"
             ],
             [
              0.2222222222222222,
              "#7201a8"
             ],
             [
              0.3333333333333333,
              "#9c179e"
             ],
             [
              0.4444444444444444,
              "#bd3786"
             ],
             [
              0.5555555555555556,
              "#d8576b"
             ],
             [
              0.6666666666666666,
              "#ed7953"
             ],
             [
              0.7777777777777778,
              "#fb9f3a"
             ],
             [
              0.8888888888888888,
              "#fdca26"
             ],
             [
              1,
              "#f0f921"
             ]
            ],
            "type": "histogram2d"
           }
          ],
          "histogram2dcontour": [
           {
            "colorbar": {
             "outlinewidth": 0,
             "ticks": ""
            },
            "colorscale": [
             [
              0,
              "#0d0887"
             ],
             [
              0.1111111111111111,
              "#46039f"
             ],
             [
              0.2222222222222222,
              "#7201a8"
             ],
             [
              0.3333333333333333,
              "#9c179e"
             ],
             [
              0.4444444444444444,
              "#bd3786"
             ],
             [
              0.5555555555555556,
              "#d8576b"
             ],
             [
              0.6666666666666666,
              "#ed7953"
             ],
             [
              0.7777777777777778,
              "#fb9f3a"
             ],
             [
              0.8888888888888888,
              "#fdca26"
             ],
             [
              1,
              "#f0f921"
             ]
            ],
            "type": "histogram2dcontour"
           }
          ],
          "mesh3d": [
           {
            "colorbar": {
             "outlinewidth": 0,
             "ticks": ""
            },
            "type": "mesh3d"
           }
          ],
          "parcoords": [
           {
            "line": {
             "colorbar": {
              "outlinewidth": 0,
              "ticks": ""
             }
            },
            "type": "parcoords"
           }
          ],
          "pie": [
           {
            "automargin": true,
            "type": "pie"
           }
          ],
          "scatter": [
           {
            "fillpattern": {
             "fillmode": "overlay",
             "size": 10,
             "solidity": 0.2
            },
            "type": "scatter"
           }
          ],
          "scatter3d": [
           {
            "line": {
             "colorbar": {
              "outlinewidth": 0,
              "ticks": ""
             }
            },
            "marker": {
             "colorbar": {
              "outlinewidth": 0,
              "ticks": ""
             }
            },
            "type": "scatter3d"
           }
          ],
          "scattercarpet": [
           {
            "marker": {
             "colorbar": {
              "outlinewidth": 0,
              "ticks": ""
             }
            },
            "type": "scattercarpet"
           }
          ],
          "scattergeo": [
           {
            "marker": {
             "colorbar": {
              "outlinewidth": 0,
              "ticks": ""
             }
            },
            "type": "scattergeo"
           }
          ],
          "scattergl": [
           {
            "marker": {
             "colorbar": {
              "outlinewidth": 0,
              "ticks": ""
             }
            },
            "type": "scattergl"
           }
          ],
          "scattermapbox": [
           {
            "marker": {
             "colorbar": {
              "outlinewidth": 0,
              "ticks": ""
             }
            },
            "type": "scattermapbox"
           }
          ],
          "scatterpolar": [
           {
            "marker": {
             "colorbar": {
              "outlinewidth": 0,
              "ticks": ""
             }
            },
            "type": "scatterpolar"
           }
          ],
          "scatterpolargl": [
           {
            "marker": {
             "colorbar": {
              "outlinewidth": 0,
              "ticks": ""
             }
            },
            "type": "scatterpolargl"
           }
          ],
          "scatterternary": [
           {
            "marker": {
             "colorbar": {
              "outlinewidth": 0,
              "ticks": ""
             }
            },
            "type": "scatterternary"
           }
          ],
          "surface": [
           {
            "colorbar": {
             "outlinewidth": 0,
             "ticks": ""
            },
            "colorscale": [
             [
              0,
              "#0d0887"
             ],
             [
              0.1111111111111111,
              "#46039f"
             ],
             [
              0.2222222222222222,
              "#7201a8"
             ],
             [
              0.3333333333333333,
              "#9c179e"
             ],
             [
              0.4444444444444444,
              "#bd3786"
             ],
             [
              0.5555555555555556,
              "#d8576b"
             ],
             [
              0.6666666666666666,
              "#ed7953"
             ],
             [
              0.7777777777777778,
              "#fb9f3a"
             ],
             [
              0.8888888888888888,
              "#fdca26"
             ],
             [
              1,
              "#f0f921"
             ]
            ],
            "type": "surface"
           }
          ],
          "table": [
           {
            "cells": {
             "fill": {
              "color": "#EBF0F8"
             },
             "line": {
              "color": "white"
             }
            },
            "header": {
             "fill": {
              "color": "#C8D4E3"
             },
             "line": {
              "color": "white"
             }
            },
            "type": "table"
           }
          ]
         },
         "layout": {
          "annotationdefaults": {
           "arrowcolor": "#2a3f5f",
           "arrowhead": 0,
           "arrowwidth": 1
          },
          "autotypenumbers": "strict",
          "coloraxis": {
           "colorbar": {
            "outlinewidth": 0,
            "ticks": ""
           }
          },
          "colorscale": {
           "diverging": [
            [
             0,
             "#8e0152"
            ],
            [
             0.1,
             "#c51b7d"
            ],
            [
             0.2,
             "#de77ae"
            ],
            [
             0.3,
             "#f1b6da"
            ],
            [
             0.4,
             "#fde0ef"
            ],
            [
             0.5,
             "#f7f7f7"
            ],
            [
             0.6,
             "#e6f5d0"
            ],
            [
             0.7,
             "#b8e186"
            ],
            [
             0.8,
             "#7fbc41"
            ],
            [
             0.9,
             "#4d9221"
            ],
            [
             1,
             "#276419"
            ]
           ],
           "sequential": [
            [
             0,
             "#0d0887"
            ],
            [
             0.1111111111111111,
             "#46039f"
            ],
            [
             0.2222222222222222,
             "#7201a8"
            ],
            [
             0.3333333333333333,
             "#9c179e"
            ],
            [
             0.4444444444444444,
             "#bd3786"
            ],
            [
             0.5555555555555556,
             "#d8576b"
            ],
            [
             0.6666666666666666,
             "#ed7953"
            ],
            [
             0.7777777777777778,
             "#fb9f3a"
            ],
            [
             0.8888888888888888,
             "#fdca26"
            ],
            [
             1,
             "#f0f921"
            ]
           ],
           "sequentialminus": [
            [
             0,
             "#0d0887"
            ],
            [
             0.1111111111111111,
             "#46039f"
            ],
            [
             0.2222222222222222,
             "#7201a8"
            ],
            [
             0.3333333333333333,
             "#9c179e"
            ],
            [
             0.4444444444444444,
             "#bd3786"
            ],
            [
             0.5555555555555556,
             "#d8576b"
            ],
            [
             0.6666666666666666,
             "#ed7953"
            ],
            [
             0.7777777777777778,
             "#fb9f3a"
            ],
            [
             0.8888888888888888,
             "#fdca26"
            ],
            [
             1,
             "#f0f921"
            ]
           ]
          },
          "colorway": [
           "#636efa",
           "#EF553B",
           "#00cc96",
           "#ab63fa",
           "#FFA15A",
           "#19d3f3",
           "#FF6692",
           "#B6E880",
           "#FF97FF",
           "#FECB52"
          ],
          "font": {
           "color": "#2a3f5f"
          },
          "geo": {
           "bgcolor": "white",
           "lakecolor": "white",
           "landcolor": "#E5ECF6",
           "showlakes": true,
           "showland": true,
           "subunitcolor": "white"
          },
          "hoverlabel": {
           "align": "left"
          },
          "hovermode": "closest",
          "mapbox": {
           "style": "light"
          },
          "paper_bgcolor": "white",
          "plot_bgcolor": "#E5ECF6",
          "polar": {
           "angularaxis": {
            "gridcolor": "white",
            "linecolor": "white",
            "ticks": ""
           },
           "bgcolor": "#E5ECF6",
           "radialaxis": {
            "gridcolor": "white",
            "linecolor": "white",
            "ticks": ""
           }
          },
          "scene": {
           "xaxis": {
            "backgroundcolor": "#E5ECF6",
            "gridcolor": "white",
            "gridwidth": 2,
            "linecolor": "white",
            "showbackground": true,
            "ticks": "",
            "zerolinecolor": "white"
           },
           "yaxis": {
            "backgroundcolor": "#E5ECF6",
            "gridcolor": "white",
            "gridwidth": 2,
            "linecolor": "white",
            "showbackground": true,
            "ticks": "",
            "zerolinecolor": "white"
           },
           "zaxis": {
            "backgroundcolor": "#E5ECF6",
            "gridcolor": "white",
            "gridwidth": 2,
            "linecolor": "white",
            "showbackground": true,
            "ticks": "",
            "zerolinecolor": "white"
           }
          },
          "shapedefaults": {
           "line": {
            "color": "#2a3f5f"
           }
          },
          "ternary": {
           "aaxis": {
            "gridcolor": "white",
            "linecolor": "white",
            "ticks": ""
           },
           "baxis": {
            "gridcolor": "white",
            "linecolor": "white",
            "ticks": ""
           },
           "bgcolor": "#E5ECF6",
           "caxis": {
            "gridcolor": "white",
            "linecolor": "white",
            "ticks": ""
           }
          },
          "title": {
           "x": 0.05
          },
          "xaxis": {
           "automargin": true,
           "gridcolor": "white",
           "linecolor": "white",
           "ticks": "",
           "title": {
            "standoff": 15
           },
           "zerolinecolor": "white",
           "zerolinewidth": 2
          },
          "yaxis": {
           "automargin": true,
           "gridcolor": "white",
           "linecolor": "white",
           "ticks": "",
           "title": {
            "standoff": 15
           },
           "zerolinecolor": "white",
           "zerolinewidth": 2
          }
         }
        },
        "title": {
         "text": "Batting average for RG Sharma"
        },
        "xaxis": {
         "anchor": "y",
         "categoryarray": [
          "Arun Jaitley Stadium",
          "Eden Gardens",
          "M.Chinnaswamy Stadium",
          "MA Chidambaram Stadium",
          "Punjab Cricket Association IS Bindra Stadium",
          "Rajiv Gandhi International Stadium",
          "Sawai Mansingh Stadium",
          "Wankhede Stadium"
         ],
         "categoryorder": "array",
         "domain": [
          0,
          1
         ],
         "title": {
          "text": "Venue"
         }
        },
        "yaxis": {
         "anchor": "x",
         "domain": [
          0,
          1
         ],
         "title": {
          "text": "battingaverage"
         }
        }
       }
      }
     },
     "metadata": {},
     "output_type": "display_data"
    }
   ],
   "source": [
    "import pandas as pd\n",
    "import matplotlib.pyplot as plt\n",
    "import plotly.express as px\n",
    "\n",
    "# Read in the data\n",
    "df = pd.read_csv('data/2019_ipl_ball_by_ball.csv')\n",
    "\n",
    "# Filter the data for Yuvraj Singh only\n",
    "yuvi_df = df[df['batter'] == 'RG Sharma']\n",
    "\n",
    "# Calculate the batting average at each venue for Yuvraj Singh\n",
    "batting_avg_df = yuvi_df.groupby(['Venue'])['batsman_run'].sum() / yuvi_df.groupby(['Venue'])['player_out'].count()\n",
    "\n",
    "batting_avg_df = batting_avg_df.reset_index()\n",
    "\n",
    "#print(batting_avg_df)\n",
    "\n",
    "batting_avg_df = batting_avg_df.rename(columns={0: 'battingaverage'})\n",
    "\n",
    "#print(batting_avg_df)\n",
    "\n",
    "\n",
    "# Create the Plotly graph\n",
    "fig = px.bar(batting_avg_df, x='Venue', y='battingaverage', color='Venue', title='Batting average for RG Sharma')\n",
    "fig.show()\n",
    "\n",
    "# # Plot the batting average at each venue for Yuvraj Singh\n",
    "# plt.bar(batting_avg_df.index, batting_avg_df.values)\n",
    "# plt.title(\"Batting Average for Yuvraj Singh at Each Venue\")\n",
    "# plt.xlabel(\"Venue\")\n",
    "# plt.ylabel(\"Batting Average\")\n",
    "# plt.xticks(rotation=90)\n",
    "\n",
    "# plt.show()\n"
   ]
  },
  {
   "cell_type": "code",
   "execution_count": 7,
   "id": "05fe2f15",
   "metadata": {},
   "outputs": [
    {
     "data": {
      "application/vnd.plotly.v1+json": {
       "config": {
        "plotlyServerURL": "https://plot.ly"
       },
       "data": [
        {
         "alignmentgroup": "True",
         "hovertemplate": "Venue=%{x}<br>battingstrikerate=%{y}<extra></extra>",
         "legendgroup": "Arun Jaitley Stadium",
         "marker": {
          "color": "#636efa",
          "pattern": {
           "shape": ""
          }
         },
         "name": "Arun Jaitley Stadium",
         "offsetgroup": "Arun Jaitley Stadium",
         "orientation": "v",
         "showlegend": true,
         "textposition": "auto",
         "type": "bar",
         "x": [
          "Arun Jaitley Stadium"
         ],
         "xaxis": "x",
         "y": [
          136.36363636363635
         ],
         "yaxis": "y"
        },
        {
         "alignmentgroup": "True",
         "hovertemplate": "Venue=%{x}<br>battingstrikerate=%{y}<extra></extra>",
         "legendgroup": "Eden Gardens",
         "marker": {
          "color": "#EF553B",
          "pattern": {
           "shape": ""
          }
         },
         "name": "Eden Gardens",
         "offsetgroup": "Eden Gardens",
         "orientation": "v",
         "showlegend": true,
         "textposition": "auto",
         "type": "bar",
         "x": [
          "Eden Gardens"
         ],
         "xaxis": "x",
         "y": [
          133.33333333333331
         ],
         "yaxis": "y"
        },
        {
         "alignmentgroup": "True",
         "hovertemplate": "Venue=%{x}<br>battingstrikerate=%{y}<extra></extra>",
         "legendgroup": "M.Chinnaswamy Stadium",
         "marker": {
          "color": "#00cc96",
          "pattern": {
           "shape": ""
          }
         },
         "name": "M.Chinnaswamy Stadium",
         "offsetgroup": "M.Chinnaswamy Stadium",
         "orientation": "v",
         "showlegend": true,
         "textposition": "auto",
         "type": "bar",
         "x": [
          "M.Chinnaswamy Stadium"
         ],
         "xaxis": "x",
         "y": [
          145.45454545454547
         ],
         "yaxis": "y"
        },
        {
         "alignmentgroup": "True",
         "hovertemplate": "Venue=%{x}<br>battingstrikerate=%{y}<extra></extra>",
         "legendgroup": "MA Chidambaram Stadium",
         "marker": {
          "color": "#ab63fa",
          "pattern": {
           "shape": ""
          }
         },
         "name": "MA Chidambaram Stadium",
         "offsetgroup": "MA Chidambaram Stadium",
         "orientation": "v",
         "showlegend": true,
         "textposition": "auto",
         "type": "bar",
         "x": [
          "MA Chidambaram Stadium"
         ],
         "xaxis": "x",
         "y": [
          142
         ],
         "yaxis": "y"
        },
        {
         "alignmentgroup": "True",
         "hovertemplate": "Venue=%{x}<br>battingstrikerate=%{y}<extra></extra>",
         "legendgroup": "Punjab Cricket Association IS Bindra Stadium",
         "marker": {
          "color": "#FFA15A",
          "pattern": {
           "shape": ""
          }
         },
         "name": "Punjab Cricket Association IS Bindra Stadium",
         "offsetgroup": "Punjab Cricket Association IS Bindra Stadium",
         "orientation": "v",
         "showlegend": true,
         "textposition": "auto",
         "type": "bar",
         "x": [
          "Punjab Cricket Association IS Bindra Stadium"
         ],
         "xaxis": "x",
         "y": [
          177.77777777777777
         ],
         "yaxis": "y"
        },
        {
         "alignmentgroup": "True",
         "hovertemplate": "Venue=%{x}<br>battingstrikerate=%{y}<extra></extra>",
         "legendgroup": "Rajiv Gandhi International Stadium",
         "marker": {
          "color": "#19d3f3",
          "pattern": {
           "shape": ""
          }
         },
         "name": "Rajiv Gandhi International Stadium",
         "offsetgroup": "Rajiv Gandhi International Stadium",
         "orientation": "v",
         "showlegend": true,
         "textposition": "auto",
         "type": "bar",
         "x": [
          "Rajiv Gandhi International Stadium"
         ],
         "xaxis": "x",
         "y": [
          92.85714285714286
         ],
         "yaxis": "y"
        },
        {
         "alignmentgroup": "True",
         "hovertemplate": "Venue=%{x}<br>battingstrikerate=%{y}<extra></extra>",
         "legendgroup": "Sawai Mansingh Stadium",
         "marker": {
          "color": "#FF6692",
          "pattern": {
           "shape": ""
          }
         },
         "name": "Sawai Mansingh Stadium",
         "offsetgroup": "Sawai Mansingh Stadium",
         "orientation": "v",
         "showlegend": true,
         "textposition": "auto",
         "type": "bar",
         "x": [
          "Sawai Mansingh Stadium"
         ],
         "xaxis": "x",
         "y": [
          71.42857142857143
         ],
         "yaxis": "y"
        },
        {
         "alignmentgroup": "True",
         "hovertemplate": "Venue=%{x}<br>battingstrikerate=%{y}<extra></extra>",
         "legendgroup": "Wankhede Stadium",
         "marker": {
          "color": "#B6E880",
          "pattern": {
           "shape": ""
          }
         },
         "name": "Wankhede Stadium",
         "offsetgroup": "Wankhede Stadium",
         "orientation": "v",
         "showlegend": true,
         "textposition": "auto",
         "type": "bar",
         "x": [
          "Wankhede Stadium"
         ],
         "xaxis": "x",
         "y": [
          119.07894736842107
         ],
         "yaxis": "y"
        }
       ],
       "layout": {
        "barmode": "relative",
        "legend": {
         "title": {
          "text": "Venue"
         },
         "tracegroupgap": 0
        },
        "template": {
         "data": {
          "bar": [
           {
            "error_x": {
             "color": "#2a3f5f"
            },
            "error_y": {
             "color": "#2a3f5f"
            },
            "marker": {
             "line": {
              "color": "#E5ECF6",
              "width": 0.5
             },
             "pattern": {
              "fillmode": "overlay",
              "size": 10,
              "solidity": 0.2
             }
            },
            "type": "bar"
           }
          ],
          "barpolar": [
           {
            "marker": {
             "line": {
              "color": "#E5ECF6",
              "width": 0.5
             },
             "pattern": {
              "fillmode": "overlay",
              "size": 10,
              "solidity": 0.2
             }
            },
            "type": "barpolar"
           }
          ],
          "carpet": [
           {
            "aaxis": {
             "endlinecolor": "#2a3f5f",
             "gridcolor": "white",
             "linecolor": "white",
             "minorgridcolor": "white",
             "startlinecolor": "#2a3f5f"
            },
            "baxis": {
             "endlinecolor": "#2a3f5f",
             "gridcolor": "white",
             "linecolor": "white",
             "minorgridcolor": "white",
             "startlinecolor": "#2a3f5f"
            },
            "type": "carpet"
           }
          ],
          "choropleth": [
           {
            "colorbar": {
             "outlinewidth": 0,
             "ticks": ""
            },
            "type": "choropleth"
           }
          ],
          "contour": [
           {
            "colorbar": {
             "outlinewidth": 0,
             "ticks": ""
            },
            "colorscale": [
             [
              0,
              "#0d0887"
             ],
             [
              0.1111111111111111,
              "#46039f"
             ],
             [
              0.2222222222222222,
              "#7201a8"
             ],
             [
              0.3333333333333333,
              "#9c179e"
             ],
             [
              0.4444444444444444,
              "#bd3786"
             ],
             [
              0.5555555555555556,
              "#d8576b"
             ],
             [
              0.6666666666666666,
              "#ed7953"
             ],
             [
              0.7777777777777778,
              "#fb9f3a"
             ],
             [
              0.8888888888888888,
              "#fdca26"
             ],
             [
              1,
              "#f0f921"
             ]
            ],
            "type": "contour"
           }
          ],
          "contourcarpet": [
           {
            "colorbar": {
             "outlinewidth": 0,
             "ticks": ""
            },
            "type": "contourcarpet"
           }
          ],
          "heatmap": [
           {
            "colorbar": {
             "outlinewidth": 0,
             "ticks": ""
            },
            "colorscale": [
             [
              0,
              "#0d0887"
             ],
             [
              0.1111111111111111,
              "#46039f"
             ],
             [
              0.2222222222222222,
              "#7201a8"
             ],
             [
              0.3333333333333333,
              "#9c179e"
             ],
             [
              0.4444444444444444,
              "#bd3786"
             ],
             [
              0.5555555555555556,
              "#d8576b"
             ],
             [
              0.6666666666666666,
              "#ed7953"
             ],
             [
              0.7777777777777778,
              "#fb9f3a"
             ],
             [
              0.8888888888888888,
              "#fdca26"
             ],
             [
              1,
              "#f0f921"
             ]
            ],
            "type": "heatmap"
           }
          ],
          "heatmapgl": [
           {
            "colorbar": {
             "outlinewidth": 0,
             "ticks": ""
            },
            "colorscale": [
             [
              0,
              "#0d0887"
             ],
             [
              0.1111111111111111,
              "#46039f"
             ],
             [
              0.2222222222222222,
              "#7201a8"
             ],
             [
              0.3333333333333333,
              "#9c179e"
             ],
             [
              0.4444444444444444,
              "#bd3786"
             ],
             [
              0.5555555555555556,
              "#d8576b"
             ],
             [
              0.6666666666666666,
              "#ed7953"
             ],
             [
              0.7777777777777778,
              "#fb9f3a"
             ],
             [
              0.8888888888888888,
              "#fdca26"
             ],
             [
              1,
              "#f0f921"
             ]
            ],
            "type": "heatmapgl"
           }
          ],
          "histogram": [
           {
            "marker": {
             "pattern": {
              "fillmode": "overlay",
              "size": 10,
              "solidity": 0.2
             }
            },
            "type": "histogram"
           }
          ],
          "histogram2d": [
           {
            "colorbar": {
             "outlinewidth": 0,
             "ticks": ""
            },
            "colorscale": [
             [
              0,
              "#0d0887"
             ],
             [
              0.1111111111111111,
              "#46039f"
             ],
             [
              0.2222222222222222,
              "#7201a8"
             ],
             [
              0.3333333333333333,
              "#9c179e"
             ],
             [
              0.4444444444444444,
              "#bd3786"
             ],
             [
              0.5555555555555556,
              "#d8576b"
             ],
             [
              0.6666666666666666,
              "#ed7953"
             ],
             [
              0.7777777777777778,
              "#fb9f3a"
             ],
             [
              0.8888888888888888,
              "#fdca26"
             ],
             [
              1,
              "#f0f921"
             ]
            ],
            "type": "histogram2d"
           }
          ],
          "histogram2dcontour": [
           {
            "colorbar": {
             "outlinewidth": 0,
             "ticks": ""
            },
            "colorscale": [
             [
              0,
              "#0d0887"
             ],
             [
              0.1111111111111111,
              "#46039f"
             ],
             [
              0.2222222222222222,
              "#7201a8"
             ],
             [
              0.3333333333333333,
              "#9c179e"
             ],
             [
              0.4444444444444444,
              "#bd3786"
             ],
             [
              0.5555555555555556,
              "#d8576b"
             ],
             [
              0.6666666666666666,
              "#ed7953"
             ],
             [
              0.7777777777777778,
              "#fb9f3a"
             ],
             [
              0.8888888888888888,
              "#fdca26"
             ],
             [
              1,
              "#f0f921"
             ]
            ],
            "type": "histogram2dcontour"
           }
          ],
          "mesh3d": [
           {
            "colorbar": {
             "outlinewidth": 0,
             "ticks": ""
            },
            "type": "mesh3d"
           }
          ],
          "parcoords": [
           {
            "line": {
             "colorbar": {
              "outlinewidth": 0,
              "ticks": ""
             }
            },
            "type": "parcoords"
           }
          ],
          "pie": [
           {
            "automargin": true,
            "type": "pie"
           }
          ],
          "scatter": [
           {
            "fillpattern": {
             "fillmode": "overlay",
             "size": 10,
             "solidity": 0.2
            },
            "type": "scatter"
           }
          ],
          "scatter3d": [
           {
            "line": {
             "colorbar": {
              "outlinewidth": 0,
              "ticks": ""
             }
            },
            "marker": {
             "colorbar": {
              "outlinewidth": 0,
              "ticks": ""
             }
            },
            "type": "scatter3d"
           }
          ],
          "scattercarpet": [
           {
            "marker": {
             "colorbar": {
              "outlinewidth": 0,
              "ticks": ""
             }
            },
            "type": "scattercarpet"
           }
          ],
          "scattergeo": [
           {
            "marker": {
             "colorbar": {
              "outlinewidth": 0,
              "ticks": ""
             }
            },
            "type": "scattergeo"
           }
          ],
          "scattergl": [
           {
            "marker": {
             "colorbar": {
              "outlinewidth": 0,
              "ticks": ""
             }
            },
            "type": "scattergl"
           }
          ],
          "scattermapbox": [
           {
            "marker": {
             "colorbar": {
              "outlinewidth": 0,
              "ticks": ""
             }
            },
            "type": "scattermapbox"
           }
          ],
          "scatterpolar": [
           {
            "marker": {
             "colorbar": {
              "outlinewidth": 0,
              "ticks": ""
             }
            },
            "type": "scatterpolar"
           }
          ],
          "scatterpolargl": [
           {
            "marker": {
             "colorbar": {
              "outlinewidth": 0,
              "ticks": ""
             }
            },
            "type": "scatterpolargl"
           }
          ],
          "scatterternary": [
           {
            "marker": {
             "colorbar": {
              "outlinewidth": 0,
              "ticks": ""
             }
            },
            "type": "scatterternary"
           }
          ],
          "surface": [
           {
            "colorbar": {
             "outlinewidth": 0,
             "ticks": ""
            },
            "colorscale": [
             [
              0,
              "#0d0887"
             ],
             [
              0.1111111111111111,
              "#46039f"
             ],
             [
              0.2222222222222222,
              "#7201a8"
             ],
             [
              0.3333333333333333,
              "#9c179e"
             ],
             [
              0.4444444444444444,
              "#bd3786"
             ],
             [
              0.5555555555555556,
              "#d8576b"
             ],
             [
              0.6666666666666666,
              "#ed7953"
             ],
             [
              0.7777777777777778,
              "#fb9f3a"
             ],
             [
              0.8888888888888888,
              "#fdca26"
             ],
             [
              1,
              "#f0f921"
             ]
            ],
            "type": "surface"
           }
          ],
          "table": [
           {
            "cells": {
             "fill": {
              "color": "#EBF0F8"
             },
             "line": {
              "color": "white"
             }
            },
            "header": {
             "fill": {
              "color": "#C8D4E3"
             },
             "line": {
              "color": "white"
             }
            },
            "type": "table"
           }
          ]
         },
         "layout": {
          "annotationdefaults": {
           "arrowcolor": "#2a3f5f",
           "arrowhead": 0,
           "arrowwidth": 1
          },
          "autotypenumbers": "strict",
          "coloraxis": {
           "colorbar": {
            "outlinewidth": 0,
            "ticks": ""
           }
          },
          "colorscale": {
           "diverging": [
            [
             0,
             "#8e0152"
            ],
            [
             0.1,
             "#c51b7d"
            ],
            [
             0.2,
             "#de77ae"
            ],
            [
             0.3,
             "#f1b6da"
            ],
            [
             0.4,
             "#fde0ef"
            ],
            [
             0.5,
             "#f7f7f7"
            ],
            [
             0.6,
             "#e6f5d0"
            ],
            [
             0.7,
             "#b8e186"
            ],
            [
             0.8,
             "#7fbc41"
            ],
            [
             0.9,
             "#4d9221"
            ],
            [
             1,
             "#276419"
            ]
           ],
           "sequential": [
            [
             0,
             "#0d0887"
            ],
            [
             0.1111111111111111,
             "#46039f"
            ],
            [
             0.2222222222222222,
             "#7201a8"
            ],
            [
             0.3333333333333333,
             "#9c179e"
            ],
            [
             0.4444444444444444,
             "#bd3786"
            ],
            [
             0.5555555555555556,
             "#d8576b"
            ],
            [
             0.6666666666666666,
             "#ed7953"
            ],
            [
             0.7777777777777778,
             "#fb9f3a"
            ],
            [
             0.8888888888888888,
             "#fdca26"
            ],
            [
             1,
             "#f0f921"
            ]
           ],
           "sequentialminus": [
            [
             0,
             "#0d0887"
            ],
            [
             0.1111111111111111,
             "#46039f"
            ],
            [
             0.2222222222222222,
             "#7201a8"
            ],
            [
             0.3333333333333333,
             "#9c179e"
            ],
            [
             0.4444444444444444,
             "#bd3786"
            ],
            [
             0.5555555555555556,
             "#d8576b"
            ],
            [
             0.6666666666666666,
             "#ed7953"
            ],
            [
             0.7777777777777778,
             "#fb9f3a"
            ],
            [
             0.8888888888888888,
             "#fdca26"
            ],
            [
             1,
             "#f0f921"
            ]
           ]
          },
          "colorway": [
           "#636efa",
           "#EF553B",
           "#00cc96",
           "#ab63fa",
           "#FFA15A",
           "#19d3f3",
           "#FF6692",
           "#B6E880",
           "#FF97FF",
           "#FECB52"
          ],
          "font": {
           "color": "#2a3f5f"
          },
          "geo": {
           "bgcolor": "white",
           "lakecolor": "white",
           "landcolor": "#E5ECF6",
           "showlakes": true,
           "showland": true,
           "subunitcolor": "white"
          },
          "hoverlabel": {
           "align": "left"
          },
          "hovermode": "closest",
          "mapbox": {
           "style": "light"
          },
          "paper_bgcolor": "white",
          "plot_bgcolor": "#E5ECF6",
          "polar": {
           "angularaxis": {
            "gridcolor": "white",
            "linecolor": "white",
            "ticks": ""
           },
           "bgcolor": "#E5ECF6",
           "radialaxis": {
            "gridcolor": "white",
            "linecolor": "white",
            "ticks": ""
           }
          },
          "scene": {
           "xaxis": {
            "backgroundcolor": "#E5ECF6",
            "gridcolor": "white",
            "gridwidth": 2,
            "linecolor": "white",
            "showbackground": true,
            "ticks": "",
            "zerolinecolor": "white"
           },
           "yaxis": {
            "backgroundcolor": "#E5ECF6",
            "gridcolor": "white",
            "gridwidth": 2,
            "linecolor": "white",
            "showbackground": true,
            "ticks": "",
            "zerolinecolor": "white"
           },
           "zaxis": {
            "backgroundcolor": "#E5ECF6",
            "gridcolor": "white",
            "gridwidth": 2,
            "linecolor": "white",
            "showbackground": true,
            "ticks": "",
            "zerolinecolor": "white"
           }
          },
          "shapedefaults": {
           "line": {
            "color": "#2a3f5f"
           }
          },
          "ternary": {
           "aaxis": {
            "gridcolor": "white",
            "linecolor": "white",
            "ticks": ""
           },
           "baxis": {
            "gridcolor": "white",
            "linecolor": "white",
            "ticks": ""
           },
           "bgcolor": "#E5ECF6",
           "caxis": {
            "gridcolor": "white",
            "linecolor": "white",
            "ticks": ""
           }
          },
          "title": {
           "x": 0.05
          },
          "xaxis": {
           "automargin": true,
           "gridcolor": "white",
           "linecolor": "white",
           "ticks": "",
           "title": {
            "standoff": 15
           },
           "zerolinecolor": "white",
           "zerolinewidth": 2
          },
          "yaxis": {
           "automargin": true,
           "gridcolor": "white",
           "linecolor": "white",
           "ticks": "",
           "title": {
            "standoff": 15
           },
           "zerolinecolor": "white",
           "zerolinewidth": 2
          }
         }
        },
        "title": {
         "text": "Batting strike rate for RG Sharma"
        },
        "xaxis": {
         "anchor": "y",
         "categoryarray": [
          "Arun Jaitley Stadium",
          "Eden Gardens",
          "M.Chinnaswamy Stadium",
          "MA Chidambaram Stadium",
          "Punjab Cricket Association IS Bindra Stadium",
          "Rajiv Gandhi International Stadium",
          "Sawai Mansingh Stadium",
          "Wankhede Stadium"
         ],
         "categoryorder": "array",
         "domain": [
          0,
          1
         ],
         "title": {
          "text": "Venue"
         }
        },
        "yaxis": {
         "anchor": "x",
         "domain": [
          0,
          1
         ],
         "title": {
          "text": "battingstrikerate"
         }
        }
       }
      }
     },
     "metadata": {},
     "output_type": "display_data"
    }
   ],
   "source": [
    "import pandas as pd\n",
    "import matplotlib.pyplot as plt\n",
    "import plotly.express as px\n",
    "\n",
    "\n",
    "# Read in the data\n",
    "df = pd.read_csv('data/2019_ipl_ball_by_ball.csv')\n",
    "\n",
    "# Filter the data for Yuvraj Singh only\n",
    "yuvi_df = df[df['batter'] == 'RG Sharma']\n",
    "\n",
    "# Calculate the batting strike rate at each venue for Yuvraj Singh\n",
    "balls_faced = yuvi_df.groupby(['Venue'])['batter'].count()\n",
    "runs_scored = yuvi_df.groupby(['Venue'])['batsman_run'].sum()\n",
    "batting_sr_df = (runs_scored / balls_faced) * 100\n",
    "\n",
    "batting_sr_df = batting_sr_df.reset_index()\n",
    "\n",
    "#print(batting_avg_df)\n",
    "#print(batting_sr_df)\n",
    "\n",
    "\n",
    "batting_sr_df = batting_sr_df.rename(columns={0: 'battingstrikerate'})\n",
    "\n",
    "#print(batting_sr_df)\n",
    "\n",
    "\n",
    "# Create the Plotly graph\n",
    "fig = px.bar(batting_sr_df, x='Venue', y='battingstrikerate', color='Venue', title='Batting strike rate for RG Sharma')\n",
    "fig.show()\n",
    "\n",
    "# Plot the batting strike rate at each venue for Yuvraj Singh\n",
    "# plt.bar(batting_sr_df.index, batting_sr_df.values)\n",
    "# plt.title(\"Batting Strike Rate for Yuvraj Singh at Each Venue\")\n",
    "# plt.xlabel(\"Venue\")\n",
    "# plt.ylabel(\"Batting Strike Rate\")\n",
    "# plt.xticks(rotation=90)\n",
    "\n",
    "# plt.show()\n",
    "\n",
    "\n"
   ]
  },
  {
   "cell_type": "code",
   "execution_count": 7,
   "id": "6c7ee8fa",
   "metadata": {},
   "outputs": [
    {
     "data": {
      "application/vnd.plotly.v1+json": {
       "config": {
        "plotlyServerURL": "https://plot.ly"
       },
       "data": [
        {
         "alignmentgroup": "True",
         "hovertemplate": "Venue=%{x}<br>economy=%{y}<extra></extra>",
         "legendgroup": "Arun Jaitley Stadium",
         "marker": {
          "color": "#636efa",
          "pattern": {
           "shape": ""
          }
         },
         "name": "Arun Jaitley Stadium",
         "offsetgroup": "Arun Jaitley Stadium",
         "orientation": "v",
         "showlegend": true,
         "textposition": "auto",
         "type": "bar",
         "x": [
          "Arun Jaitley Stadium"
         ],
         "xaxis": "x",
         "y": [
          10
         ],
         "yaxis": "y"
        },
        {
         "alignmentgroup": "True",
         "hovertemplate": "Venue=%{x}<br>economy=%{y}<extra></extra>",
         "legendgroup": "Dr. Y.S. Rajasekhara Reddy ACA-VDCA Cricket Stadium",
         "marker": {
          "color": "#EF553B",
          "pattern": {
           "shape": ""
          }
         },
         "name": "Dr. Y.S. Rajasekhara Reddy ACA-VDCA Cricket Stadium",
         "offsetgroup": "Dr. Y.S. Rajasekhara Reddy ACA-VDCA Cricket Stadium",
         "orientation": "v",
         "showlegend": true,
         "textposition": "auto",
         "type": "bar",
         "x": [
          "Dr. Y.S. Rajasekhara Reddy ACA-VDCA Cricket Stadium"
         ],
         "xaxis": "x",
         "y": [
          8
         ],
         "yaxis": "y"
        },
        {
         "alignmentgroup": "True",
         "hovertemplate": "Venue=%{x}<br>economy=%{y}<extra></extra>",
         "legendgroup": "Eden Gardens",
         "marker": {
          "color": "#00cc96",
          "pattern": {
           "shape": ""
          }
         },
         "name": "Eden Gardens",
         "offsetgroup": "Eden Gardens",
         "orientation": "v",
         "showlegend": true,
         "textposition": "auto",
         "type": "bar",
         "x": [
          "Eden Gardens"
         ],
         "xaxis": "x",
         "y": [
          5.4
         ],
         "yaxis": "y"
        },
        {
         "alignmentgroup": "True",
         "hovertemplate": "Venue=%{x}<br>economy=%{y}<extra></extra>",
         "legendgroup": "M.Chinnaswamy Stadium",
         "marker": {
          "color": "#ab63fa",
          "pattern": {
           "shape": ""
          }
         },
         "name": "M.Chinnaswamy Stadium",
         "offsetgroup": "M.Chinnaswamy Stadium",
         "orientation": "v",
         "showlegend": true,
         "textposition": "auto",
         "type": "bar",
         "x": [
          "M.Chinnaswamy Stadium"
         ],
         "xaxis": "x",
         "y": [
          6.2
         ],
         "yaxis": "y"
        },
        {
         "alignmentgroup": "True",
         "hovertemplate": "Venue=%{x}<br>economy=%{y}<extra></extra>",
         "legendgroup": "MA Chidambaram Stadium",
         "marker": {
          "color": "#FFA15A",
          "pattern": {
           "shape": ""
          }
         },
         "name": "MA Chidambaram Stadium",
         "offsetgroup": "MA Chidambaram Stadium",
         "orientation": "v",
         "showlegend": true,
         "textposition": "auto",
         "type": "bar",
         "x": [
          "MA Chidambaram Stadium"
         ],
         "xaxis": "x",
         "y": [
          5.388888888888889
         ],
         "yaxis": "y"
        },
        {
         "alignmentgroup": "True",
         "hovertemplate": "Venue=%{x}<br>economy=%{y}<extra></extra>",
         "legendgroup": "Punjab Cricket Association IS Bindra Stadium",
         "marker": {
          "color": "#19d3f3",
          "pattern": {
           "shape": ""
          }
         },
         "name": "Punjab Cricket Association IS Bindra Stadium",
         "offsetgroup": "Punjab Cricket Association IS Bindra Stadium",
         "orientation": "v",
         "showlegend": true,
         "textposition": "auto",
         "type": "bar",
         "x": [
          "Punjab Cricket Association IS Bindra Stadium"
         ],
         "xaxis": "x",
         "y": [
          10
         ],
         "yaxis": "y"
        },
        {
         "alignmentgroup": "True",
         "hovertemplate": "Venue=%{x}<br>economy=%{y}<extra></extra>",
         "legendgroup": "Rajiv Gandhi International Stadium",
         "marker": {
          "color": "#FF6692",
          "pattern": {
           "shape": ""
          }
         },
         "name": "Rajiv Gandhi International Stadium",
         "offsetgroup": "Rajiv Gandhi International Stadium",
         "orientation": "v",
         "showlegend": true,
         "textposition": "auto",
         "type": "bar",
         "x": [
          "Rajiv Gandhi International Stadium"
         ],
         "xaxis": "x",
         "y": [
          6.142857142857143
         ],
         "yaxis": "y"
        },
        {
         "alignmentgroup": "True",
         "hovertemplate": "Venue=%{x}<br>economy=%{y}<extra></extra>",
         "legendgroup": "Sawai Mansingh Stadium",
         "marker": {
          "color": "#B6E880",
          "pattern": {
           "shape": ""
          }
         },
         "name": "Sawai Mansingh Stadium",
         "offsetgroup": "Sawai Mansingh Stadium",
         "orientation": "v",
         "showlegend": true,
         "textposition": "auto",
         "type": "bar",
         "x": [
          "Sawai Mansingh Stadium"
         ],
         "xaxis": "x",
         "y": [
          7
         ],
         "yaxis": "y"
        },
        {
         "alignmentgroup": "True",
         "hovertemplate": "Venue=%{x}<br>economy=%{y}<extra></extra>",
         "legendgroup": "Wankhede Stadium",
         "marker": {
          "color": "#FF97FF",
          "pattern": {
           "shape": ""
          }
         },
         "name": "Wankhede Stadium",
         "offsetgroup": "Wankhede Stadium",
         "orientation": "v",
         "showlegend": true,
         "textposition": "auto",
         "type": "bar",
         "x": [
          "Wankhede Stadium"
         ],
         "xaxis": "x",
         "y": [
          8.333333333333334
         ],
         "yaxis": "y"
        }
       ],
       "layout": {
        "barmode": "relative",
        "legend": {
         "title": {
          "text": "Venue"
         },
         "tracegroupgap": 0
        },
        "template": {
         "data": {
          "bar": [
           {
            "error_x": {
             "color": "#2a3f5f"
            },
            "error_y": {
             "color": "#2a3f5f"
            },
            "marker": {
             "line": {
              "color": "#E5ECF6",
              "width": 0.5
             },
             "pattern": {
              "fillmode": "overlay",
              "size": 10,
              "solidity": 0.2
             }
            },
            "type": "bar"
           }
          ],
          "barpolar": [
           {
            "marker": {
             "line": {
              "color": "#E5ECF6",
              "width": 0.5
             },
             "pattern": {
              "fillmode": "overlay",
              "size": 10,
              "solidity": 0.2
             }
            },
            "type": "barpolar"
           }
          ],
          "carpet": [
           {
            "aaxis": {
             "endlinecolor": "#2a3f5f",
             "gridcolor": "white",
             "linecolor": "white",
             "minorgridcolor": "white",
             "startlinecolor": "#2a3f5f"
            },
            "baxis": {
             "endlinecolor": "#2a3f5f",
             "gridcolor": "white",
             "linecolor": "white",
             "minorgridcolor": "white",
             "startlinecolor": "#2a3f5f"
            },
            "type": "carpet"
           }
          ],
          "choropleth": [
           {
            "colorbar": {
             "outlinewidth": 0,
             "ticks": ""
            },
            "type": "choropleth"
           }
          ],
          "contour": [
           {
            "colorbar": {
             "outlinewidth": 0,
             "ticks": ""
            },
            "colorscale": [
             [
              0,
              "#0d0887"
             ],
             [
              0.1111111111111111,
              "#46039f"
             ],
             [
              0.2222222222222222,
              "#7201a8"
             ],
             [
              0.3333333333333333,
              "#9c179e"
             ],
             [
              0.4444444444444444,
              "#bd3786"
             ],
             [
              0.5555555555555556,
              "#d8576b"
             ],
             [
              0.6666666666666666,
              "#ed7953"
             ],
             [
              0.7777777777777778,
              "#fb9f3a"
             ],
             [
              0.8888888888888888,
              "#fdca26"
             ],
             [
              1,
              "#f0f921"
             ]
            ],
            "type": "contour"
           }
          ],
          "contourcarpet": [
           {
            "colorbar": {
             "outlinewidth": 0,
             "ticks": ""
            },
            "type": "contourcarpet"
           }
          ],
          "heatmap": [
           {
            "colorbar": {
             "outlinewidth": 0,
             "ticks": ""
            },
            "colorscale": [
             [
              0,
              "#0d0887"
             ],
             [
              0.1111111111111111,
              "#46039f"
             ],
             [
              0.2222222222222222,
              "#7201a8"
             ],
             [
              0.3333333333333333,
              "#9c179e"
             ],
             [
              0.4444444444444444,
              "#bd3786"
             ],
             [
              0.5555555555555556,
              "#d8576b"
             ],
             [
              0.6666666666666666,
              "#ed7953"
             ],
             [
              0.7777777777777778,
              "#fb9f3a"
             ],
             [
              0.8888888888888888,
              "#fdca26"
             ],
             [
              1,
              "#f0f921"
             ]
            ],
            "type": "heatmap"
           }
          ],
          "heatmapgl": [
           {
            "colorbar": {
             "outlinewidth": 0,
             "ticks": ""
            },
            "colorscale": [
             [
              0,
              "#0d0887"
             ],
             [
              0.1111111111111111,
              "#46039f"
             ],
             [
              0.2222222222222222,
              "#7201a8"
             ],
             [
              0.3333333333333333,
              "#9c179e"
             ],
             [
              0.4444444444444444,
              "#bd3786"
             ],
             [
              0.5555555555555556,
              "#d8576b"
             ],
             [
              0.6666666666666666,
              "#ed7953"
             ],
             [
              0.7777777777777778,
              "#fb9f3a"
             ],
             [
              0.8888888888888888,
              "#fdca26"
             ],
             [
              1,
              "#f0f921"
             ]
            ],
            "type": "heatmapgl"
           }
          ],
          "histogram": [
           {
            "marker": {
             "pattern": {
              "fillmode": "overlay",
              "size": 10,
              "solidity": 0.2
             }
            },
            "type": "histogram"
           }
          ],
          "histogram2d": [
           {
            "colorbar": {
             "outlinewidth": 0,
             "ticks": ""
            },
            "colorscale": [
             [
              0,
              "#0d0887"
             ],
             [
              0.1111111111111111,
              "#46039f"
             ],
             [
              0.2222222222222222,
              "#7201a8"
             ],
             [
              0.3333333333333333,
              "#9c179e"
             ],
             [
              0.4444444444444444,
              "#bd3786"
             ],
             [
              0.5555555555555556,
              "#d8576b"
             ],
             [
              0.6666666666666666,
              "#ed7953"
             ],
             [
              0.7777777777777778,
              "#fb9f3a"
             ],
             [
              0.8888888888888888,
              "#fdca26"
             ],
             [
              1,
              "#f0f921"
             ]
            ],
            "type": "histogram2d"
           }
          ],
          "histogram2dcontour": [
           {
            "colorbar": {
             "outlinewidth": 0,
             "ticks": ""
            },
            "colorscale": [
             [
              0,
              "#0d0887"
             ],
             [
              0.1111111111111111,
              "#46039f"
             ],
             [
              0.2222222222222222,
              "#7201a8"
             ],
             [
              0.3333333333333333,
              "#9c179e"
             ],
             [
              0.4444444444444444,
              "#bd3786"
             ],
             [
              0.5555555555555556,
              "#d8576b"
             ],
             [
              0.6666666666666666,
              "#ed7953"
             ],
             [
              0.7777777777777778,
              "#fb9f3a"
             ],
             [
              0.8888888888888888,
              "#fdca26"
             ],
             [
              1,
              "#f0f921"
             ]
            ],
            "type": "histogram2dcontour"
           }
          ],
          "mesh3d": [
           {
            "colorbar": {
             "outlinewidth": 0,
             "ticks": ""
            },
            "type": "mesh3d"
           }
          ],
          "parcoords": [
           {
            "line": {
             "colorbar": {
              "outlinewidth": 0,
              "ticks": ""
             }
            },
            "type": "parcoords"
           }
          ],
          "pie": [
           {
            "automargin": true,
            "type": "pie"
           }
          ],
          "scatter": [
           {
            "fillpattern": {
             "fillmode": "overlay",
             "size": 10,
             "solidity": 0.2
            },
            "type": "scatter"
           }
          ],
          "scatter3d": [
           {
            "line": {
             "colorbar": {
              "outlinewidth": 0,
              "ticks": ""
             }
            },
            "marker": {
             "colorbar": {
              "outlinewidth": 0,
              "ticks": ""
             }
            },
            "type": "scatter3d"
           }
          ],
          "scattercarpet": [
           {
            "marker": {
             "colorbar": {
              "outlinewidth": 0,
              "ticks": ""
             }
            },
            "type": "scattercarpet"
           }
          ],
          "scattergeo": [
           {
            "marker": {
             "colorbar": {
              "outlinewidth": 0,
              "ticks": ""
             }
            },
            "type": "scattergeo"
           }
          ],
          "scattergl": [
           {
            "marker": {
             "colorbar": {
              "outlinewidth": 0,
              "ticks": ""
             }
            },
            "type": "scattergl"
           }
          ],
          "scattermapbox": [
           {
            "marker": {
             "colorbar": {
              "outlinewidth": 0,
              "ticks": ""
             }
            },
            "type": "scattermapbox"
           }
          ],
          "scatterpolar": [
           {
            "marker": {
             "colorbar": {
              "outlinewidth": 0,
              "ticks": ""
             }
            },
            "type": "scatterpolar"
           }
          ],
          "scatterpolargl": [
           {
            "marker": {
             "colorbar": {
              "outlinewidth": 0,
              "ticks": ""
             }
            },
            "type": "scatterpolargl"
           }
          ],
          "scatterternary": [
           {
            "marker": {
             "colorbar": {
              "outlinewidth": 0,
              "ticks": ""
             }
            },
            "type": "scatterternary"
           }
          ],
          "surface": [
           {
            "colorbar": {
             "outlinewidth": 0,
             "ticks": ""
            },
            "colorscale": [
             [
              0,
              "#0d0887"
             ],
             [
              0.1111111111111111,
              "#46039f"
             ],
             [
              0.2222222222222222,
              "#7201a8"
             ],
             [
              0.3333333333333333,
              "#9c179e"
             ],
             [
              0.4444444444444444,
              "#bd3786"
             ],
             [
              0.5555555555555556,
              "#d8576b"
             ],
             [
              0.6666666666666666,
              "#ed7953"
             ],
             [
              0.7777777777777778,
              "#fb9f3a"
             ],
             [
              0.8888888888888888,
              "#fdca26"
             ],
             [
              1,
              "#f0f921"
             ]
            ],
            "type": "surface"
           }
          ],
          "table": [
           {
            "cells": {
             "fill": {
              "color": "#EBF0F8"
             },
             "line": {
              "color": "white"
             }
            },
            "header": {
             "fill": {
              "color": "#C8D4E3"
             },
             "line": {
              "color": "white"
             }
            },
            "type": "table"
           }
          ]
         },
         "layout": {
          "annotationdefaults": {
           "arrowcolor": "#2a3f5f",
           "arrowhead": 0,
           "arrowwidth": 1
          },
          "autotypenumbers": "strict",
          "coloraxis": {
           "colorbar": {
            "outlinewidth": 0,
            "ticks": ""
           }
          },
          "colorscale": {
           "diverging": [
            [
             0,
             "#8e0152"
            ],
            [
             0.1,
             "#c51b7d"
            ],
            [
             0.2,
             "#de77ae"
            ],
            [
             0.3,
             "#f1b6da"
            ],
            [
             0.4,
             "#fde0ef"
            ],
            [
             0.5,
             "#f7f7f7"
            ],
            [
             0.6,
             "#e6f5d0"
            ],
            [
             0.7,
             "#b8e186"
            ],
            [
             0.8,
             "#7fbc41"
            ],
            [
             0.9,
             "#4d9221"
            ],
            [
             1,
             "#276419"
            ]
           ],
           "sequential": [
            [
             0,
             "#0d0887"
            ],
            [
             0.1111111111111111,
             "#46039f"
            ],
            [
             0.2222222222222222,
             "#7201a8"
            ],
            [
             0.3333333333333333,
             "#9c179e"
            ],
            [
             0.4444444444444444,
             "#bd3786"
            ],
            [
             0.5555555555555556,
             "#d8576b"
            ],
            [
             0.6666666666666666,
             "#ed7953"
            ],
            [
             0.7777777777777778,
             "#fb9f3a"
            ],
            [
             0.8888888888888888,
             "#fdca26"
            ],
            [
             1,
             "#f0f921"
            ]
           ],
           "sequentialminus": [
            [
             0,
             "#0d0887"
            ],
            [
             0.1111111111111111,
             "#46039f"
            ],
            [
             0.2222222222222222,
             "#7201a8"
            ],
            [
             0.3333333333333333,
             "#9c179e"
            ],
            [
             0.4444444444444444,
             "#bd3786"
            ],
            [
             0.5555555555555556,
             "#d8576b"
            ],
            [
             0.6666666666666666,
             "#ed7953"
            ],
            [
             0.7777777777777778,
             "#fb9f3a"
            ],
            [
             0.8888888888888888,
             "#fdca26"
            ],
            [
             1,
             "#f0f921"
            ]
           ]
          },
          "colorway": [
           "#636efa",
           "#EF553B",
           "#00cc96",
           "#ab63fa",
           "#FFA15A",
           "#19d3f3",
           "#FF6692",
           "#B6E880",
           "#FF97FF",
           "#FECB52"
          ],
          "font": {
           "color": "#2a3f5f"
          },
          "geo": {
           "bgcolor": "white",
           "lakecolor": "white",
           "landcolor": "#E5ECF6",
           "showlakes": true,
           "showland": true,
           "subunitcolor": "white"
          },
          "hoverlabel": {
           "align": "left"
          },
          "hovermode": "closest",
          "mapbox": {
           "style": "light"
          },
          "paper_bgcolor": "white",
          "plot_bgcolor": "#E5ECF6",
          "polar": {
           "angularaxis": {
            "gridcolor": "white",
            "linecolor": "white",
            "ticks": ""
           },
           "bgcolor": "#E5ECF6",
           "radialaxis": {
            "gridcolor": "white",
            "linecolor": "white",
            "ticks": ""
           }
          },
          "scene": {
           "xaxis": {
            "backgroundcolor": "#E5ECF6",
            "gridcolor": "white",
            "gridwidth": 2,
            "linecolor": "white",
            "showbackground": true,
            "ticks": "",
            "zerolinecolor": "white"
           },
           "yaxis": {
            "backgroundcolor": "#E5ECF6",
            "gridcolor": "white",
            "gridwidth": 2,
            "linecolor": "white",
            "showbackground": true,
            "ticks": "",
            "zerolinecolor": "white"
           },
           "zaxis": {
            "backgroundcolor": "#E5ECF6",
            "gridcolor": "white",
            "gridwidth": 2,
            "linecolor": "white",
            "showbackground": true,
            "ticks": "",
            "zerolinecolor": "white"
           }
          },
          "shapedefaults": {
           "line": {
            "color": "#2a3f5f"
           }
          },
          "ternary": {
           "aaxis": {
            "gridcolor": "white",
            "linecolor": "white",
            "ticks": ""
           },
           "baxis": {
            "gridcolor": "white",
            "linecolor": "white",
            "ticks": ""
           },
           "bgcolor": "#E5ECF6",
           "caxis": {
            "gridcolor": "white",
            "linecolor": "white",
            "ticks": ""
           }
          },
          "title": {
           "x": 0.05
          },
          "xaxis": {
           "automargin": true,
           "gridcolor": "white",
           "linecolor": "white",
           "ticks": "",
           "title": {
            "standoff": 15
           },
           "zerolinecolor": "white",
           "zerolinewidth": 2
          },
          "yaxis": {
           "automargin": true,
           "gridcolor": "white",
           "linecolor": "white",
           "ticks": "",
           "title": {
            "standoff": 15
           },
           "zerolinecolor": "white",
           "zerolinewidth": 2
          }
         }
        },
        "title": {
         "text": "economy for imran tahir"
        },
        "xaxis": {
         "anchor": "y",
         "categoryarray": [
          "Arun Jaitley Stadium",
          "Dr. Y.S. Rajasekhara Reddy ACA-VDCA Cricket Stadium",
          "Eden Gardens",
          "M.Chinnaswamy Stadium",
          "MA Chidambaram Stadium",
          "Punjab Cricket Association IS Bindra Stadium",
          "Rajiv Gandhi International Stadium",
          "Sawai Mansingh Stadium",
          "Wankhede Stadium"
         ],
         "categoryorder": "array",
         "domain": [
          0,
          1
         ],
         "title": {
          "text": "Venue"
         }
        },
        "yaxis": {
         "anchor": "x",
         "domain": [
          0,
          1
         ],
         "title": {
          "text": "economy"
         }
        }
       }
      }
     },
     "metadata": {},
     "output_type": "display_data"
    }
   ],
   "source": [
    "import pandas as pd\n",
    "import matplotlib.pyplot as plt\n",
    "\n",
    "# Read in the data\n",
    "df = pd.read_csv('data/2019_ipl_ball_by_ball.csv')\n",
    "\n",
    "# Filter the data for Imran Tahir only\n",
    "tahir_df = df[df['bowler'] == 'Imran Tahir']\n",
    "\n",
    "# Calculate the economy rate at each venue for Imran Tahir\n",
    "economy_rate_df = tahir_df.groupby(['Venue'])['total_run'].sum() / (tahir_df.groupby(['Venue'])['overs'].sum() // 60)\n",
    "# print(economy_rate_df)\n",
    "\n",
    "\n",
    "economy_rate_df = economy_rate_df.reset_index()\n",
    "\n",
    "#print(batting_avg_df)\n",
    "#print(batting_sr_df)\n",
    "\n",
    "\n",
    "economy_rate_df = economy_rate_df.rename(columns={0: 'economy'})\n",
    "\n",
    "#print(batting_sr_df)\n",
    "\n",
    "\n",
    "# Create the Plotly graph\n",
    "fig = px.bar(economy_rate_df, x='Venue', y='economy', color='Venue', title='economy for imran tahir')\n",
    "fig.show()\n",
    "\n",
    "\n",
    "# Plot the economy rate at each venue for Imran Tahir\n",
    "# plt.bar(economy_rate_df.index, economy_rate_df.values)\n",
    "# plt.title(\"Economy Rate for Imran Tahir at Each Venue\")\n",
    "# plt.xlabel(\"Venue\")\n",
    "# plt.ylabel(\"Economy Rate\")\n",
    "# plt.xticks(rotation=90)\n",
    "\n",
    "# plt.show()\n"
   ]
  },
  {
   "cell_type": "code",
   "execution_count": 10,
   "id": "8d26ed8f",
   "metadata": {},
   "outputs": [
    {
     "data": {
      "application/vnd.plotly.v1+json": {
       "config": {
        "plotlyServerURL": "https://plot.ly"
       },
       "data": [
        {
         "alignmentgroup": "True",
         "hovertemplate": "Venue=%{x}<br>player_out=%{y}<extra></extra>",
         "legendgroup": "Arun Jaitley Stadium",
         "marker": {
          "color": "#636efa",
          "pattern": {
           "shape": ""
          }
         },
         "name": "Arun Jaitley Stadium",
         "offsetgroup": "Arun Jaitley Stadium",
         "orientation": "v",
         "showlegend": true,
         "textposition": "auto",
         "type": "bar",
         "x": [
          "Arun Jaitley Stadium"
         ],
         "xaxis": "x",
         "y": [
          1
         ],
         "yaxis": "y"
        },
        {
         "alignmentgroup": "True",
         "hovertemplate": "Venue=%{x}<br>player_out=%{y}<extra></extra>",
         "legendgroup": "Dr. Y.S. Rajasekhara Reddy ACA-VDCA Cricket Stadium",
         "marker": {
          "color": "#EF553B",
          "pattern": {
           "shape": ""
          }
         },
         "name": "Dr. Y.S. Rajasekhara Reddy ACA-VDCA Cricket Stadium",
         "offsetgroup": "Dr. Y.S. Rajasekhara Reddy ACA-VDCA Cricket Stadium",
         "orientation": "v",
         "showlegend": true,
         "textposition": "auto",
         "type": "bar",
         "x": [
          "Dr. Y.S. Rajasekhara Reddy ACA-VDCA Cricket Stadium"
         ],
         "xaxis": "x",
         "y": [
          1
         ],
         "yaxis": "y"
        },
        {
         "alignmentgroup": "True",
         "hovertemplate": "Venue=%{x}<br>player_out=%{y}<extra></extra>",
         "legendgroup": "Eden Gardens",
         "marker": {
          "color": "#00cc96",
          "pattern": {
           "shape": ""
          }
         },
         "name": "Eden Gardens",
         "offsetgroup": "Eden Gardens",
         "orientation": "v",
         "showlegend": true,
         "textposition": "auto",
         "type": "bar",
         "x": [
          "Eden Gardens"
         ],
         "xaxis": "x",
         "y": [
          4
         ],
         "yaxis": "y"
        },
        {
         "alignmentgroup": "True",
         "hovertemplate": "Venue=%{x}<br>player_out=%{y}<extra></extra>",
         "legendgroup": "M.Chinnaswamy Stadium",
         "marker": {
          "color": "#ab63fa",
          "pattern": {
           "shape": ""
          }
         },
         "name": "M.Chinnaswamy Stadium",
         "offsetgroup": "M.Chinnaswamy Stadium",
         "orientation": "v",
         "showlegend": true,
         "textposition": "auto",
         "type": "bar",
         "x": [
          "M.Chinnaswamy Stadium"
         ],
         "xaxis": "x",
         "y": [
          1
         ],
         "yaxis": "y"
        },
        {
         "alignmentgroup": "True",
         "hovertemplate": "Venue=%{x}<br>player_out=%{y}<extra></extra>",
         "legendgroup": "MA Chidambaram Stadium",
         "marker": {
          "color": "#FFA15A",
          "pattern": {
           "shape": ""
          }
         },
         "name": "MA Chidambaram Stadium",
         "offsetgroup": "MA Chidambaram Stadium",
         "orientation": "v",
         "showlegend": true,
         "textposition": "auto",
         "type": "bar",
         "x": [
          "MA Chidambaram Stadium"
         ],
         "xaxis": "x",
         "y": [
          14
         ],
         "yaxis": "y"
        },
        {
         "alignmentgroup": "True",
         "hovertemplate": "Venue=%{x}<br>player_out=%{y}<extra></extra>",
         "legendgroup": "Punjab Cricket Association IS Bindra Stadium",
         "marker": {
          "color": "#19d3f3",
          "pattern": {
           "shape": ""
          }
         },
         "name": "Punjab Cricket Association IS Bindra Stadium",
         "offsetgroup": "Punjab Cricket Association IS Bindra Stadium",
         "orientation": "v",
         "showlegend": true,
         "textposition": "auto",
         "type": "bar",
         "x": [
          "Punjab Cricket Association IS Bindra Stadium"
         ],
         "xaxis": "x",
         "y": [
          0
         ],
         "yaxis": "y"
        },
        {
         "alignmentgroup": "True",
         "hovertemplate": "Venue=%{x}<br>player_out=%{y}<extra></extra>",
         "legendgroup": "Rajiv Gandhi International Stadium",
         "marker": {
          "color": "#FF6692",
          "pattern": {
           "shape": ""
          }
         },
         "name": "Rajiv Gandhi International Stadium",
         "offsetgroup": "Rajiv Gandhi International Stadium",
         "orientation": "v",
         "showlegend": true,
         "textposition": "auto",
         "type": "bar",
         "x": [
          "Rajiv Gandhi International Stadium"
         ],
         "xaxis": "x",
         "y": [
          4
         ],
         "yaxis": "y"
        },
        {
         "alignmentgroup": "True",
         "hovertemplate": "Venue=%{x}<br>player_out=%{y}<extra></extra>",
         "legendgroup": "Sawai Mansingh Stadium",
         "marker": {
          "color": "#B6E880",
          "pattern": {
           "shape": ""
          }
         },
         "name": "Sawai Mansingh Stadium",
         "offsetgroup": "Sawai Mansingh Stadium",
         "orientation": "v",
         "showlegend": true,
         "textposition": "auto",
         "type": "bar",
         "x": [
          "Sawai Mansingh Stadium"
         ],
         "xaxis": "x",
         "y": [
          0
         ],
         "yaxis": "y"
        },
        {
         "alignmentgroup": "True",
         "hovertemplate": "Venue=%{x}<br>player_out=%{y}<extra></extra>",
         "legendgroup": "Wankhede Stadium",
         "marker": {
          "color": "#FF97FF",
          "pattern": {
           "shape": ""
          }
         },
         "name": "Wankhede Stadium",
         "offsetgroup": "Wankhede Stadium",
         "orientation": "v",
         "showlegend": true,
         "textposition": "auto",
         "type": "bar",
         "x": [
          "Wankhede Stadium"
         ],
         "xaxis": "x",
         "y": [
          1
         ],
         "yaxis": "y"
        }
       ],
       "layout": {
        "barmode": "relative",
        "legend": {
         "title": {
          "text": "Venue"
         },
         "tracegroupgap": 0
        },
        "template": {
         "data": {
          "bar": [
           {
            "error_x": {
             "color": "#2a3f5f"
            },
            "error_y": {
             "color": "#2a3f5f"
            },
            "marker": {
             "line": {
              "color": "#E5ECF6",
              "width": 0.5
             },
             "pattern": {
              "fillmode": "overlay",
              "size": 10,
              "solidity": 0.2
             }
            },
            "type": "bar"
           }
          ],
          "barpolar": [
           {
            "marker": {
             "line": {
              "color": "#E5ECF6",
              "width": 0.5
             },
             "pattern": {
              "fillmode": "overlay",
              "size": 10,
              "solidity": 0.2
             }
            },
            "type": "barpolar"
           }
          ],
          "carpet": [
           {
            "aaxis": {
             "endlinecolor": "#2a3f5f",
             "gridcolor": "white",
             "linecolor": "white",
             "minorgridcolor": "white",
             "startlinecolor": "#2a3f5f"
            },
            "baxis": {
             "endlinecolor": "#2a3f5f",
             "gridcolor": "white",
             "linecolor": "white",
             "minorgridcolor": "white",
             "startlinecolor": "#2a3f5f"
            },
            "type": "carpet"
           }
          ],
          "choropleth": [
           {
            "colorbar": {
             "outlinewidth": 0,
             "ticks": ""
            },
            "type": "choropleth"
           }
          ],
          "contour": [
           {
            "colorbar": {
             "outlinewidth": 0,
             "ticks": ""
            },
            "colorscale": [
             [
              0,
              "#0d0887"
             ],
             [
              0.1111111111111111,
              "#46039f"
             ],
             [
              0.2222222222222222,
              "#7201a8"
             ],
             [
              0.3333333333333333,
              "#9c179e"
             ],
             [
              0.4444444444444444,
              "#bd3786"
             ],
             [
              0.5555555555555556,
              "#d8576b"
             ],
             [
              0.6666666666666666,
              "#ed7953"
             ],
             [
              0.7777777777777778,
              "#fb9f3a"
             ],
             [
              0.8888888888888888,
              "#fdca26"
             ],
             [
              1,
              "#f0f921"
             ]
            ],
            "type": "contour"
           }
          ],
          "contourcarpet": [
           {
            "colorbar": {
             "outlinewidth": 0,
             "ticks": ""
            },
            "type": "contourcarpet"
           }
          ],
          "heatmap": [
           {
            "colorbar": {
             "outlinewidth": 0,
             "ticks": ""
            },
            "colorscale": [
             [
              0,
              "#0d0887"
             ],
             [
              0.1111111111111111,
              "#46039f"
             ],
             [
              0.2222222222222222,
              "#7201a8"
             ],
             [
              0.3333333333333333,
              "#9c179e"
             ],
             [
              0.4444444444444444,
              "#bd3786"
             ],
             [
              0.5555555555555556,
              "#d8576b"
             ],
             [
              0.6666666666666666,
              "#ed7953"
             ],
             [
              0.7777777777777778,
              "#fb9f3a"
             ],
             [
              0.8888888888888888,
              "#fdca26"
             ],
             [
              1,
              "#f0f921"
             ]
            ],
            "type": "heatmap"
           }
          ],
          "heatmapgl": [
           {
            "colorbar": {
             "outlinewidth": 0,
             "ticks": ""
            },
            "colorscale": [
             [
              0,
              "#0d0887"
             ],
             [
              0.1111111111111111,
              "#46039f"
             ],
             [
              0.2222222222222222,
              "#7201a8"
             ],
             [
              0.3333333333333333,
              "#9c179e"
             ],
             [
              0.4444444444444444,
              "#bd3786"
             ],
             [
              0.5555555555555556,
              "#d8576b"
             ],
             [
              0.6666666666666666,
              "#ed7953"
             ],
             [
              0.7777777777777778,
              "#fb9f3a"
             ],
             [
              0.8888888888888888,
              "#fdca26"
             ],
             [
              1,
              "#f0f921"
             ]
            ],
            "type": "heatmapgl"
           }
          ],
          "histogram": [
           {
            "marker": {
             "pattern": {
              "fillmode": "overlay",
              "size": 10,
              "solidity": 0.2
             }
            },
            "type": "histogram"
           }
          ],
          "histogram2d": [
           {
            "colorbar": {
             "outlinewidth": 0,
             "ticks": ""
            },
            "colorscale": [
             [
              0,
              "#0d0887"
             ],
             [
              0.1111111111111111,
              "#46039f"
             ],
             [
              0.2222222222222222,
              "#7201a8"
             ],
             [
              0.3333333333333333,
              "#9c179e"
             ],
             [
              0.4444444444444444,
              "#bd3786"
             ],
             [
              0.5555555555555556,
              "#d8576b"
             ],
             [
              0.6666666666666666,
              "#ed7953"
             ],
             [
              0.7777777777777778,
              "#fb9f3a"
             ],
             [
              0.8888888888888888,
              "#fdca26"
             ],
             [
              1,
              "#f0f921"
             ]
            ],
            "type": "histogram2d"
           }
          ],
          "histogram2dcontour": [
           {
            "colorbar": {
             "outlinewidth": 0,
             "ticks": ""
            },
            "colorscale": [
             [
              0,
              "#0d0887"
             ],
             [
              0.1111111111111111,
              "#46039f"
             ],
             [
              0.2222222222222222,
              "#7201a8"
             ],
             [
              0.3333333333333333,
              "#9c179e"
             ],
             [
              0.4444444444444444,
              "#bd3786"
             ],
             [
              0.5555555555555556,
              "#d8576b"
             ],
             [
              0.6666666666666666,
              "#ed7953"
             ],
             [
              0.7777777777777778,
              "#fb9f3a"
             ],
             [
              0.8888888888888888,
              "#fdca26"
             ],
             [
              1,
              "#f0f921"
             ]
            ],
            "type": "histogram2dcontour"
           }
          ],
          "mesh3d": [
           {
            "colorbar": {
             "outlinewidth": 0,
             "ticks": ""
            },
            "type": "mesh3d"
           }
          ],
          "parcoords": [
           {
            "line": {
             "colorbar": {
              "outlinewidth": 0,
              "ticks": ""
             }
            },
            "type": "parcoords"
           }
          ],
          "pie": [
           {
            "automargin": true,
            "type": "pie"
           }
          ],
          "scatter": [
           {
            "fillpattern": {
             "fillmode": "overlay",
             "size": 10,
             "solidity": 0.2
            },
            "type": "scatter"
           }
          ],
          "scatter3d": [
           {
            "line": {
             "colorbar": {
              "outlinewidth": 0,
              "ticks": ""
             }
            },
            "marker": {
             "colorbar": {
              "outlinewidth": 0,
              "ticks": ""
             }
            },
            "type": "scatter3d"
           }
          ],
          "scattercarpet": [
           {
            "marker": {
             "colorbar": {
              "outlinewidth": 0,
              "ticks": ""
             }
            },
            "type": "scattercarpet"
           }
          ],
          "scattergeo": [
           {
            "marker": {
             "colorbar": {
              "outlinewidth": 0,
              "ticks": ""
             }
            },
            "type": "scattergeo"
           }
          ],
          "scattergl": [
           {
            "marker": {
             "colorbar": {
              "outlinewidth": 0,
              "ticks": ""
             }
            },
            "type": "scattergl"
           }
          ],
          "scattermapbox": [
           {
            "marker": {
             "colorbar": {
              "outlinewidth": 0,
              "ticks": ""
             }
            },
            "type": "scattermapbox"
           }
          ],
          "scatterpolar": [
           {
            "marker": {
             "colorbar": {
              "outlinewidth": 0,
              "ticks": ""
             }
            },
            "type": "scatterpolar"
           }
          ],
          "scatterpolargl": [
           {
            "marker": {
             "colorbar": {
              "outlinewidth": 0,
              "ticks": ""
             }
            },
            "type": "scatterpolargl"
           }
          ],
          "scatterternary": [
           {
            "marker": {
             "colorbar": {
              "outlinewidth": 0,
              "ticks": ""
             }
            },
            "type": "scatterternary"
           }
          ],
          "surface": [
           {
            "colorbar": {
             "outlinewidth": 0,
             "ticks": ""
            },
            "colorscale": [
             [
              0,
              "#0d0887"
             ],
             [
              0.1111111111111111,
              "#46039f"
             ],
             [
              0.2222222222222222,
              "#7201a8"
             ],
             [
              0.3333333333333333,
              "#9c179e"
             ],
             [
              0.4444444444444444,
              "#bd3786"
             ],
             [
              0.5555555555555556,
              "#d8576b"
             ],
             [
              0.6666666666666666,
              "#ed7953"
             ],
             [
              0.7777777777777778,
              "#fb9f3a"
             ],
             [
              0.8888888888888888,
              "#fdca26"
             ],
             [
              1,
              "#f0f921"
             ]
            ],
            "type": "surface"
           }
          ],
          "table": [
           {
            "cells": {
             "fill": {
              "color": "#EBF0F8"
             },
             "line": {
              "color": "white"
             }
            },
            "header": {
             "fill": {
              "color": "#C8D4E3"
             },
             "line": {
              "color": "white"
             }
            },
            "type": "table"
           }
          ]
         },
         "layout": {
          "annotationdefaults": {
           "arrowcolor": "#2a3f5f",
           "arrowhead": 0,
           "arrowwidth": 1
          },
          "autotypenumbers": "strict",
          "coloraxis": {
           "colorbar": {
            "outlinewidth": 0,
            "ticks": ""
           }
          },
          "colorscale": {
           "diverging": [
            [
             0,
             "#8e0152"
            ],
            [
             0.1,
             "#c51b7d"
            ],
            [
             0.2,
             "#de77ae"
            ],
            [
             0.3,
             "#f1b6da"
            ],
            [
             0.4,
             "#fde0ef"
            ],
            [
             0.5,
             "#f7f7f7"
            ],
            [
             0.6,
             "#e6f5d0"
            ],
            [
             0.7,
             "#b8e186"
            ],
            [
             0.8,
             "#7fbc41"
            ],
            [
             0.9,
             "#4d9221"
            ],
            [
             1,
             "#276419"
            ]
           ],
           "sequential": [
            [
             0,
             "#0d0887"
            ],
            [
             0.1111111111111111,
             "#46039f"
            ],
            [
             0.2222222222222222,
             "#7201a8"
            ],
            [
             0.3333333333333333,
             "#9c179e"
            ],
            [
             0.4444444444444444,
             "#bd3786"
            ],
            [
             0.5555555555555556,
             "#d8576b"
            ],
            [
             0.6666666666666666,
             "#ed7953"
            ],
            [
             0.7777777777777778,
             "#fb9f3a"
            ],
            [
             0.8888888888888888,
             "#fdca26"
            ],
            [
             1,
             "#f0f921"
            ]
           ],
           "sequentialminus": [
            [
             0,
             "#0d0887"
            ],
            [
             0.1111111111111111,
             "#46039f"
            ],
            [
             0.2222222222222222,
             "#7201a8"
            ],
            [
             0.3333333333333333,
             "#9c179e"
            ],
            [
             0.4444444444444444,
             "#bd3786"
            ],
            [
             0.5555555555555556,
             "#d8576b"
            ],
            [
             0.6666666666666666,
             "#ed7953"
            ],
            [
             0.7777777777777778,
             "#fb9f3a"
            ],
            [
             0.8888888888888888,
             "#fdca26"
            ],
            [
             1,
             "#f0f921"
            ]
           ]
          },
          "colorway": [
           "#636efa",
           "#EF553B",
           "#00cc96",
           "#ab63fa",
           "#FFA15A",
           "#19d3f3",
           "#FF6692",
           "#B6E880",
           "#FF97FF",
           "#FECB52"
          ],
          "font": {
           "color": "#2a3f5f"
          },
          "geo": {
           "bgcolor": "white",
           "lakecolor": "white",
           "landcolor": "#E5ECF6",
           "showlakes": true,
           "showland": true,
           "subunitcolor": "white"
          },
          "hoverlabel": {
           "align": "left"
          },
          "hovermode": "closest",
          "mapbox": {
           "style": "light"
          },
          "paper_bgcolor": "white",
          "plot_bgcolor": "#E5ECF6",
          "polar": {
           "angularaxis": {
            "gridcolor": "white",
            "linecolor": "white",
            "ticks": ""
           },
           "bgcolor": "#E5ECF6",
           "radialaxis": {
            "gridcolor": "white",
            "linecolor": "white",
            "ticks": ""
           }
          },
          "scene": {
           "xaxis": {
            "backgroundcolor": "#E5ECF6",
            "gridcolor": "white",
            "gridwidth": 2,
            "linecolor": "white",
            "showbackground": true,
            "ticks": "",
            "zerolinecolor": "white"
           },
           "yaxis": {
            "backgroundcolor": "#E5ECF6",
            "gridcolor": "white",
            "gridwidth": 2,
            "linecolor": "white",
            "showbackground": true,
            "ticks": "",
            "zerolinecolor": "white"
           },
           "zaxis": {
            "backgroundcolor": "#E5ECF6",
            "gridcolor": "white",
            "gridwidth": 2,
            "linecolor": "white",
            "showbackground": true,
            "ticks": "",
            "zerolinecolor": "white"
           }
          },
          "shapedefaults": {
           "line": {
            "color": "#2a3f5f"
           }
          },
          "ternary": {
           "aaxis": {
            "gridcolor": "white",
            "linecolor": "white",
            "ticks": ""
           },
           "baxis": {
            "gridcolor": "white",
            "linecolor": "white",
            "ticks": ""
           },
           "bgcolor": "#E5ECF6",
           "caxis": {
            "gridcolor": "white",
            "linecolor": "white",
            "ticks": ""
           }
          },
          "title": {
           "x": 0.05
          },
          "xaxis": {
           "automargin": true,
           "gridcolor": "white",
           "linecolor": "white",
           "ticks": "",
           "title": {
            "standoff": 15
           },
           "zerolinecolor": "white",
           "zerolinewidth": 2
          },
          "yaxis": {
           "automargin": true,
           "gridcolor": "white",
           "linecolor": "white",
           "ticks": "",
           "title": {
            "standoff": 15
           },
           "zerolinecolor": "white",
           "zerolinewidth": 2
          }
         }
        },
        "title": {
         "text": "wickets for imran tahir"
        },
        "xaxis": {
         "anchor": "y",
         "categoryarray": [
          "Arun Jaitley Stadium",
          "Dr. Y.S. Rajasekhara Reddy ACA-VDCA Cricket Stadium",
          "Eden Gardens",
          "M.Chinnaswamy Stadium",
          "MA Chidambaram Stadium",
          "Punjab Cricket Association IS Bindra Stadium",
          "Rajiv Gandhi International Stadium",
          "Sawai Mansingh Stadium",
          "Wankhede Stadium"
         ],
         "categoryorder": "array",
         "domain": [
          0,
          1
         ],
         "title": {
          "text": "Venue"
         }
        },
        "yaxis": {
         "anchor": "x",
         "domain": [
          0,
          1
         ],
         "title": {
          "text": "player_out"
         }
        }
       }
      }
     },
     "metadata": {},
     "output_type": "display_data"
    }
   ],
   "source": [
    "import pandas as pd\n",
    "import matplotlib.pyplot as plt\n",
    "\n",
    "#Read in the data\n",
    "df = pd.read_csv('data/2019_ipl_ball_by_ball.csv')\n",
    "\n",
    "#Filter the data for Imran Tahir only\n",
    "imran_df = df[df['bowler'] == 'Imran Tahir']\n",
    "\n",
    "#Count the number of wickets taken by Imran Tahir at each venue\n",
    "wickets_df = imran_df.groupby(['Venue'])['player_out'].count()\n",
    "\n",
    "wickets_df = wickets_df.reset_index()\n",
    "\n",
    "#print(batting_avg_df)\n",
    "#print(batting_sr_df)\n",
    "\n",
    "\n",
    "wickets_df = wickets_df.rename(columns={0: 'wicketstaken'})\n",
    "\n",
    "#print(batting_sr_df)\n",
    "\n",
    "\n",
    "# Create the Plotly graph\n",
    "fig = px.bar(wickets_df, x='Venue', y='player_out', color='Venue', title='wickets for imran tahir')\n",
    "fig.show()\n",
    "\n",
    "# #Plot the number of wickets taken by Imran Tahir at each venue\n",
    "# plt.bar(wickets_df.index, wickets_df.values)\n",
    "# plt.title(\"Wickets taken by Imran Tahir at each Venue\")\n",
    "# plt.xlabel(\"Venue\")\n",
    "# plt.ylabel(\"Number of Wickets\")\n",
    "# plt.xticks(rotation=90)\n",
    "\n",
    "# plt.show()"
   ]
  },
  {
   "cell_type": "code",
   "execution_count": 11,
   "id": "5d8fa5c3",
   "metadata": {},
   "outputs": [
    {
     "ename": "ModuleNotFoundError",
     "evalue": "No module named 'ipywidgets'",
     "output_type": "error",
     "traceback": [
      "\u001b[1;31m---------------------------------------------------------------------------\u001b[0m",
      "\u001b[1;31mModuleNotFoundError\u001b[0m                       Traceback (most recent call last)",
      "\u001b[1;32mf:\\Mtech\\bigdataproj\\Bigdataproject\\venue_analysis.ipynb Cell 8\u001b[0m in \u001b[0;36m<cell line: 1>\u001b[1;34m()\u001b[0m\n\u001b[1;32m----> <a href='vscode-notebook-cell:/f%3A/Mtech/bigdataproj/Bigdataproject/venue_analysis.ipynb#X10sZmlsZQ%3D%3D?line=0'>1</a>\u001b[0m \u001b[39mimport\u001b[39;00m \u001b[39mipywidgets\u001b[39;00m \u001b[39mas\u001b[39;00m \u001b[39mwidgets\u001b[39;00m\n\u001b[0;32m      <a href='vscode-notebook-cell:/f%3A/Mtech/bigdataproj/Bigdataproject/venue_analysis.ipynb#X10sZmlsZQ%3D%3D?line=2'>3</a>\u001b[0m \u001b[39m# Create a list of unique players and venues\u001b[39;00m\n\u001b[0;32m      <a href='vscode-notebook-cell:/f%3A/Mtech/bigdataproj/Bigdataproject/venue_analysis.ipynb#X10sZmlsZQ%3D%3D?line=3'>4</a>\u001b[0m players \u001b[39m=\u001b[39m final_df[\u001b[39m'\u001b[39m\u001b[39mplayer\u001b[39m\u001b[39m'\u001b[39m]\u001b[39m.\u001b[39munique()\n",
      "\u001b[1;31mModuleNotFoundError\u001b[0m: No module named 'ipywidgets'"
     ]
    }
   ],
   "source": [
    "import ipywidgets as widgets\n",
    "\n",
    "# Create a list of unique players and venues\n",
    "players = final_df['player'].unique()\n",
    "venues = final_df['venue'].unique()\n",
    "\n",
    "# Create dropdown widgets for player and venue\n",
    "player_dropdown = widgets.Dropdown(options=players, description='Player:')\n",
    "venue_dropdown = widgets.Dropdown(options=venues, description='Venue:')\n",
    "\n",
    "# Define a function to display player statistics\n",
    "def display_stats(player, venue):\n",
    "    # Filter the final_df dataframe based on the selected player and venue\n",
    "    filtered_df = final_df[(final_df['player'] == player) & (final_df['venue'] == venue)]\n",
    "    if not filtered_df.empty:\n",
    "        # If there are records for the selected player and venue, display the statistics\n",
    "        runs_scored = filtered_df['runs scored at that venue'].iloc[0]\n",
    "        batting_avg = filtered_df['batting average at that venue'].iloc[0]\n",
    "        batting_strike_rate = filtered_df['batting strike rate at that venue'].iloc[0]\n",
    "        wickets_taken = filtered_df['wickets taken at that venue'].iloc[0]\n",
    "        bowling_avg = filtered_df['bowling average at that venue'].iloc[0]\n",
    "        bowling_strike_rate = filtered_df['bowling strike rate at that venue'].iloc[0]\n",
    "        print('Player: {}'.format(player))\n",
    "        print('Venue: {}'.format(venue))\n",
    "        print('Runs scored: {}'.format(runs_scored))\n",
    "        print('Batting average: {}'.format(batting_avg))\n",
    "        print('Batting strike rate: {}'.format(batting_strike_rate))\n",
    "        print('Wickets taken: {}'.format(wickets_taken))\n",
    "        print('Bowling average: {}'.format(bowling_avg))\n",
    "        print('Bowling strike rate: {}'.format(bowling_strike_rate))\n",
    "    else:\n",
    "        # If there are no records for the selected player and venue, display a message\n",
    "        print('No records found for the selected player and venue')\n",
    "\n",
    "# Define a function to update the player statistics when a player or venue is selected\n",
    "def update_stats(*args):\n",
    "    display_stats(player_dropdown.value, venue_dropdown.value)\n",
    "\n",
    "# Register the update_stats function to be called when the player or venue dropdown value changes\n",
    "player_dropdown.observe(update_stats, 'value')\n",
    "venue_dropdown.observe(update_stats, 'value')\n",
    "\n",
    "# Display the player and venue dropdowns\n",
    "display(widgets.VBox([player_dropdown, venue_dropdown]))\n"
   ]
  }
 ],
 "metadata": {
  "kernelspec": {
   "display_name": "Python 3 (ipykernel)",
   "language": "python",
   "name": "python3"
  },
  "language_info": {
   "codemirror_mode": {
    "name": "ipython",
    "version": 3
   },
   "file_extension": ".py",
   "mimetype": "text/x-python",
   "name": "python",
   "nbconvert_exporter": "python",
   "pygments_lexer": "ipython3",
   "version": "3.9.10"
  }
 },
 "nbformat": 4,
 "nbformat_minor": 5
}
