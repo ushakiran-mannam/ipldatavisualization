{
 "cells": [
  {
   "cell_type": "code",
   "execution_count": 1,
   "metadata": {},
   "outputs": [
    {
     "name": "stderr",
     "output_type": "stream",
     "text": [
      "C:\\Users\\manna\\AppData\\Local\\Temp\\ipykernel_2552\\94611248.py:2: DtypeWarning: Columns (20,30) have mixed types. Specify dtype option on import or set low_memory=False.\n",
      "  merged_ipl_df = pd.read_csv('data/2018_and_2019_ipl_ball_by_ball.csv')\n"
     ]
    }
   ],
   "source": [
    "import pandas as pd\n",
    "merged_ipl_df = pd.read_csv('data/2018_and_2019_ipl_ball_by_ball.csv')"
   ]
  },
  {
   "cell_type": "code",
   "execution_count": 2,
   "metadata": {},
   "outputs": [],
   "source": [
    "# Calculate batting average\n",
    "\n",
    "new_df = merged_ipl_df[['ID','batter','batsman_run']].copy()\n"
   ]
  },
  {
   "cell_type": "code",
   "execution_count": 3,
   "metadata": {},
   "outputs": [],
   "source": [
    "# Group data by matchid and batsman\n",
    "grouped_data = new_df.groupby(['ID', 'batter'])\n",
    "\n",
    "# Create an empty dictionary to store batsman runs\n",
    "batsman_runs = {}\n",
    "\n",
    "# Iterate over each group\n",
    "for name, group in grouped_data:\n",
    "    # Calculate total runs scored by the batsman in the match\n",
    "    runs = group['batsman_run'].sum()\n",
    "    \n",
    "    # Add the batsman and their total runs to the dictionary\n",
    "    matchid = name[0]\n",
    "    batsman = name[1]\n",
    "    if matchid not in batsman_runs:\n",
    "        batsman_runs[matchid] = {}\n",
    "    batsman_runs[matchid][batsman] = runs"
   ]
  },
  {
   "cell_type": "code",
   "execution_count": 5,
   "metadata": {},
   "outputs": [
    {
     "name": "stdout",
     "output_type": "stream",
     "text": [
      "{1136561: {'AT Rayudu': 22, 'DJ Bravo': 68, 'DL Chahar': 0, 'E Lewis': 0, 'HH Pandya': 22, 'Harbhajan Singh': 8, 'Imran Tahir': 2, 'Ishan Kishan': 40, 'KH Pandya': 41, 'KM Jadhav': 24, 'MA Wood': 1, 'MS Dhoni': 5, 'RA Jadeja': 12, 'RG Sharma': 15, 'SA Yadav': 43, 'SK Raina': 4, 'SR Watson': 16}, 1136562: {'C Munro': 4, 'CH Morris': 27, 'DA Miller': 24, 'DT Christian': 13, 'G Gambhir': 55, 'KK Nair': 50, 'KL Rahul': 51, 'MA Agarwal': 7, 'MP Stoinis': 22, 'R Tewatia': 9, 'RR Pant': 28, 'SS Iyer': 11, 'V Shankar': 13, 'Yuvraj Singh': 12}, 1136563: {'AB de Villiers': 44, 'AD Russell': 15, 'BB McCullum': 43, 'CA Lynn': 5, 'CR Woakes': 5, 'KD Karthik': 35, 'Mandeep Singh': 37, 'N Rana': 34, 'Q de Kock': 4, 'R Vinay Kumar': 6, 'RK Singh': 6, 'RV Uthappa': 13, 'SN Khan': 6, 'SP Narine': 50, 'V Kohli': 31}, 1136564: {'AM Rahane': 13, 'B Laughlin': 1, 'BA Stokes': 5, 'DJM Short': 4, 'DS Kulkarni': 3, 'JC Buttler': 6, 'JD Unadkat': 1, 'K Gowtham': 0, 'KS Williamson': 36, 'RA Tripathi': 17, 'S Dhawan': 78, 'S Gopal': 18, 'SV Samson': 49, 'WP Saha': 5}, 1136565: {'AD Russell': 88, 'AT Rayudu': 39, 'CA Lynn': 22, 'DJ Bravo': 11, 'KD Karthik': 26, 'MS Dhoni': 25, 'N Rana': 16, 'RA Jadeja': 11, 'RK Singh': 2, 'RV Uthappa': 29, 'SK Raina': 14, 'SP Narine': 12, 'SR Watson': 42, 'SW Billings': 56, 'TK Curran': 2}, 1136566: {'AM Rahane': 45, 'BA Stokes': 16, 'CH Morris': 17, 'DJM Short': 6, 'GJ Maxwell': 17, 'JC Buttler': 29, 'K Gowtham': 2, 'RA Tripathi': 15, 'RR Pant': 20, 'SV Samson': 37, 'V Shankar': 3}, 1136567: {'B Stanlake': 5, 'BCJ Cutting': 9, 'DJ Hooda': 32, 'E Lewis': 29, 'Ishan Kishan': 9, 'JJ Bumrah': 4, 'KA Pollard': 28, 'KH Pandya': 15, 'KS Williamson': 6, 'M Markande': 6, 'MK Pandey': 11, 'PJ Sangwan': 0, 'RG Sharma': 11, 'Rashid Khan': 0, 'S Dhawan': 45, 'S Kaul': 0, 'SA Yadav': 28, 'Sandeep Sharma': 0, 'Shakib Al Hasan': 12, 'WP Saha': 22, 'YK Pathan': 14}, 1136568: {'AB de Villiers': 57, 'AJ Finch': 0, 'AJ Tye': 7, 'AR Patel': 2, 'BB McCullum': 0, 'CR Woakes': 1, 'KK Nair': 29, 'KL Rahul': 47, 'MA Agarwal': 15, 'MM Sharma': 1, 'MP Stoinis': 11, 'Mandeep Singh': 22, 'Mujeeb Ur Rahman': 0, 'Q de Kock': 45, 'R Ashwin': 33, 'SN Khan': 0, 'V Kohli': 21, 'Washington Sundar': 9, 'Yuvraj Singh': 4}, 1136569: {'A Dananjaya': 4, 'E Lewis': 48, 'G Gambhir': 15, 'GJ Maxwell': 13, 'HH Pandya': 2, 'Ishan Kishan': 44, 'JJ Roy': 91, 'KA Pollard': 0, 'KH Pandya': 11, 'M Markande': 4, 'RG Sharma': 18, 'RR Pant': 47, 'SA Yadav': 53, 'SS Iyer': 27}, 1136570: {'AD Russell': 9, 'CA Lynn': 49, 'DJ Hooda': 5, 'KD Karthik': 29, 'KS Williamson': 50, 'MG Johnson': 4, 'MK Pandey': 4, 'N Rana': 18, 'RV Uthappa': 3, 'S Dhawan': 7, 'SP Narine': 9, 'Shakib Al Hasan': 27, 'Shivam Mavi': 7, 'Shubman Gill': 3, 'WP Saha': 24, 'YK Pathan': 17}, 1136571: {'AB de Villiers': 20, 'AM Rahane': 36, 'BA Stokes': 27, 'BB McCullum': 4, 'CR Woakes': 0, 'DJM Short': 11, 'JC Buttler': 23, 'Mandeep Singh': 47, 'P Negi': 3, 'Q de Kock': 26, 'RA Tripathi': 14, 'SV Samson': 92, 'V Kohli': 57, 'Washington Sundar': 35}, 1136572: {'AJ Finch': 0, 'AJ Tye': 3, 'AT Rayudu': 49, 'CH Gayle': 63, 'DJ Bravo': 1, 'KK Nair': 29, 'KL Rahul': 37, 'M Vijay': 12, 'MA Agarwal': 30, 'MS Dhoni': 79, 'R Ashwin': 14, 'RA Jadeja': 19, 'SR Watson': 11, 'SW Billings': 9, 'Yuvraj Singh': 20}, 1136573: {'AD Russell': 41, 'CA Lynn': 31, 'CH Morris': 2, 'G Gambhir': 8, 'GJ Maxwell': 47, 'JJ Roy': 1, 'KD Karthik': 19, 'Mohammed Shami': 7, 'N Rana': 59, 'PP Chawla': 0, 'R Tewatia': 1, 'RR Pant': 43, 'RV Uthappa': 35, 'S Nadeem': 6, 'SP Narine': 1, 'SS Iyer': 4, 'Shubman Gill': 6, 'TA Boult': 0, 'TK Curran': 2, 'V Shankar': 2}, 1136574: {'AB de Villiers': 1, 'CJ Anderson': 0, 'CR Woakes': 11, 'E Lewis': 65, 'HH Pandya': 17, 'Ishan Kishan': 0, 'KA Pollard': 5, 'KH Pandya': 15, 'MJ McClenaghan': 0, 'Mandeep Singh': 16, 'Mohammed Siraj': 8, 'Q de Kock': 19, 'RG Sharma': 94, 'SA Yadav': 0, 'SN Khan': 5, 'UT Yadav': 1, 'V Kohli': 92, 'Washington Sundar': 7}, 1136575: {'AM Rahane': 36, 'BA Stokes': 14, 'CA Lynn': 0, 'DJM Short': 44, 'DS Kulkarni': 3, 'JC Buttler': 24, 'K Gowtham': 12, 'KD Karthik': 42, 'N Rana': 35, 'RA Tripathi': 15, 'RV Uthappa': 48, 'S Gopal': 0, 'SP Narine': 35, 'SV Samson': 7}, 1136576: {'AJ Finch': 14, 'CH Gayle': 104, 'DJ Hooda': 5, 'KK Nair': 31, 'KL Rahul': 18, 'KS Williamson': 54, 'MA Agarwal': 18, 'MK Pandey': 57, 'S Dhawan': 0, 'Shakib Al Hasan': 24, 'WP Saha': 6, 'YK Pathan': 19}, 1136577: {'AM Rahane': 16, 'AT Rayudu': 12, 'B Laughlin': 0, 'BA Stokes': 45, 'DJ Bravo': 24, 'H Klaasen': 7, 'JC Buttler': 22, 'JD Unadkat': 16, 'K Gowtham': 1, 'MS Dhoni': 5, 'RA Jadeja': 2, 'RA Tripathi': 5, 'S Gopal': 8, 'SK Raina': 46, 'SR Watson': 106, 'STR Binny': 10, 'SV Samson': 2, 'SW Billings': 3}, 1136578: {'AD Russell': 10, 'CA Lynn': 74, 'CH Gayle': 62, 'KD Karthik': 43, 'KL Rahul': 60, 'MA Agarwal': 2, 'N Rana': 3, 'PP Chawla': 2, 'RV Uthappa': 34, 'SP Narine': 1, 'Shubman Gill': 14, 'TK Curran': 1}, 1136579: {'AB de Villiers': 90, 'CJ Anderson': 15, 'G Gambhir': 3, 'GJ Maxwell': 4, 'JJ Roy': 5, 'M Vohra': 2, 'Mandeep Singh': 17, 'Q de Kock': 18, 'R Tewatia': 13, 'RR Pant': 85, 'SS Iyer': 52, 'V Kohli': 30}, 1136580: {'AT Rayudu': 79, 'DJ Hooda': 1, 'F du Plessis': 11, 'KS Williamson': 84, 'MK Pandey': 0, 'MS Dhoni': 25, 'RK Bhui': 0, 'Rashid Khan': 17, 'SK Raina': 54, 'SR Watson': 9, 'Shakib Al Hasan': 24, 'WP Saha': 5, 'YK Pathan': 45}, 1136581: {'AM Rahane': 14, 'BA Stokes': 40, 'E Lewis': 0, 'H Klaasen': 0, 'HH Pandya': 4, 'Ishan Kishan': 58, 'JC Archer': 8, 'JC Buttler': 6, 'K Gowtham': 33, 'KA Pollard': 21, 'KH Pandya': 7, 'M Markande': 0, 'MJ McClenaghan': 0, 'RA Tripathi': 9, 'RG Sharma': 0, 'SA Yadav': 72, 'SV Samson': 52}, 1136582: {'A Mishra': 1, 'AJ Finch': 2, 'AJ Tye': 3, 'BB Sran': 0, 'DA Miller': 26, 'DT Christian': 6, 'G Gambhir': 4, 'GJ Maxwell': 12, 'KK Nair': 34, 'KL Rahul': 23, 'LE Plunkett': 0, 'MA Agarwal': 21, 'PP Shaw': 22, 'R Ashwin': 6, 'R Tewatia': 24, 'RR Pant': 4, 'SS Iyer': 57, 'Yuvraj Singh': 14}, 1136583: {'Basil Thampi': 3, 'E Lewis': 5, 'HH Pandya': 3, 'Ishan Kishan': 0, 'JJ Bumrah': 6, 'KA Pollard': 9, 'KH Pandya': 24, 'KS Williamson': 29, 'M Markande': 1, 'MJ McClenaghan': 0, 'MK Pandey': 16, 'Mohammad Nabi': 14, 'Mustafizur Rahman': 1, 'RG Sharma': 2, 'Rashid Khan': 6, 'S Dhawan': 5, 'S Kaul': 2, 'SA Yadav': 34, 'Sandeep Sharma': 0, 'Shakib Al Hasan': 2, 'WP Saha': 0, 'YK Pathan': 29}, 1136584: {'AB de Villiers': 68, 'AT Rayudu': 82, 'C de Grandhomme': 11, 'CJ Anderson': 2, 'DJ Bravo': 14, 'MS Dhoni': 70, 'Mandeep Singh': 32, 'P Negi': 0, 'Q de Kock': 53, 'RA Jadeja': 3, 'SK Raina': 11, 'SR Watson': 7, 'SW Billings': 9, 'UT Yadav': 0, 'V Kohli': 18, 'Washington Sundar': 13}, 1136585: {'AJ Finch': 8, 'AJ Tye': 4, 'AS Rajpoot': 8, 'BB Sran': 2, 'CH Gayle': 23, 'KK Nair': 13, 'KL Rahul': 32, 'KS Williamson': 0, 'MA Agarwal': 12, 'MK Pandey': 54, 'MK Tiwary': 1, 'Mohammad Nabi': 4, 'Mujeeb Ur Rahman': 10, 'R Ashwin': 4, 'S Dhawan': 11, 'Shakib Al Hasan': 28, 'WP Saha': 6, 'YK Pathan': 21}, 1136586: {'AD Russell': 44, 'C Munro': 33, 'CA Lynn': 5, 'GJ Maxwell': 27, 'KD Karthik': 18, 'Kuldeep Yadav': 7, 'MG Johnson': 12, 'N Rana': 8, 'PP Chawla': 2, 'PP Shaw': 62, 'RR Pant': 0, 'RV Uthappa': 1, 'SP Narine': 26, 'SS Iyer': 93, 'Shivam Mavi': 0, 'Shubman Gill': 37}, 1136587: {'AT Rayudu': 46, 'DJ Bravo': 0, 'E Lewis': 47, 'HH Pandya': 13, 'MS Dhoni': 26, 'RG Sharma': 56, 'SA Yadav': 44, 'SK Raina': 75, 'SR Watson': 12, 'SW Billings': 3}, 1136588: {'AD Hales': 45, 'AM Rahane': 65, 'BA Stokes': 0, 'JC Archer': 1, 'JC Buttler': 10, 'K Gowtham': 8, 'KS Williamson': 63, 'MK Lomror': 11, 'MK Pandey': 16, 'RA Tripathi': 4, 'Rashid Khan': 1, 'S Dhawan': 6, 'SV Samson': 40, 'Shakib Al Hasan': 6, 'WP Saha': 11, 'YK Pathan': 2}, 1136589: {'AD Russell': 0, 'BB McCullum': 38, 'C de Grandhomme': 11, 'CA Lynn': 62, 'KD Karthik': 23, 'M Vohra': 0, 'Mandeep Singh': 19, 'N Rana': 15, 'Q de Kock': 29, 'RV Uthappa': 36, 'SP Narine': 27, 'Shubman Gill': 5, 'V Kohli': 68}, 1136590: {'AT Rayudu': 41, 'C Munro': 26, 'F du Plessis': 33, 'GJ Maxwell': 6, 'MS Dhoni': 51, 'PP Shaw': 9, 'R Tewatia': 3, 'RR Pant': 79, 'SK Raina': 1, 'SR Watson': 78, 'SS Iyer': 13, 'V Shankar': 54}, 1136591: {'BB McCullum': 37, 'BCJ Cutting': 12, 'C de Grandhomme': 23, 'HH Pandya': 50, 'Ishan Kishan': 0, 'JP Duminy': 23, 'KA Pollard': 13, 'KH Pandya': 23, 'M Vohra': 45, 'Mandeep Singh': 14, 'Q de Kock': 7, 'RG Sharma': 0, 'SA Yadav': 9, 'TG Southee': 1, 'UT Yadav': 1, 'V Kohli': 32, 'Washington Sundar': 1}, 1136592: {'BA Stokes': 1, 'C Munro': 0, 'DJM Short': 44, 'GJ Maxwell': 5, 'JC Buttler': 67, 'K Gowtham': 18, 'LE Plunkett': 1, 'PP Shaw': 47, 'RA Tripathi': 9, 'RR Pant': 69, 'SS Iyer': 50, 'SV Samson': 3, 'V Shankar': 17}, 1136593: {'AT Rayudu': 21, 'CA Lynn': 12, 'F du Plessis': 27, 'KD Karthik': 45, 'MS Dhoni': 43, 'RA Jadeja': 12, 'RK Singh': 16, 'RV Uthappa': 6, 'SK Raina': 31, 'SP Narine': 32, 'SR Watson': 36, 'Shubman Gill': 57}, 1136594: {'AR Patel': 13, 'CH Gayle': 50, 'E Lewis': 10, 'HH Pandya': 23, 'Ishan Kishan': 25, 'KH Pandya': 31, 'KK Nair': 23, 'KL Rahul': 24, 'MA Agarwal': 11, 'MP Stoinis': 29, 'RG Sharma': 24, 'SA Yadav': 57, 'Yuvraj Singh': 14}, 1136595: {'AB de Villiers': 1, 'AT Rayudu': 32, 'BB McCullum': 5, 'C de Grandhomme': 8, 'DJ Bravo': 14, 'DR Shorey': 8, 'M Ashwin': 1, 'MS Dhoni': 31, 'Mandeep Singh': 7, 'Mohammed Siraj': 3, 'PA Patel': 53, 'SK Raina': 25, 'SR Watson': 11, 'TG Southee': 36, 'UT Yadav': 1, 'V Kohli': 8}, 1136596: {'AD Hales': 45, 'DT Christian': 7, 'GJ Maxwell': 2, 'KS Williamson': 32, 'MK Pandey': 21, 'NV Ojha': 1, 'PP Shaw': 65, 'RR Pant': 18, 'S Dhawan': 33, 'SS Iyer': 44, 'V Shankar': 23, 'YK Pathan': 27}, 1136597: {'AD Russell': 9, 'CA Lynn': 17, 'E Lewis': 43, 'HH Pandya': 35, 'JP Duminy': 13, 'KD Karthik': 36, 'KH Pandya': 14, 'N Rana': 31, 'RG Sharma': 11, 'RV Uthappa': 54, 'SA Yadav': 59, 'SP Narine': 5, 'Shubman Gill': 7}, 1136598: {'AM Rahane': 5, 'AR Patel': 4, 'BA Stokes': 12, 'CH Gayle': 8, 'DJM Short': 2, 'JC Archer': 0, 'JC Buttler': 51, 'JD Unadkat': 6, 'K Gowtham': 5, 'KK Nair': 31, 'KL Rahul': 84, 'MA Agarwal': 2, 'MP Stoinis': 23, 'RA Tripathi': 11, 'S Gopal': 24, 'SV Samson': 28}, 1136599: {'AB de Villiers': 5, 'AD Hales': 5, 'B Kumar': 1, 'C de Grandhomme': 33, 'KS Williamson': 56, 'M Vohra': 8, 'MK Pandey': 5, 'MM Ali': 10, 'Mandeep Singh': 21, 'PA Patel': 20, 'Rashid Khan': 1, 'S Dhawan': 13, 'S Kaul': 1, 'Sandeep Sharma': 0, 'Shakib Al Hasan': 35, 'V Kohli': 39, 'WP Saha': 8, 'YK Pathan': 12}, 1136600: {'AD Nath': 9, 'AJ Tye': 1, 'AM Rahane': 9, 'AR Patel': 9, 'BA Stokes': 14, 'CH Gayle': 1, 'JC Archer': 0, 'JC Buttler': 82, 'JD Unadkat': 0, 'K Gowtham': 8, 'KK Nair': 3, 'KL Rahul': 95, 'MK Lomror': 9, 'MK Tiwary': 7, 'MP Stoinis': 11, 'R Ashwin': 0, 'STR Binny': 11, 'SV Samson': 22}, 1136601: {'AD Russell': 2, 'BCJ Cutting': 24, 'CA Lynn': 21, 'E Lewis': 18, 'HH Pandya': 19, 'Ishan Kishan': 62, 'KD Karthik': 5, 'KH Pandya': 8, 'Kuldeep Yadav': 5, 'M Prasidh Krishna': 1, 'N Rana': 21, 'PP Chawla': 11, 'RG Sharma': 36, 'RK Singh': 5, 'RV Uthappa': 14, 'SA Yadav': 36, 'SP Narine': 4, 'TK Curran': 18}, 1136602: {'AD Hales': 14, 'GJ Maxwell': 9, 'HV Patel': 24, 'JJ Roy': 11, 'KS Williamson': 83, 'PP Shaw': 9, 'RR Pant': 128, 'S Dhawan': 92, 'SS Iyer': 3}, 1136603: {'AM Rahane': 4, 'AT Rayudu': 12, 'BA Stokes': 11, 'DJ Bravo': 1, 'JC Buttler': 95, 'K Gowtham': 13, 'MS Dhoni': 33, 'P Chopra': 8, 'SK Raina': 52, 'SR Watson': 39, 'STR Binny': 22, 'SV Samson': 21, 'SW Billings': 27}, 1136604: {'AD Russell': 31, 'AJ Finch': 34, 'AJ Tye': 14, 'AR Patel': 19, 'BB Sran': 1, 'CA Lynn': 27, 'CH Gayle': 21, 'JPR Scantlebury-Searles': 6, 'KD Karthik': 50, 'KK Nair': 3, 'KL Rahul': 66, 'MA Agarwal': 0, 'MM Sharma': 4, 'N Rana': 11, 'R Ashwin': 45, 'RV Uthappa': 24, 'SP Narine': 75, 'Shubman Gill': 16}, 1136605: {'AB de Villiers': 72, 'Abhishek Sharma': 46, 'C de Grandhomme': 3, 'JJ Roy': 12, 'MM Ali': 1, 'Mandeep Singh': 13, 'PA Patel': 6, 'PP Shaw': 2, 'RR Pant': 61, 'SN Khan': 11, 'SS Iyer': 32, 'V Kohli': 70, 'V Shankar': 21}, 1136606: {'AD Hales': 2, 'AT Rayudu': 100, 'DJ Hooda': 21, 'KS Williamson': 51, 'MK Pandey': 5, 'MS Dhoni': 20, 'S Dhawan': 79, 'SK Raina': 2, 'SR Watson': 57, 'Shakib Al Hasan': 8}, 1136607: {'AM Rahane': 37, 'BCJ Cutting': 10, 'DJM Short': 4, 'E Lewis': 60, 'HH Pandya': 36, 'Ishan Kishan': 12, 'JC Buttler': 94, 'KH Pandya': 3, 'RG Sharma': 0, 'SA Yadav': 38, 'SV Samson': 26}, 1136608: {'AJ Finch': 26, 'AJ Tye': 0, 'AR Patel': 9, 'AS Rajpoot': 1, 'CH Gayle': 18, 'KK Nair': 1, 'KL Rahul': 21, 'MA Agarwal': 2, 'MM Sharma': 3, 'MP Stoinis': 2, 'PA Patel': 40, 'R Ashwin': 0, 'V Kohli': 48}, 1136609: {'AD Russell': 11, 'AM Rahane': 11, 'Anureet Singh': 3, 'BA Stokes': 11, 'CA Lynn': 45, 'IS Sodhi': 1, 'JC Archer': 6, 'JC Buttler': 39, 'JD Unadkat': 26, 'K Gowtham': 3, 'KD Karthik': 41, 'N Rana': 21, 'RA Tripathi': 27, 'RV Uthappa': 4, 'SP Narine': 21, 'STR Binny': 1, 'SV Samson': 12}, 1136610: {'AJ Finch': 46, 'AR Patel': 10, 'BCJ Cutting': 4, 'CH Gayle': 18, 'E Lewis': 9, 'HH Pandya': 9, 'Ishan Kishan': 20, 'KA Pollard': 50, 'KH Pandya': 32, 'KL Rahul': 94, 'M Markande': 7, 'MJ McClenaghan': 11, 'MK Tiwary': 4, 'MP Stoinis': 1, 'RG Sharma': 6, 'SA Yadav': 27, 'Yuvraj Singh': 1}, 1136611: {'AB de Villiers': 69, 'AD Hales': 37, 'C de Grandhomme': 40, 'DJ Hooda': 1, 'KS Williamson': 81, 'MK Pandey': 62, 'MM Ali': 65, 'Mandeep Singh': 4, 'PA Patel': 1, 'S Dhawan': 18, 'SN Khan': 22, 'TG Southee': 1, 'V Kohli': 12}, 1136612: {'AT Rayudu': 50, 'Abhishek Sharma': 2, 'DJ Bravo': 1, 'DL Chahar': 1, 'GJ Maxwell': 5, 'HV Patel': 36, 'MS Dhoni': 17, 'PP Shaw': 17, 'RA Jadeja': 27, 'RR Pant': 38, 'SK Raina': 15, 'SR Watson': 14, 'SS Iyer': 19, 'SW Billings': 1, 'V Shankar': 36}, 1136613: {'AB de Villiers': 53, 'AM Rahane': 33, 'C de Grandhomme': 2, 'H Klaasen': 32, 'JC Archer': 0, 'K Gowtham': 14, 'MM Ali': 1, 'Mandeep Singh': 3, 'Mohammed Siraj': 14, 'PA Patel': 33, 'RA Tripathi': 80, 'SN Khan': 7, 'SV Samson': 0, 'TG Southee': 14, 'UT Yadav': 0, 'V Kohli': 4, 'YS Chahal': 0}, 1136614: {'AD Russell': 4, 'B Kumar': 0, 'CA Lynn': 55, 'CR Brathwaite': 3, 'KD Karthik': 26, 'KS Williamson': 36, 'MK Pandey': 25, 'N Rana': 7, 'RV Uthappa': 45, 'Rashid Khan': 0, 'S Dhawan': 50, 'SP Goswami': 35, 'SP Narine': 29, 'Shakib Al Hasan': 10, 'YK Pathan': 2}, 1136615: {'Abhishek Sharma': 15, 'BCJ Cutting': 37, 'E Lewis': 48, 'GJ Maxwell': 22, 'HH Pandya': 27, 'Ishan Kishan': 5, 'JJ Bumrah': 0, 'KA Pollard': 7, 'KH Pandya': 4, 'M Markande': 3, 'PP Shaw': 12, 'RG Sharma': 13, 'RR Pant': 64, 'SA Yadav': 12, 'SS Iyer': 6, 'V Shankar': 43}, 1136616: {'AJ Finch': 4, 'AJ Tye': 0, 'AR Patel': 14, 'AS Rajpoot': 2, 'AT Rayudu': 1, 'CH Gayle': 0, 'DA Miller': 24, 'DL Chahar': 39, 'F du Plessis': 14, 'Harbhajan Singh': 19, 'KK Nair': 54, 'KL Rahul': 7, 'MK Tiwary': 35, 'MM Sharma': 2, 'MS Dhoni': 16, 'R Ashwin': 0, 'SK Raina': 61, 'SW Billings': 0}, 1136617: {'AT Rayudu': 0, 'B Kumar': 7, 'CR Brathwaite': 43, 'DJ Bravo': 7, 'DL Chahar': 10, 'F du Plessis': 67, 'Harbhajan Singh': 2, 'KS Williamson': 24, 'MK Pandey': 8, 'MS Dhoni': 9, 'RA Jadeja': 3, 'S Dhawan': 0, 'SK Raina': 22, 'SN Thakur': 15, 'SP Goswami': 12, 'SR Watson': 0, 'Shakib Al Hasan': 12, 'YK Pathan': 24}, 1136618: {'AD Russell': 49, 'AM Rahane': 46, 'CA Lynn': 18, 'H Klaasen': 18, 'JPR Scantlebury-Searles': 2, 'K Gowtham': 9, 'KD Karthik': 52, 'N Rana': 3, 'RA Tripathi': 20, 'RV Uthappa': 3, 'SP Narine': 4, 'STR Binny': 0, 'SV Samson': 50, 'Shubman Gill': 28}, 1136619: {'AD Russell': 3, 'B Kumar': 5, 'CA Lynn': 48, 'CR Brathwaite': 8, 'DJ Hooda': 19, 'KD Karthik': 8, 'KS Williamson': 3, 'Kuldeep Yadav': 0, 'N Rana': 22, 'PP Chawla': 12, 'RV Uthappa': 2, 'Rashid Khan': 34, 'S Dhawan': 34, 'SP Narine': 26, 'Shakib Al Hasan': 28, 'Shivam Mavi': 6, 'Shubman Gill': 30, 'WP Saha': 35, 'YK Pathan': 3}, 1136620: {'AT Rayudu': 16, 'CR Brathwaite': 21, 'DJ Hooda': 3, 'F du Plessis': 10, 'KS Williamson': 47, 'S Dhawan': 26, 'SK Raina': 32, 'SP Goswami': 5, 'SR Watson': 117, 'Shakib Al Hasan': 23, 'YK Pathan': 45}, 1175356: {'AB de Villiers': 9, 'AT Rayudu': 28, 'C de Grandhomme': 4, 'KM Jadhav': 13, 'MM Ali': 9, 'Mohammed Siraj': 0, 'Navdeep Saini': 2, 'PA Patel': 29, 'RA Jadeja': 6, 'S Dube': 2, 'SK Raina': 19, 'SO Hetmyer': 0, 'SR Watson': 0, 'UT Yadav': 1, 'V Kohli': 6, 'YS Chahal': 4}, 1175357: {'AD Russell': 49, 'CA Lynn': 7, 'DA Warner': 85, 'JM Bairstow': 39, 'KD Karthik': 2, 'MK Pandey': 8, 'N Rana': 68, 'RV Uthappa': 35, 'Shubman Gill': 18, 'V Shankar': 40, 'YK Pathan': 1}, 1175358: {'AR Patel': 4, 'BCJ Cutting': 3, 'CA Ingram': 47, 'HH Pandya': 0, 'KA Pollard': 21, 'KH Pandya': 32, 'KMA Paul': 3, 'MJ McClenaghan': 10, 'PP Shaw': 7, 'Q de Kock': 27, 'R Tewatia': 9, 'RG Sharma': 14, 'RR Pant': 78, 'Rasikh Salam': 5, 'S Dhawan': 43, 'SA Yadav': 2, 'SS Iyer': 16, 'Yuvraj Singh': 53}, 1175359: {'AM Rahane': 27, 'BA Stokes': 6, 'CH Gayle': 79, 'DS Kulkarni': 5, 'JC Archer': 2, 'JC Buttler': 69, 'JD Unadkat': 1, 'K Gowtham': 3, 'KL Rahul': 4, 'MA Agarwal': 22, 'Mandeep Singh': 5, 'N Pooran': 12, 'RA Tripathi': 1, 'S Gopal': 1, 'SN Khan': 46, 'SPD Smith': 20, 'SV Samson': 30}, 1175360: {'AR Patel': 9, 'AT Rayudu': 5, 'CA Ingram': 2, 'DJ Bravo': 4, 'KM Jadhav': 27, 'KMA Paul': 0, 'MS Dhoni': 32, 'PP Shaw': 24, 'R Tewatia': 11, 'RR Pant': 25, 'S Dhawan': 51, 'SK Raina': 30, 'SR Watson': 44, 'SS Iyer': 18}, 1175361: {'AD Russell': 48, 'CA Lynn': 10, 'CH Gayle': 20, 'DA Miller': 59, 'KD Karthik': 1, 'KL Rahul': 1, 'MA Agarwal': 58, 'Mandeep Singh': 33, 'N Rana': 63, 'RV Uthappa': 67, 'SN Khan': 13, 'SP Narine': 24}, 1175362: {'AB de Villiers': 70, 'C de Grandhomme': 2, 'HH Pandya': 32, 'JJ Bumrah': 0, 'KA Pollard': 5, 'KH Pandya': 1, 'M Markande': 6, 'MJ McClenaghan': 1, 'MM Ali': 13, 'PA Patel': 31, 'Q de Kock': 23, 'RG Sharma': 48, 'S Dube': 9, 'SA Yadav': 38, 'SO Hetmyer': 5, 'V Kohli': 46, 'Yuvraj Singh': 23}, 1175363: {'AM Rahane': 70, 'BA Stokes': 16, 'DA Warner': 69, 'JC Buttler': 5, 'JM Bairstow': 45, 'KS Williamson': 14, 'MK Pandey': 1, 'Rashid Khan': 15, 'SV Samson': 102, 'V Shankar': 35, 'YK Pathan': 16}, 1175364: {'CH Gayle': 40, 'DA Miller': 15, 'HH Pandya': 31, 'KA Pollard': 7, 'KH Pandya': 10, 'KL Rahul': 71, 'MA Agarwal': 43, 'MJ McClenaghan': 0, 'Q de Kock': 60, 'RG Sharma': 32, 'SA Yadav': 11, 'Yuvraj Singh': 18}, 1175365: {'AD Russell': 66, 'CA Ingram': 10, 'CA Lynn': 20, 'GH Vihari': 2, 'KD Karthik': 51, 'Kuldeep Yadav': 10, 'N Rana': 1, 'NS Naik': 7, 'PP Chawla': 12, 'PP Shaw': 99, 'RR Pant': 17, 'RV Uthappa': 13, 'S Dhawan': 16, 'SS Iyer': 47, 'Shubman Gill': 4}, 1175366: {'AB de Villiers': 1, 'C de Grandhomme': 37, 'DA Warner': 100, 'JM Bairstow': 114, 'MM Ali': 2, 'Mohammed Siraj': 3, 'P Ray Barman': 19, 'PA Patel': 11, 'S Dube': 5, 'SO Hetmyer': 9, 'UT Yadav': 14, 'V Kohli': 3, 'V Shankar': 9, 'YK Pathan': 6, 'YS Chahal': 1}, 1175367: {'AM Rahane': 0, 'AT Rayudu': 1, 'BA Stokes': 46, 'DJ Bravo': 27, 'JC Archer': 24, 'JC Buttler': 6, 'K Gowtham': 9, 'KM Jadhav': 8, 'MS Dhoni': 75, 'RA Jadeja': 8, 'RA Tripathi': 39, 'S Gopal': 0, 'SK Raina': 36, 'SPD Smith': 28, 'SR Watson': 13, 'SV Samson': 8}, 1175368: {'Avesh Khan': 4, 'CA Ingram': 38, 'CH Morris': 0, 'DA Miller': 43, 'GC Viljoen': 1, 'GH Vihari': 2, 'HV Patel': 0, 'K Rabada': 0, 'KL Rahul': 15, 'M Ashwin': 1, 'MA Agarwal': 6, 'Mandeep Singh': 29, 'Mohammed Shami': 0, 'PP Shaw': 0, 'R Ashwin': 3, 'RR Pant': 39, 'S Dhawan': 30, 'S Lamichhane': 0, 'SM Curran': 20, 'SN Khan': 39, 'SS Iyer': 28}, 1175369: {'AB de Villiers': 13, 'AM Rahane': 22, 'BA Stokes': 1, 'JC Buttler': 59, 'MM Ali': 18, 'MP Stoinis': 31, 'PA Patel': 67, 'RA Tripathi': 34, 'SO Hetmyer': 1, 'SPD Smith': 38, 'V Kohli': 23}, 1175370: {'AT Rayudu': 0, 'DJ Bravo': 8, 'DL Chahar': 7, 'HH Pandya': 25, 'KA Pollard': 17, 'KH Pandya': 42, 'KM Jadhav': 58, 'MM Sharma': 0, 'MS Dhoni': 12, 'Q de Kock': 4, 'RA Jadeja': 1, 'RG Sharma': 13, 'SA Yadav': 59, 'SK Raina': 16, 'SN Thakur': 12, 'SR Watson': 5, 'Yuvraj Singh': 4}, 1175371: {'AR Patel': 23, 'CA Ingram': 5, 'CH Morris': 17, 'DA Warner': 10, 'DJ Hooda': 10, 'JM Bairstow': 48, 'K Rabada': 3, 'MK Pandey': 10, 'Mohammad Nabi': 17, 'PP Shaw': 11, 'R Tewatia': 5, 'RR Pant': 5, 'S Dhawan': 12, 'SS Iyer': 43, 'V Shankar': 16, 'YK Pathan': 9}, 1175372: {'AB de Villiers': 63, 'AD Russell': 48, 'CA Lynn': 43, 'KD Karthik': 19, 'MM Ali': 0, 'MP Stoinis': 28, 'N Rana': 37, 'PA Patel': 25, 'RV Uthappa': 33, 'SP Narine': 10, 'Shubman Gill': 3, 'V Kohli': 84}, 1178393: {'AT Rayudu': 21, 'CH Gayle': 5, 'DA Miller': 6, 'F du Plessis': 54, 'KL Rahul': 55, 'MA Agarwal': 0, 'MS Dhoni': 37, 'Mandeep Singh': 1, 'SK Raina': 17, 'SM Curran': 0, 'SN Khan': 67, 'SR Watson': 26}, 1178394: {'B Kumar': 2, 'DA Warner': 15, 'DJ Hooda': 20, 'HH Pandya': 14, 'Ishan Kishan': 17, 'JM Bairstow': 16, 'KA Pollard': 46, 'KH Pandya': 6, 'MK Pandey': 16, 'Mohammad Nabi': 11, 'Q de Kock': 19, 'RD Chahar': 10, 'RG Sharma': 11, 'Rashid Khan': 0, 'S Kaul': 0, 'SA Yadav': 7, 'Sandeep Sharma': 5, 'V Shankar': 5, 'YK Pathan': 0}, 1178395: {'AB de Villiers': 17, 'AD Nath': 19, 'AR Patel': 4, 'CA Ingram': 22, 'CH Morris': 0, 'MM Ali': 32, 'MP Stoinis': 15, 'Mohammed Siraj': 1, 'P Negi': 0, 'PA Patel': 9, 'PP Shaw': 28, 'R Tewatia': 1, 'RR Pant': 18, 'S Dhawan': 0, 'SS Iyer': 67, 'TG Southee': 9, 'V Kohli': 41, 'YS Chahal': 1}, 1178396: {'AM Rahane': 5, 'BA Stokes': 7, 'CA Lynn': 50, 'JC Buttler': 37, 'RA Tripathi': 6, 'RV Uthappa': 26, 'SP Narine': 47, 'SPD Smith': 73, 'Shubman Gill': 6}, 1178397: {'CH Gayle': 16, 'DA Miller': 1, 'DA Warner': 70, 'DJ Hooda': 14, 'JM Bairstow': 1, 'KL Rahul': 71, 'MA Agarwal': 55, 'MK Pandey': 19, 'Mandeep Singh': 2, 'Mohammad Nabi': 12, 'SM Curran': 5, 'V Shankar': 26}, 1178398: {'AD Russell': 50, 'AT Rayudu': 21, 'CA Lynn': 0, 'F du Plessis': 43, 'HF Gurney': 1, 'KD Karthik': 19, 'KM Jadhav': 8, 'Kuldeep Yadav': 0, 'M Prasidh Krishna': 0, 'N Rana': 0, 'PP Chawla': 8, 'RV Uthappa': 11, 'SK Raina': 14, 'SP Narine': 6, 'SR Watson': 17, 'Shubman Gill': 9}, 1178399: {'AS Joseph': 15, 'CH Gayle': 63, 'DA Miller': 7, 'HH Pandya': 19, 'Ishan Kishan': 7, 'KA Pollard': 83, 'KH Pandya': 1, 'KK Nair': 5, 'KL Rahul': 100, 'Mandeep Singh': 7, 'Q de Kock': 24, 'RD Chahar': 1, 'SA Yadav': 21, 'SD Lad': 15, 'SM Curran': 8}, 1178400: {'AM Rahane': 14, 'AT Rayudu': 57, 'BA Stokes': 28, 'F du Plessis': 7, 'JC Archer': 13, 'JC Buttler': 23, 'KM Jadhav': 1, 'MJ Santner': 10, 'MS Dhoni': 58, 'R Parag': 16, 'RA Jadeja': 9, 'RA Tripathi': 10, 'S Gopal': 19, 'SK Raina': 4, 'SPD Smith': 15, 'SR Watson': 0, 'SV Samson': 6}, 1178401: {'AD Russell': 45, 'CA Ingram': 14, 'CR Brathwaite': 6, 'JL Denly': 0, 'KD Karthik': 2, 'Kuldeep Yadav': 2, 'N Rana': 11, 'PP Chawla': 14, 'PP Shaw': 14, 'RR Pant': 46, 'RV Uthappa': 28, 'S Dhawan': 97, 'SS Iyer': 6, 'Shubman Gill': 65}, 1178402: {'AM Rahane': 37, 'HH Pandya': 28, 'Ishan Kishan': 5, 'JC Buttler': 89, 'K Gowtham': 0, 'KA Pollard': 6, 'LS Livingstone': 1, 'Q de Kock': 81, 'RA Tripathi': 1, 'RG Sharma': 47, 'S Gopal': 13, 'SA Yadav': 16, 'SPD Smith': 12, 'SV Samson': 31}, 1178403: {'AB de Villiers': 59, 'CH Gayle': 99, 'KL Rahul': 18, 'MA Agarwal': 15, 'MP Stoinis': 28, 'Mandeep Singh': 18, 'PA Patel': 19, 'SM Curran': 1, 'SN Khan': 15, 'V Kohli': 67}, 1178404: {'AD Russell': 10, 'AT Rayudu': 5, 'CA Lynn': 82, 'F du Plessis': 24, 'KD Karthik': 18, 'KM Jadhav': 20, 'MS Dhoni': 16, 'N Rana': 21, 'PP Chawla': 4, 'RA Jadeja': 31, 'RV Uthappa': 0, 'SK Raina': 58, 'SP Narine': 2, 'SR Watson': 6, 'Shubman Gill': 15}, 1178405: {'AR Patel': 14, 'Abhishek Sharma': 2, 'B Kumar': 2, 'C Munro': 40, 'CH Morris': 4, 'DA Warner': 51, 'DJ Hooda': 3, 'JM Bairstow': 41, 'K Rabada': 2, 'KK Ahmed': 0, 'KMA Paul': 7, 'KS Williamson': 3, 'PP Shaw': 4, 'RK Bhui': 7, 'RR Pant': 23, 'Rashid Khan': 0, 'S Dhawan': 7, 'SS Iyer': 45, 'Sandeep Sharma': 1, 'V Shankar': 1}, 1178406: {'AB de Villiers': 75, 'AD Nath': 2, 'HH Pandya': 37, 'Ishan Kishan': 21, 'KH Pandya': 11, 'MM Ali': 50, 'MP Stoinis': 0, 'P Negi': 0, 'PA Patel': 28, 'Q de Kock': 40, 'RG Sharma': 28, 'SA Yadav': 29, 'UT Yadav': 0, 'V Kohli': 8}, 1178407: {'AJ Turner': 0, 'AM Rahane': 26, 'CH Gayle': 30, 'DA Miller': 40, 'JC Archer': 1, 'JC Buttler': 23, 'KL Rahul': 52, 'MA Agarwal': 26, 'Mandeep Singh': 0, 'Mujeeb Ur Rahman': 0, 'N Pooran': 5, 'R Ashwin': 17, 'RA Tripathi': 50, 'S Gopal': 0, 'STR Binny': 33, 'SV Samson': 27}, 1178408: {'AT Rayudu': 25, 'DA Warner': 50, 'DJ Hooda': 13, 'F du Plessis': 45, 'JM Bairstow': 61, 'KM Jadhav': 1, 'KS Williamson': 3, 'RA Jadeja': 10, 'SK Raina': 13, 'SR Watson': 31, 'SW Billings': 0, 'V Shankar': 7}, 1178409: {'A Mishra': 6, 'AR Patel': 26, 'BCJ Cutting': 2, 'C Munro': 3, 'CH Morris': 11, 'HH Pandya': 32, 'K Rabada': 9, 'KH Pandya': 37, 'PP Shaw': 20, 'Q de Kock': 35, 'RG Sharma': 30, 'RR Pant': 7, 'S Dhawan': 35, 'SA Yadav': 26, 'SS Iyer': 3}, 1178410: {'AD Nath': 13, 'AD Russell': 65, 'CA Lynn': 1, 'MM Ali': 66, 'MP Stoinis': 17, 'N Rana': 85, 'PA Patel': 11, 'RV Uthappa': 9, 'SP Narine': 18, 'Shubman Gill': 9, 'V Kohli': 100}, 1178411: {'AJ Turner': 0, 'AM Rahane': 12, 'BA Stokes': 0, 'BCJ Cutting': 13, 'HH Pandya': 23, 'KA Pollard': 10, 'KH Pandya': 2, 'Q de Kock': 65, 'R Parag': 43, 'RG Sharma': 5, 'SA Yadav': 34, 'SPD Smith': 59, 'STR Binny': 7, 'SV Samson': 35}, 1178412: {'AR Patel': 1, 'CA Ingram': 19, 'CH Gayle': 69, 'DA Miller': 7, 'GC Viljoen': 2, 'Harpreet Brar': 20, 'KL Rahul': 12, 'MA Agarwal': 2, 'Mandeep Singh': 30, 'PP Shaw': 13, 'R Ashwin': 16, 'RR Pant': 6, 'S Dhawan': 56, 'SE Rutherford': 2, 'SM Curran': 0, 'SS Iyer': 58}, 1178413: {'AD Russell': 15, 'CA Lynn': 51, 'DA Warner': 67, 'JM Bairstow': 80, 'KC Cariappa': 9, 'KD Karthik': 6, 'KS Williamson': 8, 'N Rana': 11, 'PP Chawla': 4, 'RK Singh': 30, 'SP Narine': 25, 'Shubman Gill': 3, 'Y Prithvi Raj': 0}, 1178414: {'AB de Villiers': 25, 'AD Nath': 24, 'AT Rayudu': 29, 'DJ Bravo': 5, 'F du Plessis': 5, 'KM Jadhav': 9, 'MM Ali': 26, 'MP Stoinis': 14, 'MS Dhoni': 84, 'P Negi': 5, 'PA Patel': 53, 'RA Jadeja': 11, 'SK Raina': 0, 'SR Watson': 5, 'UT Yadav': 1, 'V Kohli': 9}, 1178415: {'AJ Turner': 0, 'AM Rahane': 105, 'BA Stokes': 8, 'CA Ingram': 3, 'PP Shaw': 42, 'R Parag': 4, 'RR Pant': 78, 'S Dhawan': 54, 'SE Rutherford': 11, 'SPD Smith': 50, 'SS Iyer': 4, 'STR Binny': 19}, 1178416: {'AT Rayudu': 21, 'DA Warner': 57, 'F du Plessis': 1, 'JM Bairstow': 0, 'KM Jadhav': 11, 'MK Pandey': 83, 'SK Raina': 38, 'SR Watson': 96, 'V Shankar': 26, 'YK Pathan': 5}, 1178417: {'AB de Villiers': 82, 'AD Nath': 3, 'CH Gayle': 23, 'DA Miller': 24, 'GC Viljoen': 0, 'KL Rahul': 42, 'M Ashwin': 1, 'MA Agarwal': 35, 'MM Ali': 4, 'MP Stoinis': 46, 'Mandeep Singh': 4, 'N Pooran': 46, 'PA Patel': 43, 'R Ashwin': 6, 'V Kohli': 13}, 1178418: {'AD Russell': 14, 'AM Rahane': 34, 'BA Stokes': 11, 'CA Lynn': 0, 'CR Brathwaite': 5, 'JC Archer': 27, 'JD Unadkat': 0, 'KD Karthik': 97, 'N Rana': 21, 'R Parag': 47, 'RK Singh': 3, 'S Gopal': 18, 'SP Narine': 11, 'SPD Smith': 2, 'STR Binny': 11, 'SV Samson': 22, 'Shubman Gill': 14}, 1178419: {'AT Rayudu': 0, 'DJ Bravo': 20, 'DL Chahar': 0, 'DR Shorey': 5, 'E Lewis': 32, 'HH Pandya': 23, 'Harbhajan Singh': 1, 'KA Pollard': 13, 'KH Pandya': 1, 'KM Jadhav': 6, 'M Vijay': 38, 'MJ Santner': 22, 'Q de Kock': 15, 'RG Sharma': 67, 'SK Raina': 2, 'SR Watson': 8}, 1178420: {'AJ Turner': 3, 'AM Rahane': 39, 'B Kumar': 1, 'DA Warner': 37, 'DJ Hooda': 0, 'KS Williamson': 13, 'LS Livingstone': 44, 'MK Pandey': 61, 'Rashid Khan': 17, 'SPD Smith': 22, 'SV Samson': 48, 'Shakib Al Hasan': 9, 'V Shankar': 8, 'WP Saha': 5}, 1178421: {'AB de Villiers': 17, 'AR Patel': 16, 'CA Ingram': 11, 'Gurkeerat Singh': 27, 'H Klaasen': 3, 'MP Stoinis': 32, 'PA Patel': 39, 'PP Shaw': 18, 'RR Pant': 7, 'S Dhawan': 50, 'S Dube': 24, 'SE Rutherford': 28, 'SS Iyer': 52, 'V Kohli': 23, 'Washington Sundar': 1}, 1178422: {'AD Russell': 80, 'BB Sran': 3, 'CA Lynn': 54, 'E Lewis': 15, 'HH Pandya': 91, 'KA Pollard': 20, 'KD Karthik': 15, 'KH Pandya': 24, 'Q de Kock': 0, 'RD Chahar': 1, 'RG Sharma': 12, 'SA Yadav': 26, 'Shubman Gill': 76}, 1178423: {'Abhishek Sharma': 5, 'CH Gayle': 4, 'DA Miller': 11, 'DA Warner': 81, 'KL Rahul': 79, 'KS Williamson': 14, 'M Ashwin': 1, 'MA Agarwal': 27, 'MK Pandey': 36, 'Mohammad Nabi': 20, 'Mohammed Shami': 1, 'Mujeeb Ur Rahman': 0, 'N Pooran': 21, 'P Simran Singh': 16, 'R Ashwin': 0, 'Rashid Khan': 1, 'V Shankar': 7, 'WP Saha': 28}, 1178424: {'AB de Villiers': 10, 'Gurkeerat Singh': 6, 'H Klaasen': 6, 'LS Livingstone': 11, 'MP Stoinis': 0, 'Navdeep Saini': 0, 'P Negi': 4, 'PA Patel': 8, 'SV Samson': 28, 'V Kohli': 25}, 1178425: {'A Mishra': 8, 'AR Patel': 9, 'AT Rayudu': 5, 'CA Ingram': 1, 'CH Morris': 0, 'F du Plessis': 39, 'J Suchith': 6, 'MS Dhoni': 44, 'PP Shaw': 4, 'RA Jadeja': 25, 'RR Pant': 5, 'S Dhawan': 19, 'SE Rutherford': 2, 'SK Raina': 59, 'SR Watson': 0, 'SS Iyer': 44, 'TA Boult': 1}, 1178426: {'Abhishek Sharma': 2, 'E Lewis': 1, 'HH Pandya': 25, 'KA Pollard': 12, 'KH Pandya': 9, 'KS Williamson': 3, 'MJ Guptill': 16, 'MK Pandey': 72, 'Mohammad Nabi': 37, 'Q de Kock': 69, 'RG Sharma': 24, 'SA Yadav': 23, 'V Shankar': 12, 'WP Saha': 25}, 1178427: {'AD Russell': 24, 'AJ Tye': 0, 'CA Lynn': 46, 'CH Gayle': 14, 'KD Karthik': 21, 'KL Rahul': 2, 'MA Agarwal': 36, 'Mandeep Singh': 25, 'N Pooran': 48, 'R Ashwin': 0, 'RV Uthappa': 22, 'SM Curran': 55, 'Shubman Gill': 65}, 1178428: {'AM Rahane': 2, 'AR Patel': 1, 'CA Ingram': 12, 'IS Sodhi': 6, 'K Gowtham': 6, 'LS Livingstone': 14, 'MK Lomror': 8, 'PP Shaw': 8, 'R Parag': 50, 'RR Pant': 53, 'S Dhawan': 16, 'S Gopal': 12, 'SE Rutherford': 11, 'SS Iyer': 15, 'STR Binny': 0, 'SV Samson': 5, 'VR Aaron': 3}, 1178429: {'AB de Villiers': 1, 'B Kumar': 7, 'C de Grandhomme': 3, 'Gurkeerat Singh': 65, 'KS Williamson': 70, 'MJ Guptill': 30, 'MK Pandey': 9, 'Mohammad Nabi': 4, 'PA Patel': 0, 'Rashid Khan': 1, 'SO Hetmyer': 75, 'UT Yadav': 9, 'V Kohli': 16, 'V Shankar': 27, 'WP Saha': 20, 'Washington Sundar': 0, 'YK Pathan': 3}, 1178430: {'AT Rayudu': 1, 'CH Gayle': 28, 'DJ Bravo': 1, 'F du Plessis': 96, 'KL Rahul': 71, 'KM Jadhav': 0, 'MA Agarwal': 7, 'MS Dhoni': 10, 'Mandeep Singh': 11, 'N Pooran': 36, 'SK Raina': 53, 'SM Curran': 6, 'SR Watson': 7}, 1178431: {'AD Russell': 0, 'CA Lynn': 41, 'KD Karthik': 3, 'N Rana': 26, 'Q de Kock': 30, 'RG Sharma': 55, 'RK Singh': 4, 'RV Uthappa': 40, 'SA Yadav': 46, 'Shubman Gill': 9}, 1181764: {'AT Rayudu': 42, 'F du Plessis': 6, 'HH Pandya': 13, 'Ishan Kishan': 28, 'KH Pandya': 0, 'M Vijay': 26, 'MS Dhoni': 37, 'Q de Kock': 8, 'RG Sharma': 4, 'SA Yadav': 71, 'SK Raina': 5, 'SR Watson': 10}, 1181766: {'A Mishra': 1, 'AR Patel': 0, 'Basil Thampi': 1, 'C Munro': 14, 'DJ Hooda': 4, 'KMA Paul': 5, 'KS Williamson': 28, 'MJ Guptill': 36, 'MK Pandey': 30, 'Mohammad Nabi': 20, 'PP Shaw': 56, 'RR Pant': 49, 'Rashid Khan': 0, 'S Dhawan': 17, 'SE Rutherford': 9, 'SS Iyer': 8, 'V Shankar': 25, 'WP Saha': 8}, 1181767: {'A Mishra': 6, 'AR Patel': 3, 'AT Rayudu': 20, 'C Munro': 27, 'DJ Bravo': 0, 'F du Plessis': 50, 'I Sharma': 10, 'KMA Paul': 3, 'MS Dhoni': 9, 'PP Shaw': 5, 'RR Pant': 38, 'S Dhawan': 18, 'SE Rutherford': 10, 'SK Raina': 11, 'SR Watson': 50, 'SS Iyer': 13, 'TA Boult': 6}, 1181768: {'AT Rayudu': 1, 'DJ Bravo': 15, 'F du Plessis': 26, 'HH Pandya': 16, 'Ishan Kishan': 23, 'KA Pollard': 41, 'KH Pandya': 7, 'MJ McClenaghan': 0, 'MS Dhoni': 2, 'Q de Kock': 29, 'RA Jadeja': 5, 'RD Chahar': 0, 'RG Sharma': 15, 'SA Yadav': 15, 'SK Raina': 8, 'SN Thakur': 2, 'SR Watson': 80}}\n"
     ]
    }
   ],
   "source": [
    "print(batsman_runs)"
   ]
  },
  {
   "cell_type": "code",
   "execution_count": 6,
   "metadata": {},
   "outputs": [],
   "source": [
    "batsman_totals = {}\n",
    "\n",
    "for match_id, match_data in batsman_runs.items():\n",
    "    for batsman, runs in match_data.items():\n",
    "        if batsman in batsman_totals:\n",
    "            batsman_totals[batsman] += runs\n",
    "        else:\n",
    "            batsman_totals[batsman] = runs"
   ]
  },
  {
   "cell_type": "code",
   "execution_count": 7,
   "metadata": {},
   "outputs": [],
   "source": [
    "sorted_batsman_runs = dict(sorted(batsman_totals.items(), key=lambda x: x[1], reverse=True))"
   ]
  },
  {
   "cell_type": "code",
   "execution_count": 8,
   "metadata": {},
   "outputs": [
    {
     "name": "stdout",
     "output_type": "stream",
     "text": [
      "430\n"
     ]
    }
   ],
   "source": [
    "print(sorted_batsman_runs['E Lewis'])"
   ]
  },
  {
   "cell_type": "code",
   "execution_count": 9,
   "metadata": {},
   "outputs": [],
   "source": [
    "iswicket_df = merged_ipl_df[['isWicketDelivery','player_out']].copy()"
   ]
  },
  {
   "cell_type": "code",
   "execution_count": 10,
   "metadata": {},
   "outputs": [],
   "source": [
    "out_counts = iswicket_df[iswicket_df['isWicketDelivery'] == 1].groupby('player_out')['isWicketDelivery'].count().reset_index(name='out_count')\n"
   ]
  },
  {
   "cell_type": "code",
   "execution_count": 11,
   "metadata": {},
   "outputs": [
    {
     "name": "stdout",
     "output_type": "stream",
     "text": [
      "            player_out  out_count\n",
      "0             A Mishra          2\n",
      "1       AB de Villiers         19\n",
      "2             AD Hales          6\n",
      "3              AD Nath          6\n",
      "4           AD Russell         21\n",
      "..                 ...        ...\n",
      "155            WP Saha         13\n",
      "156  Washington Sundar          5\n",
      "157          YK Pathan         12\n",
      "158          YS Chahal          2\n",
      "159       Yuvraj Singh         10\n",
      "\n",
      "[160 rows x 2 columns]\n"
     ]
    }
   ],
   "source": [
    "print(out_counts)"
   ]
  },
  {
   "cell_type": "code",
   "execution_count": 12,
   "metadata": {},
   "outputs": [],
   "source": [
    "out_counts_dict = {}\n",
    "\n",
    "for index, row in out_counts.iterrows():\n",
    "    player = row['player_out']\n",
    "    out_count = row['out_count']\n",
    "    out_counts_dict[player] = out_count"
   ]
  },
  {
   "cell_type": "code",
   "execution_count": 14,
   "metadata": {},
   "outputs": [
    {
     "name": "stdout",
     "output_type": "stream",
     "text": [
      "16\n"
     ]
    }
   ],
   "source": [
    "print(out_counts_dict['E Lewis'])"
   ]
  },
  {
   "cell_type": "code",
   "execution_count": 16,
   "metadata": {},
   "outputs": [
    {
     "name": "stdout",
     "output_type": "stream",
     "text": [
      "{'KL Rahul': 54.43478260869565, 'RR Pant': 45.30769230769231, 'S Dhawan': 35.10344827586207, 'V Kohli': 39.76, 'SR Watson': 30.741935483870968, 'SA Yadav': 34.666666666666664, 'AB de Villiers': 48.526315789473685, 'CA Lynn': 32.0, 'KS Williamson': 42.42857142857143, 'AT Rayudu': 34.0, 'SS Iyer': 32.51851851851852, 'MS Dhoni': 79.18181818181819, 'JC Buttler': 47.72222222222222, 'CH Gayle': 40.857142857142854, 'AD Russell': 39.523809523809526, 'SK Raina': 29.571428571428573, 'SV Samson': 32.625, 'AM Rahane': 30.52, 'KD Karthik': 41.77777777777778, 'Q de Kock': 31.73913043478261, 'DA Warner': 69.2, 'RG Sharma': 26.576923076923077, 'HH Pandya': 37.166666666666664, 'N Rana': 27.0, 'RV Uthappa': 25.4, 'MK Pandey': 31.45, 'PP Shaw': 23.92, 'F du Plessis': 34.875, 'PA Patel': 27.68421052631579, 'SP Narine': 20.833333333333332, 'Shubman Gill': 33.266666666666666, 'V Shankar': 28.5, 'MA Agarwal': 19.652173913043477, 'JM Bairstow': 55.625, 'E Lewis': 26.875, 'Mandeep Singh': 29.785714285714285, 'KA Pollard': 27.6, 'KH Pandya': 19.571428571428573, 'Ishan Kishan': 20.88888888888889, 'RA Tripathi': 24.466666666666665, 'BA Stokes': 17.72222222222222, 'SPD Smith': 39.875, 'MP Stoinis': 38.75, 'KK Nair': 23.53846153846154, 'YK Pathan': 25.0, 'MM Ali': 24.75, 'DA Miller': 28.7, 'Shakib Al Hasan': 20.666666666666668, 'SN Khan': 25.666666666666668, 'DJ Bravo': 24.555555555555557, 'WP Saha': 16.0, 'RA Jadeja': 24.375, 'AR Patel': 15.833333333333334, 'KM Jadhav': 20.666666666666668, 'CA Ingram': 18.4, 'C de Grandhomme': 22.125, 'GJ Maxwell': 14.083333333333334, 'N Pooran': 28.0, 'Yuvraj Singh': 16.3, 'R Parag': 32.0, 'DJ Hooda': 15.1, 'AD Hales': 24.666666666666668, 'C Munro': 16.333333333333332, 'K Gowtham': 12.0, 'R Ashwin': 11.076923076923077, 'Mohammad Nabi': 15.444444444444445, 'AJ Finch': 16.75, 'BB McCullum': 21.166666666666668, 'JJ Roy': 30.0, 'DJM Short': 16.428571428571427, 'BCJ Cutting': 19.0, 'STR Binny': 14.25, 'S Gopal': 16.142857142857142, 'SW Billings': 12.0, 'Gurkeerat Singh': 32.666666666666664, 'SM Curran': 23.75, 'Rashid Khan': 9.3, 'SO Hetmyer': 18.0, 'CR Brathwaite': 17.2, 'G Gambhir': 17.0, 'JC Archer': 11.714285714285714, 'MJ Guptill': 27.333333333333332, 'CH Morris': 11.142857142857142, 'R Tewatia': 19.0, 'M Vijay': 25.333333333333332, 'SE Rutherford': 14.6, 'Abhishek Sharma': 24.0, 'AD Nath': 11.666666666666666, 'LS Livingstone': 23.333333333333332, 'PP Chawla': 9.857142857142858, 'RK Singh': 11.0, 'Washington Sundar': 13.2, 'H Klaasen': 13.2, 'TG Southee': 30.5, 'HV Patel': 30.0, 'DL Chahar': 11.4, 'M Vohra': 13.75, 'SP Goswami': 17.333333333333332, 'JD Unadkat': 10.0, 'MK Tiwary': 15.666666666666666, 'S Dube': 13.333333333333334, 'JP Duminy': 36.0, 'AJ Tye': 5.333333333333333, 'MJ Santner': 32.0, 'Harbhajan Singh': 7.5, 'Mohammed Siraj': 9.666666666666666, 'SN Thakur': 14.5, 'UT Yadav': 4.666666666666667, 'MK Lomror': 14.0, 'M Markande': 9.0, 'DT Christian': 13.0, 'B Kumar': 5.0, 'Kuldeep Yadav': 8.0, 'TK Curran': 7.666666666666667, 'MJ McClenaghan': 4.4, 'A Mishra': 11.0, 'Harpreet Brar': 20, 'P Ray Barman': 19.0, 'KMA Paul': 3.6, 'CR Woakes': 8.5, 'CJ Anderson': 5.666666666666667, 'MG Johnson': 16, 'P Simran Singh': 16.0, 'AS Joseph': 15, 'SD Lad': 15.0, 'K Rabada': 4.666666666666667, 'Shivam Mavi': 4.333333333333333, 'DR Shorey': 6.5, 'P Negi': 2.0, 'RD Chahar': 6.0, 'DS Kulkarni': 11.0, 'AS Rajpoot': 3.6666666666666665, 'JJ Bumrah': 10.0, 'MM Sharma': 10.0, 'Mujeeb Ur Rahman': 5.0, 'I Sharma': 10, 'KC Cariappa': 9, 'Mohammed Shami': 4.0, 'P Chopra': 8.0, 'JPR Scantlebury-Searles': 8.0, 'TA Boult': 3.5, 'RK Bhui': 3.5, 'IS Sodhi': 3.5, 'NS Naik': 7.0, 'R Vinay Kumar': 6, 'Sandeep Sharma': 3.0, 'S Nadeem': 6, 'BB Sran': 6.0, 'YS Chahal': 3.0, 'J Suchith': 6.0, 'B Stanlake': 5, 'Rasikh Salam': 5, 'A Dananjaya': 4, 'Basil Thampi': 4.0, 'M Ashwin': 2.0, 'GH Vihari': 2.0, 'Avesh Khan': 4, 'S Kaul': 0.75, 'Anureet Singh': 3, 'GC Viljoen': 1.5, 'AJ Turner': 1.0, 'VR Aaron': 3, 'Imran Tahir': 2, 'Navdeep Saini': 2.0, 'MA Wood': 1.0, 'B Laughlin': 1.0, 'LE Plunkett': 1.0, 'Mustafizur Rahman': 1.0, 'NV Ojha': 1.0, 'M Prasidh Krishna': 1.0, 'HF Gurney': 1, 'PJ Sangwan': 0.0, 'S Lamichhane': 0.0, 'JL Denly': 0.0, 'KK Ahmed': 0.0, 'Y Prithvi Raj': 0}\n",
      "26.875\n"
     ]
    }
   ],
   "source": [
    "batting_average = {}\n",
    "for batsman in sorted_batsman_runs.keys():\n",
    "    if batsman in out_counts_dict.keys():\n",
    "        average = sorted_batsman_runs[batsman]/(out_counts_dict[batsman])\n",
    "    else:\n",
    "        average = sorted_batsman_runs[batsman]\n",
    "    batting_average[batsman] = average\n",
    "print(batting_average)\n",
    "\n",
    "print(batting_average['E Lewis'])"
   ]
  },
  {
   "cell_type": "code",
   "execution_count": 17,
   "metadata": {},
   "outputs": [
    {
     "name": "stdout",
     "output_type": "stream",
     "text": [
      "[nan 'wides' 'byes' 'legbyes' 'noballs']\n"
     ]
    }
   ],
   "source": [
    "print(merged_ipl_df['extra_type'].unique())"
   ]
  },
  {
   "cell_type": "code",
   "execution_count": 18,
   "metadata": {},
   "outputs": [],
   "source": [
    "# calculating strike rate  of batsman\n",
    "\n",
    "# Initialize a dictionary to store the number of deliveries faced by each batsman\n",
    "batsman_deliveries = {}\n",
    "\n",
    "# Loop through each ball in the dataset\n",
    "for index, row in merged_ipl_df.iterrows():\n",
    "    batsman = row['batter']\n",
    "    extra_type = row['extra_type']\n",
    "    \n",
    "    # If the delivery is not a wide or no ball, add it to the batsman's count\n",
    "    if extra_type != 'wides':\n",
    "        if batsman not in batsman_deliveries:\n",
    "            batsman_deliveries[batsman] = 1\n",
    "        else:\n",
    "            batsman_deliveries[batsman] += 1"
   ]
  },
  {
   "cell_type": "code",
   "execution_count": 19,
   "metadata": {},
   "outputs": [
    {
     "name": "stdout",
     "output_type": "stream",
     "text": [
      "{'KL Rahul': 146.60421545667447, 'RR Pant': 168.76790830945558, 'S Dhawan': 136.27844712182062, 'V Kohli': 140.19746121297604, 'SR Watson': 142.026825633383, 'SA Yadav': 132.20338983050848, 'AB de Villiers': 164.05693950177934, 'CA Lynn': 134.3328335832084, 'KS Williamson': 137.92569659442725, 'AT Rayudu': 125.39007092198582, 'SS Iyer': 125.78796561604584, 'MS Dhoni': 142.5531914893617, 'JC Buttler': 153.9426523297491, 'CH Gayle': 150.26269702276707, 'AD Russell': 196.2174940898345, 'SK Raina': 127.38461538461539, 'SV Samson': 142.36363636363635, 'AM Rahane': 127.59197324414716, 'KD Karthik': 147.1624266144814, 'Q de Kock': 130.35714285714286, 'DA Warner': 143.86694386694387, 'RG Sharma': 130.37735849056605, 'HH Pandya': 164.37346437346437, 'N Rana': 138.75802997858673, 'RV Uthappa': 124.0234375, 'MK Pandey': 123.33333333333334, 'PP Shaw': 141.03773584905662, 'F du Plessis': 124.0, 'PA Patel': 139.52254641909815, 'SP Narine': 182.4817518248175, 'Shubman Gill': 132.3607427055703, 'V Shankar': 133.72434017595307, 'MA Agarwal': 137.80487804878047, 'JM Bairstow': 157.24381625441697, 'E Lewis': 131.09756097560975, 'Mandeep Singh': 136.27450980392157, 'KA Pollard': 148.38709677419354, 'KH Pandya': 133.87622149837134, 'Ishan Kishan': 132.3943661971831, 'RA Tripathi': 128.7719298245614, 'BA Stokes': 122.69230769230771, 'SPD Smith': 115.99999999999999, 'MP Stoinis': 133.6206896551724, 'KK Nair': 134.80176211453744, 'YK Pathan': 122.44897959183673, 'MM Ali': 165.9217877094972, 'DA Miller': 125.87719298245614, 'Shakib Al Hasan': 119.80676328502415, 'SN Khan': 125.54347826086956, 'DJ Bravo': 140.76433121019107, 'WP Saha': 134.1935483870968, 'RA Jadeja': 120.37037037037037, 'AR Patel': 121.01910828025477, 'KM Jadhav': 97.38219895287958, 'CA Ingram': 119.48051948051948, 'C de Grandhomme': 133.08270676691728, 'GJ Maxwell': 140.83333333333334, 'N Pooran': 157.00934579439252, 'Yuvraj Singh': 110.13513513513513, 'R Parag': 126.98412698412697, 'DJ Hooda': 104.86111111111111, 'AD Hales': 125.42372881355932, 'C Munro': 132.43243243243242, 'K Gowtham': 173.49397590361446, 'R Ashwin': 145.45454545454547, 'Mohammad Nabi': 154.44444444444446, 'AJ Finch': 134.0, 'BB McCullum': 144.3181818181818, 'JJ Roy': 127.65957446808511, 'DJM Short': 116.16161616161615, 'BCJ Cutting': 152.0, 'STR Binny': 144.30379746835442, 'S Gopal': 124.17582417582418, 'SW Billings': 131.70731707317074, 'Gurkeerat Singh': 140.0, 'SM Curran': 172.72727272727272, 'Rashid Khan': 172.22222222222223, 'SO Hetmyer': 123.28767123287672, 'CR Brathwaite': 148.27586206896552, 'G Gambhir': 96.5909090909091, 'JC Archer': 134.4262295081967, 'MJ Guptill': 151.85185185185185, 'CH Morris': 123.80952380952381, 'R Tewatia': 116.92307692307693, 'M Vijay': 107.04225352112675, 'SE Rutherford': 135.1851851851852, 'Abhishek Sharma': 171.42857142857142, 'AD Nath': 100.0, 'LS Livingstone': 145.83333333333331, 'PP Chawla': 97.1830985915493, 'RK Singh': 101.53846153846153, 'Washington Sundar': 160.97560975609758, 'H Klaasen': 115.78947368421053, 'TG Southee': 110.9090909090909, 'HV Patel': 171.42857142857142, 'DL Chahar': 150.0, 'M Vohra': 117.02127659574468, 'SP Goswami': 130.0, 'JD Unadkat': 121.95121951219512, 'MK Tiwary': 106.81818181818181, 'S Dube': 121.21212121212122, 'JP Duminy': 90.0, 'AJ Tye': 80.0, 'MJ Santner': 139.1304347826087, 'Harbhajan Singh': 76.92307692307693, 'Mohammed Siraj': 80.55555555555556, 'SN Thakur': 241.66666666666666, 'UT Yadav': 77.77777777777779, 'MK Lomror': 116.66666666666667, 'M Markande': 93.10344827586206, 'DT Christian': 78.78787878787878, 'B Kumar': 71.42857142857143, 'Kuldeep Yadav': 75.0, 'TK Curran': 82.14285714285714, 'MJ McClenaghan': 84.61538461538461, 'A Mishra': 84.61538461538461, 'Harpreet Brar': 166.66666666666669, 'P Ray Barman': 79.16666666666666, 'KMA Paul': 75.0, 'CR Woakes': 89.47368421052632, 'CJ Anderson': 77.27272727272727, 'MG Johnson': 145.45454545454547, 'P Simran Singh': 94.11764705882352, 'AS Joseph': 115.38461538461537, 'SD Lad': 115.38461538461537, 'K Rabada': 93.33333333333333, 'Shivam Mavi': 86.66666666666667, 'DR Shorey': 76.47058823529412, 'P Negi': 70.58823529411765, 'RD Chahar': 109.09090909090908, 'DS Kulkarni': 110.00000000000001, 'AS Rajpoot': 61.111111111111114, 'JJ Bumrah': 83.33333333333334, 'MM Sharma': 66.66666666666666, 'Mujeeb Ur Rahman': 90.9090909090909, 'I Sharma': 333.33333333333337, 'KC Cariappa': 300.0, 'Mohammed Shami': 100.0, 'P Chopra': 133.33333333333331, 'JPR Scantlebury-Searles': 133.33333333333331, 'TA Boult': 116.66666666666667, 'RK Bhui': 41.17647058823529, 'IS Sodhi': 41.17647058823529, 'NS Naik': 43.75, 'R Vinay Kumar': 200.0, 'Sandeep Sharma': 85.71428571428571, 'S Nadeem': 75.0, 'BB Sran': 60.0, 'YS Chahal': 30.0, 'J Suchith': 40.0, 'B Stanlake': 250.0, 'Rasikh Salam': 125.0, 'A Dananjaya': 80.0, 'Basil Thampi': 57.14285714285714, 'M Ashwin': 57.14285714285714, 'GH Vihari': 50.0, 'Avesh Khan': 133.33333333333331, 'S Kaul': 20.0, 'Anureet Singh': 75.0, 'GC Viljoen': 42.857142857142854, 'AJ Turner': 30.0, 'VR Aaron': 42.857142857142854, 'Imran Tahir': 100.0, 'Navdeep Saini': 50.0, 'MA Wood': 33.33333333333333, 'B Laughlin': 25.0, 'LE Plunkett': 33.33333333333333, 'Mustafizur Rahman': 33.33333333333333, 'NV Ojha': 25.0, 'M Prasidh Krishna': 14.285714285714285, 'HF Gurney': 20.0, 'PJ Sangwan': 0.0, 'S Lamichhane': 0.0, 'JL Denly': 0.0, 'KK Ahmed': 0.0, 'Y Prithvi Raj': 0.0}\n",
      "131.09756097560975\n"
     ]
    }
   ],
   "source": [
    "batsman_strikerate = {}\n",
    "for batsman in sorted_batsman_runs.keys():\n",
    "    strike_rate = ((sorted_batsman_runs[batsman])/(batsman_deliveries[batsman]))*100\n",
    "    batsman_strikerate[batsman] = strike_rate\n",
    "\n",
    "print(batsman_strikerate)\n",
    "\n",
    "print(batsman_strikerate['E Lewis'])"
   ]
  },
  {
   "cell_type": "code",
   "execution_count": 21,
   "metadata": {},
   "outputs": [
    {
     "name": "stdout",
     "output_type": "stream",
     "text": [
      "Rashid Khan       5\n",
      "SR Watson         5\n",
      "AB de Villiers    5\n",
      "AD Russell        5\n",
      "MS Dhoni          4\n",
      "                 ..\n",
      "DL Chahar         1\n",
      "K Rabada          1\n",
      "AS Joseph         1\n",
      "SM Curran         1\n",
      "DJ Bravo          1\n",
      "Name: Player_of_Match, Length: 61, dtype: int64\n"
     ]
    },
    {
     "ename": "KeyError",
     "evalue": "'E Lewis'",
     "output_type": "error",
     "traceback": [
      "\u001b[1;31m---------------------------------------------------------------------------\u001b[0m",
      "\u001b[1;31mKeyError\u001b[0m                                  Traceback (most recent call last)",
      "\u001b[1;32mf:\\Mtech\\bigdataproj\\Bigdataproject\\batting_stats.ipynb Cell 17\u001b[0m in \u001b[0;36m<cell line: 12>\u001b[1;34m()\u001b[0m\n\u001b[0;32m      <a href='vscode-notebook-cell:/f%3A/Mtech/bigdataproj/Bigdataproject/batting_stats.ipynb#X22sZmlsZQ%3D%3D?line=7'>8</a>\u001b[0m \u001b[39mprint\u001b[39m(awards_count)\n\u001b[0;32m     <a href='vscode-notebook-cell:/f%3A/Mtech/bigdataproj/Bigdataproject/batting_stats.ipynb#X22sZmlsZQ%3D%3D?line=9'>10</a>\u001b[0m player_of_match_count \u001b[39m=\u001b[39m awards_count\u001b[39m.\u001b[39mto_dict()\n\u001b[1;32m---> <a href='vscode-notebook-cell:/f%3A/Mtech/bigdataproj/Bigdataproject/batting_stats.ipynb#X22sZmlsZQ%3D%3D?line=11'>12</a>\u001b[0m player_of_match_count[\u001b[39m'\u001b[39;49m\u001b[39mE Lewis\u001b[39;49m\u001b[39m'\u001b[39;49m]\n",
      "\u001b[1;31mKeyError\u001b[0m: 'E Lewis'"
     ]
    }
   ],
   "source": [
    "player_of_match_count = {}\n",
    "\n",
    "df_unique = merged_ipl_df.drop_duplicates(subset=['ID', 'Player_of_Match'])\n",
    "\n",
    "# Count number of player of the match awards for each player\n",
    "awards_count = df_unique['Player_of_Match'].value_counts()\n",
    "\n",
    "print(awards_count)\n",
    "\n",
    "player_of_match_count = awards_count.to_dict()\n",
    "\n",
    "player_of_match_count['E Lewis']"
   ]
  },
  {
   "cell_type": "code",
   "execution_count": 20,
   "metadata": {},
   "outputs": [
    {
     "name": "stdout",
     "output_type": "stream",
     "text": [
      "68.71428571428571\n",
      "400.0\n",
      "4\n"
     ]
    }
   ],
   "source": [
    "# print(player_of_match_count)\n",
    "\n",
    "max_bat_avg = 0\n",
    "max_strike_rate = 0\n",
    "max_player_awrds = 0 \n",
    "for value in batting_average.values():\n",
    "    if value > max_bat_avg:\n",
    "        max_bat_avg = value\n",
    "\n",
    "for value in batsman_strikerate.values():\n",
    "    if value > max_strike_rate:\n",
    "        max_strike_rate = value\n",
    "\n",
    "for value in player_of_match_count.values():\n",
    "    if value > max_player_awrds:\n",
    "        max_player_awrds = value\n",
    "\n",
    "print(max_bat_avg)\n",
    "print(max_strike_rate)\n",
    "print(max_player_awrds)"
   ]
  },
  {
   "cell_type": "code",
   "execution_count": 28,
   "metadata": {},
   "outputs": [
    {
     "data": {
      "application/vnd.plotly.v1+json": {
       "config": {
        "plotlyServerURL": "https://plot.ly"
       },
       "data": [
        {
         "fill": "toself",
         "hovertemplate": "%{hovertext}<extra></extra>",
         "hovertext": [
          "{'Average': 57.53333333333333}",
          "{'Strike rate': 149.05008635578582}",
          "{'Player of match': 3}"
         ],
         "name": "JC Buttler",
         "r": [
          837.2834372834373,
          372.6252158894645,
          750
         ],
         "theta": [
          "Average",
          "StrikeRate",
          "Player Of Match Count"
         ],
         "type": "scatterpolar"
        },
        {
         "fill": "toself",
         "hovertemplate": "%{hovertext}<extra></extra>",
         "hovertext": [
          "{'Average': 44.27272727272727}",
          "{'Strike rate': 131.26684636118597}",
          "{'Player of match': 2}"
         ],
         "name": "HH Pandya",
         "r": [
          644.3016443016444,
          328.16711590296495,
          500
         ],
         "theta": [
          "Average",
          "StrikeRate",
          "Player Of Match Count"
         ],
         "type": "scatterpolar"
        }
       ],
       "layout": {
        "polar": {
         "radialaxis": {
          "range": [
           0,
           1000
          ],
          "showline": true,
          "showticklabels": false,
          "visible": true
         }
        },
        "showlegend": true,
        "template": {
         "data": {
          "bar": [
           {
            "error_x": {
             "color": "#2a3f5f"
            },
            "error_y": {
             "color": "#2a3f5f"
            },
            "marker": {
             "line": {
              "color": "#E5ECF6",
              "width": 0.5
             },
             "pattern": {
              "fillmode": "overlay",
              "size": 10,
              "solidity": 0.2
             }
            },
            "type": "bar"
           }
          ],
          "barpolar": [
           {
            "marker": {
             "line": {
              "color": "#E5ECF6",
              "width": 0.5
             },
             "pattern": {
              "fillmode": "overlay",
              "size": 10,
              "solidity": 0.2
             }
            },
            "type": "barpolar"
           }
          ],
          "carpet": [
           {
            "aaxis": {
             "endlinecolor": "#2a3f5f",
             "gridcolor": "white",
             "linecolor": "white",
             "minorgridcolor": "white",
             "startlinecolor": "#2a3f5f"
            },
            "baxis": {
             "endlinecolor": "#2a3f5f",
             "gridcolor": "white",
             "linecolor": "white",
             "minorgridcolor": "white",
             "startlinecolor": "#2a3f5f"
            },
            "type": "carpet"
           }
          ],
          "choropleth": [
           {
            "colorbar": {
             "outlinewidth": 0,
             "ticks": ""
            },
            "type": "choropleth"
           }
          ],
          "contour": [
           {
            "colorbar": {
             "outlinewidth": 0,
             "ticks": ""
            },
            "colorscale": [
             [
              0,
              "#0d0887"
             ],
             [
              0.1111111111111111,
              "#46039f"
             ],
             [
              0.2222222222222222,
              "#7201a8"
             ],
             [
              0.3333333333333333,
              "#9c179e"
             ],
             [
              0.4444444444444444,
              "#bd3786"
             ],
             [
              0.5555555555555556,
              "#d8576b"
             ],
             [
              0.6666666666666666,
              "#ed7953"
             ],
             [
              0.7777777777777778,
              "#fb9f3a"
             ],
             [
              0.8888888888888888,
              "#fdca26"
             ],
             [
              1,
              "#f0f921"
             ]
            ],
            "type": "contour"
           }
          ],
          "contourcarpet": [
           {
            "colorbar": {
             "outlinewidth": 0,
             "ticks": ""
            },
            "type": "contourcarpet"
           }
          ],
          "heatmap": [
           {
            "colorbar": {
             "outlinewidth": 0,
             "ticks": ""
            },
            "colorscale": [
             [
              0,
              "#0d0887"
             ],
             [
              0.1111111111111111,
              "#46039f"
             ],
             [
              0.2222222222222222,
              "#7201a8"
             ],
             [
              0.3333333333333333,
              "#9c179e"
             ],
             [
              0.4444444444444444,
              "#bd3786"
             ],
             [
              0.5555555555555556,
              "#d8576b"
             ],
             [
              0.6666666666666666,
              "#ed7953"
             ],
             [
              0.7777777777777778,
              "#fb9f3a"
             ],
             [
              0.8888888888888888,
              "#fdca26"
             ],
             [
              1,
              "#f0f921"
             ]
            ],
            "type": "heatmap"
           }
          ],
          "heatmapgl": [
           {
            "colorbar": {
             "outlinewidth": 0,
             "ticks": ""
            },
            "colorscale": [
             [
              0,
              "#0d0887"
             ],
             [
              0.1111111111111111,
              "#46039f"
             ],
             [
              0.2222222222222222,
              "#7201a8"
             ],
             [
              0.3333333333333333,
              "#9c179e"
             ],
             [
              0.4444444444444444,
              "#bd3786"
             ],
             [
              0.5555555555555556,
              "#d8576b"
             ],
             [
              0.6666666666666666,
              "#ed7953"
             ],
             [
              0.7777777777777778,
              "#fb9f3a"
             ],
             [
              0.8888888888888888,
              "#fdca26"
             ],
             [
              1,
              "#f0f921"
             ]
            ],
            "type": "heatmapgl"
           }
          ],
          "histogram": [
           {
            "marker": {
             "pattern": {
              "fillmode": "overlay",
              "size": 10,
              "solidity": 0.2
             }
            },
            "type": "histogram"
           }
          ],
          "histogram2d": [
           {
            "colorbar": {
             "outlinewidth": 0,
             "ticks": ""
            },
            "colorscale": [
             [
              0,
              "#0d0887"
             ],
             [
              0.1111111111111111,
              "#46039f"
             ],
             [
              0.2222222222222222,
              "#7201a8"
             ],
             [
              0.3333333333333333,
              "#9c179e"
             ],
             [
              0.4444444444444444,
              "#bd3786"
             ],
             [
              0.5555555555555556,
              "#d8576b"
             ],
             [
              0.6666666666666666,
              "#ed7953"
             ],
             [
              0.7777777777777778,
              "#fb9f3a"
             ],
             [
              0.8888888888888888,
              "#fdca26"
             ],
             [
              1,
              "#f0f921"
             ]
            ],
            "type": "histogram2d"
           }
          ],
          "histogram2dcontour": [
           {
            "colorbar": {
             "outlinewidth": 0,
             "ticks": ""
            },
            "colorscale": [
             [
              0,
              "#0d0887"
             ],
             [
              0.1111111111111111,
              "#46039f"
             ],
             [
              0.2222222222222222,
              "#7201a8"
             ],
             [
              0.3333333333333333,
              "#9c179e"
             ],
             [
              0.4444444444444444,
              "#bd3786"
             ],
             [
              0.5555555555555556,
              "#d8576b"
             ],
             [
              0.6666666666666666,
              "#ed7953"
             ],
             [
              0.7777777777777778,
              "#fb9f3a"
             ],
             [
              0.8888888888888888,
              "#fdca26"
             ],
             [
              1,
              "#f0f921"
             ]
            ],
            "type": "histogram2dcontour"
           }
          ],
          "mesh3d": [
           {
            "colorbar": {
             "outlinewidth": 0,
             "ticks": ""
            },
            "type": "mesh3d"
           }
          ],
          "parcoords": [
           {
            "line": {
             "colorbar": {
              "outlinewidth": 0,
              "ticks": ""
             }
            },
            "type": "parcoords"
           }
          ],
          "pie": [
           {
            "automargin": true,
            "type": "pie"
           }
          ],
          "scatter": [
           {
            "fillpattern": {
             "fillmode": "overlay",
             "size": 10,
             "solidity": 0.2
            },
            "type": "scatter"
           }
          ],
          "scatter3d": [
           {
            "line": {
             "colorbar": {
              "outlinewidth": 0,
              "ticks": ""
             }
            },
            "marker": {
             "colorbar": {
              "outlinewidth": 0,
              "ticks": ""
             }
            },
            "type": "scatter3d"
           }
          ],
          "scattercarpet": [
           {
            "marker": {
             "colorbar": {
              "outlinewidth": 0,
              "ticks": ""
             }
            },
            "type": "scattercarpet"
           }
          ],
          "scattergeo": [
           {
            "marker": {
             "colorbar": {
              "outlinewidth": 0,
              "ticks": ""
             }
            },
            "type": "scattergeo"
           }
          ],
          "scattergl": [
           {
            "marker": {
             "colorbar": {
              "outlinewidth": 0,
              "ticks": ""
             }
            },
            "type": "scattergl"
           }
          ],
          "scattermapbox": [
           {
            "marker": {
             "colorbar": {
              "outlinewidth": 0,
              "ticks": ""
             }
            },
            "type": "scattermapbox"
           }
          ],
          "scatterpolar": [
           {
            "marker": {
             "colorbar": {
              "outlinewidth": 0,
              "ticks": ""
             }
            },
            "type": "scatterpolar"
           }
          ],
          "scatterpolargl": [
           {
            "marker": {
             "colorbar": {
              "outlinewidth": 0,
              "ticks": ""
             }
            },
            "type": "scatterpolargl"
           }
          ],
          "scatterternary": [
           {
            "marker": {
             "colorbar": {
              "outlinewidth": 0,
              "ticks": ""
             }
            },
            "type": "scatterternary"
           }
          ],
          "surface": [
           {
            "colorbar": {
             "outlinewidth": 0,
             "ticks": ""
            },
            "colorscale": [
             [
              0,
              "#0d0887"
             ],
             [
              0.1111111111111111,
              "#46039f"
             ],
             [
              0.2222222222222222,
              "#7201a8"
             ],
             [
              0.3333333333333333,
              "#9c179e"
             ],
             [
              0.4444444444444444,
              "#bd3786"
             ],
             [
              0.5555555555555556,
              "#d8576b"
             ],
             [
              0.6666666666666666,
              "#ed7953"
             ],
             [
              0.7777777777777778,
              "#fb9f3a"
             ],
             [
              0.8888888888888888,
              "#fdca26"
             ],
             [
              1,
              "#f0f921"
             ]
            ],
            "type": "surface"
           }
          ],
          "table": [
           {
            "cells": {
             "fill": {
              "color": "#EBF0F8"
             },
             "line": {
              "color": "white"
             }
            },
            "header": {
             "fill": {
              "color": "#C8D4E3"
             },
             "line": {
              "color": "white"
             }
            },
            "type": "table"
           }
          ]
         },
         "layout": {
          "annotationdefaults": {
           "arrowcolor": "#2a3f5f",
           "arrowhead": 0,
           "arrowwidth": 1
          },
          "autotypenumbers": "strict",
          "coloraxis": {
           "colorbar": {
            "outlinewidth": 0,
            "ticks": ""
           }
          },
          "colorscale": {
           "diverging": [
            [
             0,
             "#8e0152"
            ],
            [
             0.1,
             "#c51b7d"
            ],
            [
             0.2,
             "#de77ae"
            ],
            [
             0.3,
             "#f1b6da"
            ],
            [
             0.4,
             "#fde0ef"
            ],
            [
             0.5,
             "#f7f7f7"
            ],
            [
             0.6,
             "#e6f5d0"
            ],
            [
             0.7,
             "#b8e186"
            ],
            [
             0.8,
             "#7fbc41"
            ],
            [
             0.9,
             "#4d9221"
            ],
            [
             1,
             "#276419"
            ]
           ],
           "sequential": [
            [
             0,
             "#0d0887"
            ],
            [
             0.1111111111111111,
             "#46039f"
            ],
            [
             0.2222222222222222,
             "#7201a8"
            ],
            [
             0.3333333333333333,
             "#9c179e"
            ],
            [
             0.4444444444444444,
             "#bd3786"
            ],
            [
             0.5555555555555556,
             "#d8576b"
            ],
            [
             0.6666666666666666,
             "#ed7953"
            ],
            [
             0.7777777777777778,
             "#fb9f3a"
            ],
            [
             0.8888888888888888,
             "#fdca26"
            ],
            [
             1,
             "#f0f921"
            ]
           ],
           "sequentialminus": [
            [
             0,
             "#0d0887"
            ],
            [
             0.1111111111111111,
             "#46039f"
            ],
            [
             0.2222222222222222,
             "#7201a8"
            ],
            [
             0.3333333333333333,
             "#9c179e"
            ],
            [
             0.4444444444444444,
             "#bd3786"
            ],
            [
             0.5555555555555556,
             "#d8576b"
            ],
            [
             0.6666666666666666,
             "#ed7953"
            ],
            [
             0.7777777777777778,
             "#fb9f3a"
            ],
            [
             0.8888888888888888,
             "#fdca26"
            ],
            [
             1,
             "#f0f921"
            ]
           ]
          },
          "colorway": [
           "#636efa",
           "#EF553B",
           "#00cc96",
           "#ab63fa",
           "#FFA15A",
           "#19d3f3",
           "#FF6692",
           "#B6E880",
           "#FF97FF",
           "#FECB52"
          ],
          "font": {
           "color": "#2a3f5f"
          },
          "geo": {
           "bgcolor": "white",
           "lakecolor": "white",
           "landcolor": "#E5ECF6",
           "showlakes": true,
           "showland": true,
           "subunitcolor": "white"
          },
          "hoverlabel": {
           "align": "left"
          },
          "hovermode": "closest",
          "mapbox": {
           "style": "light"
          },
          "paper_bgcolor": "white",
          "plot_bgcolor": "#E5ECF6",
          "polar": {
           "angularaxis": {
            "gridcolor": "white",
            "linecolor": "white",
            "ticks": ""
           },
           "bgcolor": "#E5ECF6",
           "radialaxis": {
            "gridcolor": "white",
            "linecolor": "white",
            "ticks": ""
           }
          },
          "scene": {
           "xaxis": {
            "backgroundcolor": "#E5ECF6",
            "gridcolor": "white",
            "gridwidth": 2,
            "linecolor": "white",
            "showbackground": true,
            "ticks": "",
            "zerolinecolor": "white"
           },
           "yaxis": {
            "backgroundcolor": "#E5ECF6",
            "gridcolor": "white",
            "gridwidth": 2,
            "linecolor": "white",
            "showbackground": true,
            "ticks": "",
            "zerolinecolor": "white"
           },
           "zaxis": {
            "backgroundcolor": "#E5ECF6",
            "gridcolor": "white",
            "gridwidth": 2,
            "linecolor": "white",
            "showbackground": true,
            "ticks": "",
            "zerolinecolor": "white"
           }
          },
          "shapedefaults": {
           "line": {
            "color": "#2a3f5f"
           }
          },
          "ternary": {
           "aaxis": {
            "gridcolor": "white",
            "linecolor": "white",
            "ticks": ""
           },
           "baxis": {
            "gridcolor": "white",
            "linecolor": "white",
            "ticks": ""
           },
           "bgcolor": "#E5ECF6",
           "caxis": {
            "gridcolor": "white",
            "linecolor": "white",
            "ticks": ""
           }
          },
          "title": {
           "x": 0.05
          },
          "xaxis": {
           "automargin": true,
           "gridcolor": "white",
           "linecolor": "white",
           "ticks": "",
           "title": {
            "standoff": 15
           },
           "zerolinecolor": "white",
           "zerolinewidth": 2
          },
          "yaxis": {
           "automargin": true,
           "gridcolor": "white",
           "linecolor": "white",
           "ticks": "",
           "title": {
            "standoff": 15
           },
           "zerolinecolor": "white",
           "zerolinewidth": 2
          }
         }
        },
        "title": {
         "text": "Players Performance Radar Chart"
        }
       }
      }
     },
     "metadata": {},
     "output_type": "display_data"
    }
   ],
   "source": [
    "import plotly.graph_objects as go\n",
    "\n",
    "player1 = 'JC Buttler'\n",
    "player2 = 'HH Pandya'\n",
    "# Define data for radar chart\n",
    "data = [\n",
    "    go.Scatterpolar(\n",
    "        r=[(batting_average[player1] * 1000 )/max_bat_avg, (batsman_strikerate[player1]*1000)/max_strike_rate, (player_of_match_count[player1]*1000)/max_player_awrds],\n",
    "        theta=['Average', 'StrikeRate', 'Player Of Match Count'],\n",
    "        fill='toself',\n",
    "        name=player1,\n",
    "        hovertext=[{\"Average\":batting_average[player1]},{\"Strike rate\":batsman_strikerate[player1]},{\"Player of match\":player_of_match_count[player1]}],\n",
    "        hovertemplate=\"%{hovertext}<extra></extra>\"\n",
    "    ),\n",
    "    go.Scatterpolar(\n",
    "        r=[(batting_average[player2] * 1000 )/max_bat_avg, (batsman_strikerate[player2]*1000)/max_strike_rate, (player_of_match_count[player2]*1000)/max_player_awrds],\n",
    "        theta=['Average', 'StrikeRate', 'Player Of Match Count'],\n",
    "        fill='toself',\n",
    "        name=player2,\n",
    "        hovertext=[{\"Average\":batting_average[player2] },{\"Strike rate\":batsman_strikerate[player2]},{\"Player of match\":player_of_match_count[player2]}],\n",
    "        hovertemplate=\"%{hovertext}<extra></extra>\"\n",
    "    )\n",
    "]\n",
    "\n",
    "# Define layout for radar chart\n",
    "layout = go.Layout(\n",
    "    polar=dict(\n",
    "        radialaxis=dict(\n",
    "            visible=True,\n",
    "            showline=True,\n",
    "            showticklabels=False,\n",
    "            range=[0, 1000]\n",
    "        )\n",
    "    ),\n",
    "    showlegend=True,\n",
    "    title='Players Performance Radar Chart'\n",
    ")\n",
    "\n",
    "# Create figure and plot the radar chart\n",
    "fig = go.Figure(data=data, layout=layout)\n",
    "fig.show()"
   ]
  },
  {
   "cell_type": "code",
   "execution_count": 78,
   "metadata": {},
   "outputs": [
    {
     "data": {
      "application/vnd.plotly.v1+json": {
       "config": {
        "plotlyServerURL": "https://plot.ly"
       },
       "data": [
        {
         "fill": "toself",
         "name": "Strikerate",
         "r": [
          149.05008635578582,
          131.26684636118597
         ],
         "theta": [
          "Strikerate",
          "Strikerate"
         ],
         "type": "scatterpolar"
        },
        {
         "fill": "toself",
         "name": "Average",
         "r": [
          57.53333333333333,
          44.27272727272727
         ],
         "theta": [
          "Average",
          "Average"
         ],
         "type": "scatterpolar"
        },
        {
         "fill": "toself",
         "name": "Player of Match",
         "r": [
          3,
          2
         ],
         "theta": [
          "Player of Match",
          "Player of Match"
         ],
         "type": "scatterpolar"
        }
       ],
       "layout": {
        "polar": {
         "radialaxis": {
          "range": [
           0,
           240
          ],
          "visible": true
         }
        },
        "showlegend": true,
        "template": {
         "data": {
          "bar": [
           {
            "error_x": {
             "color": "#2a3f5f"
            },
            "error_y": {
             "color": "#2a3f5f"
            },
            "marker": {
             "line": {
              "color": "#E5ECF6",
              "width": 0.5
             },
             "pattern": {
              "fillmode": "overlay",
              "size": 10,
              "solidity": 0.2
             }
            },
            "type": "bar"
           }
          ],
          "barpolar": [
           {
            "marker": {
             "line": {
              "color": "#E5ECF6",
              "width": 0.5
             },
             "pattern": {
              "fillmode": "overlay",
              "size": 10,
              "solidity": 0.2
             }
            },
            "type": "barpolar"
           }
          ],
          "carpet": [
           {
            "aaxis": {
             "endlinecolor": "#2a3f5f",
             "gridcolor": "white",
             "linecolor": "white",
             "minorgridcolor": "white",
             "startlinecolor": "#2a3f5f"
            },
            "baxis": {
             "endlinecolor": "#2a3f5f",
             "gridcolor": "white",
             "linecolor": "white",
             "minorgridcolor": "white",
             "startlinecolor": "#2a3f5f"
            },
            "type": "carpet"
           }
          ],
          "choropleth": [
           {
            "colorbar": {
             "outlinewidth": 0,
             "ticks": ""
            },
            "type": "choropleth"
           }
          ],
          "contour": [
           {
            "colorbar": {
             "outlinewidth": 0,
             "ticks": ""
            },
            "colorscale": [
             [
              0,
              "#0d0887"
             ],
             [
              0.1111111111111111,
              "#46039f"
             ],
             [
              0.2222222222222222,
              "#7201a8"
             ],
             [
              0.3333333333333333,
              "#9c179e"
             ],
             [
              0.4444444444444444,
              "#bd3786"
             ],
             [
              0.5555555555555556,
              "#d8576b"
             ],
             [
              0.6666666666666666,
              "#ed7953"
             ],
             [
              0.7777777777777778,
              "#fb9f3a"
             ],
             [
              0.8888888888888888,
              "#fdca26"
             ],
             [
              1,
              "#f0f921"
             ]
            ],
            "type": "contour"
           }
          ],
          "contourcarpet": [
           {
            "colorbar": {
             "outlinewidth": 0,
             "ticks": ""
            },
            "type": "contourcarpet"
           }
          ],
          "heatmap": [
           {
            "colorbar": {
             "outlinewidth": 0,
             "ticks": ""
            },
            "colorscale": [
             [
              0,
              "#0d0887"
             ],
             [
              0.1111111111111111,
              "#46039f"
             ],
             [
              0.2222222222222222,
              "#7201a8"
             ],
             [
              0.3333333333333333,
              "#9c179e"
             ],
             [
              0.4444444444444444,
              "#bd3786"
             ],
             [
              0.5555555555555556,
              "#d8576b"
             ],
             [
              0.6666666666666666,
              "#ed7953"
             ],
             [
              0.7777777777777778,
              "#fb9f3a"
             ],
             [
              0.8888888888888888,
              "#fdca26"
             ],
             [
              1,
              "#f0f921"
             ]
            ],
            "type": "heatmap"
           }
          ],
          "heatmapgl": [
           {
            "colorbar": {
             "outlinewidth": 0,
             "ticks": ""
            },
            "colorscale": [
             [
              0,
              "#0d0887"
             ],
             [
              0.1111111111111111,
              "#46039f"
             ],
             [
              0.2222222222222222,
              "#7201a8"
             ],
             [
              0.3333333333333333,
              "#9c179e"
             ],
             [
              0.4444444444444444,
              "#bd3786"
             ],
             [
              0.5555555555555556,
              "#d8576b"
             ],
             [
              0.6666666666666666,
              "#ed7953"
             ],
             [
              0.7777777777777778,
              "#fb9f3a"
             ],
             [
              0.8888888888888888,
              "#fdca26"
             ],
             [
              1,
              "#f0f921"
             ]
            ],
            "type": "heatmapgl"
           }
          ],
          "histogram": [
           {
            "marker": {
             "pattern": {
              "fillmode": "overlay",
              "size": 10,
              "solidity": 0.2
             }
            },
            "type": "histogram"
           }
          ],
          "histogram2d": [
           {
            "colorbar": {
             "outlinewidth": 0,
             "ticks": ""
            },
            "colorscale": [
             [
              0,
              "#0d0887"
             ],
             [
              0.1111111111111111,
              "#46039f"
             ],
             [
              0.2222222222222222,
              "#7201a8"
             ],
             [
              0.3333333333333333,
              "#9c179e"
             ],
             [
              0.4444444444444444,
              "#bd3786"
             ],
             [
              0.5555555555555556,
              "#d8576b"
             ],
             [
              0.6666666666666666,
              "#ed7953"
             ],
             [
              0.7777777777777778,
              "#fb9f3a"
             ],
             [
              0.8888888888888888,
              "#fdca26"
             ],
             [
              1,
              "#f0f921"
             ]
            ],
            "type": "histogram2d"
           }
          ],
          "histogram2dcontour": [
           {
            "colorbar": {
             "outlinewidth": 0,
             "ticks": ""
            },
            "colorscale": [
             [
              0,
              "#0d0887"
             ],
             [
              0.1111111111111111,
              "#46039f"
             ],
             [
              0.2222222222222222,
              "#7201a8"
             ],
             [
              0.3333333333333333,
              "#9c179e"
             ],
             [
              0.4444444444444444,
              "#bd3786"
             ],
             [
              0.5555555555555556,
              "#d8576b"
             ],
             [
              0.6666666666666666,
              "#ed7953"
             ],
             [
              0.7777777777777778,
              "#fb9f3a"
             ],
             [
              0.8888888888888888,
              "#fdca26"
             ],
             [
              1,
              "#f0f921"
             ]
            ],
            "type": "histogram2dcontour"
           }
          ],
          "mesh3d": [
           {
            "colorbar": {
             "outlinewidth": 0,
             "ticks": ""
            },
            "type": "mesh3d"
           }
          ],
          "parcoords": [
           {
            "line": {
             "colorbar": {
              "outlinewidth": 0,
              "ticks": ""
             }
            },
            "type": "parcoords"
           }
          ],
          "pie": [
           {
            "automargin": true,
            "type": "pie"
           }
          ],
          "scatter": [
           {
            "fillpattern": {
             "fillmode": "overlay",
             "size": 10,
             "solidity": 0.2
            },
            "type": "scatter"
           }
          ],
          "scatter3d": [
           {
            "line": {
             "colorbar": {
              "outlinewidth": 0,
              "ticks": ""
             }
            },
            "marker": {
             "colorbar": {
              "outlinewidth": 0,
              "ticks": ""
             }
            },
            "type": "scatter3d"
           }
          ],
          "scattercarpet": [
           {
            "marker": {
             "colorbar": {
              "outlinewidth": 0,
              "ticks": ""
             }
            },
            "type": "scattercarpet"
           }
          ],
          "scattergeo": [
           {
            "marker": {
             "colorbar": {
              "outlinewidth": 0,
              "ticks": ""
             }
            },
            "type": "scattergeo"
           }
          ],
          "scattergl": [
           {
            "marker": {
             "colorbar": {
              "outlinewidth": 0,
              "ticks": ""
             }
            },
            "type": "scattergl"
           }
          ],
          "scattermapbox": [
           {
            "marker": {
             "colorbar": {
              "outlinewidth": 0,
              "ticks": ""
             }
            },
            "type": "scattermapbox"
           }
          ],
          "scatterpolar": [
           {
            "marker": {
             "colorbar": {
              "outlinewidth": 0,
              "ticks": ""
             }
            },
            "type": "scatterpolar"
           }
          ],
          "scatterpolargl": [
           {
            "marker": {
             "colorbar": {
              "outlinewidth": 0,
              "ticks": ""
             }
            },
            "type": "scatterpolargl"
           }
          ],
          "scatterternary": [
           {
            "marker": {
             "colorbar": {
              "outlinewidth": 0,
              "ticks": ""
             }
            },
            "type": "scatterternary"
           }
          ],
          "surface": [
           {
            "colorbar": {
             "outlinewidth": 0,
             "ticks": ""
            },
            "colorscale": [
             [
              0,
              "#0d0887"
             ],
             [
              0.1111111111111111,
              "#46039f"
             ],
             [
              0.2222222222222222,
              "#7201a8"
             ],
             [
              0.3333333333333333,
              "#9c179e"
             ],
             [
              0.4444444444444444,
              "#bd3786"
             ],
             [
              0.5555555555555556,
              "#d8576b"
             ],
             [
              0.6666666666666666,
              "#ed7953"
             ],
             [
              0.7777777777777778,
              "#fb9f3a"
             ],
             [
              0.8888888888888888,
              "#fdca26"
             ],
             [
              1,
              "#f0f921"
             ]
            ],
            "type": "surface"
           }
          ],
          "table": [
           {
            "cells": {
             "fill": {
              "color": "#EBF0F8"
             },
             "line": {
              "color": "white"
             }
            },
            "header": {
             "fill": {
              "color": "#C8D4E3"
             },
             "line": {
              "color": "white"
             }
            },
            "type": "table"
           }
          ]
         },
         "layout": {
          "annotationdefaults": {
           "arrowcolor": "#2a3f5f",
           "arrowhead": 0,
           "arrowwidth": 1
          },
          "autotypenumbers": "strict",
          "coloraxis": {
           "colorbar": {
            "outlinewidth": 0,
            "ticks": ""
           }
          },
          "colorscale": {
           "diverging": [
            [
             0,
             "#8e0152"
            ],
            [
             0.1,
             "#c51b7d"
            ],
            [
             0.2,
             "#de77ae"
            ],
            [
             0.3,
             "#f1b6da"
            ],
            [
             0.4,
             "#fde0ef"
            ],
            [
             0.5,
             "#f7f7f7"
            ],
            [
             0.6,
             "#e6f5d0"
            ],
            [
             0.7,
             "#b8e186"
            ],
            [
             0.8,
             "#7fbc41"
            ],
            [
             0.9,
             "#4d9221"
            ],
            [
             1,
             "#276419"
            ]
           ],
           "sequential": [
            [
             0,
             "#0d0887"
            ],
            [
             0.1111111111111111,
             "#46039f"
            ],
            [
             0.2222222222222222,
             "#7201a8"
            ],
            [
             0.3333333333333333,
             "#9c179e"
            ],
            [
             0.4444444444444444,
             "#bd3786"
            ],
            [
             0.5555555555555556,
             "#d8576b"
            ],
            [
             0.6666666666666666,
             "#ed7953"
            ],
            [
             0.7777777777777778,
             "#fb9f3a"
            ],
            [
             0.8888888888888888,
             "#fdca26"
            ],
            [
             1,
             "#f0f921"
            ]
           ],
           "sequentialminus": [
            [
             0,
             "#0d0887"
            ],
            [
             0.1111111111111111,
             "#46039f"
            ],
            [
             0.2222222222222222,
             "#7201a8"
            ],
            [
             0.3333333333333333,
             "#9c179e"
            ],
            [
             0.4444444444444444,
             "#bd3786"
            ],
            [
             0.5555555555555556,
             "#d8576b"
            ],
            [
             0.6666666666666666,
             "#ed7953"
            ],
            [
             0.7777777777777778,
             "#fb9f3a"
            ],
            [
             0.8888888888888888,
             "#fdca26"
            ],
            [
             1,
             "#f0f921"
            ]
           ]
          },
          "colorway": [
           "#636efa",
           "#EF553B",
           "#00cc96",
           "#ab63fa",
           "#FFA15A",
           "#19d3f3",
           "#FF6692",
           "#B6E880",
           "#FF97FF",
           "#FECB52"
          ],
          "font": {
           "color": "#2a3f5f"
          },
          "geo": {
           "bgcolor": "white",
           "lakecolor": "white",
           "landcolor": "#E5ECF6",
           "showlakes": true,
           "showland": true,
           "subunitcolor": "white"
          },
          "hoverlabel": {
           "align": "left"
          },
          "hovermode": "closest",
          "mapbox": {
           "style": "light"
          },
          "paper_bgcolor": "white",
          "plot_bgcolor": "#E5ECF6",
          "polar": {
           "angularaxis": {
            "gridcolor": "white",
            "linecolor": "white",
            "ticks": ""
           },
           "bgcolor": "#E5ECF6",
           "radialaxis": {
            "gridcolor": "white",
            "linecolor": "white",
            "ticks": ""
           }
          },
          "scene": {
           "xaxis": {
            "backgroundcolor": "#E5ECF6",
            "gridcolor": "white",
            "gridwidth": 2,
            "linecolor": "white",
            "showbackground": true,
            "ticks": "",
            "zerolinecolor": "white"
           },
           "yaxis": {
            "backgroundcolor": "#E5ECF6",
            "gridcolor": "white",
            "gridwidth": 2,
            "linecolor": "white",
            "showbackground": true,
            "ticks": "",
            "zerolinecolor": "white"
           },
           "zaxis": {
            "backgroundcolor": "#E5ECF6",
            "gridcolor": "white",
            "gridwidth": 2,
            "linecolor": "white",
            "showbackground": true,
            "ticks": "",
            "zerolinecolor": "white"
           }
          },
          "shapedefaults": {
           "line": {
            "color": "#2a3f5f"
           }
          },
          "ternary": {
           "aaxis": {
            "gridcolor": "white",
            "linecolor": "white",
            "ticks": ""
           },
           "baxis": {
            "gridcolor": "white",
            "linecolor": "white",
            "ticks": ""
           },
           "bgcolor": "#E5ECF6",
           "caxis": {
            "gridcolor": "white",
            "linecolor": "white",
            "ticks": ""
           }
          },
          "title": {
           "x": 0.05
          },
          "xaxis": {
           "automargin": true,
           "gridcolor": "white",
           "linecolor": "white",
           "ticks": "",
           "title": {
            "standoff": 15
           },
           "zerolinecolor": "white",
           "zerolinewidth": 2
          },
          "yaxis": {
           "automargin": true,
           "gridcolor": "white",
           "linecolor": "white",
           "ticks": "",
           "title": {
            "standoff": 15
           },
           "zerolinecolor": "white",
           "zerolinewidth": 2
          }
         }
        }
       }
      }
     },
     "metadata": {},
     "output_type": "display_data"
    }
   ],
   "source": [
    "import plotly.graph_objs as go\n",
    "\n",
    "fig = go.Figure()\n",
    "\n",
    "# add subplot for Strikerate\n",
    "fig.add_trace(go.Scatterpolar(\n",
    "        r=[batsman_strikerate[player1], batsman_strikerate[player2]],\n",
    "        theta=['Strikerate']*2,\n",
    "        fill='toself',\n",
    "        name='Strikerate'\n",
    "    ))\n",
    "\n",
    "# add subplot for Average\n",
    "fig.add_trace(go.Scatterpolar(\n",
    "        r=[batting_average[player1], batting_average[player2]],\n",
    "        theta=['Average']*2,\n",
    "        fill='toself',\n",
    "        name='Average'\n",
    "    ))\n",
    "\n",
    "# add subplot for Player of Match count\n",
    "fig.add_trace(go.Scatterpolar(\n",
    "        r=[ player_of_match_count[player1], player_of_match_count[player2]],\n",
    "        theta=['Player of Match']*2,\n",
    "        fill='toself',\n",
    "        name='Player of Match'\n",
    "    ))\n",
    "\n",
    "# update layout to show subplots\n",
    "fig.update_layout(\n",
    "    polar=dict(\n",
    "        radialaxis=dict(\n",
    "            visible=True,\n",
    "            range=[0, max(240,batsman_strikerate[player1], batsman_strikerate[player2], batting_average[player1], batting_average[player2],player_of_match_count[player1], player_of_match_count[player2])]\n",
    "        )),\n",
    "    showlegend=True,\n",
    "    # newshape=dict(line_color='red')\n",
    ")\n",
    "\n",
    "fig.show()\n"
   ]
  },
  {
   "cell_type": "code",
   "execution_count": 84,
   "metadata": {},
   "outputs": [
    {
     "ename": "ValueError",
     "evalue": "Invalid property specified for object of type plotly.graph_objs.Scatterpolar: 'range'\n\nDid you mean \"line\"?\n\n    Valid properties:\n        cliponaxis\n            Determines whether or not markers and text nodes are\n            clipped about the subplot axes. To show markers and\n            text nodes above axis lines and tick labels, make sure\n            to set `xaxis.layer` and `yaxis.layer` to *below\n            traces*.\n        connectgaps\n            Determines whether or not gaps (i.e. {nan} or missing\n            values) in the provided data arrays are connected.\n        customdata\n            Assigns extra data each datum. This may be useful when\n            listening to hover, click and selection events. Note\n            that, \"scatter\" traces also appends customdata items in\n            the markers DOM elements\n        customdatasrc\n            Sets the source reference on Chart Studio Cloud for\n            `customdata`.\n        dr\n            Sets the r coordinate step.\n        dtheta\n            Sets the theta coordinate step. By default, the\n            `dtheta` step equals the subplot's period divided by\n            the length of the `r` coordinates.\n        fill\n            Sets the area to fill with a solid color. Use with\n            `fillcolor` if not \"none\". scatterpolar has a subset of\n            the options available to scatter. \"toself\" connects the\n            endpoints of the trace (or each segment of the trace if\n            it has gaps) into a closed shape. \"tonext\" fills the\n            space between two traces if one completely encloses the\n            other (eg consecutive contour lines), and behaves like\n            \"toself\" if there is no trace before it. \"tonext\"\n            should not be used if one trace does not enclose the\n            other.\n        fillcolor\n            Sets the fill color. Defaults to a half-transparent\n            variant of the line color, marker color, or marker line\n            color, whichever is available.\n        hoverinfo\n            Determines which trace information appear on hover. If\n            `none` or `skip` are set, no information is displayed\n            upon hovering. But, if `none` is set, click and hover\n            events are still fired.\n        hoverinfosrc\n            Sets the source reference on Chart Studio Cloud for\n            `hoverinfo`.\n        hoverlabel\n            :class:`plotly.graph_objects.scatterpolar.Hoverlabel`\n            instance or dict with compatible properties\n        hoveron\n            Do the hover effects highlight individual points\n            (markers or line points) or do they highlight filled\n            regions? If the fill is \"toself\" or \"tonext\" and there\n            are no markers or text, then the default is \"fills\",\n            otherwise it is \"points\".\n        hovertemplate\n            Template string used for rendering the information that\n            appear on hover box. Note that this will override\n            `hoverinfo`. Variables are inserted using %{variable},\n            for example \"y: %{y}\" as well as %{xother}, {%_xother},\n            {%_xother_}, {%xother_}. When showing info for several\n            points, \"xother\" will be added to those with different\n            x positions from the first point. An underscore before\n            or after \"(x|y)other\" will add a space on that side,\n            only when this field is shown. Numbers are formatted\n            using d3-format's syntax %{variable:d3-format}, for\n            example \"Price: %{y:$.2f}\".\n            https://github.com/d3/d3-format/tree/v1.4.5#d3-format\n            for details on the formatting syntax. Dates are\n            formatted using d3-time-format's syntax\n            %{variable|d3-time-format}, for example \"Day:\n            %{2019-01-01|%A}\". https://github.com/d3/d3-time-\n            format/tree/v2.2.3#locale_format for details on the\n            date formatting syntax. The variables available in\n            `hovertemplate` are the ones emitted as event data\n            described at this link\n            https://plotly.com/javascript/plotlyjs-events/#event-\n            data. Additionally, every attributes that can be\n            specified per-point (the ones that are `arrayOk: true`)\n            are available.  Anything contained in tag `<extra>` is\n            displayed in the secondary box, for example\n            \"<extra>{fullData.name}</extra>\". To hide the secondary\n            box completely, use an empty tag `<extra></extra>`.\n        hovertemplatesrc\n            Sets the source reference on Chart Studio Cloud for\n            `hovertemplate`.\n        hovertext\n            Sets hover text elements associated with each (x,y)\n            pair. If a single string, the same string appears over\n            all the data points. If an array of string, the items\n            are mapped in order to the this trace's (x,y)\n            coordinates. To be seen, trace `hoverinfo` must contain\n            a \"text\" flag.\n        hovertextsrc\n            Sets the source reference on Chart Studio Cloud for\n            `hovertext`.\n        ids\n            Assigns id labels to each datum. These ids for object\n            constancy of data points during animation. Should be an\n            array of strings, not numbers or any other type.\n        idssrc\n            Sets the source reference on Chart Studio Cloud for\n            `ids`.\n        legendgroup\n            Sets the legend group for this trace. Traces part of\n            the same legend group hide/show at the same time when\n            toggling legend items.\n        legendgrouptitle\n            :class:`plotly.graph_objects.scatterpolar.Legendgroupti\n            tle` instance or dict with compatible properties\n        legendrank\n            Sets the legend rank for this trace. Items and groups\n            with smaller ranks are presented on top/left side while\n            with `*reversed* `legend.traceorder` they are on\n            bottom/right side. The default legendrank is 1000, so\n            that you can use ranks less than 1000 to place certain\n            items before all unranked items, and ranks greater than\n            1000 to go after all unranked items.\n        legendwidth\n            Sets the width (in px or fraction) of the legend for\n            this trace.\n        line\n            :class:`plotly.graph_objects.scatterpolar.Line`\n            instance or dict with compatible properties\n        marker\n            :class:`plotly.graph_objects.scatterpolar.Marker`\n            instance or dict with compatible properties\n        meta\n            Assigns extra meta information associated with this\n            trace that can be used in various text attributes.\n            Attributes such as trace `name`, graph, axis and\n            colorbar `title.text`, annotation `text`\n            `rangeselector`, `updatemenues` and `sliders` `label`\n            text all support `meta`. To access the trace `meta`\n            values in an attribute in the same trace, simply use\n            `%{meta[i]}` where `i` is the index or key of the\n            `meta` item in question. To access trace `meta` in\n            layout attributes, use `%{data[n[.meta[i]}` where `i`\n            is the index or key of the `meta` and `n` is the trace\n            index.\n        metasrc\n            Sets the source reference on Chart Studio Cloud for\n            `meta`.\n        mode\n            Determines the drawing mode for this scatter trace. If\n            the provided `mode` includes \"text\" then the `text`\n            elements appear at the coordinates. Otherwise, the\n            `text` elements appear on hover. If there are less than\n            20 points and the trace is not stacked then the default\n            is \"lines+markers\". Otherwise, \"lines\".\n        name\n            Sets the trace name. The trace name appear as the\n            legend item and on hover.\n        opacity\n            Sets the opacity of the trace.\n        r\n            Sets the radial coordinates\n        r0\n            Alternate to `r`. Builds a linear space of r\n            coordinates. Use with `dr` where `r0` is the starting\n            coordinate and `dr` the step.\n        rsrc\n            Sets the source reference on Chart Studio Cloud for\n            `r`.\n        selected\n            :class:`plotly.graph_objects.scatterpolar.Selected`\n            instance or dict with compatible properties\n        selectedpoints\n            Array containing integer indices of selected points.\n            Has an effect only for traces that support selections.\n            Note that an empty array means an empty selection where\n            the `unselected` are turned on for all points, whereas,\n            any other non-array values means no selection all where\n            the `selected` and `unselected` styles have no effect.\n        showlegend\n            Determines whether or not an item corresponding to this\n            trace is shown in the legend.\n        stream\n            :class:`plotly.graph_objects.scatterpolar.Stream`\n            instance or dict with compatible properties\n        subplot\n            Sets a reference between this trace's data coordinates\n            and a polar subplot. If \"polar\" (the default value),\n            the data refer to `layout.polar`. If \"polar2\", the data\n            refer to `layout.polar2`, and so on.\n        text\n            Sets text elements associated with each (x,y) pair. If\n            a single string, the same string appears over all the\n            data points. If an array of string, the items are\n            mapped in order to the this trace's (x,y) coordinates.\n            If trace `hoverinfo` contains a \"text\" flag and\n            \"hovertext\" is not set, these elements will be seen in\n            the hover labels.\n        textfont\n            Sets the text font.\n        textposition\n            Sets the positions of the `text` elements with respects\n            to the (x,y) coordinates.\n        textpositionsrc\n            Sets the source reference on Chart Studio Cloud for\n            `textposition`.\n        textsrc\n            Sets the source reference on Chart Studio Cloud for\n            `text`.\n        texttemplate\n            Template string used for rendering the information text\n            that appear on points. Note that this will override\n            `textinfo`. Variables are inserted using %{variable},\n            for example \"y: %{y}\". Numbers are formatted using\n            d3-format's syntax %{variable:d3-format}, for example\n            \"Price: %{y:$.2f}\".\n            https://github.com/d3/d3-format/tree/v1.4.5#d3-format\n            for details on the formatting syntax. Dates are\n            formatted using d3-time-format's syntax\n            %{variable|d3-time-format}, for example \"Day:\n            %{2019-01-01|%A}\". https://github.com/d3/d3-time-\n            format/tree/v2.2.3#locale_format for details on the\n            date formatting syntax. Every attributes that can be\n            specified per-point (the ones that are `arrayOk: true`)\n            are available. variables `r`, `theta` and `text`.\n        texttemplatesrc\n            Sets the source reference on Chart Studio Cloud for\n            `texttemplate`.\n        theta\n            Sets the angular coordinates\n        theta0\n            Alternate to `theta`. Builds a linear space of theta\n            coordinates. Use with `dtheta` where `theta0` is the\n            starting coordinate and `dtheta` the step.\n        thetasrc\n            Sets the source reference on Chart Studio Cloud for\n            `theta`.\n        thetaunit\n            Sets the unit of input \"theta\" values. Has an effect\n            only when on \"linear\" angular axes.\n        uid\n            Assign an id to this trace, Use this to provide object\n            constancy between traces during animations and\n            transitions.\n        uirevision\n            Controls persistence of some user-driven changes to the\n            trace: `constraintrange` in `parcoords` traces, as well\n            as some `editable: true` modifications such as `name`\n            and `colorbar.title`. Defaults to `layout.uirevision`.\n            Note that other user-driven trace attribute changes are\n            controlled by `layout` attributes: `trace.visible` is\n            controlled by `layout.legend.uirevision`,\n            `selectedpoints` is controlled by\n            `layout.selectionrevision`, and `colorbar.(x|y)`\n            (accessible with `config: {editable: true}`) is\n            controlled by `layout.editrevision`. Trace changes are\n            tracked by `uid`, which only falls back on trace index\n            if no `uid` is provided. So if your app can add/remove\n            traces before the end of the `data` array, such that\n            the same trace has a different index, you can still\n            preserve user-driven changes if you give each trace a\n            `uid` that stays with it as it moves.\n        unselected\n            :class:`plotly.graph_objects.scatterpolar.Unselected`\n            instance or dict with compatible properties\n        visible\n            Determines whether or not this trace is visible. If\n            \"legendonly\", the trace is not drawn, but can appear as\n            a legend item (provided that the legend itself is\n            visible).\n        \nDid you mean \"line\"?\n\nBad property path:\nrange_r\n^^^^^",
     "output_type": "error",
     "traceback": [
      "\u001b[1;31m---------------------------------------------------------------------------\u001b[0m",
      "\u001b[1;31mValueError\u001b[0m                                Traceback (most recent call last)",
      "\u001b[1;32mf:\\Mtech\\bigdataproj\\Bigdataproject\\batting_stats.ipynb Cell 21\u001b[0m in \u001b[0;36m<cell line: 5>\u001b[1;34m()\u001b[0m\n\u001b[0;32m      <a href='vscode-notebook-cell:/f%3A/Mtech/bigdataproj/Bigdataproject/batting_stats.ipynb#X26sZmlsZQ%3D%3D?line=0'>1</a>\u001b[0m \u001b[39mimport\u001b[39;00m \u001b[39mplotly\u001b[39;00m\u001b[39m.\u001b[39;00m\u001b[39mgraph_objects\u001b[39;00m \u001b[39mas\u001b[39;00m \u001b[39mgo\u001b[39;00m\n\u001b[0;32m      <a href='vscode-notebook-cell:/f%3A/Mtech/bigdataproj/Bigdataproject/batting_stats.ipynb#X26sZmlsZQ%3D%3D?line=2'>3</a>\u001b[0m fig \u001b[39m=\u001b[39m go\u001b[39m.\u001b[39mFigure()\n\u001b[1;32m----> <a href='vscode-notebook-cell:/f%3A/Mtech/bigdataproj/Bigdataproject/batting_stats.ipynb#X26sZmlsZQ%3D%3D?line=4'>5</a>\u001b[0m fig\u001b[39m.\u001b[39madd_trace(go\u001b[39m.\u001b[39;49mScatterpolar(\n\u001b[0;32m      <a href='vscode-notebook-cell:/f%3A/Mtech/bigdataproj/Bigdataproject/batting_stats.ipynb#X26sZmlsZQ%3D%3D?line=5'>6</a>\u001b[0m       r\u001b[39m=\u001b[39;49m[batting_average[player1], batsman_strikerate[player1], player_of_match_count[player1]],\n\u001b[0;32m      <a href='vscode-notebook-cell:/f%3A/Mtech/bigdataproj/Bigdataproject/batting_stats.ipynb#X26sZmlsZQ%3D%3D?line=6'>7</a>\u001b[0m       theta\u001b[39m=\u001b[39;49m[\u001b[39m'\u001b[39;49m\u001b[39mAverage\u001b[39;49m\u001b[39m'\u001b[39;49m, \u001b[39m'\u001b[39;49m\u001b[39mStrike_rate\u001b[39;49m\u001b[39m'\u001b[39;49m, \u001b[39m'\u001b[39;49m\u001b[39mPlayer of Match\u001b[39;49m\u001b[39m'\u001b[39;49m],\n\u001b[0;32m      <a href='vscode-notebook-cell:/f%3A/Mtech/bigdataproj/Bigdataproject/batting_stats.ipynb#X26sZmlsZQ%3D%3D?line=7'>8</a>\u001b[0m       fill\u001b[39m=\u001b[39;49m\u001b[39m'\u001b[39;49m\u001b[39mtoself\u001b[39;49m\u001b[39m'\u001b[39;49m,\n\u001b[0;32m      <a href='vscode-notebook-cell:/f%3A/Mtech/bigdataproj/Bigdataproject/batting_stats.ipynb#X26sZmlsZQ%3D%3D?line=8'>9</a>\u001b[0m       name\u001b[39m=\u001b[39;49mplayer1,\n\u001b[0;32m     <a href='vscode-notebook-cell:/f%3A/Mtech/bigdataproj/Bigdataproject/batting_stats.ipynb#X26sZmlsZQ%3D%3D?line=9'>10</a>\u001b[0m       range_r\u001b[39m=\u001b[39;49m[(\u001b[39m0\u001b[39;49m, \u001b[39m70\u001b[39;49m), (\u001b[39m0\u001b[39;49m, \u001b[39m250\u001b[39;49m), (\u001b[39m0\u001b[39;49m, \u001b[39m10\u001b[39;49m)]\n\u001b[0;32m     <a href='vscode-notebook-cell:/f%3A/Mtech/bigdataproj/Bigdataproject/batting_stats.ipynb#X26sZmlsZQ%3D%3D?line=10'>11</a>\u001b[0m ))\n\u001b[0;32m     <a href='vscode-notebook-cell:/f%3A/Mtech/bigdataproj/Bigdataproject/batting_stats.ipynb#X26sZmlsZQ%3D%3D?line=12'>13</a>\u001b[0m fig\u001b[39m.\u001b[39madd_trace(go\u001b[39m.\u001b[39mScatterpolar(\n\u001b[0;32m     <a href='vscode-notebook-cell:/f%3A/Mtech/bigdataproj/Bigdataproject/batting_stats.ipynb#X26sZmlsZQ%3D%3D?line=13'>14</a>\u001b[0m       r\u001b[39m=\u001b[39m[batting_average[player2], batsman_strikerate[player2], player_of_match_count[player2]],\n\u001b[0;32m     <a href='vscode-notebook-cell:/f%3A/Mtech/bigdataproj/Bigdataproject/batting_stats.ipynb#X26sZmlsZQ%3D%3D?line=14'>15</a>\u001b[0m       theta\u001b[39m=\u001b[39m[\u001b[39m'\u001b[39m\u001b[39mAverage\u001b[39m\u001b[39m'\u001b[39m, \u001b[39m'\u001b[39m\u001b[39mStrike_rate\u001b[39m\u001b[39m'\u001b[39m, \u001b[39m'\u001b[39m\u001b[39mPlayer of Match\u001b[39m\u001b[39m'\u001b[39m],\n\u001b[1;32m   (...)\u001b[0m\n\u001b[0;32m     <a href='vscode-notebook-cell:/f%3A/Mtech/bigdataproj/Bigdataproject/batting_stats.ipynb#X26sZmlsZQ%3D%3D?line=17'>18</a>\u001b[0m       range_r\u001b[39m=\u001b[39m[(\u001b[39m0\u001b[39m, \u001b[39m70\u001b[39m), (\u001b[39m0\u001b[39m, \u001b[39m250\u001b[39m), (\u001b[39m0\u001b[39m, \u001b[39m10\u001b[39m)]\n\u001b[0;32m     <a href='vscode-notebook-cell:/f%3A/Mtech/bigdataproj/Bigdataproject/batting_stats.ipynb#X26sZmlsZQ%3D%3D?line=18'>19</a>\u001b[0m ))\n\u001b[0;32m     <a href='vscode-notebook-cell:/f%3A/Mtech/bigdataproj/Bigdataproject/batting_stats.ipynb#X26sZmlsZQ%3D%3D?line=20'>21</a>\u001b[0m fig\u001b[39m.\u001b[39mupdate_layout(\n\u001b[0;32m     <a href='vscode-notebook-cell:/f%3A/Mtech/bigdataproj/Bigdataproject/batting_stats.ipynb#X26sZmlsZQ%3D%3D?line=21'>22</a>\u001b[0m   polar\u001b[39m=\u001b[39m\u001b[39mdict\u001b[39m(\n\u001b[0;32m     <a href='vscode-notebook-cell:/f%3A/Mtech/bigdataproj/Bigdataproject/batting_stats.ipynb#X26sZmlsZQ%3D%3D?line=22'>23</a>\u001b[0m     radialaxis\u001b[39m=\u001b[39m\u001b[39mdict\u001b[39m(\n\u001b[1;32m   (...)\u001b[0m\n\u001b[0;32m     <a href='vscode-notebook-cell:/f%3A/Mtech/bigdataproj/Bigdataproject/batting_stats.ipynb#X26sZmlsZQ%3D%3D?line=26'>27</a>\u001b[0m   showlegend\u001b[39m=\u001b[39m\u001b[39mTrue\u001b[39;00m\n\u001b[0;32m     <a href='vscode-notebook-cell:/f%3A/Mtech/bigdataproj/Bigdataproject/batting_stats.ipynb#X26sZmlsZQ%3D%3D?line=27'>28</a>\u001b[0m )\n",
      "File \u001b[1;32mc:\\Users\\manna\\AppData\\Local\\Programs\\Python\\Python39\\lib\\site-packages\\plotly\\graph_objs\\_scatterpolar.py:2474\u001b[0m, in \u001b[0;36mScatterpolar.__init__\u001b[1;34m(self, arg, cliponaxis, connectgaps, customdata, customdatasrc, dr, dtheta, fill, fillcolor, hoverinfo, hoverinfosrc, hoverlabel, hoveron, hovertemplate, hovertemplatesrc, hovertext, hovertextsrc, ids, idssrc, legendgroup, legendgrouptitle, legendrank, legendwidth, line, marker, meta, metasrc, mode, name, opacity, r, r0, rsrc, selected, selectedpoints, showlegend, stream, subplot, text, textfont, textposition, textpositionsrc, textsrc, texttemplate, texttemplatesrc, theta, theta0, thetasrc, thetaunit, uid, uirevision, unselected, visible, **kwargs)\u001b[0m\n\u001b[0;32m   2470\u001b[0m arg\u001b[39m.\u001b[39mpop(\u001b[39m\"\u001b[39m\u001b[39mtype\u001b[39m\u001b[39m\"\u001b[39m, \u001b[39mNone\u001b[39;00m)\n\u001b[0;32m   2472\u001b[0m \u001b[39m# Process unknown kwargs\u001b[39;00m\n\u001b[0;32m   2473\u001b[0m \u001b[39m# ----------------------\u001b[39;00m\n\u001b[1;32m-> 2474\u001b[0m \u001b[39mself\u001b[39m\u001b[39m.\u001b[39m_process_kwargs(\u001b[39m*\u001b[39m\u001b[39m*\u001b[39m\u001b[39mdict\u001b[39m(arg, \u001b[39m*\u001b[39m\u001b[39m*\u001b[39mkwargs))\n\u001b[0;32m   2476\u001b[0m \u001b[39m# Reset skip_invalid\u001b[39;00m\n\u001b[0;32m   2477\u001b[0m \u001b[39m# ------------------\u001b[39;00m\n\u001b[0;32m   2478\u001b[0m \u001b[39mself\u001b[39m\u001b[39m.\u001b[39m_skip_invalid \u001b[39m=\u001b[39m \u001b[39mFalse\u001b[39;00m\n",
      "File \u001b[1;32mc:\\Users\\manna\\AppData\\Local\\Programs\\Python\\Python39\\lib\\site-packages\\plotly\\basedatatypes.py:4368\u001b[0m, in \u001b[0;36mBasePlotlyType._process_kwargs\u001b[1;34m(self, **kwargs)\u001b[0m\n\u001b[0;32m   4366\u001b[0m     \u001b[39mself\u001b[39m[k] \u001b[39m=\u001b[39m v\n\u001b[0;32m   4367\u001b[0m \u001b[39melif\u001b[39;00m \u001b[39mnot\u001b[39;00m \u001b[39mself\u001b[39m\u001b[39m.\u001b[39m_skip_invalid:\n\u001b[1;32m-> 4368\u001b[0m     \u001b[39mraise\u001b[39;00m err\n",
      "\u001b[1;31mValueError\u001b[0m: Invalid property specified for object of type plotly.graph_objs.Scatterpolar: 'range'\n\nDid you mean \"line\"?\n\n    Valid properties:\n        cliponaxis\n            Determines whether or not markers and text nodes are\n            clipped about the subplot axes. To show markers and\n            text nodes above axis lines and tick labels, make sure\n            to set `xaxis.layer` and `yaxis.layer` to *below\n            traces*.\n        connectgaps\n            Determines whether or not gaps (i.e. {nan} or missing\n            values) in the provided data arrays are connected.\n        customdata\n            Assigns extra data each datum. This may be useful when\n            listening to hover, click and selection events. Note\n            that, \"scatter\" traces also appends customdata items in\n            the markers DOM elements\n        customdatasrc\n            Sets the source reference on Chart Studio Cloud for\n            `customdata`.\n        dr\n            Sets the r coordinate step.\n        dtheta\n            Sets the theta coordinate step. By default, the\n            `dtheta` step equals the subplot's period divided by\n            the length of the `r` coordinates.\n        fill\n            Sets the area to fill with a solid color. Use with\n            `fillcolor` if not \"none\". scatterpolar has a subset of\n            the options available to scatter. \"toself\" connects the\n            endpoints of the trace (or each segment of the trace if\n            it has gaps) into a closed shape. \"tonext\" fills the\n            space between two traces if one completely encloses the\n            other (eg consecutive contour lines), and behaves like\n            \"toself\" if there is no trace before it. \"tonext\"\n            should not be used if one trace does not enclose the\n            other.\n        fillcolor\n            Sets the fill color. Defaults to a half-transparent\n            variant of the line color, marker color, or marker line\n            color, whichever is available.\n        hoverinfo\n            Determines which trace information appear on hover. If\n            `none` or `skip` are set, no information is displayed\n            upon hovering. But, if `none` is set, click and hover\n            events are still fired.\n        hoverinfosrc\n            Sets the source reference on Chart Studio Cloud for\n            `hoverinfo`.\n        hoverlabel\n            :class:`plotly.graph_objects.scatterpolar.Hoverlabel`\n            instance or dict with compatible properties\n        hoveron\n            Do the hover effects highlight individual points\n            (markers or line points) or do they highlight filled\n            regions? If the fill is \"toself\" or \"tonext\" and there\n            are no markers or text, then the default is \"fills\",\n            otherwise it is \"points\".\n        hovertemplate\n            Template string used for rendering the information that\n            appear on hover box. Note that this will override\n            `hoverinfo`. Variables are inserted using %{variable},\n            for example \"y: %{y}\" as well as %{xother}, {%_xother},\n            {%_xother_}, {%xother_}. When showing info for several\n            points, \"xother\" will be added to those with different\n            x positions from the first point. An underscore before\n            or after \"(x|y)other\" will add a space on that side,\n            only when this field is shown. Numbers are formatted\n            using d3-format's syntax %{variable:d3-format}, for\n            example \"Price: %{y:$.2f}\".\n            https://github.com/d3/d3-format/tree/v1.4.5#d3-format\n            for details on the formatting syntax. Dates are\n            formatted using d3-time-format's syntax\n            %{variable|d3-time-format}, for example \"Day:\n            %{2019-01-01|%A}\". https://github.com/d3/d3-time-\n            format/tree/v2.2.3#locale_format for details on the\n            date formatting syntax. The variables available in\n            `hovertemplate` are the ones emitted as event data\n            described at this link\n            https://plotly.com/javascript/plotlyjs-events/#event-\n            data. Additionally, every attributes that can be\n            specified per-point (the ones that are `arrayOk: true`)\n            are available.  Anything contained in tag `<extra>` is\n            displayed in the secondary box, for example\n            \"<extra>{fullData.name}</extra>\". To hide the secondary\n            box completely, use an empty tag `<extra></extra>`.\n        hovertemplatesrc\n            Sets the source reference on Chart Studio Cloud for\n            `hovertemplate`.\n        hovertext\n            Sets hover text elements associated with each (x,y)\n            pair. If a single string, the same string appears over\n            all the data points. If an array of string, the items\n            are mapped in order to the this trace's (x,y)\n            coordinates. To be seen, trace `hoverinfo` must contain\n            a \"text\" flag.\n        hovertextsrc\n            Sets the source reference on Chart Studio Cloud for\n            `hovertext`.\n        ids\n            Assigns id labels to each datum. These ids for object\n            constancy of data points during animation. Should be an\n            array of strings, not numbers or any other type.\n        idssrc\n            Sets the source reference on Chart Studio Cloud for\n            `ids`.\n        legendgroup\n            Sets the legend group for this trace. Traces part of\n            the same legend group hide/show at the same time when\n            toggling legend items.\n        legendgrouptitle\n            :class:`plotly.graph_objects.scatterpolar.Legendgroupti\n            tle` instance or dict with compatible properties\n        legendrank\n            Sets the legend rank for this trace. Items and groups\n            with smaller ranks are presented on top/left side while\n            with `*reversed* `legend.traceorder` they are on\n            bottom/right side. The default legendrank is 1000, so\n            that you can use ranks less than 1000 to place certain\n            items before all unranked items, and ranks greater than\n            1000 to go after all unranked items.\n        legendwidth\n            Sets the width (in px or fraction) of the legend for\n            this trace.\n        line\n            :class:`plotly.graph_objects.scatterpolar.Line`\n            instance or dict with compatible properties\n        marker\n            :class:`plotly.graph_objects.scatterpolar.Marker`\n            instance or dict with compatible properties\n        meta\n            Assigns extra meta information associated with this\n            trace that can be used in various text attributes.\n            Attributes such as trace `name`, graph, axis and\n            colorbar `title.text`, annotation `text`\n            `rangeselector`, `updatemenues` and `sliders` `label`\n            text all support `meta`. To access the trace `meta`\n            values in an attribute in the same trace, simply use\n            `%{meta[i]}` where `i` is the index or key of the\n            `meta` item in question. To access trace `meta` in\n            layout attributes, use `%{data[n[.meta[i]}` where `i`\n            is the index or key of the `meta` and `n` is the trace\n            index.\n        metasrc\n            Sets the source reference on Chart Studio Cloud for\n            `meta`.\n        mode\n            Determines the drawing mode for this scatter trace. If\n            the provided `mode` includes \"text\" then the `text`\n            elements appear at the coordinates. Otherwise, the\n            `text` elements appear on hover. If there are less than\n            20 points and the trace is not stacked then the default\n            is \"lines+markers\". Otherwise, \"lines\".\n        name\n            Sets the trace name. The trace name appear as the\n            legend item and on hover.\n        opacity\n            Sets the opacity of the trace.\n        r\n            Sets the radial coordinates\n        r0\n            Alternate to `r`. Builds a linear space of r\n            coordinates. Use with `dr` where `r0` is the starting\n            coordinate and `dr` the step.\n        rsrc\n            Sets the source reference on Chart Studio Cloud for\n            `r`.\n        selected\n            :class:`plotly.graph_objects.scatterpolar.Selected`\n            instance or dict with compatible properties\n        selectedpoints\n            Array containing integer indices of selected points.\n            Has an effect only for traces that support selections.\n            Note that an empty array means an empty selection where\n            the `unselected` are turned on for all points, whereas,\n            any other non-array values means no selection all where\n            the `selected` and `unselected` styles have no effect.\n        showlegend\n            Determines whether or not an item corresponding to this\n            trace is shown in the legend.\n        stream\n            :class:`plotly.graph_objects.scatterpolar.Stream`\n            instance or dict with compatible properties\n        subplot\n            Sets a reference between this trace's data coordinates\n            and a polar subplot. If \"polar\" (the default value),\n            the data refer to `layout.polar`. If \"polar2\", the data\n            refer to `layout.polar2`, and so on.\n        text\n            Sets text elements associated with each (x,y) pair. If\n            a single string, the same string appears over all the\n            data points. If an array of string, the items are\n            mapped in order to the this trace's (x,y) coordinates.\n            If trace `hoverinfo` contains a \"text\" flag and\n            \"hovertext\" is not set, these elements will be seen in\n            the hover labels.\n        textfont\n            Sets the text font.\n        textposition\n            Sets the positions of the `text` elements with respects\n            to the (x,y) coordinates.\n        textpositionsrc\n            Sets the source reference on Chart Studio Cloud for\n            `textposition`.\n        textsrc\n            Sets the source reference on Chart Studio Cloud for\n            `text`.\n        texttemplate\n            Template string used for rendering the information text\n            that appear on points. Note that this will override\n            `textinfo`. Variables are inserted using %{variable},\n            for example \"y: %{y}\". Numbers are formatted using\n            d3-format's syntax %{variable:d3-format}, for example\n            \"Price: %{y:$.2f}\".\n            https://github.com/d3/d3-format/tree/v1.4.5#d3-format\n            for details on the formatting syntax. Dates are\n            formatted using d3-time-format's syntax\n            %{variable|d3-time-format}, for example \"Day:\n            %{2019-01-01|%A}\". https://github.com/d3/d3-time-\n            format/tree/v2.2.3#locale_format for details on the\n            date formatting syntax. Every attributes that can be\n            specified per-point (the ones that are `arrayOk: true`)\n            are available. variables `r`, `theta` and `text`.\n        texttemplatesrc\n            Sets the source reference on Chart Studio Cloud for\n            `texttemplate`.\n        theta\n            Sets the angular coordinates\n        theta0\n            Alternate to `theta`. Builds a linear space of theta\n            coordinates. Use with `dtheta` where `theta0` is the\n            starting coordinate and `dtheta` the step.\n        thetasrc\n            Sets the source reference on Chart Studio Cloud for\n            `theta`.\n        thetaunit\n            Sets the unit of input \"theta\" values. Has an effect\n            only when on \"linear\" angular axes.\n        uid\n            Assign an id to this trace, Use this to provide object\n            constancy between traces during animations and\n            transitions.\n        uirevision\n            Controls persistence of some user-driven changes to the\n            trace: `constraintrange` in `parcoords` traces, as well\n            as some `editable: true` modifications such as `name`\n            and `colorbar.title`. Defaults to `layout.uirevision`.\n            Note that other user-driven trace attribute changes are\n            controlled by `layout` attributes: `trace.visible` is\n            controlled by `layout.legend.uirevision`,\n            `selectedpoints` is controlled by\n            `layout.selectionrevision`, and `colorbar.(x|y)`\n            (accessible with `config: {editable: true}`) is\n            controlled by `layout.editrevision`. Trace changes are\n            tracked by `uid`, which only falls back on trace index\n            if no `uid` is provided. So if your app can add/remove\n            traces before the end of the `data` array, such that\n            the same trace has a different index, you can still\n            preserve user-driven changes if you give each trace a\n            `uid` that stays with it as it moves.\n        unselected\n            :class:`plotly.graph_objects.scatterpolar.Unselected`\n            instance or dict with compatible properties\n        visible\n            Determines whether or not this trace is visible. If\n            \"legendonly\", the trace is not drawn, but can appear as\n            a legend item (provided that the legend itself is\n            visible).\n        \nDid you mean \"line\"?\n\nBad property path:\nrange_r\n^^^^^"
     ]
    }
   ],
   "source": [
    "import plotly.graph_objects as go\n",
    "\n",
    "fig = go.Figure()\n",
    "\n",
    "fig.add_trace(go.Scatterpolar(\n",
    "      r=[batting_average[player1], batsman_strikerate[player1], player_of_match_count[player1]],\n",
    "      theta=['Average', 'Strike_rate', 'Player of Match'],\n",
    "      fill='toself',\n",
    "      name=player1,\n",
    "      range_r=[(0, 70), (0, 250), (0, 10)]\n",
    "))\n",
    "\n",
    "fig.add_trace(go.Scatterpolar(\n",
    "      r=[batting_average[player2], batsman_strikerate[player2], player_of_match_count[player2]],\n",
    "      theta=['Average', 'Strike_rate', 'Player of Match'],\n",
    "      fill='toself',\n",
    "      name=player2,\n",
    "      range_r=[(0, 70), (0, 250), (0, 10)]\n",
    "))\n",
    "\n",
    "fig.update_layout(\n",
    "  polar=dict(\n",
    "    radialaxis=dict(\n",
    "      visible=True,\n",
    "      range=[0, 250]\n",
    "    )),\n",
    "  showlegend=True\n",
    ")\n",
    "\n",
    "fig.show()\n"
   ]
  },
  {
   "cell_type": "code",
   "execution_count": 85,
   "metadata": {},
   "outputs": [
    {
     "ename": "ValueError",
     "evalue": "Invalid property specified for object of type plotly.graph_objs.Scatterpolar: 'range'\n\nDid you mean \"line\"?\n\n    Valid properties:\n        cliponaxis\n            Determines whether or not markers and text nodes are\n            clipped about the subplot axes. To show markers and\n            text nodes above axis lines and tick labels, make sure\n            to set `xaxis.layer` and `yaxis.layer` to *below\n            traces*.\n        connectgaps\n            Determines whether or not gaps (i.e. {nan} or missing\n            values) in the provided data arrays are connected.\n        customdata\n            Assigns extra data each datum. This may be useful when\n            listening to hover, click and selection events. Note\n            that, \"scatter\" traces also appends customdata items in\n            the markers DOM elements\n        customdatasrc\n            Sets the source reference on Chart Studio Cloud for\n            `customdata`.\n        dr\n            Sets the r coordinate step.\n        dtheta\n            Sets the theta coordinate step. By default, the\n            `dtheta` step equals the subplot's period divided by\n            the length of the `r` coordinates.\n        fill\n            Sets the area to fill with a solid color. Use with\n            `fillcolor` if not \"none\". scatterpolar has a subset of\n            the options available to scatter. \"toself\" connects the\n            endpoints of the trace (or each segment of the trace if\n            it has gaps) into a closed shape. \"tonext\" fills the\n            space between two traces if one completely encloses the\n            other (eg consecutive contour lines), and behaves like\n            \"toself\" if there is no trace before it. \"tonext\"\n            should not be used if one trace does not enclose the\n            other.\n        fillcolor\n            Sets the fill color. Defaults to a half-transparent\n            variant of the line color, marker color, or marker line\n            color, whichever is available.\n        hoverinfo\n            Determines which trace information appear on hover. If\n            `none` or `skip` are set, no information is displayed\n            upon hovering. But, if `none` is set, click and hover\n            events are still fired.\n        hoverinfosrc\n            Sets the source reference on Chart Studio Cloud for\n            `hoverinfo`.\n        hoverlabel\n            :class:`plotly.graph_objects.scatterpolar.Hoverlabel`\n            instance or dict with compatible properties\n        hoveron\n            Do the hover effects highlight individual points\n            (markers or line points) or do they highlight filled\n            regions? If the fill is \"toself\" or \"tonext\" and there\n            are no markers or text, then the default is \"fills\",\n            otherwise it is \"points\".\n        hovertemplate\n            Template string used for rendering the information that\n            appear on hover box. Note that this will override\n            `hoverinfo`. Variables are inserted using %{variable},\n            for example \"y: %{y}\" as well as %{xother}, {%_xother},\n            {%_xother_}, {%xother_}. When showing info for several\n            points, \"xother\" will be added to those with different\n            x positions from the first point. An underscore before\n            or after \"(x|y)other\" will add a space on that side,\n            only when this field is shown. Numbers are formatted\n            using d3-format's syntax %{variable:d3-format}, for\n            example \"Price: %{y:$.2f}\".\n            https://github.com/d3/d3-format/tree/v1.4.5#d3-format\n            for details on the formatting syntax. Dates are\n            formatted using d3-time-format's syntax\n            %{variable|d3-time-format}, for example \"Day:\n            %{2019-01-01|%A}\". https://github.com/d3/d3-time-\n            format/tree/v2.2.3#locale_format for details on the\n            date formatting syntax. The variables available in\n            `hovertemplate` are the ones emitted as event data\n            described at this link\n            https://plotly.com/javascript/plotlyjs-events/#event-\n            data. Additionally, every attributes that can be\n            specified per-point (the ones that are `arrayOk: true`)\n            are available.  Anything contained in tag `<extra>` is\n            displayed in the secondary box, for example\n            \"<extra>{fullData.name}</extra>\". To hide the secondary\n            box completely, use an empty tag `<extra></extra>`.\n        hovertemplatesrc\n            Sets the source reference on Chart Studio Cloud for\n            `hovertemplate`.\n        hovertext\n            Sets hover text elements associated with each (x,y)\n            pair. If a single string, the same string appears over\n            all the data points. If an array of string, the items\n            are mapped in order to the this trace's (x,y)\n            coordinates. To be seen, trace `hoverinfo` must contain\n            a \"text\" flag.\n        hovertextsrc\n            Sets the source reference on Chart Studio Cloud for\n            `hovertext`.\n        ids\n            Assigns id labels to each datum. These ids for object\n            constancy of data points during animation. Should be an\n            array of strings, not numbers or any other type.\n        idssrc\n            Sets the source reference on Chart Studio Cloud for\n            `ids`.\n        legendgroup\n            Sets the legend group for this trace. Traces part of\n            the same legend group hide/show at the same time when\n            toggling legend items.\n        legendgrouptitle\n            :class:`plotly.graph_objects.scatterpolar.Legendgroupti\n            tle` instance or dict with compatible properties\n        legendrank\n            Sets the legend rank for this trace. Items and groups\n            with smaller ranks are presented on top/left side while\n            with `*reversed* `legend.traceorder` they are on\n            bottom/right side. The default legendrank is 1000, so\n            that you can use ranks less than 1000 to place certain\n            items before all unranked items, and ranks greater than\n            1000 to go after all unranked items.\n        legendwidth\n            Sets the width (in px or fraction) of the legend for\n            this trace.\n        line\n            :class:`plotly.graph_objects.scatterpolar.Line`\n            instance or dict with compatible properties\n        marker\n            :class:`plotly.graph_objects.scatterpolar.Marker`\n            instance or dict with compatible properties\n        meta\n            Assigns extra meta information associated with this\n            trace that can be used in various text attributes.\n            Attributes such as trace `name`, graph, axis and\n            colorbar `title.text`, annotation `text`\n            `rangeselector`, `updatemenues` and `sliders` `label`\n            text all support `meta`. To access the trace `meta`\n            values in an attribute in the same trace, simply use\n            `%{meta[i]}` where `i` is the index or key of the\n            `meta` item in question. To access trace `meta` in\n            layout attributes, use `%{data[n[.meta[i]}` where `i`\n            is the index or key of the `meta` and `n` is the trace\n            index.\n        metasrc\n            Sets the source reference on Chart Studio Cloud for\n            `meta`.\n        mode\n            Determines the drawing mode for this scatter trace. If\n            the provided `mode` includes \"text\" then the `text`\n            elements appear at the coordinates. Otherwise, the\n            `text` elements appear on hover. If there are less than\n            20 points and the trace is not stacked then the default\n            is \"lines+markers\". Otherwise, \"lines\".\n        name\n            Sets the trace name. The trace name appear as the\n            legend item and on hover.\n        opacity\n            Sets the opacity of the trace.\n        r\n            Sets the radial coordinates\n        r0\n            Alternate to `r`. Builds a linear space of r\n            coordinates. Use with `dr` where `r0` is the starting\n            coordinate and `dr` the step.\n        rsrc\n            Sets the source reference on Chart Studio Cloud for\n            `r`.\n        selected\n            :class:`plotly.graph_objects.scatterpolar.Selected`\n            instance or dict with compatible properties\n        selectedpoints\n            Array containing integer indices of selected points.\n            Has an effect only for traces that support selections.\n            Note that an empty array means an empty selection where\n            the `unselected` are turned on for all points, whereas,\n            any other non-array values means no selection all where\n            the `selected` and `unselected` styles have no effect.\n        showlegend\n            Determines whether or not an item corresponding to this\n            trace is shown in the legend.\n        stream\n            :class:`plotly.graph_objects.scatterpolar.Stream`\n            instance or dict with compatible properties\n        subplot\n            Sets a reference between this trace's data coordinates\n            and a polar subplot. If \"polar\" (the default value),\n            the data refer to `layout.polar`. If \"polar2\", the data\n            refer to `layout.polar2`, and so on.\n        text\n            Sets text elements associated with each (x,y) pair. If\n            a single string, the same string appears over all the\n            data points. If an array of string, the items are\n            mapped in order to the this trace's (x,y) coordinates.\n            If trace `hoverinfo` contains a \"text\" flag and\n            \"hovertext\" is not set, these elements will be seen in\n            the hover labels.\n        textfont\n            Sets the text font.\n        textposition\n            Sets the positions of the `text` elements with respects\n            to the (x,y) coordinates.\n        textpositionsrc\n            Sets the source reference on Chart Studio Cloud for\n            `textposition`.\n        textsrc\n            Sets the source reference on Chart Studio Cloud for\n            `text`.\n        texttemplate\n            Template string used for rendering the information text\n            that appear on points. Note that this will override\n            `textinfo`. Variables are inserted using %{variable},\n            for example \"y: %{y}\". Numbers are formatted using\n            d3-format's syntax %{variable:d3-format}, for example\n            \"Price: %{y:$.2f}\".\n            https://github.com/d3/d3-format/tree/v1.4.5#d3-format\n            for details on the formatting syntax. Dates are\n            formatted using d3-time-format's syntax\n            %{variable|d3-time-format}, for example \"Day:\n            %{2019-01-01|%A}\". https://github.com/d3/d3-time-\n            format/tree/v2.2.3#locale_format for details on the\n            date formatting syntax. Every attributes that can be\n            specified per-point (the ones that are `arrayOk: true`)\n            are available. variables `r`, `theta` and `text`.\n        texttemplatesrc\n            Sets the source reference on Chart Studio Cloud for\n            `texttemplate`.\n        theta\n            Sets the angular coordinates\n        theta0\n            Alternate to `theta`. Builds a linear space of theta\n            coordinates. Use with `dtheta` where `theta0` is the\n            starting coordinate and `dtheta` the step.\n        thetasrc\n            Sets the source reference on Chart Studio Cloud for\n            `theta`.\n        thetaunit\n            Sets the unit of input \"theta\" values. Has an effect\n            only when on \"linear\" angular axes.\n        uid\n            Assign an id to this trace, Use this to provide object\n            constancy between traces during animations and\n            transitions.\n        uirevision\n            Controls persistence of some user-driven changes to the\n            trace: `constraintrange` in `parcoords` traces, as well\n            as some `editable: true` modifications such as `name`\n            and `colorbar.title`. Defaults to `layout.uirevision`.\n            Note that other user-driven trace attribute changes are\n            controlled by `layout` attributes: `trace.visible` is\n            controlled by `layout.legend.uirevision`,\n            `selectedpoints` is controlled by\n            `layout.selectionrevision`, and `colorbar.(x|y)`\n            (accessible with `config: {editable: true}`) is\n            controlled by `layout.editrevision`. Trace changes are\n            tracked by `uid`, which only falls back on trace index\n            if no `uid` is provided. So if your app can add/remove\n            traces before the end of the `data` array, such that\n            the same trace has a different index, you can still\n            preserve user-driven changes if you give each trace a\n            `uid` that stays with it as it moves.\n        unselected\n            :class:`plotly.graph_objects.scatterpolar.Unselected`\n            instance or dict with compatible properties\n        visible\n            Determines whether or not this trace is visible. If\n            \"legendonly\", the trace is not drawn, but can appear as\n            a legend item (provided that the legend itself is\n            visible).\n        \nDid you mean \"line\"?\n\nBad property path:\nrange_r\n^^^^^",
     "output_type": "error",
     "traceback": [
      "\u001b[1;31m---------------------------------------------------------------------------\u001b[0m",
      "\u001b[1;31mValueError\u001b[0m                                Traceback (most recent call last)",
      "\u001b[1;32mf:\\Mtech\\bigdataproj\\Bigdataproject\\batting_stats.ipynb Cell 22\u001b[0m in \u001b[0;36m<cell line: 13>\u001b[1;34m()\u001b[0m\n\u001b[0;32m     <a href='vscode-notebook-cell:/f%3A/Mtech/bigdataproj/Bigdataproject/batting_stats.ipynb#X30sZmlsZQ%3D%3D?line=9'>10</a>\u001b[0m range_pom \u001b[39m=\u001b[39m [\u001b[39m0\u001b[39m, \u001b[39m10\u001b[39m]\n\u001b[0;32m     <a href='vscode-notebook-cell:/f%3A/Mtech/bigdataproj/Bigdataproject/batting_stats.ipynb#X30sZmlsZQ%3D%3D?line=11'>12</a>\u001b[0m \u001b[39m# Create traces for each player\u001b[39;00m\n\u001b[1;32m---> <a href='vscode-notebook-cell:/f%3A/Mtech/bigdataproj/Bigdataproject/batting_stats.ipynb#X30sZmlsZQ%3D%3D?line=12'>13</a>\u001b[0m trace1 \u001b[39m=\u001b[39m go\u001b[39m.\u001b[39;49mScatterpolar(\n\u001b[0;32m     <a href='vscode-notebook-cell:/f%3A/Mtech/bigdataproj/Bigdataproject/batting_stats.ipynb#X30sZmlsZQ%3D%3D?line=13'>14</a>\u001b[0m     r\u001b[39m=\u001b[39;49m[player1[\u001b[39m'\u001b[39;49m\u001b[39mStrike Rate\u001b[39;49m\u001b[39m'\u001b[39;49m], player1[\u001b[39m'\u001b[39;49m\u001b[39mAverage\u001b[39;49m\u001b[39m'\u001b[39;49m], player1[\u001b[39m'\u001b[39;49m\u001b[39mPlayer of Match\u001b[39;49m\u001b[39m'\u001b[39;49m]],\n\u001b[0;32m     <a href='vscode-notebook-cell:/f%3A/Mtech/bigdataproj/Bigdataproject/batting_stats.ipynb#X30sZmlsZQ%3D%3D?line=14'>15</a>\u001b[0m     theta\u001b[39m=\u001b[39;49m[\u001b[39m'\u001b[39;49m\u001b[39mStrike Rate\u001b[39;49m\u001b[39m'\u001b[39;49m, \u001b[39m'\u001b[39;49m\u001b[39mAverage\u001b[39;49m\u001b[39m'\u001b[39;49m, \u001b[39m'\u001b[39;49m\u001b[39mPlayer of Match\u001b[39;49m\u001b[39m'\u001b[39;49m],\n\u001b[0;32m     <a href='vscode-notebook-cell:/f%3A/Mtech/bigdataproj/Bigdataproject/batting_stats.ipynb#X30sZmlsZQ%3D%3D?line=15'>16</a>\u001b[0m     fill\u001b[39m=\u001b[39;49m\u001b[39m'\u001b[39;49m\u001b[39mtoself\u001b[39;49m\u001b[39m'\u001b[39;49m,\n\u001b[0;32m     <a href='vscode-notebook-cell:/f%3A/Mtech/bigdataproj/Bigdataproject/batting_stats.ipynb#X30sZmlsZQ%3D%3D?line=16'>17</a>\u001b[0m     name\u001b[39m=\u001b[39;49m\u001b[39m'\u001b[39;49m\u001b[39mPlayer 1\u001b[39;49m\u001b[39m'\u001b[39;49m,\n\u001b[0;32m     <a href='vscode-notebook-cell:/f%3A/Mtech/bigdataproj/Bigdataproject/batting_stats.ipynb#X30sZmlsZQ%3D%3D?line=17'>18</a>\u001b[0m     range_r\u001b[39m=\u001b[39;49mrange_strike_rate\n\u001b[0;32m     <a href='vscode-notebook-cell:/f%3A/Mtech/bigdataproj/Bigdataproject/batting_stats.ipynb#X30sZmlsZQ%3D%3D?line=18'>19</a>\u001b[0m )\n\u001b[0;32m     <a href='vscode-notebook-cell:/f%3A/Mtech/bigdataproj/Bigdataproject/batting_stats.ipynb#X30sZmlsZQ%3D%3D?line=19'>20</a>\u001b[0m trace2 \u001b[39m=\u001b[39m go\u001b[39m.\u001b[39mScatterpolar(\n\u001b[0;32m     <a href='vscode-notebook-cell:/f%3A/Mtech/bigdataproj/Bigdataproject/batting_stats.ipynb#X30sZmlsZQ%3D%3D?line=20'>21</a>\u001b[0m     r\u001b[39m=\u001b[39m[player2[\u001b[39m'\u001b[39m\u001b[39mStrike Rate\u001b[39m\u001b[39m'\u001b[39m], player2[\u001b[39m'\u001b[39m\u001b[39mAverage\u001b[39m\u001b[39m'\u001b[39m], player2[\u001b[39m'\u001b[39m\u001b[39mPlayer of Match\u001b[39m\u001b[39m'\u001b[39m]],\n\u001b[0;32m     <a href='vscode-notebook-cell:/f%3A/Mtech/bigdataproj/Bigdataproject/batting_stats.ipynb#X30sZmlsZQ%3D%3D?line=21'>22</a>\u001b[0m     theta\u001b[39m=\u001b[39m[\u001b[39m'\u001b[39m\u001b[39mStrike Rate\u001b[39m\u001b[39m'\u001b[39m, \u001b[39m'\u001b[39m\u001b[39mAverage\u001b[39m\u001b[39m'\u001b[39m, \u001b[39m'\u001b[39m\u001b[39mPlayer of Match\u001b[39m\u001b[39m'\u001b[39m],\n\u001b[1;32m   (...)\u001b[0m\n\u001b[0;32m     <a href='vscode-notebook-cell:/f%3A/Mtech/bigdataproj/Bigdataproject/batting_stats.ipynb#X30sZmlsZQ%3D%3D?line=24'>25</a>\u001b[0m     range_r\u001b[39m=\u001b[39mrange_average\n\u001b[0;32m     <a href='vscode-notebook-cell:/f%3A/Mtech/bigdataproj/Bigdataproject/batting_stats.ipynb#X30sZmlsZQ%3D%3D?line=25'>26</a>\u001b[0m )\n\u001b[0;32m     <a href='vscode-notebook-cell:/f%3A/Mtech/bigdataproj/Bigdataproject/batting_stats.ipynb#X30sZmlsZQ%3D%3D?line=27'>28</a>\u001b[0m \u001b[39m# Create layout\u001b[39;00m\n",
      "File \u001b[1;32mc:\\Users\\manna\\AppData\\Local\\Programs\\Python\\Python39\\lib\\site-packages\\plotly\\graph_objs\\_scatterpolar.py:2474\u001b[0m, in \u001b[0;36mScatterpolar.__init__\u001b[1;34m(self, arg, cliponaxis, connectgaps, customdata, customdatasrc, dr, dtheta, fill, fillcolor, hoverinfo, hoverinfosrc, hoverlabel, hoveron, hovertemplate, hovertemplatesrc, hovertext, hovertextsrc, ids, idssrc, legendgroup, legendgrouptitle, legendrank, legendwidth, line, marker, meta, metasrc, mode, name, opacity, r, r0, rsrc, selected, selectedpoints, showlegend, stream, subplot, text, textfont, textposition, textpositionsrc, textsrc, texttemplate, texttemplatesrc, theta, theta0, thetasrc, thetaunit, uid, uirevision, unselected, visible, **kwargs)\u001b[0m\n\u001b[0;32m   2470\u001b[0m arg\u001b[39m.\u001b[39mpop(\u001b[39m\"\u001b[39m\u001b[39mtype\u001b[39m\u001b[39m\"\u001b[39m, \u001b[39mNone\u001b[39;00m)\n\u001b[0;32m   2472\u001b[0m \u001b[39m# Process unknown kwargs\u001b[39;00m\n\u001b[0;32m   2473\u001b[0m \u001b[39m# ----------------------\u001b[39;00m\n\u001b[1;32m-> 2474\u001b[0m \u001b[39mself\u001b[39m\u001b[39m.\u001b[39m_process_kwargs(\u001b[39m*\u001b[39m\u001b[39m*\u001b[39m\u001b[39mdict\u001b[39m(arg, \u001b[39m*\u001b[39m\u001b[39m*\u001b[39mkwargs))\n\u001b[0;32m   2476\u001b[0m \u001b[39m# Reset skip_invalid\u001b[39;00m\n\u001b[0;32m   2477\u001b[0m \u001b[39m# ------------------\u001b[39;00m\n\u001b[0;32m   2478\u001b[0m \u001b[39mself\u001b[39m\u001b[39m.\u001b[39m_skip_invalid \u001b[39m=\u001b[39m \u001b[39mFalse\u001b[39;00m\n",
      "File \u001b[1;32mc:\\Users\\manna\\AppData\\Local\\Programs\\Python\\Python39\\lib\\site-packages\\plotly\\basedatatypes.py:4368\u001b[0m, in \u001b[0;36mBasePlotlyType._process_kwargs\u001b[1;34m(self, **kwargs)\u001b[0m\n\u001b[0;32m   4366\u001b[0m     \u001b[39mself\u001b[39m[k] \u001b[39m=\u001b[39m v\n\u001b[0;32m   4367\u001b[0m \u001b[39melif\u001b[39;00m \u001b[39mnot\u001b[39;00m \u001b[39mself\u001b[39m\u001b[39m.\u001b[39m_skip_invalid:\n\u001b[1;32m-> 4368\u001b[0m     \u001b[39mraise\u001b[39;00m err\n",
      "\u001b[1;31mValueError\u001b[0m: Invalid property specified for object of type plotly.graph_objs.Scatterpolar: 'range'\n\nDid you mean \"line\"?\n\n    Valid properties:\n        cliponaxis\n            Determines whether or not markers and text nodes are\n            clipped about the subplot axes. To show markers and\n            text nodes above axis lines and tick labels, make sure\n            to set `xaxis.layer` and `yaxis.layer` to *below\n            traces*.\n        connectgaps\n            Determines whether or not gaps (i.e. {nan} or missing\n            values) in the provided data arrays are connected.\n        customdata\n            Assigns extra data each datum. This may be useful when\n            listening to hover, click and selection events. Note\n            that, \"scatter\" traces also appends customdata items in\n            the markers DOM elements\n        customdatasrc\n            Sets the source reference on Chart Studio Cloud for\n            `customdata`.\n        dr\n            Sets the r coordinate step.\n        dtheta\n            Sets the theta coordinate step. By default, the\n            `dtheta` step equals the subplot's period divided by\n            the length of the `r` coordinates.\n        fill\n            Sets the area to fill with a solid color. Use with\n            `fillcolor` if not \"none\". scatterpolar has a subset of\n            the options available to scatter. \"toself\" connects the\n            endpoints of the trace (or each segment of the trace if\n            it has gaps) into a closed shape. \"tonext\" fills the\n            space between two traces if one completely encloses the\n            other (eg consecutive contour lines), and behaves like\n            \"toself\" if there is no trace before it. \"tonext\"\n            should not be used if one trace does not enclose the\n            other.\n        fillcolor\n            Sets the fill color. Defaults to a half-transparent\n            variant of the line color, marker color, or marker line\n            color, whichever is available.\n        hoverinfo\n            Determines which trace information appear on hover. If\n            `none` or `skip` are set, no information is displayed\n            upon hovering. But, if `none` is set, click and hover\n            events are still fired.\n        hoverinfosrc\n            Sets the source reference on Chart Studio Cloud for\n            `hoverinfo`.\n        hoverlabel\n            :class:`plotly.graph_objects.scatterpolar.Hoverlabel`\n            instance or dict with compatible properties\n        hoveron\n            Do the hover effects highlight individual points\n            (markers or line points) or do they highlight filled\n            regions? If the fill is \"toself\" or \"tonext\" and there\n            are no markers or text, then the default is \"fills\",\n            otherwise it is \"points\".\n        hovertemplate\n            Template string used for rendering the information that\n            appear on hover box. Note that this will override\n            `hoverinfo`. Variables are inserted using %{variable},\n            for example \"y: %{y}\" as well as %{xother}, {%_xother},\n            {%_xother_}, {%xother_}. When showing info for several\n            points, \"xother\" will be added to those with different\n            x positions from the first point. An underscore before\n            or after \"(x|y)other\" will add a space on that side,\n            only when this field is shown. Numbers are formatted\n            using d3-format's syntax %{variable:d3-format}, for\n            example \"Price: %{y:$.2f}\".\n            https://github.com/d3/d3-format/tree/v1.4.5#d3-format\n            for details on the formatting syntax. Dates are\n            formatted using d3-time-format's syntax\n            %{variable|d3-time-format}, for example \"Day:\n            %{2019-01-01|%A}\". https://github.com/d3/d3-time-\n            format/tree/v2.2.3#locale_format for details on the\n            date formatting syntax. The variables available in\n            `hovertemplate` are the ones emitted as event data\n            described at this link\n            https://plotly.com/javascript/plotlyjs-events/#event-\n            data. Additionally, every attributes that can be\n            specified per-point (the ones that are `arrayOk: true`)\n            are available.  Anything contained in tag `<extra>` is\n            displayed in the secondary box, for example\n            \"<extra>{fullData.name}</extra>\". To hide the secondary\n            box completely, use an empty tag `<extra></extra>`.\n        hovertemplatesrc\n            Sets the source reference on Chart Studio Cloud for\n            `hovertemplate`.\n        hovertext\n            Sets hover text elements associated with each (x,y)\n            pair. If a single string, the same string appears over\n            all the data points. If an array of string, the items\n            are mapped in order to the this trace's (x,y)\n            coordinates. To be seen, trace `hoverinfo` must contain\n            a \"text\" flag.\n        hovertextsrc\n            Sets the source reference on Chart Studio Cloud for\n            `hovertext`.\n        ids\n            Assigns id labels to each datum. These ids for object\n            constancy of data points during animation. Should be an\n            array of strings, not numbers or any other type.\n        idssrc\n            Sets the source reference on Chart Studio Cloud for\n            `ids`.\n        legendgroup\n            Sets the legend group for this trace. Traces part of\n            the same legend group hide/show at the same time when\n            toggling legend items.\n        legendgrouptitle\n            :class:`plotly.graph_objects.scatterpolar.Legendgroupti\n            tle` instance or dict with compatible properties\n        legendrank\n            Sets the legend rank for this trace. Items and groups\n            with smaller ranks are presented on top/left side while\n            with `*reversed* `legend.traceorder` they are on\n            bottom/right side. The default legendrank is 1000, so\n            that you can use ranks less than 1000 to place certain\n            items before all unranked items, and ranks greater than\n            1000 to go after all unranked items.\n        legendwidth\n            Sets the width (in px or fraction) of the legend for\n            this trace.\n        line\n            :class:`plotly.graph_objects.scatterpolar.Line`\n            instance or dict with compatible properties\n        marker\n            :class:`plotly.graph_objects.scatterpolar.Marker`\n            instance or dict with compatible properties\n        meta\n            Assigns extra meta information associated with this\n            trace that can be used in various text attributes.\n            Attributes such as trace `name`, graph, axis and\n            colorbar `title.text`, annotation `text`\n            `rangeselector`, `updatemenues` and `sliders` `label`\n            text all support `meta`. To access the trace `meta`\n            values in an attribute in the same trace, simply use\n            `%{meta[i]}` where `i` is the index or key of the\n            `meta` item in question. To access trace `meta` in\n            layout attributes, use `%{data[n[.meta[i]}` where `i`\n            is the index or key of the `meta` and `n` is the trace\n            index.\n        metasrc\n            Sets the source reference on Chart Studio Cloud for\n            `meta`.\n        mode\n            Determines the drawing mode for this scatter trace. If\n            the provided `mode` includes \"text\" then the `text`\n            elements appear at the coordinates. Otherwise, the\n            `text` elements appear on hover. If there are less than\n            20 points and the trace is not stacked then the default\n            is \"lines+markers\". Otherwise, \"lines\".\n        name\n            Sets the trace name. The trace name appear as the\n            legend item and on hover.\n        opacity\n            Sets the opacity of the trace.\n        r\n            Sets the radial coordinates\n        r0\n            Alternate to `r`. Builds a linear space of r\n            coordinates. Use with `dr` where `r0` is the starting\n            coordinate and `dr` the step.\n        rsrc\n            Sets the source reference on Chart Studio Cloud for\n            `r`.\n        selected\n            :class:`plotly.graph_objects.scatterpolar.Selected`\n            instance or dict with compatible properties\n        selectedpoints\n            Array containing integer indices of selected points.\n            Has an effect only for traces that support selections.\n            Note that an empty array means an empty selection where\n            the `unselected` are turned on for all points, whereas,\n            any other non-array values means no selection all where\n            the `selected` and `unselected` styles have no effect.\n        showlegend\n            Determines whether or not an item corresponding to this\n            trace is shown in the legend.\n        stream\n            :class:`plotly.graph_objects.scatterpolar.Stream`\n            instance or dict with compatible properties\n        subplot\n            Sets a reference between this trace's data coordinates\n            and a polar subplot. If \"polar\" (the default value),\n            the data refer to `layout.polar`. If \"polar2\", the data\n            refer to `layout.polar2`, and so on.\n        text\n            Sets text elements associated with each (x,y) pair. If\n            a single string, the same string appears over all the\n            data points. If an array of string, the items are\n            mapped in order to the this trace's (x,y) coordinates.\n            If trace `hoverinfo` contains a \"text\" flag and\n            \"hovertext\" is not set, these elements will be seen in\n            the hover labels.\n        textfont\n            Sets the text font.\n        textposition\n            Sets the positions of the `text` elements with respects\n            to the (x,y) coordinates.\n        textpositionsrc\n            Sets the source reference on Chart Studio Cloud for\n            `textposition`.\n        textsrc\n            Sets the source reference on Chart Studio Cloud for\n            `text`.\n        texttemplate\n            Template string used for rendering the information text\n            that appear on points. Note that this will override\n            `textinfo`. Variables are inserted using %{variable},\n            for example \"y: %{y}\". Numbers are formatted using\n            d3-format's syntax %{variable:d3-format}, for example\n            \"Price: %{y:$.2f}\".\n            https://github.com/d3/d3-format/tree/v1.4.5#d3-format\n            for details on the formatting syntax. Dates are\n            formatted using d3-time-format's syntax\n            %{variable|d3-time-format}, for example \"Day:\n            %{2019-01-01|%A}\". https://github.com/d3/d3-time-\n            format/tree/v2.2.3#locale_format for details on the\n            date formatting syntax. Every attributes that can be\n            specified per-point (the ones that are `arrayOk: true`)\n            are available. variables `r`, `theta` and `text`.\n        texttemplatesrc\n            Sets the source reference on Chart Studio Cloud for\n            `texttemplate`.\n        theta\n            Sets the angular coordinates\n        theta0\n            Alternate to `theta`. Builds a linear space of theta\n            coordinates. Use with `dtheta` where `theta0` is the\n            starting coordinate and `dtheta` the step.\n        thetasrc\n            Sets the source reference on Chart Studio Cloud for\n            `theta`.\n        thetaunit\n            Sets the unit of input \"theta\" values. Has an effect\n            only when on \"linear\" angular axes.\n        uid\n            Assign an id to this trace, Use this to provide object\n            constancy between traces during animations and\n            transitions.\n        uirevision\n            Controls persistence of some user-driven changes to the\n            trace: `constraintrange` in `parcoords` traces, as well\n            as some `editable: true` modifications such as `name`\n            and `colorbar.title`. Defaults to `layout.uirevision`.\n            Note that other user-driven trace attribute changes are\n            controlled by `layout` attributes: `trace.visible` is\n            controlled by `layout.legend.uirevision`,\n            `selectedpoints` is controlled by\n            `layout.selectionrevision`, and `colorbar.(x|y)`\n            (accessible with `config: {editable: true}`) is\n            controlled by `layout.editrevision`. Trace changes are\n            tracked by `uid`, which only falls back on trace index\n            if no `uid` is provided. So if your app can add/remove\n            traces before the end of the `data` array, such that\n            the same trace has a different index, you can still\n            preserve user-driven changes if you give each trace a\n            `uid` that stays with it as it moves.\n        unselected\n            :class:`plotly.graph_objects.scatterpolar.Unselected`\n            instance or dict with compatible properties\n        visible\n            Determines whether or not this trace is visible. If\n            \"legendonly\", the trace is not drawn, but can appear as\n            a legend item (provided that the legend itself is\n            visible).\n        \nDid you mean \"line\"?\n\nBad property path:\nrange_r\n^^^^^"
     ]
    }
   ],
   "source": [
    "import plotly.graph_objs as go\n",
    "\n",
    "# Create data for two players\n",
    "player1 = {'Strike Rate': 120, 'Average': 35, 'Player of Match': 5}\n",
    "player2 = {'Strike Rate': 150, 'Average': 45, 'Player of Match': 3}\n",
    "\n",
    "# Define range for each parameter\n",
    "range_strike_rate = [0, 250]\n",
    "range_average = [0, 70]\n",
    "range_pom = [0, 10]\n",
    "\n",
    "# Create traces for each player\n",
    "trace1 = go.Scatterpolar(\n",
    "    r=[player1['Strike Rate'], player1['Average'], player1['Player of Match']],\n",
    "    theta=['Strike Rate', 'Average', 'Player of Match'],\n",
    "    fill='toself',\n",
    "    name='Player 1',\n",
    "    range_r=range_strike_rate\n",
    ")\n",
    "trace2 = go.Scatterpolar(\n",
    "    r=[player2['Strike Rate'], player2['Average'], player2['Player of Match']],\n",
    "    theta=['Strike Rate', 'Average', 'Player of Match'],\n",
    "    fill='toself',\n",
    "    name='Player 2',\n",
    "    range_r=range_average\n",
    ")\n",
    "\n",
    "# Create layout\n",
    "layout = go.Layout(\n",
    "    polar=dict(\n",
    "        radialaxis=dict(\n",
    "            visible=True,\n",
    "            range=range_pom\n",
    "        )\n",
    "    ),\n",
    "    showlegend=True\n",
    ")\n",
    "\n",
    "# Combine traces and layout and create figure\n",
    "fig = go.Figure(data=[trace1, trace2], layout=layout)\n",
    "\n",
    "# Show plot\n",
    "fig.show()\n"
   ]
  },
  {
   "cell_type": "code",
   "execution_count": 9,
   "metadata": {},
   "outputs": [
    {
     "name": "stderr",
     "output_type": "stream",
     "text": [
      "C:\\Users\\manna\\AppData\\Local\\Temp\\ipykernel_10324\\1658972222.py:3: DtypeWarning: Columns (20,30) have mixed types. Specify dtype option on import or set low_memory=False.\n",
      "  df = pd.read_csv('../data/2018_and_2019_ipl_ball_by_ball.csv')\n"
     ]
    },
    {
     "name": "stdout",
     "output_type": "stream",
     "text": [
      "{'A Dananjaya': 11.5}\n",
      "{'A Dananjaya': 11.5, 'A Mishra': 6.83}\n",
      "{'A Dananjaya': 11.5, 'A Mishra': 6.83, 'AD Russell': 9.25}\n",
      "{'A Dananjaya': 11.5, 'A Mishra': 6.83, 'AD Russell': 9.25, 'AJ Tye': 8.44}\n",
      "{'A Dananjaya': 11.5, 'A Mishra': 6.83, 'AD Russell': 9.25, 'AJ Tye': 8.44, 'AR Patel': 7.52}\n",
      "{'A Dananjaya': 11.5, 'A Mishra': 6.83, 'AD Russell': 9.25, 'AJ Tye': 8.44, 'AR Patel': 7.52, 'AS Joseph': 9.69}\n",
      "{'A Dananjaya': 11.5, 'A Mishra': 6.83, 'AD Russell': 9.25, 'AJ Tye': 8.44, 'AR Patel': 7.52, 'AS Joseph': 9.69, 'AS Rajpoot': 8.35}\n",
      "{'A Dananjaya': 11.5, 'A Mishra': 6.83, 'AD Russell': 9.25, 'AJ Tye': 8.44, 'AR Patel': 7.52, 'AS Joseph': 9.69, 'AS Rajpoot': 8.35, 'AS Roy': 4.0}\n",
      "{'A Dananjaya': 11.5, 'A Mishra': 6.83, 'AD Russell': 9.25, 'AJ Tye': 8.44, 'AR Patel': 7.52, 'AS Joseph': 9.69, 'AS Rajpoot': 8.35, 'AS Roy': 4.0, 'Abhishek Sharma': 9.5}\n",
      "{'A Dananjaya': 11.5, 'A Mishra': 6.83, 'AD Russell': 9.25, 'AJ Tye': 8.44, 'AR Patel': 7.52, 'AS Joseph': 9.69, 'AS Rajpoot': 8.35, 'AS Roy': 4.0, 'Abhishek Sharma': 9.5, 'Ankit Sharma': 11.0}\n",
      "{'A Dananjaya': 11.5, 'A Mishra': 6.83, 'AD Russell': 9.25, 'AJ Tye': 8.44, 'AR Patel': 7.52, 'AS Joseph': 9.69, 'AS Rajpoot': 8.35, 'AS Roy': 4.0, 'Abhishek Sharma': 9.5, 'Ankit Sharma': 11.0, 'Anureet Singh': 10.5}\n",
      "{'A Dananjaya': 11.5, 'A Mishra': 6.83, 'AD Russell': 9.25, 'AJ Tye': 8.44, 'AR Patel': 7.52, 'AS Joseph': 9.69, 'AS Rajpoot': 8.35, 'AS Roy': 4.0, 'Abhishek Sharma': 9.5, 'Ankit Sharma': 11.0, 'Anureet Singh': 10.5, 'Arshdeep Singh': 10.4}\n",
      "{'A Dananjaya': 11.5, 'A Mishra': 6.83, 'AD Russell': 9.25, 'AJ Tye': 8.44, 'AR Patel': 7.52, 'AS Joseph': 9.69, 'AS Rajpoot': 8.35, 'AS Roy': 4.0, 'Abhishek Sharma': 9.5, 'Ankit Sharma': 11.0, 'Anureet Singh': 10.5, 'Arshdeep Singh': 10.4, 'Avesh Khan': 10.41}\n",
      "{'A Dananjaya': 11.5, 'A Mishra': 6.83, 'AD Russell': 9.25, 'AJ Tye': 8.44, 'AR Patel': 7.52, 'AS Joseph': 9.69, 'AS Rajpoot': 8.35, 'AS Roy': 4.0, 'Abhishek Sharma': 9.5, 'Ankit Sharma': 11.0, 'Anureet Singh': 10.5, 'Arshdeep Singh': 10.4, 'Avesh Khan': 10.41, 'B Kumar': 7.5}\n",
      "{'A Dananjaya': 11.5, 'A Mishra': 6.83, 'AD Russell': 9.25, 'AJ Tye': 8.44, 'AR Patel': 7.52, 'AS Joseph': 9.69, 'AS Rajpoot': 8.35, 'AS Roy': 4.0, 'Abhishek Sharma': 9.5, 'Ankit Sharma': 11.0, 'Anureet Singh': 10.5, 'Arshdeep Singh': 10.4, 'Avesh Khan': 10.41, 'B Kumar': 7.5, 'B Laughlin': 9.62}\n",
      "{'A Dananjaya': 11.5, 'A Mishra': 6.83, 'AD Russell': 9.25, 'AJ Tye': 8.44, 'AR Patel': 7.52, 'AS Joseph': 9.69, 'AS Rajpoot': 8.35, 'AS Roy': 4.0, 'Abhishek Sharma': 9.5, 'Ankit Sharma': 11.0, 'Anureet Singh': 10.5, 'Arshdeep Singh': 10.4, 'Avesh Khan': 10.41, 'B Kumar': 7.5, 'B Laughlin': 9.62, 'B Stanlake': 7.88}\n",
      "{'A Dananjaya': 11.5, 'A Mishra': 6.83, 'AD Russell': 9.25, 'AJ Tye': 8.44, 'AR Patel': 7.52, 'AS Joseph': 9.69, 'AS Rajpoot': 8.35, 'AS Roy': 4.0, 'Abhishek Sharma': 9.5, 'Ankit Sharma': 11.0, 'Anureet Singh': 10.5, 'Arshdeep Singh': 10.4, 'Avesh Khan': 10.41, 'B Kumar': 7.5, 'B Laughlin': 9.62, 'B Stanlake': 7.88, 'BA Stokes': 8.79}\n",
      "{'A Dananjaya': 11.5, 'A Mishra': 6.83, 'AD Russell': 9.25, 'AJ Tye': 8.44, 'AR Patel': 7.52, 'AS Joseph': 9.69, 'AS Rajpoot': 8.35, 'AS Roy': 4.0, 'Abhishek Sharma': 9.5, 'Ankit Sharma': 11.0, 'Anureet Singh': 10.5, 'Arshdeep Singh': 10.4, 'Avesh Khan': 10.41, 'B Kumar': 7.5, 'B Laughlin': 9.62, 'B Stanlake': 7.88, 'BA Stokes': 8.79, 'BB Sran': 9.96}\n",
      "{'A Dananjaya': 11.5, 'A Mishra': 6.83, 'AD Russell': 9.25, 'AJ Tye': 8.44, 'AR Patel': 7.52, 'AS Joseph': 9.69, 'AS Rajpoot': 8.35, 'AS Roy': 4.0, 'Abhishek Sharma': 9.5, 'Ankit Sharma': 11.0, 'Anureet Singh': 10.5, 'Arshdeep Singh': 10.4, 'Avesh Khan': 10.41, 'B Kumar': 7.5, 'B Laughlin': 9.62, 'B Stanlake': 7.88, 'BA Stokes': 8.79, 'BB Sran': 9.96, 'BCJ Cutting': 10.11}\n",
      "{'A Dananjaya': 11.5, 'A Mishra': 6.83, 'AD Russell': 9.25, 'AJ Tye': 8.44, 'AR Patel': 7.52, 'AS Joseph': 9.69, 'AS Rajpoot': 8.35, 'AS Roy': 4.0, 'Abhishek Sharma': 9.5, 'Ankit Sharma': 11.0, 'Anureet Singh': 10.5, 'Arshdeep Singh': 10.4, 'Avesh Khan': 10.41, 'B Kumar': 7.5, 'B Laughlin': 9.62, 'B Stanlake': 7.88, 'BA Stokes': 8.79, 'BB Sran': 9.96, 'BCJ Cutting': 10.11, 'Basil Thampi': 10.01}\n",
      "{'A Dananjaya': 11.5, 'A Mishra': 6.83, 'AD Russell': 9.25, 'AJ Tye': 8.44, 'AR Patel': 7.52, 'AS Joseph': 9.69, 'AS Rajpoot': 8.35, 'AS Roy': 4.0, 'Abhishek Sharma': 9.5, 'Ankit Sharma': 11.0, 'Anureet Singh': 10.5, 'Arshdeep Singh': 10.4, 'Avesh Khan': 10.41, 'B Kumar': 7.5, 'B Laughlin': 9.62, 'B Stanlake': 7.88, 'BA Stokes': 8.79, 'BB Sran': 9.96, 'BCJ Cutting': 10.11, 'Basil Thampi': 10.01, 'C de Grandhomme': 8.6}\n",
      "{'A Dananjaya': 11.5, 'A Mishra': 6.83, 'AD Russell': 9.25, 'AJ Tye': 8.44, 'AR Patel': 7.52, 'AS Joseph': 9.69, 'AS Rajpoot': 8.35, 'AS Roy': 4.0, 'Abhishek Sharma': 9.5, 'Ankit Sharma': 11.0, 'Anureet Singh': 10.5, 'Arshdeep Singh': 10.4, 'Avesh Khan': 10.41, 'B Kumar': 7.5, 'B Laughlin': 9.62, 'B Stanlake': 7.88, 'BA Stokes': 8.79, 'BB Sran': 9.96, 'BCJ Cutting': 10.11, 'Basil Thampi': 10.01, 'C de Grandhomme': 8.6, 'CH Morris': 9.19}\n",
      "{'A Dananjaya': 11.5, 'A Mishra': 6.83, 'AD Russell': 9.25, 'AJ Tye': 8.44, 'AR Patel': 7.52, 'AS Joseph': 9.69, 'AS Rajpoot': 8.35, 'AS Roy': 4.0, 'Abhishek Sharma': 9.5, 'Ankit Sharma': 11.0, 'Anureet Singh': 10.5, 'Arshdeep Singh': 10.4, 'Avesh Khan': 10.41, 'B Kumar': 7.5, 'B Laughlin': 9.62, 'B Stanlake': 7.88, 'BA Stokes': 8.79, 'BB Sran': 9.96, 'BCJ Cutting': 10.11, 'Basil Thampi': 10.01, 'C de Grandhomme': 8.6, 'CH Morris': 9.19, 'CJ Anderson': 12.69}\n",
      "{'A Dananjaya': 11.5, 'A Mishra': 6.83, 'AD Russell': 9.25, 'AJ Tye': 8.44, 'AR Patel': 7.52, 'AS Joseph': 9.69, 'AS Rajpoot': 8.35, 'AS Roy': 4.0, 'Abhishek Sharma': 9.5, 'Ankit Sharma': 11.0, 'Anureet Singh': 10.5, 'Arshdeep Singh': 10.4, 'Avesh Khan': 10.41, 'B Kumar': 7.5, 'B Laughlin': 9.62, 'B Stanlake': 7.88, 'BA Stokes': 8.79, 'BB Sran': 9.96, 'BCJ Cutting': 10.11, 'Basil Thampi': 10.01, 'C de Grandhomme': 8.6, 'CH Morris': 9.19, 'CJ Anderson': 12.69, 'CJ Dala': 11.0}\n",
      "{'A Dananjaya': 11.5, 'A Mishra': 6.83, 'AD Russell': 9.25, 'AJ Tye': 8.44, 'AR Patel': 7.52, 'AS Joseph': 9.69, 'AS Rajpoot': 8.35, 'AS Roy': 4.0, 'Abhishek Sharma': 9.5, 'Ankit Sharma': 11.0, 'Anureet Singh': 10.5, 'Arshdeep Singh': 10.4, 'Avesh Khan': 10.41, 'B Kumar': 7.5, 'B Laughlin': 9.62, 'B Stanlake': 7.88, 'BA Stokes': 8.79, 'BB Sran': 9.96, 'BCJ Cutting': 10.11, 'Basil Thampi': 10.01, 'C de Grandhomme': 8.6, 'CH Morris': 9.19, 'CJ Anderson': 12.69, 'CJ Dala': 11.0, 'CJ Jordan': 7.5}\n",
      "{'A Dananjaya': 11.5, 'A Mishra': 6.83, 'AD Russell': 9.25, 'AJ Tye': 8.44, 'AR Patel': 7.52, 'AS Joseph': 9.69, 'AS Rajpoot': 8.35, 'AS Roy': 4.0, 'Abhishek Sharma': 9.5, 'Ankit Sharma': 11.0, 'Anureet Singh': 10.5, 'Arshdeep Singh': 10.4, 'Avesh Khan': 10.41, 'B Kumar': 7.5, 'B Laughlin': 9.62, 'B Stanlake': 7.88, 'BA Stokes': 8.79, 'BB Sran': 9.96, 'BCJ Cutting': 10.11, 'Basil Thampi': 10.01, 'C de Grandhomme': 8.6, 'CH Morris': 9.19, 'CJ Anderson': 12.69, 'CJ Dala': 11.0, 'CJ Jordan': 7.5, 'CR Brathwaite': 8.88}\n",
      "{'A Dananjaya': 11.5, 'A Mishra': 6.83, 'AD Russell': 9.25, 'AJ Tye': 8.44, 'AR Patel': 7.52, 'AS Joseph': 9.69, 'AS Rajpoot': 8.35, 'AS Roy': 4.0, 'Abhishek Sharma': 9.5, 'Ankit Sharma': 11.0, 'Anureet Singh': 10.5, 'Arshdeep Singh': 10.4, 'Avesh Khan': 10.41, 'B Kumar': 7.5, 'B Laughlin': 9.62, 'B Stanlake': 7.88, 'BA Stokes': 8.79, 'BB Sran': 9.96, 'BCJ Cutting': 10.11, 'Basil Thampi': 10.01, 'C de Grandhomme': 8.6, 'CH Morris': 9.19, 'CJ Anderson': 12.69, 'CJ Dala': 11.0, 'CJ Jordan': 7.5, 'CR Brathwaite': 8.88, 'CR Woakes': 9.93}\n",
      "{'A Dananjaya': 11.5, 'A Mishra': 6.83, 'AD Russell': 9.25, 'AJ Tye': 8.44, 'AR Patel': 7.52, 'AS Joseph': 9.69, 'AS Rajpoot': 8.35, 'AS Roy': 4.0, 'Abhishek Sharma': 9.5, 'Ankit Sharma': 11.0, 'Anureet Singh': 10.5, 'Arshdeep Singh': 10.4, 'Avesh Khan': 10.41, 'B Kumar': 7.5, 'B Laughlin': 9.62, 'B Stanlake': 7.88, 'BA Stokes': 8.79, 'BB Sran': 9.96, 'BCJ Cutting': 10.11, 'Basil Thampi': 10.01, 'C de Grandhomme': 8.6, 'CH Morris': 9.19, 'CJ Anderson': 12.69, 'CJ Dala': 11.0, 'CJ Jordan': 7.5, 'CR Brathwaite': 8.88, 'CR Woakes': 9.93, 'CV Varun': 11.67}\n",
      "{'A Dananjaya': 11.5, 'A Mishra': 6.83, 'AD Russell': 9.25, 'AJ Tye': 8.44, 'AR Patel': 7.52, 'AS Joseph': 9.69, 'AS Rajpoot': 8.35, 'AS Roy': 4.0, 'Abhishek Sharma': 9.5, 'Ankit Sharma': 11.0, 'Anureet Singh': 10.5, 'Arshdeep Singh': 10.4, 'Avesh Khan': 10.41, 'B Kumar': 7.5, 'B Laughlin': 9.62, 'B Stanlake': 7.88, 'BA Stokes': 8.79, 'BB Sran': 9.96, 'BCJ Cutting': 10.11, 'Basil Thampi': 10.01, 'C de Grandhomme': 8.6, 'CH Morris': 9.19, 'CJ Anderson': 12.69, 'CJ Dala': 11.0, 'CJ Jordan': 7.5, 'CR Brathwaite': 8.88, 'CR Woakes': 9.93, 'CV Varun': 11.67, 'DJ Bravo': 8.69}\n",
      "{'A Dananjaya': 11.5, 'A Mishra': 6.83, 'AD Russell': 9.25, 'AJ Tye': 8.44, 'AR Patel': 7.52, 'AS Joseph': 9.69, 'AS Rajpoot': 8.35, 'AS Roy': 4.0, 'Abhishek Sharma': 9.5, 'Ankit Sharma': 11.0, 'Anureet Singh': 10.5, 'Arshdeep Singh': 10.4, 'Avesh Khan': 10.41, 'B Kumar': 7.5, 'B Laughlin': 9.62, 'B Stanlake': 7.88, 'BA Stokes': 8.79, 'BB Sran': 9.96, 'BCJ Cutting': 10.11, 'Basil Thampi': 10.01, 'C de Grandhomme': 8.6, 'CH Morris': 9.19, 'CJ Anderson': 12.69, 'CJ Dala': 11.0, 'CJ Jordan': 7.5, 'CR Brathwaite': 8.88, 'CR Woakes': 9.93, 'CV Varun': 11.67, 'DJ Bravo': 8.69, 'DJ Hooda': 8.6}\n",
      "{'A Dananjaya': 11.5, 'A Mishra': 6.83, 'AD Russell': 9.25, 'AJ Tye': 8.44, 'AR Patel': 7.52, 'AS Joseph': 9.69, 'AS Rajpoot': 8.35, 'AS Roy': 4.0, 'Abhishek Sharma': 9.5, 'Ankit Sharma': 11.0, 'Anureet Singh': 10.5, 'Arshdeep Singh': 10.4, 'Avesh Khan': 10.41, 'B Kumar': 7.5, 'B Laughlin': 9.62, 'B Stanlake': 7.88, 'BA Stokes': 8.79, 'BB Sran': 9.96, 'BCJ Cutting': 10.11, 'Basil Thampi': 10.01, 'C de Grandhomme': 8.6, 'CH Morris': 9.19, 'CJ Anderson': 12.69, 'CJ Dala': 11.0, 'CJ Jordan': 7.5, 'CR Brathwaite': 8.88, 'CR Woakes': 9.93, 'CV Varun': 11.67, 'DJ Bravo': 8.69, 'DJ Hooda': 8.6, 'DJ Willey': 9.4}\n",
      "{'A Dananjaya': 11.5, 'A Mishra': 6.83, 'AD Russell': 9.25, 'AJ Tye': 8.44, 'AR Patel': 7.52, 'AS Joseph': 9.69, 'AS Rajpoot': 8.35, 'AS Roy': 4.0, 'Abhishek Sharma': 9.5, 'Ankit Sharma': 11.0, 'Anureet Singh': 10.5, 'Arshdeep Singh': 10.4, 'Avesh Khan': 10.41, 'B Kumar': 7.5, 'B Laughlin': 9.62, 'B Stanlake': 7.88, 'BA Stokes': 8.79, 'BB Sran': 9.96, 'BCJ Cutting': 10.11, 'Basil Thampi': 10.01, 'C de Grandhomme': 8.6, 'CH Morris': 9.19, 'CJ Anderson': 12.69, 'CJ Dala': 11.0, 'CJ Jordan': 7.5, 'CR Brathwaite': 8.88, 'CR Woakes': 9.93, 'CV Varun': 11.67, 'DJ Bravo': 8.69, 'DJ Hooda': 8.6, 'DJ Willey': 9.4, 'DJM Short': 6.33}\n",
      "{'A Dananjaya': 11.5, 'A Mishra': 6.83, 'AD Russell': 9.25, 'AJ Tye': 8.44, 'AR Patel': 7.52, 'AS Joseph': 9.69, 'AS Rajpoot': 8.35, 'AS Roy': 4.0, 'Abhishek Sharma': 9.5, 'Ankit Sharma': 11.0, 'Anureet Singh': 10.5, 'Arshdeep Singh': 10.4, 'Avesh Khan': 10.41, 'B Kumar': 7.5, 'B Laughlin': 9.62, 'B Stanlake': 7.88, 'BA Stokes': 8.79, 'BB Sran': 9.96, 'BCJ Cutting': 10.11, 'Basil Thampi': 10.01, 'C de Grandhomme': 8.6, 'CH Morris': 9.19, 'CJ Anderson': 12.69, 'CJ Dala': 11.0, 'CJ Jordan': 7.5, 'CR Brathwaite': 8.88, 'CR Woakes': 9.93, 'CV Varun': 11.67, 'DJ Bravo': 8.69, 'DJ Hooda': 8.6, 'DJ Willey': 9.4, 'DJM Short': 6.33, 'DL Chahar': 7.02}\n",
      "{'A Dananjaya': 11.5, 'A Mishra': 6.83, 'AD Russell': 9.25, 'AJ Tye': 8.44, 'AR Patel': 7.52, 'AS Joseph': 9.69, 'AS Rajpoot': 8.35, 'AS Roy': 4.0, 'Abhishek Sharma': 9.5, 'Ankit Sharma': 11.0, 'Anureet Singh': 10.5, 'Arshdeep Singh': 10.4, 'Avesh Khan': 10.41, 'B Kumar': 7.5, 'B Laughlin': 9.62, 'B Stanlake': 7.88, 'BA Stokes': 8.79, 'BB Sran': 9.96, 'BCJ Cutting': 10.11, 'Basil Thampi': 10.01, 'C de Grandhomme': 8.6, 'CH Morris': 9.19, 'CJ Anderson': 12.69, 'CJ Dala': 11.0, 'CJ Jordan': 7.5, 'CR Brathwaite': 8.88, 'CR Woakes': 9.93, 'CV Varun': 11.67, 'DJ Bravo': 8.69, 'DJ Hooda': 8.6, 'DJ Willey': 9.4, 'DJM Short': 6.33, 'DL Chahar': 7.02, 'DS Kulkarni': 9.21}\n",
      "{'A Dananjaya': 11.5, 'A Mishra': 6.83, 'AD Russell': 9.25, 'AJ Tye': 8.44, 'AR Patel': 7.52, 'AS Joseph': 9.69, 'AS Rajpoot': 8.35, 'AS Roy': 4.0, 'Abhishek Sharma': 9.5, 'Ankit Sharma': 11.0, 'Anureet Singh': 10.5, 'Arshdeep Singh': 10.4, 'Avesh Khan': 10.41, 'B Kumar': 7.5, 'B Laughlin': 9.62, 'B Stanlake': 7.88, 'BA Stokes': 8.79, 'BB Sran': 9.96, 'BCJ Cutting': 10.11, 'Basil Thampi': 10.01, 'C de Grandhomme': 8.6, 'CH Morris': 9.19, 'CJ Anderson': 12.69, 'CJ Dala': 11.0, 'CJ Jordan': 7.5, 'CR Brathwaite': 8.88, 'CR Woakes': 9.93, 'CV Varun': 11.67, 'DJ Bravo': 8.69, 'DJ Hooda': 8.6, 'DJ Willey': 9.4, 'DJM Short': 6.33, 'DL Chahar': 7.02, 'DS Kulkarni': 9.21, 'DT Christian': 8.54}\n",
      "{'A Dananjaya': 11.5, 'A Mishra': 6.83, 'AD Russell': 9.25, 'AJ Tye': 8.44, 'AR Patel': 7.52, 'AS Joseph': 9.69, 'AS Rajpoot': 8.35, 'AS Roy': 4.0, 'Abhishek Sharma': 9.5, 'Ankit Sharma': 11.0, 'Anureet Singh': 10.5, 'Arshdeep Singh': 10.4, 'Avesh Khan': 10.41, 'B Kumar': 7.5, 'B Laughlin': 9.62, 'B Stanlake': 7.88, 'BA Stokes': 8.79, 'BB Sran': 9.96, 'BCJ Cutting': 10.11, 'Basil Thampi': 10.01, 'C de Grandhomme': 8.6, 'CH Morris': 9.19, 'CJ Anderson': 12.69, 'CJ Dala': 11.0, 'CJ Jordan': 7.5, 'CR Brathwaite': 8.88, 'CR Woakes': 9.93, 'CV Varun': 11.67, 'DJ Bravo': 8.69, 'DJ Hooda': 8.6, 'DJ Willey': 9.4, 'DJM Short': 6.33, 'DL Chahar': 7.02, 'DS Kulkarni': 9.21, 'DT Christian': 8.54, 'DW Steyn': 8.62}\n",
      "{'A Dananjaya': 11.5, 'A Mishra': 6.83, 'AD Russell': 9.25, 'AJ Tye': 8.44, 'AR Patel': 7.52, 'AS Joseph': 9.69, 'AS Rajpoot': 8.35, 'AS Roy': 4.0, 'Abhishek Sharma': 9.5, 'Ankit Sharma': 11.0, 'Anureet Singh': 10.5, 'Arshdeep Singh': 10.4, 'Avesh Khan': 10.41, 'B Kumar': 7.5, 'B Laughlin': 9.62, 'B Stanlake': 7.88, 'BA Stokes': 8.79, 'BB Sran': 9.96, 'BCJ Cutting': 10.11, 'Basil Thampi': 10.01, 'C de Grandhomme': 8.6, 'CH Morris': 9.19, 'CJ Anderson': 12.69, 'CJ Dala': 11.0, 'CJ Jordan': 7.5, 'CR Brathwaite': 8.88, 'CR Woakes': 9.93, 'CV Varun': 11.67, 'DJ Bravo': 8.69, 'DJ Hooda': 8.6, 'DJ Willey': 9.4, 'DJM Short': 6.33, 'DL Chahar': 7.02, 'DS Kulkarni': 9.21, 'DT Christian': 8.54, 'DW Steyn': 8.62, 'GC Viljoen': 9.13}\n",
      "{'A Dananjaya': 11.5, 'A Mishra': 6.83, 'AD Russell': 9.25, 'AJ Tye': 8.44, 'AR Patel': 7.52, 'AS Joseph': 9.69, 'AS Rajpoot': 8.35, 'AS Roy': 4.0, 'Abhishek Sharma': 9.5, 'Ankit Sharma': 11.0, 'Anureet Singh': 10.5, 'Arshdeep Singh': 10.4, 'Avesh Khan': 10.41, 'B Kumar': 7.5, 'B Laughlin': 9.62, 'B Stanlake': 7.88, 'BA Stokes': 8.79, 'BB Sran': 9.96, 'BCJ Cutting': 10.11, 'Basil Thampi': 10.01, 'C de Grandhomme': 8.6, 'CH Morris': 9.19, 'CJ Anderson': 12.69, 'CJ Dala': 11.0, 'CJ Jordan': 7.5, 'CR Brathwaite': 8.88, 'CR Woakes': 9.93, 'CV Varun': 11.67, 'DJ Bravo': 8.69, 'DJ Hooda': 8.6, 'DJ Willey': 9.4, 'DJM Short': 6.33, 'DL Chahar': 7.02, 'DS Kulkarni': 9.21, 'DT Christian': 8.54, 'DW Steyn': 8.62, 'GC Viljoen': 9.13, 'GH Vihari': 9.0}\n",
      "{'A Dananjaya': 11.5, 'A Mishra': 6.83, 'AD Russell': 9.25, 'AJ Tye': 8.44, 'AR Patel': 7.52, 'AS Joseph': 9.69, 'AS Rajpoot': 8.35, 'AS Roy': 4.0, 'Abhishek Sharma': 9.5, 'Ankit Sharma': 11.0, 'Anureet Singh': 10.5, 'Arshdeep Singh': 10.4, 'Avesh Khan': 10.41, 'B Kumar': 7.5, 'B Laughlin': 9.62, 'B Stanlake': 7.88, 'BA Stokes': 8.79, 'BB Sran': 9.96, 'BCJ Cutting': 10.11, 'Basil Thampi': 10.01, 'C de Grandhomme': 8.6, 'CH Morris': 9.19, 'CJ Anderson': 12.69, 'CJ Dala': 11.0, 'CJ Jordan': 7.5, 'CR Brathwaite': 8.88, 'CR Woakes': 9.93, 'CV Varun': 11.67, 'DJ Bravo': 8.69, 'DJ Hooda': 8.6, 'DJ Willey': 9.4, 'DJM Short': 6.33, 'DL Chahar': 7.02, 'DS Kulkarni': 9.21, 'DT Christian': 8.54, 'DW Steyn': 8.62, 'GC Viljoen': 9.13, 'GH Vihari': 9.0, 'GJ Maxwell': 8.12}\n",
      "{'A Dananjaya': 11.5, 'A Mishra': 6.83, 'AD Russell': 9.25, 'AJ Tye': 8.44, 'AR Patel': 7.52, 'AS Joseph': 9.69, 'AS Rajpoot': 8.35, 'AS Roy': 4.0, 'Abhishek Sharma': 9.5, 'Ankit Sharma': 11.0, 'Anureet Singh': 10.5, 'Arshdeep Singh': 10.4, 'Avesh Khan': 10.41, 'B Kumar': 7.5, 'B Laughlin': 9.62, 'B Stanlake': 7.88, 'BA Stokes': 8.79, 'BB Sran': 9.96, 'BCJ Cutting': 10.11, 'Basil Thampi': 10.01, 'C de Grandhomme': 8.6, 'CH Morris': 9.19, 'CJ Anderson': 12.69, 'CJ Dala': 11.0, 'CJ Jordan': 7.5, 'CR Brathwaite': 8.88, 'CR Woakes': 9.93, 'CV Varun': 11.67, 'DJ Bravo': 8.69, 'DJ Hooda': 8.6, 'DJ Willey': 9.4, 'DJM Short': 6.33, 'DL Chahar': 7.02, 'DS Kulkarni': 9.21, 'DT Christian': 8.54, 'DW Steyn': 8.62, 'GC Viljoen': 9.13, 'GH Vihari': 9.0, 'GJ Maxwell': 8.12, 'HF Gurney': 8.52}\n",
      "{'A Dananjaya': 11.5, 'A Mishra': 6.83, 'AD Russell': 9.25, 'AJ Tye': 8.44, 'AR Patel': 7.52, 'AS Joseph': 9.69, 'AS Rajpoot': 8.35, 'AS Roy': 4.0, 'Abhishek Sharma': 9.5, 'Ankit Sharma': 11.0, 'Anureet Singh': 10.5, 'Arshdeep Singh': 10.4, 'Avesh Khan': 10.41, 'B Kumar': 7.5, 'B Laughlin': 9.62, 'B Stanlake': 7.88, 'BA Stokes': 8.79, 'BB Sran': 9.96, 'BCJ Cutting': 10.11, 'Basil Thampi': 10.01, 'C de Grandhomme': 8.6, 'CH Morris': 9.19, 'CJ Anderson': 12.69, 'CJ Dala': 11.0, 'CJ Jordan': 7.5, 'CR Brathwaite': 8.88, 'CR Woakes': 9.93, 'CV Varun': 11.67, 'DJ Bravo': 8.69, 'DJ Hooda': 8.6, 'DJ Willey': 9.4, 'DJM Short': 6.33, 'DL Chahar': 7.02, 'DS Kulkarni': 9.21, 'DT Christian': 8.54, 'DW Steyn': 8.62, 'GC Viljoen': 9.13, 'GH Vihari': 9.0, 'GJ Maxwell': 8.12, 'HF Gurney': 8.52, 'HH Pandya': 8.64}\n",
      "{'A Dananjaya': 11.5, 'A Mishra': 6.83, 'AD Russell': 9.25, 'AJ Tye': 8.44, 'AR Patel': 7.52, 'AS Joseph': 9.69, 'AS Rajpoot': 8.35, 'AS Roy': 4.0, 'Abhishek Sharma': 9.5, 'Ankit Sharma': 11.0, 'Anureet Singh': 10.5, 'Arshdeep Singh': 10.4, 'Avesh Khan': 10.41, 'B Kumar': 7.5, 'B Laughlin': 9.62, 'B Stanlake': 7.88, 'BA Stokes': 8.79, 'BB Sran': 9.96, 'BCJ Cutting': 10.11, 'Basil Thampi': 10.01, 'C de Grandhomme': 8.6, 'CH Morris': 9.19, 'CJ Anderson': 12.69, 'CJ Dala': 11.0, 'CJ Jordan': 7.5, 'CR Brathwaite': 8.88, 'CR Woakes': 9.93, 'CV Varun': 11.67, 'DJ Bravo': 8.69, 'DJ Hooda': 8.6, 'DJ Willey': 9.4, 'DJM Short': 6.33, 'DL Chahar': 7.02, 'DS Kulkarni': 9.21, 'DT Christian': 8.54, 'DW Steyn': 8.62, 'GC Viljoen': 9.13, 'GH Vihari': 9.0, 'GJ Maxwell': 8.12, 'HF Gurney': 8.52, 'HH Pandya': 8.64, 'HV Patel': 8.98}\n",
      "{'A Dananjaya': 11.5, 'A Mishra': 6.83, 'AD Russell': 9.25, 'AJ Tye': 8.44, 'AR Patel': 7.52, 'AS Joseph': 9.69, 'AS Rajpoot': 8.35, 'AS Roy': 4.0, 'Abhishek Sharma': 9.5, 'Ankit Sharma': 11.0, 'Anureet Singh': 10.5, 'Arshdeep Singh': 10.4, 'Avesh Khan': 10.41, 'B Kumar': 7.5, 'B Laughlin': 9.62, 'B Stanlake': 7.88, 'BA Stokes': 8.79, 'BB Sran': 9.96, 'BCJ Cutting': 10.11, 'Basil Thampi': 10.01, 'C de Grandhomme': 8.6, 'CH Morris': 9.19, 'CJ Anderson': 12.69, 'CJ Dala': 11.0, 'CJ Jordan': 7.5, 'CR Brathwaite': 8.88, 'CR Woakes': 9.93, 'CV Varun': 11.67, 'DJ Bravo': 8.69, 'DJ Hooda': 8.6, 'DJ Willey': 9.4, 'DJM Short': 6.33, 'DL Chahar': 7.02, 'DS Kulkarni': 9.21, 'DT Christian': 8.54, 'DW Steyn': 8.62, 'GC Viljoen': 9.13, 'GH Vihari': 9.0, 'GJ Maxwell': 8.12, 'HF Gurney': 8.52, 'HH Pandya': 8.64, 'HV Patel': 8.98, 'Harbhajan Singh': 7.56}\n",
      "{'A Dananjaya': 11.5, 'A Mishra': 6.83, 'AD Russell': 9.25, 'AJ Tye': 8.44, 'AR Patel': 7.52, 'AS Joseph': 9.69, 'AS Rajpoot': 8.35, 'AS Roy': 4.0, 'Abhishek Sharma': 9.5, 'Ankit Sharma': 11.0, 'Anureet Singh': 10.5, 'Arshdeep Singh': 10.4, 'Avesh Khan': 10.41, 'B Kumar': 7.5, 'B Laughlin': 9.62, 'B Stanlake': 7.88, 'BA Stokes': 8.79, 'BB Sran': 9.96, 'BCJ Cutting': 10.11, 'Basil Thampi': 10.01, 'C de Grandhomme': 8.6, 'CH Morris': 9.19, 'CJ Anderson': 12.69, 'CJ Dala': 11.0, 'CJ Jordan': 7.5, 'CR Brathwaite': 8.88, 'CR Woakes': 9.93, 'CV Varun': 11.67, 'DJ Bravo': 8.69, 'DJ Hooda': 8.6, 'DJ Willey': 9.4, 'DJM Short': 6.33, 'DL Chahar': 7.02, 'DS Kulkarni': 9.21, 'DT Christian': 8.54, 'DW Steyn': 8.62, 'GC Viljoen': 9.13, 'GH Vihari': 9.0, 'GJ Maxwell': 8.12, 'HF Gurney': 8.52, 'HH Pandya': 8.64, 'HV Patel': 8.98, 'Harbhajan Singh': 7.56, 'Harpreet Brar': 9.6}\n",
      "{'A Dananjaya': 11.5, 'A Mishra': 6.83, 'AD Russell': 9.25, 'AJ Tye': 8.44, 'AR Patel': 7.52, 'AS Joseph': 9.69, 'AS Rajpoot': 8.35, 'AS Roy': 4.0, 'Abhishek Sharma': 9.5, 'Ankit Sharma': 11.0, 'Anureet Singh': 10.5, 'Arshdeep Singh': 10.4, 'Avesh Khan': 10.41, 'B Kumar': 7.5, 'B Laughlin': 9.62, 'B Stanlake': 7.88, 'BA Stokes': 8.79, 'BB Sran': 9.96, 'BCJ Cutting': 10.11, 'Basil Thampi': 10.01, 'C de Grandhomme': 8.6, 'CH Morris': 9.19, 'CJ Anderson': 12.69, 'CJ Dala': 11.0, 'CJ Jordan': 7.5, 'CR Brathwaite': 8.88, 'CR Woakes': 9.93, 'CV Varun': 11.67, 'DJ Bravo': 8.69, 'DJ Hooda': 8.6, 'DJ Willey': 9.4, 'DJM Short': 6.33, 'DL Chahar': 7.02, 'DS Kulkarni': 9.21, 'DT Christian': 8.54, 'DW Steyn': 8.62, 'GC Viljoen': 9.13, 'GH Vihari': 9.0, 'GJ Maxwell': 8.12, 'HF Gurney': 8.52, 'HH Pandya': 8.64, 'HV Patel': 8.98, 'Harbhajan Singh': 7.56, 'Harpreet Brar': 9.6, 'I Sharma': 7.33}\n",
      "{'A Dananjaya': 11.5, 'A Mishra': 6.83, 'AD Russell': 9.25, 'AJ Tye': 8.44, 'AR Patel': 7.52, 'AS Joseph': 9.69, 'AS Rajpoot': 8.35, 'AS Roy': 4.0, 'Abhishek Sharma': 9.5, 'Ankit Sharma': 11.0, 'Anureet Singh': 10.5, 'Arshdeep Singh': 10.4, 'Avesh Khan': 10.41, 'B Kumar': 7.5, 'B Laughlin': 9.62, 'B Stanlake': 7.88, 'BA Stokes': 8.79, 'BB Sran': 9.96, 'BCJ Cutting': 10.11, 'Basil Thampi': 10.01, 'C de Grandhomme': 8.6, 'CH Morris': 9.19, 'CJ Anderson': 12.69, 'CJ Dala': 11.0, 'CJ Jordan': 7.5, 'CR Brathwaite': 8.88, 'CR Woakes': 9.93, 'CV Varun': 11.67, 'DJ Bravo': 8.69, 'DJ Hooda': 8.6, 'DJ Willey': 9.4, 'DJM Short': 6.33, 'DL Chahar': 7.02, 'DS Kulkarni': 9.21, 'DT Christian': 8.54, 'DW Steyn': 8.62, 'GC Viljoen': 9.13, 'GH Vihari': 9.0, 'GJ Maxwell': 8.12, 'HF Gurney': 8.52, 'HH Pandya': 8.64, 'HV Patel': 8.98, 'Harbhajan Singh': 7.56, 'Harpreet Brar': 9.6, 'I Sharma': 7.33, 'IS Sodhi': 6.66}\n",
      "{'A Dananjaya': 11.5, 'A Mishra': 6.83, 'AD Russell': 9.25, 'AJ Tye': 8.44, 'AR Patel': 7.52, 'AS Joseph': 9.69, 'AS Rajpoot': 8.35, 'AS Roy': 4.0, 'Abhishek Sharma': 9.5, 'Ankit Sharma': 11.0, 'Anureet Singh': 10.5, 'Arshdeep Singh': 10.4, 'Avesh Khan': 10.41, 'B Kumar': 7.5, 'B Laughlin': 9.62, 'B Stanlake': 7.88, 'BA Stokes': 8.79, 'BB Sran': 9.96, 'BCJ Cutting': 10.11, 'Basil Thampi': 10.01, 'C de Grandhomme': 8.6, 'CH Morris': 9.19, 'CJ Anderson': 12.69, 'CJ Dala': 11.0, 'CJ Jordan': 7.5, 'CR Brathwaite': 8.88, 'CR Woakes': 9.93, 'CV Varun': 11.67, 'DJ Bravo': 8.69, 'DJ Hooda': 8.6, 'DJ Willey': 9.4, 'DJM Short': 6.33, 'DL Chahar': 7.02, 'DS Kulkarni': 9.21, 'DT Christian': 8.54, 'DW Steyn': 8.62, 'GC Viljoen': 9.13, 'GH Vihari': 9.0, 'GJ Maxwell': 8.12, 'HF Gurney': 8.52, 'HH Pandya': 8.64, 'HV Patel': 8.98, 'Harbhajan Singh': 7.56, 'Harpreet Brar': 9.6, 'I Sharma': 7.33, 'IS Sodhi': 6.66, 'Imran Tahir': 7.2}\n",
      "{'A Dananjaya': 11.5, 'A Mishra': 6.83, 'AD Russell': 9.25, 'AJ Tye': 8.44, 'AR Patel': 7.52, 'AS Joseph': 9.69, 'AS Rajpoot': 8.35, 'AS Roy': 4.0, 'Abhishek Sharma': 9.5, 'Ankit Sharma': 11.0, 'Anureet Singh': 10.5, 'Arshdeep Singh': 10.4, 'Avesh Khan': 10.41, 'B Kumar': 7.5, 'B Laughlin': 9.62, 'B Stanlake': 7.88, 'BA Stokes': 8.79, 'BB Sran': 9.96, 'BCJ Cutting': 10.11, 'Basil Thampi': 10.01, 'C de Grandhomme': 8.6, 'CH Morris': 9.19, 'CJ Anderson': 12.69, 'CJ Dala': 11.0, 'CJ Jordan': 7.5, 'CR Brathwaite': 8.88, 'CR Woakes': 9.93, 'CV Varun': 11.67, 'DJ Bravo': 8.69, 'DJ Hooda': 8.6, 'DJ Willey': 9.4, 'DJM Short': 6.33, 'DL Chahar': 7.02, 'DS Kulkarni': 9.21, 'DT Christian': 8.54, 'DW Steyn': 8.62, 'GC Viljoen': 9.13, 'GH Vihari': 9.0, 'GJ Maxwell': 8.12, 'HF Gurney': 8.52, 'HH Pandya': 8.64, 'HV Patel': 8.98, 'Harbhajan Singh': 7.56, 'Harpreet Brar': 9.6, 'I Sharma': 7.33, 'IS Sodhi': 6.66, 'Imran Tahir': 7.2, 'J Suchith': 7.0}\n",
      "{'A Dananjaya': 11.5, 'A Mishra': 6.83, 'AD Russell': 9.25, 'AJ Tye': 8.44, 'AR Patel': 7.52, 'AS Joseph': 9.69, 'AS Rajpoot': 8.35, 'AS Roy': 4.0, 'Abhishek Sharma': 9.5, 'Ankit Sharma': 11.0, 'Anureet Singh': 10.5, 'Arshdeep Singh': 10.4, 'Avesh Khan': 10.41, 'B Kumar': 7.5, 'B Laughlin': 9.62, 'B Stanlake': 7.88, 'BA Stokes': 8.79, 'BB Sran': 9.96, 'BCJ Cutting': 10.11, 'Basil Thampi': 10.01, 'C de Grandhomme': 8.6, 'CH Morris': 9.19, 'CJ Anderson': 12.69, 'CJ Dala': 11.0, 'CJ Jordan': 7.5, 'CR Brathwaite': 8.88, 'CR Woakes': 9.93, 'CV Varun': 11.67, 'DJ Bravo': 8.69, 'DJ Hooda': 8.6, 'DJ Willey': 9.4, 'DJM Short': 6.33, 'DL Chahar': 7.02, 'DS Kulkarni': 9.21, 'DT Christian': 8.54, 'DW Steyn': 8.62, 'GC Viljoen': 9.13, 'GH Vihari': 9.0, 'GJ Maxwell': 8.12, 'HF Gurney': 8.52, 'HH Pandya': 8.64, 'HV Patel': 8.98, 'Harbhajan Singh': 7.56, 'Harpreet Brar': 9.6, 'I Sharma': 7.33, 'IS Sodhi': 6.66, 'Imran Tahir': 7.2, 'J Suchith': 7.0, 'J Yadav': 7.0}\n",
      "{'A Dananjaya': 11.5, 'A Mishra': 6.83, 'AD Russell': 9.25, 'AJ Tye': 8.44, 'AR Patel': 7.52, 'AS Joseph': 9.69, 'AS Rajpoot': 8.35, 'AS Roy': 4.0, 'Abhishek Sharma': 9.5, 'Ankit Sharma': 11.0, 'Anureet Singh': 10.5, 'Arshdeep Singh': 10.4, 'Avesh Khan': 10.41, 'B Kumar': 7.5, 'B Laughlin': 9.62, 'B Stanlake': 7.88, 'BA Stokes': 8.79, 'BB Sran': 9.96, 'BCJ Cutting': 10.11, 'Basil Thampi': 10.01, 'C de Grandhomme': 8.6, 'CH Morris': 9.19, 'CJ Anderson': 12.69, 'CJ Dala': 11.0, 'CJ Jordan': 7.5, 'CR Brathwaite': 8.88, 'CR Woakes': 9.93, 'CV Varun': 11.67, 'DJ Bravo': 8.69, 'DJ Hooda': 8.6, 'DJ Willey': 9.4, 'DJM Short': 6.33, 'DL Chahar': 7.02, 'DS Kulkarni': 9.21, 'DT Christian': 8.54, 'DW Steyn': 8.62, 'GC Viljoen': 9.13, 'GH Vihari': 9.0, 'GJ Maxwell': 8.12, 'HF Gurney': 8.52, 'HH Pandya': 8.64, 'HV Patel': 8.98, 'Harbhajan Singh': 7.56, 'Harpreet Brar': 9.6, 'I Sharma': 7.33, 'IS Sodhi': 6.66, 'Imran Tahir': 7.2, 'J Suchith': 7.0, 'J Yadav': 7.0, 'JC Archer': 7.23}\n",
      "{'A Dananjaya': 11.5, 'A Mishra': 6.83, 'AD Russell': 9.25, 'AJ Tye': 8.44, 'AR Patel': 7.52, 'AS Joseph': 9.69, 'AS Rajpoot': 8.35, 'AS Roy': 4.0, 'Abhishek Sharma': 9.5, 'Ankit Sharma': 11.0, 'Anureet Singh': 10.5, 'Arshdeep Singh': 10.4, 'Avesh Khan': 10.41, 'B Kumar': 7.5, 'B Laughlin': 9.62, 'B Stanlake': 7.88, 'BA Stokes': 8.79, 'BB Sran': 9.96, 'BCJ Cutting': 10.11, 'Basil Thampi': 10.01, 'C de Grandhomme': 8.6, 'CH Morris': 9.19, 'CJ Anderson': 12.69, 'CJ Dala': 11.0, 'CJ Jordan': 7.5, 'CR Brathwaite': 8.88, 'CR Woakes': 9.93, 'CV Varun': 11.67, 'DJ Bravo': 8.69, 'DJ Hooda': 8.6, 'DJ Willey': 9.4, 'DJM Short': 6.33, 'DL Chahar': 7.02, 'DS Kulkarni': 9.21, 'DT Christian': 8.54, 'DW Steyn': 8.62, 'GC Viljoen': 9.13, 'GH Vihari': 9.0, 'GJ Maxwell': 8.12, 'HF Gurney': 8.52, 'HH Pandya': 8.64, 'HV Patel': 8.98, 'Harbhajan Singh': 7.56, 'Harpreet Brar': 9.6, 'I Sharma': 7.33, 'IS Sodhi': 6.66, 'Imran Tahir': 7.2, 'J Suchith': 7.0, 'J Yadav': 7.0, 'JC Archer': 7.23, 'JD Unadkat': 9.86}\n",
      "{'A Dananjaya': 11.5, 'A Mishra': 6.83, 'AD Russell': 9.25, 'AJ Tye': 8.44, 'AR Patel': 7.52, 'AS Joseph': 9.69, 'AS Rajpoot': 8.35, 'AS Roy': 4.0, 'Abhishek Sharma': 9.5, 'Ankit Sharma': 11.0, 'Anureet Singh': 10.5, 'Arshdeep Singh': 10.4, 'Avesh Khan': 10.41, 'B Kumar': 7.5, 'B Laughlin': 9.62, 'B Stanlake': 7.88, 'BA Stokes': 8.79, 'BB Sran': 9.96, 'BCJ Cutting': 10.11, 'Basil Thampi': 10.01, 'C de Grandhomme': 8.6, 'CH Morris': 9.19, 'CJ Anderson': 12.69, 'CJ Dala': 11.0, 'CJ Jordan': 7.5, 'CR Brathwaite': 8.88, 'CR Woakes': 9.93, 'CV Varun': 11.67, 'DJ Bravo': 8.69, 'DJ Hooda': 8.6, 'DJ Willey': 9.4, 'DJM Short': 6.33, 'DL Chahar': 7.02, 'DS Kulkarni': 9.21, 'DT Christian': 8.54, 'DW Steyn': 8.62, 'GC Viljoen': 9.13, 'GH Vihari': 9.0, 'GJ Maxwell': 8.12, 'HF Gurney': 8.52, 'HH Pandya': 8.64, 'HV Patel': 8.98, 'Harbhajan Singh': 7.56, 'Harpreet Brar': 9.6, 'I Sharma': 7.33, 'IS Sodhi': 6.66, 'Imran Tahir': 7.2, 'J Suchith': 7.0, 'J Yadav': 7.0, 'JC Archer': 7.23, 'JD Unadkat': 9.86, 'JJ Bumrah': 6.52}\n",
      "{'A Dananjaya': 11.5, 'A Mishra': 6.83, 'AD Russell': 9.25, 'AJ Tye': 8.44, 'AR Patel': 7.52, 'AS Joseph': 9.69, 'AS Rajpoot': 8.35, 'AS Roy': 4.0, 'Abhishek Sharma': 9.5, 'Ankit Sharma': 11.0, 'Anureet Singh': 10.5, 'Arshdeep Singh': 10.4, 'Avesh Khan': 10.41, 'B Kumar': 7.5, 'B Laughlin': 9.62, 'B Stanlake': 7.88, 'BA Stokes': 8.79, 'BB Sran': 9.96, 'BCJ Cutting': 10.11, 'Basil Thampi': 10.01, 'C de Grandhomme': 8.6, 'CH Morris': 9.19, 'CJ Anderson': 12.69, 'CJ Dala': 11.0, 'CJ Jordan': 7.5, 'CR Brathwaite': 8.88, 'CR Woakes': 9.93, 'CV Varun': 11.67, 'DJ Bravo': 8.69, 'DJ Hooda': 8.6, 'DJ Willey': 9.4, 'DJM Short': 6.33, 'DL Chahar': 7.02, 'DS Kulkarni': 9.21, 'DT Christian': 8.54, 'DW Steyn': 8.62, 'GC Viljoen': 9.13, 'GH Vihari': 9.0, 'GJ Maxwell': 8.12, 'HF Gurney': 8.52, 'HH Pandya': 8.64, 'HV Patel': 8.98, 'Harbhajan Singh': 7.56, 'Harpreet Brar': 9.6, 'I Sharma': 7.33, 'IS Sodhi': 6.66, 'Imran Tahir': 7.2, 'J Suchith': 7.0, 'J Yadav': 7.0, 'JC Archer': 7.23, 'JD Unadkat': 9.86, 'JJ Bumrah': 6.52, 'JP Behrendorff': 8.53}\n",
      "{'A Dananjaya': 11.5, 'A Mishra': 6.83, 'AD Russell': 9.25, 'AJ Tye': 8.44, 'AR Patel': 7.52, 'AS Joseph': 9.69, 'AS Rajpoot': 8.35, 'AS Roy': 4.0, 'Abhishek Sharma': 9.5, 'Ankit Sharma': 11.0, 'Anureet Singh': 10.5, 'Arshdeep Singh': 10.4, 'Avesh Khan': 10.41, 'B Kumar': 7.5, 'B Laughlin': 9.62, 'B Stanlake': 7.88, 'BA Stokes': 8.79, 'BB Sran': 9.96, 'BCJ Cutting': 10.11, 'Basil Thampi': 10.01, 'C de Grandhomme': 8.6, 'CH Morris': 9.19, 'CJ Anderson': 12.69, 'CJ Dala': 11.0, 'CJ Jordan': 7.5, 'CR Brathwaite': 8.88, 'CR Woakes': 9.93, 'CV Varun': 11.67, 'DJ Bravo': 8.69, 'DJ Hooda': 8.6, 'DJ Willey': 9.4, 'DJM Short': 6.33, 'DL Chahar': 7.02, 'DS Kulkarni': 9.21, 'DT Christian': 8.54, 'DW Steyn': 8.62, 'GC Viljoen': 9.13, 'GH Vihari': 9.0, 'GJ Maxwell': 8.12, 'HF Gurney': 8.52, 'HH Pandya': 8.64, 'HV Patel': 8.98, 'Harbhajan Singh': 7.56, 'Harpreet Brar': 9.6, 'I Sharma': 7.33, 'IS Sodhi': 6.66, 'Imran Tahir': 7.2, 'J Suchith': 7.0, 'J Yadav': 7.0, 'JC Archer': 7.23, 'JD Unadkat': 9.86, 'JJ Bumrah': 6.52, 'JP Behrendorff': 8.53, 'JP Duminy': 12.0}\n",
      "{'A Dananjaya': 11.5, 'A Mishra': 6.83, 'AD Russell': 9.25, 'AJ Tye': 8.44, 'AR Patel': 7.52, 'AS Joseph': 9.69, 'AS Rajpoot': 8.35, 'AS Roy': 4.0, 'Abhishek Sharma': 9.5, 'Ankit Sharma': 11.0, 'Anureet Singh': 10.5, 'Arshdeep Singh': 10.4, 'Avesh Khan': 10.41, 'B Kumar': 7.5, 'B Laughlin': 9.62, 'B Stanlake': 7.88, 'BA Stokes': 8.79, 'BB Sran': 9.96, 'BCJ Cutting': 10.11, 'Basil Thampi': 10.01, 'C de Grandhomme': 8.6, 'CH Morris': 9.19, 'CJ Anderson': 12.69, 'CJ Dala': 11.0, 'CJ Jordan': 7.5, 'CR Brathwaite': 8.88, 'CR Woakes': 9.93, 'CV Varun': 11.67, 'DJ Bravo': 8.69, 'DJ Hooda': 8.6, 'DJ Willey': 9.4, 'DJM Short': 6.33, 'DL Chahar': 7.02, 'DS Kulkarni': 9.21, 'DT Christian': 8.54, 'DW Steyn': 8.62, 'GC Viljoen': 9.13, 'GH Vihari': 9.0, 'GJ Maxwell': 8.12, 'HF Gurney': 8.52, 'HH Pandya': 8.64, 'HV Patel': 8.98, 'Harbhajan Singh': 7.56, 'Harpreet Brar': 9.6, 'I Sharma': 7.33, 'IS Sodhi': 6.66, 'Imran Tahir': 7.2, 'J Suchith': 7.0, 'J Yadav': 7.0, 'JC Archer': 7.23, 'JD Unadkat': 9.86, 'JJ Bumrah': 6.52, 'JP Behrendorff': 8.53, 'JP Duminy': 12.0, 'JPR Scantlebury-Searles': 12.29}\n",
      "{'A Dananjaya': 11.5, 'A Mishra': 6.83, 'AD Russell': 9.25, 'AJ Tye': 8.44, 'AR Patel': 7.52, 'AS Joseph': 9.69, 'AS Rajpoot': 8.35, 'AS Roy': 4.0, 'Abhishek Sharma': 9.5, 'Ankit Sharma': 11.0, 'Anureet Singh': 10.5, 'Arshdeep Singh': 10.4, 'Avesh Khan': 10.41, 'B Kumar': 7.5, 'B Laughlin': 9.62, 'B Stanlake': 7.88, 'BA Stokes': 8.79, 'BB Sran': 9.96, 'BCJ Cutting': 10.11, 'Basil Thampi': 10.01, 'C de Grandhomme': 8.6, 'CH Morris': 9.19, 'CJ Anderson': 12.69, 'CJ Dala': 11.0, 'CJ Jordan': 7.5, 'CR Brathwaite': 8.88, 'CR Woakes': 9.93, 'CV Varun': 11.67, 'DJ Bravo': 8.69, 'DJ Hooda': 8.6, 'DJ Willey': 9.4, 'DJM Short': 6.33, 'DL Chahar': 7.02, 'DS Kulkarni': 9.21, 'DT Christian': 8.54, 'DW Steyn': 8.62, 'GC Viljoen': 9.13, 'GH Vihari': 9.0, 'GJ Maxwell': 8.12, 'HF Gurney': 8.52, 'HH Pandya': 8.64, 'HV Patel': 8.98, 'Harbhajan Singh': 7.56, 'Harpreet Brar': 9.6, 'I Sharma': 7.33, 'IS Sodhi': 6.66, 'Imran Tahir': 7.2, 'J Suchith': 7.0, 'J Yadav': 7.0, 'JC Archer': 7.23, 'JD Unadkat': 9.86, 'JJ Bumrah': 6.52, 'JP Behrendorff': 8.53, 'JP Duminy': 12.0, 'JPR Scantlebury-Searles': 12.29, 'K Gowtham': 7.87}\n",
      "{'A Dananjaya': 11.5, 'A Mishra': 6.83, 'AD Russell': 9.25, 'AJ Tye': 8.44, 'AR Patel': 7.52, 'AS Joseph': 9.69, 'AS Rajpoot': 8.35, 'AS Roy': 4.0, 'Abhishek Sharma': 9.5, 'Ankit Sharma': 11.0, 'Anureet Singh': 10.5, 'Arshdeep Singh': 10.4, 'Avesh Khan': 10.41, 'B Kumar': 7.5, 'B Laughlin': 9.62, 'B Stanlake': 7.88, 'BA Stokes': 8.79, 'BB Sran': 9.96, 'BCJ Cutting': 10.11, 'Basil Thampi': 10.01, 'C de Grandhomme': 8.6, 'CH Morris': 9.19, 'CJ Anderson': 12.69, 'CJ Dala': 11.0, 'CJ Jordan': 7.5, 'CR Brathwaite': 8.88, 'CR Woakes': 9.93, 'CV Varun': 11.67, 'DJ Bravo': 8.69, 'DJ Hooda': 8.6, 'DJ Willey': 9.4, 'DJM Short': 6.33, 'DL Chahar': 7.02, 'DS Kulkarni': 9.21, 'DT Christian': 8.54, 'DW Steyn': 8.62, 'GC Viljoen': 9.13, 'GH Vihari': 9.0, 'GJ Maxwell': 8.12, 'HF Gurney': 8.52, 'HH Pandya': 8.64, 'HV Patel': 8.98, 'Harbhajan Singh': 7.56, 'Harpreet Brar': 9.6, 'I Sharma': 7.33, 'IS Sodhi': 6.66, 'Imran Tahir': 7.2, 'J Suchith': 7.0, 'J Yadav': 7.0, 'JC Archer': 7.23, 'JD Unadkat': 9.86, 'JJ Bumrah': 6.52, 'JP Behrendorff': 8.53, 'JP Duminy': 12.0, 'JPR Scantlebury-Searles': 12.29, 'K Gowtham': 7.87, 'K Khejroliya': 9.29}\n",
      "{'A Dananjaya': 11.5, 'A Mishra': 6.83, 'AD Russell': 9.25, 'AJ Tye': 8.44, 'AR Patel': 7.52, 'AS Joseph': 9.69, 'AS Rajpoot': 8.35, 'AS Roy': 4.0, 'Abhishek Sharma': 9.5, 'Ankit Sharma': 11.0, 'Anureet Singh': 10.5, 'Arshdeep Singh': 10.4, 'Avesh Khan': 10.41, 'B Kumar': 7.5, 'B Laughlin': 9.62, 'B Stanlake': 7.88, 'BA Stokes': 8.79, 'BB Sran': 9.96, 'BCJ Cutting': 10.11, 'Basil Thampi': 10.01, 'C de Grandhomme': 8.6, 'CH Morris': 9.19, 'CJ Anderson': 12.69, 'CJ Dala': 11.0, 'CJ Jordan': 7.5, 'CR Brathwaite': 8.88, 'CR Woakes': 9.93, 'CV Varun': 11.67, 'DJ Bravo': 8.69, 'DJ Hooda': 8.6, 'DJ Willey': 9.4, 'DJM Short': 6.33, 'DL Chahar': 7.02, 'DS Kulkarni': 9.21, 'DT Christian': 8.54, 'DW Steyn': 8.62, 'GC Viljoen': 9.13, 'GH Vihari': 9.0, 'GJ Maxwell': 8.12, 'HF Gurney': 8.52, 'HH Pandya': 8.64, 'HV Patel': 8.98, 'Harbhajan Singh': 7.56, 'Harpreet Brar': 9.6, 'I Sharma': 7.33, 'IS Sodhi': 6.66, 'Imran Tahir': 7.2, 'J Suchith': 7.0, 'J Yadav': 7.0, 'JC Archer': 7.23, 'JD Unadkat': 9.86, 'JJ Bumrah': 6.52, 'JP Behrendorff': 8.53, 'JP Duminy': 12.0, 'JPR Scantlebury-Searles': 12.29, 'K Gowtham': 7.87, 'K Khejroliya': 9.29, 'K Rabada': 7.56}\n",
      "{'A Dananjaya': 11.5, 'A Mishra': 6.83, 'AD Russell': 9.25, 'AJ Tye': 8.44, 'AR Patel': 7.52, 'AS Joseph': 9.69, 'AS Rajpoot': 8.35, 'AS Roy': 4.0, 'Abhishek Sharma': 9.5, 'Ankit Sharma': 11.0, 'Anureet Singh': 10.5, 'Arshdeep Singh': 10.4, 'Avesh Khan': 10.41, 'B Kumar': 7.5, 'B Laughlin': 9.62, 'B Stanlake': 7.88, 'BA Stokes': 8.79, 'BB Sran': 9.96, 'BCJ Cutting': 10.11, 'Basil Thampi': 10.01, 'C de Grandhomme': 8.6, 'CH Morris': 9.19, 'CJ Anderson': 12.69, 'CJ Dala': 11.0, 'CJ Jordan': 7.5, 'CR Brathwaite': 8.88, 'CR Woakes': 9.93, 'CV Varun': 11.67, 'DJ Bravo': 8.69, 'DJ Hooda': 8.6, 'DJ Willey': 9.4, 'DJM Short': 6.33, 'DL Chahar': 7.02, 'DS Kulkarni': 9.21, 'DT Christian': 8.54, 'DW Steyn': 8.62, 'GC Viljoen': 9.13, 'GH Vihari': 9.0, 'GJ Maxwell': 8.12, 'HF Gurney': 8.52, 'HH Pandya': 8.64, 'HV Patel': 8.98, 'Harbhajan Singh': 7.56, 'Harpreet Brar': 9.6, 'I Sharma': 7.33, 'IS Sodhi': 6.66, 'Imran Tahir': 7.2, 'J Suchith': 7.0, 'J Yadav': 7.0, 'JC Archer': 7.23, 'JD Unadkat': 9.86, 'JJ Bumrah': 6.52, 'JP Behrendorff': 8.53, 'JP Duminy': 12.0, 'JPR Scantlebury-Searles': 12.29, 'K Gowtham': 7.87, 'K Khejroliya': 9.29, 'K Rabada': 7.56, 'KC Cariappa': 16.5}\n",
      "{'A Dananjaya': 11.5, 'A Mishra': 6.83, 'AD Russell': 9.25, 'AJ Tye': 8.44, 'AR Patel': 7.52, 'AS Joseph': 9.69, 'AS Rajpoot': 8.35, 'AS Roy': 4.0, 'Abhishek Sharma': 9.5, 'Ankit Sharma': 11.0, 'Anureet Singh': 10.5, 'Arshdeep Singh': 10.4, 'Avesh Khan': 10.41, 'B Kumar': 7.5, 'B Laughlin': 9.62, 'B Stanlake': 7.88, 'BA Stokes': 8.79, 'BB Sran': 9.96, 'BCJ Cutting': 10.11, 'Basil Thampi': 10.01, 'C de Grandhomme': 8.6, 'CH Morris': 9.19, 'CJ Anderson': 12.69, 'CJ Dala': 11.0, 'CJ Jordan': 7.5, 'CR Brathwaite': 8.88, 'CR Woakes': 9.93, 'CV Varun': 11.67, 'DJ Bravo': 8.69, 'DJ Hooda': 8.6, 'DJ Willey': 9.4, 'DJM Short': 6.33, 'DL Chahar': 7.02, 'DS Kulkarni': 9.21, 'DT Christian': 8.54, 'DW Steyn': 8.62, 'GC Viljoen': 9.13, 'GH Vihari': 9.0, 'GJ Maxwell': 8.12, 'HF Gurney': 8.52, 'HH Pandya': 8.64, 'HV Patel': 8.98, 'Harbhajan Singh': 7.56, 'Harpreet Brar': 9.6, 'I Sharma': 7.33, 'IS Sodhi': 6.66, 'Imran Tahir': 7.2, 'J Suchith': 7.0, 'J Yadav': 7.0, 'JC Archer': 7.23, 'JD Unadkat': 9.86, 'JJ Bumrah': 6.52, 'JP Behrendorff': 8.53, 'JP Duminy': 12.0, 'JPR Scantlebury-Searles': 12.29, 'K Gowtham': 7.87, 'K Khejroliya': 9.29, 'K Rabada': 7.56, 'KC Cariappa': 16.5, 'KH Pandya': 7.06}\n",
      "{'A Dananjaya': 11.5, 'A Mishra': 6.83, 'AD Russell': 9.25, 'AJ Tye': 8.44, 'AR Patel': 7.52, 'AS Joseph': 9.69, 'AS Rajpoot': 8.35, 'AS Roy': 4.0, 'Abhishek Sharma': 9.5, 'Ankit Sharma': 11.0, 'Anureet Singh': 10.5, 'Arshdeep Singh': 10.4, 'Avesh Khan': 10.41, 'B Kumar': 7.5, 'B Laughlin': 9.62, 'B Stanlake': 7.88, 'BA Stokes': 8.79, 'BB Sran': 9.96, 'BCJ Cutting': 10.11, 'Basil Thampi': 10.01, 'C de Grandhomme': 8.6, 'CH Morris': 9.19, 'CJ Anderson': 12.69, 'CJ Dala': 11.0, 'CJ Jordan': 7.5, 'CR Brathwaite': 8.88, 'CR Woakes': 9.93, 'CV Varun': 11.67, 'DJ Bravo': 8.69, 'DJ Hooda': 8.6, 'DJ Willey': 9.4, 'DJM Short': 6.33, 'DL Chahar': 7.02, 'DS Kulkarni': 9.21, 'DT Christian': 8.54, 'DW Steyn': 8.62, 'GC Viljoen': 9.13, 'GH Vihari': 9.0, 'GJ Maxwell': 8.12, 'HF Gurney': 8.52, 'HH Pandya': 8.64, 'HV Patel': 8.98, 'Harbhajan Singh': 7.56, 'Harpreet Brar': 9.6, 'I Sharma': 7.33, 'IS Sodhi': 6.66, 'Imran Tahir': 7.2, 'J Suchith': 7.0, 'J Yadav': 7.0, 'JC Archer': 7.23, 'JD Unadkat': 9.86, 'JJ Bumrah': 6.52, 'JP Behrendorff': 8.53, 'JP Duminy': 12.0, 'JPR Scantlebury-Searles': 12.29, 'K Gowtham': 7.87, 'K Khejroliya': 9.29, 'K Rabada': 7.56, 'KC Cariappa': 16.5, 'KH Pandya': 7.06, 'KK Ahmed': 8.22}\n",
      "{'A Dananjaya': 11.5, 'A Mishra': 6.83, 'AD Russell': 9.25, 'AJ Tye': 8.44, 'AR Patel': 7.52, 'AS Joseph': 9.69, 'AS Rajpoot': 8.35, 'AS Roy': 4.0, 'Abhishek Sharma': 9.5, 'Ankit Sharma': 11.0, 'Anureet Singh': 10.5, 'Arshdeep Singh': 10.4, 'Avesh Khan': 10.41, 'B Kumar': 7.5, 'B Laughlin': 9.62, 'B Stanlake': 7.88, 'BA Stokes': 8.79, 'BB Sran': 9.96, 'BCJ Cutting': 10.11, 'Basil Thampi': 10.01, 'C de Grandhomme': 8.6, 'CH Morris': 9.19, 'CJ Anderson': 12.69, 'CJ Dala': 11.0, 'CJ Jordan': 7.5, 'CR Brathwaite': 8.88, 'CR Woakes': 9.93, 'CV Varun': 11.67, 'DJ Bravo': 8.69, 'DJ Hooda': 8.6, 'DJ Willey': 9.4, 'DJM Short': 6.33, 'DL Chahar': 7.02, 'DS Kulkarni': 9.21, 'DT Christian': 8.54, 'DW Steyn': 8.62, 'GC Viljoen': 9.13, 'GH Vihari': 9.0, 'GJ Maxwell': 8.12, 'HF Gurney': 8.52, 'HH Pandya': 8.64, 'HV Patel': 8.98, 'Harbhajan Singh': 7.56, 'Harpreet Brar': 9.6, 'I Sharma': 7.33, 'IS Sodhi': 6.66, 'Imran Tahir': 7.2, 'J Suchith': 7.0, 'J Yadav': 7.0, 'JC Archer': 7.23, 'JD Unadkat': 9.86, 'JJ Bumrah': 6.52, 'JP Behrendorff': 8.53, 'JP Duminy': 12.0, 'JPR Scantlebury-Searles': 12.29, 'K Gowtham': 7.87, 'K Khejroliya': 9.29, 'K Rabada': 7.56, 'KC Cariappa': 16.5, 'KH Pandya': 7.06, 'KK Ahmed': 8.22, 'KM Asif': 12.17}\n",
      "{'A Dananjaya': 11.5, 'A Mishra': 6.83, 'AD Russell': 9.25, 'AJ Tye': 8.44, 'AR Patel': 7.52, 'AS Joseph': 9.69, 'AS Rajpoot': 8.35, 'AS Roy': 4.0, 'Abhishek Sharma': 9.5, 'Ankit Sharma': 11.0, 'Anureet Singh': 10.5, 'Arshdeep Singh': 10.4, 'Avesh Khan': 10.41, 'B Kumar': 7.5, 'B Laughlin': 9.62, 'B Stanlake': 7.88, 'BA Stokes': 8.79, 'BB Sran': 9.96, 'BCJ Cutting': 10.11, 'Basil Thampi': 10.01, 'C de Grandhomme': 8.6, 'CH Morris': 9.19, 'CJ Anderson': 12.69, 'CJ Dala': 11.0, 'CJ Jordan': 7.5, 'CR Brathwaite': 8.88, 'CR Woakes': 9.93, 'CV Varun': 11.67, 'DJ Bravo': 8.69, 'DJ Hooda': 8.6, 'DJ Willey': 9.4, 'DJM Short': 6.33, 'DL Chahar': 7.02, 'DS Kulkarni': 9.21, 'DT Christian': 8.54, 'DW Steyn': 8.62, 'GC Viljoen': 9.13, 'GH Vihari': 9.0, 'GJ Maxwell': 8.12, 'HF Gurney': 8.52, 'HH Pandya': 8.64, 'HV Patel': 8.98, 'Harbhajan Singh': 7.56, 'Harpreet Brar': 9.6, 'I Sharma': 7.33, 'IS Sodhi': 6.66, 'Imran Tahir': 7.2, 'J Suchith': 7.0, 'J Yadav': 7.0, 'JC Archer': 7.23, 'JD Unadkat': 9.86, 'JJ Bumrah': 6.52, 'JP Behrendorff': 8.53, 'JP Duminy': 12.0, 'JPR Scantlebury-Searles': 12.29, 'K Gowtham': 7.87, 'K Khejroliya': 9.29, 'K Rabada': 7.56, 'KC Cariappa': 16.5, 'KH Pandya': 7.06, 'KK Ahmed': 8.22, 'KM Asif': 12.17, 'KMA Paul': 7.43}\n",
      "{'A Dananjaya': 11.5, 'A Mishra': 6.83, 'AD Russell': 9.25, 'AJ Tye': 8.44, 'AR Patel': 7.52, 'AS Joseph': 9.69, 'AS Rajpoot': 8.35, 'AS Roy': 4.0, 'Abhishek Sharma': 9.5, 'Ankit Sharma': 11.0, 'Anureet Singh': 10.5, 'Arshdeep Singh': 10.4, 'Avesh Khan': 10.41, 'B Kumar': 7.5, 'B Laughlin': 9.62, 'B Stanlake': 7.88, 'BA Stokes': 8.79, 'BB Sran': 9.96, 'BCJ Cutting': 10.11, 'Basil Thampi': 10.01, 'C de Grandhomme': 8.6, 'CH Morris': 9.19, 'CJ Anderson': 12.69, 'CJ Dala': 11.0, 'CJ Jordan': 7.5, 'CR Brathwaite': 8.88, 'CR Woakes': 9.93, 'CV Varun': 11.67, 'DJ Bravo': 8.69, 'DJ Hooda': 8.6, 'DJ Willey': 9.4, 'DJM Short': 6.33, 'DL Chahar': 7.02, 'DS Kulkarni': 9.21, 'DT Christian': 8.54, 'DW Steyn': 8.62, 'GC Viljoen': 9.13, 'GH Vihari': 9.0, 'GJ Maxwell': 8.12, 'HF Gurney': 8.52, 'HH Pandya': 8.64, 'HV Patel': 8.98, 'Harbhajan Singh': 7.56, 'Harpreet Brar': 9.6, 'I Sharma': 7.33, 'IS Sodhi': 6.66, 'Imran Tahir': 7.2, 'J Suchith': 7.0, 'J Yadav': 7.0, 'JC Archer': 7.23, 'JD Unadkat': 9.86, 'JJ Bumrah': 6.52, 'JP Behrendorff': 8.53, 'JP Duminy': 12.0, 'JPR Scantlebury-Searles': 12.29, 'K Gowtham': 7.87, 'K Khejroliya': 9.29, 'K Rabada': 7.56, 'KC Cariappa': 16.5, 'KH Pandya': 7.06, 'KK Ahmed': 8.22, 'KM Asif': 12.17, 'KMA Paul': 7.43, 'KV Sharma': 9.81}\n",
      "{'A Dananjaya': 11.5, 'A Mishra': 6.83, 'AD Russell': 9.25, 'AJ Tye': 8.44, 'AR Patel': 7.52, 'AS Joseph': 9.69, 'AS Rajpoot': 8.35, 'AS Roy': 4.0, 'Abhishek Sharma': 9.5, 'Ankit Sharma': 11.0, 'Anureet Singh': 10.5, 'Arshdeep Singh': 10.4, 'Avesh Khan': 10.41, 'B Kumar': 7.5, 'B Laughlin': 9.62, 'B Stanlake': 7.88, 'BA Stokes': 8.79, 'BB Sran': 9.96, 'BCJ Cutting': 10.11, 'Basil Thampi': 10.01, 'C de Grandhomme': 8.6, 'CH Morris': 9.19, 'CJ Anderson': 12.69, 'CJ Dala': 11.0, 'CJ Jordan': 7.5, 'CR Brathwaite': 8.88, 'CR Woakes': 9.93, 'CV Varun': 11.67, 'DJ Bravo': 8.69, 'DJ Hooda': 8.6, 'DJ Willey': 9.4, 'DJM Short': 6.33, 'DL Chahar': 7.02, 'DS Kulkarni': 9.21, 'DT Christian': 8.54, 'DW Steyn': 8.62, 'GC Viljoen': 9.13, 'GH Vihari': 9.0, 'GJ Maxwell': 8.12, 'HF Gurney': 8.52, 'HH Pandya': 8.64, 'HV Patel': 8.98, 'Harbhajan Singh': 7.56, 'Harpreet Brar': 9.6, 'I Sharma': 7.33, 'IS Sodhi': 6.66, 'Imran Tahir': 7.2, 'J Suchith': 7.0, 'J Yadav': 7.0, 'JC Archer': 7.23, 'JD Unadkat': 9.86, 'JJ Bumrah': 6.52, 'JP Behrendorff': 8.53, 'JP Duminy': 12.0, 'JPR Scantlebury-Searles': 12.29, 'K Gowtham': 7.87, 'K Khejroliya': 9.29, 'K Rabada': 7.56, 'KC Cariappa': 16.5, 'KH Pandya': 7.06, 'KK Ahmed': 8.22, 'KM Asif': 12.17, 'KMA Paul': 7.43, 'KV Sharma': 9.81, 'Kuldeep Yadav': 8.21}\n",
      "{'A Dananjaya': 11.5, 'A Mishra': 6.83, 'AD Russell': 9.25, 'AJ Tye': 8.44, 'AR Patel': 7.52, 'AS Joseph': 9.69, 'AS Rajpoot': 8.35, 'AS Roy': 4.0, 'Abhishek Sharma': 9.5, 'Ankit Sharma': 11.0, 'Anureet Singh': 10.5, 'Arshdeep Singh': 10.4, 'Avesh Khan': 10.41, 'B Kumar': 7.5, 'B Laughlin': 9.62, 'B Stanlake': 7.88, 'BA Stokes': 8.79, 'BB Sran': 9.96, 'BCJ Cutting': 10.11, 'Basil Thampi': 10.01, 'C de Grandhomme': 8.6, 'CH Morris': 9.19, 'CJ Anderson': 12.69, 'CJ Dala': 11.0, 'CJ Jordan': 7.5, 'CR Brathwaite': 8.88, 'CR Woakes': 9.93, 'CV Varun': 11.67, 'DJ Bravo': 8.69, 'DJ Hooda': 8.6, 'DJ Willey': 9.4, 'DJM Short': 6.33, 'DL Chahar': 7.02, 'DS Kulkarni': 9.21, 'DT Christian': 8.54, 'DW Steyn': 8.62, 'GC Viljoen': 9.13, 'GH Vihari': 9.0, 'GJ Maxwell': 8.12, 'HF Gurney': 8.52, 'HH Pandya': 8.64, 'HV Patel': 8.98, 'Harbhajan Singh': 7.56, 'Harpreet Brar': 9.6, 'I Sharma': 7.33, 'IS Sodhi': 6.66, 'Imran Tahir': 7.2, 'J Suchith': 7.0, 'J Yadav': 7.0, 'JC Archer': 7.23, 'JD Unadkat': 9.86, 'JJ Bumrah': 6.52, 'JP Behrendorff': 8.53, 'JP Duminy': 12.0, 'JPR Scantlebury-Searles': 12.29, 'K Gowtham': 7.87, 'K Khejroliya': 9.29, 'K Rabada': 7.56, 'KC Cariappa': 16.5, 'KH Pandya': 7.06, 'KK Ahmed': 8.22, 'KM Asif': 12.17, 'KMA Paul': 7.43, 'KV Sharma': 9.81, 'Kuldeep Yadav': 8.21, 'L Ngidi': 5.73}\n",
      "{'A Dananjaya': 11.5, 'A Mishra': 6.83, 'AD Russell': 9.25, 'AJ Tye': 8.44, 'AR Patel': 7.52, 'AS Joseph': 9.69, 'AS Rajpoot': 8.35, 'AS Roy': 4.0, 'Abhishek Sharma': 9.5, 'Ankit Sharma': 11.0, 'Anureet Singh': 10.5, 'Arshdeep Singh': 10.4, 'Avesh Khan': 10.41, 'B Kumar': 7.5, 'B Laughlin': 9.62, 'B Stanlake': 7.88, 'BA Stokes': 8.79, 'BB Sran': 9.96, 'BCJ Cutting': 10.11, 'Basil Thampi': 10.01, 'C de Grandhomme': 8.6, 'CH Morris': 9.19, 'CJ Anderson': 12.69, 'CJ Dala': 11.0, 'CJ Jordan': 7.5, 'CR Brathwaite': 8.88, 'CR Woakes': 9.93, 'CV Varun': 11.67, 'DJ Bravo': 8.69, 'DJ Hooda': 8.6, 'DJ Willey': 9.4, 'DJM Short': 6.33, 'DL Chahar': 7.02, 'DS Kulkarni': 9.21, 'DT Christian': 8.54, 'DW Steyn': 8.62, 'GC Viljoen': 9.13, 'GH Vihari': 9.0, 'GJ Maxwell': 8.12, 'HF Gurney': 8.52, 'HH Pandya': 8.64, 'HV Patel': 8.98, 'Harbhajan Singh': 7.56, 'Harpreet Brar': 9.6, 'I Sharma': 7.33, 'IS Sodhi': 6.66, 'Imran Tahir': 7.2, 'J Suchith': 7.0, 'J Yadav': 7.0, 'JC Archer': 7.23, 'JD Unadkat': 9.86, 'JJ Bumrah': 6.52, 'JP Behrendorff': 8.53, 'JP Duminy': 12.0, 'JPR Scantlebury-Searles': 12.29, 'K Gowtham': 7.87, 'K Khejroliya': 9.29, 'K Rabada': 7.56, 'KC Cariappa': 16.5, 'KH Pandya': 7.06, 'KK Ahmed': 8.22, 'KM Asif': 12.17, 'KMA Paul': 7.43, 'KV Sharma': 9.81, 'Kuldeep Yadav': 8.21, 'L Ngidi': 5.73, 'LE Plunkett': 8.84}\n",
      "{'A Dananjaya': 11.5, 'A Mishra': 6.83, 'AD Russell': 9.25, 'AJ Tye': 8.44, 'AR Patel': 7.52, 'AS Joseph': 9.69, 'AS Rajpoot': 8.35, 'AS Roy': 4.0, 'Abhishek Sharma': 9.5, 'Ankit Sharma': 11.0, 'Anureet Singh': 10.5, 'Arshdeep Singh': 10.4, 'Avesh Khan': 10.41, 'B Kumar': 7.5, 'B Laughlin': 9.62, 'B Stanlake': 7.88, 'BA Stokes': 8.79, 'BB Sran': 9.96, 'BCJ Cutting': 10.11, 'Basil Thampi': 10.01, 'C de Grandhomme': 8.6, 'CH Morris': 9.19, 'CJ Anderson': 12.69, 'CJ Dala': 11.0, 'CJ Jordan': 7.5, 'CR Brathwaite': 8.88, 'CR Woakes': 9.93, 'CV Varun': 11.67, 'DJ Bravo': 8.69, 'DJ Hooda': 8.6, 'DJ Willey': 9.4, 'DJM Short': 6.33, 'DL Chahar': 7.02, 'DS Kulkarni': 9.21, 'DT Christian': 8.54, 'DW Steyn': 8.62, 'GC Viljoen': 9.13, 'GH Vihari': 9.0, 'GJ Maxwell': 8.12, 'HF Gurney': 8.52, 'HH Pandya': 8.64, 'HV Patel': 8.98, 'Harbhajan Singh': 7.56, 'Harpreet Brar': 9.6, 'I Sharma': 7.33, 'IS Sodhi': 6.66, 'Imran Tahir': 7.2, 'J Suchith': 7.0, 'J Yadav': 7.0, 'JC Archer': 7.23, 'JD Unadkat': 9.86, 'JJ Bumrah': 6.52, 'JP Behrendorff': 8.53, 'JP Duminy': 12.0, 'JPR Scantlebury-Searles': 12.29, 'K Gowtham': 7.87, 'K Khejroliya': 9.29, 'K Rabada': 7.56, 'KC Cariappa': 16.5, 'KH Pandya': 7.06, 'KK Ahmed': 8.22, 'KM Asif': 12.17, 'KMA Paul': 7.43, 'KV Sharma': 9.81, 'Kuldeep Yadav': 8.21, 'L Ngidi': 5.73, 'LE Plunkett': 8.84, 'LH Ferguson': 10.47}\n",
      "{'A Dananjaya': 11.5, 'A Mishra': 6.83, 'AD Russell': 9.25, 'AJ Tye': 8.44, 'AR Patel': 7.52, 'AS Joseph': 9.69, 'AS Rajpoot': 8.35, 'AS Roy': 4.0, 'Abhishek Sharma': 9.5, 'Ankit Sharma': 11.0, 'Anureet Singh': 10.5, 'Arshdeep Singh': 10.4, 'Avesh Khan': 10.41, 'B Kumar': 7.5, 'B Laughlin': 9.62, 'B Stanlake': 7.88, 'BA Stokes': 8.79, 'BB Sran': 9.96, 'BCJ Cutting': 10.11, 'Basil Thampi': 10.01, 'C de Grandhomme': 8.6, 'CH Morris': 9.19, 'CJ Anderson': 12.69, 'CJ Dala': 11.0, 'CJ Jordan': 7.5, 'CR Brathwaite': 8.88, 'CR Woakes': 9.93, 'CV Varun': 11.67, 'DJ Bravo': 8.69, 'DJ Hooda': 8.6, 'DJ Willey': 9.4, 'DJM Short': 6.33, 'DL Chahar': 7.02, 'DS Kulkarni': 9.21, 'DT Christian': 8.54, 'DW Steyn': 8.62, 'GC Viljoen': 9.13, 'GH Vihari': 9.0, 'GJ Maxwell': 8.12, 'HF Gurney': 8.52, 'HH Pandya': 8.64, 'HV Patel': 8.98, 'Harbhajan Singh': 7.56, 'Harpreet Brar': 9.6, 'I Sharma': 7.33, 'IS Sodhi': 6.66, 'Imran Tahir': 7.2, 'J Suchith': 7.0, 'J Yadav': 7.0, 'JC Archer': 7.23, 'JD Unadkat': 9.86, 'JJ Bumrah': 6.52, 'JP Behrendorff': 8.53, 'JP Duminy': 12.0, 'JPR Scantlebury-Searles': 12.29, 'K Gowtham': 7.87, 'K Khejroliya': 9.29, 'K Rabada': 7.56, 'KC Cariappa': 16.5, 'KH Pandya': 7.06, 'KK Ahmed': 8.22, 'KM Asif': 12.17, 'KMA Paul': 7.43, 'KV Sharma': 9.81, 'Kuldeep Yadav': 8.21, 'L Ngidi': 5.73, 'LE Plunkett': 8.84, 'LH Ferguson': 10.47, 'LS Livingstone': 13.0}\n",
      "{'A Dananjaya': 11.5, 'A Mishra': 6.83, 'AD Russell': 9.25, 'AJ Tye': 8.44, 'AR Patel': 7.52, 'AS Joseph': 9.69, 'AS Rajpoot': 8.35, 'AS Roy': 4.0, 'Abhishek Sharma': 9.5, 'Ankit Sharma': 11.0, 'Anureet Singh': 10.5, 'Arshdeep Singh': 10.4, 'Avesh Khan': 10.41, 'B Kumar': 7.5, 'B Laughlin': 9.62, 'B Stanlake': 7.88, 'BA Stokes': 8.79, 'BB Sran': 9.96, 'BCJ Cutting': 10.11, 'Basil Thampi': 10.01, 'C de Grandhomme': 8.6, 'CH Morris': 9.19, 'CJ Anderson': 12.69, 'CJ Dala': 11.0, 'CJ Jordan': 7.5, 'CR Brathwaite': 8.88, 'CR Woakes': 9.93, 'CV Varun': 11.67, 'DJ Bravo': 8.69, 'DJ Hooda': 8.6, 'DJ Willey': 9.4, 'DJM Short': 6.33, 'DL Chahar': 7.02, 'DS Kulkarni': 9.21, 'DT Christian': 8.54, 'DW Steyn': 8.62, 'GC Viljoen': 9.13, 'GH Vihari': 9.0, 'GJ Maxwell': 8.12, 'HF Gurney': 8.52, 'HH Pandya': 8.64, 'HV Patel': 8.98, 'Harbhajan Singh': 7.56, 'Harpreet Brar': 9.6, 'I Sharma': 7.33, 'IS Sodhi': 6.66, 'Imran Tahir': 7.2, 'J Suchith': 7.0, 'J Yadav': 7.0, 'JC Archer': 7.23, 'JD Unadkat': 9.86, 'JJ Bumrah': 6.52, 'JP Behrendorff': 8.53, 'JP Duminy': 12.0, 'JPR Scantlebury-Searles': 12.29, 'K Gowtham': 7.87, 'K Khejroliya': 9.29, 'K Rabada': 7.56, 'KC Cariappa': 16.5, 'KH Pandya': 7.06, 'KK Ahmed': 8.22, 'KM Asif': 12.17, 'KMA Paul': 7.43, 'KV Sharma': 9.81, 'Kuldeep Yadav': 8.21, 'L Ngidi': 5.73, 'LE Plunkett': 8.84, 'LH Ferguson': 10.47, 'LS Livingstone': 13.0, 'M Ashwin': 7.24}\n",
      "{'A Dananjaya': 11.5, 'A Mishra': 6.83, 'AD Russell': 9.25, 'AJ Tye': 8.44, 'AR Patel': 7.52, 'AS Joseph': 9.69, 'AS Rajpoot': 8.35, 'AS Roy': 4.0, 'Abhishek Sharma': 9.5, 'Ankit Sharma': 11.0, 'Anureet Singh': 10.5, 'Arshdeep Singh': 10.4, 'Avesh Khan': 10.41, 'B Kumar': 7.5, 'B Laughlin': 9.62, 'B Stanlake': 7.88, 'BA Stokes': 8.79, 'BB Sran': 9.96, 'BCJ Cutting': 10.11, 'Basil Thampi': 10.01, 'C de Grandhomme': 8.6, 'CH Morris': 9.19, 'CJ Anderson': 12.69, 'CJ Dala': 11.0, 'CJ Jordan': 7.5, 'CR Brathwaite': 8.88, 'CR Woakes': 9.93, 'CV Varun': 11.67, 'DJ Bravo': 8.69, 'DJ Hooda': 8.6, 'DJ Willey': 9.4, 'DJM Short': 6.33, 'DL Chahar': 7.02, 'DS Kulkarni': 9.21, 'DT Christian': 8.54, 'DW Steyn': 8.62, 'GC Viljoen': 9.13, 'GH Vihari': 9.0, 'GJ Maxwell': 8.12, 'HF Gurney': 8.52, 'HH Pandya': 8.64, 'HV Patel': 8.98, 'Harbhajan Singh': 7.56, 'Harpreet Brar': 9.6, 'I Sharma': 7.33, 'IS Sodhi': 6.66, 'Imran Tahir': 7.2, 'J Suchith': 7.0, 'J Yadav': 7.0, 'JC Archer': 7.23, 'JD Unadkat': 9.86, 'JJ Bumrah': 6.52, 'JP Behrendorff': 8.53, 'JP Duminy': 12.0, 'JPR Scantlebury-Searles': 12.29, 'K Gowtham': 7.87, 'K Khejroliya': 9.29, 'K Rabada': 7.56, 'KC Cariappa': 16.5, 'KH Pandya': 7.06, 'KK Ahmed': 8.22, 'KM Asif': 12.17, 'KMA Paul': 7.43, 'KV Sharma': 9.81, 'Kuldeep Yadav': 8.21, 'L Ngidi': 5.73, 'LE Plunkett': 8.84, 'LH Ferguson': 10.47, 'LS Livingstone': 13.0, 'M Ashwin': 7.24, 'M Markande': 8.44}\n",
      "{'A Dananjaya': 11.5, 'A Mishra': 6.83, 'AD Russell': 9.25, 'AJ Tye': 8.44, 'AR Patel': 7.52, 'AS Joseph': 9.69, 'AS Rajpoot': 8.35, 'AS Roy': 4.0, 'Abhishek Sharma': 9.5, 'Ankit Sharma': 11.0, 'Anureet Singh': 10.5, 'Arshdeep Singh': 10.4, 'Avesh Khan': 10.41, 'B Kumar': 7.5, 'B Laughlin': 9.62, 'B Stanlake': 7.88, 'BA Stokes': 8.79, 'BB Sran': 9.96, 'BCJ Cutting': 10.11, 'Basil Thampi': 10.01, 'C de Grandhomme': 8.6, 'CH Morris': 9.19, 'CJ Anderson': 12.69, 'CJ Dala': 11.0, 'CJ Jordan': 7.5, 'CR Brathwaite': 8.88, 'CR Woakes': 9.93, 'CV Varun': 11.67, 'DJ Bravo': 8.69, 'DJ Hooda': 8.6, 'DJ Willey': 9.4, 'DJM Short': 6.33, 'DL Chahar': 7.02, 'DS Kulkarni': 9.21, 'DT Christian': 8.54, 'DW Steyn': 8.62, 'GC Viljoen': 9.13, 'GH Vihari': 9.0, 'GJ Maxwell': 8.12, 'HF Gurney': 8.52, 'HH Pandya': 8.64, 'HV Patel': 8.98, 'Harbhajan Singh': 7.56, 'Harpreet Brar': 9.6, 'I Sharma': 7.33, 'IS Sodhi': 6.66, 'Imran Tahir': 7.2, 'J Suchith': 7.0, 'J Yadav': 7.0, 'JC Archer': 7.23, 'JD Unadkat': 9.86, 'JJ Bumrah': 6.52, 'JP Behrendorff': 8.53, 'JP Duminy': 12.0, 'JPR Scantlebury-Searles': 12.29, 'K Gowtham': 7.87, 'K Khejroliya': 9.29, 'K Rabada': 7.56, 'KC Cariappa': 16.5, 'KH Pandya': 7.06, 'KK Ahmed': 8.22, 'KM Asif': 12.17, 'KMA Paul': 7.43, 'KV Sharma': 9.81, 'Kuldeep Yadav': 8.21, 'L Ngidi': 5.73, 'LE Plunkett': 8.84, 'LH Ferguson': 10.47, 'LS Livingstone': 13.0, 'M Ashwin': 7.24, 'M Markande': 8.44, 'M Prasidh Krishna': 9.01}\n",
      "{'A Dananjaya': 11.5, 'A Mishra': 6.83, 'AD Russell': 9.25, 'AJ Tye': 8.44, 'AR Patel': 7.52, 'AS Joseph': 9.69, 'AS Rajpoot': 8.35, 'AS Roy': 4.0, 'Abhishek Sharma': 9.5, 'Ankit Sharma': 11.0, 'Anureet Singh': 10.5, 'Arshdeep Singh': 10.4, 'Avesh Khan': 10.41, 'B Kumar': 7.5, 'B Laughlin': 9.62, 'B Stanlake': 7.88, 'BA Stokes': 8.79, 'BB Sran': 9.96, 'BCJ Cutting': 10.11, 'Basil Thampi': 10.01, 'C de Grandhomme': 8.6, 'CH Morris': 9.19, 'CJ Anderson': 12.69, 'CJ Dala': 11.0, 'CJ Jordan': 7.5, 'CR Brathwaite': 8.88, 'CR Woakes': 9.93, 'CV Varun': 11.67, 'DJ Bravo': 8.69, 'DJ Hooda': 8.6, 'DJ Willey': 9.4, 'DJM Short': 6.33, 'DL Chahar': 7.02, 'DS Kulkarni': 9.21, 'DT Christian': 8.54, 'DW Steyn': 8.62, 'GC Viljoen': 9.13, 'GH Vihari': 9.0, 'GJ Maxwell': 8.12, 'HF Gurney': 8.52, 'HH Pandya': 8.64, 'HV Patel': 8.98, 'Harbhajan Singh': 7.56, 'Harpreet Brar': 9.6, 'I Sharma': 7.33, 'IS Sodhi': 6.66, 'Imran Tahir': 7.2, 'J Suchith': 7.0, 'J Yadav': 7.0, 'JC Archer': 7.23, 'JD Unadkat': 9.86, 'JJ Bumrah': 6.52, 'JP Behrendorff': 8.53, 'JP Duminy': 12.0, 'JPR Scantlebury-Searles': 12.29, 'K Gowtham': 7.87, 'K Khejroliya': 9.29, 'K Rabada': 7.56, 'KC Cariappa': 16.5, 'KH Pandya': 7.06, 'KK Ahmed': 8.22, 'KM Asif': 12.17, 'KMA Paul': 7.43, 'KV Sharma': 9.81, 'Kuldeep Yadav': 8.21, 'L Ngidi': 5.73, 'LE Plunkett': 8.84, 'LH Ferguson': 10.47, 'LS Livingstone': 13.0, 'M Ashwin': 7.24, 'M Markande': 8.44, 'M Prasidh Krishna': 9.01, 'MA Wood': 12.0}\n",
      "{'A Dananjaya': 11.5, 'A Mishra': 6.83, 'AD Russell': 9.25, 'AJ Tye': 8.44, 'AR Patel': 7.52, 'AS Joseph': 9.69, 'AS Rajpoot': 8.35, 'AS Roy': 4.0, 'Abhishek Sharma': 9.5, 'Ankit Sharma': 11.0, 'Anureet Singh': 10.5, 'Arshdeep Singh': 10.4, 'Avesh Khan': 10.41, 'B Kumar': 7.5, 'B Laughlin': 9.62, 'B Stanlake': 7.88, 'BA Stokes': 8.79, 'BB Sran': 9.96, 'BCJ Cutting': 10.11, 'Basil Thampi': 10.01, 'C de Grandhomme': 8.6, 'CH Morris': 9.19, 'CJ Anderson': 12.69, 'CJ Dala': 11.0, 'CJ Jordan': 7.5, 'CR Brathwaite': 8.88, 'CR Woakes': 9.93, 'CV Varun': 11.67, 'DJ Bravo': 8.69, 'DJ Hooda': 8.6, 'DJ Willey': 9.4, 'DJM Short': 6.33, 'DL Chahar': 7.02, 'DS Kulkarni': 9.21, 'DT Christian': 8.54, 'DW Steyn': 8.62, 'GC Viljoen': 9.13, 'GH Vihari': 9.0, 'GJ Maxwell': 8.12, 'HF Gurney': 8.52, 'HH Pandya': 8.64, 'HV Patel': 8.98, 'Harbhajan Singh': 7.56, 'Harpreet Brar': 9.6, 'I Sharma': 7.33, 'IS Sodhi': 6.66, 'Imran Tahir': 7.2, 'J Suchith': 7.0, 'J Yadav': 7.0, 'JC Archer': 7.23, 'JD Unadkat': 9.86, 'JJ Bumrah': 6.52, 'JP Behrendorff': 8.53, 'JP Duminy': 12.0, 'JPR Scantlebury-Searles': 12.29, 'K Gowtham': 7.87, 'K Khejroliya': 9.29, 'K Rabada': 7.56, 'KC Cariappa': 16.5, 'KH Pandya': 7.06, 'KK Ahmed': 8.22, 'KM Asif': 12.17, 'KMA Paul': 7.43, 'KV Sharma': 9.81, 'Kuldeep Yadav': 8.21, 'L Ngidi': 5.73, 'LE Plunkett': 8.84, 'LH Ferguson': 10.47, 'LS Livingstone': 13.0, 'M Ashwin': 7.24, 'M Markande': 8.44, 'M Prasidh Krishna': 9.01, 'MA Wood': 12.0, 'MG Johnson': 9.95}\n",
      "{'A Dananjaya': 11.5, 'A Mishra': 6.83, 'AD Russell': 9.25, 'AJ Tye': 8.44, 'AR Patel': 7.52, 'AS Joseph': 9.69, 'AS Rajpoot': 8.35, 'AS Roy': 4.0, 'Abhishek Sharma': 9.5, 'Ankit Sharma': 11.0, 'Anureet Singh': 10.5, 'Arshdeep Singh': 10.4, 'Avesh Khan': 10.41, 'B Kumar': 7.5, 'B Laughlin': 9.62, 'B Stanlake': 7.88, 'BA Stokes': 8.79, 'BB Sran': 9.96, 'BCJ Cutting': 10.11, 'Basil Thampi': 10.01, 'C de Grandhomme': 8.6, 'CH Morris': 9.19, 'CJ Anderson': 12.69, 'CJ Dala': 11.0, 'CJ Jordan': 7.5, 'CR Brathwaite': 8.88, 'CR Woakes': 9.93, 'CV Varun': 11.67, 'DJ Bravo': 8.69, 'DJ Hooda': 8.6, 'DJ Willey': 9.4, 'DJM Short': 6.33, 'DL Chahar': 7.02, 'DS Kulkarni': 9.21, 'DT Christian': 8.54, 'DW Steyn': 8.62, 'GC Viljoen': 9.13, 'GH Vihari': 9.0, 'GJ Maxwell': 8.12, 'HF Gurney': 8.52, 'HH Pandya': 8.64, 'HV Patel': 8.98, 'Harbhajan Singh': 7.56, 'Harpreet Brar': 9.6, 'I Sharma': 7.33, 'IS Sodhi': 6.66, 'Imran Tahir': 7.2, 'J Suchith': 7.0, 'J Yadav': 7.0, 'JC Archer': 7.23, 'JD Unadkat': 9.86, 'JJ Bumrah': 6.52, 'JP Behrendorff': 8.53, 'JP Duminy': 12.0, 'JPR Scantlebury-Searles': 12.29, 'K Gowtham': 7.87, 'K Khejroliya': 9.29, 'K Rabada': 7.56, 'KC Cariappa': 16.5, 'KH Pandya': 7.06, 'KK Ahmed': 8.22, 'KM Asif': 12.17, 'KMA Paul': 7.43, 'KV Sharma': 9.81, 'Kuldeep Yadav': 8.21, 'L Ngidi': 5.73, 'LE Plunkett': 8.84, 'LH Ferguson': 10.47, 'LS Livingstone': 13.0, 'M Ashwin': 7.24, 'M Markande': 8.44, 'M Prasidh Krishna': 9.01, 'MA Wood': 12.0, 'MG Johnson': 9.95, 'MJ McClenaghan': 7.71}\n",
      "{'A Dananjaya': 11.5, 'A Mishra': 6.83, 'AD Russell': 9.25, 'AJ Tye': 8.44, 'AR Patel': 7.52, 'AS Joseph': 9.69, 'AS Rajpoot': 8.35, 'AS Roy': 4.0, 'Abhishek Sharma': 9.5, 'Ankit Sharma': 11.0, 'Anureet Singh': 10.5, 'Arshdeep Singh': 10.4, 'Avesh Khan': 10.41, 'B Kumar': 7.5, 'B Laughlin': 9.62, 'B Stanlake': 7.88, 'BA Stokes': 8.79, 'BB Sran': 9.96, 'BCJ Cutting': 10.11, 'Basil Thampi': 10.01, 'C de Grandhomme': 8.6, 'CH Morris': 9.19, 'CJ Anderson': 12.69, 'CJ Dala': 11.0, 'CJ Jordan': 7.5, 'CR Brathwaite': 8.88, 'CR Woakes': 9.93, 'CV Varun': 11.67, 'DJ Bravo': 8.69, 'DJ Hooda': 8.6, 'DJ Willey': 9.4, 'DJM Short': 6.33, 'DL Chahar': 7.02, 'DS Kulkarni': 9.21, 'DT Christian': 8.54, 'DW Steyn': 8.62, 'GC Viljoen': 9.13, 'GH Vihari': 9.0, 'GJ Maxwell': 8.12, 'HF Gurney': 8.52, 'HH Pandya': 8.64, 'HV Patel': 8.98, 'Harbhajan Singh': 7.56, 'Harpreet Brar': 9.6, 'I Sharma': 7.33, 'IS Sodhi': 6.66, 'Imran Tahir': 7.2, 'J Suchith': 7.0, 'J Yadav': 7.0, 'JC Archer': 7.23, 'JD Unadkat': 9.86, 'JJ Bumrah': 6.52, 'JP Behrendorff': 8.53, 'JP Duminy': 12.0, 'JPR Scantlebury-Searles': 12.29, 'K Gowtham': 7.87, 'K Khejroliya': 9.29, 'K Rabada': 7.56, 'KC Cariappa': 16.5, 'KH Pandya': 7.06, 'KK Ahmed': 8.22, 'KM Asif': 12.17, 'KMA Paul': 7.43, 'KV Sharma': 9.81, 'Kuldeep Yadav': 8.21, 'L Ngidi': 5.73, 'LE Plunkett': 8.84, 'LH Ferguson': 10.47, 'LS Livingstone': 13.0, 'M Ashwin': 7.24, 'M Markande': 8.44, 'M Prasidh Krishna': 9.01, 'MA Wood': 12.0, 'MG Johnson': 9.95, 'MJ McClenaghan': 7.71, 'MJ Santner': 5.64}\n",
      "{'A Dananjaya': 11.5, 'A Mishra': 6.83, 'AD Russell': 9.25, 'AJ Tye': 8.44, 'AR Patel': 7.52, 'AS Joseph': 9.69, 'AS Rajpoot': 8.35, 'AS Roy': 4.0, 'Abhishek Sharma': 9.5, 'Ankit Sharma': 11.0, 'Anureet Singh': 10.5, 'Arshdeep Singh': 10.4, 'Avesh Khan': 10.41, 'B Kumar': 7.5, 'B Laughlin': 9.62, 'B Stanlake': 7.88, 'BA Stokes': 8.79, 'BB Sran': 9.96, 'BCJ Cutting': 10.11, 'Basil Thampi': 10.01, 'C de Grandhomme': 8.6, 'CH Morris': 9.19, 'CJ Anderson': 12.69, 'CJ Dala': 11.0, 'CJ Jordan': 7.5, 'CR Brathwaite': 8.88, 'CR Woakes': 9.93, 'CV Varun': 11.67, 'DJ Bravo': 8.69, 'DJ Hooda': 8.6, 'DJ Willey': 9.4, 'DJM Short': 6.33, 'DL Chahar': 7.02, 'DS Kulkarni': 9.21, 'DT Christian': 8.54, 'DW Steyn': 8.62, 'GC Viljoen': 9.13, 'GH Vihari': 9.0, 'GJ Maxwell': 8.12, 'HF Gurney': 8.52, 'HH Pandya': 8.64, 'HV Patel': 8.98, 'Harbhajan Singh': 7.56, 'Harpreet Brar': 9.6, 'I Sharma': 7.33, 'IS Sodhi': 6.66, 'Imran Tahir': 7.2, 'J Suchith': 7.0, 'J Yadav': 7.0, 'JC Archer': 7.23, 'JD Unadkat': 9.86, 'JJ Bumrah': 6.52, 'JP Behrendorff': 8.53, 'JP Duminy': 12.0, 'JPR Scantlebury-Searles': 12.29, 'K Gowtham': 7.87, 'K Khejroliya': 9.29, 'K Rabada': 7.56, 'KC Cariappa': 16.5, 'KH Pandya': 7.06, 'KK Ahmed': 8.22, 'KM Asif': 12.17, 'KMA Paul': 7.43, 'KV Sharma': 9.81, 'Kuldeep Yadav': 8.21, 'L Ngidi': 5.73, 'LE Plunkett': 8.84, 'LH Ferguson': 10.47, 'LS Livingstone': 13.0, 'M Ashwin': 7.24, 'M Markande': 8.44, 'M Prasidh Krishna': 9.01, 'MA Wood': 12.0, 'MG Johnson': 9.95, 'MJ McClenaghan': 7.71, 'MJ Santner': 5.64, 'MK Lomror': 9.0}\n",
      "{'A Dananjaya': 11.5, 'A Mishra': 6.83, 'AD Russell': 9.25, 'AJ Tye': 8.44, 'AR Patel': 7.52, 'AS Joseph': 9.69, 'AS Rajpoot': 8.35, 'AS Roy': 4.0, 'Abhishek Sharma': 9.5, 'Ankit Sharma': 11.0, 'Anureet Singh': 10.5, 'Arshdeep Singh': 10.4, 'Avesh Khan': 10.41, 'B Kumar': 7.5, 'B Laughlin': 9.62, 'B Stanlake': 7.88, 'BA Stokes': 8.79, 'BB Sran': 9.96, 'BCJ Cutting': 10.11, 'Basil Thampi': 10.01, 'C de Grandhomme': 8.6, 'CH Morris': 9.19, 'CJ Anderson': 12.69, 'CJ Dala': 11.0, 'CJ Jordan': 7.5, 'CR Brathwaite': 8.88, 'CR Woakes': 9.93, 'CV Varun': 11.67, 'DJ Bravo': 8.69, 'DJ Hooda': 8.6, 'DJ Willey': 9.4, 'DJM Short': 6.33, 'DL Chahar': 7.02, 'DS Kulkarni': 9.21, 'DT Christian': 8.54, 'DW Steyn': 8.62, 'GC Viljoen': 9.13, 'GH Vihari': 9.0, 'GJ Maxwell': 8.12, 'HF Gurney': 8.52, 'HH Pandya': 8.64, 'HV Patel': 8.98, 'Harbhajan Singh': 7.56, 'Harpreet Brar': 9.6, 'I Sharma': 7.33, 'IS Sodhi': 6.66, 'Imran Tahir': 7.2, 'J Suchith': 7.0, 'J Yadav': 7.0, 'JC Archer': 7.23, 'JD Unadkat': 9.86, 'JJ Bumrah': 6.52, 'JP Behrendorff': 8.53, 'JP Duminy': 12.0, 'JPR Scantlebury-Searles': 12.29, 'K Gowtham': 7.87, 'K Khejroliya': 9.29, 'K Rabada': 7.56, 'KC Cariappa': 16.5, 'KH Pandya': 7.06, 'KK Ahmed': 8.22, 'KM Asif': 12.17, 'KMA Paul': 7.43, 'KV Sharma': 9.81, 'Kuldeep Yadav': 8.21, 'L Ngidi': 5.73, 'LE Plunkett': 8.84, 'LH Ferguson': 10.47, 'LS Livingstone': 13.0, 'M Ashwin': 7.24, 'M Markande': 8.44, 'M Prasidh Krishna': 9.01, 'MA Wood': 12.0, 'MG Johnson': 9.95, 'MJ McClenaghan': 7.71, 'MJ Santner': 5.64, 'MK Lomror': 9.0, 'MK Tiwary': 7.0}\n",
      "{'A Dananjaya': 11.5, 'A Mishra': 6.83, 'AD Russell': 9.25, 'AJ Tye': 8.44, 'AR Patel': 7.52, 'AS Joseph': 9.69, 'AS Rajpoot': 8.35, 'AS Roy': 4.0, 'Abhishek Sharma': 9.5, 'Ankit Sharma': 11.0, 'Anureet Singh': 10.5, 'Arshdeep Singh': 10.4, 'Avesh Khan': 10.41, 'B Kumar': 7.5, 'B Laughlin': 9.62, 'B Stanlake': 7.88, 'BA Stokes': 8.79, 'BB Sran': 9.96, 'BCJ Cutting': 10.11, 'Basil Thampi': 10.01, 'C de Grandhomme': 8.6, 'CH Morris': 9.19, 'CJ Anderson': 12.69, 'CJ Dala': 11.0, 'CJ Jordan': 7.5, 'CR Brathwaite': 8.88, 'CR Woakes': 9.93, 'CV Varun': 11.67, 'DJ Bravo': 8.69, 'DJ Hooda': 8.6, 'DJ Willey': 9.4, 'DJM Short': 6.33, 'DL Chahar': 7.02, 'DS Kulkarni': 9.21, 'DT Christian': 8.54, 'DW Steyn': 8.62, 'GC Viljoen': 9.13, 'GH Vihari': 9.0, 'GJ Maxwell': 8.12, 'HF Gurney': 8.52, 'HH Pandya': 8.64, 'HV Patel': 8.98, 'Harbhajan Singh': 7.56, 'Harpreet Brar': 9.6, 'I Sharma': 7.33, 'IS Sodhi': 6.66, 'Imran Tahir': 7.2, 'J Suchith': 7.0, 'J Yadav': 7.0, 'JC Archer': 7.23, 'JD Unadkat': 9.86, 'JJ Bumrah': 6.52, 'JP Behrendorff': 8.53, 'JP Duminy': 12.0, 'JPR Scantlebury-Searles': 12.29, 'K Gowtham': 7.87, 'K Khejroliya': 9.29, 'K Rabada': 7.56, 'KC Cariappa': 16.5, 'KH Pandya': 7.06, 'KK Ahmed': 8.22, 'KM Asif': 12.17, 'KMA Paul': 7.43, 'KV Sharma': 9.81, 'Kuldeep Yadav': 8.21, 'L Ngidi': 5.73, 'LE Plunkett': 8.84, 'LH Ferguson': 10.47, 'LS Livingstone': 13.0, 'M Ashwin': 7.24, 'M Markande': 8.44, 'M Prasidh Krishna': 9.01, 'MA Wood': 12.0, 'MG Johnson': 9.95, 'MJ McClenaghan': 7.71, 'MJ Santner': 5.64, 'MK Lomror': 9.0, 'MK Tiwary': 7.0, 'MM Ali': 6.89}\n",
      "{'A Dananjaya': 11.5, 'A Mishra': 6.83, 'AD Russell': 9.25, 'AJ Tye': 8.44, 'AR Patel': 7.52, 'AS Joseph': 9.69, 'AS Rajpoot': 8.35, 'AS Roy': 4.0, 'Abhishek Sharma': 9.5, 'Ankit Sharma': 11.0, 'Anureet Singh': 10.5, 'Arshdeep Singh': 10.4, 'Avesh Khan': 10.41, 'B Kumar': 7.5, 'B Laughlin': 9.62, 'B Stanlake': 7.88, 'BA Stokes': 8.79, 'BB Sran': 9.96, 'BCJ Cutting': 10.11, 'Basil Thampi': 10.01, 'C de Grandhomme': 8.6, 'CH Morris': 9.19, 'CJ Anderson': 12.69, 'CJ Dala': 11.0, 'CJ Jordan': 7.5, 'CR Brathwaite': 8.88, 'CR Woakes': 9.93, 'CV Varun': 11.67, 'DJ Bravo': 8.69, 'DJ Hooda': 8.6, 'DJ Willey': 9.4, 'DJM Short': 6.33, 'DL Chahar': 7.02, 'DS Kulkarni': 9.21, 'DT Christian': 8.54, 'DW Steyn': 8.62, 'GC Viljoen': 9.13, 'GH Vihari': 9.0, 'GJ Maxwell': 8.12, 'HF Gurney': 8.52, 'HH Pandya': 8.64, 'HV Patel': 8.98, 'Harbhajan Singh': 7.56, 'Harpreet Brar': 9.6, 'I Sharma': 7.33, 'IS Sodhi': 6.66, 'Imran Tahir': 7.2, 'J Suchith': 7.0, 'J Yadav': 7.0, 'JC Archer': 7.23, 'JD Unadkat': 9.86, 'JJ Bumrah': 6.52, 'JP Behrendorff': 8.53, 'JP Duminy': 12.0, 'JPR Scantlebury-Searles': 12.29, 'K Gowtham': 7.87, 'K Khejroliya': 9.29, 'K Rabada': 7.56, 'KC Cariappa': 16.5, 'KH Pandya': 7.06, 'KK Ahmed': 8.22, 'KM Asif': 12.17, 'KMA Paul': 7.43, 'KV Sharma': 9.81, 'Kuldeep Yadav': 8.21, 'L Ngidi': 5.73, 'LE Plunkett': 8.84, 'LH Ferguson': 10.47, 'LS Livingstone': 13.0, 'M Ashwin': 7.24, 'M Markande': 8.44, 'M Prasidh Krishna': 9.01, 'MA Wood': 12.0, 'MG Johnson': 9.95, 'MJ McClenaghan': 7.71, 'MJ Santner': 5.64, 'MK Lomror': 9.0, 'MK Tiwary': 7.0, 'MM Ali': 6.89, 'MM Sharma': 10.38}\n",
      "{'A Dananjaya': 11.5, 'A Mishra': 6.83, 'AD Russell': 9.25, 'AJ Tye': 8.44, 'AR Patel': 7.52, 'AS Joseph': 9.69, 'AS Rajpoot': 8.35, 'AS Roy': 4.0, 'Abhishek Sharma': 9.5, 'Ankit Sharma': 11.0, 'Anureet Singh': 10.5, 'Arshdeep Singh': 10.4, 'Avesh Khan': 10.41, 'B Kumar': 7.5, 'B Laughlin': 9.62, 'B Stanlake': 7.88, 'BA Stokes': 8.79, 'BB Sran': 9.96, 'BCJ Cutting': 10.11, 'Basil Thampi': 10.01, 'C de Grandhomme': 8.6, 'CH Morris': 9.19, 'CJ Anderson': 12.69, 'CJ Dala': 11.0, 'CJ Jordan': 7.5, 'CR Brathwaite': 8.88, 'CR Woakes': 9.93, 'CV Varun': 11.67, 'DJ Bravo': 8.69, 'DJ Hooda': 8.6, 'DJ Willey': 9.4, 'DJM Short': 6.33, 'DL Chahar': 7.02, 'DS Kulkarni': 9.21, 'DT Christian': 8.54, 'DW Steyn': 8.62, 'GC Viljoen': 9.13, 'GH Vihari': 9.0, 'GJ Maxwell': 8.12, 'HF Gurney': 8.52, 'HH Pandya': 8.64, 'HV Patel': 8.98, 'Harbhajan Singh': 7.56, 'Harpreet Brar': 9.6, 'I Sharma': 7.33, 'IS Sodhi': 6.66, 'Imran Tahir': 7.2, 'J Suchith': 7.0, 'J Yadav': 7.0, 'JC Archer': 7.23, 'JD Unadkat': 9.86, 'JJ Bumrah': 6.52, 'JP Behrendorff': 8.53, 'JP Duminy': 12.0, 'JPR Scantlebury-Searles': 12.29, 'K Gowtham': 7.87, 'K Khejroliya': 9.29, 'K Rabada': 7.56, 'KC Cariappa': 16.5, 'KH Pandya': 7.06, 'KK Ahmed': 8.22, 'KM Asif': 12.17, 'KMA Paul': 7.43, 'KV Sharma': 9.81, 'Kuldeep Yadav': 8.21, 'L Ngidi': 5.73, 'LE Plunkett': 8.84, 'LH Ferguson': 10.47, 'LS Livingstone': 13.0, 'M Ashwin': 7.24, 'M Markande': 8.44, 'M Prasidh Krishna': 9.01, 'MA Wood': 12.0, 'MG Johnson': 9.95, 'MJ McClenaghan': 7.71, 'MJ Santner': 5.64, 'MK Lomror': 9.0, 'MK Tiwary': 7.0, 'MM Ali': 6.89, 'MM Sharma': 10.38, 'MP Stoinis': 9.47}\n",
      "{'A Dananjaya': 11.5, 'A Mishra': 6.83, 'AD Russell': 9.25, 'AJ Tye': 8.44, 'AR Patel': 7.52, 'AS Joseph': 9.69, 'AS Rajpoot': 8.35, 'AS Roy': 4.0, 'Abhishek Sharma': 9.5, 'Ankit Sharma': 11.0, 'Anureet Singh': 10.5, 'Arshdeep Singh': 10.4, 'Avesh Khan': 10.41, 'B Kumar': 7.5, 'B Laughlin': 9.62, 'B Stanlake': 7.88, 'BA Stokes': 8.79, 'BB Sran': 9.96, 'BCJ Cutting': 10.11, 'Basil Thampi': 10.01, 'C de Grandhomme': 8.6, 'CH Morris': 9.19, 'CJ Anderson': 12.69, 'CJ Dala': 11.0, 'CJ Jordan': 7.5, 'CR Brathwaite': 8.88, 'CR Woakes': 9.93, 'CV Varun': 11.67, 'DJ Bravo': 8.69, 'DJ Hooda': 8.6, 'DJ Willey': 9.4, 'DJM Short': 6.33, 'DL Chahar': 7.02, 'DS Kulkarni': 9.21, 'DT Christian': 8.54, 'DW Steyn': 8.62, 'GC Viljoen': 9.13, 'GH Vihari': 9.0, 'GJ Maxwell': 8.12, 'HF Gurney': 8.52, 'HH Pandya': 8.64, 'HV Patel': 8.98, 'Harbhajan Singh': 7.56, 'Harpreet Brar': 9.6, 'I Sharma': 7.33, 'IS Sodhi': 6.66, 'Imran Tahir': 7.2, 'J Suchith': 7.0, 'J Yadav': 7.0, 'JC Archer': 7.23, 'JD Unadkat': 9.86, 'JJ Bumrah': 6.52, 'JP Behrendorff': 8.53, 'JP Duminy': 12.0, 'JPR Scantlebury-Searles': 12.29, 'K Gowtham': 7.87, 'K Khejroliya': 9.29, 'K Rabada': 7.56, 'KC Cariappa': 16.5, 'KH Pandya': 7.06, 'KK Ahmed': 8.22, 'KM Asif': 12.17, 'KMA Paul': 7.43, 'KV Sharma': 9.81, 'Kuldeep Yadav': 8.21, 'L Ngidi': 5.73, 'LE Plunkett': 8.84, 'LH Ferguson': 10.47, 'LS Livingstone': 13.0, 'M Ashwin': 7.24, 'M Markande': 8.44, 'M Prasidh Krishna': 9.01, 'MA Wood': 12.0, 'MG Johnson': 9.95, 'MJ McClenaghan': 7.71, 'MJ Santner': 5.64, 'MK Lomror': 9.0, 'MK Tiwary': 7.0, 'MM Ali': 6.89, 'MM Sharma': 10.38, 'MP Stoinis': 9.47, 'Mandeep Singh': 13.0}\n",
      "{'A Dananjaya': 11.5, 'A Mishra': 6.83, 'AD Russell': 9.25, 'AJ Tye': 8.44, 'AR Patel': 7.52, 'AS Joseph': 9.69, 'AS Rajpoot': 8.35, 'AS Roy': 4.0, 'Abhishek Sharma': 9.5, 'Ankit Sharma': 11.0, 'Anureet Singh': 10.5, 'Arshdeep Singh': 10.4, 'Avesh Khan': 10.41, 'B Kumar': 7.5, 'B Laughlin': 9.62, 'B Stanlake': 7.88, 'BA Stokes': 8.79, 'BB Sran': 9.96, 'BCJ Cutting': 10.11, 'Basil Thampi': 10.01, 'C de Grandhomme': 8.6, 'CH Morris': 9.19, 'CJ Anderson': 12.69, 'CJ Dala': 11.0, 'CJ Jordan': 7.5, 'CR Brathwaite': 8.88, 'CR Woakes': 9.93, 'CV Varun': 11.67, 'DJ Bravo': 8.69, 'DJ Hooda': 8.6, 'DJ Willey': 9.4, 'DJM Short': 6.33, 'DL Chahar': 7.02, 'DS Kulkarni': 9.21, 'DT Christian': 8.54, 'DW Steyn': 8.62, 'GC Viljoen': 9.13, 'GH Vihari': 9.0, 'GJ Maxwell': 8.12, 'HF Gurney': 8.52, 'HH Pandya': 8.64, 'HV Patel': 8.98, 'Harbhajan Singh': 7.56, 'Harpreet Brar': 9.6, 'I Sharma': 7.33, 'IS Sodhi': 6.66, 'Imran Tahir': 7.2, 'J Suchith': 7.0, 'J Yadav': 7.0, 'JC Archer': 7.23, 'JD Unadkat': 9.86, 'JJ Bumrah': 6.52, 'JP Behrendorff': 8.53, 'JP Duminy': 12.0, 'JPR Scantlebury-Searles': 12.29, 'K Gowtham': 7.87, 'K Khejroliya': 9.29, 'K Rabada': 7.56, 'KC Cariappa': 16.5, 'KH Pandya': 7.06, 'KK Ahmed': 8.22, 'KM Asif': 12.17, 'KMA Paul': 7.43, 'KV Sharma': 9.81, 'Kuldeep Yadav': 8.21, 'L Ngidi': 5.73, 'LE Plunkett': 8.84, 'LH Ferguson': 10.47, 'LS Livingstone': 13.0, 'M Ashwin': 7.24, 'M Markande': 8.44, 'M Prasidh Krishna': 9.01, 'MA Wood': 12.0, 'MG Johnson': 9.95, 'MJ McClenaghan': 7.71, 'MJ Santner': 5.64, 'MK Lomror': 9.0, 'MK Tiwary': 7.0, 'MM Ali': 6.89, 'MM Sharma': 10.38, 'MP Stoinis': 9.47, 'Mandeep Singh': 13.0, 'Mohammad Nabi': 7.05}\n",
      "{'A Dananjaya': 11.5, 'A Mishra': 6.83, 'AD Russell': 9.25, 'AJ Tye': 8.44, 'AR Patel': 7.52, 'AS Joseph': 9.69, 'AS Rajpoot': 8.35, 'AS Roy': 4.0, 'Abhishek Sharma': 9.5, 'Ankit Sharma': 11.0, 'Anureet Singh': 10.5, 'Arshdeep Singh': 10.4, 'Avesh Khan': 10.41, 'B Kumar': 7.5, 'B Laughlin': 9.62, 'B Stanlake': 7.88, 'BA Stokes': 8.79, 'BB Sran': 9.96, 'BCJ Cutting': 10.11, 'Basil Thampi': 10.01, 'C de Grandhomme': 8.6, 'CH Morris': 9.19, 'CJ Anderson': 12.69, 'CJ Dala': 11.0, 'CJ Jordan': 7.5, 'CR Brathwaite': 8.88, 'CR Woakes': 9.93, 'CV Varun': 11.67, 'DJ Bravo': 8.69, 'DJ Hooda': 8.6, 'DJ Willey': 9.4, 'DJM Short': 6.33, 'DL Chahar': 7.02, 'DS Kulkarni': 9.21, 'DT Christian': 8.54, 'DW Steyn': 8.62, 'GC Viljoen': 9.13, 'GH Vihari': 9.0, 'GJ Maxwell': 8.12, 'HF Gurney': 8.52, 'HH Pandya': 8.64, 'HV Patel': 8.98, 'Harbhajan Singh': 7.56, 'Harpreet Brar': 9.6, 'I Sharma': 7.33, 'IS Sodhi': 6.66, 'Imran Tahir': 7.2, 'J Suchith': 7.0, 'J Yadav': 7.0, 'JC Archer': 7.23, 'JD Unadkat': 9.86, 'JJ Bumrah': 6.52, 'JP Behrendorff': 8.53, 'JP Duminy': 12.0, 'JPR Scantlebury-Searles': 12.29, 'K Gowtham': 7.87, 'K Khejroliya': 9.29, 'K Rabada': 7.56, 'KC Cariappa': 16.5, 'KH Pandya': 7.06, 'KK Ahmed': 8.22, 'KM Asif': 12.17, 'KMA Paul': 7.43, 'KV Sharma': 9.81, 'Kuldeep Yadav': 8.21, 'L Ngidi': 5.73, 'LE Plunkett': 8.84, 'LH Ferguson': 10.47, 'LS Livingstone': 13.0, 'M Ashwin': 7.24, 'M Markande': 8.44, 'M Prasidh Krishna': 9.01, 'MA Wood': 12.0, 'MG Johnson': 9.95, 'MJ McClenaghan': 7.71, 'MJ Santner': 5.64, 'MK Lomror': 9.0, 'MK Tiwary': 7.0, 'MM Ali': 6.89, 'MM Sharma': 10.38, 'MP Stoinis': 9.47, 'Mandeep Singh': 13.0, 'Mohammad Nabi': 7.05, 'Mohammed Shami': 8.89}\n",
      "{'A Dananjaya': 11.5, 'A Mishra': 6.83, 'AD Russell': 9.25, 'AJ Tye': 8.44, 'AR Patel': 7.52, 'AS Joseph': 9.69, 'AS Rajpoot': 8.35, 'AS Roy': 4.0, 'Abhishek Sharma': 9.5, 'Ankit Sharma': 11.0, 'Anureet Singh': 10.5, 'Arshdeep Singh': 10.4, 'Avesh Khan': 10.41, 'B Kumar': 7.5, 'B Laughlin': 9.62, 'B Stanlake': 7.88, 'BA Stokes': 8.79, 'BB Sran': 9.96, 'BCJ Cutting': 10.11, 'Basil Thampi': 10.01, 'C de Grandhomme': 8.6, 'CH Morris': 9.19, 'CJ Anderson': 12.69, 'CJ Dala': 11.0, 'CJ Jordan': 7.5, 'CR Brathwaite': 8.88, 'CR Woakes': 9.93, 'CV Varun': 11.67, 'DJ Bravo': 8.69, 'DJ Hooda': 8.6, 'DJ Willey': 9.4, 'DJM Short': 6.33, 'DL Chahar': 7.02, 'DS Kulkarni': 9.21, 'DT Christian': 8.54, 'DW Steyn': 8.62, 'GC Viljoen': 9.13, 'GH Vihari': 9.0, 'GJ Maxwell': 8.12, 'HF Gurney': 8.52, 'HH Pandya': 8.64, 'HV Patel': 8.98, 'Harbhajan Singh': 7.56, 'Harpreet Brar': 9.6, 'I Sharma': 7.33, 'IS Sodhi': 6.66, 'Imran Tahir': 7.2, 'J Suchith': 7.0, 'J Yadav': 7.0, 'JC Archer': 7.23, 'JD Unadkat': 9.86, 'JJ Bumrah': 6.52, 'JP Behrendorff': 8.53, 'JP Duminy': 12.0, 'JPR Scantlebury-Searles': 12.29, 'K Gowtham': 7.87, 'K Khejroliya': 9.29, 'K Rabada': 7.56, 'KC Cariappa': 16.5, 'KH Pandya': 7.06, 'KK Ahmed': 8.22, 'KM Asif': 12.17, 'KMA Paul': 7.43, 'KV Sharma': 9.81, 'Kuldeep Yadav': 8.21, 'L Ngidi': 5.73, 'LE Plunkett': 8.84, 'LH Ferguson': 10.47, 'LS Livingstone': 13.0, 'M Ashwin': 7.24, 'M Markande': 8.44, 'M Prasidh Krishna': 9.01, 'MA Wood': 12.0, 'MG Johnson': 9.95, 'MJ McClenaghan': 7.71, 'MJ Santner': 5.64, 'MK Lomror': 9.0, 'MK Tiwary': 7.0, 'MM Ali': 6.89, 'MM Sharma': 10.38, 'MP Stoinis': 9.47, 'Mandeep Singh': 13.0, 'Mohammad Nabi': 7.05, 'Mohammed Shami': 8.89, 'Mohammed Siraj': 8.5}\n",
      "{'A Dananjaya': 11.5, 'A Mishra': 6.83, 'AD Russell': 9.25, 'AJ Tye': 8.44, 'AR Patel': 7.52, 'AS Joseph': 9.69, 'AS Rajpoot': 8.35, 'AS Roy': 4.0, 'Abhishek Sharma': 9.5, 'Ankit Sharma': 11.0, 'Anureet Singh': 10.5, 'Arshdeep Singh': 10.4, 'Avesh Khan': 10.41, 'B Kumar': 7.5, 'B Laughlin': 9.62, 'B Stanlake': 7.88, 'BA Stokes': 8.79, 'BB Sran': 9.96, 'BCJ Cutting': 10.11, 'Basil Thampi': 10.01, 'C de Grandhomme': 8.6, 'CH Morris': 9.19, 'CJ Anderson': 12.69, 'CJ Dala': 11.0, 'CJ Jordan': 7.5, 'CR Brathwaite': 8.88, 'CR Woakes': 9.93, 'CV Varun': 11.67, 'DJ Bravo': 8.69, 'DJ Hooda': 8.6, 'DJ Willey': 9.4, 'DJM Short': 6.33, 'DL Chahar': 7.02, 'DS Kulkarni': 9.21, 'DT Christian': 8.54, 'DW Steyn': 8.62, 'GC Viljoen': 9.13, 'GH Vihari': 9.0, 'GJ Maxwell': 8.12, 'HF Gurney': 8.52, 'HH Pandya': 8.64, 'HV Patel': 8.98, 'Harbhajan Singh': 7.56, 'Harpreet Brar': 9.6, 'I Sharma': 7.33, 'IS Sodhi': 6.66, 'Imran Tahir': 7.2, 'J Suchith': 7.0, 'J Yadav': 7.0, 'JC Archer': 7.23, 'JD Unadkat': 9.86, 'JJ Bumrah': 6.52, 'JP Behrendorff': 8.53, 'JP Duminy': 12.0, 'JPR Scantlebury-Searles': 12.29, 'K Gowtham': 7.87, 'K Khejroliya': 9.29, 'K Rabada': 7.56, 'KC Cariappa': 16.5, 'KH Pandya': 7.06, 'KK Ahmed': 8.22, 'KM Asif': 12.17, 'KMA Paul': 7.43, 'KV Sharma': 9.81, 'Kuldeep Yadav': 8.21, 'L Ngidi': 5.73, 'LE Plunkett': 8.84, 'LH Ferguson': 10.47, 'LS Livingstone': 13.0, 'M Ashwin': 7.24, 'M Markande': 8.44, 'M Prasidh Krishna': 9.01, 'MA Wood': 12.0, 'MG Johnson': 9.95, 'MJ McClenaghan': 7.71, 'MJ Santner': 5.64, 'MK Lomror': 9.0, 'MK Tiwary': 7.0, 'MM Ali': 6.89, 'MM Sharma': 10.38, 'MP Stoinis': 9.47, 'Mandeep Singh': 13.0, 'Mohammad Nabi': 7.05, 'Mohammed Shami': 8.89, 'Mohammed Siraj': 8.5, 'Mujeeb Ur Rahman': 7.58}\n",
      "{'A Dananjaya': 11.5, 'A Mishra': 6.83, 'AD Russell': 9.25, 'AJ Tye': 8.44, 'AR Patel': 7.52, 'AS Joseph': 9.69, 'AS Rajpoot': 8.35, 'AS Roy': 4.0, 'Abhishek Sharma': 9.5, 'Ankit Sharma': 11.0, 'Anureet Singh': 10.5, 'Arshdeep Singh': 10.4, 'Avesh Khan': 10.41, 'B Kumar': 7.5, 'B Laughlin': 9.62, 'B Stanlake': 7.88, 'BA Stokes': 8.79, 'BB Sran': 9.96, 'BCJ Cutting': 10.11, 'Basil Thampi': 10.01, 'C de Grandhomme': 8.6, 'CH Morris': 9.19, 'CJ Anderson': 12.69, 'CJ Dala': 11.0, 'CJ Jordan': 7.5, 'CR Brathwaite': 8.88, 'CR Woakes': 9.93, 'CV Varun': 11.67, 'DJ Bravo': 8.69, 'DJ Hooda': 8.6, 'DJ Willey': 9.4, 'DJM Short': 6.33, 'DL Chahar': 7.02, 'DS Kulkarni': 9.21, 'DT Christian': 8.54, 'DW Steyn': 8.62, 'GC Viljoen': 9.13, 'GH Vihari': 9.0, 'GJ Maxwell': 8.12, 'HF Gurney': 8.52, 'HH Pandya': 8.64, 'HV Patel': 8.98, 'Harbhajan Singh': 7.56, 'Harpreet Brar': 9.6, 'I Sharma': 7.33, 'IS Sodhi': 6.66, 'Imran Tahir': 7.2, 'J Suchith': 7.0, 'J Yadav': 7.0, 'JC Archer': 7.23, 'JD Unadkat': 9.86, 'JJ Bumrah': 6.52, 'JP Behrendorff': 8.53, 'JP Duminy': 12.0, 'JPR Scantlebury-Searles': 12.29, 'K Gowtham': 7.87, 'K Khejroliya': 9.29, 'K Rabada': 7.56, 'KC Cariappa': 16.5, 'KH Pandya': 7.06, 'KK Ahmed': 8.22, 'KM Asif': 12.17, 'KMA Paul': 7.43, 'KV Sharma': 9.81, 'Kuldeep Yadav': 8.21, 'L Ngidi': 5.73, 'LE Plunkett': 8.84, 'LH Ferguson': 10.47, 'LS Livingstone': 13.0, 'M Ashwin': 7.24, 'M Markande': 8.44, 'M Prasidh Krishna': 9.01, 'MA Wood': 12.0, 'MG Johnson': 9.95, 'MJ McClenaghan': 7.71, 'MJ Santner': 5.64, 'MK Lomror': 9.0, 'MK Tiwary': 7.0, 'MM Ali': 6.89, 'MM Sharma': 10.38, 'MP Stoinis': 9.47, 'Mandeep Singh': 13.0, 'Mohammad Nabi': 7.05, 'Mohammed Shami': 8.89, 'Mohammed Siraj': 8.5, 'Mujeeb Ur Rahman': 7.58, 'Mustafizur Rahman': 8.25}\n",
      "{'A Dananjaya': 11.5, 'A Mishra': 6.83, 'AD Russell': 9.25, 'AJ Tye': 8.44, 'AR Patel': 7.52, 'AS Joseph': 9.69, 'AS Rajpoot': 8.35, 'AS Roy': 4.0, 'Abhishek Sharma': 9.5, 'Ankit Sharma': 11.0, 'Anureet Singh': 10.5, 'Arshdeep Singh': 10.4, 'Avesh Khan': 10.41, 'B Kumar': 7.5, 'B Laughlin': 9.62, 'B Stanlake': 7.88, 'BA Stokes': 8.79, 'BB Sran': 9.96, 'BCJ Cutting': 10.11, 'Basil Thampi': 10.01, 'C de Grandhomme': 8.6, 'CH Morris': 9.19, 'CJ Anderson': 12.69, 'CJ Dala': 11.0, 'CJ Jordan': 7.5, 'CR Brathwaite': 8.88, 'CR Woakes': 9.93, 'CV Varun': 11.67, 'DJ Bravo': 8.69, 'DJ Hooda': 8.6, 'DJ Willey': 9.4, 'DJM Short': 6.33, 'DL Chahar': 7.02, 'DS Kulkarni': 9.21, 'DT Christian': 8.54, 'DW Steyn': 8.62, 'GC Viljoen': 9.13, 'GH Vihari': 9.0, 'GJ Maxwell': 8.12, 'HF Gurney': 8.52, 'HH Pandya': 8.64, 'HV Patel': 8.98, 'Harbhajan Singh': 7.56, 'Harpreet Brar': 9.6, 'I Sharma': 7.33, 'IS Sodhi': 6.66, 'Imran Tahir': 7.2, 'J Suchith': 7.0, 'J Yadav': 7.0, 'JC Archer': 7.23, 'JD Unadkat': 9.86, 'JJ Bumrah': 6.52, 'JP Behrendorff': 8.53, 'JP Duminy': 12.0, 'JPR Scantlebury-Searles': 12.29, 'K Gowtham': 7.87, 'K Khejroliya': 9.29, 'K Rabada': 7.56, 'KC Cariappa': 16.5, 'KH Pandya': 7.06, 'KK Ahmed': 8.22, 'KM Asif': 12.17, 'KMA Paul': 7.43, 'KV Sharma': 9.81, 'Kuldeep Yadav': 8.21, 'L Ngidi': 5.73, 'LE Plunkett': 8.84, 'LH Ferguson': 10.47, 'LS Livingstone': 13.0, 'M Ashwin': 7.24, 'M Markande': 8.44, 'M Prasidh Krishna': 9.01, 'MA Wood': 12.0, 'MG Johnson': 9.95, 'MJ McClenaghan': 7.71, 'MJ Santner': 5.64, 'MK Lomror': 9.0, 'MK Tiwary': 7.0, 'MM Ali': 6.89, 'MM Sharma': 10.38, 'MP Stoinis': 9.47, 'Mandeep Singh': 13.0, 'Mohammad Nabi': 7.05, 'Mohammed Shami': 8.89, 'Mohammed Siraj': 8.5, 'Mujeeb Ur Rahman': 7.58, 'Mustafizur Rahman': 8.25, 'N Rana': 7.97}\n",
      "{'A Dananjaya': 11.5, 'A Mishra': 6.83, 'AD Russell': 9.25, 'AJ Tye': 8.44, 'AR Patel': 7.52, 'AS Joseph': 9.69, 'AS Rajpoot': 8.35, 'AS Roy': 4.0, 'Abhishek Sharma': 9.5, 'Ankit Sharma': 11.0, 'Anureet Singh': 10.5, 'Arshdeep Singh': 10.4, 'Avesh Khan': 10.41, 'B Kumar': 7.5, 'B Laughlin': 9.62, 'B Stanlake': 7.88, 'BA Stokes': 8.79, 'BB Sran': 9.96, 'BCJ Cutting': 10.11, 'Basil Thampi': 10.01, 'C de Grandhomme': 8.6, 'CH Morris': 9.19, 'CJ Anderson': 12.69, 'CJ Dala': 11.0, 'CJ Jordan': 7.5, 'CR Brathwaite': 8.88, 'CR Woakes': 9.93, 'CV Varun': 11.67, 'DJ Bravo': 8.69, 'DJ Hooda': 8.6, 'DJ Willey': 9.4, 'DJM Short': 6.33, 'DL Chahar': 7.02, 'DS Kulkarni': 9.21, 'DT Christian': 8.54, 'DW Steyn': 8.62, 'GC Viljoen': 9.13, 'GH Vihari': 9.0, 'GJ Maxwell': 8.12, 'HF Gurney': 8.52, 'HH Pandya': 8.64, 'HV Patel': 8.98, 'Harbhajan Singh': 7.56, 'Harpreet Brar': 9.6, 'I Sharma': 7.33, 'IS Sodhi': 6.66, 'Imran Tahir': 7.2, 'J Suchith': 7.0, 'J Yadav': 7.0, 'JC Archer': 7.23, 'JD Unadkat': 9.86, 'JJ Bumrah': 6.52, 'JP Behrendorff': 8.53, 'JP Duminy': 12.0, 'JPR Scantlebury-Searles': 12.29, 'K Gowtham': 7.87, 'K Khejroliya': 9.29, 'K Rabada': 7.56, 'KC Cariappa': 16.5, 'KH Pandya': 7.06, 'KK Ahmed': 8.22, 'KM Asif': 12.17, 'KMA Paul': 7.43, 'KV Sharma': 9.81, 'Kuldeep Yadav': 8.21, 'L Ngidi': 5.73, 'LE Plunkett': 8.84, 'LH Ferguson': 10.47, 'LS Livingstone': 13.0, 'M Ashwin': 7.24, 'M Markande': 8.44, 'M Prasidh Krishna': 9.01, 'MA Wood': 12.0, 'MG Johnson': 9.95, 'MJ McClenaghan': 7.71, 'MJ Santner': 5.64, 'MK Lomror': 9.0, 'MK Tiwary': 7.0, 'MM Ali': 6.89, 'MM Sharma': 10.38, 'MP Stoinis': 9.47, 'Mandeep Singh': 13.0, 'Mohammad Nabi': 7.05, 'Mohammed Shami': 8.89, 'Mohammed Siraj': 8.5, 'Mujeeb Ur Rahman': 7.58, 'Mustafizur Rahman': 8.25, 'N Rana': 7.97, 'Navdeep Saini': 7.79}\n",
      "{'A Dananjaya': 11.5, 'A Mishra': 6.83, 'AD Russell': 9.25, 'AJ Tye': 8.44, 'AR Patel': 7.52, 'AS Joseph': 9.69, 'AS Rajpoot': 8.35, 'AS Roy': 4.0, 'Abhishek Sharma': 9.5, 'Ankit Sharma': 11.0, 'Anureet Singh': 10.5, 'Arshdeep Singh': 10.4, 'Avesh Khan': 10.41, 'B Kumar': 7.5, 'B Laughlin': 9.62, 'B Stanlake': 7.88, 'BA Stokes': 8.79, 'BB Sran': 9.96, 'BCJ Cutting': 10.11, 'Basil Thampi': 10.01, 'C de Grandhomme': 8.6, 'CH Morris': 9.19, 'CJ Anderson': 12.69, 'CJ Dala': 11.0, 'CJ Jordan': 7.5, 'CR Brathwaite': 8.88, 'CR Woakes': 9.93, 'CV Varun': 11.67, 'DJ Bravo': 8.69, 'DJ Hooda': 8.6, 'DJ Willey': 9.4, 'DJM Short': 6.33, 'DL Chahar': 7.02, 'DS Kulkarni': 9.21, 'DT Christian': 8.54, 'DW Steyn': 8.62, 'GC Viljoen': 9.13, 'GH Vihari': 9.0, 'GJ Maxwell': 8.12, 'HF Gurney': 8.52, 'HH Pandya': 8.64, 'HV Patel': 8.98, 'Harbhajan Singh': 7.56, 'Harpreet Brar': 9.6, 'I Sharma': 7.33, 'IS Sodhi': 6.66, 'Imran Tahir': 7.2, 'J Suchith': 7.0, 'J Yadav': 7.0, 'JC Archer': 7.23, 'JD Unadkat': 9.86, 'JJ Bumrah': 6.52, 'JP Behrendorff': 8.53, 'JP Duminy': 12.0, 'JPR Scantlebury-Searles': 12.29, 'K Gowtham': 7.87, 'K Khejroliya': 9.29, 'K Rabada': 7.56, 'KC Cariappa': 16.5, 'KH Pandya': 7.06, 'KK Ahmed': 8.22, 'KM Asif': 12.17, 'KMA Paul': 7.43, 'KV Sharma': 9.81, 'Kuldeep Yadav': 8.21, 'L Ngidi': 5.73, 'LE Plunkett': 8.84, 'LH Ferguson': 10.47, 'LS Livingstone': 13.0, 'M Ashwin': 7.24, 'M Markande': 8.44, 'M Prasidh Krishna': 9.01, 'MA Wood': 12.0, 'MG Johnson': 9.95, 'MJ McClenaghan': 7.71, 'MJ Santner': 5.64, 'MK Lomror': 9.0, 'MK Tiwary': 7.0, 'MM Ali': 6.89, 'MM Sharma': 10.38, 'MP Stoinis': 9.47, 'Mandeep Singh': 13.0, 'Mohammad Nabi': 7.05, 'Mohammed Shami': 8.89, 'Mohammed Siraj': 8.5, 'Mujeeb Ur Rahman': 7.58, 'Mustafizur Rahman': 8.25, 'N Rana': 7.97, 'Navdeep Saini': 7.79, 'O Thomas': 7.5}\n",
      "{'A Dananjaya': 11.5, 'A Mishra': 6.83, 'AD Russell': 9.25, 'AJ Tye': 8.44, 'AR Patel': 7.52, 'AS Joseph': 9.69, 'AS Rajpoot': 8.35, 'AS Roy': 4.0, 'Abhishek Sharma': 9.5, 'Ankit Sharma': 11.0, 'Anureet Singh': 10.5, 'Arshdeep Singh': 10.4, 'Avesh Khan': 10.41, 'B Kumar': 7.5, 'B Laughlin': 9.62, 'B Stanlake': 7.88, 'BA Stokes': 8.79, 'BB Sran': 9.96, 'BCJ Cutting': 10.11, 'Basil Thampi': 10.01, 'C de Grandhomme': 8.6, 'CH Morris': 9.19, 'CJ Anderson': 12.69, 'CJ Dala': 11.0, 'CJ Jordan': 7.5, 'CR Brathwaite': 8.88, 'CR Woakes': 9.93, 'CV Varun': 11.67, 'DJ Bravo': 8.69, 'DJ Hooda': 8.6, 'DJ Willey': 9.4, 'DJM Short': 6.33, 'DL Chahar': 7.02, 'DS Kulkarni': 9.21, 'DT Christian': 8.54, 'DW Steyn': 8.62, 'GC Viljoen': 9.13, 'GH Vihari': 9.0, 'GJ Maxwell': 8.12, 'HF Gurney': 8.52, 'HH Pandya': 8.64, 'HV Patel': 8.98, 'Harbhajan Singh': 7.56, 'Harpreet Brar': 9.6, 'I Sharma': 7.33, 'IS Sodhi': 6.66, 'Imran Tahir': 7.2, 'J Suchith': 7.0, 'J Yadav': 7.0, 'JC Archer': 7.23, 'JD Unadkat': 9.86, 'JJ Bumrah': 6.52, 'JP Behrendorff': 8.53, 'JP Duminy': 12.0, 'JPR Scantlebury-Searles': 12.29, 'K Gowtham': 7.87, 'K Khejroliya': 9.29, 'K Rabada': 7.56, 'KC Cariappa': 16.5, 'KH Pandya': 7.06, 'KK Ahmed': 8.22, 'KM Asif': 12.17, 'KMA Paul': 7.43, 'KV Sharma': 9.81, 'Kuldeep Yadav': 8.21, 'L Ngidi': 5.73, 'LE Plunkett': 8.84, 'LH Ferguson': 10.47, 'LS Livingstone': 13.0, 'M Ashwin': 7.24, 'M Markande': 8.44, 'M Prasidh Krishna': 9.01, 'MA Wood': 12.0, 'MG Johnson': 9.95, 'MJ McClenaghan': 7.71, 'MJ Santner': 5.64, 'MK Lomror': 9.0, 'MK Tiwary': 7.0, 'MM Ali': 6.89, 'MM Sharma': 10.38, 'MP Stoinis': 9.47, 'Mandeep Singh': 13.0, 'Mohammad Nabi': 7.05, 'Mohammed Shami': 8.89, 'Mohammed Siraj': 8.5, 'Mujeeb Ur Rahman': 7.58, 'Mustafizur Rahman': 8.25, 'N Rana': 7.97, 'Navdeep Saini': 7.79, 'O Thomas': 7.5, 'P Negi': 9.76}\n",
      "{'A Dananjaya': 11.5, 'A Mishra': 6.83, 'AD Russell': 9.25, 'AJ Tye': 8.44, 'AR Patel': 7.52, 'AS Joseph': 9.69, 'AS Rajpoot': 8.35, 'AS Roy': 4.0, 'Abhishek Sharma': 9.5, 'Ankit Sharma': 11.0, 'Anureet Singh': 10.5, 'Arshdeep Singh': 10.4, 'Avesh Khan': 10.41, 'B Kumar': 7.5, 'B Laughlin': 9.62, 'B Stanlake': 7.88, 'BA Stokes': 8.79, 'BB Sran': 9.96, 'BCJ Cutting': 10.11, 'Basil Thampi': 10.01, 'C de Grandhomme': 8.6, 'CH Morris': 9.19, 'CJ Anderson': 12.69, 'CJ Dala': 11.0, 'CJ Jordan': 7.5, 'CR Brathwaite': 8.88, 'CR Woakes': 9.93, 'CV Varun': 11.67, 'DJ Bravo': 8.69, 'DJ Hooda': 8.6, 'DJ Willey': 9.4, 'DJM Short': 6.33, 'DL Chahar': 7.02, 'DS Kulkarni': 9.21, 'DT Christian': 8.54, 'DW Steyn': 8.62, 'GC Viljoen': 9.13, 'GH Vihari': 9.0, 'GJ Maxwell': 8.12, 'HF Gurney': 8.52, 'HH Pandya': 8.64, 'HV Patel': 8.98, 'Harbhajan Singh': 7.56, 'Harpreet Brar': 9.6, 'I Sharma': 7.33, 'IS Sodhi': 6.66, 'Imran Tahir': 7.2, 'J Suchith': 7.0, 'J Yadav': 7.0, 'JC Archer': 7.23, 'JD Unadkat': 9.86, 'JJ Bumrah': 6.52, 'JP Behrendorff': 8.53, 'JP Duminy': 12.0, 'JPR Scantlebury-Searles': 12.29, 'K Gowtham': 7.87, 'K Khejroliya': 9.29, 'K Rabada': 7.56, 'KC Cariappa': 16.5, 'KH Pandya': 7.06, 'KK Ahmed': 8.22, 'KM Asif': 12.17, 'KMA Paul': 7.43, 'KV Sharma': 9.81, 'Kuldeep Yadav': 8.21, 'L Ngidi': 5.73, 'LE Plunkett': 8.84, 'LH Ferguson': 10.47, 'LS Livingstone': 13.0, 'M Ashwin': 7.24, 'M Markande': 8.44, 'M Prasidh Krishna': 9.01, 'MA Wood': 12.0, 'MG Johnson': 9.95, 'MJ McClenaghan': 7.71, 'MJ Santner': 5.64, 'MK Lomror': 9.0, 'MK Tiwary': 7.0, 'MM Ali': 6.89, 'MM Sharma': 10.38, 'MP Stoinis': 9.47, 'Mandeep Singh': 13.0, 'Mohammad Nabi': 7.05, 'Mohammed Shami': 8.89, 'Mohammed Siraj': 8.5, 'Mujeeb Ur Rahman': 7.58, 'Mustafizur Rahman': 8.25, 'N Rana': 7.97, 'Navdeep Saini': 7.79, 'O Thomas': 7.5, 'P Negi': 9.76, 'P Ray Barman': 14.0}\n",
      "{'A Dananjaya': 11.5, 'A Mishra': 6.83, 'AD Russell': 9.25, 'AJ Tye': 8.44, 'AR Patel': 7.52, 'AS Joseph': 9.69, 'AS Rajpoot': 8.35, 'AS Roy': 4.0, 'Abhishek Sharma': 9.5, 'Ankit Sharma': 11.0, 'Anureet Singh': 10.5, 'Arshdeep Singh': 10.4, 'Avesh Khan': 10.41, 'B Kumar': 7.5, 'B Laughlin': 9.62, 'B Stanlake': 7.88, 'BA Stokes': 8.79, 'BB Sran': 9.96, 'BCJ Cutting': 10.11, 'Basil Thampi': 10.01, 'C de Grandhomme': 8.6, 'CH Morris': 9.19, 'CJ Anderson': 12.69, 'CJ Dala': 11.0, 'CJ Jordan': 7.5, 'CR Brathwaite': 8.88, 'CR Woakes': 9.93, 'CV Varun': 11.67, 'DJ Bravo': 8.69, 'DJ Hooda': 8.6, 'DJ Willey': 9.4, 'DJM Short': 6.33, 'DL Chahar': 7.02, 'DS Kulkarni': 9.21, 'DT Christian': 8.54, 'DW Steyn': 8.62, 'GC Viljoen': 9.13, 'GH Vihari': 9.0, 'GJ Maxwell': 8.12, 'HF Gurney': 8.52, 'HH Pandya': 8.64, 'HV Patel': 8.98, 'Harbhajan Singh': 7.56, 'Harpreet Brar': 9.6, 'I Sharma': 7.33, 'IS Sodhi': 6.66, 'Imran Tahir': 7.2, 'J Suchith': 7.0, 'J Yadav': 7.0, 'JC Archer': 7.23, 'JD Unadkat': 9.86, 'JJ Bumrah': 6.52, 'JP Behrendorff': 8.53, 'JP Duminy': 12.0, 'JPR Scantlebury-Searles': 12.29, 'K Gowtham': 7.87, 'K Khejroliya': 9.29, 'K Rabada': 7.56, 'KC Cariappa': 16.5, 'KH Pandya': 7.06, 'KK Ahmed': 8.22, 'KM Asif': 12.17, 'KMA Paul': 7.43, 'KV Sharma': 9.81, 'Kuldeep Yadav': 8.21, 'L Ngidi': 5.73, 'LE Plunkett': 8.84, 'LH Ferguson': 10.47, 'LS Livingstone': 13.0, 'M Ashwin': 7.24, 'M Markande': 8.44, 'M Prasidh Krishna': 9.01, 'MA Wood': 12.0, 'MG Johnson': 9.95, 'MJ McClenaghan': 7.71, 'MJ Santner': 5.64, 'MK Lomror': 9.0, 'MK Tiwary': 7.0, 'MM Ali': 6.89, 'MM Sharma': 10.38, 'MP Stoinis': 9.47, 'Mandeep Singh': 13.0, 'Mohammad Nabi': 7.05, 'Mohammed Shami': 8.89, 'Mohammed Siraj': 8.5, 'Mujeeb Ur Rahman': 7.58, 'Mustafizur Rahman': 8.25, 'N Rana': 7.97, 'Navdeep Saini': 7.79, 'O Thomas': 7.5, 'P Negi': 9.76, 'P Ray Barman': 14.0, 'PJ Sangwan': 9.5}\n",
      "{'A Dananjaya': 11.5, 'A Mishra': 6.83, 'AD Russell': 9.25, 'AJ Tye': 8.44, 'AR Patel': 7.52, 'AS Joseph': 9.69, 'AS Rajpoot': 8.35, 'AS Roy': 4.0, 'Abhishek Sharma': 9.5, 'Ankit Sharma': 11.0, 'Anureet Singh': 10.5, 'Arshdeep Singh': 10.4, 'Avesh Khan': 10.41, 'B Kumar': 7.5, 'B Laughlin': 9.62, 'B Stanlake': 7.88, 'BA Stokes': 8.79, 'BB Sran': 9.96, 'BCJ Cutting': 10.11, 'Basil Thampi': 10.01, 'C de Grandhomme': 8.6, 'CH Morris': 9.19, 'CJ Anderson': 12.69, 'CJ Dala': 11.0, 'CJ Jordan': 7.5, 'CR Brathwaite': 8.88, 'CR Woakes': 9.93, 'CV Varun': 11.67, 'DJ Bravo': 8.69, 'DJ Hooda': 8.6, 'DJ Willey': 9.4, 'DJM Short': 6.33, 'DL Chahar': 7.02, 'DS Kulkarni': 9.21, 'DT Christian': 8.54, 'DW Steyn': 8.62, 'GC Viljoen': 9.13, 'GH Vihari': 9.0, 'GJ Maxwell': 8.12, 'HF Gurney': 8.52, 'HH Pandya': 8.64, 'HV Patel': 8.98, 'Harbhajan Singh': 7.56, 'Harpreet Brar': 9.6, 'I Sharma': 7.33, 'IS Sodhi': 6.66, 'Imran Tahir': 7.2, 'J Suchith': 7.0, 'J Yadav': 7.0, 'JC Archer': 7.23, 'JD Unadkat': 9.86, 'JJ Bumrah': 6.52, 'JP Behrendorff': 8.53, 'JP Duminy': 12.0, 'JPR Scantlebury-Searles': 12.29, 'K Gowtham': 7.87, 'K Khejroliya': 9.29, 'K Rabada': 7.56, 'KC Cariappa': 16.5, 'KH Pandya': 7.06, 'KK Ahmed': 8.22, 'KM Asif': 12.17, 'KMA Paul': 7.43, 'KV Sharma': 9.81, 'Kuldeep Yadav': 8.21, 'L Ngidi': 5.73, 'LE Plunkett': 8.84, 'LH Ferguson': 10.47, 'LS Livingstone': 13.0, 'M Ashwin': 7.24, 'M Markande': 8.44, 'M Prasidh Krishna': 9.01, 'MA Wood': 12.0, 'MG Johnson': 9.95, 'MJ McClenaghan': 7.71, 'MJ Santner': 5.64, 'MK Lomror': 9.0, 'MK Tiwary': 7.0, 'MM Ali': 6.89, 'MM Sharma': 10.38, 'MP Stoinis': 9.47, 'Mandeep Singh': 13.0, 'Mohammad Nabi': 7.05, 'Mohammed Shami': 8.89, 'Mohammed Siraj': 8.5, 'Mujeeb Ur Rahman': 7.58, 'Mustafizur Rahman': 8.25, 'N Rana': 7.97, 'Navdeep Saini': 7.79, 'O Thomas': 7.5, 'P Negi': 9.76, 'P Ray Barman': 14.0, 'PJ Sangwan': 9.5, 'PP Chawla': 8.65}\n",
      "{'A Dananjaya': 11.5, 'A Mishra': 6.83, 'AD Russell': 9.25, 'AJ Tye': 8.44, 'AR Patel': 7.52, 'AS Joseph': 9.69, 'AS Rajpoot': 8.35, 'AS Roy': 4.0, 'Abhishek Sharma': 9.5, 'Ankit Sharma': 11.0, 'Anureet Singh': 10.5, 'Arshdeep Singh': 10.4, 'Avesh Khan': 10.41, 'B Kumar': 7.5, 'B Laughlin': 9.62, 'B Stanlake': 7.88, 'BA Stokes': 8.79, 'BB Sran': 9.96, 'BCJ Cutting': 10.11, 'Basil Thampi': 10.01, 'C de Grandhomme': 8.6, 'CH Morris': 9.19, 'CJ Anderson': 12.69, 'CJ Dala': 11.0, 'CJ Jordan': 7.5, 'CR Brathwaite': 8.88, 'CR Woakes': 9.93, 'CV Varun': 11.67, 'DJ Bravo': 8.69, 'DJ Hooda': 8.6, 'DJ Willey': 9.4, 'DJM Short': 6.33, 'DL Chahar': 7.02, 'DS Kulkarni': 9.21, 'DT Christian': 8.54, 'DW Steyn': 8.62, 'GC Viljoen': 9.13, 'GH Vihari': 9.0, 'GJ Maxwell': 8.12, 'HF Gurney': 8.52, 'HH Pandya': 8.64, 'HV Patel': 8.98, 'Harbhajan Singh': 7.56, 'Harpreet Brar': 9.6, 'I Sharma': 7.33, 'IS Sodhi': 6.66, 'Imran Tahir': 7.2, 'J Suchith': 7.0, 'J Yadav': 7.0, 'JC Archer': 7.23, 'JD Unadkat': 9.86, 'JJ Bumrah': 6.52, 'JP Behrendorff': 8.53, 'JP Duminy': 12.0, 'JPR Scantlebury-Searles': 12.29, 'K Gowtham': 7.87, 'K Khejroliya': 9.29, 'K Rabada': 7.56, 'KC Cariappa': 16.5, 'KH Pandya': 7.06, 'KK Ahmed': 8.22, 'KM Asif': 12.17, 'KMA Paul': 7.43, 'KV Sharma': 9.81, 'Kuldeep Yadav': 8.21, 'L Ngidi': 5.73, 'LE Plunkett': 8.84, 'LH Ferguson': 10.47, 'LS Livingstone': 13.0, 'M Ashwin': 7.24, 'M Markande': 8.44, 'M Prasidh Krishna': 9.01, 'MA Wood': 12.0, 'MG Johnson': 9.95, 'MJ McClenaghan': 7.71, 'MJ Santner': 5.64, 'MK Lomror': 9.0, 'MK Tiwary': 7.0, 'MM Ali': 6.89, 'MM Sharma': 10.38, 'MP Stoinis': 9.47, 'Mandeep Singh': 13.0, 'Mohammad Nabi': 7.05, 'Mohammed Shami': 8.89, 'Mohammed Siraj': 8.5, 'Mujeeb Ur Rahman': 7.58, 'Mustafizur Rahman': 8.25, 'N Rana': 7.97, 'Navdeep Saini': 7.79, 'O Thomas': 7.5, 'P Negi': 9.76, 'P Ray Barman': 14.0, 'PJ Sangwan': 9.5, 'PP Chawla': 8.65, 'R Ashwin': 7.45}\n",
      "{'A Dananjaya': 11.5, 'A Mishra': 6.83, 'AD Russell': 9.25, 'AJ Tye': 8.44, 'AR Patel': 7.52, 'AS Joseph': 9.69, 'AS Rajpoot': 8.35, 'AS Roy': 4.0, 'Abhishek Sharma': 9.5, 'Ankit Sharma': 11.0, 'Anureet Singh': 10.5, 'Arshdeep Singh': 10.4, 'Avesh Khan': 10.41, 'B Kumar': 7.5, 'B Laughlin': 9.62, 'B Stanlake': 7.88, 'BA Stokes': 8.79, 'BB Sran': 9.96, 'BCJ Cutting': 10.11, 'Basil Thampi': 10.01, 'C de Grandhomme': 8.6, 'CH Morris': 9.19, 'CJ Anderson': 12.69, 'CJ Dala': 11.0, 'CJ Jordan': 7.5, 'CR Brathwaite': 8.88, 'CR Woakes': 9.93, 'CV Varun': 11.67, 'DJ Bravo': 8.69, 'DJ Hooda': 8.6, 'DJ Willey': 9.4, 'DJM Short': 6.33, 'DL Chahar': 7.02, 'DS Kulkarni': 9.21, 'DT Christian': 8.54, 'DW Steyn': 8.62, 'GC Viljoen': 9.13, 'GH Vihari': 9.0, 'GJ Maxwell': 8.12, 'HF Gurney': 8.52, 'HH Pandya': 8.64, 'HV Patel': 8.98, 'Harbhajan Singh': 7.56, 'Harpreet Brar': 9.6, 'I Sharma': 7.33, 'IS Sodhi': 6.66, 'Imran Tahir': 7.2, 'J Suchith': 7.0, 'J Yadav': 7.0, 'JC Archer': 7.23, 'JD Unadkat': 9.86, 'JJ Bumrah': 6.52, 'JP Behrendorff': 8.53, 'JP Duminy': 12.0, 'JPR Scantlebury-Searles': 12.29, 'K Gowtham': 7.87, 'K Khejroliya': 9.29, 'K Rabada': 7.56, 'KC Cariappa': 16.5, 'KH Pandya': 7.06, 'KK Ahmed': 8.22, 'KM Asif': 12.17, 'KMA Paul': 7.43, 'KV Sharma': 9.81, 'Kuldeep Yadav': 8.21, 'L Ngidi': 5.73, 'LE Plunkett': 8.84, 'LH Ferguson': 10.47, 'LS Livingstone': 13.0, 'M Ashwin': 7.24, 'M Markande': 8.44, 'M Prasidh Krishna': 9.01, 'MA Wood': 12.0, 'MG Johnson': 9.95, 'MJ McClenaghan': 7.71, 'MJ Santner': 5.64, 'MK Lomror': 9.0, 'MK Tiwary': 7.0, 'MM Ali': 6.89, 'MM Sharma': 10.38, 'MP Stoinis': 9.47, 'Mandeep Singh': 13.0, 'Mohammad Nabi': 7.05, 'Mohammed Shami': 8.89, 'Mohammed Siraj': 8.5, 'Mujeeb Ur Rahman': 7.58, 'Mustafizur Rahman': 8.25, 'N Rana': 7.97, 'Navdeep Saini': 7.79, 'O Thomas': 7.5, 'P Negi': 9.76, 'P Ray Barman': 14.0, 'PJ Sangwan': 9.5, 'PP Chawla': 8.65, 'R Ashwin': 7.45, 'R Parag': 8.64}\n",
      "{'A Dananjaya': 11.5, 'A Mishra': 6.83, 'AD Russell': 9.25, 'AJ Tye': 8.44, 'AR Patel': 7.52, 'AS Joseph': 9.69, 'AS Rajpoot': 8.35, 'AS Roy': 4.0, 'Abhishek Sharma': 9.5, 'Ankit Sharma': 11.0, 'Anureet Singh': 10.5, 'Arshdeep Singh': 10.4, 'Avesh Khan': 10.41, 'B Kumar': 7.5, 'B Laughlin': 9.62, 'B Stanlake': 7.88, 'BA Stokes': 8.79, 'BB Sran': 9.96, 'BCJ Cutting': 10.11, 'Basil Thampi': 10.01, 'C de Grandhomme': 8.6, 'CH Morris': 9.19, 'CJ Anderson': 12.69, 'CJ Dala': 11.0, 'CJ Jordan': 7.5, 'CR Brathwaite': 8.88, 'CR Woakes': 9.93, 'CV Varun': 11.67, 'DJ Bravo': 8.69, 'DJ Hooda': 8.6, 'DJ Willey': 9.4, 'DJM Short': 6.33, 'DL Chahar': 7.02, 'DS Kulkarni': 9.21, 'DT Christian': 8.54, 'DW Steyn': 8.62, 'GC Viljoen': 9.13, 'GH Vihari': 9.0, 'GJ Maxwell': 8.12, 'HF Gurney': 8.52, 'HH Pandya': 8.64, 'HV Patel': 8.98, 'Harbhajan Singh': 7.56, 'Harpreet Brar': 9.6, 'I Sharma': 7.33, 'IS Sodhi': 6.66, 'Imran Tahir': 7.2, 'J Suchith': 7.0, 'J Yadav': 7.0, 'JC Archer': 7.23, 'JD Unadkat': 9.86, 'JJ Bumrah': 6.52, 'JP Behrendorff': 8.53, 'JP Duminy': 12.0, 'JPR Scantlebury-Searles': 12.29, 'K Gowtham': 7.87, 'K Khejroliya': 9.29, 'K Rabada': 7.56, 'KC Cariappa': 16.5, 'KH Pandya': 7.06, 'KK Ahmed': 8.22, 'KM Asif': 12.17, 'KMA Paul': 7.43, 'KV Sharma': 9.81, 'Kuldeep Yadav': 8.21, 'L Ngidi': 5.73, 'LE Plunkett': 8.84, 'LH Ferguson': 10.47, 'LS Livingstone': 13.0, 'M Ashwin': 7.24, 'M Markande': 8.44, 'M Prasidh Krishna': 9.01, 'MA Wood': 12.0, 'MG Johnson': 9.95, 'MJ McClenaghan': 7.71, 'MJ Santner': 5.64, 'MK Lomror': 9.0, 'MK Tiwary': 7.0, 'MM Ali': 6.89, 'MM Sharma': 10.38, 'MP Stoinis': 9.47, 'Mandeep Singh': 13.0, 'Mohammad Nabi': 7.05, 'Mohammed Shami': 8.89, 'Mohammed Siraj': 8.5, 'Mujeeb Ur Rahman': 7.58, 'Mustafizur Rahman': 8.25, 'N Rana': 7.97, 'Navdeep Saini': 7.79, 'O Thomas': 7.5, 'P Negi': 9.76, 'P Ray Barman': 14.0, 'PJ Sangwan': 9.5, 'PP Chawla': 8.65, 'R Ashwin': 7.45, 'R Parag': 8.64, 'R Tewatia': 7.48}\n",
      "{'A Dananjaya': 11.5, 'A Mishra': 6.83, 'AD Russell': 9.25, 'AJ Tye': 8.44, 'AR Patel': 7.52, 'AS Joseph': 9.69, 'AS Rajpoot': 8.35, 'AS Roy': 4.0, 'Abhishek Sharma': 9.5, 'Ankit Sharma': 11.0, 'Anureet Singh': 10.5, 'Arshdeep Singh': 10.4, 'Avesh Khan': 10.41, 'B Kumar': 7.5, 'B Laughlin': 9.62, 'B Stanlake': 7.88, 'BA Stokes': 8.79, 'BB Sran': 9.96, 'BCJ Cutting': 10.11, 'Basil Thampi': 10.01, 'C de Grandhomme': 8.6, 'CH Morris': 9.19, 'CJ Anderson': 12.69, 'CJ Dala': 11.0, 'CJ Jordan': 7.5, 'CR Brathwaite': 8.88, 'CR Woakes': 9.93, 'CV Varun': 11.67, 'DJ Bravo': 8.69, 'DJ Hooda': 8.6, 'DJ Willey': 9.4, 'DJM Short': 6.33, 'DL Chahar': 7.02, 'DS Kulkarni': 9.21, 'DT Christian': 8.54, 'DW Steyn': 8.62, 'GC Viljoen': 9.13, 'GH Vihari': 9.0, 'GJ Maxwell': 8.12, 'HF Gurney': 8.52, 'HH Pandya': 8.64, 'HV Patel': 8.98, 'Harbhajan Singh': 7.56, 'Harpreet Brar': 9.6, 'I Sharma': 7.33, 'IS Sodhi': 6.66, 'Imran Tahir': 7.2, 'J Suchith': 7.0, 'J Yadav': 7.0, 'JC Archer': 7.23, 'JD Unadkat': 9.86, 'JJ Bumrah': 6.52, 'JP Behrendorff': 8.53, 'JP Duminy': 12.0, 'JPR Scantlebury-Searles': 12.29, 'K Gowtham': 7.87, 'K Khejroliya': 9.29, 'K Rabada': 7.56, 'KC Cariappa': 16.5, 'KH Pandya': 7.06, 'KK Ahmed': 8.22, 'KM Asif': 12.17, 'KMA Paul': 7.43, 'KV Sharma': 9.81, 'Kuldeep Yadav': 8.21, 'L Ngidi': 5.73, 'LE Plunkett': 8.84, 'LH Ferguson': 10.47, 'LS Livingstone': 13.0, 'M Ashwin': 7.24, 'M Markande': 8.44, 'M Prasidh Krishna': 9.01, 'MA Wood': 12.0, 'MG Johnson': 9.95, 'MJ McClenaghan': 7.71, 'MJ Santner': 5.64, 'MK Lomror': 9.0, 'MK Tiwary': 7.0, 'MM Ali': 6.89, 'MM Sharma': 10.38, 'MP Stoinis': 9.47, 'Mandeep Singh': 13.0, 'Mohammad Nabi': 7.05, 'Mohammed Shami': 8.89, 'Mohammed Siraj': 8.5, 'Mujeeb Ur Rahman': 7.58, 'Mustafizur Rahman': 8.25, 'N Rana': 7.97, 'Navdeep Saini': 7.79, 'O Thomas': 7.5, 'P Negi': 9.76, 'P Ray Barman': 14.0, 'PJ Sangwan': 9.5, 'PP Chawla': 8.65, 'R Ashwin': 7.45, 'R Parag': 8.64, 'R Tewatia': 7.48, 'R Vinay Kumar': 14.88}\n",
      "{'A Dananjaya': 11.5, 'A Mishra': 6.83, 'AD Russell': 9.25, 'AJ Tye': 8.44, 'AR Patel': 7.52, 'AS Joseph': 9.69, 'AS Rajpoot': 8.35, 'AS Roy': 4.0, 'Abhishek Sharma': 9.5, 'Ankit Sharma': 11.0, 'Anureet Singh': 10.5, 'Arshdeep Singh': 10.4, 'Avesh Khan': 10.41, 'B Kumar': 7.5, 'B Laughlin': 9.62, 'B Stanlake': 7.88, 'BA Stokes': 8.79, 'BB Sran': 9.96, 'BCJ Cutting': 10.11, 'Basil Thampi': 10.01, 'C de Grandhomme': 8.6, 'CH Morris': 9.19, 'CJ Anderson': 12.69, 'CJ Dala': 11.0, 'CJ Jordan': 7.5, 'CR Brathwaite': 8.88, 'CR Woakes': 9.93, 'CV Varun': 11.67, 'DJ Bravo': 8.69, 'DJ Hooda': 8.6, 'DJ Willey': 9.4, 'DJM Short': 6.33, 'DL Chahar': 7.02, 'DS Kulkarni': 9.21, 'DT Christian': 8.54, 'DW Steyn': 8.62, 'GC Viljoen': 9.13, 'GH Vihari': 9.0, 'GJ Maxwell': 8.12, 'HF Gurney': 8.52, 'HH Pandya': 8.64, 'HV Patel': 8.98, 'Harbhajan Singh': 7.56, 'Harpreet Brar': 9.6, 'I Sharma': 7.33, 'IS Sodhi': 6.66, 'Imran Tahir': 7.2, 'J Suchith': 7.0, 'J Yadav': 7.0, 'JC Archer': 7.23, 'JD Unadkat': 9.86, 'JJ Bumrah': 6.52, 'JP Behrendorff': 8.53, 'JP Duminy': 12.0, 'JPR Scantlebury-Searles': 12.29, 'K Gowtham': 7.87, 'K Khejroliya': 9.29, 'K Rabada': 7.56, 'KC Cariappa': 16.5, 'KH Pandya': 7.06, 'KK Ahmed': 8.22, 'KM Asif': 12.17, 'KMA Paul': 7.43, 'KV Sharma': 9.81, 'Kuldeep Yadav': 8.21, 'L Ngidi': 5.73, 'LE Plunkett': 8.84, 'LH Ferguson': 10.47, 'LS Livingstone': 13.0, 'M Ashwin': 7.24, 'M Markande': 8.44, 'M Prasidh Krishna': 9.01, 'MA Wood': 12.0, 'MG Johnson': 9.95, 'MJ McClenaghan': 7.71, 'MJ Santner': 5.64, 'MK Lomror': 9.0, 'MK Tiwary': 7.0, 'MM Ali': 6.89, 'MM Sharma': 10.38, 'MP Stoinis': 9.47, 'Mandeep Singh': 13.0, 'Mohammad Nabi': 7.05, 'Mohammed Shami': 8.89, 'Mohammed Siraj': 8.5, 'Mujeeb Ur Rahman': 7.58, 'Mustafizur Rahman': 8.25, 'N Rana': 7.97, 'Navdeep Saini': 7.79, 'O Thomas': 7.5, 'P Negi': 9.76, 'P Ray Barman': 14.0, 'PJ Sangwan': 9.5, 'PP Chawla': 8.65, 'R Ashwin': 7.45, 'R Parag': 8.64, 'R Tewatia': 7.48, 'R Vinay Kumar': 14.88, 'RA Jadeja': 6.69}\n",
      "{'A Dananjaya': 11.5, 'A Mishra': 6.83, 'AD Russell': 9.25, 'AJ Tye': 8.44, 'AR Patel': 7.52, 'AS Joseph': 9.69, 'AS Rajpoot': 8.35, 'AS Roy': 4.0, 'Abhishek Sharma': 9.5, 'Ankit Sharma': 11.0, 'Anureet Singh': 10.5, 'Arshdeep Singh': 10.4, 'Avesh Khan': 10.41, 'B Kumar': 7.5, 'B Laughlin': 9.62, 'B Stanlake': 7.88, 'BA Stokes': 8.79, 'BB Sran': 9.96, 'BCJ Cutting': 10.11, 'Basil Thampi': 10.01, 'C de Grandhomme': 8.6, 'CH Morris': 9.19, 'CJ Anderson': 12.69, 'CJ Dala': 11.0, 'CJ Jordan': 7.5, 'CR Brathwaite': 8.88, 'CR Woakes': 9.93, 'CV Varun': 11.67, 'DJ Bravo': 8.69, 'DJ Hooda': 8.6, 'DJ Willey': 9.4, 'DJM Short': 6.33, 'DL Chahar': 7.02, 'DS Kulkarni': 9.21, 'DT Christian': 8.54, 'DW Steyn': 8.62, 'GC Viljoen': 9.13, 'GH Vihari': 9.0, 'GJ Maxwell': 8.12, 'HF Gurney': 8.52, 'HH Pandya': 8.64, 'HV Patel': 8.98, 'Harbhajan Singh': 7.56, 'Harpreet Brar': 9.6, 'I Sharma': 7.33, 'IS Sodhi': 6.66, 'Imran Tahir': 7.2, 'J Suchith': 7.0, 'J Yadav': 7.0, 'JC Archer': 7.23, 'JD Unadkat': 9.86, 'JJ Bumrah': 6.52, 'JP Behrendorff': 8.53, 'JP Duminy': 12.0, 'JPR Scantlebury-Searles': 12.29, 'K Gowtham': 7.87, 'K Khejroliya': 9.29, 'K Rabada': 7.56, 'KC Cariappa': 16.5, 'KH Pandya': 7.06, 'KK Ahmed': 8.22, 'KM Asif': 12.17, 'KMA Paul': 7.43, 'KV Sharma': 9.81, 'Kuldeep Yadav': 8.21, 'L Ngidi': 5.73, 'LE Plunkett': 8.84, 'LH Ferguson': 10.47, 'LS Livingstone': 13.0, 'M Ashwin': 7.24, 'M Markande': 8.44, 'M Prasidh Krishna': 9.01, 'MA Wood': 12.0, 'MG Johnson': 9.95, 'MJ McClenaghan': 7.71, 'MJ Santner': 5.64, 'MK Lomror': 9.0, 'MK Tiwary': 7.0, 'MM Ali': 6.89, 'MM Sharma': 10.38, 'MP Stoinis': 9.47, 'Mandeep Singh': 13.0, 'Mohammad Nabi': 7.05, 'Mohammed Shami': 8.89, 'Mohammed Siraj': 8.5, 'Mujeeb Ur Rahman': 7.58, 'Mustafizur Rahman': 8.25, 'N Rana': 7.97, 'Navdeep Saini': 7.79, 'O Thomas': 7.5, 'P Negi': 9.76, 'P Ray Barman': 14.0, 'PJ Sangwan': 9.5, 'PP Chawla': 8.65, 'R Ashwin': 7.45, 'R Parag': 8.64, 'R Tewatia': 7.48, 'R Vinay Kumar': 14.88, 'RA Jadeja': 6.69, 'RD Chahar': 6.45}\n",
      "{'A Dananjaya': 11.5, 'A Mishra': 6.83, 'AD Russell': 9.25, 'AJ Tye': 8.44, 'AR Patel': 7.52, 'AS Joseph': 9.69, 'AS Rajpoot': 8.35, 'AS Roy': 4.0, 'Abhishek Sharma': 9.5, 'Ankit Sharma': 11.0, 'Anureet Singh': 10.5, 'Arshdeep Singh': 10.4, 'Avesh Khan': 10.41, 'B Kumar': 7.5, 'B Laughlin': 9.62, 'B Stanlake': 7.88, 'BA Stokes': 8.79, 'BB Sran': 9.96, 'BCJ Cutting': 10.11, 'Basil Thampi': 10.01, 'C de Grandhomme': 8.6, 'CH Morris': 9.19, 'CJ Anderson': 12.69, 'CJ Dala': 11.0, 'CJ Jordan': 7.5, 'CR Brathwaite': 8.88, 'CR Woakes': 9.93, 'CV Varun': 11.67, 'DJ Bravo': 8.69, 'DJ Hooda': 8.6, 'DJ Willey': 9.4, 'DJM Short': 6.33, 'DL Chahar': 7.02, 'DS Kulkarni': 9.21, 'DT Christian': 8.54, 'DW Steyn': 8.62, 'GC Viljoen': 9.13, 'GH Vihari': 9.0, 'GJ Maxwell': 8.12, 'HF Gurney': 8.52, 'HH Pandya': 8.64, 'HV Patel': 8.98, 'Harbhajan Singh': 7.56, 'Harpreet Brar': 9.6, 'I Sharma': 7.33, 'IS Sodhi': 6.66, 'Imran Tahir': 7.2, 'J Suchith': 7.0, 'J Yadav': 7.0, 'JC Archer': 7.23, 'JD Unadkat': 9.86, 'JJ Bumrah': 6.52, 'JP Behrendorff': 8.53, 'JP Duminy': 12.0, 'JPR Scantlebury-Searles': 12.29, 'K Gowtham': 7.87, 'K Khejroliya': 9.29, 'K Rabada': 7.56, 'KC Cariappa': 16.5, 'KH Pandya': 7.06, 'KK Ahmed': 8.22, 'KM Asif': 12.17, 'KMA Paul': 7.43, 'KV Sharma': 9.81, 'Kuldeep Yadav': 8.21, 'L Ngidi': 5.73, 'LE Plunkett': 8.84, 'LH Ferguson': 10.47, 'LS Livingstone': 13.0, 'M Ashwin': 7.24, 'M Markande': 8.44, 'M Prasidh Krishna': 9.01, 'MA Wood': 12.0, 'MG Johnson': 9.95, 'MJ McClenaghan': 7.71, 'MJ Santner': 5.64, 'MK Lomror': 9.0, 'MK Tiwary': 7.0, 'MM Ali': 6.89, 'MM Sharma': 10.38, 'MP Stoinis': 9.47, 'Mandeep Singh': 13.0, 'Mohammad Nabi': 7.05, 'Mohammed Shami': 8.89, 'Mohammed Siraj': 8.5, 'Mujeeb Ur Rahman': 7.58, 'Mustafizur Rahman': 8.25, 'N Rana': 7.97, 'Navdeep Saini': 7.79, 'O Thomas': 7.5, 'P Negi': 9.76, 'P Ray Barman': 14.0, 'PJ Sangwan': 9.5, 'PP Chawla': 8.65, 'R Ashwin': 7.45, 'R Parag': 8.64, 'R Tewatia': 7.48, 'R Vinay Kumar': 14.88, 'RA Jadeja': 6.69, 'RD Chahar': 6.45, 'Rashid Khan': 6.5}\n",
      "{'A Dananjaya': 11.5, 'A Mishra': 6.83, 'AD Russell': 9.25, 'AJ Tye': 8.44, 'AR Patel': 7.52, 'AS Joseph': 9.69, 'AS Rajpoot': 8.35, 'AS Roy': 4.0, 'Abhishek Sharma': 9.5, 'Ankit Sharma': 11.0, 'Anureet Singh': 10.5, 'Arshdeep Singh': 10.4, 'Avesh Khan': 10.41, 'B Kumar': 7.5, 'B Laughlin': 9.62, 'B Stanlake': 7.88, 'BA Stokes': 8.79, 'BB Sran': 9.96, 'BCJ Cutting': 10.11, 'Basil Thampi': 10.01, 'C de Grandhomme': 8.6, 'CH Morris': 9.19, 'CJ Anderson': 12.69, 'CJ Dala': 11.0, 'CJ Jordan': 7.5, 'CR Brathwaite': 8.88, 'CR Woakes': 9.93, 'CV Varun': 11.67, 'DJ Bravo': 8.69, 'DJ Hooda': 8.6, 'DJ Willey': 9.4, 'DJM Short': 6.33, 'DL Chahar': 7.02, 'DS Kulkarni': 9.21, 'DT Christian': 8.54, 'DW Steyn': 8.62, 'GC Viljoen': 9.13, 'GH Vihari': 9.0, 'GJ Maxwell': 8.12, 'HF Gurney': 8.52, 'HH Pandya': 8.64, 'HV Patel': 8.98, 'Harbhajan Singh': 7.56, 'Harpreet Brar': 9.6, 'I Sharma': 7.33, 'IS Sodhi': 6.66, 'Imran Tahir': 7.2, 'J Suchith': 7.0, 'J Yadav': 7.0, 'JC Archer': 7.23, 'JD Unadkat': 9.86, 'JJ Bumrah': 6.52, 'JP Behrendorff': 8.53, 'JP Duminy': 12.0, 'JPR Scantlebury-Searles': 12.29, 'K Gowtham': 7.87, 'K Khejroliya': 9.29, 'K Rabada': 7.56, 'KC Cariappa': 16.5, 'KH Pandya': 7.06, 'KK Ahmed': 8.22, 'KM Asif': 12.17, 'KMA Paul': 7.43, 'KV Sharma': 9.81, 'Kuldeep Yadav': 8.21, 'L Ngidi': 5.73, 'LE Plunkett': 8.84, 'LH Ferguson': 10.47, 'LS Livingstone': 13.0, 'M Ashwin': 7.24, 'M Markande': 8.44, 'M Prasidh Krishna': 9.01, 'MA Wood': 12.0, 'MG Johnson': 9.95, 'MJ McClenaghan': 7.71, 'MJ Santner': 5.64, 'MK Lomror': 9.0, 'MK Tiwary': 7.0, 'MM Ali': 6.89, 'MM Sharma': 10.38, 'MP Stoinis': 9.47, 'Mandeep Singh': 13.0, 'Mohammad Nabi': 7.05, 'Mohammed Shami': 8.89, 'Mohammed Siraj': 8.5, 'Mujeeb Ur Rahman': 7.58, 'Mustafizur Rahman': 8.25, 'N Rana': 7.97, 'Navdeep Saini': 7.79, 'O Thomas': 7.5, 'P Negi': 9.76, 'P Ray Barman': 14.0, 'PJ Sangwan': 9.5, 'PP Chawla': 8.65, 'R Ashwin': 7.45, 'R Parag': 8.64, 'R Tewatia': 7.48, 'R Vinay Kumar': 14.88, 'RA Jadeja': 6.69, 'RD Chahar': 6.45, 'Rashid Khan': 6.5, 'Rasikh Salam': 9.25}\n",
      "{'A Dananjaya': 11.5, 'A Mishra': 6.83, 'AD Russell': 9.25, 'AJ Tye': 8.44, 'AR Patel': 7.52, 'AS Joseph': 9.69, 'AS Rajpoot': 8.35, 'AS Roy': 4.0, 'Abhishek Sharma': 9.5, 'Ankit Sharma': 11.0, 'Anureet Singh': 10.5, 'Arshdeep Singh': 10.4, 'Avesh Khan': 10.41, 'B Kumar': 7.5, 'B Laughlin': 9.62, 'B Stanlake': 7.88, 'BA Stokes': 8.79, 'BB Sran': 9.96, 'BCJ Cutting': 10.11, 'Basil Thampi': 10.01, 'C de Grandhomme': 8.6, 'CH Morris': 9.19, 'CJ Anderson': 12.69, 'CJ Dala': 11.0, 'CJ Jordan': 7.5, 'CR Brathwaite': 8.88, 'CR Woakes': 9.93, 'CV Varun': 11.67, 'DJ Bravo': 8.69, 'DJ Hooda': 8.6, 'DJ Willey': 9.4, 'DJM Short': 6.33, 'DL Chahar': 7.02, 'DS Kulkarni': 9.21, 'DT Christian': 8.54, 'DW Steyn': 8.62, 'GC Viljoen': 9.13, 'GH Vihari': 9.0, 'GJ Maxwell': 8.12, 'HF Gurney': 8.52, 'HH Pandya': 8.64, 'HV Patel': 8.98, 'Harbhajan Singh': 7.56, 'Harpreet Brar': 9.6, 'I Sharma': 7.33, 'IS Sodhi': 6.66, 'Imran Tahir': 7.2, 'J Suchith': 7.0, 'J Yadav': 7.0, 'JC Archer': 7.23, 'JD Unadkat': 9.86, 'JJ Bumrah': 6.52, 'JP Behrendorff': 8.53, 'JP Duminy': 12.0, 'JPR Scantlebury-Searles': 12.29, 'K Gowtham': 7.87, 'K Khejroliya': 9.29, 'K Rabada': 7.56, 'KC Cariappa': 16.5, 'KH Pandya': 7.06, 'KK Ahmed': 8.22, 'KM Asif': 12.17, 'KMA Paul': 7.43, 'KV Sharma': 9.81, 'Kuldeep Yadav': 8.21, 'L Ngidi': 5.73, 'LE Plunkett': 8.84, 'LH Ferguson': 10.47, 'LS Livingstone': 13.0, 'M Ashwin': 7.24, 'M Markande': 8.44, 'M Prasidh Krishna': 9.01, 'MA Wood': 12.0, 'MG Johnson': 9.95, 'MJ McClenaghan': 7.71, 'MJ Santner': 5.64, 'MK Lomror': 9.0, 'MK Tiwary': 7.0, 'MM Ali': 6.89, 'MM Sharma': 10.38, 'MP Stoinis': 9.47, 'Mandeep Singh': 13.0, 'Mohammad Nabi': 7.05, 'Mohammed Shami': 8.89, 'Mohammed Siraj': 8.5, 'Mujeeb Ur Rahman': 7.58, 'Mustafizur Rahman': 8.25, 'N Rana': 7.97, 'Navdeep Saini': 7.79, 'O Thomas': 7.5, 'P Negi': 9.76, 'P Ray Barman': 14.0, 'PJ Sangwan': 9.5, 'PP Chawla': 8.65, 'R Ashwin': 7.45, 'R Parag': 8.64, 'R Tewatia': 7.48, 'R Vinay Kumar': 14.88, 'RA Jadeja': 6.69, 'RD Chahar': 6.45, 'Rashid Khan': 6.5, 'Rasikh Salam': 9.25, 'S Dube': 4.19}\n",
      "{'A Dananjaya': 11.5, 'A Mishra': 6.83, 'AD Russell': 9.25, 'AJ Tye': 8.44, 'AR Patel': 7.52, 'AS Joseph': 9.69, 'AS Rajpoot': 8.35, 'AS Roy': 4.0, 'Abhishek Sharma': 9.5, 'Ankit Sharma': 11.0, 'Anureet Singh': 10.5, 'Arshdeep Singh': 10.4, 'Avesh Khan': 10.41, 'B Kumar': 7.5, 'B Laughlin': 9.62, 'B Stanlake': 7.88, 'BA Stokes': 8.79, 'BB Sran': 9.96, 'BCJ Cutting': 10.11, 'Basil Thampi': 10.01, 'C de Grandhomme': 8.6, 'CH Morris': 9.19, 'CJ Anderson': 12.69, 'CJ Dala': 11.0, 'CJ Jordan': 7.5, 'CR Brathwaite': 8.88, 'CR Woakes': 9.93, 'CV Varun': 11.67, 'DJ Bravo': 8.69, 'DJ Hooda': 8.6, 'DJ Willey': 9.4, 'DJM Short': 6.33, 'DL Chahar': 7.02, 'DS Kulkarni': 9.21, 'DT Christian': 8.54, 'DW Steyn': 8.62, 'GC Viljoen': 9.13, 'GH Vihari': 9.0, 'GJ Maxwell': 8.12, 'HF Gurney': 8.52, 'HH Pandya': 8.64, 'HV Patel': 8.98, 'Harbhajan Singh': 7.56, 'Harpreet Brar': 9.6, 'I Sharma': 7.33, 'IS Sodhi': 6.66, 'Imran Tahir': 7.2, 'J Suchith': 7.0, 'J Yadav': 7.0, 'JC Archer': 7.23, 'JD Unadkat': 9.86, 'JJ Bumrah': 6.52, 'JP Behrendorff': 8.53, 'JP Duminy': 12.0, 'JPR Scantlebury-Searles': 12.29, 'K Gowtham': 7.87, 'K Khejroliya': 9.29, 'K Rabada': 7.56, 'KC Cariappa': 16.5, 'KH Pandya': 7.06, 'KK Ahmed': 8.22, 'KM Asif': 12.17, 'KMA Paul': 7.43, 'KV Sharma': 9.81, 'Kuldeep Yadav': 8.21, 'L Ngidi': 5.73, 'LE Plunkett': 8.84, 'LH Ferguson': 10.47, 'LS Livingstone': 13.0, 'M Ashwin': 7.24, 'M Markande': 8.44, 'M Prasidh Krishna': 9.01, 'MA Wood': 12.0, 'MG Johnson': 9.95, 'MJ McClenaghan': 7.71, 'MJ Santner': 5.64, 'MK Lomror': 9.0, 'MK Tiwary': 7.0, 'MM Ali': 6.89, 'MM Sharma': 10.38, 'MP Stoinis': 9.47, 'Mandeep Singh': 13.0, 'Mohammad Nabi': 7.05, 'Mohammed Shami': 8.89, 'Mohammed Siraj': 8.5, 'Mujeeb Ur Rahman': 7.58, 'Mustafizur Rahman': 8.25, 'N Rana': 7.97, 'Navdeep Saini': 7.79, 'O Thomas': 7.5, 'P Negi': 9.76, 'P Ray Barman': 14.0, 'PJ Sangwan': 9.5, 'PP Chawla': 8.65, 'R Ashwin': 7.45, 'R Parag': 8.64, 'R Tewatia': 7.48, 'R Vinay Kumar': 14.88, 'RA Jadeja': 6.69, 'RD Chahar': 6.45, 'Rashid Khan': 6.5, 'Rasikh Salam': 9.25, 'S Dube': 4.19, 'S Gopal': 7.29}\n",
      "{'A Dananjaya': 11.5, 'A Mishra': 6.83, 'AD Russell': 9.25, 'AJ Tye': 8.44, 'AR Patel': 7.52, 'AS Joseph': 9.69, 'AS Rajpoot': 8.35, 'AS Roy': 4.0, 'Abhishek Sharma': 9.5, 'Ankit Sharma': 11.0, 'Anureet Singh': 10.5, 'Arshdeep Singh': 10.4, 'Avesh Khan': 10.41, 'B Kumar': 7.5, 'B Laughlin': 9.62, 'B Stanlake': 7.88, 'BA Stokes': 8.79, 'BB Sran': 9.96, 'BCJ Cutting': 10.11, 'Basil Thampi': 10.01, 'C de Grandhomme': 8.6, 'CH Morris': 9.19, 'CJ Anderson': 12.69, 'CJ Dala': 11.0, 'CJ Jordan': 7.5, 'CR Brathwaite': 8.88, 'CR Woakes': 9.93, 'CV Varun': 11.67, 'DJ Bravo': 8.69, 'DJ Hooda': 8.6, 'DJ Willey': 9.4, 'DJM Short': 6.33, 'DL Chahar': 7.02, 'DS Kulkarni': 9.21, 'DT Christian': 8.54, 'DW Steyn': 8.62, 'GC Viljoen': 9.13, 'GH Vihari': 9.0, 'GJ Maxwell': 8.12, 'HF Gurney': 8.52, 'HH Pandya': 8.64, 'HV Patel': 8.98, 'Harbhajan Singh': 7.56, 'Harpreet Brar': 9.6, 'I Sharma': 7.33, 'IS Sodhi': 6.66, 'Imran Tahir': 7.2, 'J Suchith': 7.0, 'J Yadav': 7.0, 'JC Archer': 7.23, 'JD Unadkat': 9.86, 'JJ Bumrah': 6.52, 'JP Behrendorff': 8.53, 'JP Duminy': 12.0, 'JPR Scantlebury-Searles': 12.29, 'K Gowtham': 7.87, 'K Khejroliya': 9.29, 'K Rabada': 7.56, 'KC Cariappa': 16.5, 'KH Pandya': 7.06, 'KK Ahmed': 8.22, 'KM Asif': 12.17, 'KMA Paul': 7.43, 'KV Sharma': 9.81, 'Kuldeep Yadav': 8.21, 'L Ngidi': 5.73, 'LE Plunkett': 8.84, 'LH Ferguson': 10.47, 'LS Livingstone': 13.0, 'M Ashwin': 7.24, 'M Markande': 8.44, 'M Prasidh Krishna': 9.01, 'MA Wood': 12.0, 'MG Johnson': 9.95, 'MJ McClenaghan': 7.71, 'MJ Santner': 5.64, 'MK Lomror': 9.0, 'MK Tiwary': 7.0, 'MM Ali': 6.89, 'MM Sharma': 10.38, 'MP Stoinis': 9.47, 'Mandeep Singh': 13.0, 'Mohammad Nabi': 7.05, 'Mohammed Shami': 8.89, 'Mohammed Siraj': 8.5, 'Mujeeb Ur Rahman': 7.58, 'Mustafizur Rahman': 8.25, 'N Rana': 7.97, 'Navdeep Saini': 7.79, 'O Thomas': 7.5, 'P Negi': 9.76, 'P Ray Barman': 14.0, 'PJ Sangwan': 9.5, 'PP Chawla': 8.65, 'R Ashwin': 7.45, 'R Parag': 8.64, 'R Tewatia': 7.48, 'R Vinay Kumar': 14.88, 'RA Jadeja': 6.69, 'RD Chahar': 6.45, 'Rashid Khan': 6.5, 'Rasikh Salam': 9.25, 'S Dube': 4.19, 'S Gopal': 7.29, 'S Kaul': 8.33}\n",
      "{'A Dananjaya': 11.5, 'A Mishra': 6.83, 'AD Russell': 9.25, 'AJ Tye': 8.44, 'AR Patel': 7.52, 'AS Joseph': 9.69, 'AS Rajpoot': 8.35, 'AS Roy': 4.0, 'Abhishek Sharma': 9.5, 'Ankit Sharma': 11.0, 'Anureet Singh': 10.5, 'Arshdeep Singh': 10.4, 'Avesh Khan': 10.41, 'B Kumar': 7.5, 'B Laughlin': 9.62, 'B Stanlake': 7.88, 'BA Stokes': 8.79, 'BB Sran': 9.96, 'BCJ Cutting': 10.11, 'Basil Thampi': 10.01, 'C de Grandhomme': 8.6, 'CH Morris': 9.19, 'CJ Anderson': 12.69, 'CJ Dala': 11.0, 'CJ Jordan': 7.5, 'CR Brathwaite': 8.88, 'CR Woakes': 9.93, 'CV Varun': 11.67, 'DJ Bravo': 8.69, 'DJ Hooda': 8.6, 'DJ Willey': 9.4, 'DJM Short': 6.33, 'DL Chahar': 7.02, 'DS Kulkarni': 9.21, 'DT Christian': 8.54, 'DW Steyn': 8.62, 'GC Viljoen': 9.13, 'GH Vihari': 9.0, 'GJ Maxwell': 8.12, 'HF Gurney': 8.52, 'HH Pandya': 8.64, 'HV Patel': 8.98, 'Harbhajan Singh': 7.56, 'Harpreet Brar': 9.6, 'I Sharma': 7.33, 'IS Sodhi': 6.66, 'Imran Tahir': 7.2, 'J Suchith': 7.0, 'J Yadav': 7.0, 'JC Archer': 7.23, 'JD Unadkat': 9.86, 'JJ Bumrah': 6.52, 'JP Behrendorff': 8.53, 'JP Duminy': 12.0, 'JPR Scantlebury-Searles': 12.29, 'K Gowtham': 7.87, 'K Khejroliya': 9.29, 'K Rabada': 7.56, 'KC Cariappa': 16.5, 'KH Pandya': 7.06, 'KK Ahmed': 8.22, 'KM Asif': 12.17, 'KMA Paul': 7.43, 'KV Sharma': 9.81, 'Kuldeep Yadav': 8.21, 'L Ngidi': 5.73, 'LE Plunkett': 8.84, 'LH Ferguson': 10.47, 'LS Livingstone': 13.0, 'M Ashwin': 7.24, 'M Markande': 8.44, 'M Prasidh Krishna': 9.01, 'MA Wood': 12.0, 'MG Johnson': 9.95, 'MJ McClenaghan': 7.71, 'MJ Santner': 5.64, 'MK Lomror': 9.0, 'MK Tiwary': 7.0, 'MM Ali': 6.89, 'MM Sharma': 10.38, 'MP Stoinis': 9.47, 'Mandeep Singh': 13.0, 'Mohammad Nabi': 7.05, 'Mohammed Shami': 8.89, 'Mohammed Siraj': 8.5, 'Mujeeb Ur Rahman': 7.58, 'Mustafizur Rahman': 8.25, 'N Rana': 7.97, 'Navdeep Saini': 7.79, 'O Thomas': 7.5, 'P Negi': 9.76, 'P Ray Barman': 14.0, 'PJ Sangwan': 9.5, 'PP Chawla': 8.65, 'R Ashwin': 7.45, 'R Parag': 8.64, 'R Tewatia': 7.48, 'R Vinay Kumar': 14.88, 'RA Jadeja': 6.69, 'RD Chahar': 6.45, 'Rashid Khan': 6.5, 'Rasikh Salam': 9.25, 'S Dube': 4.19, 'S Gopal': 7.29, 'S Kaul': 8.33, 'S Lamichhane': 8.31}\n",
      "{'A Dananjaya': 11.5, 'A Mishra': 6.83, 'AD Russell': 9.25, 'AJ Tye': 8.44, 'AR Patel': 7.52, 'AS Joseph': 9.69, 'AS Rajpoot': 8.35, 'AS Roy': 4.0, 'Abhishek Sharma': 9.5, 'Ankit Sharma': 11.0, 'Anureet Singh': 10.5, 'Arshdeep Singh': 10.4, 'Avesh Khan': 10.41, 'B Kumar': 7.5, 'B Laughlin': 9.62, 'B Stanlake': 7.88, 'BA Stokes': 8.79, 'BB Sran': 9.96, 'BCJ Cutting': 10.11, 'Basil Thampi': 10.01, 'C de Grandhomme': 8.6, 'CH Morris': 9.19, 'CJ Anderson': 12.69, 'CJ Dala': 11.0, 'CJ Jordan': 7.5, 'CR Brathwaite': 8.88, 'CR Woakes': 9.93, 'CV Varun': 11.67, 'DJ Bravo': 8.69, 'DJ Hooda': 8.6, 'DJ Willey': 9.4, 'DJM Short': 6.33, 'DL Chahar': 7.02, 'DS Kulkarni': 9.21, 'DT Christian': 8.54, 'DW Steyn': 8.62, 'GC Viljoen': 9.13, 'GH Vihari': 9.0, 'GJ Maxwell': 8.12, 'HF Gurney': 8.52, 'HH Pandya': 8.64, 'HV Patel': 8.98, 'Harbhajan Singh': 7.56, 'Harpreet Brar': 9.6, 'I Sharma': 7.33, 'IS Sodhi': 6.66, 'Imran Tahir': 7.2, 'J Suchith': 7.0, 'J Yadav': 7.0, 'JC Archer': 7.23, 'JD Unadkat': 9.86, 'JJ Bumrah': 6.52, 'JP Behrendorff': 8.53, 'JP Duminy': 12.0, 'JPR Scantlebury-Searles': 12.29, 'K Gowtham': 7.87, 'K Khejroliya': 9.29, 'K Rabada': 7.56, 'KC Cariappa': 16.5, 'KH Pandya': 7.06, 'KK Ahmed': 8.22, 'KM Asif': 12.17, 'KMA Paul': 7.43, 'KV Sharma': 9.81, 'Kuldeep Yadav': 8.21, 'L Ngidi': 5.73, 'LE Plunkett': 8.84, 'LH Ferguson': 10.47, 'LS Livingstone': 13.0, 'M Ashwin': 7.24, 'M Markande': 8.44, 'M Prasidh Krishna': 9.01, 'MA Wood': 12.0, 'MG Johnson': 9.95, 'MJ McClenaghan': 7.71, 'MJ Santner': 5.64, 'MK Lomror': 9.0, 'MK Tiwary': 7.0, 'MM Ali': 6.89, 'MM Sharma': 10.38, 'MP Stoinis': 9.47, 'Mandeep Singh': 13.0, 'Mohammad Nabi': 7.05, 'Mohammed Shami': 8.89, 'Mohammed Siraj': 8.5, 'Mujeeb Ur Rahman': 7.58, 'Mustafizur Rahman': 8.25, 'N Rana': 7.97, 'Navdeep Saini': 7.79, 'O Thomas': 7.5, 'P Negi': 9.76, 'P Ray Barman': 14.0, 'PJ Sangwan': 9.5, 'PP Chawla': 8.65, 'R Ashwin': 7.45, 'R Parag': 8.64, 'R Tewatia': 7.48, 'R Vinay Kumar': 14.88, 'RA Jadeja': 6.69, 'RD Chahar': 6.45, 'Rashid Khan': 6.5, 'Rasikh Salam': 9.25, 'S Dube': 4.19, 'S Gopal': 7.29, 'S Kaul': 8.33, 'S Lamichhane': 8.31, 'S Midhun': 13.0}\n",
      "{'A Dananjaya': 11.5, 'A Mishra': 6.83, 'AD Russell': 9.25, 'AJ Tye': 8.44, 'AR Patel': 7.52, 'AS Joseph': 9.69, 'AS Rajpoot': 8.35, 'AS Roy': 4.0, 'Abhishek Sharma': 9.5, 'Ankit Sharma': 11.0, 'Anureet Singh': 10.5, 'Arshdeep Singh': 10.4, 'Avesh Khan': 10.41, 'B Kumar': 7.5, 'B Laughlin': 9.62, 'B Stanlake': 7.88, 'BA Stokes': 8.79, 'BB Sran': 9.96, 'BCJ Cutting': 10.11, 'Basil Thampi': 10.01, 'C de Grandhomme': 8.6, 'CH Morris': 9.19, 'CJ Anderson': 12.69, 'CJ Dala': 11.0, 'CJ Jordan': 7.5, 'CR Brathwaite': 8.88, 'CR Woakes': 9.93, 'CV Varun': 11.67, 'DJ Bravo': 8.69, 'DJ Hooda': 8.6, 'DJ Willey': 9.4, 'DJM Short': 6.33, 'DL Chahar': 7.02, 'DS Kulkarni': 9.21, 'DT Christian': 8.54, 'DW Steyn': 8.62, 'GC Viljoen': 9.13, 'GH Vihari': 9.0, 'GJ Maxwell': 8.12, 'HF Gurney': 8.52, 'HH Pandya': 8.64, 'HV Patel': 8.98, 'Harbhajan Singh': 7.56, 'Harpreet Brar': 9.6, 'I Sharma': 7.33, 'IS Sodhi': 6.66, 'Imran Tahir': 7.2, 'J Suchith': 7.0, 'J Yadav': 7.0, 'JC Archer': 7.23, 'JD Unadkat': 9.86, 'JJ Bumrah': 6.52, 'JP Behrendorff': 8.53, 'JP Duminy': 12.0, 'JPR Scantlebury-Searles': 12.29, 'K Gowtham': 7.87, 'K Khejroliya': 9.29, 'K Rabada': 7.56, 'KC Cariappa': 16.5, 'KH Pandya': 7.06, 'KK Ahmed': 8.22, 'KM Asif': 12.17, 'KMA Paul': 7.43, 'KV Sharma': 9.81, 'Kuldeep Yadav': 8.21, 'L Ngidi': 5.73, 'LE Plunkett': 8.84, 'LH Ferguson': 10.47, 'LS Livingstone': 13.0, 'M Ashwin': 7.24, 'M Markande': 8.44, 'M Prasidh Krishna': 9.01, 'MA Wood': 12.0, 'MG Johnson': 9.95, 'MJ McClenaghan': 7.71, 'MJ Santner': 5.64, 'MK Lomror': 9.0, 'MK Tiwary': 7.0, 'MM Ali': 6.89, 'MM Sharma': 10.38, 'MP Stoinis': 9.47, 'Mandeep Singh': 13.0, 'Mohammad Nabi': 7.05, 'Mohammed Shami': 8.89, 'Mohammed Siraj': 8.5, 'Mujeeb Ur Rahman': 7.58, 'Mustafizur Rahman': 8.25, 'N Rana': 7.97, 'Navdeep Saini': 7.79, 'O Thomas': 7.5, 'P Negi': 9.76, 'P Ray Barman': 14.0, 'PJ Sangwan': 9.5, 'PP Chawla': 8.65, 'R Ashwin': 7.45, 'R Parag': 8.64, 'R Tewatia': 7.48, 'R Vinay Kumar': 14.88, 'RA Jadeja': 6.69, 'RD Chahar': 6.45, 'Rashid Khan': 6.5, 'Rasikh Salam': 9.25, 'S Dube': 4.19, 'S Gopal': 7.29, 'S Kaul': 8.33, 'S Lamichhane': 8.31, 'S Midhun': 13.0, 'S Nadeem': 10.38}\n",
      "{'A Dananjaya': 11.5, 'A Mishra': 6.83, 'AD Russell': 9.25, 'AJ Tye': 8.44, 'AR Patel': 7.52, 'AS Joseph': 9.69, 'AS Rajpoot': 8.35, 'AS Roy': 4.0, 'Abhishek Sharma': 9.5, 'Ankit Sharma': 11.0, 'Anureet Singh': 10.5, 'Arshdeep Singh': 10.4, 'Avesh Khan': 10.41, 'B Kumar': 7.5, 'B Laughlin': 9.62, 'B Stanlake': 7.88, 'BA Stokes': 8.79, 'BB Sran': 9.96, 'BCJ Cutting': 10.11, 'Basil Thampi': 10.01, 'C de Grandhomme': 8.6, 'CH Morris': 9.19, 'CJ Anderson': 12.69, 'CJ Dala': 11.0, 'CJ Jordan': 7.5, 'CR Brathwaite': 8.88, 'CR Woakes': 9.93, 'CV Varun': 11.67, 'DJ Bravo': 8.69, 'DJ Hooda': 8.6, 'DJ Willey': 9.4, 'DJM Short': 6.33, 'DL Chahar': 7.02, 'DS Kulkarni': 9.21, 'DT Christian': 8.54, 'DW Steyn': 8.62, 'GC Viljoen': 9.13, 'GH Vihari': 9.0, 'GJ Maxwell': 8.12, 'HF Gurney': 8.52, 'HH Pandya': 8.64, 'HV Patel': 8.98, 'Harbhajan Singh': 7.56, 'Harpreet Brar': 9.6, 'I Sharma': 7.33, 'IS Sodhi': 6.66, 'Imran Tahir': 7.2, 'J Suchith': 7.0, 'J Yadav': 7.0, 'JC Archer': 7.23, 'JD Unadkat': 9.86, 'JJ Bumrah': 6.52, 'JP Behrendorff': 8.53, 'JP Duminy': 12.0, 'JPR Scantlebury-Searles': 12.29, 'K Gowtham': 7.87, 'K Khejroliya': 9.29, 'K Rabada': 7.56, 'KC Cariappa': 16.5, 'KH Pandya': 7.06, 'KK Ahmed': 8.22, 'KM Asif': 12.17, 'KMA Paul': 7.43, 'KV Sharma': 9.81, 'Kuldeep Yadav': 8.21, 'L Ngidi': 5.73, 'LE Plunkett': 8.84, 'LH Ferguson': 10.47, 'LS Livingstone': 13.0, 'M Ashwin': 7.24, 'M Markande': 8.44, 'M Prasidh Krishna': 9.01, 'MA Wood': 12.0, 'MG Johnson': 9.95, 'MJ McClenaghan': 7.71, 'MJ Santner': 5.64, 'MK Lomror': 9.0, 'MK Tiwary': 7.0, 'MM Ali': 6.89, 'MM Sharma': 10.38, 'MP Stoinis': 9.47, 'Mandeep Singh': 13.0, 'Mohammad Nabi': 7.05, 'Mohammed Shami': 8.89, 'Mohammed Siraj': 8.5, 'Mujeeb Ur Rahman': 7.58, 'Mustafizur Rahman': 8.25, 'N Rana': 7.97, 'Navdeep Saini': 7.79, 'O Thomas': 7.5, 'P Negi': 9.76, 'P Ray Barman': 14.0, 'PJ Sangwan': 9.5, 'PP Chawla': 8.65, 'R Ashwin': 7.45, 'R Parag': 8.64, 'R Tewatia': 7.48, 'R Vinay Kumar': 14.88, 'RA Jadeja': 6.69, 'RD Chahar': 6.45, 'Rashid Khan': 6.5, 'Rasikh Salam': 9.25, 'S Dube': 4.19, 'S Gopal': 7.29, 'S Kaul': 8.33, 'S Lamichhane': 8.31, 'S Midhun': 13.0, 'S Nadeem': 10.38, 'S Sandeep Warrier': 7.0}\n",
      "{'A Dananjaya': 11.5, 'A Mishra': 6.83, 'AD Russell': 9.25, 'AJ Tye': 8.44, 'AR Patel': 7.52, 'AS Joseph': 9.69, 'AS Rajpoot': 8.35, 'AS Roy': 4.0, 'Abhishek Sharma': 9.5, 'Ankit Sharma': 11.0, 'Anureet Singh': 10.5, 'Arshdeep Singh': 10.4, 'Avesh Khan': 10.41, 'B Kumar': 7.5, 'B Laughlin': 9.62, 'B Stanlake': 7.88, 'BA Stokes': 8.79, 'BB Sran': 9.96, 'BCJ Cutting': 10.11, 'Basil Thampi': 10.01, 'C de Grandhomme': 8.6, 'CH Morris': 9.19, 'CJ Anderson': 12.69, 'CJ Dala': 11.0, 'CJ Jordan': 7.5, 'CR Brathwaite': 8.88, 'CR Woakes': 9.93, 'CV Varun': 11.67, 'DJ Bravo': 8.69, 'DJ Hooda': 8.6, 'DJ Willey': 9.4, 'DJM Short': 6.33, 'DL Chahar': 7.02, 'DS Kulkarni': 9.21, 'DT Christian': 8.54, 'DW Steyn': 8.62, 'GC Viljoen': 9.13, 'GH Vihari': 9.0, 'GJ Maxwell': 8.12, 'HF Gurney': 8.52, 'HH Pandya': 8.64, 'HV Patel': 8.98, 'Harbhajan Singh': 7.56, 'Harpreet Brar': 9.6, 'I Sharma': 7.33, 'IS Sodhi': 6.66, 'Imran Tahir': 7.2, 'J Suchith': 7.0, 'J Yadav': 7.0, 'JC Archer': 7.23, 'JD Unadkat': 9.86, 'JJ Bumrah': 6.52, 'JP Behrendorff': 8.53, 'JP Duminy': 12.0, 'JPR Scantlebury-Searles': 12.29, 'K Gowtham': 7.87, 'K Khejroliya': 9.29, 'K Rabada': 7.56, 'KC Cariappa': 16.5, 'KH Pandya': 7.06, 'KK Ahmed': 8.22, 'KM Asif': 12.17, 'KMA Paul': 7.43, 'KV Sharma': 9.81, 'Kuldeep Yadav': 8.21, 'L Ngidi': 5.73, 'LE Plunkett': 8.84, 'LH Ferguson': 10.47, 'LS Livingstone': 13.0, 'M Ashwin': 7.24, 'M Markande': 8.44, 'M Prasidh Krishna': 9.01, 'MA Wood': 12.0, 'MG Johnson': 9.95, 'MJ McClenaghan': 7.71, 'MJ Santner': 5.64, 'MK Lomror': 9.0, 'MK Tiwary': 7.0, 'MM Ali': 6.89, 'MM Sharma': 10.38, 'MP Stoinis': 9.47, 'Mandeep Singh': 13.0, 'Mohammad Nabi': 7.05, 'Mohammed Shami': 8.89, 'Mohammed Siraj': 8.5, 'Mujeeb Ur Rahman': 7.58, 'Mustafizur Rahman': 8.25, 'N Rana': 7.97, 'Navdeep Saini': 7.79, 'O Thomas': 7.5, 'P Negi': 9.76, 'P Ray Barman': 14.0, 'PJ Sangwan': 9.5, 'PP Chawla': 8.65, 'R Ashwin': 7.45, 'R Parag': 8.64, 'R Tewatia': 7.48, 'R Vinay Kumar': 14.88, 'RA Jadeja': 6.69, 'RD Chahar': 6.45, 'Rashid Khan': 6.5, 'Rasikh Salam': 9.25, 'S Dube': 4.19, 'S Gopal': 7.29, 'S Kaul': 8.33, 'S Lamichhane': 8.31, 'S Midhun': 13.0, 'S Nadeem': 10.38, 'S Sandeep Warrier': 7.0, 'SC Kuggeleijn': 8.62}\n",
      "{'A Dananjaya': 11.5, 'A Mishra': 6.83, 'AD Russell': 9.25, 'AJ Tye': 8.44, 'AR Patel': 7.52, 'AS Joseph': 9.69, 'AS Rajpoot': 8.35, 'AS Roy': 4.0, 'Abhishek Sharma': 9.5, 'Ankit Sharma': 11.0, 'Anureet Singh': 10.5, 'Arshdeep Singh': 10.4, 'Avesh Khan': 10.41, 'B Kumar': 7.5, 'B Laughlin': 9.62, 'B Stanlake': 7.88, 'BA Stokes': 8.79, 'BB Sran': 9.96, 'BCJ Cutting': 10.11, 'Basil Thampi': 10.01, 'C de Grandhomme': 8.6, 'CH Morris': 9.19, 'CJ Anderson': 12.69, 'CJ Dala': 11.0, 'CJ Jordan': 7.5, 'CR Brathwaite': 8.88, 'CR Woakes': 9.93, 'CV Varun': 11.67, 'DJ Bravo': 8.69, 'DJ Hooda': 8.6, 'DJ Willey': 9.4, 'DJM Short': 6.33, 'DL Chahar': 7.02, 'DS Kulkarni': 9.21, 'DT Christian': 8.54, 'DW Steyn': 8.62, 'GC Viljoen': 9.13, 'GH Vihari': 9.0, 'GJ Maxwell': 8.12, 'HF Gurney': 8.52, 'HH Pandya': 8.64, 'HV Patel': 8.98, 'Harbhajan Singh': 7.56, 'Harpreet Brar': 9.6, 'I Sharma': 7.33, 'IS Sodhi': 6.66, 'Imran Tahir': 7.2, 'J Suchith': 7.0, 'J Yadav': 7.0, 'JC Archer': 7.23, 'JD Unadkat': 9.86, 'JJ Bumrah': 6.52, 'JP Behrendorff': 8.53, 'JP Duminy': 12.0, 'JPR Scantlebury-Searles': 12.29, 'K Gowtham': 7.87, 'K Khejroliya': 9.29, 'K Rabada': 7.56, 'KC Cariappa': 16.5, 'KH Pandya': 7.06, 'KK Ahmed': 8.22, 'KM Asif': 12.17, 'KMA Paul': 7.43, 'KV Sharma': 9.81, 'Kuldeep Yadav': 8.21, 'L Ngidi': 5.73, 'LE Plunkett': 8.84, 'LH Ferguson': 10.47, 'LS Livingstone': 13.0, 'M Ashwin': 7.24, 'M Markande': 8.44, 'M Prasidh Krishna': 9.01, 'MA Wood': 12.0, 'MG Johnson': 9.95, 'MJ McClenaghan': 7.71, 'MJ Santner': 5.64, 'MK Lomror': 9.0, 'MK Tiwary': 7.0, 'MM Ali': 6.89, 'MM Sharma': 10.38, 'MP Stoinis': 9.47, 'Mandeep Singh': 13.0, 'Mohammad Nabi': 7.05, 'Mohammed Shami': 8.89, 'Mohammed Siraj': 8.5, 'Mujeeb Ur Rahman': 7.58, 'Mustafizur Rahman': 8.25, 'N Rana': 7.97, 'Navdeep Saini': 7.79, 'O Thomas': 7.5, 'P Negi': 9.76, 'P Ray Barman': 14.0, 'PJ Sangwan': 9.5, 'PP Chawla': 8.65, 'R Ashwin': 7.45, 'R Parag': 8.64, 'R Tewatia': 7.48, 'R Vinay Kumar': 14.88, 'RA Jadeja': 6.69, 'RD Chahar': 6.45, 'Rashid Khan': 6.5, 'Rasikh Salam': 9.25, 'S Dube': 4.19, 'S Gopal': 7.29, 'S Kaul': 8.33, 'S Lamichhane': 8.31, 'S Midhun': 13.0, 'S Nadeem': 10.38, 'S Sandeep Warrier': 7.0, 'SC Kuggeleijn': 8.62, 'SE Rutherford': 7.91}\n",
      "{'A Dananjaya': 11.5, 'A Mishra': 6.83, 'AD Russell': 9.25, 'AJ Tye': 8.44, 'AR Patel': 7.52, 'AS Joseph': 9.69, 'AS Rajpoot': 8.35, 'AS Roy': 4.0, 'Abhishek Sharma': 9.5, 'Ankit Sharma': 11.0, 'Anureet Singh': 10.5, 'Arshdeep Singh': 10.4, 'Avesh Khan': 10.41, 'B Kumar': 7.5, 'B Laughlin': 9.62, 'B Stanlake': 7.88, 'BA Stokes': 8.79, 'BB Sran': 9.96, 'BCJ Cutting': 10.11, 'Basil Thampi': 10.01, 'C de Grandhomme': 8.6, 'CH Morris': 9.19, 'CJ Anderson': 12.69, 'CJ Dala': 11.0, 'CJ Jordan': 7.5, 'CR Brathwaite': 8.88, 'CR Woakes': 9.93, 'CV Varun': 11.67, 'DJ Bravo': 8.69, 'DJ Hooda': 8.6, 'DJ Willey': 9.4, 'DJM Short': 6.33, 'DL Chahar': 7.02, 'DS Kulkarni': 9.21, 'DT Christian': 8.54, 'DW Steyn': 8.62, 'GC Viljoen': 9.13, 'GH Vihari': 9.0, 'GJ Maxwell': 8.12, 'HF Gurney': 8.52, 'HH Pandya': 8.64, 'HV Patel': 8.98, 'Harbhajan Singh': 7.56, 'Harpreet Brar': 9.6, 'I Sharma': 7.33, 'IS Sodhi': 6.66, 'Imran Tahir': 7.2, 'J Suchith': 7.0, 'J Yadav': 7.0, 'JC Archer': 7.23, 'JD Unadkat': 9.86, 'JJ Bumrah': 6.52, 'JP Behrendorff': 8.53, 'JP Duminy': 12.0, 'JPR Scantlebury-Searles': 12.29, 'K Gowtham': 7.87, 'K Khejroliya': 9.29, 'K Rabada': 7.56, 'KC Cariappa': 16.5, 'KH Pandya': 7.06, 'KK Ahmed': 8.22, 'KM Asif': 12.17, 'KMA Paul': 7.43, 'KV Sharma': 9.81, 'Kuldeep Yadav': 8.21, 'L Ngidi': 5.73, 'LE Plunkett': 8.84, 'LH Ferguson': 10.47, 'LS Livingstone': 13.0, 'M Ashwin': 7.24, 'M Markande': 8.44, 'M Prasidh Krishna': 9.01, 'MA Wood': 12.0, 'MG Johnson': 9.95, 'MJ McClenaghan': 7.71, 'MJ Santner': 5.64, 'MK Lomror': 9.0, 'MK Tiwary': 7.0, 'MM Ali': 6.89, 'MM Sharma': 10.38, 'MP Stoinis': 9.47, 'Mandeep Singh': 13.0, 'Mohammad Nabi': 7.05, 'Mohammed Shami': 8.89, 'Mohammed Siraj': 8.5, 'Mujeeb Ur Rahman': 7.58, 'Mustafizur Rahman': 8.25, 'N Rana': 7.97, 'Navdeep Saini': 7.79, 'O Thomas': 7.5, 'P Negi': 9.76, 'P Ray Barman': 14.0, 'PJ Sangwan': 9.5, 'PP Chawla': 8.65, 'R Ashwin': 7.45, 'R Parag': 8.64, 'R Tewatia': 7.48, 'R Vinay Kumar': 14.88, 'RA Jadeja': 6.69, 'RD Chahar': 6.45, 'Rashid Khan': 6.5, 'Rasikh Salam': 9.25, 'S Dube': 4.19, 'S Gopal': 7.29, 'S Kaul': 8.33, 'S Lamichhane': 8.31, 'S Midhun': 13.0, 'S Nadeem': 10.38, 'S Sandeep Warrier': 7.0, 'SC Kuggeleijn': 8.62, 'SE Rutherford': 7.91, 'SK Raina': 6.0}\n",
      "{'A Dananjaya': 11.5, 'A Mishra': 6.83, 'AD Russell': 9.25, 'AJ Tye': 8.44, 'AR Patel': 7.52, 'AS Joseph': 9.69, 'AS Rajpoot': 8.35, 'AS Roy': 4.0, 'Abhishek Sharma': 9.5, 'Ankit Sharma': 11.0, 'Anureet Singh': 10.5, 'Arshdeep Singh': 10.4, 'Avesh Khan': 10.41, 'B Kumar': 7.5, 'B Laughlin': 9.62, 'B Stanlake': 7.88, 'BA Stokes': 8.79, 'BB Sran': 9.96, 'BCJ Cutting': 10.11, 'Basil Thampi': 10.01, 'C de Grandhomme': 8.6, 'CH Morris': 9.19, 'CJ Anderson': 12.69, 'CJ Dala': 11.0, 'CJ Jordan': 7.5, 'CR Brathwaite': 8.88, 'CR Woakes': 9.93, 'CV Varun': 11.67, 'DJ Bravo': 8.69, 'DJ Hooda': 8.6, 'DJ Willey': 9.4, 'DJM Short': 6.33, 'DL Chahar': 7.02, 'DS Kulkarni': 9.21, 'DT Christian': 8.54, 'DW Steyn': 8.62, 'GC Viljoen': 9.13, 'GH Vihari': 9.0, 'GJ Maxwell': 8.12, 'HF Gurney': 8.52, 'HH Pandya': 8.64, 'HV Patel': 8.98, 'Harbhajan Singh': 7.56, 'Harpreet Brar': 9.6, 'I Sharma': 7.33, 'IS Sodhi': 6.66, 'Imran Tahir': 7.2, 'J Suchith': 7.0, 'J Yadav': 7.0, 'JC Archer': 7.23, 'JD Unadkat': 9.86, 'JJ Bumrah': 6.52, 'JP Behrendorff': 8.53, 'JP Duminy': 12.0, 'JPR Scantlebury-Searles': 12.29, 'K Gowtham': 7.87, 'K Khejroliya': 9.29, 'K Rabada': 7.56, 'KC Cariappa': 16.5, 'KH Pandya': 7.06, 'KK Ahmed': 8.22, 'KM Asif': 12.17, 'KMA Paul': 7.43, 'KV Sharma': 9.81, 'Kuldeep Yadav': 8.21, 'L Ngidi': 5.73, 'LE Plunkett': 8.84, 'LH Ferguson': 10.47, 'LS Livingstone': 13.0, 'M Ashwin': 7.24, 'M Markande': 8.44, 'M Prasidh Krishna': 9.01, 'MA Wood': 12.0, 'MG Johnson': 9.95, 'MJ McClenaghan': 7.71, 'MJ Santner': 5.64, 'MK Lomror': 9.0, 'MK Tiwary': 7.0, 'MM Ali': 6.89, 'MM Sharma': 10.38, 'MP Stoinis': 9.47, 'Mandeep Singh': 13.0, 'Mohammad Nabi': 7.05, 'Mohammed Shami': 8.89, 'Mohammed Siraj': 8.5, 'Mujeeb Ur Rahman': 7.58, 'Mustafizur Rahman': 8.25, 'N Rana': 7.97, 'Navdeep Saini': 7.79, 'O Thomas': 7.5, 'P Negi': 9.76, 'P Ray Barman': 14.0, 'PJ Sangwan': 9.5, 'PP Chawla': 8.65, 'R Ashwin': 7.45, 'R Parag': 8.64, 'R Tewatia': 7.48, 'R Vinay Kumar': 14.88, 'RA Jadeja': 6.69, 'RD Chahar': 6.45, 'Rashid Khan': 6.5, 'Rasikh Salam': 9.25, 'S Dube': 4.19, 'S Gopal': 7.29, 'S Kaul': 8.33, 'S Lamichhane': 8.31, 'S Midhun': 13.0, 'S Nadeem': 10.38, 'S Sandeep Warrier': 7.0, 'SC Kuggeleijn': 8.62, 'SE Rutherford': 7.91, 'SK Raina': 6.0, 'SL Malinga': 9.52}\n",
      "{'A Dananjaya': 11.5, 'A Mishra': 6.83, 'AD Russell': 9.25, 'AJ Tye': 8.44, 'AR Patel': 7.52, 'AS Joseph': 9.69, 'AS Rajpoot': 8.35, 'AS Roy': 4.0, 'Abhishek Sharma': 9.5, 'Ankit Sharma': 11.0, 'Anureet Singh': 10.5, 'Arshdeep Singh': 10.4, 'Avesh Khan': 10.41, 'B Kumar': 7.5, 'B Laughlin': 9.62, 'B Stanlake': 7.88, 'BA Stokes': 8.79, 'BB Sran': 9.96, 'BCJ Cutting': 10.11, 'Basil Thampi': 10.01, 'C de Grandhomme': 8.6, 'CH Morris': 9.19, 'CJ Anderson': 12.69, 'CJ Dala': 11.0, 'CJ Jordan': 7.5, 'CR Brathwaite': 8.88, 'CR Woakes': 9.93, 'CV Varun': 11.67, 'DJ Bravo': 8.69, 'DJ Hooda': 8.6, 'DJ Willey': 9.4, 'DJM Short': 6.33, 'DL Chahar': 7.02, 'DS Kulkarni': 9.21, 'DT Christian': 8.54, 'DW Steyn': 8.62, 'GC Viljoen': 9.13, 'GH Vihari': 9.0, 'GJ Maxwell': 8.12, 'HF Gurney': 8.52, 'HH Pandya': 8.64, 'HV Patel': 8.98, 'Harbhajan Singh': 7.56, 'Harpreet Brar': 9.6, 'I Sharma': 7.33, 'IS Sodhi': 6.66, 'Imran Tahir': 7.2, 'J Suchith': 7.0, 'J Yadav': 7.0, 'JC Archer': 7.23, 'JD Unadkat': 9.86, 'JJ Bumrah': 6.52, 'JP Behrendorff': 8.53, 'JP Duminy': 12.0, 'JPR Scantlebury-Searles': 12.29, 'K Gowtham': 7.87, 'K Khejroliya': 9.29, 'K Rabada': 7.56, 'KC Cariappa': 16.5, 'KH Pandya': 7.06, 'KK Ahmed': 8.22, 'KM Asif': 12.17, 'KMA Paul': 7.43, 'KV Sharma': 9.81, 'Kuldeep Yadav': 8.21, 'L Ngidi': 5.73, 'LE Plunkett': 8.84, 'LH Ferguson': 10.47, 'LS Livingstone': 13.0, 'M Ashwin': 7.24, 'M Markande': 8.44, 'M Prasidh Krishna': 9.01, 'MA Wood': 12.0, 'MG Johnson': 9.95, 'MJ McClenaghan': 7.71, 'MJ Santner': 5.64, 'MK Lomror': 9.0, 'MK Tiwary': 7.0, 'MM Ali': 6.89, 'MM Sharma': 10.38, 'MP Stoinis': 9.47, 'Mandeep Singh': 13.0, 'Mohammad Nabi': 7.05, 'Mohammed Shami': 8.89, 'Mohammed Siraj': 8.5, 'Mujeeb Ur Rahman': 7.58, 'Mustafizur Rahman': 8.25, 'N Rana': 7.97, 'Navdeep Saini': 7.79, 'O Thomas': 7.5, 'P Negi': 9.76, 'P Ray Barman': 14.0, 'PJ Sangwan': 9.5, 'PP Chawla': 8.65, 'R Ashwin': 7.45, 'R Parag': 8.64, 'R Tewatia': 7.48, 'R Vinay Kumar': 14.88, 'RA Jadeja': 6.69, 'RD Chahar': 6.45, 'Rashid Khan': 6.5, 'Rasikh Salam': 9.25, 'S Dube': 4.19, 'S Gopal': 7.29, 'S Kaul': 8.33, 'S Lamichhane': 8.31, 'S Midhun': 13.0, 'S Nadeem': 10.38, 'S Sandeep Warrier': 7.0, 'SC Kuggeleijn': 8.62, 'SE Rutherford': 7.91, 'SK Raina': 6.0, 'SL Malinga': 9.52, 'SM Curran': 9.52}\n",
      "{'A Dananjaya': 11.5, 'A Mishra': 6.83, 'AD Russell': 9.25, 'AJ Tye': 8.44, 'AR Patel': 7.52, 'AS Joseph': 9.69, 'AS Rajpoot': 8.35, 'AS Roy': 4.0, 'Abhishek Sharma': 9.5, 'Ankit Sharma': 11.0, 'Anureet Singh': 10.5, 'Arshdeep Singh': 10.4, 'Avesh Khan': 10.41, 'B Kumar': 7.5, 'B Laughlin': 9.62, 'B Stanlake': 7.88, 'BA Stokes': 8.79, 'BB Sran': 9.96, 'BCJ Cutting': 10.11, 'Basil Thampi': 10.01, 'C de Grandhomme': 8.6, 'CH Morris': 9.19, 'CJ Anderson': 12.69, 'CJ Dala': 11.0, 'CJ Jordan': 7.5, 'CR Brathwaite': 8.88, 'CR Woakes': 9.93, 'CV Varun': 11.67, 'DJ Bravo': 8.69, 'DJ Hooda': 8.6, 'DJ Willey': 9.4, 'DJM Short': 6.33, 'DL Chahar': 7.02, 'DS Kulkarni': 9.21, 'DT Christian': 8.54, 'DW Steyn': 8.62, 'GC Viljoen': 9.13, 'GH Vihari': 9.0, 'GJ Maxwell': 8.12, 'HF Gurney': 8.52, 'HH Pandya': 8.64, 'HV Patel': 8.98, 'Harbhajan Singh': 7.56, 'Harpreet Brar': 9.6, 'I Sharma': 7.33, 'IS Sodhi': 6.66, 'Imran Tahir': 7.2, 'J Suchith': 7.0, 'J Yadav': 7.0, 'JC Archer': 7.23, 'JD Unadkat': 9.86, 'JJ Bumrah': 6.52, 'JP Behrendorff': 8.53, 'JP Duminy': 12.0, 'JPR Scantlebury-Searles': 12.29, 'K Gowtham': 7.87, 'K Khejroliya': 9.29, 'K Rabada': 7.56, 'KC Cariappa': 16.5, 'KH Pandya': 7.06, 'KK Ahmed': 8.22, 'KM Asif': 12.17, 'KMA Paul': 7.43, 'KV Sharma': 9.81, 'Kuldeep Yadav': 8.21, 'L Ngidi': 5.73, 'LE Plunkett': 8.84, 'LH Ferguson': 10.47, 'LS Livingstone': 13.0, 'M Ashwin': 7.24, 'M Markande': 8.44, 'M Prasidh Krishna': 9.01, 'MA Wood': 12.0, 'MG Johnson': 9.95, 'MJ McClenaghan': 7.71, 'MJ Santner': 5.64, 'MK Lomror': 9.0, 'MK Tiwary': 7.0, 'MM Ali': 6.89, 'MM Sharma': 10.38, 'MP Stoinis': 9.47, 'Mandeep Singh': 13.0, 'Mohammad Nabi': 7.05, 'Mohammed Shami': 8.89, 'Mohammed Siraj': 8.5, 'Mujeeb Ur Rahman': 7.58, 'Mustafizur Rahman': 8.25, 'N Rana': 7.97, 'Navdeep Saini': 7.79, 'O Thomas': 7.5, 'P Negi': 9.76, 'P Ray Barman': 14.0, 'PJ Sangwan': 9.5, 'PP Chawla': 8.65, 'R Ashwin': 7.45, 'R Parag': 8.64, 'R Tewatia': 7.48, 'R Vinay Kumar': 14.88, 'RA Jadeja': 6.69, 'RD Chahar': 6.45, 'Rashid Khan': 6.5, 'Rasikh Salam': 9.25, 'S Dube': 4.19, 'S Gopal': 7.29, 'S Kaul': 8.33, 'S Lamichhane': 8.31, 'S Midhun': 13.0, 'S Nadeem': 10.38, 'S Sandeep Warrier': 7.0, 'SC Kuggeleijn': 8.62, 'SE Rutherford': 7.91, 'SK Raina': 6.0, 'SL Malinga': 9.52, 'SM Curran': 9.52, 'SN Khan': 18.18}\n",
      "{'A Dananjaya': 11.5, 'A Mishra': 6.83, 'AD Russell': 9.25, 'AJ Tye': 8.44, 'AR Patel': 7.52, 'AS Joseph': 9.69, 'AS Rajpoot': 8.35, 'AS Roy': 4.0, 'Abhishek Sharma': 9.5, 'Ankit Sharma': 11.0, 'Anureet Singh': 10.5, 'Arshdeep Singh': 10.4, 'Avesh Khan': 10.41, 'B Kumar': 7.5, 'B Laughlin': 9.62, 'B Stanlake': 7.88, 'BA Stokes': 8.79, 'BB Sran': 9.96, 'BCJ Cutting': 10.11, 'Basil Thampi': 10.01, 'C de Grandhomme': 8.6, 'CH Morris': 9.19, 'CJ Anderson': 12.69, 'CJ Dala': 11.0, 'CJ Jordan': 7.5, 'CR Brathwaite': 8.88, 'CR Woakes': 9.93, 'CV Varun': 11.67, 'DJ Bravo': 8.69, 'DJ Hooda': 8.6, 'DJ Willey': 9.4, 'DJM Short': 6.33, 'DL Chahar': 7.02, 'DS Kulkarni': 9.21, 'DT Christian': 8.54, 'DW Steyn': 8.62, 'GC Viljoen': 9.13, 'GH Vihari': 9.0, 'GJ Maxwell': 8.12, 'HF Gurney': 8.52, 'HH Pandya': 8.64, 'HV Patel': 8.98, 'Harbhajan Singh': 7.56, 'Harpreet Brar': 9.6, 'I Sharma': 7.33, 'IS Sodhi': 6.66, 'Imran Tahir': 7.2, 'J Suchith': 7.0, 'J Yadav': 7.0, 'JC Archer': 7.23, 'JD Unadkat': 9.86, 'JJ Bumrah': 6.52, 'JP Behrendorff': 8.53, 'JP Duminy': 12.0, 'JPR Scantlebury-Searles': 12.29, 'K Gowtham': 7.87, 'K Khejroliya': 9.29, 'K Rabada': 7.56, 'KC Cariappa': 16.5, 'KH Pandya': 7.06, 'KK Ahmed': 8.22, 'KM Asif': 12.17, 'KMA Paul': 7.43, 'KV Sharma': 9.81, 'Kuldeep Yadav': 8.21, 'L Ngidi': 5.73, 'LE Plunkett': 8.84, 'LH Ferguson': 10.47, 'LS Livingstone': 13.0, 'M Ashwin': 7.24, 'M Markande': 8.44, 'M Prasidh Krishna': 9.01, 'MA Wood': 12.0, 'MG Johnson': 9.95, 'MJ McClenaghan': 7.71, 'MJ Santner': 5.64, 'MK Lomror': 9.0, 'MK Tiwary': 7.0, 'MM Ali': 6.89, 'MM Sharma': 10.38, 'MP Stoinis': 9.47, 'Mandeep Singh': 13.0, 'Mohammad Nabi': 7.05, 'Mohammed Shami': 8.89, 'Mohammed Siraj': 8.5, 'Mujeeb Ur Rahman': 7.58, 'Mustafizur Rahman': 8.25, 'N Rana': 7.97, 'Navdeep Saini': 7.79, 'O Thomas': 7.5, 'P Negi': 9.76, 'P Ray Barman': 14.0, 'PJ Sangwan': 9.5, 'PP Chawla': 8.65, 'R Ashwin': 7.45, 'R Parag': 8.64, 'R Tewatia': 7.48, 'R Vinay Kumar': 14.88, 'RA Jadeja': 6.69, 'RD Chahar': 6.45, 'Rashid Khan': 6.5, 'Rasikh Salam': 9.25, 'S Dube': 4.19, 'S Gopal': 7.29, 'S Kaul': 8.33, 'S Lamichhane': 8.31, 'S Midhun': 13.0, 'S Nadeem': 10.38, 'S Sandeep Warrier': 7.0, 'SC Kuggeleijn': 8.62, 'SE Rutherford': 7.91, 'SK Raina': 6.0, 'SL Malinga': 9.52, 'SM Curran': 9.52, 'SN Khan': 18.18, 'SN Thakur': 8.96}\n",
      "{'A Dananjaya': 11.5, 'A Mishra': 6.83, 'AD Russell': 9.25, 'AJ Tye': 8.44, 'AR Patel': 7.52, 'AS Joseph': 9.69, 'AS Rajpoot': 8.35, 'AS Roy': 4.0, 'Abhishek Sharma': 9.5, 'Ankit Sharma': 11.0, 'Anureet Singh': 10.5, 'Arshdeep Singh': 10.4, 'Avesh Khan': 10.41, 'B Kumar': 7.5, 'B Laughlin': 9.62, 'B Stanlake': 7.88, 'BA Stokes': 8.79, 'BB Sran': 9.96, 'BCJ Cutting': 10.11, 'Basil Thampi': 10.01, 'C de Grandhomme': 8.6, 'CH Morris': 9.19, 'CJ Anderson': 12.69, 'CJ Dala': 11.0, 'CJ Jordan': 7.5, 'CR Brathwaite': 8.88, 'CR Woakes': 9.93, 'CV Varun': 11.67, 'DJ Bravo': 8.69, 'DJ Hooda': 8.6, 'DJ Willey': 9.4, 'DJM Short': 6.33, 'DL Chahar': 7.02, 'DS Kulkarni': 9.21, 'DT Christian': 8.54, 'DW Steyn': 8.62, 'GC Viljoen': 9.13, 'GH Vihari': 9.0, 'GJ Maxwell': 8.12, 'HF Gurney': 8.52, 'HH Pandya': 8.64, 'HV Patel': 8.98, 'Harbhajan Singh': 7.56, 'Harpreet Brar': 9.6, 'I Sharma': 7.33, 'IS Sodhi': 6.66, 'Imran Tahir': 7.2, 'J Suchith': 7.0, 'J Yadav': 7.0, 'JC Archer': 7.23, 'JD Unadkat': 9.86, 'JJ Bumrah': 6.52, 'JP Behrendorff': 8.53, 'JP Duminy': 12.0, 'JPR Scantlebury-Searles': 12.29, 'K Gowtham': 7.87, 'K Khejroliya': 9.29, 'K Rabada': 7.56, 'KC Cariappa': 16.5, 'KH Pandya': 7.06, 'KK Ahmed': 8.22, 'KM Asif': 12.17, 'KMA Paul': 7.43, 'KV Sharma': 9.81, 'Kuldeep Yadav': 8.21, 'L Ngidi': 5.73, 'LE Plunkett': 8.84, 'LH Ferguson': 10.47, 'LS Livingstone': 13.0, 'M Ashwin': 7.24, 'M Markande': 8.44, 'M Prasidh Krishna': 9.01, 'MA Wood': 12.0, 'MG Johnson': 9.95, 'MJ McClenaghan': 7.71, 'MJ Santner': 5.64, 'MK Lomror': 9.0, 'MK Tiwary': 7.0, 'MM Ali': 6.89, 'MM Sharma': 10.38, 'MP Stoinis': 9.47, 'Mandeep Singh': 13.0, 'Mohammad Nabi': 7.05, 'Mohammed Shami': 8.89, 'Mohammed Siraj': 8.5, 'Mujeeb Ur Rahman': 7.58, 'Mustafizur Rahman': 8.25, 'N Rana': 7.97, 'Navdeep Saini': 7.79, 'O Thomas': 7.5, 'P Negi': 9.76, 'P Ray Barman': 14.0, 'PJ Sangwan': 9.5, 'PP Chawla': 8.65, 'R Ashwin': 7.45, 'R Parag': 8.64, 'R Tewatia': 7.48, 'R Vinay Kumar': 14.88, 'RA Jadeja': 6.69, 'RD Chahar': 6.45, 'Rashid Khan': 6.5, 'Rasikh Salam': 9.25, 'S Dube': 4.19, 'S Gopal': 7.29, 'S Kaul': 8.33, 'S Lamichhane': 8.31, 'S Midhun': 13.0, 'S Nadeem': 10.38, 'S Sandeep Warrier': 7.0, 'SC Kuggeleijn': 8.62, 'SE Rutherford': 7.91, 'SK Raina': 6.0, 'SL Malinga': 9.52, 'SM Curran': 9.52, 'SN Khan': 18.18, 'SN Thakur': 8.96, 'SP Narine': 7.58}\n",
      "{'A Dananjaya': 11.5, 'A Mishra': 6.83, 'AD Russell': 9.25, 'AJ Tye': 8.44, 'AR Patel': 7.52, 'AS Joseph': 9.69, 'AS Rajpoot': 8.35, 'AS Roy': 4.0, 'Abhishek Sharma': 9.5, 'Ankit Sharma': 11.0, 'Anureet Singh': 10.5, 'Arshdeep Singh': 10.4, 'Avesh Khan': 10.41, 'B Kumar': 7.5, 'B Laughlin': 9.62, 'B Stanlake': 7.88, 'BA Stokes': 8.79, 'BB Sran': 9.96, 'BCJ Cutting': 10.11, 'Basil Thampi': 10.01, 'C de Grandhomme': 8.6, 'CH Morris': 9.19, 'CJ Anderson': 12.69, 'CJ Dala': 11.0, 'CJ Jordan': 7.5, 'CR Brathwaite': 8.88, 'CR Woakes': 9.93, 'CV Varun': 11.67, 'DJ Bravo': 8.69, 'DJ Hooda': 8.6, 'DJ Willey': 9.4, 'DJM Short': 6.33, 'DL Chahar': 7.02, 'DS Kulkarni': 9.21, 'DT Christian': 8.54, 'DW Steyn': 8.62, 'GC Viljoen': 9.13, 'GH Vihari': 9.0, 'GJ Maxwell': 8.12, 'HF Gurney': 8.52, 'HH Pandya': 8.64, 'HV Patel': 8.98, 'Harbhajan Singh': 7.56, 'Harpreet Brar': 9.6, 'I Sharma': 7.33, 'IS Sodhi': 6.66, 'Imran Tahir': 7.2, 'J Suchith': 7.0, 'J Yadav': 7.0, 'JC Archer': 7.23, 'JD Unadkat': 9.86, 'JJ Bumrah': 6.52, 'JP Behrendorff': 8.53, 'JP Duminy': 12.0, 'JPR Scantlebury-Searles': 12.29, 'K Gowtham': 7.87, 'K Khejroliya': 9.29, 'K Rabada': 7.56, 'KC Cariappa': 16.5, 'KH Pandya': 7.06, 'KK Ahmed': 8.22, 'KM Asif': 12.17, 'KMA Paul': 7.43, 'KV Sharma': 9.81, 'Kuldeep Yadav': 8.21, 'L Ngidi': 5.73, 'LE Plunkett': 8.84, 'LH Ferguson': 10.47, 'LS Livingstone': 13.0, 'M Ashwin': 7.24, 'M Markande': 8.44, 'M Prasidh Krishna': 9.01, 'MA Wood': 12.0, 'MG Johnson': 9.95, 'MJ McClenaghan': 7.71, 'MJ Santner': 5.64, 'MK Lomror': 9.0, 'MK Tiwary': 7.0, 'MM Ali': 6.89, 'MM Sharma': 10.38, 'MP Stoinis': 9.47, 'Mandeep Singh': 13.0, 'Mohammad Nabi': 7.05, 'Mohammed Shami': 8.89, 'Mohammed Siraj': 8.5, 'Mujeeb Ur Rahman': 7.58, 'Mustafizur Rahman': 8.25, 'N Rana': 7.97, 'Navdeep Saini': 7.79, 'O Thomas': 7.5, 'P Negi': 9.76, 'P Ray Barman': 14.0, 'PJ Sangwan': 9.5, 'PP Chawla': 8.65, 'R Ashwin': 7.45, 'R Parag': 8.64, 'R Tewatia': 7.48, 'R Vinay Kumar': 14.88, 'RA Jadeja': 6.69, 'RD Chahar': 6.45, 'Rashid Khan': 6.5, 'Rasikh Salam': 9.25, 'S Dube': 4.19, 'S Gopal': 7.29, 'S Kaul': 8.33, 'S Lamichhane': 8.31, 'S Midhun': 13.0, 'S Nadeem': 10.38, 'S Sandeep Warrier': 7.0, 'SC Kuggeleijn': 8.62, 'SE Rutherford': 7.91, 'SK Raina': 6.0, 'SL Malinga': 9.52, 'SM Curran': 9.52, 'SN Khan': 18.18, 'SN Thakur': 8.96, 'SP Narine': 7.58, 'SR Watson': 8.68}\n",
      "{'A Dananjaya': 11.5, 'A Mishra': 6.83, 'AD Russell': 9.25, 'AJ Tye': 8.44, 'AR Patel': 7.52, 'AS Joseph': 9.69, 'AS Rajpoot': 8.35, 'AS Roy': 4.0, 'Abhishek Sharma': 9.5, 'Ankit Sharma': 11.0, 'Anureet Singh': 10.5, 'Arshdeep Singh': 10.4, 'Avesh Khan': 10.41, 'B Kumar': 7.5, 'B Laughlin': 9.62, 'B Stanlake': 7.88, 'BA Stokes': 8.79, 'BB Sran': 9.96, 'BCJ Cutting': 10.11, 'Basil Thampi': 10.01, 'C de Grandhomme': 8.6, 'CH Morris': 9.19, 'CJ Anderson': 12.69, 'CJ Dala': 11.0, 'CJ Jordan': 7.5, 'CR Brathwaite': 8.88, 'CR Woakes': 9.93, 'CV Varun': 11.67, 'DJ Bravo': 8.69, 'DJ Hooda': 8.6, 'DJ Willey': 9.4, 'DJM Short': 6.33, 'DL Chahar': 7.02, 'DS Kulkarni': 9.21, 'DT Christian': 8.54, 'DW Steyn': 8.62, 'GC Viljoen': 9.13, 'GH Vihari': 9.0, 'GJ Maxwell': 8.12, 'HF Gurney': 8.52, 'HH Pandya': 8.64, 'HV Patel': 8.98, 'Harbhajan Singh': 7.56, 'Harpreet Brar': 9.6, 'I Sharma': 7.33, 'IS Sodhi': 6.66, 'Imran Tahir': 7.2, 'J Suchith': 7.0, 'J Yadav': 7.0, 'JC Archer': 7.23, 'JD Unadkat': 9.86, 'JJ Bumrah': 6.52, 'JP Behrendorff': 8.53, 'JP Duminy': 12.0, 'JPR Scantlebury-Searles': 12.29, 'K Gowtham': 7.87, 'K Khejroliya': 9.29, 'K Rabada': 7.56, 'KC Cariappa': 16.5, 'KH Pandya': 7.06, 'KK Ahmed': 8.22, 'KM Asif': 12.17, 'KMA Paul': 7.43, 'KV Sharma': 9.81, 'Kuldeep Yadav': 8.21, 'L Ngidi': 5.73, 'LE Plunkett': 8.84, 'LH Ferguson': 10.47, 'LS Livingstone': 13.0, 'M Ashwin': 7.24, 'M Markande': 8.44, 'M Prasidh Krishna': 9.01, 'MA Wood': 12.0, 'MG Johnson': 9.95, 'MJ McClenaghan': 7.71, 'MJ Santner': 5.64, 'MK Lomror': 9.0, 'MK Tiwary': 7.0, 'MM Ali': 6.89, 'MM Sharma': 10.38, 'MP Stoinis': 9.47, 'Mandeep Singh': 13.0, 'Mohammad Nabi': 7.05, 'Mohammed Shami': 8.89, 'Mohammed Siraj': 8.5, 'Mujeeb Ur Rahman': 7.58, 'Mustafizur Rahman': 8.25, 'N Rana': 7.97, 'Navdeep Saini': 7.79, 'O Thomas': 7.5, 'P Negi': 9.76, 'P Ray Barman': 14.0, 'PJ Sangwan': 9.5, 'PP Chawla': 8.65, 'R Ashwin': 7.45, 'R Parag': 8.64, 'R Tewatia': 7.48, 'R Vinay Kumar': 14.88, 'RA Jadeja': 6.69, 'RD Chahar': 6.45, 'Rashid Khan': 6.5, 'Rasikh Salam': 9.25, 'S Dube': 4.19, 'S Gopal': 7.29, 'S Kaul': 8.33, 'S Lamichhane': 8.31, 'S Midhun': 13.0, 'S Nadeem': 10.38, 'S Sandeep Warrier': 7.0, 'SC Kuggeleijn': 8.62, 'SE Rutherford': 7.91, 'SK Raina': 6.0, 'SL Malinga': 9.52, 'SM Curran': 9.52, 'SN Khan': 18.18, 'SN Thakur': 8.96, 'SP Narine': 7.58, 'SR Watson': 8.68, 'STR Binny': 8.22}\n",
      "{'A Dananjaya': 11.5, 'A Mishra': 6.83, 'AD Russell': 9.25, 'AJ Tye': 8.44, 'AR Patel': 7.52, 'AS Joseph': 9.69, 'AS Rajpoot': 8.35, 'AS Roy': 4.0, 'Abhishek Sharma': 9.5, 'Ankit Sharma': 11.0, 'Anureet Singh': 10.5, 'Arshdeep Singh': 10.4, 'Avesh Khan': 10.41, 'B Kumar': 7.5, 'B Laughlin': 9.62, 'B Stanlake': 7.88, 'BA Stokes': 8.79, 'BB Sran': 9.96, 'BCJ Cutting': 10.11, 'Basil Thampi': 10.01, 'C de Grandhomme': 8.6, 'CH Morris': 9.19, 'CJ Anderson': 12.69, 'CJ Dala': 11.0, 'CJ Jordan': 7.5, 'CR Brathwaite': 8.88, 'CR Woakes': 9.93, 'CV Varun': 11.67, 'DJ Bravo': 8.69, 'DJ Hooda': 8.6, 'DJ Willey': 9.4, 'DJM Short': 6.33, 'DL Chahar': 7.02, 'DS Kulkarni': 9.21, 'DT Christian': 8.54, 'DW Steyn': 8.62, 'GC Viljoen': 9.13, 'GH Vihari': 9.0, 'GJ Maxwell': 8.12, 'HF Gurney': 8.52, 'HH Pandya': 8.64, 'HV Patel': 8.98, 'Harbhajan Singh': 7.56, 'Harpreet Brar': 9.6, 'I Sharma': 7.33, 'IS Sodhi': 6.66, 'Imran Tahir': 7.2, 'J Suchith': 7.0, 'J Yadav': 7.0, 'JC Archer': 7.23, 'JD Unadkat': 9.86, 'JJ Bumrah': 6.52, 'JP Behrendorff': 8.53, 'JP Duminy': 12.0, 'JPR Scantlebury-Searles': 12.29, 'K Gowtham': 7.87, 'K Khejroliya': 9.29, 'K Rabada': 7.56, 'KC Cariappa': 16.5, 'KH Pandya': 7.06, 'KK Ahmed': 8.22, 'KM Asif': 12.17, 'KMA Paul': 7.43, 'KV Sharma': 9.81, 'Kuldeep Yadav': 8.21, 'L Ngidi': 5.73, 'LE Plunkett': 8.84, 'LH Ferguson': 10.47, 'LS Livingstone': 13.0, 'M Ashwin': 7.24, 'M Markande': 8.44, 'M Prasidh Krishna': 9.01, 'MA Wood': 12.0, 'MG Johnson': 9.95, 'MJ McClenaghan': 7.71, 'MJ Santner': 5.64, 'MK Lomror': 9.0, 'MK Tiwary': 7.0, 'MM Ali': 6.89, 'MM Sharma': 10.38, 'MP Stoinis': 9.47, 'Mandeep Singh': 13.0, 'Mohammad Nabi': 7.05, 'Mohammed Shami': 8.89, 'Mohammed Siraj': 8.5, 'Mujeeb Ur Rahman': 7.58, 'Mustafizur Rahman': 8.25, 'N Rana': 7.97, 'Navdeep Saini': 7.79, 'O Thomas': 7.5, 'P Negi': 9.76, 'P Ray Barman': 14.0, 'PJ Sangwan': 9.5, 'PP Chawla': 8.65, 'R Ashwin': 7.45, 'R Parag': 8.64, 'R Tewatia': 7.48, 'R Vinay Kumar': 14.88, 'RA Jadeja': 6.69, 'RD Chahar': 6.45, 'Rashid Khan': 6.5, 'Rasikh Salam': 9.25, 'S Dube': 4.19, 'S Gopal': 7.29, 'S Kaul': 8.33, 'S Lamichhane': 8.31, 'S Midhun': 13.0, 'S Nadeem': 10.38, 'S Sandeep Warrier': 7.0, 'SC Kuggeleijn': 8.62, 'SE Rutherford': 7.91, 'SK Raina': 6.0, 'SL Malinga': 9.52, 'SM Curran': 9.52, 'SN Khan': 18.18, 'SN Thakur': 8.96, 'SP Narine': 7.58, 'SR Watson': 8.68, 'STR Binny': 8.22, 'Sandeep Sharma': 7.7}\n",
      "{'A Dananjaya': 11.5, 'A Mishra': 6.83, 'AD Russell': 9.25, 'AJ Tye': 8.44, 'AR Patel': 7.52, 'AS Joseph': 9.69, 'AS Rajpoot': 8.35, 'AS Roy': 4.0, 'Abhishek Sharma': 9.5, 'Ankit Sharma': 11.0, 'Anureet Singh': 10.5, 'Arshdeep Singh': 10.4, 'Avesh Khan': 10.41, 'B Kumar': 7.5, 'B Laughlin': 9.62, 'B Stanlake': 7.88, 'BA Stokes': 8.79, 'BB Sran': 9.96, 'BCJ Cutting': 10.11, 'Basil Thampi': 10.01, 'C de Grandhomme': 8.6, 'CH Morris': 9.19, 'CJ Anderson': 12.69, 'CJ Dala': 11.0, 'CJ Jordan': 7.5, 'CR Brathwaite': 8.88, 'CR Woakes': 9.93, 'CV Varun': 11.67, 'DJ Bravo': 8.69, 'DJ Hooda': 8.6, 'DJ Willey': 9.4, 'DJM Short': 6.33, 'DL Chahar': 7.02, 'DS Kulkarni': 9.21, 'DT Christian': 8.54, 'DW Steyn': 8.62, 'GC Viljoen': 9.13, 'GH Vihari': 9.0, 'GJ Maxwell': 8.12, 'HF Gurney': 8.52, 'HH Pandya': 8.64, 'HV Patel': 8.98, 'Harbhajan Singh': 7.56, 'Harpreet Brar': 9.6, 'I Sharma': 7.33, 'IS Sodhi': 6.66, 'Imran Tahir': 7.2, 'J Suchith': 7.0, 'J Yadav': 7.0, 'JC Archer': 7.23, 'JD Unadkat': 9.86, 'JJ Bumrah': 6.52, 'JP Behrendorff': 8.53, 'JP Duminy': 12.0, 'JPR Scantlebury-Searles': 12.29, 'K Gowtham': 7.87, 'K Khejroliya': 9.29, 'K Rabada': 7.56, 'KC Cariappa': 16.5, 'KH Pandya': 7.06, 'KK Ahmed': 8.22, 'KM Asif': 12.17, 'KMA Paul': 7.43, 'KV Sharma': 9.81, 'Kuldeep Yadav': 8.21, 'L Ngidi': 5.73, 'LE Plunkett': 8.84, 'LH Ferguson': 10.47, 'LS Livingstone': 13.0, 'M Ashwin': 7.24, 'M Markande': 8.44, 'M Prasidh Krishna': 9.01, 'MA Wood': 12.0, 'MG Johnson': 9.95, 'MJ McClenaghan': 7.71, 'MJ Santner': 5.64, 'MK Lomror': 9.0, 'MK Tiwary': 7.0, 'MM Ali': 6.89, 'MM Sharma': 10.38, 'MP Stoinis': 9.47, 'Mandeep Singh': 13.0, 'Mohammad Nabi': 7.05, 'Mohammed Shami': 8.89, 'Mohammed Siraj': 8.5, 'Mujeeb Ur Rahman': 7.58, 'Mustafizur Rahman': 8.25, 'N Rana': 7.97, 'Navdeep Saini': 7.79, 'O Thomas': 7.5, 'P Negi': 9.76, 'P Ray Barman': 14.0, 'PJ Sangwan': 9.5, 'PP Chawla': 8.65, 'R Ashwin': 7.45, 'R Parag': 8.64, 'R Tewatia': 7.48, 'R Vinay Kumar': 14.88, 'RA Jadeja': 6.69, 'RD Chahar': 6.45, 'Rashid Khan': 6.5, 'Rasikh Salam': 9.25, 'S Dube': 4.19, 'S Gopal': 7.29, 'S Kaul': 8.33, 'S Lamichhane': 8.31, 'S Midhun': 13.0, 'S Nadeem': 10.38, 'S Sandeep Warrier': 7.0, 'SC Kuggeleijn': 8.62, 'SE Rutherford': 7.91, 'SK Raina': 6.0, 'SL Malinga': 9.52, 'SM Curran': 9.52, 'SN Khan': 18.18, 'SN Thakur': 8.96, 'SP Narine': 7.58, 'SR Watson': 8.68, 'STR Binny': 8.22, 'Sandeep Sharma': 7.7, 'Shakib Al Hasan': 8.03}\n",
      "{'A Dananjaya': 11.5, 'A Mishra': 6.83, 'AD Russell': 9.25, 'AJ Tye': 8.44, 'AR Patel': 7.52, 'AS Joseph': 9.69, 'AS Rajpoot': 8.35, 'AS Roy': 4.0, 'Abhishek Sharma': 9.5, 'Ankit Sharma': 11.0, 'Anureet Singh': 10.5, 'Arshdeep Singh': 10.4, 'Avesh Khan': 10.41, 'B Kumar': 7.5, 'B Laughlin': 9.62, 'B Stanlake': 7.88, 'BA Stokes': 8.79, 'BB Sran': 9.96, 'BCJ Cutting': 10.11, 'Basil Thampi': 10.01, 'C de Grandhomme': 8.6, 'CH Morris': 9.19, 'CJ Anderson': 12.69, 'CJ Dala': 11.0, 'CJ Jordan': 7.5, 'CR Brathwaite': 8.88, 'CR Woakes': 9.93, 'CV Varun': 11.67, 'DJ Bravo': 8.69, 'DJ Hooda': 8.6, 'DJ Willey': 9.4, 'DJM Short': 6.33, 'DL Chahar': 7.02, 'DS Kulkarni': 9.21, 'DT Christian': 8.54, 'DW Steyn': 8.62, 'GC Viljoen': 9.13, 'GH Vihari': 9.0, 'GJ Maxwell': 8.12, 'HF Gurney': 8.52, 'HH Pandya': 8.64, 'HV Patel': 8.98, 'Harbhajan Singh': 7.56, 'Harpreet Brar': 9.6, 'I Sharma': 7.33, 'IS Sodhi': 6.66, 'Imran Tahir': 7.2, 'J Suchith': 7.0, 'J Yadav': 7.0, 'JC Archer': 7.23, 'JD Unadkat': 9.86, 'JJ Bumrah': 6.52, 'JP Behrendorff': 8.53, 'JP Duminy': 12.0, 'JPR Scantlebury-Searles': 12.29, 'K Gowtham': 7.87, 'K Khejroliya': 9.29, 'K Rabada': 7.56, 'KC Cariappa': 16.5, 'KH Pandya': 7.06, 'KK Ahmed': 8.22, 'KM Asif': 12.17, 'KMA Paul': 7.43, 'KV Sharma': 9.81, 'Kuldeep Yadav': 8.21, 'L Ngidi': 5.73, 'LE Plunkett': 8.84, 'LH Ferguson': 10.47, 'LS Livingstone': 13.0, 'M Ashwin': 7.24, 'M Markande': 8.44, 'M Prasidh Krishna': 9.01, 'MA Wood': 12.0, 'MG Johnson': 9.95, 'MJ McClenaghan': 7.71, 'MJ Santner': 5.64, 'MK Lomror': 9.0, 'MK Tiwary': 7.0, 'MM Ali': 6.89, 'MM Sharma': 10.38, 'MP Stoinis': 9.47, 'Mandeep Singh': 13.0, 'Mohammad Nabi': 7.05, 'Mohammed Shami': 8.89, 'Mohammed Siraj': 8.5, 'Mujeeb Ur Rahman': 7.58, 'Mustafizur Rahman': 8.25, 'N Rana': 7.97, 'Navdeep Saini': 7.79, 'O Thomas': 7.5, 'P Negi': 9.76, 'P Ray Barman': 14.0, 'PJ Sangwan': 9.5, 'PP Chawla': 8.65, 'R Ashwin': 7.45, 'R Parag': 8.64, 'R Tewatia': 7.48, 'R Vinay Kumar': 14.88, 'RA Jadeja': 6.69, 'RD Chahar': 6.45, 'Rashid Khan': 6.5, 'Rasikh Salam': 9.25, 'S Dube': 4.19, 'S Gopal': 7.29, 'S Kaul': 8.33, 'S Lamichhane': 8.31, 'S Midhun': 13.0, 'S Nadeem': 10.38, 'S Sandeep Warrier': 7.0, 'SC Kuggeleijn': 8.62, 'SE Rutherford': 7.91, 'SK Raina': 6.0, 'SL Malinga': 9.52, 'SM Curran': 9.52, 'SN Khan': 18.18, 'SN Thakur': 8.96, 'SP Narine': 7.58, 'SR Watson': 8.68, 'STR Binny': 8.22, 'Sandeep Sharma': 7.7, 'Shakib Al Hasan': 8.03, 'Shivam Mavi': 9.18}\n",
      "{'A Dananjaya': 11.5, 'A Mishra': 6.83, 'AD Russell': 9.25, 'AJ Tye': 8.44, 'AR Patel': 7.52, 'AS Joseph': 9.69, 'AS Rajpoot': 8.35, 'AS Roy': 4.0, 'Abhishek Sharma': 9.5, 'Ankit Sharma': 11.0, 'Anureet Singh': 10.5, 'Arshdeep Singh': 10.4, 'Avesh Khan': 10.41, 'B Kumar': 7.5, 'B Laughlin': 9.62, 'B Stanlake': 7.88, 'BA Stokes': 8.79, 'BB Sran': 9.96, 'BCJ Cutting': 10.11, 'Basil Thampi': 10.01, 'C de Grandhomme': 8.6, 'CH Morris': 9.19, 'CJ Anderson': 12.69, 'CJ Dala': 11.0, 'CJ Jordan': 7.5, 'CR Brathwaite': 8.88, 'CR Woakes': 9.93, 'CV Varun': 11.67, 'DJ Bravo': 8.69, 'DJ Hooda': 8.6, 'DJ Willey': 9.4, 'DJM Short': 6.33, 'DL Chahar': 7.02, 'DS Kulkarni': 9.21, 'DT Christian': 8.54, 'DW Steyn': 8.62, 'GC Viljoen': 9.13, 'GH Vihari': 9.0, 'GJ Maxwell': 8.12, 'HF Gurney': 8.52, 'HH Pandya': 8.64, 'HV Patel': 8.98, 'Harbhajan Singh': 7.56, 'Harpreet Brar': 9.6, 'I Sharma': 7.33, 'IS Sodhi': 6.66, 'Imran Tahir': 7.2, 'J Suchith': 7.0, 'J Yadav': 7.0, 'JC Archer': 7.23, 'JD Unadkat': 9.86, 'JJ Bumrah': 6.52, 'JP Behrendorff': 8.53, 'JP Duminy': 12.0, 'JPR Scantlebury-Searles': 12.29, 'K Gowtham': 7.87, 'K Khejroliya': 9.29, 'K Rabada': 7.56, 'KC Cariappa': 16.5, 'KH Pandya': 7.06, 'KK Ahmed': 8.22, 'KM Asif': 12.17, 'KMA Paul': 7.43, 'KV Sharma': 9.81, 'Kuldeep Yadav': 8.21, 'L Ngidi': 5.73, 'LE Plunkett': 8.84, 'LH Ferguson': 10.47, 'LS Livingstone': 13.0, 'M Ashwin': 7.24, 'M Markande': 8.44, 'M Prasidh Krishna': 9.01, 'MA Wood': 12.0, 'MG Johnson': 9.95, 'MJ McClenaghan': 7.71, 'MJ Santner': 5.64, 'MK Lomror': 9.0, 'MK Tiwary': 7.0, 'MM Ali': 6.89, 'MM Sharma': 10.38, 'MP Stoinis': 9.47, 'Mandeep Singh': 13.0, 'Mohammad Nabi': 7.05, 'Mohammed Shami': 8.89, 'Mohammed Siraj': 8.5, 'Mujeeb Ur Rahman': 7.58, 'Mustafizur Rahman': 8.25, 'N Rana': 7.97, 'Navdeep Saini': 7.79, 'O Thomas': 7.5, 'P Negi': 9.76, 'P Ray Barman': 14.0, 'PJ Sangwan': 9.5, 'PP Chawla': 8.65, 'R Ashwin': 7.45, 'R Parag': 8.64, 'R Tewatia': 7.48, 'R Vinay Kumar': 14.88, 'RA Jadeja': 6.69, 'RD Chahar': 6.45, 'Rashid Khan': 6.5, 'Rasikh Salam': 9.25, 'S Dube': 4.19, 'S Gopal': 7.29, 'S Kaul': 8.33, 'S Lamichhane': 8.31, 'S Midhun': 13.0, 'S Nadeem': 10.38, 'S Sandeep Warrier': 7.0, 'SC Kuggeleijn': 8.62, 'SE Rutherford': 7.91, 'SK Raina': 6.0, 'SL Malinga': 9.52, 'SM Curran': 9.52, 'SN Khan': 18.18, 'SN Thakur': 8.96, 'SP Narine': 7.58, 'SR Watson': 8.68, 'STR Binny': 8.22, 'Sandeep Sharma': 7.7, 'Shakib Al Hasan': 8.03, 'Shivam Mavi': 9.18, 'TA Boult': 8.5}\n",
      "{'A Dananjaya': 11.5, 'A Mishra': 6.83, 'AD Russell': 9.25, 'AJ Tye': 8.44, 'AR Patel': 7.52, 'AS Joseph': 9.69, 'AS Rajpoot': 8.35, 'AS Roy': 4.0, 'Abhishek Sharma': 9.5, 'Ankit Sharma': 11.0, 'Anureet Singh': 10.5, 'Arshdeep Singh': 10.4, 'Avesh Khan': 10.41, 'B Kumar': 7.5, 'B Laughlin': 9.62, 'B Stanlake': 7.88, 'BA Stokes': 8.79, 'BB Sran': 9.96, 'BCJ Cutting': 10.11, 'Basil Thampi': 10.01, 'C de Grandhomme': 8.6, 'CH Morris': 9.19, 'CJ Anderson': 12.69, 'CJ Dala': 11.0, 'CJ Jordan': 7.5, 'CR Brathwaite': 8.88, 'CR Woakes': 9.93, 'CV Varun': 11.67, 'DJ Bravo': 8.69, 'DJ Hooda': 8.6, 'DJ Willey': 9.4, 'DJM Short': 6.33, 'DL Chahar': 7.02, 'DS Kulkarni': 9.21, 'DT Christian': 8.54, 'DW Steyn': 8.62, 'GC Viljoen': 9.13, 'GH Vihari': 9.0, 'GJ Maxwell': 8.12, 'HF Gurney': 8.52, 'HH Pandya': 8.64, 'HV Patel': 8.98, 'Harbhajan Singh': 7.56, 'Harpreet Brar': 9.6, 'I Sharma': 7.33, 'IS Sodhi': 6.66, 'Imran Tahir': 7.2, 'J Suchith': 7.0, 'J Yadav': 7.0, 'JC Archer': 7.23, 'JD Unadkat': 9.86, 'JJ Bumrah': 6.52, 'JP Behrendorff': 8.53, 'JP Duminy': 12.0, 'JPR Scantlebury-Searles': 12.29, 'K Gowtham': 7.87, 'K Khejroliya': 9.29, 'K Rabada': 7.56, 'KC Cariappa': 16.5, 'KH Pandya': 7.06, 'KK Ahmed': 8.22, 'KM Asif': 12.17, 'KMA Paul': 7.43, 'KV Sharma': 9.81, 'Kuldeep Yadav': 8.21, 'L Ngidi': 5.73, 'LE Plunkett': 8.84, 'LH Ferguson': 10.47, 'LS Livingstone': 13.0, 'M Ashwin': 7.24, 'M Markande': 8.44, 'M Prasidh Krishna': 9.01, 'MA Wood': 12.0, 'MG Johnson': 9.95, 'MJ McClenaghan': 7.71, 'MJ Santner': 5.64, 'MK Lomror': 9.0, 'MK Tiwary': 7.0, 'MM Ali': 6.89, 'MM Sharma': 10.38, 'MP Stoinis': 9.47, 'Mandeep Singh': 13.0, 'Mohammad Nabi': 7.05, 'Mohammed Shami': 8.89, 'Mohammed Siraj': 8.5, 'Mujeeb Ur Rahman': 7.58, 'Mustafizur Rahman': 8.25, 'N Rana': 7.97, 'Navdeep Saini': 7.79, 'O Thomas': 7.5, 'P Negi': 9.76, 'P Ray Barman': 14.0, 'PJ Sangwan': 9.5, 'PP Chawla': 8.65, 'R Ashwin': 7.45, 'R Parag': 8.64, 'R Tewatia': 7.48, 'R Vinay Kumar': 14.88, 'RA Jadeja': 6.69, 'RD Chahar': 6.45, 'Rashid Khan': 6.5, 'Rasikh Salam': 9.25, 'S Dube': 4.19, 'S Gopal': 7.29, 'S Kaul': 8.33, 'S Lamichhane': 8.31, 'S Midhun': 13.0, 'S Nadeem': 10.38, 'S Sandeep Warrier': 7.0, 'SC Kuggeleijn': 8.62, 'SE Rutherford': 7.91, 'SK Raina': 6.0, 'SL Malinga': 9.52, 'SM Curran': 9.52, 'SN Khan': 18.18, 'SN Thakur': 8.96, 'SP Narine': 7.58, 'SR Watson': 8.68, 'STR Binny': 8.22, 'Sandeep Sharma': 7.7, 'Shakib Al Hasan': 8.03, 'Shivam Mavi': 9.18, 'TA Boult': 8.5, 'TG Southee': 9.5}\n",
      "{'A Dananjaya': 11.5, 'A Mishra': 6.83, 'AD Russell': 9.25, 'AJ Tye': 8.44, 'AR Patel': 7.52, 'AS Joseph': 9.69, 'AS Rajpoot': 8.35, 'AS Roy': 4.0, 'Abhishek Sharma': 9.5, 'Ankit Sharma': 11.0, 'Anureet Singh': 10.5, 'Arshdeep Singh': 10.4, 'Avesh Khan': 10.41, 'B Kumar': 7.5, 'B Laughlin': 9.62, 'B Stanlake': 7.88, 'BA Stokes': 8.79, 'BB Sran': 9.96, 'BCJ Cutting': 10.11, 'Basil Thampi': 10.01, 'C de Grandhomme': 8.6, 'CH Morris': 9.19, 'CJ Anderson': 12.69, 'CJ Dala': 11.0, 'CJ Jordan': 7.5, 'CR Brathwaite': 8.88, 'CR Woakes': 9.93, 'CV Varun': 11.67, 'DJ Bravo': 8.69, 'DJ Hooda': 8.6, 'DJ Willey': 9.4, 'DJM Short': 6.33, 'DL Chahar': 7.02, 'DS Kulkarni': 9.21, 'DT Christian': 8.54, 'DW Steyn': 8.62, 'GC Viljoen': 9.13, 'GH Vihari': 9.0, 'GJ Maxwell': 8.12, 'HF Gurney': 8.52, 'HH Pandya': 8.64, 'HV Patel': 8.98, 'Harbhajan Singh': 7.56, 'Harpreet Brar': 9.6, 'I Sharma': 7.33, 'IS Sodhi': 6.66, 'Imran Tahir': 7.2, 'J Suchith': 7.0, 'J Yadav': 7.0, 'JC Archer': 7.23, 'JD Unadkat': 9.86, 'JJ Bumrah': 6.52, 'JP Behrendorff': 8.53, 'JP Duminy': 12.0, 'JPR Scantlebury-Searles': 12.29, 'K Gowtham': 7.87, 'K Khejroliya': 9.29, 'K Rabada': 7.56, 'KC Cariappa': 16.5, 'KH Pandya': 7.06, 'KK Ahmed': 8.22, 'KM Asif': 12.17, 'KMA Paul': 7.43, 'KV Sharma': 9.81, 'Kuldeep Yadav': 8.21, 'L Ngidi': 5.73, 'LE Plunkett': 8.84, 'LH Ferguson': 10.47, 'LS Livingstone': 13.0, 'M Ashwin': 7.24, 'M Markande': 8.44, 'M Prasidh Krishna': 9.01, 'MA Wood': 12.0, 'MG Johnson': 9.95, 'MJ McClenaghan': 7.71, 'MJ Santner': 5.64, 'MK Lomror': 9.0, 'MK Tiwary': 7.0, 'MM Ali': 6.89, 'MM Sharma': 10.38, 'MP Stoinis': 9.47, 'Mandeep Singh': 13.0, 'Mohammad Nabi': 7.05, 'Mohammed Shami': 8.89, 'Mohammed Siraj': 8.5, 'Mujeeb Ur Rahman': 7.58, 'Mustafizur Rahman': 8.25, 'N Rana': 7.97, 'Navdeep Saini': 7.79, 'O Thomas': 7.5, 'P Negi': 9.76, 'P Ray Barman': 14.0, 'PJ Sangwan': 9.5, 'PP Chawla': 8.65, 'R Ashwin': 7.45, 'R Parag': 8.64, 'R Tewatia': 7.48, 'R Vinay Kumar': 14.88, 'RA Jadeja': 6.69, 'RD Chahar': 6.45, 'Rashid Khan': 6.5, 'Rasikh Salam': 9.25, 'S Dube': 4.19, 'S Gopal': 7.29, 'S Kaul': 8.33, 'S Lamichhane': 8.31, 'S Midhun': 13.0, 'S Nadeem': 10.38, 'S Sandeep Warrier': 7.0, 'SC Kuggeleijn': 8.62, 'SE Rutherford': 7.91, 'SK Raina': 6.0, 'SL Malinga': 9.52, 'SM Curran': 9.52, 'SN Khan': 18.18, 'SN Thakur': 8.96, 'SP Narine': 7.58, 'SR Watson': 8.68, 'STR Binny': 8.22, 'Sandeep Sharma': 7.7, 'Shakib Al Hasan': 8.03, 'Shivam Mavi': 9.18, 'TA Boult': 8.5, 'TG Southee': 9.5, 'TK Curran': 11.11}\n",
      "{'A Dananjaya': 11.5, 'A Mishra': 6.83, 'AD Russell': 9.25, 'AJ Tye': 8.44, 'AR Patel': 7.52, 'AS Joseph': 9.69, 'AS Rajpoot': 8.35, 'AS Roy': 4.0, 'Abhishek Sharma': 9.5, 'Ankit Sharma': 11.0, 'Anureet Singh': 10.5, 'Arshdeep Singh': 10.4, 'Avesh Khan': 10.41, 'B Kumar': 7.5, 'B Laughlin': 9.62, 'B Stanlake': 7.88, 'BA Stokes': 8.79, 'BB Sran': 9.96, 'BCJ Cutting': 10.11, 'Basil Thampi': 10.01, 'C de Grandhomme': 8.6, 'CH Morris': 9.19, 'CJ Anderson': 12.69, 'CJ Dala': 11.0, 'CJ Jordan': 7.5, 'CR Brathwaite': 8.88, 'CR Woakes': 9.93, 'CV Varun': 11.67, 'DJ Bravo': 8.69, 'DJ Hooda': 8.6, 'DJ Willey': 9.4, 'DJM Short': 6.33, 'DL Chahar': 7.02, 'DS Kulkarni': 9.21, 'DT Christian': 8.54, 'DW Steyn': 8.62, 'GC Viljoen': 9.13, 'GH Vihari': 9.0, 'GJ Maxwell': 8.12, 'HF Gurney': 8.52, 'HH Pandya': 8.64, 'HV Patel': 8.98, 'Harbhajan Singh': 7.56, 'Harpreet Brar': 9.6, 'I Sharma': 7.33, 'IS Sodhi': 6.66, 'Imran Tahir': 7.2, 'J Suchith': 7.0, 'J Yadav': 7.0, 'JC Archer': 7.23, 'JD Unadkat': 9.86, 'JJ Bumrah': 6.52, 'JP Behrendorff': 8.53, 'JP Duminy': 12.0, 'JPR Scantlebury-Searles': 12.29, 'K Gowtham': 7.87, 'K Khejroliya': 9.29, 'K Rabada': 7.56, 'KC Cariappa': 16.5, 'KH Pandya': 7.06, 'KK Ahmed': 8.22, 'KM Asif': 12.17, 'KMA Paul': 7.43, 'KV Sharma': 9.81, 'Kuldeep Yadav': 8.21, 'L Ngidi': 5.73, 'LE Plunkett': 8.84, 'LH Ferguson': 10.47, 'LS Livingstone': 13.0, 'M Ashwin': 7.24, 'M Markande': 8.44, 'M Prasidh Krishna': 9.01, 'MA Wood': 12.0, 'MG Johnson': 9.95, 'MJ McClenaghan': 7.71, 'MJ Santner': 5.64, 'MK Lomror': 9.0, 'MK Tiwary': 7.0, 'MM Ali': 6.89, 'MM Sharma': 10.38, 'MP Stoinis': 9.47, 'Mandeep Singh': 13.0, 'Mohammad Nabi': 7.05, 'Mohammed Shami': 8.89, 'Mohammed Siraj': 8.5, 'Mujeeb Ur Rahman': 7.58, 'Mustafizur Rahman': 8.25, 'N Rana': 7.97, 'Navdeep Saini': 7.79, 'O Thomas': 7.5, 'P Negi': 9.76, 'P Ray Barman': 14.0, 'PJ Sangwan': 9.5, 'PP Chawla': 8.65, 'R Ashwin': 7.45, 'R Parag': 8.64, 'R Tewatia': 7.48, 'R Vinay Kumar': 14.88, 'RA Jadeja': 6.69, 'RD Chahar': 6.45, 'Rashid Khan': 6.5, 'Rasikh Salam': 9.25, 'S Dube': 4.19, 'S Gopal': 7.29, 'S Kaul': 8.33, 'S Lamichhane': 8.31, 'S Midhun': 13.0, 'S Nadeem': 10.38, 'S Sandeep Warrier': 7.0, 'SC Kuggeleijn': 8.62, 'SE Rutherford': 7.91, 'SK Raina': 6.0, 'SL Malinga': 9.52, 'SM Curran': 9.52, 'SN Khan': 18.18, 'SN Thakur': 8.96, 'SP Narine': 7.58, 'SR Watson': 8.68, 'STR Binny': 8.22, 'Sandeep Sharma': 7.7, 'Shakib Al Hasan': 8.03, 'Shivam Mavi': 9.18, 'TA Boult': 8.5, 'TG Southee': 9.5, 'TK Curran': 11.11, 'UT Yadav': 8.38}\n",
      "{'A Dananjaya': 11.5, 'A Mishra': 6.83, 'AD Russell': 9.25, 'AJ Tye': 8.44, 'AR Patel': 7.52, 'AS Joseph': 9.69, 'AS Rajpoot': 8.35, 'AS Roy': 4.0, 'Abhishek Sharma': 9.5, 'Ankit Sharma': 11.0, 'Anureet Singh': 10.5, 'Arshdeep Singh': 10.4, 'Avesh Khan': 10.41, 'B Kumar': 7.5, 'B Laughlin': 9.62, 'B Stanlake': 7.88, 'BA Stokes': 8.79, 'BB Sran': 9.96, 'BCJ Cutting': 10.11, 'Basil Thampi': 10.01, 'C de Grandhomme': 8.6, 'CH Morris': 9.19, 'CJ Anderson': 12.69, 'CJ Dala': 11.0, 'CJ Jordan': 7.5, 'CR Brathwaite': 8.88, 'CR Woakes': 9.93, 'CV Varun': 11.67, 'DJ Bravo': 8.69, 'DJ Hooda': 8.6, 'DJ Willey': 9.4, 'DJM Short': 6.33, 'DL Chahar': 7.02, 'DS Kulkarni': 9.21, 'DT Christian': 8.54, 'DW Steyn': 8.62, 'GC Viljoen': 9.13, 'GH Vihari': 9.0, 'GJ Maxwell': 8.12, 'HF Gurney': 8.52, 'HH Pandya': 8.64, 'HV Patel': 8.98, 'Harbhajan Singh': 7.56, 'Harpreet Brar': 9.6, 'I Sharma': 7.33, 'IS Sodhi': 6.66, 'Imran Tahir': 7.2, 'J Suchith': 7.0, 'J Yadav': 7.0, 'JC Archer': 7.23, 'JD Unadkat': 9.86, 'JJ Bumrah': 6.52, 'JP Behrendorff': 8.53, 'JP Duminy': 12.0, 'JPR Scantlebury-Searles': 12.29, 'K Gowtham': 7.87, 'K Khejroliya': 9.29, 'K Rabada': 7.56, 'KC Cariappa': 16.5, 'KH Pandya': 7.06, 'KK Ahmed': 8.22, 'KM Asif': 12.17, 'KMA Paul': 7.43, 'KV Sharma': 9.81, 'Kuldeep Yadav': 8.21, 'L Ngidi': 5.73, 'LE Plunkett': 8.84, 'LH Ferguson': 10.47, 'LS Livingstone': 13.0, 'M Ashwin': 7.24, 'M Markande': 8.44, 'M Prasidh Krishna': 9.01, 'MA Wood': 12.0, 'MG Johnson': 9.95, 'MJ McClenaghan': 7.71, 'MJ Santner': 5.64, 'MK Lomror': 9.0, 'MK Tiwary': 7.0, 'MM Ali': 6.89, 'MM Sharma': 10.38, 'MP Stoinis': 9.47, 'Mandeep Singh': 13.0, 'Mohammad Nabi': 7.05, 'Mohammed Shami': 8.89, 'Mohammed Siraj': 8.5, 'Mujeeb Ur Rahman': 7.58, 'Mustafizur Rahman': 8.25, 'N Rana': 7.97, 'Navdeep Saini': 7.79, 'O Thomas': 7.5, 'P Negi': 9.76, 'P Ray Barman': 14.0, 'PJ Sangwan': 9.5, 'PP Chawla': 8.65, 'R Ashwin': 7.45, 'R Parag': 8.64, 'R Tewatia': 7.48, 'R Vinay Kumar': 14.88, 'RA Jadeja': 6.69, 'RD Chahar': 6.45, 'Rashid Khan': 6.5, 'Rasikh Salam': 9.25, 'S Dube': 4.19, 'S Gopal': 7.29, 'S Kaul': 8.33, 'S Lamichhane': 8.31, 'S Midhun': 13.0, 'S Nadeem': 10.38, 'S Sandeep Warrier': 7.0, 'SC Kuggeleijn': 8.62, 'SE Rutherford': 7.91, 'SK Raina': 6.0, 'SL Malinga': 9.52, 'SM Curran': 9.52, 'SN Khan': 18.18, 'SN Thakur': 8.96, 'SP Narine': 7.58, 'SR Watson': 8.68, 'STR Binny': 8.22, 'Sandeep Sharma': 7.7, 'Shakib Al Hasan': 8.03, 'Shivam Mavi': 9.18, 'TA Boult': 8.5, 'TG Southee': 9.5, 'TK Curran': 11.11, 'UT Yadav': 8.38, 'V Shankar': 9.15}\n",
      "{'A Dananjaya': 11.5, 'A Mishra': 6.83, 'AD Russell': 9.25, 'AJ Tye': 8.44, 'AR Patel': 7.52, 'AS Joseph': 9.69, 'AS Rajpoot': 8.35, 'AS Roy': 4.0, 'Abhishek Sharma': 9.5, 'Ankit Sharma': 11.0, 'Anureet Singh': 10.5, 'Arshdeep Singh': 10.4, 'Avesh Khan': 10.41, 'B Kumar': 7.5, 'B Laughlin': 9.62, 'B Stanlake': 7.88, 'BA Stokes': 8.79, 'BB Sran': 9.96, 'BCJ Cutting': 10.11, 'Basil Thampi': 10.01, 'C de Grandhomme': 8.6, 'CH Morris': 9.19, 'CJ Anderson': 12.69, 'CJ Dala': 11.0, 'CJ Jordan': 7.5, 'CR Brathwaite': 8.88, 'CR Woakes': 9.93, 'CV Varun': 11.67, 'DJ Bravo': 8.69, 'DJ Hooda': 8.6, 'DJ Willey': 9.4, 'DJM Short': 6.33, 'DL Chahar': 7.02, 'DS Kulkarni': 9.21, 'DT Christian': 8.54, 'DW Steyn': 8.62, 'GC Viljoen': 9.13, 'GH Vihari': 9.0, 'GJ Maxwell': 8.12, 'HF Gurney': 8.52, 'HH Pandya': 8.64, 'HV Patel': 8.98, 'Harbhajan Singh': 7.56, 'Harpreet Brar': 9.6, 'I Sharma': 7.33, 'IS Sodhi': 6.66, 'Imran Tahir': 7.2, 'J Suchith': 7.0, 'J Yadav': 7.0, 'JC Archer': 7.23, 'JD Unadkat': 9.86, 'JJ Bumrah': 6.52, 'JP Behrendorff': 8.53, 'JP Duminy': 12.0, 'JPR Scantlebury-Searles': 12.29, 'K Gowtham': 7.87, 'K Khejroliya': 9.29, 'K Rabada': 7.56, 'KC Cariappa': 16.5, 'KH Pandya': 7.06, 'KK Ahmed': 8.22, 'KM Asif': 12.17, 'KMA Paul': 7.43, 'KV Sharma': 9.81, 'Kuldeep Yadav': 8.21, 'L Ngidi': 5.73, 'LE Plunkett': 8.84, 'LH Ferguson': 10.47, 'LS Livingstone': 13.0, 'M Ashwin': 7.24, 'M Markande': 8.44, 'M Prasidh Krishna': 9.01, 'MA Wood': 12.0, 'MG Johnson': 9.95, 'MJ McClenaghan': 7.71, 'MJ Santner': 5.64, 'MK Lomror': 9.0, 'MK Tiwary': 7.0, 'MM Ali': 6.89, 'MM Sharma': 10.38, 'MP Stoinis': 9.47, 'Mandeep Singh': 13.0, 'Mohammad Nabi': 7.05, 'Mohammed Shami': 8.89, 'Mohammed Siraj': 8.5, 'Mujeeb Ur Rahman': 7.58, 'Mustafizur Rahman': 8.25, 'N Rana': 7.97, 'Navdeep Saini': 7.79, 'O Thomas': 7.5, 'P Negi': 9.76, 'P Ray Barman': 14.0, 'PJ Sangwan': 9.5, 'PP Chawla': 8.65, 'R Ashwin': 7.45, 'R Parag': 8.64, 'R Tewatia': 7.48, 'R Vinay Kumar': 14.88, 'RA Jadeja': 6.69, 'RD Chahar': 6.45, 'Rashid Khan': 6.5, 'Rasikh Salam': 9.25, 'S Dube': 4.19, 'S Gopal': 7.29, 'S Kaul': 8.33, 'S Lamichhane': 8.31, 'S Midhun': 13.0, 'S Nadeem': 10.38, 'S Sandeep Warrier': 7.0, 'SC Kuggeleijn': 8.62, 'SE Rutherford': 7.91, 'SK Raina': 6.0, 'SL Malinga': 9.52, 'SM Curran': 9.52, 'SN Khan': 18.18, 'SN Thakur': 8.96, 'SP Narine': 7.58, 'SR Watson': 8.68, 'STR Binny': 8.22, 'Sandeep Sharma': 7.7, 'Shakib Al Hasan': 8.03, 'Shivam Mavi': 9.18, 'TA Boult': 8.5, 'TG Southee': 9.5, 'TK Curran': 11.11, 'UT Yadav': 8.38, 'V Shankar': 9.15, 'VR Aaron': 9.5}\n",
      "{'A Dananjaya': 11.5, 'A Mishra': 6.83, 'AD Russell': 9.25, 'AJ Tye': 8.44, 'AR Patel': 7.52, 'AS Joseph': 9.69, 'AS Rajpoot': 8.35, 'AS Roy': 4.0, 'Abhishek Sharma': 9.5, 'Ankit Sharma': 11.0, 'Anureet Singh': 10.5, 'Arshdeep Singh': 10.4, 'Avesh Khan': 10.41, 'B Kumar': 7.5, 'B Laughlin': 9.62, 'B Stanlake': 7.88, 'BA Stokes': 8.79, 'BB Sran': 9.96, 'BCJ Cutting': 10.11, 'Basil Thampi': 10.01, 'C de Grandhomme': 8.6, 'CH Morris': 9.19, 'CJ Anderson': 12.69, 'CJ Dala': 11.0, 'CJ Jordan': 7.5, 'CR Brathwaite': 8.88, 'CR Woakes': 9.93, 'CV Varun': 11.67, 'DJ Bravo': 8.69, 'DJ Hooda': 8.6, 'DJ Willey': 9.4, 'DJM Short': 6.33, 'DL Chahar': 7.02, 'DS Kulkarni': 9.21, 'DT Christian': 8.54, 'DW Steyn': 8.62, 'GC Viljoen': 9.13, 'GH Vihari': 9.0, 'GJ Maxwell': 8.12, 'HF Gurney': 8.52, 'HH Pandya': 8.64, 'HV Patel': 8.98, 'Harbhajan Singh': 7.56, 'Harpreet Brar': 9.6, 'I Sharma': 7.33, 'IS Sodhi': 6.66, 'Imran Tahir': 7.2, 'J Suchith': 7.0, 'J Yadav': 7.0, 'JC Archer': 7.23, 'JD Unadkat': 9.86, 'JJ Bumrah': 6.52, 'JP Behrendorff': 8.53, 'JP Duminy': 12.0, 'JPR Scantlebury-Searles': 12.29, 'K Gowtham': 7.87, 'K Khejroliya': 9.29, 'K Rabada': 7.56, 'KC Cariappa': 16.5, 'KH Pandya': 7.06, 'KK Ahmed': 8.22, 'KM Asif': 12.17, 'KMA Paul': 7.43, 'KV Sharma': 9.81, 'Kuldeep Yadav': 8.21, 'L Ngidi': 5.73, 'LE Plunkett': 8.84, 'LH Ferguson': 10.47, 'LS Livingstone': 13.0, 'M Ashwin': 7.24, 'M Markande': 8.44, 'M Prasidh Krishna': 9.01, 'MA Wood': 12.0, 'MG Johnson': 9.95, 'MJ McClenaghan': 7.71, 'MJ Santner': 5.64, 'MK Lomror': 9.0, 'MK Tiwary': 7.0, 'MM Ali': 6.89, 'MM Sharma': 10.38, 'MP Stoinis': 9.47, 'Mandeep Singh': 13.0, 'Mohammad Nabi': 7.05, 'Mohammed Shami': 8.89, 'Mohammed Siraj': 8.5, 'Mujeeb Ur Rahman': 7.58, 'Mustafizur Rahman': 8.25, 'N Rana': 7.97, 'Navdeep Saini': 7.79, 'O Thomas': 7.5, 'P Negi': 9.76, 'P Ray Barman': 14.0, 'PJ Sangwan': 9.5, 'PP Chawla': 8.65, 'R Ashwin': 7.45, 'R Parag': 8.64, 'R Tewatia': 7.48, 'R Vinay Kumar': 14.88, 'RA Jadeja': 6.69, 'RD Chahar': 6.45, 'Rashid Khan': 6.5, 'Rasikh Salam': 9.25, 'S Dube': 4.19, 'S Gopal': 7.29, 'S Kaul': 8.33, 'S Lamichhane': 8.31, 'S Midhun': 13.0, 'S Nadeem': 10.38, 'S Sandeep Warrier': 7.0, 'SC Kuggeleijn': 8.62, 'SE Rutherford': 7.91, 'SK Raina': 6.0, 'SL Malinga': 9.52, 'SM Curran': 9.52, 'SN Khan': 18.18, 'SN Thakur': 8.96, 'SP Narine': 7.58, 'SR Watson': 8.68, 'STR Binny': 8.22, 'Sandeep Sharma': 7.7, 'Shakib Al Hasan': 8.03, 'Shivam Mavi': 9.18, 'TA Boult': 8.5, 'TG Southee': 9.5, 'TK Curran': 11.11, 'UT Yadav': 8.38, 'V Shankar': 9.15, 'VR Aaron': 9.5, 'Washington Sundar': 8.97}\n",
      "{'A Dananjaya': 11.5, 'A Mishra': 6.83, 'AD Russell': 9.25, 'AJ Tye': 8.44, 'AR Patel': 7.52, 'AS Joseph': 9.69, 'AS Rajpoot': 8.35, 'AS Roy': 4.0, 'Abhishek Sharma': 9.5, 'Ankit Sharma': 11.0, 'Anureet Singh': 10.5, 'Arshdeep Singh': 10.4, 'Avesh Khan': 10.41, 'B Kumar': 7.5, 'B Laughlin': 9.62, 'B Stanlake': 7.88, 'BA Stokes': 8.79, 'BB Sran': 9.96, 'BCJ Cutting': 10.11, 'Basil Thampi': 10.01, 'C de Grandhomme': 8.6, 'CH Morris': 9.19, 'CJ Anderson': 12.69, 'CJ Dala': 11.0, 'CJ Jordan': 7.5, 'CR Brathwaite': 8.88, 'CR Woakes': 9.93, 'CV Varun': 11.67, 'DJ Bravo': 8.69, 'DJ Hooda': 8.6, 'DJ Willey': 9.4, 'DJM Short': 6.33, 'DL Chahar': 7.02, 'DS Kulkarni': 9.21, 'DT Christian': 8.54, 'DW Steyn': 8.62, 'GC Viljoen': 9.13, 'GH Vihari': 9.0, 'GJ Maxwell': 8.12, 'HF Gurney': 8.52, 'HH Pandya': 8.64, 'HV Patel': 8.98, 'Harbhajan Singh': 7.56, 'Harpreet Brar': 9.6, 'I Sharma': 7.33, 'IS Sodhi': 6.66, 'Imran Tahir': 7.2, 'J Suchith': 7.0, 'J Yadav': 7.0, 'JC Archer': 7.23, 'JD Unadkat': 9.86, 'JJ Bumrah': 6.52, 'JP Behrendorff': 8.53, 'JP Duminy': 12.0, 'JPR Scantlebury-Searles': 12.29, 'K Gowtham': 7.87, 'K Khejroliya': 9.29, 'K Rabada': 7.56, 'KC Cariappa': 16.5, 'KH Pandya': 7.06, 'KK Ahmed': 8.22, 'KM Asif': 12.17, 'KMA Paul': 7.43, 'KV Sharma': 9.81, 'Kuldeep Yadav': 8.21, 'L Ngidi': 5.73, 'LE Plunkett': 8.84, 'LH Ferguson': 10.47, 'LS Livingstone': 13.0, 'M Ashwin': 7.24, 'M Markande': 8.44, 'M Prasidh Krishna': 9.01, 'MA Wood': 12.0, 'MG Johnson': 9.95, 'MJ McClenaghan': 7.71, 'MJ Santner': 5.64, 'MK Lomror': 9.0, 'MK Tiwary': 7.0, 'MM Ali': 6.89, 'MM Sharma': 10.38, 'MP Stoinis': 9.47, 'Mandeep Singh': 13.0, 'Mohammad Nabi': 7.05, 'Mohammed Shami': 8.89, 'Mohammed Siraj': 8.5, 'Mujeeb Ur Rahman': 7.58, 'Mustafizur Rahman': 8.25, 'N Rana': 7.97, 'Navdeep Saini': 7.79, 'O Thomas': 7.5, 'P Negi': 9.76, 'P Ray Barman': 14.0, 'PJ Sangwan': 9.5, 'PP Chawla': 8.65, 'R Ashwin': 7.45, 'R Parag': 8.64, 'R Tewatia': 7.48, 'R Vinay Kumar': 14.88, 'RA Jadeja': 6.69, 'RD Chahar': 6.45, 'Rashid Khan': 6.5, 'Rasikh Salam': 9.25, 'S Dube': 4.19, 'S Gopal': 7.29, 'S Kaul': 8.33, 'S Lamichhane': 8.31, 'S Midhun': 13.0, 'S Nadeem': 10.38, 'S Sandeep Warrier': 7.0, 'SC Kuggeleijn': 8.62, 'SE Rutherford': 7.91, 'SK Raina': 6.0, 'SL Malinga': 9.52, 'SM Curran': 9.52, 'SN Khan': 18.18, 'SN Thakur': 8.96, 'SP Narine': 7.58, 'SR Watson': 8.68, 'STR Binny': 8.22, 'Sandeep Sharma': 7.7, 'Shakib Al Hasan': 8.03, 'Shivam Mavi': 9.18, 'TA Boult': 8.5, 'TG Southee': 9.5, 'TK Curran': 11.11, 'UT Yadav': 8.38, 'V Shankar': 9.15, 'VR Aaron': 9.5, 'Washington Sundar': 8.97, 'Y Prithvi Raj': 10.8}\n",
      "{'A Dananjaya': 11.5, 'A Mishra': 6.83, 'AD Russell': 9.25, 'AJ Tye': 8.44, 'AR Patel': 7.52, 'AS Joseph': 9.69, 'AS Rajpoot': 8.35, 'AS Roy': 4.0, 'Abhishek Sharma': 9.5, 'Ankit Sharma': 11.0, 'Anureet Singh': 10.5, 'Arshdeep Singh': 10.4, 'Avesh Khan': 10.41, 'B Kumar': 7.5, 'B Laughlin': 9.62, 'B Stanlake': 7.88, 'BA Stokes': 8.79, 'BB Sran': 9.96, 'BCJ Cutting': 10.11, 'Basil Thampi': 10.01, 'C de Grandhomme': 8.6, 'CH Morris': 9.19, 'CJ Anderson': 12.69, 'CJ Dala': 11.0, 'CJ Jordan': 7.5, 'CR Brathwaite': 8.88, 'CR Woakes': 9.93, 'CV Varun': 11.67, 'DJ Bravo': 8.69, 'DJ Hooda': 8.6, 'DJ Willey': 9.4, 'DJM Short': 6.33, 'DL Chahar': 7.02, 'DS Kulkarni': 9.21, 'DT Christian': 8.54, 'DW Steyn': 8.62, 'GC Viljoen': 9.13, 'GH Vihari': 9.0, 'GJ Maxwell': 8.12, 'HF Gurney': 8.52, 'HH Pandya': 8.64, 'HV Patel': 8.98, 'Harbhajan Singh': 7.56, 'Harpreet Brar': 9.6, 'I Sharma': 7.33, 'IS Sodhi': 6.66, 'Imran Tahir': 7.2, 'J Suchith': 7.0, 'J Yadav': 7.0, 'JC Archer': 7.23, 'JD Unadkat': 9.86, 'JJ Bumrah': 6.52, 'JP Behrendorff': 8.53, 'JP Duminy': 12.0, 'JPR Scantlebury-Searles': 12.29, 'K Gowtham': 7.87, 'K Khejroliya': 9.29, 'K Rabada': 7.56, 'KC Cariappa': 16.5, 'KH Pandya': 7.06, 'KK Ahmed': 8.22, 'KM Asif': 12.17, 'KMA Paul': 7.43, 'KV Sharma': 9.81, 'Kuldeep Yadav': 8.21, 'L Ngidi': 5.73, 'LE Plunkett': 8.84, 'LH Ferguson': 10.47, 'LS Livingstone': 13.0, 'M Ashwin': 7.24, 'M Markande': 8.44, 'M Prasidh Krishna': 9.01, 'MA Wood': 12.0, 'MG Johnson': 9.95, 'MJ McClenaghan': 7.71, 'MJ Santner': 5.64, 'MK Lomror': 9.0, 'MK Tiwary': 7.0, 'MM Ali': 6.89, 'MM Sharma': 10.38, 'MP Stoinis': 9.47, 'Mandeep Singh': 13.0, 'Mohammad Nabi': 7.05, 'Mohammed Shami': 8.89, 'Mohammed Siraj': 8.5, 'Mujeeb Ur Rahman': 7.58, 'Mustafizur Rahman': 8.25, 'N Rana': 7.97, 'Navdeep Saini': 7.79, 'O Thomas': 7.5, 'P Negi': 9.76, 'P Ray Barman': 14.0, 'PJ Sangwan': 9.5, 'PP Chawla': 8.65, 'R Ashwin': 7.45, 'R Parag': 8.64, 'R Tewatia': 7.48, 'R Vinay Kumar': 14.88, 'RA Jadeja': 6.69, 'RD Chahar': 6.45, 'Rashid Khan': 6.5, 'Rasikh Salam': 9.25, 'S Dube': 4.19, 'S Gopal': 7.29, 'S Kaul': 8.33, 'S Lamichhane': 8.31, 'S Midhun': 13.0, 'S Nadeem': 10.38, 'S Sandeep Warrier': 7.0, 'SC Kuggeleijn': 8.62, 'SE Rutherford': 7.91, 'SK Raina': 6.0, 'SL Malinga': 9.52, 'SM Curran': 9.52, 'SN Khan': 18.18, 'SN Thakur': 8.96, 'SP Narine': 7.58, 'SR Watson': 8.68, 'STR Binny': 8.22, 'Sandeep Sharma': 7.7, 'Shakib Al Hasan': 8.03, 'Shivam Mavi': 9.18, 'TA Boult': 8.5, 'TG Southee': 9.5, 'TK Curran': 11.11, 'UT Yadav': 8.38, 'V Shankar': 9.15, 'VR Aaron': 9.5, 'Washington Sundar': 8.97, 'Y Prithvi Raj': 10.8, 'YK Pathan': 7.33}\n",
      "{'A Dananjaya': 11.5, 'A Mishra': 6.83, 'AD Russell': 9.25, 'AJ Tye': 8.44, 'AR Patel': 7.52, 'AS Joseph': 9.69, 'AS Rajpoot': 8.35, 'AS Roy': 4.0, 'Abhishek Sharma': 9.5, 'Ankit Sharma': 11.0, 'Anureet Singh': 10.5, 'Arshdeep Singh': 10.4, 'Avesh Khan': 10.41, 'B Kumar': 7.5, 'B Laughlin': 9.62, 'B Stanlake': 7.88, 'BA Stokes': 8.79, 'BB Sran': 9.96, 'BCJ Cutting': 10.11, 'Basil Thampi': 10.01, 'C de Grandhomme': 8.6, 'CH Morris': 9.19, 'CJ Anderson': 12.69, 'CJ Dala': 11.0, 'CJ Jordan': 7.5, 'CR Brathwaite': 8.88, 'CR Woakes': 9.93, 'CV Varun': 11.67, 'DJ Bravo': 8.69, 'DJ Hooda': 8.6, 'DJ Willey': 9.4, 'DJM Short': 6.33, 'DL Chahar': 7.02, 'DS Kulkarni': 9.21, 'DT Christian': 8.54, 'DW Steyn': 8.62, 'GC Viljoen': 9.13, 'GH Vihari': 9.0, 'GJ Maxwell': 8.12, 'HF Gurney': 8.52, 'HH Pandya': 8.64, 'HV Patel': 8.98, 'Harbhajan Singh': 7.56, 'Harpreet Brar': 9.6, 'I Sharma': 7.33, 'IS Sodhi': 6.66, 'Imran Tahir': 7.2, 'J Suchith': 7.0, 'J Yadav': 7.0, 'JC Archer': 7.23, 'JD Unadkat': 9.86, 'JJ Bumrah': 6.52, 'JP Behrendorff': 8.53, 'JP Duminy': 12.0, 'JPR Scantlebury-Searles': 12.29, 'K Gowtham': 7.87, 'K Khejroliya': 9.29, 'K Rabada': 7.56, 'KC Cariappa': 16.5, 'KH Pandya': 7.06, 'KK Ahmed': 8.22, 'KM Asif': 12.17, 'KMA Paul': 7.43, 'KV Sharma': 9.81, 'Kuldeep Yadav': 8.21, 'L Ngidi': 5.73, 'LE Plunkett': 8.84, 'LH Ferguson': 10.47, 'LS Livingstone': 13.0, 'M Ashwin': 7.24, 'M Markande': 8.44, 'M Prasidh Krishna': 9.01, 'MA Wood': 12.0, 'MG Johnson': 9.95, 'MJ McClenaghan': 7.71, 'MJ Santner': 5.64, 'MK Lomror': 9.0, 'MK Tiwary': 7.0, 'MM Ali': 6.89, 'MM Sharma': 10.38, 'MP Stoinis': 9.47, 'Mandeep Singh': 13.0, 'Mohammad Nabi': 7.05, 'Mohammed Shami': 8.89, 'Mohammed Siraj': 8.5, 'Mujeeb Ur Rahman': 7.58, 'Mustafizur Rahman': 8.25, 'N Rana': 7.97, 'Navdeep Saini': 7.79, 'O Thomas': 7.5, 'P Negi': 9.76, 'P Ray Barman': 14.0, 'PJ Sangwan': 9.5, 'PP Chawla': 8.65, 'R Ashwin': 7.45, 'R Parag': 8.64, 'R Tewatia': 7.48, 'R Vinay Kumar': 14.88, 'RA Jadeja': 6.69, 'RD Chahar': 6.45, 'Rashid Khan': 6.5, 'Rasikh Salam': 9.25, 'S Dube': 4.19, 'S Gopal': 7.29, 'S Kaul': 8.33, 'S Lamichhane': 8.31, 'S Midhun': 13.0, 'S Nadeem': 10.38, 'S Sandeep Warrier': 7.0, 'SC Kuggeleijn': 8.62, 'SE Rutherford': 7.91, 'SK Raina': 6.0, 'SL Malinga': 9.52, 'SM Curran': 9.52, 'SN Khan': 18.18, 'SN Thakur': 8.96, 'SP Narine': 7.58, 'SR Watson': 8.68, 'STR Binny': 8.22, 'Sandeep Sharma': 7.7, 'Shakib Al Hasan': 8.03, 'Shivam Mavi': 9.18, 'TA Boult': 8.5, 'TG Southee': 9.5, 'TK Curran': 11.11, 'UT Yadav': 8.38, 'V Shankar': 9.15, 'VR Aaron': 9.5, 'Washington Sundar': 8.97, 'Y Prithvi Raj': 10.8, 'YK Pathan': 7.33, 'YS Chahal': 7.25}\n",
      "{'A Dananjaya': 11.5, 'A Mishra': 6.83, 'AD Russell': 9.25, 'AJ Tye': 8.44, 'AR Patel': 7.52, 'AS Joseph': 9.69, 'AS Rajpoot': 8.35, 'AS Roy': 4.0, 'Abhishek Sharma': 9.5, 'Ankit Sharma': 11.0, 'Anureet Singh': 10.5, 'Arshdeep Singh': 10.4, 'Avesh Khan': 10.41, 'B Kumar': 7.5, 'B Laughlin': 9.62, 'B Stanlake': 7.88, 'BA Stokes': 8.79, 'BB Sran': 9.96, 'BCJ Cutting': 10.11, 'Basil Thampi': 10.01, 'C de Grandhomme': 8.6, 'CH Morris': 9.19, 'CJ Anderson': 12.69, 'CJ Dala': 11.0, 'CJ Jordan': 7.5, 'CR Brathwaite': 8.88, 'CR Woakes': 9.93, 'CV Varun': 11.67, 'DJ Bravo': 8.69, 'DJ Hooda': 8.6, 'DJ Willey': 9.4, 'DJM Short': 6.33, 'DL Chahar': 7.02, 'DS Kulkarni': 9.21, 'DT Christian': 8.54, 'DW Steyn': 8.62, 'GC Viljoen': 9.13, 'GH Vihari': 9.0, 'GJ Maxwell': 8.12, 'HF Gurney': 8.52, 'HH Pandya': 8.64, 'HV Patel': 8.98, 'Harbhajan Singh': 7.56, 'Harpreet Brar': 9.6, 'I Sharma': 7.33, 'IS Sodhi': 6.66, 'Imran Tahir': 7.2, 'J Suchith': 7.0, 'J Yadav': 7.0, 'JC Archer': 7.23, 'JD Unadkat': 9.86, 'JJ Bumrah': 6.52, 'JP Behrendorff': 8.53, 'JP Duminy': 12.0, 'JPR Scantlebury-Searles': 12.29, 'K Gowtham': 7.87, 'K Khejroliya': 9.29, 'K Rabada': 7.56, 'KC Cariappa': 16.5, 'KH Pandya': 7.06, 'KK Ahmed': 8.22, 'KM Asif': 12.17, 'KMA Paul': 7.43, 'KV Sharma': 9.81, 'Kuldeep Yadav': 8.21, 'L Ngidi': 5.73, 'LE Plunkett': 8.84, 'LH Ferguson': 10.47, 'LS Livingstone': 13.0, 'M Ashwin': 7.24, 'M Markande': 8.44, 'M Prasidh Krishna': 9.01, 'MA Wood': 12.0, 'MG Johnson': 9.95, 'MJ McClenaghan': 7.71, 'MJ Santner': 5.64, 'MK Lomror': 9.0, 'MK Tiwary': 7.0, 'MM Ali': 6.89, 'MM Sharma': 10.38, 'MP Stoinis': 9.47, 'Mandeep Singh': 13.0, 'Mohammad Nabi': 7.05, 'Mohammed Shami': 8.89, 'Mohammed Siraj': 8.5, 'Mujeeb Ur Rahman': 7.58, 'Mustafizur Rahman': 8.25, 'N Rana': 7.97, 'Navdeep Saini': 7.79, 'O Thomas': 7.5, 'P Negi': 9.76, 'P Ray Barman': 14.0, 'PJ Sangwan': 9.5, 'PP Chawla': 8.65, 'R Ashwin': 7.45, 'R Parag': 8.64, 'R Tewatia': 7.48, 'R Vinay Kumar': 14.88, 'RA Jadeja': 6.69, 'RD Chahar': 6.45, 'Rashid Khan': 6.5, 'Rasikh Salam': 9.25, 'S Dube': 4.19, 'S Gopal': 7.29, 'S Kaul': 8.33, 'S Lamichhane': 8.31, 'S Midhun': 13.0, 'S Nadeem': 10.38, 'S Sandeep Warrier': 7.0, 'SC Kuggeleijn': 8.62, 'SE Rutherford': 7.91, 'SK Raina': 6.0, 'SL Malinga': 9.52, 'SM Curran': 9.52, 'SN Khan': 18.18, 'SN Thakur': 8.96, 'SP Narine': 7.58, 'SR Watson': 8.68, 'STR Binny': 8.22, 'Sandeep Sharma': 7.7, 'Shakib Al Hasan': 8.03, 'Shivam Mavi': 9.18, 'TA Boult': 8.5, 'TG Southee': 9.5, 'TK Curran': 11.11, 'UT Yadav': 8.38, 'V Shankar': 9.15, 'VR Aaron': 9.5, 'Washington Sundar': 8.97, 'Y Prithvi Raj': 10.8, 'YK Pathan': 7.33, 'YS Chahal': 7.25, 'Yuvraj Singh': 11.0}\n"
     ]
    }
   ],
   "source": [
    "import pandas as pd\n",
    "\n",
    "df = pd.read_csv('../data/2018_and_2019_ipl_ball_by_ball.csv')\n",
    "\n",
    "# Group the data by bowler\n",
    "grouped_data = df.groupby('bowler')\n",
    "\n",
    "# Create an empty dictionary to store economy of each bowler\n",
    "bowler_economy = {}\n",
    "\n",
    "# Iterate over each group\n",
    "for name, group in grouped_data:\n",
    "    total_runs = 0\n",
    "    legal_deliveries = 0\n",
    "    \n",
    "    for index, row in group.iterrows():\n",
    "        # Check if the delivery was a legal delivery\n",
    "        if row['extra_type'] not in ['wides', 'noballs']:\n",
    "            legal_deliveries += 1\n",
    "            # Check if the delivery was not a bye or leg bye\n",
    "            if row['extra_type'] not in ['byes', 'legbyes']:\n",
    "                total_runs += row['total_run']\n",
    "    \n",
    "    # Calculate the number of overs bowled by the bowler\n",
    "    if legal_deliveries == 0:\n",
    "        overs_bowled = 0\n",
    "    else:\n",
    "        overs_bowled = round(legal_deliveries / 6, 2)\n",
    "\n",
    "    # Calculate the economy of the bowler\n",
    "    if overs_bowled == 0:\n",
    "        economy = 0\n",
    "    else:\n",
    "        economy = round(total_runs / overs_bowled, 2)\n",
    "\n",
    "    # Add the bowler and their overall economy to the dictionary\n",
    "    bowler = name\n",
    "    bowler_economy[bowler] = economy\n",
    "\n",
    "    print(bowler_economy)\n",
    "\n"
   ]
  },
  {
   "cell_type": "code",
   "execution_count": 7,
   "metadata": {},
   "outputs": [
    {
     "name": "stdout",
     "output_type": "stream",
     "text": [
      "                   total_run  balls_bowled  overs_bowled   economy\n",
      "bowler                                                            \n",
      "A Dananjaya               47           291          48.3  0.973085\n",
      "A Mishra                 536          6344        1057.2  0.507000\n",
      "AD Russell               648          5288         881.2  0.735361\n",
      "AJ Tye                   692          7390        1231.4  0.561962\n",
      "AR Patel                 589          5798         966.2  0.609605\n",
      "...                      ...           ...           ...       ...\n",
      "Washington Sundar        269          2130         355.0  0.757746\n",
      "Y Prithvi Raj             57           364          60.4  0.943709\n",
      "YK Pathan                 22           231          38.3  0.574413\n",
      "YS Chahal                768          7895        1315.5  0.583808\n",
      "Yuvraj Singh              23           164          27.2  0.845588\n",
      "\n",
      "[133 rows x 4 columns]\n"
     ]
    },
    {
     "name": "stderr",
     "output_type": "stream",
     "text": [
      "C:\\Users\\manna\\AppData\\Local\\Temp\\ipykernel_10324\\1496515309.py:5: DtypeWarning: Columns (20,30) have mixed types. Specify dtype option on import or set low_memory=False.\n",
      "  df = pd.read_csv('../data/2018_and_2019_ipl_ball_by_ball.csv')\n"
     ]
    }
   ],
   "source": [
    "\n",
    "import pandas as pd\n",
    "import numpy as np\n",
    "\n",
    "# Read the CSV file into a pandas dataframe\n",
    "df = pd.read_csv('../data/2018_and_2019_ipl_ball_by_ball.csv')\n",
    "\n",
    "# Calculate the total number of balls bowled for each row\n",
    "df['balls_bowled'] = df['overs']  + df['ballnumber']\n",
    "\n",
    "# Group the DataFrame by bowler and calculate the total runs and balls bowled for each bowler\n",
    "bowler_stats = df.groupby('bowler').agg({'total_run': 'sum', 'balls_bowled': 'sum'})\n",
    "\n",
    "# Calculate the number of overs bowled for each bowler, rounding up if there are extra balls\n",
    "bowler_stats['overs_bowled'] = bowler_stats['balls_bowled'].apply(lambda x: int(x/6) + (x % 6)/10)\n",
    "\n",
    "# Calculate the economy rate for each bowler and add it as a new column to the DataFrame\n",
    "bowler_stats['economy'] = bowler_stats['total_run'] / bowler_stats['overs_bowled']\n",
    "\n",
    "# Print the final DataFrame with the economy rate for each bowler\n",
    "print(bowler_stats)\n"
   ]
  }
 ],
 "metadata": {
  "kernelspec": {
   "display_name": "Python 3",
   "language": "python",
   "name": "python3"
  },
  "language_info": {
   "codemirror_mode": {
    "name": "ipython",
    "version": 3
   },
   "file_extension": ".py",
   "mimetype": "text/x-python",
   "name": "python",
   "nbconvert_exporter": "python",
   "pygments_lexer": "ipython3",
   "version": "3.9.10"
  },
  "orig_nbformat": 4
 },
 "nbformat": 4,
 "nbformat_minor": 2
}
