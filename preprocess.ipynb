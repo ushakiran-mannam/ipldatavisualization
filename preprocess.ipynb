{
 "cells": [
  {
   "cell_type": "code",
   "execution_count": 1,
   "metadata": {},
   "outputs": [],
   "source": [
    "import pandas as pd\n",
    "\n",
    "# Load the dataset into a pandas dataframe\n",
    "# allball contains ball by ball for all seasons\n",
    "ipl_allballs_df = pd.read_csv('data/allball.csv')\n",
    "ipl_allmatches_df = pd.read_csv('data/allmatches.csv')\n",
    "# print(ipl_df.head())"
   ]
  },
  {
   "cell_type": "code",
   "execution_count": 2,
   "metadata": {},
   "outputs": [
    {
     "name": "stdout",
     "output_type": "stream",
     "text": [
      "['2022' '2021' '2020/21' '2019' '2018' '2017' '2016' '2015' '2014' '2013'\n",
      " '2012' '2011' '2009/10' '2009' '2007/08']\n"
     ]
    }
   ],
   "source": [
    "\n",
    "\n",
    "# print(ipl_allmatches_df.isnull().sum())\n",
    "# checking how many seasons are included in the dataset\n",
    "print(ipl_allmatches_df['Season'].unique())\n"
   ]
  },
  {
   "cell_type": "code",
   "execution_count": 3,
   "metadata": {},
   "outputs": [
    {
     "name": "stdout",
     "output_type": "stream",
     "text": [
      "[1312200 1312199 1312198 1312197 1304116 1304115 1304114 1304113 1304112\n",
      " 1304111 1304110 1304109 1304108 1304107 1304106 1304105 1304104 1304103\n",
      " 1304102 1304101 1304100 1304099 1304098 1304097 1304096 1304095 1304094\n",
      " 1304093 1304092 1304091 1304090 1304089 1304088 1304087 1304086 1304085\n",
      " 1304084 1304083 1304082 1304081 1304080 1304079 1304078 1304077 1304076\n",
      " 1304075 1304074 1304073 1304072 1304071 1304070 1304069 1304068 1304067\n",
      " 1304066 1304065 1304064 1304063 1304062 1304061 1304060 1304059 1304058\n",
      " 1304057 1304056 1304055 1304054 1304053 1304052 1304051 1304050 1304049\n",
      " 1304048 1304047]\n",
      "        ID       City        Date Season  MatchNumber  \\\n",
      "0  1312200  Ahmedabad  2022-05-29   2022        Final   \n",
      "1  1312199  Ahmedabad  2022-05-27   2022  Qualifier 2   \n",
      "2  1312198    Kolkata  2022-05-25   2022   Eliminator   \n",
      "3  1312197    Kolkata  2022-05-24   2022  Qualifier 1   \n",
      "4  1304116     Mumbai  2022-05-22   2022           70   \n",
      "\n",
      "                         Team1                 Team2  \\\n",
      "0             Rajasthan Royals        Gujarat Titans   \n",
      "1  Royal Challengers Bangalore      Rajasthan Royals   \n",
      "2  Royal Challengers Bangalore  Lucknow Super Giants   \n",
      "3             Rajasthan Royals        Gujarat Titans   \n",
      "4          Sunrisers Hyderabad          Punjab Kings   \n",
      "\n",
      "                              Venue            TossWinner TossDecision  \\\n",
      "0  Narendra Modi Stadium, Ahmedabad      Rajasthan Royals          bat   \n",
      "1  Narendra Modi Stadium, Ahmedabad      Rajasthan Royals        field   \n",
      "2             Eden Gardens, Kolkata  Lucknow Super Giants        field   \n",
      "3             Eden Gardens, Kolkata        Gujarat Titans        field   \n",
      "4          Wankhede Stadium, Mumbai   Sunrisers Hyderabad          bat   \n",
      "\n",
      "  SuperOver                  WinningTeam    WonBy  Margin method  \\\n",
      "0         N               Gujarat Titans  Wickets     7.0    NaN   \n",
      "1         N             Rajasthan Royals  Wickets     7.0    NaN   \n",
      "2         N  Royal Challengers Bangalore     Runs    14.0    NaN   \n",
      "3         N               Gujarat Titans  Wickets     7.0    NaN   \n",
      "4         N                 Punjab Kings  Wickets     5.0    NaN   \n",
      "\n",
      "  Player_of_Match                                       Team1Players  \\\n",
      "0       HH Pandya  ['YBK Jaiswal', 'JC Buttler', 'SV Samson', 'D ...   \n",
      "1      JC Buttler  ['V Kohli', 'F du Plessis', 'RM Patidar', 'GJ ...   \n",
      "2      RM Patidar  ['V Kohli', 'F du Plessis', 'RM Patidar', 'GJ ...   \n",
      "3       DA Miller  ['YBK Jaiswal', 'JC Buttler', 'SV Samson', 'D ...   \n",
      "4   Harpreet Brar  ['PK Garg', 'Abhishek Sharma', 'RA Tripathi', ...   \n",
      "\n",
      "                                        Team2Players        Umpire1  \\\n",
      "0  ['WP Saha', 'Shubman Gill', 'MS Wade', 'HH Pan...    CB Gaffaney   \n",
      "1  ['YBK Jaiswal', 'JC Buttler', 'SV Samson', 'D ...    CB Gaffaney   \n",
      "2  ['Q de Kock', 'KL Rahul', 'M Vohra', 'DJ Hooda...  J Madanagopal   \n",
      "3  ['WP Saha', 'Shubman Gill', 'MS Wade', 'HH Pan...   BNJ Oxenford   \n",
      "4  ['JM Bairstow', 'S Dhawan', 'M Shahrukh Khan',...   AK Chaudhary   \n",
      "\n",
      "         Umpire2  \n",
      "0    Nitin Menon  \n",
      "1    Nitin Menon  \n",
      "2       MA Gough  \n",
      "3      VK Sharma  \n",
      "4  NA Patwardhan  \n"
     ]
    }
   ],
   "source": [
    "# filtering out the matches data based on the season 2022\n",
    "ipl_allmatches_df = ipl_allmatches_df[ipl_allmatches_df['Season']=='2019']\n",
    "# checking how many mathes are there in 2022 season\n",
    "print(ipl_allmatches_df['ID'].unique())\n",
    "print(ipl_allmatches_df.head())\n",
    "# Merge the two datasets based on the matchid column with inner join\n",
    "merged_ipl_df = pd.merge(ipl_allballs_df, ipl_allmatches_df, on='ID', how='inner')"
   ]
  },
  {
   "cell_type": "code",
   "execution_count": 4,
   "metadata": {},
   "outputs": [
    {
     "name": "stdout",
     "output_type": "stream",
     "text": [
      "ID                       0\n",
      "innings                  0\n",
      "overs                    0\n",
      "ballnumber               0\n",
      "batter                   0\n",
      "bowler                   0\n",
      "non-striker              0\n",
      "extra_type           16862\n",
      "batsman_run              0\n",
      "extras_run               0\n",
      "total_run                0\n",
      "non_boundary             0\n",
      "isWicketDelivery         0\n",
      "player_out           17000\n",
      "kind                 17000\n",
      "fielders_involved    17208\n",
      "BattingTeam              0\n",
      "City                     0\n",
      "Date                     0\n",
      "Season                   0\n",
      "MatchNumber              0\n",
      "Team1                    0\n",
      "Team2                    0\n",
      "Venue                    0\n",
      "TossWinner               0\n",
      "TossDecision             0\n",
      "SuperOver                0\n",
      "WinningTeam              0\n",
      "WonBy                    0\n",
      "Margin                   0\n",
      "method               17912\n",
      "Player_of_Match          0\n",
      "Team1Players             0\n",
      "Team2Players             0\n",
      "Umpire1                  0\n",
      "Umpire2                  0\n",
      "dtype: int64\n",
      "[1312200 1312199 1312198 1312197 1304116 1304115 1304114 1304113 1304112\n",
      " 1304111 1304110 1304109 1304108 1304107 1304106 1304105 1304104 1304103\n",
      " 1304102 1304101 1304100 1304099 1304098 1304097 1304096 1304095 1304094\n",
      " 1304093 1304092 1304091 1304090 1304089 1304088 1304087 1304086 1304085\n",
      " 1304084 1304083 1304082 1304081 1304080 1304079 1304078 1304077 1304076\n",
      " 1304075 1304074 1304073 1304072 1304071 1304070 1304069 1304068 1304067\n",
      " 1304066 1304065 1304064 1304063 1304062 1304061 1304060 1304059 1304058\n",
      " 1304057 1304056 1304055 1304054 1304053 1304052 1304051 1304050 1304049\n",
      " 1304048 1304047]\n"
     ]
    }
   ],
   "source": [
    "# print(merged_ipl_df.head())\n",
    "# checking if there are any null values in each column to identify the missing values\n",
    "print(merged_ipl_df.isnull().sum())\n",
    "\n",
    "# we can identify from above result that data is complete with no missing values, however the batsman\n",
    "# dismissal data can contain missing values as every delivery may not be a wicket\n",
    "\n",
    "# verifying if all the matches data from 2022 season is present in the dataset\n",
    "print(merged_ipl_df['ID'].unique())"
   ]
  },
  {
   "cell_type": "code",
   "execution_count": 36,
   "metadata": {},
   "outputs": [],
   "source": [
    "# Save the merged dataset to a new CSV file which can be used later\n",
    "merged_ipl_df.to_csv(\"data/2022_ipl_ball_by_ball.csv\", index=False)"
   ]
  }
 ],
 "metadata": {
  "kernelspec": {
   "display_name": "Python 3 (ipykernel)",
   "language": "python",
   "name": "python3"
  },
  "language_info": {
   "codemirror_mode": {
    "name": "ipython",
    "version": 3
   },
   "file_extension": ".py",
   "mimetype": "text/x-python",
   "name": "python",
   "nbconvert_exporter": "python",
   "pygments_lexer": "ipython3",
   "version": "3.9.10"
  },
  "orig_nbformat": 4
 },
 "nbformat": 4,
 "nbformat_minor": 2
}
