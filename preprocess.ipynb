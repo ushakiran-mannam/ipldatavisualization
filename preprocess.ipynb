{
 "cells": [
  {
   "cell_type": "code",
   "execution_count": 21,
   "metadata": {},
   "outputs": [],
   "source": [
    "import pandas as pd\n",
    "\n",
    "# Load the dataset into a pandas dataframe\n",
    "# allball contains ball by ball for all seasons\n",
    "ipl_allballs_df = pd.read_csv('data/allball.csv')\n",
    "ipl_allmatches_df = pd.read_csv('data/allmatches.csv')\n",
    "# print(ipl_df.head())"
   ]
  },
  {
   "cell_type": "code",
   "execution_count": 22,
   "metadata": {},
   "outputs": [
    {
     "name": "stdout",
     "output_type": "stream",
     "text": [
      "['2022' '2021' '2020/21' '2019' '2018' '2017' '2016' '2015' '2014' '2013'\n",
      " '2012' '2011' '2009/10' '2009' '2007/08']\n"
     ]
    }
   ],
   "source": [
    "\n",
    "\n",
    "# print(ipl_allmatches_df.isnull().sum())\n",
    "# checking how many seasons are included in the dataset\n",
    "print(ipl_allmatches_df['Season'].unique())\n"
   ]
  },
  {
   "cell_type": "code",
   "execution_count": 23,
   "metadata": {},
   "outputs": [
    {
     "name": "stdout",
     "output_type": "stream",
     "text": [
      "[1181768 1181767 1181766 1181764 1178430 1178431 1178429 1178428 1178427\n",
      " 1178426 1178425 1178424 1178423 1178422 1178421 1178420 1178419 1178418\n",
      " 1178417 1178416 1178415 1178413 1178414 1178412 1178411 1178410 1178409\n",
      " 1178408 1178407 1178406 1178404 1178405 1178402 1178403 1178401 1178400\n",
      " 1178399 1178398 1178397 1178396 1178395 1178394 1178393 1175372 1175371\n",
      " 1175370 1175369 1175368 1175366 1175367 1175365 1175364 1175363 1175362\n",
      " 1175361 1175360 1175359 1175358 1175357 1175356 1136620 1136619 1136618\n",
      " 1136617 1136616 1136615 1136614 1136613 1136612 1136611 1136610 1136609\n",
      " 1136608 1136607 1136606 1136605 1136604 1136603 1136602 1136601 1136600\n",
      " 1136599 1136598 1136597 1136596 1136595 1136594 1136593 1136592 1136591\n",
      " 1136590 1136588 1136589 1136587 1136586 1136585 1136584 1136583 1136582\n",
      " 1136581 1136580 1136579 1136578 1136577 1136576 1136575 1136574 1136573\n",
      " 1136572 1136571 1136570 1136569 1136568 1136567 1136566 1136565 1136564\n",
      " 1136562 1136563 1136561]\n",
      "          ID           City        Date Season MatchNumber  \\\n",
      "194  1181768      Hyderabad  12-05-2019   2019       Final   \n",
      "195  1181767  Visakhapatnam  10-05-2019   2019   Qualifier   \n",
      "196  1181766  Visakhapatnam  08-05-2019   2019  Eliminator   \n",
      "197  1181764        Chennai  07-05-2019   2019   Qualifier   \n",
      "198  1178430     Chandigarh  05-05-2019   2019          55   \n",
      "\n",
      "                   Team1                Team2  \\\n",
      "194       Mumbai Indians  Chennai Super Kings   \n",
      "195       Delhi Capitals  Chennai Super Kings   \n",
      "196  Sunrisers Hyderabad       Delhi Capitals   \n",
      "197  Chennai Super Kings       Mumbai Indians   \n",
      "198  Chennai Super Kings      Kings XI Punjab   \n",
      "\n",
      "                                                 Venue           TossWinner  \\\n",
      "194                 Rajiv Gandhi International Stadium       Mumbai Indians   \n",
      "195  Dr. Y.S. Rajasekhara Reddy ACA-VDCA Cricket St...  Chennai Super Kings   \n",
      "196  Dr. Y.S. Rajasekhara Reddy ACA-VDCA Cricket St...       Delhi Capitals   \n",
      "197                             MA Chidambaram Stadium  Chennai Super Kings   \n",
      "198       Punjab Cricket Association IS Bindra Stadium      Kings XI Punjab   \n",
      "\n",
      "    TossDecision SuperOver          WinningTeam    WonBy  Margin method  \\\n",
      "194          bat         N       Mumbai Indians     Runs     1.0    NaN   \n",
      "195        field         N  Chennai Super Kings  Wickets     6.0    NaN   \n",
      "196        field         N       Delhi Capitals  Wickets     2.0    NaN   \n",
      "197          bat         N       Mumbai Indians  Wickets     6.0    NaN   \n",
      "198        field         N      Kings XI Punjab  Wickets     6.0    NaN   \n",
      "\n",
      "    Player_of_Match                                       Team1Players  \\\n",
      "194       JJ Bumrah  ['Q de Kock', 'RG Sharma', 'SA Yadav', 'Ishan ...   \n",
      "195    F du Plessis  ['PP Shaw', 'S Dhawan', 'C Munro', 'SS Iyer', ...   \n",
      "196         RR Pant  ['WP Saha', 'MJ Guptill', 'MK Pandey', 'KS Wil...   \n",
      "197        SA Yadav  ['F du Plessis', 'SR Watson', 'SK Raina', 'M V...   \n",
      "198        KL Rahul  ['F du Plessis', 'SR Watson', 'SK Raina', 'MS ...   \n",
      "\n",
      "                                          Team2Players        Umpire1  \\\n",
      "194  ['F du Plessis', 'SR Watson', 'SK Raina', 'AT ...       IJ Gould   \n",
      "195  ['F du Plessis', 'SR Watson', 'SK Raina', 'AT ...   BNJ Oxenford   \n",
      "196  ['PP Shaw', 'S Dhawan', 'SS Iyer', 'RR Pant', ...   BNJ Oxenford   \n",
      "197  ['RG Sharma', 'Q de Kock', 'SA Yadav', 'Ishan ...       NJ Llong   \n",
      "198  ['KL Rahul', 'CH Gayle', 'N Pooran', 'MA Agarw...  C Shamshuddin   \n",
      "\n",
      "                   Umpire2  \n",
      "194            Nitin Menon  \n",
      "195                 S Ravi  \n",
      "196                 S Ravi  \n",
      "197            Nitin Menon  \n",
      "198  KN Ananthapadmanabhan  \n"
     ]
    }
   ],
   "source": [
    "# filtering out the matches data based on the season 2022\n",
    "# ipl_allmatches_df = ipl_allmatches_df[ipl_allmatches_df['Season']=='2018']\n",
    "ipl_allmatches_df = ipl_allmatches_df[(ipl_allmatches_df['Season']=='2018') | (ipl_allmatches_df['Season']=='2019')]\n",
    "\n",
    "# checking how many mathes are there in 2022 season\n",
    "print(ipl_allmatches_df['ID'].unique())\n",
    "print(ipl_allmatches_df.head())\n",
    "# Merge the two datasets based on the matchid column with inner join\n",
    "merged_ipl_df = pd.merge(ipl_allballs_df, ipl_allmatches_df, on='ID', how='inner')"
   ]
  },
  {
   "cell_type": "code",
   "execution_count": 24,
   "metadata": {},
   "outputs": [
    {
     "name": "stdout",
     "output_type": "stream",
     "text": [
      "ID                       0\n",
      "innings                  0\n",
      "overs                    0\n",
      "ballnumber               0\n",
      "batter                   0\n",
      "bowler                   0\n",
      "non-striker              0\n",
      "extra_type           27249\n",
      "batsman_run              0\n",
      "extras_run               0\n",
      "total_run                0\n",
      "non_boundary             0\n",
      "isWicketDelivery         0\n",
      "player_out           27191\n",
      "kind                 27191\n",
      "fielders_involved    27632\n",
      "BattingTeam              0\n",
      "City                     0\n",
      "Date                     0\n",
      "Season                   0\n",
      "MatchNumber              0\n",
      "Team1                    0\n",
      "Team2                    0\n",
      "Venue                    0\n",
      "TossWinner               0\n",
      "TossDecision             0\n",
      "SuperOver               51\n",
      "WinningTeam             51\n",
      "WonBy                    0\n",
      "Margin                 561\n",
      "method               28071\n",
      "Player_of_Match         51\n",
      "Team1Players             0\n",
      "Team2Players             0\n",
      "Umpire1                  0\n",
      "Umpire2                  0\n",
      "dtype: int64\n",
      "[1181768 1181767 1181766 1181764 1178431 1178430 1178429 1178428 1178427\n",
      " 1178426 1178425 1178424 1178423 1178422 1178421 1178420 1178419 1178418\n",
      " 1178417 1178416 1178415 1178414 1178413 1178412 1178411 1178410 1178409\n",
      " 1178408 1178407 1178406 1178405 1178404 1178403 1178402 1178401 1178400\n",
      " 1178399 1178398 1178397 1178396 1178395 1178394 1178393 1175372 1175371\n",
      " 1175370 1175369 1175368 1175367 1175366 1175365 1175364 1175363 1175362\n",
      " 1175361 1175360 1175359 1175358 1175357 1175356 1136620 1136619 1136618\n",
      " 1136617 1136616 1136615 1136614 1136613 1136612 1136611 1136610 1136609\n",
      " 1136608 1136607 1136606 1136605 1136604 1136603 1136602 1136601 1136600\n",
      " 1136599 1136598 1136597 1136596 1136595 1136594 1136593 1136592 1136591\n",
      " 1136590 1136589 1136588 1136587 1136586 1136585 1136584 1136583 1136582\n",
      " 1136581 1136580 1136579 1136578 1136577 1136576 1136575 1136574 1136573\n",
      " 1136572 1136571 1136570 1136569 1136568 1136567 1136566 1136565 1136564\n",
      " 1136563 1136562 1136561]\n"
     ]
    }
   ],
   "source": [
    "# print(merged_ipl_df.head())\n",
    "# checking if there are any null values in each column to identify the missing values\n",
    "print(merged_ipl_df.isnull().sum())\n",
    "\n",
    "# we can identify from above result that data is complete with no missing values, however the batsman\n",
    "# dismissal data can contain missing values as every delivery may not be a wicket\n",
    "\n",
    "# verifying if all the matches data from 2022 season is present in the dataset\n",
    "print(merged_ipl_df['ID'].unique())"
   ]
  },
  {
   "cell_type": "code",
   "execution_count": 25,
   "metadata": {},
   "outputs": [],
   "source": [
    "# Save the merged dataset to a new CSV file which can be used later\n",
    "merged_ipl_df.to_csv(\"data/2018_and_2019_ipl_ball_by_ball.csv\", index=False)"
   ]
  }
 ],
 "metadata": {
  "kernelspec": {
   "display_name": "Python 3 (ipykernel)",
   "language": "python",
   "name": "python3"
  },
  "language_info": {
   "codemirror_mode": {
    "name": "ipython",
    "version": 3
   },
   "file_extension": ".py",
   "mimetype": "text/x-python",
   "name": "python",
   "nbconvert_exporter": "python",
   "pygments_lexer": "ipython3",
   "version": "3.9.10"
  },
  "orig_nbformat": 4
 },
 "nbformat": 4,
 "nbformat_minor": 2
}
