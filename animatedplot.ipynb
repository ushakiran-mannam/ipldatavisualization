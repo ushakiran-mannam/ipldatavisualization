{
 "cells": [
  {
   "cell_type": "code",
   "execution_count": 2,
   "metadata": {},
   "outputs": [],
   "source": [
    "import pandas as pd\n",
    "import plotly.express as px\n",
    "\n",
    "# read in the data\n",
    "df = pd.read_csv(\"data/2018_ipl_ball_by_ball.csv\")\n",
    "\n",
    "# group the data by batter and matchid\n",
    "grouped = df.groupby([\"batter\", \"ID\"])\n"
   ]
  },
  {
   "cell_type": "code",
   "execution_count": 3,
   "metadata": {},
   "outputs": [],
   "source": [
    "# calculate the batting strike rate for each match\n",
    "strike_rates = []\n",
    "for name, group in grouped:\n",
    "    runs = group[\"batsman_run\"].sum()\n",
    "    balls = group.shape[0]\n",
    "    strike_rate = (runs / balls) * 100\n",
    "    strike_rates.append((name[0], name[1], strike_rate))"
   ]
  },
  {
   "cell_type": "code",
   "execution_count": 4,
   "metadata": {},
   "outputs": [
    {
     "data": {
      "application/vnd.plotly.v1+json": {
       "config": {
        "plotlyServerURL": "https://plot.ly"
       },
       "data": [
        {
         "hovertemplate": "batter=A Dananjaya<br>matchid=%{x}<br>strike_rate=%{y}<extra></extra>",
         "ids": [
          "A Dananjaya"
         ],
         "legendgroup": "A Dananjaya",
         "marker": {
          "color": "#636efa",
          "symbol": "circle"
         },
         "mode": "markers",
         "name": "A Dananjaya",
         "orientation": "v",
         "showlegend": true,
         "type": "scatter",
         "x": [
          1136569
         ],
         "xaxis": "x",
         "y": [
          80
         ],
         "yaxis": "y"
        },
        {
         "hovertemplate": "batter=E Lewis<br>matchid=%{x}<br>strike_rate=%{y}<extra></extra>",
         "ids": [
          "E Lewis"
         ],
         "legendgroup": "E Lewis",
         "marker": {
          "color": "#FF97FF",
          "symbol": "circle"
         },
         "mode": "markers",
         "name": "E Lewis",
         "orientation": "v",
         "showlegend": true,
         "type": "scatter",
         "x": [
          1136569
         ],
         "xaxis": "x",
         "y": [
          154.83870967741936
         ],
         "yaxis": "y"
        },
        {
         "hovertemplate": "batter=G Gambhir<br>matchid=%{x}<br>strike_rate=%{y}<extra></extra>",
         "ids": [
          "G Gambhir"
         ],
         "legendgroup": "G Gambhir",
         "marker": {
          "color": "#636efa",
          "symbol": "circle"
         },
         "mode": "markers",
         "name": "G Gambhir",
         "orientation": "v",
         "showlegend": true,
         "type": "scatter",
         "x": [
          1136569
         ],
         "xaxis": "x",
         "y": [
          93.75
         ],
         "yaxis": "y"
        },
        {
         "hovertemplate": "batter=GJ Maxwell<br>matchid=%{x}<br>strike_rate=%{y}<extra></extra>",
         "ids": [
          "GJ Maxwell"
         ],
         "legendgroup": "GJ Maxwell",
         "marker": {
          "color": "#EF553B",
          "symbol": "circle"
         },
         "mode": "markers",
         "name": "GJ Maxwell",
         "orientation": "v",
         "showlegend": true,
         "type": "scatter",
         "x": [
          1136569
         ],
         "xaxis": "x",
         "y": [
          216.66666666666666
         ],
         "yaxis": "y"
        },
        {
         "hovertemplate": "batter=HH Pandya<br>matchid=%{x}<br>strike_rate=%{y}<extra></extra>",
         "ids": [
          "HH Pandya"
         ],
         "legendgroup": "HH Pandya",
         "marker": {
          "color": "#ab63fa",
          "symbol": "circle"
         },
         "mode": "markers",
         "name": "HH Pandya",
         "orientation": "v",
         "showlegend": true,
         "type": "scatter",
         "x": [
          1136569
         ],
         "xaxis": "x",
         "y": [
          66.66666666666666
         ],
         "yaxis": "y"
        },
        {
         "hovertemplate": "batter=Ishan Kishan<br>matchid=%{x}<br>strike_rate=%{y}<extra></extra>",
         "ids": [
          "Ishan Kishan"
         ],
         "legendgroup": "Ishan Kishan",
         "marker": {
          "color": "#FF97FF",
          "symbol": "circle"
         },
         "mode": "markers",
         "name": "Ishan Kishan",
         "orientation": "v",
         "showlegend": true,
         "type": "scatter",
         "x": [
          1136569
         ],
         "xaxis": "x",
         "y": [
          191.30434782608697
         ],
         "yaxis": "y"
        },
        {
         "hovertemplate": "batter=JJ Roy<br>matchid=%{x}<br>strike_rate=%{y}<extra></extra>",
         "ids": [
          "JJ Roy"
         ],
         "legendgroup": "JJ Roy",
         "marker": {
          "color": "#ab63fa",
          "symbol": "circle"
         },
         "mode": "markers",
         "name": "JJ Roy",
         "orientation": "v",
         "showlegend": true,
         "type": "scatter",
         "x": [
          1136569
         ],
         "xaxis": "x",
         "y": [
          168.5185185185185
         ],
         "yaxis": "y"
        },
        {
         "hovertemplate": "batter=KA Pollard<br>matchid=%{x}<br>strike_rate=%{y}<extra></extra>",
         "ids": [
          "KA Pollard"
         ],
         "legendgroup": "KA Pollard",
         "marker": {
          "color": "#B6E880",
          "symbol": "circle"
         },
         "mode": "markers",
         "name": "KA Pollard",
         "orientation": "v",
         "showlegend": true,
         "type": "scatter",
         "x": [
          1136569
         ],
         "xaxis": "x",
         "y": [
          0
         ],
         "yaxis": "y"
        },
        {
         "hovertemplate": "batter=KH Pandya<br>matchid=%{x}<br>strike_rate=%{y}<extra></extra>",
         "ids": [
          "KH Pandya"
         ],
         "legendgroup": "KH Pandya",
         "marker": {
          "color": "#FECB52",
          "symbol": "circle"
         },
         "mode": "markers",
         "name": "KH Pandya",
         "orientation": "v",
         "showlegend": true,
         "type": "scatter",
         "x": [
          1136569
         ],
         "xaxis": "x",
         "y": [
          100
         ],
         "yaxis": "y"
        },
        {
         "hovertemplate": "batter=M Markande<br>matchid=%{x}<br>strike_rate=%{y}<extra></extra>",
         "ids": [
          "M Markande"
         ],
         "legendgroup": "M Markande",
         "marker": {
          "color": "#B6E880",
          "symbol": "circle"
         },
         "mode": "markers",
         "name": "M Markande",
         "orientation": "v",
         "showlegend": true,
         "type": "scatter",
         "x": [
          1136569
         ],
         "xaxis": "x",
         "y": [
          133.33333333333331
         ],
         "yaxis": "y"
        },
        {
         "hovertemplate": "batter=RG Sharma<br>matchid=%{x}<br>strike_rate=%{y}<extra></extra>",
         "ids": [
          "RG Sharma"
         ],
         "legendgroup": "RG Sharma",
         "marker": {
          "color": "#00cc96",
          "symbol": "circle"
         },
         "mode": "markers",
         "name": "RG Sharma",
         "orientation": "v",
         "showlegend": true,
         "type": "scatter",
         "x": [
          1136569
         ],
         "xaxis": "x",
         "y": [
          112.5
         ],
         "yaxis": "y"
        },
        {
         "hovertemplate": "batter=RR Pant<br>matchid=%{x}<br>strike_rate=%{y}<extra></extra>",
         "ids": [
          "RR Pant"
         ],
         "legendgroup": "RR Pant",
         "marker": {
          "color": "#19d3f3",
          "symbol": "circle"
         },
         "mode": "markers",
         "name": "RR Pant",
         "orientation": "v",
         "showlegend": true,
         "type": "scatter",
         "x": [
          1136569
         ],
         "xaxis": "x",
         "y": [
          188
         ],
         "yaxis": "y"
        },
        {
         "hovertemplate": "batter=SA Yadav<br>matchid=%{x}<br>strike_rate=%{y}<extra></extra>",
         "ids": [
          "SA Yadav"
         ],
         "legendgroup": "SA Yadav",
         "marker": {
          "color": "#00cc96",
          "symbol": "circle"
         },
         "mode": "markers",
         "name": "SA Yadav",
         "orientation": "v",
         "showlegend": true,
         "type": "scatter",
         "x": [
          1136569
         ],
         "xaxis": "x",
         "y": [
          165.625
         ],
         "yaxis": "y"
        },
        {
         "hovertemplate": "batter=SS Iyer<br>matchid=%{x}<br>strike_rate=%{y}<extra></extra>",
         "ids": [
          "SS Iyer"
         ],
         "legendgroup": "SS Iyer",
         "marker": {
          "color": "#FECB52",
          "symbol": "circle"
         },
         "mode": "markers",
         "name": "SS Iyer",
         "orientation": "v",
         "showlegend": true,
         "type": "scatter",
         "x": [
          1136569
         ],
         "xaxis": "x",
         "y": [
          135
         ],
         "yaxis": "y"
        }
       ],
       "frames": [
        {
         "data": [
          {
           "hovertemplate": "batter=A Dananjaya<br>matchid=%{x}<br>strike_rate=%{y}<extra></extra>",
           "ids": [
            "A Dananjaya"
           ],
           "legendgroup": "A Dananjaya",
           "marker": {
            "color": "#636efa",
            "symbol": "circle"
           },
           "mode": "markers",
           "name": "A Dananjaya",
           "orientation": "v",
           "showlegend": true,
           "type": "scatter",
           "x": [
            1136569
           ],
           "xaxis": "x",
           "y": [
            80
           ],
           "yaxis": "y"
          },
          {
           "hovertemplate": "batter=E Lewis<br>matchid=%{x}<br>strike_rate=%{y}<extra></extra>",
           "ids": [
            "E Lewis"
           ],
           "legendgroup": "E Lewis",
           "marker": {
            "color": "#FF97FF",
            "symbol": "circle"
           },
           "mode": "markers",
           "name": "E Lewis",
           "orientation": "v",
           "showlegend": true,
           "type": "scatter",
           "x": [
            1136569
           ],
           "xaxis": "x",
           "y": [
            154.83870967741936
           ],
           "yaxis": "y"
          },
          {
           "hovertemplate": "batter=G Gambhir<br>matchid=%{x}<br>strike_rate=%{y}<extra></extra>",
           "ids": [
            "G Gambhir"
           ],
           "legendgroup": "G Gambhir",
           "marker": {
            "color": "#636efa",
            "symbol": "circle"
           },
           "mode": "markers",
           "name": "G Gambhir",
           "orientation": "v",
           "showlegend": true,
           "type": "scatter",
           "x": [
            1136569
           ],
           "xaxis": "x",
           "y": [
            93.75
           ],
           "yaxis": "y"
          },
          {
           "hovertemplate": "batter=GJ Maxwell<br>matchid=%{x}<br>strike_rate=%{y}<extra></extra>",
           "ids": [
            "GJ Maxwell"
           ],
           "legendgroup": "GJ Maxwell",
           "marker": {
            "color": "#EF553B",
            "symbol": "circle"
           },
           "mode": "markers",
           "name": "GJ Maxwell",
           "orientation": "v",
           "showlegend": true,
           "type": "scatter",
           "x": [
            1136569
           ],
           "xaxis": "x",
           "y": [
            216.66666666666666
           ],
           "yaxis": "y"
          },
          {
           "hovertemplate": "batter=HH Pandya<br>matchid=%{x}<br>strike_rate=%{y}<extra></extra>",
           "ids": [
            "HH Pandya"
           ],
           "legendgroup": "HH Pandya",
           "marker": {
            "color": "#ab63fa",
            "symbol": "circle"
           },
           "mode": "markers",
           "name": "HH Pandya",
           "orientation": "v",
           "showlegend": true,
           "type": "scatter",
           "x": [
            1136569
           ],
           "xaxis": "x",
           "y": [
            66.66666666666666
           ],
           "yaxis": "y"
          },
          {
           "hovertemplate": "batter=Ishan Kishan<br>matchid=%{x}<br>strike_rate=%{y}<extra></extra>",
           "ids": [
            "Ishan Kishan"
           ],
           "legendgroup": "Ishan Kishan",
           "marker": {
            "color": "#FF97FF",
            "symbol": "circle"
           },
           "mode": "markers",
           "name": "Ishan Kishan",
           "orientation": "v",
           "showlegend": true,
           "type": "scatter",
           "x": [
            1136569
           ],
           "xaxis": "x",
           "y": [
            191.30434782608697
           ],
           "yaxis": "y"
          },
          {
           "hovertemplate": "batter=JJ Roy<br>matchid=%{x}<br>strike_rate=%{y}<extra></extra>",
           "ids": [
            "JJ Roy"
           ],
           "legendgroup": "JJ Roy",
           "marker": {
            "color": "#ab63fa",
            "symbol": "circle"
           },
           "mode": "markers",
           "name": "JJ Roy",
           "orientation": "v",
           "showlegend": true,
           "type": "scatter",
           "x": [
            1136569
           ],
           "xaxis": "x",
           "y": [
            168.5185185185185
           ],
           "yaxis": "y"
          },
          {
           "hovertemplate": "batter=KA Pollard<br>matchid=%{x}<br>strike_rate=%{y}<extra></extra>",
           "ids": [
            "KA Pollard"
           ],
           "legendgroup": "KA Pollard",
           "marker": {
            "color": "#B6E880",
            "symbol": "circle"
           },
           "mode": "markers",
           "name": "KA Pollard",
           "orientation": "v",
           "showlegend": true,
           "type": "scatter",
           "x": [
            1136569
           ],
           "xaxis": "x",
           "y": [
            0
           ],
           "yaxis": "y"
          },
          {
           "hovertemplate": "batter=KH Pandya<br>matchid=%{x}<br>strike_rate=%{y}<extra></extra>",
           "ids": [
            "KH Pandya"
           ],
           "legendgroup": "KH Pandya",
           "marker": {
            "color": "#FECB52",
            "symbol": "circle"
           },
           "mode": "markers",
           "name": "KH Pandya",
           "orientation": "v",
           "showlegend": true,
           "type": "scatter",
           "x": [
            1136569
           ],
           "xaxis": "x",
           "y": [
            100
           ],
           "yaxis": "y"
          },
          {
           "hovertemplate": "batter=M Markande<br>matchid=%{x}<br>strike_rate=%{y}<extra></extra>",
           "ids": [
            "M Markande"
           ],
           "legendgroup": "M Markande",
           "marker": {
            "color": "#B6E880",
            "symbol": "circle"
           },
           "mode": "markers",
           "name": "M Markande",
           "orientation": "v",
           "showlegend": true,
           "type": "scatter",
           "x": [
            1136569
           ],
           "xaxis": "x",
           "y": [
            133.33333333333331
           ],
           "yaxis": "y"
          },
          {
           "hovertemplate": "batter=RG Sharma<br>matchid=%{x}<br>strike_rate=%{y}<extra></extra>",
           "ids": [
            "RG Sharma"
           ],
           "legendgroup": "RG Sharma",
           "marker": {
            "color": "#00cc96",
            "symbol": "circle"
           },
           "mode": "markers",
           "name": "RG Sharma",
           "orientation": "v",
           "showlegend": true,
           "type": "scatter",
           "x": [
            1136569
           ],
           "xaxis": "x",
           "y": [
            112.5
           ],
           "yaxis": "y"
          },
          {
           "hovertemplate": "batter=RR Pant<br>matchid=%{x}<br>strike_rate=%{y}<extra></extra>",
           "ids": [
            "RR Pant"
           ],
           "legendgroup": "RR Pant",
           "marker": {
            "color": "#19d3f3",
            "symbol": "circle"
           },
           "mode": "markers",
           "name": "RR Pant",
           "orientation": "v",
           "showlegend": true,
           "type": "scatter",
           "x": [
            1136569
           ],
           "xaxis": "x",
           "y": [
            188
           ],
           "yaxis": "y"
          },
          {
           "hovertemplate": "batter=SA Yadav<br>matchid=%{x}<br>strike_rate=%{y}<extra></extra>",
           "ids": [
            "SA Yadav"
           ],
           "legendgroup": "SA Yadav",
           "marker": {
            "color": "#00cc96",
            "symbol": "circle"
           },
           "mode": "markers",
           "name": "SA Yadav",
           "orientation": "v",
           "showlegend": true,
           "type": "scatter",
           "x": [
            1136569
           ],
           "xaxis": "x",
           "y": [
            165.625
           ],
           "yaxis": "y"
          },
          {
           "hovertemplate": "batter=SS Iyer<br>matchid=%{x}<br>strike_rate=%{y}<extra></extra>",
           "ids": [
            "SS Iyer"
           ],
           "legendgroup": "SS Iyer",
           "marker": {
            "color": "#FECB52",
            "symbol": "circle"
           },
           "mode": "markers",
           "name": "SS Iyer",
           "orientation": "v",
           "showlegend": true,
           "type": "scatter",
           "x": [
            1136569
           ],
           "xaxis": "x",
           "y": [
            135
           ],
           "yaxis": "y"
          }
         ],
         "name": "1136569"
        },
        {
         "data": [
          {
           "hovertemplate": "batter=A Mishra<br>matchid=%{x}<br>strike_rate=%{y}<extra></extra>",
           "ids": [
            "A Mishra"
           ],
           "legendgroup": "A Mishra",
           "marker": {
            "color": "#EF553B",
            "symbol": "circle"
           },
           "mode": "markers",
           "name": "A Mishra",
           "orientation": "v",
           "showlegend": true,
           "type": "scatter",
           "x": [
            1136582
           ],
           "xaxis": "x",
           "y": [
            50
           ],
           "yaxis": "y"
          },
          {
           "hovertemplate": "batter=AJ Finch<br>matchid=%{x}<br>strike_rate=%{y}<extra></extra>",
           "ids": [
            "AJ Finch"
           ],
           "legendgroup": "AJ Finch",
           "marker": {
            "color": "#FF6692",
            "symbol": "circle"
           },
           "mode": "markers",
           "name": "AJ Finch",
           "orientation": "v",
           "showlegend": true,
           "type": "scatter",
           "x": [
            1136582
           ],
           "xaxis": "x",
           "y": [
            50
           ],
           "yaxis": "y"
          },
          {
           "hovertemplate": "batter=AJ Tye<br>matchid=%{x}<br>strike_rate=%{y}<extra></extra>",
           "ids": [
            "AJ Tye"
           ],
           "legendgroup": "AJ Tye",
           "marker": {
            "color": "#B6E880",
            "symbol": "circle"
           },
           "mode": "markers",
           "name": "AJ Tye",
           "orientation": "v",
           "showlegend": true,
           "type": "scatter",
           "x": [
            1136582
           ],
           "xaxis": "x",
           "y": [
            33.33333333333333
           ],
           "yaxis": "y"
          },
          {
           "hovertemplate": "batter=BB Sran<br>matchid=%{x}<br>strike_rate=%{y}<extra></extra>",
           "ids": [
            "BB Sran"
           ],
           "legendgroup": "BB Sran",
           "marker": {
            "color": "#FECB52",
            "symbol": "circle"
           },
           "mode": "markers",
           "name": "BB Sran",
           "orientation": "v",
           "showlegend": true,
           "type": "scatter",
           "x": [
            1136582
           ],
           "xaxis": "x",
           "y": [
            0
           ],
           "yaxis": "y"
          },
          {
           "hovertemplate": "batter=DA Miller<br>matchid=%{x}<br>strike_rate=%{y}<extra></extra>",
           "ids": [
            "DA Miller"
           ],
           "legendgroup": "DA Miller",
           "marker": {
            "color": "#636efa",
            "symbol": "circle"
           },
           "mode": "markers",
           "name": "DA Miller",
           "orientation": "v",
           "showlegend": true,
           "type": "scatter",
           "x": [
            1136582
           ],
           "xaxis": "x",
           "y": [
            130
           ],
           "yaxis": "y"
          },
          {
           "hovertemplate": "batter=DT Christian<br>matchid=%{x}<br>strike_rate=%{y}<extra></extra>",
           "ids": [
            "DT Christian"
           ],
           "legendgroup": "DT Christian",
           "marker": {
            "color": "#B6E880",
            "symbol": "circle"
           },
           "mode": "markers",
           "name": "DT Christian",
           "orientation": "v",
           "showlegend": true,
           "type": "scatter",
           "x": [
            1136582
           ],
           "xaxis": "x",
           "y": [
            54.54545454545454
           ],
           "yaxis": "y"
          },
          {
           "hovertemplate": "batter=G Gambhir<br>matchid=%{x}<br>strike_rate=%{y}<extra></extra>",
           "ids": [
            "G Gambhir"
           ],
           "legendgroup": "G Gambhir",
           "marker": {
            "color": "#636efa",
            "symbol": "circle"
           },
           "mode": "markers",
           "name": "G Gambhir",
           "orientation": "v",
           "showlegend": true,
           "type": "scatter",
           "x": [
            1136582
           ],
           "xaxis": "x",
           "y": [
            25
           ],
           "yaxis": "y"
          },
          {
           "hovertemplate": "batter=GJ Maxwell<br>matchid=%{x}<br>strike_rate=%{y}<extra></extra>",
           "ids": [
            "GJ Maxwell"
           ],
           "legendgroup": "GJ Maxwell",
           "marker": {
            "color": "#EF553B",
            "symbol": "circle"
           },
           "mode": "markers",
           "name": "GJ Maxwell",
           "orientation": "v",
           "showlegend": true,
           "type": "scatter",
           "x": [
            1136582
           ],
           "xaxis": "x",
           "y": [
            120
           ],
           "yaxis": "y"
          },
          {
           "hovertemplate": "batter=KK Nair<br>matchid=%{x}<br>strike_rate=%{y}<extra></extra>",
           "ids": [
            "KK Nair"
           ],
           "legendgroup": "KK Nair",
           "marker": {
            "color": "#636efa",
            "symbol": "circle"
           },
           "mode": "markers",
           "name": "KK Nair",
           "orientation": "v",
           "showlegend": true,
           "type": "scatter",
           "x": [
            1136582
           ],
           "xaxis": "x",
           "y": [
            103.03030303030303
           ],
           "yaxis": "y"
          },
          {
           "hovertemplate": "batter=KL Rahul<br>matchid=%{x}<br>strike_rate=%{y}<extra></extra>",
           "ids": [
            "KL Rahul"
           ],
           "legendgroup": "KL Rahul",
           "marker": {
            "color": "#EF553B",
            "symbol": "circle"
           },
           "mode": "markers",
           "name": "KL Rahul",
           "orientation": "v",
           "showlegend": true,
           "type": "scatter",
           "x": [
            1136582
           ],
           "xaxis": "x",
           "y": [
            153.33333333333334
           ],
           "yaxis": "y"
          },
          {
           "hovertemplate": "batter=LE Plunkett<br>matchid=%{x}<br>strike_rate=%{y}<extra></extra>",
           "ids": [
            "LE Plunkett"
           ],
           "legendgroup": "LE Plunkett",
           "marker": {
            "color": "#19d3f3",
            "symbol": "circle"
           },
           "mode": "markers",
           "name": "LE Plunkett",
           "orientation": "v",
           "showlegend": true,
           "type": "scatter",
           "x": [
            1136582
           ],
           "xaxis": "x",
           "y": [
            0
           ],
           "yaxis": "y"
          },
          {
           "hovertemplate": "batter=MA Agarwal<br>matchid=%{x}<br>strike_rate=%{y}<extra></extra>",
           "ids": [
            "MA Agarwal"
           ],
           "legendgroup": "MA Agarwal",
           "marker": {
            "color": "#EF553B",
            "symbol": "circle"
           },
           "mode": "markers",
           "name": "MA Agarwal",
           "orientation": "v",
           "showlegend": true,
           "type": "scatter",
           "x": [
            1136582
           ],
           "xaxis": "x",
           "y": [
            131.25
           ],
           "yaxis": "y"
          },
          {
           "hovertemplate": "batter=PP Shaw<br>matchid=%{x}<br>strike_rate=%{y}<extra></extra>",
           "ids": [
            "PP Shaw"
           ],
           "legendgroup": "PP Shaw",
           "marker": {
            "color": "#19d3f3",
            "symbol": "circle"
           },
           "mode": "markers",
           "name": "PP Shaw",
           "orientation": "v",
           "showlegend": true,
           "type": "scatter",
           "x": [
            1136582
           ],
           "xaxis": "x",
           "y": [
            220.00000000000003
           ],
           "yaxis": "y"
          },
          {
           "hovertemplate": "batter=R Ashwin<br>matchid=%{x}<br>strike_rate=%{y}<extra></extra>",
           "ids": [
            "R Ashwin"
           ],
           "legendgroup": "R Ashwin",
           "marker": {
            "color": "#B6E880",
            "symbol": "circle"
           },
           "mode": "markers",
           "name": "R Ashwin",
           "orientation": "v",
           "showlegend": true,
           "type": "scatter",
           "x": [
            1136582
           ],
           "xaxis": "x",
           "y": [
            66.66666666666666
           ],
           "yaxis": "y"
          },
          {
           "hovertemplate": "batter=R Tewatia<br>matchid=%{x}<br>strike_rate=%{y}<extra></extra>",
           "ids": [
            "R Tewatia"
           ],
           "legendgroup": "R Tewatia",
           "marker": {
            "color": "#FF97FF",
            "symbol": "circle"
           },
           "mode": "markers",
           "name": "R Tewatia",
           "orientation": "v",
           "showlegend": true,
           "type": "scatter",
           "x": [
            1136582
           ],
           "xaxis": "x",
           "y": [
            100
           ],
           "yaxis": "y"
          },
          {
           "hovertemplate": "batter=RR Pant<br>matchid=%{x}<br>strike_rate=%{y}<extra></extra>",
           "ids": [
            "RR Pant"
           ],
           "legendgroup": "RR Pant",
           "marker": {
            "color": "#19d3f3",
            "symbol": "circle"
           },
           "mode": "markers",
           "name": "RR Pant",
           "orientation": "v",
           "showlegend": true,
           "type": "scatter",
           "x": [
            1136582
           ],
           "xaxis": "x",
           "y": [
            57.14285714285714
           ],
           "yaxis": "y"
          },
          {
           "hovertemplate": "batter=SS Iyer<br>matchid=%{x}<br>strike_rate=%{y}<extra></extra>",
           "ids": [
            "SS Iyer"
           ],
           "legendgroup": "SS Iyer",
           "marker": {
            "color": "#FECB52",
            "symbol": "circle"
           },
           "mode": "markers",
           "name": "SS Iyer",
           "orientation": "v",
           "showlegend": true,
           "type": "scatter",
           "x": [
            1136582
           ],
           "xaxis": "x",
           "y": [
            123.91304347826086
           ],
           "yaxis": "y"
          },
          {
           "hovertemplate": "batter=Yuvraj Singh<br>matchid=%{x}<br>strike_rate=%{y}<extra></extra>",
           "ids": [
            "Yuvraj Singh"
           ],
           "legendgroup": "Yuvraj Singh",
           "marker": {
            "color": "#B6E880",
            "symbol": "circle"
           },
           "mode": "markers",
           "name": "Yuvraj Singh",
           "orientation": "v",
           "showlegend": true,
           "type": "scatter",
           "x": [
            1136582
           ],
           "xaxis": "x",
           "y": [
            82.35294117647058
           ],
           "yaxis": "y"
          }
         ],
         "name": "1136582"
        },
        {
         "data": [
          {
           "hovertemplate": "batter=AB de Villiers<br>matchid=%{x}<br>strike_rate=%{y}<extra></extra>",
           "ids": [
            "AB de Villiers"
           ],
           "legendgroup": "AB de Villiers",
           "marker": {
            "color": "#00cc96",
            "symbol": "circle"
           },
           "mode": "markers",
           "name": "AB de Villiers",
           "orientation": "v",
           "showlegend": true,
           "type": "scatter",
           "x": [
            1136563
           ],
           "xaxis": "x",
           "y": [
            191.30434782608697
           ],
           "yaxis": "y"
          },
          {
           "hovertemplate": "batter=AD Russell<br>matchid=%{x}<br>strike_rate=%{y}<extra></extra>",
           "ids": [
            "AD Russell"
           ],
           "legendgroup": "AD Russell",
           "marker": {
            "color": "#19d3f3",
            "symbol": "circle"
           },
           "mode": "markers",
           "name": "AD Russell",
           "orientation": "v",
           "showlegend": true,
           "type": "scatter",
           "x": [
            1136563
           ],
           "xaxis": "x",
           "y": [
            115.38461538461537
           ],
           "yaxis": "y"
          },
          {
           "hovertemplate": "batter=BB McCullum<br>matchid=%{x}<br>strike_rate=%{y}<extra></extra>",
           "ids": [
            "BB McCullum"
           ],
           "legendgroup": "BB McCullum",
           "marker": {
            "color": "#FF97FF",
            "symbol": "circle"
           },
           "mode": "markers",
           "name": "BB McCullum",
           "orientation": "v",
           "showlegend": true,
           "type": "scatter",
           "x": [
            1136563
           ],
           "xaxis": "x",
           "y": [
            153.57142857142858
           ],
           "yaxis": "y"
          },
          {
           "hovertemplate": "batter=CA Lynn<br>matchid=%{x}<br>strike_rate=%{y}<extra></extra>",
           "ids": [
            "CA Lynn"
           ],
           "legendgroup": "CA Lynn",
           "marker": {
            "color": "#FFA15A",
            "symbol": "circle"
           },
           "mode": "markers",
           "name": "CA Lynn",
           "orientation": "v",
           "showlegend": true,
           "type": "scatter",
           "x": [
            1136563
           ],
           "xaxis": "x",
           "y": [
            62.5
           ],
           "yaxis": "y"
          },
          {
           "hovertemplate": "batter=CR Woakes<br>matchid=%{x}<br>strike_rate=%{y}<extra></extra>",
           "ids": [
            "CR Woakes"
           ],
           "legendgroup": "CR Woakes",
           "marker": {
            "color": "#FECB52",
            "symbol": "circle"
           },
           "mode": "markers",
           "name": "CR Woakes",
           "orientation": "v",
           "showlegend": true,
           "type": "scatter",
           "x": [
            1136563
           ],
           "xaxis": "x",
           "y": [
            100
           ],
           "yaxis": "y"
          },
          {
           "hovertemplate": "batter=KD Karthik<br>matchid=%{x}<br>strike_rate=%{y}<extra></extra>",
           "ids": [
            "KD Karthik"
           ],
           "legendgroup": "KD Karthik",
           "marker": {
            "color": "#FF97FF",
            "symbol": "circle"
           },
           "mode": "markers",
           "name": "KD Karthik",
           "orientation": "v",
           "showlegend": true,
           "type": "scatter",
           "x": [
            1136563
           ],
           "xaxis": "x",
           "y": [
            109.375
           ],
           "yaxis": "y"
          },
          {
           "hovertemplate": "batter=Mandeep Singh<br>matchid=%{x}<br>strike_rate=%{y}<extra></extra>",
           "ids": [
            "Mandeep Singh"
           ],
           "legendgroup": "Mandeep Singh",
           "marker": {
            "color": "#00cc96",
            "symbol": "circle"
           },
           "mode": "markers",
           "name": "Mandeep Singh",
           "orientation": "v",
           "showlegend": true,
           "type": "scatter",
           "x": [
            1136563
           ],
           "xaxis": "x",
           "y": [
            205.55555555555554
           ],
           "yaxis": "y"
          },
          {
           "hovertemplate": "batter=N Rana<br>matchid=%{x}<br>strike_rate=%{y}<extra></extra>",
           "ids": [
            "N Rana"
           ],
           "legendgroup": "N Rana",
           "marker": {
            "color": "#FF97FF",
            "symbol": "circle"
           },
           "mode": "markers",
           "name": "N Rana",
           "orientation": "v",
           "showlegend": true,
           "type": "scatter",
           "x": [
            1136563
           ],
           "xaxis": "x",
           "y": [
            125.92592592592592
           ],
           "yaxis": "y"
          },
          {
           "hovertemplate": "batter=Q de Kock<br>matchid=%{x}<br>strike_rate=%{y}<extra></extra>",
           "ids": [
            "Q de Kock"
           ],
           "legendgroup": "Q de Kock",
           "marker": {
            "color": "#FF6692",
            "symbol": "circle"
           },
           "mode": "markers",
           "name": "Q de Kock",
           "orientation": "v",
           "showlegend": true,
           "type": "scatter",
           "x": [
            1136563
           ],
           "xaxis": "x",
           "y": [
            100
           ],
           "yaxis": "y"
          },
          {
           "hovertemplate": "batter=R Vinay Kumar<br>matchid=%{x}<br>strike_rate=%{y}<extra></extra>",
           "ids": [
            "R Vinay Kumar"
           ],
           "legendgroup": "R Vinay Kumar",
           "marker": {
            "color": "#FECB52",
            "symbol": "circle"
           },
           "mode": "markers",
           "name": "R Vinay Kumar",
           "orientation": "v",
           "showlegend": true,
           "type": "scatter",
           "x": [
            1136563
           ],
           "xaxis": "x",
           "y": [
            150
           ],
           "yaxis": "y"
          },
          {
           "hovertemplate": "batter=RK Singh<br>matchid=%{x}<br>strike_rate=%{y}<extra></extra>",
           "ids": [
            "RK Singh"
           ],
           "legendgroup": "RK Singh",
           "marker": {
            "color": "#FFA15A",
            "symbol": "circle"
           },
           "mode": "markers",
           "name": "RK Singh",
           "orientation": "v",
           "showlegend": true,
           "type": "scatter",
           "x": [
            1136563
           ],
           "xaxis": "x",
           "y": [
            85.71428571428571
           ],
           "yaxis": "y"
          },
          {
           "hovertemplate": "batter=RV Uthappa<br>matchid=%{x}<br>strike_rate=%{y}<extra></extra>",
           "ids": [
            "RV Uthappa"
           ],
           "legendgroup": "RV Uthappa",
           "marker": {
            "color": "#FF6692",
            "symbol": "circle"
           },
           "mode": "markers",
           "name": "RV Uthappa",
           "orientation": "v",
           "showlegend": true,
           "type": "scatter",
           "x": [
            1136563
           ],
           "xaxis": "x",
           "y": [
            108.33333333333333
           ],
           "yaxis": "y"
          },
          {
           "hovertemplate": "batter=SN Khan<br>matchid=%{x}<br>strike_rate=%{y}<extra></extra>",
           "ids": [
            "SN Khan"
           ],
           "legendgroup": "SN Khan",
           "marker": {
            "color": "#FFA15A",
            "symbol": "circle"
           },
           "mode": "markers",
           "name": "SN Khan",
           "orientation": "v",
           "showlegend": true,
           "type": "scatter",
           "x": [
            1136563
           ],
           "xaxis": "x",
           "y": [
            60
           ],
           "yaxis": "y"
          },
          {
           "hovertemplate": "batter=SP Narine<br>matchid=%{x}<br>strike_rate=%{y}<extra></extra>",
           "ids": [
            "SP Narine"
           ],
           "legendgroup": "SP Narine",
           "marker": {
            "color": "#B6E880",
            "symbol": "circle"
           },
           "mode": "markers",
           "name": "SP Narine",
           "orientation": "v",
           "showlegend": true,
           "type": "scatter",
           "x": [
            1136563
           ],
           "xaxis": "x",
           "y": [
            250
           ],
           "yaxis": "y"
          },
          {
           "hovertemplate": "batter=V Kohli<br>matchid=%{x}<br>strike_rate=%{y}<extra></extra>",
           "ids": [
            "V Kohli"
           ],
           "legendgroup": "V Kohli",
           "marker": {
            "color": "#EF553B",
            "symbol": "circle"
           },
           "mode": "markers",
           "name": "V Kohli",
           "orientation": "v",
           "showlegend": true,
           "type": "scatter",
           "x": [
            1136563
           ],
           "xaxis": "x",
           "y": [
            93.93939393939394
           ],
           "yaxis": "y"
          }
         ],
         "name": "1136563"
        },
        {
         "data": [
          {
           "hovertemplate": "batter=AB de Villiers<br>matchid=%{x}<br>strike_rate=%{y}<extra></extra>",
           "ids": [
            "AB de Villiers"
           ],
           "legendgroup": "AB de Villiers",
           "marker": {
            "color": "#00cc96",
            "symbol": "circle"
           },
           "mode": "markers",
           "name": "AB de Villiers",
           "orientation": "v",
           "showlegend": true,
           "type": "scatter",
           "x": [
            1136568
           ],
           "xaxis": "x",
           "y": [
            142.5
           ],
           "yaxis": "y"
          },
          {
           "hovertemplate": "batter=AJ Finch<br>matchid=%{x}<br>strike_rate=%{y}<extra></extra>",
           "ids": [
            "AJ Finch"
           ],
           "legendgroup": "AJ Finch",
           "marker": {
            "color": "#FF6692",
            "symbol": "circle"
           },
           "mode": "markers",
           "name": "AJ Finch",
           "orientation": "v",
           "showlegend": true,
           "type": "scatter",
           "x": [
            1136568
           ],
           "xaxis": "x",
           "y": [
            0
           ],
           "yaxis": "y"
          },
          {
           "hovertemplate": "batter=AJ Tye<br>matchid=%{x}<br>strike_rate=%{y}<extra></extra>",
           "ids": [
            "AJ Tye"
           ],
           "legendgroup": "AJ Tye",
           "marker": {
            "color": "#B6E880",
            "symbol": "circle"
           },
           "mode": "markers",
           "name": "AJ Tye",
           "orientation": "v",
           "showlegend": true,
           "type": "scatter",
           "x": [
            1136568
           ],
           "xaxis": "x",
           "y": [
            87.5
           ],
           "yaxis": "y"
          },
          {
           "hovertemplate": "batter=AR Patel<br>matchid=%{x}<br>strike_rate=%{y}<extra></extra>",
           "ids": [
            "AR Patel"
           ],
           "legendgroup": "AR Patel",
           "marker": {
            "color": "#FECB52",
            "symbol": "circle"
           },
           "mode": "markers",
           "name": "AR Patel",
           "orientation": "v",
           "showlegend": true,
           "type": "scatter",
           "x": [
            1136568
           ],
           "xaxis": "x",
           "y": [
            66.66666666666666
           ],
           "yaxis": "y"
          },
          {
           "hovertemplate": "batter=BB McCullum<br>matchid=%{x}<br>strike_rate=%{y}<extra></extra>",
           "ids": [
            "BB McCullum"
           ],
           "legendgroup": "BB McCullum",
           "marker": {
            "color": "#FF97FF",
            "symbol": "circle"
           },
           "mode": "markers",
           "name": "BB McCullum",
           "orientation": "v",
           "showlegend": true,
           "type": "scatter",
           "x": [
            1136568
           ],
           "xaxis": "x",
           "y": [
            0
           ],
           "yaxis": "y"
          },
          {
           "hovertemplate": "batter=CR Woakes<br>matchid=%{x}<br>strike_rate=%{y}<extra></extra>",
           "ids": [
            "CR Woakes"
           ],
           "legendgroup": "CR Woakes",
           "marker": {
            "color": "#FECB52",
            "symbol": "circle"
           },
           "mode": "markers",
           "name": "CR Woakes",
           "orientation": "v",
           "showlegend": true,
           "type": "scatter",
           "x": [
            1136568
           ],
           "xaxis": "x",
           "y": [
            50
           ],
           "yaxis": "y"
          },
          {
           "hovertemplate": "batter=KK Nair<br>matchid=%{x}<br>strike_rate=%{y}<extra></extra>",
           "ids": [
            "KK Nair"
           ],
           "legendgroup": "KK Nair",
           "marker": {
            "color": "#636efa",
            "symbol": "circle"
           },
           "mode": "markers",
           "name": "KK Nair",
           "orientation": "v",
           "showlegend": true,
           "type": "scatter",
           "x": [
            1136568
           ],
           "xaxis": "x",
           "y": [
            107.40740740740742
           ],
           "yaxis": "y"
          },
          {
           "hovertemplate": "batter=KL Rahul<br>matchid=%{x}<br>strike_rate=%{y}<extra></extra>",
           "ids": [
            "KL Rahul"
           ],
           "legendgroup": "KL Rahul",
           "marker": {
            "color": "#EF553B",
            "symbol": "circle"
           },
           "mode": "markers",
           "name": "KL Rahul",
           "orientation": "v",
           "showlegend": true,
           "type": "scatter",
           "x": [
            1136568
           ],
           "xaxis": "x",
           "y": [
            156.66666666666666
           ],
           "yaxis": "y"
          },
          {
           "hovertemplate": "batter=MA Agarwal<br>matchid=%{x}<br>strike_rate=%{y}<extra></extra>",
           "ids": [
            "MA Agarwal"
           ],
           "legendgroup": "MA Agarwal",
           "marker": {
            "color": "#EF553B",
            "symbol": "circle"
           },
           "mode": "markers",
           "name": "MA Agarwal",
           "orientation": "v",
           "showlegend": true,
           "type": "scatter",
           "x": [
            1136568
           ],
           "xaxis": "x",
           "y": [
            136.36363636363635
           ],
           "yaxis": "y"
          },
          {
           "hovertemplate": "batter=MM Sharma<br>matchid=%{x}<br>strike_rate=%{y}<extra></extra>",
           "ids": [
            "MM Sharma"
           ],
           "legendgroup": "MM Sharma",
           "marker": {
            "color": "#FECB52",
            "symbol": "circle"
           },
           "mode": "markers",
           "name": "MM Sharma",
           "orientation": "v",
           "showlegend": true,
           "type": "scatter",
           "x": [
            1136568
           ],
           "xaxis": "x",
           "y": [
            33.33333333333333
           ],
           "yaxis": "y"
          },
          {
           "hovertemplate": "batter=MP Stoinis<br>matchid=%{x}<br>strike_rate=%{y}<extra></extra>",
           "ids": [
            "MP Stoinis"
           ],
           "legendgroup": "MP Stoinis",
           "marker": {
            "color": "#636efa",
            "symbol": "circle"
           },
           "mode": "markers",
           "name": "MP Stoinis",
           "orientation": "v",
           "showlegend": true,
           "type": "scatter",
           "x": [
            1136568
           ],
           "xaxis": "x",
           "y": [
            122.22222222222223
           ],
           "yaxis": "y"
          },
          {
           "hovertemplate": "batter=Mandeep Singh<br>matchid=%{x}<br>strike_rate=%{y}<extra></extra>",
           "ids": [
            "Mandeep Singh"
           ],
           "legendgroup": "Mandeep Singh",
           "marker": {
            "color": "#00cc96",
            "symbol": "circle"
           },
           "mode": "markers",
           "name": "Mandeep Singh",
           "orientation": "v",
           "showlegend": true,
           "type": "scatter",
           "x": [
            1136568
           ],
           "xaxis": "x",
           "y": [
            110.00000000000001
           ],
           "yaxis": "y"
          },
          {
           "hovertemplate": "batter=Mujeeb Ur Rahman<br>matchid=%{x}<br>strike_rate=%{y}<extra></extra>",
           "ids": [
            "Mujeeb Ur Rahman"
           ],
           "legendgroup": "Mujeeb Ur Rahman",
           "marker": {
            "color": "#FF6692",
            "symbol": "circle"
           },
           "mode": "markers",
           "name": "Mujeeb Ur Rahman",
           "orientation": "v",
           "showlegend": true,
           "type": "scatter",
           "x": [
            1136568
           ],
           "xaxis": "x",
           "y": [
            0
           ],
           "yaxis": "y"
          },
          {
           "hovertemplate": "batter=Q de Kock<br>matchid=%{x}<br>strike_rate=%{y}<extra></extra>",
           "ids": [
            "Q de Kock"
           ],
           "legendgroup": "Q de Kock",
           "marker": {
            "color": "#FF6692",
            "symbol": "circle"
           },
           "mode": "markers",
           "name": "Q de Kock",
           "orientation": "v",
           "showlegend": true,
           "type": "scatter",
           "x": [
            1136568
           ],
           "xaxis": "x",
           "y": [
            132.35294117647058
           ],
           "yaxis": "y"
          },
          {
           "hovertemplate": "batter=R Ashwin<br>matchid=%{x}<br>strike_rate=%{y}<extra></extra>",
           "ids": [
            "R Ashwin"
           ],
           "legendgroup": "R Ashwin",
           "marker": {
            "color": "#B6E880",
            "symbol": "circle"
           },
           "mode": "markers",
           "name": "R Ashwin",
           "orientation": "v",
           "showlegend": true,
           "type": "scatter",
           "x": [
            1136568
           ],
           "xaxis": "x",
           "y": [
            157.14285714285714
           ],
           "yaxis": "y"
          },
          {
           "hovertemplate": "batter=SN Khan<br>matchid=%{x}<br>strike_rate=%{y}<extra></extra>",
           "ids": [
            "SN Khan"
           ],
           "legendgroup": "SN Khan",
           "marker": {
            "color": "#FFA15A",
            "symbol": "circle"
           },
           "mode": "markers",
           "name": "SN Khan",
           "orientation": "v",
           "showlegend": true,
           "type": "scatter",
           "x": [
            1136568
           ],
           "xaxis": "x",
           "y": [
            0
           ],
           "yaxis": "y"
          },
          {
           "hovertemplate": "batter=V Kohli<br>matchid=%{x}<br>strike_rate=%{y}<extra></extra>",
           "ids": [
            "V Kohli"
           ],
           "legendgroup": "V Kohli",
           "marker": {
            "color": "#EF553B",
            "symbol": "circle"
           },
           "mode": "markers",
           "name": "V Kohli",
           "orientation": "v",
           "showlegend": true,
           "type": "scatter",
           "x": [
            1136568
           ],
           "xaxis": "x",
           "y": [
            131.25
           ],
           "yaxis": "y"
          },
          {
           "hovertemplate": "batter=Washington Sundar<br>matchid=%{x}<br>strike_rate=%{y}<extra></extra>",
           "ids": [
            "Washington Sundar"
           ],
           "legendgroup": "Washington Sundar",
           "marker": {
            "color": "#FFA15A",
            "symbol": "circle"
           },
           "mode": "markers",
           "name": "Washington Sundar",
           "orientation": "v",
           "showlegend": true,
           "type": "scatter",
           "x": [
            1136568
           ],
           "xaxis": "x",
           "y": [
            225
           ],
           "yaxis": "y"
          },
          {
           "hovertemplate": "batter=Yuvraj Singh<br>matchid=%{x}<br>strike_rate=%{y}<extra></extra>",
           "ids": [
            "Yuvraj Singh"
           ],
           "legendgroup": "Yuvraj Singh",
           "marker": {
            "color": "#B6E880",
            "symbol": "circle"
           },
           "mode": "markers",
           "name": "Yuvraj Singh",
           "orientation": "v",
           "showlegend": true,
           "type": "scatter",
           "x": [
            1136568
           ],
           "xaxis": "x",
           "y": [
            100
           ],
           "yaxis": "y"
          }
         ],
         "name": "1136568"
        },
        {
         "data": [
          {
           "hovertemplate": "batter=AB de Villiers<br>matchid=%{x}<br>strike_rate=%{y}<extra></extra>",
           "ids": [
            "AB de Villiers"
           ],
           "legendgroup": "AB de Villiers",
           "marker": {
            "color": "#00cc96",
            "symbol": "circle"
           },
           "mode": "markers",
           "name": "AB de Villiers",
           "orientation": "v",
           "showlegend": true,
           "type": "scatter",
           "x": [
            1136571
           ],
           "xaxis": "x",
           "y": [
            111.11111111111111
           ],
           "yaxis": "y"
          },
          {
           "hovertemplate": "batter=AM Rahane<br>matchid=%{x}<br>strike_rate=%{y}<extra></extra>",
           "ids": [
            "AM Rahane"
           ],
           "legendgroup": "AM Rahane",
           "marker": {
            "color": "#FF97FF",
            "symbol": "circle"
           },
           "mode": "markers",
           "name": "AM Rahane",
           "orientation": "v",
           "showlegend": true,
           "type": "scatter",
           "x": [
            1136571
           ],
           "xaxis": "x",
           "y": [
            163.63636363636365
           ],
           "yaxis": "y"
          },
          {
           "hovertemplate": "batter=BA Stokes<br>matchid=%{x}<br>strike_rate=%{y}<extra></extra>",
           "ids": [
            "BA Stokes"
           ],
           "legendgroup": "BA Stokes",
           "marker": {
            "color": "#B6E880",
            "symbol": "circle"
           },
           "mode": "markers",
           "name": "BA Stokes",
           "orientation": "v",
           "showlegend": true,
           "type": "scatter",
           "x": [
            1136571
           ],
           "xaxis": "x",
           "y": [
            122.72727272727273
           ],
           "yaxis": "y"
          },
          {
           "hovertemplate": "batter=BB McCullum<br>matchid=%{x}<br>strike_rate=%{y}<extra></extra>",
           "ids": [
            "BB McCullum"
           ],
           "legendgroup": "BB McCullum",
           "marker": {
            "color": "#FF97FF",
            "symbol": "circle"
           },
           "mode": "markers",
           "name": "BB McCullum",
           "orientation": "v",
           "showlegend": true,
           "type": "scatter",
           "x": [
            1136571
           ],
           "xaxis": "x",
           "y": [
            100
           ],
           "yaxis": "y"
          },
          {
           "hovertemplate": "batter=CR Woakes<br>matchid=%{x}<br>strike_rate=%{y}<extra></extra>",
           "ids": [
            "CR Woakes"
           ],
           "legendgroup": "CR Woakes",
           "marker": {
            "color": "#FECB52",
            "symbol": "circle"
           },
           "mode": "markers",
           "name": "CR Woakes",
           "orientation": "v",
           "showlegend": true,
           "type": "scatter",
           "x": [
            1136571
           ],
           "xaxis": "x",
           "y": [
            0
           ],
           "yaxis": "y"
          },
          {
           "hovertemplate": "batter=DJM Short<br>matchid=%{x}<br>strike_rate=%{y}<extra></extra>",
           "ids": [
            "DJM Short"
           ],
           "legendgroup": "DJM Short",
           "marker": {
            "color": "#ab63fa",
            "symbol": "circle"
           },
           "mode": "markers",
           "name": "DJM Short",
           "orientation": "v",
           "showlegend": true,
           "type": "scatter",
           "x": [
            1136571
           ],
           "xaxis": "x",
           "y": [
            61.111111111111114
           ],
           "yaxis": "y"
          },
          {
           "hovertemplate": "batter=JC Buttler<br>matchid=%{x}<br>strike_rate=%{y}<extra></extra>",
           "ids": [
            "JC Buttler"
           ],
           "legendgroup": "JC Buttler",
           "marker": {
            "color": "#636efa",
            "symbol": "circle"
           },
           "mode": "markers",
           "name": "JC Buttler",
           "orientation": "v",
           "showlegend": true,
           "type": "scatter",
           "x": [
            1136571
           ],
           "xaxis": "x",
           "y": [
            153.33333333333334
           ],
           "yaxis": "y"
          },
          {
           "hovertemplate": "batter=Mandeep Singh<br>matchid=%{x}<br>strike_rate=%{y}<extra></extra>",
           "ids": [
            "Mandeep Singh"
           ],
           "legendgroup": "Mandeep Singh",
           "marker": {
            "color": "#00cc96",
            "symbol": "circle"
           },
           "mode": "markers",
           "name": "Mandeep Singh",
           "orientation": "v",
           "showlegend": true,
           "type": "scatter",
           "x": [
            1136571
           ],
           "xaxis": "x",
           "y": [
            188
           ],
           "yaxis": "y"
          },
          {
           "hovertemplate": "batter=P Negi<br>matchid=%{x}<br>strike_rate=%{y}<extra></extra>",
           "ids": [
            "P Negi"
           ],
           "legendgroup": "P Negi",
           "marker": {
            "color": "#EF553B",
            "symbol": "circle"
           },
           "mode": "markers",
           "name": "P Negi",
           "orientation": "v",
           "showlegend": true,
           "type": "scatter",
           "x": [
            1136571
           ],
           "xaxis": "x",
           "y": [
            75
           ],
           "yaxis": "y"
          },
          {
           "hovertemplate": "batter=Q de Kock<br>matchid=%{x}<br>strike_rate=%{y}<extra></extra>",
           "ids": [
            "Q de Kock"
           ],
           "legendgroup": "Q de Kock",
           "marker": {
            "color": "#FF6692",
            "symbol": "circle"
           },
           "mode": "markers",
           "name": "Q de Kock",
           "orientation": "v",
           "showlegend": true,
           "type": "scatter",
           "x": [
            1136571
           ],
           "xaxis": "x",
           "y": [
            136.8421052631579
           ],
           "yaxis": "y"
          },
          {
           "hovertemplate": "batter=RA Tripathi<br>matchid=%{x}<br>strike_rate=%{y}<extra></extra>",
           "ids": [
            "RA Tripathi"
           ],
           "legendgroup": "RA Tripathi",
           "marker": {
            "color": "#EF553B",
            "symbol": "circle"
           },
           "mode": "markers",
           "name": "RA Tripathi",
           "orientation": "v",
           "showlegend": true,
           "type": "scatter",
           "x": [
            1136571
           ],
           "xaxis": "x",
           "y": [
            280
           ],
           "yaxis": "y"
          },
          {
           "hovertemplate": "batter=SV Samson<br>matchid=%{x}<br>strike_rate=%{y}<extra></extra>",
           "ids": [
            "SV Samson"
           ],
           "legendgroup": "SV Samson",
           "marker": {
            "color": "#EF553B",
            "symbol": "circle"
           },
           "mode": "markers",
           "name": "SV Samson",
           "orientation": "v",
           "showlegend": true,
           "type": "scatter",
           "x": [
            1136571
           ],
           "xaxis": "x",
           "y": [
            200
           ],
           "yaxis": "y"
          },
          {
           "hovertemplate": "batter=V Kohli<br>matchid=%{x}<br>strike_rate=%{y}<extra></extra>",
           "ids": [
            "V Kohli"
           ],
           "legendgroup": "V Kohli",
           "marker": {
            "color": "#EF553B",
            "symbol": "circle"
           },
           "mode": "markers",
           "name": "V Kohli",
           "orientation": "v",
           "showlegend": true,
           "type": "scatter",
           "x": [
            1136571
           ],
           "xaxis": "x",
           "y": [
            183.8709677419355
           ],
           "yaxis": "y"
          },
          {
           "hovertemplate": "batter=Washington Sundar<br>matchid=%{x}<br>strike_rate=%{y}<extra></extra>",
           "ids": [
            "Washington Sundar"
           ],
           "legendgroup": "Washington Sundar",
           "marker": {
            "color": "#FFA15A",
            "symbol": "circle"
           },
           "mode": "markers",
           "name": "Washington Sundar",
           "orientation": "v",
           "showlegend": true,
           "type": "scatter",
           "x": [
            1136571
           ],
           "xaxis": "x",
           "y": [
            166.66666666666669
           ],
           "yaxis": "y"
          }
         ],
         "name": "1136571"
        },
        {
         "data": [
          {
           "hovertemplate": "batter=AB de Villiers<br>matchid=%{x}<br>strike_rate=%{y}<extra></extra>",
           "ids": [
            "AB de Villiers"
           ],
           "legendgroup": "AB de Villiers",
           "marker": {
            "color": "#00cc96",
            "symbol": "circle"
           },
           "mode": "markers",
           "name": "AB de Villiers",
           "orientation": "v",
           "showlegend": true,
           "type": "scatter",
           "x": [
            1136574
           ],
           "xaxis": "x",
           "y": [
            50
           ],
           "yaxis": "y"
          },
          {
           "hovertemplate": "batter=CJ Anderson<br>matchid=%{x}<br>strike_rate=%{y}<extra></extra>",
           "ids": [
            "CJ Anderson"
           ],
           "legendgroup": "CJ Anderson",
           "marker": {
            "color": "#B6E880",
            "symbol": "circle"
           },
           "mode": "markers",
           "name": "CJ Anderson",
           "orientation": "v",
           "showlegend": true,
           "type": "scatter",
           "x": [
            1136574
           ],
           "xaxis": "x",
           "y": [
            0
           ],
           "yaxis": "y"
          },
          {
           "hovertemplate": "batter=CR Woakes<br>matchid=%{x}<br>strike_rate=%{y}<extra></extra>",
           "ids": [
            "CR Woakes"
           ],
           "legendgroup": "CR Woakes",
           "marker": {
            "color": "#FECB52",
            "symbol": "circle"
           },
           "mode": "markers",
           "name": "CR Woakes",
           "orientation": "v",
           "showlegend": true,
           "type": "scatter",
           "x": [
            1136574
           ],
           "xaxis": "x",
           "y": [
            100
           ],
           "yaxis": "y"
          },
          {
           "hovertemplate": "batter=E Lewis<br>matchid=%{x}<br>strike_rate=%{y}<extra></extra>",
           "ids": [
            "E Lewis"
           ],
           "legendgroup": "E Lewis",
           "marker": {
            "color": "#FF97FF",
            "symbol": "circle"
           },
           "mode": "markers",
           "name": "E Lewis",
           "orientation": "v",
           "showlegend": true,
           "type": "scatter",
           "x": [
            1136574
           ],
           "xaxis": "x",
           "y": [
            147.72727272727272
           ],
           "yaxis": "y"
          },
          {
           "hovertemplate": "batter=HH Pandya<br>matchid=%{x}<br>strike_rate=%{y}<extra></extra>",
           "ids": [
            "HH Pandya"
           ],
           "legendgroup": "HH Pandya",
           "marker": {
            "color": "#ab63fa",
            "symbol": "circle"
           },
           "mode": "markers",
           "name": "HH Pandya",
           "orientation": "v",
           "showlegend": true,
           "type": "scatter",
           "x": [
            1136574
           ],
           "xaxis": "x",
           "y": [
            340
           ],
           "yaxis": "y"
          },
          {
           "hovertemplate": "batter=Ishan Kishan<br>matchid=%{x}<br>strike_rate=%{y}<extra></extra>",
           "ids": [
            "Ishan Kishan"
           ],
           "legendgroup": "Ishan Kishan",
           "marker": {
            "color": "#FF97FF",
            "symbol": "circle"
           },
           "mode": "markers",
           "name": "Ishan Kishan",
           "orientation": "v",
           "showlegend": true,
           "type": "scatter",
           "x": [
            1136574
           ],
           "xaxis": "x",
           "y": [
            0
           ],
           "yaxis": "y"
          },
          {
           "hovertemplate": "batter=KA Pollard<br>matchid=%{x}<br>strike_rate=%{y}<extra></extra>",
           "ids": [
            "KA Pollard"
           ],
           "legendgroup": "KA Pollard",
           "marker": {
            "color": "#B6E880",
            "symbol": "circle"
           },
           "mode": "markers",
           "name": "KA Pollard",
           "orientation": "v",
           "showlegend": true,
           "type": "scatter",
           "x": [
            1136574
           ],
           "xaxis": "x",
           "y": [
            62.5
           ],
           "yaxis": "y"
          },
          {
           "hovertemplate": "batter=KH Pandya<br>matchid=%{x}<br>strike_rate=%{y}<extra></extra>",
           "ids": [
            "KH Pandya"
           ],
           "legendgroup": "KH Pandya",
           "marker": {
            "color": "#FECB52",
            "symbol": "circle"
           },
           "mode": "markers",
           "name": "KH Pandya",
           "orientation": "v",
           "showlegend": true,
           "type": "scatter",
           "x": [
            1136574
           ],
           "xaxis": "x",
           "y": [
            115.38461538461537
           ],
           "yaxis": "y"
          },
          {
           "hovertemplate": "batter=MJ McClenaghan<br>matchid=%{x}<br>strike_rate=%{y}<extra></extra>",
           "ids": [
            "MJ McClenaghan"
           ],
           "legendgroup": "MJ McClenaghan",
           "marker": {
            "color": "#FFA15A",
            "symbol": "circle"
           },
           "mode": "markers",
           "name": "MJ McClenaghan",
           "orientation": "v",
           "showlegend": true,
           "type": "scatter",
           "x": [
            1136574
           ],
           "xaxis": "x",
           "y": [
            0
           ],
           "yaxis": "y"
          },
          {
           "hovertemplate": "batter=Mandeep Singh<br>matchid=%{x}<br>strike_rate=%{y}<extra></extra>",
           "ids": [
            "Mandeep Singh"
           ],
           "legendgroup": "Mandeep Singh",
           "marker": {
            "color": "#00cc96",
            "symbol": "circle"
           },
           "mode": "markers",
           "name": "Mandeep Singh",
           "orientation": "v",
           "showlegend": true,
           "type": "scatter",
           "x": [
            1136574
           ],
           "xaxis": "x",
           "y": [
            100
           ],
           "yaxis": "y"
          },
          {
           "hovertemplate": "batter=Mohammed Siraj<br>matchid=%{x}<br>strike_rate=%{y}<extra></extra>",
           "ids": [
            "Mohammed Siraj"
           ],
           "legendgroup": "Mohammed Siraj",
           "marker": {
            "color": "#19d3f3",
            "symbol": "circle"
           },
           "mode": "markers",
           "name": "Mohammed Siraj",
           "orientation": "v",
           "showlegend": true,
           "type": "scatter",
           "x": [
            1136574
           ],
           "xaxis": "x",
           "y": [
            266.66666666666663
           ],
           "yaxis": "y"
          },
          {
           "hovertemplate": "batter=Q de Kock<br>matchid=%{x}<br>strike_rate=%{y}<extra></extra>",
           "ids": [
            "Q de Kock"
           ],
           "legendgroup": "Q de Kock",
           "marker": {
            "color": "#FF6692",
            "symbol": "circle"
           },
           "mode": "markers",
           "name": "Q de Kock",
           "orientation": "v",
           "showlegend": true,
           "type": "scatter",
           "x": [
            1136574
           ],
           "xaxis": "x",
           "y": [
            146.15384615384613
           ],
           "yaxis": "y"
          },
          {
           "hovertemplate": "batter=RG Sharma<br>matchid=%{x}<br>strike_rate=%{y}<extra></extra>",
           "ids": [
            "RG Sharma"
           ],
           "legendgroup": "RG Sharma",
           "marker": {
            "color": "#00cc96",
            "symbol": "circle"
           },
           "mode": "markers",
           "name": "RG Sharma",
           "orientation": "v",
           "showlegend": true,
           "type": "scatter",
           "x": [
            1136574
           ],
           "xaxis": "x",
           "y": [
            174.07407407407408
           ],
           "yaxis": "y"
          },
          {
           "hovertemplate": "batter=SA Yadav<br>matchid=%{x}<br>strike_rate=%{y}<extra></extra>",
           "ids": [
            "SA Yadav"
           ],
           "legendgroup": "SA Yadav",
           "marker": {
            "color": "#00cc96",
            "symbol": "circle"
           },
           "mode": "markers",
           "name": "SA Yadav",
           "orientation": "v",
           "showlegend": true,
           "type": "scatter",
           "x": [
            1136574
           ],
           "xaxis": "x",
           "y": [
            0
           ],
           "yaxis": "y"
          },
          {
           "hovertemplate": "batter=SN Khan<br>matchid=%{x}<br>strike_rate=%{y}<extra></extra>",
           "ids": [
            "SN Khan"
           ],
           "legendgroup": "SN Khan",
           "marker": {
            "color": "#FFA15A",
            "symbol": "circle"
           },
           "mode": "markers",
           "name": "SN Khan",
           "orientation": "v",
           "showlegend": true,
           "type": "scatter",
           "x": [
            1136574
           ],
           "xaxis": "x",
           "y": [
            83.33333333333334
           ],
           "yaxis": "y"
          },
          {
           "hovertemplate": "batter=UT Yadav<br>matchid=%{x}<br>strike_rate=%{y}<extra></extra>",
           "ids": [
            "UT Yadav"
           ],
           "legendgroup": "UT Yadav",
           "marker": {
            "color": "#636efa",
            "symbol": "circle"
           },
           "mode": "markers",
           "name": "UT Yadav",
           "orientation": "v",
           "showlegend": true,
           "type": "scatter",
           "x": [
            1136574
           ],
           "xaxis": "x",
           "y": [
            50
           ],
           "yaxis": "y"
          },
          {
           "hovertemplate": "batter=V Kohli<br>matchid=%{x}<br>strike_rate=%{y}<extra></extra>",
           "ids": [
            "V Kohli"
           ],
           "legendgroup": "V Kohli",
           "marker": {
            "color": "#EF553B",
            "symbol": "circle"
           },
           "mode": "markers",
           "name": "V Kohli",
           "orientation": "v",
           "showlegend": true,
           "type": "scatter",
           "x": [
            1136574
           ],
           "xaxis": "x",
           "y": [
            148.38709677419354
           ],
           "yaxis": "y"
          },
          {
           "hovertemplate": "batter=Washington Sundar<br>matchid=%{x}<br>strike_rate=%{y}<extra></extra>",
           "ids": [
            "Washington Sundar"
           ],
           "legendgroup": "Washington Sundar",
           "marker": {
            "color": "#FFA15A",
            "symbol": "circle"
           },
           "mode": "markers",
           "name": "Washington Sundar",
           "orientation": "v",
           "showlegend": true,
           "type": "scatter",
           "x": [
            1136574
           ],
           "xaxis": "x",
           "y": [
            87.5
           ],
           "yaxis": "y"
          }
         ],
         "name": "1136574"
        },
        {
         "data": [
          {
           "hovertemplate": "batter=AB de Villiers<br>matchid=%{x}<br>strike_rate=%{y}<extra></extra>",
           "ids": [
            "AB de Villiers"
           ],
           "legendgroup": "AB de Villiers",
           "marker": {
            "color": "#00cc96",
            "symbol": "circle"
           },
           "mode": "markers",
           "name": "AB de Villiers",
           "orientation": "v",
           "showlegend": true,
           "type": "scatter",
           "x": [
            1136579
           ],
           "xaxis": "x",
           "y": [
            225
           ],
           "yaxis": "y"
          },
          {
           "hovertemplate": "batter=CJ Anderson<br>matchid=%{x}<br>strike_rate=%{y}<extra></extra>",
           "ids": [
            "CJ Anderson"
           ],
           "legendgroup": "CJ Anderson",
           "marker": {
            "color": "#B6E880",
            "symbol": "circle"
           },
           "mode": "markers",
           "name": "CJ Anderson",
           "orientation": "v",
           "showlegend": true,
           "type": "scatter",
           "x": [
            1136579
           ],
           "xaxis": "x",
           "y": [
            115.38461538461537
           ],
           "yaxis": "y"
          },
          {
           "hovertemplate": "batter=G Gambhir<br>matchid=%{x}<br>strike_rate=%{y}<extra></extra>",
           "ids": [
            "G Gambhir"
           ],
           "legendgroup": "G Gambhir",
           "marker": {
            "color": "#636efa",
            "symbol": "circle"
           },
           "mode": "markers",
           "name": "G Gambhir",
           "orientation": "v",
           "showlegend": true,
           "type": "scatter",
           "x": [
            1136579
           ],
           "xaxis": "x",
           "y": [
            30
           ],
           "yaxis": "y"
          },
          {
           "hovertemplate": "batter=GJ Maxwell<br>matchid=%{x}<br>strike_rate=%{y}<extra></extra>",
           "ids": [
            "GJ Maxwell"
           ],
           "legendgroup": "GJ Maxwell",
           "marker": {
            "color": "#EF553B",
            "symbol": "circle"
           },
           "mode": "markers",
           "name": "GJ Maxwell",
           "orientation": "v",
           "showlegend": true,
           "type": "scatter",
           "x": [
            1136579
           ],
           "xaxis": "x",
           "y": [
            66.66666666666666
           ],
           "yaxis": "y"
          },
          {
           "hovertemplate": "batter=JJ Roy<br>matchid=%{x}<br>strike_rate=%{y}<extra></extra>",
           "ids": [
            "JJ Roy"
           ],
           "legendgroup": "JJ Roy",
           "marker": {
            "color": "#ab63fa",
            "symbol": "circle"
           },
           "mode": "markers",
           "name": "JJ Roy",
           "orientation": "v",
           "showlegend": true,
           "type": "scatter",
           "x": [
            1136579
           ],
           "xaxis": "x",
           "y": [
            29.411764705882355
           ],
           "yaxis": "y"
          },
          {
           "hovertemplate": "batter=M Vohra<br>matchid=%{x}<br>strike_rate=%{y}<extra></extra>",
           "ids": [
            "M Vohra"
           ],
           "legendgroup": "M Vohra",
           "marker": {
            "color": "#636efa",
            "symbol": "circle"
           },
           "mode": "markers",
           "name": "M Vohra",
           "orientation": "v",
           "showlegend": true,
           "type": "scatter",
           "x": [
            1136579
           ],
           "xaxis": "x",
           "y": [
            33.33333333333333
           ],
           "yaxis": "y"
          },
          {
           "hovertemplate": "batter=Mandeep Singh<br>matchid=%{x}<br>strike_rate=%{y}<extra></extra>",
           "ids": [
            "Mandeep Singh"
           ],
           "legendgroup": "Mandeep Singh",
           "marker": {
            "color": "#00cc96",
            "symbol": "circle"
           },
           "mode": "markers",
           "name": "Mandeep Singh",
           "orientation": "v",
           "showlegend": true,
           "type": "scatter",
           "x": [
            1136579
           ],
           "xaxis": "x",
           "y": [
            170
           ],
           "yaxis": "y"
          },
          {
           "hovertemplate": "batter=Q de Kock<br>matchid=%{x}<br>strike_rate=%{y}<extra></extra>",
           "ids": [
            "Q de Kock"
           ],
           "legendgroup": "Q de Kock",
           "marker": {
            "color": "#FF6692",
            "symbol": "circle"
           },
           "mode": "markers",
           "name": "Q de Kock",
           "orientation": "v",
           "showlegend": true,
           "type": "scatter",
           "x": [
            1136579
           ],
           "xaxis": "x",
           "y": [
            112.5
           ],
           "yaxis": "y"
          },
          {
           "hovertemplate": "batter=R Tewatia<br>matchid=%{x}<br>strike_rate=%{y}<extra></extra>",
           "ids": [
            "R Tewatia"
           ],
           "legendgroup": "R Tewatia",
           "marker": {
            "color": "#FF97FF",
            "symbol": "circle"
           },
           "mode": "markers",
           "name": "R Tewatia",
           "orientation": "v",
           "showlegend": true,
           "type": "scatter",
           "x": [
            1136579
           ],
           "xaxis": "x",
           "y": [
            144.44444444444443
           ],
           "yaxis": "y"
          },
          {
           "hovertemplate": "batter=RR Pant<br>matchid=%{x}<br>strike_rate=%{y}<extra></extra>",
           "ids": [
            "RR Pant"
           ],
           "legendgroup": "RR Pant",
           "marker": {
            "color": "#19d3f3",
            "symbol": "circle"
           },
           "mode": "markers",
           "name": "RR Pant",
           "orientation": "v",
           "showlegend": true,
           "type": "scatter",
           "x": [
            1136579
           ],
           "xaxis": "x",
           "y": [
            170
           ],
           "yaxis": "y"
          },
          {
           "hovertemplate": "batter=SS Iyer<br>matchid=%{x}<br>strike_rate=%{y}<extra></extra>",
           "ids": [
            "SS Iyer"
           ],
           "legendgroup": "SS Iyer",
           "marker": {
            "color": "#FECB52",
            "symbol": "circle"
           },
           "mode": "markers",
           "name": "SS Iyer",
           "orientation": "v",
           "showlegend": true,
           "type": "scatter",
           "x": [
            1136579
           ],
           "xaxis": "x",
           "y": [
            167.74193548387098
           ],
           "yaxis": "y"
          },
          {
           "hovertemplate": "batter=V Kohli<br>matchid=%{x}<br>strike_rate=%{y}<extra></extra>",
           "ids": [
            "V Kohli"
           ],
           "legendgroup": "V Kohli",
           "marker": {
            "color": "#EF553B",
            "symbol": "circle"
           },
           "mode": "markers",
           "name": "V Kohli",
           "orientation": "v",
           "showlegend": true,
           "type": "scatter",
           "x": [
            1136579
           ],
           "xaxis": "x",
           "y": [
            115.38461538461537
           ],
           "yaxis": "y"
          }
         ],
         "name": "1136579"
        },
        {
         "data": [
          {
           "hovertemplate": "batter=AB de Villiers<br>matchid=%{x}<br>strike_rate=%{y}<extra></extra>",
           "ids": [
            "AB de Villiers"
           ],
           "legendgroup": "AB de Villiers",
           "marker": {
            "color": "#00cc96",
            "symbol": "circle"
           },
           "mode": "markers",
           "name": "AB de Villiers",
           "orientation": "v",
           "showlegend": true,
           "type": "scatter",
           "x": [
            1136584
           ],
           "xaxis": "x",
           "y": [
            219.3548387096774
           ],
           "yaxis": "y"
          },
          {
           "hovertemplate": "batter=AT Rayudu<br>matchid=%{x}<br>strike_rate=%{y}<extra></extra>",
           "ids": [
            "AT Rayudu"
           ],
           "legendgroup": "AT Rayudu",
           "marker": {
            "color": "#EF553B",
            "symbol": "circle"
           },
           "mode": "markers",
           "name": "AT Rayudu",
           "orientation": "v",
           "showlegend": true,
           "type": "scatter",
           "x": [
            1136584
           ],
           "xaxis": "x",
           "y": [
            151.85185185185185
           ],
           "yaxis": "y"
          },
          {
           "hovertemplate": "batter=C de Grandhomme<br>matchid=%{x}<br>strike_rate=%{y}<extra></extra>",
           "ids": [
            "C de Grandhomme"
           ],
           "legendgroup": "C de Grandhomme",
           "marker": {
            "color": "#ab63fa",
            "symbol": "circle"
           },
           "mode": "markers",
           "name": "C de Grandhomme",
           "orientation": "v",
           "showlegend": true,
           "type": "scatter",
           "x": [
            1136584
           ],
           "xaxis": "x",
           "y": [
            157.14285714285714
           ],
           "yaxis": "y"
          },
          {
           "hovertemplate": "batter=CJ Anderson<br>matchid=%{x}<br>strike_rate=%{y}<extra></extra>",
           "ids": [
            "CJ Anderson"
           ],
           "legendgroup": "CJ Anderson",
           "marker": {
            "color": "#B6E880",
            "symbol": "circle"
           },
           "mode": "markers",
           "name": "CJ Anderson",
           "orientation": "v",
           "showlegend": true,
           "type": "scatter",
           "x": [
            1136584
           ],
           "xaxis": "x",
           "y": [
            25
           ],
           "yaxis": "y"
          },
          {
           "hovertemplate": "batter=DJ Bravo<br>matchid=%{x}<br>strike_rate=%{y}<extra></extra>",
           "ids": [
            "DJ Bravo"
           ],
           "legendgroup": "DJ Bravo",
           "marker": {
            "color": "#EF553B",
            "symbol": "circle"
           },
           "mode": "markers",
           "name": "DJ Bravo",
           "orientation": "v",
           "showlegend": true,
           "type": "scatter",
           "x": [
            1136584
           ],
           "xaxis": "x",
           "y": [
            200
           ],
           "yaxis": "y"
          },
          {
           "hovertemplate": "batter=MS Dhoni<br>matchid=%{x}<br>strike_rate=%{y}<extra></extra>",
           "ids": [
            "MS Dhoni"
           ],
           "legendgroup": "MS Dhoni",
           "marker": {
            "color": "#EF553B",
            "symbol": "circle"
           },
           "mode": "markers",
           "name": "MS Dhoni",
           "orientation": "v",
           "showlegend": true,
           "type": "scatter",
           "x": [
            1136584
           ],
           "xaxis": "x",
           "y": [
            179.4871794871795
           ],
           "yaxis": "y"
          },
          {
           "hovertemplate": "batter=Mandeep Singh<br>matchid=%{x}<br>strike_rate=%{y}<extra></extra>",
           "ids": [
            "Mandeep Singh"
           ],
           "legendgroup": "Mandeep Singh",
           "marker": {
            "color": "#00cc96",
            "symbol": "circle"
           },
           "mode": "markers",
           "name": "Mandeep Singh",
           "orientation": "v",
           "showlegend": true,
           "type": "scatter",
           "x": [
            1136584
           ],
           "xaxis": "x",
           "y": [
            168.42105263157893
           ],
           "yaxis": "y"
          },
          {
           "hovertemplate": "batter=P Negi<br>matchid=%{x}<br>strike_rate=%{y}<extra></extra>",
           "ids": [
            "P Negi"
           ],
           "legendgroup": "P Negi",
           "marker": {
            "color": "#EF553B",
            "symbol": "circle"
           },
           "mode": "markers",
           "name": "P Negi",
           "orientation": "v",
           "showlegend": true,
           "type": "scatter",
           "x": [
            1136584
           ],
           "xaxis": "x",
           "y": [
            0
           ],
           "yaxis": "y"
          },
          {
           "hovertemplate": "batter=Q de Kock<br>matchid=%{x}<br>strike_rate=%{y}<extra></extra>",
           "ids": [
            "Q de Kock"
           ],
           "legendgroup": "Q de Kock",
           "marker": {
            "color": "#FF6692",
            "symbol": "circle"
           },
           "mode": "markers",
           "name": "Q de Kock",
           "orientation": "v",
           "showlegend": true,
           "type": "scatter",
           "x": [
            1136584
           ],
           "xaxis": "x",
           "y": [
            143.24324324324326
           ],
           "yaxis": "y"
          },
          {
           "hovertemplate": "batter=RA Jadeja<br>matchid=%{x}<br>strike_rate=%{y}<extra></extra>",
           "ids": [
            "RA Jadeja"
           ],
           "legendgroup": "RA Jadeja",
           "marker": {
            "color": "#636efa",
            "symbol": "circle"
           },
           "mode": "markers",
           "name": "RA Jadeja",
           "orientation": "v",
           "showlegend": true,
           "type": "scatter",
           "x": [
            1136584
           ],
           "xaxis": "x",
           "y": [
            50
           ],
           "yaxis": "y"
          },
          {
           "hovertemplate": "batter=SK Raina<br>matchid=%{x}<br>strike_rate=%{y}<extra></extra>",
           "ids": [
            "SK Raina"
           ],
           "legendgroup": "SK Raina",
           "marker": {
            "color": "#ab63fa",
            "symbol": "circle"
           },
           "mode": "markers",
           "name": "SK Raina",
           "orientation": "v",
           "showlegend": true,
           "type": "scatter",
           "x": [
            1136584
           ],
           "xaxis": "x",
           "y": [
            110.00000000000001
           ],
           "yaxis": "y"
          },
          {
           "hovertemplate": "batter=SR Watson<br>matchid=%{x}<br>strike_rate=%{y}<extra></extra>",
           "ids": [
            "SR Watson"
           ],
           "legendgroup": "SR Watson",
           "marker": {
            "color": "#FF97FF",
            "symbol": "circle"
           },
           "mode": "markers",
           "name": "SR Watson",
           "orientation": "v",
           "showlegend": true,
           "type": "scatter",
           "x": [
            1136584
           ],
           "xaxis": "x",
           "y": [
            175
           ],
           "yaxis": "y"
          },
          {
           "hovertemplate": "batter=SW Billings<br>matchid=%{x}<br>strike_rate=%{y}<extra></extra>",
           "ids": [
            "SW Billings"
           ],
           "legendgroup": "SW Billings",
           "marker": {
            "color": "#00cc96",
            "symbol": "circle"
           },
           "mode": "markers",
           "name": "SW Billings",
           "orientation": "v",
           "showlegend": true,
           "type": "scatter",
           "x": [
            1136584
           ],
           "xaxis": "x",
           "y": [
            128.57142857142858
           ],
           "yaxis": "y"
          },
          {
           "hovertemplate": "batter=UT Yadav<br>matchid=%{x}<br>strike_rate=%{y}<extra></extra>",
           "ids": [
            "UT Yadav"
           ],
           "legendgroup": "UT Yadav",
           "marker": {
            "color": "#636efa",
            "symbol": "circle"
           },
           "mode": "markers",
           "name": "UT Yadav",
           "orientation": "v",
           "showlegend": true,
           "type": "scatter",
           "x": [
            1136584
           ],
           "xaxis": "x",
           "y": [
            0
           ],
           "yaxis": "y"
          },
          {
           "hovertemplate": "batter=V Kohli<br>matchid=%{x}<br>strike_rate=%{y}<extra></extra>",
           "ids": [
            "V Kohli"
           ],
           "legendgroup": "V Kohli",
           "marker": {
            "color": "#EF553B",
            "symbol": "circle"
           },
           "mode": "markers",
           "name": "V Kohli",
           "orientation": "v",
           "showlegend": true,
           "type": "scatter",
           "x": [
            1136584
           ],
           "xaxis": "x",
           "y": [
            120
           ],
           "yaxis": "y"
          },
          {
           "hovertemplate": "batter=Washington Sundar<br>matchid=%{x}<br>strike_rate=%{y}<extra></extra>",
           "ids": [
            "Washington Sundar"
           ],
           "legendgroup": "Washington Sundar",
           "marker": {
            "color": "#FFA15A",
            "symbol": "circle"
           },
           "mode": "markers",
           "name": "Washington Sundar",
           "orientation": "v",
           "showlegend": true,
           "type": "scatter",
           "x": [
            1136584
           ],
           "xaxis": "x",
           "y": [
            325
           ],
           "yaxis": "y"
          }
         ],
         "name": "1136584"
        },
        {
         "data": [
          {
           "hovertemplate": "batter=AB de Villiers<br>matchid=%{x}<br>strike_rate=%{y}<extra></extra>",
           "ids": [
            "AB de Villiers"
           ],
           "legendgroup": "AB de Villiers",
           "marker": {
            "color": "#00cc96",
            "symbol": "circle"
           },
           "mode": "markers",
           "name": "AB de Villiers",
           "orientation": "v",
           "showlegend": true,
           "type": "scatter",
           "x": [
            1136595
           ],
           "xaxis": "x",
           "y": [
            25
           ],
           "yaxis": "y"
          },
          {
           "hovertemplate": "batter=AT Rayudu<br>matchid=%{x}<br>strike_rate=%{y}<extra></extra>",
           "ids": [
            "AT Rayudu"
           ],
           "legendgroup": "AT Rayudu",
           "marker": {
            "color": "#EF553B",
            "symbol": "circle"
           },
           "mode": "markers",
           "name": "AT Rayudu",
           "orientation": "v",
           "showlegend": true,
           "type": "scatter",
           "x": [
            1136595
           ],
           "xaxis": "x",
           "y": [
            128
           ],
           "yaxis": "y"
          },
          {
           "hovertemplate": "batter=BB McCullum<br>matchid=%{x}<br>strike_rate=%{y}<extra></extra>",
           "ids": [
            "BB McCullum"
           ],
           "legendgroup": "BB McCullum",
           "marker": {
            "color": "#FF97FF",
            "symbol": "circle"
           },
           "mode": "markers",
           "name": "BB McCullum",
           "orientation": "v",
           "showlegend": true,
           "type": "scatter",
           "x": [
            1136595
           ],
           "xaxis": "x",
           "y": [
            125
           ],
           "yaxis": "y"
          },
          {
           "hovertemplate": "batter=C de Grandhomme<br>matchid=%{x}<br>strike_rate=%{y}<extra></extra>",
           "ids": [
            "C de Grandhomme"
           ],
           "legendgroup": "C de Grandhomme",
           "marker": {
            "color": "#ab63fa",
            "symbol": "circle"
           },
           "mode": "markers",
           "name": "C de Grandhomme",
           "orientation": "v",
           "showlegend": true,
           "type": "scatter",
           "x": [
            1136595
           ],
           "xaxis": "x",
           "y": [
            100
           ],
           "yaxis": "y"
          },
          {
           "hovertemplate": "batter=DJ Bravo<br>matchid=%{x}<br>strike_rate=%{y}<extra></extra>",
           "ids": [
            "DJ Bravo"
           ],
           "legendgroup": "DJ Bravo",
           "marker": {
            "color": "#EF553B",
            "symbol": "circle"
           },
           "mode": "markers",
           "name": "DJ Bravo",
           "orientation": "v",
           "showlegend": true,
           "type": "scatter",
           "x": [
            1136595
           ],
           "xaxis": "x",
           "y": [
            82.35294117647058
           ],
           "yaxis": "y"
          },
          {
           "hovertemplate": "batter=DR Shorey<br>matchid=%{x}<br>strike_rate=%{y}<extra></extra>",
           "ids": [
            "DR Shorey"
           ],
           "legendgroup": "DR Shorey",
           "marker": {
            "color": "#19d3f3",
            "symbol": "circle"
           },
           "mode": "markers",
           "name": "DR Shorey",
           "orientation": "v",
           "showlegend": true,
           "type": "scatter",
           "x": [
            1136595
           ],
           "xaxis": "x",
           "y": [
            88.88888888888889
           ],
           "yaxis": "y"
          },
          {
           "hovertemplate": "batter=M Ashwin<br>matchid=%{x}<br>strike_rate=%{y}<extra></extra>",
           "ids": [
            "M Ashwin"
           ],
           "legendgroup": "M Ashwin",
           "marker": {
            "color": "#FF6692",
            "symbol": "circle"
           },
           "mode": "markers",
           "name": "M Ashwin",
           "orientation": "v",
           "showlegend": true,
           "type": "scatter",
           "x": [
            1136595
           ],
           "xaxis": "x",
           "y": [
            50
           ],
           "yaxis": "y"
          },
          {
           "hovertemplate": "batter=MS Dhoni<br>matchid=%{x}<br>strike_rate=%{y}<extra></extra>",
           "ids": [
            "MS Dhoni"
           ],
           "legendgroup": "MS Dhoni",
           "marker": {
            "color": "#EF553B",
            "symbol": "circle"
           },
           "mode": "markers",
           "name": "MS Dhoni",
           "orientation": "v",
           "showlegend": true,
           "type": "scatter",
           "x": [
            1136595
           ],
           "xaxis": "x",
           "y": [
            119.23076923076923
           ],
           "yaxis": "y"
          },
          {
           "hovertemplate": "batter=Mandeep Singh<br>matchid=%{x}<br>strike_rate=%{y}<extra></extra>",
           "ids": [
            "Mandeep Singh"
           ],
           "legendgroup": "Mandeep Singh",
           "marker": {
            "color": "#00cc96",
            "symbol": "circle"
           },
           "mode": "markers",
           "name": "Mandeep Singh",
           "orientation": "v",
           "showlegend": true,
           "type": "scatter",
           "x": [
            1136595
           ],
           "xaxis": "x",
           "y": [
            53.84615384615385
           ],
           "yaxis": "y"
          },
          {
           "hovertemplate": "batter=Mohammed Siraj<br>matchid=%{x}<br>strike_rate=%{y}<extra></extra>",
           "ids": [
            "Mohammed Siraj"
           ],
           "legendgroup": "Mohammed Siraj",
           "marker": {
            "color": "#19d3f3",
            "symbol": "circle"
           },
           "mode": "markers",
           "name": "Mohammed Siraj",
           "orientation": "v",
           "showlegend": true,
           "type": "scatter",
           "x": [
            1136595
           ],
           "xaxis": "x",
           "y": [
            42.857142857142854
           ],
           "yaxis": "y"
          },
          {
           "hovertemplate": "batter=PA Patel<br>matchid=%{x}<br>strike_rate=%{y}<extra></extra>",
           "ids": [
            "PA Patel"
           ],
           "legendgroup": "PA Patel",
           "marker": {
            "color": "#00cc96",
            "symbol": "circle"
           },
           "mode": "markers",
           "name": "PA Patel",
           "orientation": "v",
           "showlegend": true,
           "type": "scatter",
           "x": [
            1136595
           ],
           "xaxis": "x",
           "y": [
            129.26829268292684
           ],
           "yaxis": "y"
          },
          {
           "hovertemplate": "batter=SK Raina<br>matchid=%{x}<br>strike_rate=%{y}<extra></extra>",
           "ids": [
            "SK Raina"
           ],
           "legendgroup": "SK Raina",
           "marker": {
            "color": "#ab63fa",
            "symbol": "circle"
           },
           "mode": "markers",
           "name": "SK Raina",
           "orientation": "v",
           "showlegend": true,
           "type": "scatter",
           "x": [
            1136595
           ],
           "xaxis": "x",
           "y": [
            119.04761904761905
           ],
           "yaxis": "y"
          },
          {
           "hovertemplate": "batter=SR Watson<br>matchid=%{x}<br>strike_rate=%{y}<extra></extra>",
           "ids": [
            "SR Watson"
           ],
           "legendgroup": "SR Watson",
           "marker": {
            "color": "#FF97FF",
            "symbol": "circle"
           },
           "mode": "markers",
           "name": "SR Watson",
           "orientation": "v",
           "showlegend": true,
           "type": "scatter",
           "x": [
            1136595
           ],
           "xaxis": "x",
           "y": [
            78.57142857142857
           ],
           "yaxis": "y"
          },
          {
           "hovertemplate": "batter=TG Southee<br>matchid=%{x}<br>strike_rate=%{y}<extra></extra>",
           "ids": [
            "TG Southee"
           ],
           "legendgroup": "TG Southee",
           "marker": {
            "color": "#FF97FF",
            "symbol": "circle"
           },
           "mode": "markers",
           "name": "TG Southee",
           "orientation": "v",
           "showlegend": true,
           "type": "scatter",
           "x": [
            1136595
           ],
           "xaxis": "x",
           "y": [
            138.46153846153845
           ],
           "yaxis": "y"
          },
          {
           "hovertemplate": "batter=UT Yadav<br>matchid=%{x}<br>strike_rate=%{y}<extra></extra>",
           "ids": [
            "UT Yadav"
           ],
           "legendgroup": "UT Yadav",
           "marker": {
            "color": "#636efa",
            "symbol": "circle"
           },
           "mode": "markers",
           "name": "UT Yadav",
           "orientation": "v",
           "showlegend": true,
           "type": "scatter",
           "x": [
            1136595
           ],
           "xaxis": "x",
           "y": [
            20
           ],
           "yaxis": "y"
          },
          {
           "hovertemplate": "batter=V Kohli<br>matchid=%{x}<br>strike_rate=%{y}<extra></extra>",
           "ids": [
            "V Kohli"
           ],
           "legendgroup": "V Kohli",
           "marker": {
            "color": "#EF553B",
            "symbol": "circle"
           },
           "mode": "markers",
           "name": "V Kohli",
           "orientation": "v",
           "showlegend": true,
           "type": "scatter",
           "x": [
            1136595
           ],
           "xaxis": "x",
           "y": [
            72.72727272727273
           ],
           "yaxis": "y"
          }
         ],
         "name": "1136595"
        },
        {
         "data": [
          {
           "hovertemplate": "batter=AB de Villiers<br>matchid=%{x}<br>strike_rate=%{y}<extra></extra>",
           "ids": [
            "AB de Villiers"
           ],
           "legendgroup": "AB de Villiers",
           "marker": {
            "color": "#00cc96",
            "symbol": "circle"
           },
           "mode": "markers",
           "name": "AB de Villiers",
           "orientation": "v",
           "showlegend": true,
           "type": "scatter",
           "x": [
            1136599
           ],
           "xaxis": "x",
           "y": [
            55.55555555555556
           ],
           "yaxis": "y"
          },
          {
           "hovertemplate": "batter=AD Hales<br>matchid=%{x}<br>strike_rate=%{y}<extra></extra>",
           "ids": [
            "AD Hales"
           ],
           "legendgroup": "AD Hales",
           "marker": {
            "color": "#ab63fa",
            "symbol": "circle"
           },
           "mode": "markers",
           "name": "AD Hales",
           "orientation": "v",
           "showlegend": true,
           "type": "scatter",
           "x": [
            1136599
           ],
           "xaxis": "x",
           "y": [
            100
           ],
           "yaxis": "y"
          },
          {
           "hovertemplate": "batter=B Kumar<br>matchid=%{x}<br>strike_rate=%{y}<extra></extra>",
           "ids": [
            "B Kumar"
           ],
           "legendgroup": "B Kumar",
           "marker": {
            "color": "#FFA15A",
            "symbol": "circle"
           },
           "mode": "markers",
           "name": "B Kumar",
           "orientation": "v",
           "showlegend": true,
           "type": "scatter",
           "x": [
            1136599
           ],
           "xaxis": "x",
           "y": [
            50
           ],
           "yaxis": "y"
          },
          {
           "hovertemplate": "batter=C de Grandhomme<br>matchid=%{x}<br>strike_rate=%{y}<extra></extra>",
           "ids": [
            "C de Grandhomme"
           ],
           "legendgroup": "C de Grandhomme",
           "marker": {
            "color": "#ab63fa",
            "symbol": "circle"
           },
           "mode": "markers",
           "name": "C de Grandhomme",
           "orientation": "v",
           "showlegend": true,
           "type": "scatter",
           "x": [
            1136599
           ],
           "xaxis": "x",
           "y": [
            110.00000000000001
           ],
           "yaxis": "y"
          },
          {
           "hovertemplate": "batter=KS Williamson<br>matchid=%{x}<br>strike_rate=%{y}<extra></extra>",
           "ids": [
            "KS Williamson"
           ],
           "legendgroup": "KS Williamson",
           "marker": {
            "color": "#ab63fa",
            "symbol": "circle"
           },
           "mode": "markers",
           "name": "KS Williamson",
           "orientation": "v",
           "showlegend": true,
           "type": "scatter",
           "x": [
            1136599
           ],
           "xaxis": "x",
           "y": [
            136.58536585365854
           ],
           "yaxis": "y"
          },
          {
           "hovertemplate": "batter=M Vohra<br>matchid=%{x}<br>strike_rate=%{y}<extra></extra>",
           "ids": [
            "M Vohra"
           ],
           "legendgroup": "M Vohra",
           "marker": {
            "color": "#636efa",
            "symbol": "circle"
           },
           "mode": "markers",
           "name": "M Vohra",
           "orientation": "v",
           "showlegend": true,
           "type": "scatter",
           "x": [
            1136599
           ],
           "xaxis": "x",
           "y": [
            72.72727272727273
           ],
           "yaxis": "y"
          },
          {
           "hovertemplate": "batter=MK Pandey<br>matchid=%{x}<br>strike_rate=%{y}<extra></extra>",
           "ids": [
            "MK Pandey"
           ],
           "legendgroup": "MK Pandey",
           "marker": {
            "color": "#FF6692",
            "symbol": "circle"
           },
           "mode": "markers",
           "name": "MK Pandey",
           "orientation": "v",
           "showlegend": true,
           "type": "scatter",
           "x": [
            1136599
           ],
           "xaxis": "x",
           "y": [
            71.42857142857143
           ],
           "yaxis": "y"
          },
          {
           "hovertemplate": "batter=MM Ali<br>matchid=%{x}<br>strike_rate=%{y}<extra></extra>",
           "ids": [
            "MM Ali"
           ],
           "legendgroup": "MM Ali",
           "marker": {
            "color": "#FF97FF",
            "symbol": "circle"
           },
           "mode": "markers",
           "name": "MM Ali",
           "orientation": "v",
           "showlegend": true,
           "type": "scatter",
           "x": [
            1136599
           ],
           "xaxis": "x",
           "y": [
            142.85714285714286
           ],
           "yaxis": "y"
          },
          {
           "hovertemplate": "batter=Mandeep Singh<br>matchid=%{x}<br>strike_rate=%{y}<extra></extra>",
           "ids": [
            "Mandeep Singh"
           ],
           "legendgroup": "Mandeep Singh",
           "marker": {
            "color": "#00cc96",
            "symbol": "circle"
           },
           "mode": "markers",
           "name": "Mandeep Singh",
           "orientation": "v",
           "showlegend": true,
           "type": "scatter",
           "x": [
            1136599
           ],
           "xaxis": "x",
           "y": [
            91.30434782608695
           ],
           "yaxis": "y"
          },
          {
           "hovertemplate": "batter=PA Patel<br>matchid=%{x}<br>strike_rate=%{y}<extra></extra>",
           "ids": [
            "PA Patel"
           ],
           "legendgroup": "PA Patel",
           "marker": {
            "color": "#00cc96",
            "symbol": "circle"
           },
           "mode": "markers",
           "name": "PA Patel",
           "orientation": "v",
           "showlegend": true,
           "type": "scatter",
           "x": [
            1136599
           ],
           "xaxis": "x",
           "y": [
            153.84615384615387
           ],
           "yaxis": "y"
          },
          {
           "hovertemplate": "batter=Rashid Khan<br>matchid=%{x}<br>strike_rate=%{y}<extra></extra>",
           "ids": [
            "Rashid Khan"
           ],
           "legendgroup": "Rashid Khan",
           "marker": {
            "color": "#B6E880",
            "symbol": "circle"
           },
           "mode": "markers",
           "name": "Rashid Khan",
           "orientation": "v",
           "showlegend": true,
           "type": "scatter",
           "x": [
            1136599
           ],
           "xaxis": "x",
           "y": [
            33.33333333333333
           ],
           "yaxis": "y"
          },
          {
           "hovertemplate": "batter=S Dhawan<br>matchid=%{x}<br>strike_rate=%{y}<extra></extra>",
           "ids": [
            "S Dhawan"
           ],
           "legendgroup": "S Dhawan",
           "marker": {
            "color": "#FF97FF",
            "symbol": "circle"
           },
           "mode": "markers",
           "name": "S Dhawan",
           "orientation": "v",
           "showlegend": true,
           "type": "scatter",
           "x": [
            1136599
           ],
           "xaxis": "x",
           "y": [
            65
           ],
           "yaxis": "y"
          },
          {
           "hovertemplate": "batter=S Kaul<br>matchid=%{x}<br>strike_rate=%{y}<extra></extra>",
           "ids": [
            "S Kaul"
           ],
           "legendgroup": "S Kaul",
           "marker": {
            "color": "#636efa",
            "symbol": "circle"
           },
           "mode": "markers",
           "name": "S Kaul",
           "orientation": "v",
           "showlegend": true,
           "type": "scatter",
           "x": [
            1136599
           ],
           "xaxis": "x",
           "y": [
            100
           ],
           "yaxis": "y"
          },
          {
           "hovertemplate": "batter=Sandeep Sharma<br>matchid=%{x}<br>strike_rate=%{y}<extra></extra>",
           "ids": [
            "Sandeep Sharma"
           ],
           "legendgroup": "Sandeep Sharma",
           "marker": {
            "color": "#ab63fa",
            "symbol": "circle"
           },
           "mode": "markers",
           "name": "Sandeep Sharma",
           "orientation": "v",
           "showlegend": true,
           "type": "scatter",
           "x": [
            1136599
           ],
           "xaxis": "x",
           "y": [
            0
           ],
           "yaxis": "y"
          },
          {
           "hovertemplate": "batter=Shakib Al Hasan<br>matchid=%{x}<br>strike_rate=%{y}<extra></extra>",
           "ids": [
            "Shakib Al Hasan"
           ],
           "legendgroup": "Shakib Al Hasan",
           "marker": {
            "color": "#FFA15A",
            "symbol": "circle"
           },
           "mode": "markers",
           "name": "Shakib Al Hasan",
           "orientation": "v",
           "showlegend": true,
           "type": "scatter",
           "x": [
            1136599
           ],
           "xaxis": "x",
           "y": [
            102.94117647058823
           ],
           "yaxis": "y"
          },
          {
           "hovertemplate": "batter=V Kohli<br>matchid=%{x}<br>strike_rate=%{y}<extra></extra>",
           "ids": [
            "V Kohli"
           ],
           "legendgroup": "V Kohli",
           "marker": {
            "color": "#EF553B",
            "symbol": "circle"
           },
           "mode": "markers",
           "name": "V Kohli",
           "orientation": "v",
           "showlegend": true,
           "type": "scatter",
           "x": [
            1136599
           ],
           "xaxis": "x",
           "y": [
            130
           ],
           "yaxis": "y"
          },
          {
           "hovertemplate": "batter=WP Saha<br>matchid=%{x}<br>strike_rate=%{y}<extra></extra>",
           "ids": [
            "WP Saha"
           ],
           "legendgroup": "WP Saha",
           "marker": {
            "color": "#ab63fa",
            "symbol": "circle"
           },
           "mode": "markers",
           "name": "WP Saha",
           "orientation": "v",
           "showlegend": true,
           "type": "scatter",
           "x": [
            1136599
           ],
           "xaxis": "x",
           "y": [
            160
           ],
           "yaxis": "y"
          },
          {
           "hovertemplate": "batter=YK Pathan<br>matchid=%{x}<br>strike_rate=%{y}<extra></extra>",
           "ids": [
            "YK Pathan"
           ],
           "legendgroup": "YK Pathan",
           "marker": {
            "color": "#19d3f3",
            "symbol": "circle"
           },
           "mode": "markers",
           "name": "YK Pathan",
           "orientation": "v",
           "showlegend": true,
           "type": "scatter",
           "x": [
            1136599
           ],
           "xaxis": "x",
           "y": [
            171.42857142857142
           ],
           "yaxis": "y"
          }
         ],
         "name": "1136599"
        },
        {
         "data": [
          {
           "hovertemplate": "batter=AB de Villiers<br>matchid=%{x}<br>strike_rate=%{y}<extra></extra>",
           "ids": [
            "AB de Villiers"
           ],
           "legendgroup": "AB de Villiers",
           "marker": {
            "color": "#00cc96",
            "symbol": "circle"
           },
           "mode": "markers",
           "name": "AB de Villiers",
           "orientation": "v",
           "showlegend": true,
           "type": "scatter",
           "x": [
            1136605
           ],
           "xaxis": "x",
           "y": [
            194.5945945945946
           ],
           "yaxis": "y"
          },
          {
           "hovertemplate": "batter=Abhishek Sharma<br>matchid=%{x}<br>strike_rate=%{y}<extra></extra>",
           "ids": [
            "Abhishek Sharma"
           ],
           "legendgroup": "Abhishek Sharma",
           "marker": {
            "color": "#00cc96",
            "symbol": "circle"
           },
           "mode": "markers",
           "name": "Abhishek Sharma",
           "orientation": "v",
           "showlegend": true,
           "type": "scatter",
           "x": [
            1136605
           ],
           "xaxis": "x",
           "y": [
            229.99999999999997
           ],
           "yaxis": "y"
          },
          {
           "hovertemplate": "batter=C de Grandhomme<br>matchid=%{x}<br>strike_rate=%{y}<extra></extra>",
           "ids": [
            "C de Grandhomme"
           ],
           "legendgroup": "C de Grandhomme",
           "marker": {
            "color": "#ab63fa",
            "symbol": "circle"
           },
           "mode": "markers",
           "name": "C de Grandhomme",
           "orientation": "v",
           "showlegend": true,
           "type": "scatter",
           "x": [
            1136605
           ],
           "xaxis": "x",
           "y": [
            60
           ],
           "yaxis": "y"
          },
          {
           "hovertemplate": "batter=JJ Roy<br>matchid=%{x}<br>strike_rate=%{y}<extra></extra>",
           "ids": [
            "JJ Roy"
           ],
           "legendgroup": "JJ Roy",
           "marker": {
            "color": "#ab63fa",
            "symbol": "circle"
           },
           "mode": "markers",
           "name": "JJ Roy",
           "orientation": "v",
           "showlegend": true,
           "type": "scatter",
           "x": [
            1136605
           ],
           "xaxis": "x",
           "y": [
            120
           ],
           "yaxis": "y"
          },
          {
           "hovertemplate": "batter=MM Ali<br>matchid=%{x}<br>strike_rate=%{y}<extra></extra>",
           "ids": [
            "MM Ali"
           ],
           "legendgroup": "MM Ali",
           "marker": {
            "color": "#FF97FF",
            "symbol": "circle"
           },
           "mode": "markers",
           "name": "MM Ali",
           "orientation": "v",
           "showlegend": true,
           "type": "scatter",
           "x": [
            1136605
           ],
           "xaxis": "x",
           "y": [
            33.33333333333333
           ],
           "yaxis": "y"
          },
          {
           "hovertemplate": "batter=Mandeep Singh<br>matchid=%{x}<br>strike_rate=%{y}<extra></extra>",
           "ids": [
            "Mandeep Singh"
           ],
           "legendgroup": "Mandeep Singh",
           "marker": {
            "color": "#00cc96",
            "symbol": "circle"
           },
           "mode": "markers",
           "name": "Mandeep Singh",
           "orientation": "v",
           "showlegend": true,
           "type": "scatter",
           "x": [
            1136605
           ],
           "xaxis": "x",
           "y": [
            92.85714285714286
           ],
           "yaxis": "y"
          },
          {
           "hovertemplate": "batter=PA Patel<br>matchid=%{x}<br>strike_rate=%{y}<extra></extra>",
           "ids": [
            "PA Patel"
           ],
           "legendgroup": "PA Patel",
           "marker": {
            "color": "#00cc96",
            "symbol": "circle"
           },
           "mode": "markers",
           "name": "PA Patel",
           "orientation": "v",
           "showlegend": true,
           "type": "scatter",
           "x": [
            1136605
           ],
           "xaxis": "x",
           "y": [
            75
           ],
           "yaxis": "y"
          },
          {
           "hovertemplate": "batter=PP Shaw<br>matchid=%{x}<br>strike_rate=%{y}<extra></extra>",
           "ids": [
            "PP Shaw"
           ],
           "legendgroup": "PP Shaw",
           "marker": {
            "color": "#19d3f3",
            "symbol": "circle"
           },
           "mode": "markers",
           "name": "PP Shaw",
           "orientation": "v",
           "showlegend": true,
           "type": "scatter",
           "x": [
            1136605
           ],
           "xaxis": "x",
           "y": [
            50
           ],
           "yaxis": "y"
          },
          {
           "hovertemplate": "batter=RR Pant<br>matchid=%{x}<br>strike_rate=%{y}<extra></extra>",
           "ids": [
            "RR Pant"
           ],
           "legendgroup": "RR Pant",
           "marker": {
            "color": "#19d3f3",
            "symbol": "circle"
           },
           "mode": "markers",
           "name": "RR Pant",
           "orientation": "v",
           "showlegend": true,
           "type": "scatter",
           "x": [
            1136605
           ],
           "xaxis": "x",
           "y": [
            174.28571428571428
           ],
           "yaxis": "y"
          },
          {
           "hovertemplate": "batter=SN Khan<br>matchid=%{x}<br>strike_rate=%{y}<extra></extra>",
           "ids": [
            "SN Khan"
           ],
           "legendgroup": "SN Khan",
           "marker": {
            "color": "#FFA15A",
            "symbol": "circle"
           },
           "mode": "markers",
           "name": "SN Khan",
           "orientation": "v",
           "showlegend": true,
           "type": "scatter",
           "x": [
            1136605
           ],
           "xaxis": "x",
           "y": [
            110.00000000000001
           ],
           "yaxis": "y"
          },
          {
           "hovertemplate": "batter=SS Iyer<br>matchid=%{x}<br>strike_rate=%{y}<extra></extra>",
           "ids": [
            "SS Iyer"
           ],
           "legendgroup": "SS Iyer",
           "marker": {
            "color": "#FECB52",
            "symbol": "circle"
           },
           "mode": "markers",
           "name": "SS Iyer",
           "orientation": "v",
           "showlegend": true,
           "type": "scatter",
           "x": [
            1136605
           ],
           "xaxis": "x",
           "y": [
            86.48648648648648
           ],
           "yaxis": "y"
          },
          {
           "hovertemplate": "batter=V Kohli<br>matchid=%{x}<br>strike_rate=%{y}<extra></extra>",
           "ids": [
            "V Kohli"
           ],
           "legendgroup": "V Kohli",
           "marker": {
            "color": "#EF553B",
            "symbol": "circle"
           },
           "mode": "markers",
           "name": "V Kohli",
           "orientation": "v",
           "showlegend": true,
           "type": "scatter",
           "x": [
            1136605
           ],
           "xaxis": "x",
           "y": [
            166.66666666666669
           ],
           "yaxis": "y"
          },
          {
           "hovertemplate": "batter=V Shankar<br>matchid=%{x}<br>strike_rate=%{y}<extra></extra>",
           "ids": [
            "V Shankar"
           ],
           "legendgroup": "V Shankar",
           "marker": {
            "color": "#00cc96",
            "symbol": "circle"
           },
           "mode": "markers",
           "name": "V Shankar",
           "orientation": "v",
           "showlegend": true,
           "type": "scatter",
           "x": [
            1136605
           ],
           "xaxis": "x",
           "y": [
            105
           ],
           "yaxis": "y"
          }
         ],
         "name": "1136605"
        },
        {
         "data": [
          {
           "hovertemplate": "batter=AB de Villiers<br>matchid=%{x}<br>strike_rate=%{y}<extra></extra>",
           "ids": [
            "AB de Villiers"
           ],
           "legendgroup": "AB de Villiers",
           "marker": {
            "color": "#00cc96",
            "symbol": "circle"
           },
           "mode": "markers",
           "name": "AB de Villiers",
           "orientation": "v",
           "showlegend": true,
           "type": "scatter",
           "x": [
            1136611
           ],
           "xaxis": "x",
           "y": [
            168.29268292682926
           ],
           "yaxis": "y"
          },
          {
           "hovertemplate": "batter=AD Hales<br>matchid=%{x}<br>strike_rate=%{y}<extra></extra>",
           "ids": [
            "AD Hales"
           ],
           "legendgroup": "AD Hales",
           "marker": {
            "color": "#ab63fa",
            "symbol": "circle"
           },
           "mode": "markers",
           "name": "AD Hales",
           "orientation": "v",
           "showlegend": true,
           "type": "scatter",
           "x": [
            1136611
           ],
           "xaxis": "x",
           "y": [
            154.16666666666669
           ],
           "yaxis": "y"
          },
          {
           "hovertemplate": "batter=C de Grandhomme<br>matchid=%{x}<br>strike_rate=%{y}<extra></extra>",
           "ids": [
            "C de Grandhomme"
           ],
           "legendgroup": "C de Grandhomme",
           "marker": {
            "color": "#ab63fa",
            "symbol": "circle"
           },
           "mode": "markers",
           "name": "C de Grandhomme",
           "orientation": "v",
           "showlegend": true,
           "type": "scatter",
           "x": [
            1136611
           ],
           "xaxis": "x",
           "y": [
            235.29411764705884
           ],
           "yaxis": "y"
          },
          {
           "hovertemplate": "batter=DJ Hooda<br>matchid=%{x}<br>strike_rate=%{y}<extra></extra>",
           "ids": [
            "DJ Hooda"
           ],
           "legendgroup": "DJ Hooda",
           "marker": {
            "color": "#00cc96",
            "symbol": "circle"
           },
           "mode": "markers",
           "name": "DJ Hooda",
           "orientation": "v",
           "showlegend": true,
           "type": "scatter",
           "x": [
            1136611
           ],
           "xaxis": "x",
           "y": [
            100
           ],
           "yaxis": "y"
          },
          {
           "hovertemplate": "batter=KS Williamson<br>matchid=%{x}<br>strike_rate=%{y}<extra></extra>",
           "ids": [
            "KS Williamson"
           ],
           "legendgroup": "KS Williamson",
           "marker": {
            "color": "#ab63fa",
            "symbol": "circle"
           },
           "mode": "markers",
           "name": "KS Williamson",
           "orientation": "v",
           "showlegend": true,
           "type": "scatter",
           "x": [
            1136611
           ],
           "xaxis": "x",
           "y": [
            192.85714285714286
           ],
           "yaxis": "y"
          },
          {
           "hovertemplate": "batter=MK Pandey<br>matchid=%{x}<br>strike_rate=%{y}<extra></extra>",
           "ids": [
            "MK Pandey"
           ],
           "legendgroup": "MK Pandey",
           "marker": {
            "color": "#FF6692",
            "symbol": "circle"
           },
           "mode": "markers",
           "name": "MK Pandey",
           "orientation": "v",
           "showlegend": true,
           "type": "scatter",
           "x": [
            1136611
           ],
           "xaxis": "x",
           "y": [
            151.21951219512195
           ],
           "yaxis": "y"
          },
          {
           "hovertemplate": "batter=MM Ali<br>matchid=%{x}<br>strike_rate=%{y}<extra></extra>",
           "ids": [
            "MM Ali"
           ],
           "legendgroup": "MM Ali",
           "marker": {
            "color": "#FF97FF",
            "symbol": "circle"
           },
           "mode": "markers",
           "name": "MM Ali",
           "orientation": "v",
           "showlegend": true,
           "type": "scatter",
           "x": [
            1136611
           ],
           "xaxis": "x",
           "y": [
            191.1764705882353
           ],
           "yaxis": "y"
          },
          {
           "hovertemplate": "batter=Mandeep Singh<br>matchid=%{x}<br>strike_rate=%{y}<extra></extra>",
           "ids": [
            "Mandeep Singh"
           ],
           "legendgroup": "Mandeep Singh",
           "marker": {
            "color": "#00cc96",
            "symbol": "circle"
           },
           "mode": "markers",
           "name": "Mandeep Singh",
           "orientation": "v",
           "showlegend": true,
           "type": "scatter",
           "x": [
            1136611
           ],
           "xaxis": "x",
           "y": [
            66.66666666666666
           ],
           "yaxis": "y"
          },
          {
           "hovertemplate": "batter=PA Patel<br>matchid=%{x}<br>strike_rate=%{y}<extra></extra>",
           "ids": [
            "PA Patel"
           ],
           "legendgroup": "PA Patel",
           "marker": {
            "color": "#00cc96",
            "symbol": "circle"
           },
           "mode": "markers",
           "name": "PA Patel",
           "orientation": "v",
           "showlegend": true,
           "type": "scatter",
           "x": [
            1136611
           ],
           "xaxis": "x",
           "y": [
            25
           ],
           "yaxis": "y"
          },
          {
           "hovertemplate": "batter=S Dhawan<br>matchid=%{x}<br>strike_rate=%{y}<extra></extra>",
           "ids": [
            "S Dhawan"
           ],
           "legendgroup": "S Dhawan",
           "marker": {
            "color": "#FF97FF",
            "symbol": "circle"
           },
           "mode": "markers",
           "name": "S Dhawan",
           "orientation": "v",
           "showlegend": true,
           "type": "scatter",
           "x": [
            1136611
           ],
           "xaxis": "x",
           "y": [
            120
           ],
           "yaxis": "y"
          },
          {
           "hovertemplate": "batter=SN Khan<br>matchid=%{x}<br>strike_rate=%{y}<extra></extra>",
           "ids": [
            "SN Khan"
           ],
           "legendgroup": "SN Khan",
           "marker": {
            "color": "#FFA15A",
            "symbol": "circle"
           },
           "mode": "markers",
           "name": "SN Khan",
           "orientation": "v",
           "showlegend": true,
           "type": "scatter",
           "x": [
            1136611
           ],
           "xaxis": "x",
           "y": [
            275
           ],
           "yaxis": "y"
          },
          {
           "hovertemplate": "batter=TG Southee<br>matchid=%{x}<br>strike_rate=%{y}<extra></extra>",
           "ids": [
            "TG Southee"
           ],
           "legendgroup": "TG Southee",
           "marker": {
            "color": "#FF97FF",
            "symbol": "circle"
           },
           "mode": "markers",
           "name": "TG Southee",
           "orientation": "v",
           "showlegend": true,
           "type": "scatter",
           "x": [
            1136611
           ],
           "xaxis": "x",
           "y": [
            100
           ],
           "yaxis": "y"
          },
          {
           "hovertemplate": "batter=V Kohli<br>matchid=%{x}<br>strike_rate=%{y}<extra></extra>",
           "ids": [
            "V Kohli"
           ],
           "legendgroup": "V Kohli",
           "marker": {
            "color": "#EF553B",
            "symbol": "circle"
           },
           "mode": "markers",
           "name": "V Kohli",
           "orientation": "v",
           "showlegend": true,
           "type": "scatter",
           "x": [
            1136611
           ],
           "xaxis": "x",
           "y": [
            109.09090909090908
           ],
           "yaxis": "y"
          }
         ],
         "name": "1136611"
        },
        {
         "data": [
          {
           "hovertemplate": "batter=AB de Villiers<br>matchid=%{x}<br>strike_rate=%{y}<extra></extra>",
           "ids": [
            "AB de Villiers"
           ],
           "legendgroup": "AB de Villiers",
           "marker": {
            "color": "#00cc96",
            "symbol": "circle"
           },
           "mode": "markers",
           "name": "AB de Villiers",
           "orientation": "v",
           "showlegend": true,
           "type": "scatter",
           "x": [
            1136613
           ],
           "xaxis": "x",
           "y": [
            151.42857142857142
           ],
           "yaxis": "y"
          },
          {
           "hovertemplate": "batter=AM Rahane<br>matchid=%{x}<br>strike_rate=%{y}<extra></extra>",
           "ids": [
            "AM Rahane"
           ],
           "legendgroup": "AM Rahane",
           "marker": {
            "color": "#FF97FF",
            "symbol": "circle"
           },
           "mode": "markers",
           "name": "AM Rahane",
           "orientation": "v",
           "showlegend": true,
           "type": "scatter",
           "x": [
            1136613
           ],
           "xaxis": "x",
           "y": [
            103.125
           ],
           "yaxis": "y"
          },
          {
           "hovertemplate": "batter=C de Grandhomme<br>matchid=%{x}<br>strike_rate=%{y}<extra></extra>",
           "ids": [
            "C de Grandhomme"
           ],
           "legendgroup": "C de Grandhomme",
           "marker": {
            "color": "#ab63fa",
            "symbol": "circle"
           },
           "mode": "markers",
           "name": "C de Grandhomme",
           "orientation": "v",
           "showlegend": true,
           "type": "scatter",
           "x": [
            1136613
           ],
           "xaxis": "x",
           "y": [
            66.66666666666666
           ],
           "yaxis": "y"
          },
          {
           "hovertemplate": "batter=H Klaasen<br>matchid=%{x}<br>strike_rate=%{y}<extra></extra>",
           "ids": [
            "H Klaasen"
           ],
           "legendgroup": "H Klaasen",
           "marker": {
            "color": "#00cc96",
            "symbol": "circle"
           },
           "mode": "markers",
           "name": "H Klaasen",
           "orientation": "v",
           "showlegend": true,
           "type": "scatter",
           "x": [
            1136613
           ],
           "xaxis": "x",
           "y": [
            145.45454545454547
           ],
           "yaxis": "y"
          },
          {
           "hovertemplate": "batter=JC Archer<br>matchid=%{x}<br>strike_rate=%{y}<extra></extra>",
           "ids": [
            "JC Archer"
           ],
           "legendgroup": "JC Archer",
           "marker": {
            "color": "#FECB52",
            "symbol": "circle"
           },
           "mode": "markers",
           "name": "JC Archer",
           "orientation": "v",
           "showlegend": true,
           "type": "scatter",
           "x": [
            1136613
           ],
           "xaxis": "x",
           "y": [
            0
           ],
           "yaxis": "y"
          },
          {
           "hovertemplate": "batter=K Gowtham<br>matchid=%{x}<br>strike_rate=%{y}<extra></extra>",
           "ids": [
            "K Gowtham"
           ],
           "legendgroup": "K Gowtham",
           "marker": {
            "color": "#FF6692",
            "symbol": "circle"
           },
           "mode": "markers",
           "name": "K Gowtham",
           "orientation": "v",
           "showlegend": true,
           "type": "scatter",
           "x": [
            1136613
           ],
           "xaxis": "x",
           "y": [
            280
           ],
           "yaxis": "y"
          },
          {
           "hovertemplate": "batter=MM Ali<br>matchid=%{x}<br>strike_rate=%{y}<extra></extra>",
           "ids": [
            "MM Ali"
           ],
           "legendgroup": "MM Ali",
           "marker": {
            "color": "#FF97FF",
            "symbol": "circle"
           },
           "mode": "markers",
           "name": "MM Ali",
           "orientation": "v",
           "showlegend": true,
           "type": "scatter",
           "x": [
            1136613
           ],
           "xaxis": "x",
           "y": [
            50
           ],
           "yaxis": "y"
          },
          {
           "hovertemplate": "batter=Mandeep Singh<br>matchid=%{x}<br>strike_rate=%{y}<extra></extra>",
           "ids": [
            "Mandeep Singh"
           ],
           "legendgroup": "Mandeep Singh",
           "marker": {
            "color": "#00cc96",
            "symbol": "circle"
           },
           "mode": "markers",
           "name": "Mandeep Singh",
           "orientation": "v",
           "showlegend": true,
           "type": "scatter",
           "x": [
            1136613
           ],
           "xaxis": "x",
           "y": [
            75
           ],
           "yaxis": "y"
          },
          {
           "hovertemplate": "batter=Mohammed Siraj<br>matchid=%{x}<br>strike_rate=%{y}<extra></extra>",
           "ids": [
            "Mohammed Siraj"
           ],
           "legendgroup": "Mohammed Siraj",
           "marker": {
            "color": "#19d3f3",
            "symbol": "circle"
           },
           "mode": "markers",
           "name": "Mohammed Siraj",
           "orientation": "v",
           "showlegend": true,
           "type": "scatter",
           "x": [
            1136613
           ],
           "xaxis": "x",
           "y": [
            107.6923076923077
           ],
           "yaxis": "y"
          },
          {
           "hovertemplate": "batter=PA Patel<br>matchid=%{x}<br>strike_rate=%{y}<extra></extra>",
           "ids": [
            "PA Patel"
           ],
           "legendgroup": "PA Patel",
           "marker": {
            "color": "#00cc96",
            "symbol": "circle"
           },
           "mode": "markers",
           "name": "PA Patel",
           "orientation": "v",
           "showlegend": true,
           "type": "scatter",
           "x": [
            1136613
           ],
           "xaxis": "x",
           "y": [
            157.14285714285714
           ],
           "yaxis": "y"
          },
          {
           "hovertemplate": "batter=RA Tripathi<br>matchid=%{x}<br>strike_rate=%{y}<extra></extra>",
           "ids": [
            "RA Tripathi"
           ],
           "legendgroup": "RA Tripathi",
           "marker": {
            "color": "#EF553B",
            "symbol": "circle"
           },
           "mode": "markers",
           "name": "RA Tripathi",
           "orientation": "v",
           "showlegend": true,
           "type": "scatter",
           "x": [
            1136613
           ],
           "xaxis": "x",
           "y": [
            133.33333333333331
           ],
           "yaxis": "y"
          },
          {
           "hovertemplate": "batter=SN Khan<br>matchid=%{x}<br>strike_rate=%{y}<extra></extra>",
           "ids": [
            "SN Khan"
           ],
           "legendgroup": "SN Khan",
           "marker": {
            "color": "#FFA15A",
            "symbol": "circle"
           },
           "mode": "markers",
           "name": "SN Khan",
           "orientation": "v",
           "showlegend": true,
           "type": "scatter",
           "x": [
            1136613
           ],
           "xaxis": "x",
           "y": [
            87.5
           ],
           "yaxis": "y"
          },
          {
           "hovertemplate": "batter=SV Samson<br>matchid=%{x}<br>strike_rate=%{y}<extra></extra>",
           "ids": [
            "SV Samson"
           ],
           "legendgroup": "SV Samson",
           "marker": {
            "color": "#EF553B",
            "symbol": "circle"
           },
           "mode": "markers",
           "name": "SV Samson",
           "orientation": "v",
           "showlegend": true,
           "type": "scatter",
           "x": [
            1136613
           ],
           "xaxis": "x",
           "y": [
            0
           ],
           "yaxis": "y"
          },
          {
           "hovertemplate": "batter=TG Southee<br>matchid=%{x}<br>strike_rate=%{y}<extra></extra>",
           "ids": [
            "TG Southee"
           ],
           "legendgroup": "TG Southee",
           "marker": {
            "color": "#FF97FF",
            "symbol": "circle"
           },
           "mode": "markers",
           "name": "TG Southee",
           "orientation": "v",
           "showlegend": true,
           "type": "scatter",
           "x": [
            1136613
           ],
           "xaxis": "x",
           "y": [
            82.35294117647058
           ],
           "yaxis": "y"
          },
          {
           "hovertemplate": "batter=UT Yadav<br>matchid=%{x}<br>strike_rate=%{y}<extra></extra>",
           "ids": [
            "UT Yadav"
           ],
           "legendgroup": "UT Yadav",
           "marker": {
            "color": "#636efa",
            "symbol": "circle"
           },
           "mode": "markers",
           "name": "UT Yadav",
           "orientation": "v",
           "showlegend": true,
           "type": "scatter",
           "x": [
            1136613
           ],
           "xaxis": "x",
           "y": [
            0
           ],
           "yaxis": "y"
          },
          {
           "hovertemplate": "batter=V Kohli<br>matchid=%{x}<br>strike_rate=%{y}<extra></extra>",
           "ids": [
            "V Kohli"
           ],
           "legendgroup": "V Kohli",
           "marker": {
            "color": "#EF553B",
            "symbol": "circle"
           },
           "mode": "markers",
           "name": "V Kohli",
           "orientation": "v",
           "showlegend": true,
           "type": "scatter",
           "x": [
            1136613
           ],
           "xaxis": "x",
           "y": [
            44.44444444444444
           ],
           "yaxis": "y"
          },
          {
           "hovertemplate": "batter=YS Chahal<br>matchid=%{x}<br>strike_rate=%{y}<extra></extra>",
           "ids": [
            "YS Chahal"
           ],
           "legendgroup": "YS Chahal",
           "marker": {
            "color": "#FF6692",
            "symbol": "circle"
           },
           "mode": "markers",
           "name": "YS Chahal",
           "orientation": "v",
           "showlegend": true,
           "type": "scatter",
           "x": [
            1136613
           ],
           "xaxis": "x",
           "y": [
            0
           ],
           "yaxis": "y"
          }
         ],
         "name": "1136613"
        },
        {
         "data": [
          {
           "hovertemplate": "batter=AD Hales<br>matchid=%{x}<br>strike_rate=%{y}<extra></extra>",
           "ids": [
            "AD Hales"
           ],
           "legendgroup": "AD Hales",
           "marker": {
            "color": "#ab63fa",
            "symbol": "circle"
           },
           "mode": "markers",
           "name": "AD Hales",
           "orientation": "v",
           "showlegend": true,
           "type": "scatter",
           "x": [
            1136588
           ],
           "xaxis": "x",
           "y": [
            115.38461538461537
           ],
           "yaxis": "y"
          },
          {
           "hovertemplate": "batter=AM Rahane<br>matchid=%{x}<br>strike_rate=%{y}<extra></extra>",
           "ids": [
            "AM Rahane"
           ],
           "legendgroup": "AM Rahane",
           "marker": {
            "color": "#FF97FF",
            "symbol": "circle"
           },
           "mode": "markers",
           "name": "AM Rahane",
           "orientation": "v",
           "showlegend": true,
           "type": "scatter",
           "x": [
            1136588
           ],
           "xaxis": "x",
           "y": [
            122.64150943396226
           ],
           "yaxis": "y"
          },
          {
           "hovertemplate": "batter=BA Stokes<br>matchid=%{x}<br>strike_rate=%{y}<extra></extra>",
           "ids": [
            "BA Stokes"
           ],
           "legendgroup": "BA Stokes",
           "marker": {
            "color": "#B6E880",
            "symbol": "circle"
           },
           "mode": "markers",
           "name": "BA Stokes",
           "orientation": "v",
           "showlegend": true,
           "type": "scatter",
           "x": [
            1136588
           ],
           "xaxis": "x",
           "y": [
            0
           ],
           "yaxis": "y"
          },
          {
           "hovertemplate": "batter=JC Archer<br>matchid=%{x}<br>strike_rate=%{y}<extra></extra>",
           "ids": [
            "JC Archer"
           ],
           "legendgroup": "JC Archer",
           "marker": {
            "color": "#FECB52",
            "symbol": "circle"
           },
           "mode": "markers",
           "name": "JC Archer",
           "orientation": "v",
           "showlegend": true,
           "type": "scatter",
           "x": [
            1136588
           ],
           "xaxis": "x",
           "y": [
            100
           ],
           "yaxis": "y"
          },
          {
           "hovertemplate": "batter=JC Buttler<br>matchid=%{x}<br>strike_rate=%{y}<extra></extra>",
           "ids": [
            "JC Buttler"
           ],
           "legendgroup": "JC Buttler",
           "marker": {
            "color": "#636efa",
            "symbol": "circle"
           },
           "mode": "markers",
           "name": "JC Buttler",
           "orientation": "v",
           "showlegend": true,
           "type": "scatter",
           "x": [
            1136588
           ],
           "xaxis": "x",
           "y": [
            90.9090909090909
           ],
           "yaxis": "y"
          },
          {
           "hovertemplate": "batter=K Gowtham<br>matchid=%{x}<br>strike_rate=%{y}<extra></extra>",
           "ids": [
            "K Gowtham"
           ],
           "legendgroup": "K Gowtham",
           "marker": {
            "color": "#FF6692",
            "symbol": "circle"
           },
           "mode": "markers",
           "name": "K Gowtham",
           "orientation": "v",
           "showlegend": true,
           "type": "scatter",
           "x": [
            1136588
           ],
           "xaxis": "x",
           "y": [
            160
           ],
           "yaxis": "y"
          },
          {
           "hovertemplate": "batter=KS Williamson<br>matchid=%{x}<br>strike_rate=%{y}<extra></extra>",
           "ids": [
            "KS Williamson"
           ],
           "legendgroup": "KS Williamson",
           "marker": {
            "color": "#ab63fa",
            "symbol": "circle"
           },
           "mode": "markers",
           "name": "KS Williamson",
           "orientation": "v",
           "showlegend": true,
           "type": "scatter",
           "x": [
            1136588
           ],
           "xaxis": "x",
           "y": [
            146.51162790697674
           ],
           "yaxis": "y"
          },
          {
           "hovertemplate": "batter=MK Lomror<br>matchid=%{x}<br>strike_rate=%{y}<extra></extra>",
           "ids": [
            "MK Lomror"
           ],
           "legendgroup": "MK Lomror",
           "marker": {
            "color": "#19d3f3",
            "symbol": "circle"
           },
           "mode": "markers",
           "name": "MK Lomror",
           "orientation": "v",
           "showlegend": true,
           "type": "scatter",
           "x": [
            1136588
           ],
           "xaxis": "x",
           "y": [
            91.66666666666666
           ],
           "yaxis": "y"
          },
          {
           "hovertemplate": "batter=MK Pandey<br>matchid=%{x}<br>strike_rate=%{y}<extra></extra>",
           "ids": [
            "MK Pandey"
           ],
           "legendgroup": "MK Pandey",
           "marker": {
            "color": "#FF6692",
            "symbol": "circle"
           },
           "mode": "markers",
           "name": "MK Pandey",
           "orientation": "v",
           "showlegend": true,
           "type": "scatter",
           "x": [
            1136588
           ],
           "xaxis": "x",
           "y": [
            106.66666666666667
           ],
           "yaxis": "y"
          },
          {
           "hovertemplate": "batter=RA Tripathi<br>matchid=%{x}<br>strike_rate=%{y}<extra></extra>",
           "ids": [
            "RA Tripathi"
           ],
           "legendgroup": "RA Tripathi",
           "marker": {
            "color": "#EF553B",
            "symbol": "circle"
           },
           "mode": "markers",
           "name": "RA Tripathi",
           "orientation": "v",
           "showlegend": true,
           "type": "scatter",
           "x": [
            1136588
           ],
           "xaxis": "x",
           "y": [
            80
           ],
           "yaxis": "y"
          },
          {
           "hovertemplate": "batter=Rashid Khan<br>matchid=%{x}<br>strike_rate=%{y}<extra></extra>",
           "ids": [
            "Rashid Khan"
           ],
           "legendgroup": "Rashid Khan",
           "marker": {
            "color": "#B6E880",
            "symbol": "circle"
           },
           "mode": "markers",
           "name": "Rashid Khan",
           "orientation": "v",
           "showlegend": true,
           "type": "scatter",
           "x": [
            1136588
           ],
           "xaxis": "x",
           "y": [
            33.33333333333333
           ],
           "yaxis": "y"
          },
          {
           "hovertemplate": "batter=S Dhawan<br>matchid=%{x}<br>strike_rate=%{y}<extra></extra>",
           "ids": [
            "S Dhawan"
           ],
           "legendgroup": "S Dhawan",
           "marker": {
            "color": "#FF97FF",
            "symbol": "circle"
           },
           "mode": "markers",
           "name": "S Dhawan",
           "orientation": "v",
           "showlegend": true,
           "type": "scatter",
           "x": [
            1136588
           ],
           "xaxis": "x",
           "y": [
            150
           ],
           "yaxis": "y"
          },
          {
           "hovertemplate": "batter=SV Samson<br>matchid=%{x}<br>strike_rate=%{y}<extra></extra>",
           "ids": [
            "SV Samson"
           ],
           "legendgroup": "SV Samson",
           "marker": {
            "color": "#EF553B",
            "symbol": "circle"
           },
           "mode": "markers",
           "name": "SV Samson",
           "orientation": "v",
           "showlegend": true,
           "type": "scatter",
           "x": [
            1136588
           ],
           "xaxis": "x",
           "y": [
            133.33333333333331
           ],
           "yaxis": "y"
          },
          {
           "hovertemplate": "batter=Shakib Al Hasan<br>matchid=%{x}<br>strike_rate=%{y}<extra></extra>",
           "ids": [
            "Shakib Al Hasan"
           ],
           "legendgroup": "Shakib Al Hasan",
           "marker": {
            "color": "#FFA15A",
            "symbol": "circle"
           },
           "mode": "markers",
           "name": "Shakib Al Hasan",
           "orientation": "v",
           "showlegend": true,
           "type": "scatter",
           "x": [
            1136588
           ],
           "xaxis": "x",
           "y": [
            100
           ],
           "yaxis": "y"
          },
          {
           "hovertemplate": "batter=WP Saha<br>matchid=%{x}<br>strike_rate=%{y}<extra></extra>",
           "ids": [
            "WP Saha"
           ],
           "legendgroup": "WP Saha",
           "marker": {
            "color": "#ab63fa",
            "symbol": "circle"
           },
           "mode": "markers",
           "name": "WP Saha",
           "orientation": "v",
           "showlegend": true,
           "type": "scatter",
           "x": [
            1136588
           ],
           "xaxis": "x",
           "y": [
            157.14285714285714
           ],
           "yaxis": "y"
          },
          {
           "hovertemplate": "batter=YK Pathan<br>matchid=%{x}<br>strike_rate=%{y}<extra></extra>",
           "ids": [
            "YK Pathan"
           ],
           "legendgroup": "YK Pathan",
           "marker": {
            "color": "#19d3f3",
            "symbol": "circle"
           },
           "mode": "markers",
           "name": "YK Pathan",
           "orientation": "v",
           "showlegend": true,
           "type": "scatter",
           "x": [
            1136588
           ],
           "xaxis": "x",
           "y": [
            66.66666666666666
           ],
           "yaxis": "y"
          }
         ],
         "name": "1136588"
        },
        {
         "data": [
          {
           "hovertemplate": "batter=AD Hales<br>matchid=%{x}<br>strike_rate=%{y}<extra></extra>",
           "ids": [
            "AD Hales"
           ],
           "legendgroup": "AD Hales",
           "marker": {
            "color": "#ab63fa",
            "symbol": "circle"
           },
           "mode": "markers",
           "name": "AD Hales",
           "orientation": "v",
           "showlegend": true,
           "type": "scatter",
           "x": [
            1136596
           ],
           "xaxis": "x",
           "y": [
            140.625
           ],
           "yaxis": "y"
          },
          {
           "hovertemplate": "batter=DT Christian<br>matchid=%{x}<br>strike_rate=%{y}<extra></extra>",
           "ids": [
            "DT Christian"
           ],
           "legendgroup": "DT Christian",
           "marker": {
            "color": "#B6E880",
            "symbol": "circle"
           },
           "mode": "markers",
           "name": "DT Christian",
           "orientation": "v",
           "showlegend": true,
           "type": "scatter",
           "x": [
            1136596
           ],
           "xaxis": "x",
           "y": [
            77.77777777777779
           ],
           "yaxis": "y"
          },
          {
           "hovertemplate": "batter=GJ Maxwell<br>matchid=%{x}<br>strike_rate=%{y}<extra></extra>",
           "ids": [
            "GJ Maxwell"
           ],
           "legendgroup": "GJ Maxwell",
           "marker": {
            "color": "#EF553B",
            "symbol": "circle"
           },
           "mode": "markers",
           "name": "GJ Maxwell",
           "orientation": "v",
           "showlegend": true,
           "type": "scatter",
           "x": [
            1136596
           ],
           "xaxis": "x",
           "y": [
            66.66666666666666
           ],
           "yaxis": "y"
          },
          {
           "hovertemplate": "batter=KS Williamson<br>matchid=%{x}<br>strike_rate=%{y}<extra></extra>",
           "ids": [
            "KS Williamson"
           ],
           "legendgroup": "KS Williamson",
           "marker": {
            "color": "#ab63fa",
            "symbol": "circle"
           },
           "mode": "markers",
           "name": "KS Williamson",
           "orientation": "v",
           "showlegend": true,
           "type": "scatter",
           "x": [
            1136596
           ],
           "xaxis": "x",
           "y": [
            106.66666666666667
           ],
           "yaxis": "y"
          },
          {
           "hovertemplate": "batter=MK Pandey<br>matchid=%{x}<br>strike_rate=%{y}<extra></extra>",
           "ids": [
            "MK Pandey"
           ],
           "legendgroup": "MK Pandey",
           "marker": {
            "color": "#FF6692",
            "symbol": "circle"
           },
           "mode": "markers",
           "name": "MK Pandey",
           "orientation": "v",
           "showlegend": true,
           "type": "scatter",
           "x": [
            1136596
           ],
           "xaxis": "x",
           "y": [
            116.66666666666667
           ],
           "yaxis": "y"
          },
          {
           "hovertemplate": "batter=NV Ojha<br>matchid=%{x}<br>strike_rate=%{y}<extra></extra>",
           "ids": [
            "NV Ojha"
           ],
           "legendgroup": "NV Ojha",
           "marker": {
            "color": "#FECB52",
            "symbol": "circle"
           },
           "mode": "markers",
           "name": "NV Ojha",
           "orientation": "v",
           "showlegend": true,
           "type": "scatter",
           "x": [
            1136596
           ],
           "xaxis": "x",
           "y": [
            25
           ],
           "yaxis": "y"
          },
          {
           "hovertemplate": "batter=PP Shaw<br>matchid=%{x}<br>strike_rate=%{y}<extra></extra>",
           "ids": [
            "PP Shaw"
           ],
           "legendgroup": "PP Shaw",
           "marker": {
            "color": "#19d3f3",
            "symbol": "circle"
           },
           "mode": "markers",
           "name": "PP Shaw",
           "orientation": "v",
           "showlegend": true,
           "type": "scatter",
           "x": [
            1136596
           ],
           "xaxis": "x",
           "y": [
            175.67567567567568
           ],
           "yaxis": "y"
          },
          {
           "hovertemplate": "batter=RR Pant<br>matchid=%{x}<br>strike_rate=%{y}<extra></extra>",
           "ids": [
            "RR Pant"
           ],
           "legendgroup": "RR Pant",
           "marker": {
            "color": "#19d3f3",
            "symbol": "circle"
           },
           "mode": "markers",
           "name": "RR Pant",
           "orientation": "v",
           "showlegend": true,
           "type": "scatter",
           "x": [
            1136596
           ],
           "xaxis": "x",
           "y": [
            90
           ],
           "yaxis": "y"
          },
          {
           "hovertemplate": "batter=S Dhawan<br>matchid=%{x}<br>strike_rate=%{y}<extra></extra>",
           "ids": [
            "S Dhawan"
           ],
           "legendgroup": "S Dhawan",
           "marker": {
            "color": "#FF97FF",
            "symbol": "circle"
           },
           "mode": "markers",
           "name": "S Dhawan",
           "orientation": "v",
           "showlegend": true,
           "type": "scatter",
           "x": [
            1136596
           ],
           "xaxis": "x",
           "y": [
            106.4516129032258
           ],
           "yaxis": "y"
          },
          {
           "hovertemplate": "batter=SS Iyer<br>matchid=%{x}<br>strike_rate=%{y}<extra></extra>",
           "ids": [
            "SS Iyer"
           ],
           "legendgroup": "SS Iyer",
           "marker": {
            "color": "#FECB52",
            "symbol": "circle"
           },
           "mode": "markers",
           "name": "SS Iyer",
           "orientation": "v",
           "showlegend": true,
           "type": "scatter",
           "x": [
            1136596
           ],
           "xaxis": "x",
           "y": [
            122.22222222222223
           ],
           "yaxis": "y"
          },
          {
           "hovertemplate": "batter=V Shankar<br>matchid=%{x}<br>strike_rate=%{y}<extra></extra>",
           "ids": [
            "V Shankar"
           ],
           "legendgroup": "V Shankar",
           "marker": {
            "color": "#00cc96",
            "symbol": "circle"
           },
           "mode": "markers",
           "name": "V Shankar",
           "orientation": "v",
           "showlegend": true,
           "type": "scatter",
           "x": [
            1136596
           ],
           "xaxis": "x",
           "y": [
            176.9230769230769
           ],
           "yaxis": "y"
          },
          {
           "hovertemplate": "batter=YK Pathan<br>matchid=%{x}<br>strike_rate=%{y}<extra></extra>",
           "ids": [
            "YK Pathan"
           ],
           "legendgroup": "YK Pathan",
           "marker": {
            "color": "#19d3f3",
            "symbol": "circle"
           },
           "mode": "markers",
           "name": "YK Pathan",
           "orientation": "v",
           "showlegend": true,
           "type": "scatter",
           "x": [
            1136596
           ],
           "xaxis": "x",
           "y": [
            207.6923076923077
           ],
           "yaxis": "y"
          }
         ],
         "name": "1136596"
        },
        {
         "data": [
          {
           "hovertemplate": "batter=AD Hales<br>matchid=%{x}<br>strike_rate=%{y}<extra></extra>",
           "ids": [
            "AD Hales"
           ],
           "legendgroup": "AD Hales",
           "marker": {
            "color": "#ab63fa",
            "symbol": "circle"
           },
           "mode": "markers",
           "name": "AD Hales",
           "orientation": "v",
           "showlegend": true,
           "type": "scatter",
           "x": [
            1136602
           ],
           "xaxis": "x",
           "y": [
            140
           ],
           "yaxis": "y"
          },
          {
           "hovertemplate": "batter=GJ Maxwell<br>matchid=%{x}<br>strike_rate=%{y}<extra></extra>",
           "ids": [
            "GJ Maxwell"
           ],
           "legendgroup": "GJ Maxwell",
           "marker": {
            "color": "#EF553B",
            "symbol": "circle"
           },
           "mode": "markers",
           "name": "GJ Maxwell",
           "orientation": "v",
           "showlegend": true,
           "type": "scatter",
           "x": [
            1136602
           ],
           "xaxis": "x",
           "y": [
            112.5
           ],
           "yaxis": "y"
          },
          {
           "hovertemplate": "batter=HV Patel<br>matchid=%{x}<br>strike_rate=%{y}<extra></extra>",
           "ids": [
            "HV Patel"
           ],
           "legendgroup": "HV Patel",
           "marker": {
            "color": "#FFA15A",
            "symbol": "circle"
           },
           "mode": "markers",
           "name": "HV Patel",
           "orientation": "v",
           "showlegend": true,
           "type": "scatter",
           "x": [
            1136602
           ],
           "xaxis": "x",
           "y": [
            141.1764705882353
           ],
           "yaxis": "y"
          },
          {
           "hovertemplate": "batter=JJ Roy<br>matchid=%{x}<br>strike_rate=%{y}<extra></extra>",
           "ids": [
            "JJ Roy"
           ],
           "legendgroup": "JJ Roy",
           "marker": {
            "color": "#ab63fa",
            "symbol": "circle"
           },
           "mode": "markers",
           "name": "JJ Roy",
           "orientation": "v",
           "showlegend": true,
           "type": "scatter",
           "x": [
            1136602
           ],
           "xaxis": "x",
           "y": [
            84.61538461538461
           ],
           "yaxis": "y"
          },
          {
           "hovertemplate": "batter=KS Williamson<br>matchid=%{x}<br>strike_rate=%{y}<extra></extra>",
           "ids": [
            "KS Williamson"
           ],
           "legendgroup": "KS Williamson",
           "marker": {
            "color": "#ab63fa",
            "symbol": "circle"
           },
           "mode": "markers",
           "name": "KS Williamson",
           "orientation": "v",
           "showlegend": true,
           "type": "scatter",
           "x": [
            1136602
           ],
           "xaxis": "x",
           "y": [
            156.60377358490567
           ],
           "yaxis": "y"
          },
          {
           "hovertemplate": "batter=PP Shaw<br>matchid=%{x}<br>strike_rate=%{y}<extra></extra>",
           "ids": [
            "PP Shaw"
           ],
           "legendgroup": "PP Shaw",
           "marker": {
            "color": "#19d3f3",
            "symbol": "circle"
           },
           "mode": "markers",
           "name": "PP Shaw",
           "orientation": "v",
           "showlegend": true,
           "type": "scatter",
           "x": [
            1136602
           ],
           "xaxis": "x",
           "y": [
            81.81818181818183
           ],
           "yaxis": "y"
          },
          {
           "hovertemplate": "batter=RR Pant<br>matchid=%{x}<br>strike_rate=%{y}<extra></extra>",
           "ids": [
            "RR Pant"
           ],
           "legendgroup": "RR Pant",
           "marker": {
            "color": "#19d3f3",
            "symbol": "circle"
           },
           "mode": "markers",
           "name": "RR Pant",
           "orientation": "v",
           "showlegend": true,
           "type": "scatter",
           "x": [
            1136602
           ],
           "xaxis": "x",
           "y": [
            200
           ],
           "yaxis": "y"
          },
          {
           "hovertemplate": "batter=S Dhawan<br>matchid=%{x}<br>strike_rate=%{y}<extra></extra>",
           "ids": [
            "S Dhawan"
           ],
           "legendgroup": "S Dhawan",
           "marker": {
            "color": "#FF97FF",
            "symbol": "circle"
           },
           "mode": "markers",
           "name": "S Dhawan",
           "orientation": "v",
           "showlegend": true,
           "type": "scatter",
           "x": [
            1136602
           ],
           "xaxis": "x",
           "y": [
            180.3921568627451
           ],
           "yaxis": "y"
          },
          {
           "hovertemplate": "batter=SS Iyer<br>matchid=%{x}<br>strike_rate=%{y}<extra></extra>",
           "ids": [
            "SS Iyer"
           ],
           "legendgroup": "SS Iyer",
           "marker": {
            "color": "#FECB52",
            "symbol": "circle"
           },
           "mode": "markers",
           "name": "SS Iyer",
           "orientation": "v",
           "showlegend": true,
           "type": "scatter",
           "x": [
            1136602
           ],
           "xaxis": "x",
           "y": [
            37.5
           ],
           "yaxis": "y"
          }
         ],
         "name": "1136602"
        },
        {
         "data": [
          {
           "hovertemplate": "batter=AD Hales<br>matchid=%{x}<br>strike_rate=%{y}<extra></extra>",
           "ids": [
            "AD Hales"
           ],
           "legendgroup": "AD Hales",
           "marker": {
            "color": "#ab63fa",
            "symbol": "circle"
           },
           "mode": "markers",
           "name": "AD Hales",
           "orientation": "v",
           "showlegend": true,
           "type": "scatter",
           "x": [
            1136606
           ],
           "xaxis": "x",
           "y": [
            22.22222222222222
           ],
           "yaxis": "y"
          },
          {
           "hovertemplate": "batter=AT Rayudu<br>matchid=%{x}<br>strike_rate=%{y}<extra></extra>",
           "ids": [
            "AT Rayudu"
           ],
           "legendgroup": "AT Rayudu",
           "marker": {
            "color": "#EF553B",
            "symbol": "circle"
           },
           "mode": "markers",
           "name": "AT Rayudu",
           "orientation": "v",
           "showlegend": true,
           "type": "scatter",
           "x": [
            1136606
           ],
           "xaxis": "x",
           "y": [
            161.29032258064515
           ],
           "yaxis": "y"
          },
          {
           "hovertemplate": "batter=DJ Hooda<br>matchid=%{x}<br>strike_rate=%{y}<extra></extra>",
           "ids": [
            "DJ Hooda"
           ],
           "legendgroup": "DJ Hooda",
           "marker": {
            "color": "#00cc96",
            "symbol": "circle"
           },
           "mode": "markers",
           "name": "DJ Hooda",
           "orientation": "v",
           "showlegend": true,
           "type": "scatter",
           "x": [
            1136606
           ],
           "xaxis": "x",
           "y": [
            140
           ],
           "yaxis": "y"
          },
          {
           "hovertemplate": "batter=KS Williamson<br>matchid=%{x}<br>strike_rate=%{y}<extra></extra>",
           "ids": [
            "KS Williamson"
           ],
           "legendgroup": "KS Williamson",
           "marker": {
            "color": "#ab63fa",
            "symbol": "circle"
           },
           "mode": "markers",
           "name": "KS Williamson",
           "orientation": "v",
           "showlegend": true,
           "type": "scatter",
           "x": [
            1136606
           ],
           "xaxis": "x",
           "y": [
            130.76923076923077
           ],
           "yaxis": "y"
          },
          {
           "hovertemplate": "batter=MK Pandey<br>matchid=%{x}<br>strike_rate=%{y}<extra></extra>",
           "ids": [
            "MK Pandey"
           ],
           "legendgroup": "MK Pandey",
           "marker": {
            "color": "#FF6692",
            "symbol": "circle"
           },
           "mode": "markers",
           "name": "MK Pandey",
           "orientation": "v",
           "showlegend": true,
           "type": "scatter",
           "x": [
            1136606
           ],
           "xaxis": "x",
           "y": [
            83.33333333333334
           ],
           "yaxis": "y"
          },
          {
           "hovertemplate": "batter=MS Dhoni<br>matchid=%{x}<br>strike_rate=%{y}<extra></extra>",
           "ids": [
            "MS Dhoni"
           ],
           "legendgroup": "MS Dhoni",
           "marker": {
            "color": "#EF553B",
            "symbol": "circle"
           },
           "mode": "markers",
           "name": "MS Dhoni",
           "orientation": "v",
           "showlegend": true,
           "type": "scatter",
           "x": [
            1136606
           ],
           "xaxis": "x",
           "y": [
            133.33333333333331
           ],
           "yaxis": "y"
          },
          {
           "hovertemplate": "batter=S Dhawan<br>matchid=%{x}<br>strike_rate=%{y}<extra></extra>",
           "ids": [
            "S Dhawan"
           ],
           "legendgroup": "S Dhawan",
           "marker": {
            "color": "#FF97FF",
            "symbol": "circle"
           },
           "mode": "markers",
           "name": "S Dhawan",
           "orientation": "v",
           "showlegend": true,
           "type": "scatter",
           "x": [
            1136606
           ],
           "xaxis": "x",
           "y": [
            143.63636363636363
           ],
           "yaxis": "y"
          },
          {
           "hovertemplate": "batter=SK Raina<br>matchid=%{x}<br>strike_rate=%{y}<extra></extra>",
           "ids": [
            "SK Raina"
           ],
           "legendgroup": "SK Raina",
           "marker": {
            "color": "#ab63fa",
            "symbol": "circle"
           },
           "mode": "markers",
           "name": "SK Raina",
           "orientation": "v",
           "showlegend": true,
           "type": "scatter",
           "x": [
            1136606
           ],
           "xaxis": "x",
           "y": [
            66.66666666666666
           ],
           "yaxis": "y"
          },
          {
           "hovertemplate": "batter=SR Watson<br>matchid=%{x}<br>strike_rate=%{y}<extra></extra>",
           "ids": [
            "SR Watson"
           ],
           "legendgroup": "SR Watson",
           "marker": {
            "color": "#FF97FF",
            "symbol": "circle"
           },
           "mode": "markers",
           "name": "SR Watson",
           "orientation": "v",
           "showlegend": true,
           "type": "scatter",
           "x": [
            1136606
           ],
           "xaxis": "x",
           "y": [
            162.85714285714286
           ],
           "yaxis": "y"
          },
          {
           "hovertemplate": "batter=Shakib Al Hasan<br>matchid=%{x}<br>strike_rate=%{y}<extra></extra>",
           "ids": [
            "Shakib Al Hasan"
           ],
           "legendgroup": "Shakib Al Hasan",
           "marker": {
            "color": "#FFA15A",
            "symbol": "circle"
           },
           "mode": "markers",
           "name": "Shakib Al Hasan",
           "orientation": "v",
           "showlegend": true,
           "type": "scatter",
           "x": [
            1136606
           ],
           "xaxis": "x",
           "y": [
            133.33333333333331
           ],
           "yaxis": "y"
          }
         ],
         "name": "1136606"
        },
        {
         "data": [
          {
           "hovertemplate": "batter=AD Nath<br>matchid=%{x}<br>strike_rate=%{y}<extra></extra>",
           "ids": [
            "AD Nath"
           ],
           "legendgroup": "AD Nath",
           "marker": {
            "color": "#FFA15A",
            "symbol": "circle"
           },
           "mode": "markers",
           "name": "AD Nath",
           "orientation": "v",
           "showlegend": true,
           "type": "scatter",
           "x": [
            1136600
           ],
           "xaxis": "x",
           "y": [
            69.23076923076923
           ],
           "yaxis": "y"
          },
          {
           "hovertemplate": "batter=AJ Tye<br>matchid=%{x}<br>strike_rate=%{y}<extra></extra>",
           "ids": [
            "AJ Tye"
           ],
           "legendgroup": "AJ Tye",
           "marker": {
            "color": "#B6E880",
            "symbol": "circle"
           },
           "mode": "markers",
           "name": "AJ Tye",
           "orientation": "v",
           "showlegend": true,
           "type": "scatter",
           "x": [
            1136600
           ],
           "xaxis": "x",
           "y": [
            100
           ],
           "yaxis": "y"
          },
          {
           "hovertemplate": "batter=AM Rahane<br>matchid=%{x}<br>strike_rate=%{y}<extra></extra>",
           "ids": [
            "AM Rahane"
           ],
           "legendgroup": "AM Rahane",
           "marker": {
            "color": "#FF97FF",
            "symbol": "circle"
           },
           "mode": "markers",
           "name": "AM Rahane",
           "orientation": "v",
           "showlegend": true,
           "type": "scatter",
           "x": [
            1136600
           ],
           "xaxis": "x",
           "y": [
            90
           ],
           "yaxis": "y"
          },
          {
           "hovertemplate": "batter=AR Patel<br>matchid=%{x}<br>strike_rate=%{y}<extra></extra>",
           "ids": [
            "AR Patel"
           ],
           "legendgroup": "AR Patel",
           "marker": {
            "color": "#FECB52",
            "symbol": "circle"
           },
           "mode": "markers",
           "name": "AR Patel",
           "orientation": "v",
           "showlegend": true,
           "type": "scatter",
           "x": [
            1136600
           ],
           "xaxis": "x",
           "y": [
            180
           ],
           "yaxis": "y"
          },
          {
           "hovertemplate": "batter=BA Stokes<br>matchid=%{x}<br>strike_rate=%{y}<extra></extra>",
           "ids": [
            "BA Stokes"
           ],
           "legendgroup": "BA Stokes",
           "marker": {
            "color": "#B6E880",
            "symbol": "circle"
           },
           "mode": "markers",
           "name": "BA Stokes",
           "orientation": "v",
           "showlegend": true,
           "type": "scatter",
           "x": [
            1136600
           ],
           "xaxis": "x",
           "y": [
            127.27272727272727
           ],
           "yaxis": "y"
          },
          {
           "hovertemplate": "batter=CH Gayle<br>matchid=%{x}<br>strike_rate=%{y}<extra></extra>",
           "ids": [
            "CH Gayle"
           ],
           "legendgroup": "CH Gayle",
           "marker": {
            "color": "#19d3f3",
            "symbol": "circle"
           },
           "mode": "markers",
           "name": "CH Gayle",
           "orientation": "v",
           "showlegend": true,
           "type": "scatter",
           "x": [
            1136600
           ],
           "xaxis": "x",
           "y": [
            50
           ],
           "yaxis": "y"
          },
          {
           "hovertemplate": "batter=JC Archer<br>matchid=%{x}<br>strike_rate=%{y}<extra></extra>",
           "ids": [
            "JC Archer"
           ],
           "legendgroup": "JC Archer",
           "marker": {
            "color": "#FECB52",
            "symbol": "circle"
           },
           "mode": "markers",
           "name": "JC Archer",
           "orientation": "v",
           "showlegend": true,
           "type": "scatter",
           "x": [
            1136600
           ],
           "xaxis": "x",
           "y": [
            0
           ],
           "yaxis": "y"
          },
          {
           "hovertemplate": "batter=JC Buttler<br>matchid=%{x}<br>strike_rate=%{y}<extra></extra>",
           "ids": [
            "JC Buttler"
           ],
           "legendgroup": "JC Buttler",
           "marker": {
            "color": "#636efa",
            "symbol": "circle"
           },
           "mode": "markers",
           "name": "JC Buttler",
           "orientation": "v",
           "showlegend": true,
           "type": "scatter",
           "x": [
            1136600
           ],
           "xaxis": "x",
           "y": [
            138.98305084745763
           ],
           "yaxis": "y"
          },
          {
           "hovertemplate": "batter=JD Unadkat<br>matchid=%{x}<br>strike_rate=%{y}<extra></extra>",
           "ids": [
            "JD Unadkat"
           ],
           "legendgroup": "JD Unadkat",
           "marker": {
            "color": "#EF553B",
            "symbol": "circle"
           },
           "mode": "markers",
           "name": "JD Unadkat",
           "orientation": "v",
           "showlegend": true,
           "type": "scatter",
           "x": [
            1136600
           ],
           "xaxis": "x",
           "y": [
            0
           ],
           "yaxis": "y"
          },
          {
           "hovertemplate": "batter=K Gowtham<br>matchid=%{x}<br>strike_rate=%{y}<extra></extra>",
           "ids": [
            "K Gowtham"
           ],
           "legendgroup": "K Gowtham",
           "marker": {
            "color": "#FF6692",
            "symbol": "circle"
           },
           "mode": "markers",
           "name": "K Gowtham",
           "orientation": "v",
           "showlegend": true,
           "type": "scatter",
           "x": [
            1136600
           ],
           "xaxis": "x",
           "y": [
            133.33333333333331
           ],
           "yaxis": "y"
          },
          {
           "hovertemplate": "batter=KK Nair<br>matchid=%{x}<br>strike_rate=%{y}<extra></extra>",
           "ids": [
            "KK Nair"
           ],
           "legendgroup": "KK Nair",
           "marker": {
            "color": "#636efa",
            "symbol": "circle"
           },
           "mode": "markers",
           "name": "KK Nair",
           "orientation": "v",
           "showlegend": true,
           "type": "scatter",
           "x": [
            1136600
           ],
           "xaxis": "x",
           "y": [
            60
           ],
           "yaxis": "y"
          },
          {
           "hovertemplate": "batter=KL Rahul<br>matchid=%{x}<br>strike_rate=%{y}<extra></extra>",
           "ids": [
            "KL Rahul"
           ],
           "legendgroup": "KL Rahul",
           "marker": {
            "color": "#EF553B",
            "symbol": "circle"
           },
           "mode": "markers",
           "name": "KL Rahul",
           "orientation": "v",
           "showlegend": true,
           "type": "scatter",
           "x": [
            1136600
           ],
           "xaxis": "x",
           "y": [
            135.71428571428572
           ],
           "yaxis": "y"
          },
          {
           "hovertemplate": "batter=MK Lomror<br>matchid=%{x}<br>strike_rate=%{y}<extra></extra>",
           "ids": [
            "MK Lomror"
           ],
           "legendgroup": "MK Lomror",
           "marker": {
            "color": "#19d3f3",
            "symbol": "circle"
           },
           "mode": "markers",
           "name": "MK Lomror",
           "orientation": "v",
           "showlegend": true,
           "type": "scatter",
           "x": [
            1136600
           ],
           "xaxis": "x",
           "y": [
            100
           ],
           "yaxis": "y"
          },
          {
           "hovertemplate": "batter=MK Tiwary<br>matchid=%{x}<br>strike_rate=%{y}<extra></extra>",
           "ids": [
            "MK Tiwary"
           ],
           "legendgroup": "MK Tiwary",
           "marker": {
            "color": "#B6E880",
            "symbol": "circle"
           },
           "mode": "markers",
           "name": "MK Tiwary",
           "orientation": "v",
           "showlegend": true,
           "type": "scatter",
           "x": [
            1136600
           ],
           "xaxis": "x",
           "y": [
            87.5
           ],
           "yaxis": "y"
          },
          {
           "hovertemplate": "batter=MP Stoinis<br>matchid=%{x}<br>strike_rate=%{y}<extra></extra>",
           "ids": [
            "MP Stoinis"
           ],
           "legendgroup": "MP Stoinis",
           "marker": {
            "color": "#636efa",
            "symbol": "circle"
           },
           "mode": "markers",
           "name": "MP Stoinis",
           "orientation": "v",
           "showlegend": true,
           "type": "scatter",
           "x": [
            1136600
           ],
           "xaxis": "x",
           "y": [
            68.75
           ],
           "yaxis": "y"
          },
          {
           "hovertemplate": "batter=R Ashwin<br>matchid=%{x}<br>strike_rate=%{y}<extra></extra>",
           "ids": [
            "R Ashwin"
           ],
           "legendgroup": "R Ashwin",
           "marker": {
            "color": "#B6E880",
            "symbol": "circle"
           },
           "mode": "markers",
           "name": "R Ashwin",
           "orientation": "v",
           "showlegend": true,
           "type": "scatter",
           "x": [
            1136600
           ],
           "xaxis": "x",
           "y": [
            0
           ],
           "yaxis": "y"
          },
          {
           "hovertemplate": "batter=STR Binny<br>matchid=%{x}<br>strike_rate=%{y}<extra></extra>",
           "ids": [
            "STR Binny"
           ],
           "legendgroup": "STR Binny",
           "marker": {
            "color": "#636efa",
            "symbol": "circle"
           },
           "mode": "markers",
           "name": "STR Binny",
           "orientation": "v",
           "showlegend": true,
           "type": "scatter",
           "x": [
            1136600
           ],
           "xaxis": "x",
           "y": [
            157.14285714285714
           ],
           "yaxis": "y"
          },
          {
           "hovertemplate": "batter=SV Samson<br>matchid=%{x}<br>strike_rate=%{y}<extra></extra>",
           "ids": [
            "SV Samson"
           ],
           "legendgroup": "SV Samson",
           "marker": {
            "color": "#EF553B",
            "symbol": "circle"
           },
           "mode": "markers",
           "name": "SV Samson",
           "orientation": "v",
           "showlegend": true,
           "type": "scatter",
           "x": [
            1136600
           ],
           "xaxis": "x",
           "y": [
            122.22222222222223
           ],
           "yaxis": "y"
          }
         ],
         "name": "1136600"
        },
        {
         "data": [
          {
           "hovertemplate": "batter=AD Russell<br>matchid=%{x}<br>strike_rate=%{y}<extra></extra>",
           "ids": [
            "AD Russell"
           ],
           "legendgroup": "AD Russell",
           "marker": {
            "color": "#19d3f3",
            "symbol": "circle"
           },
           "mode": "markers",
           "name": "AD Russell",
           "orientation": "v",
           "showlegend": true,
           "type": "scatter",
           "x": [
            1136565
           ],
           "xaxis": "x",
           "y": [
            244.44444444444446
           ],
           "yaxis": "y"
          },
          {
           "hovertemplate": "batter=AT Rayudu<br>matchid=%{x}<br>strike_rate=%{y}<extra></extra>",
           "ids": [
            "AT Rayudu"
           ],
           "legendgroup": "AT Rayudu",
           "marker": {
            "color": "#EF553B",
            "symbol": "circle"
           },
           "mode": "markers",
           "name": "AT Rayudu",
           "orientation": "v",
           "showlegend": true,
           "type": "scatter",
           "x": [
            1136565
           ],
           "xaxis": "x",
           "y": [
            150
           ],
           "yaxis": "y"
          },
          {
           "hovertemplate": "batter=CA Lynn<br>matchid=%{x}<br>strike_rate=%{y}<extra></extra>",
           "ids": [
            "CA Lynn"
           ],
           "legendgroup": "CA Lynn",
           "marker": {
            "color": "#FFA15A",
            "symbol": "circle"
           },
           "mode": "markers",
           "name": "CA Lynn",
           "orientation": "v",
           "showlegend": true,
           "type": "scatter",
           "x": [
            1136565
           ],
           "xaxis": "x",
           "y": [
            137.5
           ],
           "yaxis": "y"
          },
          {
           "hovertemplate": "batter=DJ Bravo<br>matchid=%{x}<br>strike_rate=%{y}<extra></extra>",
           "ids": [
            "DJ Bravo"
           ],
           "legendgroup": "DJ Bravo",
           "marker": {
            "color": "#EF553B",
            "symbol": "circle"
           },
           "mode": "markers",
           "name": "DJ Bravo",
           "orientation": "v",
           "showlegend": true,
           "type": "scatter",
           "x": [
            1136565
           ],
           "xaxis": "x",
           "y": [
            220.00000000000003
           ],
           "yaxis": "y"
          },
          {
           "hovertemplate": "batter=KD Karthik<br>matchid=%{x}<br>strike_rate=%{y}<extra></extra>",
           "ids": [
            "KD Karthik"
           ],
           "legendgroup": "KD Karthik",
           "marker": {
            "color": "#FF97FF",
            "symbol": "circle"
           },
           "mode": "markers",
           "name": "KD Karthik",
           "orientation": "v",
           "showlegend": true,
           "type": "scatter",
           "x": [
            1136565
           ],
           "xaxis": "x",
           "y": [
            100
           ],
           "yaxis": "y"
          },
          {
           "hovertemplate": "batter=MS Dhoni<br>matchid=%{x}<br>strike_rate=%{y}<extra></extra>",
           "ids": [
            "MS Dhoni"
           ],
           "legendgroup": "MS Dhoni",
           "marker": {
            "color": "#EF553B",
            "symbol": "circle"
           },
           "mode": "markers",
           "name": "MS Dhoni",
           "orientation": "v",
           "showlegend": true,
           "type": "scatter",
           "x": [
            1136565
           ],
           "xaxis": "x",
           "y": [
            83.33333333333334
           ],
           "yaxis": "y"
          },
          {
           "hovertemplate": "batter=N Rana<br>matchid=%{x}<br>strike_rate=%{y}<extra></extra>",
           "ids": [
            "N Rana"
           ],
           "legendgroup": "N Rana",
           "marker": {
            "color": "#FF97FF",
            "symbol": "circle"
           },
           "mode": "markers",
           "name": "N Rana",
           "orientation": "v",
           "showlegend": true,
           "type": "scatter",
           "x": [
            1136565
           ],
           "xaxis": "x",
           "y": [
            114.28571428571428
           ],
           "yaxis": "y"
          },
          {
           "hovertemplate": "batter=RA Jadeja<br>matchid=%{x}<br>strike_rate=%{y}<extra></extra>",
           "ids": [
            "RA Jadeja"
           ],
           "legendgroup": "RA Jadeja",
           "marker": {
            "color": "#636efa",
            "symbol": "circle"
           },
           "mode": "markers",
           "name": "RA Jadeja",
           "orientation": "v",
           "showlegend": true,
           "type": "scatter",
           "x": [
            1136565
           ],
           "xaxis": "x",
           "y": [
            137.5
           ],
           "yaxis": "y"
          },
          {
           "hovertemplate": "batter=RK Singh<br>matchid=%{x}<br>strike_rate=%{y}<extra></extra>",
           "ids": [
            "RK Singh"
           ],
           "legendgroup": "RK Singh",
           "marker": {
            "color": "#FFA15A",
            "symbol": "circle"
           },
           "mode": "markers",
           "name": "RK Singh",
           "orientation": "v",
           "showlegend": true,
           "type": "scatter",
           "x": [
            1136565
           ],
           "xaxis": "x",
           "y": [
            50
           ],
           "yaxis": "y"
          },
          {
           "hovertemplate": "batter=RV Uthappa<br>matchid=%{x}<br>strike_rate=%{y}<extra></extra>",
           "ids": [
            "RV Uthappa"
           ],
           "legendgroup": "RV Uthappa",
           "marker": {
            "color": "#FF6692",
            "symbol": "circle"
           },
           "mode": "markers",
           "name": "RV Uthappa",
           "orientation": "v",
           "showlegend": true,
           "type": "scatter",
           "x": [
            1136565
           ],
           "xaxis": "x",
           "y": [
            170.58823529411765
           ],
           "yaxis": "y"
          },
          {
           "hovertemplate": "batter=SK Raina<br>matchid=%{x}<br>strike_rate=%{y}<extra></extra>",
           "ids": [
            "SK Raina"
           ],
           "legendgroup": "SK Raina",
           "marker": {
            "color": "#ab63fa",
            "symbol": "circle"
           },
           "mode": "markers",
           "name": "SK Raina",
           "orientation": "v",
           "showlegend": true,
           "type": "scatter",
           "x": [
            1136565
           ],
           "xaxis": "x",
           "y": [
            116.66666666666667
           ],
           "yaxis": "y"
          },
          {
           "hovertemplate": "batter=SP Narine<br>matchid=%{x}<br>strike_rate=%{y}<extra></extra>",
           "ids": [
            "SP Narine"
           ],
           "legendgroup": "SP Narine",
           "marker": {
            "color": "#B6E880",
            "symbol": "circle"
           },
           "mode": "markers",
           "name": "SP Narine",
           "orientation": "v",
           "showlegend": true,
           "type": "scatter",
           "x": [
            1136565
           ],
           "xaxis": "x",
           "y": [
            240
           ],
           "yaxis": "y"
          },
          {
           "hovertemplate": "batter=SR Watson<br>matchid=%{x}<br>strike_rate=%{y}<extra></extra>",
           "ids": [
            "SR Watson"
           ],
           "legendgroup": "SR Watson",
           "marker": {
            "color": "#FF97FF",
            "symbol": "circle"
           },
           "mode": "markers",
           "name": "SR Watson",
           "orientation": "v",
           "showlegend": true,
           "type": "scatter",
           "x": [
            1136565
           ],
           "xaxis": "x",
           "y": [
            221.0526315789474
           ],
           "yaxis": "y"
          },
          {
           "hovertemplate": "batter=SW Billings<br>matchid=%{x}<br>strike_rate=%{y}<extra></extra>",
           "ids": [
            "SW Billings"
           ],
           "legendgroup": "SW Billings",
           "marker": {
            "color": "#00cc96",
            "symbol": "circle"
           },
           "mode": "markers",
           "name": "SW Billings",
           "orientation": "v",
           "showlegend": true,
           "type": "scatter",
           "x": [
            1136565
           ],
           "xaxis": "x",
           "y": [
            243.47826086956525
           ],
           "yaxis": "y"
          },
          {
           "hovertemplate": "batter=TK Curran<br>matchid=%{x}<br>strike_rate=%{y}<extra></extra>",
           "ids": [
            "TK Curran"
           ],
           "legendgroup": "TK Curran",
           "marker": {
            "color": "#FECB52",
            "symbol": "circle"
           },
           "mode": "markers",
           "name": "TK Curran",
           "orientation": "v",
           "showlegend": true,
           "type": "scatter",
           "x": [
            1136565
           ],
           "xaxis": "x",
           "y": [
            40
           ],
           "yaxis": "y"
          }
         ],
         "name": "1136565"
        },
        {
         "data": [
          {
           "hovertemplate": "batter=AD Russell<br>matchid=%{x}<br>strike_rate=%{y}<extra></extra>",
           "ids": [
            "AD Russell"
           ],
           "legendgroup": "AD Russell",
           "marker": {
            "color": "#19d3f3",
            "symbol": "circle"
           },
           "mode": "markers",
           "name": "AD Russell",
           "orientation": "v",
           "showlegend": true,
           "type": "scatter",
           "x": [
            1136570
           ],
           "xaxis": "x",
           "y": [
            180
           ],
           "yaxis": "y"
          },
          {
           "hovertemplate": "batter=CA Lynn<br>matchid=%{x}<br>strike_rate=%{y}<extra></extra>",
           "ids": [
            "CA Lynn"
           ],
           "legendgroup": "CA Lynn",
           "marker": {
            "color": "#FFA15A",
            "symbol": "circle"
           },
           "mode": "markers",
           "name": "CA Lynn",
           "orientation": "v",
           "showlegend": true,
           "type": "scatter",
           "x": [
            1136570
           ],
           "xaxis": "x",
           "y": [
            144.11764705882354
           ],
           "yaxis": "y"
          },
          {
           "hovertemplate": "batter=DJ Hooda<br>matchid=%{x}<br>strike_rate=%{y}<extra></extra>",
           "ids": [
            "DJ Hooda"
           ],
           "legendgroup": "DJ Hooda",
           "marker": {
            "color": "#00cc96",
            "symbol": "circle"
           },
           "mode": "markers",
           "name": "DJ Hooda",
           "orientation": "v",
           "showlegend": true,
           "type": "scatter",
           "x": [
            1136570
           ],
           "xaxis": "x",
           "y": [
            55.55555555555556
           ],
           "yaxis": "y"
          },
          {
           "hovertemplate": "batter=KD Karthik<br>matchid=%{x}<br>strike_rate=%{y}<extra></extra>",
           "ids": [
            "KD Karthik"
           ],
           "legendgroup": "KD Karthik",
           "marker": {
            "color": "#FF97FF",
            "symbol": "circle"
           },
           "mode": "markers",
           "name": "KD Karthik",
           "orientation": "v",
           "showlegend": true,
           "type": "scatter",
           "x": [
            1136570
           ],
           "xaxis": "x",
           "y": [
            107.40740740740742
           ],
           "yaxis": "y"
          },
          {
           "hovertemplate": "batter=KS Williamson<br>matchid=%{x}<br>strike_rate=%{y}<extra></extra>",
           "ids": [
            "KS Williamson"
           ],
           "legendgroup": "KS Williamson",
           "marker": {
            "color": "#ab63fa",
            "symbol": "circle"
           },
           "mode": "markers",
           "name": "KS Williamson",
           "orientation": "v",
           "showlegend": true,
           "type": "scatter",
           "x": [
            1136570
           ],
           "xaxis": "x",
           "y": [
            113.63636363636364
           ],
           "yaxis": "y"
          },
          {
           "hovertemplate": "batter=MG Johnson<br>matchid=%{x}<br>strike_rate=%{y}<extra></extra>",
           "ids": [
            "MG Johnson"
           ],
           "legendgroup": "MG Johnson",
           "marker": {
            "color": "#ab63fa",
            "symbol": "circle"
           },
           "mode": "markers",
           "name": "MG Johnson",
           "orientation": "v",
           "showlegend": true,
           "type": "scatter",
           "x": [
            1136570
           ],
           "xaxis": "x",
           "y": [
            80
           ],
           "yaxis": "y"
          },
          {
           "hovertemplate": "batter=MK Pandey<br>matchid=%{x}<br>strike_rate=%{y}<extra></extra>",
           "ids": [
            "MK Pandey"
           ],
           "legendgroup": "MK Pandey",
           "marker": {
            "color": "#FF6692",
            "symbol": "circle"
           },
           "mode": "markers",
           "name": "MK Pandey",
           "orientation": "v",
           "showlegend": true,
           "type": "scatter",
           "x": [
            1136570
           ],
           "xaxis": "x",
           "y": [
            36.36363636363637
           ],
           "yaxis": "y"
          },
          {
           "hovertemplate": "batter=N Rana<br>matchid=%{x}<br>strike_rate=%{y}<extra></extra>",
           "ids": [
            "N Rana"
           ],
           "legendgroup": "N Rana",
           "marker": {
            "color": "#FF97FF",
            "symbol": "circle"
           },
           "mode": "markers",
           "name": "N Rana",
           "orientation": "v",
           "showlegend": true,
           "type": "scatter",
           "x": [
            1136570
           ],
           "xaxis": "x",
           "y": [
            112.5
           ],
           "yaxis": "y"
          },
          {
           "hovertemplate": "batter=RV Uthappa<br>matchid=%{x}<br>strike_rate=%{y}<extra></extra>",
           "ids": [
            "RV Uthappa"
           ],
           "legendgroup": "RV Uthappa",
           "marker": {
            "color": "#FF6692",
            "symbol": "circle"
           },
           "mode": "markers",
           "name": "RV Uthappa",
           "orientation": "v",
           "showlegend": true,
           "type": "scatter",
           "x": [
            1136570
           ],
           "xaxis": "x",
           "y": [
            37.5
           ],
           "yaxis": "y"
          },
          {
           "hovertemplate": "batter=S Dhawan<br>matchid=%{x}<br>strike_rate=%{y}<extra></extra>",
           "ids": [
            "S Dhawan"
           ],
           "legendgroup": "S Dhawan",
           "marker": {
            "color": "#FF97FF",
            "symbol": "circle"
           },
           "mode": "markers",
           "name": "S Dhawan",
           "orientation": "v",
           "showlegend": true,
           "type": "scatter",
           "x": [
            1136570
           ],
           "xaxis": "x",
           "y": [
            87.5
           ],
           "yaxis": "y"
          },
          {
           "hovertemplate": "batter=SP Narine<br>matchid=%{x}<br>strike_rate=%{y}<extra></extra>",
           "ids": [
            "SP Narine"
           ],
           "legendgroup": "SP Narine",
           "marker": {
            "color": "#B6E880",
            "symbol": "circle"
           },
           "mode": "markers",
           "name": "SP Narine",
           "orientation": "v",
           "showlegend": true,
           "type": "scatter",
           "x": [
            1136570
           ],
           "xaxis": "x",
           "y": [
            81.81818181818183
           ],
           "yaxis": "y"
          },
          {
           "hovertemplate": "batter=Shakib Al Hasan<br>matchid=%{x}<br>strike_rate=%{y}<extra></extra>",
           "ids": [
            "Shakib Al Hasan"
           ],
           "legendgroup": "Shakib Al Hasan",
           "marker": {
            "color": "#FFA15A",
            "symbol": "circle"
           },
           "mode": "markers",
           "name": "Shakib Al Hasan",
           "orientation": "v",
           "showlegend": true,
           "type": "scatter",
           "x": [
            1136570
           ],
           "xaxis": "x",
           "y": [
            128.57142857142858
           ],
           "yaxis": "y"
          },
          {
           "hovertemplate": "batter=Shivam Mavi<br>matchid=%{x}<br>strike_rate=%{y}<extra></extra>",
           "ids": [
            "Shivam Mavi"
           ],
           "legendgroup": "Shivam Mavi",
           "marker": {
            "color": "#19d3f3",
            "symbol": "circle"
           },
           "mode": "markers",
           "name": "Shivam Mavi",
           "orientation": "v",
           "showlegend": true,
           "type": "scatter",
           "x": [
            1136570
           ],
           "xaxis": "x",
           "y": [
            87.5
           ],
           "yaxis": "y"
          },
          {
           "hovertemplate": "batter=Shubman Gill<br>matchid=%{x}<br>strike_rate=%{y}<extra></extra>",
           "ids": [
            "Shubman Gill"
           ],
           "legendgroup": "Shubman Gill",
           "marker": {
            "color": "#FF6692",
            "symbol": "circle"
           },
           "mode": "markers",
           "name": "Shubman Gill",
           "orientation": "v",
           "showlegend": true,
           "type": "scatter",
           "x": [
            1136570
           ],
           "xaxis": "x",
           "y": [
            33.33333333333333
           ],
           "yaxis": "y"
          },
          {
           "hovertemplate": "batter=WP Saha<br>matchid=%{x}<br>strike_rate=%{y}<extra></extra>",
           "ids": [
            "WP Saha"
           ],
           "legendgroup": "WP Saha",
           "marker": {
            "color": "#ab63fa",
            "symbol": "circle"
           },
           "mode": "markers",
           "name": "WP Saha",
           "orientation": "v",
           "showlegend": true,
           "type": "scatter",
           "x": [
            1136570
           ],
           "xaxis": "x",
           "y": [
            133.33333333333331
           ],
           "yaxis": "y"
          },
          {
           "hovertemplate": "batter=YK Pathan<br>matchid=%{x}<br>strike_rate=%{y}<extra></extra>",
           "ids": [
            "YK Pathan"
           ],
           "legendgroup": "YK Pathan",
           "marker": {
            "color": "#19d3f3",
            "symbol": "circle"
           },
           "mode": "markers",
           "name": "YK Pathan",
           "orientation": "v",
           "showlegend": true,
           "type": "scatter",
           "x": [
            1136570
           ],
           "xaxis": "x",
           "y": [
            212.5
           ],
           "yaxis": "y"
          }
         ],
         "name": "1136570"
        },
        {
         "data": [
          {
           "hovertemplate": "batter=AD Russell<br>matchid=%{x}<br>strike_rate=%{y}<extra></extra>",
           "ids": [
            "AD Russell"
           ],
           "legendgroup": "AD Russell",
           "marker": {
            "color": "#19d3f3",
            "symbol": "circle"
           },
           "mode": "markers",
           "name": "AD Russell",
           "orientation": "v",
           "showlegend": true,
           "type": "scatter",
           "x": [
            1136573
           ],
           "xaxis": "x",
           "y": [
            341.66666666666663
           ],
           "yaxis": "y"
          },
          {
           "hovertemplate": "batter=CA Lynn<br>matchid=%{x}<br>strike_rate=%{y}<extra></extra>",
           "ids": [
            "CA Lynn"
           ],
           "legendgroup": "CA Lynn",
           "marker": {
            "color": "#FFA15A",
            "symbol": "circle"
           },
           "mode": "markers",
           "name": "CA Lynn",
           "orientation": "v",
           "showlegend": true,
           "type": "scatter",
           "x": [
            1136573
           ],
           "xaxis": "x",
           "y": [
            106.89655172413792
           ],
           "yaxis": "y"
          },
          {
           "hovertemplate": "batter=CH Morris<br>matchid=%{x}<br>strike_rate=%{y}<extra></extra>",
           "ids": [
            "CH Morris"
           ],
           "legendgroup": "CH Morris",
           "marker": {
            "color": "#FF6692",
            "symbol": "circle"
           },
           "mode": "markers",
           "name": "CH Morris",
           "orientation": "v",
           "showlegend": true,
           "type": "scatter",
           "x": [
            1136573
           ],
           "xaxis": "x",
           "y": [
            66.66666666666666
           ],
           "yaxis": "y"
          },
          {
           "hovertemplate": "batter=G Gambhir<br>matchid=%{x}<br>strike_rate=%{y}<extra></extra>",
           "ids": [
            "G Gambhir"
           ],
           "legendgroup": "G Gambhir",
           "marker": {
            "color": "#636efa",
            "symbol": "circle"
           },
           "mode": "markers",
           "name": "G Gambhir",
           "orientation": "v",
           "showlegend": true,
           "type": "scatter",
           "x": [
            1136573
           ],
           "xaxis": "x",
           "y": [
            114.28571428571428
           ],
           "yaxis": "y"
          },
          {
           "hovertemplate": "batter=GJ Maxwell<br>matchid=%{x}<br>strike_rate=%{y}<extra></extra>",
           "ids": [
            "GJ Maxwell"
           ],
           "legendgroup": "GJ Maxwell",
           "marker": {
            "color": "#EF553B",
            "symbol": "circle"
           },
           "mode": "markers",
           "name": "GJ Maxwell",
           "orientation": "v",
           "showlegend": true,
           "type": "scatter",
           "x": [
            1136573
           ],
           "xaxis": "x",
           "y": [
            213.63636363636363
           ],
           "yaxis": "y"
          },
          {
           "hovertemplate": "batter=JJ Roy<br>matchid=%{x}<br>strike_rate=%{y}<extra></extra>",
           "ids": [
            "JJ Roy"
           ],
           "legendgroup": "JJ Roy",
           "marker": {
            "color": "#ab63fa",
            "symbol": "circle"
           },
           "mode": "markers",
           "name": "JJ Roy",
           "orientation": "v",
           "showlegend": true,
           "type": "scatter",
           "x": [
            1136573
           ],
           "xaxis": "x",
           "y": [
            25
           ],
           "yaxis": "y"
          },
          {
           "hovertemplate": "batter=KD Karthik<br>matchid=%{x}<br>strike_rate=%{y}<extra></extra>",
           "ids": [
            "KD Karthik"
           ],
           "legendgroup": "KD Karthik",
           "marker": {
            "color": "#FF97FF",
            "symbol": "circle"
           },
           "mode": "markers",
           "name": "KD Karthik",
           "orientation": "v",
           "showlegend": true,
           "type": "scatter",
           "x": [
            1136573
           ],
           "xaxis": "x",
           "y": [
            172.72727272727272
           ],
           "yaxis": "y"
          },
          {
           "hovertemplate": "batter=Mohammed Shami<br>matchid=%{x}<br>strike_rate=%{y}<extra></extra>",
           "ids": [
            "Mohammed Shami"
           ],
           "legendgroup": "Mohammed Shami",
           "marker": {
            "color": "#FFA15A",
            "symbol": "circle"
           },
           "mode": "markers",
           "name": "Mohammed Shami",
           "orientation": "v",
           "showlegend": true,
           "type": "scatter",
           "x": [
            1136573
           ],
           "xaxis": "x",
           "y": [
            116.66666666666667
           ],
           "yaxis": "y"
          },
          {
           "hovertemplate": "batter=N Rana<br>matchid=%{x}<br>strike_rate=%{y}<extra></extra>",
           "ids": [
            "N Rana"
           ],
           "legendgroup": "N Rana",
           "marker": {
            "color": "#FF97FF",
            "symbol": "circle"
           },
           "mode": "markers",
           "name": "N Rana",
           "orientation": "v",
           "showlegend": true,
           "type": "scatter",
           "x": [
            1136573
           ],
           "xaxis": "x",
           "y": [
            163.88888888888889
           ],
           "yaxis": "y"
          },
          {
           "hovertemplate": "batter=PP Chawla<br>matchid=%{x}<br>strike_rate=%{y}<extra></extra>",
           "ids": [
            "PP Chawla"
           ],
           "legendgroup": "PP Chawla",
           "marker": {
            "color": "#FFA15A",
            "symbol": "circle"
           },
           "mode": "markers",
           "name": "PP Chawla",
           "orientation": "v",
           "showlegend": true,
           "type": "scatter",
           "x": [
            1136573
           ],
           "xaxis": "x",
           "y": [
            0
           ],
           "yaxis": "y"
          },
          {
           "hovertemplate": "batter=R Tewatia<br>matchid=%{x}<br>strike_rate=%{y}<extra></extra>",
           "ids": [
            "R Tewatia"
           ],
           "legendgroup": "R Tewatia",
           "marker": {
            "color": "#FF97FF",
            "symbol": "circle"
           },
           "mode": "markers",
           "name": "R Tewatia",
           "orientation": "v",
           "showlegend": true,
           "type": "scatter",
           "x": [
            1136573
           ],
           "xaxis": "x",
           "y": [
            50
           ],
           "yaxis": "y"
          },
          {
           "hovertemplate": "batter=RR Pant<br>matchid=%{x}<br>strike_rate=%{y}<extra></extra>",
           "ids": [
            "RR Pant"
           ],
           "legendgroup": "RR Pant",
           "marker": {
            "color": "#19d3f3",
            "symbol": "circle"
           },
           "mode": "markers",
           "name": "RR Pant",
           "orientation": "v",
           "showlegend": true,
           "type": "scatter",
           "x": [
            1136573
           ],
           "xaxis": "x",
           "y": [
            143.33333333333334
           ],
           "yaxis": "y"
          },
          {
           "hovertemplate": "batter=RV Uthappa<br>matchid=%{x}<br>strike_rate=%{y}<extra></extra>",
           "ids": [
            "RV Uthappa"
           ],
           "legendgroup": "RV Uthappa",
           "marker": {
            "color": "#FF6692",
            "symbol": "circle"
           },
           "mode": "markers",
           "name": "RV Uthappa",
           "orientation": "v",
           "showlegend": true,
           "type": "scatter",
           "x": [
            1136573
           ],
           "xaxis": "x",
           "y": [
            184.21052631578948
           ],
           "yaxis": "y"
          },
          {
           "hovertemplate": "batter=S Nadeem<br>matchid=%{x}<br>strike_rate=%{y}<extra></extra>",
           "ids": [
            "S Nadeem"
           ],
           "legendgroup": "S Nadeem",
           "marker": {
            "color": "#EF553B",
            "symbol": "circle"
           },
           "mode": "markers",
           "name": "S Nadeem",
           "orientation": "v",
           "showlegend": true,
           "type": "scatter",
           "x": [
            1136573
           ],
           "xaxis": "x",
           "y": [
            75
           ],
           "yaxis": "y"
          },
          {
           "hovertemplate": "batter=SP Narine<br>matchid=%{x}<br>strike_rate=%{y}<extra></extra>",
           "ids": [
            "SP Narine"
           ],
           "legendgroup": "SP Narine",
           "marker": {
            "color": "#B6E880",
            "symbol": "circle"
           },
           "mode": "markers",
           "name": "SP Narine",
           "orientation": "v",
           "showlegend": true,
           "type": "scatter",
           "x": [
            1136573
           ],
           "xaxis": "x",
           "y": [
            25
           ],
           "yaxis": "y"
          },
          {
           "hovertemplate": "batter=SS Iyer<br>matchid=%{x}<br>strike_rate=%{y}<extra></extra>",
           "ids": [
            "SS Iyer"
           ],
           "legendgroup": "SS Iyer",
           "marker": {
            "color": "#FECB52",
            "symbol": "circle"
           },
           "mode": "markers",
           "name": "SS Iyer",
           "orientation": "v",
           "showlegend": true,
           "type": "scatter",
           "x": [
            1136573
           ],
           "xaxis": "x",
           "y": [
            133.33333333333331
           ],
           "yaxis": "y"
          },
          {
           "hovertemplate": "batter=Shubman Gill<br>matchid=%{x}<br>strike_rate=%{y}<extra></extra>",
           "ids": [
            "Shubman Gill"
           ],
           "legendgroup": "Shubman Gill",
           "marker": {
            "color": "#FF6692",
            "symbol": "circle"
           },
           "mode": "markers",
           "name": "Shubman Gill",
           "orientation": "v",
           "showlegend": true,
           "type": "scatter",
           "x": [
            1136573
           ],
           "xaxis": "x",
           "y": [
            120
           ],
           "yaxis": "y"
          },
          {
           "hovertemplate": "batter=TA Boult<br>matchid=%{x}<br>strike_rate=%{y}<extra></extra>",
           "ids": [
            "TA Boult"
           ],
           "legendgroup": "TA Boult",
           "marker": {
            "color": "#B6E880",
            "symbol": "circle"
           },
           "mode": "markers",
           "name": "TA Boult",
           "orientation": "v",
           "showlegend": true,
           "type": "scatter",
           "x": [
            1136573
           ],
           "xaxis": "x",
           "y": [
            0
           ],
           "yaxis": "y"
          },
          {
           "hovertemplate": "batter=TK Curran<br>matchid=%{x}<br>strike_rate=%{y}<extra></extra>",
           "ids": [
            "TK Curran"
           ],
           "legendgroup": "TK Curran",
           "marker": {
            "color": "#FECB52",
            "symbol": "circle"
           },
           "mode": "markers",
           "name": "TK Curran",
           "orientation": "v",
           "showlegend": true,
           "type": "scatter",
           "x": [
            1136573
           ],
           "xaxis": "x",
           "y": [
            66.66666666666666
           ],
           "yaxis": "y"
          },
          {
           "hovertemplate": "batter=V Shankar<br>matchid=%{x}<br>strike_rate=%{y}<extra></extra>",
           "ids": [
            "V Shankar"
           ],
           "legendgroup": "V Shankar",
           "marker": {
            "color": "#00cc96",
            "symbol": "circle"
           },
           "mode": "markers",
           "name": "V Shankar",
           "orientation": "v",
           "showlegend": true,
           "type": "scatter",
           "x": [
            1136573
           ],
           "xaxis": "x",
           "y": [
            50
           ],
           "yaxis": "y"
          }
         ],
         "name": "1136573"
        },
        {
         "data": [
          {
           "hovertemplate": "batter=AD Russell<br>matchid=%{x}<br>strike_rate=%{y}<extra></extra>",
           "ids": [
            "AD Russell"
           ],
           "legendgroup": "AD Russell",
           "marker": {
            "color": "#19d3f3",
            "symbol": "circle"
           },
           "mode": "markers",
           "name": "AD Russell",
           "orientation": "v",
           "showlegend": true,
           "type": "scatter",
           "x": [
            1136578
           ],
           "xaxis": "x",
           "y": [
            125
           ],
           "yaxis": "y"
          },
          {
           "hovertemplate": "batter=CA Lynn<br>matchid=%{x}<br>strike_rate=%{y}<extra></extra>",
           "ids": [
            "CA Lynn"
           ],
           "legendgroup": "CA Lynn",
           "marker": {
            "color": "#FFA15A",
            "symbol": "circle"
           },
           "mode": "markers",
           "name": "CA Lynn",
           "orientation": "v",
           "showlegend": true,
           "type": "scatter",
           "x": [
            1136578
           ],
           "xaxis": "x",
           "y": [
            180.4878048780488
           ],
           "yaxis": "y"
          },
          {
           "hovertemplate": "batter=CH Gayle<br>matchid=%{x}<br>strike_rate=%{y}<extra></extra>",
           "ids": [
            "CH Gayle"
           ],
           "legendgroup": "CH Gayle",
           "marker": {
            "color": "#19d3f3",
            "symbol": "circle"
           },
           "mode": "markers",
           "name": "CH Gayle",
           "orientation": "v",
           "showlegend": true,
           "type": "scatter",
           "x": [
            1136578
           ],
           "xaxis": "x",
           "y": [
            158.97435897435898
           ],
           "yaxis": "y"
          },
          {
           "hovertemplate": "batter=KD Karthik<br>matchid=%{x}<br>strike_rate=%{y}<extra></extra>",
           "ids": [
            "KD Karthik"
           ],
           "legendgroup": "KD Karthik",
           "marker": {
            "color": "#FF97FF",
            "symbol": "circle"
           },
           "mode": "markers",
           "name": "KD Karthik",
           "orientation": "v",
           "showlegend": true,
           "type": "scatter",
           "x": [
            1136578
           ],
           "xaxis": "x",
           "y": [
            143.33333333333334
           ],
           "yaxis": "y"
          },
          {
           "hovertemplate": "batter=KL Rahul<br>matchid=%{x}<br>strike_rate=%{y}<extra></extra>",
           "ids": [
            "KL Rahul"
           ],
           "legendgroup": "KL Rahul",
           "marker": {
            "color": "#EF553B",
            "symbol": "circle"
           },
           "mode": "markers",
           "name": "KL Rahul",
           "orientation": "v",
           "showlegend": true,
           "type": "scatter",
           "x": [
            1136578
           ],
           "xaxis": "x",
           "y": [
            214.28571428571428
           ],
           "yaxis": "y"
          },
          {
           "hovertemplate": "batter=MA Agarwal<br>matchid=%{x}<br>strike_rate=%{y}<extra></extra>",
           "ids": [
            "MA Agarwal"
           ],
           "legendgroup": "MA Agarwal",
           "marker": {
            "color": "#EF553B",
            "symbol": "circle"
           },
           "mode": "markers",
           "name": "MA Agarwal",
           "orientation": "v",
           "showlegend": true,
           "type": "scatter",
           "x": [
            1136578
           ],
           "xaxis": "x",
           "y": [
            100
           ],
           "yaxis": "y"
          },
          {
           "hovertemplate": "batter=N Rana<br>matchid=%{x}<br>strike_rate=%{y}<extra></extra>",
           "ids": [
            "N Rana"
           ],
           "legendgroup": "N Rana",
           "marker": {
            "color": "#FF97FF",
            "symbol": "circle"
           },
           "mode": "markers",
           "name": "N Rana",
           "orientation": "v",
           "showlegend": true,
           "type": "scatter",
           "x": [
            1136578
           ],
           "xaxis": "x",
           "y": [
            60
           ],
           "yaxis": "y"
          },
          {
           "hovertemplate": "batter=PP Chawla<br>matchid=%{x}<br>strike_rate=%{y}<extra></extra>",
           "ids": [
            "PP Chawla"
           ],
           "legendgroup": "PP Chawla",
           "marker": {
            "color": "#FFA15A",
            "symbol": "circle"
           },
           "mode": "markers",
           "name": "PP Chawla",
           "orientation": "v",
           "showlegend": true,
           "type": "scatter",
           "x": [
            1136578
           ],
           "xaxis": "x",
           "y": [
            66.66666666666666
           ],
           "yaxis": "y"
          },
          {
           "hovertemplate": "batter=RV Uthappa<br>matchid=%{x}<br>strike_rate=%{y}<extra></extra>",
           "ids": [
            "RV Uthappa"
           ],
           "legendgroup": "RV Uthappa",
           "marker": {
            "color": "#FF6692",
            "symbol": "circle"
           },
           "mode": "markers",
           "name": "RV Uthappa",
           "orientation": "v",
           "showlegend": true,
           "type": "scatter",
           "x": [
            1136578
           ],
           "xaxis": "x",
           "y": [
            141.66666666666669
           ],
           "yaxis": "y"
          },
          {
           "hovertemplate": "batter=SP Narine<br>matchid=%{x}<br>strike_rate=%{y}<extra></extra>",
           "ids": [
            "SP Narine"
           ],
           "legendgroup": "SP Narine",
           "marker": {
            "color": "#B6E880",
            "symbol": "circle"
           },
           "mode": "markers",
           "name": "SP Narine",
           "orientation": "v",
           "showlegend": true,
           "type": "scatter",
           "x": [
            1136578
           ],
           "xaxis": "x",
           "y": [
            25
           ],
           "yaxis": "y"
          },
          {
           "hovertemplate": "batter=Shubman Gill<br>matchid=%{x}<br>strike_rate=%{y}<extra></extra>",
           "ids": [
            "Shubman Gill"
           ],
           "legendgroup": "Shubman Gill",
           "marker": {
            "color": "#FF6692",
            "symbol": "circle"
           },
           "mode": "markers",
           "name": "Shubman Gill",
           "orientation": "v",
           "showlegend": true,
           "type": "scatter",
           "x": [
            1136578
           ],
           "xaxis": "x",
           "y": [
            140
           ],
           "yaxis": "y"
          },
          {
           "hovertemplate": "batter=TK Curran<br>matchid=%{x}<br>strike_rate=%{y}<extra></extra>",
           "ids": [
            "TK Curran"
           ],
           "legendgroup": "TK Curran",
           "marker": {
            "color": "#FECB52",
            "symbol": "circle"
           },
           "mode": "markers",
           "name": "TK Curran",
           "orientation": "v",
           "showlegend": true,
           "type": "scatter",
           "x": [
            1136578
           ],
           "xaxis": "x",
           "y": [
            33.33333333333333
           ],
           "yaxis": "y"
          }
         ],
         "name": "1136578"
        },
        {
         "data": [
          {
           "hovertemplate": "batter=AD Russell<br>matchid=%{x}<br>strike_rate=%{y}<extra></extra>",
           "ids": [
            "AD Russell"
           ],
           "legendgroup": "AD Russell",
           "marker": {
            "color": "#19d3f3",
            "symbol": "circle"
           },
           "mode": "markers",
           "name": "AD Russell",
           "orientation": "v",
           "showlegend": true,
           "type": "scatter",
           "x": [
            1136586
           ],
           "xaxis": "x",
           "y": [
            137.5
           ],
           "yaxis": "y"
          },
          {
           "hovertemplate": "batter=C Munro<br>matchid=%{x}<br>strike_rate=%{y}<extra></extra>",
           "ids": [
            "C Munro"
           ],
           "legendgroup": "C Munro",
           "marker": {
            "color": "#00cc96",
            "symbol": "circle"
           },
           "mode": "markers",
           "name": "C Munro",
           "orientation": "v",
           "showlegend": true,
           "type": "scatter",
           "x": [
            1136586
           ],
           "xaxis": "x",
           "y": [
            183.33333333333331
           ],
           "yaxis": "y"
          },
          {
           "hovertemplate": "batter=CA Lynn<br>matchid=%{x}<br>strike_rate=%{y}<extra></extra>",
           "ids": [
            "CA Lynn"
           ],
           "legendgroup": "CA Lynn",
           "marker": {
            "color": "#FFA15A",
            "symbol": "circle"
           },
           "mode": "markers",
           "name": "CA Lynn",
           "orientation": "v",
           "showlegend": true,
           "type": "scatter",
           "x": [
            1136586
           ],
           "xaxis": "x",
           "y": [
            83.33333333333334
           ],
           "yaxis": "y"
          },
          {
           "hovertemplate": "batter=GJ Maxwell<br>matchid=%{x}<br>strike_rate=%{y}<extra></extra>",
           "ids": [
            "GJ Maxwell"
           ],
           "legendgroup": "GJ Maxwell",
           "marker": {
            "color": "#EF553B",
            "symbol": "circle"
           },
           "mode": "markers",
           "name": "GJ Maxwell",
           "orientation": "v",
           "showlegend": true,
           "type": "scatter",
           "x": [
            1136586
           ],
           "xaxis": "x",
           "y": [
            150
           ],
           "yaxis": "y"
          },
          {
           "hovertemplate": "batter=KD Karthik<br>matchid=%{x}<br>strike_rate=%{y}<extra></extra>",
           "ids": [
            "KD Karthik"
           ],
           "legendgroup": "KD Karthik",
           "marker": {
            "color": "#FF97FF",
            "symbol": "circle"
           },
           "mode": "markers",
           "name": "KD Karthik",
           "orientation": "v",
           "showlegend": true,
           "type": "scatter",
           "x": [
            1136586
           ],
           "xaxis": "x",
           "y": [
            100
           ],
           "yaxis": "y"
          },
          {
           "hovertemplate": "batter=Kuldeep Yadav<br>matchid=%{x}<br>strike_rate=%{y}<extra></extra>",
           "ids": [
            "Kuldeep Yadav"
           ],
           "legendgroup": "Kuldeep Yadav",
           "marker": {
            "color": "#FFA15A",
            "symbol": "circle"
           },
           "mode": "markers",
           "name": "Kuldeep Yadav",
           "orientation": "v",
           "showlegend": true,
           "type": "scatter",
           "x": [
            1136586
           ],
           "xaxis": "x",
           "y": [
            100
           ],
           "yaxis": "y"
          },
          {
           "hovertemplate": "batter=MG Johnson<br>matchid=%{x}<br>strike_rate=%{y}<extra></extra>",
           "ids": [
            "MG Johnson"
           ],
           "legendgroup": "MG Johnson",
           "marker": {
            "color": "#ab63fa",
            "symbol": "circle"
           },
           "mode": "markers",
           "name": "MG Johnson",
           "orientation": "v",
           "showlegend": true,
           "type": "scatter",
           "x": [
            1136586
           ],
           "xaxis": "x",
           "y": [
            200
           ],
           "yaxis": "y"
          },
          {
           "hovertemplate": "batter=N Rana<br>matchid=%{x}<br>strike_rate=%{y}<extra></extra>",
           "ids": [
            "N Rana"
           ],
           "legendgroup": "N Rana",
           "marker": {
            "color": "#FF97FF",
            "symbol": "circle"
           },
           "mode": "markers",
           "name": "N Rana",
           "orientation": "v",
           "showlegend": true,
           "type": "scatter",
           "x": [
            1136586
           ],
           "xaxis": "x",
           "y": [
            114.28571428571428
           ],
           "yaxis": "y"
          },
          {
           "hovertemplate": "batter=PP Chawla<br>matchid=%{x}<br>strike_rate=%{y}<extra></extra>",
           "ids": [
            "PP Chawla"
           ],
           "legendgroup": "PP Chawla",
           "marker": {
            "color": "#FFA15A",
            "symbol": "circle"
           },
           "mode": "markers",
           "name": "PP Chawla",
           "orientation": "v",
           "showlegend": true,
           "type": "scatter",
           "x": [
            1136586
           ],
           "xaxis": "x",
           "y": [
            50
           ],
           "yaxis": "y"
          },
          {
           "hovertemplate": "batter=PP Shaw<br>matchid=%{x}<br>strike_rate=%{y}<extra></extra>",
           "ids": [
            "PP Shaw"
           ],
           "legendgroup": "PP Shaw",
           "marker": {
            "color": "#19d3f3",
            "symbol": "circle"
           },
           "mode": "markers",
           "name": "PP Shaw",
           "orientation": "v",
           "showlegend": true,
           "type": "scatter",
           "x": [
            1136586
           ],
           "xaxis": "x",
           "y": [
            140.9090909090909
           ],
           "yaxis": "y"
          },
          {
           "hovertemplate": "batter=RR Pant<br>matchid=%{x}<br>strike_rate=%{y}<extra></extra>",
           "ids": [
            "RR Pant"
           ],
           "legendgroup": "RR Pant",
           "marker": {
            "color": "#19d3f3",
            "symbol": "circle"
           },
           "mode": "markers",
           "name": "RR Pant",
           "orientation": "v",
           "showlegend": true,
           "type": "scatter",
           "x": [
            1136586
           ],
           "xaxis": "x",
           "y": [
            0
           ],
           "yaxis": "y"
          },
          {
           "hovertemplate": "batter=RV Uthappa<br>matchid=%{x}<br>strike_rate=%{y}<extra></extra>",
           "ids": [
            "RV Uthappa"
           ],
           "legendgroup": "RV Uthappa",
           "marker": {
            "color": "#FF6692",
            "symbol": "circle"
           },
           "mode": "markers",
           "name": "RV Uthappa",
           "orientation": "v",
           "showlegend": true,
           "type": "scatter",
           "x": [
            1136586
           ],
           "xaxis": "x",
           "y": [
            50
           ],
           "yaxis": "y"
          },
          {
           "hovertemplate": "batter=SP Narine<br>matchid=%{x}<br>strike_rate=%{y}<extra></extra>",
           "ids": [
            "SP Narine"
           ],
           "legendgroup": "SP Narine",
           "marker": {
            "color": "#B6E880",
            "symbol": "circle"
           },
           "mode": "markers",
           "name": "SP Narine",
           "orientation": "v",
           "showlegend": true,
           "type": "scatter",
           "x": [
            1136586
           ],
           "xaxis": "x",
           "y": [
            288.88888888888886
           ],
           "yaxis": "y"
          },
          {
           "hovertemplate": "batter=SS Iyer<br>matchid=%{x}<br>strike_rate=%{y}<extra></extra>",
           "ids": [
            "SS Iyer"
           ],
           "legendgroup": "SS Iyer",
           "marker": {
            "color": "#FECB52",
            "symbol": "circle"
           },
           "mode": "markers",
           "name": "SS Iyer",
           "orientation": "v",
           "showlegend": true,
           "type": "scatter",
           "x": [
            1136586
           ],
           "xaxis": "x",
           "y": [
            221.42857142857144
           ],
           "yaxis": "y"
          },
          {
           "hovertemplate": "batter=Shivam Mavi<br>matchid=%{x}<br>strike_rate=%{y}<extra></extra>",
           "ids": [
            "Shivam Mavi"
           ],
           "legendgroup": "Shivam Mavi",
           "marker": {
            "color": "#19d3f3",
            "symbol": "circle"
           },
           "mode": "markers",
           "name": "Shivam Mavi",
           "orientation": "v",
           "showlegend": true,
           "type": "scatter",
           "x": [
            1136586
           ],
           "xaxis": "x",
           "y": [
            0
           ],
           "yaxis": "y"
          },
          {
           "hovertemplate": "batter=Shubman Gill<br>matchid=%{x}<br>strike_rate=%{y}<extra></extra>",
           "ids": [
            "Shubman Gill"
           ],
           "legendgroup": "Shubman Gill",
           "marker": {
            "color": "#FF6692",
            "symbol": "circle"
           },
           "mode": "markers",
           "name": "Shubman Gill",
           "orientation": "v",
           "showlegend": true,
           "type": "scatter",
           "x": [
            1136586
           ],
           "xaxis": "x",
           "y": [
            127.58620689655173
           ],
           "yaxis": "y"
          }
         ],
         "name": "1136586"
        },
        {
         "data": [
          {
           "hovertemplate": "batter=AD Russell<br>matchid=%{x}<br>strike_rate=%{y}<extra></extra>",
           "ids": [
            "AD Russell"
           ],
           "legendgroup": "AD Russell",
           "marker": {
            "color": "#19d3f3",
            "symbol": "circle"
           },
           "mode": "markers",
           "name": "AD Russell",
           "orientation": "v",
           "showlegend": true,
           "type": "scatter",
           "x": [
            1136589
           ],
           "xaxis": "x",
           "y": [
            0
           ],
           "yaxis": "y"
          },
          {
           "hovertemplate": "batter=BB McCullum<br>matchid=%{x}<br>strike_rate=%{y}<extra></extra>",
           "ids": [
            "BB McCullum"
           ],
           "legendgroup": "BB McCullum",
           "marker": {
            "color": "#FF97FF",
            "symbol": "circle"
           },
           "mode": "markers",
           "name": "BB McCullum",
           "orientation": "v",
           "showlegend": true,
           "type": "scatter",
           "x": [
            1136589
           ],
           "xaxis": "x",
           "y": [
            131.0344827586207
           ],
           "yaxis": "y"
          },
          {
           "hovertemplate": "batter=C de Grandhomme<br>matchid=%{x}<br>strike_rate=%{y}<extra></extra>",
           "ids": [
            "C de Grandhomme"
           ],
           "legendgroup": "C de Grandhomme",
           "marker": {
            "color": "#ab63fa",
            "symbol": "circle"
           },
           "mode": "markers",
           "name": "C de Grandhomme",
           "orientation": "v",
           "showlegend": true,
           "type": "scatter",
           "x": [
            1136589
           ],
           "xaxis": "x",
           "y": [
            157.14285714285714
           ],
           "yaxis": "y"
          },
          {
           "hovertemplate": "batter=CA Lynn<br>matchid=%{x}<br>strike_rate=%{y}<extra></extra>",
           "ids": [
            "CA Lynn"
           ],
           "legendgroup": "CA Lynn",
           "marker": {
            "color": "#FFA15A",
            "symbol": "circle"
           },
           "mode": "markers",
           "name": "CA Lynn",
           "orientation": "v",
           "showlegend": true,
           "type": "scatter",
           "x": [
            1136589
           ],
           "xaxis": "x",
           "y": [
            112.72727272727272
           ],
           "yaxis": "y"
          },
          {
           "hovertemplate": "batter=KD Karthik<br>matchid=%{x}<br>strike_rate=%{y}<extra></extra>",
           "ids": [
            "KD Karthik"
           ],
           "legendgroup": "KD Karthik",
           "marker": {
            "color": "#FF97FF",
            "symbol": "circle"
           },
           "mode": "markers",
           "name": "KD Karthik",
           "orientation": "v",
           "showlegend": true,
           "type": "scatter",
           "x": [
            1136589
           ],
           "xaxis": "x",
           "y": [
            229.99999999999997
           ],
           "yaxis": "y"
          },
          {
           "hovertemplate": "batter=M Vohra<br>matchid=%{x}<br>strike_rate=%{y}<extra></extra>",
           "ids": [
            "M Vohra"
           ],
           "legendgroup": "M Vohra",
           "marker": {
            "color": "#636efa",
            "symbol": "circle"
           },
           "mode": "markers",
           "name": "M Vohra",
           "orientation": "v",
           "showlegend": true,
           "type": "scatter",
           "x": [
            1136589
           ],
           "xaxis": "x",
           "y": [
            0
           ],
           "yaxis": "y"
          },
          {
           "hovertemplate": "batter=Mandeep Singh<br>matchid=%{x}<br>strike_rate=%{y}<extra></extra>",
           "ids": [
            "Mandeep Singh"
           ],
           "legendgroup": "Mandeep Singh",
           "marker": {
            "color": "#00cc96",
            "symbol": "circle"
           },
           "mode": "markers",
           "name": "Mandeep Singh",
           "orientation": "v",
           "showlegend": true,
           "type": "scatter",
           "x": [
            1136589
           ],
           "xaxis": "x",
           "y": [
            126.66666666666666
           ],
           "yaxis": "y"
          },
          {
           "hovertemplate": "batter=N Rana<br>matchid=%{x}<br>strike_rate=%{y}<extra></extra>",
           "ids": [
            "N Rana"
           ],
           "legendgroup": "N Rana",
           "marker": {
            "color": "#FF97FF",
            "symbol": "circle"
           },
           "mode": "markers",
           "name": "N Rana",
           "orientation": "v",
           "showlegend": true,
           "type": "scatter",
           "x": [
            1136589
           ],
           "xaxis": "x",
           "y": [
            150
           ],
           "yaxis": "y"
          },
          {
           "hovertemplate": "batter=Q de Kock<br>matchid=%{x}<br>strike_rate=%{y}<extra></extra>",
           "ids": [
            "Q de Kock"
           ],
           "legendgroup": "Q de Kock",
           "marker": {
            "color": "#FF6692",
            "symbol": "circle"
           },
           "mode": "markers",
           "name": "Q de Kock",
           "orientation": "v",
           "showlegend": true,
           "type": "scatter",
           "x": [
            1136589
           ],
           "xaxis": "x",
           "y": [
            107.40740740740742
           ],
           "yaxis": "y"
          },
          {
           "hovertemplate": "batter=RV Uthappa<br>matchid=%{x}<br>strike_rate=%{y}<extra></extra>",
           "ids": [
            "RV Uthappa"
           ],
           "legendgroup": "RV Uthappa",
           "marker": {
            "color": "#FF6692",
            "symbol": "circle"
           },
           "mode": "markers",
           "name": "RV Uthappa",
           "orientation": "v",
           "showlegend": true,
           "type": "scatter",
           "x": [
            1136589
           ],
           "xaxis": "x",
           "y": [
            163.63636363636365
           ],
           "yaxis": "y"
          },
          {
           "hovertemplate": "batter=SP Narine<br>matchid=%{x}<br>strike_rate=%{y}<extra></extra>",
           "ids": [
            "SP Narine"
           ],
           "legendgroup": "SP Narine",
           "marker": {
            "color": "#B6E880",
            "symbol": "circle"
           },
           "mode": "markers",
           "name": "SP Narine",
           "orientation": "v",
           "showlegend": true,
           "type": "scatter",
           "x": [
            1136589
           ],
           "xaxis": "x",
           "y": [
            122.72727272727273
           ],
           "yaxis": "y"
          },
          {
           "hovertemplate": "batter=Shubman Gill<br>matchid=%{x}<br>strike_rate=%{y}<extra></extra>",
           "ids": [
            "Shubman Gill"
           ],
           "legendgroup": "Shubman Gill",
           "marker": {
            "color": "#FF6692",
            "symbol": "circle"
           },
           "mode": "markers",
           "name": "Shubman Gill",
           "orientation": "v",
           "showlegend": true,
           "type": "scatter",
           "x": [
            1136589
           ],
           "xaxis": "x",
           "y": [
            250
           ],
           "yaxis": "y"
          },
          {
           "hovertemplate": "batter=V Kohli<br>matchid=%{x}<br>strike_rate=%{y}<extra></extra>",
           "ids": [
            "V Kohli"
           ],
           "legendgroup": "V Kohli",
           "marker": {
            "color": "#EF553B",
            "symbol": "circle"
           },
           "mode": "markers",
           "name": "V Kohli",
           "orientation": "v",
           "showlegend": true,
           "type": "scatter",
           "x": [
            1136589
           ],
           "xaxis": "x",
           "y": [
            154.54545454545453
           ],
           "yaxis": "y"
          }
         ],
         "name": "1136589"
        },
        {
         "data": [
          {
           "hovertemplate": "batter=AD Russell<br>matchid=%{x}<br>strike_rate=%{y}<extra></extra>",
           "ids": [
            "AD Russell"
           ],
           "legendgroup": "AD Russell",
           "marker": {
            "color": "#19d3f3",
            "symbol": "circle"
           },
           "mode": "markers",
           "name": "AD Russell",
           "orientation": "v",
           "showlegend": true,
           "type": "scatter",
           "x": [
            1136597
           ],
           "xaxis": "x",
           "y": [
            90
           ],
           "yaxis": "y"
          },
          {
           "hovertemplate": "batter=CA Lynn<br>matchid=%{x}<br>strike_rate=%{y}<extra></extra>",
           "ids": [
            "CA Lynn"
           ],
           "legendgroup": "CA Lynn",
           "marker": {
            "color": "#FFA15A",
            "symbol": "circle"
           },
           "mode": "markers",
           "name": "CA Lynn",
           "orientation": "v",
           "showlegend": true,
           "type": "scatter",
           "x": [
            1136597
           ],
           "xaxis": "x",
           "y": [
            130.76923076923077
           ],
           "yaxis": "y"
          },
          {
           "hovertemplate": "batter=E Lewis<br>matchid=%{x}<br>strike_rate=%{y}<extra></extra>",
           "ids": [
            "E Lewis"
           ],
           "legendgroup": "E Lewis",
           "marker": {
            "color": "#FF97FF",
            "symbol": "circle"
           },
           "mode": "markers",
           "name": "E Lewis",
           "orientation": "v",
           "showlegend": true,
           "type": "scatter",
           "x": [
            1136597
           ],
           "xaxis": "x",
           "y": [
            148.27586206896552
           ],
           "yaxis": "y"
          },
          {
           "hovertemplate": "batter=HH Pandya<br>matchid=%{x}<br>strike_rate=%{y}<extra></extra>",
           "ids": [
            "HH Pandya"
           ],
           "legendgroup": "HH Pandya",
           "marker": {
            "color": "#ab63fa",
            "symbol": "circle"
           },
           "mode": "markers",
           "name": "HH Pandya",
           "orientation": "v",
           "showlegend": true,
           "type": "scatter",
           "x": [
            1136597
           ],
           "xaxis": "x",
           "y": [
            159.0909090909091
           ],
           "yaxis": "y"
          },
          {
           "hovertemplate": "batter=JP Duminy<br>matchid=%{x}<br>strike_rate=%{y}<extra></extra>",
           "ids": [
            "JP Duminy"
           ],
           "legendgroup": "JP Duminy",
           "marker": {
            "color": "#FFA15A",
            "symbol": "circle"
           },
           "mode": "markers",
           "name": "JP Duminy",
           "orientation": "v",
           "showlegend": true,
           "type": "scatter",
           "x": [
            1136597
           ],
           "xaxis": "x",
           "y": [
            108.33333333333333
           ],
           "yaxis": "y"
          },
          {
           "hovertemplate": "batter=KD Karthik<br>matchid=%{x}<br>strike_rate=%{y}<extra></extra>",
           "ids": [
            "KD Karthik"
           ],
           "legendgroup": "KD Karthik",
           "marker": {
            "color": "#FF97FF",
            "symbol": "circle"
           },
           "mode": "markers",
           "name": "KD Karthik",
           "orientation": "v",
           "showlegend": true,
           "type": "scatter",
           "x": [
            1136597
           ],
           "xaxis": "x",
           "y": [
            138.46153846153845
           ],
           "yaxis": "y"
          },
          {
           "hovertemplate": "batter=KH Pandya<br>matchid=%{x}<br>strike_rate=%{y}<extra></extra>",
           "ids": [
            "KH Pandya"
           ],
           "legendgroup": "KH Pandya",
           "marker": {
            "color": "#FECB52",
            "symbol": "circle"
           },
           "mode": "markers",
           "name": "KH Pandya",
           "orientation": "v",
           "showlegend": true,
           "type": "scatter",
           "x": [
            1136597
           ],
           "xaxis": "x",
           "y": [
            127.27272727272727
           ],
           "yaxis": "y"
          },
          {
           "hovertemplate": "batter=N Rana<br>matchid=%{x}<br>strike_rate=%{y}<extra></extra>",
           "ids": [
            "N Rana"
           ],
           "legendgroup": "N Rana",
           "marker": {
            "color": "#FF97FF",
            "symbol": "circle"
           },
           "mode": "markers",
           "name": "N Rana",
           "orientation": "v",
           "showlegend": true,
           "type": "scatter",
           "x": [
            1136597
           ],
           "xaxis": "x",
           "y": [
            114.81481481481481
           ],
           "yaxis": "y"
          },
          {
           "hovertemplate": "batter=RG Sharma<br>matchid=%{x}<br>strike_rate=%{y}<extra></extra>",
           "ids": [
            "RG Sharma"
           ],
           "legendgroup": "RG Sharma",
           "marker": {
            "color": "#00cc96",
            "symbol": "circle"
           },
           "mode": "markers",
           "name": "RG Sharma",
           "orientation": "v",
           "showlegend": true,
           "type": "scatter",
           "x": [
            1136597
           ],
           "xaxis": "x",
           "y": [
            100
           ],
           "yaxis": "y"
          },
          {
           "hovertemplate": "batter=RV Uthappa<br>matchid=%{x}<br>strike_rate=%{y}<extra></extra>",
           "ids": [
            "RV Uthappa"
           ],
           "legendgroup": "RV Uthappa",
           "marker": {
            "color": "#FF6692",
            "symbol": "circle"
           },
           "mode": "markers",
           "name": "RV Uthappa",
           "orientation": "v",
           "showlegend": true,
           "type": "scatter",
           "x": [
            1136597
           ],
           "xaxis": "x",
           "y": [
            150
           ],
           "yaxis": "y"
          },
          {
           "hovertemplate": "batter=SA Yadav<br>matchid=%{x}<br>strike_rate=%{y}<extra></extra>",
           "ids": [
            "SA Yadav"
           ],
           "legendgroup": "SA Yadav",
           "marker": {
            "color": "#00cc96",
            "symbol": "circle"
           },
           "mode": "markers",
           "name": "SA Yadav",
           "orientation": "v",
           "showlegend": true,
           "type": "scatter",
           "x": [
            1136597
           ],
           "xaxis": "x",
           "y": [
            147.5
           ],
           "yaxis": "y"
          },
          {
           "hovertemplate": "batter=SP Narine<br>matchid=%{x}<br>strike_rate=%{y}<extra></extra>",
           "ids": [
            "SP Narine"
           ],
           "legendgroup": "SP Narine",
           "marker": {
            "color": "#B6E880",
            "symbol": "circle"
           },
           "mode": "markers",
           "name": "SP Narine",
           "orientation": "v",
           "showlegend": true,
           "type": "scatter",
           "x": [
            1136597
           ],
           "xaxis": "x",
           "y": [
            125
           ],
           "yaxis": "y"
          },
          {
           "hovertemplate": "batter=Shubman Gill<br>matchid=%{x}<br>strike_rate=%{y}<extra></extra>",
           "ids": [
            "Shubman Gill"
           ],
           "legendgroup": "Shubman Gill",
           "marker": {
            "color": "#FF6692",
            "symbol": "circle"
           },
           "mode": "markers",
           "name": "Shubman Gill",
           "orientation": "v",
           "showlegend": true,
           "type": "scatter",
           "x": [
            1136597
           ],
           "xaxis": "x",
           "y": [
            140
           ],
           "yaxis": "y"
          }
         ],
         "name": "1136597"
        },
        {
         "data": [
          {
           "hovertemplate": "batter=AD Russell<br>matchid=%{x}<br>strike_rate=%{y}<extra></extra>",
           "ids": [
            "AD Russell"
           ],
           "legendgroup": "AD Russell",
           "marker": {
            "color": "#19d3f3",
            "symbol": "circle"
           },
           "mode": "markers",
           "name": "AD Russell",
           "orientation": "v",
           "showlegend": true,
           "type": "scatter",
           "x": [
            1136601
           ],
           "xaxis": "x",
           "y": [
            50
           ],
           "yaxis": "y"
          },
          {
           "hovertemplate": "batter=BCJ Cutting<br>matchid=%{x}<br>strike_rate=%{y}<extra></extra>",
           "ids": [
            "BCJ Cutting"
           ],
           "legendgroup": "BCJ Cutting",
           "marker": {
            "color": "#636efa",
            "symbol": "circle"
           },
           "mode": "markers",
           "name": "BCJ Cutting",
           "orientation": "v",
           "showlegend": true,
           "type": "scatter",
           "x": [
            1136601
           ],
           "xaxis": "x",
           "y": [
            240
           ],
           "yaxis": "y"
          },
          {
           "hovertemplate": "batter=CA Lynn<br>matchid=%{x}<br>strike_rate=%{y}<extra></extra>",
           "ids": [
            "CA Lynn"
           ],
           "legendgroup": "CA Lynn",
           "marker": {
            "color": "#FFA15A",
            "symbol": "circle"
           },
           "mode": "markers",
           "name": "CA Lynn",
           "orientation": "v",
           "showlegend": true,
           "type": "scatter",
           "x": [
            1136601
           ],
           "xaxis": "x",
           "y": [
            140
           ],
           "yaxis": "y"
          },
          {
           "hovertemplate": "batter=E Lewis<br>matchid=%{x}<br>strike_rate=%{y}<extra></extra>",
           "ids": [
            "E Lewis"
           ],
           "legendgroup": "E Lewis",
           "marker": {
            "color": "#FF97FF",
            "symbol": "circle"
           },
           "mode": "markers",
           "name": "E Lewis",
           "orientation": "v",
           "showlegend": true,
           "type": "scatter",
           "x": [
            1136601
           ],
           "xaxis": "x",
           "y": [
            138.46153846153845
           ],
           "yaxis": "y"
          },
          {
           "hovertemplate": "batter=HH Pandya<br>matchid=%{x}<br>strike_rate=%{y}<extra></extra>",
           "ids": [
            "HH Pandya"
           ],
           "legendgroup": "HH Pandya",
           "marker": {
            "color": "#ab63fa",
            "symbol": "circle"
           },
           "mode": "markers",
           "name": "HH Pandya",
           "orientation": "v",
           "showlegend": true,
           "type": "scatter",
           "x": [
            1136601
           ],
           "xaxis": "x",
           "y": [
            135.71428571428572
           ],
           "yaxis": "y"
          },
          {
           "hovertemplate": "batter=Ishan Kishan<br>matchid=%{x}<br>strike_rate=%{y}<extra></extra>",
           "ids": [
            "Ishan Kishan"
           ],
           "legendgroup": "Ishan Kishan",
           "marker": {
            "color": "#FF97FF",
            "symbol": "circle"
           },
           "mode": "markers",
           "name": "Ishan Kishan",
           "orientation": "v",
           "showlegend": true,
           "type": "scatter",
           "x": [
            1136601
           ],
           "xaxis": "x",
           "y": [
            281.8181818181818
           ],
           "yaxis": "y"
          },
          {
           "hovertemplate": "batter=KD Karthik<br>matchid=%{x}<br>strike_rate=%{y}<extra></extra>",
           "ids": [
            "KD Karthik"
           ],
           "legendgroup": "KD Karthik",
           "marker": {
            "color": "#FF97FF",
            "symbol": "circle"
           },
           "mode": "markers",
           "name": "KD Karthik",
           "orientation": "v",
           "showlegend": true,
           "type": "scatter",
           "x": [
            1136601
           ],
           "xaxis": "x",
           "y": [
            166.66666666666669
           ],
           "yaxis": "y"
          },
          {
           "hovertemplate": "batter=KH Pandya<br>matchid=%{x}<br>strike_rate=%{y}<extra></extra>",
           "ids": [
            "KH Pandya"
           ],
           "legendgroup": "KH Pandya",
           "marker": {
            "color": "#FECB52",
            "symbol": "circle"
           },
           "mode": "markers",
           "name": "KH Pandya",
           "orientation": "v",
           "showlegend": true,
           "type": "scatter",
           "x": [
            1136601
           ],
           "xaxis": "x",
           "y": [
            400
           ],
           "yaxis": "y"
          },
          {
           "hovertemplate": "batter=Kuldeep Yadav<br>matchid=%{x}<br>strike_rate=%{y}<extra></extra>",
           "ids": [
            "Kuldeep Yadav"
           ],
           "legendgroup": "Kuldeep Yadav",
           "marker": {
            "color": "#FFA15A",
            "symbol": "circle"
           },
           "mode": "markers",
           "name": "Kuldeep Yadav",
           "orientation": "v",
           "showlegend": true,
           "type": "scatter",
           "x": [
            1136601
           ],
           "xaxis": "x",
           "y": [
            33.33333333333333
           ],
           "yaxis": "y"
          },
          {
           "hovertemplate": "batter=M Prasidh Krishna<br>matchid=%{x}<br>strike_rate=%{y}<extra></extra>",
           "ids": [
            "M Prasidh Krishna"
           ],
           "legendgroup": "M Prasidh Krishna",
           "marker": {
            "color": "#FF97FF",
            "symbol": "circle"
           },
           "mode": "markers",
           "name": "M Prasidh Krishna",
           "orientation": "v",
           "showlegend": true,
           "type": "scatter",
           "x": [
            1136601
           ],
           "xaxis": "x",
           "y": [
            20
           ],
           "yaxis": "y"
          },
          {
           "hovertemplate": "batter=N Rana<br>matchid=%{x}<br>strike_rate=%{y}<extra></extra>",
           "ids": [
            "N Rana"
           ],
           "legendgroup": "N Rana",
           "marker": {
            "color": "#FF97FF",
            "symbol": "circle"
           },
           "mode": "markers",
           "name": "N Rana",
           "orientation": "v",
           "showlegend": true,
           "type": "scatter",
           "x": [
            1136601
           ],
           "xaxis": "x",
           "y": [
            110.5263157894737
           ],
           "yaxis": "y"
          },
          {
           "hovertemplate": "batter=PP Chawla<br>matchid=%{x}<br>strike_rate=%{y}<extra></extra>",
           "ids": [
            "PP Chawla"
           ],
           "legendgroup": "PP Chawla",
           "marker": {
            "color": "#FFA15A",
            "symbol": "circle"
           },
           "mode": "markers",
           "name": "PP Chawla",
           "orientation": "v",
           "showlegend": true,
           "type": "scatter",
           "x": [
            1136601
           ],
           "xaxis": "x",
           "y": [
            84.61538461538461
           ],
           "yaxis": "y"
          },
          {
           "hovertemplate": "batter=RG Sharma<br>matchid=%{x}<br>strike_rate=%{y}<extra></extra>",
           "ids": [
            "RG Sharma"
           ],
           "legendgroup": "RG Sharma",
           "marker": {
            "color": "#00cc96",
            "symbol": "circle"
           },
           "mode": "markers",
           "name": "RG Sharma",
           "orientation": "v",
           "showlegend": true,
           "type": "scatter",
           "x": [
            1136601
           ],
           "xaxis": "x",
           "y": [
            112.5
           ],
           "yaxis": "y"
          },
          {
           "hovertemplate": "batter=RK Singh<br>matchid=%{x}<br>strike_rate=%{y}<extra></extra>",
           "ids": [
            "RK Singh"
           ],
           "legendgroup": "RK Singh",
           "marker": {
            "color": "#FFA15A",
            "symbol": "circle"
           },
           "mode": "markers",
           "name": "RK Singh",
           "orientation": "v",
           "showlegend": true,
           "type": "scatter",
           "x": [
            1136601
           ],
           "xaxis": "x",
           "y": [
            166.66666666666669
           ],
           "yaxis": "y"
          },
          {
           "hovertemplate": "batter=RV Uthappa<br>matchid=%{x}<br>strike_rate=%{y}<extra></extra>",
           "ids": [
            "RV Uthappa"
           ],
           "legendgroup": "RV Uthappa",
           "marker": {
            "color": "#FF6692",
            "symbol": "circle"
           },
           "mode": "markers",
           "name": "RV Uthappa",
           "orientation": "v",
           "showlegend": true,
           "type": "scatter",
           "x": [
            1136601
           ],
           "xaxis": "x",
           "y": [
            107.6923076923077
           ],
           "yaxis": "y"
          },
          {
           "hovertemplate": "batter=SA Yadav<br>matchid=%{x}<br>strike_rate=%{y}<extra></extra>",
           "ids": [
            "SA Yadav"
           ],
           "legendgroup": "SA Yadav",
           "marker": {
            "color": "#00cc96",
            "symbol": "circle"
           },
           "mode": "markers",
           "name": "SA Yadav",
           "orientation": "v",
           "showlegend": true,
           "type": "scatter",
           "x": [
            1136601
           ],
           "xaxis": "x",
           "y": [
            112.5
           ],
           "yaxis": "y"
          },
          {
           "hovertemplate": "batter=SP Narine<br>matchid=%{x}<br>strike_rate=%{y}<extra></extra>",
           "ids": [
            "SP Narine"
           ],
           "legendgroup": "SP Narine",
           "marker": {
            "color": "#B6E880",
            "symbol": "circle"
           },
           "mode": "markers",
           "name": "SP Narine",
           "orientation": "v",
           "showlegend": true,
           "type": "scatter",
           "x": [
            1136601
           ],
           "xaxis": "x",
           "y": [
            200
           ],
           "yaxis": "y"
          },
          {
           "hovertemplate": "batter=TK Curran<br>matchid=%{x}<br>strike_rate=%{y}<extra></extra>",
           "ids": [
            "TK Curran"
           ],
           "legendgroup": "TK Curran",
           "marker": {
            "color": "#FECB52",
            "symbol": "circle"
           },
           "mode": "markers",
           "name": "TK Curran",
           "orientation": "v",
           "showlegend": true,
           "type": "scatter",
           "x": [
            1136601
           ],
           "xaxis": "x",
           "y": [
            105.88235294117648
           ],
           "yaxis": "y"
          }
         ],
         "name": "1136601"
        },
        {
         "data": [
          {
           "hovertemplate": "batter=AD Russell<br>matchid=%{x}<br>strike_rate=%{y}<extra></extra>",
           "ids": [
            "AD Russell"
           ],
           "legendgroup": "AD Russell",
           "marker": {
            "color": "#19d3f3",
            "symbol": "circle"
           },
           "mode": "markers",
           "name": "AD Russell",
           "orientation": "v",
           "showlegend": true,
           "type": "scatter",
           "x": [
            1136604
           ],
           "xaxis": "x",
           "y": [
            206.66666666666669
           ],
           "yaxis": "y"
          },
          {
           "hovertemplate": "batter=AJ Finch<br>matchid=%{x}<br>strike_rate=%{y}<extra></extra>",
           "ids": [
            "AJ Finch"
           ],
           "legendgroup": "AJ Finch",
           "marker": {
            "color": "#FF6692",
            "symbol": "circle"
           },
           "mode": "markers",
           "name": "AJ Finch",
           "orientation": "v",
           "showlegend": true,
           "type": "scatter",
           "x": [
            1136604
           ],
           "xaxis": "x",
           "y": [
            170
           ],
           "yaxis": "y"
          },
          {
           "hovertemplate": "batter=AJ Tye<br>matchid=%{x}<br>strike_rate=%{y}<extra></extra>",
           "ids": [
            "AJ Tye"
           ],
           "legendgroup": "AJ Tye",
           "marker": {
            "color": "#B6E880",
            "symbol": "circle"
           },
           "mode": "markers",
           "name": "AJ Tye",
           "orientation": "v",
           "showlegend": true,
           "type": "scatter",
           "x": [
            1136604
           ],
           "xaxis": "x",
           "y": [
            127.27272727272727
           ],
           "yaxis": "y"
          },
          {
           "hovertemplate": "batter=AR Patel<br>matchid=%{x}<br>strike_rate=%{y}<extra></extra>",
           "ids": [
            "AR Patel"
           ],
           "legendgroup": "AR Patel",
           "marker": {
            "color": "#FECB52",
            "symbol": "circle"
           },
           "mode": "markers",
           "name": "AR Patel",
           "orientation": "v",
           "showlegend": true,
           "type": "scatter",
           "x": [
            1136604
           ],
           "xaxis": "x",
           "y": [
            158.33333333333331
           ],
           "yaxis": "y"
          },
          {
           "hovertemplate": "batter=BB Sran<br>matchid=%{x}<br>strike_rate=%{y}<extra></extra>",
           "ids": [
            "BB Sran"
           ],
           "legendgroup": "BB Sran",
           "marker": {
            "color": "#FECB52",
            "symbol": "circle"
           },
           "mode": "markers",
           "name": "BB Sran",
           "orientation": "v",
           "showlegend": true,
           "type": "scatter",
           "x": [
            1136604
           ],
           "xaxis": "x",
           "y": [
            100
           ],
           "yaxis": "y"
          },
          {
           "hovertemplate": "batter=CA Lynn<br>matchid=%{x}<br>strike_rate=%{y}<extra></extra>",
           "ids": [
            "CA Lynn"
           ],
           "legendgroup": "CA Lynn",
           "marker": {
            "color": "#FFA15A",
            "symbol": "circle"
           },
           "mode": "markers",
           "name": "CA Lynn",
           "orientation": "v",
           "showlegend": true,
           "type": "scatter",
           "x": [
            1136604
           ],
           "xaxis": "x",
           "y": [
            158.8235294117647
           ],
           "yaxis": "y"
          },
          {
           "hovertemplate": "batter=CH Gayle<br>matchid=%{x}<br>strike_rate=%{y}<extra></extra>",
           "ids": [
            "CH Gayle"
           ],
           "legendgroup": "CH Gayle",
           "marker": {
            "color": "#19d3f3",
            "symbol": "circle"
           },
           "mode": "markers",
           "name": "CH Gayle",
           "orientation": "v",
           "showlegend": true,
           "type": "scatter",
           "x": [
            1136604
           ],
           "xaxis": "x",
           "y": [
            123.52941176470588
           ],
           "yaxis": "y"
          },
          {
           "hovertemplate": "batter=JPR Scantlebury-Searles<br>matchid=%{x}<br>strike_rate=%{y}<extra></extra>",
           "ids": [
            "JPR Scantlebury-Searles"
           ],
           "legendgroup": "JPR Scantlebury-Searles",
           "marker": {
            "color": "#19d3f3",
            "symbol": "circle"
           },
           "mode": "markers",
           "name": "JPR Scantlebury-Searles",
           "orientation": "v",
           "showlegend": true,
           "type": "scatter",
           "x": [
            1136604
           ],
           "xaxis": "x",
           "y": [
            600
           ],
           "yaxis": "y"
          },
          {
           "hovertemplate": "batter=KD Karthik<br>matchid=%{x}<br>strike_rate=%{y}<extra></extra>",
           "ids": [
            "KD Karthik"
           ],
           "legendgroup": "KD Karthik",
           "marker": {
            "color": "#FF97FF",
            "symbol": "circle"
           },
           "mode": "markers",
           "name": "KD Karthik",
           "orientation": "v",
           "showlegend": true,
           "type": "scatter",
           "x": [
            1136604
           ],
           "xaxis": "x",
           "y": [
            208.33333333333334
           ],
           "yaxis": "y"
          },
          {
           "hovertemplate": "batter=KK Nair<br>matchid=%{x}<br>strike_rate=%{y}<extra></extra>",
           "ids": [
            "KK Nair"
           ],
           "legendgroup": "KK Nair",
           "marker": {
            "color": "#636efa",
            "symbol": "circle"
           },
           "mode": "markers",
           "name": "KK Nair",
           "orientation": "v",
           "showlegend": true,
           "type": "scatter",
           "x": [
            1136604
           ],
           "xaxis": "x",
           "y": [
            50
           ],
           "yaxis": "y"
          },
          {
           "hovertemplate": "batter=KL Rahul<br>matchid=%{x}<br>strike_rate=%{y}<extra></extra>",
           "ids": [
            "KL Rahul"
           ],
           "legendgroup": "KL Rahul",
           "marker": {
            "color": "#EF553B",
            "symbol": "circle"
           },
           "mode": "markers",
           "name": "KL Rahul",
           "orientation": "v",
           "showlegend": true,
           "type": "scatter",
           "x": [
            1136604
           ],
           "xaxis": "x",
           "y": [
            212.9032258064516
           ],
           "yaxis": "y"
          },
          {
           "hovertemplate": "batter=MA Agarwal<br>matchid=%{x}<br>strike_rate=%{y}<extra></extra>",
           "ids": [
            "MA Agarwal"
           ],
           "legendgroup": "MA Agarwal",
           "marker": {
            "color": "#EF553B",
            "symbol": "circle"
           },
           "mode": "markers",
           "name": "MA Agarwal",
           "orientation": "v",
           "showlegend": true,
           "type": "scatter",
           "x": [
            1136604
           ],
           "xaxis": "x",
           "y": [
            0
           ],
           "yaxis": "y"
          },
          {
           "hovertemplate": "batter=MM Sharma<br>matchid=%{x}<br>strike_rate=%{y}<extra></extra>",
           "ids": [
            "MM Sharma"
           ],
           "legendgroup": "MM Sharma",
           "marker": {
            "color": "#FECB52",
            "symbol": "circle"
           },
           "mode": "markers",
           "name": "MM Sharma",
           "orientation": "v",
           "showlegend": true,
           "type": "scatter",
           "x": [
            1136604
           ],
           "xaxis": "x",
           "y": [
            133.33333333333331
           ],
           "yaxis": "y"
          },
          {
           "hovertemplate": "batter=N Rana<br>matchid=%{x}<br>strike_rate=%{y}<extra></extra>",
           "ids": [
            "N Rana"
           ],
           "legendgroup": "N Rana",
           "marker": {
            "color": "#FF97FF",
            "symbol": "circle"
           },
           "mode": "markers",
           "name": "N Rana",
           "orientation": "v",
           "showlegend": true,
           "type": "scatter",
           "x": [
            1136604
           ],
           "xaxis": "x",
           "y": [
            220.00000000000003
           ],
           "yaxis": "y"
          },
          {
           "hovertemplate": "batter=R Ashwin<br>matchid=%{x}<br>strike_rate=%{y}<extra></extra>",
           "ids": [
            "R Ashwin"
           ],
           "legendgroup": "R Ashwin",
           "marker": {
            "color": "#B6E880",
            "symbol": "circle"
           },
           "mode": "markers",
           "name": "R Ashwin",
           "orientation": "v",
           "showlegend": true,
           "type": "scatter",
           "x": [
            1136604
           ],
           "xaxis": "x",
           "y": [
            187.5
           ],
           "yaxis": "y"
          },
          {
           "hovertemplate": "batter=RV Uthappa<br>matchid=%{x}<br>strike_rate=%{y}<extra></extra>",
           "ids": [
            "RV Uthappa"
           ],
           "legendgroup": "RV Uthappa",
           "marker": {
            "color": "#FF6692",
            "symbol": "circle"
           },
           "mode": "markers",
           "name": "RV Uthappa",
           "orientation": "v",
           "showlegend": true,
           "type": "scatter",
           "x": [
            1136604
           ],
           "xaxis": "x",
           "y": [
            133.33333333333331
           ],
           "yaxis": "y"
          },
          {
           "hovertemplate": "batter=SP Narine<br>matchid=%{x}<br>strike_rate=%{y}<extra></extra>",
           "ids": [
            "SP Narine"
           ],
           "legendgroup": "SP Narine",
           "marker": {
            "color": "#B6E880",
            "symbol": "circle"
           },
           "mode": "markers",
           "name": "SP Narine",
           "orientation": "v",
           "showlegend": true,
           "type": "scatter",
           "x": [
            1136604
           ],
           "xaxis": "x",
           "y": [
            202.7027027027027
           ],
           "yaxis": "y"
          },
          {
           "hovertemplate": "batter=Shubman Gill<br>matchid=%{x}<br>strike_rate=%{y}<extra></extra>",
           "ids": [
            "Shubman Gill"
           ],
           "legendgroup": "Shubman Gill",
           "marker": {
            "color": "#FF6692",
            "symbol": "circle"
           },
           "mode": "markers",
           "name": "Shubman Gill",
           "orientation": "v",
           "showlegend": true,
           "type": "scatter",
           "x": [
            1136604
           ],
           "xaxis": "x",
           "y": [
            200
           ],
           "yaxis": "y"
          }
         ],
         "name": "1136604"
        },
        {
         "data": [
          {
           "hovertemplate": "batter=AD Russell<br>matchid=%{x}<br>strike_rate=%{y}<extra></extra>",
           "ids": [
            "AD Russell"
           ],
           "legendgroup": "AD Russell",
           "marker": {
            "color": "#19d3f3",
            "symbol": "circle"
           },
           "mode": "markers",
           "name": "AD Russell",
           "orientation": "v",
           "showlegend": true,
           "type": "scatter",
           "x": [
            1136609
           ],
           "xaxis": "x",
           "y": [
            220.00000000000003
           ],
           "yaxis": "y"
          },
          {
           "hovertemplate": "batter=AM Rahane<br>matchid=%{x}<br>strike_rate=%{y}<extra></extra>",
           "ids": [
            "AM Rahane"
           ],
           "legendgroup": "AM Rahane",
           "marker": {
            "color": "#FF97FF",
            "symbol": "circle"
           },
           "mode": "markers",
           "name": "AM Rahane",
           "orientation": "v",
           "showlegend": true,
           "type": "scatter",
           "x": [
            1136609
           ],
           "xaxis": "x",
           "y": [
            91.66666666666666
           ],
           "yaxis": "y"
          },
          {
           "hovertemplate": "batter=Anureet Singh<br>matchid=%{x}<br>strike_rate=%{y}<extra></extra>",
           "ids": [
            "Anureet Singh"
           ],
           "legendgroup": "Anureet Singh",
           "marker": {
            "color": "#ab63fa",
            "symbol": "circle"
           },
           "mode": "markers",
           "name": "Anureet Singh",
           "orientation": "v",
           "showlegend": true,
           "type": "scatter",
           "x": [
            1136609
           ],
           "xaxis": "x",
           "y": [
            75
           ],
           "yaxis": "y"
          },
          {
           "hovertemplate": "batter=BA Stokes<br>matchid=%{x}<br>strike_rate=%{y}<extra></extra>",
           "ids": [
            "BA Stokes"
           ],
           "legendgroup": "BA Stokes",
           "marker": {
            "color": "#B6E880",
            "symbol": "circle"
           },
           "mode": "markers",
           "name": "BA Stokes",
           "orientation": "v",
           "showlegend": true,
           "type": "scatter",
           "x": [
            1136609
           ],
           "xaxis": "x",
           "y": [
            84.61538461538461
           ],
           "yaxis": "y"
          },
          {
           "hovertemplate": "batter=CA Lynn<br>matchid=%{x}<br>strike_rate=%{y}<extra></extra>",
           "ids": [
            "CA Lynn"
           ],
           "legendgroup": "CA Lynn",
           "marker": {
            "color": "#FFA15A",
            "symbol": "circle"
           },
           "mode": "markers",
           "name": "CA Lynn",
           "orientation": "v",
           "showlegend": true,
           "type": "scatter",
           "x": [
            1136609
           ],
           "xaxis": "x",
           "y": [
            107.14285714285714
           ],
           "yaxis": "y"
          },
          {
           "hovertemplate": "batter=IS Sodhi<br>matchid=%{x}<br>strike_rate=%{y}<extra></extra>",
           "ids": [
            "IS Sodhi"
           ],
           "legendgroup": "IS Sodhi",
           "marker": {
            "color": "#FF6692",
            "symbol": "circle"
           },
           "mode": "markers",
           "name": "IS Sodhi",
           "orientation": "v",
           "showlegend": true,
           "type": "scatter",
           "x": [
            1136609
           ],
           "xaxis": "x",
           "y": [
            16.666666666666664
           ],
           "yaxis": "y"
          },
          {
           "hovertemplate": "batter=JC Archer<br>matchid=%{x}<br>strike_rate=%{y}<extra></extra>",
           "ids": [
            "JC Archer"
           ],
           "legendgroup": "JC Archer",
           "marker": {
            "color": "#FECB52",
            "symbol": "circle"
           },
           "mode": "markers",
           "name": "JC Archer",
           "orientation": "v",
           "showlegend": true,
           "type": "scatter",
           "x": [
            1136609
           ],
           "xaxis": "x",
           "y": [
            120
           ],
           "yaxis": "y"
          },
          {
           "hovertemplate": "batter=JC Buttler<br>matchid=%{x}<br>strike_rate=%{y}<extra></extra>",
           "ids": [
            "JC Buttler"
           ],
           "legendgroup": "JC Buttler",
           "marker": {
            "color": "#636efa",
            "symbol": "circle"
           },
           "mode": "markers",
           "name": "JC Buttler",
           "orientation": "v",
           "showlegend": true,
           "type": "scatter",
           "x": [
            1136609
           ],
           "xaxis": "x",
           "y": [
            169.56521739130434
           ],
           "yaxis": "y"
          },
          {
           "hovertemplate": "batter=JD Unadkat<br>matchid=%{x}<br>strike_rate=%{y}<extra></extra>",
           "ids": [
            "JD Unadkat"
           ],
           "legendgroup": "JD Unadkat",
           "marker": {
            "color": "#EF553B",
            "symbol": "circle"
           },
           "mode": "markers",
           "name": "JD Unadkat",
           "orientation": "v",
           "showlegend": true,
           "type": "scatter",
           "x": [
            1136609
           ],
           "xaxis": "x",
           "y": [
            144.44444444444443
           ],
           "yaxis": "y"
          },
          {
           "hovertemplate": "batter=K Gowtham<br>matchid=%{x}<br>strike_rate=%{y}<extra></extra>",
           "ids": [
            "K Gowtham"
           ],
           "legendgroup": "K Gowtham",
           "marker": {
            "color": "#FF6692",
            "symbol": "circle"
           },
           "mode": "markers",
           "name": "K Gowtham",
           "orientation": "v",
           "showlegend": true,
           "type": "scatter",
           "x": [
            1136609
           ],
           "xaxis": "x",
           "y": [
            60
           ],
           "yaxis": "y"
          },
          {
           "hovertemplate": "batter=KD Karthik<br>matchid=%{x}<br>strike_rate=%{y}<extra></extra>",
           "ids": [
            "KD Karthik"
           ],
           "legendgroup": "KD Karthik",
           "marker": {
            "color": "#FF97FF",
            "symbol": "circle"
           },
           "mode": "markers",
           "name": "KD Karthik",
           "orientation": "v",
           "showlegend": true,
           "type": "scatter",
           "x": [
            1136609
           ],
           "xaxis": "x",
           "y": [
            132.25806451612902
           ],
           "yaxis": "y"
          },
          {
           "hovertemplate": "batter=N Rana<br>matchid=%{x}<br>strike_rate=%{y}<extra></extra>",
           "ids": [
            "N Rana"
           ],
           "legendgroup": "N Rana",
           "marker": {
            "color": "#FF97FF",
            "symbol": "circle"
           },
           "mode": "markers",
           "name": "N Rana",
           "orientation": "v",
           "showlegend": true,
           "type": "scatter",
           "x": [
            1136609
           ],
           "xaxis": "x",
           "y": [
            116.66666666666667
           ],
           "yaxis": "y"
          },
          {
           "hovertemplate": "batter=RA Tripathi<br>matchid=%{x}<br>strike_rate=%{y}<extra></extra>",
           "ids": [
            "RA Tripathi"
           ],
           "legendgroup": "RA Tripathi",
           "marker": {
            "color": "#EF553B",
            "symbol": "circle"
           },
           "mode": "markers",
           "name": "RA Tripathi",
           "orientation": "v",
           "showlegend": true,
           "type": "scatter",
           "x": [
            1136609
           ],
           "xaxis": "x",
           "y": [
            180
           ],
           "yaxis": "y"
          },
          {
           "hovertemplate": "batter=RV Uthappa<br>matchid=%{x}<br>strike_rate=%{y}<extra></extra>",
           "ids": [
            "RV Uthappa"
           ],
           "legendgroup": "RV Uthappa",
           "marker": {
            "color": "#FF6692",
            "symbol": "circle"
           },
           "mode": "markers",
           "name": "RV Uthappa",
           "orientation": "v",
           "showlegend": true,
           "type": "scatter",
           "x": [
            1136609
           ],
           "xaxis": "x",
           "y": [
            66.66666666666666
           ],
           "yaxis": "y"
          },
          {
           "hovertemplate": "batter=SP Narine<br>matchid=%{x}<br>strike_rate=%{y}<extra></extra>",
           "ids": [
            "SP Narine"
           ],
           "legendgroup": "SP Narine",
           "marker": {
            "color": "#B6E880",
            "symbol": "circle"
           },
           "mode": "markers",
           "name": "SP Narine",
           "orientation": "v",
           "showlegend": true,
           "type": "scatter",
           "x": [
            1136609
           ],
           "xaxis": "x",
           "y": [
            300
           ],
           "yaxis": "y"
          },
          {
           "hovertemplate": "batter=STR Binny<br>matchid=%{x}<br>strike_rate=%{y}<extra></extra>",
           "ids": [
            "STR Binny"
           ],
           "legendgroup": "STR Binny",
           "marker": {
            "color": "#636efa",
            "symbol": "circle"
           },
           "mode": "markers",
           "name": "STR Binny",
           "orientation": "v",
           "showlegend": true,
           "type": "scatter",
           "x": [
            1136609
           ],
           "xaxis": "x",
           "y": [
            25
           ],
           "yaxis": "y"
          },
          {
           "hovertemplate": "batter=SV Samson<br>matchid=%{x}<br>strike_rate=%{y}<extra></extra>",
           "ids": [
            "SV Samson"
           ],
           "legendgroup": "SV Samson",
           "marker": {
            "color": "#EF553B",
            "symbol": "circle"
           },
           "mode": "markers",
           "name": "SV Samson",
           "orientation": "v",
           "showlegend": true,
           "type": "scatter",
           "x": [
            1136609
           ],
           "xaxis": "x",
           "y": [
            120
           ],
           "yaxis": "y"
          }
         ],
         "name": "1136609"
        },
        {
         "data": [
          {
           "hovertemplate": "batter=AD Russell<br>matchid=%{x}<br>strike_rate=%{y}<extra></extra>",
           "ids": [
            "AD Russell"
           ],
           "legendgroup": "AD Russell",
           "marker": {
            "color": "#19d3f3",
            "symbol": "circle"
           },
           "mode": "markers",
           "name": "AD Russell",
           "orientation": "v",
           "showlegend": true,
           "type": "scatter",
           "x": [
            1136614
           ],
           "xaxis": "x",
           "y": [
            100
           ],
           "yaxis": "y"
          },
          {
           "hovertemplate": "batter=B Kumar<br>matchid=%{x}<br>strike_rate=%{y}<extra></extra>",
           "ids": [
            "B Kumar"
           ],
           "legendgroup": "B Kumar",
           "marker": {
            "color": "#FFA15A",
            "symbol": "circle"
           },
           "mode": "markers",
           "name": "B Kumar",
           "orientation": "v",
           "showlegend": true,
           "type": "scatter",
           "x": [
            1136614
           ],
           "xaxis": "x",
           "y": [
            0
           ],
           "yaxis": "y"
          },
          {
           "hovertemplate": "batter=CA Lynn<br>matchid=%{x}<br>strike_rate=%{y}<extra></extra>",
           "ids": [
            "CA Lynn"
           ],
           "legendgroup": "CA Lynn",
           "marker": {
            "color": "#FFA15A",
            "symbol": "circle"
           },
           "mode": "markers",
           "name": "CA Lynn",
           "orientation": "v",
           "showlegend": true,
           "type": "scatter",
           "x": [
            1136614
           ],
           "xaxis": "x",
           "y": [
            125
           ],
           "yaxis": "y"
          },
          {
           "hovertemplate": "batter=CR Brathwaite<br>matchid=%{x}<br>strike_rate=%{y}<extra></extra>",
           "ids": [
            "CR Brathwaite"
           ],
           "legendgroup": "CR Brathwaite",
           "marker": {
            "color": "#FF97FF",
            "symbol": "circle"
           },
           "mode": "markers",
           "name": "CR Brathwaite",
           "orientation": "v",
           "showlegend": true,
           "type": "scatter",
           "x": [
            1136614
           ],
           "xaxis": "x",
           "y": [
            75
           ],
           "yaxis": "y"
          },
          {
           "hovertemplate": "batter=KD Karthik<br>matchid=%{x}<br>strike_rate=%{y}<extra></extra>",
           "ids": [
            "KD Karthik"
           ],
           "legendgroup": "KD Karthik",
           "marker": {
            "color": "#FF97FF",
            "symbol": "circle"
           },
           "mode": "markers",
           "name": "KD Karthik",
           "orientation": "v",
           "showlegend": true,
           "type": "scatter",
           "x": [
            1136614
           ],
           "xaxis": "x",
           "y": [
            108.33333333333333
           ],
           "yaxis": "y"
          },
          {
           "hovertemplate": "batter=KS Williamson<br>matchid=%{x}<br>strike_rate=%{y}<extra></extra>",
           "ids": [
            "KS Williamson"
           ],
           "legendgroup": "KS Williamson",
           "marker": {
            "color": "#ab63fa",
            "symbol": "circle"
           },
           "mode": "markers",
           "name": "KS Williamson",
           "orientation": "v",
           "showlegend": true,
           "type": "scatter",
           "x": [
            1136614
           ],
           "xaxis": "x",
           "y": [
            211.76470588235296
           ],
           "yaxis": "y"
          },
          {
           "hovertemplate": "batter=MK Pandey<br>matchid=%{x}<br>strike_rate=%{y}<extra></extra>",
           "ids": [
            "MK Pandey"
           ],
           "legendgroup": "MK Pandey",
           "marker": {
            "color": "#FF6692",
            "symbol": "circle"
           },
           "mode": "markers",
           "name": "MK Pandey",
           "orientation": "v",
           "showlegend": true,
           "type": "scatter",
           "x": [
            1136614
           ],
           "xaxis": "x",
           "y": [
            108.69565217391303
           ],
           "yaxis": "y"
          },
          {
           "hovertemplate": "batter=N Rana<br>matchid=%{x}<br>strike_rate=%{y}<extra></extra>",
           "ids": [
            "N Rana"
           ],
           "legendgroup": "N Rana",
           "marker": {
            "color": "#FF97FF",
            "symbol": "circle"
           },
           "mode": "markers",
           "name": "N Rana",
           "orientation": "v",
           "showlegend": true,
           "type": "scatter",
           "x": [
            1136614
           ],
           "xaxis": "x",
           "y": [
            140
           ],
           "yaxis": "y"
          },
          {
           "hovertemplate": "batter=RV Uthappa<br>matchid=%{x}<br>strike_rate=%{y}<extra></extra>",
           "ids": [
            "RV Uthappa"
           ],
           "legendgroup": "RV Uthappa",
           "marker": {
            "color": "#FF6692",
            "symbol": "circle"
           },
           "mode": "markers",
           "name": "RV Uthappa",
           "orientation": "v",
           "showlegend": true,
           "type": "scatter",
           "x": [
            1136614
           ],
           "xaxis": "x",
           "y": [
            132.35294117647058
           ],
           "yaxis": "y"
          },
          {
           "hovertemplate": "batter=Rashid Khan<br>matchid=%{x}<br>strike_rate=%{y}<extra></extra>",
           "ids": [
            "Rashid Khan"
           ],
           "legendgroup": "Rashid Khan",
           "marker": {
            "color": "#B6E880",
            "symbol": "circle"
           },
           "mode": "markers",
           "name": "Rashid Khan",
           "orientation": "v",
           "showlegend": true,
           "type": "scatter",
           "x": [
            1136614
           ],
           "xaxis": "x",
           "y": [
            0
           ],
           "yaxis": "y"
          },
          {
           "hovertemplate": "batter=S Dhawan<br>matchid=%{x}<br>strike_rate=%{y}<extra></extra>",
           "ids": [
            "S Dhawan"
           ],
           "legendgroup": "S Dhawan",
           "marker": {
            "color": "#FF97FF",
            "symbol": "circle"
           },
           "mode": "markers",
           "name": "S Dhawan",
           "orientation": "v",
           "showlegend": true,
           "type": "scatter",
           "x": [
            1136614
           ],
           "xaxis": "x",
           "y": [
            125
           ],
           "yaxis": "y"
          },
          {
           "hovertemplate": "batter=SP Goswami<br>matchid=%{x}<br>strike_rate=%{y}<extra></extra>",
           "ids": [
            "SP Goswami"
           ],
           "legendgroup": "SP Goswami",
           "marker": {
            "color": "#FF6692",
            "symbol": "circle"
           },
           "mode": "markers",
           "name": "SP Goswami",
           "orientation": "v",
           "showlegend": true,
           "type": "scatter",
           "x": [
            1136614
           ],
           "xaxis": "x",
           "y": [
            125
           ],
           "yaxis": "y"
          },
          {
           "hovertemplate": "batter=SP Narine<br>matchid=%{x}<br>strike_rate=%{y}<extra></extra>",
           "ids": [
            "SP Narine"
           ],
           "legendgroup": "SP Narine",
           "marker": {
            "color": "#B6E880",
            "symbol": "circle"
           },
           "mode": "markers",
           "name": "SP Narine",
           "orientation": "v",
           "showlegend": true,
           "type": "scatter",
           "x": [
            1136614
           ],
           "xaxis": "x",
           "y": [
            241.66666666666666
           ],
           "yaxis": "y"
          },
          {
           "hovertemplate": "batter=Shakib Al Hasan<br>matchid=%{x}<br>strike_rate=%{y}<extra></extra>",
           "ids": [
            "Shakib Al Hasan"
           ],
           "legendgroup": "Shakib Al Hasan",
           "marker": {
            "color": "#FFA15A",
            "symbol": "circle"
           },
           "mode": "markers",
           "name": "Shakib Al Hasan",
           "orientation": "v",
           "showlegend": true,
           "type": "scatter",
           "x": [
            1136614
           ],
           "xaxis": "x",
           "y": [
            142.85714285714286
           ],
           "yaxis": "y"
          },
          {
           "hovertemplate": "batter=YK Pathan<br>matchid=%{x}<br>strike_rate=%{y}<extra></extra>",
           "ids": [
            "YK Pathan"
           ],
           "legendgroup": "YK Pathan",
           "marker": {
            "color": "#19d3f3",
            "symbol": "circle"
           },
           "mode": "markers",
           "name": "YK Pathan",
           "orientation": "v",
           "showlegend": true,
           "type": "scatter",
           "x": [
            1136614
           ],
           "xaxis": "x",
           "y": [
            40
           ],
           "yaxis": "y"
          }
         ],
         "name": "1136614"
        },
        {
         "data": [
          {
           "hovertemplate": "batter=AD Russell<br>matchid=%{x}<br>strike_rate=%{y}<extra></extra>",
           "ids": [
            "AD Russell"
           ],
           "legendgroup": "AD Russell",
           "marker": {
            "color": "#19d3f3",
            "symbol": "circle"
           },
           "mode": "markers",
           "name": "AD Russell",
           "orientation": "v",
           "showlegend": true,
           "type": "scatter",
           "x": [
            1136618
           ],
           "xaxis": "x",
           "y": [
            181.4814814814815
           ],
           "yaxis": "y"
          },
          {
           "hovertemplate": "batter=AM Rahane<br>matchid=%{x}<br>strike_rate=%{y}<extra></extra>",
           "ids": [
            "AM Rahane"
           ],
           "legendgroup": "AM Rahane",
           "marker": {
            "color": "#FF97FF",
            "symbol": "circle"
           },
           "mode": "markers",
           "name": "AM Rahane",
           "orientation": "v",
           "showlegend": true,
           "type": "scatter",
           "x": [
            1136618
           ],
           "xaxis": "x",
           "y": [
            109.52380952380953
           ],
           "yaxis": "y"
          },
          {
           "hovertemplate": "batter=CA Lynn<br>matchid=%{x}<br>strike_rate=%{y}<extra></extra>",
           "ids": [
            "CA Lynn"
           ],
           "legendgroup": "CA Lynn",
           "marker": {
            "color": "#FFA15A",
            "symbol": "circle"
           },
           "mode": "markers",
           "name": "CA Lynn",
           "orientation": "v",
           "showlegend": true,
           "type": "scatter",
           "x": [
            1136618
           ],
           "xaxis": "x",
           "y": [
            78.26086956521739
           ],
           "yaxis": "y"
          },
          {
           "hovertemplate": "batter=H Klaasen<br>matchid=%{x}<br>strike_rate=%{y}<extra></extra>",
           "ids": [
            "H Klaasen"
           ],
           "legendgroup": "H Klaasen",
           "marker": {
            "color": "#00cc96",
            "symbol": "circle"
           },
           "mode": "markers",
           "name": "H Klaasen",
           "orientation": "v",
           "showlegend": true,
           "type": "scatter",
           "x": [
            1136618
           ],
           "xaxis": "x",
           "y": [
            100
           ],
           "yaxis": "y"
          },
          {
           "hovertemplate": "batter=JPR Scantlebury-Searles<br>matchid=%{x}<br>strike_rate=%{y}<extra></extra>",
           "ids": [
            "JPR Scantlebury-Searles"
           ],
           "legendgroup": "JPR Scantlebury-Searles",
           "marker": {
            "color": "#19d3f3",
            "symbol": "circle"
           },
           "mode": "markers",
           "name": "JPR Scantlebury-Searles",
           "orientation": "v",
           "showlegend": true,
           "type": "scatter",
           "x": [
            1136618
           ],
           "xaxis": "x",
           "y": [
            40
           ],
           "yaxis": "y"
          },
          {
           "hovertemplate": "batter=K Gowtham<br>matchid=%{x}<br>strike_rate=%{y}<extra></extra>",
           "ids": [
            "K Gowtham"
           ],
           "legendgroup": "K Gowtham",
           "marker": {
            "color": "#FF6692",
            "symbol": "circle"
           },
           "mode": "markers",
           "name": "K Gowtham",
           "orientation": "v",
           "showlegend": true,
           "type": "scatter",
           "x": [
            1136618
           ],
           "xaxis": "x",
           "y": [
            128.57142857142858
           ],
           "yaxis": "y"
          },
          {
           "hovertemplate": "batter=KD Karthik<br>matchid=%{x}<br>strike_rate=%{y}<extra></extra>",
           "ids": [
            "KD Karthik"
           ],
           "legendgroup": "KD Karthik",
           "marker": {
            "color": "#FF97FF",
            "symbol": "circle"
           },
           "mode": "markers",
           "name": "KD Karthik",
           "orientation": "v",
           "showlegend": true,
           "type": "scatter",
           "x": [
            1136618
           ],
           "xaxis": "x",
           "y": [
            136.8421052631579
           ],
           "yaxis": "y"
          },
          {
           "hovertemplate": "batter=N Rana<br>matchid=%{x}<br>strike_rate=%{y}<extra></extra>",
           "ids": [
            "N Rana"
           ],
           "legendgroup": "N Rana",
           "marker": {
            "color": "#FF97FF",
            "symbol": "circle"
           },
           "mode": "markers",
           "name": "N Rana",
           "orientation": "v",
           "showlegend": true,
           "type": "scatter",
           "x": [
            1136618
           ],
           "xaxis": "x",
           "y": [
            60
           ],
           "yaxis": "y"
          },
          {
           "hovertemplate": "batter=RA Tripathi<br>matchid=%{x}<br>strike_rate=%{y}<extra></extra>",
           "ids": [
            "RA Tripathi"
           ],
           "legendgroup": "RA Tripathi",
           "marker": {
            "color": "#EF553B",
            "symbol": "circle"
           },
           "mode": "markers",
           "name": "RA Tripathi",
           "orientation": "v",
           "showlegend": true,
           "type": "scatter",
           "x": [
            1136618
           ],
           "xaxis": "x",
           "y": [
            153.84615384615387
           ],
           "yaxis": "y"
          },
          {
           "hovertemplate": "batter=RV Uthappa<br>matchid=%{x}<br>strike_rate=%{y}<extra></extra>",
           "ids": [
            "RV Uthappa"
           ],
           "legendgroup": "RV Uthappa",
           "marker": {
            "color": "#FF6692",
            "symbol": "circle"
           },
           "mode": "markers",
           "name": "RV Uthappa",
           "orientation": "v",
           "showlegend": true,
           "type": "scatter",
           "x": [
            1136618
           ],
           "xaxis": "x",
           "y": [
            33.33333333333333
           ],
           "yaxis": "y"
          },
          {
           "hovertemplate": "batter=SP Narine<br>matchid=%{x}<br>strike_rate=%{y}<extra></extra>",
           "ids": [
            "SP Narine"
           ],
           "legendgroup": "SP Narine",
           "marker": {
            "color": "#B6E880",
            "symbol": "circle"
           },
           "mode": "markers",
           "name": "SP Narine",
           "orientation": "v",
           "showlegend": true,
           "type": "scatter",
           "x": [
            1136618
           ],
           "xaxis": "x",
           "y": [
            200
           ],
           "yaxis": "y"
          },
          {
           "hovertemplate": "batter=STR Binny<br>matchid=%{x}<br>strike_rate=%{y}<extra></extra>",
           "ids": [
            "STR Binny"
           ],
           "legendgroup": "STR Binny",
           "marker": {
            "color": "#636efa",
            "symbol": "circle"
           },
           "mode": "markers",
           "name": "STR Binny",
           "orientation": "v",
           "showlegend": true,
           "type": "scatter",
           "x": [
            1136618
           ],
           "xaxis": "x",
           "y": [
            0
           ],
           "yaxis": "y"
          },
          {
           "hovertemplate": "batter=SV Samson<br>matchid=%{x}<br>strike_rate=%{y}<extra></extra>",
           "ids": [
            "SV Samson"
           ],
           "legendgroup": "SV Samson",
           "marker": {
            "color": "#EF553B",
            "symbol": "circle"
           },
           "mode": "markers",
           "name": "SV Samson",
           "orientation": "v",
           "showlegend": true,
           "type": "scatter",
           "x": [
            1136618
           ],
           "xaxis": "x",
           "y": [
            131.57894736842107
           ],
           "yaxis": "y"
          },
          {
           "hovertemplate": "batter=Shubman Gill<br>matchid=%{x}<br>strike_rate=%{y}<extra></extra>",
           "ids": [
            "Shubman Gill"
           ],
           "legendgroup": "Shubman Gill",
           "marker": {
            "color": "#FF6692",
            "symbol": "circle"
           },
           "mode": "markers",
           "name": "Shubman Gill",
           "orientation": "v",
           "showlegend": true,
           "type": "scatter",
           "x": [
            1136618
           ],
           "xaxis": "x",
           "y": [
            164.70588235294116
           ],
           "yaxis": "y"
          }
         ],
         "name": "1136618"
        },
        {
         "data": [
          {
           "hovertemplate": "batter=AD Russell<br>matchid=%{x}<br>strike_rate=%{y}<extra></extra>",
           "ids": [
            "AD Russell"
           ],
           "legendgroup": "AD Russell",
           "marker": {
            "color": "#19d3f3",
            "symbol": "circle"
           },
           "mode": "markers",
           "name": "AD Russell",
           "orientation": "v",
           "showlegend": true,
           "type": "scatter",
           "x": [
            1136619
           ],
           "xaxis": "x",
           "y": [
            42.857142857142854
           ],
           "yaxis": "y"
          },
          {
           "hovertemplate": "batter=B Kumar<br>matchid=%{x}<br>strike_rate=%{y}<extra></extra>",
           "ids": [
            "B Kumar"
           ],
           "legendgroup": "B Kumar",
           "marker": {
            "color": "#FFA15A",
            "symbol": "circle"
           },
           "mode": "markers",
           "name": "B Kumar",
           "orientation": "v",
           "showlegend": true,
           "type": "scatter",
           "x": [
            1136619
           ],
           "xaxis": "x",
           "y": [
            250
           ],
           "yaxis": "y"
          },
          {
           "hovertemplate": "batter=CA Lynn<br>matchid=%{x}<br>strike_rate=%{y}<extra></extra>",
           "ids": [
            "CA Lynn"
           ],
           "legendgroup": "CA Lynn",
           "marker": {
            "color": "#FFA15A",
            "symbol": "circle"
           },
           "mode": "markers",
           "name": "CA Lynn",
           "orientation": "v",
           "showlegend": true,
           "type": "scatter",
           "x": [
            1136619
           ],
           "xaxis": "x",
           "y": [
            154.83870967741936
           ],
           "yaxis": "y"
          },
          {
           "hovertemplate": "batter=CR Brathwaite<br>matchid=%{x}<br>strike_rate=%{y}<extra></extra>",
           "ids": [
            "CR Brathwaite"
           ],
           "legendgroup": "CR Brathwaite",
           "marker": {
            "color": "#FF97FF",
            "symbol": "circle"
           },
           "mode": "markers",
           "name": "CR Brathwaite",
           "orientation": "v",
           "showlegend": true,
           "type": "scatter",
           "x": [
            1136619
           ],
           "xaxis": "x",
           "y": [
            160
           ],
           "yaxis": "y"
          },
          {
           "hovertemplate": "batter=DJ Hooda<br>matchid=%{x}<br>strike_rate=%{y}<extra></extra>",
           "ids": [
            "DJ Hooda"
           ],
           "legendgroup": "DJ Hooda",
           "marker": {
            "color": "#00cc96",
            "symbol": "circle"
           },
           "mode": "markers",
           "name": "DJ Hooda",
           "orientation": "v",
           "showlegend": true,
           "type": "scatter",
           "x": [
            1136619
           ],
           "xaxis": "x",
           "y": [
            100
           ],
           "yaxis": "y"
          },
          {
           "hovertemplate": "batter=KD Karthik<br>matchid=%{x}<br>strike_rate=%{y}<extra></extra>",
           "ids": [
            "KD Karthik"
           ],
           "legendgroup": "KD Karthik",
           "marker": {
            "color": "#FF97FF",
            "symbol": "circle"
           },
           "mode": "markers",
           "name": "KD Karthik",
           "orientation": "v",
           "showlegend": true,
           "type": "scatter",
           "x": [
            1136619
           ],
           "xaxis": "x",
           "y": [
            133.33333333333331
           ],
           "yaxis": "y"
          },
          {
           "hovertemplate": "batter=KS Williamson<br>matchid=%{x}<br>strike_rate=%{y}<extra></extra>",
           "ids": [
            "KS Williamson"
           ],
           "legendgroup": "KS Williamson",
           "marker": {
            "color": "#ab63fa",
            "symbol": "circle"
           },
           "mode": "markers",
           "name": "KS Williamson",
           "orientation": "v",
           "showlegend": true,
           "type": "scatter",
           "x": [
            1136619
           ],
           "xaxis": "x",
           "y": [
            100
           ],
           "yaxis": "y"
          },
          {
           "hovertemplate": "batter=Kuldeep Yadav<br>matchid=%{x}<br>strike_rate=%{y}<extra></extra>",
           "ids": [
            "Kuldeep Yadav"
           ],
           "legendgroup": "Kuldeep Yadav",
           "marker": {
            "color": "#FFA15A",
            "symbol": "circle"
           },
           "mode": "markers",
           "name": "Kuldeep Yadav",
           "orientation": "v",
           "showlegend": true,
           "type": "scatter",
           "x": [
            1136619
           ],
           "xaxis": "x",
           "y": [
            0
           ],
           "yaxis": "y"
          },
          {
           "hovertemplate": "batter=N Rana<br>matchid=%{x}<br>strike_rate=%{y}<extra></extra>",
           "ids": [
            "N Rana"
           ],
           "legendgroup": "N Rana",
           "marker": {
            "color": "#FF97FF",
            "symbol": "circle"
           },
           "mode": "markers",
           "name": "N Rana",
           "orientation": "v",
           "showlegend": true,
           "type": "scatter",
           "x": [
            1136619
           ],
           "xaxis": "x",
           "y": [
            137.5
           ],
           "yaxis": "y"
          },
          {
           "hovertemplate": "batter=PP Chawla<br>matchid=%{x}<br>strike_rate=%{y}<extra></extra>",
           "ids": [
            "PP Chawla"
           ],
           "legendgroup": "PP Chawla",
           "marker": {
            "color": "#FFA15A",
            "symbol": "circle"
           },
           "mode": "markers",
           "name": "PP Chawla",
           "orientation": "v",
           "showlegend": true,
           "type": "scatter",
           "x": [
            1136619
           ],
           "xaxis": "x",
           "y": [
            92.3076923076923
           ],
           "yaxis": "y"
          },
          {
           "hovertemplate": "batter=RV Uthappa<br>matchid=%{x}<br>strike_rate=%{y}<extra></extra>",
           "ids": [
            "RV Uthappa"
           ],
           "legendgroup": "RV Uthappa",
           "marker": {
            "color": "#FF6692",
            "symbol": "circle"
           },
           "mode": "markers",
           "name": "RV Uthappa",
           "orientation": "v",
           "showlegend": true,
           "type": "scatter",
           "x": [
            1136619
           ],
           "xaxis": "x",
           "y": [
            25
           ],
           "yaxis": "y"
          },
          {
           "hovertemplate": "batter=Rashid Khan<br>matchid=%{x}<br>strike_rate=%{y}<extra></extra>",
           "ids": [
            "Rashid Khan"
           ],
           "legendgroup": "Rashid Khan",
           "marker": {
            "color": "#B6E880",
            "symbol": "circle"
           },
           "mode": "markers",
           "name": "Rashid Khan",
           "orientation": "v",
           "showlegend": true,
           "type": "scatter",
           "x": [
            1136619
           ],
           "xaxis": "x",
           "y": [
            309.09090909090907
           ],
           "yaxis": "y"
          },
          {
           "hovertemplate": "batter=S Dhawan<br>matchid=%{x}<br>strike_rate=%{y}<extra></extra>",
           "ids": [
            "S Dhawan"
           ],
           "legendgroup": "S Dhawan",
           "marker": {
            "color": "#FF97FF",
            "symbol": "circle"
           },
           "mode": "markers",
           "name": "S Dhawan",
           "orientation": "v",
           "showlegend": true,
           "type": "scatter",
           "x": [
            1136619
           ],
           "xaxis": "x",
           "y": [
            136
           ],
           "yaxis": "y"
          },
          {
           "hovertemplate": "batter=SP Narine<br>matchid=%{x}<br>strike_rate=%{y}<extra></extra>",
           "ids": [
            "SP Narine"
           ],
           "legendgroup": "SP Narine",
           "marker": {
            "color": "#B6E880",
            "symbol": "circle"
           },
           "mode": "markers",
           "name": "SP Narine",
           "orientation": "v",
           "showlegend": true,
           "type": "scatter",
           "x": [
            1136619
           ],
           "xaxis": "x",
           "y": [
            200
           ],
           "yaxis": "y"
          },
          {
           "hovertemplate": "batter=Shakib Al Hasan<br>matchid=%{x}<br>strike_rate=%{y}<extra></extra>",
           "ids": [
            "Shakib Al Hasan"
           ],
           "legendgroup": "Shakib Al Hasan",
           "marker": {
            "color": "#FFA15A",
            "symbol": "circle"
           },
           "mode": "markers",
           "name": "Shakib Al Hasan",
           "orientation": "v",
           "showlegend": true,
           "type": "scatter",
           "x": [
            1136619
           ],
           "xaxis": "x",
           "y": [
            116.66666666666667
           ],
           "yaxis": "y"
          },
          {
           "hovertemplate": "batter=Shivam Mavi<br>matchid=%{x}<br>strike_rate=%{y}<extra></extra>",
           "ids": [
            "Shivam Mavi"
           ],
           "legendgroup": "Shivam Mavi",
           "marker": {
            "color": "#19d3f3",
            "symbol": "circle"
           },
           "mode": "markers",
           "name": "Shivam Mavi",
           "orientation": "v",
           "showlegend": true,
           "type": "scatter",
           "x": [
            1136619
           ],
           "xaxis": "x",
           "y": [
            150
           ],
           "yaxis": "y"
          },
          {
           "hovertemplate": "batter=Shubman Gill<br>matchid=%{x}<br>strike_rate=%{y}<extra></extra>",
           "ids": [
            "Shubman Gill"
           ],
           "legendgroup": "Shubman Gill",
           "marker": {
            "color": "#FF6692",
            "symbol": "circle"
           },
           "mode": "markers",
           "name": "Shubman Gill",
           "orientation": "v",
           "showlegend": true,
           "type": "scatter",
           "x": [
            1136619
           ],
           "xaxis": "x",
           "y": [
            150
           ],
           "yaxis": "y"
          },
          {
           "hovertemplate": "batter=WP Saha<br>matchid=%{x}<br>strike_rate=%{y}<extra></extra>",
           "ids": [
            "WP Saha"
           ],
           "legendgroup": "WP Saha",
           "marker": {
            "color": "#ab63fa",
            "symbol": "circle"
           },
           "mode": "markers",
           "name": "WP Saha",
           "orientation": "v",
           "showlegend": true,
           "type": "scatter",
           "x": [
            1136619
           ],
           "xaxis": "x",
           "y": [
            125
           ],
           "yaxis": "y"
          },
          {
           "hovertemplate": "batter=YK Pathan<br>matchid=%{x}<br>strike_rate=%{y}<extra></extra>",
           "ids": [
            "YK Pathan"
           ],
           "legendgroup": "YK Pathan",
           "marker": {
            "color": "#19d3f3",
            "symbol": "circle"
           },
           "mode": "markers",
           "name": "YK Pathan",
           "orientation": "v",
           "showlegend": true,
           "type": "scatter",
           "x": [
            1136619
           ],
           "xaxis": "x",
           "y": [
            42.857142857142854
           ],
           "yaxis": "y"
          }
         ],
         "name": "1136619"
        },
        {
         "data": [
          {
           "hovertemplate": "batter=AJ Finch<br>matchid=%{x}<br>strike_rate=%{y}<extra></extra>",
           "ids": [
            "AJ Finch"
           ],
           "legendgroup": "AJ Finch",
           "marker": {
            "color": "#FF6692",
            "symbol": "circle"
           },
           "mode": "markers",
           "name": "AJ Finch",
           "orientation": "v",
           "showlegend": true,
           "type": "scatter",
           "x": [
            1136572
           ],
           "xaxis": "x",
           "y": [
            0
           ],
           "yaxis": "y"
          },
          {
           "hovertemplate": "batter=AJ Tye<br>matchid=%{x}<br>strike_rate=%{y}<extra></extra>",
           "ids": [
            "AJ Tye"
           ],
           "legendgroup": "AJ Tye",
           "marker": {
            "color": "#B6E880",
            "symbol": "circle"
           },
           "mode": "markers",
           "name": "AJ Tye",
           "orientation": "v",
           "showlegend": true,
           "type": "scatter",
           "x": [
            1136572
           ],
           "xaxis": "x",
           "y": [
            75
           ],
           "yaxis": "y"
          },
          {
           "hovertemplate": "batter=AT Rayudu<br>matchid=%{x}<br>strike_rate=%{y}<extra></extra>",
           "ids": [
            "AT Rayudu"
           ],
           "legendgroup": "AT Rayudu",
           "marker": {
            "color": "#EF553B",
            "symbol": "circle"
           },
           "mode": "markers",
           "name": "AT Rayudu",
           "orientation": "v",
           "showlegend": true,
           "type": "scatter",
           "x": [
            1136572
           ],
           "xaxis": "x",
           "y": [
            132.43243243243242
           ],
           "yaxis": "y"
          },
          {
           "hovertemplate": "batter=CH Gayle<br>matchid=%{x}<br>strike_rate=%{y}<extra></extra>",
           "ids": [
            "CH Gayle"
           ],
           "legendgroup": "CH Gayle",
           "marker": {
            "color": "#19d3f3",
            "symbol": "circle"
           },
           "mode": "markers",
           "name": "CH Gayle",
           "orientation": "v",
           "showlegend": true,
           "type": "scatter",
           "x": [
            1136572
           ],
           "xaxis": "x",
           "y": [
            185.29411764705884
           ],
           "yaxis": "y"
          },
          {
           "hovertemplate": "batter=DJ Bravo<br>matchid=%{x}<br>strike_rate=%{y}<extra></extra>",
           "ids": [
            "DJ Bravo"
           ],
           "legendgroup": "DJ Bravo",
           "marker": {
            "color": "#EF553B",
            "symbol": "circle"
           },
           "mode": "markers",
           "name": "DJ Bravo",
           "orientation": "v",
           "showlegend": true,
           "type": "scatter",
           "x": [
            1136572
           ],
           "xaxis": "x",
           "y": [
            100
           ],
           "yaxis": "y"
          },
          {
           "hovertemplate": "batter=KK Nair<br>matchid=%{x}<br>strike_rate=%{y}<extra></extra>",
           "ids": [
            "KK Nair"
           ],
           "legendgroup": "KK Nair",
           "marker": {
            "color": "#636efa",
            "symbol": "circle"
           },
           "mode": "markers",
           "name": "KK Nair",
           "orientation": "v",
           "showlegend": true,
           "type": "scatter",
           "x": [
            1136572
           ],
           "xaxis": "x",
           "y": [
            170.58823529411765
           ],
           "yaxis": "y"
          },
          {
           "hovertemplate": "batter=KL Rahul<br>matchid=%{x}<br>strike_rate=%{y}<extra></extra>",
           "ids": [
            "KL Rahul"
           ],
           "legendgroup": "KL Rahul",
           "marker": {
            "color": "#EF553B",
            "symbol": "circle"
           },
           "mode": "markers",
           "name": "KL Rahul",
           "orientation": "v",
           "showlegend": true,
           "type": "scatter",
           "x": [
            1136572
           ],
           "xaxis": "x",
           "y": [
            168.1818181818182
           ],
           "yaxis": "y"
          },
          {
           "hovertemplate": "batter=M Vijay<br>matchid=%{x}<br>strike_rate=%{y}<extra></extra>",
           "ids": [
            "M Vijay"
           ],
           "legendgroup": "M Vijay",
           "marker": {
            "color": "#FECB52",
            "symbol": "circle"
           },
           "mode": "markers",
           "name": "M Vijay",
           "orientation": "v",
           "showlegend": true,
           "type": "scatter",
           "x": [
            1136572
           ],
           "xaxis": "x",
           "y": [
            109.09090909090908
           ],
           "yaxis": "y"
          },
          {
           "hovertemplate": "batter=MA Agarwal<br>matchid=%{x}<br>strike_rate=%{y}<extra></extra>",
           "ids": [
            "MA Agarwal"
           ],
           "legendgroup": "MA Agarwal",
           "marker": {
            "color": "#EF553B",
            "symbol": "circle"
           },
           "mode": "markers",
           "name": "MA Agarwal",
           "orientation": "v",
           "showlegend": true,
           "type": "scatter",
           "x": [
            1136572
           ],
           "xaxis": "x",
           "y": [
            157.89473684210526
           ],
           "yaxis": "y"
          },
          {
           "hovertemplate": "batter=MS Dhoni<br>matchid=%{x}<br>strike_rate=%{y}<extra></extra>",
           "ids": [
            "MS Dhoni"
           ],
           "legendgroup": "MS Dhoni",
           "marker": {
            "color": "#EF553B",
            "symbol": "circle"
           },
           "mode": "markers",
           "name": "MS Dhoni",
           "orientation": "v",
           "showlegend": true,
           "type": "scatter",
           "x": [
            1136572
           ],
           "xaxis": "x",
           "y": [
            168.08510638297872
           ],
           "yaxis": "y"
          },
          {
           "hovertemplate": "batter=R Ashwin<br>matchid=%{x}<br>strike_rate=%{y}<extra></extra>",
           "ids": [
            "R Ashwin"
           ],
           "legendgroup": "R Ashwin",
           "marker": {
            "color": "#B6E880",
            "symbol": "circle"
           },
           "mode": "markers",
           "name": "R Ashwin",
           "orientation": "v",
           "showlegend": true,
           "type": "scatter",
           "x": [
            1136572
           ],
           "xaxis": "x",
           "y": [
            127.27272727272727
           ],
           "yaxis": "y"
          },
          {
           "hovertemplate": "batter=RA Jadeja<br>matchid=%{x}<br>strike_rate=%{y}<extra></extra>",
           "ids": [
            "RA Jadeja"
           ],
           "legendgroup": "RA Jadeja",
           "marker": {
            "color": "#636efa",
            "symbol": "circle"
           },
           "mode": "markers",
           "name": "RA Jadeja",
           "orientation": "v",
           "showlegend": true,
           "type": "scatter",
           "x": [
            1136572
           ],
           "xaxis": "x",
           "y": [
            126.66666666666666
           ],
           "yaxis": "y"
          },
          {
           "hovertemplate": "batter=SR Watson<br>matchid=%{x}<br>strike_rate=%{y}<extra></extra>",
           "ids": [
            "SR Watson"
           ],
           "legendgroup": "SR Watson",
           "marker": {
            "color": "#FF97FF",
            "symbol": "circle"
           },
           "mode": "markers",
           "name": "SR Watson",
           "orientation": "v",
           "showlegend": true,
           "type": "scatter",
           "x": [
            1136572
           ],
           "xaxis": "x",
           "y": [
            110.00000000000001
           ],
           "yaxis": "y"
          },
          {
           "hovertemplate": "batter=SW Billings<br>matchid=%{x}<br>strike_rate=%{y}<extra></extra>",
           "ids": [
            "SW Billings"
           ],
           "legendgroup": "SW Billings",
           "marker": {
            "color": "#00cc96",
            "symbol": "circle"
           },
           "mode": "markers",
           "name": "SW Billings",
           "orientation": "v",
           "showlegend": true,
           "type": "scatter",
           "x": [
            1136572
           ],
           "xaxis": "x",
           "y": [
            112.5
           ],
           "yaxis": "y"
          },
          {
           "hovertemplate": "batter=Yuvraj Singh<br>matchid=%{x}<br>strike_rate=%{y}<extra></extra>",
           "ids": [
            "Yuvraj Singh"
           ],
           "legendgroup": "Yuvraj Singh",
           "marker": {
            "color": "#B6E880",
            "symbol": "circle"
           },
           "mode": "markers",
           "name": "Yuvraj Singh",
           "orientation": "v",
           "showlegend": true,
           "type": "scatter",
           "x": [
            1136572
           ],
           "xaxis": "x",
           "y": [
            153.84615384615387
           ],
           "yaxis": "y"
          }
         ],
         "name": "1136572"
        },
        {
         "data": [
          {
           "hovertemplate": "batter=AJ Finch<br>matchid=%{x}<br>strike_rate=%{y}<extra></extra>",
           "ids": [
            "AJ Finch"
           ],
           "legendgroup": "AJ Finch",
           "marker": {
            "color": "#FF6692",
            "symbol": "circle"
           },
           "mode": "markers",
           "name": "AJ Finch",
           "orientation": "v",
           "showlegend": true,
           "type": "scatter",
           "x": [
            1136576
           ],
           "xaxis": "x",
           "y": [
            233.33333333333334
           ],
           "yaxis": "y"
          },
          {
           "hovertemplate": "batter=CH Gayle<br>matchid=%{x}<br>strike_rate=%{y}<extra></extra>",
           "ids": [
            "CH Gayle"
           ],
           "legendgroup": "CH Gayle",
           "marker": {
            "color": "#19d3f3",
            "symbol": "circle"
           },
           "mode": "markers",
           "name": "CH Gayle",
           "orientation": "v",
           "showlegend": true,
           "type": "scatter",
           "x": [
            1136576
           ],
           "xaxis": "x",
           "y": [
            160
           ],
           "yaxis": "y"
          },
          {
           "hovertemplate": "batter=DJ Hooda<br>matchid=%{x}<br>strike_rate=%{y}<extra></extra>",
           "ids": [
            "DJ Hooda"
           ],
           "legendgroup": "DJ Hooda",
           "marker": {
            "color": "#00cc96",
            "symbol": "circle"
           },
           "mode": "markers",
           "name": "DJ Hooda",
           "orientation": "v",
           "showlegend": true,
           "type": "scatter",
           "x": [
            1136576
           ],
           "xaxis": "x",
           "y": [
            100
           ],
           "yaxis": "y"
          },
          {
           "hovertemplate": "batter=KK Nair<br>matchid=%{x}<br>strike_rate=%{y}<extra></extra>",
           "ids": [
            "KK Nair"
           ],
           "legendgroup": "KK Nair",
           "marker": {
            "color": "#636efa",
            "symbol": "circle"
           },
           "mode": "markers",
           "name": "KK Nair",
           "orientation": "v",
           "showlegend": true,
           "type": "scatter",
           "x": [
            1136576
           ],
           "xaxis": "x",
           "y": [
            140.9090909090909
           ],
           "yaxis": "y"
          },
          {
           "hovertemplate": "batter=KL Rahul<br>matchid=%{x}<br>strike_rate=%{y}<extra></extra>",
           "ids": [
            "KL Rahul"
           ],
           "legendgroup": "KL Rahul",
           "marker": {
            "color": "#EF553B",
            "symbol": "circle"
           },
           "mode": "markers",
           "name": "KL Rahul",
           "orientation": "v",
           "showlegend": true,
           "type": "scatter",
           "x": [
            1136576
           ],
           "xaxis": "x",
           "y": [
            85.71428571428571
           ],
           "yaxis": "y"
          },
          {
           "hovertemplate": "batter=KS Williamson<br>matchid=%{x}<br>strike_rate=%{y}<extra></extra>",
           "ids": [
            "KS Williamson"
           ],
           "legendgroup": "KS Williamson",
           "marker": {
            "color": "#ab63fa",
            "symbol": "circle"
           },
           "mode": "markers",
           "name": "KS Williamson",
           "orientation": "v",
           "showlegend": true,
           "type": "scatter",
           "x": [
            1136576
           ],
           "xaxis": "x",
           "y": [
            131.70731707317074
           ],
           "yaxis": "y"
          },
          {
           "hovertemplate": "batter=MA Agarwal<br>matchid=%{x}<br>strike_rate=%{y}<extra></extra>",
           "ids": [
            "MA Agarwal"
           ],
           "legendgroup": "MA Agarwal",
           "marker": {
            "color": "#EF553B",
            "symbol": "circle"
           },
           "mode": "markers",
           "name": "MA Agarwal",
           "orientation": "v",
           "showlegend": true,
           "type": "scatter",
           "x": [
            1136576
           ],
           "xaxis": "x",
           "y": [
            200
           ],
           "yaxis": "y"
          },
          {
           "hovertemplate": "batter=MK Pandey<br>matchid=%{x}<br>strike_rate=%{y}<extra></extra>",
           "ids": [
            "MK Pandey"
           ],
           "legendgroup": "MK Pandey",
           "marker": {
            "color": "#FF6692",
            "symbol": "circle"
           },
           "mode": "markers",
           "name": "MK Pandey",
           "orientation": "v",
           "showlegend": true,
           "type": "scatter",
           "x": [
            1136576
           ],
           "xaxis": "x",
           "y": [
            121.27659574468086
           ],
           "yaxis": "y"
          },
          {
           "hovertemplate": "batter=S Dhawan<br>matchid=%{x}<br>strike_rate=%{y}<extra></extra>",
           "ids": [
            "S Dhawan"
           ],
           "legendgroup": "S Dhawan",
           "marker": {
            "color": "#FF97FF",
            "symbol": "circle"
           },
           "mode": "markers",
           "name": "S Dhawan",
           "orientation": "v",
           "showlegend": true,
           "type": "scatter",
           "x": [
            1136576
           ],
           "xaxis": "x",
           "y": [
            0
           ],
           "yaxis": "y"
          },
          {
           "hovertemplate": "batter=Shakib Al Hasan<br>matchid=%{x}<br>strike_rate=%{y}<extra></extra>",
           "ids": [
            "Shakib Al Hasan"
           ],
           "legendgroup": "Shakib Al Hasan",
           "marker": {
            "color": "#FFA15A",
            "symbol": "circle"
           },
           "mode": "markers",
           "name": "Shakib Al Hasan",
           "orientation": "v",
           "showlegend": true,
           "type": "scatter",
           "x": [
            1136576
           ],
           "xaxis": "x",
           "y": [
            160
           ],
           "yaxis": "y"
          },
          {
           "hovertemplate": "batter=WP Saha<br>matchid=%{x}<br>strike_rate=%{y}<extra></extra>",
           "ids": [
            "WP Saha"
           ],
           "legendgroup": "WP Saha",
           "marker": {
            "color": "#ab63fa",
            "symbol": "circle"
           },
           "mode": "markers",
           "name": "WP Saha",
           "orientation": "v",
           "showlegend": true,
           "type": "scatter",
           "x": [
            1136576
           ],
           "xaxis": "x",
           "y": [
            75
           ],
           "yaxis": "y"
          },
          {
           "hovertemplate": "batter=YK Pathan<br>matchid=%{x}<br>strike_rate=%{y}<extra></extra>",
           "ids": [
            "YK Pathan"
           ],
           "legendgroup": "YK Pathan",
           "marker": {
            "color": "#19d3f3",
            "symbol": "circle"
           },
           "mode": "markers",
           "name": "YK Pathan",
           "orientation": "v",
           "showlegend": true,
           "type": "scatter",
           "x": [
            1136576
           ],
           "xaxis": "x",
           "y": [
            146.15384615384613
           ],
           "yaxis": "y"
          }
         ],
         "name": "1136576"
        },
        {
         "data": [
          {
           "hovertemplate": "batter=AJ Finch<br>matchid=%{x}<br>strike_rate=%{y}<extra></extra>",
           "ids": [
            "AJ Finch"
           ],
           "legendgroup": "AJ Finch",
           "marker": {
            "color": "#FF6692",
            "symbol": "circle"
           },
           "mode": "markers",
           "name": "AJ Finch",
           "orientation": "v",
           "showlegend": true,
           "type": "scatter",
           "x": [
            1136585
           ],
           "xaxis": "x",
           "y": [
            200
           ],
           "yaxis": "y"
          },
          {
           "hovertemplate": "batter=AJ Tye<br>matchid=%{x}<br>strike_rate=%{y}<extra></extra>",
           "ids": [
            "AJ Tye"
           ],
           "legendgroup": "AJ Tye",
           "marker": {
            "color": "#B6E880",
            "symbol": "circle"
           },
           "mode": "markers",
           "name": "AJ Tye",
           "orientation": "v",
           "showlegend": true,
           "type": "scatter",
           "x": [
            1136585
           ],
           "xaxis": "x",
           "y": [
            200
           ],
           "yaxis": "y"
          },
          {
           "hovertemplate": "batter=AS Rajpoot<br>matchid=%{x}<br>strike_rate=%{y}<extra></extra>",
           "ids": [
            "AS Rajpoot"
           ],
           "legendgroup": "AS Rajpoot",
           "marker": {
            "color": "#636efa",
            "symbol": "circle"
           },
           "mode": "markers",
           "name": "AS Rajpoot",
           "orientation": "v",
           "showlegend": true,
           "type": "scatter",
           "x": [
            1136585
           ],
           "xaxis": "x",
           "y": [
            88.88888888888889
           ],
           "yaxis": "y"
          },
          {
           "hovertemplate": "batter=BB Sran<br>matchid=%{x}<br>strike_rate=%{y}<extra></extra>",
           "ids": [
            "BB Sran"
           ],
           "legendgroup": "BB Sran",
           "marker": {
            "color": "#FECB52",
            "symbol": "circle"
           },
           "mode": "markers",
           "name": "BB Sran",
           "orientation": "v",
           "showlegend": true,
           "type": "scatter",
           "x": [
            1136585
           ],
           "xaxis": "x",
           "y": [
            40
           ],
           "yaxis": "y"
          },
          {
           "hovertemplate": "batter=CH Gayle<br>matchid=%{x}<br>strike_rate=%{y}<extra></extra>",
           "ids": [
            "CH Gayle"
           ],
           "legendgroup": "CH Gayle",
           "marker": {
            "color": "#19d3f3",
            "symbol": "circle"
           },
           "mode": "markers",
           "name": "CH Gayle",
           "orientation": "v",
           "showlegend": true,
           "type": "scatter",
           "x": [
            1136585
           ],
           "xaxis": "x",
           "y": [
            104.54545454545455
           ],
           "yaxis": "y"
          },
          {
           "hovertemplate": "batter=KK Nair<br>matchid=%{x}<br>strike_rate=%{y}<extra></extra>",
           "ids": [
            "KK Nair"
           ],
           "legendgroup": "KK Nair",
           "marker": {
            "color": "#636efa",
            "symbol": "circle"
           },
           "mode": "markers",
           "name": "KK Nair",
           "orientation": "v",
           "showlegend": true,
           "type": "scatter",
           "x": [
            1136585
           ],
           "xaxis": "x",
           "y": [
            76.47058823529412
           ],
           "yaxis": "y"
          },
          {
           "hovertemplate": "batter=KL Rahul<br>matchid=%{x}<br>strike_rate=%{y}<extra></extra>",
           "ids": [
            "KL Rahul"
           ],
           "legendgroup": "KL Rahul",
           "marker": {
            "color": "#EF553B",
            "symbol": "circle"
           },
           "mode": "markers",
           "name": "KL Rahul",
           "orientation": "v",
           "showlegend": true,
           "type": "scatter",
           "x": [
            1136585
           ],
           "xaxis": "x",
           "y": [
            123.07692307692308
           ],
           "yaxis": "y"
          },
          {
           "hovertemplate": "batter=KS Williamson<br>matchid=%{x}<br>strike_rate=%{y}<extra></extra>",
           "ids": [
            "KS Williamson"
           ],
           "legendgroup": "KS Williamson",
           "marker": {
            "color": "#ab63fa",
            "symbol": "circle"
           },
           "mode": "markers",
           "name": "KS Williamson",
           "orientation": "v",
           "showlegend": true,
           "type": "scatter",
           "x": [
            1136585
           ],
           "xaxis": "x",
           "y": [
            0
           ],
           "yaxis": "y"
          },
          {
           "hovertemplate": "batter=MA Agarwal<br>matchid=%{x}<br>strike_rate=%{y}<extra></extra>",
           "ids": [
            "MA Agarwal"
           ],
           "legendgroup": "MA Agarwal",
           "marker": {
            "color": "#EF553B",
            "symbol": "circle"
           },
           "mode": "markers",
           "name": "MA Agarwal",
           "orientation": "v",
           "showlegend": true,
           "type": "scatter",
           "x": [
            1136585
           ],
           "xaxis": "x",
           "y": [
            80
           ],
           "yaxis": "y"
          },
          {
           "hovertemplate": "batter=MK Pandey<br>matchid=%{x}<br>strike_rate=%{y}<extra></extra>",
           "ids": [
            "MK Pandey"
           ],
           "legendgroup": "MK Pandey",
           "marker": {
            "color": "#FF6692",
            "symbol": "circle"
           },
           "mode": "markers",
           "name": "MK Pandey",
           "orientation": "v",
           "showlegend": true,
           "type": "scatter",
           "x": [
            1136585
           ],
           "xaxis": "x",
           "y": [
            103.84615384615385
           ],
           "yaxis": "y"
          },
          {
           "hovertemplate": "batter=MK Tiwary<br>matchid=%{x}<br>strike_rate=%{y}<extra></extra>",
           "ids": [
            "MK Tiwary"
           ],
           "legendgroup": "MK Tiwary",
           "marker": {
            "color": "#B6E880",
            "symbol": "circle"
           },
           "mode": "markers",
           "name": "MK Tiwary",
           "orientation": "v",
           "showlegend": true,
           "type": "scatter",
           "x": [
            1136585
           ],
           "xaxis": "x",
           "y": [
            20
           ],
           "yaxis": "y"
          },
          {
           "hovertemplate": "batter=Mohammad Nabi<br>matchid=%{x}<br>strike_rate=%{y}<extra></extra>",
           "ids": [
            "Mohammad Nabi"
           ],
           "legendgroup": "Mohammad Nabi",
           "marker": {
            "color": "#ab63fa",
            "symbol": "circle"
           },
           "mode": "markers",
           "name": "Mohammad Nabi",
           "orientation": "v",
           "showlegend": true,
           "type": "scatter",
           "x": [
            1136585
           ],
           "xaxis": "x",
           "y": [
            200
           ],
           "yaxis": "y"
          },
          {
           "hovertemplate": "batter=Mujeeb Ur Rahman<br>matchid=%{x}<br>strike_rate=%{y}<extra></extra>",
           "ids": [
            "Mujeeb Ur Rahman"
           ],
           "legendgroup": "Mujeeb Ur Rahman",
           "marker": {
            "color": "#FF6692",
            "symbol": "circle"
           },
           "mode": "markers",
           "name": "Mujeeb Ur Rahman",
           "orientation": "v",
           "showlegend": true,
           "type": "scatter",
           "x": [
            1136585
           ],
           "xaxis": "x",
           "y": [
            200
           ],
           "yaxis": "y"
          },
          {
           "hovertemplate": "batter=R Ashwin<br>matchid=%{x}<br>strike_rate=%{y}<extra></extra>",
           "ids": [
            "R Ashwin"
           ],
           "legendgroup": "R Ashwin",
           "marker": {
            "color": "#B6E880",
            "symbol": "circle"
           },
           "mode": "markers",
           "name": "R Ashwin",
           "orientation": "v",
           "showlegend": true,
           "type": "scatter",
           "x": [
            1136585
           ],
           "xaxis": "x",
           "y": [
            66.66666666666666
           ],
           "yaxis": "y"
          },
          {
           "hovertemplate": "batter=S Dhawan<br>matchid=%{x}<br>strike_rate=%{y}<extra></extra>",
           "ids": [
            "S Dhawan"
           ],
           "legendgroup": "S Dhawan",
           "marker": {
            "color": "#FF97FF",
            "symbol": "circle"
           },
           "mode": "markers",
           "name": "S Dhawan",
           "orientation": "v",
           "showlegend": true,
           "type": "scatter",
           "x": [
            1136585
           ],
           "xaxis": "x",
           "y": [
            137.5
           ],
           "yaxis": "y"
          },
          {
           "hovertemplate": "batter=Shakib Al Hasan<br>matchid=%{x}<br>strike_rate=%{y}<extra></extra>",
           "ids": [
            "Shakib Al Hasan"
           ],
           "legendgroup": "Shakib Al Hasan",
           "marker": {
            "color": "#FFA15A",
            "symbol": "circle"
           },
           "mode": "markers",
           "name": "Shakib Al Hasan",
           "orientation": "v",
           "showlegend": true,
           "type": "scatter",
           "x": [
            1136585
           ],
           "xaxis": "x",
           "y": [
            93.33333333333333
           ],
           "yaxis": "y"
          },
          {
           "hovertemplate": "batter=WP Saha<br>matchid=%{x}<br>strike_rate=%{y}<extra></extra>",
           "ids": [
            "WP Saha"
           ],
           "legendgroup": "WP Saha",
           "marker": {
            "color": "#ab63fa",
            "symbol": "circle"
           },
           "mode": "markers",
           "name": "WP Saha",
           "orientation": "v",
           "showlegend": true,
           "type": "scatter",
           "x": [
            1136585
           ],
           "xaxis": "x",
           "y": [
            66.66666666666666
           ],
           "yaxis": "y"
          },
          {
           "hovertemplate": "batter=YK Pathan<br>matchid=%{x}<br>strike_rate=%{y}<extra></extra>",
           "ids": [
            "YK Pathan"
           ],
           "legendgroup": "YK Pathan",
           "marker": {
            "color": "#19d3f3",
            "symbol": "circle"
           },
           "mode": "markers",
           "name": "YK Pathan",
           "orientation": "v",
           "showlegend": true,
           "type": "scatter",
           "x": [
            1136585
           ],
           "xaxis": "x",
           "y": [
            110.5263157894737
           ],
           "yaxis": "y"
          }
         ],
         "name": "1136585"
        },
        {
         "data": [
          {
           "hovertemplate": "batter=AJ Finch<br>matchid=%{x}<br>strike_rate=%{y}<extra></extra>",
           "ids": [
            "AJ Finch"
           ],
           "legendgroup": "AJ Finch",
           "marker": {
            "color": "#FF6692",
            "symbol": "circle"
           },
           "mode": "markers",
           "name": "AJ Finch",
           "orientation": "v",
           "showlegend": true,
           "type": "scatter",
           "x": [
            1136608
           ],
           "xaxis": "x",
           "y": [
            104
           ],
           "yaxis": "y"
          },
          {
           "hovertemplate": "batter=AJ Tye<br>matchid=%{x}<br>strike_rate=%{y}<extra></extra>",
           "ids": [
            "AJ Tye"
           ],
           "legendgroup": "AJ Tye",
           "marker": {
            "color": "#B6E880",
            "symbol": "circle"
           },
           "mode": "markers",
           "name": "AJ Tye",
           "orientation": "v",
           "showlegend": true,
           "type": "scatter",
           "x": [
            1136608
           ],
           "xaxis": "x",
           "y": [
            0
           ],
           "yaxis": "y"
          },
          {
           "hovertemplate": "batter=AR Patel<br>matchid=%{x}<br>strike_rate=%{y}<extra></extra>",
           "ids": [
            "AR Patel"
           ],
           "legendgroup": "AR Patel",
           "marker": {
            "color": "#FECB52",
            "symbol": "circle"
           },
           "mode": "markers",
           "name": "AR Patel",
           "orientation": "v",
           "showlegend": true,
           "type": "scatter",
           "x": [
            1136608
           ],
           "xaxis": "x",
           "y": [
            64.28571428571429
           ],
           "yaxis": "y"
          },
          {
           "hovertemplate": "batter=AS Rajpoot<br>matchid=%{x}<br>strike_rate=%{y}<extra></extra>",
           "ids": [
            "AS Rajpoot"
           ],
           "legendgroup": "AS Rajpoot",
           "marker": {
            "color": "#636efa",
            "symbol": "circle"
           },
           "mode": "markers",
           "name": "AS Rajpoot",
           "orientation": "v",
           "showlegend": true,
           "type": "scatter",
           "x": [
            1136608
           ],
           "xaxis": "x",
           "y": [
            20
           ],
           "yaxis": "y"
          },
          {
           "hovertemplate": "batter=CH Gayle<br>matchid=%{x}<br>strike_rate=%{y}<extra></extra>",
           "ids": [
            "CH Gayle"
           ],
           "legendgroup": "CH Gayle",
           "marker": {
            "color": "#19d3f3",
            "symbol": "circle"
           },
           "mode": "markers",
           "name": "CH Gayle",
           "orientation": "v",
           "showlegend": true,
           "type": "scatter",
           "x": [
            1136608
           ],
           "xaxis": "x",
           "y": [
            128.57142857142858
           ],
           "yaxis": "y"
          },
          {
           "hovertemplate": "batter=KK Nair<br>matchid=%{x}<br>strike_rate=%{y}<extra></extra>",
           "ids": [
            "KK Nair"
           ],
           "legendgroup": "KK Nair",
           "marker": {
            "color": "#636efa",
            "symbol": "circle"
           },
           "mode": "markers",
           "name": "KK Nair",
           "orientation": "v",
           "showlegend": true,
           "type": "scatter",
           "x": [
            1136608
           ],
           "xaxis": "x",
           "y": [
            33.33333333333333
           ],
           "yaxis": "y"
          },
          {
           "hovertemplate": "batter=KL Rahul<br>matchid=%{x}<br>strike_rate=%{y}<extra></extra>",
           "ids": [
            "KL Rahul"
           ],
           "legendgroup": "KL Rahul",
           "marker": {
            "color": "#EF553B",
            "symbol": "circle"
           },
           "mode": "markers",
           "name": "KL Rahul",
           "orientation": "v",
           "showlegend": true,
           "type": "scatter",
           "x": [
            1136608
           ],
           "xaxis": "x",
           "y": [
            140
           ],
           "yaxis": "y"
          },
          {
           "hovertemplate": "batter=MA Agarwal<br>matchid=%{x}<br>strike_rate=%{y}<extra></extra>",
           "ids": [
            "MA Agarwal"
           ],
           "legendgroup": "MA Agarwal",
           "marker": {
            "color": "#EF553B",
            "symbol": "circle"
           },
           "mode": "markers",
           "name": "MA Agarwal",
           "orientation": "v",
           "showlegend": true,
           "type": "scatter",
           "x": [
            1136608
           ],
           "xaxis": "x",
           "y": [
            33.33333333333333
           ],
           "yaxis": "y"
          },
          {
           "hovertemplate": "batter=MM Sharma<br>matchid=%{x}<br>strike_rate=%{y}<extra></extra>",
           "ids": [
            "MM Sharma"
           ],
           "legendgroup": "MM Sharma",
           "marker": {
            "color": "#FECB52",
            "symbol": "circle"
           },
           "mode": "markers",
           "name": "MM Sharma",
           "orientation": "v",
           "showlegend": true,
           "type": "scatter",
           "x": [
            1136608
           ],
           "xaxis": "x",
           "y": [
            60
           ],
           "yaxis": "y"
          },
          {
           "hovertemplate": "batter=MP Stoinis<br>matchid=%{x}<br>strike_rate=%{y}<extra></extra>",
           "ids": [
            "MP Stoinis"
           ],
           "legendgroup": "MP Stoinis",
           "marker": {
            "color": "#636efa",
            "symbol": "circle"
           },
           "mode": "markers",
           "name": "MP Stoinis",
           "orientation": "v",
           "showlegend": true,
           "type": "scatter",
           "x": [
            1136608
           ],
           "xaxis": "x",
           "y": [
            66.66666666666666
           ],
           "yaxis": "y"
          },
          {
           "hovertemplate": "batter=PA Patel<br>matchid=%{x}<br>strike_rate=%{y}<extra></extra>",
           "ids": [
            "PA Patel"
           ],
           "legendgroup": "PA Patel",
           "marker": {
            "color": "#00cc96",
            "symbol": "circle"
           },
           "mode": "markers",
           "name": "PA Patel",
           "orientation": "v",
           "showlegend": true,
           "type": "scatter",
           "x": [
            1136608
           ],
           "xaxis": "x",
           "y": [
            181.8181818181818
           ],
           "yaxis": "y"
          },
          {
           "hovertemplate": "batter=R Ashwin<br>matchid=%{x}<br>strike_rate=%{y}<extra></extra>",
           "ids": [
            "R Ashwin"
           ],
           "legendgroup": "R Ashwin",
           "marker": {
            "color": "#B6E880",
            "symbol": "circle"
           },
           "mode": "markers",
           "name": "R Ashwin",
           "orientation": "v",
           "showlegend": true,
           "type": "scatter",
           "x": [
            1136608
           ],
           "xaxis": "x",
           "y": [
            0
           ],
           "yaxis": "y"
          },
          {
           "hovertemplate": "batter=V Kohli<br>matchid=%{x}<br>strike_rate=%{y}<extra></extra>",
           "ids": [
            "V Kohli"
           ],
           "legendgroup": "V Kohli",
           "marker": {
            "color": "#EF553B",
            "symbol": "circle"
           },
           "mode": "markers",
           "name": "V Kohli",
           "orientation": "v",
           "showlegend": true,
           "type": "scatter",
           "x": [
            1136608
           ],
           "xaxis": "x",
           "y": [
            165.51724137931035
           ],
           "yaxis": "y"
          }
         ],
         "name": "1136608"
        },
        {
         "data": [
          {
           "hovertemplate": "batter=AJ Finch<br>matchid=%{x}<br>strike_rate=%{y}<extra></extra>",
           "ids": [
            "AJ Finch"
           ],
           "legendgroup": "AJ Finch",
           "marker": {
            "color": "#FF6692",
            "symbol": "circle"
           },
           "mode": "markers",
           "name": "AJ Finch",
           "orientation": "v",
           "showlegend": true,
           "type": "scatter",
           "x": [
            1136610
           ],
           "xaxis": "x",
           "y": [
            131.42857142857142
           ],
           "yaxis": "y"
          },
          {
           "hovertemplate": "batter=AR Patel<br>matchid=%{x}<br>strike_rate=%{y}<extra></extra>",
           "ids": [
            "AR Patel"
           ],
           "legendgroup": "AR Patel",
           "marker": {
            "color": "#FECB52",
            "symbol": "circle"
           },
           "mode": "markers",
           "name": "AR Patel",
           "orientation": "v",
           "showlegend": true,
           "type": "scatter",
           "x": [
            1136610
           ],
           "xaxis": "x",
           "y": [
            125
           ],
           "yaxis": "y"
          },
          {
           "hovertemplate": "batter=BCJ Cutting<br>matchid=%{x}<br>strike_rate=%{y}<extra></extra>",
           "ids": [
            "BCJ Cutting"
           ],
           "legendgroup": "BCJ Cutting",
           "marker": {
            "color": "#636efa",
            "symbol": "circle"
           },
           "mode": "markers",
           "name": "BCJ Cutting",
           "orientation": "v",
           "showlegend": true,
           "type": "scatter",
           "x": [
            1136610
           ],
           "xaxis": "x",
           "y": [
            57.14285714285714
           ],
           "yaxis": "y"
          },
          {
           "hovertemplate": "batter=CH Gayle<br>matchid=%{x}<br>strike_rate=%{y}<extra></extra>",
           "ids": [
            "CH Gayle"
           ],
           "legendgroup": "CH Gayle",
           "marker": {
            "color": "#19d3f3",
            "symbol": "circle"
           },
           "mode": "markers",
           "name": "CH Gayle",
           "orientation": "v",
           "showlegend": true,
           "type": "scatter",
           "x": [
            1136610
           ],
           "xaxis": "x",
           "y": [
            163.63636363636365
           ],
           "yaxis": "y"
          },
          {
           "hovertemplate": "batter=E Lewis<br>matchid=%{x}<br>strike_rate=%{y}<extra></extra>",
           "ids": [
            "E Lewis"
           ],
           "legendgroup": "E Lewis",
           "marker": {
            "color": "#FF97FF",
            "symbol": "circle"
           },
           "mode": "markers",
           "name": "E Lewis",
           "orientation": "v",
           "showlegend": true,
           "type": "scatter",
           "x": [
            1136610
           ],
           "xaxis": "x",
           "y": [
            112.5
           ],
           "yaxis": "y"
          },
          {
           "hovertemplate": "batter=HH Pandya<br>matchid=%{x}<br>strike_rate=%{y}<extra></extra>",
           "ids": [
            "HH Pandya"
           ],
           "legendgroup": "HH Pandya",
           "marker": {
            "color": "#ab63fa",
            "symbol": "circle"
           },
           "mode": "markers",
           "name": "HH Pandya",
           "orientation": "v",
           "showlegend": true,
           "type": "scatter",
           "x": [
            1136610
           ],
           "xaxis": "x",
           "y": [
            69.23076923076923
           ],
           "yaxis": "y"
          },
          {
           "hovertemplate": "batter=Ishan Kishan<br>matchid=%{x}<br>strike_rate=%{y}<extra></extra>",
           "ids": [
            "Ishan Kishan"
           ],
           "legendgroup": "Ishan Kishan",
           "marker": {
            "color": "#FF97FF",
            "symbol": "circle"
           },
           "mode": "markers",
           "name": "Ishan Kishan",
           "orientation": "v",
           "showlegend": true,
           "type": "scatter",
           "x": [
            1136610
           ],
           "xaxis": "x",
           "y": [
            166.66666666666669
           ],
           "yaxis": "y"
          },
          {
           "hovertemplate": "batter=KA Pollard<br>matchid=%{x}<br>strike_rate=%{y}<extra></extra>",
           "ids": [
            "KA Pollard"
           ],
           "legendgroup": "KA Pollard",
           "marker": {
            "color": "#B6E880",
            "symbol": "circle"
           },
           "mode": "markers",
           "name": "KA Pollard",
           "orientation": "v",
           "showlegend": true,
           "type": "scatter",
           "x": [
            1136610
           ],
           "xaxis": "x",
           "y": [
            208.33333333333334
           ],
           "yaxis": "y"
          },
          {
           "hovertemplate": "batter=KH Pandya<br>matchid=%{x}<br>strike_rate=%{y}<extra></extra>",
           "ids": [
            "KH Pandya"
           ],
           "legendgroup": "KH Pandya",
           "marker": {
            "color": "#FECB52",
            "symbol": "circle"
           },
           "mode": "markers",
           "name": "KH Pandya",
           "orientation": "v",
           "showlegend": true,
           "type": "scatter",
           "x": [
            1136610
           ],
           "xaxis": "x",
           "y": [
            133.33333333333331
           ],
           "yaxis": "y"
          },
          {
           "hovertemplate": "batter=KL Rahul<br>matchid=%{x}<br>strike_rate=%{y}<extra></extra>",
           "ids": [
            "KL Rahul"
           ],
           "legendgroup": "KL Rahul",
           "marker": {
            "color": "#EF553B",
            "symbol": "circle"
           },
           "mode": "markers",
           "name": "KL Rahul",
           "orientation": "v",
           "showlegend": true,
           "type": "scatter",
           "x": [
            1136610
           ],
           "xaxis": "x",
           "y": [
            146.875
           ],
           "yaxis": "y"
          },
          {
           "hovertemplate": "batter=M Markande<br>matchid=%{x}<br>strike_rate=%{y}<extra></extra>",
           "ids": [
            "M Markande"
           ],
           "legendgroup": "M Markande",
           "marker": {
            "color": "#B6E880",
            "symbol": "circle"
           },
           "mode": "markers",
           "name": "M Markande",
           "orientation": "v",
           "showlegend": true,
           "type": "scatter",
           "x": [
            1136610
           ],
           "xaxis": "x",
           "y": [
            140
           ],
           "yaxis": "y"
          },
          {
           "hovertemplate": "batter=MJ McClenaghan<br>matchid=%{x}<br>strike_rate=%{y}<extra></extra>",
           "ids": [
            "MJ McClenaghan"
           ],
           "legendgroup": "MJ McClenaghan",
           "marker": {
            "color": "#FFA15A",
            "symbol": "circle"
           },
           "mode": "markers",
           "name": "MJ McClenaghan",
           "orientation": "v",
           "showlegend": true,
           "type": "scatter",
           "x": [
            1136610
           ],
           "xaxis": "x",
           "y": [
            137.5
           ],
           "yaxis": "y"
          },
          {
           "hovertemplate": "batter=MK Tiwary<br>matchid=%{x}<br>strike_rate=%{y}<extra></extra>",
           "ids": [
            "MK Tiwary"
           ],
           "legendgroup": "MK Tiwary",
           "marker": {
            "color": "#B6E880",
            "symbol": "circle"
           },
           "mode": "markers",
           "name": "MK Tiwary",
           "orientation": "v",
           "showlegend": true,
           "type": "scatter",
           "x": [
            1136610
           ],
           "xaxis": "x",
           "y": [
            400
           ],
           "yaxis": "y"
          },
          {
           "hovertemplate": "batter=MP Stoinis<br>matchid=%{x}<br>strike_rate=%{y}<extra></extra>",
           "ids": [
            "MP Stoinis"
           ],
           "legendgroup": "MP Stoinis",
           "marker": {
            "color": "#636efa",
            "symbol": "circle"
           },
           "mode": "markers",
           "name": "MP Stoinis",
           "orientation": "v",
           "showlegend": true,
           "type": "scatter",
           "x": [
            1136610
           ],
           "xaxis": "x",
           "y": [
            50
           ],
           "yaxis": "y"
          },
          {
           "hovertemplate": "batter=RG Sharma<br>matchid=%{x}<br>strike_rate=%{y}<extra></extra>",
           "ids": [
            "RG Sharma"
           ],
           "legendgroup": "RG Sharma",
           "marker": {
            "color": "#00cc96",
            "symbol": "circle"
           },
           "mode": "markers",
           "name": "RG Sharma",
           "orientation": "v",
           "showlegend": true,
           "type": "scatter",
           "x": [
            1136610
           ],
           "xaxis": "x",
           "y": [
            60
           ],
           "yaxis": "y"
          },
          {
           "hovertemplate": "batter=SA Yadav<br>matchid=%{x}<br>strike_rate=%{y}<extra></extra>",
           "ids": [
            "SA Yadav"
           ],
           "legendgroup": "SA Yadav",
           "marker": {
            "color": "#00cc96",
            "symbol": "circle"
           },
           "mode": "markers",
           "name": "SA Yadav",
           "orientation": "v",
           "showlegend": true,
           "type": "scatter",
           "x": [
            1136610
           ],
           "xaxis": "x",
           "y": [
            180
           ],
           "yaxis": "y"
          },
          {
           "hovertemplate": "batter=Yuvraj Singh<br>matchid=%{x}<br>strike_rate=%{y}<extra></extra>",
           "ids": [
            "Yuvraj Singh"
           ],
           "legendgroup": "Yuvraj Singh",
           "marker": {
            "color": "#B6E880",
            "symbol": "circle"
           },
           "mode": "markers",
           "name": "Yuvraj Singh",
           "orientation": "v",
           "showlegend": true,
           "type": "scatter",
           "x": [
            1136610
           ],
           "xaxis": "x",
           "y": [
            25
           ],
           "yaxis": "y"
          }
         ],
         "name": "1136610"
        },
        {
         "data": [
          {
           "hovertemplate": "batter=AJ Finch<br>matchid=%{x}<br>strike_rate=%{y}<extra></extra>",
           "ids": [
            "AJ Finch"
           ],
           "legendgroup": "AJ Finch",
           "marker": {
            "color": "#FF6692",
            "symbol": "circle"
           },
           "mode": "markers",
           "name": "AJ Finch",
           "orientation": "v",
           "showlegend": true,
           "type": "scatter",
           "x": [
            1136616
           ],
           "xaxis": "x",
           "y": [
            66.66666666666666
           ],
           "yaxis": "y"
          },
          {
           "hovertemplate": "batter=AJ Tye<br>matchid=%{x}<br>strike_rate=%{y}<extra></extra>",
           "ids": [
            "AJ Tye"
           ],
           "legendgroup": "AJ Tye",
           "marker": {
            "color": "#B6E880",
            "symbol": "circle"
           },
           "mode": "markers",
           "name": "AJ Tye",
           "orientation": "v",
           "showlegend": true,
           "type": "scatter",
           "x": [
            1136616
           ],
           "xaxis": "x",
           "y": [
            0
           ],
           "yaxis": "y"
          },
          {
           "hovertemplate": "batter=AR Patel<br>matchid=%{x}<br>strike_rate=%{y}<extra></extra>",
           "ids": [
            "AR Patel"
           ],
           "legendgroup": "AR Patel",
           "marker": {
            "color": "#FECB52",
            "symbol": "circle"
           },
           "mode": "markers",
           "name": "AR Patel",
           "orientation": "v",
           "showlegend": true,
           "type": "scatter",
           "x": [
            1136616
           ],
           "xaxis": "x",
           "y": [
            116.66666666666667
           ],
           "yaxis": "y"
          },
          {
           "hovertemplate": "batter=AS Rajpoot<br>matchid=%{x}<br>strike_rate=%{y}<extra></extra>",
           "ids": [
            "AS Rajpoot"
           ],
           "legendgroup": "AS Rajpoot",
           "marker": {
            "color": "#636efa",
            "symbol": "circle"
           },
           "mode": "markers",
           "name": "AS Rajpoot",
           "orientation": "v",
           "showlegend": true,
           "type": "scatter",
           "x": [
            1136616
           ],
           "xaxis": "x",
           "y": [
            50
           ],
           "yaxis": "y"
          },
          {
           "hovertemplate": "batter=AT Rayudu<br>matchid=%{x}<br>strike_rate=%{y}<extra></extra>",
           "ids": [
            "AT Rayudu"
           ],
           "legendgroup": "AT Rayudu",
           "marker": {
            "color": "#EF553B",
            "symbol": "circle"
           },
           "mode": "markers",
           "name": "AT Rayudu",
           "orientation": "v",
           "showlegend": true,
           "type": "scatter",
           "x": [
            1136616
           ],
           "xaxis": "x",
           "y": [
            33.33333333333333
           ],
           "yaxis": "y"
          },
          {
           "hovertemplate": "batter=CH Gayle<br>matchid=%{x}<br>strike_rate=%{y}<extra></extra>",
           "ids": [
            "CH Gayle"
           ],
           "legendgroup": "CH Gayle",
           "marker": {
            "color": "#19d3f3",
            "symbol": "circle"
           },
           "mode": "markers",
           "name": "CH Gayle",
           "orientation": "v",
           "showlegend": true,
           "type": "scatter",
           "x": [
            1136616
           ],
           "xaxis": "x",
           "y": [
            0
           ],
           "yaxis": "y"
          },
          {
           "hovertemplate": "batter=DA Miller<br>matchid=%{x}<br>strike_rate=%{y}<extra></extra>",
           "ids": [
            "DA Miller"
           ],
           "legendgroup": "DA Miller",
           "marker": {
            "color": "#636efa",
            "symbol": "circle"
           },
           "mode": "markers",
           "name": "DA Miller",
           "orientation": "v",
           "showlegend": true,
           "type": "scatter",
           "x": [
            1136616
           ],
           "xaxis": "x",
           "y": [
            104.34782608695652
           ],
           "yaxis": "y"
          },
          {
           "hovertemplate": "batter=DL Chahar<br>matchid=%{x}<br>strike_rate=%{y}<extra></extra>",
           "ids": [
            "DL Chahar"
           ],
           "legendgroup": "DL Chahar",
           "marker": {
            "color": "#FFA15A",
            "symbol": "circle"
           },
           "mode": "markers",
           "name": "DL Chahar",
           "orientation": "v",
           "showlegend": true,
           "type": "scatter",
           "x": [
            1136616
           ],
           "xaxis": "x",
           "y": [
            185.71428571428572
           ],
           "yaxis": "y"
          },
          {
           "hovertemplate": "batter=F du Plessis<br>matchid=%{x}<br>strike_rate=%{y}<extra></extra>",
           "ids": [
            "F du Plessis"
           ],
           "legendgroup": "F du Plessis",
           "marker": {
            "color": "#FECB52",
            "symbol": "circle"
           },
           "mode": "markers",
           "name": "F du Plessis",
           "orientation": "v",
           "showlegend": true,
           "type": "scatter",
           "x": [
            1136616
           ],
           "xaxis": "x",
           "y": [
            93.33333333333333
           ],
           "yaxis": "y"
          },
          {
           "hovertemplate": "batter=Harbhajan Singh<br>matchid=%{x}<br>strike_rate=%{y}<extra></extra>",
           "ids": [
            "Harbhajan Singh"
           ],
           "legendgroup": "Harbhajan Singh",
           "marker": {
            "color": "#19d3f3",
            "symbol": "circle"
           },
           "mode": "markers",
           "name": "Harbhajan Singh",
           "orientation": "v",
           "showlegend": true,
           "type": "scatter",
           "x": [
            1136616
           ],
           "xaxis": "x",
           "y": [
            82.6086956521739
           ],
           "yaxis": "y"
          },
          {
           "hovertemplate": "batter=KK Nair<br>matchid=%{x}<br>strike_rate=%{y}<extra></extra>",
           "ids": [
            "KK Nair"
           ],
           "legendgroup": "KK Nair",
           "marker": {
            "color": "#636efa",
            "symbol": "circle"
           },
           "mode": "markers",
           "name": "KK Nair",
           "orientation": "v",
           "showlegend": true,
           "type": "scatter",
           "x": [
            1136616
           ],
           "xaxis": "x",
           "y": [
            200
           ],
           "yaxis": "y"
          },
          {
           "hovertemplate": "batter=KL Rahul<br>matchid=%{x}<br>strike_rate=%{y}<extra></extra>",
           "ids": [
            "KL Rahul"
           ],
           "legendgroup": "KL Rahul",
           "marker": {
            "color": "#EF553B",
            "symbol": "circle"
           },
           "mode": "markers",
           "name": "KL Rahul",
           "orientation": "v",
           "showlegend": true,
           "type": "scatter",
           "x": [
            1136616
           ],
           "xaxis": "x",
           "y": [
            58.333333333333336
           ],
           "yaxis": "y"
          },
          {
           "hovertemplate": "batter=MK Tiwary<br>matchid=%{x}<br>strike_rate=%{y}<extra></extra>",
           "ids": [
            "MK Tiwary"
           ],
           "legendgroup": "MK Tiwary",
           "marker": {
            "color": "#B6E880",
            "symbol": "circle"
           },
           "mode": "markers",
           "name": "MK Tiwary",
           "orientation": "v",
           "showlegend": true,
           "type": "scatter",
           "x": [
            1136616
           ],
           "xaxis": "x",
           "y": [
            112.90322580645163
           ],
           "yaxis": "y"
          },
          {
           "hovertemplate": "batter=MM Sharma<br>matchid=%{x}<br>strike_rate=%{y}<extra></extra>",
           "ids": [
            "MM Sharma"
           ],
           "legendgroup": "MM Sharma",
           "marker": {
            "color": "#FECB52",
            "symbol": "circle"
           },
           "mode": "markers",
           "name": "MM Sharma",
           "orientation": "v",
           "showlegend": true,
           "type": "scatter",
           "x": [
            1136616
           ],
           "xaxis": "x",
           "y": [
            66.66666666666666
           ],
           "yaxis": "y"
          },
          {
           "hovertemplate": "batter=MS Dhoni<br>matchid=%{x}<br>strike_rate=%{y}<extra></extra>",
           "ids": [
            "MS Dhoni"
           ],
           "legendgroup": "MS Dhoni",
           "marker": {
            "color": "#EF553B",
            "symbol": "circle"
           },
           "mode": "markers",
           "name": "MS Dhoni",
           "orientation": "v",
           "showlegend": true,
           "type": "scatter",
           "x": [
            1136616
           ],
           "xaxis": "x",
           "y": [
            228.57142857142856
           ],
           "yaxis": "y"
          },
          {
           "hovertemplate": "batter=R Ashwin<br>matchid=%{x}<br>strike_rate=%{y}<extra></extra>",
           "ids": [
            "R Ashwin"
           ],
           "legendgroup": "R Ashwin",
           "marker": {
            "color": "#B6E880",
            "symbol": "circle"
           },
           "mode": "markers",
           "name": "R Ashwin",
           "orientation": "v",
           "showlegend": true,
           "type": "scatter",
           "x": [
            1136616
           ],
           "xaxis": "x",
           "y": [
            0
           ],
           "yaxis": "y"
          },
          {
           "hovertemplate": "batter=SK Raina<br>matchid=%{x}<br>strike_rate=%{y}<extra></extra>",
           "ids": [
            "SK Raina"
           ],
           "legendgroup": "SK Raina",
           "marker": {
            "color": "#ab63fa",
            "symbol": "circle"
           },
           "mode": "markers",
           "name": "SK Raina",
           "orientation": "v",
           "showlegend": true,
           "type": "scatter",
           "x": [
            1136616
           ],
           "xaxis": "x",
           "y": [
            115.09433962264151
           ],
           "yaxis": "y"
          },
          {
           "hovertemplate": "batter=SW Billings<br>matchid=%{x}<br>strike_rate=%{y}<extra></extra>",
           "ids": [
            "SW Billings"
           ],
           "legendgroup": "SW Billings",
           "marker": {
            "color": "#00cc96",
            "symbol": "circle"
           },
           "mode": "markers",
           "name": "SW Billings",
           "orientation": "v",
           "showlegend": true,
           "type": "scatter",
           "x": [
            1136616
           ],
           "xaxis": "x",
           "y": [
            0
           ],
           "yaxis": "y"
          }
         ],
         "name": "1136616"
        },
        {
         "data": [
          {
           "hovertemplate": "batter=AM Rahane<br>matchid=%{x}<br>strike_rate=%{y}<extra></extra>",
           "ids": [
            "AM Rahane"
           ],
           "legendgroup": "AM Rahane",
           "marker": {
            "color": "#FF97FF",
            "symbol": "circle"
           },
           "mode": "markers",
           "name": "AM Rahane",
           "orientation": "v",
           "showlegend": true,
           "type": "scatter",
           "x": [
            1136564
           ],
           "xaxis": "x",
           "y": [
            92.85714285714286
           ],
           "yaxis": "y"
          },
          {
           "hovertemplate": "batter=B Laughlin<br>matchid=%{x}<br>strike_rate=%{y}<extra></extra>",
           "ids": [
            "B Laughlin"
           ],
           "legendgroup": "B Laughlin",
           "marker": {
            "color": "#19d3f3",
            "symbol": "circle"
           },
           "mode": "markers",
           "name": "B Laughlin",
           "orientation": "v",
           "showlegend": true,
           "type": "scatter",
           "x": [
            1136564
           ],
           "xaxis": "x",
           "y": [
            33.33333333333333
           ],
           "yaxis": "y"
          },
          {
           "hovertemplate": "batter=BA Stokes<br>matchid=%{x}<br>strike_rate=%{y}<extra></extra>",
           "ids": [
            "BA Stokes"
           ],
           "legendgroup": "BA Stokes",
           "marker": {
            "color": "#B6E880",
            "symbol": "circle"
           },
           "mode": "markers",
           "name": "BA Stokes",
           "orientation": "v",
           "showlegend": true,
           "type": "scatter",
           "x": [
            1136564
           ],
           "xaxis": "x",
           "y": [
            62.5
           ],
           "yaxis": "y"
          },
          {
           "hovertemplate": "batter=DJM Short<br>matchid=%{x}<br>strike_rate=%{y}<extra></extra>",
           "ids": [
            "DJM Short"
           ],
           "legendgroup": "DJM Short",
           "marker": {
            "color": "#ab63fa",
            "symbol": "circle"
           },
           "mode": "markers",
           "name": "DJM Short",
           "orientation": "v",
           "showlegend": true,
           "type": "scatter",
           "x": [
            1136564
           ],
           "xaxis": "x",
           "y": [
            80
           ],
           "yaxis": "y"
          },
          {
           "hovertemplate": "batter=DS Kulkarni<br>matchid=%{x}<br>strike_rate=%{y}<extra></extra>",
           "ids": [
            "DS Kulkarni"
           ],
           "legendgroup": "DS Kulkarni",
           "marker": {
            "color": "#FF6692",
            "symbol": "circle"
           },
           "mode": "markers",
           "name": "DS Kulkarni",
           "orientation": "v",
           "showlegend": true,
           "type": "scatter",
           "x": [
            1136564
           ],
           "xaxis": "x",
           "y": [
            75
           ],
           "yaxis": "y"
          },
          {
           "hovertemplate": "batter=JC Buttler<br>matchid=%{x}<br>strike_rate=%{y}<extra></extra>",
           "ids": [
            "JC Buttler"
           ],
           "legendgroup": "JC Buttler",
           "marker": {
            "color": "#636efa",
            "symbol": "circle"
           },
           "mode": "markers",
           "name": "JC Buttler",
           "orientation": "v",
           "showlegend": true,
           "type": "scatter",
           "x": [
            1136564
           ],
           "xaxis": "x",
           "y": [
            66.66666666666666
           ],
           "yaxis": "y"
          },
          {
           "hovertemplate": "batter=JD Unadkat<br>matchid=%{x}<br>strike_rate=%{y}<extra></extra>",
           "ids": [
            "JD Unadkat"
           ],
           "legendgroup": "JD Unadkat",
           "marker": {
            "color": "#EF553B",
            "symbol": "circle"
           },
           "mode": "markers",
           "name": "JD Unadkat",
           "orientation": "v",
           "showlegend": true,
           "type": "scatter",
           "x": [
            1136564
           ],
           "xaxis": "x",
           "y": [
            50
           ],
           "yaxis": "y"
          },
          {
           "hovertemplate": "batter=K Gowtham<br>matchid=%{x}<br>strike_rate=%{y}<extra></extra>",
           "ids": [
            "K Gowtham"
           ],
           "legendgroup": "K Gowtham",
           "marker": {
            "color": "#FF6692",
            "symbol": "circle"
           },
           "mode": "markers",
           "name": "K Gowtham",
           "orientation": "v",
           "showlegend": true,
           "type": "scatter",
           "x": [
            1136564
           ],
           "xaxis": "x",
           "y": [
            0
           ],
           "yaxis": "y"
          },
          {
           "hovertemplate": "batter=KS Williamson<br>matchid=%{x}<br>strike_rate=%{y}<extra></extra>",
           "ids": [
            "KS Williamson"
           ],
           "legendgroup": "KS Williamson",
           "marker": {
            "color": "#ab63fa",
            "symbol": "circle"
           },
           "mode": "markers",
           "name": "KS Williamson",
           "orientation": "v",
           "showlegend": true,
           "type": "scatter",
           "x": [
            1136564
           ],
           "xaxis": "x",
           "y": [
            102.85714285714285
           ],
           "yaxis": "y"
          },
          {
           "hovertemplate": "batter=RA Tripathi<br>matchid=%{x}<br>strike_rate=%{y}<extra></extra>",
           "ids": [
            "RA Tripathi"
           ],
           "legendgroup": "RA Tripathi",
           "marker": {
            "color": "#EF553B",
            "symbol": "circle"
           },
           "mode": "markers",
           "name": "RA Tripathi",
           "orientation": "v",
           "showlegend": true,
           "type": "scatter",
           "x": [
            1136564
           ],
           "xaxis": "x",
           "y": [
            113.33333333333333
           ],
           "yaxis": "y"
          },
          {
           "hovertemplate": "batter=S Dhawan<br>matchid=%{x}<br>strike_rate=%{y}<extra></extra>",
           "ids": [
            "S Dhawan"
           ],
           "legendgroup": "S Dhawan",
           "marker": {
            "color": "#FF97FF",
            "symbol": "circle"
           },
           "mode": "markers",
           "name": "S Dhawan",
           "orientation": "v",
           "showlegend": true,
           "type": "scatter",
           "x": [
            1136564
           ],
           "xaxis": "x",
           "y": [
            132.20338983050848
           ],
           "yaxis": "y"
          },
          {
           "hovertemplate": "batter=S Gopal<br>matchid=%{x}<br>strike_rate=%{y}<extra></extra>",
           "ids": [
            "S Gopal"
           ],
           "legendgroup": "S Gopal",
           "marker": {
            "color": "#FECB52",
            "symbol": "circle"
           },
           "mode": "markers",
           "name": "S Gopal",
           "orientation": "v",
           "showlegend": true,
           "type": "scatter",
           "x": [
            1136564
           ],
           "xaxis": "x",
           "y": [
            90
           ],
           "yaxis": "y"
          },
          {
           "hovertemplate": "batter=SV Samson<br>matchid=%{x}<br>strike_rate=%{y}<extra></extra>",
           "ids": [
            "SV Samson"
           ],
           "legendgroup": "SV Samson",
           "marker": {
            "color": "#EF553B",
            "symbol": "circle"
           },
           "mode": "markers",
           "name": "SV Samson",
           "orientation": "v",
           "showlegend": true,
           "type": "scatter",
           "x": [
            1136564
           ],
           "xaxis": "x",
           "y": [
            113.95348837209302
           ],
           "yaxis": "y"
          },
          {
           "hovertemplate": "batter=WP Saha<br>matchid=%{x}<br>strike_rate=%{y}<extra></extra>",
           "ids": [
            "WP Saha"
           ],
           "legendgroup": "WP Saha",
           "marker": {
            "color": "#ab63fa",
            "symbol": "circle"
           },
           "mode": "markers",
           "name": "WP Saha",
           "orientation": "v",
           "showlegend": true,
           "type": "scatter",
           "x": [
            1136564
           ],
           "xaxis": "x",
           "y": [
            83.33333333333334
           ],
           "yaxis": "y"
          }
         ],
         "name": "1136564"
        },
        {
         "data": [
          {
           "hovertemplate": "batter=AM Rahane<br>matchid=%{x}<br>strike_rate=%{y}<extra></extra>",
           "ids": [
            "AM Rahane"
           ],
           "legendgroup": "AM Rahane",
           "marker": {
            "color": "#FF97FF",
            "symbol": "circle"
           },
           "mode": "markers",
           "name": "AM Rahane",
           "orientation": "v",
           "showlegend": true,
           "type": "scatter",
           "x": [
            1136566
           ],
           "xaxis": "x",
           "y": [
            112.5
           ],
           "yaxis": "y"
          },
          {
           "hovertemplate": "batter=BA Stokes<br>matchid=%{x}<br>strike_rate=%{y}<extra></extra>",
           "ids": [
            "BA Stokes"
           ],
           "legendgroup": "BA Stokes",
           "marker": {
            "color": "#B6E880",
            "symbol": "circle"
           },
           "mode": "markers",
           "name": "BA Stokes",
           "orientation": "v",
           "showlegend": true,
           "type": "scatter",
           "x": [
            1136566
           ],
           "xaxis": "x",
           "y": [
            133.33333333333331
           ],
           "yaxis": "y"
          },
          {
           "hovertemplate": "batter=CH Morris<br>matchid=%{x}<br>strike_rate=%{y}<extra></extra>",
           "ids": [
            "CH Morris"
           ],
           "legendgroup": "CH Morris",
           "marker": {
            "color": "#FF6692",
            "symbol": "circle"
           },
           "mode": "markers",
           "name": "CH Morris",
           "orientation": "v",
           "showlegend": true,
           "type": "scatter",
           "x": [
            1136566
           ],
           "xaxis": "x",
           "y": [
            242.85714285714283
           ],
           "yaxis": "y"
          },
          {
           "hovertemplate": "batter=DJM Short<br>matchid=%{x}<br>strike_rate=%{y}<extra></extra>",
           "ids": [
            "DJM Short"
           ],
           "legendgroup": "DJM Short",
           "marker": {
            "color": "#ab63fa",
            "symbol": "circle"
           },
           "mode": "markers",
           "name": "DJM Short",
           "orientation": "v",
           "showlegend": true,
           "type": "scatter",
           "x": [
            1136566
           ],
           "xaxis": "x",
           "y": [
            200
           ],
           "yaxis": "y"
          },
          {
           "hovertemplate": "batter=GJ Maxwell<br>matchid=%{x}<br>strike_rate=%{y}<extra></extra>",
           "ids": [
            "GJ Maxwell"
           ],
           "legendgroup": "GJ Maxwell",
           "marker": {
            "color": "#EF553B",
            "symbol": "circle"
           },
           "mode": "markers",
           "name": "GJ Maxwell",
           "orientation": "v",
           "showlegend": true,
           "type": "scatter",
           "x": [
            1136566
           ],
           "xaxis": "x",
           "y": [
            141.66666666666669
           ],
           "yaxis": "y"
          },
          {
           "hovertemplate": "batter=JC Buttler<br>matchid=%{x}<br>strike_rate=%{y}<extra></extra>",
           "ids": [
            "JC Buttler"
           ],
           "legendgroup": "JC Buttler",
           "marker": {
            "color": "#636efa",
            "symbol": "circle"
           },
           "mode": "markers",
           "name": "JC Buttler",
           "orientation": "v",
           "showlegend": true,
           "type": "scatter",
           "x": [
            1136566
           ],
           "xaxis": "x",
           "y": [
            152.63157894736844
           ],
           "yaxis": "y"
          },
          {
           "hovertemplate": "batter=K Gowtham<br>matchid=%{x}<br>strike_rate=%{y}<extra></extra>",
           "ids": [
            "K Gowtham"
           ],
           "legendgroup": "K Gowtham",
           "marker": {
            "color": "#FF6692",
            "symbol": "circle"
           },
           "mode": "markers",
           "name": "K Gowtham",
           "orientation": "v",
           "showlegend": true,
           "type": "scatter",
           "x": [
            1136566
           ],
           "xaxis": "x",
           "y": [
            100
           ],
           "yaxis": "y"
          },
          {
           "hovertemplate": "batter=RA Tripathi<br>matchid=%{x}<br>strike_rate=%{y}<extra></extra>",
           "ids": [
            "RA Tripathi"
           ],
           "legendgroup": "RA Tripathi",
           "marker": {
            "color": "#EF553B",
            "symbol": "circle"
           },
           "mode": "markers",
           "name": "RA Tripathi",
           "orientation": "v",
           "showlegend": true,
           "type": "scatter",
           "x": [
            1136566
           ],
           "xaxis": "x",
           "y": [
            136.36363636363635
           ],
           "yaxis": "y"
          },
          {
           "hovertemplate": "batter=RR Pant<br>matchid=%{x}<br>strike_rate=%{y}<extra></extra>",
           "ids": [
            "RR Pant"
           ],
           "legendgroup": "RR Pant",
           "marker": {
            "color": "#19d3f3",
            "symbol": "circle"
           },
           "mode": "markers",
           "name": "RR Pant",
           "orientation": "v",
           "showlegend": true,
           "type": "scatter",
           "x": [
            1136566
           ],
           "xaxis": "x",
           "y": [
            133.33333333333331
           ],
           "yaxis": "y"
          },
          {
           "hovertemplate": "batter=SV Samson<br>matchid=%{x}<br>strike_rate=%{y}<extra></extra>",
           "ids": [
            "SV Samson"
           ],
           "legendgroup": "SV Samson",
           "marker": {
            "color": "#EF553B",
            "symbol": "circle"
           },
           "mode": "markers",
           "name": "SV Samson",
           "orientation": "v",
           "showlegend": true,
           "type": "scatter",
           "x": [
            1136566
           ],
           "xaxis": "x",
           "y": [
            168.1818181818182
           ],
           "yaxis": "y"
          },
          {
           "hovertemplate": "batter=V Shankar<br>matchid=%{x}<br>strike_rate=%{y}<extra></extra>",
           "ids": [
            "V Shankar"
           ],
           "legendgroup": "V Shankar",
           "marker": {
            "color": "#00cc96",
            "symbol": "circle"
           },
           "mode": "markers",
           "name": "V Shankar",
           "orientation": "v",
           "showlegend": true,
           "type": "scatter",
           "x": [
            1136566
           ],
           "xaxis": "x",
           "y": [
            100
           ],
           "yaxis": "y"
          }
         ],
         "name": "1136566"
        },
        {
         "data": [
          {
           "hovertemplate": "batter=AM Rahane<br>matchid=%{x}<br>strike_rate=%{y}<extra></extra>",
           "ids": [
            "AM Rahane"
           ],
           "legendgroup": "AM Rahane",
           "marker": {
            "color": "#FF97FF",
            "symbol": "circle"
           },
           "mode": "markers",
           "name": "AM Rahane",
           "orientation": "v",
           "showlegend": true,
           "type": "scatter",
           "x": [
            1136575
           ],
           "xaxis": "x",
           "y": [
            189.4736842105263
           ],
           "yaxis": "y"
          },
          {
           "hovertemplate": "batter=BA Stokes<br>matchid=%{x}<br>strike_rate=%{y}<extra></extra>",
           "ids": [
            "BA Stokes"
           ],
           "legendgroup": "BA Stokes",
           "marker": {
            "color": "#B6E880",
            "symbol": "circle"
           },
           "mode": "markers",
           "name": "BA Stokes",
           "orientation": "v",
           "showlegend": true,
           "type": "scatter",
           "x": [
            1136575
           ],
           "xaxis": "x",
           "y": [
            127.27272727272727
           ],
           "yaxis": "y"
          },
          {
           "hovertemplate": "batter=CA Lynn<br>matchid=%{x}<br>strike_rate=%{y}<extra></extra>",
           "ids": [
            "CA Lynn"
           ],
           "legendgroup": "CA Lynn",
           "marker": {
            "color": "#FFA15A",
            "symbol": "circle"
           },
           "mode": "markers",
           "name": "CA Lynn",
           "orientation": "v",
           "showlegend": true,
           "type": "scatter",
           "x": [
            1136575
           ],
           "xaxis": "x",
           "y": [
            0
           ],
           "yaxis": "y"
          },
          {
           "hovertemplate": "batter=DJM Short<br>matchid=%{x}<br>strike_rate=%{y}<extra></extra>",
           "ids": [
            "DJM Short"
           ],
           "legendgroup": "DJM Short",
           "marker": {
            "color": "#ab63fa",
            "symbol": "circle"
           },
           "mode": "markers",
           "name": "DJM Short",
           "orientation": "v",
           "showlegend": true,
           "type": "scatter",
           "x": [
            1136575
           ],
           "xaxis": "x",
           "y": [
            102.32558139534885
           ],
           "yaxis": "y"
          },
          {
           "hovertemplate": "batter=DS Kulkarni<br>matchid=%{x}<br>strike_rate=%{y}<extra></extra>",
           "ids": [
            "DS Kulkarni"
           ],
           "legendgroup": "DS Kulkarni",
           "marker": {
            "color": "#FF6692",
            "symbol": "circle"
           },
           "mode": "markers",
           "name": "DS Kulkarni",
           "orientation": "v",
           "showlegend": true,
           "type": "scatter",
           "x": [
            1136575
           ],
           "xaxis": "x",
           "y": [
            100
           ],
           "yaxis": "y"
          },
          {
           "hovertemplate": "batter=JC Buttler<br>matchid=%{x}<br>strike_rate=%{y}<extra></extra>",
           "ids": [
            "JC Buttler"
           ],
           "legendgroup": "JC Buttler",
           "marker": {
            "color": "#636efa",
            "symbol": "circle"
           },
           "mode": "markers",
           "name": "JC Buttler",
           "orientation": "v",
           "showlegend": true,
           "type": "scatter",
           "x": [
            1136575
           ],
           "xaxis": "x",
           "y": [
            114.28571428571428
           ],
           "yaxis": "y"
          },
          {
           "hovertemplate": "batter=K Gowtham<br>matchid=%{x}<br>strike_rate=%{y}<extra></extra>",
           "ids": [
            "K Gowtham"
           ],
           "legendgroup": "K Gowtham",
           "marker": {
            "color": "#FF6692",
            "symbol": "circle"
           },
           "mode": "markers",
           "name": "K Gowtham",
           "orientation": "v",
           "showlegend": true,
           "type": "scatter",
           "x": [
            1136575
           ],
           "xaxis": "x",
           "y": [
            171.42857142857142
           ],
           "yaxis": "y"
          },
          {
           "hovertemplate": "batter=KD Karthik<br>matchid=%{x}<br>strike_rate=%{y}<extra></extra>",
           "ids": [
            "KD Karthik"
           ],
           "legendgroup": "KD Karthik",
           "marker": {
            "color": "#FF97FF",
            "symbol": "circle"
           },
           "mode": "markers",
           "name": "KD Karthik",
           "orientation": "v",
           "showlegend": true,
           "type": "scatter",
           "x": [
            1136575
           ],
           "xaxis": "x",
           "y": [
            182.6086956521739
           ],
           "yaxis": "y"
          },
          {
           "hovertemplate": "batter=N Rana<br>matchid=%{x}<br>strike_rate=%{y}<extra></extra>",
           "ids": [
            "N Rana"
           ],
           "legendgroup": "N Rana",
           "marker": {
            "color": "#FF97FF",
            "symbol": "circle"
           },
           "mode": "markers",
           "name": "N Rana",
           "orientation": "v",
           "showlegend": true,
           "type": "scatter",
           "x": [
            1136575
           ],
           "xaxis": "x",
           "y": [
            125
           ],
           "yaxis": "y"
          },
          {
           "hovertemplate": "batter=RA Tripathi<br>matchid=%{x}<br>strike_rate=%{y}<extra></extra>",
           "ids": [
            "RA Tripathi"
           ],
           "legendgroup": "RA Tripathi",
           "marker": {
            "color": "#EF553B",
            "symbol": "circle"
           },
           "mode": "markers",
           "name": "RA Tripathi",
           "orientation": "v",
           "showlegend": true,
           "type": "scatter",
           "x": [
            1136575
           ],
           "xaxis": "x",
           "y": [
            136.36363636363635
           ],
           "yaxis": "y"
          },
          {
           "hovertemplate": "batter=RV Uthappa<br>matchid=%{x}<br>strike_rate=%{y}<extra></extra>",
           "ids": [
            "RV Uthappa"
           ],
           "legendgroup": "RV Uthappa",
           "marker": {
            "color": "#FF6692",
            "symbol": "circle"
           },
           "mode": "markers",
           "name": "RV Uthappa",
           "orientation": "v",
           "showlegend": true,
           "type": "scatter",
           "x": [
            1136575
           ],
           "xaxis": "x",
           "y": [
            129.72972972972974
           ],
           "yaxis": "y"
          },
          {
           "hovertemplate": "batter=S Gopal<br>matchid=%{x}<br>strike_rate=%{y}<extra></extra>",
           "ids": [
            "S Gopal"
           ],
           "legendgroup": "S Gopal",
           "marker": {
            "color": "#FECB52",
            "symbol": "circle"
           },
           "mode": "markers",
           "name": "S Gopal",
           "orientation": "v",
           "showlegend": true,
           "type": "scatter",
           "x": [
            1136575
           ],
           "xaxis": "x",
           "y": [
            0
           ],
           "yaxis": "y"
          },
          {
           "hovertemplate": "batter=SP Narine<br>matchid=%{x}<br>strike_rate=%{y}<extra></extra>",
           "ids": [
            "SP Narine"
           ],
           "legendgroup": "SP Narine",
           "marker": {
            "color": "#B6E880",
            "symbol": "circle"
           },
           "mode": "markers",
           "name": "SP Narine",
           "orientation": "v",
           "showlegend": true,
           "type": "scatter",
           "x": [
            1136575
           ],
           "xaxis": "x",
           "y": [
            140
           ],
           "yaxis": "y"
          },
          {
           "hovertemplate": "batter=SV Samson<br>matchid=%{x}<br>strike_rate=%{y}<extra></extra>",
           "ids": [
            "SV Samson"
           ],
           "legendgroup": "SV Samson",
           "marker": {
            "color": "#EF553B",
            "symbol": "circle"
           },
           "mode": "markers",
           "name": "SV Samson",
           "orientation": "v",
           "showlegend": true,
           "type": "scatter",
           "x": [
            1136575
           ],
           "xaxis": "x",
           "y": [
            87.5
           ],
           "yaxis": "y"
          }
         ],
         "name": "1136575"
        },
        {
         "data": [
          {
           "hovertemplate": "batter=AM Rahane<br>matchid=%{x}<br>strike_rate=%{y}<extra></extra>",
           "ids": [
            "AM Rahane"
           ],
           "legendgroup": "AM Rahane",
           "marker": {
            "color": "#FF97FF",
            "symbol": "circle"
           },
           "mode": "markers",
           "name": "AM Rahane",
           "orientation": "v",
           "showlegend": true,
           "type": "scatter",
           "x": [
            1136577
           ],
           "xaxis": "x",
           "y": [
            123.07692307692308
           ],
           "yaxis": "y"
          },
          {
           "hovertemplate": "batter=AT Rayudu<br>matchid=%{x}<br>strike_rate=%{y}<extra></extra>",
           "ids": [
            "AT Rayudu"
           ],
           "legendgroup": "AT Rayudu",
           "marker": {
            "color": "#EF553B",
            "symbol": "circle"
           },
           "mode": "markers",
           "name": "AT Rayudu",
           "orientation": "v",
           "showlegend": true,
           "type": "scatter",
           "x": [
            1136577
           ],
           "xaxis": "x",
           "y": [
            150
           ],
           "yaxis": "y"
          },
          {
           "hovertemplate": "batter=B Laughlin<br>matchid=%{x}<br>strike_rate=%{y}<extra></extra>",
           "ids": [
            "B Laughlin"
           ],
           "legendgroup": "B Laughlin",
           "marker": {
            "color": "#19d3f3",
            "symbol": "circle"
           },
           "mode": "markers",
           "name": "B Laughlin",
           "orientation": "v",
           "showlegend": true,
           "type": "scatter",
           "x": [
            1136577
           ],
           "xaxis": "x",
           "y": [
            0
           ],
           "yaxis": "y"
          },
          {
           "hovertemplate": "batter=BA Stokes<br>matchid=%{x}<br>strike_rate=%{y}<extra></extra>",
           "ids": [
            "BA Stokes"
           ],
           "legendgroup": "BA Stokes",
           "marker": {
            "color": "#B6E880",
            "symbol": "circle"
           },
           "mode": "markers",
           "name": "BA Stokes",
           "orientation": "v",
           "showlegend": true,
           "type": "scatter",
           "x": [
            1136577
           ],
           "xaxis": "x",
           "y": [
            118.42105263157893
           ],
           "yaxis": "y"
          },
          {
           "hovertemplate": "batter=DJ Bravo<br>matchid=%{x}<br>strike_rate=%{y}<extra></extra>",
           "ids": [
            "DJ Bravo"
           ],
           "legendgroup": "DJ Bravo",
           "marker": {
            "color": "#EF553B",
            "symbol": "circle"
           },
           "mode": "markers",
           "name": "DJ Bravo",
           "orientation": "v",
           "showlegend": true,
           "type": "scatter",
           "x": [
            1136577
           ],
           "xaxis": "x",
           "y": [
            133.33333333333331
           ],
           "yaxis": "y"
          },
          {
           "hovertemplate": "batter=H Klaasen<br>matchid=%{x}<br>strike_rate=%{y}<extra></extra>",
           "ids": [
            "H Klaasen"
           ],
           "legendgroup": "H Klaasen",
           "marker": {
            "color": "#00cc96",
            "symbol": "circle"
           },
           "mode": "markers",
           "name": "H Klaasen",
           "orientation": "v",
           "showlegend": true,
           "type": "scatter",
           "x": [
            1136577
           ],
           "xaxis": "x",
           "y": [
            100
           ],
           "yaxis": "y"
          },
          {
           "hovertemplate": "batter=JC Buttler<br>matchid=%{x}<br>strike_rate=%{y}<extra></extra>",
           "ids": [
            "JC Buttler"
           ],
           "legendgroup": "JC Buttler",
           "marker": {
            "color": "#636efa",
            "symbol": "circle"
           },
           "mode": "markers",
           "name": "JC Buttler",
           "orientation": "v",
           "showlegend": true,
           "type": "scatter",
           "x": [
            1136577
           ],
           "xaxis": "x",
           "y": [
            110.00000000000001
           ],
           "yaxis": "y"
          },
          {
           "hovertemplate": "batter=JD Unadkat<br>matchid=%{x}<br>strike_rate=%{y}<extra></extra>",
           "ids": [
            "JD Unadkat"
           ],
           "legendgroup": "JD Unadkat",
           "marker": {
            "color": "#EF553B",
            "symbol": "circle"
           },
           "mode": "markers",
           "name": "JD Unadkat",
           "orientation": "v",
           "showlegend": true,
           "type": "scatter",
           "x": [
            1136577
           ],
           "xaxis": "x",
           "y": [
            160
           ],
           "yaxis": "y"
          },
          {
           "hovertemplate": "batter=K Gowtham<br>matchid=%{x}<br>strike_rate=%{y}<extra></extra>",
           "ids": [
            "K Gowtham"
           ],
           "legendgroup": "K Gowtham",
           "marker": {
            "color": "#FF6692",
            "symbol": "circle"
           },
           "mode": "markers",
           "name": "K Gowtham",
           "orientation": "v",
           "showlegend": true,
           "type": "scatter",
           "x": [
            1136577
           ],
           "xaxis": "x",
           "y": [
            50
           ],
           "yaxis": "y"
          },
          {
           "hovertemplate": "batter=MS Dhoni<br>matchid=%{x}<br>strike_rate=%{y}<extra></extra>",
           "ids": [
            "MS Dhoni"
           ],
           "legendgroup": "MS Dhoni",
           "marker": {
            "color": "#EF553B",
            "symbol": "circle"
           },
           "mode": "markers",
           "name": "MS Dhoni",
           "orientation": "v",
           "showlegend": true,
           "type": "scatter",
           "x": [
            1136577
           ],
           "xaxis": "x",
           "y": [
            166.66666666666669
           ],
           "yaxis": "y"
          },
          {
           "hovertemplate": "batter=RA Jadeja<br>matchid=%{x}<br>strike_rate=%{y}<extra></extra>",
           "ids": [
            "RA Jadeja"
           ],
           "legendgroup": "RA Jadeja",
           "marker": {
            "color": "#636efa",
            "symbol": "circle"
           },
           "mode": "markers",
           "name": "RA Jadeja",
           "orientation": "v",
           "showlegend": true,
           "type": "scatter",
           "x": [
            1136577
           ],
           "xaxis": "x",
           "y": [
            200
           ],
           "yaxis": "y"
          },
          {
           "hovertemplate": "batter=RA Tripathi<br>matchid=%{x}<br>strike_rate=%{y}<extra></extra>",
           "ids": [
            "RA Tripathi"
           ],
           "legendgroup": "RA Tripathi",
           "marker": {
            "color": "#EF553B",
            "symbol": "circle"
           },
           "mode": "markers",
           "name": "RA Tripathi",
           "orientation": "v",
           "showlegend": true,
           "type": "scatter",
           "x": [
            1136577
           ],
           "xaxis": "x",
           "y": [
            71.42857142857143
           ],
           "yaxis": "y"
          },
          {
           "hovertemplate": "batter=S Gopal<br>matchid=%{x}<br>strike_rate=%{y}<extra></extra>",
           "ids": [
            "S Gopal"
           ],
           "legendgroup": "S Gopal",
           "marker": {
            "color": "#FECB52",
            "symbol": "circle"
           },
           "mode": "markers",
           "name": "S Gopal",
           "orientation": "v",
           "showlegend": true,
           "type": "scatter",
           "x": [
            1136577
           ],
           "xaxis": "x",
           "y": [
            80
           ],
           "yaxis": "y"
          },
          {
           "hovertemplate": "batter=SK Raina<br>matchid=%{x}<br>strike_rate=%{y}<extra></extra>",
           "ids": [
            "SK Raina"
           ],
           "legendgroup": "SK Raina",
           "marker": {
            "color": "#ab63fa",
            "symbol": "circle"
           },
           "mode": "markers",
           "name": "SK Raina",
           "orientation": "v",
           "showlegend": true,
           "type": "scatter",
           "x": [
            1136577
           ],
           "xaxis": "x",
           "y": [
            148.38709677419354
           ],
           "yaxis": "y"
          },
          {
           "hovertemplate": "batter=SR Watson<br>matchid=%{x}<br>strike_rate=%{y}<extra></extra>",
           "ids": [
            "SR Watson"
           ],
           "legendgroup": "SR Watson",
           "marker": {
            "color": "#FF97FF",
            "symbol": "circle"
           },
           "mode": "markers",
           "name": "SR Watson",
           "orientation": "v",
           "showlegend": true,
           "type": "scatter",
           "x": [
            1136577
           ],
           "xaxis": "x",
           "y": [
            182.75862068965517
           ],
           "yaxis": "y"
          },
          {
           "hovertemplate": "batter=STR Binny<br>matchid=%{x}<br>strike_rate=%{y}<extra></extra>",
           "ids": [
            "STR Binny"
           ],
           "legendgroup": "STR Binny",
           "marker": {
            "color": "#636efa",
            "symbol": "circle"
           },
           "mode": "markers",
           "name": "STR Binny",
           "orientation": "v",
           "showlegend": true,
           "type": "scatter",
           "x": [
            1136577
           ],
           "xaxis": "x",
           "y": [
            125
           ],
           "yaxis": "y"
          },
          {
           "hovertemplate": "batter=SV Samson<br>matchid=%{x}<br>strike_rate=%{y}<extra></extra>",
           "ids": [
            "SV Samson"
           ],
           "legendgroup": "SV Samson",
           "marker": {
            "color": "#EF553B",
            "symbol": "circle"
           },
           "mode": "markers",
           "name": "SV Samson",
           "orientation": "v",
           "showlegend": true,
           "type": "scatter",
           "x": [
            1136577
           ],
           "xaxis": "x",
           "y": [
            66.66666666666666
           ],
           "yaxis": "y"
          },
          {
           "hovertemplate": "batter=SW Billings<br>matchid=%{x}<br>strike_rate=%{y}<extra></extra>",
           "ids": [
            "SW Billings"
           ],
           "legendgroup": "SW Billings",
           "marker": {
            "color": "#00cc96",
            "symbol": "circle"
           },
           "mode": "markers",
           "name": "SW Billings",
           "orientation": "v",
           "showlegend": true,
           "type": "scatter",
           "x": [
            1136577
           ],
           "xaxis": "x",
           "y": [
            42.857142857142854
           ],
           "yaxis": "y"
          }
         ],
         "name": "1136577"
        },
        {
         "data": [
          {
           "hovertemplate": "batter=AM Rahane<br>matchid=%{x}<br>strike_rate=%{y}<extra></extra>",
           "ids": [
            "AM Rahane"
           ],
           "legendgroup": "AM Rahane",
           "marker": {
            "color": "#FF97FF",
            "symbol": "circle"
           },
           "mode": "markers",
           "name": "AM Rahane",
           "orientation": "v",
           "showlegend": true,
           "type": "scatter",
           "x": [
            1136581
           ],
           "xaxis": "x",
           "y": [
            82.35294117647058
           ],
           "yaxis": "y"
          },
          {
           "hovertemplate": "batter=BA Stokes<br>matchid=%{x}<br>strike_rate=%{y}<extra></extra>",
           "ids": [
            "BA Stokes"
           ],
           "legendgroup": "BA Stokes",
           "marker": {
            "color": "#B6E880",
            "symbol": "circle"
           },
           "mode": "markers",
           "name": "BA Stokes",
           "orientation": "v",
           "showlegend": true,
           "type": "scatter",
           "x": [
            1136581
           ],
           "xaxis": "x",
           "y": [
            137.93103448275863
           ],
           "yaxis": "y"
          },
          {
           "hovertemplate": "batter=E Lewis<br>matchid=%{x}<br>strike_rate=%{y}<extra></extra>",
           "ids": [
            "E Lewis"
           ],
           "legendgroup": "E Lewis",
           "marker": {
            "color": "#FF97FF",
            "symbol": "circle"
           },
           "mode": "markers",
           "name": "E Lewis",
           "orientation": "v",
           "showlegend": true,
           "type": "scatter",
           "x": [
            1136581
           ],
           "xaxis": "x",
           "y": [
            0
           ],
           "yaxis": "y"
          },
          {
           "hovertemplate": "batter=H Klaasen<br>matchid=%{x}<br>strike_rate=%{y}<extra></extra>",
           "ids": [
            "H Klaasen"
           ],
           "legendgroup": "H Klaasen",
           "marker": {
            "color": "#00cc96",
            "symbol": "circle"
           },
           "mode": "markers",
           "name": "H Klaasen",
           "orientation": "v",
           "showlegend": true,
           "type": "scatter",
           "x": [
            1136581
           ],
           "xaxis": "x",
           "y": [
            0
           ],
           "yaxis": "y"
          },
          {
           "hovertemplate": "batter=HH Pandya<br>matchid=%{x}<br>strike_rate=%{y}<extra></extra>",
           "ids": [
            "HH Pandya"
           ],
           "legendgroup": "HH Pandya",
           "marker": {
            "color": "#ab63fa",
            "symbol": "circle"
           },
           "mode": "markers",
           "name": "HH Pandya",
           "orientation": "v",
           "showlegend": true,
           "type": "scatter",
           "x": [
            1136581
           ],
           "xaxis": "x",
           "y": [
            200
           ],
           "yaxis": "y"
          },
          {
           "hovertemplate": "batter=Ishan Kishan<br>matchid=%{x}<br>strike_rate=%{y}<extra></extra>",
           "ids": [
            "Ishan Kishan"
           ],
           "legendgroup": "Ishan Kishan",
           "marker": {
            "color": "#FF97FF",
            "symbol": "circle"
           },
           "mode": "markers",
           "name": "Ishan Kishan",
           "orientation": "v",
           "showlegend": true,
           "type": "scatter",
           "x": [
            1136581
           ],
           "xaxis": "x",
           "y": [
            138.0952380952381
           ],
           "yaxis": "y"
          },
          {
           "hovertemplate": "batter=JC Archer<br>matchid=%{x}<br>strike_rate=%{y}<extra></extra>",
           "ids": [
            "JC Archer"
           ],
           "legendgroup": "JC Archer",
           "marker": {
            "color": "#FECB52",
            "symbol": "circle"
           },
           "mode": "markers",
           "name": "JC Archer",
           "orientation": "v",
           "showlegend": true,
           "type": "scatter",
           "x": [
            1136581
           ],
           "xaxis": "x",
           "y": [
            88.88888888888889
           ],
           "yaxis": "y"
          },
          {
           "hovertemplate": "batter=JC Buttler<br>matchid=%{x}<br>strike_rate=%{y}<extra></extra>",
           "ids": [
            "JC Buttler"
           ],
           "legendgroup": "JC Buttler",
           "marker": {
            "color": "#636efa",
            "symbol": "circle"
           },
           "mode": "markers",
           "name": "JC Buttler",
           "orientation": "v",
           "showlegend": true,
           "type": "scatter",
           "x": [
            1136581
           ],
           "xaxis": "x",
           "y": [
            75
           ],
           "yaxis": "y"
          },
          {
           "hovertemplate": "batter=K Gowtham<br>matchid=%{x}<br>strike_rate=%{y}<extra></extra>",
           "ids": [
            "K Gowtham"
           ],
           "legendgroup": "K Gowtham",
           "marker": {
            "color": "#FF6692",
            "symbol": "circle"
           },
           "mode": "markers",
           "name": "K Gowtham",
           "orientation": "v",
           "showlegend": true,
           "type": "scatter",
           "x": [
            1136581
           ],
           "xaxis": "x",
           "y": [
            300
           ],
           "yaxis": "y"
          },
          {
           "hovertemplate": "batter=KA Pollard<br>matchid=%{x}<br>strike_rate=%{y}<extra></extra>",
           "ids": [
            "KA Pollard"
           ],
           "legendgroup": "KA Pollard",
           "marker": {
            "color": "#B6E880",
            "symbol": "circle"
           },
           "mode": "markers",
           "name": "KA Pollard",
           "orientation": "v",
           "showlegend": true,
           "type": "scatter",
           "x": [
            1136581
           ],
           "xaxis": "x",
           "y": [
            105
           ],
           "yaxis": "y"
          },
          {
           "hovertemplate": "batter=KH Pandya<br>matchid=%{x}<br>strike_rate=%{y}<extra></extra>",
           "ids": [
            "KH Pandya"
           ],
           "legendgroup": "KH Pandya",
           "marker": {
            "color": "#FECB52",
            "symbol": "circle"
           },
           "mode": "markers",
           "name": "KH Pandya",
           "orientation": "v",
           "showlegend": true,
           "type": "scatter",
           "x": [
            1136581
           ],
           "xaxis": "x",
           "y": [
            116.66666666666667
           ],
           "yaxis": "y"
          },
          {
           "hovertemplate": "batter=M Markande<br>matchid=%{x}<br>strike_rate=%{y}<extra></extra>",
           "ids": [
            "M Markande"
           ],
           "legendgroup": "M Markande",
           "marker": {
            "color": "#B6E880",
            "symbol": "circle"
           },
           "mode": "markers",
           "name": "M Markande",
           "orientation": "v",
           "showlegend": true,
           "type": "scatter",
           "x": [
            1136581
           ],
           "xaxis": "x",
           "y": [
            0
           ],
           "yaxis": "y"
          },
          {
           "hovertemplate": "batter=MJ McClenaghan<br>matchid=%{x}<br>strike_rate=%{y}<extra></extra>",
           "ids": [
            "MJ McClenaghan"
           ],
           "legendgroup": "MJ McClenaghan",
           "marker": {
            "color": "#FFA15A",
            "symbol": "circle"
           },
           "mode": "markers",
           "name": "MJ McClenaghan",
           "orientation": "v",
           "showlegend": true,
           "type": "scatter",
           "x": [
            1136581
           ],
           "xaxis": "x",
           "y": [
            0
           ],
           "yaxis": "y"
          },
          {
           "hovertemplate": "batter=RA Tripathi<br>matchid=%{x}<br>strike_rate=%{y}<extra></extra>",
           "ids": [
            "RA Tripathi"
           ],
           "legendgroup": "RA Tripathi",
           "marker": {
            "color": "#EF553B",
            "symbol": "circle"
           },
           "mode": "markers",
           "name": "RA Tripathi",
           "orientation": "v",
           "showlegend": true,
           "type": "scatter",
           "x": [
            1136581
           ],
           "xaxis": "x",
           "y": [
            100
           ],
           "yaxis": "y"
          },
          {
           "hovertemplate": "batter=RG Sharma<br>matchid=%{x}<br>strike_rate=%{y}<extra></extra>",
           "ids": [
            "RG Sharma"
           ],
           "legendgroup": "RG Sharma",
           "marker": {
            "color": "#00cc96",
            "symbol": "circle"
           },
           "mode": "markers",
           "name": "RG Sharma",
           "orientation": "v",
           "showlegend": true,
           "type": "scatter",
           "x": [
            1136581
           ],
           "xaxis": "x",
           "y": [
            0
           ],
           "yaxis": "y"
          },
          {
           "hovertemplate": "batter=SA Yadav<br>matchid=%{x}<br>strike_rate=%{y}<extra></extra>",
           "ids": [
            "SA Yadav"
           ],
           "legendgroup": "SA Yadav",
           "marker": {
            "color": "#00cc96",
            "symbol": "circle"
           },
           "mode": "markers",
           "name": "SA Yadav",
           "orientation": "v",
           "showlegend": true,
           "type": "scatter",
           "x": [
            1136581
           ],
           "xaxis": "x",
           "y": [
            144
           ],
           "yaxis": "y"
          },
          {
           "hovertemplate": "batter=SV Samson<br>matchid=%{x}<br>strike_rate=%{y}<extra></extra>",
           "ids": [
            "SV Samson"
           ],
           "legendgroup": "SV Samson",
           "marker": {
            "color": "#EF553B",
            "symbol": "circle"
           },
           "mode": "markers",
           "name": "SV Samson",
           "orientation": "v",
           "showlegend": true,
           "type": "scatter",
           "x": [
            1136581
           ],
           "xaxis": "x",
           "y": [
            130
           ],
           "yaxis": "y"
          }
         ],
         "name": "1136581"
        },
        {
         "data": [
          {
           "hovertemplate": "batter=AM Rahane<br>matchid=%{x}<br>strike_rate=%{y}<extra></extra>",
           "ids": [
            "AM Rahane"
           ],
           "legendgroup": "AM Rahane",
           "marker": {
            "color": "#FF97FF",
            "symbol": "circle"
           },
           "mode": "markers",
           "name": "AM Rahane",
           "orientation": "v",
           "showlegend": true,
           "type": "scatter",
           "x": [
            1136598
           ],
           "xaxis": "x",
           "y": [
            71.42857142857143
           ],
           "yaxis": "y"
          },
          {
           "hovertemplate": "batter=AR Patel<br>matchid=%{x}<br>strike_rate=%{y}<extra></extra>",
           "ids": [
            "AR Patel"
           ],
           "legendgroup": "AR Patel",
           "marker": {
            "color": "#FECB52",
            "symbol": "circle"
           },
           "mode": "markers",
           "name": "AR Patel",
           "orientation": "v",
           "showlegend": true,
           "type": "scatter",
           "x": [
            1136598
           ],
           "xaxis": "x",
           "y": [
            80
           ],
           "yaxis": "y"
          },
          {
           "hovertemplate": "batter=BA Stokes<br>matchid=%{x}<br>strike_rate=%{y}<extra></extra>",
           "ids": [
            "BA Stokes"
           ],
           "legendgroup": "BA Stokes",
           "marker": {
            "color": "#B6E880",
            "symbol": "circle"
           },
           "mode": "markers",
           "name": "BA Stokes",
           "orientation": "v",
           "showlegend": true,
           "type": "scatter",
           "x": [
            1136598
           ],
           "xaxis": "x",
           "y": [
            133.33333333333331
           ],
           "yaxis": "y"
          },
          {
           "hovertemplate": "batter=CH Gayle<br>matchid=%{x}<br>strike_rate=%{y}<extra></extra>",
           "ids": [
            "CH Gayle"
           ],
           "legendgroup": "CH Gayle",
           "marker": {
            "color": "#19d3f3",
            "symbol": "circle"
           },
           "mode": "markers",
           "name": "CH Gayle",
           "orientation": "v",
           "showlegend": true,
           "type": "scatter",
           "x": [
            1136598
           ],
           "xaxis": "x",
           "y": [
            72.72727272727273
           ],
           "yaxis": "y"
          },
          {
           "hovertemplate": "batter=DJM Short<br>matchid=%{x}<br>strike_rate=%{y}<extra></extra>",
           "ids": [
            "DJM Short"
           ],
           "legendgroup": "DJM Short",
           "marker": {
            "color": "#ab63fa",
            "symbol": "circle"
           },
           "mode": "markers",
           "name": "DJM Short",
           "orientation": "v",
           "showlegend": true,
           "type": "scatter",
           "x": [
            1136598
           ],
           "xaxis": "x",
           "y": [
            100
           ],
           "yaxis": "y"
          },
          {
           "hovertemplate": "batter=JC Archer<br>matchid=%{x}<br>strike_rate=%{y}<extra></extra>",
           "ids": [
            "JC Archer"
           ],
           "legendgroup": "JC Archer",
           "marker": {
            "color": "#FECB52",
            "symbol": "circle"
           },
           "mode": "markers",
           "name": "JC Archer",
           "orientation": "v",
           "showlegend": true,
           "type": "scatter",
           "x": [
            1136598
           ],
           "xaxis": "x",
           "y": [
            0
           ],
           "yaxis": "y"
          },
          {
           "hovertemplate": "batter=JC Buttler<br>matchid=%{x}<br>strike_rate=%{y}<extra></extra>",
           "ids": [
            "JC Buttler"
           ],
           "legendgroup": "JC Buttler",
           "marker": {
            "color": "#636efa",
            "symbol": "circle"
           },
           "mode": "markers",
           "name": "JC Buttler",
           "orientation": "v",
           "showlegend": true,
           "type": "scatter",
           "x": [
            1136598
           ],
           "xaxis": "x",
           "y": [
            130.76923076923077
           ],
           "yaxis": "y"
          },
          {
           "hovertemplate": "batter=JD Unadkat<br>matchid=%{x}<br>strike_rate=%{y}<extra></extra>",
           "ids": [
            "JD Unadkat"
           ],
           "legendgroup": "JD Unadkat",
           "marker": {
            "color": "#EF553B",
            "symbol": "circle"
           },
           "mode": "markers",
           "name": "JD Unadkat",
           "orientation": "v",
           "showlegend": true,
           "type": "scatter",
           "x": [
            1136598
           ],
           "xaxis": "x",
           "y": [
            85.71428571428571
           ],
           "yaxis": "y"
          },
          {
           "hovertemplate": "batter=K Gowtham<br>matchid=%{x}<br>strike_rate=%{y}<extra></extra>",
           "ids": [
            "K Gowtham"
           ],
           "legendgroup": "K Gowtham",
           "marker": {
            "color": "#FF6692",
            "symbol": "circle"
           },
           "mode": "markers",
           "name": "K Gowtham",
           "orientation": "v",
           "showlegend": true,
           "type": "scatter",
           "x": [
            1136598
           ],
           "xaxis": "x",
           "y": [
            125
           ],
           "yaxis": "y"
          },
          {
           "hovertemplate": "batter=KK Nair<br>matchid=%{x}<br>strike_rate=%{y}<extra></extra>",
           "ids": [
            "KK Nair"
           ],
           "legendgroup": "KK Nair",
           "marker": {
            "color": "#636efa",
            "symbol": "circle"
           },
           "mode": "markers",
           "name": "KK Nair",
           "orientation": "v",
           "showlegend": true,
           "type": "scatter",
           "x": [
            1136598
           ],
           "xaxis": "x",
           "y": [
            134.7826086956522
           ],
           "yaxis": "y"
          },
          {
           "hovertemplate": "batter=KL Rahul<br>matchid=%{x}<br>strike_rate=%{y}<extra></extra>",
           "ids": [
            "KL Rahul"
           ],
           "legendgroup": "KL Rahul",
           "marker": {
            "color": "#EF553B",
            "symbol": "circle"
           },
           "mode": "markers",
           "name": "KL Rahul",
           "orientation": "v",
           "showlegend": true,
           "type": "scatter",
           "x": [
            1136598
           ],
           "xaxis": "x",
           "y": [
            150
           ],
           "yaxis": "y"
          },
          {
           "hovertemplate": "batter=MA Agarwal<br>matchid=%{x}<br>strike_rate=%{y}<extra></extra>",
           "ids": [
            "MA Agarwal"
           ],
           "legendgroup": "MA Agarwal",
           "marker": {
            "color": "#EF553B",
            "symbol": "circle"
           },
           "mode": "markers",
           "name": "MA Agarwal",
           "orientation": "v",
           "showlegend": true,
           "type": "scatter",
           "x": [
            1136598
           ],
           "xaxis": "x",
           "y": [
            66.66666666666666
           ],
           "yaxis": "y"
          },
          {
           "hovertemplate": "batter=MP Stoinis<br>matchid=%{x}<br>strike_rate=%{y}<extra></extra>",
           "ids": [
            "MP Stoinis"
           ],
           "legendgroup": "MP Stoinis",
           "marker": {
            "color": "#636efa",
            "symbol": "circle"
           },
           "mode": "markers",
           "name": "MP Stoinis",
           "orientation": "v",
           "showlegend": true,
           "type": "scatter",
           "x": [
            1136598
           ],
           "xaxis": "x",
           "y": [
            135.29411764705884
           ],
           "yaxis": "y"
          },
          {
           "hovertemplate": "batter=RA Tripathi<br>matchid=%{x}<br>strike_rate=%{y}<extra></extra>",
           "ids": [
            "RA Tripathi"
           ],
           "legendgroup": "RA Tripathi",
           "marker": {
            "color": "#EF553B",
            "symbol": "circle"
           },
           "mode": "markers",
           "name": "RA Tripathi",
           "orientation": "v",
           "showlegend": true,
           "type": "scatter",
           "x": [
            1136598
           ],
           "xaxis": "x",
           "y": [
            84.61538461538461
           ],
           "yaxis": "y"
          },
          {
           "hovertemplate": "batter=S Gopal<br>matchid=%{x}<br>strike_rate=%{y}<extra></extra>",
           "ids": [
            "S Gopal"
           ],
           "legendgroup": "S Gopal",
           "marker": {
            "color": "#FECB52",
            "symbol": "circle"
           },
           "mode": "markers",
           "name": "S Gopal",
           "orientation": "v",
           "showlegend": true,
           "type": "scatter",
           "x": [
            1136598
           ],
           "xaxis": "x",
           "y": [
            150
           ],
           "yaxis": "y"
          },
          {
           "hovertemplate": "batter=SV Samson<br>matchid=%{x}<br>strike_rate=%{y}<extra></extra>",
           "ids": [
            "SV Samson"
           ],
           "legendgroup": "SV Samson",
           "marker": {
            "color": "#EF553B",
            "symbol": "circle"
           },
           "mode": "markers",
           "name": "SV Samson",
           "orientation": "v",
           "showlegend": true,
           "type": "scatter",
           "x": [
            1136598
           ],
           "xaxis": "x",
           "y": [
            121.73913043478262
           ],
           "yaxis": "y"
          }
         ],
         "name": "1136598"
        },
        {
         "data": [
          {
           "hovertemplate": "batter=AM Rahane<br>matchid=%{x}<br>strike_rate=%{y}<extra></extra>",
           "ids": [
            "AM Rahane"
           ],
           "legendgroup": "AM Rahane",
           "marker": {
            "color": "#FF97FF",
            "symbol": "circle"
           },
           "mode": "markers",
           "name": "AM Rahane",
           "orientation": "v",
           "showlegend": true,
           "type": "scatter",
           "x": [
            1136603
           ],
           "xaxis": "x",
           "y": [
            133.33333333333331
           ],
           "yaxis": "y"
          },
          {
           "hovertemplate": "batter=AT Rayudu<br>matchid=%{x}<br>strike_rate=%{y}<extra></extra>",
           "ids": [
            "AT Rayudu"
           ],
           "legendgroup": "AT Rayudu",
           "marker": {
            "color": "#EF553B",
            "symbol": "circle"
           },
           "mode": "markers",
           "name": "AT Rayudu",
           "orientation": "v",
           "showlegend": true,
           "type": "scatter",
           "x": [
            1136603
           ],
           "xaxis": "x",
           "y": [
            133.33333333333331
           ],
           "yaxis": "y"
          },
          {
           "hovertemplate": "batter=BA Stokes<br>matchid=%{x}<br>strike_rate=%{y}<extra></extra>",
           "ids": [
            "BA Stokes"
           ],
           "legendgroup": "BA Stokes",
           "marker": {
            "color": "#B6E880",
            "symbol": "circle"
           },
           "mode": "markers",
           "name": "BA Stokes",
           "orientation": "v",
           "showlegend": true,
           "type": "scatter",
           "x": [
            1136603
           ],
           "xaxis": "x",
           "y": [
            157.14285714285714
           ],
           "yaxis": "y"
          },
          {
           "hovertemplate": "batter=DJ Bravo<br>matchid=%{x}<br>strike_rate=%{y}<extra></extra>",
           "ids": [
            "DJ Bravo"
           ],
           "legendgroup": "DJ Bravo",
           "marker": {
            "color": "#EF553B",
            "symbol": "circle"
           },
           "mode": "markers",
           "name": "DJ Bravo",
           "orientation": "v",
           "showlegend": true,
           "type": "scatter",
           "x": [
            1136603
           ],
           "xaxis": "x",
           "y": [
            100
           ],
           "yaxis": "y"
          },
          {
           "hovertemplate": "batter=JC Buttler<br>matchid=%{x}<br>strike_rate=%{y}<extra></extra>",
           "ids": [
            "JC Buttler"
           ],
           "legendgroup": "JC Buttler",
           "marker": {
            "color": "#636efa",
            "symbol": "circle"
           },
           "mode": "markers",
           "name": "JC Buttler",
           "orientation": "v",
           "showlegend": true,
           "type": "scatter",
           "x": [
            1136603
           ],
           "xaxis": "x",
           "y": [
            158.33333333333331
           ],
           "yaxis": "y"
          },
          {
           "hovertemplate": "batter=K Gowtham<br>matchid=%{x}<br>strike_rate=%{y}<extra></extra>",
           "ids": [
            "K Gowtham"
           ],
           "legendgroup": "K Gowtham",
           "marker": {
            "color": "#FF6692",
            "symbol": "circle"
           },
           "mode": "markers",
           "name": "K Gowtham",
           "orientation": "v",
           "showlegend": true,
           "type": "scatter",
           "x": [
            1136603
           ],
           "xaxis": "x",
           "y": [
            260
           ],
           "yaxis": "y"
          },
          {
           "hovertemplate": "batter=MS Dhoni<br>matchid=%{x}<br>strike_rate=%{y}<extra></extra>",
           "ids": [
            "MS Dhoni"
           ],
           "legendgroup": "MS Dhoni",
           "marker": {
            "color": "#EF553B",
            "symbol": "circle"
           },
           "mode": "markers",
           "name": "MS Dhoni",
           "orientation": "v",
           "showlegend": true,
           "type": "scatter",
           "x": [
            1136603
           ],
           "xaxis": "x",
           "y": [
            132
           ],
           "yaxis": "y"
          },
          {
           "hovertemplate": "batter=P Chopra<br>matchid=%{x}<br>strike_rate=%{y}<extra></extra>",
           "ids": [
            "P Chopra"
           ],
           "legendgroup": "P Chopra",
           "marker": {
            "color": "#636efa",
            "symbol": "circle"
           },
           "mode": "markers",
           "name": "P Chopra",
           "orientation": "v",
           "showlegend": true,
           "type": "scatter",
           "x": [
            1136603
           ],
           "xaxis": "x",
           "y": [
            133.33333333333331
           ],
           "yaxis": "y"
          },
          {
           "hovertemplate": "batter=SK Raina<br>matchid=%{x}<br>strike_rate=%{y}<extra></extra>",
           "ids": [
            "SK Raina"
           ],
           "legendgroup": "SK Raina",
           "marker": {
            "color": "#ab63fa",
            "symbol": "circle"
           },
           "mode": "markers",
           "name": "SK Raina",
           "orientation": "v",
           "showlegend": true,
           "type": "scatter",
           "x": [
            1136603
           ],
           "xaxis": "x",
           "y": [
            126.82926829268293
           ],
           "yaxis": "y"
          },
          {
           "hovertemplate": "batter=SR Watson<br>matchid=%{x}<br>strike_rate=%{y}<extra></extra>",
           "ids": [
            "SR Watson"
           ],
           "legendgroup": "SR Watson",
           "marker": {
            "color": "#FF97FF",
            "symbol": "circle"
           },
           "mode": "markers",
           "name": "SR Watson",
           "orientation": "v",
           "showlegend": true,
           "type": "scatter",
           "x": [
            1136603
           ],
           "xaxis": "x",
           "y": [
            118.18181818181819
           ],
           "yaxis": "y"
          },
          {
           "hovertemplate": "batter=STR Binny<br>matchid=%{x}<br>strike_rate=%{y}<extra></extra>",
           "ids": [
            "STR Binny"
           ],
           "legendgroup": "STR Binny",
           "marker": {
            "color": "#636efa",
            "symbol": "circle"
           },
           "mode": "markers",
           "name": "STR Binny",
           "orientation": "v",
           "showlegend": true,
           "type": "scatter",
           "x": [
            1136603
           ],
           "xaxis": "x",
           "y": [
            129.41176470588235
           ],
           "yaxis": "y"
          },
          {
           "hovertemplate": "batter=SV Samson<br>matchid=%{x}<br>strike_rate=%{y}<extra></extra>",
           "ids": [
            "SV Samson"
           ],
           "legendgroup": "SV Samson",
           "marker": {
            "color": "#EF553B",
            "symbol": "circle"
           },
           "mode": "markers",
           "name": "SV Samson",
           "orientation": "v",
           "showlegend": true,
           "type": "scatter",
           "x": [
            1136603
           ],
           "xaxis": "x",
           "y": [
            91.30434782608695
           ],
           "yaxis": "y"
          },
          {
           "hovertemplate": "batter=SW Billings<br>matchid=%{x}<br>strike_rate=%{y}<extra></extra>",
           "ids": [
            "SW Billings"
           ],
           "legendgroup": "SW Billings",
           "marker": {
            "color": "#00cc96",
            "symbol": "circle"
           },
           "mode": "markers",
           "name": "SW Billings",
           "orientation": "v",
           "showlegend": true,
           "type": "scatter",
           "x": [
            1136603
           ],
           "xaxis": "x",
           "y": [
            122.72727272727273
           ],
           "yaxis": "y"
          }
         ],
         "name": "1136603"
        },
        {
         "data": [
          {
           "hovertemplate": "batter=AM Rahane<br>matchid=%{x}<br>strike_rate=%{y}<extra></extra>",
           "ids": [
            "AM Rahane"
           ],
           "legendgroup": "AM Rahane",
           "marker": {
            "color": "#FF97FF",
            "symbol": "circle"
           },
           "mode": "markers",
           "name": "AM Rahane",
           "orientation": "v",
           "showlegend": true,
           "type": "scatter",
           "x": [
            1136607
           ],
           "xaxis": "x",
           "y": [
            100
           ],
           "yaxis": "y"
          },
          {
           "hovertemplate": "batter=BCJ Cutting<br>matchid=%{x}<br>strike_rate=%{y}<extra></extra>",
           "ids": [
            "BCJ Cutting"
           ],
           "legendgroup": "BCJ Cutting",
           "marker": {
            "color": "#636efa",
            "symbol": "circle"
           },
           "mode": "markers",
           "name": "BCJ Cutting",
           "orientation": "v",
           "showlegend": true,
           "type": "scatter",
           "x": [
            1136607
           ],
           "xaxis": "x",
           "y": [
            142.85714285714286
           ],
           "yaxis": "y"
          },
          {
           "hovertemplate": "batter=DJM Short<br>matchid=%{x}<br>strike_rate=%{y}<extra></extra>",
           "ids": [
            "DJM Short"
           ],
           "legendgroup": "DJM Short",
           "marker": {
            "color": "#ab63fa",
            "symbol": "circle"
           },
           "mode": "markers",
           "name": "DJM Short",
           "orientation": "v",
           "showlegend": true,
           "type": "scatter",
           "x": [
            1136607
           ],
           "xaxis": "x",
           "y": [
            66.66666666666666
           ],
           "yaxis": "y"
          },
          {
           "hovertemplate": "batter=E Lewis<br>matchid=%{x}<br>strike_rate=%{y}<extra></extra>",
           "ids": [
            "E Lewis"
           ],
           "legendgroup": "E Lewis",
           "marker": {
            "color": "#FF97FF",
            "symbol": "circle"
           },
           "mode": "markers",
           "name": "E Lewis",
           "orientation": "v",
           "showlegend": true,
           "type": "scatter",
           "x": [
            1136607
           ],
           "xaxis": "x",
           "y": [
            133.33333333333331
           ],
           "yaxis": "y"
          },
          {
           "hovertemplate": "batter=HH Pandya<br>matchid=%{x}<br>strike_rate=%{y}<extra></extra>",
           "ids": [
            "HH Pandya"
           ],
           "legendgroup": "HH Pandya",
           "marker": {
            "color": "#ab63fa",
            "symbol": "circle"
           },
           "mode": "markers",
           "name": "HH Pandya",
           "orientation": "v",
           "showlegend": true,
           "type": "scatter",
           "x": [
            1136607
           ],
           "xaxis": "x",
           "y": [
            156.52173913043478
           ],
           "yaxis": "y"
          },
          {
           "hovertemplate": "batter=Ishan Kishan<br>matchid=%{x}<br>strike_rate=%{y}<extra></extra>",
           "ids": [
            "Ishan Kishan"
           ],
           "legendgroup": "Ishan Kishan",
           "marker": {
            "color": "#FF97FF",
            "symbol": "circle"
           },
           "mode": "markers",
           "name": "Ishan Kishan",
           "orientation": "v",
           "showlegend": true,
           "type": "scatter",
           "x": [
            1136607
           ],
           "xaxis": "x",
           "y": [
            109.09090909090908
           ],
           "yaxis": "y"
          },
          {
           "hovertemplate": "batter=JC Buttler<br>matchid=%{x}<br>strike_rate=%{y}<extra></extra>",
           "ids": [
            "JC Buttler"
           ],
           "legendgroup": "JC Buttler",
           "marker": {
            "color": "#636efa",
            "symbol": "circle"
           },
           "mode": "markers",
           "name": "JC Buttler",
           "orientation": "v",
           "showlegend": true,
           "type": "scatter",
           "x": [
            1136607
           ],
           "xaxis": "x",
           "y": [
            174.07407407407408
           ],
           "yaxis": "y"
          },
          {
           "hovertemplate": "batter=KH Pandya<br>matchid=%{x}<br>strike_rate=%{y}<extra></extra>",
           "ids": [
            "KH Pandya"
           ],
           "legendgroup": "KH Pandya",
           "marker": {
            "color": "#FECB52",
            "symbol": "circle"
           },
           "mode": "markers",
           "name": "KH Pandya",
           "orientation": "v",
           "showlegend": true,
           "type": "scatter",
           "x": [
            1136607
           ],
           "xaxis": "x",
           "y": [
            37.5
           ],
           "yaxis": "y"
          },
          {
           "hovertemplate": "batter=RG Sharma<br>matchid=%{x}<br>strike_rate=%{y}<extra></extra>",
           "ids": [
            "RG Sharma"
           ],
           "legendgroup": "RG Sharma",
           "marker": {
            "color": "#00cc96",
            "symbol": "circle"
           },
           "mode": "markers",
           "name": "RG Sharma",
           "orientation": "v",
           "showlegend": true,
           "type": "scatter",
           "x": [
            1136607
           ],
           "xaxis": "x",
           "y": [
            0
           ],
           "yaxis": "y"
          },
          {
           "hovertemplate": "batter=SA Yadav<br>matchid=%{x}<br>strike_rate=%{y}<extra></extra>",
           "ids": [
            "SA Yadav"
           ],
           "legendgroup": "SA Yadav",
           "marker": {
            "color": "#00cc96",
            "symbol": "circle"
           },
           "mode": "markers",
           "name": "SA Yadav",
           "orientation": "v",
           "showlegend": true,
           "type": "scatter",
           "x": [
            1136607
           ],
           "xaxis": "x",
           "y": [
            118.75
           ],
           "yaxis": "y"
          },
          {
           "hovertemplate": "batter=SV Samson<br>matchid=%{x}<br>strike_rate=%{y}<extra></extra>",
           "ids": [
            "SV Samson"
           ],
           "legendgroup": "SV Samson",
           "marker": {
            "color": "#EF553B",
            "symbol": "circle"
           },
           "mode": "markers",
           "name": "SV Samson",
           "orientation": "v",
           "showlegend": true,
           "type": "scatter",
           "x": [
            1136607
           ],
           "xaxis": "x",
           "y": [
            173.33333333333334
           ],
           "yaxis": "y"
          }
         ],
         "name": "1136607"
        },
        {
         "data": [
          {
           "hovertemplate": "batter=AR Patel<br>matchid=%{x}<br>strike_rate=%{y}<extra></extra>",
           "ids": [
            "AR Patel"
           ],
           "legendgroup": "AR Patel",
           "marker": {
            "color": "#FECB52",
            "symbol": "circle"
           },
           "mode": "markers",
           "name": "AR Patel",
           "orientation": "v",
           "showlegend": true,
           "type": "scatter",
           "x": [
            1136594
           ],
           "xaxis": "x",
           "y": [
            108.33333333333333
           ],
           "yaxis": "y"
          },
          {
           "hovertemplate": "batter=CH Gayle<br>matchid=%{x}<br>strike_rate=%{y}<extra></extra>",
           "ids": [
            "CH Gayle"
           ],
           "legendgroup": "CH Gayle",
           "marker": {
            "color": "#19d3f3",
            "symbol": "circle"
           },
           "mode": "markers",
           "name": "CH Gayle",
           "orientation": "v",
           "showlegend": true,
           "type": "scatter",
           "x": [
            1136594
           ],
           "xaxis": "x",
           "y": [
            113.63636363636364
           ],
           "yaxis": "y"
          },
          {
           "hovertemplate": "batter=E Lewis<br>matchid=%{x}<br>strike_rate=%{y}<extra></extra>",
           "ids": [
            "E Lewis"
           ],
           "legendgroup": "E Lewis",
           "marker": {
            "color": "#FF97FF",
            "symbol": "circle"
           },
           "mode": "markers",
           "name": "E Lewis",
           "orientation": "v",
           "showlegend": true,
           "type": "scatter",
           "x": [
            1136594
           ],
           "xaxis": "x",
           "y": [
            76.92307692307693
           ],
           "yaxis": "y"
          },
          {
           "hovertemplate": "batter=HH Pandya<br>matchid=%{x}<br>strike_rate=%{y}<extra></extra>",
           "ids": [
            "HH Pandya"
           ],
           "legendgroup": "HH Pandya",
           "marker": {
            "color": "#ab63fa",
            "symbol": "circle"
           },
           "mode": "markers",
           "name": "HH Pandya",
           "orientation": "v",
           "showlegend": true,
           "type": "scatter",
           "x": [
            1136594
           ],
           "xaxis": "x",
           "y": [
            176.9230769230769
           ],
           "yaxis": "y"
          },
          {
           "hovertemplate": "batter=Ishan Kishan<br>matchid=%{x}<br>strike_rate=%{y}<extra></extra>",
           "ids": [
            "Ishan Kishan"
           ],
           "legendgroup": "Ishan Kishan",
           "marker": {
            "color": "#FF97FF",
            "symbol": "circle"
           },
           "mode": "markers",
           "name": "Ishan Kishan",
           "orientation": "v",
           "showlegend": true,
           "type": "scatter",
           "x": [
            1136594
           ],
           "xaxis": "x",
           "y": [
            125
           ],
           "yaxis": "y"
          },
          {
           "hovertemplate": "batter=KH Pandya<br>matchid=%{x}<br>strike_rate=%{y}<extra></extra>",
           "ids": [
            "KH Pandya"
           ],
           "legendgroup": "KH Pandya",
           "marker": {
            "color": "#FECB52",
            "symbol": "circle"
           },
           "mode": "markers",
           "name": "KH Pandya",
           "orientation": "v",
           "showlegend": true,
           "type": "scatter",
           "x": [
            1136594
           ],
           "xaxis": "x",
           "y": [
            238.46153846153845
           ],
           "yaxis": "y"
          },
          {
           "hovertemplate": "batter=KK Nair<br>matchid=%{x}<br>strike_rate=%{y}<extra></extra>",
           "ids": [
            "KK Nair"
           ],
           "legendgroup": "KK Nair",
           "marker": {
            "color": "#636efa",
            "symbol": "circle"
           },
           "mode": "markers",
           "name": "KK Nair",
           "orientation": "v",
           "showlegend": true,
           "type": "scatter",
           "x": [
            1136594
           ],
           "xaxis": "x",
           "y": [
            191.66666666666669
           ],
           "yaxis": "y"
          },
          {
           "hovertemplate": "batter=KL Rahul<br>matchid=%{x}<br>strike_rate=%{y}<extra></extra>",
           "ids": [
            "KL Rahul"
           ],
           "legendgroup": "KL Rahul",
           "marker": {
            "color": "#EF553B",
            "symbol": "circle"
           },
           "mode": "markers",
           "name": "KL Rahul",
           "orientation": "v",
           "showlegend": true,
           "type": "scatter",
           "x": [
            1136594
           ],
           "xaxis": "x",
           "y": [
            120
           ],
           "yaxis": "y"
          },
          {
           "hovertemplate": "batter=MA Agarwal<br>matchid=%{x}<br>strike_rate=%{y}<extra></extra>",
           "ids": [
            "MA Agarwal"
           ],
           "legendgroup": "MA Agarwal",
           "marker": {
            "color": "#EF553B",
            "symbol": "circle"
           },
           "mode": "markers",
           "name": "MA Agarwal",
           "orientation": "v",
           "showlegend": true,
           "type": "scatter",
           "x": [
            1136594
           ],
           "xaxis": "x",
           "y": [
            157.14285714285714
           ],
           "yaxis": "y"
          },
          {
           "hovertemplate": "batter=MP Stoinis<br>matchid=%{x}<br>strike_rate=%{y}<extra></extra>",
           "ids": [
            "MP Stoinis"
           ],
           "legendgroup": "MP Stoinis",
           "marker": {
            "color": "#636efa",
            "symbol": "circle"
           },
           "mode": "markers",
           "name": "MP Stoinis",
           "orientation": "v",
           "showlegend": true,
           "type": "scatter",
           "x": [
            1136594
           ],
           "xaxis": "x",
           "y": [
            181.25
           ],
           "yaxis": "y"
          },
          {
           "hovertemplate": "batter=RG Sharma<br>matchid=%{x}<br>strike_rate=%{y}<extra></extra>",
           "ids": [
            "RG Sharma"
           ],
           "legendgroup": "RG Sharma",
           "marker": {
            "color": "#00cc96",
            "symbol": "circle"
           },
           "mode": "markers",
           "name": "RG Sharma",
           "orientation": "v",
           "showlegend": true,
           "type": "scatter",
           "x": [
            1136594
           ],
           "xaxis": "x",
           "y": [
            160
           ],
           "yaxis": "y"
          },
          {
           "hovertemplate": "batter=SA Yadav<br>matchid=%{x}<br>strike_rate=%{y}<extra></extra>",
           "ids": [
            "SA Yadav"
           ],
           "legendgroup": "SA Yadav",
           "marker": {
            "color": "#00cc96",
            "symbol": "circle"
           },
           "mode": "markers",
           "name": "SA Yadav",
           "orientation": "v",
           "showlegend": true,
           "type": "scatter",
           "x": [
            1136594
           ],
           "xaxis": "x",
           "y": [
            135.71428571428572
           ],
           "yaxis": "y"
          },
          {
           "hovertemplate": "batter=Yuvraj Singh<br>matchid=%{x}<br>strike_rate=%{y}<extra></extra>",
           "ids": [
            "Yuvraj Singh"
           ],
           "legendgroup": "Yuvraj Singh",
           "marker": {
            "color": "#B6E880",
            "symbol": "circle"
           },
           "mode": "markers",
           "name": "Yuvraj Singh",
           "orientation": "v",
           "showlegend": true,
           "type": "scatter",
           "x": [
            1136594
           ],
           "xaxis": "x",
           "y": [
            100
           ],
           "yaxis": "y"
          }
         ],
         "name": "1136594"
        },
        {
         "data": [
          {
           "hovertemplate": "batter=AT Rayudu<br>matchid=%{x}<br>strike_rate=%{y}<extra></extra>",
           "ids": [
            "AT Rayudu"
           ],
           "legendgroup": "AT Rayudu",
           "marker": {
            "color": "#EF553B",
            "symbol": "circle"
           },
           "mode": "markers",
           "name": "AT Rayudu",
           "orientation": "v",
           "showlegend": true,
           "type": "scatter",
           "x": [
            1136561
           ],
           "xaxis": "x",
           "y": [
            115.78947368421053
           ],
           "yaxis": "y"
          },
          {
           "hovertemplate": "batter=DJ Bravo<br>matchid=%{x}<br>strike_rate=%{y}<extra></extra>",
           "ids": [
            "DJ Bravo"
           ],
           "legendgroup": "DJ Bravo",
           "marker": {
            "color": "#EF553B",
            "symbol": "circle"
           },
           "mode": "markers",
           "name": "DJ Bravo",
           "orientation": "v",
           "showlegend": true,
           "type": "scatter",
           "x": [
            1136561
           ],
           "xaxis": "x",
           "y": [
            226.66666666666666
           ],
           "yaxis": "y"
          },
          {
           "hovertemplate": "batter=DL Chahar<br>matchid=%{x}<br>strike_rate=%{y}<extra></extra>",
           "ids": [
            "DL Chahar"
           ],
           "legendgroup": "DL Chahar",
           "marker": {
            "color": "#FFA15A",
            "symbol": "circle"
           },
           "mode": "markers",
           "name": "DL Chahar",
           "orientation": "v",
           "showlegend": true,
           "type": "scatter",
           "x": [
            1136561
           ],
           "xaxis": "x",
           "y": [
            0
           ],
           "yaxis": "y"
          },
          {
           "hovertemplate": "batter=E Lewis<br>matchid=%{x}<br>strike_rate=%{y}<extra></extra>",
           "ids": [
            "E Lewis"
           ],
           "legendgroup": "E Lewis",
           "marker": {
            "color": "#FF97FF",
            "symbol": "circle"
           },
           "mode": "markers",
           "name": "E Lewis",
           "orientation": "v",
           "showlegend": true,
           "type": "scatter",
           "x": [
            1136561
           ],
           "xaxis": "x",
           "y": [
            0
           ],
           "yaxis": "y"
          },
          {
           "hovertemplate": "batter=HH Pandya<br>matchid=%{x}<br>strike_rate=%{y}<extra></extra>",
           "ids": [
            "HH Pandya"
           ],
           "legendgroup": "HH Pandya",
           "marker": {
            "color": "#ab63fa",
            "symbol": "circle"
           },
           "mode": "markers",
           "name": "HH Pandya",
           "orientation": "v",
           "showlegend": true,
           "type": "scatter",
           "x": [
            1136561
           ],
           "xaxis": "x",
           "y": [
            110.00000000000001
           ],
           "yaxis": "y"
          },
          {
           "hovertemplate": "batter=Harbhajan Singh<br>matchid=%{x}<br>strike_rate=%{y}<extra></extra>",
           "ids": [
            "Harbhajan Singh"
           ],
           "legendgroup": "Harbhajan Singh",
           "marker": {
            "color": "#19d3f3",
            "symbol": "circle"
           },
           "mode": "markers",
           "name": "Harbhajan Singh",
           "orientation": "v",
           "showlegend": true,
           "type": "scatter",
           "x": [
            1136561
           ],
           "xaxis": "x",
           "y": [
            133.33333333333331
           ],
           "yaxis": "y"
          },
          {
           "hovertemplate": "batter=Imran Tahir<br>matchid=%{x}<br>strike_rate=%{y}<extra></extra>",
           "ids": [
            "Imran Tahir"
           ],
           "legendgroup": "Imran Tahir",
           "marker": {
            "color": "#B6E880",
            "symbol": "circle"
           },
           "mode": "markers",
           "name": "Imran Tahir",
           "orientation": "v",
           "showlegend": true,
           "type": "scatter",
           "x": [
            1136561
           ],
           "xaxis": "x",
           "y": [
            100
           ],
           "yaxis": "y"
          },
          {
           "hovertemplate": "batter=Ishan Kishan<br>matchid=%{x}<br>strike_rate=%{y}<extra></extra>",
           "ids": [
            "Ishan Kishan"
           ],
           "legendgroup": "Ishan Kishan",
           "marker": {
            "color": "#FF97FF",
            "symbol": "circle"
           },
           "mode": "markers",
           "name": "Ishan Kishan",
           "orientation": "v",
           "showlegend": true,
           "type": "scatter",
           "x": [
            1136561
           ],
           "xaxis": "x",
           "y": [
            137.93103448275863
           ],
           "yaxis": "y"
          },
          {
           "hovertemplate": "batter=KH Pandya<br>matchid=%{x}<br>strike_rate=%{y}<extra></extra>",
           "ids": [
            "KH Pandya"
           ],
           "legendgroup": "KH Pandya",
           "marker": {
            "color": "#FECB52",
            "symbol": "circle"
           },
           "mode": "markers",
           "name": "KH Pandya",
           "orientation": "v",
           "showlegend": true,
           "type": "scatter",
           "x": [
            1136561
           ],
           "xaxis": "x",
           "y": [
            178.26086956521738
           ],
           "yaxis": "y"
          },
          {
           "hovertemplate": "batter=KM Jadhav<br>matchid=%{x}<br>strike_rate=%{y}<extra></extra>",
           "ids": [
            "KM Jadhav"
           ],
           "legendgroup": "KM Jadhav",
           "marker": {
            "color": "#00cc96",
            "symbol": "circle"
           },
           "mode": "markers",
           "name": "KM Jadhav",
           "orientation": "v",
           "showlegend": true,
           "type": "scatter",
           "x": [
            1136561
           ],
           "xaxis": "x",
           "y": [
            104.34782608695652
           ],
           "yaxis": "y"
          },
          {
           "hovertemplate": "batter=MA Wood<br>matchid=%{x}<br>strike_rate=%{y}<extra></extra>",
           "ids": [
            "MA Wood"
           ],
           "legendgroup": "MA Wood",
           "marker": {
            "color": "#00cc96",
            "symbol": "circle"
           },
           "mode": "markers",
           "name": "MA Wood",
           "orientation": "v",
           "showlegend": true,
           "type": "scatter",
           "x": [
            1136561
           ],
           "xaxis": "x",
           "y": [
            20
           ],
           "yaxis": "y"
          },
          {
           "hovertemplate": "batter=MS Dhoni<br>matchid=%{x}<br>strike_rate=%{y}<extra></extra>",
           "ids": [
            "MS Dhoni"
           ],
           "legendgroup": "MS Dhoni",
           "marker": {
            "color": "#EF553B",
            "symbol": "circle"
           },
           "mode": "markers",
           "name": "MS Dhoni",
           "orientation": "v",
           "showlegend": true,
           "type": "scatter",
           "x": [
            1136561
           ],
           "xaxis": "x",
           "y": [
            100
           ],
           "yaxis": "y"
          },
          {
           "hovertemplate": "batter=RA Jadeja<br>matchid=%{x}<br>strike_rate=%{y}<extra></extra>",
           "ids": [
            "RA Jadeja"
           ],
           "legendgroup": "RA Jadeja",
           "marker": {
            "color": "#636efa",
            "symbol": "circle"
           },
           "mode": "markers",
           "name": "RA Jadeja",
           "orientation": "v",
           "showlegend": true,
           "type": "scatter",
           "x": [
            1136561
           ],
           "xaxis": "x",
           "y": [
            92.3076923076923
           ],
           "yaxis": "y"
          },
          {
           "hovertemplate": "batter=RG Sharma<br>matchid=%{x}<br>strike_rate=%{y}<extra></extra>",
           "ids": [
            "RG Sharma"
           ],
           "legendgroup": "RG Sharma",
           "marker": {
            "color": "#00cc96",
            "symbol": "circle"
           },
           "mode": "markers",
           "name": "RG Sharma",
           "orientation": "v",
           "showlegend": true,
           "type": "scatter",
           "x": [
            1136561
           ],
           "xaxis": "x",
           "y": [
            78.94736842105263
           ],
           "yaxis": "y"
          },
          {
           "hovertemplate": "batter=SA Yadav<br>matchid=%{x}<br>strike_rate=%{y}<extra></extra>",
           "ids": [
            "SA Yadav"
           ],
           "legendgroup": "SA Yadav",
           "marker": {
            "color": "#00cc96",
            "symbol": "circle"
           },
           "mode": "markers",
           "name": "SA Yadav",
           "orientation": "v",
           "showlegend": true,
           "type": "scatter",
           "x": [
            1136561
           ],
           "xaxis": "x",
           "y": [
            148.27586206896552
           ],
           "yaxis": "y"
          },
          {
           "hovertemplate": "batter=SK Raina<br>matchid=%{x}<br>strike_rate=%{y}<extra></extra>",
           "ids": [
            "SK Raina"
           ],
           "legendgroup": "SK Raina",
           "marker": {
            "color": "#ab63fa",
            "symbol": "circle"
           },
           "mode": "markers",
           "name": "SK Raina",
           "orientation": "v",
           "showlegend": true,
           "type": "scatter",
           "x": [
            1136561
           ],
           "xaxis": "x",
           "y": [
            66.66666666666666
           ],
           "yaxis": "y"
          },
          {
           "hovertemplate": "batter=SR Watson<br>matchid=%{x}<br>strike_rate=%{y}<extra></extra>",
           "ids": [
            "SR Watson"
           ],
           "legendgroup": "SR Watson",
           "marker": {
            "color": "#FF97FF",
            "symbol": "circle"
           },
           "mode": "markers",
           "name": "SR Watson",
           "orientation": "v",
           "showlegend": true,
           "type": "scatter",
           "x": [
            1136561
           ],
           "xaxis": "x",
           "y": [
            114.28571428571428
           ],
           "yaxis": "y"
          }
         ],
         "name": "1136561"
        },
        {
         "data": [
          {
           "hovertemplate": "batter=AT Rayudu<br>matchid=%{x}<br>strike_rate=%{y}<extra></extra>",
           "ids": [
            "AT Rayudu"
           ],
           "legendgroup": "AT Rayudu",
           "marker": {
            "color": "#EF553B",
            "symbol": "circle"
           },
           "mode": "markers",
           "name": "AT Rayudu",
           "orientation": "v",
           "showlegend": true,
           "type": "scatter",
           "x": [
            1136580
           ],
           "xaxis": "x",
           "y": [
            202.56410256410254
           ],
           "yaxis": "y"
          },
          {
           "hovertemplate": "batter=DJ Hooda<br>matchid=%{x}<br>strike_rate=%{y}<extra></extra>",
           "ids": [
            "DJ Hooda"
           ],
           "legendgroup": "DJ Hooda",
           "marker": {
            "color": "#00cc96",
            "symbol": "circle"
           },
           "mode": "markers",
           "name": "DJ Hooda",
           "orientation": "v",
           "showlegend": true,
           "type": "scatter",
           "x": [
            1136580
           ],
           "xaxis": "x",
           "y": [
            14.285714285714285
           ],
           "yaxis": "y"
          },
          {
           "hovertemplate": "batter=F du Plessis<br>matchid=%{x}<br>strike_rate=%{y}<extra></extra>",
           "ids": [
            "F du Plessis"
           ],
           "legendgroup": "F du Plessis",
           "marker": {
            "color": "#FECB52",
            "symbol": "circle"
           },
           "mode": "markers",
           "name": "F du Plessis",
           "orientation": "v",
           "showlegend": true,
           "type": "scatter",
           "x": [
            1136580
           ],
           "xaxis": "x",
           "y": [
            84.61538461538461
           ],
           "yaxis": "y"
          },
          {
           "hovertemplate": "batter=KS Williamson<br>matchid=%{x}<br>strike_rate=%{y}<extra></extra>",
           "ids": [
            "KS Williamson"
           ],
           "legendgroup": "KS Williamson",
           "marker": {
            "color": "#ab63fa",
            "symbol": "circle"
           },
           "mode": "markers",
           "name": "KS Williamson",
           "orientation": "v",
           "showlegend": true,
           "type": "scatter",
           "x": [
            1136580
           ],
           "xaxis": "x",
           "y": [
            161.53846153846155
           ],
           "yaxis": "y"
          },
          {
           "hovertemplate": "batter=MK Pandey<br>matchid=%{x}<br>strike_rate=%{y}<extra></extra>",
           "ids": [
            "MK Pandey"
           ],
           "legendgroup": "MK Pandey",
           "marker": {
            "color": "#FF6692",
            "symbol": "circle"
           },
           "mode": "markers",
           "name": "MK Pandey",
           "orientation": "v",
           "showlegend": true,
           "type": "scatter",
           "x": [
            1136580
           ],
           "xaxis": "x",
           "y": [
            0
           ],
           "yaxis": "y"
          },
          {
           "hovertemplate": "batter=MS Dhoni<br>matchid=%{x}<br>strike_rate=%{y}<extra></extra>",
           "ids": [
            "MS Dhoni"
           ],
           "legendgroup": "MS Dhoni",
           "marker": {
            "color": "#EF553B",
            "symbol": "circle"
           },
           "mode": "markers",
           "name": "MS Dhoni",
           "orientation": "v",
           "showlegend": true,
           "type": "scatter",
           "x": [
            1136580
           ],
           "xaxis": "x",
           "y": [
            208.33333333333334
           ],
           "yaxis": "y"
          },
          {
           "hovertemplate": "batter=RK Bhui<br>matchid=%{x}<br>strike_rate=%{y}<extra></extra>",
           "ids": [
            "RK Bhui"
           ],
           "legendgroup": "RK Bhui",
           "marker": {
            "color": "#ab63fa",
            "symbol": "circle"
           },
           "mode": "markers",
           "name": "RK Bhui",
           "orientation": "v",
           "showlegend": true,
           "type": "scatter",
           "x": [
            1136580
           ],
           "xaxis": "x",
           "y": [
            0
           ],
           "yaxis": "y"
          },
          {
           "hovertemplate": "batter=Rashid Khan<br>matchid=%{x}<br>strike_rate=%{y}<extra></extra>",
           "ids": [
            "Rashid Khan"
           ],
           "legendgroup": "Rashid Khan",
           "marker": {
            "color": "#B6E880",
            "symbol": "circle"
           },
           "mode": "markers",
           "name": "Rashid Khan",
           "orientation": "v",
           "showlegend": true,
           "type": "scatter",
           "x": [
            1136580
           ],
           "xaxis": "x",
           "y": [
            425
           ],
           "yaxis": "y"
          },
          {
           "hovertemplate": "batter=SK Raina<br>matchid=%{x}<br>strike_rate=%{y}<extra></extra>",
           "ids": [
            "SK Raina"
           ],
           "legendgroup": "SK Raina",
           "marker": {
            "color": "#ab63fa",
            "symbol": "circle"
           },
           "mode": "markers",
           "name": "SK Raina",
           "orientation": "v",
           "showlegend": true,
           "type": "scatter",
           "x": [
            1136580
           ],
           "xaxis": "x",
           "y": [
            122.72727272727273
           ],
           "yaxis": "y"
          },
          {
           "hovertemplate": "batter=SR Watson<br>matchid=%{x}<br>strike_rate=%{y}<extra></extra>",
           "ids": [
            "SR Watson"
           ],
           "legendgroup": "SR Watson",
           "marker": {
            "color": "#FF97FF",
            "symbol": "circle"
           },
           "mode": "markers",
           "name": "SR Watson",
           "orientation": "v",
           "showlegend": true,
           "type": "scatter",
           "x": [
            1136580
           ],
           "xaxis": "x",
           "y": [
            56.25
           ],
           "yaxis": "y"
          },
          {
           "hovertemplate": "batter=Shakib Al Hasan<br>matchid=%{x}<br>strike_rate=%{y}<extra></extra>",
           "ids": [
            "Shakib Al Hasan"
           ],
           "legendgroup": "Shakib Al Hasan",
           "marker": {
            "color": "#FFA15A",
            "symbol": "circle"
           },
           "mode": "markers",
           "name": "Shakib Al Hasan",
           "orientation": "v",
           "showlegend": true,
           "type": "scatter",
           "x": [
            1136580
           ],
           "xaxis": "x",
           "y": [
            126.3157894736842
           ],
           "yaxis": "y"
          },
          {
           "hovertemplate": "batter=WP Saha<br>matchid=%{x}<br>strike_rate=%{y}<extra></extra>",
           "ids": [
            "WP Saha"
           ],
           "legendgroup": "WP Saha",
           "marker": {
            "color": "#ab63fa",
            "symbol": "circle"
           },
           "mode": "markers",
           "name": "WP Saha",
           "orientation": "v",
           "showlegend": true,
           "type": "scatter",
           "x": [
            1136580
           ],
           "xaxis": "x",
           "y": [
            100
           ],
           "yaxis": "y"
          },
          {
           "hovertemplate": "batter=YK Pathan<br>matchid=%{x}<br>strike_rate=%{y}<extra></extra>",
           "ids": [
            "YK Pathan"
           ],
           "legendgroup": "YK Pathan",
           "marker": {
            "color": "#19d3f3",
            "symbol": "circle"
           },
           "mode": "markers",
           "name": "YK Pathan",
           "orientation": "v",
           "showlegend": true,
           "type": "scatter",
           "x": [
            1136580
           ],
           "xaxis": "x",
           "y": [
            160.71428571428572
           ],
           "yaxis": "y"
          }
         ],
         "name": "1136580"
        },
        {
         "data": [
          {
           "hovertemplate": "batter=AT Rayudu<br>matchid=%{x}<br>strike_rate=%{y}<extra></extra>",
           "ids": [
            "AT Rayudu"
           ],
           "legendgroup": "AT Rayudu",
           "marker": {
            "color": "#EF553B",
            "symbol": "circle"
           },
           "mode": "markers",
           "name": "AT Rayudu",
           "orientation": "v",
           "showlegend": true,
           "type": "scatter",
           "x": [
            1136587
           ],
           "xaxis": "x",
           "y": [
            127.77777777777777
           ],
           "yaxis": "y"
          },
          {
           "hovertemplate": "batter=DJ Bravo<br>matchid=%{x}<br>strike_rate=%{y}<extra></extra>",
           "ids": [
            "DJ Bravo"
           ],
           "legendgroup": "DJ Bravo",
           "marker": {
            "color": "#EF553B",
            "symbol": "circle"
           },
           "mode": "markers",
           "name": "DJ Bravo",
           "orientation": "v",
           "showlegend": true,
           "type": "scatter",
           "x": [
            1136587
           ],
           "xaxis": "x",
           "y": [
            0
           ],
           "yaxis": "y"
          },
          {
           "hovertemplate": "batter=E Lewis<br>matchid=%{x}<br>strike_rate=%{y}<extra></extra>",
           "ids": [
            "E Lewis"
           ],
           "legendgroup": "E Lewis",
           "marker": {
            "color": "#FF97FF",
            "symbol": "circle"
           },
           "mode": "markers",
           "name": "E Lewis",
           "orientation": "v",
           "showlegend": true,
           "type": "scatter",
           "x": [
            1136587
           ],
           "xaxis": "x",
           "y": [
            104.44444444444446
           ],
           "yaxis": "y"
          },
          {
           "hovertemplate": "batter=HH Pandya<br>matchid=%{x}<br>strike_rate=%{y}<extra></extra>",
           "ids": [
            "HH Pandya"
           ],
           "legendgroup": "HH Pandya",
           "marker": {
            "color": "#ab63fa",
            "symbol": "circle"
           },
           "mode": "markers",
           "name": "HH Pandya",
           "orientation": "v",
           "showlegend": true,
           "type": "scatter",
           "x": [
            1136587
           ],
           "xaxis": "x",
           "y": [
            162.5
           ],
           "yaxis": "y"
          },
          {
           "hovertemplate": "batter=MS Dhoni<br>matchid=%{x}<br>strike_rate=%{y}<extra></extra>",
           "ids": [
            "MS Dhoni"
           ],
           "legendgroup": "MS Dhoni",
           "marker": {
            "color": "#EF553B",
            "symbol": "circle"
           },
           "mode": "markers",
           "name": "MS Dhoni",
           "orientation": "v",
           "showlegend": true,
           "type": "scatter",
           "x": [
            1136587
           ],
           "xaxis": "x",
           "y": [
            113.04347826086956
           ],
           "yaxis": "y"
          },
          {
           "hovertemplate": "batter=RG Sharma<br>matchid=%{x}<br>strike_rate=%{y}<extra></extra>",
           "ids": [
            "RG Sharma"
           ],
           "legendgroup": "RG Sharma",
           "marker": {
            "color": "#00cc96",
            "symbol": "circle"
           },
           "mode": "markers",
           "name": "RG Sharma",
           "orientation": "v",
           "showlegend": true,
           "type": "scatter",
           "x": [
            1136587
           ],
           "xaxis": "x",
           "y": [
            160
           ],
           "yaxis": "y"
          },
          {
           "hovertemplate": "batter=SA Yadav<br>matchid=%{x}<br>strike_rate=%{y}<extra></extra>",
           "ids": [
            "SA Yadav"
           ],
           "legendgroup": "SA Yadav",
           "marker": {
            "color": "#00cc96",
            "symbol": "circle"
           },
           "mode": "markers",
           "name": "SA Yadav",
           "orientation": "v",
           "showlegend": true,
           "type": "scatter",
           "x": [
            1136587
           ],
           "xaxis": "x",
           "y": [
            125.71428571428571
           ],
           "yaxis": "y"
          },
          {
           "hovertemplate": "batter=SK Raina<br>matchid=%{x}<br>strike_rate=%{y}<extra></extra>",
           "ids": [
            "SK Raina"
           ],
           "legendgroup": "SK Raina",
           "marker": {
            "color": "#ab63fa",
            "symbol": "circle"
           },
           "mode": "markers",
           "name": "SK Raina",
           "orientation": "v",
           "showlegend": true,
           "type": "scatter",
           "x": [
            1136587
           ],
           "xaxis": "x",
           "y": [
            156.25
           ],
           "yaxis": "y"
          },
          {
           "hovertemplate": "batter=SR Watson<br>matchid=%{x}<br>strike_rate=%{y}<extra></extra>",
           "ids": [
            "SR Watson"
           ],
           "legendgroup": "SR Watson",
           "marker": {
            "color": "#FF97FF",
            "symbol": "circle"
           },
           "mode": "markers",
           "name": "SR Watson",
           "orientation": "v",
           "showlegend": true,
           "type": "scatter",
           "x": [
            1136587
           ],
           "xaxis": "x",
           "y": [
            109.09090909090908
           ],
           "yaxis": "y"
          },
          {
           "hovertemplate": "batter=SW Billings<br>matchid=%{x}<br>strike_rate=%{y}<extra></extra>",
           "ids": [
            "SW Billings"
           ],
           "legendgroup": "SW Billings",
           "marker": {
            "color": "#00cc96",
            "symbol": "circle"
           },
           "mode": "markers",
           "name": "SW Billings",
           "orientation": "v",
           "showlegend": true,
           "type": "scatter",
           "x": [
            1136587
           ],
           "xaxis": "x",
           "y": [
            60
           ],
           "yaxis": "y"
          }
         ],
         "name": "1136587"
        },
        {
         "data": [
          {
           "hovertemplate": "batter=AT Rayudu<br>matchid=%{x}<br>strike_rate=%{y}<extra></extra>",
           "ids": [
            "AT Rayudu"
           ],
           "legendgroup": "AT Rayudu",
           "marker": {
            "color": "#EF553B",
            "symbol": "circle"
           },
           "mode": "markers",
           "name": "AT Rayudu",
           "orientation": "v",
           "showlegend": true,
           "type": "scatter",
           "x": [
            1136590
           ],
           "xaxis": "x",
           "y": [
            157.69230769230768
           ],
           "yaxis": "y"
          },
          {
           "hovertemplate": "batter=C Munro<br>matchid=%{x}<br>strike_rate=%{y}<extra></extra>",
           "ids": [
            "C Munro"
           ],
           "legendgroup": "C Munro",
           "marker": {
            "color": "#00cc96",
            "symbol": "circle"
           },
           "mode": "markers",
           "name": "C Munro",
           "orientation": "v",
           "showlegend": true,
           "type": "scatter",
           "x": [
            1136590
           ],
           "xaxis": "x",
           "y": [
            162.5
           ],
           "yaxis": "y"
          },
          {
           "hovertemplate": "batter=F du Plessis<br>matchid=%{x}<br>strike_rate=%{y}<extra></extra>",
           "ids": [
            "F du Plessis"
           ],
           "legendgroup": "F du Plessis",
           "marker": {
            "color": "#FECB52",
            "symbol": "circle"
           },
           "mode": "markers",
           "name": "F du Plessis",
           "orientation": "v",
           "showlegend": true,
           "type": "scatter",
           "x": [
            1136590
           ],
           "xaxis": "x",
           "y": [
            100
           ],
           "yaxis": "y"
          },
          {
           "hovertemplate": "batter=GJ Maxwell<br>matchid=%{x}<br>strike_rate=%{y}<extra></extra>",
           "ids": [
            "GJ Maxwell"
           ],
           "legendgroup": "GJ Maxwell",
           "marker": {
            "color": "#EF553B",
            "symbol": "circle"
           },
           "mode": "markers",
           "name": "GJ Maxwell",
           "orientation": "v",
           "showlegend": true,
           "type": "scatter",
           "x": [
            1136590
           ],
           "xaxis": "x",
           "y": [
            120
           ],
           "yaxis": "y"
          },
          {
           "hovertemplate": "batter=MS Dhoni<br>matchid=%{x}<br>strike_rate=%{y}<extra></extra>",
           "ids": [
            "MS Dhoni"
           ],
           "legendgroup": "MS Dhoni",
           "marker": {
            "color": "#EF553B",
            "symbol": "circle"
           },
           "mode": "markers",
           "name": "MS Dhoni",
           "orientation": "v",
           "showlegend": true,
           "type": "scatter",
           "x": [
            1136590
           ],
           "xaxis": "x",
           "y": [
            231.81818181818184
           ],
           "yaxis": "y"
          },
          {
           "hovertemplate": "batter=PP Shaw<br>matchid=%{x}<br>strike_rate=%{y}<extra></extra>",
           "ids": [
            "PP Shaw"
           ],
           "legendgroup": "PP Shaw",
           "marker": {
            "color": "#19d3f3",
            "symbol": "circle"
           },
           "mode": "markers",
           "name": "PP Shaw",
           "orientation": "v",
           "showlegend": true,
           "type": "scatter",
           "x": [
            1136590
           ],
           "xaxis": "x",
           "y": [
            150
           ],
           "yaxis": "y"
          },
          {
           "hovertemplate": "batter=R Tewatia<br>matchid=%{x}<br>strike_rate=%{y}<extra></extra>",
           "ids": [
            "R Tewatia"
           ],
           "legendgroup": "R Tewatia",
           "marker": {
            "color": "#FF97FF",
            "symbol": "circle"
           },
           "mode": "markers",
           "name": "R Tewatia",
           "orientation": "v",
           "showlegend": true,
           "type": "scatter",
           "x": [
            1136590
           ],
           "xaxis": "x",
           "y": [
            60
           ],
           "yaxis": "y"
          },
          {
           "hovertemplate": "batter=RR Pant<br>matchid=%{x}<br>strike_rate=%{y}<extra></extra>",
           "ids": [
            "RR Pant"
           ],
           "legendgroup": "RR Pant",
           "marker": {
            "color": "#19d3f3",
            "symbol": "circle"
           },
           "mode": "markers",
           "name": "RR Pant",
           "orientation": "v",
           "showlegend": true,
           "type": "scatter",
           "x": [
            1136590
           ],
           "xaxis": "x",
           "y": [
            168.08510638297872
           ],
           "yaxis": "y"
          },
          {
           "hovertemplate": "batter=SK Raina<br>matchid=%{x}<br>strike_rate=%{y}<extra></extra>",
           "ids": [
            "SK Raina"
           ],
           "legendgroup": "SK Raina",
           "marker": {
            "color": "#ab63fa",
            "symbol": "circle"
           },
           "mode": "markers",
           "name": "SK Raina",
           "orientation": "v",
           "showlegend": true,
           "type": "scatter",
           "x": [
            1136590
           ],
           "xaxis": "x",
           "y": [
            50
           ],
           "yaxis": "y"
          },
          {
           "hovertemplate": "batter=SR Watson<br>matchid=%{x}<br>strike_rate=%{y}<extra></extra>",
           "ids": [
            "SR Watson"
           ],
           "legendgroup": "SR Watson",
           "marker": {
            "color": "#FF97FF",
            "symbol": "circle"
           },
           "mode": "markers",
           "name": "SR Watson",
           "orientation": "v",
           "showlegend": true,
           "type": "scatter",
           "x": [
            1136590
           ],
           "xaxis": "x",
           "y": [
            190.2439024390244
           ],
           "yaxis": "y"
          },
          {
           "hovertemplate": "batter=SS Iyer<br>matchid=%{x}<br>strike_rate=%{y}<extra></extra>",
           "ids": [
            "SS Iyer"
           ],
           "legendgroup": "SS Iyer",
           "marker": {
            "color": "#FECB52",
            "symbol": "circle"
           },
           "mode": "markers",
           "name": "SS Iyer",
           "orientation": "v",
           "showlegend": true,
           "type": "scatter",
           "x": [
            1136590
           ],
           "xaxis": "x",
           "y": [
            92.85714285714286
           ],
           "yaxis": "y"
          },
          {
           "hovertemplate": "batter=V Shankar<br>matchid=%{x}<br>strike_rate=%{y}<extra></extra>",
           "ids": [
            "V Shankar"
           ],
           "legendgroup": "V Shankar",
           "marker": {
            "color": "#00cc96",
            "symbol": "circle"
           },
           "mode": "markers",
           "name": "V Shankar",
           "orientation": "v",
           "showlegend": true,
           "type": "scatter",
           "x": [
            1136590
           ],
           "xaxis": "x",
           "y": [
            163.63636363636365
           ],
           "yaxis": "y"
          }
         ],
         "name": "1136590"
        },
        {
         "data": [
          {
           "hovertemplate": "batter=AT Rayudu<br>matchid=%{x}<br>strike_rate=%{y}<extra></extra>",
           "ids": [
            "AT Rayudu"
           ],
           "legendgroup": "AT Rayudu",
           "marker": {
            "color": "#EF553B",
            "symbol": "circle"
           },
           "mode": "markers",
           "name": "AT Rayudu",
           "orientation": "v",
           "showlegend": true,
           "type": "scatter",
           "x": [
            1136593
           ],
           "xaxis": "x",
           "y": [
            123.52941176470588
           ],
           "yaxis": "y"
          },
          {
           "hovertemplate": "batter=CA Lynn<br>matchid=%{x}<br>strike_rate=%{y}<extra></extra>",
           "ids": [
            "CA Lynn"
           ],
           "legendgroup": "CA Lynn",
           "marker": {
            "color": "#FFA15A",
            "symbol": "circle"
           },
           "mode": "markers",
           "name": "CA Lynn",
           "orientation": "v",
           "showlegend": true,
           "type": "scatter",
           "x": [
            1136593
           ],
           "xaxis": "x",
           "y": [
            200
           ],
           "yaxis": "y"
          },
          {
           "hovertemplate": "batter=F du Plessis<br>matchid=%{x}<br>strike_rate=%{y}<extra></extra>",
           "ids": [
            "F du Plessis"
           ],
           "legendgroup": "F du Plessis",
           "marker": {
            "color": "#FECB52",
            "symbol": "circle"
           },
           "mode": "markers",
           "name": "F du Plessis",
           "orientation": "v",
           "showlegend": true,
           "type": "scatter",
           "x": [
            1136593
           ],
           "xaxis": "x",
           "y": [
            180
           ],
           "yaxis": "y"
          },
          {
           "hovertemplate": "batter=KD Karthik<br>matchid=%{x}<br>strike_rate=%{y}<extra></extra>",
           "ids": [
            "KD Karthik"
           ],
           "legendgroup": "KD Karthik",
           "marker": {
            "color": "#FF97FF",
            "symbol": "circle"
           },
           "mode": "markers",
           "name": "KD Karthik",
           "orientation": "v",
           "showlegend": true,
           "type": "scatter",
           "x": [
            1136593
           ],
           "xaxis": "x",
           "y": [
            225
           ],
           "yaxis": "y"
          },
          {
           "hovertemplate": "batter=MS Dhoni<br>matchid=%{x}<br>strike_rate=%{y}<extra></extra>",
           "ids": [
            "MS Dhoni"
           ],
           "legendgroup": "MS Dhoni",
           "marker": {
            "color": "#EF553B",
            "symbol": "circle"
           },
           "mode": "markers",
           "name": "MS Dhoni",
           "orientation": "v",
           "showlegend": true,
           "type": "scatter",
           "x": [
            1136593
           ],
           "xaxis": "x",
           "y": [
            172
           ],
           "yaxis": "y"
          },
          {
           "hovertemplate": "batter=RA Jadeja<br>matchid=%{x}<br>strike_rate=%{y}<extra></extra>",
           "ids": [
            "RA Jadeja"
           ],
           "legendgroup": "RA Jadeja",
           "marker": {
            "color": "#636efa",
            "symbol": "circle"
           },
           "mode": "markers",
           "name": "RA Jadeja",
           "orientation": "v",
           "showlegend": true,
           "type": "scatter",
           "x": [
            1136593
           ],
           "xaxis": "x",
           "y": [
            85.71428571428571
           ],
           "yaxis": "y"
          },
          {
           "hovertemplate": "batter=RK Singh<br>matchid=%{x}<br>strike_rate=%{y}<extra></extra>",
           "ids": [
            "RK Singh"
           ],
           "legendgroup": "RK Singh",
           "marker": {
            "color": "#FFA15A",
            "symbol": "circle"
           },
           "mode": "markers",
           "name": "RK Singh",
           "orientation": "v",
           "showlegend": true,
           "type": "scatter",
           "x": [
            1136593
           ],
           "xaxis": "x",
           "y": [
            80
           ],
           "yaxis": "y"
          },
          {
           "hovertemplate": "batter=RV Uthappa<br>matchid=%{x}<br>strike_rate=%{y}<extra></extra>",
           "ids": [
            "RV Uthappa"
           ],
           "legendgroup": "RV Uthappa",
           "marker": {
            "color": "#FF6692",
            "symbol": "circle"
           },
           "mode": "markers",
           "name": "RV Uthappa",
           "orientation": "v",
           "showlegend": true,
           "type": "scatter",
           "x": [
            1136593
           ],
           "xaxis": "x",
           "y": [
            66.66666666666666
           ],
           "yaxis": "y"
          },
          {
           "hovertemplate": "batter=SK Raina<br>matchid=%{x}<br>strike_rate=%{y}<extra></extra>",
           "ids": [
            "SK Raina"
           ],
           "legendgroup": "SK Raina",
           "marker": {
            "color": "#ab63fa",
            "symbol": "circle"
           },
           "mode": "markers",
           "name": "SK Raina",
           "orientation": "v",
           "showlegend": true,
           "type": "scatter",
           "x": [
            1136593
           ],
           "xaxis": "x",
           "y": [
            114.81481481481481
           ],
           "yaxis": "y"
          },
          {
           "hovertemplate": "batter=SP Narine<br>matchid=%{x}<br>strike_rate=%{y}<extra></extra>",
           "ids": [
            "SP Narine"
           ],
           "legendgroup": "SP Narine",
           "marker": {
            "color": "#B6E880",
            "symbol": "circle"
           },
           "mode": "markers",
           "name": "SP Narine",
           "orientation": "v",
           "showlegend": true,
           "type": "scatter",
           "x": [
            1136593
           ],
           "xaxis": "x",
           "y": [
            152.38095238095238
           ],
           "yaxis": "y"
          },
          {
           "hovertemplate": "batter=SR Watson<br>matchid=%{x}<br>strike_rate=%{y}<extra></extra>",
           "ids": [
            "SR Watson"
           ],
           "legendgroup": "SR Watson",
           "marker": {
            "color": "#FF97FF",
            "symbol": "circle"
           },
           "mode": "markers",
           "name": "SR Watson",
           "orientation": "v",
           "showlegend": true,
           "type": "scatter",
           "x": [
            1136593
           ],
           "xaxis": "x",
           "y": [
            144
           ],
           "yaxis": "y"
          },
          {
           "hovertemplate": "batter=Shubman Gill<br>matchid=%{x}<br>strike_rate=%{y}<extra></extra>",
           "ids": [
            "Shubman Gill"
           ],
           "legendgroup": "Shubman Gill",
           "marker": {
            "color": "#FF6692",
            "symbol": "circle"
           },
           "mode": "markers",
           "name": "Shubman Gill",
           "orientation": "v",
           "showlegend": true,
           "type": "scatter",
           "x": [
            1136593
           ],
           "xaxis": "x",
           "y": [
            154.05405405405406
           ],
           "yaxis": "y"
          }
         ],
         "name": "1136593"
        },
        {
         "data": [
          {
           "hovertemplate": "batter=AT Rayudu<br>matchid=%{x}<br>strike_rate=%{y}<extra></extra>",
           "ids": [
            "AT Rayudu"
           ],
           "legendgroup": "AT Rayudu",
           "marker": {
            "color": "#EF553B",
            "symbol": "circle"
           },
           "mode": "markers",
           "name": "AT Rayudu",
           "orientation": "v",
           "showlegend": true,
           "type": "scatter",
           "x": [
            1136612
           ],
           "xaxis": "x",
           "y": [
            172.41379310344826
           ],
           "yaxis": "y"
          },
          {
           "hovertemplate": "batter=Abhishek Sharma<br>matchid=%{x}<br>strike_rate=%{y}<extra></extra>",
           "ids": [
            "Abhishek Sharma"
           ],
           "legendgroup": "Abhishek Sharma",
           "marker": {
            "color": "#00cc96",
            "symbol": "circle"
           },
           "mode": "markers",
           "name": "Abhishek Sharma",
           "orientation": "v",
           "showlegend": true,
           "type": "scatter",
           "x": [
            1136612
           ],
           "xaxis": "x",
           "y": [
            50
           ],
           "yaxis": "y"
          },
          {
           "hovertemplate": "batter=DJ Bravo<br>matchid=%{x}<br>strike_rate=%{y}<extra></extra>",
           "ids": [
            "DJ Bravo"
           ],
           "legendgroup": "DJ Bravo",
           "marker": {
            "color": "#EF553B",
            "symbol": "circle"
           },
           "mode": "markers",
           "name": "DJ Bravo",
           "orientation": "v",
           "showlegend": true,
           "type": "scatter",
           "x": [
            1136612
           ],
           "xaxis": "x",
           "y": [
            50
           ],
           "yaxis": "y"
          },
          {
           "hovertemplate": "batter=DL Chahar<br>matchid=%{x}<br>strike_rate=%{y}<extra></extra>",
           "ids": [
            "DL Chahar"
           ],
           "legendgroup": "DL Chahar",
           "marker": {
            "color": "#FFA15A",
            "symbol": "circle"
           },
           "mode": "markers",
           "name": "DL Chahar",
           "orientation": "v",
           "showlegend": true,
           "type": "scatter",
           "x": [
            1136612
           ],
           "xaxis": "x",
           "y": [
            50
           ],
           "yaxis": "y"
          },
          {
           "hovertemplate": "batter=GJ Maxwell<br>matchid=%{x}<br>strike_rate=%{y}<extra></extra>",
           "ids": [
            "GJ Maxwell"
           ],
           "legendgroup": "GJ Maxwell",
           "marker": {
            "color": "#EF553B",
            "symbol": "circle"
           },
           "mode": "markers",
           "name": "GJ Maxwell",
           "orientation": "v",
           "showlegend": true,
           "type": "scatter",
           "x": [
            1136612
           ],
           "xaxis": "x",
           "y": [
            62.5
           ],
           "yaxis": "y"
          },
          {
           "hovertemplate": "batter=HV Patel<br>matchid=%{x}<br>strike_rate=%{y}<extra></extra>",
           "ids": [
            "HV Patel"
           ],
           "legendgroup": "HV Patel",
           "marker": {
            "color": "#FFA15A",
            "symbol": "circle"
           },
           "mode": "markers",
           "name": "HV Patel",
           "orientation": "v",
           "showlegend": true,
           "type": "scatter",
           "x": [
            1136612
           ],
           "xaxis": "x",
           "y": [
            225
           ],
           "yaxis": "y"
          },
          {
           "hovertemplate": "batter=MS Dhoni<br>matchid=%{x}<br>strike_rate=%{y}<extra></extra>",
           "ids": [
            "MS Dhoni"
           ],
           "legendgroup": "MS Dhoni",
           "marker": {
            "color": "#EF553B",
            "symbol": "circle"
           },
           "mode": "markers",
           "name": "MS Dhoni",
           "orientation": "v",
           "showlegend": true,
           "type": "scatter",
           "x": [
            1136612
           ],
           "xaxis": "x",
           "y": [
            73.91304347826086
           ],
           "yaxis": "y"
          },
          {
           "hovertemplate": "batter=PP Shaw<br>matchid=%{x}<br>strike_rate=%{y}<extra></extra>",
           "ids": [
            "PP Shaw"
           ],
           "legendgroup": "PP Shaw",
           "marker": {
            "color": "#19d3f3",
            "symbol": "circle"
           },
           "mode": "markers",
           "name": "PP Shaw",
           "orientation": "v",
           "showlegend": true,
           "type": "scatter",
           "x": [
            1136612
           ],
           "xaxis": "x",
           "y": [
            89.47368421052632
           ],
           "yaxis": "y"
          },
          {
           "hovertemplate": "batter=RA Jadeja<br>matchid=%{x}<br>strike_rate=%{y}<extra></extra>",
           "ids": [
            "RA Jadeja"
           ],
           "legendgroup": "RA Jadeja",
           "marker": {
            "color": "#636efa",
            "symbol": "circle"
           },
           "mode": "markers",
           "name": "RA Jadeja",
           "orientation": "v",
           "showlegend": true,
           "type": "scatter",
           "x": [
            1136612
           ],
           "xaxis": "x",
           "y": [
            150
           ],
           "yaxis": "y"
          },
          {
           "hovertemplate": "batter=RR Pant<br>matchid=%{x}<br>strike_rate=%{y}<extra></extra>",
           "ids": [
            "RR Pant"
           ],
           "legendgroup": "RR Pant",
           "marker": {
            "color": "#19d3f3",
            "symbol": "circle"
           },
           "mode": "markers",
           "name": "RR Pant",
           "orientation": "v",
           "showlegend": true,
           "type": "scatter",
           "x": [
            1136612
           ],
           "xaxis": "x",
           "y": [
            140.74074074074073
           ],
           "yaxis": "y"
          },
          {
           "hovertemplate": "batter=SK Raina<br>matchid=%{x}<br>strike_rate=%{y}<extra></extra>",
           "ids": [
            "SK Raina"
           ],
           "legendgroup": "SK Raina",
           "marker": {
            "color": "#ab63fa",
            "symbol": "circle"
           },
           "mode": "markers",
           "name": "SK Raina",
           "orientation": "v",
           "showlegend": true,
           "type": "scatter",
           "x": [
            1136612
           ],
           "xaxis": "x",
           "y": [
            83.33333333333334
           ],
           "yaxis": "y"
          },
          {
           "hovertemplate": "batter=SR Watson<br>matchid=%{x}<br>strike_rate=%{y}<extra></extra>",
           "ids": [
            "SR Watson"
           ],
           "legendgroup": "SR Watson",
           "marker": {
            "color": "#FF97FF",
            "symbol": "circle"
           },
           "mode": "markers",
           "name": "SR Watson",
           "orientation": "v",
           "showlegend": true,
           "type": "scatter",
           "x": [
            1136612
           ],
           "xaxis": "x",
           "y": [
            60.86956521739131
           ],
           "yaxis": "y"
          },
          {
           "hovertemplate": "batter=SS Iyer<br>matchid=%{x}<br>strike_rate=%{y}<extra></extra>",
           "ids": [
            "SS Iyer"
           ],
           "legendgroup": "SS Iyer",
           "marker": {
            "color": "#FECB52",
            "symbol": "circle"
           },
           "mode": "markers",
           "name": "SS Iyer",
           "orientation": "v",
           "showlegend": true,
           "type": "scatter",
           "x": [
            1136612
           ],
           "xaxis": "x",
           "y": [
            86.36363636363636
           ],
           "yaxis": "y"
          },
          {
           "hovertemplate": "batter=SW Billings<br>matchid=%{x}<br>strike_rate=%{y}<extra></extra>",
           "ids": [
            "SW Billings"
           ],
           "legendgroup": "SW Billings",
           "marker": {
            "color": "#00cc96",
            "symbol": "circle"
           },
           "mode": "markers",
           "name": "SW Billings",
           "orientation": "v",
           "showlegend": true,
           "type": "scatter",
           "x": [
            1136612
           ],
           "xaxis": "x",
           "y": [
            20
           ],
           "yaxis": "y"
          },
          {
           "hovertemplate": "batter=V Shankar<br>matchid=%{x}<br>strike_rate=%{y}<extra></extra>",
           "ids": [
            "V Shankar"
           ],
           "legendgroup": "V Shankar",
           "marker": {
            "color": "#00cc96",
            "symbol": "circle"
           },
           "mode": "markers",
           "name": "V Shankar",
           "orientation": "v",
           "showlegend": true,
           "type": "scatter",
           "x": [
            1136612
           ],
           "xaxis": "x",
           "y": [
            120
           ],
           "yaxis": "y"
          }
         ],
         "name": "1136612"
        },
        {
         "data": [
          {
           "hovertemplate": "batter=AT Rayudu<br>matchid=%{x}<br>strike_rate=%{y}<extra></extra>",
           "ids": [
            "AT Rayudu"
           ],
           "legendgroup": "AT Rayudu",
           "marker": {
            "color": "#EF553B",
            "symbol": "circle"
           },
           "mode": "markers",
           "name": "AT Rayudu",
           "orientation": "v",
           "showlegend": true,
           "type": "scatter",
           "x": [
            1136617
           ],
           "xaxis": "x",
           "y": [
            0
           ],
           "yaxis": "y"
          },
          {
           "hovertemplate": "batter=B Kumar<br>matchid=%{x}<br>strike_rate=%{y}<extra></extra>",
           "ids": [
            "B Kumar"
           ],
           "legendgroup": "B Kumar",
           "marker": {
            "color": "#FFA15A",
            "symbol": "circle"
           },
           "mode": "markers",
           "name": "B Kumar",
           "orientation": "v",
           "showlegend": true,
           "type": "scatter",
           "x": [
            1136617
           ],
           "xaxis": "x",
           "y": [
            53.84615384615385
           ],
           "yaxis": "y"
          },
          {
           "hovertemplate": "batter=CR Brathwaite<br>matchid=%{x}<br>strike_rate=%{y}<extra></extra>",
           "ids": [
            "CR Brathwaite"
           ],
           "legendgroup": "CR Brathwaite",
           "marker": {
            "color": "#FF97FF",
            "symbol": "circle"
           },
           "mode": "markers",
           "name": "CR Brathwaite",
           "orientation": "v",
           "showlegend": true,
           "type": "scatter",
           "x": [
            1136617
           ],
           "xaxis": "x",
           "y": [
            130.3030303030303
           ],
           "yaxis": "y"
          },
          {
           "hovertemplate": "batter=DJ Bravo<br>matchid=%{x}<br>strike_rate=%{y}<extra></extra>",
           "ids": [
            "DJ Bravo"
           ],
           "legendgroup": "DJ Bravo",
           "marker": {
            "color": "#EF553B",
            "symbol": "circle"
           },
           "mode": "markers",
           "name": "DJ Bravo",
           "orientation": "v",
           "showlegend": true,
           "type": "scatter",
           "x": [
            1136617
           ],
           "xaxis": "x",
           "y": [
            63.63636363636363
           ],
           "yaxis": "y"
          },
          {
           "hovertemplate": "batter=DL Chahar<br>matchid=%{x}<br>strike_rate=%{y}<extra></extra>",
           "ids": [
            "DL Chahar"
           ],
           "legendgroup": "DL Chahar",
           "marker": {
            "color": "#FFA15A",
            "symbol": "circle"
           },
           "mode": "markers",
           "name": "DL Chahar",
           "orientation": "v",
           "showlegend": true,
           "type": "scatter",
           "x": [
            1136617
           ],
           "xaxis": "x",
           "y": [
            166.66666666666669
           ],
           "yaxis": "y"
          },
          {
           "hovertemplate": "batter=F du Plessis<br>matchid=%{x}<br>strike_rate=%{y}<extra></extra>",
           "ids": [
            "F du Plessis"
           ],
           "legendgroup": "F du Plessis",
           "marker": {
            "color": "#FECB52",
            "symbol": "circle"
           },
           "mode": "markers",
           "name": "F du Plessis",
           "orientation": "v",
           "showlegend": true,
           "type": "scatter",
           "x": [
            1136617
           ],
           "xaxis": "x",
           "y": [
            155.8139534883721
           ],
           "yaxis": "y"
          },
          {
           "hovertemplate": "batter=Harbhajan Singh<br>matchid=%{x}<br>strike_rate=%{y}<extra></extra>",
           "ids": [
            "Harbhajan Singh"
           ],
           "legendgroup": "Harbhajan Singh",
           "marker": {
            "color": "#19d3f3",
            "symbol": "circle"
           },
           "mode": "markers",
           "name": "Harbhajan Singh",
           "orientation": "v",
           "showlegend": true,
           "type": "scatter",
           "x": [
            1136617
           ],
           "xaxis": "x",
           "y": [
            22.22222222222222
           ],
           "yaxis": "y"
          },
          {
           "hovertemplate": "batter=KS Williamson<br>matchid=%{x}<br>strike_rate=%{y}<extra></extra>",
           "ids": [
            "KS Williamson"
           ],
           "legendgroup": "KS Williamson",
           "marker": {
            "color": "#ab63fa",
            "symbol": "circle"
           },
           "mode": "markers",
           "name": "KS Williamson",
           "orientation": "v",
           "showlegend": true,
           "type": "scatter",
           "x": [
            1136617
           ],
           "xaxis": "x",
           "y": [
            160
           ],
           "yaxis": "y"
          },
          {
           "hovertemplate": "batter=MK Pandey<br>matchid=%{x}<br>strike_rate=%{y}<extra></extra>",
           "ids": [
            "MK Pandey"
           ],
           "legendgroup": "MK Pandey",
           "marker": {
            "color": "#FF6692",
            "symbol": "circle"
           },
           "mode": "markers",
           "name": "MK Pandey",
           "orientation": "v",
           "showlegend": true,
           "type": "scatter",
           "x": [
            1136617
           ],
           "xaxis": "x",
           "y": [
            50
           ],
           "yaxis": "y"
          },
          {
           "hovertemplate": "batter=MS Dhoni<br>matchid=%{x}<br>strike_rate=%{y}<extra></extra>",
           "ids": [
            "MS Dhoni"
           ],
           "legendgroup": "MS Dhoni",
           "marker": {
            "color": "#EF553B",
            "symbol": "circle"
           },
           "mode": "markers",
           "name": "MS Dhoni",
           "orientation": "v",
           "showlegend": true,
           "type": "scatter",
           "x": [
            1136617
           ],
           "xaxis": "x",
           "y": [
            47.368421052631575
           ],
           "yaxis": "y"
          },
          {
           "hovertemplate": "batter=RA Jadeja<br>matchid=%{x}<br>strike_rate=%{y}<extra></extra>",
           "ids": [
            "RA Jadeja"
           ],
           "legendgroup": "RA Jadeja",
           "marker": {
            "color": "#636efa",
            "symbol": "circle"
           },
           "mode": "markers",
           "name": "RA Jadeja",
           "orientation": "v",
           "showlegend": true,
           "type": "scatter",
           "x": [
            1136617
           ],
           "xaxis": "x",
           "y": [
            60
           ],
           "yaxis": "y"
          },
          {
           "hovertemplate": "batter=S Dhawan<br>matchid=%{x}<br>strike_rate=%{y}<extra></extra>",
           "ids": [
            "S Dhawan"
           ],
           "legendgroup": "S Dhawan",
           "marker": {
            "color": "#FF97FF",
            "symbol": "circle"
           },
           "mode": "markers",
           "name": "S Dhawan",
           "orientation": "v",
           "showlegend": true,
           "type": "scatter",
           "x": [
            1136617
           ],
           "xaxis": "x",
           "y": [
            0
           ],
           "yaxis": "y"
          },
          {
           "hovertemplate": "batter=SK Raina<br>matchid=%{x}<br>strike_rate=%{y}<extra></extra>",
           "ids": [
            "SK Raina"
           ],
           "legendgroup": "SK Raina",
           "marker": {
            "color": "#ab63fa",
            "symbol": "circle"
           },
           "mode": "markers",
           "name": "SK Raina",
           "orientation": "v",
           "showlegend": true,
           "type": "scatter",
           "x": [
            1136617
           ],
           "xaxis": "x",
           "y": [
            157.14285714285714
           ],
           "yaxis": "y"
          },
          {
           "hovertemplate": "batter=SN Thakur<br>matchid=%{x}<br>strike_rate=%{y}<extra></extra>",
           "ids": [
            "SN Thakur"
           ],
           "legendgroup": "SN Thakur",
           "marker": {
            "color": "#19d3f3",
            "symbol": "circle"
           },
           "mode": "markers",
           "name": "SN Thakur",
           "orientation": "v",
           "showlegend": true,
           "type": "scatter",
           "x": [
            1136617
           ],
           "xaxis": "x",
           "y": [
            300
           ],
           "yaxis": "y"
          },
          {
           "hovertemplate": "batter=SP Goswami<br>matchid=%{x}<br>strike_rate=%{y}<extra></extra>",
           "ids": [
            "SP Goswami"
           ],
           "legendgroup": "SP Goswami",
           "marker": {
            "color": "#FF6692",
            "symbol": "circle"
           },
           "mode": "markers",
           "name": "SP Goswami",
           "orientation": "v",
           "showlegend": true,
           "type": "scatter",
           "x": [
            1136617
           ],
           "xaxis": "x",
           "y": [
            133.33333333333331
           ],
           "yaxis": "y"
          },
          {
           "hovertemplate": "batter=SR Watson<br>matchid=%{x}<br>strike_rate=%{y}<extra></extra>",
           "ids": [
            "SR Watson"
           ],
           "legendgroup": "SR Watson",
           "marker": {
            "color": "#FF97FF",
            "symbol": "circle"
           },
           "mode": "markers",
           "name": "SR Watson",
           "orientation": "v",
           "showlegend": true,
           "type": "scatter",
           "x": [
            1136617
           ],
           "xaxis": "x",
           "y": [
            0
           ],
           "yaxis": "y"
          },
          {
           "hovertemplate": "batter=Shakib Al Hasan<br>matchid=%{x}<br>strike_rate=%{y}<extra></extra>",
           "ids": [
            "Shakib Al Hasan"
           ],
           "legendgroup": "Shakib Al Hasan",
           "marker": {
            "color": "#FFA15A",
            "symbol": "circle"
           },
           "mode": "markers",
           "name": "Shakib Al Hasan",
           "orientation": "v",
           "showlegend": true,
           "type": "scatter",
           "x": [
            1136617
           ],
           "xaxis": "x",
           "y": [
            120
           ],
           "yaxis": "y"
          },
          {
           "hovertemplate": "batter=YK Pathan<br>matchid=%{x}<br>strike_rate=%{y}<extra></extra>",
           "ids": [
            "YK Pathan"
           ],
           "legendgroup": "YK Pathan",
           "marker": {
            "color": "#19d3f3",
            "symbol": "circle"
           },
           "mode": "markers",
           "name": "YK Pathan",
           "orientation": "v",
           "showlegend": true,
           "type": "scatter",
           "x": [
            1136617
           ],
           "xaxis": "x",
           "y": [
            75
           ],
           "yaxis": "y"
          }
         ],
         "name": "1136617"
        },
        {
         "data": [
          {
           "hovertemplate": "batter=AT Rayudu<br>matchid=%{x}<br>strike_rate=%{y}<extra></extra>",
           "ids": [
            "AT Rayudu"
           ],
           "legendgroup": "AT Rayudu",
           "marker": {
            "color": "#EF553B",
            "symbol": "circle"
           },
           "mode": "markers",
           "name": "AT Rayudu",
           "orientation": "v",
           "showlegend": true,
           "type": "scatter",
           "x": [
            1136620
           ],
           "xaxis": "x",
           "y": [
            84.21052631578947
           ],
           "yaxis": "y"
          },
          {
           "hovertemplate": "batter=CR Brathwaite<br>matchid=%{x}<br>strike_rate=%{y}<extra></extra>",
           "ids": [
            "CR Brathwaite"
           ],
           "legendgroup": "CR Brathwaite",
           "marker": {
            "color": "#FF97FF",
            "symbol": "circle"
           },
           "mode": "markers",
           "name": "CR Brathwaite",
           "orientation": "v",
           "showlegend": true,
           "type": "scatter",
           "x": [
            1136620
           ],
           "xaxis": "x",
           "y": [
            175
           ],
           "yaxis": "y"
          },
          {
           "hovertemplate": "batter=DJ Hooda<br>matchid=%{x}<br>strike_rate=%{y}<extra></extra>",
           "ids": [
            "DJ Hooda"
           ],
           "legendgroup": "DJ Hooda",
           "marker": {
            "color": "#00cc96",
            "symbol": "circle"
           },
           "mode": "markers",
           "name": "DJ Hooda",
           "orientation": "v",
           "showlegend": true,
           "type": "scatter",
           "x": [
            1136620
           ],
           "xaxis": "x",
           "y": [
            75
           ],
           "yaxis": "y"
          },
          {
           "hovertemplate": "batter=F du Plessis<br>matchid=%{x}<br>strike_rate=%{y}<extra></extra>",
           "ids": [
            "F du Plessis"
           ],
           "legendgroup": "F du Plessis",
           "marker": {
            "color": "#FECB52",
            "symbol": "circle"
           },
           "mode": "markers",
           "name": "F du Plessis",
           "orientation": "v",
           "showlegend": true,
           "type": "scatter",
           "x": [
            1136620
           ],
           "xaxis": "x",
           "y": [
            90.9090909090909
           ],
           "yaxis": "y"
          },
          {
           "hovertemplate": "batter=KS Williamson<br>matchid=%{x}<br>strike_rate=%{y}<extra></extra>",
           "ids": [
            "KS Williamson"
           ],
           "legendgroup": "KS Williamson",
           "marker": {
            "color": "#ab63fa",
            "symbol": "circle"
           },
           "mode": "markers",
           "name": "KS Williamson",
           "orientation": "v",
           "showlegend": true,
           "type": "scatter",
           "x": [
            1136620
           ],
           "xaxis": "x",
           "y": [
            123.6842105263158
           ],
           "yaxis": "y"
          },
          {
           "hovertemplate": "batter=S Dhawan<br>matchid=%{x}<br>strike_rate=%{y}<extra></extra>",
           "ids": [
            "S Dhawan"
           ],
           "legendgroup": "S Dhawan",
           "marker": {
            "color": "#FF97FF",
            "symbol": "circle"
           },
           "mode": "markers",
           "name": "S Dhawan",
           "orientation": "v",
           "showlegend": true,
           "type": "scatter",
           "x": [
            1136620
           ],
           "xaxis": "x",
           "y": [
            100
           ],
           "yaxis": "y"
          },
          {
           "hovertemplate": "batter=SK Raina<br>matchid=%{x}<br>strike_rate=%{y}<extra></extra>",
           "ids": [
            "SK Raina"
           ],
           "legendgroup": "SK Raina",
           "marker": {
            "color": "#ab63fa",
            "symbol": "circle"
           },
           "mode": "markers",
           "name": "SK Raina",
           "orientation": "v",
           "showlegend": true,
           "type": "scatter",
           "x": [
            1136620
           ],
           "xaxis": "x",
           "y": [
            133.33333333333331
           ],
           "yaxis": "y"
          },
          {
           "hovertemplate": "batter=SP Goswami<br>matchid=%{x}<br>strike_rate=%{y}<extra></extra>",
           "ids": [
            "SP Goswami"
           ],
           "legendgroup": "SP Goswami",
           "marker": {
            "color": "#FF6692",
            "symbol": "circle"
           },
           "mode": "markers",
           "name": "SP Goswami",
           "orientation": "v",
           "showlegend": true,
           "type": "scatter",
           "x": [
            1136620
           ],
           "xaxis": "x",
           "y": [
            100
           ],
           "yaxis": "y"
          },
          {
           "hovertemplate": "batter=SR Watson<br>matchid=%{x}<br>strike_rate=%{y}<extra></extra>",
           "ids": [
            "SR Watson"
           ],
           "legendgroup": "SR Watson",
           "marker": {
            "color": "#FF97FF",
            "symbol": "circle"
           },
           "mode": "markers",
           "name": "SR Watson",
           "orientation": "v",
           "showlegend": true,
           "type": "scatter",
           "x": [
            1136620
           ],
           "xaxis": "x",
           "y": [
            195
           ],
           "yaxis": "y"
          },
          {
           "hovertemplate": "batter=Shakib Al Hasan<br>matchid=%{x}<br>strike_rate=%{y}<extra></extra>",
           "ids": [
            "Shakib Al Hasan"
           ],
           "legendgroup": "Shakib Al Hasan",
           "marker": {
            "color": "#FFA15A",
            "symbol": "circle"
           },
           "mode": "markers",
           "name": "Shakib Al Hasan",
           "orientation": "v",
           "showlegend": true,
           "type": "scatter",
           "x": [
            1136620
           ],
           "xaxis": "x",
           "y": [
            153.33333333333334
           ],
           "yaxis": "y"
          },
          {
           "hovertemplate": "batter=YK Pathan<br>matchid=%{x}<br>strike_rate=%{y}<extra></extra>",
           "ids": [
            "YK Pathan"
           ],
           "legendgroup": "YK Pathan",
           "marker": {
            "color": "#19d3f3",
            "symbol": "circle"
           },
           "mode": "markers",
           "name": "YK Pathan",
           "orientation": "v",
           "showlegend": true,
           "type": "scatter",
           "x": [
            1136620
           ],
           "xaxis": "x",
           "y": [
            166.66666666666669
           ],
           "yaxis": "y"
          }
         ],
         "name": "1136620"
        },
        {
         "data": [
          {
           "hovertemplate": "batter=Abhishek Sharma<br>matchid=%{x}<br>strike_rate=%{y}<extra></extra>",
           "ids": [
            "Abhishek Sharma"
           ],
           "legendgroup": "Abhishek Sharma",
           "marker": {
            "color": "#00cc96",
            "symbol": "circle"
           },
           "mode": "markers",
           "name": "Abhishek Sharma",
           "orientation": "v",
           "showlegend": true,
           "type": "scatter",
           "x": [
            1136615
           ],
           "xaxis": "x",
           "y": [
            136.36363636363635
           ],
           "yaxis": "y"
          },
          {
           "hovertemplate": "batter=BCJ Cutting<br>matchid=%{x}<br>strike_rate=%{y}<extra></extra>",
           "ids": [
            "BCJ Cutting"
           ],
           "legendgroup": "BCJ Cutting",
           "marker": {
            "color": "#636efa",
            "symbol": "circle"
           },
           "mode": "markers",
           "name": "BCJ Cutting",
           "orientation": "v",
           "showlegend": true,
           "type": "scatter",
           "x": [
            1136615
           ],
           "xaxis": "x",
           "y": [
            185
           ],
           "yaxis": "y"
          },
          {
           "hovertemplate": "batter=E Lewis<br>matchid=%{x}<br>strike_rate=%{y}<extra></extra>",
           "ids": [
            "E Lewis"
           ],
           "legendgroup": "E Lewis",
           "marker": {
            "color": "#FF97FF",
            "symbol": "circle"
           },
           "mode": "markers",
           "name": "E Lewis",
           "orientation": "v",
           "showlegend": true,
           "type": "scatter",
           "x": [
            1136615
           ],
           "xaxis": "x",
           "y": [
            150
           ],
           "yaxis": "y"
          },
          {
           "hovertemplate": "batter=GJ Maxwell<br>matchid=%{x}<br>strike_rate=%{y}<extra></extra>",
           "ids": [
            "GJ Maxwell"
           ],
           "legendgroup": "GJ Maxwell",
           "marker": {
            "color": "#EF553B",
            "symbol": "circle"
           },
           "mode": "markers",
           "name": "GJ Maxwell",
           "orientation": "v",
           "showlegend": true,
           "type": "scatter",
           "x": [
            1136615
           ],
           "xaxis": "x",
           "y": [
            115.78947368421053
           ],
           "yaxis": "y"
          },
          {
           "hovertemplate": "batter=HH Pandya<br>matchid=%{x}<br>strike_rate=%{y}<extra></extra>",
           "ids": [
            "HH Pandya"
           ],
           "legendgroup": "HH Pandya",
           "marker": {
            "color": "#ab63fa",
            "symbol": "circle"
           },
           "mode": "markers",
           "name": "HH Pandya",
           "orientation": "v",
           "showlegend": true,
           "type": "scatter",
           "x": [
            1136615
           ],
           "xaxis": "x",
           "y": [
            150
           ],
           "yaxis": "y"
          },
          {
           "hovertemplate": "batter=Ishan Kishan<br>matchid=%{x}<br>strike_rate=%{y}<extra></extra>",
           "ids": [
            "Ishan Kishan"
           ],
           "legendgroup": "Ishan Kishan",
           "marker": {
            "color": "#FF97FF",
            "symbol": "circle"
           },
           "mode": "markers",
           "name": "Ishan Kishan",
           "orientation": "v",
           "showlegend": true,
           "type": "scatter",
           "x": [
            1136615
           ],
           "xaxis": "x",
           "y": [
            35.714285714285715
           ],
           "yaxis": "y"
          },
          {
           "hovertemplate": "batter=JJ Bumrah<br>matchid=%{x}<br>strike_rate=%{y}<extra></extra>",
           "ids": [
            "JJ Bumrah"
           ],
           "legendgroup": "JJ Bumrah",
           "marker": {
            "color": "#00cc96",
            "symbol": "circle"
           },
           "mode": "markers",
           "name": "JJ Bumrah",
           "orientation": "v",
           "showlegend": true,
           "type": "scatter",
           "x": [
            1136615
           ],
           "xaxis": "x",
           "y": [
            0
           ],
           "yaxis": "y"
          },
          {
           "hovertemplate": "batter=KA Pollard<br>matchid=%{x}<br>strike_rate=%{y}<extra></extra>",
           "ids": [
            "KA Pollard"
           ],
           "legendgroup": "KA Pollard",
           "marker": {
            "color": "#B6E880",
            "symbol": "circle"
           },
           "mode": "markers",
           "name": "KA Pollard",
           "orientation": "v",
           "showlegend": true,
           "type": "scatter",
           "x": [
            1136615
           ],
           "xaxis": "x",
           "y": [
            100
           ],
           "yaxis": "y"
          },
          {
           "hovertemplate": "batter=KH Pandya<br>matchid=%{x}<br>strike_rate=%{y}<extra></extra>",
           "ids": [
            "KH Pandya"
           ],
           "legendgroup": "KH Pandya",
           "marker": {
            "color": "#FECB52",
            "symbol": "circle"
           },
           "mode": "markers",
           "name": "KH Pandya",
           "orientation": "v",
           "showlegend": true,
           "type": "scatter",
           "x": [
            1136615
           ],
           "xaxis": "x",
           "y": [
            133.33333333333331
           ],
           "yaxis": "y"
          },
          {
           "hovertemplate": "batter=M Markande<br>matchid=%{x}<br>strike_rate=%{y}<extra></extra>",
           "ids": [
            "M Markande"
           ],
           "legendgroup": "M Markande",
           "marker": {
            "color": "#B6E880",
            "symbol": "circle"
           },
           "mode": "markers",
           "name": "M Markande",
           "orientation": "v",
           "showlegend": true,
           "type": "scatter",
           "x": [
            1136615
           ],
           "xaxis": "x",
           "y": [
            27.27272727272727
           ],
           "yaxis": "y"
          },
          {
           "hovertemplate": "batter=PP Shaw<br>matchid=%{x}<br>strike_rate=%{y}<extra></extra>",
           "ids": [
            "PP Shaw"
           ],
           "legendgroup": "PP Shaw",
           "marker": {
            "color": "#19d3f3",
            "symbol": "circle"
           },
           "mode": "markers",
           "name": "PP Shaw",
           "orientation": "v",
           "showlegend": true,
           "type": "scatter",
           "x": [
            1136615
           ],
           "xaxis": "x",
           "y": [
            150
           ],
           "yaxis": "y"
          },
          {
           "hovertemplate": "batter=RG Sharma<br>matchid=%{x}<br>strike_rate=%{y}<extra></extra>",
           "ids": [
            "RG Sharma"
           ],
           "legendgroup": "RG Sharma",
           "marker": {
            "color": "#00cc96",
            "symbol": "circle"
           },
           "mode": "markers",
           "name": "RG Sharma",
           "orientation": "v",
           "showlegend": true,
           "type": "scatter",
           "x": [
            1136615
           ],
           "xaxis": "x",
           "y": [
            108.33333333333333
           ],
           "yaxis": "y"
          },
          {
           "hovertemplate": "batter=RR Pant<br>matchid=%{x}<br>strike_rate=%{y}<extra></extra>",
           "ids": [
            "RR Pant"
           ],
           "legendgroup": "RR Pant",
           "marker": {
            "color": "#19d3f3",
            "symbol": "circle"
           },
           "mode": "markers",
           "name": "RR Pant",
           "orientation": "v",
           "showlegend": true,
           "type": "scatter",
           "x": [
            1136615
           ],
           "xaxis": "x",
           "y": [
            142.22222222222223
           ],
           "yaxis": "y"
          },
          {
           "hovertemplate": "batter=SA Yadav<br>matchid=%{x}<br>strike_rate=%{y}<extra></extra>",
           "ids": [
            "SA Yadav"
           ],
           "legendgroup": "SA Yadav",
           "marker": {
            "color": "#00cc96",
            "symbol": "circle"
           },
           "mode": "markers",
           "name": "SA Yadav",
           "orientation": "v",
           "showlegend": true,
           "type": "scatter",
           "x": [
            1136615
           ],
           "xaxis": "x",
           "y": [
            300
           ],
           "yaxis": "y"
          },
          {
           "hovertemplate": "batter=SS Iyer<br>matchid=%{x}<br>strike_rate=%{y}<extra></extra>",
           "ids": [
            "SS Iyer"
           ],
           "legendgroup": "SS Iyer",
           "marker": {
            "color": "#FECB52",
            "symbol": "circle"
           },
           "mode": "markers",
           "name": "SS Iyer",
           "orientation": "v",
           "showlegend": true,
           "type": "scatter",
           "x": [
            1136615
           ],
           "xaxis": "x",
           "y": [
            60
           ],
           "yaxis": "y"
          },
          {
           "hovertemplate": "batter=V Shankar<br>matchid=%{x}<br>strike_rate=%{y}<extra></extra>",
           "ids": [
            "V Shankar"
           ],
           "legendgroup": "V Shankar",
           "marker": {
            "color": "#00cc96",
            "symbol": "circle"
           },
           "mode": "markers",
           "name": "V Shankar",
           "orientation": "v",
           "showlegend": true,
           "type": "scatter",
           "x": [
            1136615
           ],
           "xaxis": "x",
           "y": [
            134.375
           ],
           "yaxis": "y"
          }
         ],
         "name": "1136615"
        },
        {
         "data": [
          {
           "hovertemplate": "batter=B Stanlake<br>matchid=%{x}<br>strike_rate=%{y}<extra></extra>",
           "ids": [
            "B Stanlake"
           ],
           "legendgroup": "B Stanlake",
           "marker": {
            "color": "#FF6692",
            "symbol": "circle"
           },
           "mode": "markers",
           "name": "B Stanlake",
           "orientation": "v",
           "showlegend": true,
           "type": "scatter",
           "x": [
            1136567
           ],
           "xaxis": "x",
           "y": [
            250
           ],
           "yaxis": "y"
          },
          {
           "hovertemplate": "batter=BCJ Cutting<br>matchid=%{x}<br>strike_rate=%{y}<extra></extra>",
           "ids": [
            "BCJ Cutting"
           ],
           "legendgroup": "BCJ Cutting",
           "marker": {
            "color": "#636efa",
            "symbol": "circle"
           },
           "mode": "markers",
           "name": "BCJ Cutting",
           "orientation": "v",
           "showlegend": true,
           "type": "scatter",
           "x": [
            1136567
           ],
           "xaxis": "x",
           "y": [
            100
           ],
           "yaxis": "y"
          },
          {
           "hovertemplate": "batter=DJ Hooda<br>matchid=%{x}<br>strike_rate=%{y}<extra></extra>",
           "ids": [
            "DJ Hooda"
           ],
           "legendgroup": "DJ Hooda",
           "marker": {
            "color": "#00cc96",
            "symbol": "circle"
           },
           "mode": "markers",
           "name": "DJ Hooda",
           "orientation": "v",
           "showlegend": true,
           "type": "scatter",
           "x": [
            1136567
           ],
           "xaxis": "x",
           "y": [
            123.07692307692308
           ],
           "yaxis": "y"
          },
          {
           "hovertemplate": "batter=E Lewis<br>matchid=%{x}<br>strike_rate=%{y}<extra></extra>",
           "ids": [
            "E Lewis"
           ],
           "legendgroup": "E Lewis",
           "marker": {
            "color": "#FF97FF",
            "symbol": "circle"
           },
           "mode": "markers",
           "name": "E Lewis",
           "orientation": "v",
           "showlegend": true,
           "type": "scatter",
           "x": [
            1136567
           ],
           "xaxis": "x",
           "y": [
            161.11111111111111
           ],
           "yaxis": "y"
          },
          {
           "hovertemplate": "batter=Ishan Kishan<br>matchid=%{x}<br>strike_rate=%{y}<extra></extra>",
           "ids": [
            "Ishan Kishan"
           ],
           "legendgroup": "Ishan Kishan",
           "marker": {
            "color": "#FF97FF",
            "symbol": "circle"
           },
           "mode": "markers",
           "name": "Ishan Kishan",
           "orientation": "v",
           "showlegend": true,
           "type": "scatter",
           "x": [
            1136567
           ],
           "xaxis": "x",
           "y": [
            100
           ],
           "yaxis": "y"
          },
          {
           "hovertemplate": "batter=JJ Bumrah<br>matchid=%{x}<br>strike_rate=%{y}<extra></extra>",
           "ids": [
            "JJ Bumrah"
           ],
           "legendgroup": "JJ Bumrah",
           "marker": {
            "color": "#00cc96",
            "symbol": "circle"
           },
           "mode": "markers",
           "name": "JJ Bumrah",
           "orientation": "v",
           "showlegend": true,
           "type": "scatter",
           "x": [
            1136567
           ],
           "xaxis": "x",
           "y": [
            80
           ],
           "yaxis": "y"
          },
          {
           "hovertemplate": "batter=KA Pollard<br>matchid=%{x}<br>strike_rate=%{y}<extra></extra>",
           "ids": [
            "KA Pollard"
           ],
           "legendgroup": "KA Pollard",
           "marker": {
            "color": "#B6E880",
            "symbol": "circle"
           },
           "mode": "markers",
           "name": "KA Pollard",
           "orientation": "v",
           "showlegend": true,
           "type": "scatter",
           "x": [
            1136567
           ],
           "xaxis": "x",
           "y": [
            121.73913043478262
           ],
           "yaxis": "y"
          },
          {
           "hovertemplate": "batter=KH Pandya<br>matchid=%{x}<br>strike_rate=%{y}<extra></extra>",
           "ids": [
            "KH Pandya"
           ],
           "legendgroup": "KH Pandya",
           "marker": {
            "color": "#FECB52",
            "symbol": "circle"
           },
           "mode": "markers",
           "name": "KH Pandya",
           "orientation": "v",
           "showlegend": true,
           "type": "scatter",
           "x": [
            1136567
           ],
           "xaxis": "x",
           "y": [
            136.36363636363635
           ],
           "yaxis": "y"
          },
          {
           "hovertemplate": "batter=KS Williamson<br>matchid=%{x}<br>strike_rate=%{y}<extra></extra>",
           "ids": [
            "KS Williamson"
           ],
           "legendgroup": "KS Williamson",
           "marker": {
            "color": "#ab63fa",
            "symbol": "circle"
           },
           "mode": "markers",
           "name": "KS Williamson",
           "orientation": "v",
           "showlegend": true,
           "type": "scatter",
           "x": [
            1136567
           ],
           "xaxis": "x",
           "y": [
            150
           ],
           "yaxis": "y"
          },
          {
           "hovertemplate": "batter=M Markande<br>matchid=%{x}<br>strike_rate=%{y}<extra></extra>",
           "ids": [
            "M Markande"
           ],
           "legendgroup": "M Markande",
           "marker": {
            "color": "#B6E880",
            "symbol": "circle"
           },
           "mode": "markers",
           "name": "M Markande",
           "orientation": "v",
           "showlegend": true,
           "type": "scatter",
           "x": [
            1136567
           ],
           "xaxis": "x",
           "y": [
            200
           ],
           "yaxis": "y"
          },
          {
           "hovertemplate": "batter=MK Pandey<br>matchid=%{x}<br>strike_rate=%{y}<extra></extra>",
           "ids": [
            "MK Pandey"
           ],
           "legendgroup": "MK Pandey",
           "marker": {
            "color": "#FF6692",
            "symbol": "circle"
           },
           "mode": "markers",
           "name": "MK Pandey",
           "orientation": "v",
           "showlegend": true,
           "type": "scatter",
           "x": [
            1136567
           ],
           "xaxis": "x",
           "y": [
            137.5
           ],
           "yaxis": "y"
          },
          {
           "hovertemplate": "batter=PJ Sangwan<br>matchid=%{x}<br>strike_rate=%{y}<extra></extra>",
           "ids": [
            "PJ Sangwan"
           ],
           "legendgroup": "PJ Sangwan",
           "marker": {
            "color": "#ab63fa",
            "symbol": "circle"
           },
           "mode": "markers",
           "name": "PJ Sangwan",
           "orientation": "v",
           "showlegend": true,
           "type": "scatter",
           "x": [
            1136567
           ],
           "xaxis": "x",
           "y": [
            0
           ],
           "yaxis": "y"
          },
          {
           "hovertemplate": "batter=RG Sharma<br>matchid=%{x}<br>strike_rate=%{y}<extra></extra>",
           "ids": [
            "RG Sharma"
           ],
           "legendgroup": "RG Sharma",
           "marker": {
            "color": "#00cc96",
            "symbol": "circle"
           },
           "mode": "markers",
           "name": "RG Sharma",
           "orientation": "v",
           "showlegend": true,
           "type": "scatter",
           "x": [
            1136567
           ],
           "xaxis": "x",
           "y": [
            110.00000000000001
           ],
           "yaxis": "y"
          },
          {
           "hovertemplate": "batter=Rashid Khan<br>matchid=%{x}<br>strike_rate=%{y}<extra></extra>",
           "ids": [
            "Rashid Khan"
           ],
           "legendgroup": "Rashid Khan",
           "marker": {
            "color": "#B6E880",
            "symbol": "circle"
           },
           "mode": "markers",
           "name": "Rashid Khan",
           "orientation": "v",
           "showlegend": true,
           "type": "scatter",
           "x": [
            1136567
           ],
           "xaxis": "x",
           "y": [
            0
           ],
           "yaxis": "y"
          },
          {
           "hovertemplate": "batter=S Dhawan<br>matchid=%{x}<br>strike_rate=%{y}<extra></extra>",
           "ids": [
            "S Dhawan"
           ],
           "legendgroup": "S Dhawan",
           "marker": {
            "color": "#FF97FF",
            "symbol": "circle"
           },
           "mode": "markers",
           "name": "S Dhawan",
           "orientation": "v",
           "showlegend": true,
           "type": "scatter",
           "x": [
            1136567
           ],
           "xaxis": "x",
           "y": [
            160.71428571428572
           ],
           "yaxis": "y"
          },
          {
           "hovertemplate": "batter=S Kaul<br>matchid=%{x}<br>strike_rate=%{y}<extra></extra>",
           "ids": [
            "S Kaul"
           ],
           "legendgroup": "S Kaul",
           "marker": {
            "color": "#636efa",
            "symbol": "circle"
           },
           "mode": "markers",
           "name": "S Kaul",
           "orientation": "v",
           "showlegend": true,
           "type": "scatter",
           "x": [
            1136567
           ],
           "xaxis": "x",
           "y": [
            0
           ],
           "yaxis": "y"
          },
          {
           "hovertemplate": "batter=SA Yadav<br>matchid=%{x}<br>strike_rate=%{y}<extra></extra>",
           "ids": [
            "SA Yadav"
           ],
           "legendgroup": "SA Yadav",
           "marker": {
            "color": "#00cc96",
            "symbol": "circle"
           },
           "mode": "markers",
           "name": "SA Yadav",
           "orientation": "v",
           "showlegend": true,
           "type": "scatter",
           "x": [
            1136567
           ],
           "xaxis": "x",
           "y": [
            90.32258064516128
           ],
           "yaxis": "y"
          },
          {
           "hovertemplate": "batter=Sandeep Sharma<br>matchid=%{x}<br>strike_rate=%{y}<extra></extra>",
           "ids": [
            "Sandeep Sharma"
           ],
           "legendgroup": "Sandeep Sharma",
           "marker": {
            "color": "#ab63fa",
            "symbol": "circle"
           },
           "mode": "markers",
           "name": "Sandeep Sharma",
           "orientation": "v",
           "showlegend": true,
           "type": "scatter",
           "x": [
            1136567
           ],
           "xaxis": "x",
           "y": [
            0
           ],
           "yaxis": "y"
          },
          {
           "hovertemplate": "batter=Shakib Al Hasan<br>matchid=%{x}<br>strike_rate=%{y}<extra></extra>",
           "ids": [
            "Shakib Al Hasan"
           ],
           "legendgroup": "Shakib Al Hasan",
           "marker": {
            "color": "#FFA15A",
            "symbol": "circle"
           },
           "mode": "markers",
           "name": "Shakib Al Hasan",
           "orientation": "v",
           "showlegend": true,
           "type": "scatter",
           "x": [
            1136567
           ],
           "xaxis": "x",
           "y": [
            100
           ],
           "yaxis": "y"
          },
          {
           "hovertemplate": "batter=WP Saha<br>matchid=%{x}<br>strike_rate=%{y}<extra></extra>",
           "ids": [
            "WP Saha"
           ],
           "legendgroup": "WP Saha",
           "marker": {
            "color": "#ab63fa",
            "symbol": "circle"
           },
           "mode": "markers",
           "name": "WP Saha",
           "orientation": "v",
           "showlegend": true,
           "type": "scatter",
           "x": [
            1136567
           ],
           "xaxis": "x",
           "y": [
            110.00000000000001
           ],
           "yaxis": "y"
          },
          {
           "hovertemplate": "batter=YK Pathan<br>matchid=%{x}<br>strike_rate=%{y}<extra></extra>",
           "ids": [
            "YK Pathan"
           ],
           "legendgroup": "YK Pathan",
           "marker": {
            "color": "#19d3f3",
            "symbol": "circle"
           },
           "mode": "markers",
           "name": "YK Pathan",
           "orientation": "v",
           "showlegend": true,
           "type": "scatter",
           "x": [
            1136567
           ],
           "xaxis": "x",
           "y": [
            100
           ],
           "yaxis": "y"
          }
         ],
         "name": "1136567"
        },
        {
         "data": [
          {
           "hovertemplate": "batter=BA Stokes<br>matchid=%{x}<br>strike_rate=%{y}<extra></extra>",
           "ids": [
            "BA Stokes"
           ],
           "legendgroup": "BA Stokes",
           "marker": {
            "color": "#B6E880",
            "symbol": "circle"
           },
           "mode": "markers",
           "name": "BA Stokes",
           "orientation": "v",
           "showlegend": true,
           "type": "scatter",
           "x": [
            1136592
           ],
           "xaxis": "x",
           "y": [
            33.33333333333333
           ],
           "yaxis": "y"
          },
          {
           "hovertemplate": "batter=C Munro<br>matchid=%{x}<br>strike_rate=%{y}<extra></extra>",
           "ids": [
            "C Munro"
           ],
           "legendgroup": "C Munro",
           "marker": {
            "color": "#00cc96",
            "symbol": "circle"
           },
           "mode": "markers",
           "name": "C Munro",
           "orientation": "v",
           "showlegend": true,
           "type": "scatter",
           "x": [
            1136592
           ],
           "xaxis": "x",
           "y": [
            0
           ],
           "yaxis": "y"
          },
          {
           "hovertemplate": "batter=DJM Short<br>matchid=%{x}<br>strike_rate=%{y}<extra></extra>",
           "ids": [
            "DJM Short"
           ],
           "legendgroup": "DJM Short",
           "marker": {
            "color": "#ab63fa",
            "symbol": "circle"
           },
           "mode": "markers",
           "name": "DJM Short",
           "orientation": "v",
           "showlegend": true,
           "type": "scatter",
           "x": [
            1136592
           ],
           "xaxis": "x",
           "y": [
            176
           ],
           "yaxis": "y"
          },
          {
           "hovertemplate": "batter=GJ Maxwell<br>matchid=%{x}<br>strike_rate=%{y}<extra></extra>",
           "ids": [
            "GJ Maxwell"
           ],
           "legendgroup": "GJ Maxwell",
           "marker": {
            "color": "#EF553B",
            "symbol": "circle"
           },
           "mode": "markers",
           "name": "GJ Maxwell",
           "orientation": "v",
           "showlegend": true,
           "type": "scatter",
           "x": [
            1136592
           ],
           "xaxis": "x",
           "y": [
            100
           ],
           "yaxis": "y"
          },
          {
           "hovertemplate": "batter=JC Buttler<br>matchid=%{x}<br>strike_rate=%{y}<extra></extra>",
           "ids": [
            "JC Buttler"
           ],
           "legendgroup": "JC Buttler",
           "marker": {
            "color": "#636efa",
            "symbol": "circle"
           },
           "mode": "markers",
           "name": "JC Buttler",
           "orientation": "v",
           "showlegend": true,
           "type": "scatter",
           "x": [
            1136592
           ],
           "xaxis": "x",
           "y": [
            248.14814814814815
           ],
           "yaxis": "y"
          },
          {
           "hovertemplate": "batter=K Gowtham<br>matchid=%{x}<br>strike_rate=%{y}<extra></extra>",
           "ids": [
            "K Gowtham"
           ],
           "legendgroup": "K Gowtham",
           "marker": {
            "color": "#FF6692",
            "symbol": "circle"
           },
           "mode": "markers",
           "name": "K Gowtham",
           "orientation": "v",
           "showlegend": true,
           "type": "scatter",
           "x": [
            1136592
           ],
           "xaxis": "x",
           "y": [
            300
           ],
           "yaxis": "y"
          },
          {
           "hovertemplate": "batter=LE Plunkett<br>matchid=%{x}<br>strike_rate=%{y}<extra></extra>",
           "ids": [
            "LE Plunkett"
           ],
           "legendgroup": "LE Plunkett",
           "marker": {
            "color": "#19d3f3",
            "symbol": "circle"
           },
           "mode": "markers",
           "name": "LE Plunkett",
           "orientation": "v",
           "showlegend": true,
           "type": "scatter",
           "x": [
            1136592
           ],
           "xaxis": "x",
           "y": [
            50
           ],
           "yaxis": "y"
          },
          {
           "hovertemplate": "batter=PP Shaw<br>matchid=%{x}<br>strike_rate=%{y}<extra></extra>",
           "ids": [
            "PP Shaw"
           ],
           "legendgroup": "PP Shaw",
           "marker": {
            "color": "#19d3f3",
            "symbol": "circle"
           },
           "mode": "markers",
           "name": "PP Shaw",
           "orientation": "v",
           "showlegend": true,
           "type": "scatter",
           "x": [
            1136592
           ],
           "xaxis": "x",
           "y": [
            180.76923076923077
           ],
           "yaxis": "y"
          },
          {
           "hovertemplate": "batter=RA Tripathi<br>matchid=%{x}<br>strike_rate=%{y}<extra></extra>",
           "ids": [
            "RA Tripathi"
           ],
           "legendgroup": "RA Tripathi",
           "marker": {
            "color": "#EF553B",
            "symbol": "circle"
           },
           "mode": "markers",
           "name": "RA Tripathi",
           "orientation": "v",
           "showlegend": true,
           "type": "scatter",
           "x": [
            1136592
           ],
           "xaxis": "x",
           "y": [
            100
           ],
           "yaxis": "y"
          },
          {
           "hovertemplate": "batter=RR Pant<br>matchid=%{x}<br>strike_rate=%{y}<extra></extra>",
           "ids": [
            "RR Pant"
           ],
           "legendgroup": "RR Pant",
           "marker": {
            "color": "#19d3f3",
            "symbol": "circle"
           },
           "mode": "markers",
           "name": "RR Pant",
           "orientation": "v",
           "showlegend": true,
           "type": "scatter",
           "x": [
            1136592
           ],
           "xaxis": "x",
           "y": [
            209.0909090909091
           ],
           "yaxis": "y"
          },
          {
           "hovertemplate": "batter=SS Iyer<br>matchid=%{x}<br>strike_rate=%{y}<extra></extra>",
           "ids": [
            "SS Iyer"
           ],
           "legendgroup": "SS Iyer",
           "marker": {
            "color": "#FECB52",
            "symbol": "circle"
           },
           "mode": "markers",
           "name": "SS Iyer",
           "orientation": "v",
           "showlegend": true,
           "type": "scatter",
           "x": [
            1136592
           ],
           "xaxis": "x",
           "y": [
            142.85714285714286
           ],
           "yaxis": "y"
          },
          {
           "hovertemplate": "batter=SV Samson<br>matchid=%{x}<br>strike_rate=%{y}<extra></extra>",
           "ids": [
            "SV Samson"
           ],
           "legendgroup": "SV Samson",
           "marker": {
            "color": "#EF553B",
            "symbol": "circle"
           },
           "mode": "markers",
           "name": "SV Samson",
           "orientation": "v",
           "showlegend": true,
           "type": "scatter",
           "x": [
            1136592
           ],
           "xaxis": "x",
           "y": [
            60
           ],
           "yaxis": "y"
          },
          {
           "hovertemplate": "batter=V Shankar<br>matchid=%{x}<br>strike_rate=%{y}<extra></extra>",
           "ids": [
            "V Shankar"
           ],
           "legendgroup": "V Shankar",
           "marker": {
            "color": "#00cc96",
            "symbol": "circle"
           },
           "mode": "markers",
           "name": "V Shankar",
           "orientation": "v",
           "showlegend": true,
           "type": "scatter",
           "x": [
            1136592
           ],
           "xaxis": "x",
           "y": [
            242.85714285714283
           ],
           "yaxis": "y"
          }
         ],
         "name": "1136592"
        },
        {
         "data": [
          {
           "hovertemplate": "batter=BB McCullum<br>matchid=%{x}<br>strike_rate=%{y}<extra></extra>",
           "ids": [
            "BB McCullum"
           ],
           "legendgroup": "BB McCullum",
           "marker": {
            "color": "#FF97FF",
            "symbol": "circle"
           },
           "mode": "markers",
           "name": "BB McCullum",
           "orientation": "v",
           "showlegend": true,
           "type": "scatter",
           "x": [
            1136591
           ],
           "xaxis": "x",
           "y": [
            148
           ],
           "yaxis": "y"
          },
          {
           "hovertemplate": "batter=BCJ Cutting<br>matchid=%{x}<br>strike_rate=%{y}<extra></extra>",
           "ids": [
            "BCJ Cutting"
           ],
           "legendgroup": "BCJ Cutting",
           "marker": {
            "color": "#636efa",
            "symbol": "circle"
           },
           "mode": "markers",
           "name": "BCJ Cutting",
           "orientation": "v",
           "showlegend": true,
           "type": "scatter",
           "x": [
            1136591
           ],
           "xaxis": "x",
           "y": [
            200
           ],
           "yaxis": "y"
          },
          {
           "hovertemplate": "batter=C de Grandhomme<br>matchid=%{x}<br>strike_rate=%{y}<extra></extra>",
           "ids": [
            "C de Grandhomme"
           ],
           "legendgroup": "C de Grandhomme",
           "marker": {
            "color": "#ab63fa",
            "symbol": "circle"
           },
           "mode": "markers",
           "name": "C de Grandhomme",
           "orientation": "v",
           "showlegend": true,
           "type": "scatter",
           "x": [
            1136591
           ],
           "xaxis": "x",
           "y": [
            229.99999999999997
           ],
           "yaxis": "y"
          },
          {
           "hovertemplate": "batter=HH Pandya<br>matchid=%{x}<br>strike_rate=%{y}<extra></extra>",
           "ids": [
            "HH Pandya"
           ],
           "legendgroup": "HH Pandya",
           "marker": {
            "color": "#ab63fa",
            "symbol": "circle"
           },
           "mode": "markers",
           "name": "HH Pandya",
           "orientation": "v",
           "showlegend": true,
           "type": "scatter",
           "x": [
            1136591
           ],
           "xaxis": "x",
           "y": [
            111.11111111111111
           ],
           "yaxis": "y"
          },
          {
           "hovertemplate": "batter=Ishan Kishan<br>matchid=%{x}<br>strike_rate=%{y}<extra></extra>",
           "ids": [
            "Ishan Kishan"
           ],
           "legendgroup": "Ishan Kishan",
           "marker": {
            "color": "#FF97FF",
            "symbol": "circle"
           },
           "mode": "markers",
           "name": "Ishan Kishan",
           "orientation": "v",
           "showlegend": true,
           "type": "scatter",
           "x": [
            1136591
           ],
           "xaxis": "x",
           "y": [
            0
           ],
           "yaxis": "y"
          },
          {
           "hovertemplate": "batter=JP Duminy<br>matchid=%{x}<br>strike_rate=%{y}<extra></extra>",
           "ids": [
            "JP Duminy"
           ],
           "legendgroup": "JP Duminy",
           "marker": {
            "color": "#FFA15A",
            "symbol": "circle"
           },
           "mode": "markers",
           "name": "JP Duminy",
           "orientation": "v",
           "showlegend": true,
           "type": "scatter",
           "x": [
            1136591
           ],
           "xaxis": "x",
           "y": [
            67.64705882352942
           ],
           "yaxis": "y"
          },
          {
           "hovertemplate": "batter=KA Pollard<br>matchid=%{x}<br>strike_rate=%{y}<extra></extra>",
           "ids": [
            "KA Pollard"
           ],
           "legendgroup": "KA Pollard",
           "marker": {
            "color": "#B6E880",
            "symbol": "circle"
           },
           "mode": "markers",
           "name": "KA Pollard",
           "orientation": "v",
           "showlegend": true,
           "type": "scatter",
           "x": [
            1136591
           ],
           "xaxis": "x",
           "y": [
            86.66666666666667
           ],
           "yaxis": "y"
          },
          {
           "hovertemplate": "batter=KH Pandya<br>matchid=%{x}<br>strike_rate=%{y}<extra></extra>",
           "ids": [
            "KH Pandya"
           ],
           "legendgroup": "KH Pandya",
           "marker": {
            "color": "#FECB52",
            "symbol": "circle"
           },
           "mode": "markers",
           "name": "KH Pandya",
           "orientation": "v",
           "showlegend": true,
           "type": "scatter",
           "x": [
            1136591
           ],
           "xaxis": "x",
           "y": [
            121.05263157894737
           ],
           "yaxis": "y"
          },
          {
           "hovertemplate": "batter=M Vohra<br>matchid=%{x}<br>strike_rate=%{y}<extra></extra>",
           "ids": [
            "M Vohra"
           ],
           "legendgroup": "M Vohra",
           "marker": {
            "color": "#636efa",
            "symbol": "circle"
           },
           "mode": "markers",
           "name": "M Vohra",
           "orientation": "v",
           "showlegend": true,
           "type": "scatter",
           "x": [
            1136591
           ],
           "xaxis": "x",
           "y": [
            145.16129032258064
           ],
           "yaxis": "y"
          },
          {
           "hovertemplate": "batter=Mandeep Singh<br>matchid=%{x}<br>strike_rate=%{y}<extra></extra>",
           "ids": [
            "Mandeep Singh"
           ],
           "legendgroup": "Mandeep Singh",
           "marker": {
            "color": "#00cc96",
            "symbol": "circle"
           },
           "mode": "markers",
           "name": "Mandeep Singh",
           "orientation": "v",
           "showlegend": true,
           "type": "scatter",
           "x": [
            1136591
           ],
           "xaxis": "x",
           "y": [
            140
           ],
           "yaxis": "y"
          },
          {
           "hovertemplate": "batter=Q de Kock<br>matchid=%{x}<br>strike_rate=%{y}<extra></extra>",
           "ids": [
            "Q de Kock"
           ],
           "legendgroup": "Q de Kock",
           "marker": {
            "color": "#FF6692",
            "symbol": "circle"
           },
           "mode": "markers",
           "name": "Q de Kock",
           "orientation": "v",
           "showlegend": true,
           "type": "scatter",
           "x": [
            1136591
           ],
           "xaxis": "x",
           "y": [
            50
           ],
           "yaxis": "y"
          },
          {
           "hovertemplate": "batter=RG Sharma<br>matchid=%{x}<br>strike_rate=%{y}<extra></extra>",
           "ids": [
            "RG Sharma"
           ],
           "legendgroup": "RG Sharma",
           "marker": {
            "color": "#00cc96",
            "symbol": "circle"
           },
           "mode": "markers",
           "name": "RG Sharma",
           "orientation": "v",
           "showlegend": true,
           "type": "scatter",
           "x": [
            1136591
           ],
           "xaxis": "x",
           "y": [
            0
           ],
           "yaxis": "y"
          },
          {
           "hovertemplate": "batter=SA Yadav<br>matchid=%{x}<br>strike_rate=%{y}<extra></extra>",
           "ids": [
            "SA Yadav"
           ],
           "legendgroup": "SA Yadav",
           "marker": {
            "color": "#00cc96",
            "symbol": "circle"
           },
           "mode": "markers",
           "name": "SA Yadav",
           "orientation": "v",
           "showlegend": true,
           "type": "scatter",
           "x": [
            1136591
           ],
           "xaxis": "x",
           "y": [
            100
           ],
           "yaxis": "y"
          },
          {
           "hovertemplate": "batter=TG Southee<br>matchid=%{x}<br>strike_rate=%{y}<extra></extra>",
           "ids": [
            "TG Southee"
           ],
           "legendgroup": "TG Southee",
           "marker": {
            "color": "#FF97FF",
            "symbol": "circle"
           },
           "mode": "markers",
           "name": "TG Southee",
           "orientation": "v",
           "showlegend": true,
           "type": "scatter",
           "x": [
            1136591
           ],
           "xaxis": "x",
           "y": [
            50
           ],
           "yaxis": "y"
          },
          {
           "hovertemplate": "batter=UT Yadav<br>matchid=%{x}<br>strike_rate=%{y}<extra></extra>",
           "ids": [
            "UT Yadav"
           ],
           "legendgroup": "UT Yadav",
           "marker": {
            "color": "#636efa",
            "symbol": "circle"
           },
           "mode": "markers",
           "name": "UT Yadav",
           "orientation": "v",
           "showlegend": true,
           "type": "scatter",
           "x": [
            1136591
           ],
           "xaxis": "x",
           "y": [
            50
           ],
           "yaxis": "y"
          },
          {
           "hovertemplate": "batter=V Kohli<br>matchid=%{x}<br>strike_rate=%{y}<extra></extra>",
           "ids": [
            "V Kohli"
           ],
           "legendgroup": "V Kohli",
           "marker": {
            "color": "#EF553B",
            "symbol": "circle"
           },
           "mode": "markers",
           "name": "V Kohli",
           "orientation": "v",
           "showlegend": true,
           "type": "scatter",
           "x": [
            1136591
           ],
           "xaxis": "x",
           "y": [
            123.07692307692308
           ],
           "yaxis": "y"
          },
          {
           "hovertemplate": "batter=Washington Sundar<br>matchid=%{x}<br>strike_rate=%{y}<extra></extra>",
           "ids": [
            "Washington Sundar"
           ],
           "legendgroup": "Washington Sundar",
           "marker": {
            "color": "#FFA15A",
            "symbol": "circle"
           },
           "mode": "markers",
           "name": "Washington Sundar",
           "orientation": "v",
           "showlegend": true,
           "type": "scatter",
           "x": [
            1136591
           ],
           "xaxis": "x",
           "y": [
            33.33333333333333
           ],
           "yaxis": "y"
          }
         ],
         "name": "1136591"
        },
        {
         "data": [
          {
           "hovertemplate": "batter=Basil Thampi<br>matchid=%{x}<br>strike_rate=%{y}<extra></extra>",
           "ids": [
            "Basil Thampi"
           ],
           "legendgroup": "Basil Thampi",
           "marker": {
            "color": "#EF553B",
            "symbol": "circle"
           },
           "mode": "markers",
           "name": "Basil Thampi",
           "orientation": "v",
           "showlegend": true,
           "type": "scatter",
           "x": [
            1136583
           ],
           "xaxis": "x",
           "y": [
            50
           ],
           "yaxis": "y"
          },
          {
           "hovertemplate": "batter=E Lewis<br>matchid=%{x}<br>strike_rate=%{y}<extra></extra>",
           "ids": [
            "E Lewis"
           ],
           "legendgroup": "E Lewis",
           "marker": {
            "color": "#FF97FF",
            "symbol": "circle"
           },
           "mode": "markers",
           "name": "E Lewis",
           "orientation": "v",
           "showlegend": true,
           "type": "scatter",
           "x": [
            1136583
           ],
           "xaxis": "x",
           "y": [
            55.55555555555556
           ],
           "yaxis": "y"
          },
          {
           "hovertemplate": "batter=HH Pandya<br>matchid=%{x}<br>strike_rate=%{y}<extra></extra>",
           "ids": [
            "HH Pandya"
           ],
           "legendgroup": "HH Pandya",
           "marker": {
            "color": "#ab63fa",
            "symbol": "circle"
           },
           "mode": "markers",
           "name": "HH Pandya",
           "orientation": "v",
           "showlegend": true,
           "type": "scatter",
           "x": [
            1136583
           ],
           "xaxis": "x",
           "y": [
            15.789473684210526
           ],
           "yaxis": "y"
          },
          {
           "hovertemplate": "batter=Ishan Kishan<br>matchid=%{x}<br>strike_rate=%{y}<extra></extra>",
           "ids": [
            "Ishan Kishan"
           ],
           "legendgroup": "Ishan Kishan",
           "marker": {
            "color": "#FF97FF",
            "symbol": "circle"
           },
           "mode": "markers",
           "name": "Ishan Kishan",
           "orientation": "v",
           "showlegend": true,
           "type": "scatter",
           "x": [
            1136583
           ],
           "xaxis": "x",
           "y": [
            0
           ],
           "yaxis": "y"
          },
          {
           "hovertemplate": "batter=JJ Bumrah<br>matchid=%{x}<br>strike_rate=%{y}<extra></extra>",
           "ids": [
            "JJ Bumrah"
           ],
           "legendgroup": "JJ Bumrah",
           "marker": {
            "color": "#00cc96",
            "symbol": "circle"
           },
           "mode": "markers",
           "name": "JJ Bumrah",
           "orientation": "v",
           "showlegend": true,
           "type": "scatter",
           "x": [
            1136583
           ],
           "xaxis": "x",
           "y": [
            120
           ],
           "yaxis": "y"
          },
          {
           "hovertemplate": "batter=KA Pollard<br>matchid=%{x}<br>strike_rate=%{y}<extra></extra>",
           "ids": [
            "KA Pollard"
           ],
           "legendgroup": "KA Pollard",
           "marker": {
            "color": "#B6E880",
            "symbol": "circle"
           },
           "mode": "markers",
           "name": "KA Pollard",
           "orientation": "v",
           "showlegend": true,
           "type": "scatter",
           "x": [
            1136583
           ],
           "xaxis": "x",
           "y": [
            150
           ],
           "yaxis": "y"
          },
          {
           "hovertemplate": "batter=KH Pandya<br>matchid=%{x}<br>strike_rate=%{y}<extra></extra>",
           "ids": [
            "KH Pandya"
           ],
           "legendgroup": "KH Pandya",
           "marker": {
            "color": "#FECB52",
            "symbol": "circle"
           },
           "mode": "markers",
           "name": "KH Pandya",
           "orientation": "v",
           "showlegend": true,
           "type": "scatter",
           "x": [
            1136583
           ],
           "xaxis": "x",
           "y": [
            120
           ],
           "yaxis": "y"
          },
          {
           "hovertemplate": "batter=KS Williamson<br>matchid=%{x}<br>strike_rate=%{y}<extra></extra>",
           "ids": [
            "KS Williamson"
           ],
           "legendgroup": "KS Williamson",
           "marker": {
            "color": "#ab63fa",
            "symbol": "circle"
           },
           "mode": "markers",
           "name": "KS Williamson",
           "orientation": "v",
           "showlegend": true,
           "type": "scatter",
           "x": [
            1136583
           ],
           "xaxis": "x",
           "y": [
            131.8181818181818
           ],
           "yaxis": "y"
          },
          {
           "hovertemplate": "batter=M Markande<br>matchid=%{x}<br>strike_rate=%{y}<extra></extra>",
           "ids": [
            "M Markande"
           ],
           "legendgroup": "M Markande",
           "marker": {
            "color": "#B6E880",
            "symbol": "circle"
           },
           "mode": "markers",
           "name": "M Markande",
           "orientation": "v",
           "showlegend": true,
           "type": "scatter",
           "x": [
            1136583
           ],
           "xaxis": "x",
           "y": [
            50
           ],
           "yaxis": "y"
          },
          {
           "hovertemplate": "batter=MJ McClenaghan<br>matchid=%{x}<br>strike_rate=%{y}<extra></extra>",
           "ids": [
            "MJ McClenaghan"
           ],
           "legendgroup": "MJ McClenaghan",
           "marker": {
            "color": "#FFA15A",
            "symbol": "circle"
           },
           "mode": "markers",
           "name": "MJ McClenaghan",
           "orientation": "v",
           "showlegend": true,
           "type": "scatter",
           "x": [
            1136583
           ],
           "xaxis": "x",
           "y": [
            0
           ],
           "yaxis": "y"
          },
          {
           "hovertemplate": "batter=MK Pandey<br>matchid=%{x}<br>strike_rate=%{y}<extra></extra>",
           "ids": [
            "MK Pandey"
           ],
           "legendgroup": "MK Pandey",
           "marker": {
            "color": "#FF6692",
            "symbol": "circle"
           },
           "mode": "markers",
           "name": "MK Pandey",
           "orientation": "v",
           "showlegend": true,
           "type": "scatter",
           "x": [
            1136583
           ],
           "xaxis": "x",
           "y": [
            145.45454545454547
           ],
           "yaxis": "y"
          },
          {
           "hovertemplate": "batter=Mohammad Nabi<br>matchid=%{x}<br>strike_rate=%{y}<extra></extra>",
           "ids": [
            "Mohammad Nabi"
           ],
           "legendgroup": "Mohammad Nabi",
           "marker": {
            "color": "#ab63fa",
            "symbol": "circle"
           },
           "mode": "markers",
           "name": "Mohammad Nabi",
           "orientation": "v",
           "showlegend": true,
           "type": "scatter",
           "x": [
            1136583
           ],
           "xaxis": "x",
           "y": [
            140
           ],
           "yaxis": "y"
          },
          {
           "hovertemplate": "batter=Mustafizur Rahman<br>matchid=%{x}<br>strike_rate=%{y}<extra></extra>",
           "ids": [
            "Mustafizur Rahman"
           ],
           "legendgroup": "Mustafizur Rahman",
           "marker": {
            "color": "#B6E880",
            "symbol": "circle"
           },
           "mode": "markers",
           "name": "Mustafizur Rahman",
           "orientation": "v",
           "showlegend": true,
           "type": "scatter",
           "x": [
            1136583
           ],
           "xaxis": "x",
           "y": [
            33.33333333333333
           ],
           "yaxis": "y"
          },
          {
           "hovertemplate": "batter=RG Sharma<br>matchid=%{x}<br>strike_rate=%{y}<extra></extra>",
           "ids": [
            "RG Sharma"
           ],
           "legendgroup": "RG Sharma",
           "marker": {
            "color": "#00cc96",
            "symbol": "circle"
           },
           "mode": "markers",
           "name": "RG Sharma",
           "orientation": "v",
           "showlegend": true,
           "type": "scatter",
           "x": [
            1136583
           ],
           "xaxis": "x",
           "y": [
            33.33333333333333
           ],
           "yaxis": "y"
          },
          {
           "hovertemplate": "batter=Rashid Khan<br>matchid=%{x}<br>strike_rate=%{y}<extra></extra>",
           "ids": [
            "Rashid Khan"
           ],
           "legendgroup": "Rashid Khan",
           "marker": {
            "color": "#B6E880",
            "symbol": "circle"
           },
           "mode": "markers",
           "name": "Rashid Khan",
           "orientation": "v",
           "showlegend": true,
           "type": "scatter",
           "x": [
            1136583
           ],
           "xaxis": "x",
           "y": [
            66.66666666666666
           ],
           "yaxis": "y"
          },
          {
           "hovertemplate": "batter=S Dhawan<br>matchid=%{x}<br>strike_rate=%{y}<extra></extra>",
           "ids": [
            "S Dhawan"
           ],
           "legendgroup": "S Dhawan",
           "marker": {
            "color": "#FF97FF",
            "symbol": "circle"
           },
           "mode": "markers",
           "name": "S Dhawan",
           "orientation": "v",
           "showlegend": true,
           "type": "scatter",
           "x": [
            1136583
           ],
           "xaxis": "x",
           "y": [
            71.42857142857143
           ],
           "yaxis": "y"
          },
          {
           "hovertemplate": "batter=S Kaul<br>matchid=%{x}<br>strike_rate=%{y}<extra></extra>",
           "ids": [
            "S Kaul"
           ],
           "legendgroup": "S Kaul",
           "marker": {
            "color": "#636efa",
            "symbol": "circle"
           },
           "mode": "markers",
           "name": "S Kaul",
           "orientation": "v",
           "showlegend": true,
           "type": "scatter",
           "x": [
            1136583
           ],
           "xaxis": "x",
           "y": [
            22.22222222222222
           ],
           "yaxis": "y"
          },
          {
           "hovertemplate": "batter=SA Yadav<br>matchid=%{x}<br>strike_rate=%{y}<extra></extra>",
           "ids": [
            "SA Yadav"
           ],
           "legendgroup": "SA Yadav",
           "marker": {
            "color": "#00cc96",
            "symbol": "circle"
           },
           "mode": "markers",
           "name": "SA Yadav",
           "orientation": "v",
           "showlegend": true,
           "type": "scatter",
           "x": [
            1136583
           ],
           "xaxis": "x",
           "y": [
            87.17948717948718
           ],
           "yaxis": "y"
          },
          {
           "hovertemplate": "batter=Sandeep Sharma<br>matchid=%{x}<br>strike_rate=%{y}<extra></extra>",
           "ids": [
            "Sandeep Sharma"
           ],
           "legendgroup": "Sandeep Sharma",
           "marker": {
            "color": "#ab63fa",
            "symbol": "circle"
           },
           "mode": "markers",
           "name": "Sandeep Sharma",
           "orientation": "v",
           "showlegend": true,
           "type": "scatter",
           "x": [
            1136583
           ],
           "xaxis": "x",
           "y": [
            0
           ],
           "yaxis": "y"
          },
          {
           "hovertemplate": "batter=Shakib Al Hasan<br>matchid=%{x}<br>strike_rate=%{y}<extra></extra>",
           "ids": [
            "Shakib Al Hasan"
           ],
           "legendgroup": "Shakib Al Hasan",
           "marker": {
            "color": "#FFA15A",
            "symbol": "circle"
           },
           "mode": "markers",
           "name": "Shakib Al Hasan",
           "orientation": "v",
           "showlegend": true,
           "type": "scatter",
           "x": [
            1136583
           ],
           "xaxis": "x",
           "y": [
            50
           ],
           "yaxis": "y"
          },
          {
           "hovertemplate": "batter=WP Saha<br>matchid=%{x}<br>strike_rate=%{y}<extra></extra>",
           "ids": [
            "WP Saha"
           ],
           "legendgroup": "WP Saha",
           "marker": {
            "color": "#ab63fa",
            "symbol": "circle"
           },
           "mode": "markers",
           "name": "WP Saha",
           "orientation": "v",
           "showlegend": true,
           "type": "scatter",
           "x": [
            1136583
           ],
           "xaxis": "x",
           "y": [
            0
           ],
           "yaxis": "y"
          },
          {
           "hovertemplate": "batter=YK Pathan<br>matchid=%{x}<br>strike_rate=%{y}<extra></extra>",
           "ids": [
            "YK Pathan"
           ],
           "legendgroup": "YK Pathan",
           "marker": {
            "color": "#19d3f3",
            "symbol": "circle"
           },
           "mode": "markers",
           "name": "YK Pathan",
           "orientation": "v",
           "showlegend": true,
           "type": "scatter",
           "x": [
            1136583
           ],
           "xaxis": "x",
           "y": [
            82.85714285714286
           ],
           "yaxis": "y"
          }
         ],
         "name": "1136583"
        },
        {
         "data": [
          {
           "hovertemplate": "batter=C Munro<br>matchid=%{x}<br>strike_rate=%{y}<extra></extra>",
           "ids": [
            "C Munro"
           ],
           "legendgroup": "C Munro",
           "marker": {
            "color": "#00cc96",
            "symbol": "circle"
           },
           "mode": "markers",
           "name": "C Munro",
           "orientation": "v",
           "showlegend": true,
           "type": "scatter",
           "x": [
            1136562
           ],
           "xaxis": "x",
           "y": [
            66.66666666666666
           ],
           "yaxis": "y"
          },
          {
           "hovertemplate": "batter=CH Morris<br>matchid=%{x}<br>strike_rate=%{y}<extra></extra>",
           "ids": [
            "CH Morris"
           ],
           "legendgroup": "CH Morris",
           "marker": {
            "color": "#FF6692",
            "symbol": "circle"
           },
           "mode": "markers",
           "name": "CH Morris",
           "orientation": "v",
           "showlegend": true,
           "type": "scatter",
           "x": [
            1136562
           ],
           "xaxis": "x",
           "y": [
            168.75
           ],
           "yaxis": "y"
          },
          {
           "hovertemplate": "batter=DA Miller<br>matchid=%{x}<br>strike_rate=%{y}<extra></extra>",
           "ids": [
            "DA Miller"
           ],
           "legendgroup": "DA Miller",
           "marker": {
            "color": "#636efa",
            "symbol": "circle"
           },
           "mode": "markers",
           "name": "DA Miller",
           "orientation": "v",
           "showlegend": true,
           "type": "scatter",
           "x": [
            1136562
           ],
           "xaxis": "x",
           "y": [
            104.34782608695652
           ],
           "yaxis": "y"
          },
          {
           "hovertemplate": "batter=DT Christian<br>matchid=%{x}<br>strike_rate=%{y}<extra></extra>",
           "ids": [
            "DT Christian"
           ],
           "legendgroup": "DT Christian",
           "marker": {
            "color": "#B6E880",
            "symbol": "circle"
           },
           "mode": "markers",
           "name": "DT Christian",
           "orientation": "v",
           "showlegend": true,
           "type": "scatter",
           "x": [
            1136562
           ],
           "xaxis": "x",
           "y": [
            100
           ],
           "yaxis": "y"
          },
          {
           "hovertemplate": "batter=G Gambhir<br>matchid=%{x}<br>strike_rate=%{y}<extra></extra>",
           "ids": [
            "G Gambhir"
           ],
           "legendgroup": "G Gambhir",
           "marker": {
            "color": "#636efa",
            "symbol": "circle"
           },
           "mode": "markers",
           "name": "G Gambhir",
           "orientation": "v",
           "showlegend": true,
           "type": "scatter",
           "x": [
            1136562
           ],
           "xaxis": "x",
           "y": [
            130.95238095238096
           ],
           "yaxis": "y"
          },
          {
           "hovertemplate": "batter=KK Nair<br>matchid=%{x}<br>strike_rate=%{y}<extra></extra>",
           "ids": [
            "KK Nair"
           ],
           "legendgroup": "KK Nair",
           "marker": {
            "color": "#636efa",
            "symbol": "circle"
           },
           "mode": "markers",
           "name": "KK Nair",
           "orientation": "v",
           "showlegend": true,
           "type": "scatter",
           "x": [
            1136562
           ],
           "xaxis": "x",
           "y": [
            151.5151515151515
           ],
           "yaxis": "y"
          },
          {
           "hovertemplate": "batter=KL Rahul<br>matchid=%{x}<br>strike_rate=%{y}<extra></extra>",
           "ids": [
            "KL Rahul"
           ],
           "legendgroup": "KL Rahul",
           "marker": {
            "color": "#EF553B",
            "symbol": "circle"
           },
           "mode": "markers",
           "name": "KL Rahul",
           "orientation": "v",
           "showlegend": true,
           "type": "scatter",
           "x": [
            1136562
           ],
           "xaxis": "x",
           "y": [
            318.75
           ],
           "yaxis": "y"
          },
          {
           "hovertemplate": "batter=MA Agarwal<br>matchid=%{x}<br>strike_rate=%{y}<extra></extra>",
           "ids": [
            "MA Agarwal"
           ],
           "legendgroup": "MA Agarwal",
           "marker": {
            "color": "#EF553B",
            "symbol": "circle"
           },
           "mode": "markers",
           "name": "MA Agarwal",
           "orientation": "v",
           "showlegend": true,
           "type": "scatter",
           "x": [
            1136562
           ],
           "xaxis": "x",
           "y": [
            140
           ],
           "yaxis": "y"
          },
          {
           "hovertemplate": "batter=MP Stoinis<br>matchid=%{x}<br>strike_rate=%{y}<extra></extra>",
           "ids": [
            "MP Stoinis"
           ],
           "legendgroup": "MP Stoinis",
           "marker": {
            "color": "#636efa",
            "symbol": "circle"
           },
           "mode": "markers",
           "name": "MP Stoinis",
           "orientation": "v",
           "showlegend": true,
           "type": "scatter",
           "x": [
            1136562
           ],
           "xaxis": "x",
           "y": [
            146.66666666666666
           ],
           "yaxis": "y"
          },
          {
           "hovertemplate": "batter=R Tewatia<br>matchid=%{x}<br>strike_rate=%{y}<extra></extra>",
           "ids": [
            "R Tewatia"
           ],
           "legendgroup": "R Tewatia",
           "marker": {
            "color": "#FF97FF",
            "symbol": "circle"
           },
           "mode": "markers",
           "name": "R Tewatia",
           "orientation": "v",
           "showlegend": true,
           "type": "scatter",
           "x": [
            1136562
           ],
           "xaxis": "x",
           "y": [
            128.57142857142858
           ],
           "yaxis": "y"
          },
          {
           "hovertemplate": "batter=RR Pant<br>matchid=%{x}<br>strike_rate=%{y}<extra></extra>",
           "ids": [
            "RR Pant"
           ],
           "legendgroup": "RR Pant",
           "marker": {
            "color": "#19d3f3",
            "symbol": "circle"
           },
           "mode": "markers",
           "name": "RR Pant",
           "orientation": "v",
           "showlegend": true,
           "type": "scatter",
           "x": [
            1136562
           ],
           "xaxis": "x",
           "y": [
            215.3846153846154
           ],
           "yaxis": "y"
          },
          {
           "hovertemplate": "batter=SS Iyer<br>matchid=%{x}<br>strike_rate=%{y}<extra></extra>",
           "ids": [
            "SS Iyer"
           ],
           "legendgroup": "SS Iyer",
           "marker": {
            "color": "#FECB52",
            "symbol": "circle"
           },
           "mode": "markers",
           "name": "SS Iyer",
           "orientation": "v",
           "showlegend": true,
           "type": "scatter",
           "x": [
            1136562
           ],
           "xaxis": "x",
           "y": [
            84.61538461538461
           ],
           "yaxis": "y"
          },
          {
           "hovertemplate": "batter=V Shankar<br>matchid=%{x}<br>strike_rate=%{y}<extra></extra>",
           "ids": [
            "V Shankar"
           ],
           "legendgroup": "V Shankar",
           "marker": {
            "color": "#00cc96",
            "symbol": "circle"
           },
           "mode": "markers",
           "name": "V Shankar",
           "orientation": "v",
           "showlegend": true,
           "type": "scatter",
           "x": [
            1136562
           ],
           "xaxis": "x",
           "y": [
            92.85714285714286
           ],
           "yaxis": "y"
          },
          {
           "hovertemplate": "batter=Yuvraj Singh<br>matchid=%{x}<br>strike_rate=%{y}<extra></extra>",
           "ids": [
            "Yuvraj Singh"
           ],
           "legendgroup": "Yuvraj Singh",
           "marker": {
            "color": "#B6E880",
            "symbol": "circle"
           },
           "mode": "markers",
           "name": "Yuvraj Singh",
           "orientation": "v",
           "showlegend": true,
           "type": "scatter",
           "x": [
            1136562
           ],
           "xaxis": "x",
           "y": [
            54.54545454545454
           ],
           "yaxis": "y"
          }
         ],
         "name": "1136562"
        }
       ],
       "layout": {
        "legend": {
         "title": {
          "text": "batter"
         },
         "tracegroupgap": 0
        },
        "margin": {
         "t": 60
        },
        "sliders": [
         {
          "active": 0,
          "currentvalue": {
           "prefix": "matchid="
          },
          "len": 0.9,
          "pad": {
           "b": 10,
           "t": 60
          },
          "steps": [
           {
            "args": [
             [
              "1136569"
             ],
             {
              "frame": {
               "duration": 0,
               "redraw": false
              },
              "fromcurrent": true,
              "mode": "immediate",
              "transition": {
               "duration": 0,
               "easing": "linear"
              }
             }
            ],
            "label": "1136569",
            "method": "animate"
           },
           {
            "args": [
             [
              "1136582"
             ],
             {
              "frame": {
               "duration": 0,
               "redraw": false
              },
              "fromcurrent": true,
              "mode": "immediate",
              "transition": {
               "duration": 0,
               "easing": "linear"
              }
             }
            ],
            "label": "1136582",
            "method": "animate"
           },
           {
            "args": [
             [
              "1136563"
             ],
             {
              "frame": {
               "duration": 0,
               "redraw": false
              },
              "fromcurrent": true,
              "mode": "immediate",
              "transition": {
               "duration": 0,
               "easing": "linear"
              }
             }
            ],
            "label": "1136563",
            "method": "animate"
           },
           {
            "args": [
             [
              "1136568"
             ],
             {
              "frame": {
               "duration": 0,
               "redraw": false
              },
              "fromcurrent": true,
              "mode": "immediate",
              "transition": {
               "duration": 0,
               "easing": "linear"
              }
             }
            ],
            "label": "1136568",
            "method": "animate"
           },
           {
            "args": [
             [
              "1136571"
             ],
             {
              "frame": {
               "duration": 0,
               "redraw": false
              },
              "fromcurrent": true,
              "mode": "immediate",
              "transition": {
               "duration": 0,
               "easing": "linear"
              }
             }
            ],
            "label": "1136571",
            "method": "animate"
           },
           {
            "args": [
             [
              "1136574"
             ],
             {
              "frame": {
               "duration": 0,
               "redraw": false
              },
              "fromcurrent": true,
              "mode": "immediate",
              "transition": {
               "duration": 0,
               "easing": "linear"
              }
             }
            ],
            "label": "1136574",
            "method": "animate"
           },
           {
            "args": [
             [
              "1136579"
             ],
             {
              "frame": {
               "duration": 0,
               "redraw": false
              },
              "fromcurrent": true,
              "mode": "immediate",
              "transition": {
               "duration": 0,
               "easing": "linear"
              }
             }
            ],
            "label": "1136579",
            "method": "animate"
           },
           {
            "args": [
             [
              "1136584"
             ],
             {
              "frame": {
               "duration": 0,
               "redraw": false
              },
              "fromcurrent": true,
              "mode": "immediate",
              "transition": {
               "duration": 0,
               "easing": "linear"
              }
             }
            ],
            "label": "1136584",
            "method": "animate"
           },
           {
            "args": [
             [
              "1136595"
             ],
             {
              "frame": {
               "duration": 0,
               "redraw": false
              },
              "fromcurrent": true,
              "mode": "immediate",
              "transition": {
               "duration": 0,
               "easing": "linear"
              }
             }
            ],
            "label": "1136595",
            "method": "animate"
           },
           {
            "args": [
             [
              "1136599"
             ],
             {
              "frame": {
               "duration": 0,
               "redraw": false
              },
              "fromcurrent": true,
              "mode": "immediate",
              "transition": {
               "duration": 0,
               "easing": "linear"
              }
             }
            ],
            "label": "1136599",
            "method": "animate"
           },
           {
            "args": [
             [
              "1136605"
             ],
             {
              "frame": {
               "duration": 0,
               "redraw": false
              },
              "fromcurrent": true,
              "mode": "immediate",
              "transition": {
               "duration": 0,
               "easing": "linear"
              }
             }
            ],
            "label": "1136605",
            "method": "animate"
           },
           {
            "args": [
             [
              "1136611"
             ],
             {
              "frame": {
               "duration": 0,
               "redraw": false
              },
              "fromcurrent": true,
              "mode": "immediate",
              "transition": {
               "duration": 0,
               "easing": "linear"
              }
             }
            ],
            "label": "1136611",
            "method": "animate"
           },
           {
            "args": [
             [
              "1136613"
             ],
             {
              "frame": {
               "duration": 0,
               "redraw": false
              },
              "fromcurrent": true,
              "mode": "immediate",
              "transition": {
               "duration": 0,
               "easing": "linear"
              }
             }
            ],
            "label": "1136613",
            "method": "animate"
           },
           {
            "args": [
             [
              "1136588"
             ],
             {
              "frame": {
               "duration": 0,
               "redraw": false
              },
              "fromcurrent": true,
              "mode": "immediate",
              "transition": {
               "duration": 0,
               "easing": "linear"
              }
             }
            ],
            "label": "1136588",
            "method": "animate"
           },
           {
            "args": [
             [
              "1136596"
             ],
             {
              "frame": {
               "duration": 0,
               "redraw": false
              },
              "fromcurrent": true,
              "mode": "immediate",
              "transition": {
               "duration": 0,
               "easing": "linear"
              }
             }
            ],
            "label": "1136596",
            "method": "animate"
           },
           {
            "args": [
             [
              "1136602"
             ],
             {
              "frame": {
               "duration": 0,
               "redraw": false
              },
              "fromcurrent": true,
              "mode": "immediate",
              "transition": {
               "duration": 0,
               "easing": "linear"
              }
             }
            ],
            "label": "1136602",
            "method": "animate"
           },
           {
            "args": [
             [
              "1136606"
             ],
             {
              "frame": {
               "duration": 0,
               "redraw": false
              },
              "fromcurrent": true,
              "mode": "immediate",
              "transition": {
               "duration": 0,
               "easing": "linear"
              }
             }
            ],
            "label": "1136606",
            "method": "animate"
           },
           {
            "args": [
             [
              "1136600"
             ],
             {
              "frame": {
               "duration": 0,
               "redraw": false
              },
              "fromcurrent": true,
              "mode": "immediate",
              "transition": {
               "duration": 0,
               "easing": "linear"
              }
             }
            ],
            "label": "1136600",
            "method": "animate"
           },
           {
            "args": [
             [
              "1136565"
             ],
             {
              "frame": {
               "duration": 0,
               "redraw": false
              },
              "fromcurrent": true,
              "mode": "immediate",
              "transition": {
               "duration": 0,
               "easing": "linear"
              }
             }
            ],
            "label": "1136565",
            "method": "animate"
           },
           {
            "args": [
             [
              "1136570"
             ],
             {
              "frame": {
               "duration": 0,
               "redraw": false
              },
              "fromcurrent": true,
              "mode": "immediate",
              "transition": {
               "duration": 0,
               "easing": "linear"
              }
             }
            ],
            "label": "1136570",
            "method": "animate"
           },
           {
            "args": [
             [
              "1136573"
             ],
             {
              "frame": {
               "duration": 0,
               "redraw": false
              },
              "fromcurrent": true,
              "mode": "immediate",
              "transition": {
               "duration": 0,
               "easing": "linear"
              }
             }
            ],
            "label": "1136573",
            "method": "animate"
           },
           {
            "args": [
             [
              "1136578"
             ],
             {
              "frame": {
               "duration": 0,
               "redraw": false
              },
              "fromcurrent": true,
              "mode": "immediate",
              "transition": {
               "duration": 0,
               "easing": "linear"
              }
             }
            ],
            "label": "1136578",
            "method": "animate"
           },
           {
            "args": [
             [
              "1136586"
             ],
             {
              "frame": {
               "duration": 0,
               "redraw": false
              },
              "fromcurrent": true,
              "mode": "immediate",
              "transition": {
               "duration": 0,
               "easing": "linear"
              }
             }
            ],
            "label": "1136586",
            "method": "animate"
           },
           {
            "args": [
             [
              "1136589"
             ],
             {
              "frame": {
               "duration": 0,
               "redraw": false
              },
              "fromcurrent": true,
              "mode": "immediate",
              "transition": {
               "duration": 0,
               "easing": "linear"
              }
             }
            ],
            "label": "1136589",
            "method": "animate"
           },
           {
            "args": [
             [
              "1136597"
             ],
             {
              "frame": {
               "duration": 0,
               "redraw": false
              },
              "fromcurrent": true,
              "mode": "immediate",
              "transition": {
               "duration": 0,
               "easing": "linear"
              }
             }
            ],
            "label": "1136597",
            "method": "animate"
           },
           {
            "args": [
             [
              "1136601"
             ],
             {
              "frame": {
               "duration": 0,
               "redraw": false
              },
              "fromcurrent": true,
              "mode": "immediate",
              "transition": {
               "duration": 0,
               "easing": "linear"
              }
             }
            ],
            "label": "1136601",
            "method": "animate"
           },
           {
            "args": [
             [
              "1136604"
             ],
             {
              "frame": {
               "duration": 0,
               "redraw": false
              },
              "fromcurrent": true,
              "mode": "immediate",
              "transition": {
               "duration": 0,
               "easing": "linear"
              }
             }
            ],
            "label": "1136604",
            "method": "animate"
           },
           {
            "args": [
             [
              "1136609"
             ],
             {
              "frame": {
               "duration": 0,
               "redraw": false
              },
              "fromcurrent": true,
              "mode": "immediate",
              "transition": {
               "duration": 0,
               "easing": "linear"
              }
             }
            ],
            "label": "1136609",
            "method": "animate"
           },
           {
            "args": [
             [
              "1136614"
             ],
             {
              "frame": {
               "duration": 0,
               "redraw": false
              },
              "fromcurrent": true,
              "mode": "immediate",
              "transition": {
               "duration": 0,
               "easing": "linear"
              }
             }
            ],
            "label": "1136614",
            "method": "animate"
           },
           {
            "args": [
             [
              "1136618"
             ],
             {
              "frame": {
               "duration": 0,
               "redraw": false
              },
              "fromcurrent": true,
              "mode": "immediate",
              "transition": {
               "duration": 0,
               "easing": "linear"
              }
             }
            ],
            "label": "1136618",
            "method": "animate"
           },
           {
            "args": [
             [
              "1136619"
             ],
             {
              "frame": {
               "duration": 0,
               "redraw": false
              },
              "fromcurrent": true,
              "mode": "immediate",
              "transition": {
               "duration": 0,
               "easing": "linear"
              }
             }
            ],
            "label": "1136619",
            "method": "animate"
           },
           {
            "args": [
             [
              "1136572"
             ],
             {
              "frame": {
               "duration": 0,
               "redraw": false
              },
              "fromcurrent": true,
              "mode": "immediate",
              "transition": {
               "duration": 0,
               "easing": "linear"
              }
             }
            ],
            "label": "1136572",
            "method": "animate"
           },
           {
            "args": [
             [
              "1136576"
             ],
             {
              "frame": {
               "duration": 0,
               "redraw": false
              },
              "fromcurrent": true,
              "mode": "immediate",
              "transition": {
               "duration": 0,
               "easing": "linear"
              }
             }
            ],
            "label": "1136576",
            "method": "animate"
           },
           {
            "args": [
             [
              "1136585"
             ],
             {
              "frame": {
               "duration": 0,
               "redraw": false
              },
              "fromcurrent": true,
              "mode": "immediate",
              "transition": {
               "duration": 0,
               "easing": "linear"
              }
             }
            ],
            "label": "1136585",
            "method": "animate"
           },
           {
            "args": [
             [
              "1136608"
             ],
             {
              "frame": {
               "duration": 0,
               "redraw": false
              },
              "fromcurrent": true,
              "mode": "immediate",
              "transition": {
               "duration": 0,
               "easing": "linear"
              }
             }
            ],
            "label": "1136608",
            "method": "animate"
           },
           {
            "args": [
             [
              "1136610"
             ],
             {
              "frame": {
               "duration": 0,
               "redraw": false
              },
              "fromcurrent": true,
              "mode": "immediate",
              "transition": {
               "duration": 0,
               "easing": "linear"
              }
             }
            ],
            "label": "1136610",
            "method": "animate"
           },
           {
            "args": [
             [
              "1136616"
             ],
             {
              "frame": {
               "duration": 0,
               "redraw": false
              },
              "fromcurrent": true,
              "mode": "immediate",
              "transition": {
               "duration": 0,
               "easing": "linear"
              }
             }
            ],
            "label": "1136616",
            "method": "animate"
           },
           {
            "args": [
             [
              "1136564"
             ],
             {
              "frame": {
               "duration": 0,
               "redraw": false
              },
              "fromcurrent": true,
              "mode": "immediate",
              "transition": {
               "duration": 0,
               "easing": "linear"
              }
             }
            ],
            "label": "1136564",
            "method": "animate"
           },
           {
            "args": [
             [
              "1136566"
             ],
             {
              "frame": {
               "duration": 0,
               "redraw": false
              },
              "fromcurrent": true,
              "mode": "immediate",
              "transition": {
               "duration": 0,
               "easing": "linear"
              }
             }
            ],
            "label": "1136566",
            "method": "animate"
           },
           {
            "args": [
             [
              "1136575"
             ],
             {
              "frame": {
               "duration": 0,
               "redraw": false
              },
              "fromcurrent": true,
              "mode": "immediate",
              "transition": {
               "duration": 0,
               "easing": "linear"
              }
             }
            ],
            "label": "1136575",
            "method": "animate"
           },
           {
            "args": [
             [
              "1136577"
             ],
             {
              "frame": {
               "duration": 0,
               "redraw": false
              },
              "fromcurrent": true,
              "mode": "immediate",
              "transition": {
               "duration": 0,
               "easing": "linear"
              }
             }
            ],
            "label": "1136577",
            "method": "animate"
           },
           {
            "args": [
             [
              "1136581"
             ],
             {
              "frame": {
               "duration": 0,
               "redraw": false
              },
              "fromcurrent": true,
              "mode": "immediate",
              "transition": {
               "duration": 0,
               "easing": "linear"
              }
             }
            ],
            "label": "1136581",
            "method": "animate"
           },
           {
            "args": [
             [
              "1136598"
             ],
             {
              "frame": {
               "duration": 0,
               "redraw": false
              },
              "fromcurrent": true,
              "mode": "immediate",
              "transition": {
               "duration": 0,
               "easing": "linear"
              }
             }
            ],
            "label": "1136598",
            "method": "animate"
           },
           {
            "args": [
             [
              "1136603"
             ],
             {
              "frame": {
               "duration": 0,
               "redraw": false
              },
              "fromcurrent": true,
              "mode": "immediate",
              "transition": {
               "duration": 0,
               "easing": "linear"
              }
             }
            ],
            "label": "1136603",
            "method": "animate"
           },
           {
            "args": [
             [
              "1136607"
             ],
             {
              "frame": {
               "duration": 0,
               "redraw": false
              },
              "fromcurrent": true,
              "mode": "immediate",
              "transition": {
               "duration": 0,
               "easing": "linear"
              }
             }
            ],
            "label": "1136607",
            "method": "animate"
           },
           {
            "args": [
             [
              "1136594"
             ],
             {
              "frame": {
               "duration": 0,
               "redraw": false
              },
              "fromcurrent": true,
              "mode": "immediate",
              "transition": {
               "duration": 0,
               "easing": "linear"
              }
             }
            ],
            "label": "1136594",
            "method": "animate"
           },
           {
            "args": [
             [
              "1136561"
             ],
             {
              "frame": {
               "duration": 0,
               "redraw": false
              },
              "fromcurrent": true,
              "mode": "immediate",
              "transition": {
               "duration": 0,
               "easing": "linear"
              }
             }
            ],
            "label": "1136561",
            "method": "animate"
           },
           {
            "args": [
             [
              "1136580"
             ],
             {
              "frame": {
               "duration": 0,
               "redraw": false
              },
              "fromcurrent": true,
              "mode": "immediate",
              "transition": {
               "duration": 0,
               "easing": "linear"
              }
             }
            ],
            "label": "1136580",
            "method": "animate"
           },
           {
            "args": [
             [
              "1136587"
             ],
             {
              "frame": {
               "duration": 0,
               "redraw": false
              },
              "fromcurrent": true,
              "mode": "immediate",
              "transition": {
               "duration": 0,
               "easing": "linear"
              }
             }
            ],
            "label": "1136587",
            "method": "animate"
           },
           {
            "args": [
             [
              "1136590"
             ],
             {
              "frame": {
               "duration": 0,
               "redraw": false
              },
              "fromcurrent": true,
              "mode": "immediate",
              "transition": {
               "duration": 0,
               "easing": "linear"
              }
             }
            ],
            "label": "1136590",
            "method": "animate"
           },
           {
            "args": [
             [
              "1136593"
             ],
             {
              "frame": {
               "duration": 0,
               "redraw": false
              },
              "fromcurrent": true,
              "mode": "immediate",
              "transition": {
               "duration": 0,
               "easing": "linear"
              }
             }
            ],
            "label": "1136593",
            "method": "animate"
           },
           {
            "args": [
             [
              "1136612"
             ],
             {
              "frame": {
               "duration": 0,
               "redraw": false
              },
              "fromcurrent": true,
              "mode": "immediate",
              "transition": {
               "duration": 0,
               "easing": "linear"
              }
             }
            ],
            "label": "1136612",
            "method": "animate"
           },
           {
            "args": [
             [
              "1136617"
             ],
             {
              "frame": {
               "duration": 0,
               "redraw": false
              },
              "fromcurrent": true,
              "mode": "immediate",
              "transition": {
               "duration": 0,
               "easing": "linear"
              }
             }
            ],
            "label": "1136617",
            "method": "animate"
           },
           {
            "args": [
             [
              "1136620"
             ],
             {
              "frame": {
               "duration": 0,
               "redraw": false
              },
              "fromcurrent": true,
              "mode": "immediate",
              "transition": {
               "duration": 0,
               "easing": "linear"
              }
             }
            ],
            "label": "1136620",
            "method": "animate"
           },
           {
            "args": [
             [
              "1136615"
             ],
             {
              "frame": {
               "duration": 0,
               "redraw": false
              },
              "fromcurrent": true,
              "mode": "immediate",
              "transition": {
               "duration": 0,
               "easing": "linear"
              }
             }
            ],
            "label": "1136615",
            "method": "animate"
           },
           {
            "args": [
             [
              "1136567"
             ],
             {
              "frame": {
               "duration": 0,
               "redraw": false
              },
              "fromcurrent": true,
              "mode": "immediate",
              "transition": {
               "duration": 0,
               "easing": "linear"
              }
             }
            ],
            "label": "1136567",
            "method": "animate"
           },
           {
            "args": [
             [
              "1136592"
             ],
             {
              "frame": {
               "duration": 0,
               "redraw": false
              },
              "fromcurrent": true,
              "mode": "immediate",
              "transition": {
               "duration": 0,
               "easing": "linear"
              }
             }
            ],
            "label": "1136592",
            "method": "animate"
           },
           {
            "args": [
             [
              "1136591"
             ],
             {
              "frame": {
               "duration": 0,
               "redraw": false
              },
              "fromcurrent": true,
              "mode": "immediate",
              "transition": {
               "duration": 0,
               "easing": "linear"
              }
             }
            ],
            "label": "1136591",
            "method": "animate"
           },
           {
            "args": [
             [
              "1136583"
             ],
             {
              "frame": {
               "duration": 0,
               "redraw": false
              },
              "fromcurrent": true,
              "mode": "immediate",
              "transition": {
               "duration": 0,
               "easing": "linear"
              }
             }
            ],
            "label": "1136583",
            "method": "animate"
           },
           {
            "args": [
             [
              "1136562"
             ],
             {
              "frame": {
               "duration": 0,
               "redraw": false
              },
              "fromcurrent": true,
              "mode": "immediate",
              "transition": {
               "duration": 0,
               "easing": "linear"
              }
             }
            ],
            "label": "1136562",
            "method": "animate"
           }
          ],
          "x": 0.1,
          "xanchor": "left",
          "y": 0,
          "yanchor": "top"
         }
        ],
        "template": {
         "data": {
          "bar": [
           {
            "error_x": {
             "color": "#2a3f5f"
            },
            "error_y": {
             "color": "#2a3f5f"
            },
            "marker": {
             "line": {
              "color": "#E5ECF6",
              "width": 0.5
             },
             "pattern": {
              "fillmode": "overlay",
              "size": 10,
              "solidity": 0.2
             }
            },
            "type": "bar"
           }
          ],
          "barpolar": [
           {
            "marker": {
             "line": {
              "color": "#E5ECF6",
              "width": 0.5
             },
             "pattern": {
              "fillmode": "overlay",
              "size": 10,
              "solidity": 0.2
             }
            },
            "type": "barpolar"
           }
          ],
          "carpet": [
           {
            "aaxis": {
             "endlinecolor": "#2a3f5f",
             "gridcolor": "white",
             "linecolor": "white",
             "minorgridcolor": "white",
             "startlinecolor": "#2a3f5f"
            },
            "baxis": {
             "endlinecolor": "#2a3f5f",
             "gridcolor": "white",
             "linecolor": "white",
             "minorgridcolor": "white",
             "startlinecolor": "#2a3f5f"
            },
            "type": "carpet"
           }
          ],
          "choropleth": [
           {
            "colorbar": {
             "outlinewidth": 0,
             "ticks": ""
            },
            "type": "choropleth"
           }
          ],
          "contour": [
           {
            "colorbar": {
             "outlinewidth": 0,
             "ticks": ""
            },
            "colorscale": [
             [
              0,
              "#0d0887"
             ],
             [
              0.1111111111111111,
              "#46039f"
             ],
             [
              0.2222222222222222,
              "#7201a8"
             ],
             [
              0.3333333333333333,
              "#9c179e"
             ],
             [
              0.4444444444444444,
              "#bd3786"
             ],
             [
              0.5555555555555556,
              "#d8576b"
             ],
             [
              0.6666666666666666,
              "#ed7953"
             ],
             [
              0.7777777777777778,
              "#fb9f3a"
             ],
             [
              0.8888888888888888,
              "#fdca26"
             ],
             [
              1,
              "#f0f921"
             ]
            ],
            "type": "contour"
           }
          ],
          "contourcarpet": [
           {
            "colorbar": {
             "outlinewidth": 0,
             "ticks": ""
            },
            "type": "contourcarpet"
           }
          ],
          "heatmap": [
           {
            "colorbar": {
             "outlinewidth": 0,
             "ticks": ""
            },
            "colorscale": [
             [
              0,
              "#0d0887"
             ],
             [
              0.1111111111111111,
              "#46039f"
             ],
             [
              0.2222222222222222,
              "#7201a8"
             ],
             [
              0.3333333333333333,
              "#9c179e"
             ],
             [
              0.4444444444444444,
              "#bd3786"
             ],
             [
              0.5555555555555556,
              "#d8576b"
             ],
             [
              0.6666666666666666,
              "#ed7953"
             ],
             [
              0.7777777777777778,
              "#fb9f3a"
             ],
             [
              0.8888888888888888,
              "#fdca26"
             ],
             [
              1,
              "#f0f921"
             ]
            ],
            "type": "heatmap"
           }
          ],
          "heatmapgl": [
           {
            "colorbar": {
             "outlinewidth": 0,
             "ticks": ""
            },
            "colorscale": [
             [
              0,
              "#0d0887"
             ],
             [
              0.1111111111111111,
              "#46039f"
             ],
             [
              0.2222222222222222,
              "#7201a8"
             ],
             [
              0.3333333333333333,
              "#9c179e"
             ],
             [
              0.4444444444444444,
              "#bd3786"
             ],
             [
              0.5555555555555556,
              "#d8576b"
             ],
             [
              0.6666666666666666,
              "#ed7953"
             ],
             [
              0.7777777777777778,
              "#fb9f3a"
             ],
             [
              0.8888888888888888,
              "#fdca26"
             ],
             [
              1,
              "#f0f921"
             ]
            ],
            "type": "heatmapgl"
           }
          ],
          "histogram": [
           {
            "marker": {
             "pattern": {
              "fillmode": "overlay",
              "size": 10,
              "solidity": 0.2
             }
            },
            "type": "histogram"
           }
          ],
          "histogram2d": [
           {
            "colorbar": {
             "outlinewidth": 0,
             "ticks": ""
            },
            "colorscale": [
             [
              0,
              "#0d0887"
             ],
             [
              0.1111111111111111,
              "#46039f"
             ],
             [
              0.2222222222222222,
              "#7201a8"
             ],
             [
              0.3333333333333333,
              "#9c179e"
             ],
             [
              0.4444444444444444,
              "#bd3786"
             ],
             [
              0.5555555555555556,
              "#d8576b"
             ],
             [
              0.6666666666666666,
              "#ed7953"
             ],
             [
              0.7777777777777778,
              "#fb9f3a"
             ],
             [
              0.8888888888888888,
              "#fdca26"
             ],
             [
              1,
              "#f0f921"
             ]
            ],
            "type": "histogram2d"
           }
          ],
          "histogram2dcontour": [
           {
            "colorbar": {
             "outlinewidth": 0,
             "ticks": ""
            },
            "colorscale": [
             [
              0,
              "#0d0887"
             ],
             [
              0.1111111111111111,
              "#46039f"
             ],
             [
              0.2222222222222222,
              "#7201a8"
             ],
             [
              0.3333333333333333,
              "#9c179e"
             ],
             [
              0.4444444444444444,
              "#bd3786"
             ],
             [
              0.5555555555555556,
              "#d8576b"
             ],
             [
              0.6666666666666666,
              "#ed7953"
             ],
             [
              0.7777777777777778,
              "#fb9f3a"
             ],
             [
              0.8888888888888888,
              "#fdca26"
             ],
             [
              1,
              "#f0f921"
             ]
            ],
            "type": "histogram2dcontour"
           }
          ],
          "mesh3d": [
           {
            "colorbar": {
             "outlinewidth": 0,
             "ticks": ""
            },
            "type": "mesh3d"
           }
          ],
          "parcoords": [
           {
            "line": {
             "colorbar": {
              "outlinewidth": 0,
              "ticks": ""
             }
            },
            "type": "parcoords"
           }
          ],
          "pie": [
           {
            "automargin": true,
            "type": "pie"
           }
          ],
          "scatter": [
           {
            "fillpattern": {
             "fillmode": "overlay",
             "size": 10,
             "solidity": 0.2
            },
            "type": "scatter"
           }
          ],
          "scatter3d": [
           {
            "line": {
             "colorbar": {
              "outlinewidth": 0,
              "ticks": ""
             }
            },
            "marker": {
             "colorbar": {
              "outlinewidth": 0,
              "ticks": ""
             }
            },
            "type": "scatter3d"
           }
          ],
          "scattercarpet": [
           {
            "marker": {
             "colorbar": {
              "outlinewidth": 0,
              "ticks": ""
             }
            },
            "type": "scattercarpet"
           }
          ],
          "scattergeo": [
           {
            "marker": {
             "colorbar": {
              "outlinewidth": 0,
              "ticks": ""
             }
            },
            "type": "scattergeo"
           }
          ],
          "scattergl": [
           {
            "marker": {
             "colorbar": {
              "outlinewidth": 0,
              "ticks": ""
             }
            },
            "type": "scattergl"
           }
          ],
          "scattermapbox": [
           {
            "marker": {
             "colorbar": {
              "outlinewidth": 0,
              "ticks": ""
             }
            },
            "type": "scattermapbox"
           }
          ],
          "scatterpolar": [
           {
            "marker": {
             "colorbar": {
              "outlinewidth": 0,
              "ticks": ""
             }
            },
            "type": "scatterpolar"
           }
          ],
          "scatterpolargl": [
           {
            "marker": {
             "colorbar": {
              "outlinewidth": 0,
              "ticks": ""
             }
            },
            "type": "scatterpolargl"
           }
          ],
          "scatterternary": [
           {
            "marker": {
             "colorbar": {
              "outlinewidth": 0,
              "ticks": ""
             }
            },
            "type": "scatterternary"
           }
          ],
          "surface": [
           {
            "colorbar": {
             "outlinewidth": 0,
             "ticks": ""
            },
            "colorscale": [
             [
              0,
              "#0d0887"
             ],
             [
              0.1111111111111111,
              "#46039f"
             ],
             [
              0.2222222222222222,
              "#7201a8"
             ],
             [
              0.3333333333333333,
              "#9c179e"
             ],
             [
              0.4444444444444444,
              "#bd3786"
             ],
             [
              0.5555555555555556,
              "#d8576b"
             ],
             [
              0.6666666666666666,
              "#ed7953"
             ],
             [
              0.7777777777777778,
              "#fb9f3a"
             ],
             [
              0.8888888888888888,
              "#fdca26"
             ],
             [
              1,
              "#f0f921"
             ]
            ],
            "type": "surface"
           }
          ],
          "table": [
           {
            "cells": {
             "fill": {
              "color": "#EBF0F8"
             },
             "line": {
              "color": "white"
             }
            },
            "header": {
             "fill": {
              "color": "#C8D4E3"
             },
             "line": {
              "color": "white"
             }
            },
            "type": "table"
           }
          ]
         },
         "layout": {
          "annotationdefaults": {
           "arrowcolor": "#2a3f5f",
           "arrowhead": 0,
           "arrowwidth": 1
          },
          "autotypenumbers": "strict",
          "coloraxis": {
           "colorbar": {
            "outlinewidth": 0,
            "ticks": ""
           }
          },
          "colorscale": {
           "diverging": [
            [
             0,
             "#8e0152"
            ],
            [
             0.1,
             "#c51b7d"
            ],
            [
             0.2,
             "#de77ae"
            ],
            [
             0.3,
             "#f1b6da"
            ],
            [
             0.4,
             "#fde0ef"
            ],
            [
             0.5,
             "#f7f7f7"
            ],
            [
             0.6,
             "#e6f5d0"
            ],
            [
             0.7,
             "#b8e186"
            ],
            [
             0.8,
             "#7fbc41"
            ],
            [
             0.9,
             "#4d9221"
            ],
            [
             1,
             "#276419"
            ]
           ],
           "sequential": [
            [
             0,
             "#0d0887"
            ],
            [
             0.1111111111111111,
             "#46039f"
            ],
            [
             0.2222222222222222,
             "#7201a8"
            ],
            [
             0.3333333333333333,
             "#9c179e"
            ],
            [
             0.4444444444444444,
             "#bd3786"
            ],
            [
             0.5555555555555556,
             "#d8576b"
            ],
            [
             0.6666666666666666,
             "#ed7953"
            ],
            [
             0.7777777777777778,
             "#fb9f3a"
            ],
            [
             0.8888888888888888,
             "#fdca26"
            ],
            [
             1,
             "#f0f921"
            ]
           ],
           "sequentialminus": [
            [
             0,
             "#0d0887"
            ],
            [
             0.1111111111111111,
             "#46039f"
            ],
            [
             0.2222222222222222,
             "#7201a8"
            ],
            [
             0.3333333333333333,
             "#9c179e"
            ],
            [
             0.4444444444444444,
             "#bd3786"
            ],
            [
             0.5555555555555556,
             "#d8576b"
            ],
            [
             0.6666666666666666,
             "#ed7953"
            ],
            [
             0.7777777777777778,
             "#fb9f3a"
            ],
            [
             0.8888888888888888,
             "#fdca26"
            ],
            [
             1,
             "#f0f921"
            ]
           ]
          },
          "colorway": [
           "#636efa",
           "#EF553B",
           "#00cc96",
           "#ab63fa",
           "#FFA15A",
           "#19d3f3",
           "#FF6692",
           "#B6E880",
           "#FF97FF",
           "#FECB52"
          ],
          "font": {
           "color": "#2a3f5f"
          },
          "geo": {
           "bgcolor": "white",
           "lakecolor": "white",
           "landcolor": "#E5ECF6",
           "showlakes": true,
           "showland": true,
           "subunitcolor": "white"
          },
          "hoverlabel": {
           "align": "left"
          },
          "hovermode": "closest",
          "mapbox": {
           "style": "light"
          },
          "paper_bgcolor": "white",
          "plot_bgcolor": "#E5ECF6",
          "polar": {
           "angularaxis": {
            "gridcolor": "white",
            "linecolor": "white",
            "ticks": ""
           },
           "bgcolor": "#E5ECF6",
           "radialaxis": {
            "gridcolor": "white",
            "linecolor": "white",
            "ticks": ""
           }
          },
          "scene": {
           "xaxis": {
            "backgroundcolor": "#E5ECF6",
            "gridcolor": "white",
            "gridwidth": 2,
            "linecolor": "white",
            "showbackground": true,
            "ticks": "",
            "zerolinecolor": "white"
           },
           "yaxis": {
            "backgroundcolor": "#E5ECF6",
            "gridcolor": "white",
            "gridwidth": 2,
            "linecolor": "white",
            "showbackground": true,
            "ticks": "",
            "zerolinecolor": "white"
           },
           "zaxis": {
            "backgroundcolor": "#E5ECF6",
            "gridcolor": "white",
            "gridwidth": 2,
            "linecolor": "white",
            "showbackground": true,
            "ticks": "",
            "zerolinecolor": "white"
           }
          },
          "shapedefaults": {
           "line": {
            "color": "#2a3f5f"
           }
          },
          "ternary": {
           "aaxis": {
            "gridcolor": "white",
            "linecolor": "white",
            "ticks": ""
           },
           "baxis": {
            "gridcolor": "white",
            "linecolor": "white",
            "ticks": ""
           },
           "bgcolor": "#E5ECF6",
           "caxis": {
            "gridcolor": "white",
            "linecolor": "white",
            "ticks": ""
           }
          },
          "title": {
           "x": 0.05
          },
          "xaxis": {
           "automargin": true,
           "gridcolor": "white",
           "linecolor": "white",
           "ticks": "",
           "title": {
            "standoff": 15
           },
           "zerolinecolor": "white",
           "zerolinewidth": 2
          },
          "yaxis": {
           "automargin": true,
           "gridcolor": "white",
           "linecolor": "white",
           "ticks": "",
           "title": {
            "standoff": 15
           },
           "zerolinecolor": "white",
           "zerolinewidth": 2
          }
         }
        },
        "title": {
         "text": "Batting Strike Rates over Time"
        },
        "updatemenus": [
         {
          "buttons": [
           {
            "args": [
             null,
             {
              "frame": {
               "duration": 500,
               "redraw": false
              },
              "fromcurrent": true,
              "mode": "immediate",
              "transition": {
               "duration": 500,
               "easing": "linear"
              }
             }
            ],
            "label": "&#9654;",
            "method": "animate"
           },
           {
            "args": [
             [
              null
             ],
             {
              "frame": {
               "duration": 0,
               "redraw": false
              },
              "fromcurrent": true,
              "mode": "immediate",
              "transition": {
               "duration": 0,
               "easing": "linear"
              }
             }
            ],
            "label": "&#9724;",
            "method": "animate"
           }
          ],
          "direction": "left",
          "pad": {
           "r": 10,
           "t": 70
          },
          "showactive": false,
          "type": "buttons",
          "x": 0.1,
          "xanchor": "right",
          "y": 0,
          "yanchor": "top"
         }
        ],
        "xaxis": {
         "anchor": "y",
         "categoryarray": [
          1136569,
          1136582,
          1136563,
          1136568,
          1136571,
          1136574,
          1136579,
          1136584,
          1136595,
          1136599,
          1136605,
          1136611,
          1136613,
          1136588,
          1136596,
          1136602,
          1136606,
          1136600,
          1136565,
          1136570,
          1136573,
          1136578,
          1136586,
          1136589,
          1136597,
          1136601,
          1136604,
          1136609,
          1136614,
          1136618,
          1136619,
          1136572,
          1136576,
          1136585,
          1136608,
          1136610,
          1136616,
          1136564,
          1136566,
          1136575,
          1136577,
          1136581,
          1136598,
          1136603,
          1136607,
          1136594,
          1136561,
          1136580,
          1136587,
          1136590,
          1136593,
          1136612,
          1136617,
          1136620,
          1136615,
          1136567,
          1136592,
          1136591,
          1136583,
          1136562
         ],
         "categoryorder": "array",
         "domain": [
          0,
          1
         ],
         "title": {
          "text": "Match ID"
         }
        },
        "yaxis": {
         "anchor": "x",
         "domain": [
          0,
          1
         ],
         "range": [
          0,
          250
         ],
         "title": {
          "text": "Batting Strike Rate"
         }
        }
       }
      }
     },
     "metadata": {},
     "output_type": "display_data"
    }
   ],
   "source": [
    "# create a DataFrame with the strike rate data\n",
    "df_strike_rates = pd.DataFrame(strike_rates, columns=[\"batter\", \"matchid\", \"strike_rate\"])\n",
    "\n",
    "# create an animated scatter plot\n",
    "fig = px.scatter(df_strike_rates, x=\"matchid\", y=\"strike_rate\", animation_frame=\"matchid\", \n",
    "                 animation_group=\"batter\", color=\"batter\", range_y=[0, 250])\n",
    "fig.update_layout(title=\"Batting Strike Rates over Time\", xaxis_title=\"Match ID\", yaxis_title=\"Batting Strike Rate\")\n",
    "\n",
    "# show the plot\n",
    "fig.show()"
   ]
  },
  {
   "cell_type": "code",
   "execution_count": 8,
   "metadata": {},
   "outputs": [
    {
     "name": "stderr",
     "output_type": "stream",
     "text": [
      "C:\\Users\\manna\\AppData\\Local\\Temp\\ipykernel_1048\\3318923837.py:5: DtypeWarning:\n",
      "\n",
      "Columns (20,30) have mixed types. Specify dtype option on import or set low_memory=False.\n",
      "\n"
     ]
    },
    {
     "name": "stdout",
     "output_type": "stream",
     "text": [
      "         ID  runs  balls_faced  strike_rate  match_num\n",
      "0   1136563    31           33    93.939394          1\n",
      "1   1136568    21           16   131.250000          2\n",
      "2   1136571    57           31   183.870968          3\n",
      "3   1136574    92           62   148.387097          4\n",
      "4   1136579    30           26   115.384615          5\n",
      "5   1136584    18           15   120.000000          6\n",
      "6   1136589    68           44   154.545455          7\n",
      "7   1136591    32           26   123.076923          8\n",
      "8   1136595     8           11    72.727273          9\n",
      "9   1136599    39           30   130.000000         10\n",
      "10  1136605    70           42   166.666667         11\n",
      "11  1136608    48           29   165.517241         12\n",
      "12  1136611    12           11   109.090909         13\n",
      "13  1136613     4            9    44.444444         14\n",
      "14  1175356     6           12    50.000000         15\n",
      "15  1175362    46           33   139.393939         16\n",
      "16  1175366     3           10    30.000000         17\n",
      "17  1175369    23           26    88.461538         18\n",
      "18  1175372    84           49   171.428571         19\n",
      "19  1178395    41           33   124.242424         20\n",
      "20  1178403    67           54   124.074074         21\n",
      "21  1178406     8           10    80.000000         22\n",
      "22  1178410   100           58   172.413793         23\n",
      "23  1178414     9            8   112.500000         24\n",
      "24  1178417    13            8   162.500000         25\n",
      "25  1178421    23           17   135.294118         26\n",
      "26  1178424    25            7   357.142857         27\n",
      "27  1178429    16            7   228.571429         28\n"
     ]
    },
    {
     "data": {
      "image/png": "[encoded data removed]",
      "text/plain": [
       "<Figure size 720x432 with 1 Axes>"
      ]
     },
     "metadata": {
      "needs_background": "light"
     },
     "output_type": "display_data"
    }
   ],
   "source": [
    "import pandas as pd\n",
    "import matplotlib.pyplot as plt\n",
    "\n",
    "# read in the data\n",
    "data = pd.read_csv(\"data/2018_and_2019_ipl_ball_by_ball.csv\")\n",
    "\n",
    "# select a specific batsman\n",
    "selected_batsman = \"V Kohli\"\n",
    "\n",
    "# filter the data to only include the selected batsman\n",
    "selected_batsman_data = data[data['batter'] == selected_batsman]\n",
    "\n",
    "# group the data by match id and calculate the total runs and balls faced for the selected batsman in each match\n",
    "match_batsman_data = selected_batsman_data.groupby('ID')['batsman_run'].agg(['sum', 'count']).reset_index()\n",
    "match_batsman_data.columns = ['ID', 'runs', 'balls_faced']\n",
    "\n",
    "# calculate the strike rate for the selected batsman in each match\n",
    "match_batsman_data['strike_rate'] = (match_batsman_data['runs'] / match_batsman_data['balls_faced']) * 100\n",
    "\n",
    "# create a dictionary that maps the actual match id to sequential numbers\n",
    "match_id_map = {match_id: i+1 for i, match_id in enumerate(match_batsman_data['ID'].unique())}\n",
    "\n",
    "# create a new column in the match_batsman_data dataframe that maps the actual match id to sequential numbers\n",
    "match_batsman_data['match_num'] = match_batsman_data['ID'].map(match_id_map)\n",
    "\n",
    "print(match_batsman_data)\n",
    "# plot a line chart to show how the selected batsman's strike rate changed for each match\n",
    "fig, ax = plt.subplots(figsize=(10, 6))\n",
    "ax.plot(match_batsman_data['match_num'], match_batsman_data['strike_rate'], label=selected_batsman)\n",
    "\n",
    "ax.set_xlabel('Match ID')\n",
    "ax.set_ylabel('Strike Rate')\n",
    "ax.set_title(f\"{selected_batsman}'s Strike Rate by Match\")\n",
    "ax.legend()\n",
    "plt.show()\n"
   ]
  },
  {
   "cell_type": "code",
   "execution_count": 15,
   "metadata": {},
   "outputs": [
    {
     "data": {
      "application/vnd.plotly.v1+json": {
       "config": {
        "plotlyServerURL": "https://plot.ly"
       },
       "data": [
        {
         "mode": "lines",
         "type": "scatter",
         "x": [
          1,
          2,
          3,
          4,
          5,
          6,
          7,
          8,
          9,
          10,
          11,
          12,
          13,
          14,
          15,
          16,
          17,
          18,
          19,
          20,
          21,
          22,
          23,
          24,
          25,
          26,
          27,
          28
         ],
         "y": [
          93.93939393939394,
          131.25,
          183.8709677419355,
          148.38709677419354,
          115.38461538461537,
          120,
          154.54545454545453,
          123.07692307692308,
          72.72727272727273,
          130,
          166.66666666666669,
          165.51724137931035,
          109.09090909090908,
          44.44444444444444,
          50,
          139.3939393939394,
          30,
          88.46153846153845,
          171.42857142857142,
          124.24242424242425,
          124.07407407407408,
          80,
          172.41379310344826,
          112.5,
          162.5,
          135.29411764705884,
          357.14285714285717,
          228.57142857142856
         ]
        }
       ],
       "frames": [
        {
         "data": [
          {
           "mode": "lines",
           "type": "scatter",
           "x": [
            1
           ],
           "y": [
            93.93939393939394
           ]
          }
         ]
        },
        {
         "data": [
          {
           "mode": "lines",
           "type": "scatter",
           "x": [
            1,
            2
           ],
           "y": [
            93.93939393939394,
            131.25
           ]
          }
         ]
        },
        {
         "data": [
          {
           "mode": "lines",
           "type": "scatter",
           "x": [
            1,
            2,
            3
           ],
           "y": [
            93.93939393939394,
            131.25,
            183.8709677419355
           ]
          }
         ]
        },
        {
         "data": [
          {
           "mode": "lines",
           "type": "scatter",
           "x": [
            1,
            2,
            3,
            4
           ],
           "y": [
            93.93939393939394,
            131.25,
            183.8709677419355,
            148.38709677419354
           ]
          }
         ]
        },
        {
         "data": [
          {
           "mode": "lines",
           "type": "scatter",
           "x": [
            1,
            2,
            3,
            4,
            5
           ],
           "y": [
            93.93939393939394,
            131.25,
            183.8709677419355,
            148.38709677419354,
            115.38461538461537
           ]
          }
         ]
        },
        {
         "data": [
          {
           "mode": "lines",
           "type": "scatter",
           "x": [
            1,
            2,
            3,
            4,
            5,
            6
           ],
           "y": [
            93.93939393939394,
            131.25,
            183.8709677419355,
            148.38709677419354,
            115.38461538461537,
            120
           ]
          }
         ]
        },
        {
         "data": [
          {
           "mode": "lines",
           "type": "scatter",
           "x": [
            1,
            2,
            3,
            4,
            5,
            6,
            7
           ],
           "y": [
            93.93939393939394,
            131.25,
            183.8709677419355,
            148.38709677419354,
            115.38461538461537,
            120,
            154.54545454545453
           ]
          }
         ]
        },
        {
         "data": [
          {
           "mode": "lines",
           "type": "scatter",
           "x": [
            1,
            2,
            3,
            4,
            5,
            6,
            7,
            8
           ],
           "y": [
            93.93939393939394,
            131.25,
            183.8709677419355,
            148.38709677419354,
            115.38461538461537,
            120,
            154.54545454545453,
            123.07692307692308
           ]
          }
         ]
        },
        {
         "data": [
          {
           "mode": "lines",
           "type": "scatter",
           "x": [
            1,
            2,
            3,
            4,
            5,
            6,
            7,
            8,
            9
           ],
           "y": [
            93.93939393939394,
            131.25,
            183.8709677419355,
            148.38709677419354,
            115.38461538461537,
            120,
            154.54545454545453,
            123.07692307692308,
            72.72727272727273
           ]
          }
         ]
        },
        {
         "data": [
          {
           "mode": "lines",
           "type": "scatter",
           "x": [
            1,
            2,
            3,
            4,
            5,
            6,
            7,
            8,
            9,
            10
           ],
           "y": [
            93.93939393939394,
            131.25,
            183.8709677419355,
            148.38709677419354,
            115.38461538461537,
            120,
            154.54545454545453,
            123.07692307692308,
            72.72727272727273,
            130
           ]
          }
         ]
        },
        {
         "data": [
          {
           "mode": "lines",
           "type": "scatter",
           "x": [
            1,
            2,
            3,
            4,
            5,
            6,
            7,
            8,
            9,
            10,
            11
           ],
           "y": [
            93.93939393939394,
            131.25,
            183.8709677419355,
            148.38709677419354,
            115.38461538461537,
            120,
            154.54545454545453,
            123.07692307692308,
            72.72727272727273,
            130,
            166.66666666666669
           ]
          }
         ]
        },
        {
         "data": [
          {
           "mode": "lines",
           "type": "scatter",
           "x": [
            1,
            2,
            3,
            4,
            5,
            6,
            7,
            8,
            9,
            10,
            11,
            12
           ],
           "y": [
            93.93939393939394,
            131.25,
            183.8709677419355,
            148.38709677419354,
            115.38461538461537,
            120,
            154.54545454545453,
            123.07692307692308,
            72.72727272727273,
            130,
            166.66666666666669,
            165.51724137931035
           ]
          }
         ]
        },
        {
         "data": [
          {
           "mode": "lines",
           "type": "scatter",
           "x": [
            1,
            2,
            3,
            4,
            5,
            6,
            7,
            8,
            9,
            10,
            11,
            12,
            13
           ],
           "y": [
            93.93939393939394,
            131.25,
            183.8709677419355,
            148.38709677419354,
            115.38461538461537,
            120,
            154.54545454545453,
            123.07692307692308,
            72.72727272727273,
            130,
            166.66666666666669,
            165.51724137931035,
            109.09090909090908
           ]
          }
         ]
        },
        {
         "data": [
          {
           "mode": "lines",
           "type": "scatter",
           "x": [
            1,
            2,
            3,
            4,
            5,
            6,
            7,
            8,
            9,
            10,
            11,
            12,
            13,
            14
           ],
           "y": [
            93.93939393939394,
            131.25,
            183.8709677419355,
            148.38709677419354,
            115.38461538461537,
            120,
            154.54545454545453,
            123.07692307692308,
            72.72727272727273,
            130,
            166.66666666666669,
            165.51724137931035,
            109.09090909090908,
            44.44444444444444
           ]
          }
         ]
        },
        {
         "data": [
          {
           "mode": "lines",
           "type": "scatter",
           "x": [
            1,
            2,
            3,
            4,
            5,
            6,
            7,
            8,
            9,
            10,
            11,
            12,
            13,
            14,
            15
           ],
           "y": [
            93.93939393939394,
            131.25,
            183.8709677419355,
            148.38709677419354,
            115.38461538461537,
            120,
            154.54545454545453,
            123.07692307692308,
            72.72727272727273,
            130,
            166.66666666666669,
            165.51724137931035,
            109.09090909090908,
            44.44444444444444,
            50
           ]
          }
         ]
        },
        {
         "data": [
          {
           "mode": "lines",
           "type": "scatter",
           "x": [
            1,
            2,
            3,
            4,
            5,
            6,
            7,
            8,
            9,
            10,
            11,
            12,
            13,
            14,
            15,
            16
           ],
           "y": [
            93.93939393939394,
            131.25,
            183.8709677419355,
            148.38709677419354,
            115.38461538461537,
            120,
            154.54545454545453,
            123.07692307692308,
            72.72727272727273,
            130,
            166.66666666666669,
            165.51724137931035,
            109.09090909090908,
            44.44444444444444,
            50,
            139.3939393939394
           ]
          }
         ]
        },
        {
         "data": [
          {
           "mode": "lines",
           "type": "scatter",
           "x": [
            1,
            2,
            3,
            4,
            5,
            6,
            7,
            8,
            9,
            10,
            11,
            12,
            13,
            14,
            15,
            16,
            17
           ],
           "y": [
            93.93939393939394,
            131.25,
            183.8709677419355,
            148.38709677419354,
            115.38461538461537,
            120,
            154.54545454545453,
            123.07692307692308,
            72.72727272727273,
            130,
            166.66666666666669,
            165.51724137931035,
            109.09090909090908,
            44.44444444444444,
            50,
            139.3939393939394,
            30
           ]
          }
         ]
        },
        {
         "data": [
          {
           "mode": "lines",
           "type": "scatter",
           "x": [
            1,
            2,
            3,
            4,
            5,
            6,
            7,
            8,
            9,
            10,
            11,
            12,
            13,
            14,
            15,
            16,
            17,
            18
           ],
           "y": [
            93.93939393939394,
            131.25,
            183.8709677419355,
            148.38709677419354,
            115.38461538461537,
            120,
            154.54545454545453,
            123.07692307692308,
            72.72727272727273,
            130,
            166.66666666666669,
            165.51724137931035,
            109.09090909090908,
            44.44444444444444,
            50,
            139.3939393939394,
            30,
            88.46153846153845
           ]
          }
         ]
        },
        {
         "data": [
          {
           "mode": "lines",
           "type": "scatter",
           "x": [
            1,
            2,
            3,
            4,
            5,
            6,
            7,
            8,
            9,
            10,
            11,
            12,
            13,
            14,
            15,
            16,
            17,
            18,
            19
           ],
           "y": [
            93.93939393939394,
            131.25,
            183.8709677419355,
            148.38709677419354,
            115.38461538461537,
            120,
            154.54545454545453,
            123.07692307692308,
            72.72727272727273,
            130,
            166.66666666666669,
            165.51724137931035,
            109.09090909090908,
            44.44444444444444,
            50,
            139.3939393939394,
            30,
            88.46153846153845,
            171.42857142857142
           ]
          }
         ]
        },
        {
         "data": [
          {
           "mode": "lines",
           "type": "scatter",
           "x": [
            1,
            2,
            3,
            4,
            5,
            6,
            7,
            8,
            9,
            10,
            11,
            12,
            13,
            14,
            15,
            16,
            17,
            18,
            19,
            20
           ],
           "y": [
            93.93939393939394,
            131.25,
            183.8709677419355,
            148.38709677419354,
            115.38461538461537,
            120,
            154.54545454545453,
            123.07692307692308,
            72.72727272727273,
            130,
            166.66666666666669,
            165.51724137931035,
            109.09090909090908,
            44.44444444444444,
            50,
            139.3939393939394,
            30,
            88.46153846153845,
            171.42857142857142,
            124.24242424242425
           ]
          }
         ]
        },
        {
         "data": [
          {
           "mode": "lines",
           "type": "scatter",
           "x": [
            1,
            2,
            3,
            4,
            5,
            6,
            7,
            8,
            9,
            10,
            11,
            12,
            13,
            14,
            15,
            16,
            17,
            18,
            19,
            20,
            21
           ],
           "y": [
            93.93939393939394,
            131.25,
            183.8709677419355,
            148.38709677419354,
            115.38461538461537,
            120,
            154.54545454545453,
            123.07692307692308,
            72.72727272727273,
            130,
            166.66666666666669,
            165.51724137931035,
            109.09090909090908,
            44.44444444444444,
            50,
            139.3939393939394,
            30,
            88.46153846153845,
            171.42857142857142,
            124.24242424242425,
            124.07407407407408
           ]
          }
         ]
        },
        {
         "data": [
          {
           "mode": "lines",
           "type": "scatter",
           "x": [
            1,
            2,
            3,
            4,
            5,
            6,
            7,
            8,
            9,
            10,
            11,
            12,
            13,
            14,
            15,
            16,
            17,
            18,
            19,
            20,
            21,
            22
           ],
           "y": [
            93.93939393939394,
            131.25,
            183.8709677419355,
            148.38709677419354,
            115.38461538461537,
            120,
            154.54545454545453,
            123.07692307692308,
            72.72727272727273,
            130,
            166.66666666666669,
            165.51724137931035,
            109.09090909090908,
            44.44444444444444,
            50,
            139.3939393939394,
            30,
            88.46153846153845,
            171.42857142857142,
            124.24242424242425,
            124.07407407407408,
            80
           ]
          }
         ]
        },
        {
         "data": [
          {
           "mode": "lines",
           "type": "scatter",
           "x": [
            1,
            2,
            3,
            4,
            5,
            6,
            7,
            8,
            9,
            10,
            11,
            12,
            13,
            14,
            15,
            16,
            17,
            18,
            19,
            20,
            21,
            22,
            23
           ],
           "y": [
            93.93939393939394,
            131.25,
            183.8709677419355,
            148.38709677419354,
            115.38461538461537,
            120,
            154.54545454545453,
            123.07692307692308,
            72.72727272727273,
            130,
            166.66666666666669,
            165.51724137931035,
            109.09090909090908,
            44.44444444444444,
            50,
            139.3939393939394,
            30,
            88.46153846153845,
            171.42857142857142,
            124.24242424242425,
            124.07407407407408,
            80,
            172.41379310344826
           ]
          }
         ]
        },
        {
         "data": [
          {
           "mode": "lines",
           "type": "scatter",
           "x": [
            1,
            2,
            3,
            4,
            5,
            6,
            7,
            8,
            9,
            10,
            11,
            12,
            13,
            14,
            15,
            16,
            17,
            18,
            19,
            20,
            21,
            22,
            23,
            24
           ],
           "y": [
            93.93939393939394,
            131.25,
            183.8709677419355,
            148.38709677419354,
            115.38461538461537,
            120,
            154.54545454545453,
            123.07692307692308,
            72.72727272727273,
            130,
            166.66666666666669,
            165.51724137931035,
            109.09090909090908,
            44.44444444444444,
            50,
            139.3939393939394,
            30,
            88.46153846153845,
            171.42857142857142,
            124.24242424242425,
            124.07407407407408,
            80,
            172.41379310344826,
            112.5
           ]
          }
         ]
        },
        {
         "data": [
          {
           "mode": "lines",
           "type": "scatter",
           "x": [
            1,
            2,
            3,
            4,
            5,
            6,
            7,
            8,
            9,
            10,
            11,
            12,
            13,
            14,
            15,
            16,
            17,
            18,
            19,
            20,
            21,
            22,
            23,
            24,
            25
           ],
           "y": [
            93.93939393939394,
            131.25,
            183.8709677419355,
            148.38709677419354,
            115.38461538461537,
            120,
            154.54545454545453,
            123.07692307692308,
            72.72727272727273,
            130,
            166.66666666666669,
            165.51724137931035,
            109.09090909090908,
            44.44444444444444,
            50,
            139.3939393939394,
            30,
            88.46153846153845,
            171.42857142857142,
            124.24242424242425,
            124.07407407407408,
            80,
            172.41379310344826,
            112.5,
            162.5
           ]
          }
         ]
        },
        {
         "data": [
          {
           "mode": "lines",
           "type": "scatter",
           "x": [
            1,
            2,
            3,
            4,
            5,
            6,
            7,
            8,
            9,
            10,
            11,
            12,
            13,
            14,
            15,
            16,
            17,
            18,
            19,
            20,
            21,
            22,
            23,
            24,
            25,
            26
           ],
           "y": [
            93.93939393939394,
            131.25,
            183.8709677419355,
            148.38709677419354,
            115.38461538461537,
            120,
            154.54545454545453,
            123.07692307692308,
            72.72727272727273,
            130,
            166.66666666666669,
            165.51724137931035,
            109.09090909090908,
            44.44444444444444,
            50,
            139.3939393939394,
            30,
            88.46153846153845,
            171.42857142857142,
            124.24242424242425,
            124.07407407407408,
            80,
            172.41379310344826,
            112.5,
            162.5,
            135.29411764705884
           ]
          }
         ]
        },
        {
         "data": [
          {
           "mode": "lines",
           "type": "scatter",
           "x": [
            1,
            2,
            3,
            4,
            5,
            6,
            7,
            8,
            9,
            10,
            11,
            12,
            13,
            14,
            15,
            16,
            17,
            18,
            19,
            20,
            21,
            22,
            23,
            24,
            25,
            26,
            27
           ],
           "y": [
            93.93939393939394,
            131.25,
            183.8709677419355,
            148.38709677419354,
            115.38461538461537,
            120,
            154.54545454545453,
            123.07692307692308,
            72.72727272727273,
            130,
            166.66666666666669,
            165.51724137931035,
            109.09090909090908,
            44.44444444444444,
            50,
            139.3939393939394,
            30,
            88.46153846153845,
            171.42857142857142,
            124.24242424242425,
            124.07407407407408,
            80,
            172.41379310344826,
            112.5,
            162.5,
            135.29411764705884,
            357.14285714285717
           ]
          }
         ]
        }
       ],
       "layout": {
        "template": {
         "data": {
          "bar": [
           {
            "error_x": {
             "color": "#2a3f5f"
            },
            "error_y": {
             "color": "#2a3f5f"
            },
            "marker": {
             "line": {
              "color": "#E5ECF6",
              "width": 0.5
             },
             "pattern": {
              "fillmode": "overlay",
              "size": 10,
              "solidity": 0.2
             }
            },
            "type": "bar"
           }
          ],
          "barpolar": [
           {
            "marker": {
             "line": {
              "color": "#E5ECF6",
              "width": 0.5
             },
             "pattern": {
              "fillmode": "overlay",
              "size": 10,
              "solidity": 0.2
             }
            },
            "type": "barpolar"
           }
          ],
          "carpet": [
           {
            "aaxis": {
             "endlinecolor": "#2a3f5f",
             "gridcolor": "white",
             "linecolor": "white",
             "minorgridcolor": "white",
             "startlinecolor": "#2a3f5f"
            },
            "baxis": {
             "endlinecolor": "#2a3f5f",
             "gridcolor": "white",
             "linecolor": "white",
             "minorgridcolor": "white",
             "startlinecolor": "#2a3f5f"
            },
            "type": "carpet"
           }
          ],
          "choropleth": [
           {
            "colorbar": {
             "outlinewidth": 0,
             "ticks": ""
            },
            "type": "choropleth"
           }
          ],
          "contour": [
           {
            "colorbar": {
             "outlinewidth": 0,
             "ticks": ""
            },
            "colorscale": [
             [
              0,
              "#0d0887"
             ],
             [
              0.1111111111111111,
              "#46039f"
             ],
             [
              0.2222222222222222,
              "#7201a8"
             ],
             [
              0.3333333333333333,
              "#9c179e"
             ],
             [
              0.4444444444444444,
              "#bd3786"
             ],
             [
              0.5555555555555556,
              "#d8576b"
             ],
             [
              0.6666666666666666,
              "#ed7953"
             ],
             [
              0.7777777777777778,
              "#fb9f3a"
             ],
             [
              0.8888888888888888,
              "#fdca26"
             ],
             [
              1,
              "#f0f921"
             ]
            ],
            "type": "contour"
           }
          ],
          "contourcarpet": [
           {
            "colorbar": {
             "outlinewidth": 0,
             "ticks": ""
            },
            "type": "contourcarpet"
           }
          ],
          "heatmap": [
           {
            "colorbar": {
             "outlinewidth": 0,
             "ticks": ""
            },
            "colorscale": [
             [
              0,
              "#0d0887"
             ],
             [
              0.1111111111111111,
              "#46039f"
             ],
             [
              0.2222222222222222,
              "#7201a8"
             ],
             [
              0.3333333333333333,
              "#9c179e"
             ],
             [
              0.4444444444444444,
              "#bd3786"
             ],
             [
              0.5555555555555556,
              "#d8576b"
             ],
             [
              0.6666666666666666,
              "#ed7953"
             ],
             [
              0.7777777777777778,
              "#fb9f3a"
             ],
             [
              0.8888888888888888,
              "#fdca26"
             ],
             [
              1,
              "#f0f921"
             ]
            ],
            "type": "heatmap"
           }
          ],
          "heatmapgl": [
           {
            "colorbar": {
             "outlinewidth": 0,
             "ticks": ""
            },
            "colorscale": [
             [
              0,
              "#0d0887"
             ],
             [
              0.1111111111111111,
              "#46039f"
             ],
             [
              0.2222222222222222,
              "#7201a8"
             ],
             [
              0.3333333333333333,
              "#9c179e"
             ],
             [
              0.4444444444444444,
              "#bd3786"
             ],
             [
              0.5555555555555556,
              "#d8576b"
             ],
             [
              0.6666666666666666,
              "#ed7953"
             ],
             [
              0.7777777777777778,
              "#fb9f3a"
             ],
             [
              0.8888888888888888,
              "#fdca26"
             ],
             [
              1,
              "#f0f921"
             ]
            ],
            "type": "heatmapgl"
           }
          ],
          "histogram": [
           {
            "marker": {
             "pattern": {
              "fillmode": "overlay",
              "size": 10,
              "solidity": 0.2
             }
            },
            "type": "histogram"
           }
          ],
          "histogram2d": [
           {
            "colorbar": {
             "outlinewidth": 0,
             "ticks": ""
            },
            "colorscale": [
             [
              0,
              "#0d0887"
             ],
             [
              0.1111111111111111,
              "#46039f"
             ],
             [
              0.2222222222222222,
              "#7201a8"
             ],
             [
              0.3333333333333333,
              "#9c179e"
             ],
             [
              0.4444444444444444,
              "#bd3786"
             ],
             [
              0.5555555555555556,
              "#d8576b"
             ],
             [
              0.6666666666666666,
              "#ed7953"
             ],
             [
              0.7777777777777778,
              "#fb9f3a"
             ],
             [
              0.8888888888888888,
              "#fdca26"
             ],
             [
              1,
              "#f0f921"
             ]
            ],
            "type": "histogram2d"
           }
          ],
          "histogram2dcontour": [
           {
            "colorbar": {
             "outlinewidth": 0,
             "ticks": ""
            },
            "colorscale": [
             [
              0,
              "#0d0887"
             ],
             [
              0.1111111111111111,
              "#46039f"
             ],
             [
              0.2222222222222222,
              "#7201a8"
             ],
             [
              0.3333333333333333,
              "#9c179e"
             ],
             [
              0.4444444444444444,
              "#bd3786"
             ],
             [
              0.5555555555555556,
              "#d8576b"
             ],
             [
              0.6666666666666666,
              "#ed7953"
             ],
             [
              0.7777777777777778,
              "#fb9f3a"
             ],
             [
              0.8888888888888888,
              "#fdca26"
             ],
             [
              1,
              "#f0f921"
             ]
            ],
            "type": "histogram2dcontour"
           }
          ],
          "mesh3d": [
           {
            "colorbar": {
             "outlinewidth": 0,
             "ticks": ""
            },
            "type": "mesh3d"
           }
          ],
          "parcoords": [
           {
            "line": {
             "colorbar": {
              "outlinewidth": 0,
              "ticks": ""
             }
            },
            "type": "parcoords"
           }
          ],
          "pie": [
           {
            "automargin": true,
            "type": "pie"
           }
          ],
          "scatter": [
           {
            "fillpattern": {
             "fillmode": "overlay",
             "size": 10,
             "solidity": 0.2
            },
            "type": "scatter"
           }
          ],
          "scatter3d": [
           {
            "line": {
             "colorbar": {
              "outlinewidth": 0,
              "ticks": ""
             }
            },
            "marker": {
             "colorbar": {
              "outlinewidth": 0,
              "ticks": ""
             }
            },
            "type": "scatter3d"
           }
          ],
          "scattercarpet": [
           {
            "marker": {
             "colorbar": {
              "outlinewidth": 0,
              "ticks": ""
             }
            },
            "type": "scattercarpet"
           }
          ],
          "scattergeo": [
           {
            "marker": {
             "colorbar": {
              "outlinewidth": 0,
              "ticks": ""
             }
            },
            "type": "scattergeo"
           }
          ],
          "scattergl": [
           {
            "marker": {
             "colorbar": {
              "outlinewidth": 0,
              "ticks": ""
             }
            },
            "type": "scattergl"
           }
          ],
          "scattermapbox": [
           {
            "marker": {
             "colorbar": {
              "outlinewidth": 0,
              "ticks": ""
             }
            },
            "type": "scattermapbox"
           }
          ],
          "scatterpolar": [
           {
            "marker": {
             "colorbar": {
              "outlinewidth": 0,
              "ticks": ""
             }
            },
            "type": "scatterpolar"
           }
          ],
          "scatterpolargl": [
           {
            "marker": {
             "colorbar": {
              "outlinewidth": 0,
              "ticks": ""
             }
            },
            "type": "scatterpolargl"
           }
          ],
          "scatterternary": [
           {
            "marker": {
             "colorbar": {
              "outlinewidth": 0,
              "ticks": ""
             }
            },
            "type": "scatterternary"
           }
          ],
          "surface": [
           {
            "colorbar": {
             "outlinewidth": 0,
             "ticks": ""
            },
            "colorscale": [
             [
              0,
              "#0d0887"
             ],
             [
              0.1111111111111111,
              "#46039f"
             ],
             [
              0.2222222222222222,
              "#7201a8"
             ],
             [
              0.3333333333333333,
              "#9c179e"
             ],
             [
              0.4444444444444444,
              "#bd3786"
             ],
             [
              0.5555555555555556,
              "#d8576b"
             ],
             [
              0.6666666666666666,
              "#ed7953"
             ],
             [
              0.7777777777777778,
              "#fb9f3a"
             ],
             [
              0.8888888888888888,
              "#fdca26"
             ],
             [
              1,
              "#f0f921"
             ]
            ],
            "type": "surface"
           }
          ],
          "table": [
           {
            "cells": {
             "fill": {
              "color": "#EBF0F8"
             },
             "line": {
              "color": "white"
             }
            },
            "header": {
             "fill": {
              "color": "#C8D4E3"
             },
             "line": {
              "color": "white"
             }
            },
            "type": "table"
           }
          ]
         },
         "layout": {
          "annotationdefaults": {
           "arrowcolor": "#2a3f5f",
           "arrowhead": 0,
           "arrowwidth": 1
          },
          "autotypenumbers": "strict",
          "coloraxis": {
           "colorbar": {
            "outlinewidth": 0,
            "ticks": ""
           }
          },
          "colorscale": {
           "diverging": [
            [
             0,
             "#8e0152"
            ],
            [
             0.1,
             "#c51b7d"
            ],
            [
             0.2,
             "#de77ae"
            ],
            [
             0.3,
             "#f1b6da"
            ],
            [
             0.4,
             "#fde0ef"
            ],
            [
             0.5,
             "#f7f7f7"
            ],
            [
             0.6,
             "#e6f5d0"
            ],
            [
             0.7,
             "#b8e186"
            ],
            [
             0.8,
             "#7fbc41"
            ],
            [
             0.9,
             "#4d9221"
            ],
            [
             1,
             "#276419"
            ]
           ],
           "sequential": [
            [
             0,
             "#0d0887"
            ],
            [
             0.1111111111111111,
             "#46039f"
            ],
            [
             0.2222222222222222,
             "#7201a8"
            ],
            [
             0.3333333333333333,
             "#9c179e"
            ],
            [
             0.4444444444444444,
             "#bd3786"
            ],
            [
             0.5555555555555556,
             "#d8576b"
            ],
            [
             0.6666666666666666,
             "#ed7953"
            ],
            [
             0.7777777777777778,
             "#fb9f3a"
            ],
            [
             0.8888888888888888,
             "#fdca26"
            ],
            [
             1,
             "#f0f921"
            ]
           ],
           "sequentialminus": [
            [
             0,
             "#0d0887"
            ],
            [
             0.1111111111111111,
             "#46039f"
            ],
            [
             0.2222222222222222,
             "#7201a8"
            ],
            [
             0.3333333333333333,
             "#9c179e"
            ],
            [
             0.4444444444444444,
             "#bd3786"
            ],
            [
             0.5555555555555556,
             "#d8576b"
            ],
            [
             0.6666666666666666,
             "#ed7953"
            ],
            [
             0.7777777777777778,
             "#fb9f3a"
            ],
            [
             0.8888888888888888,
             "#fdca26"
            ],
            [
             1,
             "#f0f921"
            ]
           ]
          },
          "colorway": [
           "#636efa",
           "#EF553B",
           "#00cc96",
           "#ab63fa",
           "#FFA15A",
           "#19d3f3",
           "#FF6692",
           "#B6E880",
           "#FF97FF",
           "#FECB52"
          ],
          "font": {
           "color": "#2a3f5f"
          },
          "geo": {
           "bgcolor": "white",
           "lakecolor": "white",
           "landcolor": "#E5ECF6",
           "showlakes": true,
           "showland": true,
           "subunitcolor": "white"
          },
          "hoverlabel": {
           "align": "left"
          },
          "hovermode": "closest",
          "mapbox": {
           "style": "light"
          },
          "paper_bgcolor": "white",
          "plot_bgcolor": "#E5ECF6",
          "polar": {
           "angularaxis": {
            "gridcolor": "white",
            "linecolor": "white",
            "ticks": ""
           },
           "bgcolor": "#E5ECF6",
           "radialaxis": {
            "gridcolor": "white",
            "linecolor": "white",
            "ticks": ""
           }
          },
          "scene": {
           "xaxis": {
            "backgroundcolor": "#E5ECF6",
            "gridcolor": "white",
            "gridwidth": 2,
            "linecolor": "white",
            "showbackground": true,
            "ticks": "",
            "zerolinecolor": "white"
           },
           "yaxis": {
            "backgroundcolor": "#E5ECF6",
            "gridcolor": "white",
            "gridwidth": 2,
            "linecolor": "white",
            "showbackground": true,
            "ticks": "",
            "zerolinecolor": "white"
           },
           "zaxis": {
            "backgroundcolor": "#E5ECF6",
            "gridcolor": "white",
            "gridwidth": 2,
            "linecolor": "white",
            "showbackground": true,
            "ticks": "",
            "zerolinecolor": "white"
           }
          },
          "shapedefaults": {
           "line": {
            "color": "#2a3f5f"
           }
          },
          "ternary": {
           "aaxis": {
            "gridcolor": "white",
            "linecolor": "white",
            "ticks": ""
           },
           "baxis": {
            "gridcolor": "white",
            "linecolor": "white",
            "ticks": ""
           },
           "bgcolor": "#E5ECF6",
           "caxis": {
            "gridcolor": "white",
            "linecolor": "white",
            "ticks": ""
           }
          },
          "title": {
           "x": 0.05
          },
          "xaxis": {
           "automargin": true,
           "gridcolor": "white",
           "linecolor": "white",
           "ticks": "",
           "title": {
            "standoff": 15
           },
           "zerolinecolor": "white",
           "zerolinewidth": 2
          },
          "yaxis": {
           "automargin": true,
           "gridcolor": "white",
           "linecolor": "white",
           "ticks": "",
           "title": {
            "standoff": 15
           },
           "zerolinecolor": "white",
           "zerolinewidth": 2
          }
         }
        },
        "title": {
         "text": "V Kohli Strike Rate by Match"
        },
        "updatemenus": [
         {
          "buttons": [
           {
            "args": [
             null,
             {
              "frame": {
               "duration": 550,
               "redraw": true
              },
              "fromcurrent": true,
              "mode": "immediate"
             }
            ],
            "label": "Play",
            "method": "animate"
           }
          ],
          "showactive": false,
          "type": "buttons"
         }
        ],
        "xaxis": {
         "title": {
          "text": "Match Number"
         }
        },
        "yaxis": {
         "title": {
          "text": "Strike Rate"
         }
        }
       }
      }
     },
     "metadata": {},
     "output_type": "display_data"
    }
   ],
   "source": [
    "import pandas as pd\n",
    "import plotly.graph_objs as go\n",
    "\n",
    "# create a trace for the animated line plot\n",
    "trace = go.Scatter(x=match_batsman_data['match_num'], y=match_batsman_data['strike_rate'], mode='lines')\n",
    "\n",
    "# create the layout for the animated line plot\n",
    "layout = go.Layout(xaxis=dict(title='Match Number'), yaxis=dict(title='Strike Rate'), title=f'{selected_batsman} Strike Rate by Match')\n",
    "\n",
    "# create the figure for the animated line plot\n",
    "fig = go.Figure(data=[trace], layout=layout)\n",
    "\n",
    "# add the animation to the figure\n",
    "fig.update_layout(updatemenus=[dict(type='buttons', showactive=False, buttons=[dict(label='Play', method='animate', args=[None, dict(frame=dict(duration=550, redraw=True), fromcurrent=True, mode='immediate')])])])\n",
    "\n",
    "# create the frames for the animation\n",
    "frames = []\n",
    "for i in range(1, int(match_batsman_data['match_num'].max())):\n",
    "    frame_data = match_batsman_data[match_batsman_data['match_num'] <= i]\n",
    "    frame_trace = go.Scatter(x=frame_data['match_num'], y=frame_data['strike_rate'], mode='lines')\n",
    "    frame = go.Frame(data=[frame_trace])\n",
    "    frames.append(frame)\n",
    "\n",
    "# add the frames to the figure\n",
    "fig.frames = frames\n",
    "\n",
    "# show the animated line plot\n",
    "fig.show()\n",
    "#This will create an animated line plot showing how the selected batsman's strike rate changes over time/matches. The plot will automatically play through each match, showing the batsman's strike rate for each match in turn.\n"
   ]
  }
 ],
 "metadata": {
  "kernelspec": {
   "display_name": "Python 3",
   "language": "python",
   "name": "python3"
  },
  "language_info": {
   "codemirror_mode": {
    "name": "ipython",
    "version": 3
   },
   "file_extension": ".py",
   "mimetype": "text/x-python",
   "name": "python",
   "nbconvert_exporter": "python",
   "pygments_lexer": "ipython3",
   "version": "3.9.10"
  },
  "orig_nbformat": 4
 },
 "nbformat": 4,
 "nbformat_minor": 2
}
