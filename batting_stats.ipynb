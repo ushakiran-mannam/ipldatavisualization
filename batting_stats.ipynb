{
 "cells": [
  {
   "cell_type": "code",
   "execution_count": 28,
   "metadata": {},
   "outputs": [
    {
     "name": "stderr",
     "output_type": "stream",
     "text": [
      "C:\\Users\\manna\\AppData\\Local\\Temp\\ipykernel_14368\\794233890.py:2: DtypeWarning: Columns (20) have mixed types. Specify dtype option on import or set low_memory=False.\n",
      "  merged_ipl_df = pd.read_csv('data/2022_ipl_ball_by_ball.csv')\n"
     ]
    }
   ],
   "source": [
    "import pandas as pd\n",
    "merged_ipl_df = pd.read_csv('data/2022_ipl_ball_by_ball.csv')"
   ]
  },
  {
   "cell_type": "code",
   "execution_count": 29,
   "metadata": {},
   "outputs": [],
   "source": [
    "# Calculate batting average\n",
    "\n",
    "new_df = merged_ipl_df[['ID','batter','batsman_run']].copy()\n"
   ]
  },
  {
   "cell_type": "code",
   "execution_count": 30,
   "metadata": {},
   "outputs": [],
   "source": [
    "# Group data by matchid and batsman\n",
    "grouped_data = new_df.groupby(['ID', 'batter'])\n",
    "\n",
    "# Create an empty dictionary to store batsman runs\n",
    "batsman_runs = {}\n",
    "\n",
    "# Iterate over each group\n",
    "for name, group in grouped_data:\n",
    "    # Calculate total runs scored by the batsman in the match\n",
    "    runs = group['batsman_run'].sum()\n",
    "    \n",
    "    # Add the batsman and their total runs to the dictionary\n",
    "    matchid = name[0]\n",
    "    batsman = name[1]\n",
    "    if matchid not in batsman_runs:\n",
    "        batsman_runs[matchid] = {}\n",
    "    batsman_runs[matchid][batsman] = runs"
   ]
  },
  {
   "cell_type": "code",
   "execution_count": 31,
   "metadata": {},
   "outputs": [
    {
     "name": "stdout",
     "output_type": "stream",
     "text": [
      "{'D Padikkal': 2, 'DA Miller': 32, 'HH Pandya': 34, 'JC Buttler': 39, 'MS Wade': 8, 'OC McCoy': 8, 'R Ashwin': 6, 'R Parag': 15, 'SO Hetmyer': 11, 'SV Samson': 14, 'Shubman Gill': 45, 'TA Boult': 11, 'WP Saha': 5, 'YBK Jaiswal': 22}\n"
     ]
    }
   ],
   "source": [
    "print(batsman_runs[1312200])"
   ]
  },
  {
   "cell_type": "code",
   "execution_count": 32,
   "metadata": {},
   "outputs": [],
   "source": [
    "batsman_totals = {}\n",
    "\n",
    "for match_id, match_data in batsman_runs.items():\n",
    "    for batsman, runs in match_data.items():\n",
    "        if batsman in batsman_totals:\n",
    "            batsman_totals[batsman] += runs\n",
    "        else:\n",
    "            batsman_totals[batsman] = runs"
   ]
  },
  {
   "cell_type": "code",
   "execution_count": 33,
   "metadata": {},
   "outputs": [],
   "source": [
    "sorted_batsman_runs = dict(sorted(batsman_totals.items(), key=lambda x: x[1], reverse=True))"
   ]
  },
  {
   "cell_type": "code",
   "execution_count": 34,
   "metadata": {},
   "outputs": [
    {
     "name": "stdout",
     "output_type": "stream",
     "text": [
      "{'JC Buttler': 863, 'KL Rahul': 616, 'Q de Kock': 508, 'HH Pandya': 487, 'Shubman Gill': 483, 'DA Miller': 481, 'F du Plessis': 468, 'S Dhawan': 460, 'SV Samson': 458, 'DJ Hooda': 451, 'LS Livingstone': 437, 'DA Warner': 432, 'Abhishek Sharma': 426, 'Ishan Kishan': 418, 'RA Tripathi': 413, 'SS Iyer': 401, 'Tilak Varma': 397, 'AK Markram': 381, 'D Padikkal': 376, 'RD Gaikwad': 368, 'N Rana': 361, 'V Kohli': 341, 'RR Pant': 340, 'AD Russell': 335, 'RM Patidar': 333, 'KD Karthik': 330, 'WP Saha': 317, 'SO Hetmyer': 314, 'N Pooran': 306, 'SA Yadav': 303, 'GJ Maxwell': 301, 'S Dube': 289, 'PP Shaw': 283, 'AT Rayudu': 274, 'RG Sharma': 268, 'YBK Jaiswal': 258, 'JM Bairstow': 253, 'DP Conway': 252, 'MR Marsh': 251, 'R Powell': 250, 'MM Ali': 244, 'JM Sharma': 234, 'MS Dhoni': 232, 'RV Uthappa': 230, 'Shahbaz Ahmed': 219, 'R Tewatia': 217, 'KS Williamson': 216, 'PBB Rajapaksa': 206, 'MA Agarwal': 196, 'R Ashwin': 191, 'TH David': 186, 'KH Pandya': 183, 'R Parag': 183, 'VR Iyer': 182, 'AR Patel': 182, 'RK Singh': 174, 'SW Billings': 169, 'Lalit Yadav': 161, 'A Badoni': 161, 'D Brevis': 161, 'MS Wade': 157, 'MP Stoinis': 156, 'B Sai Sudharsan': 145, 'KA Pollard': 144, 'AM Rahane': 133, 'Anuj Rawat': 129, 'SN Thakur': 120, 'M Shahrukh Khan': 117, 'RA Jadeja': 116, 'A Manohar': 108, 'Washington Sundar': 101, 'Rashid Khan': 91, 'SN Khan': 91, 'MK Pandey': 88, 'AJ Finch': 86, 'MK Lomror': 86, 'RD Chahar': 77, 'E Lewis': 73, 'SP Narine': 71, 'Shashank Singh': 69, 'SS Prabhudessai': 67, 'PJ Cummins': 63, 'JD Unadkat': 59, 'R Shepherd': 58, 'JO Holder': 58, 'UT Yadav': 55, 'OF Smith': 51, 'K Rabada': 48, 'Kuldeep Yadav': 48, 'PK Garg': 46, 'Ramandeep Singh': 45, 'D Pretorius': 44, 'PVD Chameera': 43, 'HV Patel': 43, 'HR Shokeen': 43, 'TA Boult': 40, 'N Jagadeesan': 40, 'DR Sams': 38, 'PWH de Silva': 38, 'R Dhawan': 37, 'SE Rutherford': 33, 'DJ Mitchell': 33, 'JDS Neesham': 31, 'Mohammed Siraj': 30, 'TL Seifert': 24, 'B Kumar': 24, 'SP Jackson': 23, 'DJ Bravo': 23, 'Mohsin Khan': 23, 'Harpreet Brar': 22, 'Avesh Khan': 22, 'HE van der Dussen': 22, 'MJ Santner': 22, 'Arshdeep Singh': 21, 'B Indrajith': 21, 'V Shankar': 19, 'M Vohra': 19, 'Mandeep Singh': 18, 'DJ Willey': 18, 'JR Hazlewood': 18, 'KK Nair': 16, 'P Simran Singh': 14, 'Anmolpreet Singh': 13, 'CV Varun': 12, 'M Ashwin': 12, 'RA Bawa': 11, 'CJ Jordan': 11, 'M Jansen': 9, 'S Gopal': 9, 'FA Allen': 8, 'KS Bharat': 8, 'OC McCoy': 8, 'Rasikh Salam': 7, 'M Theekshana': 7, 'Simarjeet Singh': 7, 'Kartik Tyagi': 7, 'SA Abbott': 7, 'Mukesh Choudhary': 6, 'M Prasidh Krishna': 6, 'RV Patel': 6, 'VG Arora': 5, 'YS Chahal': 5, 'Aman Hakim Khan': 5, 'AS Joseph': 5, 'LH Ferguson': 5, 'Abdul Samad': 4, 'Umran Malik': 4, 'KS Sharma': 4, 'A Tomar': 4, 'PN Mankad': 4, 'Mustafizur Rahman': 3, 'Shivam Mavi': 3, 'K Kartikeya': 3, 'TG Southee': 2, 'Navdeep Saini': 2, 'Harshit Rana': 2, 'PJ Sangwan': 2, 'Fazalhaq Farooqi': 2, 'J Suchith': 2, 'T Stubbs': 2, 'NM Coulter-Nile': 1, 'A Nortje': 1, 'JJ Bumrah': 0, 'KK Ahmed': 0, 'K Gowtham': 0, 'Akash Deep': 0, 'TS Mills': 0, 'KR Sen': 0, 'Ravi Bishnoi': 0, 'NT Ellis': 0, 'Yash Dayal': 0, 'AS Roy': 0, 'RP Meredith': 0, 'R Sanjay Yadav': 0}\n"
     ]
    }
   ],
   "source": [
    "print(sorted_batsman_runs)"
   ]
  },
  {
   "cell_type": "code",
   "execution_count": 35,
   "metadata": {},
   "outputs": [],
   "source": [
    "iswicket_df = merged_ipl_df[['isWicketDelivery','player_out']].copy()"
   ]
  },
  {
   "cell_type": "code",
   "execution_count": 36,
   "metadata": {},
   "outputs": [],
   "source": [
    "out_counts = iswicket_df[iswicket_df['isWicketDelivery'] == 1].groupby('player_out')['isWicketDelivery'].count().reset_index(name='out_count')\n"
   ]
  },
  {
   "cell_type": "code",
   "execution_count": 37,
   "metadata": {},
   "outputs": [
    {
     "name": "stdout",
     "output_type": "stream",
     "text": [
      "            player_out  out_count\n",
      "0             A Badoni          8\n",
      "1            A Manohar          6\n",
      "2              A Tomar          1\n",
      "3           AD Russell          9\n",
      "4             AJ Finch          5\n",
      "..                 ...        ...\n",
      "158            WP Saha         10\n",
      "159  Washington Sundar          7\n",
      "160        YBK Jaiswal         10\n",
      "161          YS Chahal          1\n",
      "162         Yash Dayal          1\n",
      "\n",
      "[163 rows x 2 columns]\n"
     ]
    }
   ],
   "source": [
    "print(out_counts)"
   ]
  },
  {
   "cell_type": "code",
   "execution_count": 38,
   "metadata": {},
   "outputs": [],
   "source": [
    "out_counts_dict = {}\n",
    "\n",
    "for index, row in out_counts.iterrows():\n",
    "    player = row['player_out']\n",
    "    out_count = row['out_count']\n",
    "    out_counts_dict[player] = out_count"
   ]
  },
  {
   "cell_type": "code",
   "execution_count": 39,
   "metadata": {},
   "outputs": [
    {
     "name": "stdout",
     "output_type": "stream",
     "text": [
      "15\n"
     ]
    }
   ],
   "source": [
    "print(out_counts_dict['JC Buttler'])"
   ]
  },
  {
   "cell_type": "code",
   "execution_count": 40,
   "metadata": {},
   "outputs": [
    {
     "name": "stdout",
     "output_type": "stream",
     "text": [
      "{'JC Buttler': 57.53333333333333, 'KL Rahul': 51.333333333333336, 'Q de Kock': 36.285714285714285, 'HH Pandya': 44.27272727272727, 'Shubman Gill': 34.5, 'DA Miller': 68.71428571428571, 'F du Plessis': 31.2, 'S Dhawan': 38.333333333333336, 'SV Samson': 28.625, 'DJ Hooda': 32.214285714285715, 'LS Livingstone': 36.416666666666664, 'DA Warner': 48.0, 'Abhishek Sharma': 30.428571428571427, 'Ishan Kishan': 32.15384615384615, 'RA Tripathi': 34.416666666666664, 'SS Iyer': 30.846153846153847, 'Tilak Varma': 36.09090909090909, 'AK Markram': 47.625, 'D Padikkal': 22.11764705882353, 'RD Gaikwad': 26.285714285714285, 'N Rana': 27.76923076923077, 'V Kohli': 22.733333333333334, 'RR Pant': 30.90909090909091, 'AD Russell': 37.22222222222222, 'RM Patidar': 55.5, 'KD Karthik': 55.0, 'WP Saha': 31.7, 'SO Hetmyer': 44.857142857142854, 'N Pooran': 38.25, 'SA Yadav': 43.285714285714285, 'GJ Maxwell': 27.363636363636363, 'S Dube': 28.9, 'PP Shaw': 28.3, 'AT Rayudu': 24.90909090909091, 'RG Sharma': 19.142857142857142, 'YBK Jaiswal': 25.8, 'JM Bairstow': 23.0, 'DP Conway': 42.0, 'MR Marsh': 31.375, 'R Powell': 25.0, 'MM Ali': 24.4, 'JM Sharma': 29.25, 'MS Dhoni': 33.142857142857146, 'RV Uthappa': 20.90909090909091, 'Shahbaz Ahmed': 27.375, 'R Tewatia': 31.0, 'KS Williamson': 19.636363636363637, 'PBB Rajapaksa': 22.88888888888889, 'MA Agarwal': 16.333333333333332, 'R Ashwin': 27.285714285714285, 'TH David': 37.2, 'KH Pandya': 20.333333333333332, 'R Parag': 16.636363636363637, 'VR Iyer': 16.545454545454547, 'AR Patel': 45.5, 'RK Singh': 34.8, 'SW Billings': 24.142857142857142, 'Lalit Yadav': 23.0, 'A Badoni': 20.125, 'D Brevis': 23.0, 'MS Wade': 15.7, 'MP Stoinis': 19.5, 'B Sai Sudharsan': 36.25, 'KA Pollard': 14.4, 'AM Rahane': 19.0, 'Anuj Rawat': 16.125, 'SN Thakur': 15.0, 'M Shahrukh Khan': 16.714285714285715, 'RA Jadeja': 19.333333333333332, 'A Manohar': 18.0, 'Washington Sundar': 14.428571428571429, 'Rashid Khan': 22.75, 'SN Khan': 30.333333333333332, 'MK Pandey': 14.666666666666666, 'AJ Finch': 17.2, 'MK Lomror': 17.2, 'RD Chahar': 12.833333333333334, 'E Lewis': 24.333333333333332, 'SP Narine': 8.875, 'Shashank Singh': 17.25, 'SS Prabhudessai': 13.4, 'PJ Cummins': 15.75, 'JD Unadkat': 19.666666666666668, 'R Shepherd': 29.0, 'JO Holder': 9.666666666666666, 'UT Yadav': 13.75, 'OF Smith': 17.0, 'K Rabada': 9.6, 'Kuldeep Yadav': 48.0, 'PK Garg': 23.0, 'Ramandeep Singh': 22.5, 'D Pretorius': 11.0, 'PVD Chameera': 10.75, 'HV Patel': 8.6, 'HR Shokeen': 21.5, 'TA Boult': 20.0, 'N Jagadeesan': 40.0, 'DR Sams': 5.428571428571429, 'PWH de Silva': 5.428571428571429, 'R Dhawan': 18.5, 'SE Rutherford': 16.5, 'DJ Mitchell': 16.5, 'JDS Neesham': 15.5, 'Mohammed Siraj': 15.0, 'TL Seifert': 12.0, 'B Kumar': 8.0, 'SP Jackson': 5.75, 'DJ Bravo': 11.5, 'Mohsin Khan': 23.0, 'Harpreet Brar': 7.333333333333333, 'Avesh Khan': 22.0, 'HE van der Dussen': 11.0, 'MJ Santner': 11.0, 'Arshdeep Singh': 7.0, 'B Indrajith': 7.0, 'V Shankar': 4.75, 'M Vohra': 19.0, 'Mandeep Singh': 6.0, 'DJ Willey': 9.0, 'JR Hazlewood': 18, 'KK Nair': 8.0, 'P Simran Singh': 14.0, 'Anmolpreet Singh': 6.5, 'CV Varun': 12, 'M Ashwin': 4.0, 'RA Bawa': 5.5, 'CJ Jordan': 11.0, 'M Jansen': 9.0, 'S Gopal': 9, 'FA Allen': 8.0, 'KS Bharat': 4.0, 'OC McCoy': 8.0, 'Rasikh Salam': 7.0, 'M Theekshana': 7.0, 'Simarjeet Singh': 7.0, 'Kartik Tyagi': 3.5, 'SA Abbott': 7.0, 'Mukesh Choudhary': 6.0, 'M Prasidh Krishna': 6.0, 'RV Patel': 6.0, 'VG Arora': 2.5, 'YS Chahal': 5.0, 'Aman Hakim Khan': 5.0, 'AS Joseph': 5.0, 'LH Ferguson': 2.5, 'Abdul Samad': 2.0, 'Umran Malik': 4.0, 'KS Sharma': 4.0, 'A Tomar': 4.0, 'PN Mankad': 4, 'Mustafizur Rahman': 3, 'Shivam Mavi': 1.5, 'K Kartikeya': 3.0, 'TG Southee': 0.5, 'Navdeep Saini': 2.0, 'Harshit Rana': 2.0, 'PJ Sangwan': 2.0, 'Fazalhaq Farooqi': 2, 'J Suchith': 1.0, 'T Stubbs': 1.0, 'NM Coulter-Nile': 1, 'A Nortje': 1, 'JJ Bumrah': 0.0, 'KK Ahmed': 0.0, 'K Gowtham': 0.0, 'Akash Deep': 0.0, 'TS Mills': 0.0, 'KR Sen': 0, 'Ravi Bishnoi': 0, 'NT Ellis': 0.0, 'Yash Dayal': 0.0, 'AS Roy': 0.0, 'RP Meredith': 0, 'R Sanjay Yadav': 0.0}\n"
     ]
    }
   ],
   "source": [
    "batting_average = {}\n",
    "for batsman in sorted_batsman_runs.keys():\n",
    "    if batsman in out_counts_dict.keys():\n",
    "        average = sorted_batsman_runs[batsman]/(out_counts_dict[batsman])\n",
    "    else:\n",
    "        average = sorted_batsman_runs[batsman]\n",
    "    batting_average[batsman] = average\n",
    "print(batting_average)"
   ]
  },
  {
   "cell_type": "code",
   "execution_count": 43,
   "metadata": {},
   "outputs": [
    {
     "name": "stdout",
     "output_type": "stream",
     "text": [
      "[nan 'legbyes' 'wides' 'byes' 'noballs']\n"
     ]
    }
   ],
   "source": [
    "print(merged_ipl_df['extra_type'].unique())"
   ]
  },
  {
   "cell_type": "code",
   "execution_count": 48,
   "metadata": {},
   "outputs": [],
   "source": [
    "# calculating strike rate  of batsman\n",
    "\n",
    "# Initialize a dictionary to store the number of deliveries faced by each batsman\n",
    "batsman_deliveries = {}\n",
    "\n",
    "# Loop through each ball in the dataset\n",
    "for index, row in merged_ipl_df.iterrows():\n",
    "    batsman = row['batter']\n",
    "    extra_type = row['extra_type']\n",
    "    \n",
    "    # If the delivery is not a wide or no ball, add it to the batsman's count\n",
    "    if extra_type != 'wides':\n",
    "        if batsman not in batsman_deliveries:\n",
    "            batsman_deliveries[batsman] = 1\n",
    "        else:\n",
    "            batsman_deliveries[batsman] += 1"
   ]
  },
  {
   "cell_type": "code",
   "execution_count": 49,
   "metadata": {},
   "outputs": [
    {
     "name": "stdout",
     "output_type": "stream",
     "text": [
      "{'JC Buttler': 149.05008635578582, 'KL Rahul': 135.3846153846154, 'Q de Kock': 148.97360703812316, 'HH Pandya': 131.26684636118597, 'Shubman Gill': 132.32876712328766, 'DA Miller': 142.7299703264095, 'F du Plessis': 127.52043596730245, 'S Dhawan': 122.66666666666666, 'SV Samson': 146.7948717948718, 'DJ Hooda': 136.66666666666666, 'LS Livingstone': 182.08333333333334, 'DA Warner': 150.5226480836237, 'Abhishek Sharma': 133.125, 'Ishan Kishan': 120.11494252873563, 'RA Tripathi': 158.2375478927203, 'SS Iyer': 134.56375838926172, 'Tilak Varma': 131.02310231023102, 'AK Markram': 139.05109489051094, 'D Padikkal': 122.87581699346406, 'RD Gaikwad': 126.46048109965635, 'N Rana': 143.82470119521912, 'V Kohli': 115.98639455782313, 'RR Pant': 151.78571428571428, 'AD Russell': 174.47916666666669, 'RM Patidar': 152.75229357798165, 'KD Karthik': 183.33333333333331, 'WP Saha': 122.39382239382239, 'SO Hetmyer': 153.921568627451, 'N Pooran': 144.33962264150944, 'SA Yadav': 145.6730769230769, 'GJ Maxwell': 169.1011235955056, 'S Dube': 156.21621621621622, 'PP Shaw': 152.97297297297297, 'AT Rayudu': 122.32142857142858, 'RG Sharma': 120.1793721973094, 'YBK Jaiswal': 132.98969072164948, 'JM Bairstow': 144.57142857142858, 'DP Conway': 145.66473988439304, 'MR Marsh': 132.8042328042328, 'R Powell': 149.7005988023952, 'MM Ali': 137.85310734463278, 'JM Sharma': 163.63636363636365, 'MS Dhoni': 123.40425531914893, 'RV Uthappa': 134.5029239766082, 'Shahbaz Ahmed': 120.99447513812154, 'R Tewatia': 147.61904761904762, 'KS Williamson': 93.5064935064935, 'PBB Rajapaksa': 159.68992248062014, 'MA Agarwal': 122.50000000000001, 'R Ashwin': 141.48148148148147, 'TH David': 216.27906976744185, 'KH Pandya': 126.20689655172414, 'R Parag': 138.63636363636365, 'VR Iyer': 107.6923076923077, 'AR Patel': 151.66666666666666, 'RK Singh': 148.71794871794873, 'SW Billings': 122.46376811594205, 'Lalit Yadav': 110.27397260273972, 'A Badoni': 123.84615384615385, 'D Brevis': 142.47787610619469, 'MS Wade': 113.76811594202898, 'MP Stoinis': 147.16981132075472, 'B Sai Sudharsan': 127.19298245614034, 'KA Pollard': 107.46268656716418, 'AM Rahane': 103.90625, 'Anuj Rawat': 109.32203389830508, 'SN Thakur': 137.93103448275863, 'M Shahrukh Khan': 108.33333333333333, 'RA Jadeja': 118.36734693877551, 'A Manohar': 144.0, 'Washington Sundar': 146.3768115942029, 'Rashid Khan': 206.81818181818184, 'SN Khan': 135.82089552238804, 'MK Pandey': 110.00000000000001, 'AJ Finch': 140.98360655737704, 'MK Lomror': 150.87719298245614, 'RD Chahar': 113.23529411764706, 'E Lewis': 130.35714285714286, 'SP Narine': 177.5, 'Shashank Singh': 146.80851063829786, 'SS Prabhudessai': 113.55932203389831, 'PJ Cummins': 262.5, 'JD Unadkat': 159.45945945945945, 'R Shepherd': 141.46341463414635, 'JO Holder': 131.8181818181818, 'UT Yadav': 137.5, 'OF Smith': 115.90909090909092, 'K Rabada': 111.62790697674419, 'Kuldeep Yadav': 92.3076923076923, 'PK Garg': 139.3939393939394, 'Ramandeep Singh': 112.5, 'D Pretorius': 157.14285714285714, 'PVD Chameera': 153.57142857142858, 'HV Patel': 110.25641025641026, 'HR Shokeen': 89.58333333333334, 'TA Boult': 137.93103448275863, 'N Jagadeesan': 108.10810810810811, 'DR Sams': 105.55555555555556, 'PWH de Silva': 88.37209302325581, 'R Dhawan': 92.5, 'SE Rutherford': 66.0, 'DJ Mitchell': 75.0, 'JDS Neesham': 114.81481481481481, 'Mohammed Siraj': 90.9090909090909, 'TL Seifert': 126.3157894736842, 'B Kumar': 92.3076923076923, 'SP Jackson': 88.46153846153845, 'DJ Bravo': 95.83333333333334, 'Mohsin Khan': 143.75, 'Harpreet Brar': 88.0, 'Avesh Khan': 169.23076923076923, 'HE van der Dussen': 91.66666666666666, 'MJ Santner': 81.48148148148148, 'Arshdeep Singh': 72.41379310344827, 'B Indrajith': 70.0, 'V Shankar': 54.285714285714285, 'M Vohra': 172.72727272727272, 'Mandeep Singh': 78.26086956521739, 'DJ Willey': 60.0, 'JR Hazlewood': 69.23076923076923, 'KK Nair': 88.88888888888889, 'P Simran Singh': 127.27272727272727, 'Anmolpreet Singh': 100.0, 'CV Varun': 66.66666666666666, 'M Ashwin': 85.71428571428571, 'RA Bawa': 78.57142857142857, 'CJ Jordan': 137.5, 'M Jansen': 128.57142857142858, 'S Gopal': 128.57142857142858, 'FA Allen': 114.28571428571428, 'KS Bharat': 114.28571428571428, 'OC McCoy': 160.0, 'Rasikh Salam': 116.66666666666667, 'M Theekshana': 100.0, 'Simarjeet Singh': 87.5, 'Kartik Tyagi': 116.66666666666667, 'SA Abbott': 140.0, 'Mukesh Choudhary': 100.0, 'M Prasidh Krishna': 50.0, 'RV Patel': 200.0, 'VG Arora': 38.46153846153847, 'YS Chahal': 62.5, 'Aman Hakim Khan': 166.66666666666669, 'AS Joseph': 71.42857142857143, 'LH Ferguson': 125.0, 'Abdul Samad': 57.14285714285714, 'Umran Malik': 50.0, 'KS Sharma': 100.0, 'A Tomar': 50.0, 'PN Mankad': 400.0, 'Mustafizur Rahman': 60.0, 'Shivam Mavi': 42.857142857142854, 'K Kartikeya': 60.0, 'TG Southee': 16.666666666666664, 'Navdeep Saini': 100.0, 'Harshit Rana': 100.0, 'PJ Sangwan': 40.0, 'Fazalhaq Farooqi': 25.0, 'J Suchith': 25.0, 'T Stubbs': 50.0, 'NM Coulter-Nile': 50.0, 'A Nortje': 16.666666666666664, 'JJ Bumrah': 0.0, 'KK Ahmed': 0.0, 'K Gowtham': 0.0, 'Akash Deep': 0.0, 'TS Mills': 0.0, 'KR Sen': 0.0, 'Ravi Bishnoi': 0.0, 'NT Ellis': 0.0, 'Yash Dayal': 0.0, 'AS Roy': 0.0, 'RP Meredith': 0.0, 'R Sanjay Yadav': 0.0}\n"
     ]
    }
   ],
   "source": [
    "batsman_strikerate = {}\n",
    "for batsman in sorted_batsman_runs.keys():\n",
    "    strike_rate = ((sorted_batsman_runs[batsman])/(batsman_deliveries[batsman]))*100\n",
    "    batsman_strikerate[batsman] = strike_rate\n",
    "\n",
    "print(batsman_strikerate)"
   ]
  },
  {
   "cell_type": "code",
   "execution_count": 51,
   "metadata": {},
   "outputs": [
    {
     "name": "stdout",
     "output_type": "stream",
     "text": [
      "Kuldeep Yadav       4\n",
      "JC Buttler          3\n",
      "HH Pandya           2\n",
      "KL Rahul            2\n",
      "YS Chahal           2\n",
      "KD Karthik          2\n",
      "Avesh Khan          2\n",
      "PWH de Silva        2\n",
      "Shubman Gill        2\n",
      "Umran Malik         2\n",
      "JJ Bumrah           2\n",
      "DA Miller           2\n",
      "RA Tripathi         2\n",
      "Q de Kock           2\n",
      "UT Yadav            2\n",
      "F du Plessis        1\n",
      "R Parag             1\n",
      "S Dhawan            1\n",
      "Mohammed Shami      1\n",
      "M Jansen            1\n",
      "Rashid Khan         1\n",
      "Mukesh Choudhary    1\n",
      "LH Ferguson         1\n",
      "SV Samson           1\n",
      "LS Livingstone      1\n",
      "E Lewis             1\n",
      "MA Agarwal          1\n",
      "KS Williamson       1\n",
      "Anuj Rawat          1\n",
      "Abhishek Sharma     1\n",
      "PJ Cummins          1\n",
      "S Dube              1\n",
      "Mohsin Khan         1\n",
      "KH Pandya           1\n",
      "DR Sams             1\n",
      "RM Patidar          1\n",
      "Harpreet Brar       1\n",
      "R Ashwin            1\n",
      "V Kohli             1\n",
      "SN Thakur           1\n",
      "TA Boult            1\n",
      "WP Saha             1\n",
      "AD Russell          1\n",
      "JM Bairstow         1\n",
      "MR Marsh            1\n",
      "R Tewatia           1\n",
      "DP Conway           1\n",
      "YBK Jaiswal         1\n",
      "TH David            1\n",
      "DA Warner           1\n",
      "HV Patel            1\n",
      "K Rabada            1\n",
      "RK Singh            1\n",
      "RD Gaikwad          1\n",
      "SA Yadav            1\n",
      "OF Smith            1\n",
      "Name: Player_of_Match, dtype: int64\n"
     ]
    }
   ],
   "source": [
    "player_of_match_count = {}\n",
    "\n",
    "df_unique = merged_ipl_df.drop_duplicates(subset=['ID', 'Player_of_Match'])\n",
    "\n",
    "# Count number of player of the match awards for each player\n",
    "awards_count = df_unique['Player_of_Match'].value_counts()\n",
    "\n",
    "print(awards_count)\n",
    "\n",
    "player_of_match_count = awards_count.to_dict()"
   ]
  },
  {
   "cell_type": "code",
   "execution_count": 52,
   "metadata": {},
   "outputs": [
    {
     "name": "stdout",
     "output_type": "stream",
     "text": [
      "{'Kuldeep Yadav': 4, 'JC Buttler': 3, 'HH Pandya': 2, 'KL Rahul': 2, 'YS Chahal': 2, 'KD Karthik': 2, 'Avesh Khan': 2, 'PWH de Silva': 2, 'Shubman Gill': 2, 'Umran Malik': 2, 'JJ Bumrah': 2, 'DA Miller': 2, 'RA Tripathi': 2, 'Q de Kock': 2, 'UT Yadav': 2, 'F du Plessis': 1, 'R Parag': 1, 'S Dhawan': 1, 'Mohammed Shami': 1, 'M Jansen': 1, 'Rashid Khan': 1, 'Mukesh Choudhary': 1, 'LH Ferguson': 1, 'SV Samson': 1, 'LS Livingstone': 1, 'E Lewis': 1, 'MA Agarwal': 1, 'KS Williamson': 1, 'Anuj Rawat': 1, 'Abhishek Sharma': 1, 'PJ Cummins': 1, 'S Dube': 1, 'Mohsin Khan': 1, 'KH Pandya': 1, 'DR Sams': 1, 'RM Patidar': 1, 'Harpreet Brar': 1, 'R Ashwin': 1, 'V Kohli': 1, 'SN Thakur': 1, 'TA Boult': 1, 'WP Saha': 1, 'AD Russell': 1, 'JM Bairstow': 1, 'MR Marsh': 1, 'R Tewatia': 1, 'DP Conway': 1, 'YBK Jaiswal': 1, 'TH David': 1, 'DA Warner': 1, 'HV Patel': 1, 'K Rabada': 1, 'RK Singh': 1, 'RD Gaikwad': 1, 'SA Yadav': 1, 'OF Smith': 1}\n"
     ]
    }
   ],
   "source": [
    "print(player_of_match_count)"
   ]
  },
  {
   "cell_type": "code",
   "execution_count": 54,
   "metadata": {},
   "outputs": [
    {
     "data": {
      "application/vnd.plotly.v1+json": {
       "config": {
        "plotlyServerURL": "https://plot.ly"
       },
       "data": [
        {
         "fill": "toself",
         "name": "JC Buttler",
         "r": [
          57.53333333333333,
          149.05008635578582,
          3
         ],
         "theta": [
          "Average",
          "StrikeRate",
          "Player Of Match Count"
         ],
         "type": "scatterpolar"
        },
        {
         "fill": "toself",
         "name": "HH Pandya",
         "r": [
          44.27272727272727,
          131.26684636118597,
          2
         ],
         "theta": [
          "Average",
          "StrikeRate",
          "Player Of Match Count"
         ],
         "type": "scatterpolar"
        }
       ],
       "layout": {
        "polar": {
         "radialaxis": {
          "range": [
           0,
           150
          ],
          "visible": true
         }
        },
        "showlegend": true,
        "template": {
         "data": {
          "bar": [
           {
            "error_x": {
             "color": "#2a3f5f"
            },
            "error_y": {
             "color": "#2a3f5f"
            },
            "marker": {
             "line": {
              "color": "#E5ECF6",
              "width": 0.5
             },
             "pattern": {
              "fillmode": "overlay",
              "size": 10,
              "solidity": 0.2
             }
            },
            "type": "bar"
           }
          ],
          "barpolar": [
           {
            "marker": {
             "line": {
              "color": "#E5ECF6",
              "width": 0.5
             },
             "pattern": {
              "fillmode": "overlay",
              "size": 10,
              "solidity": 0.2
             }
            },
            "type": "barpolar"
           }
          ],
          "carpet": [
           {
            "aaxis": {
             "endlinecolor": "#2a3f5f",
             "gridcolor": "white",
             "linecolor": "white",
             "minorgridcolor": "white",
             "startlinecolor": "#2a3f5f"
            },
            "baxis": {
             "endlinecolor": "#2a3f5f",
             "gridcolor": "white",
             "linecolor": "white",
             "minorgridcolor": "white",
             "startlinecolor": "#2a3f5f"
            },
            "type": "carpet"
           }
          ],
          "choropleth": [
           {
            "colorbar": {
             "outlinewidth": 0,
             "ticks": ""
            },
            "type": "choropleth"
           }
          ],
          "contour": [
           {
            "colorbar": {
             "outlinewidth": 0,
             "ticks": ""
            },
            "colorscale": [
             [
              0,
              "#0d0887"
             ],
             [
              0.1111111111111111,
              "#46039f"
             ],
             [
              0.2222222222222222,
              "#7201a8"
             ],
             [
              0.3333333333333333,
              "#9c179e"
             ],
             [
              0.4444444444444444,
              "#bd3786"
             ],
             [
              0.5555555555555556,
              "#d8576b"
             ],
             [
              0.6666666666666666,
              "#ed7953"
             ],
             [
              0.7777777777777778,
              "#fb9f3a"
             ],
             [
              0.8888888888888888,
              "#fdca26"
             ],
             [
              1,
              "#f0f921"
             ]
            ],
            "type": "contour"
           }
          ],
          "contourcarpet": [
           {
            "colorbar": {
             "outlinewidth": 0,
             "ticks": ""
            },
            "type": "contourcarpet"
           }
          ],
          "heatmap": [
           {
            "colorbar": {
             "outlinewidth": 0,
             "ticks": ""
            },
            "colorscale": [
             [
              0,
              "#0d0887"
             ],
             [
              0.1111111111111111,
              "#46039f"
             ],
             [
              0.2222222222222222,
              "#7201a8"
             ],
             [
              0.3333333333333333,
              "#9c179e"
             ],
             [
              0.4444444444444444,
              "#bd3786"
             ],
             [
              0.5555555555555556,
              "#d8576b"
             ],
             [
              0.6666666666666666,
              "#ed7953"
             ],
             [
              0.7777777777777778,
              "#fb9f3a"
             ],
             [
              0.8888888888888888,
              "#fdca26"
             ],
             [
              1,
              "#f0f921"
             ]
            ],
            "type": "heatmap"
           }
          ],
          "heatmapgl": [
           {
            "colorbar": {
             "outlinewidth": 0,
             "ticks": ""
            },
            "colorscale": [
             [
              0,
              "#0d0887"
             ],
             [
              0.1111111111111111,
              "#46039f"
             ],
             [
              0.2222222222222222,
              "#7201a8"
             ],
             [
              0.3333333333333333,
              "#9c179e"
             ],
             [
              0.4444444444444444,
              "#bd3786"
             ],
             [
              0.5555555555555556,
              "#d8576b"
             ],
             [
              0.6666666666666666,
              "#ed7953"
             ],
             [
              0.7777777777777778,
              "#fb9f3a"
             ],
             [
              0.8888888888888888,
              "#fdca26"
             ],
             [
              1,
              "#f0f921"
             ]
            ],
            "type": "heatmapgl"
           }
          ],
          "histogram": [
           {
            "marker": {
             "pattern": {
              "fillmode": "overlay",
              "size": 10,
              "solidity": 0.2
             }
            },
            "type": "histogram"
           }
          ],
          "histogram2d": [
           {
            "colorbar": {
             "outlinewidth": 0,
             "ticks": ""
            },
            "colorscale": [
             [
              0,
              "#0d0887"
             ],
             [
              0.1111111111111111,
              "#46039f"
             ],
             [
              0.2222222222222222,
              "#7201a8"
             ],
             [
              0.3333333333333333,
              "#9c179e"
             ],
             [
              0.4444444444444444,
              "#bd3786"
             ],
             [
              0.5555555555555556,
              "#d8576b"
             ],
             [
              0.6666666666666666,
              "#ed7953"
             ],
             [
              0.7777777777777778,
              "#fb9f3a"
             ],
             [
              0.8888888888888888,
              "#fdca26"
             ],
             [
              1,
              "#f0f921"
             ]
            ],
            "type": "histogram2d"
           }
          ],
          "histogram2dcontour": [
           {
            "colorbar": {
             "outlinewidth": 0,
             "ticks": ""
            },
            "colorscale": [
             [
              0,
              "#0d0887"
             ],
             [
              0.1111111111111111,
              "#46039f"
             ],
             [
              0.2222222222222222,
              "#7201a8"
             ],
             [
              0.3333333333333333,
              "#9c179e"
             ],
             [
              0.4444444444444444,
              "#bd3786"
             ],
             [
              0.5555555555555556,
              "#d8576b"
             ],
             [
              0.6666666666666666,
              "#ed7953"
             ],
             [
              0.7777777777777778,
              "#fb9f3a"
             ],
             [
              0.8888888888888888,
              "#fdca26"
             ],
             [
              1,
              "#f0f921"
             ]
            ],
            "type": "histogram2dcontour"
           }
          ],
          "mesh3d": [
           {
            "colorbar": {
             "outlinewidth": 0,
             "ticks": ""
            },
            "type": "mesh3d"
           }
          ],
          "parcoords": [
           {
            "line": {
             "colorbar": {
              "outlinewidth": 0,
              "ticks": ""
             }
            },
            "type": "parcoords"
           }
          ],
          "pie": [
           {
            "automargin": true,
            "type": "pie"
           }
          ],
          "scatter": [
           {
            "fillpattern": {
             "fillmode": "overlay",
             "size": 10,
             "solidity": 0.2
            },
            "type": "scatter"
           }
          ],
          "scatter3d": [
           {
            "line": {
             "colorbar": {
              "outlinewidth": 0,
              "ticks": ""
             }
            },
            "marker": {
             "colorbar": {
              "outlinewidth": 0,
              "ticks": ""
             }
            },
            "type": "scatter3d"
           }
          ],
          "scattercarpet": [
           {
            "marker": {
             "colorbar": {
              "outlinewidth": 0,
              "ticks": ""
             }
            },
            "type": "scattercarpet"
           }
          ],
          "scattergeo": [
           {
            "marker": {
             "colorbar": {
              "outlinewidth": 0,
              "ticks": ""
             }
            },
            "type": "scattergeo"
           }
          ],
          "scattergl": [
           {
            "marker": {
             "colorbar": {
              "outlinewidth": 0,
              "ticks": ""
             }
            },
            "type": "scattergl"
           }
          ],
          "scattermapbox": [
           {
            "marker": {
             "colorbar": {
              "outlinewidth": 0,
              "ticks": ""
             }
            },
            "type": "scattermapbox"
           }
          ],
          "scatterpolar": [
           {
            "marker": {
             "colorbar": {
              "outlinewidth": 0,
              "ticks": ""
             }
            },
            "type": "scatterpolar"
           }
          ],
          "scatterpolargl": [
           {
            "marker": {
             "colorbar": {
              "outlinewidth": 0,
              "ticks": ""
             }
            },
            "type": "scatterpolargl"
           }
          ],
          "scatterternary": [
           {
            "marker": {
             "colorbar": {
              "outlinewidth": 0,
              "ticks": ""
             }
            },
            "type": "scatterternary"
           }
          ],
          "surface": [
           {
            "colorbar": {
             "outlinewidth": 0,
             "ticks": ""
            },
            "colorscale": [
             [
              0,
              "#0d0887"
             ],
             [
              0.1111111111111111,
              "#46039f"
             ],
             [
              0.2222222222222222,
              "#7201a8"
             ],
             [
              0.3333333333333333,
              "#9c179e"
             ],
             [
              0.4444444444444444,
              "#bd3786"
             ],
             [
              0.5555555555555556,
              "#d8576b"
             ],
             [
              0.6666666666666666,
              "#ed7953"
             ],
             [
              0.7777777777777778,
              "#fb9f3a"
             ],
             [
              0.8888888888888888,
              "#fdca26"
             ],
             [
              1,
              "#f0f921"
             ]
            ],
            "type": "surface"
           }
          ],
          "table": [
           {
            "cells": {
             "fill": {
              "color": "#EBF0F8"
             },
             "line": {
              "color": "white"
             }
            },
            "header": {
             "fill": {
              "color": "#C8D4E3"
             },
             "line": {
              "color": "white"
             }
            },
            "type": "table"
           }
          ]
         },
         "layout": {
          "annotationdefaults": {
           "arrowcolor": "#2a3f5f",
           "arrowhead": 0,
           "arrowwidth": 1
          },
          "autotypenumbers": "strict",
          "coloraxis": {
           "colorbar": {
            "outlinewidth": 0,
            "ticks": ""
           }
          },
          "colorscale": {
           "diverging": [
            [
             0,
             "#8e0152"
            ],
            [
             0.1,
             "#c51b7d"
            ],
            [
             0.2,
             "#de77ae"
            ],
            [
             0.3,
             "#f1b6da"
            ],
            [
             0.4,
             "#fde0ef"
            ],
            [
             0.5,
             "#f7f7f7"
            ],
            [
             0.6,
             "#e6f5d0"
            ],
            [
             0.7,
             "#b8e186"
            ],
            [
             0.8,
             "#7fbc41"
            ],
            [
             0.9,
             "#4d9221"
            ],
            [
             1,
             "#276419"
            ]
           ],
           "sequential": [
            [
             0,
             "#0d0887"
            ],
            [
             0.1111111111111111,
             "#46039f"
            ],
            [
             0.2222222222222222,
             "#7201a8"
            ],
            [
             0.3333333333333333,
             "#9c179e"
            ],
            [
             0.4444444444444444,
             "#bd3786"
            ],
            [
             0.5555555555555556,
             "#d8576b"
            ],
            [
             0.6666666666666666,
             "#ed7953"
            ],
            [
             0.7777777777777778,
             "#fb9f3a"
            ],
            [
             0.8888888888888888,
             "#fdca26"
            ],
            [
             1,
             "#f0f921"
            ]
           ],
           "sequentialminus": [
            [
             0,
             "#0d0887"
            ],
            [
             0.1111111111111111,
             "#46039f"
            ],
            [
             0.2222222222222222,
             "#7201a8"
            ],
            [
             0.3333333333333333,
             "#9c179e"
            ],
            [
             0.4444444444444444,
             "#bd3786"
            ],
            [
             0.5555555555555556,
             "#d8576b"
            ],
            [
             0.6666666666666666,
             "#ed7953"
            ],
            [
             0.7777777777777778,
             "#fb9f3a"
            ],
            [
             0.8888888888888888,
             "#fdca26"
            ],
            [
             1,
             "#f0f921"
            ]
           ]
          },
          "colorway": [
           "#636efa",
           "#EF553B",
           "#00cc96",
           "#ab63fa",
           "#FFA15A",
           "#19d3f3",
           "#FF6692",
           "#B6E880",
           "#FF97FF",
           "#FECB52"
          ],
          "font": {
           "color": "#2a3f5f"
          },
          "geo": {
           "bgcolor": "white",
           "lakecolor": "white",
           "landcolor": "#E5ECF6",
           "showlakes": true,
           "showland": true,
           "subunitcolor": "white"
          },
          "hoverlabel": {
           "align": "left"
          },
          "hovermode": "closest",
          "mapbox": {
           "style": "light"
          },
          "paper_bgcolor": "white",
          "plot_bgcolor": "#E5ECF6",
          "polar": {
           "angularaxis": {
            "gridcolor": "white",
            "linecolor": "white",
            "ticks": ""
           },
           "bgcolor": "#E5ECF6",
           "radialaxis": {
            "gridcolor": "white",
            "linecolor": "white",
            "ticks": ""
           }
          },
          "scene": {
           "xaxis": {
            "backgroundcolor": "#E5ECF6",
            "gridcolor": "white",
            "gridwidth": 2,
            "linecolor": "white",
            "showbackground": true,
            "ticks": "",
            "zerolinecolor": "white"
           },
           "yaxis": {
            "backgroundcolor": "#E5ECF6",
            "gridcolor": "white",
            "gridwidth": 2,
            "linecolor": "white",
            "showbackground": true,
            "ticks": "",
            "zerolinecolor": "white"
           },
           "zaxis": {
            "backgroundcolor": "#E5ECF6",
            "gridcolor": "white",
            "gridwidth": 2,
            "linecolor": "white",
            "showbackground": true,
            "ticks": "",
            "zerolinecolor": "white"
           }
          },
          "shapedefaults": {
           "line": {
            "color": "#2a3f5f"
           }
          },
          "ternary": {
           "aaxis": {
            "gridcolor": "white",
            "linecolor": "white",
            "ticks": ""
           },
           "baxis": {
            "gridcolor": "white",
            "linecolor": "white",
            "ticks": ""
           },
           "bgcolor": "#E5ECF6",
           "caxis": {
            "gridcolor": "white",
            "linecolor": "white",
            "ticks": ""
           }
          },
          "title": {
           "x": 0.05
          },
          "xaxis": {
           "automargin": true,
           "gridcolor": "white",
           "linecolor": "white",
           "ticks": "",
           "title": {
            "standoff": 15
           },
           "zerolinecolor": "white",
           "zerolinewidth": 2
          },
          "yaxis": {
           "automargin": true,
           "gridcolor": "white",
           "linecolor": "white",
           "ticks": "",
           "title": {
            "standoff": 15
           },
           "zerolinecolor": "white",
           "zerolinewidth": 2
          }
         }
        },
        "title": {
         "text": "Players Performance Radar Chart"
        }
       }
      }
     },
     "metadata": {},
     "output_type": "display_data"
    }
   ],
   "source": [
    "import plotly.graph_objects as go\n",
    "\n",
    "player1 = 'JC Buttler'\n",
    "player2 = 'HH Pandya'\n",
    "# Define data for radar chart\n",
    "data = [\n",
    "    go.Scatterpolar(\n",
    "        r=[batting_average[player1], batsman_strikerate[player1], player_of_match_count[player1]],\n",
    "        theta=['Average', 'StrikeRate', 'Player Of Match Count'],\n",
    "        fill='toself',\n",
    "        name=player1\n",
    "    ),\n",
    "    go.Scatterpolar(\n",
    "        r=[batting_average[player2], batsman_strikerate[player2], player_of_match_count[player2]],\n",
    "        theta=['Average', 'StrikeRate', 'Player Of Match Count'],\n",
    "        fill='toself',\n",
    "        name=player2\n",
    "    )\n",
    "]\n",
    "\n",
    "# Define layout for radar chart\n",
    "layout = go.Layout(\n",
    "    polar=dict(\n",
    "        radialaxis=dict(\n",
    "            visible=True,\n",
    "            range=[0, 150]\n",
    "        )\n",
    "    ),\n",
    "    showlegend=True,\n",
    "    title='Players Performance Radar Chart'\n",
    ")\n",
    "\n",
    "# Create figure and plot the radar chart\n",
    "fig = go.Figure(data=data, layout=layout)\n",
    "fig.show()"
   ]
  },
  {
   "cell_type": "code",
   "execution_count": 55,
   "metadata": {},
   "outputs": [
    {
     "ename": "ValueError",
     "evalue": "Invalid property specified for object of type plotly.graph_objs.layout.Polar: 'radialaxis2'\n\nDid you mean \"radialaxis\"?\n\n    Valid properties:\n        angularaxis\n            :class:`plotly.graph_objects.layout.polar.AngularAxis`\n            instance or dict with compatible properties\n        bargap\n            Sets the gap between bars of adjacent location\n            coordinates. Values are unitless, they represent\n            fractions of the minimum difference in bar positions in\n            the data.\n        barmode\n            Determines how bars at the same location coordinate are\n            displayed on the graph. With \"stack\", the bars are\n            stacked on top of one another With \"overlay\", the bars\n            are plotted over one another, you might need to reduce\n            \"opacity\" to see multiple bars.\n        bgcolor\n            Set the background color of the subplot\n        domain\n            :class:`plotly.graph_objects.layout.polar.Domain`\n            instance or dict with compatible properties\n        gridshape\n            Determines if the radial axis grid lines and angular\n            axis line are drawn as \"circular\" sectors or as\n            \"linear\" (polygon) sectors. Has an effect only when the\n            angular axis has `type` \"category\". Note that\n            `radialaxis.angle` is snapped to the angle of the\n            closest vertex when `gridshape` is \"circular\" (so that\n            radial axis scale is the same as the data scale).\n        hole\n            Sets the fraction of the radius to cut out of the polar\n            subplot.\n        radialaxis\n            :class:`plotly.graph_objects.layout.polar.RadialAxis`\n            instance or dict with compatible properties\n        sector\n            Sets angular span of this polar subplot with two angles\n            (in degrees). Sector are assumed to be spanned in the\n            counterclockwise direction with 0 corresponding to\n            rightmost limit of the polar subplot.\n        uirevision\n            Controls persistence of user-driven changes in axis\n            attributes, if not overridden in the individual axes.\n            Defaults to `layout.uirevision`.\n        \nDid you mean \"radialaxis\"?\n\nBad property path:\nradialaxis2\n^^^^^^^^^^^",
     "output_type": "error",
     "traceback": [
      "\u001b[1;31m---------------------------------------------------------------------------\u001b[0m",
      "\u001b[1;31mValueError\u001b[0m                                Traceback (most recent call last)",
      "\u001b[1;32mf:\\Mtech\\bigdataproj\\Bigdataproject\\batting_stats.ipynb Cell 20\u001b[0m in \u001b[0;36m<cell line: 28>\u001b[1;34m()\u001b[0m\n\u001b[0;32m     <a href='vscode-notebook-cell:/f%3A/Mtech/bigdataproj/Bigdataproject/batting_stats.ipynb#X25sZmlsZQ%3D%3D?line=16'>17</a>\u001b[0m     fig\u001b[39m.\u001b[39madd_trace(\n\u001b[0;32m     <a href='vscode-notebook-cell:/f%3A/Mtech/bigdataproj/Bigdataproject/batting_stats.ipynb#X25sZmlsZQ%3D%3D?line=17'>18</a>\u001b[0m         go\u001b[39m.\u001b[39mScatterpolar(\n\u001b[0;32m     <a href='vscode-notebook-cell:/f%3A/Mtech/bigdataproj/Bigdataproject/batting_stats.ipynb#X25sZmlsZQ%3D%3D?line=18'>19</a>\u001b[0m             r\u001b[39m=\u001b[39m[player1[param], player2[param]],\n\u001b[1;32m   (...)\u001b[0m\n\u001b[0;32m     <a href='vscode-notebook-cell:/f%3A/Mtech/bigdataproj/Bigdataproject/batting_stats.ipynb#X25sZmlsZQ%3D%3D?line=23'>24</a>\u001b[0m         row\u001b[39m=\u001b[39m\u001b[39m1\u001b[39m, col\u001b[39m=\u001b[39mi\u001b[39m+\u001b[39m\u001b[39m1\u001b[39m\n\u001b[0;32m     <a href='vscode-notebook-cell:/f%3A/Mtech/bigdataproj/Bigdataproject/batting_stats.ipynb#X25sZmlsZQ%3D%3D?line=24'>25</a>\u001b[0m     )\n\u001b[0;32m     <a href='vscode-notebook-cell:/f%3A/Mtech/bigdataproj/Bigdataproject/batting_stats.ipynb#X25sZmlsZQ%3D%3D?line=26'>27</a>\u001b[0m \u001b[39m# Update layout with parameter ranges\u001b[39;00m\n\u001b[1;32m---> <a href='vscode-notebook-cell:/f%3A/Mtech/bigdataproj/Bigdataproject/batting_stats.ipynb#X25sZmlsZQ%3D%3D?line=27'>28</a>\u001b[0m fig\u001b[39m.\u001b[39;49mupdate_layout(\n\u001b[0;32m     <a href='vscode-notebook-cell:/f%3A/Mtech/bigdataproj/Bigdataproject/batting_stats.ipynb#X25sZmlsZQ%3D%3D?line=28'>29</a>\u001b[0m     polar\u001b[39m=\u001b[39;49m\u001b[39mdict\u001b[39;49m(\n\u001b[0;32m     <a href='vscode-notebook-cell:/f%3A/Mtech/bigdataproj/Bigdataproject/batting_stats.ipynb#X25sZmlsZQ%3D%3D?line=29'>30</a>\u001b[0m         radialaxis\u001b[39m=\u001b[39;49m\u001b[39mdict\u001b[39;49m(\u001b[39mrange\u001b[39;49m\u001b[39m=\u001b[39;49mranges[\u001b[39m0\u001b[39;49m]),\n\u001b[0;32m     <a href='vscode-notebook-cell:/f%3A/Mtech/bigdataproj/Bigdataproject/batting_stats.ipynb#X25sZmlsZQ%3D%3D?line=30'>31</a>\u001b[0m         radialaxis2\u001b[39m=\u001b[39;49m\u001b[39mdict\u001b[39;49m(\u001b[39mrange\u001b[39;49m\u001b[39m=\u001b[39;49mranges[\u001b[39m1\u001b[39;49m]),\n\u001b[0;32m     <a href='vscode-notebook-cell:/f%3A/Mtech/bigdataproj/Bigdataproject/batting_stats.ipynb#X25sZmlsZQ%3D%3D?line=31'>32</a>\u001b[0m         radialaxis3\u001b[39m=\u001b[39;49m\u001b[39mdict\u001b[39;49m(\u001b[39mrange\u001b[39;49m\u001b[39m=\u001b[39;49mranges[\u001b[39m2\u001b[39;49m]),\n\u001b[0;32m     <a href='vscode-notebook-cell:/f%3A/Mtech/bigdataproj/Bigdataproject/batting_stats.ipynb#X25sZmlsZQ%3D%3D?line=32'>33</a>\u001b[0m     ),\n\u001b[0;32m     <a href='vscode-notebook-cell:/f%3A/Mtech/bigdataproj/Bigdataproject/batting_stats.ipynb#X25sZmlsZQ%3D%3D?line=33'>34</a>\u001b[0m     showlegend\u001b[39m=\u001b[39;49m\u001b[39mTrue\u001b[39;49;00m,\n\u001b[0;32m     <a href='vscode-notebook-cell:/f%3A/Mtech/bigdataproj/Bigdataproject/batting_stats.ipynb#X25sZmlsZQ%3D%3D?line=34'>35</a>\u001b[0m     title\u001b[39m=\u001b[39;49m\u001b[39m'\u001b[39;49m\u001b[39mPlayer comparison\u001b[39;49m\u001b[39m'\u001b[39;49m\n\u001b[0;32m     <a href='vscode-notebook-cell:/f%3A/Mtech/bigdataproj/Bigdataproject/batting_stats.ipynb#X25sZmlsZQ%3D%3D?line=35'>36</a>\u001b[0m )\n\u001b[0;32m     <a href='vscode-notebook-cell:/f%3A/Mtech/bigdataproj/Bigdataproject/batting_stats.ipynb#X25sZmlsZQ%3D%3D?line=37'>38</a>\u001b[0m fig\u001b[39m.\u001b[39mshow()\n",
      "File \u001b[1;32mc:\\Users\\manna\\AppData\\Local\\Programs\\Python\\Python39\\lib\\site-packages\\plotly\\graph_objs\\_figure.py:775\u001b[0m, in \u001b[0;36mFigure.update_layout\u001b[1;34m(self, dict1, overwrite, **kwargs)\u001b[0m\n\u001b[0;32m    749\u001b[0m \u001b[39mdef\u001b[39;00m \u001b[39mupdate_layout\u001b[39m(\u001b[39mself\u001b[39m, dict1\u001b[39m=\u001b[39m\u001b[39mNone\u001b[39;00m, overwrite\u001b[39m=\u001b[39m\u001b[39mFalse\u001b[39;00m, \u001b[39m*\u001b[39m\u001b[39m*\u001b[39mkwargs) \u001b[39m-\u001b[39m\u001b[39m>\u001b[39m \u001b[39m\"\u001b[39m\u001b[39mFigure\u001b[39m\u001b[39m\"\u001b[39m:\n\u001b[0;32m    750\u001b[0m     \u001b[39m\"\"\"\u001b[39;00m\n\u001b[0;32m    751\u001b[0m \n\u001b[0;32m    752\u001b[0m \u001b[39m    Update the properties of the figure's layout with a dict and/or with\u001b[39;00m\n\u001b[1;32m   (...)\u001b[0m\n\u001b[0;32m    773\u001b[0m \n\u001b[0;32m    774\u001b[0m \u001b[39m    \"\"\"\u001b[39;00m\n\u001b[1;32m--> 775\u001b[0m     \u001b[39mreturn\u001b[39;00m \u001b[39msuper\u001b[39m(Figure, \u001b[39mself\u001b[39m)\u001b[39m.\u001b[39mupdate_layout(dict1, overwrite, \u001b[39m*\u001b[39m\u001b[39m*\u001b[39mkwargs)\n",
      "File \u001b[1;32mc:\\Users\\manna\\AppData\\Local\\Programs\\Python\\Python39\\lib\\site-packages\\plotly\\basedatatypes.py:1393\u001b[0m, in \u001b[0;36mBaseFigure.update_layout\u001b[1;34m(self, dict1, overwrite, **kwargs)\u001b[0m\n\u001b[0;32m   1369\u001b[0m \u001b[39mdef\u001b[39;00m \u001b[39mupdate_layout\u001b[39m(\u001b[39mself\u001b[39m, dict1\u001b[39m=\u001b[39m\u001b[39mNone\u001b[39;00m, overwrite\u001b[39m=\u001b[39m\u001b[39mFalse\u001b[39;00m, \u001b[39m*\u001b[39m\u001b[39m*\u001b[39mkwargs):\n\u001b[0;32m   1370\u001b[0m     \u001b[39m\"\"\"\u001b[39;00m\n\u001b[0;32m   1371\u001b[0m \u001b[39m    Update the properties of the figure's layout with a dict and/or with\u001b[39;00m\n\u001b[0;32m   1372\u001b[0m \u001b[39m    keyword arguments.\u001b[39;00m\n\u001b[1;32m   (...)\u001b[0m\n\u001b[0;32m   1391\u001b[0m \u001b[39m        The Figure object that the update_layout method was called on\u001b[39;00m\n\u001b[0;32m   1392\u001b[0m \u001b[39m    \"\"\"\u001b[39;00m\n\u001b[1;32m-> 1393\u001b[0m     \u001b[39mself\u001b[39m\u001b[39m.\u001b[39mlayout\u001b[39m.\u001b[39mupdate(dict1, overwrite\u001b[39m=\u001b[39moverwrite, \u001b[39m*\u001b[39m\u001b[39m*\u001b[39mkwargs)\n\u001b[0;32m   1394\u001b[0m     \u001b[39mreturn\u001b[39;00m \u001b[39mself\u001b[39m\n",
      "File \u001b[1;32mc:\\Users\\manna\\AppData\\Local\\Programs\\Python\\Python39\\lib\\site-packages\\plotly\\basedatatypes.py:5113\u001b[0m, in \u001b[0;36mBasePlotlyType.update\u001b[1;34m(self, dict1, overwrite, **kwargs)\u001b[0m\n\u001b[0;32m   5111\u001b[0m     \u001b[39mwith\u001b[39;00m \u001b[39mself\u001b[39m\u001b[39m.\u001b[39mfigure\u001b[39m.\u001b[39mbatch_update():\n\u001b[0;32m   5112\u001b[0m         BaseFigure\u001b[39m.\u001b[39m_perform_update(\u001b[39mself\u001b[39m, dict1, overwrite\u001b[39m=\u001b[39moverwrite)\n\u001b[1;32m-> 5113\u001b[0m         BaseFigure\u001b[39m.\u001b[39;49m_perform_update(\u001b[39mself\u001b[39;49m, kwargs, overwrite\u001b[39m=\u001b[39;49moverwrite)\n\u001b[0;32m   5114\u001b[0m \u001b[39melse\u001b[39;00m:\n\u001b[0;32m   5115\u001b[0m     BaseFigure\u001b[39m.\u001b[39m_perform_update(\u001b[39mself\u001b[39m, dict1, overwrite\u001b[39m=\u001b[39moverwrite)\n",
      "File \u001b[1;32mc:\\Users\\manna\\AppData\\Local\\Programs\\Python\\Python39\\lib\\site-packages\\plotly\\basedatatypes.py:3899\u001b[0m, in \u001b[0;36mBaseFigure._perform_update\u001b[1;34m(plotly_obj, update_obj, overwrite)\u001b[0m\n\u001b[0;32m   3893\u001b[0m validator \u001b[39m=\u001b[39m plotly_obj\u001b[39m.\u001b[39m_get_prop_validator(key)\n\u001b[0;32m   3895\u001b[0m \u001b[39mif\u001b[39;00m \u001b[39misinstance\u001b[39m(validator, CompoundValidator) \u001b[39mand\u001b[39;00m \u001b[39misinstance\u001b[39m(val, \u001b[39mdict\u001b[39m):\n\u001b[0;32m   3896\u001b[0m \n\u001b[0;32m   3897\u001b[0m     \u001b[39m# Update compound objects recursively\u001b[39;00m\n\u001b[0;32m   3898\u001b[0m     \u001b[39m# plotly_obj[key].update(val)\u001b[39;00m\n\u001b[1;32m-> 3899\u001b[0m     BaseFigure\u001b[39m.\u001b[39;49m_perform_update(plotly_obj[key], val)\n\u001b[0;32m   3900\u001b[0m \u001b[39melif\u001b[39;00m \u001b[39misinstance\u001b[39m(validator, CompoundArrayValidator):\n\u001b[0;32m   3901\u001b[0m     \u001b[39mif\u001b[39;00m plotly_obj[key]:\n\u001b[0;32m   3902\u001b[0m         \u001b[39m# plotly_obj has an existing non-empty array for key\u001b[39;00m\n\u001b[0;32m   3903\u001b[0m         \u001b[39m# In this case we merge val into the existing elements\u001b[39;00m\n",
      "File \u001b[1;32mc:\\Users\\manna\\AppData\\Local\\Programs\\Python\\Python39\\lib\\site-packages\\plotly\\basedatatypes.py:3876\u001b[0m, in \u001b[0;36mBaseFigure._perform_update\u001b[1;34m(plotly_obj, update_obj, overwrite)\u001b[0m\n\u001b[0;32m   3874\u001b[0m     err \u001b[39m=\u001b[39m _check_path_in_prop_tree(plotly_obj, key, error_cast\u001b[39m=\u001b[39m\u001b[39mValueError\u001b[39;00m)\n\u001b[0;32m   3875\u001b[0m     \u001b[39mif\u001b[39;00m err \u001b[39mis\u001b[39;00m \u001b[39mnot\u001b[39;00m \u001b[39mNone\u001b[39;00m:\n\u001b[1;32m-> 3876\u001b[0m         \u001b[39mraise\u001b[39;00m err\n\u001b[0;32m   3878\u001b[0m \u001b[39m# Convert update_obj to dict\u001b[39;00m\n\u001b[0;32m   3879\u001b[0m \u001b[39m# --------------------------\u001b[39;00m\n\u001b[0;32m   3880\u001b[0m \u001b[39mif\u001b[39;00m \u001b[39misinstance\u001b[39m(update_obj, BasePlotlyType):\n",
      "\u001b[1;31mValueError\u001b[0m: Invalid property specified for object of type plotly.graph_objs.layout.Polar: 'radialaxis2'\n\nDid you mean \"radialaxis\"?\n\n    Valid properties:\n        angularaxis\n            :class:`plotly.graph_objects.layout.polar.AngularAxis`\n            instance or dict with compatible properties\n        bargap\n            Sets the gap between bars of adjacent location\n            coordinates. Values are unitless, they represent\n            fractions of the minimum difference in bar positions in\n            the data.\n        barmode\n            Determines how bars at the same location coordinate are\n            displayed on the graph. With \"stack\", the bars are\n            stacked on top of one another With \"overlay\", the bars\n            are plotted over one another, you might need to reduce\n            \"opacity\" to see multiple bars.\n        bgcolor\n            Set the background color of the subplot\n        domain\n            :class:`plotly.graph_objects.layout.polar.Domain`\n            instance or dict with compatible properties\n        gridshape\n            Determines if the radial axis grid lines and angular\n            axis line are drawn as \"circular\" sectors or as\n            \"linear\" (polygon) sectors. Has an effect only when the\n            angular axis has `type` \"category\". Note that\n            `radialaxis.angle` is snapped to the angle of the\n            closest vertex when `gridshape` is \"circular\" (so that\n            radial axis scale is the same as the data scale).\n        hole\n            Sets the fraction of the radius to cut out of the polar\n            subplot.\n        radialaxis\n            :class:`plotly.graph_objects.layout.polar.RadialAxis`\n            instance or dict with compatible properties\n        sector\n            Sets angular span of this polar subplot with two angles\n            (in degrees). Sector are assumed to be spanned in the\n            counterclockwise direction with 0 corresponding to\n            rightmost limit of the polar subplot.\n        uirevision\n            Controls persistence of user-driven changes in axis\n            attributes, if not overridden in the individual axes.\n            Defaults to `layout.uirevision`.\n        \nDid you mean \"radialaxis\"?\n\nBad property path:\nradialaxis2\n^^^^^^^^^^^"
     ]
    }
   ],
   "source": [
    "import plotly.graph_objects as go\n",
    "from plotly.subplots import make_subplots\n",
    "\n",
    "# Sample dictionaries\n",
    "player1 = {'Strikerate': 120, 'Average': 40, 'Player_of_match_count': 5}\n",
    "player2 = {'Strikerate': 130, 'Average': 50, 'Player_of_match_count': 7}\n",
    "\n",
    "# Define parameter names and ranges\n",
    "params = ['Strikerate', 'Average', 'Player_of_match_count']\n",
    "ranges = [(0, 150), (0, 60), (0, 10)]\n",
    "\n",
    "# Create subplots\n",
    "fig = make_subplots(rows=1, cols=len(params), specs=[[{'type': 'polar'}]*len(params)])\n",
    "\n",
    "# Add traces for each player\n",
    "for i, param in enumerate(params):\n",
    "    fig.add_trace(\n",
    "        go.Scatterpolar(\n",
    "            r=[player1[param], player2[param]],\n",
    "            theta=[param]*2,\n",
    "            fill='toself',\n",
    "            name=f'Player 1 vs. Player 2 {param}',\n",
    "        ),\n",
    "        row=1, col=i+1\n",
    "    )\n",
    "\n",
    "# Update layout with parameter ranges\n",
    "fig.update_layout(\n",
    "    polar=dict(\n",
    "        radialaxis=dict(range=ranges[0]),\n",
    "        radialaxis2=dict(range=ranges[1]),\n",
    "        radialaxis3=dict(range=ranges[2]),\n",
    "    ),\n",
    "    showlegend=True,\n",
    "    title='Player comparison'\n",
    ")\n",
    "\n",
    "fig.show()\n"
   ]
  }
 ],
 "metadata": {
  "kernelspec": {
   "display_name": "Python 3",
   "language": "python",
   "name": "python3"
  },
  "language_info": {
   "codemirror_mode": {
    "name": "ipython",
    "version": 3
   },
   "file_extension": ".py",
   "mimetype": "text/x-python",
   "name": "python",
   "nbconvert_exporter": "python",
   "pygments_lexer": "ipython3",
   "version": "3.9.10"
  },
  "orig_nbformat": 4
 },
 "nbformat": 4,
 "nbformat_minor": 2
}
