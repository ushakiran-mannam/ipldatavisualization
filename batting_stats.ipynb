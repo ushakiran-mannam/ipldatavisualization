{
 "cells": [
  {
   "cell_type": "code",
   "execution_count": 11,
   "metadata": {},
   "outputs": [
    {
     "name": "stderr",
     "output_type": "stream",
     "text": [
      "C:\\Users\\manna\\AppData\\Local\\Temp\\ipykernel_14368\\794233890.py:2: DtypeWarning: Columns (20) have mixed types. Specify dtype option on import or set low_memory=False.\n",
      "  merged_ipl_df = pd.read_csv('data/2022_ipl_ball_by_ball.csv')\n"
     ]
    }
   ],
   "source": [
    "import pandas as pd\n",
    "merged_ipl_df = pd.read_csv('data/2022_ipl_ball_by_ball.csv')"
   ]
  },
  {
   "cell_type": "code",
   "execution_count": 12,
   "metadata": {},
   "outputs": [],
   "source": [
    "# Calculate batting average\n",
    "\n",
    "new_df = merged_ipl_df[['ID','batter','batsman_run']].copy()\n"
   ]
  },
  {
   "cell_type": "code",
   "execution_count": 13,
   "metadata": {},
   "outputs": [],
   "source": [
    "# Group data by matchid and batsman\n",
    "grouped_data = new_df.groupby(['ID', 'batter'])\n",
    "\n",
    "# Create an empty dictionary to store batsman runs\n",
    "batsman_runs = {}\n",
    "\n",
    "# Iterate over each group\n",
    "for name, group in grouped_data:\n",
    "    # Calculate total runs scored by the batsman in the match\n",
    "    runs = group['batsman_run'].sum()\n",
    "    \n",
    "    # Add the batsman and their total runs to the dictionary\n",
    "    matchid = name[0]\n",
    "    batsman = name[1]\n",
    "    if matchid not in batsman_runs:\n",
    "        batsman_runs[matchid] = {}\n",
    "    batsman_runs[matchid][batsman] = runs"
   ]
  },
  {
   "cell_type": "code",
   "execution_count": 14,
   "metadata": {},
   "outputs": [
    {
     "name": "stdout",
     "output_type": "stream",
     "text": [
      "{'D Padikkal': 2, 'DA Miller': 32, 'HH Pandya': 34, 'JC Buttler': 39, 'MS Wade': 8, 'OC McCoy': 8, 'R Ashwin': 6, 'R Parag': 15, 'SO Hetmyer': 11, 'SV Samson': 14, 'Shubman Gill': 45, 'TA Boult': 11, 'WP Saha': 5, 'YBK Jaiswal': 22}\n"
     ]
    }
   ],
   "source": [
    "print(batsman_runs[1312200])"
   ]
  },
  {
   "cell_type": "code",
   "execution_count": 15,
   "metadata": {},
   "outputs": [],
   "source": [
    "batsman_totals = {}\n",
    "\n",
    "for match_id, match_data in batsman_runs.items():\n",
    "    for batsman, runs in match_data.items():\n",
    "        if batsman in batsman_totals:\n",
    "            batsman_totals[batsman] += runs\n",
    "        else:\n",
    "            batsman_totals[batsman] = runs"
   ]
  },
  {
   "cell_type": "code",
   "execution_count": 16,
   "metadata": {},
   "outputs": [],
   "source": [
    "sorted_batsman_runs = dict(sorted(batsman_totals.items(), key=lambda x: x[1], reverse=True))"
   ]
  },
  {
   "cell_type": "code",
   "execution_count": 17,
   "metadata": {},
   "outputs": [
    {
     "name": "stdout",
     "output_type": "stream",
     "text": [
      "{'JC Buttler': 863, 'KL Rahul': 616, 'Q de Kock': 508, 'HH Pandya': 487, 'Shubman Gill': 483, 'DA Miller': 481, 'F du Plessis': 468, 'S Dhawan': 460, 'SV Samson': 458, 'DJ Hooda': 451, 'LS Livingstone': 437, 'DA Warner': 432, 'Abhishek Sharma': 426, 'Ishan Kishan': 418, 'RA Tripathi': 413, 'SS Iyer': 401, 'Tilak Varma': 397, 'AK Markram': 381, 'D Padikkal': 376, 'RD Gaikwad': 368, 'N Rana': 361, 'V Kohli': 341, 'RR Pant': 340, 'AD Russell': 335, 'RM Patidar': 333, 'KD Karthik': 330, 'WP Saha': 317, 'SO Hetmyer': 314, 'N Pooran': 306, 'SA Yadav': 303, 'GJ Maxwell': 301, 'S Dube': 289, 'PP Shaw': 283, 'AT Rayudu': 274, 'RG Sharma': 268, 'YBK Jaiswal': 258, 'JM Bairstow': 253, 'DP Conway': 252, 'MR Marsh': 251, 'R Powell': 250, 'MM Ali': 244, 'JM Sharma': 234, 'MS Dhoni': 232, 'RV Uthappa': 230, 'Shahbaz Ahmed': 219, 'R Tewatia': 217, 'KS Williamson': 216, 'PBB Rajapaksa': 206, 'MA Agarwal': 196, 'R Ashwin': 191, 'TH David': 186, 'KH Pandya': 183, 'R Parag': 183, 'VR Iyer': 182, 'AR Patel': 182, 'RK Singh': 174, 'SW Billings': 169, 'Lalit Yadav': 161, 'A Badoni': 161, 'D Brevis': 161, 'MS Wade': 157, 'MP Stoinis': 156, 'B Sai Sudharsan': 145, 'KA Pollard': 144, 'AM Rahane': 133, 'Anuj Rawat': 129, 'SN Thakur': 120, 'M Shahrukh Khan': 117, 'RA Jadeja': 116, 'A Manohar': 108, 'Washington Sundar': 101, 'Rashid Khan': 91, 'SN Khan': 91, 'MK Pandey': 88, 'AJ Finch': 86, 'MK Lomror': 86, 'RD Chahar': 77, 'E Lewis': 73, 'SP Narine': 71, 'Shashank Singh': 69, 'SS Prabhudessai': 67, 'PJ Cummins': 63, 'JD Unadkat': 59, 'R Shepherd': 58, 'JO Holder': 58, 'UT Yadav': 55, 'OF Smith': 51, 'K Rabada': 48, 'Kuldeep Yadav': 48, 'PK Garg': 46, 'Ramandeep Singh': 45, 'D Pretorius': 44, 'PVD Chameera': 43, 'HV Patel': 43, 'HR Shokeen': 43, 'TA Boult': 40, 'N Jagadeesan': 40, 'DR Sams': 38, 'PWH de Silva': 38, 'R Dhawan': 37, 'SE Rutherford': 33, 'DJ Mitchell': 33, 'JDS Neesham': 31, 'Mohammed Siraj': 30, 'TL Seifert': 24, 'B Kumar': 24, 'SP Jackson': 23, 'DJ Bravo': 23, 'Mohsin Khan': 23, 'Harpreet Brar': 22, 'Avesh Khan': 22, 'HE van der Dussen': 22, 'MJ Santner': 22, 'Arshdeep Singh': 21, 'B Indrajith': 21, 'V Shankar': 19, 'M Vohra': 19, 'Mandeep Singh': 18, 'DJ Willey': 18, 'JR Hazlewood': 18, 'KK Nair': 16, 'P Simran Singh': 14, 'Anmolpreet Singh': 13, 'CV Varun': 12, 'M Ashwin': 12, 'RA Bawa': 11, 'CJ Jordan': 11, 'M Jansen': 9, 'S Gopal': 9, 'FA Allen': 8, 'KS Bharat': 8, 'OC McCoy': 8, 'Rasikh Salam': 7, 'M Theekshana': 7, 'Simarjeet Singh': 7, 'Kartik Tyagi': 7, 'SA Abbott': 7, 'Mukesh Choudhary': 6, 'M Prasidh Krishna': 6, 'RV Patel': 6, 'VG Arora': 5, 'YS Chahal': 5, 'Aman Hakim Khan': 5, 'AS Joseph': 5, 'LH Ferguson': 5, 'Abdul Samad': 4, 'Umran Malik': 4, 'KS Sharma': 4, 'A Tomar': 4, 'PN Mankad': 4, 'Mustafizur Rahman': 3, 'Shivam Mavi': 3, 'K Kartikeya': 3, 'TG Southee': 2, 'Navdeep Saini': 2, 'Harshit Rana': 2, 'PJ Sangwan': 2, 'Fazalhaq Farooqi': 2, 'J Suchith': 2, 'T Stubbs': 2, 'NM Coulter-Nile': 1, 'A Nortje': 1, 'JJ Bumrah': 0, 'KK Ahmed': 0, 'K Gowtham': 0, 'Akash Deep': 0, 'TS Mills': 0, 'KR Sen': 0, 'Ravi Bishnoi': 0, 'NT Ellis': 0, 'Yash Dayal': 0, 'AS Roy': 0, 'RP Meredith': 0, 'R Sanjay Yadav': 0}\n"
     ]
    }
   ],
   "source": [
    "print(sorted_batsman_runs)"
   ]
  },
  {
   "cell_type": "code",
   "execution_count": 19,
   "metadata": {},
   "outputs": [],
   "source": [
    "iswicket_df = merged_ipl_df[['isWicketDelivery','player_out']].copy()"
   ]
  },
  {
   "cell_type": "code",
   "execution_count": 20,
   "metadata": {},
   "outputs": [],
   "source": [
    "out_counts = iswicket_df[iswicket_df['isWicketDelivery'] == 1].groupby('player_out')['isWicketDelivery'].count().reset_index(name='out_count')\n"
   ]
  },
  {
   "cell_type": "code",
   "execution_count": 23,
   "metadata": {},
   "outputs": [
    {
     "name": "stdout",
     "output_type": "stream",
     "text": [
      "            player_out  out_count\n",
      "0             A Badoni          8\n",
      "1            A Manohar          6\n",
      "2              A Tomar          1\n",
      "3           AD Russell          9\n",
      "4             AJ Finch          5\n",
      "..                 ...        ...\n",
      "158            WP Saha         10\n",
      "159  Washington Sundar          7\n",
      "160        YBK Jaiswal         10\n",
      "161          YS Chahal          1\n",
      "162         Yash Dayal          1\n",
      "\n",
      "[163 rows x 2 columns]\n"
     ]
    }
   ],
   "source": [
    "print(out_counts)"
   ]
  },
  {
   "cell_type": "code",
   "execution_count": 24,
   "metadata": {},
   "outputs": [],
   "source": [
    "out_counts_dict = {}\n",
    "\n",
    "for index, row in out_counts.iterrows():\n",
    "    player = row['player_out']\n",
    "    out_count = row['out_count']\n",
    "    out_counts_dict[player] = out_count"
   ]
  },
  {
   "cell_type": "code",
   "execution_count": 25,
   "metadata": {},
   "outputs": [
    {
     "name": "stdout",
     "output_type": "stream",
     "text": [
      "15\n"
     ]
    }
   ],
   "source": [
    "print(out_counts_dict['JC Buttler'])"
   ]
  }
 ],
 "metadata": {
  "kernelspec": {
   "display_name": "Python 3",
   "language": "python",
   "name": "python3"
  },
  "language_info": {
   "codemirror_mode": {
    "name": "ipython",
    "version": 3
   },
   "file_extension": ".py",
   "mimetype": "text/x-python",
   "name": "python",
   "nbconvert_exporter": "python",
   "pygments_lexer": "ipython3",
   "version": "3.9.10"
  },
  "orig_nbformat": 4
 },
 "nbformat": 4,
 "nbformat_minor": 2
}
