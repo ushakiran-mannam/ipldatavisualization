{
 "cells": [
  {
   "cell_type": "code",
   "execution_count": 2,
   "metadata": {},
   "outputs": [
    {
     "name": "stderr",
     "output_type": "stream",
     "text": [
      "C:\\Users\\manna\\AppData\\Local\\Temp\\ipykernel_9996\\794233890.py:2: DtypeWarning: Columns (20) have mixed types. Specify dtype option on import or set low_memory=False.\n",
      "  merged_ipl_df = pd.read_csv('data/2022_ipl_ball_by_ball.csv')\n"
     ]
    }
   ],
   "source": [
    "import pandas as pd\n",
    "merged_ipl_df = pd.read_csv('data/2022_ipl_ball_by_ball.csv')"
   ]
  },
  {
   "cell_type": "code",
   "execution_count": 3,
   "metadata": {},
   "outputs": [],
   "source": [
    "# Calculate batting average\n",
    "\n",
    "new_df = merged_ipl_df[['ID','batter','batsman_run']].copy()\n"
   ]
  },
  {
   "cell_type": "code",
   "execution_count": 4,
   "metadata": {},
   "outputs": [],
   "source": [
    "# Group data by matchid and batsman\n",
    "grouped_data = new_df.groupby(['ID', 'batter'])\n",
    "\n",
    "# Create an empty dictionary to store batsman runs\n",
    "batsman_runs = {}\n",
    "\n",
    "# Iterate over each group\n",
    "for name, group in grouped_data:\n",
    "    # Calculate total runs scored by the batsman in the match\n",
    "    runs = group['batsman_run'].sum()\n",
    "    \n",
    "    # Add the batsman and their total runs to the dictionary\n",
    "    matchid = name[0]\n",
    "    batsman = name[1]\n",
    "    if matchid not in batsman_runs:\n",
    "        batsman_runs[matchid] = {}\n",
    "    batsman_runs[matchid][batsman] = runs"
   ]
  },
  {
   "cell_type": "code",
   "execution_count": 5,
   "metadata": {},
   "outputs": [
    {
     "name": "stdout",
     "output_type": "stream",
     "text": [
      "{'D Padikkal': 2, 'DA Miller': 32, 'HH Pandya': 34, 'JC Buttler': 39, 'MS Wade': 8, 'OC McCoy': 8, 'R Ashwin': 6, 'R Parag': 15, 'SO Hetmyer': 11, 'SV Samson': 14, 'Shubman Gill': 45, 'TA Boult': 11, 'WP Saha': 5, 'YBK Jaiswal': 22}\n"
     ]
    }
   ],
   "source": [
    "print(batsman_runs[1312200])"
   ]
  },
  {
   "cell_type": "code",
   "execution_count": 6,
   "metadata": {},
   "outputs": [],
   "source": [
    "batsman_totals = {}\n",
    "\n",
    "for match_id, match_data in batsman_runs.items():\n",
    "    for batsman, runs in match_data.items():\n",
    "        if batsman in batsman_totals:\n",
    "            batsman_totals[batsman] += runs\n",
    "        else:\n",
    "            batsman_totals[batsman] = runs"
   ]
  },
  {
   "cell_type": "code",
   "execution_count": 7,
   "metadata": {},
   "outputs": [],
   "source": [
    "sorted_batsman_runs = dict(sorted(batsman_totals.items(), key=lambda x: x[1], reverse=True))"
   ]
  },
  {
   "cell_type": "code",
   "execution_count": 8,
   "metadata": {},
   "outputs": [
    {
     "name": "stdout",
     "output_type": "stream",
     "text": [
      "{'JC Buttler': 863, 'KL Rahul': 616, 'Q de Kock': 508, 'HH Pandya': 487, 'Shubman Gill': 483, 'DA Miller': 481, 'F du Plessis': 468, 'S Dhawan': 460, 'SV Samson': 458, 'DJ Hooda': 451, 'LS Livingstone': 437, 'DA Warner': 432, 'Abhishek Sharma': 426, 'Ishan Kishan': 418, 'RA Tripathi': 413, 'SS Iyer': 401, 'Tilak Varma': 397, 'AK Markram': 381, 'D Padikkal': 376, 'RD Gaikwad': 368, 'N Rana': 361, 'V Kohli': 341, 'RR Pant': 340, 'AD Russell': 335, 'RM Patidar': 333, 'KD Karthik': 330, 'WP Saha': 317, 'SO Hetmyer': 314, 'N Pooran': 306, 'SA Yadav': 303, 'GJ Maxwell': 301, 'S Dube': 289, 'PP Shaw': 283, 'AT Rayudu': 274, 'RG Sharma': 268, 'YBK Jaiswal': 258, 'JM Bairstow': 253, 'DP Conway': 252, 'MR Marsh': 251, 'R Powell': 250, 'MM Ali': 244, 'JM Sharma': 234, 'MS Dhoni': 232, 'RV Uthappa': 230, 'Shahbaz Ahmed': 219, 'R Tewatia': 217, 'KS Williamson': 216, 'PBB Rajapaksa': 206, 'MA Agarwal': 196, 'R Ashwin': 191, 'TH David': 186, 'KH Pandya': 183, 'R Parag': 183, 'VR Iyer': 182, 'AR Patel': 182, 'RK Singh': 174, 'SW Billings': 169, 'Lalit Yadav': 161, 'A Badoni': 161, 'D Brevis': 161, 'MS Wade': 157, 'MP Stoinis': 156, 'B Sai Sudharsan': 145, 'KA Pollard': 144, 'AM Rahane': 133, 'Anuj Rawat': 129, 'SN Thakur': 120, 'M Shahrukh Khan': 117, 'RA Jadeja': 116, 'A Manohar': 108, 'Washington Sundar': 101, 'Rashid Khan': 91, 'SN Khan': 91, 'MK Pandey': 88, 'AJ Finch': 86, 'MK Lomror': 86, 'RD Chahar': 77, 'E Lewis': 73, 'SP Narine': 71, 'Shashank Singh': 69, 'SS Prabhudessai': 67, 'PJ Cummins': 63, 'JD Unadkat': 59, 'R Shepherd': 58, 'JO Holder': 58, 'UT Yadav': 55, 'OF Smith': 51, 'K Rabada': 48, 'Kuldeep Yadav': 48, 'PK Garg': 46, 'Ramandeep Singh': 45, 'D Pretorius': 44, 'PVD Chameera': 43, 'HV Patel': 43, 'HR Shokeen': 43, 'TA Boult': 40, 'N Jagadeesan': 40, 'DR Sams': 38, 'PWH de Silva': 38, 'R Dhawan': 37, 'SE Rutherford': 33, 'DJ Mitchell': 33, 'JDS Neesham': 31, 'Mohammed Siraj': 30, 'TL Seifert': 24, 'B Kumar': 24, 'SP Jackson': 23, 'DJ Bravo': 23, 'Mohsin Khan': 23, 'Harpreet Brar': 22, 'Avesh Khan': 22, 'HE van der Dussen': 22, 'MJ Santner': 22, 'Arshdeep Singh': 21, 'B Indrajith': 21, 'V Shankar': 19, 'M Vohra': 19, 'Mandeep Singh': 18, 'DJ Willey': 18, 'JR Hazlewood': 18, 'KK Nair': 16, 'P Simran Singh': 14, 'Anmolpreet Singh': 13, 'CV Varun': 12, 'M Ashwin': 12, 'RA Bawa': 11, 'CJ Jordan': 11, 'M Jansen': 9, 'S Gopal': 9, 'FA Allen': 8, 'KS Bharat': 8, 'OC McCoy': 8, 'Rasikh Salam': 7, 'M Theekshana': 7, 'Simarjeet Singh': 7, 'Kartik Tyagi': 7, 'SA Abbott': 7, 'Mukesh Choudhary': 6, 'M Prasidh Krishna': 6, 'RV Patel': 6, 'VG Arora': 5, 'YS Chahal': 5, 'Aman Hakim Khan': 5, 'AS Joseph': 5, 'LH Ferguson': 5, 'Abdul Samad': 4, 'Umran Malik': 4, 'KS Sharma': 4, 'A Tomar': 4, 'PN Mankad': 4, 'Mustafizur Rahman': 3, 'Shivam Mavi': 3, 'K Kartikeya': 3, 'TG Southee': 2, 'Navdeep Saini': 2, 'Harshit Rana': 2, 'PJ Sangwan': 2, 'Fazalhaq Farooqi': 2, 'J Suchith': 2, 'T Stubbs': 2, 'NM Coulter-Nile': 1, 'A Nortje': 1, 'JJ Bumrah': 0, 'KK Ahmed': 0, 'K Gowtham': 0, 'Akash Deep': 0, 'TS Mills': 0, 'KR Sen': 0, 'Ravi Bishnoi': 0, 'NT Ellis': 0, 'Yash Dayal': 0, 'AS Roy': 0, 'RP Meredith': 0, 'R Sanjay Yadav': 0}\n"
     ]
    }
   ],
   "source": [
    "print(sorted_batsman_runs)"
   ]
  },
  {
   "cell_type": "code",
   "execution_count": 9,
   "metadata": {},
   "outputs": [],
   "source": [
    "iswicket_df = merged_ipl_df[['isWicketDelivery','player_out']].copy()"
   ]
  },
  {
   "cell_type": "code",
   "execution_count": 10,
   "metadata": {},
   "outputs": [],
   "source": [
    "out_counts = iswicket_df[iswicket_df['isWicketDelivery'] == 1].groupby('player_out')['isWicketDelivery'].count().reset_index(name='out_count')\n"
   ]
  },
  {
   "cell_type": "code",
   "execution_count": 11,
   "metadata": {},
   "outputs": [
    {
     "name": "stdout",
     "output_type": "stream",
     "text": [
      "            player_out  out_count\n",
      "0             A Badoni          8\n",
      "1            A Manohar          6\n",
      "2              A Tomar          1\n",
      "3           AD Russell          9\n",
      "4             AJ Finch          5\n",
      "..                 ...        ...\n",
      "158            WP Saha         10\n",
      "159  Washington Sundar          7\n",
      "160        YBK Jaiswal         10\n",
      "161          YS Chahal          1\n",
      "162         Yash Dayal          1\n",
      "\n",
      "[163 rows x 2 columns]\n"
     ]
    }
   ],
   "source": [
    "print(out_counts)"
   ]
  },
  {
   "cell_type": "code",
   "execution_count": 12,
   "metadata": {},
   "outputs": [],
   "source": [
    "out_counts_dict = {}\n",
    "\n",
    "for index, row in out_counts.iterrows():\n",
    "    player = row['player_out']\n",
    "    out_count = row['out_count']\n",
    "    out_counts_dict[player] = out_count"
   ]
  },
  {
   "cell_type": "code",
   "execution_count": 13,
   "metadata": {},
   "outputs": [
    {
     "name": "stdout",
     "output_type": "stream",
     "text": [
      "15\n"
     ]
    }
   ],
   "source": [
    "print(out_counts_dict['JC Buttler'])"
   ]
  },
  {
   "cell_type": "code",
   "execution_count": 14,
   "metadata": {},
   "outputs": [
    {
     "name": "stdout",
     "output_type": "stream",
     "text": [
      "{'JC Buttler': 57.53333333333333, 'KL Rahul': 51.333333333333336, 'Q de Kock': 36.285714285714285, 'HH Pandya': 44.27272727272727, 'Shubman Gill': 34.5, 'DA Miller': 68.71428571428571, 'F du Plessis': 31.2, 'S Dhawan': 38.333333333333336, 'SV Samson': 28.625, 'DJ Hooda': 32.214285714285715, 'LS Livingstone': 36.416666666666664, 'DA Warner': 48.0, 'Abhishek Sharma': 30.428571428571427, 'Ishan Kishan': 32.15384615384615, 'RA Tripathi': 34.416666666666664, 'SS Iyer': 30.846153846153847, 'Tilak Varma': 36.09090909090909, 'AK Markram': 47.625, 'D Padikkal': 22.11764705882353, 'RD Gaikwad': 26.285714285714285, 'N Rana': 27.76923076923077, 'V Kohli': 22.733333333333334, 'RR Pant': 30.90909090909091, 'AD Russell': 37.22222222222222, 'RM Patidar': 55.5, 'KD Karthik': 55.0, 'WP Saha': 31.7, 'SO Hetmyer': 44.857142857142854, 'N Pooran': 38.25, 'SA Yadav': 43.285714285714285, 'GJ Maxwell': 27.363636363636363, 'S Dube': 28.9, 'PP Shaw': 28.3, 'AT Rayudu': 24.90909090909091, 'RG Sharma': 19.142857142857142, 'YBK Jaiswal': 25.8, 'JM Bairstow': 23.0, 'DP Conway': 42.0, 'MR Marsh': 31.375, 'R Powell': 25.0, 'MM Ali': 24.4, 'JM Sharma': 29.25, 'MS Dhoni': 33.142857142857146, 'RV Uthappa': 20.90909090909091, 'Shahbaz Ahmed': 27.375, 'R Tewatia': 31.0, 'KS Williamson': 19.636363636363637, 'PBB Rajapaksa': 22.88888888888889, 'MA Agarwal': 16.333333333333332, 'R Ashwin': 27.285714285714285, 'TH David': 37.2, 'KH Pandya': 20.333333333333332, 'R Parag': 16.636363636363637, 'VR Iyer': 16.545454545454547, 'AR Patel': 45.5, 'RK Singh': 34.8, 'SW Billings': 24.142857142857142, 'Lalit Yadav': 23.0, 'A Badoni': 20.125, 'D Brevis': 23.0, 'MS Wade': 15.7, 'MP Stoinis': 19.5, 'B Sai Sudharsan': 36.25, 'KA Pollard': 14.4, 'AM Rahane': 19.0, 'Anuj Rawat': 16.125, 'SN Thakur': 15.0, 'M Shahrukh Khan': 16.714285714285715, 'RA Jadeja': 19.333333333333332, 'A Manohar': 18.0, 'Washington Sundar': 14.428571428571429, 'Rashid Khan': 22.75, 'SN Khan': 30.333333333333332, 'MK Pandey': 14.666666666666666, 'AJ Finch': 17.2, 'MK Lomror': 17.2, 'RD Chahar': 12.833333333333334, 'E Lewis': 24.333333333333332, 'SP Narine': 8.875, 'Shashank Singh': 17.25, 'SS Prabhudessai': 13.4, 'PJ Cummins': 15.75, 'JD Unadkat': 19.666666666666668, 'R Shepherd': 29.0, 'JO Holder': 9.666666666666666, 'UT Yadav': 13.75, 'OF Smith': 17.0, 'K Rabada': 9.6, 'Kuldeep Yadav': 48.0, 'PK Garg': 23.0, 'Ramandeep Singh': 22.5, 'D Pretorius': 11.0, 'PVD Chameera': 10.75, 'HV Patel': 8.6, 'HR Shokeen': 21.5, 'TA Boult': 20.0, 'N Jagadeesan': 40.0, 'DR Sams': 5.428571428571429, 'PWH de Silva': 5.428571428571429, 'R Dhawan': 18.5, 'SE Rutherford': 16.5, 'DJ Mitchell': 16.5, 'JDS Neesham': 15.5, 'Mohammed Siraj': 15.0, 'TL Seifert': 12.0, 'B Kumar': 8.0, 'SP Jackson': 5.75, 'DJ Bravo': 11.5, 'Mohsin Khan': 23.0, 'Harpreet Brar': 7.333333333333333, 'Avesh Khan': 22.0, 'HE van der Dussen': 11.0, 'MJ Santner': 11.0, 'Arshdeep Singh': 7.0, 'B Indrajith': 7.0, 'V Shankar': 4.75, 'M Vohra': 19.0, 'Mandeep Singh': 6.0, 'DJ Willey': 9.0, 'JR Hazlewood': 18, 'KK Nair': 8.0, 'P Simran Singh': 14.0, 'Anmolpreet Singh': 6.5, 'CV Varun': 12, 'M Ashwin': 4.0, 'RA Bawa': 5.5, 'CJ Jordan': 11.0, 'M Jansen': 9.0, 'S Gopal': 9, 'FA Allen': 8.0, 'KS Bharat': 4.0, 'OC McCoy': 8.0, 'Rasikh Salam': 7.0, 'M Theekshana': 7.0, 'Simarjeet Singh': 7.0, 'Kartik Tyagi': 3.5, 'SA Abbott': 7.0, 'Mukesh Choudhary': 6.0, 'M Prasidh Krishna': 6.0, 'RV Patel': 6.0, 'VG Arora': 2.5, 'YS Chahal': 5.0, 'Aman Hakim Khan': 5.0, 'AS Joseph': 5.0, 'LH Ferguson': 2.5, 'Abdul Samad': 2.0, 'Umran Malik': 4.0, 'KS Sharma': 4.0, 'A Tomar': 4.0, 'PN Mankad': 4, 'Mustafizur Rahman': 3, 'Shivam Mavi': 1.5, 'K Kartikeya': 3.0, 'TG Southee': 0.5, 'Navdeep Saini': 2.0, 'Harshit Rana': 2.0, 'PJ Sangwan': 2.0, 'Fazalhaq Farooqi': 2, 'J Suchith': 1.0, 'T Stubbs': 1.0, 'NM Coulter-Nile': 1, 'A Nortje': 1, 'JJ Bumrah': 0.0, 'KK Ahmed': 0.0, 'K Gowtham': 0.0, 'Akash Deep': 0.0, 'TS Mills': 0.0, 'KR Sen': 0, 'Ravi Bishnoi': 0, 'NT Ellis': 0.0, 'Yash Dayal': 0.0, 'AS Roy': 0.0, 'RP Meredith': 0, 'R Sanjay Yadav': 0.0}\n"
     ]
    }
   ],
   "source": [
    "batting_average = {}\n",
    "for batsman in sorted_batsman_runs.keys():\n",
    "    if batsman in out_counts_dict.keys():\n",
    "        average = sorted_batsman_runs[batsman]/(out_counts_dict[batsman])\n",
    "    else:\n",
    "        average = sorted_batsman_runs[batsman]\n",
    "    batting_average[batsman] = average\n",
    "print(batting_average)"
   ]
  },
  {
   "cell_type": "code",
   "execution_count": 15,
   "metadata": {},
   "outputs": [
    {
     "name": "stdout",
     "output_type": "stream",
     "text": [
      "[nan 'legbyes' 'wides' 'byes' 'noballs']\n"
     ]
    }
   ],
   "source": [
    "print(merged_ipl_df['extra_type'].unique())"
   ]
  },
  {
   "cell_type": "code",
   "execution_count": 16,
   "metadata": {},
   "outputs": [],
   "source": [
    "# calculating strike rate  of batsman\n",
    "\n",
    "# Initialize a dictionary to store the number of deliveries faced by each batsman\n",
    "batsman_deliveries = {}\n",
    "\n",
    "# Loop through each ball in the dataset\n",
    "for index, row in merged_ipl_df.iterrows():\n",
    "    batsman = row['batter']\n",
    "    extra_type = row['extra_type']\n",
    "    \n",
    "    # If the delivery is not a wide or no ball, add it to the batsman's count\n",
    "    if extra_type != 'wides':\n",
    "        if batsman not in batsman_deliveries:\n",
    "            batsman_deliveries[batsman] = 1\n",
    "        else:\n",
    "            batsman_deliveries[batsman] += 1"
   ]
  },
  {
   "cell_type": "code",
   "execution_count": 17,
   "metadata": {},
   "outputs": [
    {
     "name": "stdout",
     "output_type": "stream",
     "text": [
      "{'JC Buttler': 149.05008635578582, 'KL Rahul': 135.3846153846154, 'Q de Kock': 148.97360703812316, 'HH Pandya': 131.26684636118597, 'Shubman Gill': 132.32876712328766, 'DA Miller': 142.7299703264095, 'F du Plessis': 127.52043596730245, 'S Dhawan': 122.66666666666666, 'SV Samson': 146.7948717948718, 'DJ Hooda': 136.66666666666666, 'LS Livingstone': 182.08333333333334, 'DA Warner': 150.5226480836237, 'Abhishek Sharma': 133.125, 'Ishan Kishan': 120.11494252873563, 'RA Tripathi': 158.2375478927203, 'SS Iyer': 134.56375838926172, 'Tilak Varma': 131.02310231023102, 'AK Markram': 139.05109489051094, 'D Padikkal': 122.87581699346406, 'RD Gaikwad': 126.46048109965635, 'N Rana': 143.82470119521912, 'V Kohli': 115.98639455782313, 'RR Pant': 151.78571428571428, 'AD Russell': 174.47916666666669, 'RM Patidar': 152.75229357798165, 'KD Karthik': 183.33333333333331, 'WP Saha': 122.39382239382239, 'SO Hetmyer': 153.921568627451, 'N Pooran': 144.33962264150944, 'SA Yadav': 145.6730769230769, 'GJ Maxwell': 169.1011235955056, 'S Dube': 156.21621621621622, 'PP Shaw': 152.97297297297297, 'AT Rayudu': 122.32142857142858, 'RG Sharma': 120.1793721973094, 'YBK Jaiswal': 132.98969072164948, 'JM Bairstow': 144.57142857142858, 'DP Conway': 145.66473988439304, 'MR Marsh': 132.8042328042328, 'R Powell': 149.7005988023952, 'MM Ali': 137.85310734463278, 'JM Sharma': 163.63636363636365, 'MS Dhoni': 123.40425531914893, 'RV Uthappa': 134.5029239766082, 'Shahbaz Ahmed': 120.99447513812154, 'R Tewatia': 147.61904761904762, 'KS Williamson': 93.5064935064935, 'PBB Rajapaksa': 159.68992248062014, 'MA Agarwal': 122.50000000000001, 'R Ashwin': 141.48148148148147, 'TH David': 216.27906976744185, 'KH Pandya': 126.20689655172414, 'R Parag': 138.63636363636365, 'VR Iyer': 107.6923076923077, 'AR Patel': 151.66666666666666, 'RK Singh': 148.71794871794873, 'SW Billings': 122.46376811594205, 'Lalit Yadav': 110.27397260273972, 'A Badoni': 123.84615384615385, 'D Brevis': 142.47787610619469, 'MS Wade': 113.76811594202898, 'MP Stoinis': 147.16981132075472, 'B Sai Sudharsan': 127.19298245614034, 'KA Pollard': 107.46268656716418, 'AM Rahane': 103.90625, 'Anuj Rawat': 109.32203389830508, 'SN Thakur': 137.93103448275863, 'M Shahrukh Khan': 108.33333333333333, 'RA Jadeja': 118.36734693877551, 'A Manohar': 144.0, 'Washington Sundar': 146.3768115942029, 'Rashid Khan': 206.81818181818184, 'SN Khan': 135.82089552238804, 'MK Pandey': 110.00000000000001, 'AJ Finch': 140.98360655737704, 'MK Lomror': 150.87719298245614, 'RD Chahar': 113.23529411764706, 'E Lewis': 130.35714285714286, 'SP Narine': 177.5, 'Shashank Singh': 146.80851063829786, 'SS Prabhudessai': 113.55932203389831, 'PJ Cummins': 262.5, 'JD Unadkat': 159.45945945945945, 'R Shepherd': 141.46341463414635, 'JO Holder': 131.8181818181818, 'UT Yadav': 137.5, 'OF Smith': 115.90909090909092, 'K Rabada': 111.62790697674419, 'Kuldeep Yadav': 92.3076923076923, 'PK Garg': 139.3939393939394, 'Ramandeep Singh': 112.5, 'D Pretorius': 157.14285714285714, 'PVD Chameera': 153.57142857142858, 'HV Patel': 110.25641025641026, 'HR Shokeen': 89.58333333333334, 'TA Boult': 137.93103448275863, 'N Jagadeesan': 108.10810810810811, 'DR Sams': 105.55555555555556, 'PWH de Silva': 88.37209302325581, 'R Dhawan': 92.5, 'SE Rutherford': 66.0, 'DJ Mitchell': 75.0, 'JDS Neesham': 114.81481481481481, 'Mohammed Siraj': 90.9090909090909, 'TL Seifert': 126.3157894736842, 'B Kumar': 92.3076923076923, 'SP Jackson': 88.46153846153845, 'DJ Bravo': 95.83333333333334, 'Mohsin Khan': 143.75, 'Harpreet Brar': 88.0, 'Avesh Khan': 169.23076923076923, 'HE van der Dussen': 91.66666666666666, 'MJ Santner': 81.48148148148148, 'Arshdeep Singh': 72.41379310344827, 'B Indrajith': 70.0, 'V Shankar': 54.285714285714285, 'M Vohra': 172.72727272727272, 'Mandeep Singh': 78.26086956521739, 'DJ Willey': 60.0, 'JR Hazlewood': 69.23076923076923, 'KK Nair': 88.88888888888889, 'P Simran Singh': 127.27272727272727, 'Anmolpreet Singh': 100.0, 'CV Varun': 66.66666666666666, 'M Ashwin': 85.71428571428571, 'RA Bawa': 78.57142857142857, 'CJ Jordan': 137.5, 'M Jansen': 128.57142857142858, 'S Gopal': 128.57142857142858, 'FA Allen': 114.28571428571428, 'KS Bharat': 114.28571428571428, 'OC McCoy': 160.0, 'Rasikh Salam': 116.66666666666667, 'M Theekshana': 100.0, 'Simarjeet Singh': 87.5, 'Kartik Tyagi': 116.66666666666667, 'SA Abbott': 140.0, 'Mukesh Choudhary': 100.0, 'M Prasidh Krishna': 50.0, 'RV Patel': 200.0, 'VG Arora': 38.46153846153847, 'YS Chahal': 62.5, 'Aman Hakim Khan': 166.66666666666669, 'AS Joseph': 71.42857142857143, 'LH Ferguson': 125.0, 'Abdul Samad': 57.14285714285714, 'Umran Malik': 50.0, 'KS Sharma': 100.0, 'A Tomar': 50.0, 'PN Mankad': 400.0, 'Mustafizur Rahman': 60.0, 'Shivam Mavi': 42.857142857142854, 'K Kartikeya': 60.0, 'TG Southee': 16.666666666666664, 'Navdeep Saini': 100.0, 'Harshit Rana': 100.0, 'PJ Sangwan': 40.0, 'Fazalhaq Farooqi': 25.0, 'J Suchith': 25.0, 'T Stubbs': 50.0, 'NM Coulter-Nile': 50.0, 'A Nortje': 16.666666666666664, 'JJ Bumrah': 0.0, 'KK Ahmed': 0.0, 'K Gowtham': 0.0, 'Akash Deep': 0.0, 'TS Mills': 0.0, 'KR Sen': 0.0, 'Ravi Bishnoi': 0.0, 'NT Ellis': 0.0, 'Yash Dayal': 0.0, 'AS Roy': 0.0, 'RP Meredith': 0.0, 'R Sanjay Yadav': 0.0}\n"
     ]
    }
   ],
   "source": [
    "batsman_strikerate = {}\n",
    "for batsman in sorted_batsman_runs.keys():\n",
    "    strike_rate = ((sorted_batsman_runs[batsman])/(batsman_deliveries[batsman]))*100\n",
    "    batsman_strikerate[batsman] = strike_rate\n",
    "\n",
    "print(batsman_strikerate)"
   ]
  },
  {
   "cell_type": "code",
   "execution_count": 18,
   "metadata": {},
   "outputs": [
    {
     "name": "stdout",
     "output_type": "stream",
     "text": [
      "Kuldeep Yadav       4\n",
      "JC Buttler          3\n",
      "HH Pandya           2\n",
      "KL Rahul            2\n",
      "YS Chahal           2\n",
      "KD Karthik          2\n",
      "Avesh Khan          2\n",
      "PWH de Silva        2\n",
      "Shubman Gill        2\n",
      "Umran Malik         2\n",
      "JJ Bumrah           2\n",
      "DA Miller           2\n",
      "RA Tripathi         2\n",
      "Q de Kock           2\n",
      "UT Yadav            2\n",
      "F du Plessis        1\n",
      "R Parag             1\n",
      "S Dhawan            1\n",
      "Mohammed Shami      1\n",
      "M Jansen            1\n",
      "Rashid Khan         1\n",
      "Mukesh Choudhary    1\n",
      "LH Ferguson         1\n",
      "SV Samson           1\n",
      "LS Livingstone      1\n",
      "E Lewis             1\n",
      "MA Agarwal          1\n",
      "KS Williamson       1\n",
      "Anuj Rawat          1\n",
      "Abhishek Sharma     1\n",
      "PJ Cummins          1\n",
      "S Dube              1\n",
      "Mohsin Khan         1\n",
      "KH Pandya           1\n",
      "DR Sams             1\n",
      "RM Patidar          1\n",
      "Harpreet Brar       1\n",
      "R Ashwin            1\n",
      "V Kohli             1\n",
      "SN Thakur           1\n",
      "TA Boult            1\n",
      "WP Saha             1\n",
      "AD Russell          1\n",
      "JM Bairstow         1\n",
      "MR Marsh            1\n",
      "R Tewatia           1\n",
      "DP Conway           1\n",
      "YBK Jaiswal         1\n",
      "TH David            1\n",
      "DA Warner           1\n",
      "HV Patel            1\n",
      "K Rabada            1\n",
      "RK Singh            1\n",
      "RD Gaikwad          1\n",
      "SA Yadav            1\n",
      "OF Smith            1\n",
      "Name: Player_of_Match, dtype: int64\n"
     ]
    }
   ],
   "source": [
    "player_of_match_count = {}\n",
    "\n",
    "df_unique = merged_ipl_df.drop_duplicates(subset=['ID', 'Player_of_Match'])\n",
    "\n",
    "# Count number of player of the match awards for each player\n",
    "awards_count = df_unique['Player_of_Match'].value_counts()\n",
    "\n",
    "print(awards_count)\n",
    "\n",
    "player_of_match_count = awards_count.to_dict()"
   ]
  },
  {
   "cell_type": "code",
   "execution_count": 20,
   "metadata": {},
   "outputs": [
    {
     "name": "stdout",
     "output_type": "stream",
     "text": [
      "68.71428571428571\n",
      "400.0\n",
      "4\n"
     ]
    }
   ],
   "source": [
    "# print(player_of_match_count)\n",
    "\n",
    "max_bat_avg = 0\n",
    "max_strike_rate = 0\n",
    "max_player_awrds = 0 \n",
    "for value in batting_average.values():\n",
    "    if value > max_bat_avg:\n",
    "        max_bat_avg = value\n",
    "\n",
    "for value in batsman_strikerate.values():\n",
    "    if value > max_strike_rate:\n",
    "        max_strike_rate = value\n",
    "\n",
    "for value in player_of_match_count.values():\n",
    "    if value > max_player_awrds:\n",
    "        max_player_awrds = value\n",
    "\n",
    "print(max_bat_avg)\n",
    "print(max_strike_rate)\n",
    "print(max_player_awrds)"
   ]
  },
  {
   "cell_type": "code",
   "execution_count": 26,
   "metadata": {},
   "outputs": [
    {
     "data": {
      "application/vnd.plotly.v1+json": {
       "config": {
        "plotlyServerURL": "https://plot.ly"
       },
       "data": [
        {
         "fill": "toself",
         "hovertemplate": "%{hovertext}<extra></extra>",
         "hovertext": [
          "{'Average': 57.53333333333333}",
          "{'Strike rate': 149.05008635578582}",
          "{'Player of match': 3}"
         ],
         "name": "JC Buttler",
         "r": [
          837.2834372834373,
          372.6252158894645,
          750
         ],
         "theta": [
          "Average",
          "StrikeRate",
          "Player Of Match Count"
         ],
         "type": "scatterpolar"
        },
        {
         "fill": "toself",
         "hovertemplate": "%{hovertext}<extra></extra>",
         "hovertext": [
          "{'Average': 44.27272727272727}",
          "{'Strike rate': 131.26684636118597}",
          "{'Player of match': 2}"
         ],
         "name": "HH Pandya",
         "r": [
          644.3016443016444,
          328.16711590296495,
          500
         ],
         "theta": [
          "Average",
          "StrikeRate",
          "Player Of Match Count"
         ],
         "type": "scatterpolar"
        }
       ],
       "layout": {
        "polar": {
         "radialaxis": {
          "range": [
           0,
           1000
          ],
          "visible": true
         }
        },
        "showlegend": true,
        "template": {
         "data": {
          "bar": [
           {
            "error_x": {
             "color": "#2a3f5f"
            },
            "error_y": {
             "color": "#2a3f5f"
            },
            "marker": {
             "line": {
              "color": "#E5ECF6",
              "width": 0.5
             },
             "pattern": {
              "fillmode": "overlay",
              "size": 10,
              "solidity": 0.2
             }
            },
            "type": "bar"
           }
          ],
          "barpolar": [
           {
            "marker": {
             "line": {
              "color": "#E5ECF6",
              "width": 0.5
             },
             "pattern": {
              "fillmode": "overlay",
              "size": 10,
              "solidity": 0.2
             }
            },
            "type": "barpolar"
           }
          ],
          "carpet": [
           {
            "aaxis": {
             "endlinecolor": "#2a3f5f",
             "gridcolor": "white",
             "linecolor": "white",
             "minorgridcolor": "white",
             "startlinecolor": "#2a3f5f"
            },
            "baxis": {
             "endlinecolor": "#2a3f5f",
             "gridcolor": "white",
             "linecolor": "white",
             "minorgridcolor": "white",
             "startlinecolor": "#2a3f5f"
            },
            "type": "carpet"
           }
          ],
          "choropleth": [
           {
            "colorbar": {
             "outlinewidth": 0,
             "ticks": ""
            },
            "type": "choropleth"
           }
          ],
          "contour": [
           {
            "colorbar": {
             "outlinewidth": 0,
             "ticks": ""
            },
            "colorscale": [
             [
              0,
              "#0d0887"
             ],
             [
              0.1111111111111111,
              "#46039f"
             ],
             [
              0.2222222222222222,
              "#7201a8"
             ],
             [
              0.3333333333333333,
              "#9c179e"
             ],
             [
              0.4444444444444444,
              "#bd3786"
             ],
             [
              0.5555555555555556,
              "#d8576b"
             ],
             [
              0.6666666666666666,
              "#ed7953"
             ],
             [
              0.7777777777777778,
              "#fb9f3a"
             ],
             [
              0.8888888888888888,
              "#fdca26"
             ],
             [
              1,
              "#f0f921"
             ]
            ],
            "type": "contour"
           }
          ],
          "contourcarpet": [
           {
            "colorbar": {
             "outlinewidth": 0,
             "ticks": ""
            },
            "type": "contourcarpet"
           }
          ],
          "heatmap": [
           {
            "colorbar": {
             "outlinewidth": 0,
             "ticks": ""
            },
            "colorscale": [
             [
              0,
              "#0d0887"
             ],
             [
              0.1111111111111111,
              "#46039f"
             ],
             [
              0.2222222222222222,
              "#7201a8"
             ],
             [
              0.3333333333333333,
              "#9c179e"
             ],
             [
              0.4444444444444444,
              "#bd3786"
             ],
             [
              0.5555555555555556,
              "#d8576b"
             ],
             [
              0.6666666666666666,
              "#ed7953"
             ],
             [
              0.7777777777777778,
              "#fb9f3a"
             ],
             [
              0.8888888888888888,
              "#fdca26"
             ],
             [
              1,
              "#f0f921"
             ]
            ],
            "type": "heatmap"
           }
          ],
          "heatmapgl": [
           {
            "colorbar": {
             "outlinewidth": 0,
             "ticks": ""
            },
            "colorscale": [
             [
              0,
              "#0d0887"
             ],
             [
              0.1111111111111111,
              "#46039f"
             ],
             [
              0.2222222222222222,
              "#7201a8"
             ],
             [
              0.3333333333333333,
              "#9c179e"
             ],
             [
              0.4444444444444444,
              "#bd3786"
             ],
             [
              0.5555555555555556,
              "#d8576b"
             ],
             [
              0.6666666666666666,
              "#ed7953"
             ],
             [
              0.7777777777777778,
              "#fb9f3a"
             ],
             [
              0.8888888888888888,
              "#fdca26"
             ],
             [
              1,
              "#f0f921"
             ]
            ],
            "type": "heatmapgl"
           }
          ],
          "histogram": [
           {
            "marker": {
             "pattern": {
              "fillmode": "overlay",
              "size": 10,
              "solidity": 0.2
             }
            },
            "type": "histogram"
           }
          ],
          "histogram2d": [
           {
            "colorbar": {
             "outlinewidth": 0,
             "ticks": ""
            },
            "colorscale": [
             [
              0,
              "#0d0887"
             ],
             [
              0.1111111111111111,
              "#46039f"
             ],
             [
              0.2222222222222222,
              "#7201a8"
             ],
             [
              0.3333333333333333,
              "#9c179e"
             ],
             [
              0.4444444444444444,
              "#bd3786"
             ],
             [
              0.5555555555555556,
              "#d8576b"
             ],
             [
              0.6666666666666666,
              "#ed7953"
             ],
             [
              0.7777777777777778,
              "#fb9f3a"
             ],
             [
              0.8888888888888888,
              "#fdca26"
             ],
             [
              1,
              "#f0f921"
             ]
            ],
            "type": "histogram2d"
           }
          ],
          "histogram2dcontour": [
           {
            "colorbar": {
             "outlinewidth": 0,
             "ticks": ""
            },
            "colorscale": [
             [
              0,
              "#0d0887"
             ],
             [
              0.1111111111111111,
              "#46039f"
             ],
             [
              0.2222222222222222,
              "#7201a8"
             ],
             [
              0.3333333333333333,
              "#9c179e"
             ],
             [
              0.4444444444444444,
              "#bd3786"
             ],
             [
              0.5555555555555556,
              "#d8576b"
             ],
             [
              0.6666666666666666,
              "#ed7953"
             ],
             [
              0.7777777777777778,
              "#fb9f3a"
             ],
             [
              0.8888888888888888,
              "#fdca26"
             ],
             [
              1,
              "#f0f921"
             ]
            ],
            "type": "histogram2dcontour"
           }
          ],
          "mesh3d": [
           {
            "colorbar": {
             "outlinewidth": 0,
             "ticks": ""
            },
            "type": "mesh3d"
           }
          ],
          "parcoords": [
           {
            "line": {
             "colorbar": {
              "outlinewidth": 0,
              "ticks": ""
             }
            },
            "type": "parcoords"
           }
          ],
          "pie": [
           {
            "automargin": true,
            "type": "pie"
           }
          ],
          "scatter": [
           {
            "fillpattern": {
             "fillmode": "overlay",
             "size": 10,
             "solidity": 0.2
            },
            "type": "scatter"
           }
          ],
          "scatter3d": [
           {
            "line": {
             "colorbar": {
              "outlinewidth": 0,
              "ticks": ""
             }
            },
            "marker": {
             "colorbar": {
              "outlinewidth": 0,
              "ticks": ""
             }
            },
            "type": "scatter3d"
           }
          ],
          "scattercarpet": [
           {
            "marker": {
             "colorbar": {
              "outlinewidth": 0,
              "ticks": ""
             }
            },
            "type": "scattercarpet"
           }
          ],
          "scattergeo": [
           {
            "marker": {
             "colorbar": {
              "outlinewidth": 0,
              "ticks": ""
             }
            },
            "type": "scattergeo"
           }
          ],
          "scattergl": [
           {
            "marker": {
             "colorbar": {
              "outlinewidth": 0,
              "ticks": ""
             }
            },
            "type": "scattergl"
           }
          ],
          "scattermapbox": [
           {
            "marker": {
             "colorbar": {
              "outlinewidth": 0,
              "ticks": ""
             }
            },
            "type": "scattermapbox"
           }
          ],
          "scatterpolar": [
           {
            "marker": {
             "colorbar": {
              "outlinewidth": 0,
              "ticks": ""
             }
            },
            "type": "scatterpolar"
           }
          ],
          "scatterpolargl": [
           {
            "marker": {
             "colorbar": {
              "outlinewidth": 0,
              "ticks": ""
             }
            },
            "type": "scatterpolargl"
           }
          ],
          "scatterternary": [
           {
            "marker": {
             "colorbar": {
              "outlinewidth": 0,
              "ticks": ""
             }
            },
            "type": "scatterternary"
           }
          ],
          "surface": [
           {
            "colorbar": {
             "outlinewidth": 0,
             "ticks": ""
            },
            "colorscale": [
             [
              0,
              "#0d0887"
             ],
             [
              0.1111111111111111,
              "#46039f"
             ],
             [
              0.2222222222222222,
              "#7201a8"
             ],
             [
              0.3333333333333333,
              "#9c179e"
             ],
             [
              0.4444444444444444,
              "#bd3786"
             ],
             [
              0.5555555555555556,
              "#d8576b"
             ],
             [
              0.6666666666666666,
              "#ed7953"
             ],
             [
              0.7777777777777778,
              "#fb9f3a"
             ],
             [
              0.8888888888888888,
              "#fdca26"
             ],
             [
              1,
              "#f0f921"
             ]
            ],
            "type": "surface"
           }
          ],
          "table": [
           {
            "cells": {
             "fill": {
              "color": "#EBF0F8"
             },
             "line": {
              "color": "white"
             }
            },
            "header": {
             "fill": {
              "color": "#C8D4E3"
             },
             "line": {
              "color": "white"
             }
            },
            "type": "table"
           }
          ]
         },
         "layout": {
          "annotationdefaults": {
           "arrowcolor": "#2a3f5f",
           "arrowhead": 0,
           "arrowwidth": 1
          },
          "autotypenumbers": "strict",
          "coloraxis": {
           "colorbar": {
            "outlinewidth": 0,
            "ticks": ""
           }
          },
          "colorscale": {
           "diverging": [
            [
             0,
             "#8e0152"
            ],
            [
             0.1,
             "#c51b7d"
            ],
            [
             0.2,
             "#de77ae"
            ],
            [
             0.3,
             "#f1b6da"
            ],
            [
             0.4,
             "#fde0ef"
            ],
            [
             0.5,
             "#f7f7f7"
            ],
            [
             0.6,
             "#e6f5d0"
            ],
            [
             0.7,
             "#b8e186"
            ],
            [
             0.8,
             "#7fbc41"
            ],
            [
             0.9,
             "#4d9221"
            ],
            [
             1,
             "#276419"
            ]
           ],
           "sequential": [
            [
             0,
             "#0d0887"
            ],
            [
             0.1111111111111111,
             "#46039f"
            ],
            [
             0.2222222222222222,
             "#7201a8"
            ],
            [
             0.3333333333333333,
             "#9c179e"
            ],
            [
             0.4444444444444444,
             "#bd3786"
            ],
            [
             0.5555555555555556,
             "#d8576b"
            ],
            [
             0.6666666666666666,
             "#ed7953"
            ],
            [
             0.7777777777777778,
             "#fb9f3a"
            ],
            [
             0.8888888888888888,
             "#fdca26"
            ],
            [
             1,
             "#f0f921"
            ]
           ],
           "sequentialminus": [
            [
             0,
             "#0d0887"
            ],
            [
             0.1111111111111111,
             "#46039f"
            ],
            [
             0.2222222222222222,
             "#7201a8"
            ],
            [
             0.3333333333333333,
             "#9c179e"
            ],
            [
             0.4444444444444444,
             "#bd3786"
            ],
            [
             0.5555555555555556,
             "#d8576b"
            ],
            [
             0.6666666666666666,
             "#ed7953"
            ],
            [
             0.7777777777777778,
             "#fb9f3a"
            ],
            [
             0.8888888888888888,
             "#fdca26"
            ],
            [
             1,
             "#f0f921"
            ]
           ]
          },
          "colorway": [
           "#636efa",
           "#EF553B",
           "#00cc96",
           "#ab63fa",
           "#FFA15A",
           "#19d3f3",
           "#FF6692",
           "#B6E880",
           "#FF97FF",
           "#FECB52"
          ],
          "font": {
           "color": "#2a3f5f"
          },
          "geo": {
           "bgcolor": "white",
           "lakecolor": "white",
           "landcolor": "#E5ECF6",
           "showlakes": true,
           "showland": true,
           "subunitcolor": "white"
          },
          "hoverlabel": {
           "align": "left"
          },
          "hovermode": "closest",
          "mapbox": {
           "style": "light"
          },
          "paper_bgcolor": "white",
          "plot_bgcolor": "#E5ECF6",
          "polar": {
           "angularaxis": {
            "gridcolor": "white",
            "linecolor": "white",
            "ticks": ""
           },
           "bgcolor": "#E5ECF6",
           "radialaxis": {
            "gridcolor": "white",
            "linecolor": "white",
            "ticks": ""
           }
          },
          "scene": {
           "xaxis": {
            "backgroundcolor": "#E5ECF6",
            "gridcolor": "white",
            "gridwidth": 2,
            "linecolor": "white",
            "showbackground": true,
            "ticks": "",
            "zerolinecolor": "white"
           },
           "yaxis": {
            "backgroundcolor": "#E5ECF6",
            "gridcolor": "white",
            "gridwidth": 2,
            "linecolor": "white",
            "showbackground": true,
            "ticks": "",
            "zerolinecolor": "white"
           },
           "zaxis": {
            "backgroundcolor": "#E5ECF6",
            "gridcolor": "white",
            "gridwidth": 2,
            "linecolor": "white",
            "showbackground": true,
            "ticks": "",
            "zerolinecolor": "white"
           }
          },
          "shapedefaults": {
           "line": {
            "color": "#2a3f5f"
           }
          },
          "ternary": {
           "aaxis": {
            "gridcolor": "white",
            "linecolor": "white",
            "ticks": ""
           },
           "baxis": {
            "gridcolor": "white",
            "linecolor": "white",
            "ticks": ""
           },
           "bgcolor": "#E5ECF6",
           "caxis": {
            "gridcolor": "white",
            "linecolor": "white",
            "ticks": ""
           }
          },
          "title": {
           "x": 0.05
          },
          "xaxis": {
           "automargin": true,
           "gridcolor": "white",
           "linecolor": "white",
           "ticks": "",
           "title": {
            "standoff": 15
           },
           "zerolinecolor": "white",
           "zerolinewidth": 2
          },
          "yaxis": {
           "automargin": true,
           "gridcolor": "white",
           "linecolor": "white",
           "ticks": "",
           "title": {
            "standoff": 15
           },
           "zerolinecolor": "white",
           "zerolinewidth": 2
          }
         }
        },
        "title": {
         "text": "Players Performance Radar Chart"
        }
       }
      }
     },
     "metadata": {},
     "output_type": "display_data"
    }
   ],
   "source": [
    "import plotly.graph_objects as go\n",
    "\n",
    "player1 = 'JC Buttler'\n",
    "player2 = 'HH Pandya'\n",
    "# Define data for radar chart\n",
    "data = [\n",
    "    go.Scatterpolar(\n",
    "        r=[(batting_average[player1] * 1000 )/max_bat_avg, (batsman_strikerate[player1]*1000)/max_strike_rate, (player_of_match_count[player1]*1000)/max_player_awrds],\n",
    "        theta=['Average', 'StrikeRate', 'Player Of Match Count'],\n",
    "        fill='toself',\n",
    "        name=player1,\n",
    "        hovertext=[{\"Average\":batting_average[player1]},{\"Strike rate\":batsman_strikerate[player1]},{\"Player of match\":player_of_match_count[player1]}],\n",
    "        hovertemplate=\"%{hovertext}<extra></extra>\"\n",
    "    ),\n",
    "    go.Scatterpolar(\n",
    "        r=[(batting_average[player2] * 1000 )/max_bat_avg, (batsman_strikerate[player2]*1000)/max_strike_rate, (player_of_match_count[player2]*1000)/max_player_awrds],\n",
    "        theta=['Average', 'StrikeRate', 'Player Of Match Count'],\n",
    "        fill='toself',\n",
    "        name=player2,\n",
    "        hovertext=[{\"Average\":batting_average[player2] },{\"Strike rate\":batsman_strikerate[player2]},{\"Player of match\":player_of_match_count[player2]}],\n",
    "        hovertemplate=\"%{hovertext}<extra></extra>\"\n",
    "    )\n",
    "]\n",
    "\n",
    "# Define layout for radar chart\n",
    "layout = go.Layout(\n",
    "    polar=dict(\n",
    "        radialaxis=dict(\n",
    "            visible=True,\n",
    "            range=[0, 1000]\n",
    "        )\n",
    "    ),\n",
    "    showlegend=True,\n",
    "    title='Players Performance Radar Chart'\n",
    ")\n",
    "\n",
    "# Create figure and plot the radar chart\n",
    "fig = go.Figure(data=data, layout=layout)\n",
    "fig.show()"
   ]
  },
  {
   "cell_type": "code",
   "execution_count": 78,
   "metadata": {},
   "outputs": [
    {
     "data": {
      "application/vnd.plotly.v1+json": {
       "config": {
        "plotlyServerURL": "https://plot.ly"
       },
       "data": [
        {
         "fill": "toself",
         "name": "Strikerate",
         "r": [
          149.05008635578582,
          131.26684636118597
         ],
         "theta": [
          "Strikerate",
          "Strikerate"
         ],
         "type": "scatterpolar"
        },
        {
         "fill": "toself",
         "name": "Average",
         "r": [
          57.53333333333333,
          44.27272727272727
         ],
         "theta": [
          "Average",
          "Average"
         ],
         "type": "scatterpolar"
        },
        {
         "fill": "toself",
         "name": "Player of Match",
         "r": [
          3,
          2
         ],
         "theta": [
          "Player of Match",
          "Player of Match"
         ],
         "type": "scatterpolar"
        }
       ],
       "layout": {
        "polar": {
         "radialaxis": {
          "range": [
           0,
           240
          ],
          "visible": true
         }
        },
        "showlegend": true,
        "template": {
         "data": {
          "bar": [
           {
            "error_x": {
             "color": "#2a3f5f"
            },
            "error_y": {
             "color": "#2a3f5f"
            },
            "marker": {
             "line": {
              "color": "#E5ECF6",
              "width": 0.5
             },
             "pattern": {
              "fillmode": "overlay",
              "size": 10,
              "solidity": 0.2
             }
            },
            "type": "bar"
           }
          ],
          "barpolar": [
           {
            "marker": {
             "line": {
              "color": "#E5ECF6",
              "width": 0.5
             },
             "pattern": {
              "fillmode": "overlay",
              "size": 10,
              "solidity": 0.2
             }
            },
            "type": "barpolar"
           }
          ],
          "carpet": [
           {
            "aaxis": {
             "endlinecolor": "#2a3f5f",
             "gridcolor": "white",
             "linecolor": "white",
             "minorgridcolor": "white",
             "startlinecolor": "#2a3f5f"
            },
            "baxis": {
             "endlinecolor": "#2a3f5f",
             "gridcolor": "white",
             "linecolor": "white",
             "minorgridcolor": "white",
             "startlinecolor": "#2a3f5f"
            },
            "type": "carpet"
           }
          ],
          "choropleth": [
           {
            "colorbar": {
             "outlinewidth": 0,
             "ticks": ""
            },
            "type": "choropleth"
           }
          ],
          "contour": [
           {
            "colorbar": {
             "outlinewidth": 0,
             "ticks": ""
            },
            "colorscale": [
             [
              0,
              "#0d0887"
             ],
             [
              0.1111111111111111,
              "#46039f"
             ],
             [
              0.2222222222222222,
              "#7201a8"
             ],
             [
              0.3333333333333333,
              "#9c179e"
             ],
             [
              0.4444444444444444,
              "#bd3786"
             ],
             [
              0.5555555555555556,
              "#d8576b"
             ],
             [
              0.6666666666666666,
              "#ed7953"
             ],
             [
              0.7777777777777778,
              "#fb9f3a"
             ],
             [
              0.8888888888888888,
              "#fdca26"
             ],
             [
              1,
              "#f0f921"
             ]
            ],
            "type": "contour"
           }
          ],
          "contourcarpet": [
           {
            "colorbar": {
             "outlinewidth": 0,
             "ticks": ""
            },
            "type": "contourcarpet"
           }
          ],
          "heatmap": [
           {
            "colorbar": {
             "outlinewidth": 0,
             "ticks": ""
            },
            "colorscale": [
             [
              0,
              "#0d0887"
             ],
             [
              0.1111111111111111,
              "#46039f"
             ],
             [
              0.2222222222222222,
              "#7201a8"
             ],
             [
              0.3333333333333333,
              "#9c179e"
             ],
             [
              0.4444444444444444,
              "#bd3786"
             ],
             [
              0.5555555555555556,
              "#d8576b"
             ],
             [
              0.6666666666666666,
              "#ed7953"
             ],
             [
              0.7777777777777778,
              "#fb9f3a"
             ],
             [
              0.8888888888888888,
              "#fdca26"
             ],
             [
              1,
              "#f0f921"
             ]
            ],
            "type": "heatmap"
           }
          ],
          "heatmapgl": [
           {
            "colorbar": {
             "outlinewidth": 0,
             "ticks": ""
            },
            "colorscale": [
             [
              0,
              "#0d0887"
             ],
             [
              0.1111111111111111,
              "#46039f"
             ],
             [
              0.2222222222222222,
              "#7201a8"
             ],
             [
              0.3333333333333333,
              "#9c179e"
             ],
             [
              0.4444444444444444,
              "#bd3786"
             ],
             [
              0.5555555555555556,
              "#d8576b"
             ],
             [
              0.6666666666666666,
              "#ed7953"
             ],
             [
              0.7777777777777778,
              "#fb9f3a"
             ],
             [
              0.8888888888888888,
              "#fdca26"
             ],
             [
              1,
              "#f0f921"
             ]
            ],
            "type": "heatmapgl"
           }
          ],
          "histogram": [
           {
            "marker": {
             "pattern": {
              "fillmode": "overlay",
              "size": 10,
              "solidity": 0.2
             }
            },
            "type": "histogram"
           }
          ],
          "histogram2d": [
           {
            "colorbar": {
             "outlinewidth": 0,
             "ticks": ""
            },
            "colorscale": [
             [
              0,
              "#0d0887"
             ],
             [
              0.1111111111111111,
              "#46039f"
             ],
             [
              0.2222222222222222,
              "#7201a8"
             ],
             [
              0.3333333333333333,
              "#9c179e"
             ],
             [
              0.4444444444444444,
              "#bd3786"
             ],
             [
              0.5555555555555556,
              "#d8576b"
             ],
             [
              0.6666666666666666,
              "#ed7953"
             ],
             [
              0.7777777777777778,
              "#fb9f3a"
             ],
             [
              0.8888888888888888,
              "#fdca26"
             ],
             [
              1,
              "#f0f921"
             ]
            ],
            "type": "histogram2d"
           }
          ],
          "histogram2dcontour": [
           {
            "colorbar": {
             "outlinewidth": 0,
             "ticks": ""
            },
            "colorscale": [
             [
              0,
              "#0d0887"
             ],
             [
              0.1111111111111111,
              "#46039f"
             ],
             [
              0.2222222222222222,
              "#7201a8"
             ],
             [
              0.3333333333333333,
              "#9c179e"
             ],
             [
              0.4444444444444444,
              "#bd3786"
             ],
             [
              0.5555555555555556,
              "#d8576b"
             ],
             [
              0.6666666666666666,
              "#ed7953"
             ],
             [
              0.7777777777777778,
              "#fb9f3a"
             ],
             [
              0.8888888888888888,
              "#fdca26"
             ],
             [
              1,
              "#f0f921"
             ]
            ],
            "type": "histogram2dcontour"
           }
          ],
          "mesh3d": [
           {
            "colorbar": {
             "outlinewidth": 0,
             "ticks": ""
            },
            "type": "mesh3d"
           }
          ],
          "parcoords": [
           {
            "line": {
             "colorbar": {
              "outlinewidth": 0,
              "ticks": ""
             }
            },
            "type": "parcoords"
           }
          ],
          "pie": [
           {
            "automargin": true,
            "type": "pie"
           }
          ],
          "scatter": [
           {
            "fillpattern": {
             "fillmode": "overlay",
             "size": 10,
             "solidity": 0.2
            },
            "type": "scatter"
           }
          ],
          "scatter3d": [
           {
            "line": {
             "colorbar": {
              "outlinewidth": 0,
              "ticks": ""
             }
            },
            "marker": {
             "colorbar": {
              "outlinewidth": 0,
              "ticks": ""
             }
            },
            "type": "scatter3d"
           }
          ],
          "scattercarpet": [
           {
            "marker": {
             "colorbar": {
              "outlinewidth": 0,
              "ticks": ""
             }
            },
            "type": "scattercarpet"
           }
          ],
          "scattergeo": [
           {
            "marker": {
             "colorbar": {
              "outlinewidth": 0,
              "ticks": ""
             }
            },
            "type": "scattergeo"
           }
          ],
          "scattergl": [
           {
            "marker": {
             "colorbar": {
              "outlinewidth": 0,
              "ticks": ""
             }
            },
            "type": "scattergl"
           }
          ],
          "scattermapbox": [
           {
            "marker": {
             "colorbar": {
              "outlinewidth": 0,
              "ticks": ""
             }
            },
            "type": "scattermapbox"
           }
          ],
          "scatterpolar": [
           {
            "marker": {
             "colorbar": {
              "outlinewidth": 0,
              "ticks": ""
             }
            },
            "type": "scatterpolar"
           }
          ],
          "scatterpolargl": [
           {
            "marker": {
             "colorbar": {
              "outlinewidth": 0,
              "ticks": ""
             }
            },
            "type": "scatterpolargl"
           }
          ],
          "scatterternary": [
           {
            "marker": {
             "colorbar": {
              "outlinewidth": 0,
              "ticks": ""
             }
            },
            "type": "scatterternary"
           }
          ],
          "surface": [
           {
            "colorbar": {
             "outlinewidth": 0,
             "ticks": ""
            },
            "colorscale": [
             [
              0,
              "#0d0887"
             ],
             [
              0.1111111111111111,
              "#46039f"
             ],
             [
              0.2222222222222222,
              "#7201a8"
             ],
             [
              0.3333333333333333,
              "#9c179e"
             ],
             [
              0.4444444444444444,
              "#bd3786"
             ],
             [
              0.5555555555555556,
              "#d8576b"
             ],
             [
              0.6666666666666666,
              "#ed7953"
             ],
             [
              0.7777777777777778,
              "#fb9f3a"
             ],
             [
              0.8888888888888888,
              "#fdca26"
             ],
             [
              1,
              "#f0f921"
             ]
            ],
            "type": "surface"
           }
          ],
          "table": [
           {
            "cells": {
             "fill": {
              "color": "#EBF0F8"
             },
             "line": {
              "color": "white"
             }
            },
            "header": {
             "fill": {
              "color": "#C8D4E3"
             },
             "line": {
              "color": "white"
             }
            },
            "type": "table"
           }
          ]
         },
         "layout": {
          "annotationdefaults": {
           "arrowcolor": "#2a3f5f",
           "arrowhead": 0,
           "arrowwidth": 1
          },
          "autotypenumbers": "strict",
          "coloraxis": {
           "colorbar": {
            "outlinewidth": 0,
            "ticks": ""
           }
          },
          "colorscale": {
           "diverging": [
            [
             0,
             "#8e0152"
            ],
            [
             0.1,
             "#c51b7d"
            ],
            [
             0.2,
             "#de77ae"
            ],
            [
             0.3,
             "#f1b6da"
            ],
            [
             0.4,
             "#fde0ef"
            ],
            [
             0.5,
             "#f7f7f7"
            ],
            [
             0.6,
             "#e6f5d0"
            ],
            [
             0.7,
             "#b8e186"
            ],
            [
             0.8,
             "#7fbc41"
            ],
            [
             0.9,
             "#4d9221"
            ],
            [
             1,
             "#276419"
            ]
           ],
           "sequential": [
            [
             0,
             "#0d0887"
            ],
            [
             0.1111111111111111,
             "#46039f"
            ],
            [
             0.2222222222222222,
             "#7201a8"
            ],
            [
             0.3333333333333333,
             "#9c179e"
            ],
            [
             0.4444444444444444,
             "#bd3786"
            ],
            [
             0.5555555555555556,
             "#d8576b"
            ],
            [
             0.6666666666666666,
             "#ed7953"
            ],
            [
             0.7777777777777778,
             "#fb9f3a"
            ],
            [
             0.8888888888888888,
             "#fdca26"
            ],
            [
             1,
             "#f0f921"
            ]
           ],
           "sequentialminus": [
            [
             0,
             "#0d0887"
            ],
            [
             0.1111111111111111,
             "#46039f"
            ],
            [
             0.2222222222222222,
             "#7201a8"
            ],
            [
             0.3333333333333333,
             "#9c179e"
            ],
            [
             0.4444444444444444,
             "#bd3786"
            ],
            [
             0.5555555555555556,
             "#d8576b"
            ],
            [
             0.6666666666666666,
             "#ed7953"
            ],
            [
             0.7777777777777778,
             "#fb9f3a"
            ],
            [
             0.8888888888888888,
             "#fdca26"
            ],
            [
             1,
             "#f0f921"
            ]
           ]
          },
          "colorway": [
           "#636efa",
           "#EF553B",
           "#00cc96",
           "#ab63fa",
           "#FFA15A",
           "#19d3f3",
           "#FF6692",
           "#B6E880",
           "#FF97FF",
           "#FECB52"
          ],
          "font": {
           "color": "#2a3f5f"
          },
          "geo": {
           "bgcolor": "white",
           "lakecolor": "white",
           "landcolor": "#E5ECF6",
           "showlakes": true,
           "showland": true,
           "subunitcolor": "white"
          },
          "hoverlabel": {
           "align": "left"
          },
          "hovermode": "closest",
          "mapbox": {
           "style": "light"
          },
          "paper_bgcolor": "white",
          "plot_bgcolor": "#E5ECF6",
          "polar": {
           "angularaxis": {
            "gridcolor": "white",
            "linecolor": "white",
            "ticks": ""
           },
           "bgcolor": "#E5ECF6",
           "radialaxis": {
            "gridcolor": "white",
            "linecolor": "white",
            "ticks": ""
           }
          },
          "scene": {
           "xaxis": {
            "backgroundcolor": "#E5ECF6",
            "gridcolor": "white",
            "gridwidth": 2,
            "linecolor": "white",
            "showbackground": true,
            "ticks": "",
            "zerolinecolor": "white"
           },
           "yaxis": {
            "backgroundcolor": "#E5ECF6",
            "gridcolor": "white",
            "gridwidth": 2,
            "linecolor": "white",
            "showbackground": true,
            "ticks": "",
            "zerolinecolor": "white"
           },
           "zaxis": {
            "backgroundcolor": "#E5ECF6",
            "gridcolor": "white",
            "gridwidth": 2,
            "linecolor": "white",
            "showbackground": true,
            "ticks": "",
            "zerolinecolor": "white"
           }
          },
          "shapedefaults": {
           "line": {
            "color": "#2a3f5f"
           }
          },
          "ternary": {
           "aaxis": {
            "gridcolor": "white",
            "linecolor": "white",
            "ticks": ""
           },
           "baxis": {
            "gridcolor": "white",
            "linecolor": "white",
            "ticks": ""
           },
           "bgcolor": "#E5ECF6",
           "caxis": {
            "gridcolor": "white",
            "linecolor": "white",
            "ticks": ""
           }
          },
          "title": {
           "x": 0.05
          },
          "xaxis": {
           "automargin": true,
           "gridcolor": "white",
           "linecolor": "white",
           "ticks": "",
           "title": {
            "standoff": 15
           },
           "zerolinecolor": "white",
           "zerolinewidth": 2
          },
          "yaxis": {
           "automargin": true,
           "gridcolor": "white",
           "linecolor": "white",
           "ticks": "",
           "title": {
            "standoff": 15
           },
           "zerolinecolor": "white",
           "zerolinewidth": 2
          }
         }
        }
       }
      }
     },
     "metadata": {},
     "output_type": "display_data"
    }
   ],
   "source": [
    "import plotly.graph_objs as go\n",
    "\n",
    "fig = go.Figure()\n",
    "\n",
    "# add subplot for Strikerate\n",
    "fig.add_trace(go.Scatterpolar(\n",
    "        r=[batsman_strikerate[player1], batsman_strikerate[player2]],\n",
    "        theta=['Strikerate']*2,\n",
    "        fill='toself',\n",
    "        name='Strikerate'\n",
    "    ))\n",
    "\n",
    "# add subplot for Average\n",
    "fig.add_trace(go.Scatterpolar(\n",
    "        r=[batting_average[player1], batting_average[player2]],\n",
    "        theta=['Average']*2,\n",
    "        fill='toself',\n",
    "        name='Average'\n",
    "    ))\n",
    "\n",
    "# add subplot for Player of Match count\n",
    "fig.add_trace(go.Scatterpolar(\n",
    "        r=[ player_of_match_count[player1], player_of_match_count[player2]],\n",
    "        theta=['Player of Match']*2,\n",
    "        fill='toself',\n",
    "        name='Player of Match'\n",
    "    ))\n",
    "\n",
    "# update layout to show subplots\n",
    "fig.update_layout(\n",
    "    polar=dict(\n",
    "        radialaxis=dict(\n",
    "            visible=True,\n",
    "            range=[0, max(240,batsman_strikerate[player1], batsman_strikerate[player2], batting_average[player1], batting_average[player2],player_of_match_count[player1], player_of_match_count[player2])]\n",
    "        )),\n",
    "    showlegend=True,\n",
    "    # newshape=dict(line_color='red')\n",
    ")\n",
    "\n",
    "fig.show()\n"
   ]
  },
  {
   "cell_type": "code",
   "execution_count": 84,
   "metadata": {},
   "outputs": [
    {
     "ename": "ValueError",
     "evalue": "Invalid property specified for object of type plotly.graph_objs.Scatterpolar: 'range'\n\nDid you mean \"line\"?\n\n    Valid properties:\n        cliponaxis\n            Determines whether or not markers and text nodes are\n            clipped about the subplot axes. To show markers and\n            text nodes above axis lines and tick labels, make sure\n            to set `xaxis.layer` and `yaxis.layer` to *below\n            traces*.\n        connectgaps\n            Determines whether or not gaps (i.e. {nan} or missing\n            values) in the provided data arrays are connected.\n        customdata\n            Assigns extra data each datum. This may be useful when\n            listening to hover, click and selection events. Note\n            that, \"scatter\" traces also appends customdata items in\n            the markers DOM elements\n        customdatasrc\n            Sets the source reference on Chart Studio Cloud for\n            `customdata`.\n        dr\n            Sets the r coordinate step.\n        dtheta\n            Sets the theta coordinate step. By default, the\n            `dtheta` step equals the subplot's period divided by\n            the length of the `r` coordinates.\n        fill\n            Sets the area to fill with a solid color. Use with\n            `fillcolor` if not \"none\". scatterpolar has a subset of\n            the options available to scatter. \"toself\" connects the\n            endpoints of the trace (or each segment of the trace if\n            it has gaps) into a closed shape. \"tonext\" fills the\n            space between two traces if one completely encloses the\n            other (eg consecutive contour lines), and behaves like\n            \"toself\" if there is no trace before it. \"tonext\"\n            should not be used if one trace does not enclose the\n            other.\n        fillcolor\n            Sets the fill color. Defaults to a half-transparent\n            variant of the line color, marker color, or marker line\n            color, whichever is available.\n        hoverinfo\n            Determines which trace information appear on hover. If\n            `none` or `skip` are set, no information is displayed\n            upon hovering. But, if `none` is set, click and hover\n            events are still fired.\n        hoverinfosrc\n            Sets the source reference on Chart Studio Cloud for\n            `hoverinfo`.\n        hoverlabel\n            :class:`plotly.graph_objects.scatterpolar.Hoverlabel`\n            instance or dict with compatible properties\n        hoveron\n            Do the hover effects highlight individual points\n            (markers or line points) or do they highlight filled\n            regions? If the fill is \"toself\" or \"tonext\" and there\n            are no markers or text, then the default is \"fills\",\n            otherwise it is \"points\".\n        hovertemplate\n            Template string used for rendering the information that\n            appear on hover box. Note that this will override\n            `hoverinfo`. Variables are inserted using %{variable},\n            for example \"y: %{y}\" as well as %{xother}, {%_xother},\n            {%_xother_}, {%xother_}. When showing info for several\n            points, \"xother\" will be added to those with different\n            x positions from the first point. An underscore before\n            or after \"(x|y)other\" will add a space on that side,\n            only when this field is shown. Numbers are formatted\n            using d3-format's syntax %{variable:d3-format}, for\n            example \"Price: %{y:$.2f}\".\n            https://github.com/d3/d3-format/tree/v1.4.5#d3-format\n            for details on the formatting syntax. Dates are\n            formatted using d3-time-format's syntax\n            %{variable|d3-time-format}, for example \"Day:\n            %{2019-01-01|%A}\". https://github.com/d3/d3-time-\n            format/tree/v2.2.3#locale_format for details on the\n            date formatting syntax. The variables available in\n            `hovertemplate` are the ones emitted as event data\n            described at this link\n            https://plotly.com/javascript/plotlyjs-events/#event-\n            data. Additionally, every attributes that can be\n            specified per-point (the ones that are `arrayOk: true`)\n            are available.  Anything contained in tag `<extra>` is\n            displayed in the secondary box, for example\n            \"<extra>{fullData.name}</extra>\". To hide the secondary\n            box completely, use an empty tag `<extra></extra>`.\n        hovertemplatesrc\n            Sets the source reference on Chart Studio Cloud for\n            `hovertemplate`.\n        hovertext\n            Sets hover text elements associated with each (x,y)\n            pair. If a single string, the same string appears over\n            all the data points. If an array of string, the items\n            are mapped in order to the this trace's (x,y)\n            coordinates. To be seen, trace `hoverinfo` must contain\n            a \"text\" flag.\n        hovertextsrc\n            Sets the source reference on Chart Studio Cloud for\n            `hovertext`.\n        ids\n            Assigns id labels to each datum. These ids for object\n            constancy of data points during animation. Should be an\n            array of strings, not numbers or any other type.\n        idssrc\n            Sets the source reference on Chart Studio Cloud for\n            `ids`.\n        legendgroup\n            Sets the legend group for this trace. Traces part of\n            the same legend group hide/show at the same time when\n            toggling legend items.\n        legendgrouptitle\n            :class:`plotly.graph_objects.scatterpolar.Legendgroupti\n            tle` instance or dict with compatible properties\n        legendrank\n            Sets the legend rank for this trace. Items and groups\n            with smaller ranks are presented on top/left side while\n            with `*reversed* `legend.traceorder` they are on\n            bottom/right side. The default legendrank is 1000, so\n            that you can use ranks less than 1000 to place certain\n            items before all unranked items, and ranks greater than\n            1000 to go after all unranked items.\n        legendwidth\n            Sets the width (in px or fraction) of the legend for\n            this trace.\n        line\n            :class:`plotly.graph_objects.scatterpolar.Line`\n            instance or dict with compatible properties\n        marker\n            :class:`plotly.graph_objects.scatterpolar.Marker`\n            instance or dict with compatible properties\n        meta\n            Assigns extra meta information associated with this\n            trace that can be used in various text attributes.\n            Attributes such as trace `name`, graph, axis and\n            colorbar `title.text`, annotation `text`\n            `rangeselector`, `updatemenues` and `sliders` `label`\n            text all support `meta`. To access the trace `meta`\n            values in an attribute in the same trace, simply use\n            `%{meta[i]}` where `i` is the index or key of the\n            `meta` item in question. To access trace `meta` in\n            layout attributes, use `%{data[n[.meta[i]}` where `i`\n            is the index or key of the `meta` and `n` is the trace\n            index.\n        metasrc\n            Sets the source reference on Chart Studio Cloud for\n            `meta`.\n        mode\n            Determines the drawing mode for this scatter trace. If\n            the provided `mode` includes \"text\" then the `text`\n            elements appear at the coordinates. Otherwise, the\n            `text` elements appear on hover. If there are less than\n            20 points and the trace is not stacked then the default\n            is \"lines+markers\". Otherwise, \"lines\".\n        name\n            Sets the trace name. The trace name appear as the\n            legend item and on hover.\n        opacity\n            Sets the opacity of the trace.\n        r\n            Sets the radial coordinates\n        r0\n            Alternate to `r`. Builds a linear space of r\n            coordinates. Use with `dr` where `r0` is the starting\n            coordinate and `dr` the step.\n        rsrc\n            Sets the source reference on Chart Studio Cloud for\n            `r`.\n        selected\n            :class:`plotly.graph_objects.scatterpolar.Selected`\n            instance or dict with compatible properties\n        selectedpoints\n            Array containing integer indices of selected points.\n            Has an effect only for traces that support selections.\n            Note that an empty array means an empty selection where\n            the `unselected` are turned on for all points, whereas,\n            any other non-array values means no selection all where\n            the `selected` and `unselected` styles have no effect.\n        showlegend\n            Determines whether or not an item corresponding to this\n            trace is shown in the legend.\n        stream\n            :class:`plotly.graph_objects.scatterpolar.Stream`\n            instance or dict with compatible properties\n        subplot\n            Sets a reference between this trace's data coordinates\n            and a polar subplot. If \"polar\" (the default value),\n            the data refer to `layout.polar`. If \"polar2\", the data\n            refer to `layout.polar2`, and so on.\n        text\n            Sets text elements associated with each (x,y) pair. If\n            a single string, the same string appears over all the\n            data points. If an array of string, the items are\n            mapped in order to the this trace's (x,y) coordinates.\n            If trace `hoverinfo` contains a \"text\" flag and\n            \"hovertext\" is not set, these elements will be seen in\n            the hover labels.\n        textfont\n            Sets the text font.\n        textposition\n            Sets the positions of the `text` elements with respects\n            to the (x,y) coordinates.\n        textpositionsrc\n            Sets the source reference on Chart Studio Cloud for\n            `textposition`.\n        textsrc\n            Sets the source reference on Chart Studio Cloud for\n            `text`.\n        texttemplate\n            Template string used for rendering the information text\n            that appear on points. Note that this will override\n            `textinfo`. Variables are inserted using %{variable},\n            for example \"y: %{y}\". Numbers are formatted using\n            d3-format's syntax %{variable:d3-format}, for example\n            \"Price: %{y:$.2f}\".\n            https://github.com/d3/d3-format/tree/v1.4.5#d3-format\n            for details on the formatting syntax. Dates are\n            formatted using d3-time-format's syntax\n            %{variable|d3-time-format}, for example \"Day:\n            %{2019-01-01|%A}\". https://github.com/d3/d3-time-\n            format/tree/v2.2.3#locale_format for details on the\n            date formatting syntax. Every attributes that can be\n            specified per-point (the ones that are `arrayOk: true`)\n            are available. variables `r`, `theta` and `text`.\n        texttemplatesrc\n            Sets the source reference on Chart Studio Cloud for\n            `texttemplate`.\n        theta\n            Sets the angular coordinates\n        theta0\n            Alternate to `theta`. Builds a linear space of theta\n            coordinates. Use with `dtheta` where `theta0` is the\n            starting coordinate and `dtheta` the step.\n        thetasrc\n            Sets the source reference on Chart Studio Cloud for\n            `theta`.\n        thetaunit\n            Sets the unit of input \"theta\" values. Has an effect\n            only when on \"linear\" angular axes.\n        uid\n            Assign an id to this trace, Use this to provide object\n            constancy between traces during animations and\n            transitions.\n        uirevision\n            Controls persistence of some user-driven changes to the\n            trace: `constraintrange` in `parcoords` traces, as well\n            as some `editable: true` modifications such as `name`\n            and `colorbar.title`. Defaults to `layout.uirevision`.\n            Note that other user-driven trace attribute changes are\n            controlled by `layout` attributes: `trace.visible` is\n            controlled by `layout.legend.uirevision`,\n            `selectedpoints` is controlled by\n            `layout.selectionrevision`, and `colorbar.(x|y)`\n            (accessible with `config: {editable: true}`) is\n            controlled by `layout.editrevision`. Trace changes are\n            tracked by `uid`, which only falls back on trace index\n            if no `uid` is provided. So if your app can add/remove\n            traces before the end of the `data` array, such that\n            the same trace has a different index, you can still\n            preserve user-driven changes if you give each trace a\n            `uid` that stays with it as it moves.\n        unselected\n            :class:`plotly.graph_objects.scatterpolar.Unselected`\n            instance or dict with compatible properties\n        visible\n            Determines whether or not this trace is visible. If\n            \"legendonly\", the trace is not drawn, but can appear as\n            a legend item (provided that the legend itself is\n            visible).\n        \nDid you mean \"line\"?\n\nBad property path:\nrange_r\n^^^^^",
     "output_type": "error",
     "traceback": [
      "\u001b[1;31m---------------------------------------------------------------------------\u001b[0m",
      "\u001b[1;31mValueError\u001b[0m                                Traceback (most recent call last)",
      "\u001b[1;32mf:\\Mtech\\bigdataproj\\Bigdataproject\\batting_stats.ipynb Cell 21\u001b[0m in \u001b[0;36m<cell line: 5>\u001b[1;34m()\u001b[0m\n\u001b[0;32m      <a href='vscode-notebook-cell:/f%3A/Mtech/bigdataproj/Bigdataproject/batting_stats.ipynb#X26sZmlsZQ%3D%3D?line=0'>1</a>\u001b[0m \u001b[39mimport\u001b[39;00m \u001b[39mplotly\u001b[39;00m\u001b[39m.\u001b[39;00m\u001b[39mgraph_objects\u001b[39;00m \u001b[39mas\u001b[39;00m \u001b[39mgo\u001b[39;00m\n\u001b[0;32m      <a href='vscode-notebook-cell:/f%3A/Mtech/bigdataproj/Bigdataproject/batting_stats.ipynb#X26sZmlsZQ%3D%3D?line=2'>3</a>\u001b[0m fig \u001b[39m=\u001b[39m go\u001b[39m.\u001b[39mFigure()\n\u001b[1;32m----> <a href='vscode-notebook-cell:/f%3A/Mtech/bigdataproj/Bigdataproject/batting_stats.ipynb#X26sZmlsZQ%3D%3D?line=4'>5</a>\u001b[0m fig\u001b[39m.\u001b[39madd_trace(go\u001b[39m.\u001b[39;49mScatterpolar(\n\u001b[0;32m      <a href='vscode-notebook-cell:/f%3A/Mtech/bigdataproj/Bigdataproject/batting_stats.ipynb#X26sZmlsZQ%3D%3D?line=5'>6</a>\u001b[0m       r\u001b[39m=\u001b[39;49m[batting_average[player1], batsman_strikerate[player1], player_of_match_count[player1]],\n\u001b[0;32m      <a href='vscode-notebook-cell:/f%3A/Mtech/bigdataproj/Bigdataproject/batting_stats.ipynb#X26sZmlsZQ%3D%3D?line=6'>7</a>\u001b[0m       theta\u001b[39m=\u001b[39;49m[\u001b[39m'\u001b[39;49m\u001b[39mAverage\u001b[39;49m\u001b[39m'\u001b[39;49m, \u001b[39m'\u001b[39;49m\u001b[39mStrike_rate\u001b[39;49m\u001b[39m'\u001b[39;49m, \u001b[39m'\u001b[39;49m\u001b[39mPlayer of Match\u001b[39;49m\u001b[39m'\u001b[39;49m],\n\u001b[0;32m      <a href='vscode-notebook-cell:/f%3A/Mtech/bigdataproj/Bigdataproject/batting_stats.ipynb#X26sZmlsZQ%3D%3D?line=7'>8</a>\u001b[0m       fill\u001b[39m=\u001b[39;49m\u001b[39m'\u001b[39;49m\u001b[39mtoself\u001b[39;49m\u001b[39m'\u001b[39;49m,\n\u001b[0;32m      <a href='vscode-notebook-cell:/f%3A/Mtech/bigdataproj/Bigdataproject/batting_stats.ipynb#X26sZmlsZQ%3D%3D?line=8'>9</a>\u001b[0m       name\u001b[39m=\u001b[39;49mplayer1,\n\u001b[0;32m     <a href='vscode-notebook-cell:/f%3A/Mtech/bigdataproj/Bigdataproject/batting_stats.ipynb#X26sZmlsZQ%3D%3D?line=9'>10</a>\u001b[0m       range_r\u001b[39m=\u001b[39;49m[(\u001b[39m0\u001b[39;49m, \u001b[39m70\u001b[39;49m), (\u001b[39m0\u001b[39;49m, \u001b[39m250\u001b[39;49m), (\u001b[39m0\u001b[39;49m, \u001b[39m10\u001b[39;49m)]\n\u001b[0;32m     <a href='vscode-notebook-cell:/f%3A/Mtech/bigdataproj/Bigdataproject/batting_stats.ipynb#X26sZmlsZQ%3D%3D?line=10'>11</a>\u001b[0m ))\n\u001b[0;32m     <a href='vscode-notebook-cell:/f%3A/Mtech/bigdataproj/Bigdataproject/batting_stats.ipynb#X26sZmlsZQ%3D%3D?line=12'>13</a>\u001b[0m fig\u001b[39m.\u001b[39madd_trace(go\u001b[39m.\u001b[39mScatterpolar(\n\u001b[0;32m     <a href='vscode-notebook-cell:/f%3A/Mtech/bigdataproj/Bigdataproject/batting_stats.ipynb#X26sZmlsZQ%3D%3D?line=13'>14</a>\u001b[0m       r\u001b[39m=\u001b[39m[batting_average[player2], batsman_strikerate[player2], player_of_match_count[player2]],\n\u001b[0;32m     <a href='vscode-notebook-cell:/f%3A/Mtech/bigdataproj/Bigdataproject/batting_stats.ipynb#X26sZmlsZQ%3D%3D?line=14'>15</a>\u001b[0m       theta\u001b[39m=\u001b[39m[\u001b[39m'\u001b[39m\u001b[39mAverage\u001b[39m\u001b[39m'\u001b[39m, \u001b[39m'\u001b[39m\u001b[39mStrike_rate\u001b[39m\u001b[39m'\u001b[39m, \u001b[39m'\u001b[39m\u001b[39mPlayer of Match\u001b[39m\u001b[39m'\u001b[39m],\n\u001b[1;32m   (...)\u001b[0m\n\u001b[0;32m     <a href='vscode-notebook-cell:/f%3A/Mtech/bigdataproj/Bigdataproject/batting_stats.ipynb#X26sZmlsZQ%3D%3D?line=17'>18</a>\u001b[0m       range_r\u001b[39m=\u001b[39m[(\u001b[39m0\u001b[39m, \u001b[39m70\u001b[39m), (\u001b[39m0\u001b[39m, \u001b[39m250\u001b[39m), (\u001b[39m0\u001b[39m, \u001b[39m10\u001b[39m)]\n\u001b[0;32m     <a href='vscode-notebook-cell:/f%3A/Mtech/bigdataproj/Bigdataproject/batting_stats.ipynb#X26sZmlsZQ%3D%3D?line=18'>19</a>\u001b[0m ))\n\u001b[0;32m     <a href='vscode-notebook-cell:/f%3A/Mtech/bigdataproj/Bigdataproject/batting_stats.ipynb#X26sZmlsZQ%3D%3D?line=20'>21</a>\u001b[0m fig\u001b[39m.\u001b[39mupdate_layout(\n\u001b[0;32m     <a href='vscode-notebook-cell:/f%3A/Mtech/bigdataproj/Bigdataproject/batting_stats.ipynb#X26sZmlsZQ%3D%3D?line=21'>22</a>\u001b[0m   polar\u001b[39m=\u001b[39m\u001b[39mdict\u001b[39m(\n\u001b[0;32m     <a href='vscode-notebook-cell:/f%3A/Mtech/bigdataproj/Bigdataproject/batting_stats.ipynb#X26sZmlsZQ%3D%3D?line=22'>23</a>\u001b[0m     radialaxis\u001b[39m=\u001b[39m\u001b[39mdict\u001b[39m(\n\u001b[1;32m   (...)\u001b[0m\n\u001b[0;32m     <a href='vscode-notebook-cell:/f%3A/Mtech/bigdataproj/Bigdataproject/batting_stats.ipynb#X26sZmlsZQ%3D%3D?line=26'>27</a>\u001b[0m   showlegend\u001b[39m=\u001b[39m\u001b[39mTrue\u001b[39;00m\n\u001b[0;32m     <a href='vscode-notebook-cell:/f%3A/Mtech/bigdataproj/Bigdataproject/batting_stats.ipynb#X26sZmlsZQ%3D%3D?line=27'>28</a>\u001b[0m )\n",
      "File \u001b[1;32mc:\\Users\\manna\\AppData\\Local\\Programs\\Python\\Python39\\lib\\site-packages\\plotly\\graph_objs\\_scatterpolar.py:2474\u001b[0m, in \u001b[0;36mScatterpolar.__init__\u001b[1;34m(self, arg, cliponaxis, connectgaps, customdata, customdatasrc, dr, dtheta, fill, fillcolor, hoverinfo, hoverinfosrc, hoverlabel, hoveron, hovertemplate, hovertemplatesrc, hovertext, hovertextsrc, ids, idssrc, legendgroup, legendgrouptitle, legendrank, legendwidth, line, marker, meta, metasrc, mode, name, opacity, r, r0, rsrc, selected, selectedpoints, showlegend, stream, subplot, text, textfont, textposition, textpositionsrc, textsrc, texttemplate, texttemplatesrc, theta, theta0, thetasrc, thetaunit, uid, uirevision, unselected, visible, **kwargs)\u001b[0m\n\u001b[0;32m   2470\u001b[0m arg\u001b[39m.\u001b[39mpop(\u001b[39m\"\u001b[39m\u001b[39mtype\u001b[39m\u001b[39m\"\u001b[39m, \u001b[39mNone\u001b[39;00m)\n\u001b[0;32m   2472\u001b[0m \u001b[39m# Process unknown kwargs\u001b[39;00m\n\u001b[0;32m   2473\u001b[0m \u001b[39m# ----------------------\u001b[39;00m\n\u001b[1;32m-> 2474\u001b[0m \u001b[39mself\u001b[39m\u001b[39m.\u001b[39m_process_kwargs(\u001b[39m*\u001b[39m\u001b[39m*\u001b[39m\u001b[39mdict\u001b[39m(arg, \u001b[39m*\u001b[39m\u001b[39m*\u001b[39mkwargs))\n\u001b[0;32m   2476\u001b[0m \u001b[39m# Reset skip_invalid\u001b[39;00m\n\u001b[0;32m   2477\u001b[0m \u001b[39m# ------------------\u001b[39;00m\n\u001b[0;32m   2478\u001b[0m \u001b[39mself\u001b[39m\u001b[39m.\u001b[39m_skip_invalid \u001b[39m=\u001b[39m \u001b[39mFalse\u001b[39;00m\n",
      "File \u001b[1;32mc:\\Users\\manna\\AppData\\Local\\Programs\\Python\\Python39\\lib\\site-packages\\plotly\\basedatatypes.py:4368\u001b[0m, in \u001b[0;36mBasePlotlyType._process_kwargs\u001b[1;34m(self, **kwargs)\u001b[0m\n\u001b[0;32m   4366\u001b[0m     \u001b[39mself\u001b[39m[k] \u001b[39m=\u001b[39m v\n\u001b[0;32m   4367\u001b[0m \u001b[39melif\u001b[39;00m \u001b[39mnot\u001b[39;00m \u001b[39mself\u001b[39m\u001b[39m.\u001b[39m_skip_invalid:\n\u001b[1;32m-> 4368\u001b[0m     \u001b[39mraise\u001b[39;00m err\n",
      "\u001b[1;31mValueError\u001b[0m: Invalid property specified for object of type plotly.graph_objs.Scatterpolar: 'range'\n\nDid you mean \"line\"?\n\n    Valid properties:\n        cliponaxis\n            Determines whether or not markers and text nodes are\n            clipped about the subplot axes. To show markers and\n            text nodes above axis lines and tick labels, make sure\n            to set `xaxis.layer` and `yaxis.layer` to *below\n            traces*.\n        connectgaps\n            Determines whether or not gaps (i.e. {nan} or missing\n            values) in the provided data arrays are connected.\n        customdata\n            Assigns extra data each datum. This may be useful when\n            listening to hover, click and selection events. Note\n            that, \"scatter\" traces also appends customdata items in\n            the markers DOM elements\n        customdatasrc\n            Sets the source reference on Chart Studio Cloud for\n            `customdata`.\n        dr\n            Sets the r coordinate step.\n        dtheta\n            Sets the theta coordinate step. By default, the\n            `dtheta` step equals the subplot's period divided by\n            the length of the `r` coordinates.\n        fill\n            Sets the area to fill with a solid color. Use with\n            `fillcolor` if not \"none\". scatterpolar has a subset of\n            the options available to scatter. \"toself\" connects the\n            endpoints of the trace (or each segment of the trace if\n            it has gaps) into a closed shape. \"tonext\" fills the\n            space between two traces if one completely encloses the\n            other (eg consecutive contour lines), and behaves like\n            \"toself\" if there is no trace before it. \"tonext\"\n            should not be used if one trace does not enclose the\n            other.\n        fillcolor\n            Sets the fill color. Defaults to a half-transparent\n            variant of the line color, marker color, or marker line\n            color, whichever is available.\n        hoverinfo\n            Determines which trace information appear on hover. If\n            `none` or `skip` are set, no information is displayed\n            upon hovering. But, if `none` is set, click and hover\n            events are still fired.\n        hoverinfosrc\n            Sets the source reference on Chart Studio Cloud for\n            `hoverinfo`.\n        hoverlabel\n            :class:`plotly.graph_objects.scatterpolar.Hoverlabel`\n            instance or dict with compatible properties\n        hoveron\n            Do the hover effects highlight individual points\n            (markers or line points) or do they highlight filled\n            regions? If the fill is \"toself\" or \"tonext\" and there\n            are no markers or text, then the default is \"fills\",\n            otherwise it is \"points\".\n        hovertemplate\n            Template string used for rendering the information that\n            appear on hover box. Note that this will override\n            `hoverinfo`. Variables are inserted using %{variable},\n            for example \"y: %{y}\" as well as %{xother}, {%_xother},\n            {%_xother_}, {%xother_}. When showing info for several\n            points, \"xother\" will be added to those with different\n            x positions from the first point. An underscore before\n            or after \"(x|y)other\" will add a space on that side,\n            only when this field is shown. Numbers are formatted\n            using d3-format's syntax %{variable:d3-format}, for\n            example \"Price: %{y:$.2f}\".\n            https://github.com/d3/d3-format/tree/v1.4.5#d3-format\n            for details on the formatting syntax. Dates are\n            formatted using d3-time-format's syntax\n            %{variable|d3-time-format}, for example \"Day:\n            %{2019-01-01|%A}\". https://github.com/d3/d3-time-\n            format/tree/v2.2.3#locale_format for details on the\n            date formatting syntax. The variables available in\n            `hovertemplate` are the ones emitted as event data\n            described at this link\n            https://plotly.com/javascript/plotlyjs-events/#event-\n            data. Additionally, every attributes that can be\n            specified per-point (the ones that are `arrayOk: true`)\n            are available.  Anything contained in tag `<extra>` is\n            displayed in the secondary box, for example\n            \"<extra>{fullData.name}</extra>\". To hide the secondary\n            box completely, use an empty tag `<extra></extra>`.\n        hovertemplatesrc\n            Sets the source reference on Chart Studio Cloud for\n            `hovertemplate`.\n        hovertext\n            Sets hover text elements associated with each (x,y)\n            pair. If a single string, the same string appears over\n            all the data points. If an array of string, the items\n            are mapped in order to the this trace's (x,y)\n            coordinates. To be seen, trace `hoverinfo` must contain\n            a \"text\" flag.\n        hovertextsrc\n            Sets the source reference on Chart Studio Cloud for\n            `hovertext`.\n        ids\n            Assigns id labels to each datum. These ids for object\n            constancy of data points during animation. Should be an\n            array of strings, not numbers or any other type.\n        idssrc\n            Sets the source reference on Chart Studio Cloud for\n            `ids`.\n        legendgroup\n            Sets the legend group for this trace. Traces part of\n            the same legend group hide/show at the same time when\n            toggling legend items.\n        legendgrouptitle\n            :class:`plotly.graph_objects.scatterpolar.Legendgroupti\n            tle` instance or dict with compatible properties\n        legendrank\n            Sets the legend rank for this trace. Items and groups\n            with smaller ranks are presented on top/left side while\n            with `*reversed* `legend.traceorder` they are on\n            bottom/right side. The default legendrank is 1000, so\n            that you can use ranks less than 1000 to place certain\n            items before all unranked items, and ranks greater than\n            1000 to go after all unranked items.\n        legendwidth\n            Sets the width (in px or fraction) of the legend for\n            this trace.\n        line\n            :class:`plotly.graph_objects.scatterpolar.Line`\n            instance or dict with compatible properties\n        marker\n            :class:`plotly.graph_objects.scatterpolar.Marker`\n            instance or dict with compatible properties\n        meta\n            Assigns extra meta information associated with this\n            trace that can be used in various text attributes.\n            Attributes such as trace `name`, graph, axis and\n            colorbar `title.text`, annotation `text`\n            `rangeselector`, `updatemenues` and `sliders` `label`\n            text all support `meta`. To access the trace `meta`\n            values in an attribute in the same trace, simply use\n            `%{meta[i]}` where `i` is the index or key of the\n            `meta` item in question. To access trace `meta` in\n            layout attributes, use `%{data[n[.meta[i]}` where `i`\n            is the index or key of the `meta` and `n` is the trace\n            index.\n        metasrc\n            Sets the source reference on Chart Studio Cloud for\n            `meta`.\n        mode\n            Determines the drawing mode for this scatter trace. If\n            the provided `mode` includes \"text\" then the `text`\n            elements appear at the coordinates. Otherwise, the\n            `text` elements appear on hover. If there are less than\n            20 points and the trace is not stacked then the default\n            is \"lines+markers\". Otherwise, \"lines\".\n        name\n            Sets the trace name. The trace name appear as the\n            legend item and on hover.\n        opacity\n            Sets the opacity of the trace.\n        r\n            Sets the radial coordinates\n        r0\n            Alternate to `r`. Builds a linear space of r\n            coordinates. Use with `dr` where `r0` is the starting\n            coordinate and `dr` the step.\n        rsrc\n            Sets the source reference on Chart Studio Cloud for\n            `r`.\n        selected\n            :class:`plotly.graph_objects.scatterpolar.Selected`\n            instance or dict with compatible properties\n        selectedpoints\n            Array containing integer indices of selected points.\n            Has an effect only for traces that support selections.\n            Note that an empty array means an empty selection where\n            the `unselected` are turned on for all points, whereas,\n            any other non-array values means no selection all where\n            the `selected` and `unselected` styles have no effect.\n        showlegend\n            Determines whether or not an item corresponding to this\n            trace is shown in the legend.\n        stream\n            :class:`plotly.graph_objects.scatterpolar.Stream`\n            instance or dict with compatible properties\n        subplot\n            Sets a reference between this trace's data coordinates\n            and a polar subplot. If \"polar\" (the default value),\n            the data refer to `layout.polar`. If \"polar2\", the data\n            refer to `layout.polar2`, and so on.\n        text\n            Sets text elements associated with each (x,y) pair. If\n            a single string, the same string appears over all the\n            data points. If an array of string, the items are\n            mapped in order to the this trace's (x,y) coordinates.\n            If trace `hoverinfo` contains a \"text\" flag and\n            \"hovertext\" is not set, these elements will be seen in\n            the hover labels.\n        textfont\n            Sets the text font.\n        textposition\n            Sets the positions of the `text` elements with respects\n            to the (x,y) coordinates.\n        textpositionsrc\n            Sets the source reference on Chart Studio Cloud for\n            `textposition`.\n        textsrc\n            Sets the source reference on Chart Studio Cloud for\n            `text`.\n        texttemplate\n            Template string used for rendering the information text\n            that appear on points. Note that this will override\n            `textinfo`. Variables are inserted using %{variable},\n            for example \"y: %{y}\". Numbers are formatted using\n            d3-format's syntax %{variable:d3-format}, for example\n            \"Price: %{y:$.2f}\".\n            https://github.com/d3/d3-format/tree/v1.4.5#d3-format\n            for details on the formatting syntax. Dates are\n            formatted using d3-time-format's syntax\n            %{variable|d3-time-format}, for example \"Day:\n            %{2019-01-01|%A}\". https://github.com/d3/d3-time-\n            format/tree/v2.2.3#locale_format for details on the\n            date formatting syntax. Every attributes that can be\n            specified per-point (the ones that are `arrayOk: true`)\n            are available. variables `r`, `theta` and `text`.\n        texttemplatesrc\n            Sets the source reference on Chart Studio Cloud for\n            `texttemplate`.\n        theta\n            Sets the angular coordinates\n        theta0\n            Alternate to `theta`. Builds a linear space of theta\n            coordinates. Use with `dtheta` where `theta0` is the\n            starting coordinate and `dtheta` the step.\n        thetasrc\n            Sets the source reference on Chart Studio Cloud for\n            `theta`.\n        thetaunit\n            Sets the unit of input \"theta\" values. Has an effect\n            only when on \"linear\" angular axes.\n        uid\n            Assign an id to this trace, Use this to provide object\n            constancy between traces during animations and\n            transitions.\n        uirevision\n            Controls persistence of some user-driven changes to the\n            trace: `constraintrange` in `parcoords` traces, as well\n            as some `editable: true` modifications such as `name`\n            and `colorbar.title`. Defaults to `layout.uirevision`.\n            Note that other user-driven trace attribute changes are\n            controlled by `layout` attributes: `trace.visible` is\n            controlled by `layout.legend.uirevision`,\n            `selectedpoints` is controlled by\n            `layout.selectionrevision`, and `colorbar.(x|y)`\n            (accessible with `config: {editable: true}`) is\n            controlled by `layout.editrevision`. Trace changes are\n            tracked by `uid`, which only falls back on trace index\n            if no `uid` is provided. So if your app can add/remove\n            traces before the end of the `data` array, such that\n            the same trace has a different index, you can still\n            preserve user-driven changes if you give each trace a\n            `uid` that stays with it as it moves.\n        unselected\n            :class:`plotly.graph_objects.scatterpolar.Unselected`\n            instance or dict with compatible properties\n        visible\n            Determines whether or not this trace is visible. If\n            \"legendonly\", the trace is not drawn, but can appear as\n            a legend item (provided that the legend itself is\n            visible).\n        \nDid you mean \"line\"?\n\nBad property path:\nrange_r\n^^^^^"
     ]
    }
   ],
   "source": [
    "import plotly.graph_objects as go\n",
    "\n",
    "fig = go.Figure()\n",
    "\n",
    "fig.add_trace(go.Scatterpolar(\n",
    "      r=[batting_average[player1], batsman_strikerate[player1], player_of_match_count[player1]],\n",
    "      theta=['Average', 'Strike_rate', 'Player of Match'],\n",
    "      fill='toself',\n",
    "      name=player1,\n",
    "      range_r=[(0, 70), (0, 250), (0, 10)]\n",
    "))\n",
    "\n",
    "fig.add_trace(go.Scatterpolar(\n",
    "      r=[batting_average[player2], batsman_strikerate[player2], player_of_match_count[player2]],\n",
    "      theta=['Average', 'Strike_rate', 'Player of Match'],\n",
    "      fill='toself',\n",
    "      name=player2,\n",
    "      range_r=[(0, 70), (0, 250), (0, 10)]\n",
    "))\n",
    "\n",
    "fig.update_layout(\n",
    "  polar=dict(\n",
    "    radialaxis=dict(\n",
    "      visible=True,\n",
    "      range=[0, 250]\n",
    "    )),\n",
    "  showlegend=True\n",
    ")\n",
    "\n",
    "fig.show()\n"
   ]
  },
  {
   "cell_type": "code",
   "execution_count": 85,
   "metadata": {},
   "outputs": [
    {
     "ename": "ValueError",
     "evalue": "Invalid property specified for object of type plotly.graph_objs.Scatterpolar: 'range'\n\nDid you mean \"line\"?\n\n    Valid properties:\n        cliponaxis\n            Determines whether or not markers and text nodes are\n            clipped about the subplot axes. To show markers and\n            text nodes above axis lines and tick labels, make sure\n            to set `xaxis.layer` and `yaxis.layer` to *below\n            traces*.\n        connectgaps\n            Determines whether or not gaps (i.e. {nan} or missing\n            values) in the provided data arrays are connected.\n        customdata\n            Assigns extra data each datum. This may be useful when\n            listening to hover, click and selection events. Note\n            that, \"scatter\" traces also appends customdata items in\n            the markers DOM elements\n        customdatasrc\n            Sets the source reference on Chart Studio Cloud for\n            `customdata`.\n        dr\n            Sets the r coordinate step.\n        dtheta\n            Sets the theta coordinate step. By default, the\n            `dtheta` step equals the subplot's period divided by\n            the length of the `r` coordinates.\n        fill\n            Sets the area to fill with a solid color. Use with\n            `fillcolor` if not \"none\". scatterpolar has a subset of\n            the options available to scatter. \"toself\" connects the\n            endpoints of the trace (or each segment of the trace if\n            it has gaps) into a closed shape. \"tonext\" fills the\n            space between two traces if one completely encloses the\n            other (eg consecutive contour lines), and behaves like\n            \"toself\" if there is no trace before it. \"tonext\"\n            should not be used if one trace does not enclose the\n            other.\n        fillcolor\n            Sets the fill color. Defaults to a half-transparent\n            variant of the line color, marker color, or marker line\n            color, whichever is available.\n        hoverinfo\n            Determines which trace information appear on hover. If\n            `none` or `skip` are set, no information is displayed\n            upon hovering. But, if `none` is set, click and hover\n            events are still fired.\n        hoverinfosrc\n            Sets the source reference on Chart Studio Cloud for\n            `hoverinfo`.\n        hoverlabel\n            :class:`plotly.graph_objects.scatterpolar.Hoverlabel`\n            instance or dict with compatible properties\n        hoveron\n            Do the hover effects highlight individual points\n            (markers or line points) or do they highlight filled\n            regions? If the fill is \"toself\" or \"tonext\" and there\n            are no markers or text, then the default is \"fills\",\n            otherwise it is \"points\".\n        hovertemplate\n            Template string used for rendering the information that\n            appear on hover box. Note that this will override\n            `hoverinfo`. Variables are inserted using %{variable},\n            for example \"y: %{y}\" as well as %{xother}, {%_xother},\n            {%_xother_}, {%xother_}. When showing info for several\n            points, \"xother\" will be added to those with different\n            x positions from the first point. An underscore before\n            or after \"(x|y)other\" will add a space on that side,\n            only when this field is shown. Numbers are formatted\n            using d3-format's syntax %{variable:d3-format}, for\n            example \"Price: %{y:$.2f}\".\n            https://github.com/d3/d3-format/tree/v1.4.5#d3-format\n            for details on the formatting syntax. Dates are\n            formatted using d3-time-format's syntax\n            %{variable|d3-time-format}, for example \"Day:\n            %{2019-01-01|%A}\". https://github.com/d3/d3-time-\n            format/tree/v2.2.3#locale_format for details on the\n            date formatting syntax. The variables available in\n            `hovertemplate` are the ones emitted as event data\n            described at this link\n            https://plotly.com/javascript/plotlyjs-events/#event-\n            data. Additionally, every attributes that can be\n            specified per-point (the ones that are `arrayOk: true`)\n            are available.  Anything contained in tag `<extra>` is\n            displayed in the secondary box, for example\n            \"<extra>{fullData.name}</extra>\". To hide the secondary\n            box completely, use an empty tag `<extra></extra>`.\n        hovertemplatesrc\n            Sets the source reference on Chart Studio Cloud for\n            `hovertemplate`.\n        hovertext\n            Sets hover text elements associated with each (x,y)\n            pair. If a single string, the same string appears over\n            all the data points. If an array of string, the items\n            are mapped in order to the this trace's (x,y)\n            coordinates. To be seen, trace `hoverinfo` must contain\n            a \"text\" flag.\n        hovertextsrc\n            Sets the source reference on Chart Studio Cloud for\n            `hovertext`.\n        ids\n            Assigns id labels to each datum. These ids for object\n            constancy of data points during animation. Should be an\n            array of strings, not numbers or any other type.\n        idssrc\n            Sets the source reference on Chart Studio Cloud for\n            `ids`.\n        legendgroup\n            Sets the legend group for this trace. Traces part of\n            the same legend group hide/show at the same time when\n            toggling legend items.\n        legendgrouptitle\n            :class:`plotly.graph_objects.scatterpolar.Legendgroupti\n            tle` instance or dict with compatible properties\n        legendrank\n            Sets the legend rank for this trace. Items and groups\n            with smaller ranks are presented on top/left side while\n            with `*reversed* `legend.traceorder` they are on\n            bottom/right side. The default legendrank is 1000, so\n            that you can use ranks less than 1000 to place certain\n            items before all unranked items, and ranks greater than\n            1000 to go after all unranked items.\n        legendwidth\n            Sets the width (in px or fraction) of the legend for\n            this trace.\n        line\n            :class:`plotly.graph_objects.scatterpolar.Line`\n            instance or dict with compatible properties\n        marker\n            :class:`plotly.graph_objects.scatterpolar.Marker`\n            instance or dict with compatible properties\n        meta\n            Assigns extra meta information associated with this\n            trace that can be used in various text attributes.\n            Attributes such as trace `name`, graph, axis and\n            colorbar `title.text`, annotation `text`\n            `rangeselector`, `updatemenues` and `sliders` `label`\n            text all support `meta`. To access the trace `meta`\n            values in an attribute in the same trace, simply use\n            `%{meta[i]}` where `i` is the index or key of the\n            `meta` item in question. To access trace `meta` in\n            layout attributes, use `%{data[n[.meta[i]}` where `i`\n            is the index or key of the `meta` and `n` is the trace\n            index.\n        metasrc\n            Sets the source reference on Chart Studio Cloud for\n            `meta`.\n        mode\n            Determines the drawing mode for this scatter trace. If\n            the provided `mode` includes \"text\" then the `text`\n            elements appear at the coordinates. Otherwise, the\n            `text` elements appear on hover. If there are less than\n            20 points and the trace is not stacked then the default\n            is \"lines+markers\". Otherwise, \"lines\".\n        name\n            Sets the trace name. The trace name appear as the\n            legend item and on hover.\n        opacity\n            Sets the opacity of the trace.\n        r\n            Sets the radial coordinates\n        r0\n            Alternate to `r`. Builds a linear space of r\n            coordinates. Use with `dr` where `r0` is the starting\n            coordinate and `dr` the step.\n        rsrc\n            Sets the source reference on Chart Studio Cloud for\n            `r`.\n        selected\n            :class:`plotly.graph_objects.scatterpolar.Selected`\n            instance or dict with compatible properties\n        selectedpoints\n            Array containing integer indices of selected points.\n            Has an effect only for traces that support selections.\n            Note that an empty array means an empty selection where\n            the `unselected` are turned on for all points, whereas,\n            any other non-array values means no selection all where\n            the `selected` and `unselected` styles have no effect.\n        showlegend\n            Determines whether or not an item corresponding to this\n            trace is shown in the legend.\n        stream\n            :class:`plotly.graph_objects.scatterpolar.Stream`\n            instance or dict with compatible properties\n        subplot\n            Sets a reference between this trace's data coordinates\n            and a polar subplot. If \"polar\" (the default value),\n            the data refer to `layout.polar`. If \"polar2\", the data\n            refer to `layout.polar2`, and so on.\n        text\n            Sets text elements associated with each (x,y) pair. If\n            a single string, the same string appears over all the\n            data points. If an array of string, the items are\n            mapped in order to the this trace's (x,y) coordinates.\n            If trace `hoverinfo` contains a \"text\" flag and\n            \"hovertext\" is not set, these elements will be seen in\n            the hover labels.\n        textfont\n            Sets the text font.\n        textposition\n            Sets the positions of the `text` elements with respects\n            to the (x,y) coordinates.\n        textpositionsrc\n            Sets the source reference on Chart Studio Cloud for\n            `textposition`.\n        textsrc\n            Sets the source reference on Chart Studio Cloud for\n            `text`.\n        texttemplate\n            Template string used for rendering the information text\n            that appear on points. Note that this will override\n            `textinfo`. Variables are inserted using %{variable},\n            for example \"y: %{y}\". Numbers are formatted using\n            d3-format's syntax %{variable:d3-format}, for example\n            \"Price: %{y:$.2f}\".\n            https://github.com/d3/d3-format/tree/v1.4.5#d3-format\n            for details on the formatting syntax. Dates are\n            formatted using d3-time-format's syntax\n            %{variable|d3-time-format}, for example \"Day:\n            %{2019-01-01|%A}\". https://github.com/d3/d3-time-\n            format/tree/v2.2.3#locale_format for details on the\n            date formatting syntax. Every attributes that can be\n            specified per-point (the ones that are `arrayOk: true`)\n            are available. variables `r`, `theta` and `text`.\n        texttemplatesrc\n            Sets the source reference on Chart Studio Cloud for\n            `texttemplate`.\n        theta\n            Sets the angular coordinates\n        theta0\n            Alternate to `theta`. Builds a linear space of theta\n            coordinates. Use with `dtheta` where `theta0` is the\n            starting coordinate and `dtheta` the step.\n        thetasrc\n            Sets the source reference on Chart Studio Cloud for\n            `theta`.\n        thetaunit\n            Sets the unit of input \"theta\" values. Has an effect\n            only when on \"linear\" angular axes.\n        uid\n            Assign an id to this trace, Use this to provide object\n            constancy between traces during animations and\n            transitions.\n        uirevision\n            Controls persistence of some user-driven changes to the\n            trace: `constraintrange` in `parcoords` traces, as well\n            as some `editable: true` modifications such as `name`\n            and `colorbar.title`. Defaults to `layout.uirevision`.\n            Note that other user-driven trace attribute changes are\n            controlled by `layout` attributes: `trace.visible` is\n            controlled by `layout.legend.uirevision`,\n            `selectedpoints` is controlled by\n            `layout.selectionrevision`, and `colorbar.(x|y)`\n            (accessible with `config: {editable: true}`) is\n            controlled by `layout.editrevision`. Trace changes are\n            tracked by `uid`, which only falls back on trace index\n            if no `uid` is provided. So if your app can add/remove\n            traces before the end of the `data` array, such that\n            the same trace has a different index, you can still\n            preserve user-driven changes if you give each trace a\n            `uid` that stays with it as it moves.\n        unselected\n            :class:`plotly.graph_objects.scatterpolar.Unselected`\n            instance or dict with compatible properties\n        visible\n            Determines whether or not this trace is visible. If\n            \"legendonly\", the trace is not drawn, but can appear as\n            a legend item (provided that the legend itself is\n            visible).\n        \nDid you mean \"line\"?\n\nBad property path:\nrange_r\n^^^^^",
     "output_type": "error",
     "traceback": [
      "\u001b[1;31m---------------------------------------------------------------------------\u001b[0m",
      "\u001b[1;31mValueError\u001b[0m                                Traceback (most recent call last)",
      "\u001b[1;32mf:\\Mtech\\bigdataproj\\Bigdataproject\\batting_stats.ipynb Cell 22\u001b[0m in \u001b[0;36m<cell line: 13>\u001b[1;34m()\u001b[0m\n\u001b[0;32m     <a href='vscode-notebook-cell:/f%3A/Mtech/bigdataproj/Bigdataproject/batting_stats.ipynb#X30sZmlsZQ%3D%3D?line=9'>10</a>\u001b[0m range_pom \u001b[39m=\u001b[39m [\u001b[39m0\u001b[39m, \u001b[39m10\u001b[39m]\n\u001b[0;32m     <a href='vscode-notebook-cell:/f%3A/Mtech/bigdataproj/Bigdataproject/batting_stats.ipynb#X30sZmlsZQ%3D%3D?line=11'>12</a>\u001b[0m \u001b[39m# Create traces for each player\u001b[39;00m\n\u001b[1;32m---> <a href='vscode-notebook-cell:/f%3A/Mtech/bigdataproj/Bigdataproject/batting_stats.ipynb#X30sZmlsZQ%3D%3D?line=12'>13</a>\u001b[0m trace1 \u001b[39m=\u001b[39m go\u001b[39m.\u001b[39;49mScatterpolar(\n\u001b[0;32m     <a href='vscode-notebook-cell:/f%3A/Mtech/bigdataproj/Bigdataproject/batting_stats.ipynb#X30sZmlsZQ%3D%3D?line=13'>14</a>\u001b[0m     r\u001b[39m=\u001b[39;49m[player1[\u001b[39m'\u001b[39;49m\u001b[39mStrike Rate\u001b[39;49m\u001b[39m'\u001b[39;49m], player1[\u001b[39m'\u001b[39;49m\u001b[39mAverage\u001b[39;49m\u001b[39m'\u001b[39;49m], player1[\u001b[39m'\u001b[39;49m\u001b[39mPlayer of Match\u001b[39;49m\u001b[39m'\u001b[39;49m]],\n\u001b[0;32m     <a href='vscode-notebook-cell:/f%3A/Mtech/bigdataproj/Bigdataproject/batting_stats.ipynb#X30sZmlsZQ%3D%3D?line=14'>15</a>\u001b[0m     theta\u001b[39m=\u001b[39;49m[\u001b[39m'\u001b[39;49m\u001b[39mStrike Rate\u001b[39;49m\u001b[39m'\u001b[39;49m, \u001b[39m'\u001b[39;49m\u001b[39mAverage\u001b[39;49m\u001b[39m'\u001b[39;49m, \u001b[39m'\u001b[39;49m\u001b[39mPlayer of Match\u001b[39;49m\u001b[39m'\u001b[39;49m],\n\u001b[0;32m     <a href='vscode-notebook-cell:/f%3A/Mtech/bigdataproj/Bigdataproject/batting_stats.ipynb#X30sZmlsZQ%3D%3D?line=15'>16</a>\u001b[0m     fill\u001b[39m=\u001b[39;49m\u001b[39m'\u001b[39;49m\u001b[39mtoself\u001b[39;49m\u001b[39m'\u001b[39;49m,\n\u001b[0;32m     <a href='vscode-notebook-cell:/f%3A/Mtech/bigdataproj/Bigdataproject/batting_stats.ipynb#X30sZmlsZQ%3D%3D?line=16'>17</a>\u001b[0m     name\u001b[39m=\u001b[39;49m\u001b[39m'\u001b[39;49m\u001b[39mPlayer 1\u001b[39;49m\u001b[39m'\u001b[39;49m,\n\u001b[0;32m     <a href='vscode-notebook-cell:/f%3A/Mtech/bigdataproj/Bigdataproject/batting_stats.ipynb#X30sZmlsZQ%3D%3D?line=17'>18</a>\u001b[0m     range_r\u001b[39m=\u001b[39;49mrange_strike_rate\n\u001b[0;32m     <a href='vscode-notebook-cell:/f%3A/Mtech/bigdataproj/Bigdataproject/batting_stats.ipynb#X30sZmlsZQ%3D%3D?line=18'>19</a>\u001b[0m )\n\u001b[0;32m     <a href='vscode-notebook-cell:/f%3A/Mtech/bigdataproj/Bigdataproject/batting_stats.ipynb#X30sZmlsZQ%3D%3D?line=19'>20</a>\u001b[0m trace2 \u001b[39m=\u001b[39m go\u001b[39m.\u001b[39mScatterpolar(\n\u001b[0;32m     <a href='vscode-notebook-cell:/f%3A/Mtech/bigdataproj/Bigdataproject/batting_stats.ipynb#X30sZmlsZQ%3D%3D?line=20'>21</a>\u001b[0m     r\u001b[39m=\u001b[39m[player2[\u001b[39m'\u001b[39m\u001b[39mStrike Rate\u001b[39m\u001b[39m'\u001b[39m], player2[\u001b[39m'\u001b[39m\u001b[39mAverage\u001b[39m\u001b[39m'\u001b[39m], player2[\u001b[39m'\u001b[39m\u001b[39mPlayer of Match\u001b[39m\u001b[39m'\u001b[39m]],\n\u001b[0;32m     <a href='vscode-notebook-cell:/f%3A/Mtech/bigdataproj/Bigdataproject/batting_stats.ipynb#X30sZmlsZQ%3D%3D?line=21'>22</a>\u001b[0m     theta\u001b[39m=\u001b[39m[\u001b[39m'\u001b[39m\u001b[39mStrike Rate\u001b[39m\u001b[39m'\u001b[39m, \u001b[39m'\u001b[39m\u001b[39mAverage\u001b[39m\u001b[39m'\u001b[39m, \u001b[39m'\u001b[39m\u001b[39mPlayer of Match\u001b[39m\u001b[39m'\u001b[39m],\n\u001b[1;32m   (...)\u001b[0m\n\u001b[0;32m     <a href='vscode-notebook-cell:/f%3A/Mtech/bigdataproj/Bigdataproject/batting_stats.ipynb#X30sZmlsZQ%3D%3D?line=24'>25</a>\u001b[0m     range_r\u001b[39m=\u001b[39mrange_average\n\u001b[0;32m     <a href='vscode-notebook-cell:/f%3A/Mtech/bigdataproj/Bigdataproject/batting_stats.ipynb#X30sZmlsZQ%3D%3D?line=25'>26</a>\u001b[0m )\n\u001b[0;32m     <a href='vscode-notebook-cell:/f%3A/Mtech/bigdataproj/Bigdataproject/batting_stats.ipynb#X30sZmlsZQ%3D%3D?line=27'>28</a>\u001b[0m \u001b[39m# Create layout\u001b[39;00m\n",
      "File \u001b[1;32mc:\\Users\\manna\\AppData\\Local\\Programs\\Python\\Python39\\lib\\site-packages\\plotly\\graph_objs\\_scatterpolar.py:2474\u001b[0m, in \u001b[0;36mScatterpolar.__init__\u001b[1;34m(self, arg, cliponaxis, connectgaps, customdata, customdatasrc, dr, dtheta, fill, fillcolor, hoverinfo, hoverinfosrc, hoverlabel, hoveron, hovertemplate, hovertemplatesrc, hovertext, hovertextsrc, ids, idssrc, legendgroup, legendgrouptitle, legendrank, legendwidth, line, marker, meta, metasrc, mode, name, opacity, r, r0, rsrc, selected, selectedpoints, showlegend, stream, subplot, text, textfont, textposition, textpositionsrc, textsrc, texttemplate, texttemplatesrc, theta, theta0, thetasrc, thetaunit, uid, uirevision, unselected, visible, **kwargs)\u001b[0m\n\u001b[0;32m   2470\u001b[0m arg\u001b[39m.\u001b[39mpop(\u001b[39m\"\u001b[39m\u001b[39mtype\u001b[39m\u001b[39m\"\u001b[39m, \u001b[39mNone\u001b[39;00m)\n\u001b[0;32m   2472\u001b[0m \u001b[39m# Process unknown kwargs\u001b[39;00m\n\u001b[0;32m   2473\u001b[0m \u001b[39m# ----------------------\u001b[39;00m\n\u001b[1;32m-> 2474\u001b[0m \u001b[39mself\u001b[39m\u001b[39m.\u001b[39m_process_kwargs(\u001b[39m*\u001b[39m\u001b[39m*\u001b[39m\u001b[39mdict\u001b[39m(arg, \u001b[39m*\u001b[39m\u001b[39m*\u001b[39mkwargs))\n\u001b[0;32m   2476\u001b[0m \u001b[39m# Reset skip_invalid\u001b[39;00m\n\u001b[0;32m   2477\u001b[0m \u001b[39m# ------------------\u001b[39;00m\n\u001b[0;32m   2478\u001b[0m \u001b[39mself\u001b[39m\u001b[39m.\u001b[39m_skip_invalid \u001b[39m=\u001b[39m \u001b[39mFalse\u001b[39;00m\n",
      "File \u001b[1;32mc:\\Users\\manna\\AppData\\Local\\Programs\\Python\\Python39\\lib\\site-packages\\plotly\\basedatatypes.py:4368\u001b[0m, in \u001b[0;36mBasePlotlyType._process_kwargs\u001b[1;34m(self, **kwargs)\u001b[0m\n\u001b[0;32m   4366\u001b[0m     \u001b[39mself\u001b[39m[k] \u001b[39m=\u001b[39m v\n\u001b[0;32m   4367\u001b[0m \u001b[39melif\u001b[39;00m \u001b[39mnot\u001b[39;00m \u001b[39mself\u001b[39m\u001b[39m.\u001b[39m_skip_invalid:\n\u001b[1;32m-> 4368\u001b[0m     \u001b[39mraise\u001b[39;00m err\n",
      "\u001b[1;31mValueError\u001b[0m: Invalid property specified for object of type plotly.graph_objs.Scatterpolar: 'range'\n\nDid you mean \"line\"?\n\n    Valid properties:\n        cliponaxis\n            Determines whether or not markers and text nodes are\n            clipped about the subplot axes. To show markers and\n            text nodes above axis lines and tick labels, make sure\n            to set `xaxis.layer` and `yaxis.layer` to *below\n            traces*.\n        connectgaps\n            Determines whether or not gaps (i.e. {nan} or missing\n            values) in the provided data arrays are connected.\n        customdata\n            Assigns extra data each datum. This may be useful when\n            listening to hover, click and selection events. Note\n            that, \"scatter\" traces also appends customdata items in\n            the markers DOM elements\n        customdatasrc\n            Sets the source reference on Chart Studio Cloud for\n            `customdata`.\n        dr\n            Sets the r coordinate step.\n        dtheta\n            Sets the theta coordinate step. By default, the\n            `dtheta` step equals the subplot's period divided by\n            the length of the `r` coordinates.\n        fill\n            Sets the area to fill with a solid color. Use with\n            `fillcolor` if not \"none\". scatterpolar has a subset of\n            the options available to scatter. \"toself\" connects the\n            endpoints of the trace (or each segment of the trace if\n            it has gaps) into a closed shape. \"tonext\" fills the\n            space between two traces if one completely encloses the\n            other (eg consecutive contour lines), and behaves like\n            \"toself\" if there is no trace before it. \"tonext\"\n            should not be used if one trace does not enclose the\n            other.\n        fillcolor\n            Sets the fill color. Defaults to a half-transparent\n            variant of the line color, marker color, or marker line\n            color, whichever is available.\n        hoverinfo\n            Determines which trace information appear on hover. If\n            `none` or `skip` are set, no information is displayed\n            upon hovering. But, if `none` is set, click and hover\n            events are still fired.\n        hoverinfosrc\n            Sets the source reference on Chart Studio Cloud for\n            `hoverinfo`.\n        hoverlabel\n            :class:`plotly.graph_objects.scatterpolar.Hoverlabel`\n            instance or dict with compatible properties\n        hoveron\n            Do the hover effects highlight individual points\n            (markers or line points) or do they highlight filled\n            regions? If the fill is \"toself\" or \"tonext\" and there\n            are no markers or text, then the default is \"fills\",\n            otherwise it is \"points\".\n        hovertemplate\n            Template string used for rendering the information that\n            appear on hover box. Note that this will override\n            `hoverinfo`. Variables are inserted using %{variable},\n            for example \"y: %{y}\" as well as %{xother}, {%_xother},\n            {%_xother_}, {%xother_}. When showing info for several\n            points, \"xother\" will be added to those with different\n            x positions from the first point. An underscore before\n            or after \"(x|y)other\" will add a space on that side,\n            only when this field is shown. Numbers are formatted\n            using d3-format's syntax %{variable:d3-format}, for\n            example \"Price: %{y:$.2f}\".\n            https://github.com/d3/d3-format/tree/v1.4.5#d3-format\n            for details on the formatting syntax. Dates are\n            formatted using d3-time-format's syntax\n            %{variable|d3-time-format}, for example \"Day:\n            %{2019-01-01|%A}\". https://github.com/d3/d3-time-\n            format/tree/v2.2.3#locale_format for details on the\n            date formatting syntax. The variables available in\n            `hovertemplate` are the ones emitted as event data\n            described at this link\n            https://plotly.com/javascript/plotlyjs-events/#event-\n            data. Additionally, every attributes that can be\n            specified per-point (the ones that are `arrayOk: true`)\n            are available.  Anything contained in tag `<extra>` is\n            displayed in the secondary box, for example\n            \"<extra>{fullData.name}</extra>\". To hide the secondary\n            box completely, use an empty tag `<extra></extra>`.\n        hovertemplatesrc\n            Sets the source reference on Chart Studio Cloud for\n            `hovertemplate`.\n        hovertext\n            Sets hover text elements associated with each (x,y)\n            pair. If a single string, the same string appears over\n            all the data points. If an array of string, the items\n            are mapped in order to the this trace's (x,y)\n            coordinates. To be seen, trace `hoverinfo` must contain\n            a \"text\" flag.\n        hovertextsrc\n            Sets the source reference on Chart Studio Cloud for\n            `hovertext`.\n        ids\n            Assigns id labels to each datum. These ids for object\n            constancy of data points during animation. Should be an\n            array of strings, not numbers or any other type.\n        idssrc\n            Sets the source reference on Chart Studio Cloud for\n            `ids`.\n        legendgroup\n            Sets the legend group for this trace. Traces part of\n            the same legend group hide/show at the same time when\n            toggling legend items.\n        legendgrouptitle\n            :class:`plotly.graph_objects.scatterpolar.Legendgroupti\n            tle` instance or dict with compatible properties\n        legendrank\n            Sets the legend rank for this trace. Items and groups\n            with smaller ranks are presented on top/left side while\n            with `*reversed* `legend.traceorder` they are on\n            bottom/right side. The default legendrank is 1000, so\n            that you can use ranks less than 1000 to place certain\n            items before all unranked items, and ranks greater than\n            1000 to go after all unranked items.\n        legendwidth\n            Sets the width (in px or fraction) of the legend for\n            this trace.\n        line\n            :class:`plotly.graph_objects.scatterpolar.Line`\n            instance or dict with compatible properties\n        marker\n            :class:`plotly.graph_objects.scatterpolar.Marker`\n            instance or dict with compatible properties\n        meta\n            Assigns extra meta information associated with this\n            trace that can be used in various text attributes.\n            Attributes such as trace `name`, graph, axis and\n            colorbar `title.text`, annotation `text`\n            `rangeselector`, `updatemenues` and `sliders` `label`\n            text all support `meta`. To access the trace `meta`\n            values in an attribute in the same trace, simply use\n            `%{meta[i]}` where `i` is the index or key of the\n            `meta` item in question. To access trace `meta` in\n            layout attributes, use `%{data[n[.meta[i]}` where `i`\n            is the index or key of the `meta` and `n` is the trace\n            index.\n        metasrc\n            Sets the source reference on Chart Studio Cloud for\n            `meta`.\n        mode\n            Determines the drawing mode for this scatter trace. If\n            the provided `mode` includes \"text\" then the `text`\n            elements appear at the coordinates. Otherwise, the\n            `text` elements appear on hover. If there are less than\n            20 points and the trace is not stacked then the default\n            is \"lines+markers\". Otherwise, \"lines\".\n        name\n            Sets the trace name. The trace name appear as the\n            legend item and on hover.\n        opacity\n            Sets the opacity of the trace.\n        r\n            Sets the radial coordinates\n        r0\n            Alternate to `r`. Builds a linear space of r\n            coordinates. Use with `dr` where `r0` is the starting\n            coordinate and `dr` the step.\n        rsrc\n            Sets the source reference on Chart Studio Cloud for\n            `r`.\n        selected\n            :class:`plotly.graph_objects.scatterpolar.Selected`\n            instance or dict with compatible properties\n        selectedpoints\n            Array containing integer indices of selected points.\n            Has an effect only for traces that support selections.\n            Note that an empty array means an empty selection where\n            the `unselected` are turned on for all points, whereas,\n            any other non-array values means no selection all where\n            the `selected` and `unselected` styles have no effect.\n        showlegend\n            Determines whether or not an item corresponding to this\n            trace is shown in the legend.\n        stream\n            :class:`plotly.graph_objects.scatterpolar.Stream`\n            instance or dict with compatible properties\n        subplot\n            Sets a reference between this trace's data coordinates\n            and a polar subplot. If \"polar\" (the default value),\n            the data refer to `layout.polar`. If \"polar2\", the data\n            refer to `layout.polar2`, and so on.\n        text\n            Sets text elements associated with each (x,y) pair. If\n            a single string, the same string appears over all the\n            data points. If an array of string, the items are\n            mapped in order to the this trace's (x,y) coordinates.\n            If trace `hoverinfo` contains a \"text\" flag and\n            \"hovertext\" is not set, these elements will be seen in\n            the hover labels.\n        textfont\n            Sets the text font.\n        textposition\n            Sets the positions of the `text` elements with respects\n            to the (x,y) coordinates.\n        textpositionsrc\n            Sets the source reference on Chart Studio Cloud for\n            `textposition`.\n        textsrc\n            Sets the source reference on Chart Studio Cloud for\n            `text`.\n        texttemplate\n            Template string used for rendering the information text\n            that appear on points. Note that this will override\n            `textinfo`. Variables are inserted using %{variable},\n            for example \"y: %{y}\". Numbers are formatted using\n            d3-format's syntax %{variable:d3-format}, for example\n            \"Price: %{y:$.2f}\".\n            https://github.com/d3/d3-format/tree/v1.4.5#d3-format\n            for details on the formatting syntax. Dates are\n            formatted using d3-time-format's syntax\n            %{variable|d3-time-format}, for example \"Day:\n            %{2019-01-01|%A}\". https://github.com/d3/d3-time-\n            format/tree/v2.2.3#locale_format for details on the\n            date formatting syntax. Every attributes that can be\n            specified per-point (the ones that are `arrayOk: true`)\n            are available. variables `r`, `theta` and `text`.\n        texttemplatesrc\n            Sets the source reference on Chart Studio Cloud for\n            `texttemplate`.\n        theta\n            Sets the angular coordinates\n        theta0\n            Alternate to `theta`. Builds a linear space of theta\n            coordinates. Use with `dtheta` where `theta0` is the\n            starting coordinate and `dtheta` the step.\n        thetasrc\n            Sets the source reference on Chart Studio Cloud for\n            `theta`.\n        thetaunit\n            Sets the unit of input \"theta\" values. Has an effect\n            only when on \"linear\" angular axes.\n        uid\n            Assign an id to this trace, Use this to provide object\n            constancy between traces during animations and\n            transitions.\n        uirevision\n            Controls persistence of some user-driven changes to the\n            trace: `constraintrange` in `parcoords` traces, as well\n            as some `editable: true` modifications such as `name`\n            and `colorbar.title`. Defaults to `layout.uirevision`.\n            Note that other user-driven trace attribute changes are\n            controlled by `layout` attributes: `trace.visible` is\n            controlled by `layout.legend.uirevision`,\n            `selectedpoints` is controlled by\n            `layout.selectionrevision`, and `colorbar.(x|y)`\n            (accessible with `config: {editable: true}`) is\n            controlled by `layout.editrevision`. Trace changes are\n            tracked by `uid`, which only falls back on trace index\n            if no `uid` is provided. So if your app can add/remove\n            traces before the end of the `data` array, such that\n            the same trace has a different index, you can still\n            preserve user-driven changes if you give each trace a\n            `uid` that stays with it as it moves.\n        unselected\n            :class:`plotly.graph_objects.scatterpolar.Unselected`\n            instance or dict with compatible properties\n        visible\n            Determines whether or not this trace is visible. If\n            \"legendonly\", the trace is not drawn, but can appear as\n            a legend item (provided that the legend itself is\n            visible).\n        \nDid you mean \"line\"?\n\nBad property path:\nrange_r\n^^^^^"
     ]
    }
   ],
   "source": [
    "import plotly.graph_objs as go\n",
    "\n",
    "# Create data for two players\n",
    "player1 = {'Strike Rate': 120, 'Average': 35, 'Player of Match': 5}\n",
    "player2 = {'Strike Rate': 150, 'Average': 45, 'Player of Match': 3}\n",
    "\n",
    "# Define range for each parameter\n",
    "range_strike_rate = [0, 250]\n",
    "range_average = [0, 70]\n",
    "range_pom = [0, 10]\n",
    "\n",
    "# Create traces for each player\n",
    "trace1 = go.Scatterpolar(\n",
    "    r=[player1['Strike Rate'], player1['Average'], player1['Player of Match']],\n",
    "    theta=['Strike Rate', 'Average', 'Player of Match'],\n",
    "    fill='toself',\n",
    "    name='Player 1',\n",
    "    range_r=range_strike_rate\n",
    ")\n",
    "trace2 = go.Scatterpolar(\n",
    "    r=[player2['Strike Rate'], player2['Average'], player2['Player of Match']],\n",
    "    theta=['Strike Rate', 'Average', 'Player of Match'],\n",
    "    fill='toself',\n",
    "    name='Player 2',\n",
    "    range_r=range_average\n",
    ")\n",
    "\n",
    "# Create layout\n",
    "layout = go.Layout(\n",
    "    polar=dict(\n",
    "        radialaxis=dict(\n",
    "            visible=True,\n",
    "            range=range_pom\n",
    "        )\n",
    "    ),\n",
    "    showlegend=True\n",
    ")\n",
    "\n",
    "# Combine traces and layout and create figure\n",
    "fig = go.Figure(data=[trace1, trace2], layout=layout)\n",
    "\n",
    "# Show plot\n",
    "fig.show()\n"
   ]
  }
 ],
 "metadata": {
  "kernelspec": {
   "display_name": "Python 3",
   "language": "python",
   "name": "python3"
  },
  "language_info": {
   "codemirror_mode": {
    "name": "ipython",
    "version": 3
   },
   "file_extension": ".py",
   "mimetype": "text/x-python",
   "name": "python",
   "nbconvert_exporter": "python",
   "pygments_lexer": "ipython3",
   "version": "3.9.10"
  },
  "orig_nbformat": 4
 },
 "nbformat": 4,
 "nbformat_minor": 2
}
